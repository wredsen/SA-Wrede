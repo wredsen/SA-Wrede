{
 "cells": [
  {
   "cell_type": "code",
   "execution_count": 25,
   "metadata": {},
   "outputs": [
    {
     "name": "stdout",
     "output_type": "stream",
     "text": [
      "The ipydex.displaytools extension is already loaded. To reload it, use:\n",
      "  %reload_ext ipydex.displaytools\n"
     ]
    }
   ],
   "source": [
    "%load_ext ipydex.displaytools\n",
    "\n",
    "import sympy as sp\n",
    "import numpy as np\n",
    "import scipy.integrate as sc_integrate\n",
    "import matplotlib.pyplot as plt\n"
   ]
  },
  {
   "cell_type": "code",
   "execution_count": 26,
   "metadata": {},
   "outputs": [],
   "source": [
    "theta1, theta2, theta3, theta4, theta5 = ttheta = sp.symbols(\"theta1:6\")"
   ]
  },
  {
   "cell_type": "code",
   "execution_count": 27,
   "metadata": {
    "code_folding": []
   },
   "outputs": [],
   "source": [
    "def R(phi):\n",
    "    \"\"\"\n",
    "    Rotationsmatrix in der Ebene\n",
    "    \"\"\"\n",
    "    c = sp.cos(phi)\n",
    "    s = sp.sin(phi)\n",
    "       \n",
    "    return  sp.Matrix([[c, -s], [s, c]])"
   ]
  },
  {
   "cell_type": "code",
   "execution_count": 28,
   "metadata": {},
   "outputs": [
    {
     "data": {
      "text/latex": [
       "$\\displaystyle \\left[\\begin{matrix}\\cos{\\left(\\theta_{1} \\right)} & - \\sin{\\left(\\theta_{1} \\right)}\\\\\\sin{\\left(\\theta_{1} \\right)} & \\cos{\\left(\\theta_{1} \\right)}\\end{matrix}\\right]$"
      ],
      "text/plain": [
       "Matrix([\n",
       "[cos(theta1), -sin(theta1)],\n",
       "[sin(theta1),  cos(theta1)]])"
      ]
     },
     "execution_count": 28,
     "metadata": {},
     "output_type": "execute_result"
    }
   ],
   "source": [
    "R(theta1) # Rotationsmatirx"
   ]
  },
  {
   "cell_type": "code",
   "execution_count": 29,
   "metadata": {},
   "outputs": [
    {
     "data": {
      "text/latex": [
       "constraints := $\\displaystyle \\left[\\begin{matrix}0.3 \\cos{\\left(\\theta_{1} \\right)} + 0.6 \\cos{\\left(\\theta_{1} + \\theta_{2} \\right)} + 0.7 \\cos{\\left(\\theta_{1} + \\theta_{2} + \\theta_{3} \\right)} - 0.9\\\\0.3 \\sin{\\left(\\theta_{1} \\right)} + 0.6 \\sin{\\left(\\theta_{1} + \\theta_{2} \\right)} + 0.7 \\sin{\\left(\\theta_{1} + \\theta_{2} + \\theta_{3} \\right)}\\end{matrix}\\right]$"
      ],
      "text/plain": [
       "constraints := Matrix([\n",
       "[0.3*cos(theta1) + 0.6*cos(theta1 + theta2) + 0.7*cos(theta1 + theta2 + theta3) - 0.9],\n",
       "[      0.3*sin(theta1) + 0.6*sin(theta1 + theta2) + 0.7*sin(theta1 + theta2 + theta3)]])"
      ]
     },
     "metadata": {},
     "output_type": "display_data"
    },
    {
     "data": {
      "text/plain": [
       "---"
      ]
     },
     "metadata": {},
     "output_type": "display_data"
    }
   ],
   "source": [
    "# Einheitvektor in x-Richtung\n",
    "ex = sp.Matrix([1, 0]) \n",
    "\n",
    "# Längen der Glieder\n",
    "l1, l2, l3, l4 = 0.3, 0.6, 0.7, 0.9\n",
    "\n",
    "# Basis 1 und 2\n",
    "B1 = sp.Matrix([0, 0])\n",
    "B2 = sp.Matrix([l4, 0])\n",
    "\n",
    "G1 = B1 + R(theta1)*ex*l1\n",
    "G2 = G1 + R(theta1 + theta2)*ex*l2\n",
    "\n",
    "# Ende der offenen Kette\n",
    "EE = G2 + R(theta1 + theta2 + theta3)*ex*l3\n",
    "\n",
    "# Kettenschlussbedingung (2 skalare Gleichungen)\n",
    "constraints = sp.Matrix([EE - B2]) ##:"
   ]
  },
  {
   "cell_type": "code",
   "execution_count": 30,
   "metadata": {},
   "outputs": [
    {
     "data": {
      "text/latex": [
       "joints := $\\displaystyle \\left[\\begin{matrix}0 & 0.3 \\cos{\\left(\\theta_{1} \\right)} & 0.3 \\cos{\\left(\\theta_{1} \\right)} + 0.6 \\cos{\\left(\\theta_{1} + \\theta_{2} \\right)} & 0.3 \\cos{\\left(\\theta_{1} \\right)} + 0.6 \\cos{\\left(\\theta_{1} + \\theta_{2} \\right)} + 0.7 \\cos{\\left(\\theta_{1} + \\theta_{2} + \\theta_{3} \\right)} & 0.9\\\\0 & 0.3 \\sin{\\left(\\theta_{1} \\right)} & 0.3 \\sin{\\left(\\theta_{1} \\right)} + 0.6 \\sin{\\left(\\theta_{1} + \\theta_{2} \\right)} & 0.3 \\sin{\\left(\\theta_{1} \\right)} + 0.6 \\sin{\\left(\\theta_{1} + \\theta_{2} \\right)} + 0.7 \\sin{\\left(\\theta_{1} + \\theta_{2} + \\theta_{3} \\right)} & 0\\end{matrix}\\right]$"
      ],
      "text/plain": [
       "joints := Matrix([\n",
       "[0, 0.3*cos(theta1), 0.3*cos(theta1) + 0.6*cos(theta1 + theta2), 0.3*cos(theta1) + 0.6*cos(theta1 + theta2) + 0.7*cos(theta1 + theta2 + theta3), 0.9],\n",
       "[0, 0.3*sin(theta1), 0.3*sin(theta1) + 0.6*sin(theta1 + theta2), 0.3*sin(theta1) + 0.6*sin(theta1 + theta2) + 0.7*sin(theta1 + theta2 + theta3),   0]])"
      ]
     },
     "metadata": {},
     "output_type": "display_data"
    },
    {
     "data": {
      "text/plain": [
       "---"
      ]
     },
     "metadata": {},
     "output_type": "display_data"
    }
   ],
   "source": [
    "# Matrix aller Gelenke (kart. Koordinanten)\n",
    "joints = sp.Matrix.hstack(B1, G1, G2, EE, B2) ##:"
   ]
  },
  {
   "cell_type": "code",
   "execution_count": 31,
   "metadata": {},
   "outputs": [],
   "source": [
    "\n",
    "# Umwandeln in aufrufbare Funktionen\n",
    "c_func = sp.lambdify(ttheta, constraints, modules=\"numpy\") # constraints function\n",
    "j_func = sp.lambdify(ttheta, joints, modules=\"numpy\") # joints function"
   ]
  },
  {
   "cell_type": "code",
   "execution_count": 32,
   "metadata": {},
   "outputs": [
    {
     "data": {
      "text/plain": [
       "array([[0.7],\n",
       "       [0. ]])"
      ]
     },
     "execution_count": 32,
     "metadata": {},
     "output_type": "execute_result"
    }
   ],
   "source": [
    "c_func(0, 0, 0, 0, 0)"
   ]
  },
  {
   "cell_type": "code",
   "execution_count": 33,
   "metadata": {},
   "outputs": [],
   "source": [
    "\n",
    "# Zielfunktion für Minimierung, p: zu minimierende Variablen, theta1: parameter für Optimierung, in l.5 dann in dieser Reihenfogle\n",
    "def target(p, theta1):    \n",
    "    # Fehler-Vektor:\n",
    "    err = c_func(theta1, p[0], p[1], p[2], p[3]) # constraints function\n",
    "    return err[0]**2 + err[1]**2 # quadrat. Fehler\n",
    "    "
   ]
  },
  {
   "cell_type": "code",
   "execution_count": 34,
   "metadata": {},
   "outputs": [],
   "source": [
    "from scipy.optimize import fmin"
   ]
  },
  {
   "cell_type": "code",
   "execution_count": 35,
   "metadata": {},
   "outputs": [
    {
     "name": "stdout",
     "output_type": "stream",
     "text": [
      "Optimization terminated successfully.\n",
      "         Current function value: 0.000000\n",
      "         Iterations: 182\n",
      "         Function evaluations: 320\n"
     ]
    }
   ],
   "source": [
    "\n",
    "# isolierter Test der Minimierung\n",
    "\n",
    "# Startschätzung\n",
    "ttheta0 = [0.25*np.pi, 0, 0, 0, 0] ##\n",
    "\n",
    "res = fmin(target, x0=ttheta0[1:], args=(ttheta0[0], )) # x0... theta2 und theta3 optimiert, args ... theta 1 const."
   ]
  },
  {
   "cell_type": "code",
   "execution_count": 36,
   "metadata": {},
   "outputs": [
    {
     "data": {
      "text/plain": [
       "(-0.5, 1.4, -0.9, 0.4)"
      ]
     },
     "execution_count": 36,
     "metadata": {},
     "output_type": "execute_result"
    },
    {
     "data": {
      "image/png": "[encoded data removed]",
      "text/plain": [
       "<Figure size 432x288 with 1 Axes>"
      ]
     },
     "metadata": {
      "needs_background": "light"
     },
     "output_type": "display_data"
    }
   ],
   "source": [
    "\n",
    "# isolierter Test des Plottens\n",
    "\n",
    "theta1num = 1.3\n",
    "res = fmin(target, x0=[0, 0, 0, 0], args=(theta1num,), disp=0)\n",
    "\n",
    "# das wird ein array mit shape=(2, 5)\n",
    "jc = joint_coords = j_func(theta1num, *res) # Gelenkkoordinaten\n",
    "\n",
    "plt.plot(jc[0, :], jc[1, :], \"ok\", ms=7)\n",
    "plt.plot(jc[0, :], jc[1, :], \"b-\")\n",
    "\n",
    "# plt.axis(\"equal\")\n",
    "plt.axis([-0.5, 1.4, -0.9, 0.4])"
   ]
  },
  {
   "cell_type": "code",
   "execution_count": 37,
   "metadata": {
    "code_folding": [],
    "scrolled": false
   },
   "outputs": [
    {
     "data": {
      "application/vnd.jupyter.widget-view+json": {
       "model_id": "cf83c7944507405abb3cd6241dd193ba",
       "version_major": 2,
       "version_minor": 0
      },
      "text/plain": [
       "interactive(children=(FloatSlider(value=3.0, description='theta1num', max=7.0, step=0.2), Output()), _dom_clas…"
      ]
     },
     "metadata": {},
     "output_type": "display_data"
    }
   ],
   "source": [
    "\n",
    "# Interaktion zwischen Optimierung und Gleichungslösung\n",
    "\n",
    "from ipywidgets import interact\n",
    "\n",
    "@interact(theta1num=(0, 7, 0.2)) # (min, max, step)\n",
    "def plot_func(theta1num):\n",
    "    res = fmin(target, x0=[0, 0, 0, 0], args=(theta1num,), disp=0)\n",
    "\n",
    "    # das wird ein array mit shape=(2, 5)\n",
    "    jc = joint_coords = j_func(theta1num, *res)\n",
    "\n",
    "    plt.plot(jc[0, :], jc[1, :], \"ok\", ms=7)\n",
    "    plt.plot(jc[0, :], jc[1, :], \"b-\")\n",
    "    plt.axis(\"equal\")\n",
    "    plt.axis([-0.5, 1.4, -0.9, 0.4])"
   ]
  },
  {
   "cell_type": "code",
   "execution_count": null,
   "metadata": {},
   "outputs": [],
   "source": []
  },
  {
   "cell_type": "code",
   "execution_count": 38,
   "metadata": {},
   "outputs": [
    {
     "data": {
      "text/latex": [
       "constraints := $\\displaystyle \\left[\\begin{matrix}0.3 \\cos{\\left(\\theta_{1} \\right)} + 0.6 \\cos{\\left(\\theta_{1} + \\theta_{2} \\right)} + 0.7 \\cos{\\left(\\theta_{1} + \\theta_{2} + \\theta_{3} \\right)} - 0.9\\\\0.3 \\sin{\\left(\\theta_{1} \\right)} + 0.6 \\sin{\\left(\\theta_{1} + \\theta_{2} \\right)} + 0.7 \\sin{\\left(\\theta_{1} + \\theta_{2} + \\theta_{3} \\right)}\\end{matrix}\\right]$"
      ],
      "text/plain": [
       "constraints := Matrix([\n",
       "[0.3*cos(theta1) + 0.6*cos(theta1 + theta2) + 0.7*cos(theta1 + theta2 + theta3) - 0.9],\n",
       "[      0.3*sin(theta1) + 0.6*sin(theta1 + theta2) + 0.7*sin(theta1 + theta2 + theta3)]])"
      ]
     },
     "metadata": {},
     "output_type": "display_data"
    },
    {
     "data": {
      "text/plain": [
       "---"
      ]
     },
     "metadata": {},
     "output_type": "display_data"
    },
    {
     "name": "stdout",
     "output_type": "stream",
     "text": [
      "Optimization terminated successfully.\n",
      "         Current function value: 0.000000\n",
      "         Iterations: 82\n",
      "         Function evaluations: 149\n"
     ]
    },
    {
     "data": {
      "image/png": "[encoded data removed]",
      "text/plain": [
       "<Figure size 432x288 with 1 Axes>"
      ]
     },
     "metadata": {
      "needs_background": "light"
     },
     "output_type": "display_data"
    },
    {
     "data": {
      "application/vnd.jupyter.widget-view+json": {
       "model_id": "d64ea217b70e452dbb8d08d4857d7c53",
       "version_major": 2,
       "version_minor": 0
      },
      "text/plain": [
       "interactive(children=(FloatSlider(value=3.0, description='theta1num', max=7.0, step=0.2), Output()), _dom_clas…"
      ]
     },
     "metadata": {},
     "output_type": "display_data"
    }
   ],
   "source": [
    "theta1, theta2, theta3 = ttheta = sp.symbols(\"theta1:4\")\n",
    "\n",
    "def R(phi):\n",
    "    \"\"\"\n",
    "    Rotationsmatrix in der Ebene\n",
    "    \"\"\"\n",
    "    c = sp.cos(phi)\n",
    "    s = sp.sin(phi)\n",
    "       \n",
    "    return  sp.Matrix([[c, -s], [s, c]])\n",
    "\n",
    "R(theta1) # Rotationsmatirx\n",
    "\n",
    "# Einheitvektor in x-Richtung\n",
    "ex = sp.Matrix([1, 0]) \n",
    "\n",
    "# Längen der Glieder\n",
    "l1, l2, l3, l4 = 0.3, 0.6, 0.7, 0.9\n",
    "\n",
    "# Basis 1 und 2\n",
    "B1 = sp.Matrix([0, 0])\n",
    "B2 = sp.Matrix([l4, 0])\n",
    "\n",
    "G1 = B1 + R(theta1)*ex*l1\n",
    "G2 = G1 + R(theta1 + theta2)*ex*l2\n",
    "\n",
    "# Ende der offenen Kette\n",
    "EE = G2 + R(theta1 + theta2 + theta3)*ex*l3\n",
    "\n",
    "# Kettenschlussbedingung (2 skalare Gleichungen)\n",
    "constraints = sp.Matrix([EE - B2]) ##:\n",
    "\n",
    "# Matrix aller Gelenke (kart. Koordinanten)\n",
    "joints = sp.Matrix.hstack(B1, G1, G2, EE, B2)\n",
    "\n",
    "\n",
    "# Umwandeln in aufrufbare Funktionen\n",
    "c_func = sp.lambdify(ttheta, constraints, modules=\"numpy\")\n",
    "j_func = sp.lambdify(ttheta, joints, modules=\"numpy\")\n",
    "\n",
    "\n",
    "# Zielfunktion für Minimierung\n",
    "def target(p, theta1):    \n",
    "    # Fehler-Vektor:\n",
    "    err = c_func(theta1, p[0], p[1])\n",
    "    return err[0]**2 + err[1]**2\n",
    "    \n",
    "\n",
    "from scipy.optimize import fmin\n",
    "\n",
    "\n",
    "# isolierter Test der Minimierung\n",
    "\n",
    "# Startschätzung\n",
    "ttheta0 = [0.25*np.pi, 0, 0] ##\n",
    "\n",
    "res = fmin(target, x0=ttheta0[1:], args=(ttheta0[0], ))\n",
    "\n",
    "\n",
    "# isolierter Test des Plottens\n",
    "\n",
    "theta1num = 1\n",
    "res = fmin(target, x0=[0, 0], args=(theta1num,), disp=0)\n",
    "\n",
    "# das wird ein array mit shape=(2, 5)\n",
    "jc = joint_coords = j_func(theta1num, *res)\n",
    "\n",
    "plt.plot(jc[0, :], jc[1, :], \"ok\", ms=7)\n",
    "plt.plot(jc[0, :], jc[1, :], \"b-\")\n",
    "\n",
    "# plt.axis(\"equal\")\n",
    "plt.axis([-0.5, 1.4, -0.9, 0.4])\n",
    "\n",
    "\n",
    "# Interaktion zwischen Optimierung und Gleichungslösung\n",
    "\n",
    "from ipywidgets import interact\n",
    "\n",
    "@interact(theta1num=(0, 7, 0.2)) # (min, max, step)\n",
    "def plot_func(theta1num):\n",
    "    res = fmin(target, x0=[0, 0], args=(theta1num,), disp=0)\n",
    "\n",
    "    # das wird ein array mit shape=(2, 5)\n",
    "    jc = joint_coords = j_func(theta1num, *res)\n",
    "\n",
    "    plt.plot(jc[0, :], jc[1, :], \"ok\", ms=7)\n",
    "    plt.plot(jc[0, :], jc[1, :], \"b-\")\n",
    "    plt.axis(\"equal\")\n",
    "    plt.axis([-0.5, 1.4, -0.9, 0.4])"
   ]
  },
  {
   "cell_type": "code",
   "execution_count": null,
   "metadata": {},
   "outputs": [],
   "source": []
  }
 ],
 "metadata": {
  "kernelspec": {
   "display_name": "Python 3 (ipykernel)",
   "language": "python",
   "name": "python3"
  },
  "language_info": {
   "codemirror_mode": {
    "name": "ipython",
    "version": 3
   },
   "file_extension": ".py",
   "mimetype": "text/x-python",
   "name": "python",
   "nbconvert_exporter": "python",
   "pygments_lexer": "ipython3",
   "version": "3.8.10"
  },
  "varInspector": {
   "cols": {
    "lenName": 16,
    "lenType": 16,
    "lenVar": 40
   },
   "kernels_config": {
    "python": {
     "delete_cmd_postfix": "",
     "delete_cmd_prefix": "del ",
     "library": "var_list.py",
     "varRefreshCmd": "print(var_dic_list())"
    },
    "r": {
     "delete_cmd_postfix": ") ",
     "delete_cmd_prefix": "rm(",
     "library": "var_list.r",
     "varRefreshCmd": "cat(var_dic_list()) "
    }
   },
   "position": {
    "height": "928px",
    "left": "1504px",
    "right": "20px",
    "top": "104px",
    "width": "495px"
   },
   "types_to_exclude": [
    "module",
    "function",
    "builtin_function_or_method",
    "instance",
    "_Feature"
   ],
   "window_display": true
  }
 },
 "nbformat": 4,
 "nbformat_minor": 2
}
