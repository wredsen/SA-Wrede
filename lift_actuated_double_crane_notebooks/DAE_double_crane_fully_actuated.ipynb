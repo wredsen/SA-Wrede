{
 "cells": [
  {
   "cell_type": "markdown",
   "metadata": {},
   "source": [
    "### Considered model: four-bar linkage (= two link manipulator + one link manipulator + rigid coupling)\n",
    "\n",
    "\n",
    "This Notebook depends on symbtools >=0.2.5\n",
    "\n",
    "→ `pip install --upgrade symbtools`\n",
    "\n",
    "\n",
    "\n"
   ]
  },
  {
   "cell_type": "code",
   "execution_count": 1,
   "metadata": {},
   "outputs": [],
   "source": [
    "%load_ext ipydex.displaytools\n",
    "%matplotlib inline\n",
    "\n",
    "import sys\n",
    "# to load assimulo under wsl2\n",
    "sys.path.append('/home/kwrede/miniconda3/lib/python3.8/site-packages')\n",
    "sys.path.append('/home/wredi/miniconda3/lib/python3.8/site-packages')\n",
    "\n",
    "import os\n",
    "import sympy as sp\n",
    "import numpy as npy  # we need `np` later \n",
    "from sympy import sin, cos, pi\n",
    "from sympy.interactive import printing\n",
    "\n",
    "# using wredsen's symbtools fork (https://github.com/wredsen/symbtools @ DAE_statefeedback), assuming repos SA-Wrede and symbtools share the same parent directory\n",
    "sys.path.append('../../symbtools/')\n",
    "import symbtools as st\n",
    "import symbtools.modeltools as mt\n",
    "from symbtools.modeltools import Rz # Rotationsmatrix in the xy plane (c, -s; s, c)\n",
    "\n",
    "import scipy.integrate as sc_integrate\n",
    "from scipy.optimize import fmin\n",
    "import matplotlib.pyplot as pl\n",
    "from assimulo.solvers import ODASSL as SOLVER # Imports the solver ODASSL from Assimulo\n",
    "from assimulo.problem import Overdetermined_Problem # Imports the problem formulation from Assimulo\n",
    "import ipydex\n",
    "plt = pl\n",
    "\n",
    "printing.init_printing(1)"
   ]
  },
  {
   "cell_type": "code",
   "execution_count": 2,
   "metadata": {
    "scrolled": false
   },
   "outputs": [
    {
     "data": {
      "image/svg+xml": [
       "<svg xmlns=\"http://www.w3.org/2000/svg\" xmlns:xlink=\"http://www.w3.org/1999/xlink\" version=\"1.1\" width=\"633px\" height=\"378px\" viewBox=\"-0.5 -0.5 633 378\" content=\"&lt;mxfile host=&quot;Electron&quot; modified=&quot;2022-05-14T16:18:55.188Z&quot; agent=&quot;5.0 (X11; Linux x86_64) AppleWebKit/537.36 (KHTML, like Gecko) draw.io/18.0.4 Chrome/100.0.4896.143 Electron/18.2.3 Safari/537.36&quot; etag=&quot;4A_I-R6GByB5LE6sdj6e&quot; version=&quot;18.0.4&quot; type=&quot;device&quot;&gt;&lt;diagram id=&quot;B0kXoVWXYvZZ5K02NhJj&quot; name=&quot;Seite-1&quot;&gt;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&lt;/diagram&gt;&lt;/mxfile&gt;\" style=\"background-color: rgb(255, 255, 255);\"><defs><style xmlns=\"http://www.w3.org/1999/xhtml\" type=\"text/css\">div.MathJax_SVG_Display { position: static; }\n",
       "span.MathJax_SVG { position: static !important; }</style><style xmlns=\"http://www.w3.org/1999/xhtml\" type=\"text/css\">.MathJax_Hover_Frame {border-radius: .25em; -webkit-border-radius: .25em; -moz-border-radius: .25em; -khtml-border-radius: .25em; box-shadow: 0px 0px 15px #83A; -webkit-box-shadow: 0px 0px 15px #83A; -moz-box-shadow: 0px 0px 15px #83A; -khtml-box-shadow: 0px 0px 15px #83A; border: 1px solid #A6D ! important; display: inline-block; position: absolute}\n",
       ".MathJax_Menu_Button .MathJax_Hover_Arrow {position: absolute; cursor: pointer; display: inline-block; border: 2px solid #AAA; border-radius: 4px; -webkit-border-radius: 4px; -moz-border-radius: 4px; -khtml-border-radius: 4px; font-family: 'Courier New',Courier; font-size: 9px; color: #F0F0F0}\n",
       ".MathJax_Menu_Button .MathJax_Hover_Arrow span {display: block; background-color: #AAA; border: 1px solid; border-radius: 3px; line-height: 0; padding: 4px}\n",
       ".MathJax_Hover_Arrow:hover {color: white!important; border: 2px solid #CCC!important}\n",
       ".MathJax_Hover_Arrow:hover span {background-color: #CCC!important}\n",
       "</style><style xmlns=\"http://www.w3.org/1999/xhtml\" type=\"text/css\">#MathJax_About {position: fixed; left: 50%; width: auto; text-align: center; border: 3px outset; padding: 1em 2em; background-color: #DDDDDD; color: black; cursor: default; font-family: message-box; font-size: 120%; font-style: normal; text-indent: 0; text-transform: none; line-height: normal; letter-spacing: normal; word-spacing: normal; word-wrap: normal; white-space: nowrap; float: none; z-index: 201; border-radius: 15px; -webkit-border-radius: 15px; -moz-border-radius: 15px; -khtml-border-radius: 15px; box-shadow: 0px 10px 20px #808080; -webkit-box-shadow: 0px 10px 20px #808080; -moz-box-shadow: 0px 10px 20px #808080; -khtml-box-shadow: 0px 10px 20px #808080; filter: progid:DXImageTransform.Microsoft.dropshadow(OffX=2, OffY=2, Color='gray', Positive='true')}\n",
       "#MathJax_About.MathJax_MousePost {outline: none}\n",
       ".MathJax_Menu {position: absolute; background-color: white; color: black; width: auto; padding: 5px 0px; border: 1px solid #CCCCCC; margin: 0; cursor: default; font: menu; text-align: left; text-indent: 0; text-transform: none; line-height: normal; letter-spacing: normal; word-spacing: normal; word-wrap: normal; white-space: nowrap; float: none; z-index: 201; border-radius: 5px; -webkit-border-radius: 5px; -moz-border-radius: 5px; -khtml-border-radius: 5px; box-shadow: 0px 10px 20px #808080; -webkit-box-shadow: 0px 10px 20px #808080; -moz-box-shadow: 0px 10px 20px #808080; -khtml-box-shadow: 0px 10px 20px #808080; filter: progid:DXImageTransform.Microsoft.dropshadow(OffX=2, OffY=2, Color='gray', Positive='true')}\n",
       ".MathJax_MenuItem {padding: 1px 2em; background: transparent}\n",
       ".MathJax_MenuArrow {position: absolute; right: .5em; padding-top: .25em; color: #666666; font-size: .75em}\n",
       ".MathJax_MenuActive .MathJax_MenuArrow {color: white}\n",
       ".MathJax_MenuArrow.RTL {left: .5em; right: auto}\n",
       ".MathJax_MenuCheck {position: absolute; left: .7em}\n",
       ".MathJax_MenuCheck.RTL {right: .7em; left: auto}\n",
       ".MathJax_MenuRadioCheck {position: absolute; left: .7em}\n",
       ".MathJax_MenuRadioCheck.RTL {right: .7em; left: auto}\n",
       ".MathJax_MenuLabel {padding: 1px 2em 3px 1.33em; font-style: italic}\n",
       ".MathJax_MenuRule {border-top: 1px solid #DDDDDD; margin: 4px 3px}\n",
       ".MathJax_MenuDisabled {color: GrayText}\n",
       ".MathJax_MenuActive {background-color: #606872; color: white}\n",
       ".MathJax_MenuDisabled:focus, .MathJax_MenuLabel:focus {background-color: #E8E8E8}\n",
       ".MathJax_ContextMenu:focus {outline: none}\n",
       ".MathJax_ContextMenu .MathJax_MenuItem:focus {outline: none}\n",
       "#MathJax_AboutClose {top: .2em; right: .2em}\n",
       ".MathJax_Menu .MathJax_MenuClose {top: -10px; left: -10px}\n",
       ".MathJax_MenuClose {position: absolute; cursor: pointer; display: inline-block; border: 2px solid #AAA; border-radius: 18px; -webkit-border-radius: 18px; -moz-border-radius: 18px; -khtml-border-radius: 18px; font-family: 'Courier New',Courier; font-size: 24px; color: #F0F0F0}\n",
       ".MathJax_MenuClose span {display: block; background-color: #AAA; border: 1.5px solid; border-radius: 18px; -webkit-border-radius: 18px; -moz-border-radius: 18px; -khtml-border-radius: 18px; line-height: 0; padding: 8px 0 6px}\n",
       ".MathJax_MenuClose:hover {color: white!important; border: 2px solid #CCC!important}\n",
       ".MathJax_MenuClose:hover span {background-color: #CCC!important}\n",
       ".MathJax_MenuClose:hover:focus {outline: none}\n",
       "</style><style xmlns=\"http://www.w3.org/1999/xhtml\" type=\"text/css\">.MathJax_Preview .MJXf-math {color: inherit!important}\n",
       "</style><style xmlns=\"http://www.w3.org/1999/xhtml\" type=\"text/css\">#MathJax_Zoom {position: absolute; background-color: #F0F0F0; overflow: auto; display: block; z-index: 301; padding: .5em; border: 1px solid black; margin: 0; font-weight: normal; font-style: normal; text-align: left; text-indent: 0; text-transform: none; line-height: normal; letter-spacing: normal; word-spacing: normal; word-wrap: normal; white-space: nowrap; float: none; -webkit-box-sizing: content-box; -moz-box-sizing: content-box; box-sizing: content-box; box-shadow: 5px 5px 15px #AAAAAA; -webkit-box-shadow: 5px 5px 15px #AAAAAA; -moz-box-shadow: 5px 5px 15px #AAAAAA; -khtml-box-shadow: 5px 5px 15px #AAAAAA; filter: progid:DXImageTransform.Microsoft.dropshadow(OffX=2, OffY=2, Color='gray', Positive='true')}\n",
       "#MathJax_ZoomOverlay {position: absolute; left: 0; top: 0; z-index: 300; display: inline-block; width: 100%; height: 100%; border: 0; padding: 0; margin: 0; background-color: white; opacity: 0; filter: alpha(opacity=0)}\n",
       "#MathJax_ZoomFrame {position: relative; display: inline-block; height: 0; width: 0}\n",
       "#MathJax_ZoomEventTrap {position: absolute; left: 0; top: 0; z-index: 302; display: inline-block; border: 0; padding: 0; margin: 0; background-color: white; opacity: 0; filter: alpha(opacity=0)}\n",
       "</style><style xmlns=\"http://www.w3.org/1999/xhtml\" type=\"text/css\">.MathJax_Preview {color: #888; display: contents}\n",
       "#MathJax_Message {position: fixed; left: 1px; bottom: 2px; background-color: #E6E6E6; border: 1px solid #959595; margin: 0px; padding: 2px 8px; z-index: 102; color: black; font-size: 80%; width: auto; white-space: nowrap}\n",
       "#MathJax_MSIE_Frame {position: absolute; top: 0; left: 0; width: 0px; z-index: 101; border: 0px; margin: 0px; padding: 0px}\n",
       ".MathJax_Error {color: #CC0000; font-style: italic}\n",
       "</style><style xmlns=\"http://www.w3.org/1999/xhtml\" type=\"text/css\">.MJXp-script {font-size: .8em}\n",
       ".MJXp-right {-webkit-transform-origin: right; -moz-transform-origin: right; -ms-transform-origin: right; -o-transform-origin: right; transform-origin: right}\n",
       ".MJXp-bold {font-weight: bold}\n",
       ".MJXp-italic {font-style: italic}\n",
       ".MJXp-scr {font-family: MathJax_Script,'Times New Roman',Times,STIXGeneral,serif}\n",
       ".MJXp-frak {font-family: MathJax_Fraktur,'Times New Roman',Times,STIXGeneral,serif}\n",
       ".MJXp-sf {font-family: MathJax_SansSerif,'Times New Roman',Times,STIXGeneral,serif}\n",
       ".MJXp-cal {font-family: MathJax_Caligraphic,'Times New Roman',Times,STIXGeneral,serif}\n",
       ".MJXp-mono {font-family: MathJax_Typewriter,'Times New Roman',Times,STIXGeneral,serif}\n",
       ".MJXp-largeop {font-size: 150%}\n",
       ".MJXp-largeop.MJXp-int {vertical-align: -.2em}\n",
       ".MJXp-math {display: inline-block; line-height: 1.2; text-indent: 0; font-family: 'Times New Roman',Times,STIXGeneral,serif; white-space: nowrap; border-collapse: collapse}\n",
       ".MJXp-display {display: block; text-align: center; margin: 1em 0}\n",
       ".MJXp-math span {display: inline-block}\n",
       ".MJXp-box {display: block!important; text-align: center}\n",
       ".MJXp-box:after {content: &quot; &quot;}\n",
       ".MJXp-rule {display: block!important; margin-top: .1em}\n",
       ".MJXp-char {display: block!important}\n",
       ".MJXp-mo {margin: 0 .15em}\n",
       ".MJXp-mfrac {margin: 0 .125em; vertical-align: .25em}\n",
       ".MJXp-denom {display: inline-table!important; width: 100%}\n",
       ".MJXp-denom &gt; * {display: table-row!important}\n",
       ".MJXp-surd {vertical-align: top}\n",
       ".MJXp-surd &gt; * {display: block!important}\n",
       ".MJXp-script-box &gt; *  {display: table!important; height: 50%}\n",
       ".MJXp-script-box &gt; * &gt; * {display: table-cell!important; vertical-align: top}\n",
       ".MJXp-script-box &gt; *:last-child &gt; * {vertical-align: bottom}\n",
       ".MJXp-script-box &gt; * &gt; * &gt; * {display: block!important}\n",
       ".MJXp-mphantom {visibility: hidden}\n",
       ".MJXp-munderover, .MJXp-munder {display: inline-table!important}\n",
       ".MJXp-over {display: inline-block!important; text-align: center}\n",
       ".MJXp-over &gt; * {display: block!important}\n",
       ".MJXp-munderover &gt; *, .MJXp-munder &gt; * {display: table-row!important}\n",
       ".MJXp-mtable {vertical-align: .25em; margin: 0 .125em}\n",
       ".MJXp-mtable &gt; * {display: inline-table!important; vertical-align: middle}\n",
       ".MJXp-mtr {display: table-row!important}\n",
       ".MJXp-mtd {display: table-cell!important; text-align: center; padding: .5em 0 0 .5em}\n",
       ".MJXp-mtr &gt; .MJXp-mtd:first-child {padding-left: 0}\n",
       ".MJXp-mtr:first-child &gt; .MJXp-mtd {padding-top: 0}\n",
       ".MJXp-mlabeledtr {display: table-row!important}\n",
       ".MJXp-mlabeledtr &gt; .MJXp-mtd:first-child {padding-left: 0}\n",
       ".MJXp-mlabeledtr:first-child &gt; .MJXp-mtd {padding-top: 0}\n",
       ".MJXp-merror {background-color: #FFFF88; color: #CC0000; border: 1px solid #CC0000; padding: 1px 3px; font-style: normal; font-size: 90%}\n",
       ".MJXp-scale0 {-webkit-transform: scaleX(.0); -moz-transform: scaleX(.0); -ms-transform: scaleX(.0); -o-transform: scaleX(.0); transform: scaleX(.0)}\n",
       ".MJXp-scale1 {-webkit-transform: scaleX(.1); -moz-transform: scaleX(.1); -ms-transform: scaleX(.1); -o-transform: scaleX(.1); transform: scaleX(.1)}\n",
       ".MJXp-scale2 {-webkit-transform: scaleX(.2); -moz-transform: scaleX(.2); -ms-transform: scaleX(.2); -o-transform: scaleX(.2); transform: scaleX(.2)}\n",
       ".MJXp-scale3 {-webkit-transform: scaleX(.3); -moz-transform: scaleX(.3); -ms-transform: scaleX(.3); -o-transform: scaleX(.3); transform: scaleX(.3)}\n",
       ".MJXp-scale4 {-webkit-transform: scaleX(.4); -moz-transform: scaleX(.4); -ms-transform: scaleX(.4); -o-transform: scaleX(.4); transform: scaleX(.4)}\n",
       ".MJXp-scale5 {-webkit-transform: scaleX(.5); -moz-transform: scaleX(.5); -ms-transform: scaleX(.5); -o-transform: scaleX(.5); transform: scaleX(.5)}\n",
       ".MJXp-scale6 {-webkit-transform: scaleX(.6); -moz-transform: scaleX(.6); -ms-transform: scaleX(.6); -o-transform: scaleX(.6); transform: scaleX(.6)}\n",
       ".MJXp-scale7 {-webkit-transform: scaleX(.7); -moz-transform: scaleX(.7); -ms-transform: scaleX(.7); -o-transform: scaleX(.7); transform: scaleX(.7)}\n",
       ".MJXp-scale8 {-webkit-transform: scaleX(.8); -moz-transform: scaleX(.8); -ms-transform: scaleX(.8); -o-transform: scaleX(.8); transform: scaleX(.8)}\n",
       ".MJXp-scale9 {-webkit-transform: scaleX(.9); -moz-transform: scaleX(.9); -ms-transform: scaleX(.9); -o-transform: scaleX(.9); transform: scaleX(.9)}\n",
       ".MathJax_PHTML .noError {vertical-align: ; font-size: 90%; text-align: left; color: black; padding: 1px 3px; border: 1px solid}\n",
       "</style><style xmlns=\"http://www.w3.org/1999/xhtml\" type=\"text/css\">.MathJax_SVG_Display {text-align: center; margin: 1em 0em; position: relative; display: block!important; text-indent: 0; max-width: none; max-height: none; min-width: 0; min-height: 0; width: 100%}\n",
       ".MathJax_SVG .MJX-monospace {font-family: monospace}\n",
       ".MathJax_SVG .MJX-sans-serif {font-family: sans-serif}\n",
       "#MathJax_SVG_Tooltip {background-color: InfoBackground; color: InfoText; border: 1px solid black; box-shadow: 2px 2px 5px #AAAAAA; -webkit-box-shadow: 2px 2px 5px #AAAAAA; -moz-box-shadow: 2px 2px 5px #AAAAAA; -khtml-box-shadow: 2px 2px 5px #AAAAAA; padding: 3px 4px; z-index: 401; position: absolute; left: 0; top: 0; width: auto; height: auto; display: none}\n",
       ".MathJax_SVG {display: inline; font-style: normal; font-weight: normal; line-height: normal; font-size: 100%; font-size-adjust: none; text-indent: 0; text-align: left; text-transform: none; letter-spacing: normal; word-spacing: normal; word-wrap: normal; white-space: nowrap; float: none; direction: ltr; max-width: none; max-height: none; min-width: 0; min-height: 0; border: 0; padding: 0; margin: 0}\n",
       ".MathJax_SVG * {transition: none; -webkit-transition: none; -moz-transition: none; -ms-transition: none; -o-transition: none}\n",
       ".MathJax_SVG &gt; div {display: inline-block}\n",
       ".mjx-svg-href {fill: blue; stroke: blue}\n",
       ".MathJax_SVG_Processing {visibility: hidden; position: absolute; top: 0; left: 0; width: 0; height: 0; overflow: hidden; display: block!important}\n",
       ".MathJax_SVG_Processed {display: none!important}\n",
       ".MathJax_SVG_test {font-style: normal; font-weight: normal; font-size: 100%; font-size-adjust: none; text-indent: 0; text-transform: none; letter-spacing: normal; word-spacing: normal; overflow: hidden; height: 1px}\n",
       ".MathJax_SVG_test.mjx-test-display {display: table!important}\n",
       ".MathJax_SVG_test.mjx-test-inline {display: inline!important; margin-right: -1px}\n",
       ".MathJax_SVG_test.mjx-test-default {display: block!important; clear: both}\n",
       ".MathJax_SVG_ex_box {display: inline-block!important; position: absolute; overflow: hidden; min-height: 0; max-height: none; padding: 0; border: 0; margin: 0; width: 1px; height: 60ex}\n",
       ".mjx-test-inline .MathJax_SVG_left_box {display: inline-block; width: 0; float: left}\n",
       ".mjx-test-inline .MathJax_SVG_right_box {display: inline-block; width: 0; float: right}\n",
       ".mjx-test-display .MathJax_SVG_right_box {display: table-cell!important; width: 10000em!important; min-width: 0; max-width: none; padding: 0; border: 0; margin: 0}\n",
       ".MathJax_SVG .noError {vertical-align: ; font-size: 90%; text-align: left; color: black; padding: 1px 3px; border: 1px solid}\n",
       "</style></defs><g><rect x=\"221\" y=\"271\" width=\"210\" height=\"10\" fill=\"#f5f5f5\" stroke=\"#666666\" transform=\"rotate(-15,326,276)\" pointer-events=\"all\"/><rect x=\"82\" y=\"146\" width=\"40\" height=\"20\" fill=\"#f5f5f5\" stroke=\"#666666\" pointer-events=\"all\"/><path d=\"M 102 156.75 L 102 82.37\" fill=\"none\" stroke=\"rgb(0, 0, 0)\" stroke-miterlimit=\"10\" pointer-events=\"stroke\"/><path d=\"M 102 77.12 L 105.5 84.12 L 102 82.37 L 98.5 84.12 Z\" fill=\"rgb(0, 0, 0)\" stroke=\"rgb(0, 0, 0)\" stroke-miterlimit=\"10\" pointer-events=\"all\"/><path d=\"M 102 156.25 L 142 156.25 L 159.91 156.59\" fill=\"none\" stroke=\"rgb(0, 0, 0)\" stroke-miterlimit=\"10\" pointer-events=\"stroke\"/><path d=\"M 165.16 156.69 L 158.1 160.06 L 159.91 156.59 L 158.23 153.06 Z\" fill=\"rgb(0, 0, 0)\" stroke=\"rgb(0, 0, 0)\" stroke-miterlimit=\"10\" pointer-events=\"all\"/><rect x=\"152\" y=\"152\" width=\"40\" height=\"30\" fill=\"none\" stroke=\"none\" pointer-events=\"all\"/><g transform=\"translate(-0.5 -0.5)\"><switch><foreignObject pointer-events=\"none\" width=\"100%\" height=\"100%\" requiredFeatures=\"http://www.w3.org/TR/SVG11/feature#Extensibility\" style=\"overflow: visible; text-align: left;\"><div xmlns=\"http://www.w3.org/1999/xhtml\" style=\"display: flex; align-items: unsafe center; justify-content: unsafe center; width: 38px; height: 1px; padding-top: 167px; margin-left: 153px;\"><div data-drawio-colors=\"color: rgb(0, 0, 0); \" style=\"box-sizing: border-box; font-size: 0px; text-align: center;\"><div style=\"display: inline-block; font-size: 14px; font-family: Helvetica; color: rgb(0, 0, 0); line-height: 1.2; pointer-events: all; white-space: normal; overflow-wrap: normal;\"><span class=\"MathJax_Preview\" style=\"color: inherit;\"/><div class=\"MathJax_SVG_Display\" style=\"text-align: center;\"><span class=\"MathJax_SVG\" id=\"MathJax-Element-1-Frame\" tabindex=\"0\" data-mathml=\"&lt;math xmlns=&quot;http://www.w3.org/1998/Math/MathML&quot; display=&quot;block&quot;&gt;&lt;msub&gt;&lt;mi&gt;e&lt;/mi&gt;&lt;mi&gt;x&lt;/mi&gt;&lt;/msub&gt;&lt;/math&gt;\" role=\"presentation\" style=\"font-size: 100%; display: inline-block; position: relative;\"><svg xmlns=\"http://www.w3.org/2000/svg\" xmlns:xlink=\"http://www.w3.org/1999/xlink\" width=\"2.256ex\" height=\"1.766ex\" viewBox=\"0 -525.6 971.3 760.4\" role=\"img\" focusable=\"false\" style=\"vertical-align: -0.545ex;\" aria-hidden=\"true\"><g stroke=\"currentColor\" fill=\"currentColor\" stroke-width=\"0\" transform=\"matrix(1 0 0 -1 0 0)\"><path stroke-width=\"1\" d=\"M39 168Q39 225 58 272T107 350T174 402T244 433T307 442H310Q355 442 388 420T421 355Q421 265 310 237Q261 224 176 223Q139 223 138 221Q138 219 132 186T125 128Q125 81 146 54T209 26T302 45T394 111Q403 121 406 121Q410 121 419 112T429 98T420 82T390 55T344 24T281 -1T205 -11Q126 -11 83 42T39 168ZM373 353Q367 405 305 405Q272 405 244 391T199 357T170 316T154 280T149 261Q149 260 169 260Q282 260 327 284T373 353Z\"/><g transform=\"translate(466,-150)\"><path stroke-width=\"1\" transform=\"scale(0.707)\" d=\"M52 289Q59 331 106 386T222 442Q257 442 286 424T329 379Q371 442 430 442Q467 442 494 420T522 361Q522 332 508 314T481 292T458 288Q439 288 427 299T415 328Q415 374 465 391Q454 404 425 404Q412 404 406 402Q368 386 350 336Q290 115 290 78Q290 50 306 38T341 26Q378 26 414 59T463 140Q466 150 469 151T485 153H489Q504 153 504 145Q504 144 502 134Q486 77 440 33T333 -11Q263 -11 227 52Q186 -10 133 -10H127Q78 -10 57 16T35 71Q35 103 54 123T99 143Q142 143 142 101Q142 81 130 66T107 46T94 41L91 40Q91 39 97 36T113 29T132 26Q168 26 194 71Q203 87 217 139T245 247T261 313Q266 340 266 352Q266 380 251 392T217 404Q177 404 142 372T93 290Q91 281 88 280T72 278H58Q52 284 52 289Z\"/></g></g></svg><span class=\"MJX_Assistive_MathML MJX_Assistive_MathML_Block\" role=\"presentation\"/></span></div><script type=\"math/tex; mode=display\" id=\"MathJax-Element-1\">e_x</script></div></div></div></foreignObject><text x=\"172\" y=\"171\" fill=\"rgb(0, 0, 0)\" font-family=\"Helvetica\" font-size=\"14px\" text-anchor=\"middle\">\n",
       "e_x</text></switch></g><rect x=\"52\" y=\"56\" width=\"60\" height=\"30\" fill=\"none\" stroke=\"none\" pointer-events=\"all\"/><g transform=\"translate(-0.5 -0.5)\"><switch><foreignObject pointer-events=\"none\" width=\"100%\" height=\"100%\" requiredFeatures=\"http://www.w3.org/TR/SVG11/feature#Extensibility\" style=\"overflow: visible; text-align: left;\"><div xmlns=\"http://www.w3.org/1999/xhtml\" style=\"display: flex; align-items: unsafe center; justify-content: unsafe center; width: 58px; height: 1px; padding-top: 71px; margin-left: 53px;\"><div data-drawio-colors=\"color: rgb(0, 0, 0); \" style=\"box-sizing: border-box; font-size: 0px; text-align: center;\"><div style=\"display: inline-block; font-size: 14px; font-family: Helvetica; color: rgb(0, 0, 0); line-height: 1.2; pointer-events: all; white-space: normal; overflow-wrap: normal;\"><span class=\"MathJax_Preview\" style=\"color: inherit;\"/><div class=\"MathJax_SVG_Display\" style=\"text-align: center;\"><span class=\"MathJax_SVG\" id=\"MathJax-Element-2-Frame\" tabindex=\"0\" data-mathml=\"&lt;math xmlns=&quot;http://www.w3.org/1998/Math/MathML&quot; display=&quot;block&quot;&gt;&lt;msub&gt;&lt;mi&gt;e&lt;/mi&gt;&lt;mi&gt;y&lt;/mi&gt;&lt;/msub&gt;&lt;/math&gt;\" role=\"presentation\" style=\"font-size: 100%; display: inline-block; position: relative;\"><svg xmlns=\"http://www.w3.org/2000/svg\" xmlns:xlink=\"http://www.w3.org/1999/xlink\" width=\"2.133ex\" height=\"2.171ex\" viewBox=\"0 -525.6 918.3 934.9\" role=\"img\" focusable=\"false\" style=\"vertical-align: -0.951ex;\" aria-hidden=\"true\"><g stroke=\"currentColor\" fill=\"currentColor\" stroke-width=\"0\" transform=\"matrix(1 0 0 -1 0 0)\"><path stroke-width=\"1\" d=\"M39 168Q39 225 58 272T107 350T174 402T244 433T307 442H310Q355 442 388 420T421 355Q421 265 310 237Q261 224 176 223Q139 223 138 221Q138 219 132 186T125 128Q125 81 146 54T209 26T302 45T394 111Q403 121 406 121Q410 121 419 112T429 98T420 82T390 55T344 24T281 -1T205 -11Q126 -11 83 42T39 168ZM373 353Q367 405 305 405Q272 405 244 391T199 357T170 316T154 280T149 261Q149 260 169 260Q282 260 327 284T373 353Z\"/><g transform=\"translate(466,-150)\"><path stroke-width=\"1\" transform=\"scale(0.707)\" d=\"M21 287Q21 301 36 335T84 406T158 442Q199 442 224 419T250 355Q248 336 247 334Q247 331 231 288T198 191T182 105Q182 62 196 45T238 27Q261 27 281 38T312 61T339 94Q339 95 344 114T358 173T377 247Q415 397 419 404Q432 431 462 431Q475 431 483 424T494 412T496 403Q496 390 447 193T391 -23Q363 -106 294 -155T156 -205Q111 -205 77 -183T43 -117Q43 -95 50 -80T69 -58T89 -48T106 -45Q150 -45 150 -87Q150 -107 138 -122T115 -142T102 -147L99 -148Q101 -153 118 -160T152 -167H160Q177 -167 186 -165Q219 -156 247 -127T290 -65T313 -9T321 21L315 17Q309 13 296 6T270 -6Q250 -11 231 -11Q185 -11 150 11T104 82Q103 89 103 113Q103 170 138 262T173 379Q173 380 173 381Q173 390 173 393T169 400T158 404H154Q131 404 112 385T82 344T65 302T57 280Q55 278 41 278H27Q21 284 21 287Z\"/></g></g></svg><span class=\"MJX_Assistive_MathML MJX_Assistive_MathML_Block\" role=\"presentation\"/></span></div><script type=\"math/tex; mode=display\" id=\"MathJax-Element-2\">e_y</script></div></div></div></foreignObject><text x=\"82\" y=\"75\" fill=\"rgb(0, 0, 0)\" font-family=\"Helvetica\" font-size=\"14px\" text-anchor=\"middle\">\n",
       "e_y</text></switch></g><rect x=\"572\" y=\"236\" width=\"60\" height=\"30\" fill=\"none\" stroke=\"none\" pointer-events=\"all\"/><g transform=\"translate(-0.5 -0.5)\"><switch><foreignObject pointer-events=\"none\" width=\"100%\" height=\"100%\" requiredFeatures=\"http://www.w3.org/TR/SVG11/feature#Extensibility\" style=\"overflow: visible; text-align: left;\"><div xmlns=\"http://www.w3.org/1999/xhtml\" style=\"display: flex; align-items: unsafe center; justify-content: unsafe center; width: 58px; height: 1px; padding-top: 251px; margin-left: 573px;\"><div data-drawio-colors=\"color: rgb(0, 0, 0); \" style=\"box-sizing: border-box; font-size: 0px; text-align: center;\"><div style=\"display: inline-block; font-size: 14px; font-family: Helvetica; color: rgb(0, 0, 0); line-height: 1.2; pointer-events: all; white-space: normal; overflow-wrap: normal;\"><span class=\"MathJax_Preview\" style=\"color: inherit;\"/><div class=\"MathJax_SVG_Display\" style=\"text-align: center;\"><span class=\"MathJax_SVG\" id=\"MathJax-Element-3-Frame\" tabindex=\"0\" data-mathml=\"&lt;math xmlns=&quot;http://www.w3.org/1998/Math/MathML&quot; display=&quot;block&quot;&gt;&lt;mi&gt;g&lt;/mi&gt;&lt;/math&gt;\" role=\"presentation\" style=\"font-size: 100%; display: inline-block; position: relative;\"><svg xmlns=\"http://www.w3.org/2000/svg\" xmlns:xlink=\"http://www.w3.org/1999/xlink\" width=\"1.116ex\" height=\"1.901ex\" viewBox=\"0 -525.6 480.5 818.6\" role=\"img\" focusable=\"false\" style=\"vertical-align: -0.68ex;\" aria-hidden=\"true\"><g stroke=\"currentColor\" fill=\"currentColor\" stroke-width=\"0\" transform=\"matrix(1 0 0 -1 0 0)\"><path stroke-width=\"1\" d=\"M311 43Q296 30 267 15T206 0Q143 0 105 45T66 160Q66 265 143 353T314 442Q361 442 401 394L404 398Q406 401 409 404T418 412T431 419T447 422Q461 422 470 413T480 394Q480 379 423 152T363 -80Q345 -134 286 -169T151 -205Q10 -205 10 -137Q10 -111 28 -91T74 -71Q89 -71 102 -80T116 -111Q116 -121 114 -130T107 -144T99 -154T92 -162L90 -164H91Q101 -167 151 -167Q189 -167 211 -155Q234 -144 254 -122T282 -75Q288 -56 298 -13Q311 35 311 43ZM384 328L380 339Q377 350 375 354T369 368T359 382T346 393T328 402T306 405Q262 405 221 352Q191 313 171 233T151 117Q151 38 213 38Q269 38 323 108L331 118L384 328Z\"/></g></svg><span class=\"MJX_Assistive_MathML MJX_Assistive_MathML_Block\" role=\"presentation\"/></span></div><script type=\"math/tex; mode=display\" id=\"MathJax-Element-3\">g</script></div></div></div></foreignObject><text x=\"602\" y=\"255\" fill=\"rgb(0, 0, 0)\" font-family=\"Helvetica\" font-size=\"14px\" text-anchor=\"middle\">\n",
       "g</text></switch></g><path d=\"M 582 236 Q 582 236 582 269.63\" fill=\"none\" stroke=\"rgb(0, 0, 0)\" stroke-miterlimit=\"10\" pointer-events=\"stroke\"/><path d=\"M 582 274.88 L 578.5 267.88 L 582 269.63 L 585.5 267.88 Z\" fill=\"rgb(0, 0, 0)\" stroke=\"rgb(0, 0, 0)\" stroke-miterlimit=\"10\" pointer-events=\"all\"/><ellipse cx=\"102\" cy=\"156\" rx=\"5\" ry=\"5\" fill=\"rgb(255, 255, 255)\" stroke=\"rgb(0, 0, 0)\" pointer-events=\"all\"/><rect x=\"442\" y=\"146\" width=\"40\" height=\"20\" fill=\"#f5f5f5\" stroke=\"#666666\" pointer-events=\"all\"/><ellipse cx=\"462\" cy=\"156\" rx=\"5\" ry=\"5\" fill=\"rgb(255, 255, 255)\" stroke=\"rgb(0, 0, 0)\" pointer-events=\"all\"/><path d=\"M 191.81 264.15 L 105.19 159.85\" fill=\"none\" stroke=\"rgb(0, 0, 0)\" stroke-miterlimit=\"10\" pointer-events=\"stroke\"/><ellipse cx=\"224\" cy=\"303\" rx=\"5\" ry=\"5\" fill=\"rgb(255, 255, 255)\" stroke=\"rgb(0, 0, 0)\" pointer-events=\"all\"/><ellipse cx=\"427\" cy=\"249\" rx=\"5\" ry=\"5\" fill=\"rgb(255, 255, 255)\" stroke=\"rgb(0, 0, 0)\" pointer-events=\"all\"/><path d=\"M 460.5 160.77 L 445.51 207.23\" fill=\"none\" stroke=\"rgb(0, 0, 0)\" stroke-miterlimit=\"10\" pointer-events=\"stroke\"/><ellipse cx=\"327\" cy=\"276\" rx=\"5\" ry=\"5\" fill=\"rgb(255, 255, 255)\" stroke=\"rgb(0, 0, 0)\" pointer-events=\"all\"/><rect x=\"375\" y=\"266\" width=\"60\" height=\"30\" fill=\"none\" stroke=\"none\" pointer-events=\"all\"/><g transform=\"translate(-0.5 -0.5)\"><switch><foreignObject pointer-events=\"none\" width=\"100%\" height=\"100%\" requiredFeatures=\"http://www.w3.org/TR/SVG11/feature#Extensibility\" style=\"overflow: visible; text-align: left;\"><div xmlns=\"http://www.w3.org/1999/xhtml\" style=\"display: flex; align-items: unsafe center; justify-content: unsafe center; width: 58px; height: 1px; padding-top: 281px; margin-left: 376px;\"><div data-drawio-colors=\"color: rgb(0, 0, 0); \" style=\"box-sizing: border-box; font-size: 0px; text-align: center;\"><div style=\"display: inline-block; font-size: 14px; font-family: Helvetica; color: rgb(0, 0, 0); line-height: 1.2; pointer-events: all; white-space: normal; overflow-wrap: normal;\"><span class=\"MathJax_Preview\" style=\"color: inherit;\"/><div class=\"MathJax_SVG_Display\" style=\"text-align: center;\"><span class=\"MathJax_SVG\" id=\"MathJax-Element-4-Frame\" tabindex=\"0\" data-mathml=\"&lt;math xmlns=&quot;http://www.w3.org/1998/Math/MathML&quot; display=&quot;block&quot;&gt;&lt;msub&gt;&lt;mi&gt;l&lt;/mi&gt;&lt;mn&gt;2&lt;/mn&gt;&lt;/msub&gt;&lt;mo&gt;,&lt;/mo&gt;&lt;msub&gt;&lt;mi&gt;J&lt;/mi&gt;&lt;mn&gt;2&lt;/mn&gt;&lt;/msub&gt;&lt;/math&gt;\" role=\"presentation\" style=\"font-size: 100%; display: inline-block; position: relative;\"><svg xmlns=\"http://www.w3.org/2000/svg\" xmlns:xlink=\"http://www.w3.org/1999/xlink\" width=\"5.126ex\" height=\"2.442ex\" viewBox=\"0 -758.4 2207 1051.3\" role=\"img\" focusable=\"false\" style=\"vertical-align: -0.68ex;\" aria-hidden=\"true\"><g stroke=\"currentColor\" fill=\"currentColor\" stroke-width=\"0\" transform=\"matrix(1 0 0 -1 0 0)\"><path stroke-width=\"1\" d=\"M117 59Q117 26 142 26Q179 26 205 131Q211 151 215 152Q217 153 225 153H229Q238 153 241 153T246 151T248 144Q247 138 245 128T234 90T214 43T183 6T137 -11Q101 -11 70 11T38 85Q38 97 39 102L104 360Q167 615 167 623Q167 626 166 628T162 632T157 634T149 635T141 636T132 637T122 637Q112 637 109 637T101 638T95 641T94 647Q94 649 96 661Q101 680 107 682T179 688Q194 689 213 690T243 693T254 694Q266 694 266 686Q266 675 193 386T118 83Q118 81 118 75T117 65V59Z\"/><g transform=\"translate(298,-150)\"><path stroke-width=\"1\" transform=\"scale(0.707)\" d=\"M109 429Q82 429 66 447T50 491Q50 562 103 614T235 666Q326 666 387 610T449 465Q449 422 429 383T381 315T301 241Q265 210 201 149L142 93L218 92Q375 92 385 97Q392 99 409 186V189H449V186Q448 183 436 95T421 3V0H50V19V31Q50 38 56 46T86 81Q115 113 136 137Q145 147 170 174T204 211T233 244T261 278T284 308T305 340T320 369T333 401T340 431T343 464Q343 527 309 573T212 619Q179 619 154 602T119 569T109 550Q109 549 114 549Q132 549 151 535T170 489Q170 464 154 447T109 429Z\"/></g><g transform=\"translate(752,0)\"><path stroke-width=\"1\" d=\"M78 35T78 60T94 103T137 121Q165 121 187 96T210 8Q210 -27 201 -60T180 -117T154 -158T130 -185T117 -194Q113 -194 104 -185T95 -172Q95 -168 106 -156T131 -126T157 -76T173 -3V9L172 8Q170 7 167 6T161 3T152 1T140 0Q113 0 96 17Z\"/></g><g transform=\"translate(1197,0)\"><path stroke-width=\"1\" d=\"M447 625Q447 637 354 637H329Q323 642 323 645T325 664Q329 677 335 683H352Q393 681 498 681Q541 681 568 681T605 682T619 682Q633 682 633 672Q633 670 630 658Q626 642 623 640T604 637Q552 637 545 623Q541 610 483 376Q420 128 419 127Q397 64 333 21T195 -22Q137 -22 97 8T57 88Q57 130 80 152T132 174Q177 174 182 130Q182 98 164 80T123 56Q115 54 115 53T122 44Q148 15 197 15Q235 15 271 47T324 130Q328 142 387 380T447 625Z\"/><g transform=\"translate(555,-150)\"><path stroke-width=\"1\" transform=\"scale(0.707)\" d=\"M109 429Q82 429 66 447T50 491Q50 562 103 614T235 666Q326 666 387 610T449 465Q449 422 429 383T381 315T301 241Q265 210 201 149L142 93L218 92Q375 92 385 97Q392 99 409 186V189H449V186Q448 183 436 95T421 3V0H50V19V31Q50 38 56 46T86 81Q115 113 136 137Q145 147 170 174T204 211T233 244T261 278T284 308T305 340T320 369T333 401T340 431T343 464Q343 527 309 573T212 619Q179 619 154 602T119 569T109 550Q109 549 114 549Q132 549 151 535T170 489Q170 464 154 447T109 429Z\"/></g></g></g></svg><span class=\"MJX_Assistive_MathML MJX_Assistive_MathML_Block\" role=\"presentation\"/></span></div><script type=\"math/tex; mode=display\" id=\"MathJax-Element-4\">l_2, J_2</script></div></div></div></foreignObject><text x=\"405\" y=\"285\" fill=\"rgb(0, 0, 0)\" font-family=\"Helvetica\" font-size=\"14px\" text-anchor=\"middle\">\n",
       "l_2, J_2</text></switch></g><rect x=\"296\" y=\"236\" width=\"60\" height=\"30\" fill=\"none\" stroke=\"none\" pointer-events=\"all\"/><g transform=\"translate(-0.5 -0.5)\"><switch><foreignObject pointer-events=\"none\" width=\"100%\" height=\"100%\" requiredFeatures=\"http://www.w3.org/TR/SVG11/feature#Extensibility\" style=\"overflow: visible; text-align: left;\"><div xmlns=\"http://www.w3.org/1999/xhtml\" style=\"display: flex; align-items: unsafe center; justify-content: unsafe center; width: 58px; height: 1px; padding-top: 251px; margin-left: 297px;\"><div data-drawio-colors=\"color: rgb(0, 0, 0); \" style=\"box-sizing: border-box; font-size: 0px; text-align: center;\"><div style=\"display: inline-block; font-size: 14px; font-family: Helvetica; color: rgb(0, 0, 0); line-height: 1.2; pointer-events: all; white-space: normal; overflow-wrap: normal;\"><span class=\"MathJax_Preview\" style=\"color: inherit;\"/><div class=\"MathJax_SVG_Display\" style=\"text-align: center;\"><span class=\"MathJax_SVG\" id=\"MathJax-Element-5-Frame\" tabindex=\"0\" data-mathml=\"&lt;math xmlns=&quot;http://www.w3.org/1998/Math/MathML&quot; display=&quot;block&quot;&gt;&lt;msub&gt;&lt;mi&gt;S&lt;/mi&gt;&lt;mn&gt;2&lt;/mn&gt;&lt;/msub&gt;&lt;mo&gt;,&lt;/mo&gt;&lt;msub&gt;&lt;mi&gt;m&lt;/mi&gt;&lt;mn&gt;2&lt;/mn&gt;&lt;/msub&gt;&lt;/math&gt;\" role=\"presentation\" style=\"font-size: 100%; display: inline-block; position: relative;\"><svg xmlns=\"http://www.w3.org/2000/svg\" xmlns:xlink=\"http://www.w3.org/1999/xlink\" width=\"6.608ex\" height=\"2.577ex\" viewBox=\"0 -816.6 2845 1109.5\" role=\"img\" focusable=\"false\" style=\"vertical-align: -0.68ex;\" aria-hidden=\"true\"><g stroke=\"currentColor\" fill=\"currentColor\" stroke-width=\"0\" transform=\"matrix(1 0 0 -1 0 0)\"><path stroke-width=\"1\" d=\"M308 24Q367 24 416 76T466 197Q466 260 414 284Q308 311 278 321T236 341Q176 383 176 462Q176 523 208 573T273 648Q302 673 343 688T407 704H418H425Q521 704 564 640Q565 640 577 653T603 682T623 704Q624 704 627 704T632 705Q645 705 645 698T617 577T585 459T569 456Q549 456 549 465Q549 471 550 475Q550 478 551 494T553 520Q553 554 544 579T526 616T501 641Q465 662 419 662Q362 662 313 616T263 510Q263 480 278 458T319 427Q323 425 389 408T456 390Q490 379 522 342T554 242Q554 216 546 186Q541 164 528 137T492 78T426 18T332 -20Q320 -22 298 -22Q199 -22 144 33L134 44L106 13Q83 -14 78 -18T65 -22Q52 -22 52 -14Q52 -11 110 221Q112 227 130 227H143Q149 221 149 216Q149 214 148 207T144 186T142 153Q144 114 160 87T203 47T255 29T308 24Z\"/><g transform=\"translate(613,-150)\"><path stroke-width=\"1\" transform=\"scale(0.707)\" d=\"M109 429Q82 429 66 447T50 491Q50 562 103 614T235 666Q326 666 387 610T449 465Q449 422 429 383T381 315T301 241Q265 210 201 149L142 93L218 92Q375 92 385 97Q392 99 409 186V189H449V186Q448 183 436 95T421 3V0H50V19V31Q50 38 56 46T86 81Q115 113 136 137Q145 147 170 174T204 211T233 244T261 278T284 308T305 340T320 369T333 401T340 431T343 464Q343 527 309 573T212 619Q179 619 154 602T119 569T109 550Q109 549 114 549Q132 549 151 535T170 489Q170 464 154 447T109 429Z\"/></g><g transform=\"translate(1067,0)\"><path stroke-width=\"1\" d=\"M78 35T78 60T94 103T137 121Q165 121 187 96T210 8Q210 -27 201 -60T180 -117T154 -158T130 -185T117 -194Q113 -194 104 -185T95 -172Q95 -168 106 -156T131 -126T157 -76T173 -3V9L172 8Q170 7 167 6T161 3T152 1T140 0Q113 0 96 17Z\"/></g><g transform=\"translate(1512,0)\"><path stroke-width=\"1\" d=\"M21 287Q22 293 24 303T36 341T56 388T88 425T132 442T175 435T205 417T221 395T229 376L231 369Q231 367 232 367L243 378Q303 442 384 442Q401 442 415 440T441 433T460 423T475 411T485 398T493 385T497 373T500 364T502 357L510 367Q573 442 659 442Q713 442 746 415T780 336Q780 285 742 178T704 50Q705 36 709 31T724 26Q752 26 776 56T815 138Q818 149 821 151T837 153Q857 153 857 145Q857 144 853 130Q845 101 831 73T785 17T716 -10Q669 -10 648 17T627 73Q627 92 663 193T700 345Q700 404 656 404H651Q565 404 506 303L499 291L466 157Q433 26 428 16Q415 -11 385 -11Q372 -11 364 -4T353 8T350 18Q350 29 384 161L420 307Q423 322 423 345Q423 404 379 404H374Q288 404 229 303L222 291L189 157Q156 26 151 16Q138 -11 108 -11Q95 -11 87 -5T76 7T74 17Q74 30 112 181Q151 335 151 342Q154 357 154 369Q154 405 129 405Q107 405 92 377T69 316T57 280Q55 278 41 278H27Q21 284 21 287Z\"/><g transform=\"translate(878,-150)\"><path stroke-width=\"1\" transform=\"scale(0.707)\" d=\"M109 429Q82 429 66 447T50 491Q50 562 103 614T235 666Q326 666 387 610T449 465Q449 422 429 383T381 315T301 241Q265 210 201 149L142 93L218 92Q375 92 385 97Q392 99 409 186V189H449V186Q448 183 436 95T421 3V0H50V19V31Q50 38 56 46T86 81Q115 113 136 137Q145 147 170 174T204 211T233 244T261 278T284 308T305 340T320 369T333 401T340 431T343 464Q343 527 309 573T212 619Q179 619 154 602T119 569T109 550Q109 549 114 549Q132 549 151 535T170 489Q170 464 154 447T109 429Z\"/></g></g></g></svg><span class=\"MJX_Assistive_MathML MJX_Assistive_MathML_Block\" role=\"presentation\"/></span></div><script type=\"math/tex; mode=display\" id=\"MathJax-Element-5\">S_2, m_2</script></div></div></div></foreignObject><text x=\"326\" y=\"255\" fill=\"rgb(0, 0, 0)\" font-family=\"Helvetica\" font-size=\"14px\" text-anchor=\"middle\">\n",
       "S_2, m_2</text></switch></g><rect x=\"194\" y=\"308\" width=\"60\" height=\"30\" fill=\"none\" stroke=\"none\" pointer-events=\"all\"/><g transform=\"translate(-0.5 -0.5)\"><switch><foreignObject pointer-events=\"none\" width=\"100%\" height=\"100%\" requiredFeatures=\"http://www.w3.org/TR/SVG11/feature#Extensibility\" style=\"overflow: visible; text-align: left;\"><div xmlns=\"http://www.w3.org/1999/xhtml\" style=\"display: flex; align-items: unsafe center; justify-content: unsafe center; width: 58px; height: 1px; padding-top: 323px; margin-left: 195px;\"><div data-drawio-colors=\"color: rgb(0, 0, 0); \" style=\"box-sizing: border-box; font-size: 0px; text-align: center;\"><div style=\"display: inline-block; font-size: 14px; font-family: Helvetica; color: rgb(0, 0, 0); line-height: 1.2; pointer-events: all; white-space: normal; overflow-wrap: normal;\"><span style=\"\"><span class=\"MathJax_Preview\" style=\"color: inherit;\"/><div class=\"MathJax_SVG_Display\" style=\"text-align: center;\"><span class=\"MathJax_SVG\" id=\"MathJax-Element-6-Frame\" tabindex=\"0\" data-mathml=\"&lt;math xmlns=&quot;http://www.w3.org/1998/Math/MathML&quot; display=&quot;block&quot;&gt;&lt;msub&gt;&lt;mi&gt;G&lt;/mi&gt;&lt;mn&gt;3&lt;/mn&gt;&lt;/msub&gt;&lt;/math&gt;\" role=\"presentation\" style=\"font-size: 100%; display: inline-block; position: relative;\"><svg xmlns=\"http://www.w3.org/2000/svg\" xmlns:xlink=\"http://www.w3.org/1999/xlink\" width=\"2.881ex\" height=\"2.442ex\" viewBox=\"0 -816.6 1240.4 1051.3\" role=\"img\" focusable=\"false\" style=\"vertical-align: -0.545ex;\" aria-hidden=\"true\"><g stroke=\"currentColor\" fill=\"currentColor\" stroke-width=\"0\" transform=\"matrix(1 0 0 -1 0 0)\"><path stroke-width=\"1\" d=\"M50 252Q50 367 117 473T286 641T490 704Q580 704 633 653Q642 643 648 636T656 626L657 623Q660 623 684 649Q691 655 699 663T715 679T725 690L740 705H746Q760 705 760 698Q760 694 728 561Q692 422 692 421Q690 416 687 415T669 413H653Q647 419 647 422Q647 423 648 429T650 449T651 481Q651 552 619 605T510 659Q492 659 471 656T418 643T357 615T294 567T236 496T189 394T158 260Q156 242 156 221Q156 173 170 136T206 79T256 45T308 28T353 24Q407 24 452 47T514 106Q517 114 529 161T541 214Q541 222 528 224T468 227H431Q425 233 425 235T427 254Q431 267 437 273H454Q494 271 594 271Q634 271 659 271T695 272T707 272Q721 272 721 263Q721 261 719 249Q714 230 709 228Q706 227 694 227Q674 227 653 224Q646 221 643 215T629 164Q620 131 614 108Q589 6 586 3Q584 1 581 1Q571 1 553 21T530 52Q530 53 528 52T522 47Q448 -22 322 -22Q201 -22 126 55T50 252Z\"/><g transform=\"translate(786,-150)\"><path stroke-width=\"1\" transform=\"scale(0.707)\" d=\"M127 463Q100 463 85 480T69 524Q69 579 117 622T233 665Q268 665 277 664Q351 652 390 611T430 522Q430 470 396 421T302 350L299 348Q299 347 308 345T337 336T375 315Q457 262 457 175Q457 96 395 37T238 -22Q158 -22 100 21T42 130Q42 158 60 175T105 193Q133 193 151 175T169 130Q169 119 166 110T159 94T148 82T136 74T126 70T118 67L114 66Q165 21 238 21Q293 21 321 74Q338 107 338 175V195Q338 290 274 322Q259 328 213 329L171 330L168 332Q166 335 166 348Q166 366 174 366Q202 366 232 371Q266 376 294 413T322 525V533Q322 590 287 612Q265 626 240 626Q208 626 181 615T143 592T132 580H135Q138 579 143 578T153 573T165 566T175 555T183 540T186 520Q186 498 172 481T127 463Z\"/></g></g></svg><span class=\"MJX_Assistive_MathML MJX_Assistive_MathML_Block\" role=\"presentation\"/></span></div><script type=\"math/tex; mode=display\" id=\"MathJax-Element-6\">G_3</script></span></div></div></div></foreignObject><text x=\"224\" y=\"327\" fill=\"rgb(0, 0, 0)\" font-family=\"Helvetica\" font-size=\"14px\" text-anchor=\"middle\">\n",
       "G_3</text></switch></g><rect x=\"48\" y=\"166\" width=\"60\" height=\"30\" fill=\"none\" stroke=\"none\" pointer-events=\"all\"/><g transform=\"translate(-0.5 -0.5)\"><switch><foreignObject pointer-events=\"none\" width=\"100%\" height=\"100%\" requiredFeatures=\"http://www.w3.org/TR/SVG11/feature#Extensibility\" style=\"overflow: visible; text-align: left;\"><div xmlns=\"http://www.w3.org/1999/xhtml\" style=\"display: flex; align-items: unsafe center; justify-content: unsafe center; width: 58px; height: 1px; padding-top: 181px; margin-left: 49px;\"><div data-drawio-colors=\"color: rgb(0, 0, 0); \" style=\"box-sizing: border-box; font-size: 0px; text-align: center;\"><div style=\"display: inline-block; font-size: 14px; font-family: Helvetica; color: rgb(0, 0, 0); line-height: 1.2; pointer-events: all; white-space: normal; overflow-wrap: normal;\"><span class=\"MathJax_Preview\" style=\"color: inherit;\"/><div class=\"MathJax_SVG_Display\" style=\"text-align: center;\"><span class=\"MathJax_SVG\" id=\"MathJax-Element-7-Frame\" tabindex=\"0\" data-mathml=\"&lt;math xmlns=&quot;http://www.w3.org/1998/Math/MathML&quot; display=&quot;block&quot;&gt;&lt;msub&gt;&lt;mi&gt;B&lt;/mi&gt;&lt;mn&gt;1&lt;/mn&gt;&lt;/msub&gt;&lt;mo&gt;,&lt;/mo&gt;&lt;msub&gt;&lt;mi&gt;G&lt;/mi&gt;&lt;mn&gt;1&lt;/mn&gt;&lt;/msub&gt;&lt;mo&gt;,&lt;/mo&gt;&lt;msub&gt;&lt;mi&gt;S&lt;/mi&gt;&lt;mn&gt;1&lt;/mn&gt;&lt;/msub&gt;&lt;/math&gt;\" role=\"presentation\" style=\"font-size: 100%; display: inline-block; position: relative;\"><svg xmlns=\"http://www.w3.org/2000/svg\" xmlns:xlink=\"http://www.w3.org/1999/xlink\" width=\"10.246ex\" height=\"2.577ex\" viewBox=\"0 -816.6 4411.6 1109.5\" role=\"img\" focusable=\"false\" style=\"vertical-align: -0.68ex;\" aria-hidden=\"true\"><g stroke=\"currentColor\" fill=\"currentColor\" stroke-width=\"0\" transform=\"matrix(1 0 0 -1 0 0)\"><path stroke-width=\"1\" d=\"M231 637Q204 637 199 638T194 649Q194 676 205 682Q206 683 335 683Q594 683 608 681Q671 671 713 636T756 544Q756 480 698 429T565 360L555 357Q619 348 660 311T702 219Q702 146 630 78T453 1Q446 0 242 0Q42 0 39 2Q35 5 35 10Q35 17 37 24Q42 43 47 45Q51 46 62 46H68Q95 46 128 49Q142 52 147 61Q150 65 219 339T288 628Q288 635 231 637ZM649 544Q649 574 634 600T585 634Q578 636 493 637Q473 637 451 637T416 636H403Q388 635 384 626Q382 622 352 506Q352 503 351 500L320 374H401Q482 374 494 376Q554 386 601 434T649 544ZM595 229Q595 273 572 302T512 336Q506 337 429 337Q311 337 310 336Q310 334 293 263T258 122L240 52Q240 48 252 48T333 46Q422 46 429 47Q491 54 543 105T595 229Z\"/><g transform=\"translate(759,-150)\"><path stroke-width=\"1\" transform=\"scale(0.707)\" d=\"M213 578L200 573Q186 568 160 563T102 556H83V602H102Q149 604 189 617T245 641T273 663Q275 666 285 666Q294 666 302 660V361L303 61Q310 54 315 52T339 48T401 46H427V0H416Q395 3 257 3Q121 3 100 0H88V46H114Q136 46 152 46T177 47T193 50T201 52T207 57T213 61V578Z\"/></g><g transform=\"translate(1213,0)\"><path stroke-width=\"1\" d=\"M78 35T78 60T94 103T137 121Q165 121 187 96T210 8Q210 -27 201 -60T180 -117T154 -158T130 -185T117 -194Q113 -194 104 -185T95 -172Q95 -168 106 -156T131 -126T157 -76T173 -3V9L172 8Q170 7 167 6T161 3T152 1T140 0Q113 0 96 17Z\"/></g><g transform=\"translate(1658,0)\"><path stroke-width=\"1\" d=\"M50 252Q50 367 117 473T286 641T490 704Q580 704 633 653Q642 643 648 636T656 626L657 623Q660 623 684 649Q691 655 699 663T715 679T725 690L740 705H746Q760 705 760 698Q760 694 728 561Q692 422 692 421Q690 416 687 415T669 413H653Q647 419 647 422Q647 423 648 429T650 449T651 481Q651 552 619 605T510 659Q492 659 471 656T418 643T357 615T294 567T236 496T189 394T158 260Q156 242 156 221Q156 173 170 136T206 79T256 45T308 28T353 24Q407 24 452 47T514 106Q517 114 529 161T541 214Q541 222 528 224T468 227H431Q425 233 425 235T427 254Q431 267 437 273H454Q494 271 594 271Q634 271 659 271T695 272T707 272Q721 272 721 263Q721 261 719 249Q714 230 709 228Q706 227 694 227Q674 227 653 224Q646 221 643 215T629 164Q620 131 614 108Q589 6 586 3Q584 1 581 1Q571 1 553 21T530 52Q530 53 528 52T522 47Q448 -22 322 -22Q201 -22 126 55T50 252Z\"/><g transform=\"translate(786,-150)\"><path stroke-width=\"1\" transform=\"scale(0.707)\" d=\"M213 578L200 573Q186 568 160 563T102 556H83V602H102Q149 604 189 617T245 641T273 663Q275 666 285 666Q294 666 302 660V361L303 61Q310 54 315 52T339 48T401 46H427V0H416Q395 3 257 3Q121 3 100 0H88V46H114Q136 46 152 46T177 47T193 50T201 52T207 57T213 61V578Z\"/></g></g><g transform=\"translate(2898,0)\"><path stroke-width=\"1\" d=\"M78 35T78 60T94 103T137 121Q165 121 187 96T210 8Q210 -27 201 -60T180 -117T154 -158T130 -185T117 -194Q113 -194 104 -185T95 -172Q95 -168 106 -156T131 -126T157 -76T173 -3V9L172 8Q170 7 167 6T161 3T152 1T140 0Q113 0 96 17Z\"/></g><g transform=\"translate(3344,0)\"><path stroke-width=\"1\" d=\"M308 24Q367 24 416 76T466 197Q466 260 414 284Q308 311 278 321T236 341Q176 383 176 462Q176 523 208 573T273 648Q302 673 343 688T407 704H418H425Q521 704 564 640Q565 640 577 653T603 682T623 704Q624 704 627 704T632 705Q645 705 645 698T617 577T585 459T569 456Q549 456 549 465Q549 471 550 475Q550 478 551 494T553 520Q553 554 544 579T526 616T501 641Q465 662 419 662Q362 662 313 616T263 510Q263 480 278 458T319 427Q323 425 389 408T456 390Q490 379 522 342T554 242Q554 216 546 186Q541 164 528 137T492 78T426 18T332 -20Q320 -22 298 -22Q199 -22 144 33L134 44L106 13Q83 -14 78 -18T65 -22Q52 -22 52 -14Q52 -11 110 221Q112 227 130 227H143Q149 221 149 216Q149 214 148 207T144 186T142 153Q144 114 160 87T203 47T255 29T308 24Z\"/><g transform=\"translate(613,-150)\"><path stroke-width=\"1\" transform=\"scale(0.707)\" d=\"M213 578L200 573Q186 568 160 563T102 556H83V602H102Q149 604 189 617T245 641T273 663Q275 666 285 666Q294 666 302 660V361L303 61Q310 54 315 52T339 48T401 46H427V0H416Q395 3 257 3Q121 3 100 0H88V46H114Q136 46 152 46T177 47T193 50T201 52T207 57T213 61V578Z\"/></g></g></g></svg><span class=\"MJX_Assistive_MathML MJX_Assistive_MathML_Block\" role=\"presentation\"/></span></div><script type=\"math/tex; mode=display\" id=\"MathJax-Element-7\">B_1, G_1,S_1 </script></div></div></div></foreignObject><text x=\"78\" y=\"185\" fill=\"rgb(0, 0, 0)\" font-family=\"Helvetica\" font-size=\"14px\" text-anchor=\"middle\">B_1, G_1...</text></switch></g><rect x=\"482\" y=\"165\" width=\"60\" height=\"30\" fill=\"none\" stroke=\"none\" pointer-events=\"all\"/><g transform=\"translate(-0.5 -0.5)\"><switch><foreignObject pointer-events=\"none\" width=\"100%\" height=\"100%\" requiredFeatures=\"http://www.w3.org/TR/SVG11/feature#Extensibility\" style=\"overflow: visible; text-align: left;\"><div xmlns=\"http://www.w3.org/1999/xhtml\" style=\"display: flex; align-items: unsafe center; justify-content: unsafe center; width: 58px; height: 1px; padding-top: 180px; margin-left: 483px;\"><div data-drawio-colors=\"color: rgb(0, 0, 0); \" style=\"box-sizing: border-box; font-size: 0px; text-align: center;\"><div style=\"display: inline-block; font-size: 14px; font-family: Helvetica; color: rgb(0, 0, 0); line-height: 1.2; pointer-events: all; white-space: normal; overflow-wrap: normal;\"><span class=\"MathJax_Preview\" style=\"color: inherit;\"/><div class=\"MathJax_SVG_Display\" style=\"text-align: center;\"><span class=\"MathJax_SVG\" id=\"MathJax-Element-21-Frame\" tabindex=\"0\" data-mathml=\"&lt;math xmlns=&quot;http://www.w3.org/1998/Math/MathML&quot; display=&quot;block&quot;&gt;&lt;msub&gt;&lt;mi&gt;B&lt;/mi&gt;&lt;mn&gt;2&lt;/mn&gt;&lt;/msub&gt;&lt;mo&gt;,&lt;/mo&gt;&lt;msub&gt;&lt;mi&gt;G&lt;/mi&gt;&lt;mn&gt;6&lt;/mn&gt;&lt;/msub&gt;&lt;mo&gt;,&lt;/mo&gt;&lt;msub&gt;&lt;mi&gt;S&lt;/mi&gt;&lt;mn&gt;3&lt;/mn&gt;&lt;/msub&gt;&lt;/math&gt;\" role=\"presentation\" style=\"font-size: 100%; display: inline-block; position: relative;\"><svg xmlns=\"http://www.w3.org/2000/svg\" xmlns:xlink=\"http://www.w3.org/1999/xlink\" width=\"10.246ex\" height=\"2.577ex\" viewBox=\"0 -816.6 4411.6 1109.5\" role=\"img\" focusable=\"false\" style=\"vertical-align: -0.68ex;\" aria-hidden=\"true\"><g stroke=\"currentColor\" fill=\"currentColor\" stroke-width=\"0\" transform=\"matrix(1 0 0 -1 0 0)\"><path stroke-width=\"1\" d=\"M231 637Q204 637 199 638T194 649Q194 676 205 682Q206 683 335 683Q594 683 608 681Q671 671 713 636T756 544Q756 480 698 429T565 360L555 357Q619 348 660 311T702 219Q702 146 630 78T453 1Q446 0 242 0Q42 0 39 2Q35 5 35 10Q35 17 37 24Q42 43 47 45Q51 46 62 46H68Q95 46 128 49Q142 52 147 61Q150 65 219 339T288 628Q288 635 231 637ZM649 544Q649 574 634 600T585 634Q578 636 493 637Q473 637 451 637T416 636H403Q388 635 384 626Q382 622 352 506Q352 503 351 500L320 374H401Q482 374 494 376Q554 386 601 434T649 544ZM595 229Q595 273 572 302T512 336Q506 337 429 337Q311 337 310 336Q310 334 293 263T258 122L240 52Q240 48 252 48T333 46Q422 46 429 47Q491 54 543 105T595 229Z\"/><g transform=\"translate(759,-150)\"><path stroke-width=\"1\" transform=\"scale(0.707)\" d=\"M109 429Q82 429 66 447T50 491Q50 562 103 614T235 666Q326 666 387 610T449 465Q449 422 429 383T381 315T301 241Q265 210 201 149L142 93L218 92Q375 92 385 97Q392 99 409 186V189H449V186Q448 183 436 95T421 3V0H50V19V31Q50 38 56 46T86 81Q115 113 136 137Q145 147 170 174T204 211T233 244T261 278T284 308T305 340T320 369T333 401T340 431T343 464Q343 527 309 573T212 619Q179 619 154 602T119 569T109 550Q109 549 114 549Q132 549 151 535T170 489Q170 464 154 447T109 429Z\"/></g><g transform=\"translate(1213,0)\"><path stroke-width=\"1\" d=\"M78 35T78 60T94 103T137 121Q165 121 187 96T210 8Q210 -27 201 -60T180 -117T154 -158T130 -185T117 -194Q113 -194 104 -185T95 -172Q95 -168 106 -156T131 -126T157 -76T173 -3V9L172 8Q170 7 167 6T161 3T152 1T140 0Q113 0 96 17Z\"/></g><g transform=\"translate(1658,0)\"><path stroke-width=\"1\" d=\"M50 252Q50 367 117 473T286 641T490 704Q580 704 633 653Q642 643 648 636T656 626L657 623Q660 623 684 649Q691 655 699 663T715 679T725 690L740 705H746Q760 705 760 698Q760 694 728 561Q692 422 692 421Q690 416 687 415T669 413H653Q647 419 647 422Q647 423 648 429T650 449T651 481Q651 552 619 605T510 659Q492 659 471 656T418 643T357 615T294 567T236 496T189 394T158 260Q156 242 156 221Q156 173 170 136T206 79T256 45T308 28T353 24Q407 24 452 47T514 106Q517 114 529 161T541 214Q541 222 528 224T468 227H431Q425 233 425 235T427 254Q431 267 437 273H454Q494 271 594 271Q634 271 659 271T695 272T707 272Q721 272 721 263Q721 261 719 249Q714 230 709 228Q706 227 694 227Q674 227 653 224Q646 221 643 215T629 164Q620 131 614 108Q589 6 586 3Q584 1 581 1Q571 1 553 21T530 52Q530 53 528 52T522 47Q448 -22 322 -22Q201 -22 126 55T50 252Z\"/><g transform=\"translate(786,-150)\"><path stroke-width=\"1\" transform=\"scale(0.707)\" d=\"M42 313Q42 476 123 571T303 666Q372 666 402 630T432 550Q432 525 418 510T379 495Q356 495 341 509T326 548Q326 592 373 601Q351 623 311 626Q240 626 194 566Q147 500 147 364L148 360Q153 366 156 373Q197 433 263 433H267Q313 433 348 414Q372 400 396 374T435 317Q456 268 456 210V192Q456 169 451 149Q440 90 387 34T253 -22Q225 -22 199 -14T143 16T92 75T56 172T42 313ZM257 397Q227 397 205 380T171 335T154 278T148 216Q148 133 160 97T198 39Q222 21 251 21Q302 21 329 59Q342 77 347 104T352 209Q352 289 347 316T329 361Q302 397 257 397Z\"/></g></g><g transform=\"translate(2898,0)\"><path stroke-width=\"1\" d=\"M78 35T78 60T94 103T137 121Q165 121 187 96T210 8Q210 -27 201 -60T180 -117T154 -158T130 -185T117 -194Q113 -194 104 -185T95 -172Q95 -168 106 -156T131 -126T157 -76T173 -3V9L172 8Q170 7 167 6T161 3T152 1T140 0Q113 0 96 17Z\"/></g><g transform=\"translate(3344,0)\"><path stroke-width=\"1\" d=\"M308 24Q367 24 416 76T466 197Q466 260 414 284Q308 311 278 321T236 341Q176 383 176 462Q176 523 208 573T273 648Q302 673 343 688T407 704H418H425Q521 704 564 640Q565 640 577 653T603 682T623 704Q624 704 627 704T632 705Q645 705 645 698T617 577T585 459T569 456Q549 456 549 465Q549 471 550 475Q550 478 551 494T553 520Q553 554 544 579T526 616T501 641Q465 662 419 662Q362 662 313 616T263 510Q263 480 278 458T319 427Q323 425 389 408T456 390Q490 379 522 342T554 242Q554 216 546 186Q541 164 528 137T492 78T426 18T332 -20Q320 -22 298 -22Q199 -22 144 33L134 44L106 13Q83 -14 78 -18T65 -22Q52 -22 52 -14Q52 -11 110 221Q112 227 130 227H143Q149 221 149 216Q149 214 148 207T144 186T142 153Q144 114 160 87T203 47T255 29T308 24Z\"/><g transform=\"translate(613,-150)\"><path stroke-width=\"1\" transform=\"scale(0.707)\" d=\"M127 463Q100 463 85 480T69 524Q69 579 117 622T233 665Q268 665 277 664Q351 652 390 611T430 522Q430 470 396 421T302 350L299 348Q299 347 308 345T337 336T375 315Q457 262 457 175Q457 96 395 37T238 -22Q158 -22 100 21T42 130Q42 158 60 175T105 193Q133 193 151 175T169 130Q169 119 166 110T159 94T148 82T136 74T126 70T118 67L114 66Q165 21 238 21Q293 21 321 74Q338 107 338 175V195Q338 290 274 322Q259 328 213 329L171 330L168 332Q166 335 166 348Q166 366 174 366Q202 366 232 371Q266 376 294 413T322 525V533Q322 590 287 612Q265 626 240 626Q208 626 181 615T143 592T132 580H135Q138 579 143 578T153 573T165 566T175 555T183 540T186 520Q186 498 172 481T127 463Z\"/></g></g></g></svg><span class=\"MJX_Assistive_MathML MJX_Assistive_MathML_Block\" role=\"presentation\"/></span></div><script type=\"math/tex; mode=display\" id=\"MathJax-Element-21\">B_2, G_6, S_3 </script></div></div></div></foreignObject><text x=\"512\" y=\"184\" fill=\"rgb(0, 0, 0)\" font-family=\"Helvetica\" font-size=\"14px\" text-anchor=\"middle\">B_2, G_6...</text></switch></g><rect x=\"422\" y=\"236\" width=\"60\" height=\"30\" fill=\"none\" stroke=\"none\" pointer-events=\"all\"/><g transform=\"translate(-0.5 -0.5)\"><switch><foreignObject pointer-events=\"none\" width=\"100%\" height=\"100%\" requiredFeatures=\"http://www.w3.org/TR/SVG11/feature#Extensibility\" style=\"overflow: visible; text-align: left;\"><div xmlns=\"http://www.w3.org/1999/xhtml\" style=\"display: flex; align-items: unsafe center; justify-content: unsafe center; width: 58px; height: 1px; padding-top: 251px; margin-left: 423px;\"><div data-drawio-colors=\"color: rgb(0, 0, 0); \" style=\"box-sizing: border-box; font-size: 0px; text-align: center;\"><div style=\"display: inline-block; font-size: 14px; font-family: Helvetica; color: rgb(0, 0, 0); line-height: 1.2; pointer-events: all; white-space: normal; overflow-wrap: normal;\"><span class=\"MathJax_Preview\" style=\"color: inherit;\"/><div class=\"MathJax_SVG_Display\" style=\"text-align: center;\"><span class=\"MathJax_SVG\" id=\"MathJax-Element-9-Frame\" tabindex=\"0\" data-mathml=\"&lt;math xmlns=&quot;http://www.w3.org/1998/Math/MathML&quot; display=&quot;block&quot;&gt;&lt;msub&gt;&lt;mi&gt;G&lt;/mi&gt;&lt;mn&gt;4&lt;/mn&gt;&lt;/msub&gt;&lt;/math&gt;\" role=\"presentation\" style=\"font-size: 100%; display: inline-block; position: relative;\"><svg xmlns=\"http://www.w3.org/2000/svg\" xmlns:xlink=\"http://www.w3.org/1999/xlink\" width=\"2.881ex\" height=\"2.442ex\" viewBox=\"0 -816.6 1240.4 1051.3\" role=\"img\" focusable=\"false\" style=\"vertical-align: -0.545ex;\" aria-hidden=\"true\"><g stroke=\"currentColor\" fill=\"currentColor\" stroke-width=\"0\" transform=\"matrix(1 0 0 -1 0 0)\"><path stroke-width=\"1\" d=\"M50 252Q50 367 117 473T286 641T490 704Q580 704 633 653Q642 643 648 636T656 626L657 623Q660 623 684 649Q691 655 699 663T715 679T725 690L740 705H746Q760 705 760 698Q760 694 728 561Q692 422 692 421Q690 416 687 415T669 413H653Q647 419 647 422Q647 423 648 429T650 449T651 481Q651 552 619 605T510 659Q492 659 471 656T418 643T357 615T294 567T236 496T189 394T158 260Q156 242 156 221Q156 173 170 136T206 79T256 45T308 28T353 24Q407 24 452 47T514 106Q517 114 529 161T541 214Q541 222 528 224T468 227H431Q425 233 425 235T427 254Q431 267 437 273H454Q494 271 594 271Q634 271 659 271T695 272T707 272Q721 272 721 263Q721 261 719 249Q714 230 709 228Q706 227 694 227Q674 227 653 224Q646 221 643 215T629 164Q620 131 614 108Q589 6 586 3Q584 1 581 1Q571 1 553 21T530 52Q530 53 528 52T522 47Q448 -22 322 -22Q201 -22 126 55T50 252Z\"/><g transform=\"translate(786,-150)\"><path stroke-width=\"1\" transform=\"scale(0.707)\" d=\"M462 0Q444 3 333 3Q217 3 199 0H190V46H221Q241 46 248 46T265 48T279 53T286 61Q287 63 287 115V165H28V211L179 442Q332 674 334 675Q336 677 355 677H373L379 671V211H471V165H379V114Q379 73 379 66T385 54Q393 47 442 46H471V0H462ZM293 211V545L74 212L183 211H293Z\"/></g></g></svg><span class=\"MJX_Assistive_MathML MJX_Assistive_MathML_Block\" role=\"presentation\"/></span></div><script type=\"math/tex; mode=display\" id=\"MathJax-Element-9\">G_4</script></div></div></div></foreignObject><text x=\"452\" y=\"255\" fill=\"rgb(0, 0, 0)\" font-family=\"Helvetica\" font-size=\"14px\" text-anchor=\"middle\">\n",
       "G_4</text></switch></g><path d=\"M 482 156 L 582 156\" fill=\"none\" stroke=\"#000000\" stroke-miterlimit=\"10\" stroke-dasharray=\"3 3\" pointer-events=\"stroke\"/><path d=\"M 106.57 155.95 L 133.76 155.99\" fill=\"none\" stroke=\"#d79b00\" stroke-width=\"2\" stroke-miterlimit=\"10\" pointer-events=\"stroke\"/><path d=\"M 139.76 156 L 131.76 159.99 L 133.76 155.99 L 131.77 151.99 Z\" fill=\"#d79b00\" stroke=\"#d79b00\" stroke-width=\"2\" stroke-miterlimit=\"10\" pointer-events=\"all\"/><path d=\"M 467 156 L 493.76 156\" fill=\"none\" stroke=\"#d79b00\" stroke-width=\"2\" stroke-miterlimit=\"10\" pointer-events=\"stroke\"/><path d=\"M 499.76 156 L 491.76 160 L 493.76 156 L 491.76 152 Z\" fill=\"#d79b00\" stroke=\"#d79b00\" stroke-width=\"2\" stroke-miterlimit=\"10\" pointer-events=\"all\"/><rect x=\"107\" y=\"152\" width=\"60\" height=\"30\" fill=\"none\" stroke=\"none\" pointer-events=\"all\"/><g transform=\"translate(-0.5 -0.5)\"><switch><foreignObject pointer-events=\"none\" width=\"100%\" height=\"100%\" requiredFeatures=\"http://www.w3.org/TR/SVG11/feature#Extensibility\" style=\"overflow: visible; text-align: left;\"><div xmlns=\"http://www.w3.org/1999/xhtml\" style=\"display: flex; align-items: unsafe center; justify-content: unsafe center; width: 58px; height: 1px; padding-top: 167px; margin-left: 108px;\"><div data-drawio-colors=\"color: rgb(0, 0, 0); \" style=\"box-sizing: border-box; font-size: 0px; text-align: center;\"><div style=\"display: inline-block; font-size: 14px; font-family: Helvetica; color: rgb(0, 0, 0); line-height: 1.2; pointer-events: all; white-space: normal; overflow-wrap: normal;\"><font color=\"#d79b00\"><span class=\"MathJax_Preview\" style=\"color: inherit;\"/><div class=\"MathJax_SVG_Display\" style=\"text-align: center;\"><span class=\"MathJax_SVG\" id=\"MathJax-Element-10-Frame\" tabindex=\"0\" data-mathml=\"&lt;math xmlns=&quot;http://www.w3.org/1998/Math/MathML&quot; display=&quot;block&quot;&gt;&lt;msub&gt;&lt;mi&gt;q&lt;/mi&gt;&lt;mn&gt;1&lt;/mn&gt;&lt;/msub&gt;&lt;/math&gt;\" role=\"presentation\" style=\"font-size: 100%; display: inline-block; position: relative;\"><svg xmlns=\"http://www.w3.org/2000/svg\" xmlns:xlink=\"http://www.w3.org/1999/xlink\" width=\"2.091ex\" height=\"1.901ex\" viewBox=\"0 -525.6 900.4 818.6\" role=\"img\" focusable=\"false\" style=\"vertical-align: -0.68ex;\" aria-hidden=\"true\"><g stroke=\"currentColor\" fill=\"currentColor\" stroke-width=\"0\" transform=\"matrix(1 0 0 -1 0 0)\"><path stroke-width=\"1\" d=\"M33 157Q33 258 109 349T280 441Q340 441 372 389Q373 390 377 395T388 406T404 418Q438 442 450 442Q454 442 457 439T460 434Q460 425 391 149Q320 -135 320 -139Q320 -147 365 -148H390Q396 -156 396 -157T393 -175Q389 -188 383 -194H370Q339 -192 262 -192Q234 -192 211 -192T174 -192T157 -193Q143 -193 143 -185Q143 -182 145 -170Q149 -154 152 -151T172 -148Q220 -148 230 -141Q238 -136 258 -53T279 32Q279 33 272 29Q224 -10 172 -10Q117 -10 75 30T33 157ZM352 326Q329 405 277 405Q242 405 210 374T160 293Q131 214 119 129Q119 126 119 118T118 106Q118 61 136 44T179 26Q233 26 290 98L298 109L352 326Z\"/><g transform=\"translate(446,-150)\"><path stroke-width=\"1\" transform=\"scale(0.707)\" d=\"M213 578L200 573Q186 568 160 563T102 556H83V602H102Q149 604 189 617T245 641T273 663Q275 666 285 666Q294 666 302 660V361L303 61Q310 54 315 52T339 48T401 46H427V0H416Q395 3 257 3Q121 3 100 0H88V46H114Q136 46 152 46T177 47T193 50T201 52T207 57T213 61V578Z\"/></g></g></svg><span class=\"MJX_Assistive_MathML MJX_Assistive_MathML_Block\" role=\"presentation\"/></span></div><script type=\"math/tex; mode=display\" id=\"MathJax-Element-10\">q_1</script></font></div></div></div></foreignObject><text x=\"137\" y=\"171\" fill=\"rgb(0, 0, 0)\" font-family=\"Helvetica\" font-size=\"14px\" text-anchor=\"middle\">\n",
       "q_1</text></switch></g><rect x=\"464\" y=\"125\" width=\"60\" height=\"30\" fill=\"none\" stroke=\"none\" pointer-events=\"all\"/><g transform=\"translate(-0.5 -0.5)\"><switch><foreignObject pointer-events=\"none\" width=\"100%\" height=\"100%\" requiredFeatures=\"http://www.w3.org/TR/SVG11/feature#Extensibility\" style=\"overflow: visible; text-align: left;\"><div xmlns=\"http://www.w3.org/1999/xhtml\" style=\"display: flex; align-items: unsafe center; justify-content: unsafe center; width: 58px; height: 1px; padding-top: 140px; margin-left: 465px;\"><div data-drawio-colors=\"color: rgb(0, 0, 0); \" style=\"box-sizing: border-box; font-size: 0px; text-align: center;\"><div style=\"display: inline-block; font-size: 14px; font-family: Helvetica; color: rgb(0, 0, 0); line-height: 1.2; pointer-events: all; white-space: normal; overflow-wrap: normal;\"><font color=\"#d79b00\"><span class=\"MathJax_Preview\" style=\"color: inherit;\"/><div class=\"MathJax_SVG_Display\" style=\"text-align: center;\"><span class=\"MathJax_SVG\" id=\"MathJax-Element-11-Frame\" tabindex=\"0\" data-mathml=\"&lt;math xmlns=&quot;http://www.w3.org/1998/Math/MathML&quot; display=&quot;block&quot;&gt;&lt;msub&gt;&lt;mi&gt;q&lt;/mi&gt;&lt;mn&gt;2&lt;/mn&gt;&lt;/msub&gt;&lt;/math&gt;\" role=\"presentation\" style=\"font-size: 100%; display: inline-block; position: relative;\"><svg xmlns=\"http://www.w3.org/2000/svg\" xmlns:xlink=\"http://www.w3.org/1999/xlink\" width=\"2.091ex\" height=\"1.901ex\" viewBox=\"0 -525.6 900.4 818.6\" role=\"img\" focusable=\"false\" style=\"vertical-align: -0.68ex;\" aria-hidden=\"true\"><g stroke=\"currentColor\" fill=\"currentColor\" stroke-width=\"0\" transform=\"matrix(1 0 0 -1 0 0)\"><path stroke-width=\"1\" d=\"M33 157Q33 258 109 349T280 441Q340 441 372 389Q373 390 377 395T388 406T404 418Q438 442 450 442Q454 442 457 439T460 434Q460 425 391 149Q320 -135 320 -139Q320 -147 365 -148H390Q396 -156 396 -157T393 -175Q389 -188 383 -194H370Q339 -192 262 -192Q234 -192 211 -192T174 -192T157 -193Q143 -193 143 -185Q143 -182 145 -170Q149 -154 152 -151T172 -148Q220 -148 230 -141Q238 -136 258 -53T279 32Q279 33 272 29Q224 -10 172 -10Q117 -10 75 30T33 157ZM352 326Q329 405 277 405Q242 405 210 374T160 293Q131 214 119 129Q119 126 119 118T118 106Q118 61 136 44T179 26Q233 26 290 98L298 109L352 326Z\"/><g transform=\"translate(446,-150)\"><path stroke-width=\"1\" transform=\"scale(0.707)\" d=\"M109 429Q82 429 66 447T50 491Q50 562 103 614T235 666Q326 666 387 610T449 465Q449 422 429 383T381 315T301 241Q265 210 201 149L142 93L218 92Q375 92 385 97Q392 99 409 186V189H449V186Q448 183 436 95T421 3V0H50V19V31Q50 38 56 46T86 81Q115 113 136 137Q145 147 170 174T204 211T233 244T261 278T284 308T305 340T320 369T333 401T340 431T343 464Q343 527 309 573T212 619Q179 619 154 602T119 569T109 550Q109 549 114 549Q132 549 151 535T170 489Q170 464 154 447T109 429Z\"/></g></g></svg><span class=\"MJX_Assistive_MathML MJX_Assistive_MathML_Block\" role=\"presentation\"/></span></div><script type=\"math/tex; mode=display\" id=\"MathJax-Element-11\">q_2</script></font></div></div></div></foreignObject><text x=\"494\" y=\"144\" fill=\"rgb(0, 0, 0)\" font-family=\"Helvetica\" font-size=\"14px\" text-anchor=\"middle\">\n",
       "q_2</text></switch></g><rect x=\"92\" y=\"121\" width=\"60\" height=\"30\" fill=\"none\" stroke=\"none\" pointer-events=\"all\"/><g transform=\"translate(-0.5 -0.5)\"><switch><foreignObject pointer-events=\"none\" width=\"100%\" height=\"100%\" requiredFeatures=\"http://www.w3.org/TR/SVG11/feature#Extensibility\" style=\"overflow: visible; text-align: left;\"><div xmlns=\"http://www.w3.org/1999/xhtml\" style=\"display: flex; align-items: unsafe center; justify-content: unsafe center; width: 58px; height: 1px; padding-top: 136px; margin-left: 93px;\"><div data-drawio-colors=\"color: rgb(0, 0, 0); \" style=\"box-sizing: border-box; font-size: 0px; text-align: center;\"><div style=\"display: inline-block; font-size: 14px; font-family: Helvetica; color: rgb(0, 0, 0); line-height: 1.2; pointer-events: all; white-space: normal; overflow-wrap: normal;\"><span class=\"MathJax_Preview\" style=\"color: inherit;\"/><div class=\"MathJax_SVG_Display\" style=\"text-align: center;\"><span class=\"MathJax_SVG\" id=\"MathJax-Element-12-Frame\" tabindex=\"0\" data-mathml=\"&lt;math xmlns=&quot;http://www.w3.org/1998/Math/MathML&quot; display=&quot;block&quot;&gt;&lt;msub&gt;&lt;mi&gt;m&lt;/mi&gt;&lt;mn&gt;1&lt;/mn&gt;&lt;/msub&gt;&lt;/math&gt;\" role=\"presentation\" style=\"font-size: 100%; display: inline-block; position: relative;\"><svg xmlns=\"http://www.w3.org/2000/svg\" xmlns:xlink=\"http://www.w3.org/1999/xlink\" width=\"3.095ex\" height=\"1.766ex\" viewBox=\"0 -525.6 1332.4 760.4\" role=\"img\" focusable=\"false\" style=\"vertical-align: -0.545ex;\" aria-hidden=\"true\"><g stroke=\"currentColor\" fill=\"currentColor\" stroke-width=\"0\" transform=\"matrix(1 0 0 -1 0 0)\"><path stroke-width=\"1\" d=\"M21 287Q22 293 24 303T36 341T56 388T88 425T132 442T175 435T205 417T221 395T229 376L231 369Q231 367 232 367L243 378Q303 442 384 442Q401 442 415 440T441 433T460 423T475 411T485 398T493 385T497 373T500 364T502 357L510 367Q573 442 659 442Q713 442 746 415T780 336Q780 285 742 178T704 50Q705 36 709 31T724 26Q752 26 776 56T815 138Q818 149 821 151T837 153Q857 153 857 145Q857 144 853 130Q845 101 831 73T785 17T716 -10Q669 -10 648 17T627 73Q627 92 663 193T700 345Q700 404 656 404H651Q565 404 506 303L499 291L466 157Q433 26 428 16Q415 -11 385 -11Q372 -11 364 -4T353 8T350 18Q350 29 384 161L420 307Q423 322 423 345Q423 404 379 404H374Q288 404 229 303L222 291L189 157Q156 26 151 16Q138 -11 108 -11Q95 -11 87 -5T76 7T74 17Q74 30 112 181Q151 335 151 342Q154 357 154 369Q154 405 129 405Q107 405 92 377T69 316T57 280Q55 278 41 278H27Q21 284 21 287Z\"/><g transform=\"translate(878,-150)\"><path stroke-width=\"1\" transform=\"scale(0.707)\" d=\"M213 578L200 573Q186 568 160 563T102 556H83V602H102Q149 604 189 617T245 641T273 663Q275 666 285 666Q294 666 302 660V361L303 61Q310 54 315 52T339 48T401 46H427V0H416Q395 3 257 3Q121 3 100 0H88V46H114Q136 46 152 46T177 47T193 50T201 52T207 57T213 61V578Z\"/></g></g></svg><span class=\"MJX_Assistive_MathML MJX_Assistive_MathML_Block\" role=\"presentation\"/></span></div><script type=\"math/tex; mode=display\" id=\"MathJax-Element-12\">m_1</script></div></div></div></foreignObject><text x=\"122\" y=\"140\" fill=\"rgb(0, 0, 0)\" font-family=\"Helvetica\" font-size=\"14px\" text-anchor=\"middle\">\n",
       "m_1</text></switch></g><rect x=\"445\" y=\"116\" width=\"60\" height=\"30\" fill=\"none\" stroke=\"none\" pointer-events=\"all\"/><g transform=\"translate(-0.5 -0.5)\"><switch><foreignObject pointer-events=\"none\" width=\"100%\" height=\"100%\" requiredFeatures=\"http://www.w3.org/TR/SVG11/feature#Extensibility\" style=\"overflow: visible; text-align: left;\"><div xmlns=\"http://www.w3.org/1999/xhtml\" style=\"display: flex; align-items: unsafe center; justify-content: unsafe center; width: 58px; height: 1px; padding-top: 131px; margin-left: 446px;\"><div data-drawio-colors=\"color: rgb(0, 0, 0); \" style=\"box-sizing: border-box; font-size: 0px; text-align: center;\"><div style=\"display: inline-block; font-size: 14px; font-family: Helvetica; color: rgb(0, 0, 0); line-height: 1.2; pointer-events: all; white-space: normal; overflow-wrap: normal;\"><span class=\"MathJax_Preview\" style=\"color: inherit;\"/><div class=\"MathJax_SVG_Display\" style=\"text-align: center;\"><span class=\"MathJax_SVG\" id=\"MathJax-Element-13-Frame\" tabindex=\"0\" data-mathml=\"&lt;math xmlns=&quot;http://www.w3.org/1998/Math/MathML&quot; display=&quot;block&quot;&gt;&lt;msub&gt;&lt;mi&gt;m&lt;/mi&gt;&lt;mn&gt;3&lt;/mn&gt;&lt;/msub&gt;&lt;/math&gt;\" role=\"presentation\" style=\"font-size: 100%; display: inline-block; position: relative;\"><svg xmlns=\"http://www.w3.org/2000/svg\" xmlns:xlink=\"http://www.w3.org/1999/xlink\" width=\"3.095ex\" height=\"1.766ex\" viewBox=\"0 -525.6 1332.4 760.4\" role=\"img\" focusable=\"false\" style=\"vertical-align: -0.545ex;\" aria-hidden=\"true\"><g stroke=\"currentColor\" fill=\"currentColor\" stroke-width=\"0\" transform=\"matrix(1 0 0 -1 0 0)\"><path stroke-width=\"1\" d=\"M21 287Q22 293 24 303T36 341T56 388T88 425T132 442T175 435T205 417T221 395T229 376L231 369Q231 367 232 367L243 378Q303 442 384 442Q401 442 415 440T441 433T460 423T475 411T485 398T493 385T497 373T500 364T502 357L510 367Q573 442 659 442Q713 442 746 415T780 336Q780 285 742 178T704 50Q705 36 709 31T724 26Q752 26 776 56T815 138Q818 149 821 151T837 153Q857 153 857 145Q857 144 853 130Q845 101 831 73T785 17T716 -10Q669 -10 648 17T627 73Q627 92 663 193T700 345Q700 404 656 404H651Q565 404 506 303L499 291L466 157Q433 26 428 16Q415 -11 385 -11Q372 -11 364 -4T353 8T350 18Q350 29 384 161L420 307Q423 322 423 345Q423 404 379 404H374Q288 404 229 303L222 291L189 157Q156 26 151 16Q138 -11 108 -11Q95 -11 87 -5T76 7T74 17Q74 30 112 181Q151 335 151 342Q154 357 154 369Q154 405 129 405Q107 405 92 377T69 316T57 280Q55 278 41 278H27Q21 284 21 287Z\"/><g transform=\"translate(878,-150)\"><path stroke-width=\"1\" transform=\"scale(0.707)\" d=\"M127 463Q100 463 85 480T69 524Q69 579 117 622T233 665Q268 665 277 664Q351 652 390 611T430 522Q430 470 396 421T302 350L299 348Q299 347 308 345T337 336T375 315Q457 262 457 175Q457 96 395 37T238 -22Q158 -22 100 21T42 130Q42 158 60 175T105 193Q133 193 151 175T169 130Q169 119 166 110T159 94T148 82T136 74T126 70T118 67L114 66Q165 21 238 21Q293 21 321 74Q338 107 338 175V195Q338 290 274 322Q259 328 213 329L171 330L168 332Q166 335 166 348Q166 366 174 366Q202 366 232 371Q266 376 294 413T322 525V533Q322 590 287 612Q265 626 240 626Q208 626 181 615T143 592T132 580H135Q138 579 143 578T153 573T165 566T175 555T183 540T186 520Q186 498 172 481T127 463Z\"/></g></g></svg><span class=\"MJX_Assistive_MathML MJX_Assistive_MathML_Block\" role=\"presentation\"/></span></div><script type=\"math/tex; mode=display\" id=\"MathJax-Element-13\">m_3</script></div></div></div></foreignObject><text x=\"475\" y=\"135\" fill=\"rgb(0, 0, 0)\" font-family=\"Helvetica\" font-size=\"14px\" text-anchor=\"middle\">\n",
       "m_3</text></switch></g><path d=\"M 108.37 36 L 455.63 36\" fill=\"none\" stroke=\"rgb(0, 0, 0)\" stroke-miterlimit=\"10\" pointer-events=\"stroke\"/><path d=\"M 103.12 36 L 110.12 32.5 L 108.37 36 L 110.12 39.5 Z\" fill=\"rgb(0, 0, 0)\" stroke=\"rgb(0, 0, 0)\" stroke-miterlimit=\"10\" pointer-events=\"all\"/><path d=\"M 460.88 36 L 453.88 39.5 L 455.63 36 L 453.88 32.5 Z\" fill=\"rgb(0, 0, 0)\" stroke=\"rgb(0, 0, 0)\" stroke-miterlimit=\"10\" pointer-events=\"all\"/><path d=\"M 462 146 L 461.76 36\" fill=\"none\" stroke=\"rgb(0, 0, 0)\" stroke-miterlimit=\"10\" stroke-dasharray=\"3 3\" pointer-events=\"stroke\"/><path d=\"M 102 75 L 101.86 35\" fill=\"none\" stroke=\"rgb(0, 0, 0)\" stroke-miterlimit=\"10\" stroke-dasharray=\"3 3\" pointer-events=\"stroke\"/><rect x=\"272\" y=\"7\" width=\"60\" height=\"30\" fill=\"none\" stroke=\"none\" pointer-events=\"all\"/><g transform=\"translate(-0.5 -0.5)\"><switch><foreignObject pointer-events=\"none\" width=\"100%\" height=\"100%\" requiredFeatures=\"http://www.w3.org/TR/SVG11/feature#Extensibility\" style=\"overflow: visible; text-align: left;\"><div xmlns=\"http://www.w3.org/1999/xhtml\" style=\"display: flex; align-items: unsafe center; justify-content: unsafe center; width: 58px; height: 1px; padding-top: 22px; margin-left: 273px;\"><div data-drawio-colors=\"color: rgb(0, 0, 0); \" style=\"box-sizing: border-box; font-size: 0px; text-align: center;\"><div style=\"display: inline-block; font-size: 14px; font-family: Helvetica; color: rgb(0, 0, 0); line-height: 1.2; pointer-events: all; white-space: normal; overflow-wrap: normal;\"><span class=\"MathJax_Preview\" style=\"color: inherit;\"/><div class=\"MathJax_SVG_Display\" style=\"text-align: center;\"><span class=\"MathJax_SVG\" id=\"MathJax-Element-14-Frame\" tabindex=\"0\" data-mathml=\"&lt;math xmlns=&quot;http://www.w3.org/1998/Math/MathML&quot; display=&quot;block&quot;&gt;&lt;msub&gt;&lt;mi&gt;l&lt;/mi&gt;&lt;mn&gt;0&lt;/mn&gt;&lt;/msub&gt;&lt;/math&gt;\" role=\"presentation\" style=\"font-size: 100%; display: inline-block; position: relative;\"><svg xmlns=\"http://www.w3.org/2000/svg\" xmlns:xlink=\"http://www.w3.org/1999/xlink\" width=\"1.748ex\" height=\"2.307ex\" viewBox=\"0 -758.4 752.4 993.1\" role=\"img\" focusable=\"false\" style=\"vertical-align: -0.545ex;\" aria-hidden=\"true\"><g stroke=\"currentColor\" fill=\"currentColor\" stroke-width=\"0\" transform=\"matrix(1 0 0 -1 0 0)\"><path stroke-width=\"1\" d=\"M117 59Q117 26 142 26Q179 26 205 131Q211 151 215 152Q217 153 225 153H229Q238 153 241 153T246 151T248 144Q247 138 245 128T234 90T214 43T183 6T137 -11Q101 -11 70 11T38 85Q38 97 39 102L104 360Q167 615 167 623Q167 626 166 628T162 632T157 634T149 635T141 636T132 637T122 637Q112 637 109 637T101 638T95 641T94 647Q94 649 96 661Q101 680 107 682T179 688Q194 689 213 690T243 693T254 694Q266 694 266 686Q266 675 193 386T118 83Q118 81 118 75T117 65V59Z\"/><g transform=\"translate(298,-150)\"><path stroke-width=\"1\" transform=\"scale(0.707)\" d=\"M96 585Q152 666 249 666Q297 666 345 640T423 548Q460 465 460 320Q460 165 417 83Q397 41 362 16T301 -15T250 -22Q224 -22 198 -16T137 16T82 83Q39 165 39 320Q39 494 96 585ZM321 597Q291 629 250 629Q208 629 178 597Q153 571 145 525T137 333Q137 175 145 125T181 46Q209 16 250 16Q290 16 318 46Q347 76 354 130T362 333Q362 478 354 524T321 597Z\"/></g></g></svg><span class=\"MJX_Assistive_MathML MJX_Assistive_MathML_Block\" role=\"presentation\"/></span></div><script type=\"math/tex; mode=display\" id=\"MathJax-Element-14\">l_0</script></div></div></div></foreignObject><text x=\"302\" y=\"26\" fill=\"rgb(0, 0, 0)\" font-family=\"Helvetica\" font-size=\"14px\" text-anchor=\"middle\">\n",
       "l_0</text></switch></g><rect x=\"87\" y=\"219\" width=\"70\" height=\"20\" fill=\"none\" stroke=\"none\" pointer-events=\"all\"/><g transform=\"translate(-0.5 -0.5)\"><switch><foreignObject pointer-events=\"none\" width=\"100%\" height=\"100%\" requiredFeatures=\"http://www.w3.org/TR/SVG11/feature#Extensibility\" style=\"overflow: visible; text-align: left;\"><div xmlns=\"http://www.w3.org/1999/xhtml\" style=\"display: flex; align-items: unsafe center; justify-content: unsafe center; width: 1px; height: 1px; padding-top: 229px; margin-left: 122px;\"><div data-drawio-colors=\"color: rgb(0, 0, 0); \" style=\"box-sizing: border-box; font-size: 0px; text-align: center;\"><div style=\"display: inline-block; font-size: 12px; font-family: Helvetica; color: rgb(0, 0, 0); line-height: 1.2; pointer-events: all; white-space: nowrap;\"><span style=\"font-size: 14px\"><span class=\"MathJax_Preview\" style=\"color: inherit;\"/><div class=\"MathJax_SVG_Display\" style=\"text-align: center;\"><span class=\"MathJax_SVG\" id=\"MathJax-Element-15-Frame\" tabindex=\"0\" data-mathml=\"&lt;math xmlns=&quot;http://www.w3.org/1998/Math/MathML&quot; display=&quot;block&quot;&gt;&lt;msub&gt;&lt;mi&gt;l&lt;/mi&gt;&lt;mn&gt;1&lt;/mn&gt;&lt;/msub&gt;&lt;/math&gt;\" role=\"presentation\" style=\"font-size: 100%; display: inline-block; position: relative;\"><svg xmlns=\"http://www.w3.org/2000/svg\" xmlns:xlink=\"http://www.w3.org/1999/xlink\" width=\"1.748ex\" height=\"2.307ex\" viewBox=\"0 -758.4 752.4 993.1\" role=\"img\" focusable=\"false\" style=\"vertical-align: -0.545ex;\" aria-hidden=\"true\"><g stroke=\"currentColor\" fill=\"currentColor\" stroke-width=\"0\" transform=\"matrix(1 0 0 -1 0 0)\"><path stroke-width=\"1\" d=\"M117 59Q117 26 142 26Q179 26 205 131Q211 151 215 152Q217 153 225 153H229Q238 153 241 153T246 151T248 144Q247 138 245 128T234 90T214 43T183 6T137 -11Q101 -11 70 11T38 85Q38 97 39 102L104 360Q167 615 167 623Q167 626 166 628T162 632T157 634T149 635T141 636T132 637T122 637Q112 637 109 637T101 638T95 641T94 647Q94 649 96 661Q101 680 107 682T179 688Q194 689 213 690T243 693T254 694Q266 694 266 686Q266 675 193 386T118 83Q118 81 118 75T117 65V59Z\"/><g transform=\"translate(298,-150)\"><path stroke-width=\"1\" transform=\"scale(0.707)\" d=\"M213 578L200 573Q186 568 160 563T102 556H83V602H102Q149 604 189 617T245 641T273 663Q275 666 285 666Q294 666 302 660V361L303 61Q310 54 315 52T339 48T401 46H427V0H416Q395 3 257 3Q121 3 100 0H88V46H114Q136 46 152 46T177 47T193 50T201 52T207 57T213 61V578Z\"/></g></g></svg><span class=\"MJX_Assistive_MathML MJX_Assistive_MathML_Block\" role=\"presentation\"/></span></div><script type=\"math/tex; mode=display\" id=\"MathJax-Element-15\">l_1 </script></span></div></div></div></foreignObject><text x=\"122\" y=\"233\" fill=\"rgb(0, 0, 0)\" font-family=\"Helvetica\" font-size=\"12px\" text-anchor=\"middle\">\n",
       "l_1 </text></switch></g><rect x=\"412\" y=\"166\" width=\"70\" height=\"20\" fill=\"none\" stroke=\"none\" pointer-events=\"all\"/><g transform=\"translate(-0.5 -0.5)\"><switch><foreignObject pointer-events=\"none\" width=\"100%\" height=\"100%\" requiredFeatures=\"http://www.w3.org/TR/SVG11/feature#Extensibility\" style=\"overflow: visible; text-align: left;\"><div xmlns=\"http://www.w3.org/1999/xhtml\" style=\"display: flex; align-items: unsafe center; justify-content: unsafe center; width: 1px; height: 1px; padding-top: 176px; margin-left: 447px;\"><div data-drawio-colors=\"color: rgb(0, 0, 0); \" style=\"box-sizing: border-box; font-size: 0px; text-align: center;\"><div style=\"display: inline-block; font-size: 12px; font-family: Helvetica; color: rgb(0, 0, 0); line-height: 1.2; pointer-events: all; white-space: nowrap;\"><span style=\"font-size: 14px\"><span class=\"MathJax_Preview\" style=\"color: inherit;\"/><div class=\"MathJax_SVG_Display\" style=\"text-align: center;\"><span class=\"MathJax_SVG\" id=\"MathJax-Element-16-Frame\" tabindex=\"0\" data-mathml=\"&lt;math xmlns=&quot;http://www.w3.org/1998/Math/MathML&quot; display=&quot;block&quot;&gt;&lt;msub&gt;&lt;mi&gt;l&lt;/mi&gt;&lt;mn&gt;3&lt;/mn&gt;&lt;/msub&gt;&lt;/math&gt;\" role=\"presentation\" style=\"font-size: 100%; display: inline-block; position: relative;\"><svg xmlns=\"http://www.w3.org/2000/svg\" xmlns:xlink=\"http://www.w3.org/1999/xlink\" width=\"1.748ex\" height=\"2.307ex\" viewBox=\"0 -758.4 752.4 993.1\" role=\"img\" focusable=\"false\" style=\"vertical-align: -0.545ex;\" aria-hidden=\"true\"><g stroke=\"currentColor\" fill=\"currentColor\" stroke-width=\"0\" transform=\"matrix(1 0 0 -1 0 0)\"><path stroke-width=\"1\" d=\"M117 59Q117 26 142 26Q179 26 205 131Q211 151 215 152Q217 153 225 153H229Q238 153 241 153T246 151T248 144Q247 138 245 128T234 90T214 43T183 6T137 -11Q101 -11 70 11T38 85Q38 97 39 102L104 360Q167 615 167 623Q167 626 166 628T162 632T157 634T149 635T141 636T132 637T122 637Q112 637 109 637T101 638T95 641T94 647Q94 649 96 661Q101 680 107 682T179 688Q194 689 213 690T243 693T254 694Q266 694 266 686Q266 675 193 386T118 83Q118 81 118 75T117 65V59Z\"/><g transform=\"translate(298,-150)\"><path stroke-width=\"1\" transform=\"scale(0.707)\" d=\"M127 463Q100 463 85 480T69 524Q69 579 117 622T233 665Q268 665 277 664Q351 652 390 611T430 522Q430 470 396 421T302 350L299 348Q299 347 308 345T337 336T375 315Q457 262 457 175Q457 96 395 37T238 -22Q158 -22 100 21T42 130Q42 158 60 175T105 193Q133 193 151 175T169 130Q169 119 166 110T159 94T148 82T136 74T126 70T118 67L114 66Q165 21 238 21Q293 21 321 74Q338 107 338 175V195Q338 290 274 322Q259 328 213 329L171 330L168 332Q166 335 166 348Q166 366 174 366Q202 366 232 371Q266 376 294 413T322 525V533Q322 590 287 612Q265 626 240 626Q208 626 181 615T143 592T132 580H135Q138 579 143 578T153 573T165 566T175 555T183 540T186 520Q186 498 172 481T127 463Z\"/></g></g></svg><span class=\"MJX_Assistive_MathML MJX_Assistive_MathML_Block\" role=\"presentation\"/></span></div><script type=\"math/tex; mode=display\" id=\"MathJax-Element-16\">l_3</script></span></div></div></div></foreignObject><text x=\"447\" y=\"180\" fill=\"rgb(0, 0, 0)\" font-family=\"Helvetica\" font-size=\"12px\" text-anchor=\"middle\">\n",
       "l_3</text></switch></g><ellipse cx=\"195\" cy=\"268\" rx=\"5\" ry=\"5\" fill=\"rgb(255, 255, 255)\" stroke=\"rgb(0, 0, 0)\" pointer-events=\"all\"/><rect x=\"169\" y=\"273\" width=\"60\" height=\"30\" fill=\"none\" stroke=\"none\" pointer-events=\"all\"/><g transform=\"translate(-0.5 -0.5)\"><switch><foreignObject pointer-events=\"none\" width=\"100%\" height=\"100%\" requiredFeatures=\"http://www.w3.org/TR/SVG11/feature#Extensibility\" style=\"overflow: visible; text-align: left;\"><div xmlns=\"http://www.w3.org/1999/xhtml\" style=\"display: flex; align-items: unsafe center; justify-content: unsafe center; width: 58px; height: 1px; padding-top: 288px; margin-left: 170px;\"><div data-drawio-colors=\"color: rgb(0, 0, 0); \" style=\"box-sizing: border-box; font-size: 0px; text-align: center;\"><div style=\"display: inline-block; font-size: 14px; font-family: Helvetica; color: rgb(0, 0, 0); line-height: 1.2; pointer-events: all; white-space: normal; overflow-wrap: normal;\"><font color=\"#d79b00\"><span class=\"MathJax_Preview\" style=\"color: inherit;\"/><div class=\"MathJax_SVG_Display\" style=\"text-align: center;\"><span class=\"MathJax_SVG\" id=\"MathJax-Element-17-Frame\" tabindex=\"0\" data-mathml=\"&lt;math xmlns=&quot;http://www.w3.org/1998/Math/MathML&quot; display=&quot;block&quot;&gt;&lt;msub&gt;&lt;mi&gt;q&lt;/mi&gt;&lt;mn&gt;3&lt;/mn&gt;&lt;/msub&gt;&lt;/math&gt;\" role=\"presentation\" style=\"font-size: 100%; display: inline-block; position: relative;\"><svg xmlns=\"http://www.w3.org/2000/svg\" xmlns:xlink=\"http://www.w3.org/1999/xlink\" width=\"2.091ex\" height=\"1.901ex\" viewBox=\"0 -525.6 900.4 818.6\" role=\"img\" focusable=\"false\" style=\"vertical-align: -0.68ex;\" aria-hidden=\"true\"><g stroke=\"currentColor\" fill=\"currentColor\" stroke-width=\"0\" transform=\"matrix(1 0 0 -1 0 0)\"><path stroke-width=\"1\" d=\"M33 157Q33 258 109 349T280 441Q340 441 372 389Q373 390 377 395T388 406T404 418Q438 442 450 442Q454 442 457 439T460 434Q460 425 391 149Q320 -135 320 -139Q320 -147 365 -148H390Q396 -156 396 -157T393 -175Q389 -188 383 -194H370Q339 -192 262 -192Q234 -192 211 -192T174 -192T157 -193Q143 -193 143 -185Q143 -182 145 -170Q149 -154 152 -151T172 -148Q220 -148 230 -141Q238 -136 258 -53T279 32Q279 33 272 29Q224 -10 172 -10Q117 -10 75 30T33 157ZM352 326Q329 405 277 405Q242 405 210 374T160 293Q131 214 119 129Q119 126 119 118T118 106Q118 61 136 44T179 26Q233 26 290 98L298 109L352 326Z\"/><g transform=\"translate(446,-150)\"><path stroke-width=\"1\" transform=\"scale(0.707)\" d=\"M127 463Q100 463 85 480T69 524Q69 579 117 622T233 665Q268 665 277 664Q351 652 390 611T430 522Q430 470 396 421T302 350L299 348Q299 347 308 345T337 336T375 315Q457 262 457 175Q457 96 395 37T238 -22Q158 -22 100 21T42 130Q42 158 60 175T105 193Q133 193 151 175T169 130Q169 119 166 110T159 94T148 82T136 74T126 70T118 67L114 66Q165 21 238 21Q293 21 321 74Q338 107 338 175V195Q338 290 274 322Q259 328 213 329L171 330L168 332Q166 335 166 348Q166 366 174 366Q202 366 232 371Q266 376 294 413T322 525V533Q322 590 287 612Q265 626 240 626Q208 626 181 615T143 592T132 580H135Q138 579 143 578T153 573T165 566T175 555T183 540T186 520Q186 498 172 481T127 463Z\"/></g></g></svg><span class=\"MJX_Assistive_MathML MJX_Assistive_MathML_Block\" role=\"presentation\"/></span></div><script type=\"math/tex; mode=display\" id=\"MathJax-Element-17\">q_3</script></font></div></div></div></foreignObject><text x=\"199\" y=\"292\" fill=\"rgb(0, 0, 0)\" font-family=\"Helvetica\" font-size=\"14px\" text-anchor=\"middle\">\n",
       "q_3</text></switch></g><path d=\"M 197.86 272.58 L 216.37 294.59\" fill=\"none\" stroke=\"#d79b00\" stroke-miterlimit=\"10\" pointer-events=\"stroke\"/><path d=\"M 219.74 298.61 L 212.56 295.5 L 216.37 294.59 L 217.92 291 Z\" fill=\"#d79b00\" stroke=\"#d79b00\" stroke-miterlimit=\"10\" pointer-events=\"all\"/><rect x=\"142\" y=\"253\" width=\"60\" height=\"30\" fill=\"none\" stroke=\"none\" pointer-events=\"all\"/><g transform=\"translate(-0.5 -0.5)\"><switch><foreignObject pointer-events=\"none\" width=\"100%\" height=\"100%\" requiredFeatures=\"http://www.w3.org/TR/SVG11/feature#Extensibility\" style=\"overflow: visible; text-align: left;\"><div xmlns=\"http://www.w3.org/1999/xhtml\" style=\"display: flex; align-items: unsafe center; justify-content: unsafe center; width: 58px; height: 1px; padding-top: 268px; margin-left: 143px;\"><div data-drawio-colors=\"color: rgb(0, 0, 0); \" style=\"box-sizing: border-box; font-size: 0px; text-align: center;\"><div style=\"display: inline-block; font-size: 12px; font-family: Helvetica; color: rgb(0, 0, 0); line-height: 1.2; pointer-events: all; white-space: normal; overflow-wrap: normal;\"><span style=\"font-size: 14px;\"><span class=\"MathJax_Preview\" style=\"color: inherit;\"/><div class=\"MathJax_SVG_Display\" style=\"text-align: center;\"><span class=\"MathJax_SVG\" id=\"MathJax-Element-18-Frame\" tabindex=\"0\" data-mathml=\"&lt;math xmlns=&quot;http://www.w3.org/1998/Math/MathML&quot; display=&quot;block&quot;&gt;&lt;msub&gt;&lt;mi&gt;G&lt;/mi&gt;&lt;mn&gt;2&lt;/mn&gt;&lt;/msub&gt;&lt;/math&gt;\" role=\"presentation\" style=\"font-size: 100%; display: inline-block; position: relative;\"><svg xmlns=\"http://www.w3.org/2000/svg\" xmlns:xlink=\"http://www.w3.org/1999/xlink\" width=\"2.881ex\" height=\"2.442ex\" viewBox=\"0 -816.6 1240.4 1051.3\" role=\"img\" focusable=\"false\" style=\"vertical-align: -0.545ex;\" aria-hidden=\"true\"><g stroke=\"currentColor\" fill=\"currentColor\" stroke-width=\"0\" transform=\"matrix(1 0 0 -1 0 0)\"><path stroke-width=\"1\" d=\"M50 252Q50 367 117 473T286 641T490 704Q580 704 633 653Q642 643 648 636T656 626L657 623Q660 623 684 649Q691 655 699 663T715 679T725 690L740 705H746Q760 705 760 698Q760 694 728 561Q692 422 692 421Q690 416 687 415T669 413H653Q647 419 647 422Q647 423 648 429T650 449T651 481Q651 552 619 605T510 659Q492 659 471 656T418 643T357 615T294 567T236 496T189 394T158 260Q156 242 156 221Q156 173 170 136T206 79T256 45T308 28T353 24Q407 24 452 47T514 106Q517 114 529 161T541 214Q541 222 528 224T468 227H431Q425 233 425 235T427 254Q431 267 437 273H454Q494 271 594 271Q634 271 659 271T695 272T707 272Q721 272 721 263Q721 261 719 249Q714 230 709 228Q706 227 694 227Q674 227 653 224Q646 221 643 215T629 164Q620 131 614 108Q589 6 586 3Q584 1 581 1Q571 1 553 21T530 52Q530 53 528 52T522 47Q448 -22 322 -22Q201 -22 126 55T50 252Z\"/><g transform=\"translate(786,-150)\"><path stroke-width=\"1\" transform=\"scale(0.707)\" d=\"M109 429Q82 429 66 447T50 491Q50 562 103 614T235 666Q326 666 387 610T449 465Q449 422 429 383T381 315T301 241Q265 210 201 149L142 93L218 92Q375 92 385 97Q392 99 409 186V189H449V186Q448 183 436 95T421 3V0H50V19V31Q50 38 56 46T86 81Q115 113 136 137Q145 147 170 174T204 211T233 244T261 278T284 308T305 340T320 369T333 401T340 431T343 464Q343 527 309 573T212 619Q179 619 154 602T119 569T109 550Q109 549 114 549Q132 549 151 535T170 489Q170 464 154 447T109 429Z\"/></g></g></svg><span class=\"MJX_Assistive_MathML MJX_Assistive_MathML_Block\" role=\"presentation\"/></span></div><script type=\"math/tex; mode=display\" id=\"MathJax-Element-18\">G_2</script></span></div></div></div></foreignObject><text x=\"172\" y=\"272\" fill=\"rgb(0, 0, 0)\" font-family=\"Helvetica\" font-size=\"12px\" text-anchor=\"middle\">\n",
       "G_2</text></switch></g><path d=\"M 142.77 234.6 C 120.32 263.01 81.59 272.8 48.34 258.47 C 15.09 244.14 -4.39 209.27 0.84 173.44 C 6.07 137.61 34.72 109.77 70.68 105.55 C 106.64 101.33 140.95 121.78 154.33 155.43\" fill=\"none\" stroke=\"#82b366\" stroke-miterlimit=\"10\" pointer-events=\"all\"/><rect x=\"379\" y=\"146\" width=\"60\" height=\"30\" fill=\"none\" stroke=\"none\" pointer-events=\"all\"/><g transform=\"translate(-0.5 -0.5)\"><switch><foreignObject pointer-events=\"none\" width=\"100%\" height=\"100%\" requiredFeatures=\"http://www.w3.org/TR/SVG11/feature#Extensibility\" style=\"overflow: visible; text-align: left;\"><div xmlns=\"http://www.w3.org/1999/xhtml\" style=\"display: flex; align-items: unsafe center; justify-content: unsafe center; width: 58px; height: 1px; padding-top: 161px; margin-left: 380px;\"><div data-drawio-colors=\"color: rgb(0, 0, 0); \" style=\"box-sizing: border-box; font-size: 0px; text-align: center;\"><div style=\"display: inline-block; font-size: 14px; font-family: Helvetica; color: rgb(0, 0, 0); line-height: 1.2; pointer-events: all; white-space: normal; overflow-wrap: normal;\"><font color=\"#82b366\"><span class=\"MathJax_Preview\" style=\"color: inherit;\"/><div class=\"MathJax_SVG_Display\" style=\"text-align: center;\"><span class=\"MathJax_SVG\" id=\"MathJax-Element-26-Frame\" tabindex=\"0\" data-mathml=\"&lt;math xmlns=&quot;http://www.w3.org/1998/Math/MathML&quot; display=&quot;block&quot;&gt;&lt;msub&gt;&lt;mi&gt;p&lt;/mi&gt;&lt;mn&gt;3&lt;/mn&gt;&lt;/msub&gt;&lt;/math&gt;\" role=\"presentation\" style=\"font-size: 100%; display: inline-block; position: relative;\"><svg xmlns=\"http://www.w3.org/2000/svg\" xmlns:xlink=\"http://www.w3.org/1999/xlink\" width=\"2.313ex\" height=\"1.901ex\" viewBox=\"-38.5 -525.6 995.9 818.6\" role=\"img\" focusable=\"false\" style=\"vertical-align: -0.68ex; margin-left: -0.089ex;\" aria-hidden=\"true\"><g stroke=\"currentColor\" fill=\"currentColor\" stroke-width=\"0\" transform=\"matrix(1 0 0 -1 0 0)\"><path stroke-width=\"1\" d=\"M23 287Q24 290 25 295T30 317T40 348T55 381T75 411T101 433T134 442Q209 442 230 378L240 387Q302 442 358 442Q423 442 460 395T497 281Q497 173 421 82T249 -10Q227 -10 210 -4Q199 1 187 11T168 28L161 36Q160 35 139 -51T118 -138Q118 -144 126 -145T163 -148H188Q194 -155 194 -157T191 -175Q188 -187 185 -190T172 -194Q170 -194 161 -194T127 -193T65 -192Q-5 -192 -24 -194H-32Q-39 -187 -39 -183Q-37 -156 -26 -148H-6Q28 -147 33 -136Q36 -130 94 103T155 350Q156 355 156 364Q156 405 131 405Q109 405 94 377T71 316T59 280Q57 278 43 278H29Q23 284 23 287ZM178 102Q200 26 252 26Q282 26 310 49T356 107Q374 141 392 215T411 325V331Q411 405 350 405Q339 405 328 402T306 393T286 380T269 365T254 350T243 336T235 326L232 322Q232 321 229 308T218 264T204 212Q178 106 178 102Z\"/><g transform=\"translate(503,-150)\"><path stroke-width=\"1\" transform=\"scale(0.707)\" d=\"M127 463Q100 463 85 480T69 524Q69 579 117 622T233 665Q268 665 277 664Q351 652 390 611T430 522Q430 470 396 421T302 350L299 348Q299 347 308 345T337 336T375 315Q457 262 457 175Q457 96 395 37T238 -22Q158 -22 100 21T42 130Q42 158 60 175T105 193Q133 193 151 175T169 130Q169 119 166 110T159 94T148 82T136 74T126 70T118 67L114 66Q165 21 238 21Q293 21 321 74Q338 107 338 175V195Q338 290 274 322Q259 328 213 329L171 330L168 332Q166 335 166 348Q166 366 174 366Q202 366 232 371Q266 376 294 413T322 525V533Q322 590 287 612Q265 626 240 626Q208 626 181 615T143 592T132 580H135Q138 579 143 578T153 573T165 566T175 555T183 540T186 520Q186 498 172 481T127 463Z\"/></g></g></svg><span class=\"MJX_Assistive_MathML MJX_Assistive_MathML_Block\" role=\"presentation\"/></span></div><script type=\"math/tex; mode=display\" id=\"MathJax-Element-26\">p_3</script></font></div></div></div></foreignObject><text x=\"409\" y=\"165\" fill=\"rgb(0, 0, 0)\" font-family=\"Helvetica\" font-size=\"14px\" text-anchor=\"middle\">\n",
       "p_3</text></switch></g><path d=\"M 141.6 236.2 L 150.79 225.78\" fill=\"none\" stroke=\"#82b366\" stroke-miterlimit=\"10\" pointer-events=\"stroke\"/><path d=\"M 154.26 221.84 L 152.26 229.4 L 150.79 225.78 L 147.01 224.77 Z\" fill=\"#82b366\" stroke=\"#82b366\" stroke-miterlimit=\"10\" pointer-events=\"all\"/><path d=\"M 280 376 L 227 308\" fill=\"none\" stroke=\"rgb(0, 0, 0)\" stroke-miterlimit=\"10\" stroke-dasharray=\"3 3\" pointer-events=\"stroke\"/><rect x=\"235\" y=\"292\" width=\"60\" height=\"30\" fill=\"none\" stroke=\"none\" pointer-events=\"all\"/><g transform=\"translate(-0.5 -0.5)\"><switch><foreignObject pointer-events=\"none\" width=\"100%\" height=\"100%\" requiredFeatures=\"http://www.w3.org/TR/SVG11/feature#Extensibility\" style=\"overflow: visible; text-align: left;\"><div xmlns=\"http://www.w3.org/1999/xhtml\" style=\"display: flex; align-items: unsafe center; justify-content: unsafe center; width: 58px; height: 1px; padding-top: 307px; margin-left: 236px;\"><div data-drawio-colors=\"color: rgb(0, 0, 0); \" style=\"box-sizing: border-box; font-size: 0px; text-align: center;\"><div style=\"display: inline-block; font-size: 14px; font-family: Helvetica; color: rgb(0, 0, 0); line-height: 1.2; pointer-events: all; white-space: normal; overflow-wrap: normal;\"><font color=\"#82b366\"><span class=\"MathJax_Preview\" style=\"color: inherit;\"/><div class=\"MathJax_SVG_Display\" style=\"text-align: center;\"><span class=\"MathJax_SVG\" id=\"MathJax-Element-20-Frame\" tabindex=\"0\" data-mathml=\"&lt;math xmlns=&quot;http://www.w3.org/1998/Math/MathML&quot; display=&quot;block&quot;&gt;&lt;msub&gt;&lt;mi&gt;p&lt;/mi&gt;&lt;mn&gt;2&lt;/mn&gt;&lt;/msub&gt;&lt;/math&gt;\" role=\"presentation\" style=\"font-size: 100%; display: inline-block; position: relative;\"><svg xmlns=\"http://www.w3.org/2000/svg\" xmlns:xlink=\"http://www.w3.org/1999/xlink\" width=\"2.313ex\" height=\"1.901ex\" viewBox=\"-38.5 -525.6 995.9 818.6\" role=\"img\" focusable=\"false\" style=\"vertical-align: -0.68ex; margin-left: -0.089ex;\" aria-hidden=\"true\"><g stroke=\"currentColor\" fill=\"currentColor\" stroke-width=\"0\" transform=\"matrix(1 0 0 -1 0 0)\"><path stroke-width=\"1\" d=\"M23 287Q24 290 25 295T30 317T40 348T55 381T75 411T101 433T134 442Q209 442 230 378L240 387Q302 442 358 442Q423 442 460 395T497 281Q497 173 421 82T249 -10Q227 -10 210 -4Q199 1 187 11T168 28L161 36Q160 35 139 -51T118 -138Q118 -144 126 -145T163 -148H188Q194 -155 194 -157T191 -175Q188 -187 185 -190T172 -194Q170 -194 161 -194T127 -193T65 -192Q-5 -192 -24 -194H-32Q-39 -187 -39 -183Q-37 -156 -26 -148H-6Q28 -147 33 -136Q36 -130 94 103T155 350Q156 355 156 364Q156 405 131 405Q109 405 94 377T71 316T59 280Q57 278 43 278H29Q23 284 23 287ZM178 102Q200 26 252 26Q282 26 310 49T356 107Q374 141 392 215T411 325V331Q411 405 350 405Q339 405 328 402T306 393T286 380T269 365T254 350T243 336T235 326L232 322Q232 321 229 308T218 264T204 212Q178 106 178 102Z\"/><g transform=\"translate(503,-150)\"><path stroke-width=\"1\" transform=\"scale(0.707)\" d=\"M109 429Q82 429 66 447T50 491Q50 562 103 614T235 666Q326 666 387 610T449 465Q449 422 429 383T381 315T301 241Q265 210 201 149L142 93L218 92Q375 92 385 97Q392 99 409 186V189H449V186Q448 183 436 95T421 3V0H50V19V31Q50 38 56 46T86 81Q115 113 136 137Q145 147 170 174T204 211T233 244T261 278T284 308T305 340T320 369T333 401T340 431T343 464Q343 527 309 573T212 619Q179 619 154 602T119 569T109 550Q109 549 114 549Q132 549 151 535T170 489Q170 464 154 447T109 429Z\"/></g></g></svg><span class=\"MJX_Assistive_MathML MJX_Assistive_MathML_Block\" role=\"presentation\"/></span></div><script type=\"math/tex; mode=display\" id=\"MathJax-Element-20\">p_2</script></font></div></div></div></foreignObject><text x=\"265\" y=\"311\" fill=\"rgb(0, 0, 0)\" font-family=\"Helvetica\" font-size=\"14px\" text-anchor=\"middle\">\n",
       "p_2</text></switch></g><path d=\"M 289.57 299.84 C 280.97 316.5 263.55 327 244.5 327\" fill=\"none\" stroke=\"#82b366\" stroke-miterlimit=\"10\" pointer-events=\"all\"/><path d=\"M 289.5 300 L 291.25 295.81\" fill=\"none\" stroke=\"#82b366\" stroke-miterlimit=\"10\" pointer-events=\"stroke\"/><path d=\"M 293.27 290.96 L 293.81 298.77 L 291.25 295.81 L 287.34 296.08 Z\" fill=\"#82b366\" stroke=\"#82b366\" stroke-miterlimit=\"10\" pointer-events=\"all\"/><ellipse cx=\"444\" cy=\"212\" rx=\"5\" ry=\"5\" fill=\"rgb(255, 255, 255)\" stroke=\"rgb(0, 0, 0)\" pointer-events=\"all\"/><path d=\"M 442.39 216.74 L 434.15 239.99\" fill=\"none\" stroke=\"#d79b00\" stroke-miterlimit=\"10\" pointer-events=\"stroke\"/><path d=\"M 432.39 244.94 L 431.43 237.17 L 434.15 239.99 L 438.03 239.51 Z\" fill=\"#d79b00\" stroke=\"#d79b00\" stroke-miterlimit=\"10\" pointer-events=\"all\"/><rect x=\"435\" y=\"198\" width=\"60\" height=\"30\" fill=\"none\" stroke=\"none\" pointer-events=\"all\"/><g transform=\"translate(-0.5 -0.5)\"><switch><foreignObject pointer-events=\"none\" width=\"100%\" height=\"100%\" requiredFeatures=\"http://www.w3.org/TR/SVG11/feature#Extensibility\" style=\"overflow: visible; text-align: left;\"><div xmlns=\"http://www.w3.org/1999/xhtml\" style=\"display: flex; align-items: unsafe center; justify-content: unsafe center; width: 58px; height: 1px; padding-top: 213px; margin-left: 436px;\"><div data-drawio-colors=\"color: rgb(0, 0, 0); \" style=\"box-sizing: border-box; font-size: 0px; text-align: center;\"><div style=\"display: inline-block; font-size: 12px; font-family: Helvetica; color: rgb(0, 0, 0); line-height: 1.2; pointer-events: all; white-space: normal; overflow-wrap: normal;\"><span class=\"MathJax_Preview\" style=\"color: inherit;\"/><div class=\"MathJax_SVG_Display\" style=\"text-align: center;\"><span class=\"MathJax_SVG\" id=\"MathJax-Element-22-Frame\" tabindex=\"0\" data-mathml=\"&lt;math xmlns=&quot;http://www.w3.org/1998/Math/MathML&quot; display=&quot;block&quot;&gt;&lt;msub&gt;&lt;mi&gt;G&lt;/mi&gt;&lt;mn&gt;5&lt;/mn&gt;&lt;/msub&gt;&lt;/math&gt;\" role=\"presentation\" style=\"font-size: 100%; display: inline-block; position: relative;\"><svg xmlns=\"http://www.w3.org/2000/svg\" xmlns:xlink=\"http://www.w3.org/1999/xlink\" width=\"2.881ex\" height=\"2.536ex\" viewBox=\"0 -817.8 1240.4 1091.7\" role=\"img\" focusable=\"false\" style=\"vertical-align: -0.636ex;\" aria-hidden=\"true\"><g stroke=\"currentColor\" fill=\"currentColor\" stroke-width=\"0\" transform=\"matrix(1 0 0 -1 0 0)\"><path stroke-width=\"1\" d=\"M50 252Q50 367 117 473T286 641T490 704Q580 704 633 653Q642 643 648 636T656 626L657 623Q660 623 684 649Q691 655 699 663T715 679T725 690L740 705H746Q760 705 760 698Q760 694 728 561Q692 422 692 421Q690 416 687 415T669 413H653Q647 419 647 422Q647 423 648 429T650 449T651 481Q651 552 619 605T510 659Q492 659 471 656T418 643T357 615T294 567T236 496T189 394T158 260Q156 242 156 221Q156 173 170 136T206 79T256 45T308 28T353 24Q407 24 452 47T514 106Q517 114 529 161T541 214Q541 222 528 224T468 227H431Q425 233 425 235T427 254Q431 267 437 273H454Q494 271 594 271Q634 271 659 271T695 272T707 272Q721 272 721 263Q721 261 719 249Q714 230 709 228Q706 227 694 227Q674 227 653 224Q646 221 643 215T629 164Q620 131 614 108Q589 6 586 3Q584 1 581 1Q571 1 553 21T530 52Q530 53 528 52T522 47Q448 -22 322 -22Q201 -22 126 55T50 252Z\"/><g transform=\"translate(786,-150)\"><path stroke-width=\"1\" transform=\"scale(0.707)\" d=\"M164 157Q164 133 148 117T109 101H102Q148 22 224 22Q294 22 326 82Q345 115 345 210Q345 313 318 349Q292 382 260 382H254Q176 382 136 314Q132 307 129 306T114 304Q97 304 95 310Q93 314 93 485V614Q93 664 98 664Q100 666 102 666Q103 666 123 658T178 642T253 634Q324 634 389 662Q397 666 402 666Q410 666 410 648V635Q328 538 205 538Q174 538 149 544L139 546V374Q158 388 169 396T205 412T256 420Q337 420 393 355T449 201Q449 109 385 44T229 -22Q148 -22 99 32T50 154Q50 178 61 192T84 210T107 214Q132 214 148 197T164 157Z\"/></g></g></svg><span class=\"MJX_Assistive_MathML MJX_Assistive_MathML_Block\" role=\"presentation\"/></span></div><script type=\"math/tex; mode=display\" id=\"MathJax-Element-22\">G_5</script></div></div></div></foreignObject><text x=\"465\" y=\"217\" fill=\"rgb(0, 0, 0)\" font-family=\"Helvetica\" font-size=\"12px\" text-anchor=\"middle\">\n",
       "G_5</text></switch></g><rect x=\"397\" y=\"209\" width=\"60\" height=\"30\" fill=\"none\" stroke=\"none\" pointer-events=\"all\"/><g transform=\"translate(-0.5 -0.5)\"><switch><foreignObject pointer-events=\"none\" width=\"100%\" height=\"100%\" requiredFeatures=\"http://www.w3.org/TR/SVG11/feature#Extensibility\" style=\"overflow: visible; text-align: left;\"><div xmlns=\"http://www.w3.org/1999/xhtml\" style=\"display: flex; align-items: unsafe center; justify-content: unsafe center; width: 58px; height: 1px; padding-top: 224px; margin-left: 398px;\"><div data-drawio-colors=\"color: rgb(0, 0, 0); \" style=\"box-sizing: border-box; font-size: 0px; text-align: center;\"><div style=\"display: inline-block; font-size: 14px; font-family: Helvetica; color: rgb(0, 0, 0); line-height: 1.2; pointer-events: all; white-space: normal; overflow-wrap: normal;\"><font color=\"#d79b00\"><span class=\"MathJax_Preview\" style=\"color: inherit;\"/><div class=\"MathJax_SVG_Display\" style=\"text-align: center;\"><span class=\"MathJax_SVG\" id=\"MathJax-Element-24-Frame\" tabindex=\"0\" data-mathml=\"&lt;math xmlns=&quot;http://www.w3.org/1998/Math/MathML&quot; display=&quot;block&quot;&gt;&lt;msub&gt;&lt;mi&gt;q&lt;/mi&gt;&lt;mn&gt;4&lt;/mn&gt;&lt;/msub&gt;&lt;/math&gt;\" role=\"presentation\" style=\"font-size: 100%; display: inline-block; position: relative;\"><svg xmlns=\"http://www.w3.org/2000/svg\" xmlns:xlink=\"http://www.w3.org/1999/xlink\" width=\"2.091ex\" height=\"1.901ex\" viewBox=\"0 -525.6 900.4 818.6\" role=\"img\" focusable=\"false\" style=\"vertical-align: -0.68ex;\" aria-hidden=\"true\"><g stroke=\"currentColor\" fill=\"currentColor\" stroke-width=\"0\" transform=\"matrix(1 0 0 -1 0 0)\"><path stroke-width=\"1\" d=\"M33 157Q33 258 109 349T280 441Q340 441 372 389Q373 390 377 395T388 406T404 418Q438 442 450 442Q454 442 457 439T460 434Q460 425 391 149Q320 -135 320 -139Q320 -147 365 -148H390Q396 -156 396 -157T393 -175Q389 -188 383 -194H370Q339 -192 262 -192Q234 -192 211 -192T174 -192T157 -193Q143 -193 143 -185Q143 -182 145 -170Q149 -154 152 -151T172 -148Q220 -148 230 -141Q238 -136 258 -53T279 32Q279 33 272 29Q224 -10 172 -10Q117 -10 75 30T33 157ZM352 326Q329 405 277 405Q242 405 210 374T160 293Q131 214 119 129Q119 126 119 118T118 106Q118 61 136 44T179 26Q233 26 290 98L298 109L352 326Z\"/><g transform=\"translate(446,-150)\"><path stroke-width=\"1\" transform=\"scale(0.707)\" d=\"M462 0Q444 3 333 3Q217 3 199 0H190V46H221Q241 46 248 46T265 48T279 53T286 61Q287 63 287 115V165H28V211L179 442Q332 674 334 675Q336 677 355 677H373L379 671V211H471V165H379V114Q379 73 379 66T385 54Q393 47 442 46H471V0H462ZM293 211V545L74 212L183 211H293Z\"/></g></g></svg><span class=\"MJX_Assistive_MathML MJX_Assistive_MathML_Block\" role=\"presentation\"/></span></div><script type=\"math/tex; mode=display\" id=\"MathJax-Element-24\">q_4</script></font></div></div></div></foreignObject><text x=\"427\" y=\"228\" fill=\"rgb(0, 0, 0)\" font-family=\"Helvetica\" font-size=\"14px\" text-anchor=\"middle\">\n",
       "q_4</text></switch></g><path d=\"M 441.16 188.97 C 427.69 176.35 424.14 156.22 432.46 139.67 C 440.79 123.12 458.97 114.18 476.97 117.79 C 494.97 121.4 508.41 136.68 509.87 155.19\" fill=\"none\" stroke=\"#82b366\" stroke-miterlimit=\"10\" pointer-events=\"all\"/><path d=\"M 440.98 188.74 L 444.04 191\" fill=\"none\" stroke=\"#82b366\" stroke-miterlimit=\"10\" pointer-events=\"stroke\"/><path d=\"M 448.26 194.13 L 440.55 192.78 L 444.04 191 L 444.71 187.15 Z\" fill=\"#82b366\" stroke=\"#82b366\" stroke-miterlimit=\"10\" pointer-events=\"all\"/><rect x=\"24\" y=\"211\" width=\"60\" height=\"30\" fill=\"none\" stroke=\"none\" pointer-events=\"all\"/><g transform=\"translate(-0.5 -0.5)\"><switch><foreignObject pointer-events=\"none\" width=\"100%\" height=\"100%\" requiredFeatures=\"http://www.w3.org/TR/SVG11/feature#Extensibility\" style=\"overflow: visible; text-align: left;\"><div xmlns=\"http://www.w3.org/1999/xhtml\" style=\"display: flex; align-items: unsafe center; justify-content: unsafe center; width: 58px; height: 1px; padding-top: 226px; margin-left: 25px;\"><div data-drawio-colors=\"color: rgb(0, 0, 0); \" style=\"box-sizing: border-box; font-size: 0px; text-align: center;\"><div style=\"display: inline-block; font-size: 14px; font-family: Helvetica; color: rgb(0, 0, 0); line-height: 1.2; pointer-events: all; white-space: normal; overflow-wrap: normal;\"><font color=\"#82b366\"><span class=\"MathJax_Preview\" style=\"color: inherit;\"/><div class=\"MathJax_SVG_Display\" style=\"text-align: center;\"><span class=\"MathJax_SVG\" id=\"MathJax-Element-25-Frame\" tabindex=\"0\" data-mathml=\"&lt;math xmlns=&quot;http://www.w3.org/1998/Math/MathML&quot; display=&quot;block&quot;&gt;&lt;msub&gt;&lt;mi&gt;p&lt;/mi&gt;&lt;mn&gt;1&lt;/mn&gt;&lt;/msub&gt;&lt;/math&gt;\" role=\"presentation\" style=\"font-size: 100%; display: inline-block; position: relative;\"><svg xmlns=\"http://www.w3.org/2000/svg\" xmlns:xlink=\"http://www.w3.org/1999/xlink\" width=\"2.313ex\" height=\"1.901ex\" viewBox=\"-38.5 -525.6 995.9 818.6\" role=\"img\" focusable=\"false\" style=\"vertical-align: -0.68ex; margin-left: -0.089ex;\" aria-hidden=\"true\"><g stroke=\"currentColor\" fill=\"currentColor\" stroke-width=\"0\" transform=\"matrix(1 0 0 -1 0 0)\"><path stroke-width=\"1\" d=\"M23 287Q24 290 25 295T30 317T40 348T55 381T75 411T101 433T134 442Q209 442 230 378L240 387Q302 442 358 442Q423 442 460 395T497 281Q497 173 421 82T249 -10Q227 -10 210 -4Q199 1 187 11T168 28L161 36Q160 35 139 -51T118 -138Q118 -144 126 -145T163 -148H188Q194 -155 194 -157T191 -175Q188 -187 185 -190T172 -194Q170 -194 161 -194T127 -193T65 -192Q-5 -192 -24 -194H-32Q-39 -187 -39 -183Q-37 -156 -26 -148H-6Q28 -147 33 -136Q36 -130 94 103T155 350Q156 355 156 364Q156 405 131 405Q109 405 94 377T71 316T59 280Q57 278 43 278H29Q23 284 23 287ZM178 102Q200 26 252 26Q282 26 310 49T356 107Q374 141 392 215T411 325V331Q411 405 350 405Q339 405 328 402T306 393T286 380T269 365T254 350T243 336T235 326L232 322Q232 321 229 308T218 264T204 212Q178 106 178 102Z\"/><g transform=\"translate(503,-150)\"><path stroke-width=\"1\" transform=\"scale(0.707)\" d=\"M213 578L200 573Q186 568 160 563T102 556H83V602H102Q149 604 189 617T245 641T273 663Q275 666 285 666Q294 666 302 660V361L303 61Q310 54 315 52T339 48T401 46H427V0H416Q395 3 257 3Q121 3 100 0H88V46H114Q136 46 152 46T177 47T193 50T201 52T207 57T213 61V578Z\"/></g></g></svg><span class=\"MJX_Assistive_MathML MJX_Assistive_MathML_Block\" role=\"presentation\"/></span></div><script type=\"math/tex; mode=display\" id=\"MathJax-Element-25\">p_1</script></font></div></div></div></foreignObject><text x=\"54\" y=\"230\" fill=\"rgb(0, 0, 0)\" font-family=\"Helvetica\" font-size=\"14px\" text-anchor=\"middle\">\n",
       "p_1</text></switch></g></g><switch><g requiredFeatures=\"http://www.w3.org/TR/SVG11/feature#Extensibility\"/><a transform=\"translate(0,-5)\" xlink:href=\"https://www.diagrams.net/doc/faq/svg-export-text-problems\" target=\"_blank\"><text text-anchor=\"middle\" font-size=\"10px\" x=\"50%\" y=\"100%\">Text is not SVG - cannot display</text></a></switch></svg>"
      ],
      "text/plain": [
       "<IPython.core.display.SVG object>"
      ]
     },
     "execution_count": 2,
     "metadata": {},
     "output_type": "execute_result"
    }
   ],
   "source": [
    "from IPython.display import Image\n",
    "from IPython.core.display import SVG\n",
    "SVG(filename='DAE_double_crane_fully_actuated.svg')"
   ]
  },
  {
   "cell_type": "code",
   "execution_count": 3,
   "metadata": {
    "scrolled": true
   },
   "outputs": [
    {
     "data": {
      "text/latex": [
       "aa.T := $\\displaystyle \\left[\\begin{matrix}a_{1} & a_{2} & a_{3} & a_{4}\\end{matrix}\\right]$"
      ],
      "text/plain": [
       "aa.T := [a₁  a₂  a₃  a₄]"
      ]
     },
     "metadata": {},
     "output_type": "display_data"
    },
    {
     "data": {
      "text/plain": [
       "---"
      ]
     },
     "metadata": {},
     "output_type": "display_data"
    },
    {
     "data": {
      "text/latex": [
       "ttheta.T := $\\displaystyle \\left[\\begin{matrix}p_{1} & p_{2} & p_{3} & q_{1} & q_{2} & q_{3} & q_{4}\\end{matrix}\\right]$"
      ],
      "text/plain": [
       "ttheta.T := [p₁  p₂  p₃  q₁  q₂  q₃  q₄]"
      ]
     },
     "metadata": {},
     "output_type": "display_data"
    },
    {
     "data": {
      "text/plain": [
       "---"
      ]
     },
     "metadata": {},
     "output_type": "display_data"
    },
    {
     "data": {
      "text/latex": [
       "tthetad.T := $\\displaystyle \\left[\\begin{matrix}\\dot{p}_{1} & \\dot{p}_{2} & \\dot{p}_{3} & \\dot{q}_{1} & \\dot{q}_{2} & \\dot{q}_{3} & \\dot{q}_{4}\\end{matrix}\\right]$"
      ],
      "text/plain": [
       "tthetad.T := [ṗ₁  ṗ₂  ṗ₃  q̇₁  q̇₂  q̇₃  q̇₄]"
      ]
     },
     "metadata": {},
     "output_type": "display_data"
    },
    {
     "data": {
      "text/plain": [
       "---"
      ]
     },
     "metadata": {},
     "output_type": "display_data"
    },
    {
     "data": {
      "text/latex": [
       "tthetadd.T := $\\displaystyle \\left[\\begin{matrix}\\ddot{p}_{1} & \\ddot{p}_{2} & \\ddot{p}_{3} & \\ddot{q}_{1} & \\ddot{q}_{2} & \\ddot{q}_{3} & \\ddot{q}_{4}\\end{matrix}\\right]$"
      ],
      "text/plain": [
       "tthetadd.T := [p̈₁  p̈₂  p̈₃  q̈₁  q̈₂  q̈₃  q̈₄]"
      ]
     },
     "metadata": {},
     "output_type": "display_data"
    },
    {
     "data": {
      "text/plain": [
       "---"
      ]
     },
     "metadata": {},
     "output_type": "display_data"
    }
   ],
   "source": [
    "t = sp.Symbol('t')  # time variable\n",
    "\n",
    "# coordinates\n",
    "np = 3 # number of passive coordinates\n",
    "nq = 4 # number of actuated coordinates\n",
    "n = np + nq\n",
    "\n",
    "pp = st.symb_vector(\"p1:{0}\".format(np+1)) # vector of passive coordinates\n",
    "qq = st.symb_vector(\"q1:{0}\".format(nq+1)) # vector of actuated coordinates\n",
    "\n",
    "# vector of control inputs\n",
    "aa = st.symb_vector(\"a1:{0}\".format(nq+1)) ##:T\n",
    "# vector of all coordinates\n",
    "ttheta = st.row_stack(pp, qq) ##:T\n",
    "# vector of velocities \n",
    "tthetad = st.time_deriv(ttheta, ttheta) ##:T\n",
    "# vector of accelerations\n",
    "tthetadd = st.time_deriv(ttheta, ttheta, order=2) ##:T\n",
    "\n",
    "st.make_global(ttheta, tthetad, tthetadd)"
   ]
  },
  {
   "cell_type": "code",
   "execution_count": 4,
   "metadata": {},
   "outputs": [],
   "source": [
    "# symbols for analytic equations\n",
    "params = sp.symbols('s2, m1, m2, m3, J1, J2, J3, mc1b, mc2b d1, d4, l0, l1, l2, l3, g')\n",
    "st.make_global(params)\n",
    "\n",
    "# symbols for control inputs\n",
    "# ttau = sp.symbols('tau')\n",
    "tau1, tau2, tau3, tau4 = ttau = st.symb_vector(\"tau1, tau2, tau3, tau4\")\n"
   ]
  },
  {
   "cell_type": "markdown",
   "metadata": {},
   "source": [
    "Specify the geometry (joints G and centers of masses S)"
   ]
  },
  {
   "cell_type": "code",
   "execution_count": 5,
   "metadata": {},
   "outputs": [
    {
     "data": {
      "text/latex": [
       "B1 := $\\displaystyle \\left[\\begin{matrix}q_{1}\\\\0\\end{matrix}\\right]$"
      ],
      "text/plain": [
       "B1 := ⎡q₁⎤\n",
       "⎢  ⎥\n",
       "⎣0 ⎦"
      ]
     },
     "metadata": {},
     "output_type": "display_data"
    },
    {
     "data": {
      "text/plain": [
       "---"
      ]
     },
     "metadata": {},
     "output_type": "display_data"
    },
    {
     "data": {
      "text/latex": [
       "B2 := $\\displaystyle \\left[\\begin{matrix}l_{0} + q_{2}\\\\0\\end{matrix}\\right]$"
      ],
      "text/plain": [
       "B2 := ⎡l₀ + q₂⎤\n",
       "⎢       ⎥\n",
       "⎣   0   ⎦"
      ]
     },
     "metadata": {},
     "output_type": "display_data"
    },
    {
     "data": {
      "text/plain": [
       "---"
      ]
     },
     "metadata": {},
     "output_type": "display_data"
    },
    {
     "data": {
      "text/latex": [
       "G2 := $\\displaystyle \\left[\\begin{matrix}l_{1} \\cos{\\left(p_{1} \\right)} + q_{1}\\\\l_{1} \\sin{\\left(p_{1} \\right)}\\end{matrix}\\right]$"
      ],
      "text/plain": [
       "G2 := ⎡l₁⋅cos(p₁) + q₁⎤\n",
       "⎢               ⎥\n",
       "⎣  l₁⋅sin(p₁)   ⎦"
      ]
     },
     "metadata": {},
     "output_type": "display_data"
    },
    {
     "data": {
      "text/plain": [
       "---"
      ]
     },
     "metadata": {},
     "output_type": "display_data"
    },
    {
     "data": {
      "text/latex": [
       "G3 := $\\displaystyle \\left[\\begin{matrix}l_{1} \\cos{\\left(p_{1} \\right)} + q_{1} + q_{3} \\cos{\\left(p_{1} \\right)}\\\\l_{1} \\sin{\\left(p_{1} \\right)} + q_{3} \\sin{\\left(p_{1} \\right)}\\end{matrix}\\right]$"
      ],
      "text/plain": [
       "G3 := ⎡l₁⋅cos(p₁) + q₁ + q₃⋅cos(p₁)⎤\n",
       "⎢                            ⎥\n",
       "⎣  l₁⋅sin(p₁) + q₃⋅sin(p₁)   ⎦"
      ]
     },
     "metadata": {},
     "output_type": "display_data"
    },
    {
     "data": {
      "text/plain": [
       "---"
      ]
     },
     "metadata": {},
     "output_type": "display_data"
    },
    {
     "data": {
      "text/latex": [
       "G5 := $\\displaystyle \\left[\\begin{matrix}l_{0} + l_{3} \\cos{\\left(p_{3} \\right)} + q_{2}\\\\l_{3} \\sin{\\left(p_{3} \\right)}\\end{matrix}\\right]$"
      ],
      "text/plain": [
       "G5 := ⎡l₀ + l₃⋅cos(p₃) + q₂⎤\n",
       "⎢                    ⎥\n",
       "⎣     l₃⋅sin(p₃)     ⎦"
      ]
     },
     "metadata": {},
     "output_type": "display_data"
    },
    {
     "data": {
      "text/plain": [
       "---"
      ]
     },
     "metadata": {},
     "output_type": "display_data"
    },
    {
     "data": {
      "text/latex": [
       "G4 := $\\displaystyle \\left[\\begin{matrix}l_{0} + l_{3} \\cos{\\left(p_{3} \\right)} + q_{2} + q_{4} \\cos{\\left(p_{3} \\right)}\\\\l_{3} \\sin{\\left(p_{3} \\right)} + q_{4} \\sin{\\left(p_{3} \\right)}\\end{matrix}\\right]$"
      ],
      "text/plain": [
       "G4 := ⎡l₀ + l₃⋅cos(p₃) + q₂ + q₄⋅cos(p₃)⎤\n",
       "⎢                                 ⎥\n",
       "⎣     l₃⋅sin(p₃) + q₄⋅sin(p₃)     ⎦"
      ]
     },
     "metadata": {},
     "output_type": "display_data"
    },
    {
     "data": {
      "text/plain": [
       "---"
      ]
     },
     "metadata": {},
     "output_type": "display_data"
    },
    {
     "data": {
      "text/latex": [
       "S2 := $\\displaystyle \\left[\\begin{matrix}l_{1} \\cos{\\left(p_{1} \\right)} + q_{1} + q_{3} \\cos{\\left(p_{1} \\right)} + \\frac{s_{2} \\left(l_{0} - l_{1} \\cos{\\left(p_{1} \\right)} + l_{3} \\cos{\\left(p_{3} \\right)} - q_{1} + q_{2} - q_{3} \\cos{\\left(p_{1} \\right)} + q_{4} \\cos{\\left(p_{3} \\right)}\\right)}{l_{2}}\\\\l_{1} \\sin{\\left(p_{1} \\right)} + q_{3} \\sin{\\left(p_{1} \\right)} + \\frac{s_{2} \\left(- l_{1} \\sin{\\left(p_{1} \\right)} + l_{3} \\sin{\\left(p_{3} \\right)} - q_{3} \\sin{\\left(p_{1} \\right)} + q_{4} \\sin{\\left(p_{3} \\right)}\\right)}{l_{2}}\\end{matrix}\\right]$"
      ],
      "text/plain": [
       "S2 := ⎡                               s₂⋅(l₀ - l₁⋅cos(p₁) + l₃⋅cos(p₃) - q₁ + q₂ - q\n",
       "⎢l₁⋅cos(p₁) + q₁ + q₃⋅cos(p₁) + ──────────────────────────────────────────────\n",
       "⎢                                                                 l₂          \n",
       "⎢                                                                             \n",
       "⎢                                   s₂⋅(-l₁⋅sin(p₁) + l₃⋅sin(p₃) - q₃⋅sin(p₁) \n",
       "⎢         l₁⋅sin(p₁) + q₃⋅sin(p₁) + ──────────────────────────────────────────\n",
       "⎣                                                              l₂             \n",
       "\n",
       "₃⋅cos(p₁) + q₄⋅cos(p₃))⎤\n",
       "───────────────────────⎥\n",
       "                       ⎥\n",
       "                       ⎥\n",
       "+ q₄⋅sin(p₃))          ⎥\n",
       "─────────────          ⎥\n",
       "                       ⎦"
      ]
     },
     "metadata": {},
     "output_type": "display_data"
    },
    {
     "data": {
      "text/plain": [
       "---"
      ]
     },
     "metadata": {},
     "output_type": "display_data"
    },
    {
     "data": {
      "text/latex": [
       "G4b := $\\displaystyle \\left[\\begin{matrix}l_{1} \\cos{\\left(p_{1} \\right)} + l_{2} \\cos{\\left(p_{1} + p_{2} \\right)} + q_{1} + q_{3} \\cos{\\left(p_{1} \\right)}\\\\l_{1} \\sin{\\left(p_{1} \\right)} + l_{2} \\sin{\\left(p_{1} + p_{2} \\right)} + q_{3} \\sin{\\left(p_{1} \\right)}\\end{matrix}\\right]$"
      ],
      "text/plain": [
       "G4b := ⎡l₁⋅cos(p₁) + l₂⋅cos(p₁ + p₂) + q₁ + q₃⋅cos(p₁)⎤\n",
       "⎢                                              ⎥\n",
       "⎣  l₁⋅sin(p₁) + l₂⋅sin(p₁ + p₂) + q₃⋅sin(p₁)   ⎦"
      ]
     },
     "metadata": {},
     "output_type": "display_data"
    },
    {
     "data": {
      "text/plain": [
       "---"
      ]
     },
     "metadata": {},
     "output_type": "display_data"
    },
    {
     "data": {
      "text/latex": [
       "(Sd1, Sd2, Sd3) := $\\displaystyle \\left( \\left[\\begin{matrix}\\dot{q}_{1}\\\\0\\end{matrix}\\right], \\  \\left[\\begin{matrix}- l_{1} \\dot{p}_{1} \\sin{\\left(p_{1} \\right)} - \\dot{p}_{1} q_{3} \\sin{\\left(p_{1} \\right)} + \\dot{q}_{1} + \\dot{q}_{3} \\cos{\\left(p_{1} \\right)} + \\frac{s_{2} \\left(l_{1} \\dot{p}_{1} \\sin{\\left(p_{1} \\right)} - l_{3} \\dot{p}_{3} \\sin{\\left(p_{3} \\right)} + \\dot{p}_{1} q_{3} \\sin{\\left(p_{1} \\right)} - \\dot{p}_{3} q_{4} \\sin{\\left(p_{3} \\right)} - \\dot{q}_{1} + \\dot{q}_{2} - \\dot{q}_{3} \\cos{\\left(p_{1} \\right)} + \\dot{q}_{4} \\cos{\\left(p_{3} \\right)}\\right)}{l_{2}}\\\\l_{1} \\dot{p}_{1} \\cos{\\left(p_{1} \\right)} + \\dot{p}_{1} q_{3} \\cos{\\left(p_{1} \\right)} + \\dot{q}_{3} \\sin{\\left(p_{1} \\right)} + \\frac{s_{2} \\left(- l_{1} \\dot{p}_{1} \\cos{\\left(p_{1} \\right)} + l_{3} \\dot{p}_{3} \\cos{\\left(p_{3} \\right)} - \\dot{p}_{1} q_{3} \\cos{\\left(p_{1} \\right)} + \\dot{p}_{3} q_{4} \\cos{\\left(p_{3} \\right)} - \\dot{q}_{3} \\sin{\\left(p_{1} \\right)} + \\dot{q}_{4} \\sin{\\left(p_{3} \\right)}\\right)}{l_{2}}\\end{matrix}\\right], \\  \\left[\\begin{matrix}\\dot{q}_{2}\\\\0\\end{matrix}\\right]\\right)$"
      ],
      "text/plain": [
       "(Sd1, Sd2, Sd3) := ⎛      ⎡                                                   s₂⋅(l₁⋅ṗ₁⋅sin(p₁) \n",
       "⎜      ⎢-l₁⋅ṗ₁⋅sin(p₁) - ṗ₁⋅q₃⋅sin(p₁) + q̇₁ + q̇₃⋅cos(p₁) + ───────────────\n",
       "⎜⎡q̇₁⎤  ⎢                                                                     \n",
       "⎜⎢  ⎥, ⎢                                                                      \n",
       "⎜⎣0 ⎦  ⎢                                                    s₂⋅(-l₁⋅ṗ₁⋅cos(p₁\n",
       "⎜      ⎢       l₁⋅ṗ₁⋅cos(p₁) + ṗ₁⋅q₃⋅cos(p₁) + q̇₃⋅sin(p₁) + ───────────────\n",
       "⎝      ⎣                                                                      \n",
       "\n",
       "- l₃⋅ṗ₃⋅sin(p₃) + ṗ₁⋅q₃⋅sin(p₁) - ṗ₃⋅q₄⋅sin(p₃) - q̇₁ + q̇₂ - q̇₃⋅cos(p₁) +\n",
       "──────────────────────────────────────────────────────────────────────────────\n",
       "                                l₂                                            \n",
       "                                                                              \n",
       ") + l₃⋅ṗ₃⋅cos(p₃) - ṗ₁⋅q₃⋅cos(p₁) + ṗ₃⋅q₄⋅cos(p₃) - q̇₃⋅sin(p₁) + q̇₄⋅sin(p\n",
       "──────────────────────────────────────────────────────────────────────────────\n",
       "                            l₂                                                \n",
       "\n",
       " q̇₄⋅cos(p₃))⎤      ⎞\n",
       "─────────⎥      ⎟\n",
       "      ⎥  ⎡q̇₂⎤⎟\n",
       "     ⎥, ⎢  ⎥⎟\n",
       "₃))        ⎥  ⎣0 ⎦⎟\n",
       "        ⎥      ⎟\n",
       "     ⎦      ⎠"
      ]
     },
     "metadata": {},
     "output_type": "display_data"
    },
    {
     "data": {
      "text/plain": [
       "---"
      ]
     },
     "metadata": {},
     "output_type": "display_data"
    }
   ],
   "source": [
    "# unit vectors\n",
    "ex = sp.Matrix([1, 0])\n",
    "ey = sp.Matrix([0, 1])\n",
    "\n",
    "# basis 1 and 2 (cart positions)\n",
    "S1 = G1 = B1 = sp.Matrix([q1, 0]) ##:\n",
    "S3 = G6 = B2 = sp.Matrix([l0 + q2, 0]) ##:\n",
    "\n",
    "# joints 2 and 3 (load joints)\n",
    "G2 = G1 + Rz(p1)*ex*l1 ##:\n",
    "G3 = G2 + Rz(p1)*ex*q3 ##:\n",
    "\n",
    "# center of mass of load\n",
    "G5 = G6 + Rz(p3)*ex*l3 ##:\n",
    "G4 = G5 + Rz(p3)*ex*q4 ##:\n",
    "S2 = G3 + (G4-G3)*s2/l2 ##:\n",
    "\n",
    "# alternative route to G4 for constraints\n",
    "G4b = G3 + Rz(p1+p2)*ex*l2 ##:\n",
    "\n",
    "# Time derivatives of centers of masses\n",
    "Sd1, Sd2, Sd3 = st.col_split(st.time_deriv(st.col_stack(S1, S2, S3), ttheta)) ##:"
   ]
  },
  {
   "cell_type": "code",
   "execution_count": 6,
   "metadata": {},
   "outputs": [
    {
     "data": {
      "image/png": "[encoded data removed]",
      "text/latex": [
       "T := $\\displaystyle \\frac{J_{2} \\left(\\dot{p}_{1} + \\dot{p}_{2}\\right)^{2}}{2} + \\frac{m_{1} \\dot{q}_{1}^{2}}{2} + \\frac{m_{2} \\left(l_{1} \\dot{p}_{1} \\cos{\\left(p_{1} \\right)} + \\dot{p}_{1} q_{3} \\cos{\\left(p_{1} \\right)} + \\dot{q}_{3} \\sin{\\left(p_{1} \\right)} + \\frac{s_{2} \\left(- l_{1} \\dot{p}_{1} \\cos{\\left(p_{1} \\right)} + l_{3} \\dot{p}_{3} \\cos{\\left(p_{3} \\right)} - \\dot{p}_{1} q_{3} \\cos{\\left(p_{1} \\right)} + \\dot{p}_{3} q_{4} \\cos{\\left(p_{3} \\right)} - \\dot{q}_{3} \\sin{\\left(p_{1} \\right)} + \\dot{q}_{4} \\sin{\\left(p_{3} \\right)}\\right)}{l_{2}}\\right)^{2}}{2} + \\frac{m_{2} \\left(- l_{1} \\dot{p}_{1} \\sin{\\left(p_{1} \\right)} - \\dot{p}_{1} q_{3} \\sin{\\left(p_{1} \\right)} + \\dot{q}_{1} + \\dot{q}_{3} \\cos{\\left(p_{1} \\right)} + \\frac{s_{2} \\left(l_{1} \\dot{p}_{1} \\sin{\\left(p_{1} \\right)} - l_{3} \\dot{p}_{3} \\sin{\\left(p_{3} \\right)} + \\dot{p}_{1} q_{3} \\sin{\\left(p_{1} \\right)} - \\dot{p}_{3} q_{4} \\sin{\\left(p_{3} \\right)} - \\dot{q}_{1} + \\dot{q}_{2} - \\dot{q}_{3} \\cos{\\left(p_{1} \\right)} + \\dot{q}_{4} \\cos{\\left(p_{3} \\right)}\\right)}{l_{2}}\\right)^{2}}{2} + \\frac{m_{3} \\dot{q}_{2}^{2}}{2}$"
      ],
      "text/plain": [
       "T :=                                                                               \n",
       "                            ⎛                                             s₂⋅(\n",
       "            2        2   m₂⋅⎜l₁⋅ṗ₁⋅cos(p₁) + ṗ₁⋅q₃⋅cos(p₁) + q̇₃⋅sin(p₁) + ─\n",
       "J₂⋅(ṗ₁ + ṗ₂)    m₁⋅q̇₁       ⎝                                              \n",
       "───────────── + ────── + ─────────────────────────────────────────────────────\n",
       "      2           2                                                           \n",
       "\n",
       "                                                                              \n",
       "-l₁⋅ṗ₁⋅cos(p₁) + l₃⋅ṗ₃⋅cos(p₃) - ṗ₁⋅q₃⋅cos(p₁) + ṗ₃⋅q₄⋅cos(p₃) - q̇₃⋅sin(p\n",
       "──────────────────────────────────────────────────────────────────────────────\n",
       "                                             l₂                               \n",
       "──────────────────────────────────────────────────────────────────────────────\n",
       "                  2                                                           \n",
       "\n",
       "            2                                                                 \n",
       "₁) + q̇₄⋅sin(p₃))⎞       ⎛                                                   s\n",
       "──────────────⎟    m₂⋅⎜-l₁⋅ṗ₁⋅sin(p₁) - ṗ₁⋅q₃⋅sin(p₁) + q̇₁ + q̇₃⋅cos(p₁) + \n",
       "              ⎠       ⎝                                                       \n",
       "───────────── + ──────────────────────────────────────────────────────────────\n",
       "                                                                              \n",
       "\n",
       "                                                                              \n",
       "₂⋅(l₁⋅ṗ₁⋅sin(p₁) - l₃⋅ṗ₃⋅sin(p₃) + ṗ₁⋅q₃⋅sin(p₁) - ṗ₃⋅q₄⋅sin(p₃) - q̇₁ + q\n",
       "──────────────────────────────────────────────────────────────────────────────\n",
       "                                              l₂                              \n",
       "──────────────────────────────────────────────────────────────────────────────\n",
       "                 2                                                            \n",
       "\n",
       "                  2         \n",
       "̇₂ - q̇₃⋅cos(p₁) + q̇₄⋅cos(p₃))⎞          \n",
       "────────────────────────⎟         2\n",
       "                    ⎠    m₃⋅q̇₂ \n",
       "─────────────────── + ──────\n",
       "                        2   "
      ]
     },
     "metadata": {},
     "output_type": "display_data"
    },
    {
     "data": {
      "text/plain": [
       "---"
      ]
     },
     "metadata": {},
     "output_type": "display_data"
    },
    {
     "data": {
      "image/png": "[encoded data removed]",
      "text/latex": [
       "V := $\\displaystyle g m_{2} \\left(l_{1} \\sin{\\left(p_{1} \\right)} + l_{1} + q_{3} \\sin{\\left(p_{1} \\right)} + s_{2} + 0.3 + \\frac{s_{2} \\left(- l_{1} \\sin{\\left(p_{1} \\right)} + l_{3} \\sin{\\left(p_{3} \\right)} - q_{3} \\sin{\\left(p_{1} \\right)} + q_{4} \\sin{\\left(p_{3} \\right)}\\right)}{l_{2}}\\right)$"
      ],
      "text/plain": [
       "V :=      ⎛                                          s₂⋅(-l₁⋅sin(p₁) + l₃⋅sin(p₃) -\n",
       "g⋅m₂⋅⎜l₁⋅sin(p₁) + l₁ + q₃⋅sin(p₁) + s₂ + 0.3 + ──────────────────────────────\n",
       "     ⎝                                                                     l₂ \n",
       "\n",
       " q₃⋅sin(p₁) + q₄⋅sin(p₃))⎞\n",
       "─────────────────────────⎟\n",
       "                         ⎠"
      ]
     },
     "metadata": {},
     "output_type": "display_data"
    },
    {
     "data": {
      "text/plain": [
       "---"
      ]
     },
     "metadata": {},
     "output_type": "display_data"
    }
   ],
   "source": [
    "# kinetic energy\n",
    "T1 = (m1/2 * Sd1.T*Sd1)[0] \n",
    "T2 = (m2/2 * Sd2.T*Sd2)[0] + J2/2 * (pdot1+pdot2)**2\n",
    "T3 = (m3/2 * Sd3.T*Sd3)[0]\n",
    "\n",
    "T = T1 + T2 + T3 ##:\n",
    "\n",
    "# TODO: correct treatment for V ???\n",
    "# max length of rope\n",
    "q3max = 0.3\n",
    "# potential energy, for l1 <= l2\n",
    "V = m2*g*(l1+q3max + s2 + S2[1]) ##:"
   ]
  },
  {
   "cell_type": "code",
   "execution_count": 7,
   "metadata": {},
   "outputs": [],
   "source": [
    "import pickle\n",
    "\n",
    "# load model from pickle file instead of calculating it which takes a lot of time\n",
    "loading_model = 1\n",
    "\n",
    "if loading_model == 1:\n",
    "    with open(\"DAE_fully_actuated_crane.pcl\", \"rb\") as pfile:\n",
    "        mod = pickle.load(pfile)\n",
    "\n",
    "else:\n",
    "    # dissipation included here! -d1*qdot1, -d4*qdot2 should be in control input function later\n",
    "    external_forces = [0 , 0, 0, tau1, tau2, tau3, tau4]\n",
    "    \n",
    "    # model generation with Lagragian Mechanics\n",
    "    mod = mt.generate_symbolic_model(T, V, ttheta, external_forces, constraints=[G4 - G4b])\n",
    "    \n",
    "    # write the model to disk to save time in the next run of the notebook\n",
    "    with open(\"DAE_fully_actuated_crane.pcl\", \"wb\") as pfile:\n",
    "        pickle.dump(mod, pfile)"
   ]
  },
  {
   "cell_type": "code",
   "execution_count": 8,
   "metadata": {
    "scrolled": false
   },
   "outputs": [
    {
     "data": {
      "text/latex": [
       "$\\displaystyle \\left[\\begin{matrix}\\frac{g l_{2} m_{2} \\left(l_{1} + q_{3}\\right) \\left(l_{2} - s_{2}\\right) \\cos{\\left(p_{1} \\right)} + l_{2}^{2} \\left(J_{2} \\left(\\ddot{p}_{1} + \\ddot{p}_{2}\\right) - \\lambda_{1} \\left(l_{1} \\sin{\\left(p_{1} \\right)} + l_{2} \\sin{\\left(p_{1} + p_{2} \\right)} + q_{3} \\sin{\\left(p_{1} \\right)}\\right) + \\lambda_{2} \\left(l_{1} \\cos{\\left(p_{1} \\right)} + l_{2} \\cos{\\left(p_{1} + p_{2} \\right)} + q_{3} \\cos{\\left(p_{1} \\right)}\\right)\\right) + m_{2} \\left(l_{1} + q_{3}\\right) \\left(l_{2} - s_{2}\\right) \\left(l_{1} l_{2} \\ddot{p}_{1} - l_{1} \\ddot{p}_{1} s_{2} + l_{2} \\ddot{p}_{1} q_{3} + 2 l_{2} \\dot{p}_{1} \\dot{q}_{3} - l_{2} \\ddot{q}_{1} \\sin{\\left(p_{1} \\right)} + l_{3} \\ddot{p}_{3} s_{2} \\cos{\\left(p_{1} - p_{3} \\right)} + l_{3} \\dot{p}_{3}^{2} s_{2} \\sin{\\left(p_{1} - p_{3} \\right)} - \\ddot{p}_{1} q_{3} s_{2} + \\ddot{p}_{3} q_{4} s_{2} \\cos{\\left(p_{1} - p_{3} \\right)} - 2 \\dot{p}_{1} \\dot{q}_{3} s_{2} + \\dot{p}_{3}^{2} q_{4} s_{2} \\sin{\\left(p_{1} - p_{3} \\right)} + 2 \\dot{p}_{3} \\dot{q}_{4} s_{2} \\cos{\\left(p_{1} - p_{3} \\right)} + \\ddot{q}_{1} s_{2} \\sin{\\left(p_{1} \\right)} - \\ddot{q}_{2} s_{2} \\sin{\\left(p_{1} \\right)} - \\ddot{q}_{4} s_{2} \\sin{\\left(p_{1} - p_{3} \\right)}\\right)}{l_{2}^{2}}\\\\J_{2} \\left(\\ddot{p}_{1} + \\ddot{p}_{2}\\right) - l_{2} \\lambda_{1} \\sin{\\left(p_{1} + p_{2} \\right)} + l_{2} \\lambda_{2} \\cos{\\left(p_{1} + p_{2} \\right)}\\\\\\frac{\\left(l_{3} + q_{4}\\right) \\left(g l_{2} m_{2} s_{2} \\cos{\\left(p_{3} \\right)} + l_{2}^{2} \\left(\\lambda_{1} \\sin{\\left(p_{3} \\right)} - \\lambda_{2} \\cos{\\left(p_{3} \\right)}\\right) + m_{2} s_{2} \\left(l_{1} l_{2} \\ddot{p}_{1} \\cos{\\left(p_{1} - p_{3} \\right)} - l_{1} l_{2} \\dot{p}_{1}^{2} \\sin{\\left(p_{1} - p_{3} \\right)} - l_{1} \\ddot{p}_{1} s_{2} \\cos{\\left(p_{1} - p_{3} \\right)} + l_{1} \\dot{p}_{1}^{2} s_{2} \\sin{\\left(p_{1} - p_{3} \\right)} + l_{2} \\ddot{p}_{1} q_{3} \\cos{\\left(p_{1} - p_{3} \\right)} - l_{2} \\dot{p}_{1}^{2} q_{3} \\sin{\\left(p_{1} - p_{3} \\right)} + 2 l_{2} \\dot{p}_{1} \\dot{q}_{3} \\cos{\\left(p_{1} - p_{3} \\right)} - l_{2} \\ddot{q}_{1} \\sin{\\left(p_{3} \\right)} + l_{2} \\ddot{q}_{3} \\sin{\\left(p_{1} - p_{3} \\right)} + l_{3} \\ddot{p}_{3} s_{2} - \\ddot{p}_{1} q_{3} s_{2} \\cos{\\left(p_{1} - p_{3} \\right)} + \\ddot{p}_{3} q_{4} s_{2} + \\dot{p}_{1}^{2} q_{3} s_{2} \\sin{\\left(p_{1} - p_{3} \\right)} - 2 \\dot{p}_{1} \\dot{q}_{3} s_{2} \\cos{\\left(p_{1} - p_{3} \\right)} + 2 \\dot{p}_{3} \\dot{q}_{4} s_{2} + \\ddot{q}_{1} s_{2} \\sin{\\left(p_{3} \\right)} - \\ddot{q}_{2} s_{2} \\sin{\\left(p_{3} \\right)} - \\ddot{q}_{3} s_{2} \\sin{\\left(p_{1} - p_{3} \\right)}\\right)\\right)}{l_{2}^{2}}\\\\\\frac{l_{2}^{2} \\left(\\lambda_{1} + m_{1} \\ddot{q}_{1} - \\tau_{1}\\right) - m_{2} \\left(l_{2} - s_{2}\\right) \\left(l_{2} \\left(l_{1} \\ddot{p}_{1} \\sin{\\left(p_{1} \\right)} + l_{1} \\dot{p}_{1}^{2} \\cos{\\left(p_{1} \\right)} + \\ddot{p}_{1} q_{3} \\sin{\\left(p_{1} \\right)} + \\dot{p}_{1}^{2} q_{3} \\cos{\\left(p_{1} \\right)} + 2 \\dot{p}_{1} \\dot{q}_{3} \\sin{\\left(p_{1} \\right)} - \\ddot{q}_{1} - \\ddot{q}_{3} \\cos{\\left(p_{1} \\right)}\\right) - s_{2} \\left(l_{1} \\ddot{p}_{1} \\sin{\\left(p_{1} \\right)} + l_{1} \\dot{p}_{1}^{2} \\cos{\\left(p_{1} \\right)} - l_{3} \\ddot{p}_{3} \\sin{\\left(p_{3} \\right)} - l_{3} \\dot{p}_{3}^{2} \\cos{\\left(p_{3} \\right)} + \\ddot{p}_{1} q_{3} \\sin{\\left(p_{1} \\right)} - \\ddot{p}_{3} q_{4} \\sin{\\left(p_{3} \\right)} + \\dot{p}_{1}^{2} q_{3} \\cos{\\left(p_{1} \\right)} + 2 \\dot{p}_{1} \\dot{q}_{3} \\sin{\\left(p_{1} \\right)} - \\dot{p}_{3}^{2} q_{4} \\cos{\\left(p_{3} \\right)} - 2 \\dot{p}_{3} \\dot{q}_{4} \\sin{\\left(p_{3} \\right)} - \\ddot{q}_{1} + \\ddot{q}_{2} - \\ddot{q}_{3} \\cos{\\left(p_{1} \\right)} + \\ddot{q}_{4} \\cos{\\left(p_{3} \\right)}\\right)\\right)}{l_{2}^{2}}\\\\\\frac{l_{2}^{2} \\left(- \\lambda_{1} + m_{3} \\ddot{q}_{2} - \\tau_{2}\\right) - m_{2} s_{2} \\left(l_{2} \\left(l_{1} \\ddot{p}_{1} \\sin{\\left(p_{1} \\right)} + l_{1} \\dot{p}_{1}^{2} \\cos{\\left(p_{1} \\right)} + \\ddot{p}_{1} q_{3} \\sin{\\left(p_{1} \\right)} + \\dot{p}_{1}^{2} q_{3} \\cos{\\left(p_{1} \\right)} + 2 \\dot{p}_{1} \\dot{q}_{3} \\sin{\\left(p_{1} \\right)} - \\ddot{q}_{1} - \\ddot{q}_{3} \\cos{\\left(p_{1} \\right)}\\right) - s_{2} \\left(l_{1} \\ddot{p}_{1} \\sin{\\left(p_{1} \\right)} + l_{1} \\dot{p}_{1}^{2} \\cos{\\left(p_{1} \\right)} - l_{3} \\ddot{p}_{3} \\sin{\\left(p_{3} \\right)} - l_{3} \\dot{p}_{3}^{2} \\cos{\\left(p_{3} \\right)} + \\ddot{p}_{1} q_{3} \\sin{\\left(p_{1} \\right)} - \\ddot{p}_{3} q_{4} \\sin{\\left(p_{3} \\right)} + \\dot{p}_{1}^{2} q_{3} \\cos{\\left(p_{1} \\right)} + 2 \\dot{p}_{1} \\dot{q}_{3} \\sin{\\left(p_{1} \\right)} - \\dot{p}_{3}^{2} q_{4} \\cos{\\left(p_{3} \\right)} - 2 \\dot{p}_{3} \\dot{q}_{4} \\sin{\\left(p_{3} \\right)} - \\ddot{q}_{1} + \\ddot{q}_{2} - \\ddot{q}_{3} \\cos{\\left(p_{1} \\right)} + \\ddot{q}_{4} \\cos{\\left(p_{3} \\right)}\\right)\\right)}{l_{2}^{2}}\\\\\\frac{g l_{2} m_{2} \\left(l_{2} - s_{2}\\right) \\sin{\\left(p_{1} \\right)} + l_{2}^{2} \\left(\\lambda_{1} \\cos{\\left(p_{1} \\right)} + \\lambda_{2} \\sin{\\left(p_{1} \\right)} - \\tau_{3}\\right) + m_{2} \\left(l_{2} - s_{2}\\right) \\left(- l_{1} l_{2} \\dot{p}_{1}^{2} + l_{1} \\dot{p}_{1}^{2} s_{2} - l_{2} \\dot{p}_{1}^{2} q_{3} + l_{2} \\ddot{q}_{1} \\cos{\\left(p_{1} \\right)} + l_{2} \\ddot{q}_{3} + l_{3} \\ddot{p}_{3} s_{2} \\sin{\\left(p_{1} - p_{3} \\right)} - l_{3} \\dot{p}_{3}^{2} s_{2} \\cos{\\left(p_{1} - p_{3} \\right)} + \\ddot{p}_{3} q_{4} s_{2} \\sin{\\left(p_{1} - p_{3} \\right)} + \\dot{p}_{1}^{2} q_{3} s_{2} - \\dot{p}_{3}^{2} q_{4} s_{2} \\cos{\\left(p_{1} - p_{3} \\right)} + 2 \\dot{p}_{3} \\dot{q}_{4} s_{2} \\sin{\\left(p_{1} - p_{3} \\right)} - \\ddot{q}_{1} s_{2} \\cos{\\left(p_{1} \\right)} + \\ddot{q}_{2} s_{2} \\cos{\\left(p_{1} \\right)} - \\ddot{q}_{3} s_{2} + \\ddot{q}_{4} s_{2} \\cos{\\left(p_{1} - p_{3} \\right)}\\right)}{l_{2}^{2}}\\\\\\frac{g l_{2} m_{2} s_{2} \\sin{\\left(p_{3} \\right)} - l_{2}^{2} \\left(\\lambda_{1} \\cos{\\left(p_{3} \\right)} + \\lambda_{2} \\sin{\\left(p_{3} \\right)} + \\tau_{4}\\right) + m_{2} s_{2} \\left(- l_{1} l_{2} \\ddot{p}_{1} \\sin{\\left(p_{1} - p_{3} \\right)} - l_{1} l_{2} \\dot{p}_{1}^{2} \\cos{\\left(p_{1} - p_{3} \\right)} + l_{1} \\ddot{p}_{1} s_{2} \\sin{\\left(p_{1} - p_{3} \\right)} + l_{1} \\dot{p}_{1}^{2} s_{2} \\cos{\\left(p_{1} - p_{3} \\right)} - l_{2} \\ddot{p}_{1} q_{3} \\sin{\\left(p_{1} - p_{3} \\right)} - l_{2} \\dot{p}_{1}^{2} q_{3} \\cos{\\left(p_{1} - p_{3} \\right)} - 2 l_{2} \\dot{p}_{1} \\dot{q}_{3} \\sin{\\left(p_{1} - p_{3} \\right)} + l_{2} \\ddot{q}_{1} \\cos{\\left(p_{3} \\right)} + l_{2} \\ddot{q}_{3} \\cos{\\left(p_{1} - p_{3} \\right)} - l_{3} \\dot{p}_{3}^{2} s_{2} + \\ddot{p}_{1} q_{3} s_{2} \\sin{\\left(p_{1} - p_{3} \\right)} + \\dot{p}_{1}^{2} q_{3} s_{2} \\cos{\\left(p_{1} - p_{3} \\right)} + 2 \\dot{p}_{1} \\dot{q}_{3} s_{2} \\sin{\\left(p_{1} - p_{3} \\right)} - \\dot{p}_{3}^{2} q_{4} s_{2} - \\ddot{q}_{1} s_{2} \\cos{\\left(p_{3} \\right)} + \\ddot{q}_{2} s_{2} \\cos{\\left(p_{3} \\right)} - \\ddot{q}_{3} s_{2} \\cos{\\left(p_{1} - p_{3} \\right)} + \\ddot{q}_{4} s_{2}\\right)}{l_{2}^{2}}\\end{matrix}\\right]$"
      ],
      "text/plain": [
       "⎡                                        2                                    \n",
       "⎢g⋅l₂⋅m₂⋅(l₁ + q₃)⋅(l₂ - s₂)⋅cos(p₁) + l₂ ⋅(J₂⋅(p̈₁ + p̈₂) - λ₁⋅(l₁⋅sin(p₁) + \n",
       "⎢─────────────────────────────────────────────────────────────────────────────\n",
       "⎢                                                                             \n",
       "⎢                                                                             \n",
       "⎢                                                                             \n",
       "⎢                                                                             \n",
       "⎢                                                                             \n",
       "⎢          ⎛                       2                                   ⎛      \n",
       "⎢(l₃ + q₄)⋅⎝g⋅l₂⋅m₂⋅s₂⋅cos(p₃) + l₂ ⋅(λ₁⋅sin(p₃) - λ₂⋅cos(p₃)) + m₂⋅s₂⋅⎝l₁⋅l₂⋅\n",
       "⎢─────────────────────────────────────────────────────────────────────────────\n",
       "⎢                                                                             \n",
       "⎢                                                                             \n",
       "⎢                                                                             \n",
       "⎢                                               2                             \n",
       "⎢                                             l₂ ⋅(λ₁ + m₁⋅q̈₁ - τ₁) - m₂⋅(l₂ \n",
       "⎢                                             ────────────────────────────────\n",
       "⎢                                                                             \n",
       "⎢                                                                             \n",
       "⎢                                                                             \n",
       "⎢                                                  2                          \n",
       "⎢                                                l₂ ⋅(-λ₁ + m₃⋅q̈₂ - τ₂) - m₂⋅\n",
       "⎢                                                ─────────────────────────────\n",
       "⎢                                                                             \n",
       "⎢                                                                             \n",
       "⎢                                                                             \n",
       "⎢                                                                             \n",
       "⎢                                                     g⋅l₂⋅m₂⋅(l₂ - s₂)⋅sin(p₁\n",
       "⎢                                                     ────────────────────────\n",
       "⎢                                                                             \n",
       "⎢                                                                             \n",
       "⎢                                                                             \n",
       "⎢                           2                                        ⎛        \n",
       "⎢    g⋅l₂⋅m₂⋅s₂⋅sin(p₃) - l₂ ⋅(λ₁⋅cos(p₃) + λ₂⋅sin(p₃) + τ₄) + m₂⋅s₂⋅⎝-l₁⋅l₂⋅p\n",
       "⎢    ─────────────────────────────────────────────────────────────────────────\n",
       "⎢                                                                             \n",
       "⎣                                                                             \n",
       "\n",
       "                                                                              \n",
       "l₂⋅sin(p₁ + p₂) + q₃⋅sin(p₁)) + λ₂⋅(l₁⋅cos(p₁) + l₂⋅cos(p₁ + p₂) + q₃⋅cos(p₁))\n",
       "──────────────────────────────────────────────────────────────────────────────\n",
       "                                                                              \n",
       "                                                                              \n",
       "                                                                              \n",
       "                                                                              \n",
       "                                                                              \n",
       "                          2                                             2     \n",
       "p̈₁⋅cos(p₁ - p₃) - l₁⋅l₂⋅ṗ₁ ⋅sin(p₁ - p₃) - l₁⋅p̈₁⋅s₂⋅cos(p₁ - p₃) + l₁⋅ṗ₁ ⋅\n",
       "──────────────────────────────────────────────────────────────────────────────\n",
       "                                                                              \n",
       "                                                                              \n",
       "                                                                              \n",
       "     ⎛   ⎛                     2                             2                \n",
       "- s₂)⋅⎝l₂⋅⎝l₁⋅p̈₁⋅sin(p₁) + l₁⋅ṗ₁ ⋅cos(p₁) + p̈₁⋅q₃⋅sin(p₁) + ṗ₁ ⋅q₃⋅cos(p₁)\n",
       "──────────────────────────────────────────────────────────────────────────────\n",
       "                                                                              \n",
       "                                                                              \n",
       "                                                                              \n",
       "  ⎛   ⎛                     2                             2                   \n",
       "s₂⋅⎝l₂⋅⎝l₁⋅p̈₁⋅sin(p₁) + l₁⋅ṗ₁ ⋅cos(p₁) + p̈₁⋅q₃⋅sin(p₁) + ṗ₁ ⋅q₃⋅cos(p₁) + \n",
       "──────────────────────────────────────────────────────────────────────────────\n",
       "                                                                              \n",
       "                                                                              \n",
       "                                                                              \n",
       "      2                                               ⎛          2        2   \n",
       ") + l₂ ⋅(λ₁⋅cos(p₁) + λ₂⋅sin(p₁) - τ₃) + m₂⋅(l₂ - s₂)⋅⎝- l₁⋅l₂⋅ṗ₁  + l₁⋅ṗ₁ ⋅\n",
       "──────────────────────────────────────────────────────────────────────────────\n",
       "                                                                              \n",
       "                                                                              \n",
       "                                                                              \n",
       "                         2                                             2      \n",
       "̈₁⋅sin(p₁ - p₃) - l₁⋅l₂⋅ṗ₁ ⋅cos(p₁ - p₃) + l₁⋅p̈₁⋅s₂⋅sin(p₁ - p₃) + l₁⋅ṗ₁ ⋅s\n",
       "──────────────────────────────────────────────────────────────────────────────\n",
       "                                                                              \n",
       "                                                                              \n",
       "\n",
       "                         ⎛                                                    \n",
       ") + m₂⋅(l₁ + q₃)⋅(l₂ - s₂)⋅⎝l₁⋅l₂⋅p̈₁ - l₁⋅p̈₁⋅s₂ + l₂⋅p̈₁⋅q₃ + 2⋅l₂⋅ṗ₁⋅q̇₃ -\n",
       "──────────────────────────────────────────────────────────────────────────────\n",
       "                                                                  2           \n",
       "                                                                l₂            \n",
       "                                                                              \n",
       "                                       J₂⋅(p̈₁ + p̈₂) - l₂⋅λ₁⋅sin(p₁ + p₂) + l\n",
       "                                                                              \n",
       "                                           2                                  \n",
       "s₂⋅sin(p₁ - p₃) + l₂⋅p̈₁⋅q₃⋅cos(p₁ - p₃) - l₂⋅ṗ₁ ⋅q₃⋅sin(p₁ - p₃) + 2⋅l₂⋅ṗ₁⋅\n",
       "──────────────────────────────────────────────────────────────────────────────\n",
       "                                                                   2          \n",
       "                                                                 l₂           \n",
       "                                                                              \n",
       "                               ⎞      ⎛                     2                 \n",
       " + 2⋅ṗ₁⋅q̇₃⋅sin(p₁) - q̈₁ - q̈₃⋅cos(p₁)⎠ - s₂⋅⎝l₁⋅p̈₁⋅sin(p₁) + l₁⋅ṗ₁ ⋅cos(p\n",
       "──────────────────────────────────────────────────────────────────────────────\n",
       "                                                                  2           \n",
       "                                                                l₂            \n",
       "                                                                              \n",
       "                            ⎞      ⎛                     2                    \n",
       "2⋅ṗ₁⋅q̇₃⋅sin(p₁) - q̈₁ - q̈₃⋅cos(p₁)⎠ - s₂⋅⎝l₁⋅p̈₁⋅sin(p₁) + l₁⋅ṗ₁ ⋅cos(p₁) \n",
       "──────────────────────────────────────────────────────────────────────────────\n",
       "                                                                  2           \n",
       "                                                                l₂            \n",
       "                                                                              \n",
       "        2                                                           2         \n",
       "s₂ - l₂⋅ṗ₁ ⋅q₃ + l₂⋅q̈₁⋅cos(p₁) + l₂⋅q̈₃ + l₃⋅p̈₃⋅s₂⋅sin(p₁ - p₃) - l₃⋅ṗ₃ ⋅s\n",
       "──────────────────────────────────────────────────────────────────────────────\n",
       "                                                                  2           \n",
       "                                                                l₂            \n",
       "                                                                              \n",
       "                                          2                                   \n",
       "₂⋅cos(p₁ - p₃) - l₂⋅p̈₁⋅q₃⋅sin(p₁ - p₃) - l₂⋅ṗ₁ ⋅q₃⋅cos(p₁ - p₃) - 2⋅l₂⋅ṗ₁⋅q\n",
       "──────────────────────────────────────────────────────────────────────────────\n",
       "                                                                  2           \n",
       "                                                                l₂            \n",
       "\n",
       "                                       2                                      \n",
       " l₂⋅q̈₁⋅sin(p₁) + l₃⋅p̈₃⋅s₂⋅cos(p₁ - p₃) + l₃⋅ṗ₃ ⋅s₂⋅sin(p₁ - p₃) - p̈₁⋅q₃⋅s₂\n",
       "──────────────────────────────────────────────────────────────────────────────\n",
       "                                                                              \n",
       "                                                                              \n",
       "                                                                              \n",
       "₂⋅λ₂⋅cos(p₁ + p₂)                                                             \n",
       "                                                                              \n",
       "                                                                              \n",
       "q̇₃⋅cos(p₁ - p₃) - l₂⋅q̈₁⋅sin(p₃) + l₂⋅q̈₃⋅sin(p₁ - p₃) + l₃⋅p̈₃⋅s₂ - p̈₁⋅q₃⋅s\n",
       "──────────────────────────────────────────────────────────────────────────────\n",
       "                                                                              \n",
       "                                                                              \n",
       "                                                                              \n",
       "               2                                             2                \n",
       "₁) - l₃⋅p̈₃⋅sin(p₃) - l₃⋅ṗ₃ ⋅cos(p₃) + p̈₁⋅q₃⋅sin(p₁) - p̈₃⋅q₄⋅sin(p₃) + ṗ₁ \n",
       "──────────────────────────────────────────────────────────────────────────────\n",
       "                                                                              \n",
       "                                                                              \n",
       "                                                                              \n",
       "            2                                             2                   \n",
       "- l₃⋅p̈₃⋅sin(p₃) - l₃⋅ṗ₃ ⋅cos(p₃) + p̈₁⋅q₃⋅sin(p₁) - p̈₃⋅q₄⋅sin(p₃) + ṗ₁ ⋅q₃\n",
       "──────────────────────────────────────────────────────────────────────────────\n",
       "                                                                              \n",
       "                                                                              \n",
       "                                                                              \n",
       "                                    2           2                             \n",
       "₂⋅cos(p₁ - p₃) + p̈₃⋅q₄⋅s₂⋅sin(p₁ - p₃) + ṗ₁ ⋅q₃⋅s₂ - ṗ₃ ⋅q₄⋅s₂⋅cos(p₁ - p₃)\n",
       "──────────────────────────────────────────────────────────────────────────────\n",
       "                                                                              \n",
       "                                                                              \n",
       "                                                                              \n",
       "                                                    2                         \n",
       "̇₃⋅sin(p₁ - p₃) + l₂⋅q̈₁⋅cos(p₃) + l₂⋅q̈₃⋅cos(p₁ - p₃) - l₃⋅ṗ₃ ⋅s₂ + p̈₁⋅q₃⋅s\n",
       "──────────────────────────────────────────────────────────────────────────────\n",
       "                                                                              \n",
       "                                                                              \n",
       "\n",
       "                               2                                              \n",
       " + p̈₃⋅q₄⋅s₂⋅cos(p₁ - p₃) - 2⋅ṗ₁⋅q̇₃⋅s₂ + ṗ₃ ⋅q₄⋅s₂⋅sin(p₁ - p₃) + 2⋅ṗ₃⋅q̇₄\n",
       "──────────────────────────────────────────────────────────────────────────────\n",
       "                                                                              \n",
       "                                                                              \n",
       "                                                                              \n",
       "                                                                              \n",
       "                                                                              \n",
       "                  2                                                           \n",
       "₂⋅cos(p₁ - p₃) + p̈₃⋅q₄⋅s₂ + ṗ₁ ⋅q₃⋅s₂⋅sin(p₁ - p₃) - 2⋅ṗ₁⋅q̇₃⋅s₂⋅cos(p₁ - p\n",
       "──────────────────────────────────────────────────────────────────────────────\n",
       "                                                                              \n",
       "                                                                              \n",
       "                                                                              \n",
       "                  2                                                           \n",
       "⋅q₃⋅cos(p₁) + 2⋅ṗ₁⋅q̇₃⋅sin(p₁) - ṗ₃ ⋅q₄⋅cos(p₃) - 2⋅ṗ₃⋅q̇₄⋅sin(p₃) - q̈₁ + \n",
       "──────────────────────────────────────────────────────────────────────────────\n",
       "                                                                              \n",
       "                                                                              \n",
       "                                                                              \n",
       "               2                                                              \n",
       "⋅cos(p₁) + 2⋅ṗ₁⋅q̇₃⋅sin(p₁) - ṗ₃ ⋅q₄⋅cos(p₃) - 2⋅ṗ₃⋅q̇₄⋅sin(p₃) - q̈₁ + q̈₂\n",
       "──────────────────────────────────────────────────────────────────────────────\n",
       "                                                                              \n",
       "                                                                              \n",
       "                                                                              \n",
       "                                                                             ⎞\n",
       " + 2⋅ṗ₃⋅q̇₄⋅s₂⋅sin(p₁ - p₃) - q̈₁⋅s₂⋅cos(p₁) + q̈₂⋅s₂⋅cos(p₁) - q̈₃⋅s₂ + q̈₄⋅\n",
       "──────────────────────────────────────────────────────────────────────────────\n",
       "                                                                              \n",
       "                                                                              \n",
       "                                                                              \n",
       "       2                                                  2                   \n",
       "₂⋅sin(p₁ - p₃) + ṗ₁ ⋅q₃⋅s₂⋅cos(p₁ - p₃) + 2⋅ṗ₁⋅q̇₃⋅s₂⋅sin(p₁ - p₃) - ṗ₃ ⋅q₄\n",
       "──────────────────────────────────────────────────────────────────────────────\n",
       "                                                                              \n",
       "                                                                              \n",
       "\n",
       "                                                    ⎞ ⎤\n",
       "⋅s₂⋅cos(p₁ - p₃) + q̈₁⋅s₂⋅sin(p₁) - q̈₂⋅s₂⋅sin(p₁) - q̈₄⋅s₂⋅sin(p₁ - p₃)⎠ ⎥\n",
       "───────────────────────────────────────────────────── ⎥\n",
       "                                                      ⎥\n",
       "                                                      ⎥\n",
       "                                                      ⎥\n",
       "                                                        ⎥\n",
       "                                                      ⎥\n",
       "                                                    ⎞⎞⎥\n",
       "₃) + 2⋅ṗ₃⋅q̇₄⋅s₂ + q̈₁⋅s₂⋅sin(p₃) - q̈₂⋅s₂⋅sin(p₃) - q̈₃⋅s₂⋅sin(p₁ - p₃)⎠⎠⎥\n",
       "──────────────────────────────────────────────────────⎥\n",
       "                                                      ⎥\n",
       "                                                      ⎥\n",
       "                                                      ⎥\n",
       "      ⎞⎞                                              ⎥\n",
       "q̈₂ - q̈₃⋅cos(p₁) + q̈₄⋅cos(p₃)⎠⎠                                             \n",
       "────────                                              ⎥\n",
       "                                                      ⎥\n",
       "                                                      ⎥\n",
       "                                                      ⎥\n",
       "   ⎞⎞                                                 ⎥\n",
       " - q̈₃⋅cos(p₁) + q̈₄⋅cos(p₃)⎠⎠                                                \n",
       "─────                                                 ⎥\n",
       "                                                      ⎥\n",
       "                                                      ⎥\n",
       "                                                      ⎥\n",
       "                                                      ⎥\n",
       "s₂⋅cos(p₁ - p₃)⎠                                                      ⎥\n",
       "                                                      ⎥\n",
       "                                                      ⎥\n",
       "                                                      ⎥\n",
       "                                                      ⎥\n",
       "                                                ⎞     ⎥\n",
       "⋅s₂ - q̈₁⋅s₂⋅cos(p₃) + q̈₂⋅s₂⋅cos(p₃) - q̈₃⋅s₂⋅cos(p₁ - p₃) + q̈₄⋅s₂⎠     ⎥\n",
       "─────────────────────────────────────────────────     ⎥\n",
       "                                                      ⎥\n",
       "                                                      ⎦"
      ]
     },
     "execution_count": 8,
     "metadata": {},
     "output_type": "execute_result"
    }
   ],
   "source": [
    "# implicit(=0) system equations \n",
    "mod.eqns"
   ]
  },
  {
   "cell_type": "code",
   "execution_count": 9,
   "metadata": {},
   "outputs": [
    {
     "data": {
      "text/latex": [
       "$\\displaystyle \\left[\\begin{matrix}\\tau_{1}\\\\\\tau_{2}\\\\\\tau_{3}\\\\\\tau_{4}\\end{matrix}\\right]$"
      ],
      "text/plain": [
       "⎡τ₁⎤\n",
       "⎢  ⎥\n",
       "⎢τ₂⎥\n",
       "⎢  ⎥\n",
       "⎢τ₃⎥\n",
       "⎢  ⎥\n",
       "⎣τ₄⎦"
      ]
     },
     "execution_count": 9,
     "metadata": {},
     "output_type": "execute_result"
    }
   ],
   "source": [
    "mod.tau"
   ]
  },
  {
   "cell_type": "code",
   "execution_count": 10,
   "metadata": {
    "scrolled": true
   },
   "outputs": [
    {
     "data": {
      "text/latex": [
       "$\\displaystyle \\left[\\begin{matrix}0 & 0 & 0 & 0\\\\0 & 0 & 0 & 0\\\\0 & 0 & 0 & 0\\\\-1 & 0 & 0 & 0\\\\0 & -1 & 0 & 0\\\\0 & 0 & -1 & 0\\\\0 & 0 & 0 & -1\\end{matrix}\\right]$"
      ],
      "text/plain": [
       "⎡0   0   0   0 ⎤\n",
       "⎢              ⎥\n",
       "⎢0   0   0   0 ⎥\n",
       "⎢              ⎥\n",
       "⎢0   0   0   0 ⎥\n",
       "⎢              ⎥\n",
       "⎢-1  0   0   0 ⎥\n",
       "⎢              ⎥\n",
       "⎢0   -1  0   0 ⎥\n",
       "⎢              ⎥\n",
       "⎢0   0   -1  0 ⎥\n",
       "⎢              ⎥\n",
       "⎣0   0   0   -1⎦"
      ]
     },
     "execution_count": 10,
     "metadata": {},
     "output_type": "execute_result"
    }
   ],
   "source": [
    "mod.eqns.jacobian(mod.tau)"
   ]
  },
  {
   "cell_type": "code",
   "execution_count": 11,
   "metadata": {},
   "outputs": [
    {
     "data": {
      "image/png": "[encoded data removed]",
      "text/latex": [
       "$\\displaystyle \\left[ \\frac{g l_{2} m_{2} \\left(l_{1} + q_{3}\\right) \\left(l_{2} - s_{2}\\right) \\cos{\\left(p_{1} \\right)} + l_{2}^{2} \\left(J_{2} \\left(\\ddot{p}_{1} + \\ddot{p}_{2}\\right) - \\lambda_{1} \\left(l_{1} \\sin{\\left(p_{1} \\right)} + l_{2} \\sin{\\left(p_{1} + p_{2} \\right)} + q_{3} \\sin{\\left(p_{1} \\right)}\\right) + \\lambda_{2} \\left(l_{1} \\cos{\\left(p_{1} \\right)} + l_{2} \\cos{\\left(p_{1} + p_{2} \\right)} + q_{3} \\cos{\\left(p_{1} \\right)}\\right)\\right) + m_{2} \\left(l_{1} + q_{3}\\right) \\left(l_{2} - s_{2}\\right) \\left(l_{1} l_{2} \\ddot{p}_{1} - l_{1} \\ddot{p}_{1} s_{2} + l_{2} \\ddot{p}_{1} q_{3} + 2 l_{2} \\dot{p}_{1} \\dot{q}_{3} - l_{2} \\ddot{q}_{1} \\sin{\\left(p_{1} \\right)} + l_{3} \\ddot{p}_{3} s_{2} \\cos{\\left(p_{1} - p_{3} \\right)} + l_{3} \\dot{p}_{3}^{2} s_{2} \\sin{\\left(p_{1} - p_{3} \\right)} - \\ddot{p}_{1} q_{3} s_{2} + \\ddot{p}_{3} q_{4} s_{2} \\cos{\\left(p_{1} - p_{3} \\right)} - 2 \\dot{p}_{1} \\dot{q}_{3} s_{2} + \\dot{p}_{3}^{2} q_{4} s_{2} \\sin{\\left(p_{1} - p_{3} \\right)} + 2 \\dot{p}_{3} \\dot{q}_{4} s_{2} \\cos{\\left(p_{1} - p_{3} \\right)} + \\ddot{q}_{1} s_{2} \\sin{\\left(p_{1} \\right)} - \\ddot{q}_{2} s_{2} \\sin{\\left(p_{1} \\right)} - \\ddot{q}_{4} s_{2} \\sin{\\left(p_{1} - p_{3} \\right)}\\right)}{l_{2}^{2}}, \\  J_{2} \\left(\\ddot{p}_{1} + \\ddot{p}_{2}\\right) - l_{2} \\lambda_{1} \\sin{\\left(p_{1} + p_{2} \\right)} + l_{2} \\lambda_{2} \\cos{\\left(p_{1} + p_{2} \\right)}, \\  \\frac{\\left(l_{3} + q_{4}\\right) \\left(g l_{2} m_{2} s_{2} \\cos{\\left(p_{3} \\right)} + l_{2}^{2} \\left(\\lambda_{1} \\sin{\\left(p_{3} \\right)} - \\lambda_{2} \\cos{\\left(p_{3} \\right)}\\right) + m_{2} s_{2} \\left(l_{1} l_{2} \\ddot{p}_{1} \\cos{\\left(p_{1} - p_{3} \\right)} - l_{1} l_{2} \\dot{p}_{1}^{2} \\sin{\\left(p_{1} - p_{3} \\right)} - l_{1} \\ddot{p}_{1} s_{2} \\cos{\\left(p_{1} - p_{3} \\right)} + l_{1} \\dot{p}_{1}^{2} s_{2} \\sin{\\left(p_{1} - p_{3} \\right)} + l_{2} \\ddot{p}_{1} q_{3} \\cos{\\left(p_{1} - p_{3} \\right)} - l_{2} \\dot{p}_{1}^{2} q_{3} \\sin{\\left(p_{1} - p_{3} \\right)} + 2 l_{2} \\dot{p}_{1} \\dot{q}_{3} \\cos{\\left(p_{1} - p_{3} \\right)} - l_{2} \\ddot{q}_{1} \\sin{\\left(p_{3} \\right)} + l_{2} \\ddot{q}_{3} \\sin{\\left(p_{1} - p_{3} \\right)} + l_{3} \\ddot{p}_{3} s_{2} - \\ddot{p}_{1} q_{3} s_{2} \\cos{\\left(p_{1} - p_{3} \\right)} + \\ddot{p}_{3} q_{4} s_{2} + \\dot{p}_{1}^{2} q_{3} s_{2} \\sin{\\left(p_{1} - p_{3} \\right)} - 2 \\dot{p}_{1} \\dot{q}_{3} s_{2} \\cos{\\left(p_{1} - p_{3} \\right)} + 2 \\dot{p}_{3} \\dot{q}_{4} s_{2} + \\ddot{q}_{1} s_{2} \\sin{\\left(p_{3} \\right)} - \\ddot{q}_{2} s_{2} \\sin{\\left(p_{3} \\right)} - \\ddot{q}_{3} s_{2} \\sin{\\left(p_{1} - p_{3} \\right)}\\right)\\right)}{l_{2}^{2}}\\right]$"
      ],
      "text/plain": [
       "⎡                                        2                                    \n",
       "⎢g⋅l₂⋅m₂⋅(l₁ + q₃)⋅(l₂ - s₂)⋅cos(p₁) + l₂ ⋅(J₂⋅(p̈₁ + p̈₂) - λ₁⋅(l₁⋅sin(p₁) + \n",
       "⎢─────────────────────────────────────────────────────────────────────────────\n",
       "⎢                                                                             \n",
       "⎣                                                                             \n",
       "\n",
       "                                                                              \n",
       "l₂⋅sin(p₁ + p₂) + q₃⋅sin(p₁)) + λ₂⋅(l₁⋅cos(p₁) + l₂⋅cos(p₁ + p₂) + q₃⋅cos(p₁))\n",
       "──────────────────────────────────────────────────────────────────────────────\n",
       "                                                                              \n",
       "                                                                              \n",
       "\n",
       "                         ⎛                                                    \n",
       ") + m₂⋅(l₁ + q₃)⋅(l₂ - s₂)⋅⎝l₁⋅l₂⋅p̈₁ - l₁⋅p̈₁⋅s₂ + l₂⋅p̈₁⋅q₃ + 2⋅l₂⋅ṗ₁⋅q̇₃ -\n",
       "──────────────────────────────────────────────────────────────────────────────\n",
       "                                                                  2           \n",
       "                                                                l₂            \n",
       "\n",
       "                                       2                                      \n",
       " l₂⋅q̈₁⋅sin(p₁) + l₃⋅p̈₃⋅s₂⋅cos(p₁ - p₃) + l₃⋅ṗ₃ ⋅s₂⋅sin(p₁ - p₃) - p̈₁⋅q₃⋅s₂\n",
       "──────────────────────────────────────────────────────────────────────────────\n",
       "                                                                              \n",
       "                                                                              \n",
       "\n",
       "                               2                                              \n",
       " + p̈₃⋅q₄⋅s₂⋅cos(p₁ - p₃) - 2⋅ṗ₁⋅q̇₃⋅s₂ + ṗ₃ ⋅q₄⋅s₂⋅sin(p₁ - p₃) + 2⋅ṗ₃⋅q̇₄\n",
       "──────────────────────────────────────────────────────────────────────────────\n",
       "                                                                              \n",
       "                                                                              \n",
       "\n",
       "                                                    ⎞                         \n",
       "⋅s₂⋅cos(p₁ - p₃) + q̈₁⋅s₂⋅sin(p₁) - q̈₂⋅s₂⋅sin(p₁) - q̈₄⋅s₂⋅sin(p₁ - p₃)⎠     \n",
       "─────────────────────────────────────────────────────, J₂⋅(p̈₁ + p̈₂) - l₂⋅λ₁⋅\n",
       "                                                                              \n",
       "                                                                              \n",
       "\n",
       "                                           ⎛                       2          \n",
       "                                                     (l₃ + q₄)⋅⎝g⋅l₂⋅m₂⋅s₂⋅cos\n",
       "sin(p₁ + p₂) + l₂⋅λ₂⋅cos(p₁ + p₂), ───────────────────────────────────────────\n",
       "                                                                              \n",
       "                                                                              \n",
       "\n",
       "                         ⎛                                2                   \n",
       "(p₃) + l₂ ⋅(λ₁⋅sin(p₃) - λ₂⋅cos(p₃)) + m₂⋅s₂⋅⎝l₁⋅l₂⋅p̈₁⋅cos(p₁ - p₃) - l₁⋅l₂⋅p\n",
       "──────────────────────────────────────────────────────────────────────────────\n",
       "                                                                              \n",
       "                                                                              \n",
       "\n",
       "                          2                                                2  \n",
       "̇₁ ⋅sin(p₁ - p₃) - l₁⋅p̈₁⋅s₂⋅cos(p₁ - p₃) + l₁⋅ṗ₁ ⋅s₂⋅sin(p₁ - p₃) + l₂⋅p̈₁⋅q\n",
       "──────────────────────────────────────────────────────────────────────────────\n",
       "                                                                              \n",
       "                                                                              \n",
       "\n",
       "                                                                              \n",
       "₃⋅cos(p₁ - p₃) - l₂⋅ṗ₁ ⋅q₃⋅sin(p₁ - p₃) + 2⋅l₂⋅ṗ₁⋅q̇₃⋅cos(p₁ - p₃) - l₂⋅q̈₁⋅\n",
       "──────────────────────────────────────────────────────────────────────────────\n",
       "                     2                                                        \n",
       "                   l₂                                                         \n",
       "\n",
       "                                                  2                           \n",
       "sin(p₃) + l₂⋅q̈₃⋅sin(p₁ - p₃) + l₃⋅p̈₃⋅s₂ - p̈₁⋅q₃⋅s₂⋅cos(p₁ - p₃) + p̈₃⋅q₄⋅s₂\n",
       "──────────────────────────────────────────────────────────────────────────────\n",
       "                                                                              \n",
       "                                                                              \n",
       "\n",
       "                                                                              \n",
       " + ṗ₁ ⋅q₃⋅s₂⋅sin(p₁ - p₃) - 2⋅ṗ₁⋅q̇₃⋅s₂⋅cos(p₁ - p₃) + 2⋅ṗ₃⋅q̇₄⋅s₂ + q̈₁⋅s₂\n",
       "──────────────────────────────────────────────────────────────────────────────\n",
       "                                                                              \n",
       "                                                                              \n",
       "\n",
       "      ⎞⎞⎤\n",
       "⋅sin(p₃) - q̈₂⋅s₂⋅sin(p₃) - q̈₃⋅s₂⋅sin(p₁ - p₃)⎠⎠⎥\n",
       "──────────⎥\n",
       "        ⎥\n",
       "        ⎦"
      ]
     },
     "execution_count": 11,
     "metadata": {},
     "output_type": "execute_result"
    }
   ],
   "source": [
    "mod.eqns[0:3]"
   ]
  },
  {
   "cell_type": "markdown",
   "metadata": {},
   "source": [
    "### Creation of DAE System"
   ]
  },
  {
   "cell_type": "code",
   "execution_count": 12,
   "metadata": {
    "scrolled": false
   },
   "outputs": [
    {
     "data": {
      "text/plain": [
       "parameter_values := [('s2', 0.15),\n",
       " ('m1', 0.45),\n",
       " ('m2', 0.557),\n",
       " ('m3', 0.45),\n",
       " ('J2', 0.000221),\n",
       " ('mc1b', 39),\n",
       " ('mc2b', 36.3),\n",
       " ('d1', 9.76),\n",
       " ('d4', 11.2),\n",
       " ('l0', 0.5),\n",
       " ('l1', 0.4),\n",
       " ('l2', 0.3),\n",
       " ('l3', 0.4),\n",
       " ('g', 9.81)]"
      ]
     },
     "metadata": {},
     "output_type": "display_data"
    },
    {
     "data": {
      "text/plain": [
       "---"
      ]
     },
     "metadata": {},
     "output_type": "display_data"
    }
   ],
   "source": [
    "parameter_values = list(dict(s2=0.15, m1=0.45, m2=0.557, m3=0.45, J2=0.000221, mc1b=39, mc2b=36.3, d1=9.76, d4=11.2, l0=0.5, l1=0.4, l2=0.3, l3=0.4, g=9.81).items()) ##:\n",
    "# tbd: J2, d1, d4"
   ]
  },
  {
   "cell_type": "markdown",
   "metadata": {},
   "source": [
    "#### Visualization of kinematics for debugging and placement of initial values"
   ]
  },
  {
   "cell_type": "code",
   "execution_count": null,
   "metadata": {},
   "outputs": [],
   "source": [
    "# matrix of joints\n",
    "joints = sp.Matrix.hstack(G1, G2, G3, G4, G5, G6) ##:\n",
    "joints = joints.subs(parameter_values)\n",
    "# constraints equations (implicit) as vector\n",
    "constraints = mod.constraints ##:\n",
    "constraints = constraints.subs(parameter_values) ##:\n",
    "\n",
    "# numerical functions for joints and constraints\n",
    "constraints_func = sp.lambdify(ttheta, constraints, modules=\"numpy\")\n",
    "joints_func = sp.lambdify(ttheta, joints, modules=\"numpy\")\n",
    "\n",
    "# cost function of constraints, theta_var: variable coordinates to be optimized, theta_const: constant coordinate (manipulated by slider later)\n",
    "def constraint_cost(theta_var, theta_const):\n",
    "    err = constraints_func(theta_const[0], *theta_var, theta_const[1], theta_const[2], theta_const[3], theta_const[4])\n",
    "    return err[0]**2 +err[1]**2 # squared error"
   ]
  },
  {
   "cell_type": "code",
   "execution_count": 14,
   "metadata": {
    "code_folding": [],
    "scrolled": false
   },
   "outputs": [
    {
     "data": {
      "application/vnd.jupyter.widget-view+json": {
       "model_id": "d2e067c408094dc18e18dfe2414940e5",
       "version_major": 2,
       "version_minor": 0
      },
      "text/plain": [
       "interactive(children=(FloatSlider(value=5.1, description='p1', max=5.6, min=4.6), FloatSlider(value=0.0, descr…"
      ]
     },
     "metadata": {},
     "output_type": "display_data"
    }
   ],
   "source": [
    "%matplotlib inline\n",
    "\n",
    "init_theta = []\n",
    "\n",
    "from ipywidgets import interact\n",
    "@interact(p1=(4.6, 5.6, .1), q1=(-1, 1, .1), q2=(-1, 1, .1), q3=(0, 0.3, .1), q4=(0, 0.3, .1))\n",
    "def plot_func(p1, q1, q2, q3, q4):\n",
    "    res = fmin(constraint_cost, x0=[0, 0], args=([p1, q1, q2, q3, q4],), disp=0, ftol=1e-15)\n",
    "\n",
    "    # dependent coordinates\n",
    "    p2, p3 = res\n",
    "    jc = joint_coords = joints_func(p1, p2, p3, q1, q2, q3, q4)\n",
    "\n",
    "    plt.plot(jc[0, :], jc[1, :], \"ok\", ms=7)\n",
    "    plt.plot(jc[0, :], jc[1, :], \"b-\")\n",
    "    plt.axis(\"equal\")\n",
    "    plt.axis([-0.5, 1.4, -1.5, 0.5])\n",
    "    \n",
    "    init_theta[:] = [p1, p2, p3, q1, q2, q3, q4]\n",
    "    const_err = constraints_func(*init_theta)\n",
    "    \n",
    "    str_coords = ( f'Initial Values:\\n'\n",
    "                   f'p1: {p1}\\n'\n",
    "                   f'p2: {p2}\\n'\n",
    "                   f'p3: {p3}\\n'\n",
    "                   f'q1: {q1}\\n'\n",
    "                   f'q2: {q2}\\n'\n",
    "                   f'q3: {q3}\\n'\n",
    "                   f'q4: {q4}\\n'\n",
    "                   f'error of constraints: \\n {const_err} \\n')\n",
    "    print(str_coords)"
   ]
  },
  {
   "cell_type": "markdown",
   "metadata": {},
   "source": [
    "#### DAE system for simulation"
   ]
  },
  {
   "cell_type": "code",
   "execution_count": 15,
   "metadata": {},
   "outputs": [],
   "source": [
    "# generate numerical DAE system from implicit system equations\n",
    "dae = mod.calc_dae_eq(parameter_values)\n",
    "dae.generate_eqns_funcs()"
   ]
  },
  {
   "cell_type": "code",
   "execution_count": 16,
   "metadata": {},
   "outputs": [
    {
     "data": {
      "image/png": "[encoded data removed]",
      "text/latex": [
       "$\\displaystyle 5$"
      ],
      "text/plain": [
       "5"
      ]
     },
     "execution_count": 16,
     "metadata": {},
     "output_type": "execute_result"
    }
   ],
   "source": [
    "# degrees of freedom of DAE system\n",
    "dae.ndof"
   ]
  },
  {
   "cell_type": "code",
   "execution_count": 17,
   "metadata": {},
   "outputs": [
    {
     "data": {
      "text/latex": [
       "(dae.yy).T := $\\displaystyle \\left[\\begin{array}{cccccccccccccccc}p_{1} & p_{2} & p_{3} & q_{1} & q_{2} & q_{3} & q_{4} & \\dot{p}_{1} & \\dot{p}_{2} & \\dot{p}_{3} & \\dot{q}_{1} & \\dot{q}_{2} & \\dot{q}_{3} & \\dot{q}_{4} & \\lambda_{1} & \\lambda_{2}\\end{array}\\right]$"
      ],
      "text/plain": [
       "(dae.yy).T := [p₁  p₂  p₃  q₁  q₂  q₃  q₄  ṗ₁  ṗ₂  ṗ₃  q̇₁  q̇₂  q̇₃  q̇₄  λ₁  λ₂]"
      ]
     },
     "metadata": {},
     "output_type": "display_data"
    },
    {
     "data": {
      "text/plain": [
       "---"
      ]
     },
     "metadata": {},
     "output_type": "display_data"
    },
    {
     "data": {
      "text/latex": [
       "(dae.yyd).T := $\\displaystyle \\left[\\begin{array}{cccccccccccccccc}\\dot{y}_{1} & \\dot{y}_{2} & \\dot{y}_{3} & \\dot{y}_{4} & \\dot{y}_{5} & \\dot{y}_{6} & \\dot{y}_{7} & \\dot{y}_{8} & \\dot{y}_{9} & \\dot{y}_{10} & \\dot{y}_{11} & \\dot{y}_{12} & \\dot{y}_{13} & \\dot{y}_{14} & \\dot{y}_{15} & \\dot{y}_{16}\\end{array}\\right]$"
      ],
      "text/plain": [
       "(dae.yyd).T := [ẏ₁  ẏ₂  ẏ₃  ẏ₄  ẏ₅  ẏ₆  ẏ₇  ẏ₈  ẏ₉  ẏ₁₀  ẏ₁₁  ẏ₁₂  ẏ₁₃  ẏ₁₄  ẏ₁₅  ẏ₁₆]"
      ]
     },
     "metadata": {},
     "output_type": "display_data"
    },
    {
     "data": {
      "text/plain": [
       "---"
      ]
     },
     "metadata": {},
     "output_type": "display_data"
    }
   ],
   "source": [
    "# DAE's states and its derivatives\n",
    "dae.yy ##:T\n",
    "dae.yyd ##:T"
   ]
  },
  {
   "cell_type": "code",
   "execution_count": 18,
   "metadata": {
    "scrolled": false
   },
   "outputs": [
    {
     "data": {
      "text/latex": [
       "$\\displaystyle \\left[\\begin{matrix}- \\dot{p}_{1} + \\dot{y}_{1}\\\\- \\dot{p}_{2} + \\dot{y}_{2}\\\\- \\dot{p}_{3} + \\dot{y}_{3}\\\\- \\dot{q}_{1} + \\dot{y}_{4}\\\\- \\dot{q}_{2} + \\dot{y}_{5}\\\\- \\dot{q}_{3} + \\dot{y}_{6}\\\\- \\dot{q}_{4} + \\dot{y}_{7}\\\\- 1.0 \\lambda_{1} \\left(q_{3} \\sin{\\left(p_{1} \\right)} + 0.4 \\sin{\\left(p_{1} \\right)} + 0.3 \\sin{\\left(p_{1} + p_{2} \\right)}\\right) + 1.0 \\lambda_{2} \\left(q_{3} \\cos{\\left(p_{1} \\right)} + 0.4 \\cos{\\left(p_{1} \\right)} + 0.3 \\cos{\\left(p_{1} + p_{2} \\right)}\\right) + 0.000221 \\dot{y}_{8} + 0.000221 \\dot{y}_{9} + 0.928333333333333 \\left(q_{3} + 0.4\\right) \\left(0.3 \\dot{p}_{1} \\dot{q}_{3} + 0.15 \\dot{p}_{3}^{2} q_{4} \\sin{\\left(p_{1} - p_{3} \\right)} + 0.06 \\dot{p}_{3}^{2} \\sin{\\left(p_{1} - p_{3} \\right)} + 0.3 \\dot{p}_{3} \\dot{q}_{4} \\cos{\\left(p_{1} - p_{3} \\right)} + 0.15 q_{3} \\dot{y}_{8} + 0.15 q_{4} \\dot{y}_{10} \\cos{\\left(p_{1} - p_{3} \\right)} + 0.06 \\dot{y}_{10} \\cos{\\left(p_{1} - p_{3} \\right)} - 0.15 \\dot{y}_{11} \\sin{\\left(p_{1} \\right)} - 0.15 \\dot{y}_{12} \\sin{\\left(p_{1} \\right)} - 0.15 \\dot{y}_{14} \\sin{\\left(p_{1} - p_{3} \\right)} + 0.06 \\dot{y}_{8}\\right) + 2.732085 \\left(q_{3} + 0.4\\right) \\cos{\\left(p_{1} \\right)}\\\\- 0.3 \\lambda_{1} \\sin{\\left(p_{1} + p_{2} \\right)} + 0.3 \\lambda_{2} \\cos{\\left(p_{1} + p_{2} \\right)} + 0.000221 \\dot{y}_{8} + 0.000221 \\dot{y}_{9}\\\\11.1111111111111 \\left(q_{4} + 0.4\\right) \\left(0.09 \\lambda_{1} \\sin{\\left(p_{3} \\right)} - 0.09 \\lambda_{2} \\cos{\\left(p_{3} \\right)} - 0.0125325 \\dot{p}_{1}^{2} q_{3} \\sin{\\left(p_{1} - p_{3} \\right)} - 0.005013 \\dot{p}_{1}^{2} \\sin{\\left(p_{1} - p_{3} \\right)} + 0.025065 \\dot{p}_{1} \\dot{q}_{3} \\cos{\\left(p_{1} - p_{3} \\right)} + 0.025065 \\dot{p}_{3} \\dot{q}_{4} + 0.0125325 q_{3} \\dot{y}_{8} \\cos{\\left(p_{1} - p_{3} \\right)} + 0.0125325 q_{4} \\dot{y}_{10} + 0.005013 \\dot{y}_{10} - 0.0125325 \\dot{y}_{11} \\sin{\\left(p_{3} \\right)} - 0.0125325 \\dot{y}_{12} \\sin{\\left(p_{3} \\right)} + 0.0125325 \\dot{y}_{13} \\sin{\\left(p_{1} - p_{3} \\right)} + 0.005013 \\dot{y}_{8} \\cos{\\left(p_{1} - p_{3} \\right)} + 0.24588765 \\cos{\\left(p_{3} \\right)}\\right)\\\\1.0 \\lambda_{1} - 0.13925 \\dot{p}_{1}^{2} q_{3} \\cos{\\left(p_{1} \\right)} - 0.0557 \\dot{p}_{1}^{2} \\cos{\\left(p_{1} \\right)} - 0.2785 \\dot{p}_{1} \\dot{q}_{3} \\sin{\\left(p_{1} \\right)} - 0.13925 \\dot{p}_{3}^{2} q_{4} \\cos{\\left(p_{3} \\right)} - 0.0557 \\dot{p}_{3}^{2} \\cos{\\left(p_{3} \\right)} - 0.2785 \\dot{p}_{3} \\dot{q}_{4} \\sin{\\left(p_{3} \\right)} - 0.13925 q_{3} \\dot{y}_{8} \\sin{\\left(p_{1} \\right)} - 0.13925 q_{4} \\dot{y}_{10} \\sin{\\left(p_{3} \\right)} - 1.0 \\tau_{1} - 0.0557 \\dot{y}_{10} \\sin{\\left(p_{3} \\right)} + 0.58925 \\dot{y}_{11} + 0.13925 \\dot{y}_{12} + 0.13925 \\dot{y}_{13} \\cos{\\left(p_{1} \\right)} + 0.13925 \\dot{y}_{14} \\cos{\\left(p_{3} \\right)} - 0.0557 \\dot{y}_{8} \\sin{\\left(p_{1} \\right)}\\\\- 1.0 \\lambda_{1} - 0.13925 \\dot{p}_{1}^{2} q_{3} \\cos{\\left(p_{1} \\right)} - 0.0557 \\dot{p}_{1}^{2} \\cos{\\left(p_{1} \\right)} - 0.2785 \\dot{p}_{1} \\dot{q}_{3} \\sin{\\left(p_{1} \\right)} - 0.13925 \\dot{p}_{3}^{2} q_{4} \\cos{\\left(p_{3} \\right)} - 0.0557 \\dot{p}_{3}^{2} \\cos{\\left(p_{3} \\right)} - 0.2785 \\dot{p}_{3} \\dot{q}_{4} \\sin{\\left(p_{3} \\right)} - 0.13925 q_{3} \\dot{y}_{8} \\sin{\\left(p_{1} \\right)} - 0.13925 q_{4} \\dot{y}_{10} \\sin{\\left(p_{3} \\right)} - 1.0 \\tau_{2} - 0.0557 \\dot{y}_{10} \\sin{\\left(p_{3} \\right)} + 0.13925 \\dot{y}_{11} + 0.58925 \\dot{y}_{12} + 0.13925 \\dot{y}_{13} \\cos{\\left(p_{1} \\right)} + 0.13925 \\dot{y}_{14} \\cos{\\left(p_{3} \\right)} - 0.0557 \\dot{y}_{8} \\sin{\\left(p_{1} \\right)}\\\\1.0 \\lambda_{1} \\cos{\\left(p_{1} \\right)} + 1.0 \\lambda_{2} \\sin{\\left(p_{1} \\right)} - 0.13925 \\dot{p}_{1}^{2} q_{3} - 0.0557 \\dot{p}_{1}^{2} - 0.13925 \\dot{p}_{3}^{2} q_{4} \\cos{\\left(p_{1} - p_{3} \\right)} - 0.0557 \\dot{p}_{3}^{2} \\cos{\\left(p_{1} - p_{3} \\right)} + 0.2785 \\dot{p}_{3} \\dot{q}_{4} \\sin{\\left(p_{1} - p_{3} \\right)} + 0.13925 q_{4} \\dot{y}_{10} \\sin{\\left(p_{1} - p_{3} \\right)} - 1.0 \\tau_{3} + 0.0557 \\dot{y}_{10} \\sin{\\left(p_{1} - p_{3} \\right)} + 0.13925 \\dot{y}_{11} \\cos{\\left(p_{1} \\right)} + 0.13925 \\dot{y}_{12} \\cos{\\left(p_{1} \\right)} + 0.13925 \\dot{y}_{13} + 0.13925 \\dot{y}_{14} \\cos{\\left(p_{1} - p_{3} \\right)} + 2.732085 \\sin{\\left(p_{1} \\right)}\\\\- 1.0 \\lambda_{1} \\cos{\\left(p_{3} \\right)} - 1.0 \\lambda_{2} \\sin{\\left(p_{3} \\right)} - 0.13925 \\dot{p}_{1}^{2} q_{3} \\cos{\\left(p_{1} - p_{3} \\right)} - 0.0557 \\dot{p}_{1}^{2} \\cos{\\left(p_{1} - p_{3} \\right)} - 0.2785 \\dot{p}_{1} \\dot{q}_{3} \\sin{\\left(p_{1} - p_{3} \\right)} - 0.13925 \\dot{p}_{3}^{2} q_{4} - 0.0557 \\dot{p}_{3}^{2} - 0.13925 q_{3} \\dot{y}_{8} \\sin{\\left(p_{1} - p_{3} \\right)} - 1.0 \\tau_{4} + 0.13925 \\dot{y}_{11} \\cos{\\left(p_{3} \\right)} + 0.13925 \\dot{y}_{12} \\cos{\\left(p_{3} \\right)} + 0.13925 \\dot{y}_{13} \\cos{\\left(p_{1} - p_{3} \\right)} + 0.13925 \\dot{y}_{14} - 0.0557 \\dot{y}_{8} \\sin{\\left(p_{1} - p_{3} \\right)} + 2.732085 \\sin{\\left(p_{3} \\right)}\\\\- q_{1} + q_{2} - q_{3} \\cos{\\left(p_{1} \\right)} + q_{4} \\cos{\\left(p_{3} \\right)} - 0.4 \\cos{\\left(p_{1} \\right)} + 0.4 \\cos{\\left(p_{3} \\right)} - 0.3 \\cos{\\left(p_{1} + p_{2} \\right)} + 0.5\\\\- q_{3} \\sin{\\left(p_{1} \\right)} + q_{4} \\sin{\\left(p_{3} \\right)} - 0.4 \\sin{\\left(p_{1} \\right)} + 0.4 \\sin{\\left(p_{3} \\right)} - 0.3 \\sin{\\left(p_{1} + p_{2} \\right)}\\end{matrix}\\right]$"
      ],
      "text/plain": [
       "⎡                                                                             \n",
       "⎢                                                                             \n",
       "⎢                                                                             \n",
       "⎢                                                                             \n",
       "⎢                                                                             \n",
       "⎢                                                                             \n",
       "⎢                                                                             \n",
       "⎢                                                                             \n",
       "⎢                                                                             \n",
       "⎢                                                                             \n",
       "⎢                                                                             \n",
       "⎢                                                                             \n",
       "⎢                                                                             \n",
       "⎢                                                                             \n",
       "⎢                                                                             \n",
       "⎢-λ₁⋅(q₃⋅sin(p₁) + 0.4⋅sin(p₁) + 0.3⋅sin(p₁ + p₂)) + 1.0⋅λ₂⋅(q₃⋅cos(p₁) + 0.4⋅\n",
       "⎢                                                                             \n",
       "⎢                                                                             \n",
       "⎢                                                                             \n",
       "⎢                                                        ⎛                    \n",
       "⎢                            11.1111111111111⋅(q₄ + 0.4)⋅⎝0.09⋅λ₁⋅sin(p₃) - 0.\n",
       "⎢                                                                             \n",
       "⎢                                                                        2    \n",
       "⎢                                                     1.0⋅λ₁ - 0.13925⋅ṗ₁ ⋅q₃\n",
       "⎢                                                                             \n",
       "⎢                                                                      2      \n",
       "⎢                                                      -λ₁ - 0.13925⋅ṗ₁ ⋅q₃⋅c\n",
       "⎢                                                                             \n",
       "⎢                                                                             \n",
       "⎢                                                     1.0⋅λ₁⋅cos(p₁) + 1.0⋅λ₂⋅\n",
       "⎢                                                                             \n",
       "⎢                                                                             \n",
       "⎢                                                          -λ₁⋅cos(p₃) - λ₂⋅si\n",
       "⎢                                                                             \n",
       "⎢                                                                             \n",
       "⎢                                                                             \n",
       "⎣                                                                             \n",
       "\n",
       "                                                                              \n",
       "                                                                              \n",
       "                                                                              \n",
       "                                                                              \n",
       "                                                                              \n",
       "                                                                              \n",
       "                                                                              \n",
       "                                                                              \n",
       "                                                                              \n",
       "                                                                              \n",
       "                                                                              \n",
       "                                                                              \n",
       "                                                                              \n",
       "                                                                              \n",
       "                                                                              \n",
       "cos(p₁) + 0.3⋅cos(p₁ + p₂)) + 0.000221⋅ẏ₈ + 0.000221⋅ẏ₉ + 0.928333333333333⋅\n",
       "                                                                              \n",
       "                                                                              \n",
       "                                                                              \n",
       "                            2                              2                  \n",
       "09⋅λ₂⋅cos(p₃) - 0.0125325⋅ṗ₁ ⋅q₃⋅sin(p₁ - p₃) - 0.005013⋅ṗ₁ ⋅sin(p₁ - p₃) + \n",
       "                                                                              \n",
       "                   2                                            2             \n",
       "⋅cos(p₁) - 0.0557⋅ṗ₁ ⋅cos(p₁) - 0.2785⋅ṗ₁⋅q̇₃⋅sin(p₁) - 0.13925⋅ṗ₃ ⋅q₄⋅cos(\n",
       "                                                                              \n",
       "                 2                                            2               \n",
       "os(p₁) - 0.0557⋅ṗ₁ ⋅cos(p₁) - 0.2785⋅ṗ₁⋅q̇₃⋅sin(p₁) - 0.13925⋅ṗ₃ ⋅q₄⋅cos(p₃\n",
       "                                                                              \n",
       "                    2               2             2                           \n",
       "sin(p₁) - 0.13925⋅ṗ₁ ⋅q₃ - 0.0557⋅ṗ₁  - 0.13925⋅ṗ₃ ⋅q₄⋅cos(p₁ - p₃) - 0.055\n",
       "                                                                              \n",
       "                  2                            2                              \n",
       "n(p₃) - 0.13925⋅ṗ₁ ⋅q₃⋅cos(p₁ - p₃) - 0.0557⋅ṗ₁ ⋅cos(p₁ - p₃) - 0.2785⋅ṗ₁⋅q\n",
       "                                                                              \n",
       "                                                                              \n",
       "                                                                              \n",
       "                                                                              \n",
       "\n",
       "                                                 -ṗ₁ + ẏ₁                   \n",
       "                                                                              \n",
       "                                                 -ṗ₂ + ẏ₂                   \n",
       "                                                                              \n",
       "                                                 -ṗ₃ + ẏ₃                   \n",
       "                                                                              \n",
       "                                                 -q̇₁ + ẏ₄                   \n",
       "                                                                              \n",
       "                                                 -q̇₂ + ẏ₅                   \n",
       "                                                                              \n",
       "                                                 -q̇₃ + ẏ₆                   \n",
       "                                                                              \n",
       "                                                 -q̇₄ + ẏ₇                   \n",
       "                                                                              \n",
       "         ⎛                   2                          2                     \n",
       "(q₃ + 0.4)⋅⎝0.3⋅ṗ₁⋅q̇₃ + 0.15⋅ṗ₃ ⋅q₄⋅sin(p₁ - p₃) + 0.06⋅ṗ₃ ⋅sin(p₁ - p₃) +\n",
       "                                                                              \n",
       "                  -0.3⋅λ₁⋅sin(p₁ + p₂) + 0.3⋅λ₂⋅cos(p₁ + p₂) + 0.000221⋅ẏ₈ + \n",
       "                                                                              \n",
       "                                                                              \n",
       "0.025065⋅ṗ₁⋅q̇₃⋅cos(p₁ - p₃) + 0.025065⋅ṗ₃⋅q̇₄ + 0.0125325⋅q₃⋅ẏ₈⋅cos(p₁ - p\n",
       "                                                                              \n",
       "          2                                                                   \n",
       "p₃) - 0.0557⋅ṗ₃ ⋅cos(p₃) - 0.2785⋅ṗ₃⋅q̇₄⋅sin(p₃) - 0.13925⋅q₃⋅ẏ₈⋅sin(p₁) - \n",
       "                                                                              \n",
       "        2                                                                     \n",
       ") - 0.0557⋅ṗ₃ ⋅cos(p₃) - 0.2785⋅ṗ₃⋅q̇₄⋅sin(p₃) - 0.13925⋅q₃⋅ẏ₈⋅sin(p₁) - 0.\n",
       "                                                                              \n",
       " 2                                                                            \n",
       "7⋅ṗ₃ ⋅cos(p₁ - p₃) + 0.2785⋅ṗ₃⋅q̇₄⋅sin(p₁ - p₃) + 0.13925⋅q₄⋅ẏ₁₀⋅sin(p₁ - p\n",
       "                                                                              \n",
       "                        2               2                                     \n",
       "̇₃⋅sin(p₁ - p₃) - 0.13925⋅ṗ₃ ⋅q₄ - 0.0557⋅ṗ₃  - 0.13925⋅q₃⋅ẏ₈⋅sin(p₁ - p₃) \n",
       "                                                                              \n",
       "          -q₁ + q₂ - q₃⋅cos(p₁) + q₄⋅cos(p₃) - 0.4⋅cos(p₁) + 0.4⋅cos(p₃) - 0.3\n",
       "                                                                              \n",
       "                  -q₃⋅sin(p₁) + q₄⋅sin(p₃) - 0.4⋅sin(p₁) + 0.4⋅sin(p₃) - 0.3⋅s\n",
       "\n",
       "                                                                              \n",
       "                                                                              \n",
       "                                                                              \n",
       "                                                                              \n",
       "                                                                              \n",
       "                                                                              \n",
       "                                                                              \n",
       "                                                                              \n",
       "                                                                              \n",
       "                                                                              \n",
       "                                                                              \n",
       "                                                                              \n",
       "                                                                              \n",
       "                                                                              \n",
       "                                                                              \n",
       " 0.3⋅ṗ₃⋅q̇₄⋅cos(p₁ - p₃) + 0.15⋅q₃⋅ẏ₈ + 0.15⋅q₄⋅ẏ₁₀⋅cos(p₁ - p₃) + 0.06⋅ẏ₁\n",
       "                                                                              \n",
       "0.000221⋅ẏ₉                                                                  \n",
       "                                                                              \n",
       "                                                                              \n",
       "₃) + 0.0125325⋅q₄⋅ẏ₁₀ + 0.005013⋅ẏ₁₀ - 0.0125325⋅ẏ₁₁⋅sin(p₃) - 0.0125325⋅ẏ\n",
       "                                                                              \n",
       "                                                                              \n",
       "0.13925⋅q₄⋅ẏ₁₀⋅sin(p₃) - τ₁ - 0.0557⋅ẏ₁₀⋅sin(p₃) + 0.58925⋅ẏ₁₁ + 0.13925⋅ẏ\n",
       "                                                                              \n",
       "                                                                              \n",
       "13925⋅q₄⋅ẏ₁₀⋅sin(p₃) - τ₂ - 0.0557⋅ẏ₁₀⋅sin(p₃) + 0.13925⋅ẏ₁₁ + 0.58925⋅ẏ₁₂\n",
       "                                                                              \n",
       "                                                                              \n",
       "₃) - τ₃ + 0.0557⋅ẏ₁₀⋅sin(p₁ - p₃) + 0.13925⋅ẏ₁₁⋅cos(p₁) + 0.13925⋅ẏ₁₂⋅cos(p\n",
       "                                                                              \n",
       "                                                                              \n",
       "- τ₄ + 0.13925⋅ẏ₁₁⋅cos(p₃) + 0.13925⋅ẏ₁₂⋅cos(p₃) + 0.13925⋅ẏ₁₃⋅cos(p₁ - p₃)\n",
       "                                                                              \n",
       "⋅cos(p₁ + p₂) + 0.5                                                           \n",
       "                                                                              \n",
       "in(p₁ + p₂)                                                                   \n",
       "\n",
       "                                                                              \n",
       "                                                                              \n",
       "                                                                              \n",
       "                                                                              \n",
       "                                                                              \n",
       "                                                                              \n",
       "                                                                              \n",
       "                                                                              \n",
       "                                                                              \n",
       "                                                                              \n",
       "                                                                              \n",
       "                                                                              \n",
       "                                                                              \n",
       "                                                                              \n",
       "                                                                           ⎞  \n",
       "₀⋅cos(p₁ - p₃) - 0.15⋅ẏ₁₁⋅sin(p₁) - 0.15⋅ẏ₁₂⋅sin(p₁) - 0.15⋅ẏ₁₄⋅sin(p₁ - p₃\n",
       "                                                                              \n",
       "                                                                              \n",
       "                                                                              \n",
       "                                                                            ⎞ \n",
       "₁₂⋅sin(p₃) + 0.0125325⋅ẏ₁₃⋅sin(p₁ - p₃) + 0.005013⋅ẏ₈⋅cos(p₁ - p₃) + 0.24588\n",
       "                                                                              \n",
       "                                                                              \n",
       "₁₂ + 0.13925⋅ẏ₁₃⋅cos(p₁) + 0.13925⋅ẏ₁₄⋅cos(p₃) - 0.0557⋅ẏ₈⋅sin(p₁)         \n",
       "                                                                              \n",
       "                                                                              \n",
       " + 0.13925⋅ẏ₁₃⋅cos(p₁) + 0.13925⋅ẏ₁₄⋅cos(p₃) - 0.0557⋅ẏ₈⋅sin(p₁)           \n",
       "                                                                              \n",
       "                                                                              \n",
       "₁) + 0.13925⋅ẏ₁₃ + 0.13925⋅ẏ₁₄⋅cos(p₁ - p₃) + 2.732085⋅sin(p₁)              \n",
       "                                                                              \n",
       "                                                                              \n",
       " + 0.13925⋅ẏ₁₄ - 0.0557⋅ẏ₈⋅sin(p₁ - p₃) + 2.732085⋅sin(p₃)                  \n",
       "                                                                              \n",
       "                                                                              \n",
       "                                                                              \n",
       "                                                                              \n",
       "\n",
       "                              ⎤\n",
       "                            ⎥\n",
       "                              ⎥\n",
       "                            ⎥\n",
       "                              ⎥\n",
       "                            ⎥\n",
       "                              ⎥\n",
       "                            ⎥\n",
       "                              ⎥\n",
       "                            ⎥\n",
       "                              ⎥\n",
       "                            ⎥\n",
       "                              ⎥\n",
       "                            ⎥\n",
       "                            ⎥\n",
       ") + 0.06⋅ẏ₈⎠ + 2.732085⋅(q₃ + 0.4)⋅cos(p₁)⎥\n",
       "                            ⎥\n",
       "                              ⎥\n",
       "                            ⎥\n",
       "                            ⎥\n",
       "765⋅cos(p₃)⎠                             ⎥\n",
       "                            ⎥\n",
       "                            ⎥\n",
       "                                            ⎥\n",
       "                            ⎥\n",
       "                            ⎥\n",
       "                                            ⎥\n",
       "                            ⎥\n",
       "                            ⎥\n",
       "                                        ⎥\n",
       "                            ⎥\n",
       "                            ⎥\n",
       "                                        ⎥\n",
       "                            ⎥\n",
       "                            ⎥\n",
       "                            ⎥\n",
       "                            ⎦"
      ]
     },
     "execution_count": 18,
     "metadata": {},
     "output_type": "execute_result"
    }
   ],
   "source": [
    "# implicit equations of the DAE system\n",
    "dae.eqns"
   ]
  },
  {
   "cell_type": "code",
   "execution_count": 19,
   "metadata": {},
   "outputs": [
    {
     "data": {
      "text/latex": [
       "$\\displaystyle \\left[\\begin{matrix}\\tau_{1}\\\\\\tau_{2}\\\\\\tau_{3}\\\\\\tau_{4}\\end{matrix}\\right]$"
      ],
      "text/plain": [
       "⎡τ₁⎤\n",
       "⎢  ⎥\n",
       "⎢τ₂⎥\n",
       "⎢  ⎥\n",
       "⎢τ₃⎥\n",
       "⎢  ⎥\n",
       "⎣τ₄⎦"
      ]
     },
     "execution_count": 19,
     "metadata": {},
     "output_type": "execute_result"
    }
   ],
   "source": [
    "# control input vector of DAE system\n",
    "dae.mod.tau"
   ]
  },
  {
   "cell_type": "code",
   "execution_count": 20,
   "metadata": {},
   "outputs": [
    {
     "data": {
      "text/plain": [
       "(dae.input_func) := <function __main__.new_input_func(yy, t)>"
      ]
     },
     "metadata": {},
     "output_type": "display_data"
    },
    {
     "data": {
      "text/plain": [
       "---"
      ]
     },
     "metadata": {},
     "output_type": "display_data"
    }
   ],
   "source": [
    "# define closed loop (usage of yy) control function for input\n",
    "# di*yy[] terms represent dissipation in carts\n",
    "def new_input_func(yy, t):\n",
    "    u1 = mc1b.subs(parameter_values)*yy[1] - d1.subs(parameter_values) * yy[8]\n",
    "    u2 = mc2b.subs(parameter_values)*yy[1] - d4.subs(parameter_values) * yy[9]\n",
    "    u3 = 0\n",
    "    u4 = 0\n",
    "    return [u1, u2, u3, u4]\n",
    "\n",
    "# set as input of DAE system\n",
    "dae.input_func = new_input_func ##:"
   ]
  },
  {
   "cell_type": "code",
   "execution_count": 21,
   "metadata": {},
   "outputs": [
    {
     "data": {
      "text/plain": [
       "(dae.constraints_func(*init_theta)) := array([-9.07146336e-09,  2.37069416e-08])"
      ]
     },
     "metadata": {},
     "output_type": "display_data"
    },
    {
     "data": {
      "text/plain": [
       "---"
      ]
     },
     "metadata": {},
     "output_type": "display_data"
    },
    {
     "name": "stdout",
     "output_type": "stream",
     "text": [
      "Optimization terminated successfully.\n",
      "         Current function value: 0.000000\n",
      "         Iterations: 107\n",
      "         Function evaluations: 205\n",
      "Optimization terminated successfully.\n",
      "         Current function value: 0.000000\n",
      "         Iterations: 35\n",
      "         Function evaluations: 71\n"
     ]
    },
    {
     "data": {
      "text/plain": [
       "(yy0, yyd0) := (array([ 4.90000000e+00,  1.36249079e+00, -1.63448760e+00,  0.00000000e+00, -1.00000000e-01,  0.00000000e+00,  0.00000000e+00,  0.00000000e+00,  0.00000000e+00,  0.00000000e+00,  0.00000000e+00,  0.00000000e+00,  0.00000000e+00,  0.00000000e+00,  2.46005674e-15, -6.12250134e-15]),\n",
       " array([   0.        ,    0.        ,    0.        ,    0.        ,    0.        ,    0.        ,    0.        , -294.60045314,  294.60045314, -272.6508802 ,  118.0825349 ,  109.90759017,  -12.38599324,   16.7855319 ,    0.        ,   -0.        ]))"
      ]
     },
     "metadata": {},
     "output_type": "display_data"
    },
    {
     "data": {
      "text/plain": [
       "---"
      ]
     },
     "metadata": {},
     "output_type": "display_data"
    },
    {
     "data": {
      "text/plain": [
       "(dae.model_func(t0, yy0, yyd0)) := \n",
       "array([ 0.00000000e+00,  0.00000000e+00,  0.00000000e+00,  0.00000000e+00,  0.00000000e+00,  0.00000000e+00,  0.00000000e+00,  2.72004641e-15, -1.38777878e-17,  1.54197642e-17, -7.10542736e-15,  1.06581410e-14,  8.88178420e-16,  8.88178420e-16, -3.21880402e+04, -2.53610631e+03])"
      ]
     },
     "metadata": {},
     "output_type": "display_data"
    },
    {
     "data": {
      "text/plain": [
       "---"
      ]
     },
     "metadata": {},
     "output_type": "display_data"
    },
    {
     "ename": "AssertionError",
     "evalue": "",
     "output_type": "error",
     "traceback": [
      "\u001b[0;31m---------------------------------------------------------------------------\u001b[0m",
      "\u001b[0;31mAssertionError\u001b[0m                            Traceback (most recent call last)",
      "Input \u001b[0;32mIn [21]\u001b[0m, in \u001b[0;36m<cell line: 11>\u001b[0;34m()\u001b[0m\n\u001b[1;32m      8\u001b[0m custom_display(\u001b[38;5;124m\"\u001b[39m\u001b[38;5;124m(dae.model_func(t0, yy0, yyd0))\u001b[39m\u001b[38;5;124m\"\u001b[39m, (dae\u001b[38;5;241m.\u001b[39mmodel_func(t0, yy0, yyd0))); display({\u001b[38;5;124m\"\u001b[39m\u001b[38;5;124mtext/plain\u001b[39m\u001b[38;5;124m\"\u001b[39m: \u001b[38;5;124m\"\u001b[39m\u001b[38;5;124m---\u001b[39m\u001b[38;5;124m\"\u001b[39m}, raw\u001b[38;5;241m=\u001b[39m\u001b[38;5;28;01mTrue\u001b[39;00m)\n\u001b[1;32m     10\u001b[0m \u001b[38;5;66;03m# check if all values are almost zero (-> initial values fulfill the model)\u001b[39;00m\n\u001b[0;32m---> 11\u001b[0m \u001b[38;5;28;01massert\u001b[39;00m npy\u001b[38;5;241m.\u001b[39mallclose(dae\u001b[38;5;241m.\u001b[39mmodel_func(t0, yy0, yyd0), \u001b[38;5;241m0\u001b[39m)\n",
      "\u001b[0;31mAssertionError\u001b[0m: "
     ]
    }
   ],
   "source": [
    "### check error of constraints for initial values\n",
    "dae.constraints_func(*init_theta) ##:\n",
    "\n",
    "# calculate consistent initial values from latest visualization\n",
    "yy0, yyd0 = dae.calc_consistent_init_vals(p1=init_theta[0], q1=init_theta[3], q2=init_theta[4], q3=init_theta[5], q4=init_theta[6], _ftol=1e-9) ##:\n",
    "\n",
    "t0 = 0\n",
    "\n",
    "# evaluation of implicit DAE System (should be almost 0 if initial values fulfill the model)\n",
    "dae.model_func(t0, yy0, yyd0) ##:\n",
    "\n",
    "# check if all values are almost zero (-> initial values fulfill the model)\n",
    "assert npy.allclose(dae.model_func(t0, yy0, yyd0), 0)"
   ]
  },
  {
   "cell_type": "code",
   "execution_count": 22,
   "metadata": {},
   "outputs": [
    {
     "data": {
      "image/png": "[encoded data removed]",
      "text/latex": [
       "(model.algvar) := $\\displaystyle \\left[ 1, \\  1, \\  1, \\  1, \\  1, \\  1, \\  1, \\  1, \\  1, \\  1, \\  1, \\  1, \\  1, \\  1, \\  0, \\  0\\right]$"
      ],
      "text/plain": [
       "(model.algvar) := [1, 1, 1, 1, 1, 1, 1, 1, 1, 1, 1, 1, 1, 1, 0, 0]"
      ]
     },
     "metadata": {},
     "output_type": "display_data"
    },
    {
     "data": {
      "text/plain": [
       "---"
      ]
     },
     "metadata": {},
     "output_type": "display_data"
    }
   ],
   "source": [
    "# defining assimulo problem\n",
    "model = Overdetermined_Problem(dae.model_func, yy0, yyd0, t0)\n",
    "model.name = 'gantry crane'\n",
    "\n",
    "# indicate which components of y are differential (1) and which are purely algebraic (0)\n",
    "model.algvar = dae.diff_alg_vars ##:\n",
    "\n",
    "# definition of simulation of DAE system with ODASSL solver\n",
    "sim = SOLVER(model)\n",
    "# sim.suppress_alg = True #Necessary to set to True for >1 index problem\n",
    "\n",
    "# values <= 30 produce lots of output\n",
    "sim.verbosity = 0"
   ]
  },
  {
   "cell_type": "code",
   "execution_count": 23,
   "metadata": {
    "scrolled": true
   },
   "outputs": [
    {
     "name": "stdout",
     "output_type": "stream",
     "text": [
      "No initialization defined for the problem.\n"
     ]
    },
    {
     "name": "stderr",
     "output_type": "stream",
     "text": [
      "capi_return is NULL\n",
      "Call-back cb_res_in_odassl__user__routines failed.\n"
     ]
    },
    {
     "ename": "KeyboardInterrupt",
     "evalue": "",
     "output_type": "error",
     "traceback": [
      "\u001b[0;31m---------------------------------------------------------------------------\u001b[0m",
      "\u001b[0;31mKeyboardInterrupt\u001b[0m                         Traceback (most recent call last)",
      "Input \u001b[0;32mIn [23]\u001b[0m, in \u001b[0;36m<cell line: 5>\u001b[0;34m()\u001b[0m\n\u001b[1;32m      2\u001b[0m ncp \u001b[38;5;241m=\u001b[39m \u001b[38;5;241m500\u001b[39m            \u001b[38;5;66;03m# Number of communication points (number of return points)\u001b[39;00m\n\u001b[1;32m      4\u001b[0m \u001b[38;5;66;03m# simulation of DAE system\u001b[39;00m\n\u001b[0;32m----> 5\u001b[0m tt_sol, yy_sol, yyd_sol \u001b[38;5;241m=\u001b[39m \u001b[43msim\u001b[49m\u001b[38;5;241;43m.\u001b[39;49m\u001b[43msimulate\u001b[49m\u001b[43m(\u001b[49m\u001b[43mtfinal\u001b[49m\u001b[43m,\u001b[49m\u001b[43m \u001b[49m\u001b[43mncp\u001b[49m\u001b[43m)\u001b[49m\n",
      "File \u001b[0;32massimulo/ode.pyx:180\u001b[0m, in \u001b[0;36massimulo.ode.ODE.simulate\u001b[0;34m()\u001b[0m\n",
      "File \u001b[0;32massimulo/ode.pyx:300\u001b[0m, in \u001b[0;36massimulo.ode.ODE.simulate\u001b[0;34m()\u001b[0m\n",
      "File \u001b[0;32massimulo/implicit_ode.pyx:129\u001b[0m, in \u001b[0;36massimulo.implicit_ode.Implicit_ODE._simulate\u001b[0;34m()\u001b[0m\n",
      "File \u001b[0;32massimulo/implicit_ode.pyx:207\u001b[0m, in \u001b[0;36massimulo.implicit_ode.Implicit_ODE._simulate\u001b[0;34m()\u001b[0m\n",
      "File \u001b[0;32m~/miniconda3/lib/python3.8/site-packages/assimulo/solvers/odassl.py:339\u001b[0m, in \u001b[0;36mODASSL.integrate\u001b[0;34m(self, t, y, yprime, tf, opts)\u001b[0m\n\u001b[1;32m    336\u001b[0m output_list  \u001b[38;5;241m=\u001b[39m opts[\u001b[38;5;124m\"\u001b[39m\u001b[38;5;124moutput_list\u001b[39m\u001b[38;5;124m\"\u001b[39m]\n\u001b[1;32m    337\u001b[0m \u001b[38;5;28;01mfor\u001b[39;00m tout \u001b[38;5;129;01min\u001b[39;00m output_list: \n\u001b[1;32m    338\u001b[0m     t,y,yprime,tout,info,idid,rwork,iwork \u001b[38;5;241m=\u001b[39m \\\n\u001b[0;32m--> 339\u001b[0m       \u001b[43modassl\u001b[49m\u001b[38;5;241;43m.\u001b[39;49m\u001b[43modassl\u001b[49m\u001b[43m(\u001b[49m\u001b[43mcallback_residual\u001b[49m\u001b[43m,\u001b[49m\u001b[43mneq\u001b[49m\u001b[43m,\u001b[49m\u001b[43mny\u001b[49m\u001b[43m,\u001b[49m\u001b[43mt\u001b[49m\u001b[43m,\u001b[49m\u001b[43my\u001b[49m\u001b[43m,\u001b[49m\u001b[43myprime\u001b[49m\u001b[43m,\u001b[49m\u001b[43m \u001b[49m\u001b[43m\\\u001b[49m\n\u001b[1;32m    340\u001b[0m \u001b[43m             \u001b[49m\u001b[43mtout\u001b[49m\u001b[43m,\u001b[49m\u001b[43minfo\u001b[49m\u001b[43m,\u001b[49m\u001b[43mrtol\u001b[49m\u001b[43m,\u001b[49m\u001b[43matol\u001b[49m\u001b[43m,\u001b[49m\u001b[43mrwork\u001b[49m\u001b[43m,\u001b[49m\u001b[43miwork\u001b[49m\u001b[43m,\u001b[49m\u001b[43mjac_dummy\u001b[49m\u001b[43m)\u001b[49m\n\u001b[1;32m    341\u001b[0m     tlist\u001b[38;5;241m.\u001b[39mappend(t)\n\u001b[1;32m    342\u001b[0m     ylist\u001b[38;5;241m.\u001b[39mappend(y\u001b[38;5;241m.\u001b[39mcopy())\n",
      "File \u001b[0;32m~/miniconda3/lib/python3.8/site-packages/assimulo/solvers/odassl.py:301\u001b[0m, in \u001b[0;36mODASSL.integrate.<locals>.py_residual\u001b[0;34m(t, y, yd)\u001b[0m\n\u001b[1;32m    300\u001b[0m \u001b[38;5;28;01mdef\u001b[39;00m \u001b[38;5;21mpy_residual\u001b[39m(t,y,yd):\n\u001b[0;32m--> 301\u001b[0m     \u001b[38;5;28;01mreturn\u001b[39;00m \u001b[38;5;28;43mself\u001b[39;49m\u001b[38;5;241;43m.\u001b[39;49m\u001b[43mproblem\u001b[49m\u001b[38;5;241;43m.\u001b[39;49m\u001b[43mres\u001b[49m\u001b[43m(\u001b[49m\u001b[43mt\u001b[49m\u001b[43m,\u001b[49m\u001b[43my\u001b[49m\u001b[43m,\u001b[49m\u001b[43myd\u001b[49m\u001b[43m)\u001b[49m\n",
      "File \u001b[0;32m/mnt/c/Users/kwrede/Desktop/Studienarbeit/SA-Wrede/lift_actuated_double_crane_notebooks/../../symbtools/symbtools/modeltools.py:588\u001b[0m, in \u001b[0;36mDAE_System.generate_eqns_funcs.<locals>.model_func\u001b[0;34m(t, yy, yyd)\u001b[0m\n\u001b[1;32m    584\u001b[0m ode_part \u001b[38;5;241m=\u001b[39m \u001b[38;5;28mself\u001b[39m\u001b[38;5;241m.\u001b[39mdeq_func(\u001b[38;5;241m*\u001b[39margs)\n\u001b[1;32m    586\u001b[0m \u001b[38;5;66;03m# now calculate the accelerations in depencency of yy (and thus in dependency of llmd)\u001b[39;00m\n\u001b[1;32m    587\u001b[0m \u001b[38;5;66;03m# Note: signature: acc_of_lmd_func(yy, ttau)\u001b[39;00m\n\u001b[0;32m--> 588\u001b[0m ttheta_dd \u001b[38;5;241m=\u001b[39m \u001b[43macc_of_lmd_func\u001b[49m\u001b[43m(\u001b[49m\u001b[38;5;241;43m*\u001b[39;49m\u001b[43mnp\u001b[49m\u001b[38;5;241;43m.\u001b[39;49m\u001b[43mconcatenate\u001b[49m\u001b[43m(\u001b[49m\u001b[43m(\u001b[49m\u001b[43myy\u001b[49m\u001b[43m,\u001b[49m\u001b[43m \u001b[49m\u001b[43mexternal_forces\u001b[49m\u001b[43m)\u001b[49m\u001b[43m)\u001b[49m\u001b[43m)\u001b[49m\n\u001b[1;32m    589\u001b[0m c2 \u001b[38;5;241m=\u001b[39m \u001b[38;5;28mself\u001b[39m\u001b[38;5;241m.\u001b[39mconstraints_dd_func(\u001b[38;5;241m*\u001b[39mnp\u001b[38;5;241m.\u001b[39mconcatenate((ttheta, ttheta_d, ttheta_dd)))\n\u001b[1;32m    590\u001b[0m c2 \u001b[38;5;241m=\u001b[39m np\u001b[38;5;241m.\u001b[39matleast_1d(c2)\n",
      "File \u001b[0;32m/mnt/c/Users/kwrede/Desktop/Studienarbeit/SA-Wrede/lift_actuated_double_crane_notebooks/../../symbtools/symbtools/modeltools.py:714\u001b[0m, in \u001b[0;36mDAE_System.gen_leqs_for_acc_llmd.<locals>.acc_of_lmd_func\u001b[0;34m(*args)\u001b[0m\n\u001b[1;32m    710\u001b[0m ttau \u001b[38;5;241m=\u001b[39m args[\u001b[38;5;241m2\u001b[39m\u001b[38;5;241m*\u001b[39mntt\u001b[38;5;241m+\u001b[39mnll:]\n\u001b[1;32m    712\u001b[0m args1 \u001b[38;5;241m=\u001b[39m np\u001b[38;5;241m.\u001b[39mconcatenate((ttheta, ttheta_d, ttau))\n\u001b[0;32m--> 714\u001b[0m Anum \u001b[38;5;241m=\u001b[39m \u001b[43mA_fnc\u001b[49m\u001b[43m(\u001b[49m\u001b[38;5;241;43m*\u001b[39;49m\u001b[43margs1\u001b[49m\u001b[43m)\u001b[49m\n\u001b[1;32m    715\u001b[0m A1 \u001b[38;5;241m=\u001b[39m Anum[:ntt, :ntt]\n\u001b[1;32m    716\u001b[0m A2 \u001b[38;5;241m=\u001b[39m Anum[:ntt, ntt:]\n",
      "File \u001b[0;32m/mnt/c/Users/kwrede/Desktop/Studienarbeit/SA-Wrede/lift_actuated_double_crane_notebooks/../../symbtools/symbtools/core.py:3587\u001b[0m, in \u001b[0;36mexpr_to_func.<locals>.reshape_func\u001b[0;34m(*allargs)\u001b[0m\n\u001b[1;32m   3586\u001b[0m \u001b[38;5;28;01mdef\u001b[39;00m \u001b[38;5;21mreshape_func\u001b[39m(\u001b[38;5;241m*\u001b[39mallargs):\n\u001b[0;32m-> 3587\u001b[0m     \u001b[38;5;28;01mreturn\u001b[39;00m \u001b[43mfunc2\u001b[49m\u001b[43m(\u001b[49m\u001b[38;5;241;43m*\u001b[39;49m\u001b[43mallargs\u001b[49m\u001b[43m)\u001b[49m\u001b[38;5;241m.\u001b[39mreshape(sympy_shape)\n",
      "File \u001b[0;32m/mnt/c/Users/kwrede/Desktop/Studienarbeit/SA-Wrede/lift_actuated_double_crane_notebooks/../../symbtools/symbtools/core.py:3568\u001b[0m, in \u001b[0;36mexpr_to_func.<locals>.func2\u001b[0;34m(*allargs)\u001b[0m\n\u001b[1;32m   3566\u001b[0m \u001b[38;5;28;01mdef\u001b[39;00m \u001b[38;5;21mfunc2\u001b[39m(\u001b[38;5;241m*\u001b[39mallargs):\n\u001b[1;32m   3567\u001b[0m     \u001b[38;5;66;03m# each result should be a 1d- array\u001b[39;00m\n\u001b[0;32m-> 3568\u001b[0m     results \u001b[38;5;241m=\u001b[39m [to_np(f(\u001b[38;5;241m*\u001b[39mallargs)) \u001b[38;5;28;01mfor\u001b[39;00m f \u001b[38;5;129;01min\u001b[39;00m funcs]\n\u001b[1;32m   3570\u001b[0m     \u001b[38;5;66;03m# transpose, such that the input axis (e.g. time) is the first one\u001b[39;00m\n\u001b[1;32m   3571\u001b[0m     res \u001b[38;5;241m=\u001b[39m to_np(results)\u001b[38;5;241m.\u001b[39mT\u001b[38;5;241m.\u001b[39msqueeze()\n",
      "File \u001b[0;32m/mnt/c/Users/kwrede/Desktop/Studienarbeit/SA-Wrede/lift_actuated_double_crane_notebooks/../../symbtools/symbtools/core.py:3568\u001b[0m, in \u001b[0;36m<listcomp>\u001b[0;34m(.0)\u001b[0m\n\u001b[1;32m   3566\u001b[0m \u001b[38;5;28;01mdef\u001b[39;00m \u001b[38;5;21mfunc2\u001b[39m(\u001b[38;5;241m*\u001b[39mallargs):\n\u001b[1;32m   3567\u001b[0m     \u001b[38;5;66;03m# each result should be a 1d- array\u001b[39;00m\n\u001b[0;32m-> 3568\u001b[0m     results \u001b[38;5;241m=\u001b[39m [to_np(\u001b[43mf\u001b[49m\u001b[43m(\u001b[49m\u001b[38;5;241;43m*\u001b[39;49m\u001b[43mallargs\u001b[49m\u001b[43m)\u001b[49m) \u001b[38;5;28;01mfor\u001b[39;00m f \u001b[38;5;129;01min\u001b[39;00m funcs]\n\u001b[1;32m   3570\u001b[0m     \u001b[38;5;66;03m# transpose, such that the input axis (e.g. time) is the first one\u001b[39;00m\n\u001b[1;32m   3571\u001b[0m     res \u001b[38;5;241m=\u001b[39m to_np(results)\u001b[38;5;241m.\u001b[39mT\u001b[38;5;241m.\u001b[39msqueeze()\n",
      "File \u001b[0;32m<lambdifygenerated-78>:2\u001b[0m, in \u001b[0;36m_lambdifygenerated\u001b[0;34m(p1, p2, p3, q1, q2, q3, q4, pdot1, pdot2, pdot3, qdot1, qdot2, qdot3, qdot4, tau1, tau2, tau3, tau4)\u001b[0m\n\u001b[1;32m      1\u001b[0m \u001b[38;5;28;01mdef\u001b[39;00m \u001b[38;5;21m_lambdifygenerated\u001b[39m(p1, p2, p3, q1, q2, q3, q4, pdot1, pdot2, pdot3, qdot1, qdot2, qdot3, qdot4, tau1, tau2, tau3, tau4):\n\u001b[0;32m----> 2\u001b[0m     \u001b[38;5;28;01mreturn\u001b[39;00m (\u001b[38;5;241;43m-\u001b[39;49m\u001b[43mtau3\u001b[49m\u001b[43m \u001b[49m\u001b[38;5;241;43m+\u001b[39;49m\u001b[43m \u001b[49m\u001b[43mtau3\u001b[49m\u001b[43m \u001b[49m\u001b[38;5;241;43m-\u001b[39;49m\u001b[43m \u001b[49m\u001b[43mtau2\u001b[49m\u001b[43m \u001b[49m\u001b[38;5;241;43m+\u001b[39;49m\u001b[43m \u001b[49m\u001b[43mtau2\u001b[49m\u001b[43m \u001b[49m\u001b[38;5;241;43m-\u001b[39;49m\u001b[43m \u001b[49m\u001b[43mtau1\u001b[49m\u001b[43m \u001b[49m\u001b[38;5;241;43m+\u001b[39;49m\u001b[43m \u001b[49m\u001b[43mtau1\u001b[49m\u001b[43m \u001b[49m\u001b[38;5;241;43m-\u001b[39;49m\u001b[43m \u001b[49m\u001b[43mq2\u001b[49m\u001b[43m \u001b[49m\u001b[38;5;241;43m+\u001b[39;49m\u001b[43m \u001b[49m\u001b[43mq2\u001b[49m\u001b[43m \u001b[49m\u001b[38;5;241;43m-\u001b[39;49m\u001b[43m \u001b[49m\u001b[43mp2\u001b[49m\u001b[43m \u001b[49m\u001b[38;5;241;43m+\u001b[39;49m\u001b[43m \u001b[49m\u001b[43mp2\u001b[49m\u001b[43m \u001b[49m\u001b[38;5;241;43m-\u001b[39;49m\u001b[43m \u001b[49m\u001b[43mpdot1\u001b[49m\u001b[43m \u001b[49m\u001b[38;5;241;43m+\u001b[39;49m\u001b[43m \u001b[49m\u001b[43mpdot1\u001b[49m\u001b[43m \u001b[49m\u001b[38;5;241;43m-\u001b[39;49m\u001b[43m \u001b[49m\u001b[43mqdot2\u001b[49m\u001b[43m \u001b[49m\u001b[38;5;241;43m+\u001b[39;49m\u001b[43m \u001b[49m\u001b[43mqdot2\u001b[49m\u001b[43m \u001b[49m\u001b[38;5;241;43m-\u001b[39;49m\u001b[43m \u001b[49m\u001b[43mtau4\u001b[49m\u001b[43m \u001b[49m\u001b[38;5;241;43m+\u001b[39;49m\u001b[43m \u001b[49m\u001b[43mtau4\u001b[49m\u001b[43m \u001b[49m\u001b[38;5;241;43m-\u001b[39;49m\u001b[43m \u001b[49m\u001b[43mqdot3\u001b[49m\u001b[43m \u001b[49m\u001b[38;5;241;43m+\u001b[39;49m\u001b[43m \u001b[49m\u001b[43mqdot3\u001b[49m\u001b[43m \u001b[49m\u001b[38;5;241;43m-\u001b[39;49m\u001b[43m \u001b[49m\u001b[43mpdot2\u001b[49m\u001b[43m \u001b[49m\u001b[38;5;241;43m+\u001b[39;49m\u001b[43m \u001b[49m\u001b[43mpdot2\u001b[49m\u001b[43m \u001b[49m\u001b[38;5;241;43m-\u001b[39;49m\u001b[43m \u001b[49m\u001b[43mq3\u001b[49m\u001b[43m \u001b[49m\u001b[38;5;241;43m+\u001b[39;49m\u001b[43m \u001b[49m\u001b[43mq3\u001b[49m\u001b[43m \u001b[49m\u001b[38;5;241;43m-\u001b[39;49m\u001b[43m \u001b[49m\u001b[43mq1\u001b[49m\u001b[43m \u001b[49m\u001b[38;5;241;43m+\u001b[39;49m\u001b[43m \u001b[49m\u001b[43mq1\u001b[49m\u001b[43m \u001b[49m\u001b[38;5;241;43m-\u001b[39;49m\u001b[43m \u001b[49m\u001b[43mpdot3\u001b[49m\u001b[43m \u001b[49m\u001b[38;5;241;43m+\u001b[39;49m\u001b[43m \u001b[49m\u001b[43mpdot3\u001b[49m\u001b[43m \u001b[49m\u001b[38;5;241;43m-\u001b[39;49m\u001b[43m \u001b[49m\u001b[43mp1\u001b[49m\u001b[43m \u001b[49m\u001b[38;5;241;43m+\u001b[39;49m\u001b[43m \u001b[49m\u001b[43mp1\u001b[49m\u001b[43m \u001b[49m\u001b[38;5;241;43m-\u001b[39;49m\u001b[43m \u001b[49m\u001b[43mqdot4\u001b[49m\u001b[43m \u001b[49m\u001b[38;5;241;43m+\u001b[39;49m\u001b[43m \u001b[49m\u001b[43mqdot4\u001b[49m\u001b[43m \u001b[49m\u001b[38;5;241;43m-\u001b[39;49m\u001b[43m \u001b[49m\u001b[43mqdot1\u001b[49m\u001b[43m \u001b[49m\u001b[38;5;241;43m+\u001b[39;49m\u001b[43m \u001b[49m\u001b[43mqdot1\u001b[49m \u001b[38;5;241m-\u001b[39m q4\u001b[38;5;241m*\u001b[39msin(p3) \u001b[38;5;241m-\u001b[39m \u001b[38;5;241m0.4\u001b[39m\u001b[38;5;241m*\u001b[39msin(p3))\n",
      "File \u001b[0;32m~/.local/lib/python3.8/site-packages/sympy/core/decorators.py:94\u001b[0m, in \u001b[0;36m__sympifyit.<locals>.__sympifyit_wrapper\u001b[0;34m(a, b)\u001b[0m\n\u001b[1;32m     90\u001b[0m \u001b[38;5;28;01mtry\u001b[39;00m:\n\u001b[1;32m     91\u001b[0m     \u001b[38;5;66;03m# If an external class has _op_priority, it knows how to deal\u001b[39;00m\n\u001b[1;32m     92\u001b[0m     \u001b[38;5;66;03m# with sympy objects. Otherwise, it must be converted.\u001b[39;00m\n\u001b[1;32m     93\u001b[0m     \u001b[38;5;28;01mif\u001b[39;00m \u001b[38;5;129;01mnot\u001b[39;00m \u001b[38;5;28mhasattr\u001b[39m(b, \u001b[38;5;124m'\u001b[39m\u001b[38;5;124m_op_priority\u001b[39m\u001b[38;5;124m'\u001b[39m):\n\u001b[0;32m---> 94\u001b[0m         b \u001b[38;5;241m=\u001b[39m \u001b[43msympify\u001b[49m\u001b[43m(\u001b[49m\u001b[43mb\u001b[49m\u001b[43m,\u001b[49m\u001b[43m \u001b[49m\u001b[43mstrict\u001b[49m\u001b[38;5;241;43m=\u001b[39;49m\u001b[38;5;28;43;01mTrue\u001b[39;49;00m\u001b[43m)\u001b[49m\n\u001b[1;32m     95\u001b[0m     \u001b[38;5;28;01mreturn\u001b[39;00m func(a, b)\n\u001b[1;32m     96\u001b[0m \u001b[38;5;28;01mexcept\u001b[39;00m SympifyError:\n",
      "File \u001b[0;32m~/.local/lib/python3.8/site-packages/sympy/core/sympify.py:361\u001b[0m, in \u001b[0;36msympify\u001b[0;34m(a, locals, convert_xor, strict, rational, evaluate)\u001b[0m\n\u001b[1;32m    359\u001b[0m conv \u001b[38;5;241m=\u001b[39m converter\u001b[38;5;241m.\u001b[39mget(\u001b[38;5;28mcls\u001b[39m, \u001b[38;5;28;01mNone\u001b[39;00m)\n\u001b[1;32m    360\u001b[0m \u001b[38;5;28;01mif\u001b[39;00m conv \u001b[38;5;129;01mis\u001b[39;00m \u001b[38;5;129;01mnot\u001b[39;00m \u001b[38;5;28;01mNone\u001b[39;00m:\n\u001b[0;32m--> 361\u001b[0m     \u001b[38;5;28;01mreturn\u001b[39;00m \u001b[43mconv\u001b[49m\u001b[43m(\u001b[49m\u001b[43ma\u001b[49m\u001b[43m)\u001b[49m\n\u001b[1;32m    363\u001b[0m \u001b[38;5;28;01mfor\u001b[39;00m superclass \u001b[38;5;129;01min\u001b[39;00m getmro(\u001b[38;5;28mcls\u001b[39m):\n\u001b[1;32m    364\u001b[0m     \u001b[38;5;28;01mtry\u001b[39;00m:\n",
      "File \u001b[0;32m~/.local/lib/python3.8/site-packages/sympy/core/numbers.py:1138\u001b[0m, in \u001b[0;36mFloat.__new__\u001b[0;34m(***failed resolving arguments***)\u001b[0m\n\u001b[1;32m   1135\u001b[0m \u001b[38;5;28;01mif\u001b[39;00m precision \u001b[38;5;129;01mis\u001b[39;00m \u001b[38;5;28;01mNone\u001b[39;00m \u001b[38;5;129;01mor\u001b[39;00m precision \u001b[38;5;241m==\u001b[39m \u001b[38;5;124m'\u001b[39m\u001b[38;5;124m'\u001b[39m:\n\u001b[1;32m   1136\u001b[0m     precision \u001b[38;5;241m=\u001b[39m mlib\u001b[38;5;241m.\u001b[39mlibmpf\u001b[38;5;241m.\u001b[39mdps_to_prec(dps)\n\u001b[0;32m-> 1138\u001b[0m precision \u001b[38;5;241m=\u001b[39m \u001b[38;5;28;43mint\u001b[39;49m\u001b[43m(\u001b[49m\u001b[43mprecision\u001b[49m\u001b[43m)\u001b[49m\n\u001b[1;32m   1140\u001b[0m \u001b[38;5;28;01mif\u001b[39;00m \u001b[38;5;28misinstance\u001b[39m(num, \u001b[38;5;28mfloat\u001b[39m):\n\u001b[1;32m   1141\u001b[0m     _mpf_ \u001b[38;5;241m=\u001b[39m mlib\u001b[38;5;241m.\u001b[39mfrom_float(num, precision, rnd)\n",
      "\u001b[0;31mKeyboardInterrupt\u001b[0m: "
     ]
    }
   ],
   "source": [
    "tfinal = 10.0        # Specify the final time\n",
    "ncp = 500            # Number of communication points (number of return points)\n",
    "\n",
    "# simulation of DAE system\n",
    "tt_sol, yy_sol, yyd_sol = sim.simulate(tfinal, ncp) "
   ]
  },
  {
   "cell_type": "code",
   "execution_count": null,
   "metadata": {},
   "outputs": [],
   "source": [
    "# trajectories of coordinates and its velocities\n",
    "ttheta_sol = yy_sol[:, :mod.dae.ntt]\n",
    "ttheta_d_sol = yy_sol[:, mod.dae.ntt:mod.dae.ntt*2]"
   ]
  },
  {
   "cell_type": "code",
   "execution_count": null,
   "metadata": {},
   "outputs": [],
   "source": [
    "fig, (ax1, ax2) = plt.subplots(1, 2, figsize=(15, 7)); plt.sca(ax1)\n",
    "\n",
    "ax1.plot(tt_sol, ttheta_sol)\n",
    "ax1.set_title(\"theta\")\n",
    "\n",
    "ax2.plot(tt_sol, ttheta_d_sol)\n",
    "ax2.set_title(\"dot theta\")"
   ]
  },
  {
   "cell_type": "markdown",
   "metadata": {},
   "source": [
    "####  Visualization and Animation of simulation solution"
   ]
  },
  {
   "cell_type": "code",
   "execution_count": null,
   "metadata": {},
   "outputs": [],
   "source": [
    "joint_pos_expr = st.col_stack(G1, G2, G3, G4).subs(parameter_values) ##:\n",
    "joint_pos_func = st.expr_to_func(mod.tt, joint_pos_expr, keep_shape=True)"
   ]
  },
  {
   "cell_type": "code",
   "execution_count": null,
   "metadata": {
    "scrolled": false
   },
   "outputs": [],
   "source": [
    "import matplotlib.animation as animation\n",
    "from IPython.display import HTML\n",
    "\n",
    "fig = pl.figure() \n",
    "ax = fig.add_subplot(111, autoscale_on=False, xlim=(-2.3,2.3), ylim=(-2.3,2.3))\n",
    "ax.set_aspect('equal')\n",
    "\n",
    "line, = ax.plot([],[],'o-', lw=2)\n",
    "time_template = 'time=%.1fs'\n",
    "time_text = ax.text(0.05, 0.9, '', transform=ax.transAxes)\n",
    "dt = tt_sol[1] - tt_sol[0]\n",
    "\n",
    "\n",
    "def init():\n",
    "    line.set_data([],[])\n",
    "    time_text.set_text('')\n",
    "    return line, time_text\n",
    "\n",
    "l1 =1.0\n",
    "\n",
    "def animate(i):\n",
    "    xx, yy = joint_pos_func(*ttheta_sol[i, :])\n",
    "    \n",
    "    line.set_data(xx,yy)\n",
    "    time_text.set_text(time_template%(i*dt))\n",
    "    \n",
    "    return line, time_text\n",
    "\n",
    "\n",
    "ani = animation.FuncAnimation(fig, animate, range(ttheta_sol.shape[0]), interval=tt_sol[-1]*3, blit=True, init_func=init)\n",
    "\n",
    "\n",
    "# this animation is nice but results in a big notebook file which is unwanted for publication in the repo\n",
    "HTML(ani.to_jshtml())\n",
    "\n",
    "\n",
    "\n"
   ]
  },
  {
   "cell_type": "markdown",
   "metadata": {},
   "source": [
    "*Preliminary Conclusion*\n",
    "\n",
    "→ Behavior looks more or less realistic - up to the configurations where $p_1$ is an integer multiple of $\\pi$ (joint is fully streched or fully bended). Probably there are singularities."
   ]
  },
  {
   "cell_type": "markdown",
   "metadata": {},
   "source": [
    "#### Save animation"
   ]
  },
  {
   "cell_type": "code",
   "execution_count": null,
   "metadata": {},
   "outputs": [],
   "source": [
    "# this might need to be adapted on other systems\n",
    "\n",
    "plt.rcParams[\"animation.codec\"] = \"libvpx-vp9\"  # codec for webm\n",
    "plt.rcParams['animation.ffmpeg_path'] = '/usr/bin/ffmpeg'\n",
    "writer = animation.FFMpegWriter(fps=30)\n",
    "ani.save(\"gantry_crane.webm\", writer=writer)"
   ]
  },
  {
   "cell_type": "code",
   "execution_count": null,
   "metadata": {
    "scrolled": true
   },
   "outputs": [],
   "source": [
    "%%HTML\n",
    "<video width=\"320\" height=\"240\" controls>\n",
    "  <source src=\"gantry_crane.webm\" type=\"video/webm\">\n",
    "</video>"
   ]
  },
  {
   "cell_type": "code",
   "execution_count": null,
   "metadata": {},
   "outputs": [],
   "source": []
  }
 ],
 "metadata": {
  "kernelspec": {
   "display_name": "Python 3 (ipykernel)",
   "language": "python",
   "name": "python3"
  },
  "language_info": {
   "codemirror_mode": {
    "name": "ipython",
    "version": 3
   },
   "file_extension": ".py",
   "mimetype": "text/x-python",
   "name": "python",
   "nbconvert_exporter": "python",
   "pygments_lexer": "ipython3",
   "version": "3.8.10"
  },
  "varInspector": {
   "cols": {
    "lenName": 16,
    "lenType": 16,
    "lenVar": 40
   },
   "kernels_config": {
    "python": {
     "delete_cmd_postfix": "",
     "delete_cmd_prefix": "del ",
     "library": "var_list.py",
     "varRefreshCmd": "print(var_dic_list())"
    },
    "r": {
     "delete_cmd_postfix": ") ",
     "delete_cmd_prefix": "rm(",
     "library": "var_list.r",
     "varRefreshCmd": "cat(var_dic_list()) "
    }
   },
   "position": {
    "height": "877px",
    "left": "1528px",
    "right": "20px",
    "top": "134px",
    "width": "363px"
   },
   "types_to_exclude": [
    "module",
    "function",
    "builtin_function_or_method",
    "instance",
    "_Feature"
   ],
   "window_display": true
  }
 },
 "nbformat": 4,
 "nbformat_minor": 2
}
