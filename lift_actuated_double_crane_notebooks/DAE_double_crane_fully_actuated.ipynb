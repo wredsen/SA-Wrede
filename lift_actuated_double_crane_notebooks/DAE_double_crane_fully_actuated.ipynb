{
 "cells": [
  {
   "cell_type": "markdown",
   "metadata": {},
   "source": [
    "### Considered model: four-bar linkage (= two link manipulator + one link manipulator + rigid coupling)\n",
    "\n",
    "\n",
    "This Notebook depends on symbtools >=0.2.5\n",
    "\n",
    "→ `pip install --upgrade symbtools`\n",
    "\n",
    "\n",
    "\n"
   ]
  },
  {
   "cell_type": "code",
   "execution_count": 1,
   "metadata": {},
   "outputs": [],
   "source": [
    "%load_ext ipydex.displaytools\n",
    "%matplotlib inline\n",
    "\n",
    "import sys\n",
    "# to load assimulo under wsl2\n",
    "sys.path.append('/home/kwrede/miniconda3/lib/python3.8/site-packages')\n",
    "sys.path.append('/home/wredi/miniconda3/lib/python3.8/site-packages')\n",
    "\n",
    "import os\n",
    "import sympy as sp\n",
    "import numpy as npy  # we need `np` later \n",
    "from sympy import sin, cos, pi\n",
    "from sympy.interactive import printing\n",
    "\n",
    "# using wredsen's symbtools fork (https://github.com/wredsen/symbtools @ DAE_statefeedback), assuming repos SA-Wrede and symbtools share the same parent directory\n",
    "sys.path.append('../../symbtools/')\n",
    "import symbtools as st\n",
    "import symbtools.modeltools as mt\n",
    "from symbtools.modeltools import Rz # Rotationsmatrix in the xy plane (c, -s; s, c)\n",
    "\n",
    "import scipy.integrate as sc_integrate\n",
    "from scipy.optimize import fmin\n",
    "import matplotlib.pyplot as pl\n",
    "from assimulo.solvers import ODASSL as SOLVER # Imports the solver ODASSL from Assimulo\n",
    "from assimulo.problem import Overdetermined_Problem # Imports the problem formulation from Assimulo\n",
    "import ipydex\n",
    "plt = pl\n",
    "\n",
    "printing.init_printing(1)"
   ]
  },
  {
   "cell_type": "code",
   "execution_count": 47,
   "metadata": {
    "scrolled": false
   },
   "outputs": [],
   "source": [
    "from IPython.display import Image\n",
    "from IPython.core.display import SVG\n",
    "#TODO: p2 is absolute now\n",
    "#SVG(filename='DAE_double_crane_fully_actuated.svg')"
   ]
  },
  {
   "cell_type": "code",
   "execution_count": 48,
   "metadata": {
    "scrolled": true
   },
   "outputs": [
    {
     "data": {
      "text/latex": [
       "aa.T := $\\displaystyle \\left[\\begin{matrix}a_{1} & a_{2} & a_{3} & a_{4}\\end{matrix}\\right]$"
      ],
      "text/plain": [
       "aa.T := [a₁  a₂  a₃  a₄]"
      ]
     },
     "metadata": {},
     "output_type": "display_data"
    },
    {
     "data": {
      "text/plain": [
       "---"
      ]
     },
     "metadata": {},
     "output_type": "display_data"
    },
    {
     "data": {
      "text/latex": [
       "ttheta.T := $\\displaystyle \\left[\\begin{matrix}p_{1} & p_{2} & p_{3} & q_{1} & q_{2} & q_{3} & q_{4}\\end{matrix}\\right]$"
      ],
      "text/plain": [
       "ttheta.T := [p₁  p₂  p₃  q₁  q₂  q₃  q₄]"
      ]
     },
     "metadata": {},
     "output_type": "display_data"
    },
    {
     "data": {
      "text/plain": [
       "---"
      ]
     },
     "metadata": {},
     "output_type": "display_data"
    },
    {
     "data": {
      "text/latex": [
       "tthetad.T := $\\displaystyle \\left[\\begin{matrix}\\dot{p}_{1} & \\dot{p}_{2} & \\dot{p}_{3} & \\dot{q}_{1} & \\dot{q}_{2} & \\dot{q}_{3} & \\dot{q}_{4}\\end{matrix}\\right]$"
      ],
      "text/plain": [
       "tthetad.T := [ṗ₁  ṗ₂  ṗ₃  q̇₁  q̇₂  q̇₃  q̇₄]"
      ]
     },
     "metadata": {},
     "output_type": "display_data"
    },
    {
     "data": {
      "text/plain": [
       "---"
      ]
     },
     "metadata": {},
     "output_type": "display_data"
    },
    {
     "data": {
      "text/latex": [
       "tthetadd.T := $\\displaystyle \\left[\\begin{matrix}\\ddot{p}_{1} & \\ddot{p}_{2} & \\ddot{p}_{3} & \\ddot{q}_{1} & \\ddot{q}_{2} & \\ddot{q}_{3} & \\ddot{q}_{4}\\end{matrix}\\right]$"
      ],
      "text/plain": [
       "tthetadd.T := [p̈₁  p̈₂  p̈₃  q̈₁  q̈₂  q̈₃  q̈₄]"
      ]
     },
     "metadata": {},
     "output_type": "display_data"
    },
    {
     "data": {
      "text/plain": [
       "---"
      ]
     },
     "metadata": {},
     "output_type": "display_data"
    }
   ],
   "source": [
    "t = sp.Symbol('t')  # time variable\n",
    "\n",
    "# coordinates\n",
    "np = 3 # number of passive coordinates\n",
    "nq = 4 # number of actuated coordinates\n",
    "n = np + nq\n",
    "\n",
    "pp = st.symb_vector(\"p1:{0}\".format(np+1)) # vector of passive coordinates\n",
    "qq = st.symb_vector(\"q1:{0}\".format(nq+1)) # vector of actuated coordinates\n",
    "\n",
    "# vector of control inputs\n",
    "aa = st.symb_vector(\"a1:{0}\".format(nq+1)) ##:T\n",
    "# vector of all coordinates\n",
    "ttheta = st.row_stack(pp, qq) ##:T\n",
    "# vector of velocities \n",
    "tthetad = st.time_deriv(ttheta, ttheta) ##:T\n",
    "# vector of accelerations\n",
    "tthetadd = st.time_deriv(ttheta, ttheta, order=2) ##:T\n",
    "\n",
    "st.make_global(ttheta, tthetad, tthetadd)"
   ]
  },
  {
   "cell_type": "code",
   "execution_count": 49,
   "metadata": {},
   "outputs": [],
   "source": [
    "# symbols for analytic equations\n",
    "params = sp.symbols('s2, m1, m2, m3, J1, J2, J3, mc1b, mc2b d1, d4, l0, l1, l2, l3, g')\n",
    "st.make_global(params)\n",
    "\n",
    "# symbols for control inputs\n",
    "# ttau = sp.symbols('tau')\n",
    "tau1, tau2, tau3, tau4 = ttau = st.symb_vector(\"tau1, tau2, tau3, tau4\")\n"
   ]
  },
  {
   "cell_type": "markdown",
   "metadata": {},
   "source": [
    "Specify the geometry (joints G and centers of masses S)"
   ]
  },
  {
   "cell_type": "code",
   "execution_count": 50,
   "metadata": {},
   "outputs": [
    {
     "data": {
      "text/latex": [
       "B1 := $\\displaystyle \\left[\\begin{matrix}q_{1}\\\\0\\end{matrix}\\right]$"
      ],
      "text/plain": [
       "B1 := ⎡q₁⎤\n",
       "⎢  ⎥\n",
       "⎣0 ⎦"
      ]
     },
     "metadata": {},
     "output_type": "display_data"
    },
    {
     "data": {
      "text/plain": [
       "---"
      ]
     },
     "metadata": {},
     "output_type": "display_data"
    },
    {
     "data": {
      "text/latex": [
       "B2 := $\\displaystyle \\left[\\begin{matrix}l_{0} + q_{2}\\\\0\\end{matrix}\\right]$"
      ],
      "text/plain": [
       "B2 := ⎡l₀ + q₂⎤\n",
       "⎢       ⎥\n",
       "⎣   0   ⎦"
      ]
     },
     "metadata": {},
     "output_type": "display_data"
    },
    {
     "data": {
      "text/plain": [
       "---"
      ]
     },
     "metadata": {},
     "output_type": "display_data"
    },
    {
     "data": {
      "text/latex": [
       "G2 := $\\displaystyle \\left[\\begin{matrix}l_{1} \\cos{\\left(p_{1} \\right)} + q_{1}\\\\l_{1} \\sin{\\left(p_{1} \\right)}\\end{matrix}\\right]$"
      ],
      "text/plain": [
       "G2 := ⎡l₁⋅cos(p₁) + q₁⎤\n",
       "⎢               ⎥\n",
       "⎣  l₁⋅sin(p₁)   ⎦"
      ]
     },
     "metadata": {},
     "output_type": "display_data"
    },
    {
     "data": {
      "text/plain": [
       "---"
      ]
     },
     "metadata": {},
     "output_type": "display_data"
    },
    {
     "data": {
      "text/latex": [
       "G3 := $\\displaystyle \\left[\\begin{matrix}l_{1} \\cos{\\left(p_{1} \\right)} + q_{1} + q_{3} \\cos{\\left(p_{1} \\right)}\\\\l_{1} \\sin{\\left(p_{1} \\right)} + q_{3} \\sin{\\left(p_{1} \\right)}\\end{matrix}\\right]$"
      ],
      "text/plain": [
       "G3 := ⎡l₁⋅cos(p₁) + q₁ + q₃⋅cos(p₁)⎤\n",
       "⎢                            ⎥\n",
       "⎣  l₁⋅sin(p₁) + q₃⋅sin(p₁)   ⎦"
      ]
     },
     "metadata": {},
     "output_type": "display_data"
    },
    {
     "data": {
      "text/plain": [
       "---"
      ]
     },
     "metadata": {},
     "output_type": "display_data"
    },
    {
     "data": {
      "text/latex": [
       "G5 := $\\displaystyle \\left[\\begin{matrix}l_{0} + l_{3} \\cos{\\left(p_{3} \\right)} + q_{2}\\\\l_{3} \\sin{\\left(p_{3} \\right)}\\end{matrix}\\right]$"
      ],
      "text/plain": [
       "G5 := ⎡l₀ + l₃⋅cos(p₃) + q₂⎤\n",
       "⎢                    ⎥\n",
       "⎣     l₃⋅sin(p₃)     ⎦"
      ]
     },
     "metadata": {},
     "output_type": "display_data"
    },
    {
     "data": {
      "text/plain": [
       "---"
      ]
     },
     "metadata": {},
     "output_type": "display_data"
    },
    {
     "data": {
      "text/latex": [
       "G4 := $\\displaystyle \\left[\\begin{matrix}l_{0} + l_{3} \\cos{\\left(p_{3} \\right)} + q_{2} + q_{4} \\cos{\\left(p_{3} \\right)}\\\\l_{3} \\sin{\\left(p_{3} \\right)} + q_{4} \\sin{\\left(p_{3} \\right)}\\end{matrix}\\right]$"
      ],
      "text/plain": [
       "G4 := ⎡l₀ + l₃⋅cos(p₃) + q₂ + q₄⋅cos(p₃)⎤\n",
       "⎢                                 ⎥\n",
       "⎣     l₃⋅sin(p₃) + q₄⋅sin(p₃)     ⎦"
      ]
     },
     "metadata": {},
     "output_type": "display_data"
    },
    {
     "data": {
      "text/plain": [
       "---"
      ]
     },
     "metadata": {},
     "output_type": "display_data"
    },
    {
     "data": {
      "text/latex": [
       "S2 := $\\displaystyle \\left[\\begin{matrix}l_{1} \\cos{\\left(p_{1} \\right)} + q_{1} + q_{3} \\cos{\\left(p_{1} \\right)} + \\frac{s_{2} \\left(l_{0} - l_{1} \\cos{\\left(p_{1} \\right)} + l_{3} \\cos{\\left(p_{3} \\right)} - q_{1} + q_{2} - q_{3} \\cos{\\left(p_{1} \\right)} + q_{4} \\cos{\\left(p_{3} \\right)}\\right)}{l_{2}}\\\\l_{1} \\sin{\\left(p_{1} \\right)} + q_{3} \\sin{\\left(p_{1} \\right)} + \\frac{s_{2} \\left(- l_{1} \\sin{\\left(p_{1} \\right)} + l_{3} \\sin{\\left(p_{3} \\right)} - q_{3} \\sin{\\left(p_{1} \\right)} + q_{4} \\sin{\\left(p_{3} \\right)}\\right)}{l_{2}}\\end{matrix}\\right]$"
      ],
      "text/plain": [
       "S2 := ⎡                               s₂⋅(l₀ - l₁⋅cos(p₁) + l₃⋅cos(p₃) - q₁ + q₂ - q\n",
       "⎢l₁⋅cos(p₁) + q₁ + q₃⋅cos(p₁) + ──────────────────────────────────────────────\n",
       "⎢                                                                 l₂          \n",
       "⎢                                                                             \n",
       "⎢                                   s₂⋅(-l₁⋅sin(p₁) + l₃⋅sin(p₃) - q₃⋅sin(p₁) \n",
       "⎢         l₁⋅sin(p₁) + q₃⋅sin(p₁) + ──────────────────────────────────────────\n",
       "⎣                                                              l₂             \n",
       "\n",
       "₃⋅cos(p₁) + q₄⋅cos(p₃))⎤\n",
       "───────────────────────⎥\n",
       "                       ⎥\n",
       "                       ⎥\n",
       "+ q₄⋅sin(p₃))          ⎥\n",
       "─────────────          ⎥\n",
       "                       ⎦"
      ]
     },
     "metadata": {},
     "output_type": "display_data"
    },
    {
     "data": {
      "text/plain": [
       "---"
      ]
     },
     "metadata": {},
     "output_type": "display_data"
    },
    {
     "data": {
      "text/latex": [
       "G4b := $\\displaystyle \\left[\\begin{matrix}l_{1} \\cos{\\left(p_{1} \\right)} + l_{2} \\cos{\\left(p_{2} \\right)} + q_{1} + q_{3} \\cos{\\left(p_{1} \\right)}\\\\l_{1} \\sin{\\left(p_{1} \\right)} + l_{2} \\sin{\\left(p_{2} \\right)} + q_{3} \\sin{\\left(p_{1} \\right)}\\end{matrix}\\right]$"
      ],
      "text/plain": [
       "G4b := ⎡l₁⋅cos(p₁) + l₂⋅cos(p₂) + q₁ + q₃⋅cos(p₁)⎤\n",
       "⎢                                         ⎥\n",
       "⎣  l₁⋅sin(p₁) + l₂⋅sin(p₂) + q₃⋅sin(p₁)   ⎦"
      ]
     },
     "metadata": {},
     "output_type": "display_data"
    },
    {
     "data": {
      "text/plain": [
       "---"
      ]
     },
     "metadata": {},
     "output_type": "display_data"
    },
    {
     "data": {
      "text/latex": [
       "(Sd1, Sd2, Sd3) := $\\displaystyle \\left( \\left[\\begin{matrix}\\dot{q}_{1}\\\\0\\end{matrix}\\right], \\  \\left[\\begin{matrix}- l_{1} \\dot{p}_{1} \\sin{\\left(p_{1} \\right)} - \\dot{p}_{1} q_{3} \\sin{\\left(p_{1} \\right)} + \\dot{q}_{1} + \\dot{q}_{3} \\cos{\\left(p_{1} \\right)} + \\frac{s_{2} \\left(l_{1} \\dot{p}_{1} \\sin{\\left(p_{1} \\right)} - l_{3} \\dot{p}_{3} \\sin{\\left(p_{3} \\right)} + \\dot{p}_{1} q_{3} \\sin{\\left(p_{1} \\right)} - \\dot{p}_{3} q_{4} \\sin{\\left(p_{3} \\right)} - \\dot{q}_{1} + \\dot{q}_{2} - \\dot{q}_{3} \\cos{\\left(p_{1} \\right)} + \\dot{q}_{4} \\cos{\\left(p_{3} \\right)}\\right)}{l_{2}}\\\\l_{1} \\dot{p}_{1} \\cos{\\left(p_{1} \\right)} + \\dot{p}_{1} q_{3} \\cos{\\left(p_{1} \\right)} + \\dot{q}_{3} \\sin{\\left(p_{1} \\right)} + \\frac{s_{2} \\left(- l_{1} \\dot{p}_{1} \\cos{\\left(p_{1} \\right)} + l_{3} \\dot{p}_{3} \\cos{\\left(p_{3} \\right)} - \\dot{p}_{1} q_{3} \\cos{\\left(p_{1} \\right)} + \\dot{p}_{3} q_{4} \\cos{\\left(p_{3} \\right)} - \\dot{q}_{3} \\sin{\\left(p_{1} \\right)} + \\dot{q}_{4} \\sin{\\left(p_{3} \\right)}\\right)}{l_{2}}\\end{matrix}\\right], \\  \\left[\\begin{matrix}\\dot{q}_{2}\\\\0\\end{matrix}\\right]\\right)$"
      ],
      "text/plain": [
       "(Sd1, Sd2, Sd3) := ⎛      ⎡                                                   s₂⋅(l₁⋅ṗ₁⋅sin(p₁) \n",
       "⎜      ⎢-l₁⋅ṗ₁⋅sin(p₁) - ṗ₁⋅q₃⋅sin(p₁) + q̇₁ + q̇₃⋅cos(p₁) + ───────────────\n",
       "⎜⎡q̇₁⎤  ⎢                                                                     \n",
       "⎜⎢  ⎥, ⎢                                                                      \n",
       "⎜⎣0 ⎦  ⎢                                                    s₂⋅(-l₁⋅ṗ₁⋅cos(p₁\n",
       "⎜      ⎢       l₁⋅ṗ₁⋅cos(p₁) + ṗ₁⋅q₃⋅cos(p₁) + q̇₃⋅sin(p₁) + ───────────────\n",
       "⎝      ⎣                                                                      \n",
       "\n",
       "- l₃⋅ṗ₃⋅sin(p₃) + ṗ₁⋅q₃⋅sin(p₁) - ṗ₃⋅q₄⋅sin(p₃) - q̇₁ + q̇₂ - q̇₃⋅cos(p₁) +\n",
       "──────────────────────────────────────────────────────────────────────────────\n",
       "                                l₂                                            \n",
       "                                                                              \n",
       ") + l₃⋅ṗ₃⋅cos(p₃) - ṗ₁⋅q₃⋅cos(p₁) + ṗ₃⋅q₄⋅cos(p₃) - q̇₃⋅sin(p₁) + q̇₄⋅sin(p\n",
       "──────────────────────────────────────────────────────────────────────────────\n",
       "                            l₂                                                \n",
       "\n",
       " q̇₄⋅cos(p₃))⎤      ⎞\n",
       "─────────⎥      ⎟\n",
       "      ⎥  ⎡q̇₂⎤⎟\n",
       "     ⎥, ⎢  ⎥⎟\n",
       "₃))        ⎥  ⎣0 ⎦⎟\n",
       "        ⎥      ⎟\n",
       "     ⎦      ⎠"
      ]
     },
     "metadata": {},
     "output_type": "display_data"
    },
    {
     "data": {
      "text/plain": [
       "---"
      ]
     },
     "metadata": {},
     "output_type": "display_data"
    }
   ],
   "source": [
    "# unit vectors\n",
    "ex = sp.Matrix([1, 0])\n",
    "ey = sp.Matrix([0, 1])\n",
    "\n",
    "# basis 1 and 2 (cart positions)\n",
    "S1 = G1 = B1 = sp.Matrix([q1, 0]) ##:\n",
    "S3 = G6 = B2 = sp.Matrix([l0 + q2, 0]) ##:\n",
    "\n",
    "# joints 2 and 3 (load joints)\n",
    "G2 = G1 + Rz(p1)*ex*l1 ##:\n",
    "G3 = G2 + Rz(p1)*ex*q3 ##:\n",
    "\n",
    "# center of mass of load\n",
    "G5 = G6 + Rz(p3)*ex*l3 ##:\n",
    "G4 = G5 + Rz(p3)*ex*q4 ##:\n",
    "S2 = G3 + (G4-G3)*s2/l2 ##:\n",
    "\n",
    "# alternative route to G4 for constraints\n",
    "G4b = G3 + Rz(p2)*ex*l2 ##:\n",
    "\n",
    "# Time derivatives of centers of masses\n",
    "Sd1, Sd2, Sd3 = st.col_split(st.time_deriv(st.col_stack(S1, S2, S3), ttheta)) ##:"
   ]
  },
  {
   "cell_type": "code",
   "execution_count": 51,
   "metadata": {},
   "outputs": [
    {
     "data": {
      "image/png": "[encoded data removed]",
      "text/latex": [
       "T := $\\displaystyle \\frac{J_{2} \\dot{p}_{2}^{2}}{2} + \\frac{m_{1} \\dot{q}_{1}^{2}}{2} + \\frac{m_{2} \\left(l_{1} \\dot{p}_{1} \\cos{\\left(p_{1} \\right)} + \\dot{p}_{1} q_{3} \\cos{\\left(p_{1} \\right)} + \\dot{q}_{3} \\sin{\\left(p_{1} \\right)} + \\frac{s_{2} \\left(- l_{1} \\dot{p}_{1} \\cos{\\left(p_{1} \\right)} + l_{3} \\dot{p}_{3} \\cos{\\left(p_{3} \\right)} - \\dot{p}_{1} q_{3} \\cos{\\left(p_{1} \\right)} + \\dot{p}_{3} q_{4} \\cos{\\left(p_{3} \\right)} - \\dot{q}_{3} \\sin{\\left(p_{1} \\right)} + \\dot{q}_{4} \\sin{\\left(p_{3} \\right)}\\right)}{l_{2}}\\right)^{2}}{2} + \\frac{m_{2} \\left(- l_{1} \\dot{p}_{1} \\sin{\\left(p_{1} \\right)} - \\dot{p}_{1} q_{3} \\sin{\\left(p_{1} \\right)} + \\dot{q}_{1} + \\dot{q}_{3} \\cos{\\left(p_{1} \\right)} + \\frac{s_{2} \\left(l_{1} \\dot{p}_{1} \\sin{\\left(p_{1} \\right)} - l_{3} \\dot{p}_{3} \\sin{\\left(p_{3} \\right)} + \\dot{p}_{1} q_{3} \\sin{\\left(p_{1} \\right)} - \\dot{p}_{3} q_{4} \\sin{\\left(p_{3} \\right)} - \\dot{q}_{1} + \\dot{q}_{2} - \\dot{q}_{3} \\cos{\\left(p_{1} \\right)} + \\dot{q}_{4} \\cos{\\left(p_{3} \\right)}\\right)}{l_{2}}\\right)^{2}}{2} + \\frac{m_{3} \\dot{q}_{2}^{2}}{2}$"
      ],
      "text/plain": [
       "T :=                                                                               \n",
       "                     ⎛                                             s₂⋅(-l₁⋅ṗ₁\n",
       "     2        2   m₂⋅⎜l₁⋅ṗ₁⋅cos(p₁) + ṗ₁⋅q₃⋅cos(p₁) + q̇₃⋅sin(p₁) + ────────\n",
       "J₂⋅ṗ₂    m₁⋅q̇₁       ⎝                                                      \n",
       "────── + ────── + ────────────────────────────────────────────────────────────\n",
       "  2        2                                                                  \n",
       "\n",
       "                                                                              \n",
       "⋅cos(p₁) + l₃⋅ṗ₃⋅cos(p₃) - ṗ₁⋅q₃⋅cos(p₁) + ṗ₃⋅q₄⋅cos(p₃) - q̇₃⋅sin(p₁) + q̇\n",
       "──────────────────────────────────────────────────────────────────────────────\n",
       "                                     l₂                                       \n",
       "──────────────────────────────────────────────────────────────────────────────\n",
       "           2                                                                  \n",
       "\n",
       "     2                                                                        \n",
       "₄⋅sin(p₃))⎞       ⎛                                                   s₂⋅(l₁⋅p\n",
       "───────⎟    m₂⋅⎜-l₁⋅ṗ₁⋅sin(p₁) - ṗ₁⋅q₃⋅sin(p₁) + q̇₁ + q̇₃⋅cos(p₁) + ───────\n",
       "      ⎠       ⎝                                                               \n",
       "────── + ─────────────────────────────────────────────────────────────────────\n",
       "                                                                              \n",
       "\n",
       "                                                                              \n",
       "̇₁⋅sin(p₁) - l₃⋅ṗ₃⋅sin(p₃) + ṗ₁⋅q₃⋅sin(p₁) - ṗ₃⋅q₄⋅sin(p₃) - q̇₁ + q̇₂ - q̇\n",
       "──────────────────────────────────────────────────────────────────────────────\n",
       "                                      l₂                                      \n",
       "──────────────────────────────────────────────────────────────────────────────\n",
       "          2                                                                   \n",
       "\n",
       "           2         \n",
       "₃⋅cos(p₁) + q̇₄⋅cos(p₃))⎞          \n",
       "─────────────────⎟         2\n",
       "            ⎠    m₃⋅q̇₂ \n",
       "──────────── + ──────\n",
       "                 2   "
      ]
     },
     "metadata": {},
     "output_type": "display_data"
    },
    {
     "data": {
      "text/plain": [
       "---"
      ]
     },
     "metadata": {},
     "output_type": "display_data"
    },
    {
     "data": {
      "image/png": "[encoded data removed]",
      "text/latex": [
       "V := $\\displaystyle g m_{2} \\left(l_{1} \\sin{\\left(p_{1} \\right)} + l_{1} + q_{3} \\sin{\\left(p_{1} \\right)} + s_{2} + 0.3 + \\frac{s_{2} \\left(- l_{1} \\sin{\\left(p_{1} \\right)} + l_{3} \\sin{\\left(p_{3} \\right)} - q_{3} \\sin{\\left(p_{1} \\right)} + q_{4} \\sin{\\left(p_{3} \\right)}\\right)}{l_{2}}\\right)$"
      ],
      "text/plain": [
       "V :=      ⎛                                          s₂⋅(-l₁⋅sin(p₁) + l₃⋅sin(p₃) -\n",
       "g⋅m₂⋅⎜l₁⋅sin(p₁) + l₁ + q₃⋅sin(p₁) + s₂ + 0.3 + ──────────────────────────────\n",
       "     ⎝                                                                     l₂ \n",
       "\n",
       " q₃⋅sin(p₁) + q₄⋅sin(p₃))⎞\n",
       "─────────────────────────⎟\n",
       "                         ⎠"
      ]
     },
     "metadata": {},
     "output_type": "display_data"
    },
    {
     "data": {
      "text/plain": [
       "---"
      ]
     },
     "metadata": {},
     "output_type": "display_data"
    }
   ],
   "source": [
    "# kinetic energy\n",
    "T1 = (m1/2 * Sd1.T*Sd1)[0] \n",
    "T2 = (m2/2 * Sd2.T*Sd2)[0] + J2/2 * (pdot2)**2\n",
    "T3 = (m3/2 * Sd3.T*Sd3)[0]\n",
    "\n",
    "T = T1 + T2 + T3 ##:\n",
    "\n",
    "# TODO: correct treatment for V ???\n",
    "# max length of rope\n",
    "q3max = 0.3\n",
    "# potential energy, for l1 <= l2\n",
    "V = m2*g*(l1+q3max + s2 + S2[1]) ##:"
   ]
  },
  {
   "cell_type": "code",
   "execution_count": 52,
   "metadata": {},
   "outputs": [],
   "source": [
    "import pickle\n",
    "\n",
    "# load model from pickle file instead of calculating it which takes a lot of time\n",
    "loading_model = 0\n",
    "\n",
    "if loading_model == 1:\n",
    "    with open(\"DAE_fully_actuated_crane.pcl\", \"rb\") as pfile:\n",
    "        mod = pickle.load(pfile)\n",
    "\n",
    "else:\n",
    "    # dissipation included here! -d1*qdot1, -d4*qdot2 should be in control input function later\n",
    "    external_forces = [0 , 0, 0, tau1, tau2, tau3, tau4]\n",
    "    \n",
    "    # model generation with Lagragian Mechanics\n",
    "    mod = mt.generate_symbolic_model(T, V, ttheta, external_forces, constraints=[G4 - G4b])\n",
    "    \n",
    "    # write the model to disk to save time in the next run of the notebook\n",
    "    with open(\"DAE_fully_actuated_crane.pcl\", \"wb\") as pfile:\n",
    "        pickle.dump(mod, pfile)"
   ]
  },
  {
   "cell_type": "code",
   "execution_count": 53,
   "metadata": {
    "scrolled": false
   },
   "outputs": [
    {
     "data": {
      "text/latex": [
       "$\\displaystyle \\left[\\begin{matrix}\\frac{\\left(l_{1} + q_{3}\\right) \\left(g l_{2} m_{2} \\left(l_{2} - s_{2}\\right) \\cos{\\left(p_{1} \\right)} + l_{2}^{2} \\left(- \\lambda_{1} \\sin{\\left(p_{1} \\right)} + \\lambda_{2} \\cos{\\left(p_{1} \\right)}\\right) + m_{2} \\left(l_{2} - s_{2}\\right) \\left(l_{1} l_{2} \\ddot{p}_{1} - l_{1} \\ddot{p}_{1} s_{2} + l_{2} \\ddot{p}_{1} q_{3} + 2 l_{2} \\dot{p}_{1} \\dot{q}_{3} - l_{2} \\ddot{q}_{1} \\sin{\\left(p_{1} \\right)} + l_{3} \\ddot{p}_{3} s_{2} \\cos{\\left(p_{1} - p_{3} \\right)} + l_{3} \\dot{p}_{3}^{2} s_{2} \\sin{\\left(p_{1} - p_{3} \\right)} - \\ddot{p}_{1} q_{3} s_{2} + \\ddot{p}_{3} q_{4} s_{2} \\cos{\\left(p_{1} - p_{3} \\right)} - 2 \\dot{p}_{1} \\dot{q}_{3} s_{2} + \\dot{p}_{3}^{2} q_{4} s_{2} \\sin{\\left(p_{1} - p_{3} \\right)} + 2 \\dot{p}_{3} \\dot{q}_{4} s_{2} \\cos{\\left(p_{1} - p_{3} \\right)} + \\ddot{q}_{1} s_{2} \\sin{\\left(p_{1} \\right)} - \\ddot{q}_{2} s_{2} \\sin{\\left(p_{1} \\right)} - \\ddot{q}_{4} s_{2} \\sin{\\left(p_{1} - p_{3} \\right)}\\right)\\right)}{l_{2}^{2}}\\\\J_{2} \\ddot{p}_{2} - l_{2} \\lambda_{1} \\sin{\\left(p_{2} \\right)} + l_{2} \\lambda_{2} \\cos{\\left(p_{2} \\right)}\\\\\\frac{\\left(l_{3} + q_{4}\\right) \\left(g l_{2} m_{2} s_{2} \\cos{\\left(p_{3} \\right)} + l_{2}^{2} \\left(\\lambda_{1} \\sin{\\left(p_{3} \\right)} - \\lambda_{2} \\cos{\\left(p_{3} \\right)}\\right) + m_{2} s_{2} \\left(l_{1} l_{2} \\ddot{p}_{1} \\cos{\\left(p_{1} - p_{3} \\right)} - l_{1} l_{2} \\dot{p}_{1}^{2} \\sin{\\left(p_{1} - p_{3} \\right)} - l_{1} \\ddot{p}_{1} s_{2} \\cos{\\left(p_{1} - p_{3} \\right)} + l_{1} \\dot{p}_{1}^{2} s_{2} \\sin{\\left(p_{1} - p_{3} \\right)} + l_{2} \\ddot{p}_{1} q_{3} \\cos{\\left(p_{1} - p_{3} \\right)} - l_{2} \\dot{p}_{1}^{2} q_{3} \\sin{\\left(p_{1} - p_{3} \\right)} + 2 l_{2} \\dot{p}_{1} \\dot{q}_{3} \\cos{\\left(p_{1} - p_{3} \\right)} - l_{2} \\ddot{q}_{1} \\sin{\\left(p_{3} \\right)} + l_{2} \\ddot{q}_{3} \\sin{\\left(p_{1} - p_{3} \\right)} + l_{3} \\ddot{p}_{3} s_{2} - \\ddot{p}_{1} q_{3} s_{2} \\cos{\\left(p_{1} - p_{3} \\right)} + \\ddot{p}_{3} q_{4} s_{2} + \\dot{p}_{1}^{2} q_{3} s_{2} \\sin{\\left(p_{1} - p_{3} \\right)} - 2 \\dot{p}_{1} \\dot{q}_{3} s_{2} \\cos{\\left(p_{1} - p_{3} \\right)} + 2 \\dot{p}_{3} \\dot{q}_{4} s_{2} + \\ddot{q}_{1} s_{2} \\sin{\\left(p_{3} \\right)} - \\ddot{q}_{2} s_{2} \\sin{\\left(p_{3} \\right)} - \\ddot{q}_{3} s_{2} \\sin{\\left(p_{1} - p_{3} \\right)}\\right)\\right)}{l_{2}^{2}}\\\\\\frac{l_{2}^{2} \\left(\\lambda_{1} + m_{1} \\ddot{q}_{1} - \\tau_{1}\\right) - m_{2} \\left(l_{2} - s_{2}\\right) \\left(l_{2} \\left(l_{1} \\ddot{p}_{1} \\sin{\\left(p_{1} \\right)} + l_{1} \\dot{p}_{1}^{2} \\cos{\\left(p_{1} \\right)} + \\ddot{p}_{1} q_{3} \\sin{\\left(p_{1} \\right)} + \\dot{p}_{1}^{2} q_{3} \\cos{\\left(p_{1} \\right)} + 2 \\dot{p}_{1} \\dot{q}_{3} \\sin{\\left(p_{1} \\right)} - \\ddot{q}_{1} - \\ddot{q}_{3} \\cos{\\left(p_{1} \\right)}\\right) - s_{2} \\left(l_{1} \\ddot{p}_{1} \\sin{\\left(p_{1} \\right)} + l_{1} \\dot{p}_{1}^{2} \\cos{\\left(p_{1} \\right)} - l_{3} \\ddot{p}_{3} \\sin{\\left(p_{3} \\right)} - l_{3} \\dot{p}_{3}^{2} \\cos{\\left(p_{3} \\right)} + \\ddot{p}_{1} q_{3} \\sin{\\left(p_{1} \\right)} - \\ddot{p}_{3} q_{4} \\sin{\\left(p_{3} \\right)} + \\dot{p}_{1}^{2} q_{3} \\cos{\\left(p_{1} \\right)} + 2 \\dot{p}_{1} \\dot{q}_{3} \\sin{\\left(p_{1} \\right)} - \\dot{p}_{3}^{2} q_{4} \\cos{\\left(p_{3} \\right)} - 2 \\dot{p}_{3} \\dot{q}_{4} \\sin{\\left(p_{3} \\right)} - \\ddot{q}_{1} + \\ddot{q}_{2} - \\ddot{q}_{3} \\cos{\\left(p_{1} \\right)} + \\ddot{q}_{4} \\cos{\\left(p_{3} \\right)}\\right)\\right)}{l_{2}^{2}}\\\\\\frac{l_{2}^{2} \\left(- \\lambda_{1} + m_{3} \\ddot{q}_{2} - \\tau_{2}\\right) - m_{2} s_{2} \\left(l_{2} \\left(l_{1} \\ddot{p}_{1} \\sin{\\left(p_{1} \\right)} + l_{1} \\dot{p}_{1}^{2} \\cos{\\left(p_{1} \\right)} + \\ddot{p}_{1} q_{3} \\sin{\\left(p_{1} \\right)} + \\dot{p}_{1}^{2} q_{3} \\cos{\\left(p_{1} \\right)} + 2 \\dot{p}_{1} \\dot{q}_{3} \\sin{\\left(p_{1} \\right)} - \\ddot{q}_{1} - \\ddot{q}_{3} \\cos{\\left(p_{1} \\right)}\\right) - s_{2} \\left(l_{1} \\ddot{p}_{1} \\sin{\\left(p_{1} \\right)} + l_{1} \\dot{p}_{1}^{2} \\cos{\\left(p_{1} \\right)} - l_{3} \\ddot{p}_{3} \\sin{\\left(p_{3} \\right)} - l_{3} \\dot{p}_{3}^{2} \\cos{\\left(p_{3} \\right)} + \\ddot{p}_{1} q_{3} \\sin{\\left(p_{1} \\right)} - \\ddot{p}_{3} q_{4} \\sin{\\left(p_{3} \\right)} + \\dot{p}_{1}^{2} q_{3} \\cos{\\left(p_{1} \\right)} + 2 \\dot{p}_{1} \\dot{q}_{3} \\sin{\\left(p_{1} \\right)} - \\dot{p}_{3}^{2} q_{4} \\cos{\\left(p_{3} \\right)} - 2 \\dot{p}_{3} \\dot{q}_{4} \\sin{\\left(p_{3} \\right)} - \\ddot{q}_{1} + \\ddot{q}_{2} - \\ddot{q}_{3} \\cos{\\left(p_{1} \\right)} + \\ddot{q}_{4} \\cos{\\left(p_{3} \\right)}\\right)\\right)}{l_{2}^{2}}\\\\\\frac{g l_{2} m_{2} \\left(l_{2} - s_{2}\\right) \\sin{\\left(p_{1} \\right)} + l_{2}^{2} \\left(\\lambda_{1} \\cos{\\left(p_{1} \\right)} + \\lambda_{2} \\sin{\\left(p_{1} \\right)} - \\tau_{3}\\right) + m_{2} \\left(l_{2} - s_{2}\\right) \\left(- l_{1} l_{2} \\dot{p}_{1}^{2} + l_{1} \\dot{p}_{1}^{2} s_{2} - l_{2} \\dot{p}_{1}^{2} q_{3} + l_{2} \\ddot{q}_{1} \\cos{\\left(p_{1} \\right)} + l_{2} \\ddot{q}_{3} + l_{3} \\ddot{p}_{3} s_{2} \\sin{\\left(p_{1} - p_{3} \\right)} - l_{3} \\dot{p}_{3}^{2} s_{2} \\cos{\\left(p_{1} - p_{3} \\right)} + \\ddot{p}_{3} q_{4} s_{2} \\sin{\\left(p_{1} - p_{3} \\right)} + \\dot{p}_{1}^{2} q_{3} s_{2} - \\dot{p}_{3}^{2} q_{4} s_{2} \\cos{\\left(p_{1} - p_{3} \\right)} + 2 \\dot{p}_{3} \\dot{q}_{4} s_{2} \\sin{\\left(p_{1} - p_{3} \\right)} - \\ddot{q}_{1} s_{2} \\cos{\\left(p_{1} \\right)} + \\ddot{q}_{2} s_{2} \\cos{\\left(p_{1} \\right)} - \\ddot{q}_{3} s_{2} + \\ddot{q}_{4} s_{2} \\cos{\\left(p_{1} - p_{3} \\right)}\\right)}{l_{2}^{2}}\\\\\\frac{g l_{2} m_{2} s_{2} \\sin{\\left(p_{3} \\right)} - l_{2}^{2} \\left(\\lambda_{1} \\cos{\\left(p_{3} \\right)} + \\lambda_{2} \\sin{\\left(p_{3} \\right)} + \\tau_{4}\\right) + m_{2} s_{2} \\left(- l_{1} l_{2} \\ddot{p}_{1} \\sin{\\left(p_{1} - p_{3} \\right)} - l_{1} l_{2} \\dot{p}_{1}^{2} \\cos{\\left(p_{1} - p_{3} \\right)} + l_{1} \\ddot{p}_{1} s_{2} \\sin{\\left(p_{1} - p_{3} \\right)} + l_{1} \\dot{p}_{1}^{2} s_{2} \\cos{\\left(p_{1} - p_{3} \\right)} - l_{2} \\ddot{p}_{1} q_{3} \\sin{\\left(p_{1} - p_{3} \\right)} - l_{2} \\dot{p}_{1}^{2} q_{3} \\cos{\\left(p_{1} - p_{3} \\right)} - 2 l_{2} \\dot{p}_{1} \\dot{q}_{3} \\sin{\\left(p_{1} - p_{3} \\right)} + l_{2} \\ddot{q}_{1} \\cos{\\left(p_{3} \\right)} + l_{2} \\ddot{q}_{3} \\cos{\\left(p_{1} - p_{3} \\right)} - l_{3} \\dot{p}_{3}^{2} s_{2} + \\ddot{p}_{1} q_{3} s_{2} \\sin{\\left(p_{1} - p_{3} \\right)} + \\dot{p}_{1}^{2} q_{3} s_{2} \\cos{\\left(p_{1} - p_{3} \\right)} + 2 \\dot{p}_{1} \\dot{q}_{3} s_{2} \\sin{\\left(p_{1} - p_{3} \\right)} - \\dot{p}_{3}^{2} q_{4} s_{2} - \\ddot{q}_{1} s_{2} \\cos{\\left(p_{3} \\right)} + \\ddot{q}_{2} s_{2} \\cos{\\left(p_{3} \\right)} - \\ddot{q}_{3} s_{2} \\cos{\\left(p_{1} - p_{3} \\right)} + \\ddot{q}_{4} s_{2}\\right)}{l_{2}^{2}}\\end{matrix}\\right]$"
      ],
      "text/plain": [
       "⎡                                                         ⎛                   \n",
       "⎢                                               (l₁ + q₃)⋅⎝g⋅l₂⋅m₂⋅(l₂ - s₂)⋅c\n",
       "⎢                                               ──────────────────────────────\n",
       "⎢                                                                             \n",
       "⎢                                                                             \n",
       "⎢                                                                             \n",
       "⎢                                                                             \n",
       "⎢                                                                             \n",
       "⎢          ⎛                       2                                   ⎛      \n",
       "⎢(l₃ + q₄)⋅⎝g⋅l₂⋅m₂⋅s₂⋅cos(p₃) + l₂ ⋅(λ₁⋅sin(p₃) - λ₂⋅cos(p₃)) + m₂⋅s₂⋅⎝l₁⋅l₂⋅\n",
       "⎢─────────────────────────────────────────────────────────────────────────────\n",
       "⎢                                                                             \n",
       "⎢                                                                             \n",
       "⎢                                                                             \n",
       "⎢                                               2                             \n",
       "⎢                                             l₂ ⋅(λ₁ + m₁⋅q̈₁ - τ₁) - m₂⋅(l₂ \n",
       "⎢                                             ────────────────────────────────\n",
       "⎢                                                                             \n",
       "⎢                                                                             \n",
       "⎢                                                                             \n",
       "⎢                                                  2                          \n",
       "⎢                                                l₂ ⋅(-λ₁ + m₃⋅q̈₂ - τ₂) - m₂⋅\n",
       "⎢                                                ─────────────────────────────\n",
       "⎢                                                                             \n",
       "⎢                                                                             \n",
       "⎢                                                                             \n",
       "⎢                                                                             \n",
       "⎢                                                     g⋅l₂⋅m₂⋅(l₂ - s₂)⋅sin(p₁\n",
       "⎢                                                     ────────────────────────\n",
       "⎢                                                                             \n",
       "⎢                                                                             \n",
       "⎢                                                                             \n",
       "⎢                           2                                        ⎛        \n",
       "⎢    g⋅l₂⋅m₂⋅s₂⋅sin(p₃) - l₂ ⋅(λ₁⋅cos(p₃) + λ₂⋅sin(p₃) + τ₄) + m₂⋅s₂⋅⎝-l₁⋅l₂⋅p\n",
       "⎢    ─────────────────────────────────────────────────────────────────────────\n",
       "⎢                                                                             \n",
       "⎣                                                                             \n",
       "\n",
       "           2                                           ⎛                      \n",
       "os(p₁) + l₂ ⋅(-λ₁⋅sin(p₁) + λ₂⋅cos(p₁)) + m₂⋅(l₂ - s₂)⋅⎝l₁⋅l₂⋅p̈₁ - l₁⋅p̈₁⋅s₂ \n",
       "──────────────────────────────────────────────────────────────────────────────\n",
       "                                                                              \n",
       "                                                                              \n",
       "                                                                              \n",
       "                                                                              \n",
       "                                                                              \n",
       "                          2                                             2     \n",
       "p̈₁⋅cos(p₁ - p₃) - l₁⋅l₂⋅ṗ₁ ⋅sin(p₁ - p₃) - l₁⋅p̈₁⋅s₂⋅cos(p₁ - p₃) + l₁⋅ṗ₁ ⋅\n",
       "──────────────────────────────────────────────────────────────────────────────\n",
       "                                                                              \n",
       "                                                                              \n",
       "                                                                              \n",
       "     ⎛   ⎛                     2                             2                \n",
       "- s₂)⋅⎝l₂⋅⎝l₁⋅p̈₁⋅sin(p₁) + l₁⋅ṗ₁ ⋅cos(p₁) + p̈₁⋅q₃⋅sin(p₁) + ṗ₁ ⋅q₃⋅cos(p₁)\n",
       "──────────────────────────────────────────────────────────────────────────────\n",
       "                                                                              \n",
       "                                                                              \n",
       "                                                                              \n",
       "  ⎛   ⎛                     2                             2                   \n",
       "s₂⋅⎝l₂⋅⎝l₁⋅p̈₁⋅sin(p₁) + l₁⋅ṗ₁ ⋅cos(p₁) + p̈₁⋅q₃⋅sin(p₁) + ṗ₁ ⋅q₃⋅cos(p₁) + \n",
       "──────────────────────────────────────────────────────────────────────────────\n",
       "                                                                              \n",
       "                                                                              \n",
       "                                                                              \n",
       "      2                                               ⎛          2        2   \n",
       ") + l₂ ⋅(λ₁⋅cos(p₁) + λ₂⋅sin(p₁) - τ₃) + m₂⋅(l₂ - s₂)⋅⎝- l₁⋅l₂⋅ṗ₁  + l₁⋅ṗ₁ ⋅\n",
       "──────────────────────────────────────────────────────────────────────────────\n",
       "                                                                              \n",
       "                                                                              \n",
       "                                                                              \n",
       "                         2                                             2      \n",
       "̈₁⋅sin(p₁ - p₃) - l₁⋅l₂⋅ṗ₁ ⋅cos(p₁ - p₃) + l₁⋅p̈₁⋅s₂⋅sin(p₁ - p₃) + l₁⋅ṗ₁ ⋅s\n",
       "──────────────────────────────────────────────────────────────────────────────\n",
       "                                                                              \n",
       "                                                                              \n",
       "\n",
       "                                                                     2        \n",
       "+ l₂⋅p̈₁⋅q₃ + 2⋅l₂⋅ṗ₁⋅q̇₃ - l₂⋅q̈₁⋅sin(p₁) + l₃⋅p̈₃⋅s₂⋅cos(p₁ - p₃) + l₃⋅ṗ₃ \n",
       "──────────────────────────────────────────────────────────────────────────────\n",
       "                                                                  2           \n",
       "                                                                l₂            \n",
       "                                                                              \n",
       "                                                J₂⋅p̈₂ - l₂⋅λ₁⋅sin(p₂) + l₂⋅λ₂\n",
       "                                                                              \n",
       "                                           2                                  \n",
       "s₂⋅sin(p₁ - p₃) + l₂⋅p̈₁⋅q₃⋅cos(p₁ - p₃) - l₂⋅ṗ₁ ⋅q₃⋅sin(p₁ - p₃) + 2⋅l₂⋅ṗ₁⋅\n",
       "──────────────────────────────────────────────────────────────────────────────\n",
       "                                                                   2          \n",
       "                                                                 l₂           \n",
       "                                                                              \n",
       "                               ⎞      ⎛                     2                 \n",
       " + 2⋅ṗ₁⋅q̇₃⋅sin(p₁) - q̈₁ - q̈₃⋅cos(p₁)⎠ - s₂⋅⎝l₁⋅p̈₁⋅sin(p₁) + l₁⋅ṗ₁ ⋅cos(p\n",
       "──────────────────────────────────────────────────────────────────────────────\n",
       "                                                                  2           \n",
       "                                                                l₂            \n",
       "                                                                              \n",
       "                            ⎞      ⎛                     2                    \n",
       "2⋅ṗ₁⋅q̇₃⋅sin(p₁) - q̈₁ - q̈₃⋅cos(p₁)⎠ - s₂⋅⎝l₁⋅p̈₁⋅sin(p₁) + l₁⋅ṗ₁ ⋅cos(p₁) \n",
       "──────────────────────────────────────────────────────────────────────────────\n",
       "                                                                  2           \n",
       "                                                                l₂            \n",
       "                                                                              \n",
       "        2                                                           2         \n",
       "s₂ - l₂⋅ṗ₁ ⋅q₃ + l₂⋅q̈₁⋅cos(p₁) + l₂⋅q̈₃ + l₃⋅p̈₃⋅s₂⋅sin(p₁ - p₃) - l₃⋅ṗ₃ ⋅s\n",
       "──────────────────────────────────────────────────────────────────────────────\n",
       "                                                                  2           \n",
       "                                                                l₂            \n",
       "                                                                              \n",
       "                                          2                                   \n",
       "₂⋅cos(p₁ - p₃) - l₂⋅p̈₁⋅q₃⋅sin(p₁ - p₃) - l₂⋅ṗ₁ ⋅q₃⋅cos(p₁ - p₃) - 2⋅l₂⋅ṗ₁⋅q\n",
       "──────────────────────────────────────────────────────────────────────────────\n",
       "                                                                  2           \n",
       "                                                                l₂            \n",
       "\n",
       "                                                             2                \n",
       "⋅s₂⋅sin(p₁ - p₃) - p̈₁⋅q₃⋅s₂ + p̈₃⋅q₄⋅s₂⋅cos(p₁ - p₃) - 2⋅ṗ₁⋅q̇₃⋅s₂ + ṗ₃ ⋅q₄\n",
       "──────────────────────────────────────────────────────────────────────────────\n",
       "                                                                              \n",
       "                                                                              \n",
       "                                                                              \n",
       "⋅cos(p₂)                                                                      \n",
       "                                                                              \n",
       "                                                                              \n",
       "q̇₃⋅cos(p₁ - p₃) - l₂⋅q̈₁⋅sin(p₃) + l₂⋅q̈₃⋅sin(p₁ - p₃) + l₃⋅p̈₃⋅s₂ - p̈₁⋅q₃⋅s\n",
       "──────────────────────────────────────────────────────────────────────────────\n",
       "                                                                              \n",
       "                                                                              \n",
       "                                                                              \n",
       "               2                                             2                \n",
       "₁) - l₃⋅p̈₃⋅sin(p₃) - l₃⋅ṗ₃ ⋅cos(p₃) + p̈₁⋅q₃⋅sin(p₁) - p̈₃⋅q₄⋅sin(p₃) + ṗ₁ \n",
       "──────────────────────────────────────────────────────────────────────────────\n",
       "                                                                              \n",
       "                                                                              \n",
       "                                                                              \n",
       "            2                                             2                   \n",
       "- l₃⋅p̈₃⋅sin(p₃) - l₃⋅ṗ₃ ⋅cos(p₃) + p̈₁⋅q₃⋅sin(p₁) - p̈₃⋅q₄⋅sin(p₃) + ṗ₁ ⋅q₃\n",
       "──────────────────────────────────────────────────────────────────────────────\n",
       "                                                                              \n",
       "                                                                              \n",
       "                                                                              \n",
       "                                    2           2                             \n",
       "₂⋅cos(p₁ - p₃) + p̈₃⋅q₄⋅s₂⋅sin(p₁ - p₃) + ṗ₁ ⋅q₃⋅s₂ - ṗ₃ ⋅q₄⋅s₂⋅cos(p₁ - p₃)\n",
       "──────────────────────────────────────────────────────────────────────────────\n",
       "                                                                              \n",
       "                                                                              \n",
       "                                                                              \n",
       "                                                    2                         \n",
       "̇₃⋅sin(p₁ - p₃) + l₂⋅q̈₁⋅cos(p₃) + l₂⋅q̈₃⋅cos(p₁ - p₃) - l₃⋅ṗ₃ ⋅s₂ + p̈₁⋅q₃⋅s\n",
       "──────────────────────────────────────────────────────────────────────────────\n",
       "                                                                              \n",
       "                                                                              \n",
       "\n",
       "                                                                              \n",
       "⋅s₂⋅sin(p₁ - p₃) + 2⋅ṗ₃⋅q̇₄⋅s₂⋅cos(p₁ - p₃) + q̈₁⋅s₂⋅sin(p₁) - q̈₂⋅s₂⋅sin(p₁)\n",
       "──────────────────────────────────────────────────────────────────────────────\n",
       "                                                                              \n",
       "                                                                              \n",
       "                                                                              \n",
       "                                                                              \n",
       "                                                                              \n",
       "                  2                                                           \n",
       "₂⋅cos(p₁ - p₃) + p̈₃⋅q₄⋅s₂ + ṗ₁ ⋅q₃⋅s₂⋅sin(p₁ - p₃) - 2⋅ṗ₁⋅q̇₃⋅s₂⋅cos(p₁ - p\n",
       "──────────────────────────────────────────────────────────────────────────────\n",
       "                                                                              \n",
       "                                                                              \n",
       "                                                                              \n",
       "                  2                                                           \n",
       "⋅q₃⋅cos(p₁) + 2⋅ṗ₁⋅q̇₃⋅sin(p₁) - ṗ₃ ⋅q₄⋅cos(p₃) - 2⋅ṗ₃⋅q̇₄⋅sin(p₃) - q̈₁ + \n",
       "──────────────────────────────────────────────────────────────────────────────\n",
       "                                                                              \n",
       "                                                                              \n",
       "                                                                              \n",
       "               2                                                              \n",
       "⋅cos(p₁) + 2⋅ṗ₁⋅q̇₃⋅sin(p₁) - ṗ₃ ⋅q₄⋅cos(p₃) - 2⋅ṗ₃⋅q̇₄⋅sin(p₃) - q̈₁ + q̈₂\n",
       "──────────────────────────────────────────────────────────────────────────────\n",
       "                                                                              \n",
       "                                                                              \n",
       "                                                                              \n",
       "                                                                             ⎞\n",
       " + 2⋅ṗ₃⋅q̇₄⋅s₂⋅sin(p₁ - p₃) - q̈₁⋅s₂⋅cos(p₁) + q̈₂⋅s₂⋅cos(p₁) - q̈₃⋅s₂ + q̈₄⋅\n",
       "──────────────────────────────────────────────────────────────────────────────\n",
       "                                                                              \n",
       "                                                                              \n",
       "                                                                              \n",
       "       2                                                  2                   \n",
       "₂⋅sin(p₁ - p₃) + ṗ₁ ⋅q₃⋅s₂⋅cos(p₁ - p₃) + 2⋅ṗ₁⋅q̇₃⋅s₂⋅sin(p₁ - p₃) - ṗ₃ ⋅q₄\n",
       "──────────────────────────────────────────────────────────────────────────────\n",
       "                                                                              \n",
       "                                                                              \n",
       "\n",
       "    ⎞⎞                                                ⎤\n",
       " - q̈₄⋅s₂⋅sin(p₁ - p₃)⎠⎠                                                ⎥\n",
       "──────                                                ⎥\n",
       "                                                      ⎥\n",
       "                                                      ⎥\n",
       "                                                      ⎥\n",
       "                                                       ⎥\n",
       "                                                      ⎥\n",
       "                                                    ⎞⎞⎥\n",
       "₃) + 2⋅ṗ₃⋅q̇₄⋅s₂ + q̈₁⋅s₂⋅sin(p₃) - q̈₂⋅s₂⋅sin(p₃) - q̈₃⋅s₂⋅sin(p₁ - p₃)⎠⎠⎥\n",
       "──────────────────────────────────────────────────────⎥\n",
       "                                                      ⎥\n",
       "                                                      ⎥\n",
       "                                                      ⎥\n",
       "      ⎞⎞                                              ⎥\n",
       "q̈₂ - q̈₃⋅cos(p₁) + q̈₄⋅cos(p₃)⎠⎠                                             \n",
       "────────                                              ⎥\n",
       "                                                      ⎥\n",
       "                                                      ⎥\n",
       "                                                      ⎥\n",
       "   ⎞⎞                                                 ⎥\n",
       " - q̈₃⋅cos(p₁) + q̈₄⋅cos(p₃)⎠⎠                                                \n",
       "─────                                                 ⎥\n",
       "                                                      ⎥\n",
       "                                                      ⎥\n",
       "                                                      ⎥\n",
       "                                                      ⎥\n",
       "s₂⋅cos(p₁ - p₃)⎠                                                      ⎥\n",
       "                                                      ⎥\n",
       "                                                      ⎥\n",
       "                                                      ⎥\n",
       "                                                      ⎥\n",
       "                                                ⎞     ⎥\n",
       "⋅s₂ - q̈₁⋅s₂⋅cos(p₃) + q̈₂⋅s₂⋅cos(p₃) - q̈₃⋅s₂⋅cos(p₁ - p₃) + q̈₄⋅s₂⎠     ⎥\n",
       "─────────────────────────────────────────────────     ⎥\n",
       "                                                      ⎥\n",
       "                                                      ⎦"
      ]
     },
     "execution_count": 53,
     "metadata": {},
     "output_type": "execute_result"
    }
   ],
   "source": [
    "# implicit(=0) system equations \n",
    "mod.eqns"
   ]
  },
  {
   "cell_type": "code",
   "execution_count": 54,
   "metadata": {},
   "outputs": [
    {
     "data": {
      "text/latex": [
       "$\\displaystyle \\left[\\begin{matrix}\\tau_{1}\\\\\\tau_{2}\\\\\\tau_{3}\\\\\\tau_{4}\\end{matrix}\\right]$"
      ],
      "text/plain": [
       "⎡τ₁⎤\n",
       "⎢  ⎥\n",
       "⎢τ₂⎥\n",
       "⎢  ⎥\n",
       "⎢τ₃⎥\n",
       "⎢  ⎥\n",
       "⎣τ₄⎦"
      ]
     },
     "execution_count": 54,
     "metadata": {},
     "output_type": "execute_result"
    }
   ],
   "source": [
    "mod.tau"
   ]
  },
  {
   "cell_type": "code",
   "execution_count": 55,
   "metadata": {
    "scrolled": true
   },
   "outputs": [
    {
     "data": {
      "text/latex": [
       "$\\displaystyle \\left[\\begin{matrix}0 & 0 & 0 & 0\\\\0 & 0 & 0 & 0\\\\0 & 0 & 0 & 0\\\\-1 & 0 & 0 & 0\\\\0 & -1 & 0 & 0\\\\0 & 0 & -1 & 0\\\\0 & 0 & 0 & -1\\end{matrix}\\right]$"
      ],
      "text/plain": [
       "⎡0   0   0   0 ⎤\n",
       "⎢              ⎥\n",
       "⎢0   0   0   0 ⎥\n",
       "⎢              ⎥\n",
       "⎢0   0   0   0 ⎥\n",
       "⎢              ⎥\n",
       "⎢-1  0   0   0 ⎥\n",
       "⎢              ⎥\n",
       "⎢0   -1  0   0 ⎥\n",
       "⎢              ⎥\n",
       "⎢0   0   -1  0 ⎥\n",
       "⎢              ⎥\n",
       "⎣0   0   0   -1⎦"
      ]
     },
     "execution_count": 55,
     "metadata": {},
     "output_type": "execute_result"
    }
   ],
   "source": [
    "mod.eqns.jacobian(mod.tau)"
   ]
  },
  {
   "cell_type": "code",
   "execution_count": 56,
   "metadata": {},
   "outputs": [
    {
     "data": {
      "image/png": "[encoded data removed]",
      "text/latex": [
       "$\\displaystyle \\left[ \\frac{\\left(l_{1} + q_{3}\\right) \\left(g l_{2} m_{2} \\left(l_{2} - s_{2}\\right) \\cos{\\left(p_{1} \\right)} + l_{2}^{2} \\left(- \\lambda_{1} \\sin{\\left(p_{1} \\right)} + \\lambda_{2} \\cos{\\left(p_{1} \\right)}\\right) + m_{2} \\left(l_{2} - s_{2}\\right) \\left(l_{1} l_{2} \\ddot{p}_{1} - l_{1} \\ddot{p}_{1} s_{2} + l_{2} \\ddot{p}_{1} q_{3} + 2 l_{2} \\dot{p}_{1} \\dot{q}_{3} - l_{2} \\ddot{q}_{1} \\sin{\\left(p_{1} \\right)} + l_{3} \\ddot{p}_{3} s_{2} \\cos{\\left(p_{1} - p_{3} \\right)} + l_{3} \\dot{p}_{3}^{2} s_{2} \\sin{\\left(p_{1} - p_{3} \\right)} - \\ddot{p}_{1} q_{3} s_{2} + \\ddot{p}_{3} q_{4} s_{2} \\cos{\\left(p_{1} - p_{3} \\right)} - 2 \\dot{p}_{1} \\dot{q}_{3} s_{2} + \\dot{p}_{3}^{2} q_{4} s_{2} \\sin{\\left(p_{1} - p_{3} \\right)} + 2 \\dot{p}_{3} \\dot{q}_{4} s_{2} \\cos{\\left(p_{1} - p_{3} \\right)} + \\ddot{q}_{1} s_{2} \\sin{\\left(p_{1} \\right)} - \\ddot{q}_{2} s_{2} \\sin{\\left(p_{1} \\right)} - \\ddot{q}_{4} s_{2} \\sin{\\left(p_{1} - p_{3} \\right)}\\right)\\right)}{l_{2}^{2}}, \\  J_{2} \\ddot{p}_{2} - l_{2} \\lambda_{1} \\sin{\\left(p_{2} \\right)} + l_{2} \\lambda_{2} \\cos{\\left(p_{2} \\right)}, \\  \\frac{\\left(l_{3} + q_{4}\\right) \\left(g l_{2} m_{2} s_{2} \\cos{\\left(p_{3} \\right)} + l_{2}^{2} \\left(\\lambda_{1} \\sin{\\left(p_{3} \\right)} - \\lambda_{2} \\cos{\\left(p_{3} \\right)}\\right) + m_{2} s_{2} \\left(l_{1} l_{2} \\ddot{p}_{1} \\cos{\\left(p_{1} - p_{3} \\right)} - l_{1} l_{2} \\dot{p}_{1}^{2} \\sin{\\left(p_{1} - p_{3} \\right)} - l_{1} \\ddot{p}_{1} s_{2} \\cos{\\left(p_{1} - p_{3} \\right)} + l_{1} \\dot{p}_{1}^{2} s_{2} \\sin{\\left(p_{1} - p_{3} \\right)} + l_{2} \\ddot{p}_{1} q_{3} \\cos{\\left(p_{1} - p_{3} \\right)} - l_{2} \\dot{p}_{1}^{2} q_{3} \\sin{\\left(p_{1} - p_{3} \\right)} + 2 l_{2} \\dot{p}_{1} \\dot{q}_{3} \\cos{\\left(p_{1} - p_{3} \\right)} - l_{2} \\ddot{q}_{1} \\sin{\\left(p_{3} \\right)} + l_{2} \\ddot{q}_{3} \\sin{\\left(p_{1} - p_{3} \\right)} + l_{3} \\ddot{p}_{3} s_{2} - \\ddot{p}_{1} q_{3} s_{2} \\cos{\\left(p_{1} - p_{3} \\right)} + \\ddot{p}_{3} q_{4} s_{2} + \\dot{p}_{1}^{2} q_{3} s_{2} \\sin{\\left(p_{1} - p_{3} \\right)} - 2 \\dot{p}_{1} \\dot{q}_{3} s_{2} \\cos{\\left(p_{1} - p_{3} \\right)} + 2 \\dot{p}_{3} \\dot{q}_{4} s_{2} + \\ddot{q}_{1} s_{2} \\sin{\\left(p_{3} \\right)} - \\ddot{q}_{2} s_{2} \\sin{\\left(p_{3} \\right)} - \\ddot{q}_{3} s_{2} \\sin{\\left(p_{1} - p_{3} \\right)}\\right)\\right)}{l_{2}^{2}}\\right]$"
      ],
      "text/plain": [
       "⎡          ⎛                              2                                   \n",
       "⎢(l₁ + q₃)⋅⎝g⋅l₂⋅m₂⋅(l₂ - s₂)⋅cos(p₁) + l₂ ⋅(-λ₁⋅sin(p₁) + λ₂⋅cos(p₁)) + m₂⋅(l\n",
       "⎢─────────────────────────────────────────────────────────────────────────────\n",
       "⎢                                                                             \n",
       "⎣                                                                             \n",
       "\n",
       "        ⎛                                                                     \n",
       "₂ - s₂)⋅⎝l₁⋅l₂⋅p̈₁ - l₁⋅p̈₁⋅s₂ + l₂⋅p̈₁⋅q₃ + 2⋅l₂⋅ṗ₁⋅q̇₃ - l₂⋅q̈₁⋅sin(p₁) + l\n",
       "──────────────────────────────────────────────────────────────────────────────\n",
       "                                                                              \n",
       "                                                                              \n",
       "\n",
       "                      2                                                       \n",
       "₃⋅p̈₃⋅s₂⋅cos(p₁ - p₃) + l₃⋅ṗ₃ ⋅s₂⋅sin(p₁ - p₃) - p̈₁⋅q₃⋅s₂ + p̈₃⋅q₄⋅s₂⋅cos(p₁\n",
       "──────────────────────────────────────────────────────────────────────────────\n",
       "                   2                                                          \n",
       "                 l₂                                                           \n",
       "\n",
       "              2                                                               \n",
       " - p₃) - 2⋅ṗ₁⋅q̇₃⋅s₂ + ṗ₃ ⋅q₄⋅s₂⋅sin(p₁ - p₃) + 2⋅ṗ₃⋅q̇₄⋅s₂⋅cos(p₁ - p₃) + \n",
       "──────────────────────────────────────────────────────────────────────────────\n",
       "                                                                              \n",
       "                                                                              \n",
       "\n",
       "                                   ⎞⎞                                         \n",
       "q̈₁⋅s₂⋅sin(p₁) - q̈₂⋅s₂⋅sin(p₁) - q̈₄⋅s₂⋅sin(p₁ - p₃)⎠⎠                       \n",
       "─────────────────────────────────────, J₂⋅p̈₂ - l₂⋅λ₁⋅sin(p₂) + l₂⋅λ₂⋅cos(p₂),\n",
       "                                                                              \n",
       "                                                                              \n",
       "\n",
       "          ⎛                       2                                   ⎛       \n",
       "                  (l₃ + q₄)⋅⎝g⋅l₂⋅m₂⋅s₂⋅cos(p₃) + l₂ ⋅(λ₁⋅sin(p₃) - λ₂⋅cos(p₃)\n",
       " ─────────────────────────────────────────────────────────────────────────────\n",
       "                                                                              \n",
       "                                                                              \n",
       "\n",
       "                         2                                             2      \n",
       ") + m₂⋅s₂⋅⎝l₁⋅l₂⋅p̈₁⋅cos(p₁ - p₃) - l₁⋅l₂⋅ṗ₁ ⋅sin(p₁ - p₃) - l₁⋅p̈₁⋅s₂⋅cos(p₁\n",
       "──────────────────────────────────────────────────────────────────────────────\n",
       "                                                                              \n",
       "                                                                              \n",
       "\n",
       "                                          2                                   \n",
       " - p₃) + l₁⋅ṗ₁ ⋅s₂⋅sin(p₁ - p₃) + l₂⋅p̈₁⋅q₃⋅cos(p₁ - p₃) - l₂⋅ṗ₁ ⋅q₃⋅sin(p₁ \n",
       "──────────────────────────────────────────────────────────────────────────────\n",
       "                                                                  2           \n",
       "                                                                l₂            \n",
       "\n",
       "                                                                              \n",
       "- p₃) + 2⋅l₂⋅ṗ₁⋅q̇₃⋅cos(p₁ - p₃) - l₂⋅q̈₁⋅sin(p₃) + l₂⋅q̈₃⋅sin(p₁ - p₃) + l₃⋅\n",
       "──────────────────────────────────────────────────────────────────────────────\n",
       "                                                                              \n",
       "                                                                              \n",
       "\n",
       "                 2                                                            \n",
       "p̈₃⋅s₂ - p̈₁⋅q₃⋅s₂⋅cos(p₁ - p₃) + p̈₃⋅q₄⋅s₂ + ṗ₁ ⋅q₃⋅s₂⋅sin(p₁ - p₃) - 2⋅ṗ₁⋅\n",
       "──────────────────────────────────────────────────────────────────────────────\n",
       "                                                                              \n",
       "                                                                              \n",
       "\n",
       "                                                   ⎞⎞⎤\n",
       "q̇₃⋅s₂⋅cos(p₁ - p₃) + 2⋅ṗ₃⋅q̇₄⋅s₂ + q̈₁⋅s₂⋅sin(p₃) - q̈₂⋅s₂⋅sin(p₃) - q̈₃⋅s₂⋅\n",
       "──────────────────────────────────────────────────────⎥\n",
       "                                                     ⎥\n",
       "                                                     ⎦"
      ]
     },
     "execution_count": 56,
     "metadata": {},
     "output_type": "execute_result"
    }
   ],
   "source": [
    "mod.eqns[0:3]"
   ]
  },
  {
   "cell_type": "markdown",
   "metadata": {},
   "source": [
    "### Creation of DAE System"
   ]
  },
  {
   "cell_type": "code",
   "execution_count": 57,
   "metadata": {
    "scrolled": false
   },
   "outputs": [
    {
     "data": {
      "text/plain": [
       "parameter_values := [('s2', 0.15),\n",
       " ('m1', 0.45),\n",
       " ('m2', 0.557),\n",
       " ('m3', 0.45),\n",
       " ('J2', 0.000221),\n",
       " ('mc1b', 39),\n",
       " ('mc2b', 36.3),\n",
       " ('d1', 9.76),\n",
       " ('d4', 11.2),\n",
       " ('l0', 0.5),\n",
       " ('l1', 0.4),\n",
       " ('l2', 0.3),\n",
       " ('l3', 0.4),\n",
       " ('g', 9.81)]"
      ]
     },
     "metadata": {},
     "output_type": "display_data"
    },
    {
     "data": {
      "text/plain": [
       "---"
      ]
     },
     "metadata": {},
     "output_type": "display_data"
    }
   ],
   "source": [
    "parameter_values = list(dict(s2=0.15, m1=0.45, m2=0.557, m3=0.45, J2=0.000221, mc1b=39, mc2b=36.3, d1=9.76, d4=11.2, l0=0.5, l1=0.4, l2=0.3, l3=0.4, g=9.81).items()) ##:\n",
    "# tbd: J2, d1, d4"
   ]
  },
  {
   "cell_type": "markdown",
   "metadata": {},
   "source": [
    "#### Visualization of kinematics for debugging and placement of initial values"
   ]
  },
  {
   "cell_type": "code",
   "execution_count": 60,
   "metadata": {},
   "outputs": [
    {
     "data": {
      "text/latex": [
       "joints := $\\displaystyle \\left[\\begin{matrix}q_{1} & l_{1} \\cos{\\left(p_{1} \\right)} + q_{1} & l_{1} \\cos{\\left(p_{1} \\right)} + q_{1} + q_{3} \\cos{\\left(p_{1} \\right)} & l_{0} + l_{3} \\cos{\\left(p_{3} \\right)} + q_{2} + q_{4} \\cos{\\left(p_{3} \\right)} & l_{0} + l_{3} \\cos{\\left(p_{3} \\right)} + q_{2} & l_{0} + q_{2}\\\\0 & l_{1} \\sin{\\left(p_{1} \\right)} & l_{1} \\sin{\\left(p_{1} \\right)} + q_{3} \\sin{\\left(p_{1} \\right)} & l_{3} \\sin{\\left(p_{3} \\right)} + q_{4} \\sin{\\left(p_{3} \\right)} & l_{3} \\sin{\\left(p_{3} \\right)} & 0\\end{matrix}\\right]$"
      ],
      "text/plain": [
       "joints := ⎡q₁  l₁⋅cos(p₁) + q₁  l₁⋅cos(p₁) + q₁ + q₃⋅cos(p₁)  l₀ + l₃⋅cos(p₃) + q₂ + q₄⋅\n",
       "⎢                                                                             \n",
       "⎣0     l₁⋅sin(p₁)       l₁⋅sin(p₁) + q₃⋅sin(p₁)          l₃⋅sin(p₃) + q₄⋅sin(p\n",
       "\n",
       "cos(p₃)  l₀ + l₃⋅cos(p₃) + q₂  l₀ + q₂⎤\n",
       "                                      ⎥\n",
       "₃)            l₃⋅sin(p₃)          0   ⎦"
      ]
     },
     "metadata": {},
     "output_type": "display_data"
    },
    {
     "data": {
      "text/plain": [
       "---"
      ]
     },
     "metadata": {},
     "output_type": "display_data"
    },
    {
     "data": {
      "text/latex": [
       "constraints := $\\displaystyle \\left[\\begin{matrix}l_{0} - l_{1} \\cos{\\left(p_{1} \\right)} - l_{2} \\cos{\\left(p_{2} \\right)} + l_{3} \\cos{\\left(p_{3} \\right)} - q_{1} + q_{2} - q_{3} \\cos{\\left(p_{1} \\right)} + q_{4} \\cos{\\left(p_{3} \\right)}\\\\- l_{1} \\sin{\\left(p_{1} \\right)} - l_{2} \\sin{\\left(p_{2} \\right)} + l_{3} \\sin{\\left(p_{3} \\right)} - q_{3} \\sin{\\left(p_{1} \\right)} + q_{4} \\sin{\\left(p_{3} \\right)}\\end{matrix}\\right]$"
      ],
      "text/plain": [
       "constraints := ⎡l₀ - l₁⋅cos(p₁) - l₂⋅cos(p₂) + l₃⋅cos(p₃) - q₁ + q₂ - q₃⋅cos(p₁) + q₄⋅cos(p₃)\n",
       "⎢                                                                             \n",
       "⎣       -l₁⋅sin(p₁) - l₂⋅sin(p₂) + l₃⋅sin(p₃) - q₃⋅sin(p₁) + q₄⋅sin(p₃)       \n",
       "\n",
       "⎤\n",
       "⎥\n",
       "⎦"
      ]
     },
     "metadata": {},
     "output_type": "display_data"
    },
    {
     "data": {
      "text/plain": [
       "---"
      ]
     },
     "metadata": {},
     "output_type": "display_data"
    },
    {
     "data": {
      "text/latex": [
       "constraints := $\\displaystyle \\left[\\begin{matrix}- q_{1} + q_{2} - q_{3} \\cos{\\left(p_{1} \\right)} + q_{4} \\cos{\\left(p_{3} \\right)} - 0.4 \\cos{\\left(p_{1} \\right)} - 0.3 \\cos{\\left(p_{2} \\right)} + 0.4 \\cos{\\left(p_{3} \\right)} + 0.5\\\\- q_{3} \\sin{\\left(p_{1} \\right)} + q_{4} \\sin{\\left(p_{3} \\right)} - 0.4 \\sin{\\left(p_{1} \\right)} - 0.3 \\sin{\\left(p_{2} \\right)} + 0.4 \\sin{\\left(p_{3} \\right)}\\end{matrix}\\right]$"
      ],
      "text/plain": [
       "constraints := ⎡-q₁ + q₂ - q₃⋅cos(p₁) + q₄⋅cos(p₃) - 0.4⋅cos(p₁) - 0.3⋅cos(p₂) + 0.4⋅cos(p₃) \n",
       "⎢                                                                             \n",
       "⎣        -q₃⋅sin(p₁) + q₄⋅sin(p₃) - 0.4⋅sin(p₁) - 0.3⋅sin(p₂) + 0.4⋅sin(p₃)   \n",
       "\n",
       "+ 0.5⎤\n",
       "     ⎥\n",
       "     ⎦"
      ]
     },
     "metadata": {},
     "output_type": "display_data"
    },
    {
     "data": {
      "text/plain": [
       "---"
      ]
     },
     "metadata": {},
     "output_type": "display_data"
    }
   ],
   "source": [
    "# matrix of joints\n",
    "joints = sp.Matrix.hstack(G1, G2, G3, G4, G5, G6) ##:\n",
    "joints = joints.subs(parameter_values)\n",
    "# constraints equations (implicit) as vector\n",
    "constraints = mod.constraints ##:\n",
    "constraints = constraints.subs(parameter_values) ##:\n",
    "\n",
    "# numerical functions for joints and constraints\n",
    "constraints_func = sp.lambdify(ttheta, constraints, modules=\"numpy\")\n",
    "joints_func = sp.lambdify(ttheta, joints, modules=\"numpy\")\n",
    "\n",
    "# cost function of constraints, theta_var: variable coordinates to be optimized, theta_const: constant coordinate (manipulated by slider later)\n",
    "def constraint_cost(theta_var, theta_const):\n",
    "    err = constraints_func(theta_var[0], theta_const[0], theta_var[1], theta_const[1], theta_const[2], theta_const[3], theta_const[4])\n",
    "    return err[0]**2 +err[1]**2 # squared error"
   ]
  },
  {
   "cell_type": "code",
   "execution_count": 61,
   "metadata": {
    "code_folding": [],
    "scrolled": false
   },
   "outputs": [
    {
     "data": {
      "application/vnd.jupyter.widget-view+json": {
       "model_id": "84ed208eceea4556ad4a127fe680f480",
       "version_major": 2,
       "version_minor": 0
      },
      "text/plain": [
       "interactive(children=(FloatSlider(value=0.0, description='p2', max=2.0, min=-2.0), FloatSlider(value=0.0, desc…"
      ]
     },
     "metadata": {},
     "output_type": "display_data"
    }
   ],
   "source": [
    "%matplotlib inline\n",
    "\n",
    "init_theta = []\n",
    "\n",
    "from ipywidgets import interact\n",
    "@interact(p2=(-2, 2, .1), q1=(-1, 1, .1), q2=(-1, 1, .1), q3=(0, 0.3, .1), q4=(0, 0.3, .1))\n",
    "def plot_func(p2, q1, q2, q3, q4):\n",
    "    res = fmin(constraint_cost, x0=[5, 0], args=([p2, q1, q2, q3, q4],), disp=0, ftol=1e-15)\n",
    "\n",
    "    # dependent coordinates\n",
    "    p1, p3 = res\n",
    "    jc = joint_coords = joints_func(p1, p2, p3, q1, q2, q3, q4)\n",
    "\n",
    "    plt.plot(jc[0, :], jc[1, :], \"ok\", ms=7)\n",
    "    plt.plot(jc[0, :], jc[1, :], \"b-\")\n",
    "    plt.axis(\"equal\")\n",
    "    plt.axis([-0.5, 1.4, -1.5, 0.5])\n",
    "    \n",
    "    init_theta[:] = [p1, p2, p3, q1, q2, q3, q4]\n",
    "    const_err = constraints_func(*init_theta)\n",
    "    \n",
    "    str_coords = ( f'Initial Values:\\n'\n",
    "                   f'p1: {p1}\\n'\n",
    "                   f'p2: {p2}\\n'\n",
    "                   f'p3: {p3}\\n'\n",
    "                   f'q1: {q1}\\n'\n",
    "                   f'q2: {q2}\\n'\n",
    "                   f'q3: {q3}\\n'\n",
    "                   f'q4: {q4}\\n'\n",
    "                   f'error of constraints: \\n {const_err} \\n')\n",
    "    print(str_coords)"
   ]
  },
  {
   "cell_type": "markdown",
   "metadata": {},
   "source": [
    "#### DAE system for simulation"
   ]
  },
  {
   "cell_type": "code",
   "execution_count": 62,
   "metadata": {},
   "outputs": [],
   "source": [
    "# generate numerical DAE system from implicit system equations\n",
    "dae = mod.calc_dae_eq(parameter_values)\n",
    "dae.generate_eqns_funcs()"
   ]
  },
  {
   "cell_type": "code",
   "execution_count": 63,
   "metadata": {},
   "outputs": [
    {
     "data": {
      "image/png": "[encoded data removed]",
      "text/latex": [
       "$\\displaystyle 5$"
      ],
      "text/plain": [
       "5"
      ]
     },
     "execution_count": 63,
     "metadata": {},
     "output_type": "execute_result"
    }
   ],
   "source": [
    "# degrees of freedom of DAE system\n",
    "dae.ndof"
   ]
  },
  {
   "cell_type": "code",
   "execution_count": 64,
   "metadata": {},
   "outputs": [
    {
     "data": {
      "text/latex": [
       "(dae.yy).T := $\\displaystyle \\left[\\begin{array}{cccccccccccccccc}p_{1} & p_{2} & p_{3} & q_{1} & q_{2} & q_{3} & q_{4} & \\dot{p}_{1} & \\dot{p}_{2} & \\dot{p}_{3} & \\dot{q}_{1} & \\dot{q}_{2} & \\dot{q}_{3} & \\dot{q}_{4} & \\lambda_{1} & \\lambda_{2}\\end{array}\\right]$"
      ],
      "text/plain": [
       "(dae.yy).T := [p₁  p₂  p₃  q₁  q₂  q₃  q₄  ṗ₁  ṗ₂  ṗ₃  q̇₁  q̇₂  q̇₃  q̇₄  λ₁  λ₂]"
      ]
     },
     "metadata": {},
     "output_type": "display_data"
    },
    {
     "data": {
      "text/plain": [
       "---"
      ]
     },
     "metadata": {},
     "output_type": "display_data"
    },
    {
     "data": {
      "text/latex": [
       "(dae.yyd).T := $\\displaystyle \\left[\\begin{array}{cccccccccccccccc}\\dot{y}_{1} & \\dot{y}_{2} & \\dot{y}_{3} & \\dot{y}_{4} & \\dot{y}_{5} & \\dot{y}_{6} & \\dot{y}_{7} & \\dot{y}_{8} & \\dot{y}_{9} & \\dot{y}_{10} & \\dot{y}_{11} & \\dot{y}_{12} & \\dot{y}_{13} & \\dot{y}_{14} & \\dot{y}_{15} & \\dot{y}_{16}\\end{array}\\right]$"
      ],
      "text/plain": [
       "(dae.yyd).T := [ẏ₁  ẏ₂  ẏ₃  ẏ₄  ẏ₅  ẏ₆  ẏ₇  ẏ₈  ẏ₉  ẏ₁₀  ẏ₁₁  ẏ₁₂  ẏ₁₃  ẏ₁₄  ẏ₁₅  ẏ₁₆]"
      ]
     },
     "metadata": {},
     "output_type": "display_data"
    },
    {
     "data": {
      "text/plain": [
       "---"
      ]
     },
     "metadata": {},
     "output_type": "display_data"
    }
   ],
   "source": [
    "# DAE's states and its derivatives\n",
    "dae.yy ##:T\n",
    "dae.yyd ##:T"
   ]
  },
  {
   "cell_type": "code",
   "execution_count": 65,
   "metadata": {
    "scrolled": false
   },
   "outputs": [
    {
     "data": {
      "text/latex": [
       "$\\displaystyle \\left[\\begin{matrix}- \\dot{p}_{1} + \\dot{y}_{1}\\\\- \\dot{p}_{2} + \\dot{y}_{2}\\\\- \\dot{p}_{3} + \\dot{y}_{3}\\\\- \\dot{q}_{1} + \\dot{y}_{4}\\\\- \\dot{q}_{2} + \\dot{y}_{5}\\\\- \\dot{q}_{3} + \\dot{y}_{6}\\\\- \\dot{q}_{4} + \\dot{y}_{7}\\\\11.1111111111111 \\left(q_{3} + 0.4\\right) \\left(- 0.09 \\lambda_{1} \\sin{\\left(p_{1} \\right)} + 0.09 \\lambda_{2} \\cos{\\left(p_{1} \\right)} + 0.025065 \\dot{p}_{1} \\dot{q}_{3} + 0.0125325 \\dot{p}_{3}^{2} q_{4} \\sin{\\left(p_{1} - p_{3} \\right)} + 0.005013 \\dot{p}_{3}^{2} \\sin{\\left(p_{1} - p_{3} \\right)} + 0.025065 \\dot{p}_{3} \\dot{q}_{4} \\cos{\\left(p_{1} - p_{3} \\right)} + 0.0125325 q_{3} \\dot{y}_{8} + 0.0125325 q_{4} \\dot{y}_{10} \\cos{\\left(p_{1} - p_{3} \\right)} + 0.005013 \\dot{y}_{10} \\cos{\\left(p_{1} - p_{3} \\right)} - 0.0125325 \\dot{y}_{11} \\sin{\\left(p_{1} \\right)} - 0.0125325 \\dot{y}_{12} \\sin{\\left(p_{1} \\right)} - 0.0125325 \\dot{y}_{14} \\sin{\\left(p_{1} - p_{3} \\right)} + 0.005013 \\dot{y}_{8} + 0.24588765 \\cos{\\left(p_{1} \\right)}\\right)\\\\- 0.3 \\lambda_{1} \\sin{\\left(p_{2} \\right)} + 0.3 \\lambda_{2} \\cos{\\left(p_{2} \\right)} + 0.000221 \\dot{y}_{9}\\\\11.1111111111111 \\left(q_{4} + 0.4\\right) \\left(0.09 \\lambda_{1} \\sin{\\left(p_{3} \\right)} - 0.09 \\lambda_{2} \\cos{\\left(p_{3} \\right)} - 0.0125325 \\dot{p}_{1}^{2} q_{3} \\sin{\\left(p_{1} - p_{3} \\right)} - 0.005013 \\dot{p}_{1}^{2} \\sin{\\left(p_{1} - p_{3} \\right)} + 0.025065 \\dot{p}_{1} \\dot{q}_{3} \\cos{\\left(p_{1} - p_{3} \\right)} + 0.025065 \\dot{p}_{3} \\dot{q}_{4} + 0.0125325 q_{3} \\dot{y}_{8} \\cos{\\left(p_{1} - p_{3} \\right)} + 0.0125325 q_{4} \\dot{y}_{10} + 0.005013 \\dot{y}_{10} - 0.0125325 \\dot{y}_{11} \\sin{\\left(p_{3} \\right)} - 0.0125325 \\dot{y}_{12} \\sin{\\left(p_{3} \\right)} + 0.0125325 \\dot{y}_{13} \\sin{\\left(p_{1} - p_{3} \\right)} + 0.005013 \\dot{y}_{8} \\cos{\\left(p_{1} - p_{3} \\right)} + 0.24588765 \\cos{\\left(p_{3} \\right)}\\right)\\\\1.0 \\lambda_{1} - 0.13925 \\dot{p}_{1}^{2} q_{3} \\cos{\\left(p_{1} \\right)} - 0.0557 \\dot{p}_{1}^{2} \\cos{\\left(p_{1} \\right)} - 0.2785 \\dot{p}_{1} \\dot{q}_{3} \\sin{\\left(p_{1} \\right)} - 0.13925 \\dot{p}_{3}^{2} q_{4} \\cos{\\left(p_{3} \\right)} - 0.0557 \\dot{p}_{3}^{2} \\cos{\\left(p_{3} \\right)} - 0.2785 \\dot{p}_{3} \\dot{q}_{4} \\sin{\\left(p_{3} \\right)} - 0.13925 q_{3} \\dot{y}_{8} \\sin{\\left(p_{1} \\right)} - 0.13925 q_{4} \\dot{y}_{10} \\sin{\\left(p_{3} \\right)} - 1.0 \\tau_{1} - 0.0557 \\dot{y}_{10} \\sin{\\left(p_{3} \\right)} + 0.58925 \\dot{y}_{11} + 0.13925 \\dot{y}_{12} + 0.13925 \\dot{y}_{13} \\cos{\\left(p_{1} \\right)} + 0.13925 \\dot{y}_{14} \\cos{\\left(p_{3} \\right)} - 0.0557 \\dot{y}_{8} \\sin{\\left(p_{1} \\right)}\\\\- 1.0 \\lambda_{1} - 0.13925 \\dot{p}_{1}^{2} q_{3} \\cos{\\left(p_{1} \\right)} - 0.0557 \\dot{p}_{1}^{2} \\cos{\\left(p_{1} \\right)} - 0.2785 \\dot{p}_{1} \\dot{q}_{3} \\sin{\\left(p_{1} \\right)} - 0.13925 \\dot{p}_{3}^{2} q_{4} \\cos{\\left(p_{3} \\right)} - 0.0557 \\dot{p}_{3}^{2} \\cos{\\left(p_{3} \\right)} - 0.2785 \\dot{p}_{3} \\dot{q}_{4} \\sin{\\left(p_{3} \\right)} - 0.13925 q_{3} \\dot{y}_{8} \\sin{\\left(p_{1} \\right)} - 0.13925 q_{4} \\dot{y}_{10} \\sin{\\left(p_{3} \\right)} - 1.0 \\tau_{2} - 0.0557 \\dot{y}_{10} \\sin{\\left(p_{3} \\right)} + 0.13925 \\dot{y}_{11} + 0.58925 \\dot{y}_{12} + 0.13925 \\dot{y}_{13} \\cos{\\left(p_{1} \\right)} + 0.13925 \\dot{y}_{14} \\cos{\\left(p_{3} \\right)} - 0.0557 \\dot{y}_{8} \\sin{\\left(p_{1} \\right)}\\\\1.0 \\lambda_{1} \\cos{\\left(p_{1} \\right)} + 1.0 \\lambda_{2} \\sin{\\left(p_{1} \\right)} - 0.13925 \\dot{p}_{1}^{2} q_{3} - 0.0557 \\dot{p}_{1}^{2} - 0.13925 \\dot{p}_{3}^{2} q_{4} \\cos{\\left(p_{1} - p_{3} \\right)} - 0.0557 \\dot{p}_{3}^{2} \\cos{\\left(p_{1} - p_{3} \\right)} + 0.2785 \\dot{p}_{3} \\dot{q}_{4} \\sin{\\left(p_{1} - p_{3} \\right)} + 0.13925 q_{4} \\dot{y}_{10} \\sin{\\left(p_{1} - p_{3} \\right)} - 1.0 \\tau_{3} + 0.0557 \\dot{y}_{10} \\sin{\\left(p_{1} - p_{3} \\right)} + 0.13925 \\dot{y}_{11} \\cos{\\left(p_{1} \\right)} + 0.13925 \\dot{y}_{12} \\cos{\\left(p_{1} \\right)} + 0.13925 \\dot{y}_{13} + 0.13925 \\dot{y}_{14} \\cos{\\left(p_{1} - p_{3} \\right)} + 2.732085 \\sin{\\left(p_{1} \\right)}\\\\- 1.0 \\lambda_{1} \\cos{\\left(p_{3} \\right)} - 1.0 \\lambda_{2} \\sin{\\left(p_{3} \\right)} - 0.13925 \\dot{p}_{1}^{2} q_{3} \\cos{\\left(p_{1} - p_{3} \\right)} - 0.0557 \\dot{p}_{1}^{2} \\cos{\\left(p_{1} - p_{3} \\right)} - 0.2785 \\dot{p}_{1} \\dot{q}_{3} \\sin{\\left(p_{1} - p_{3} \\right)} - 0.13925 \\dot{p}_{3}^{2} q_{4} - 0.0557 \\dot{p}_{3}^{2} - 0.13925 q_{3} \\dot{y}_{8} \\sin{\\left(p_{1} - p_{3} \\right)} - 1.0 \\tau_{4} + 0.13925 \\dot{y}_{11} \\cos{\\left(p_{3} \\right)} + 0.13925 \\dot{y}_{12} \\cos{\\left(p_{3} \\right)} + 0.13925 \\dot{y}_{13} \\cos{\\left(p_{1} - p_{3} \\right)} + 0.13925 \\dot{y}_{14} - 0.0557 \\dot{y}_{8} \\sin{\\left(p_{1} - p_{3} \\right)} + 2.732085 \\sin{\\left(p_{3} \\right)}\\\\- q_{1} + q_{2} - q_{3} \\cos{\\left(p_{1} \\right)} + q_{4} \\cos{\\left(p_{3} \\right)} - 0.4 \\cos{\\left(p_{1} \\right)} - 0.3 \\cos{\\left(p_{2} \\right)} + 0.4 \\cos{\\left(p_{3} \\right)} + 0.5\\\\- q_{3} \\sin{\\left(p_{1} \\right)} + q_{4} \\sin{\\left(p_{3} \\right)} - 0.4 \\sin{\\left(p_{1} \\right)} - 0.3 \\sin{\\left(p_{2} \\right)} + 0.4 \\sin{\\left(p_{3} \\right)}\\end{matrix}\\right]$"
      ],
      "text/plain": [
       "⎡                                                                             \n",
       "⎢                                                                             \n",
       "⎢                                                                             \n",
       "⎢                                                                             \n",
       "⎢                                                                             \n",
       "⎢                                                                             \n",
       "⎢                                                                             \n",
       "⎢                                                                             \n",
       "⎢                                                                             \n",
       "⎢                                                                             \n",
       "⎢                                                                             \n",
       "⎢                                                                             \n",
       "⎢                                                                             \n",
       "⎢                                                                             \n",
       "⎢                            ⎛                                                \n",
       "⎢11.1111111111111⋅(q₃ + 0.4)⋅⎝-0.09⋅λ₁⋅sin(p₁) + 0.09⋅λ₂⋅cos(p₁) + 0.025065⋅ṗ\n",
       "⎢                                                                             \n",
       "⎢                                                                             \n",
       "⎢                                                                             \n",
       "⎢                            ⎛                                                \n",
       "⎢11.1111111111111⋅(q₄ + 0.4)⋅⎝0.09⋅λ₁⋅sin(p₃) - 0.09⋅λ₂⋅cos(p₃) - 0.0125325⋅ṗ\n",
       "⎢                                                                             \n",
       "⎢                                            2                       2        \n",
       "⎢                         1.0⋅λ₁ - 0.13925⋅ṗ₁ ⋅q₃⋅cos(p₁) - 0.0557⋅ṗ₁ ⋅cos(p\n",
       "⎢                                                                             \n",
       "⎢                                          2                       2          \n",
       "⎢                          -λ₁ - 0.13925⋅ṗ₁ ⋅q₃⋅cos(p₁) - 0.0557⋅ṗ₁ ⋅cos(p₁)\n",
       "⎢                                                                             \n",
       "⎢                                                                     2       \n",
       "⎢                         1.0⋅λ₁⋅cos(p₁) + 1.0⋅λ₂⋅sin(p₁) - 0.13925⋅ṗ₁ ⋅q₃ - \n",
       "⎢                                                                             \n",
       "⎢                                                                   2         \n",
       "⎢                              -λ₁⋅cos(p₃) - λ₂⋅sin(p₃) - 0.13925⋅ṗ₁ ⋅q₃⋅cos(\n",
       "⎢                                                                             \n",
       "⎢                                                                             \n",
       "⎢                                                                             \n",
       "⎣                                                                             \n",
       "\n",
       "                                                                              \n",
       "                                                                              \n",
       "                                                                              \n",
       "                                                                              \n",
       "                                                                              \n",
       "                                                                              \n",
       "                                                                              \n",
       "                                                                              \n",
       "                                                                              \n",
       "                                                                              \n",
       "                                                                              \n",
       "                                                                              \n",
       "                                                                              \n",
       "                                                                              \n",
       "                  2                              2                            \n",
       "₁⋅q̇₃ + 0.0125325⋅ṗ₃ ⋅q₄⋅sin(p₁ - p₃) + 0.005013⋅ṗ₃ ⋅sin(p₁ - p₃) + 0.025065\n",
       "                                                                              \n",
       "                                                                              \n",
       "                                                                              \n",
       "2                              2                                              \n",
       "₁ ⋅q₃⋅sin(p₁ - p₃) - 0.005013⋅ṗ₁ ⋅sin(p₁ - p₃) + 0.025065⋅ṗ₁⋅q̇₃⋅cos(p₁ - p₃\n",
       "                                                                              \n",
       "                                    2                       2                 \n",
       "₁) - 0.2785⋅ṗ₁⋅q̇₃⋅sin(p₁) - 0.13925⋅ṗ₃ ⋅q₄⋅cos(p₃) - 0.0557⋅ṗ₃ ⋅cos(p₃) - \n",
       "                                                                              \n",
       "                                  2                       2                   \n",
       " - 0.2785⋅ṗ₁⋅q̇₃⋅sin(p₁) - 0.13925⋅ṗ₃ ⋅q₄⋅cos(p₃) - 0.0557⋅ṗ₃ ⋅cos(p₃) - 0.\n",
       "                                                                              \n",
       "        2             2                            2                          \n",
       "0.0557⋅ṗ₁  - 0.13925⋅ṗ₃ ⋅q₄⋅cos(p₁ - p₃) - 0.0557⋅ṗ₃ ⋅cos(p₁ - p₃) + 0.2785\n",
       "                                                                              \n",
       "                   2                                                      2   \n",
       "p₁ - p₃) - 0.0557⋅ṗ₁ ⋅cos(p₁ - p₃) - 0.2785⋅ṗ₁⋅q̇₃⋅sin(p₁ - p₃) - 0.13925⋅ṗ\n",
       "                                                                              \n",
       "                                                              -q₁ + q₂ - q₃⋅co\n",
       "                                                                              \n",
       "                                                                      -q₃⋅sin(\n",
       "\n",
       "                     -ṗ₁ + ẏ₁                                               \n",
       "                                                                              \n",
       "                     -ṗ₂ + ẏ₂                                               \n",
       "                                                                              \n",
       "                     -ṗ₃ + ẏ₃                                               \n",
       "                                                                              \n",
       "                     -q̇₁ + ẏ₄                                               \n",
       "                                                                              \n",
       "                     -q̇₂ + ẏ₅                                               \n",
       "                                                                              \n",
       "                     -q̇₃ + ẏ₆                                               \n",
       "                                                                              \n",
       "                     -q̇₄ + ẏ₇                                               \n",
       "                                                                              \n",
       "                                                                              \n",
       "⋅ṗ₃⋅q̇₄⋅cos(p₁ - p₃) + 0.0125325⋅q₃⋅ẏ₈ + 0.0125325⋅q₄⋅ẏ₁₀⋅cos(p₁ - p₃) + 0.\n",
       "                                                                              \n",
       "  -0.3⋅λ₁⋅sin(p₂) + 0.3⋅λ₂⋅cos(p₂) + 0.000221⋅ẏ₉                             \n",
       "                                                                              \n",
       "                                                                              \n",
       ") + 0.025065⋅ṗ₃⋅q̇₄ + 0.0125325⋅q₃⋅ẏ₈⋅cos(p₁ - p₃) + 0.0125325⋅q₄⋅ẏ₁₀ + 0.0\n",
       "                                                                              \n",
       "                                                                              \n",
       "0.2785⋅ṗ₃⋅q̇₄⋅sin(p₃) - 0.13925⋅q₃⋅ẏ₈⋅sin(p₁) - 0.13925⋅q₄⋅ẏ₁₀⋅sin(p₃) - τ₁\n",
       "                                                                              \n",
       "                                                                              \n",
       "2785⋅ṗ₃⋅q̇₄⋅sin(p₃) - 0.13925⋅q₃⋅ẏ₈⋅sin(p₁) - 0.13925⋅q₄⋅ẏ₁₀⋅sin(p₃) - τ₂ -\n",
       "                                                                              \n",
       "                                                                              \n",
       "⋅ṗ₃⋅q̇₄⋅sin(p₁ - p₃) + 0.13925⋅q₄⋅ẏ₁₀⋅sin(p₁ - p₃) - τ₃ + 0.0557⋅ẏ₁₀⋅sin(p₁\n",
       "                                                                              \n",
       "            2                                                                 \n",
       "₃ ⋅q₄ - 0.0557⋅ṗ₃  - 0.13925⋅q₃⋅ẏ₈⋅sin(p₁ - p₃) - τ₄ + 0.13925⋅ẏ₁₁⋅cos(p₃) \n",
       "                                                                              \n",
       "s(p₁) + q₄⋅cos(p₃) - 0.4⋅cos(p₁) - 0.3⋅cos(p₂) + 0.4⋅cos(p₃) + 0.5            \n",
       "                                                                              \n",
       "p₁) + q₄⋅sin(p₃) - 0.4⋅sin(p₁) - 0.3⋅sin(p₂) + 0.4⋅sin(p₃)                    \n",
       "\n",
       "                                                                              \n",
       "                                                                              \n",
       "                                                                              \n",
       "                                                                              \n",
       "                                                                              \n",
       "                                                                              \n",
       "                                                                              \n",
       "                                                                              \n",
       "                                                                              \n",
       "                                                                              \n",
       "                                                                              \n",
       "                                                                              \n",
       "                                                                              \n",
       "                                                                              \n",
       "                                                                              \n",
       "005013⋅ẏ₁₀⋅cos(p₁ - p₃) - 0.0125325⋅ẏ₁₁⋅sin(p₁) - 0.0125325⋅ẏ₁₂⋅sin(p₁) - 0\n",
       "                                                                              \n",
       "                                                                              \n",
       "                                                                              \n",
       "                                                                              \n",
       "05013⋅ẏ₁₀ - 0.0125325⋅ẏ₁₁⋅sin(p₃) - 0.0125325⋅ẏ₁₂⋅sin(p₃) + 0.0125325⋅ẏ₁₃⋅\n",
       "                                                                              \n",
       "                                                                              \n",
       " - 0.0557⋅ẏ₁₀⋅sin(p₃) + 0.58925⋅ẏ₁₁ + 0.13925⋅ẏ₁₂ + 0.13925⋅ẏ₁₃⋅cos(p₁) + \n",
       "                                                                              \n",
       "                                                                              \n",
       " 0.0557⋅ẏ₁₀⋅sin(p₃) + 0.13925⋅ẏ₁₁ + 0.58925⋅ẏ₁₂ + 0.13925⋅ẏ₁₃⋅cos(p₁) + 0.\n",
       "                                                                              \n",
       "                                                                              \n",
       " - p₃) + 0.13925⋅ẏ₁₁⋅cos(p₁) + 0.13925⋅ẏ₁₂⋅cos(p₁) + 0.13925⋅ẏ₁₃ + 0.13925⋅\n",
       "                                                                              \n",
       "                                                                              \n",
       "+ 0.13925⋅ẏ₁₂⋅cos(p₃) + 0.13925⋅ẏ₁₃⋅cos(p₁ - p₃) + 0.13925⋅ẏ₁₄ - 0.0557⋅ẏ₈\n",
       "                                                                              \n",
       "                                                                              \n",
       "                                                                              \n",
       "                                                                              \n",
       "\n",
       "                                                    ⎤\n",
       "                                                  ⎥\n",
       "                                                    ⎥\n",
       "                                                  ⎥\n",
       "                                                    ⎥\n",
       "                                                  ⎥\n",
       "                                                    ⎥\n",
       "                                                  ⎥\n",
       "                                                    ⎥\n",
       "                                                  ⎥\n",
       "                                                    ⎥\n",
       "                                                  ⎥\n",
       "                                                    ⎥\n",
       "                                                  ⎥\n",
       "                                                 ⎞⎥\n",
       ".0125325⋅ẏ₁₄⋅sin(p₁ - p₃) + 0.005013⋅ẏ₈ + 0.24588765⋅cos(p₁)⎠⎥\n",
       "                                                  ⎥\n",
       "                                                   ⎥\n",
       "                                                  ⎥\n",
       "                                                ⎞ ⎥\n",
       "sin(p₁ - p₃) + 0.005013⋅ẏ₈⋅cos(p₁ - p₃) + 0.24588765⋅cos(p₃)⎠ ⎥\n",
       "                                                  ⎥\n",
       "                                                  ⎥\n",
       "0.13925⋅ẏ₁₄⋅cos(p₃) - 0.0557⋅ẏ₈⋅sin(p₁)                         ⎥\n",
       "                                                  ⎥\n",
       "                                                  ⎥\n",
       "13925⋅ẏ₁₄⋅cos(p₃) - 0.0557⋅ẏ₈⋅sin(p₁)                           ⎥\n",
       "                                                  ⎥\n",
       "                                                  ⎥\n",
       "ẏ₁₄⋅cos(p₁ - p₃) + 2.732085⋅sin(p₁)                          ⎥\n",
       "                                                  ⎥\n",
       "                                                  ⎥\n",
       "⋅sin(p₁ - p₃) + 2.732085⋅sin(p₃)                              ⎥\n",
       "                                                  ⎥\n",
       "                                                  ⎥\n",
       "                                                  ⎥\n",
       "                                                  ⎦"
      ]
     },
     "execution_count": 65,
     "metadata": {},
     "output_type": "execute_result"
    }
   ],
   "source": [
    "# implicit equations of the DAE system\n",
    "dae.eqns"
   ]
  },
  {
   "cell_type": "code",
   "execution_count": 66,
   "metadata": {},
   "outputs": [
    {
     "data": {
      "text/latex": [
       "$\\displaystyle \\left[\\begin{matrix}\\tau_{1}\\\\\\tau_{2}\\\\\\tau_{3}\\\\\\tau_{4}\\end{matrix}\\right]$"
      ],
      "text/plain": [
       "⎡τ₁⎤\n",
       "⎢  ⎥\n",
       "⎢τ₂⎥\n",
       "⎢  ⎥\n",
       "⎢τ₃⎥\n",
       "⎢  ⎥\n",
       "⎣τ₄⎦"
      ]
     },
     "execution_count": 66,
     "metadata": {},
     "output_type": "execute_result"
    }
   ],
   "source": [
    "# control input vector of DAE system\n",
    "dae.mod.tau"
   ]
  },
  {
   "cell_type": "code",
   "execution_count": 67,
   "metadata": {},
   "outputs": [
    {
     "data": {
      "text/plain": [
       "(dae.input_func) := <function __main__.new_input_func(yy, t)>"
      ]
     },
     "metadata": {},
     "output_type": "display_data"
    },
    {
     "data": {
      "text/plain": [
       "---"
      ]
     },
     "metadata": {},
     "output_type": "display_data"
    }
   ],
   "source": [
    "# define closed loop (usage of yy) control function for input\n",
    "# di*yy[] terms represent dissipation in carts\n",
    "def new_input_func(yy, t):\n",
    "    u1 = mc1b.subs(parameter_values)*yy[1] - d1.subs(parameter_values) * yy[8]\n",
    "    u2 = mc2b.subs(parameter_values)*yy[1] - d4.subs(parameter_values) * yy[9]\n",
    "    u3 = 0\n",
    "    u4 = 0\n",
    "    return [u1, u2, u3, u4]\n",
    "\n",
    "# set as input of DAE system\n",
    "dae.input_func = new_input_func ##:"
   ]
  },
  {
   "cell_type": "code",
   "execution_count": 68,
   "metadata": {},
   "outputs": [
    {
     "data": {
      "image/png": "[encoded data removed]",
      "text/latex": [
       "$\\displaystyle - q_{3} \\sin{\\left(p_{1} \\right)} + q_{4} \\sin{\\left(p_{3} \\right)} - 0.4 \\sin{\\left(p_{1} \\right)} - 0.3 \\sin{\\left(p_{2} \\right)} + 0.4 \\sin{\\left(p_{3} \\right)}$"
      ],
      "text/plain": [
       "-q₃⋅sin(p₁) + q₄⋅sin(p₃) - 0.4⋅sin(p₁) - 0.3⋅sin(p₂) + 0.4⋅sin(p₃)"
      ]
     },
     "execution_count": 68,
     "metadata": {},
     "output_type": "execute_result"
    }
   ],
   "source": [
    "dae.eqns[15]"
   ]
  },
  {
   "cell_type": "code",
   "execution_count": 69,
   "metadata": {
    "scrolled": false
   },
   "outputs": [
    {
     "data": {
      "text/plain": [
       "(dae.constraints_func(*init_theta)) := array([ 2.97660963e-09, -1.08367645e-08])"
      ]
     },
     "metadata": {},
     "output_type": "display_data"
    },
    {
     "data": {
      "text/plain": [
       "---"
      ]
     },
     "metadata": {},
     "output_type": "display_data"
    },
    {
     "name": "stdout",
     "output_type": "stream",
     "text": [
      "Optimization terminated successfully.\n",
      "         Current function value: 0.000000\n",
      "         Iterations: 100\n",
      "         Function evaluations: 188\n",
      "Optimization terminated successfully.\n",
      "         Current function value: 0.000000\n",
      "         Iterations: 35\n",
      "         Function evaluations: 71\n"
     ]
    },
    {
     "data": {
      "text/plain": [
       "(yy0, yyd0) := (array([ 5.21015666e+00, -2.00000040e-01, -1.50524414e+00,  0.00000000e+00,  0.00000000e+00,  1.00000000e-01,  1.00000000e-01,  0.00000000e+00,  0.00000000e+00,  0.00000000e+00,  0.00000000e+00,  0.00000000e+00,  0.00000000e+00,  0.00000000e+00,  1.59358038e-15,  1.90248527e-16]),\n",
       " array([ 0.00000000e+00,  0.00000000e+00,  0.00000000e+00,  0.00000000e+00,  0.00000000e+00,  0.00000000e+00,  0.00000000e+00,  2.10920244e+01, -6.82779431e-13,  3.09121586e+01, -1.73333368e+01, -1.61333365e+01,  1.68956293e+01,  1.08457485e+01,  0.00000000e+00,  0.00000000e+00]))"
      ]
     },
     "metadata": {},
     "output_type": "display_data"
    },
    {
     "data": {
      "text/plain": [
       "---"
      ]
     },
     "metadata": {},
     "output_type": "display_data"
    },
    {
     "data": {
      "text/plain": [
       "(dae.model_func(t0, yy0, yyd0)) := \n",
       "array([ 0.00000000e+00,  0.00000000e+00,  0.00000000e+00,  0.00000000e+00,  0.00000000e+00,  0.00000000e+00,  0.00000000e+00,  4.62592927e-16,  2.12950181e-20, -1.29140525e-15, -1.55431223e-15, -1.11022302e-15,  4.44089210e-16,  0.00000000e+00,  6.82212205e+01,  6.85294062e+01])"
      ]
     },
     "metadata": {},
     "output_type": "display_data"
    },
    {
     "data": {
      "text/plain": [
       "---"
      ]
     },
     "metadata": {},
     "output_type": "display_data"
    },
    {
     "ename": "AssertionError",
     "evalue": "",
     "output_type": "error",
     "traceback": [
      "\u001b[0;31m---------------------------------------------------------------------------\u001b[0m",
      "\u001b[0;31mAssertionError\u001b[0m                            Traceback (most recent call last)",
      "Input \u001b[0;32mIn [69]\u001b[0m, in \u001b[0;36m<cell line: 11>\u001b[0;34m()\u001b[0m\n\u001b[1;32m      8\u001b[0m custom_display(\u001b[38;5;124m\"\u001b[39m\u001b[38;5;124m(dae.model_func(t0, yy0, yyd0))\u001b[39m\u001b[38;5;124m\"\u001b[39m, (dae\u001b[38;5;241m.\u001b[39mmodel_func(t0, yy0, yyd0))); display({\u001b[38;5;124m\"\u001b[39m\u001b[38;5;124mtext/plain\u001b[39m\u001b[38;5;124m\"\u001b[39m: \u001b[38;5;124m\"\u001b[39m\u001b[38;5;124m---\u001b[39m\u001b[38;5;124m\"\u001b[39m}, raw\u001b[38;5;241m=\u001b[39m\u001b[38;5;28;01mTrue\u001b[39;00m)\n\u001b[1;32m     10\u001b[0m \u001b[38;5;66;03m# check if all values are almost zero (-> initial values fulfill the model)\u001b[39;00m\n\u001b[0;32m---> 11\u001b[0m \u001b[38;5;28;01massert\u001b[39;00m npy\u001b[38;5;241m.\u001b[39mallclose(dae\u001b[38;5;241m.\u001b[39mmodel_func(t0, yy0, yyd0), \u001b[38;5;241m0\u001b[39m)\n",
      "\u001b[0;31mAssertionError\u001b[0m: "
     ]
    }
   ],
   "source": [
    "### check error of constraints for initial values\n",
    "dae.constraints_func(*init_theta) ##:\n",
    "\n",
    "# calculate consistent initial values from latest visualization\n",
    "yy0, yyd0 = dae.calc_consistent_init_vals(p1=init_theta[0], q1=init_theta[3], q2=init_theta[4], q3=init_theta[5], q4=init_theta[6], _ftol=1e-9) ##:\n",
    "\n",
    "t0 = 0\n",
    "\n",
    "# evaluation of implicit DAE System (should be almost 0 if initial values fulfill the model)\n",
    "dae.model_func(t0, yy0, yyd0) ##:\n",
    "\n",
    "# check if all values are almost zero (-> initial values fulfill the model)\n",
    "assert npy.allclose(dae.model_func(t0, yy0, yyd0), 0)"
   ]
  },
  {
   "cell_type": "code",
   "execution_count": 70,
   "metadata": {},
   "outputs": [
    {
     "data": {
      "image/png": "[encoded data removed]",
      "text/latex": [
       "(model.algvar) := $\\displaystyle \\left[ 1, \\  1, \\  1, \\  1, \\  1, \\  1, \\  1, \\  1, \\  1, \\  1, \\  1, \\  1, \\  1, \\  1, \\  0, \\  0\\right]$"
      ],
      "text/plain": [
       "(model.algvar) := [1, 1, 1, 1, 1, 1, 1, 1, 1, 1, 1, 1, 1, 1, 0, 0]"
      ]
     },
     "metadata": {},
     "output_type": "display_data"
    },
    {
     "data": {
      "text/plain": [
       "---"
      ]
     },
     "metadata": {},
     "output_type": "display_data"
    }
   ],
   "source": [
    "# defining assimulo problem\n",
    "model = Overdetermined_Problem(dae.model_func, yy0, yyd0, t0)\n",
    "model.name = 'gantry crane'\n",
    "\n",
    "# indicate which components of y are differential (1) and which are purely algebraic (0)\n",
    "model.algvar = dae.diff_alg_vars ##:\n",
    "\n",
    "# definition of simulation of DAE system with ODASSL solver\n",
    "sim = SOLVER(model)\n",
    "# sim.suppress_alg = True #Necessary to set to True for >1 index problem\n",
    "\n",
    "# values <= 30 produce lots of output\n",
    "sim.verbosity = 0"
   ]
  },
  {
   "cell_type": "code",
   "execution_count": 71,
   "metadata": {
    "scrolled": false
   },
   "outputs": [
    {
     "name": "stdout",
     "output_type": "stream",
     "text": [
      "No initialization defined for the problem.\n"
     ]
    },
    {
     "name": "stderr",
     "output_type": "stream",
     "text": [
      "capi_return is NULL\n",
      "Call-back cb_res_in_odassl__user__routines failed.\n"
     ]
    },
    {
     "ename": "KeyboardInterrupt",
     "evalue": "",
     "output_type": "error",
     "traceback": [
      "\u001b[0;31m---------------------------------------------------------------------------\u001b[0m",
      "\u001b[0;31mKeyboardInterrupt\u001b[0m                         Traceback (most recent call last)",
      "Input \u001b[0;32mIn [71]\u001b[0m, in \u001b[0;36m<cell line: 5>\u001b[0;34m()\u001b[0m\n\u001b[1;32m      2\u001b[0m ncp \u001b[38;5;241m=\u001b[39m \u001b[38;5;241m500\u001b[39m            \u001b[38;5;66;03m# Number of communication points (number of return points)\u001b[39;00m\n\u001b[1;32m      4\u001b[0m \u001b[38;5;66;03m# simulation of DAE system\u001b[39;00m\n\u001b[0;32m----> 5\u001b[0m tt_sol, yy_sol, yyd_sol \u001b[38;5;241m=\u001b[39m \u001b[43msim\u001b[49m\u001b[38;5;241;43m.\u001b[39;49m\u001b[43msimulate\u001b[49m\u001b[43m(\u001b[49m\u001b[43mtfinal\u001b[49m\u001b[43m,\u001b[49m\u001b[43m \u001b[49m\u001b[43mncp\u001b[49m\u001b[43m)\u001b[49m\n",
      "File \u001b[0;32massimulo/ode.pyx:180\u001b[0m, in \u001b[0;36massimulo.ode.ODE.simulate\u001b[0;34m()\u001b[0m\n",
      "File \u001b[0;32massimulo/ode.pyx:300\u001b[0m, in \u001b[0;36massimulo.ode.ODE.simulate\u001b[0;34m()\u001b[0m\n",
      "File \u001b[0;32massimulo/implicit_ode.pyx:129\u001b[0m, in \u001b[0;36massimulo.implicit_ode.Implicit_ODE._simulate\u001b[0;34m()\u001b[0m\n",
      "File \u001b[0;32massimulo/implicit_ode.pyx:207\u001b[0m, in \u001b[0;36massimulo.implicit_ode.Implicit_ODE._simulate\u001b[0;34m()\u001b[0m\n",
      "File \u001b[0;32m~/miniconda3/lib/python3.8/site-packages/assimulo/solvers/odassl.py:339\u001b[0m, in \u001b[0;36mODASSL.integrate\u001b[0;34m(self, t, y, yprime, tf, opts)\u001b[0m\n\u001b[1;32m    336\u001b[0m output_list  \u001b[38;5;241m=\u001b[39m opts[\u001b[38;5;124m\"\u001b[39m\u001b[38;5;124moutput_list\u001b[39m\u001b[38;5;124m\"\u001b[39m]\n\u001b[1;32m    337\u001b[0m \u001b[38;5;28;01mfor\u001b[39;00m tout \u001b[38;5;129;01min\u001b[39;00m output_list: \n\u001b[1;32m    338\u001b[0m     t,y,yprime,tout,info,idid,rwork,iwork \u001b[38;5;241m=\u001b[39m \\\n\u001b[0;32m--> 339\u001b[0m       \u001b[43modassl\u001b[49m\u001b[38;5;241;43m.\u001b[39;49m\u001b[43modassl\u001b[49m\u001b[43m(\u001b[49m\u001b[43mcallback_residual\u001b[49m\u001b[43m,\u001b[49m\u001b[43mneq\u001b[49m\u001b[43m,\u001b[49m\u001b[43mny\u001b[49m\u001b[43m,\u001b[49m\u001b[43mt\u001b[49m\u001b[43m,\u001b[49m\u001b[43my\u001b[49m\u001b[43m,\u001b[49m\u001b[43myprime\u001b[49m\u001b[43m,\u001b[49m\u001b[43m \u001b[49m\u001b[43m\\\u001b[49m\n\u001b[1;32m    340\u001b[0m \u001b[43m             \u001b[49m\u001b[43mtout\u001b[49m\u001b[43m,\u001b[49m\u001b[43minfo\u001b[49m\u001b[43m,\u001b[49m\u001b[43mrtol\u001b[49m\u001b[43m,\u001b[49m\u001b[43matol\u001b[49m\u001b[43m,\u001b[49m\u001b[43mrwork\u001b[49m\u001b[43m,\u001b[49m\u001b[43miwork\u001b[49m\u001b[43m,\u001b[49m\u001b[43mjac_dummy\u001b[49m\u001b[43m)\u001b[49m\n\u001b[1;32m    341\u001b[0m     tlist\u001b[38;5;241m.\u001b[39mappend(t)\n\u001b[1;32m    342\u001b[0m     ylist\u001b[38;5;241m.\u001b[39mappend(y\u001b[38;5;241m.\u001b[39mcopy())\n",
      "File \u001b[0;32m~/miniconda3/lib/python3.8/site-packages/assimulo/solvers/odassl.py:301\u001b[0m, in \u001b[0;36mODASSL.integrate.<locals>.py_residual\u001b[0;34m(t, y, yd)\u001b[0m\n\u001b[1;32m    300\u001b[0m \u001b[38;5;28;01mdef\u001b[39;00m \u001b[38;5;21mpy_residual\u001b[39m(t,y,yd):\n\u001b[0;32m--> 301\u001b[0m     \u001b[38;5;28;01mreturn\u001b[39;00m \u001b[38;5;28;43mself\u001b[39;49m\u001b[38;5;241;43m.\u001b[39;49m\u001b[43mproblem\u001b[49m\u001b[38;5;241;43m.\u001b[39;49m\u001b[43mres\u001b[49m\u001b[43m(\u001b[49m\u001b[43mt\u001b[49m\u001b[43m,\u001b[49m\u001b[43my\u001b[49m\u001b[43m,\u001b[49m\u001b[43myd\u001b[49m\u001b[43m)\u001b[49m\n",
      "File \u001b[0;32m/mnt/c/Users/kwrede/Desktop/Studienarbeit/SA-Wrede/lift_actuated_double_crane_notebooks/../../symbtools/symbtools/modeltools.py:588\u001b[0m, in \u001b[0;36mDAE_System.generate_eqns_funcs.<locals>.model_func\u001b[0;34m(t, yy, yyd)\u001b[0m\n\u001b[1;32m    584\u001b[0m ode_part \u001b[38;5;241m=\u001b[39m \u001b[38;5;28mself\u001b[39m\u001b[38;5;241m.\u001b[39mdeq_func(\u001b[38;5;241m*\u001b[39margs)\n\u001b[1;32m    586\u001b[0m \u001b[38;5;66;03m# now calculate the accelerations in depencency of yy (and thus in dependency of llmd)\u001b[39;00m\n\u001b[1;32m    587\u001b[0m \u001b[38;5;66;03m# Note: signature: acc_of_lmd_func(yy, ttau)\u001b[39;00m\n\u001b[0;32m--> 588\u001b[0m ttheta_dd \u001b[38;5;241m=\u001b[39m \u001b[43macc_of_lmd_func\u001b[49m\u001b[43m(\u001b[49m\u001b[38;5;241;43m*\u001b[39;49m\u001b[43mnp\u001b[49m\u001b[38;5;241;43m.\u001b[39;49m\u001b[43mconcatenate\u001b[49m\u001b[43m(\u001b[49m\u001b[43m(\u001b[49m\u001b[43myy\u001b[49m\u001b[43m,\u001b[49m\u001b[43m \u001b[49m\u001b[43mexternal_forces\u001b[49m\u001b[43m)\u001b[49m\u001b[43m)\u001b[49m\u001b[43m)\u001b[49m\n\u001b[1;32m    589\u001b[0m c2 \u001b[38;5;241m=\u001b[39m \u001b[38;5;28mself\u001b[39m\u001b[38;5;241m.\u001b[39mconstraints_dd_func(\u001b[38;5;241m*\u001b[39mnp\u001b[38;5;241m.\u001b[39mconcatenate((ttheta, ttheta_d, ttheta_dd)))\n\u001b[1;32m    590\u001b[0m c2 \u001b[38;5;241m=\u001b[39m np\u001b[38;5;241m.\u001b[39matleast_1d(c2)\n",
      "File \u001b[0;32m/mnt/c/Users/kwrede/Desktop/Studienarbeit/SA-Wrede/lift_actuated_double_crane_notebooks/../../symbtools/symbtools/modeltools.py:714\u001b[0m, in \u001b[0;36mDAE_System.gen_leqs_for_acc_llmd.<locals>.acc_of_lmd_func\u001b[0;34m(*args)\u001b[0m\n\u001b[1;32m    710\u001b[0m ttau \u001b[38;5;241m=\u001b[39m args[\u001b[38;5;241m2\u001b[39m\u001b[38;5;241m*\u001b[39mntt\u001b[38;5;241m+\u001b[39mnll:]\n\u001b[1;32m    712\u001b[0m args1 \u001b[38;5;241m=\u001b[39m np\u001b[38;5;241m.\u001b[39mconcatenate((ttheta, ttheta_d, ttau))\n\u001b[0;32m--> 714\u001b[0m Anum \u001b[38;5;241m=\u001b[39m \u001b[43mA_fnc\u001b[49m\u001b[43m(\u001b[49m\u001b[38;5;241;43m*\u001b[39;49m\u001b[43margs1\u001b[49m\u001b[43m)\u001b[49m\n\u001b[1;32m    715\u001b[0m A1 \u001b[38;5;241m=\u001b[39m Anum[:ntt, :ntt]\n\u001b[1;32m    716\u001b[0m A2 \u001b[38;5;241m=\u001b[39m Anum[:ntt, ntt:]\n",
      "File \u001b[0;32m/mnt/c/Users/kwrede/Desktop/Studienarbeit/SA-Wrede/lift_actuated_double_crane_notebooks/../../symbtools/symbtools/core.py:3587\u001b[0m, in \u001b[0;36mexpr_to_func.<locals>.reshape_func\u001b[0;34m(*allargs)\u001b[0m\n\u001b[1;32m   3586\u001b[0m \u001b[38;5;28;01mdef\u001b[39;00m \u001b[38;5;21mreshape_func\u001b[39m(\u001b[38;5;241m*\u001b[39mallargs):\n\u001b[0;32m-> 3587\u001b[0m     \u001b[38;5;28;01mreturn\u001b[39;00m \u001b[43mfunc2\u001b[49m\u001b[43m(\u001b[49m\u001b[38;5;241;43m*\u001b[39;49m\u001b[43mallargs\u001b[49m\u001b[43m)\u001b[49m\u001b[38;5;241m.\u001b[39mreshape(sympy_shape)\n",
      "File \u001b[0;32m/mnt/c/Users/kwrede/Desktop/Studienarbeit/SA-Wrede/lift_actuated_double_crane_notebooks/../../symbtools/symbtools/core.py:3568\u001b[0m, in \u001b[0;36mexpr_to_func.<locals>.func2\u001b[0;34m(*allargs)\u001b[0m\n\u001b[1;32m   3566\u001b[0m \u001b[38;5;28;01mdef\u001b[39;00m \u001b[38;5;21mfunc2\u001b[39m(\u001b[38;5;241m*\u001b[39mallargs):\n\u001b[1;32m   3567\u001b[0m     \u001b[38;5;66;03m# each result should be a 1d- array\u001b[39;00m\n\u001b[0;32m-> 3568\u001b[0m     results \u001b[38;5;241m=\u001b[39m [to_np(f(\u001b[38;5;241m*\u001b[39mallargs)) \u001b[38;5;28;01mfor\u001b[39;00m f \u001b[38;5;129;01min\u001b[39;00m funcs]\n\u001b[1;32m   3570\u001b[0m     \u001b[38;5;66;03m# transpose, such that the input axis (e.g. time) is the first one\u001b[39;00m\n\u001b[1;32m   3571\u001b[0m     res \u001b[38;5;241m=\u001b[39m to_np(results)\u001b[38;5;241m.\u001b[39mT\u001b[38;5;241m.\u001b[39msqueeze()\n",
      "File \u001b[0;32m/mnt/c/Users/kwrede/Desktop/Studienarbeit/SA-Wrede/lift_actuated_double_crane_notebooks/../../symbtools/symbtools/core.py:3568\u001b[0m, in \u001b[0;36m<listcomp>\u001b[0;34m(.0)\u001b[0m\n\u001b[1;32m   3566\u001b[0m \u001b[38;5;28;01mdef\u001b[39;00m \u001b[38;5;21mfunc2\u001b[39m(\u001b[38;5;241m*\u001b[39mallargs):\n\u001b[1;32m   3567\u001b[0m     \u001b[38;5;66;03m# each result should be a 1d- array\u001b[39;00m\n\u001b[0;32m-> 3568\u001b[0m     results \u001b[38;5;241m=\u001b[39m [to_np(\u001b[43mf\u001b[49m\u001b[43m(\u001b[49m\u001b[38;5;241;43m*\u001b[39;49m\u001b[43mallargs\u001b[49m\u001b[43m)\u001b[49m) \u001b[38;5;28;01mfor\u001b[39;00m f \u001b[38;5;129;01min\u001b[39;00m funcs]\n\u001b[1;32m   3570\u001b[0m     \u001b[38;5;66;03m# transpose, such that the input axis (e.g. time) is the first one\u001b[39;00m\n\u001b[1;32m   3571\u001b[0m     res \u001b[38;5;241m=\u001b[39m to_np(results)\u001b[38;5;241m.\u001b[39mT\u001b[38;5;241m.\u001b[39msqueeze()\n",
      "File \u001b[0;32m<lambdifygenerated-188>:2\u001b[0m, in \u001b[0;36m_lambdifygenerated\u001b[0;34m(p1, p2, p3, q1, q2, q3, q4, pdot1, pdot2, pdot3, qdot1, qdot2, qdot3, qdot4, tau1, tau2, tau3, tau4)\u001b[0m\n\u001b[1;32m      1\u001b[0m \u001b[38;5;28;01mdef\u001b[39;00m \u001b[38;5;21m_lambdifygenerated\u001b[39m(p1, p2, p3, q1, q2, q3, q4, pdot1, pdot2, pdot3, qdot1, qdot2, qdot3, qdot4, tau1, tau2, tau3, tau4):\n\u001b[0;32m----> 2\u001b[0m     \u001b[38;5;28;01mreturn\u001b[39;00m (\u001b[38;5;241;43m-\u001b[39;49m\u001b[43mqdot1\u001b[49m\u001b[43m \u001b[49m\u001b[38;5;241;43m+\u001b[39;49m\u001b[43m \u001b[49m\u001b[43mqdot1\u001b[49m\u001b[43m \u001b[49m\u001b[38;5;241;43m-\u001b[39;49m\u001b[43m \u001b[49m\u001b[43mp3\u001b[49m\u001b[43m \u001b[49m\u001b[38;5;241;43m+\u001b[39;49m\u001b[43m \u001b[49m\u001b[43mp3\u001b[49m\u001b[43m \u001b[49m\u001b[38;5;241;43m-\u001b[39;49m\u001b[43m \u001b[49m\u001b[43mpdot2\u001b[49m\u001b[43m \u001b[49m\u001b[38;5;241;43m+\u001b[39;49m\u001b[43m \u001b[49m\u001b[43mpdot2\u001b[49m\u001b[43m \u001b[49m\u001b[38;5;241;43m-\u001b[39;49m\u001b[43m \u001b[49m\u001b[43mpdot1\u001b[49m\u001b[43m \u001b[49m\u001b[38;5;241;43m+\u001b[39;49m\u001b[43m \u001b[49m\u001b[43mpdot1\u001b[49m\u001b[43m \u001b[49m\u001b[38;5;241;43m-\u001b[39;49m\u001b[43m \u001b[49m\u001b[43mq2\u001b[49m\u001b[43m \u001b[49m\u001b[38;5;241;43m+\u001b[39;49m\u001b[43m \u001b[49m\u001b[43mq2\u001b[49m\u001b[43m \u001b[49m\u001b[38;5;241;43m-\u001b[39;49m\u001b[43m \u001b[49m\u001b[43mqdot2\u001b[49m\u001b[43m \u001b[49m\u001b[38;5;241;43m+\u001b[39;49m\u001b[43m \u001b[49m\u001b[43mqdot2\u001b[49m\u001b[43m \u001b[49m\u001b[38;5;241;43m-\u001b[39;49m\u001b[43m \u001b[49m\u001b[43mqdot3\u001b[49m\u001b[43m \u001b[49m\u001b[38;5;241;43m+\u001b[39;49m\u001b[43m \u001b[49m\u001b[43mqdot3\u001b[49m\u001b[43m \u001b[49m\u001b[38;5;241;43m-\u001b[39;49m\u001b[43m \u001b[49m\u001b[43mp2\u001b[49m\u001b[43m \u001b[49m\u001b[38;5;241;43m+\u001b[39;49m\u001b[43m \u001b[49m\u001b[43mp2\u001b[49m\u001b[43m \u001b[49m\u001b[38;5;241;43m-\u001b[39;49m\u001b[43m \u001b[49m\u001b[43mtau1\u001b[49m \u001b[38;5;241m+\u001b[39m tau1 \u001b[38;5;241m-\u001b[39m tau3 \u001b[38;5;241m+\u001b[39m tau3 \u001b[38;5;241m-\u001b[39m pdot3 \u001b[38;5;241m+\u001b[39m pdot3 \u001b[38;5;241m-\u001b[39m qdot4 \u001b[38;5;241m+\u001b[39m qdot4 \u001b[38;5;241m-\u001b[39m tau4 \u001b[38;5;241m+\u001b[39m tau4 \u001b[38;5;241m-\u001b[39m tau2 \u001b[38;5;241m+\u001b[39m tau2 \u001b[38;5;241m-\u001b[39m q3 \u001b[38;5;241m+\u001b[39m q3 \u001b[38;5;241m-\u001b[39m p1 \u001b[38;5;241m+\u001b[39m p1 \u001b[38;5;241m-\u001b[39m q1 \u001b[38;5;241m+\u001b[39m q1 \u001b[38;5;241m-\u001b[39m q4 \u001b[38;5;241m+\u001b[39m q4 \u001b[38;5;241m+\u001b[39m \u001b[38;5;241m1.0\u001b[39m)\n",
      "File \u001b[0;32m~/.local/lib/python3.8/site-packages/sympy/core/decorators.py:261\u001b[0m, in \u001b[0;36m_SympifyWrapper.make_wrapped.<locals>._func\u001b[0;34m(self, other)\u001b[0m\n\u001b[1;32m    259\u001b[0m \u001b[38;5;28;01mif\u001b[39;00m \u001b[38;5;129;01mnot\u001b[39;00m \u001b[38;5;28mhasattr\u001b[39m(other, \u001b[38;5;124m'\u001b[39m\u001b[38;5;124m_op_priority\u001b[39m\u001b[38;5;124m'\u001b[39m):\n\u001b[1;32m    260\u001b[0m     \u001b[38;5;28;01mtry\u001b[39;00m:\n\u001b[0;32m--> 261\u001b[0m         other \u001b[38;5;241m=\u001b[39m \u001b[43msympify\u001b[49m\u001b[43m(\u001b[49m\u001b[43mother\u001b[49m\u001b[43m,\u001b[49m\u001b[43m \u001b[49m\u001b[43mstrict\u001b[49m\u001b[38;5;241;43m=\u001b[39;49m\u001b[38;5;28;43;01mTrue\u001b[39;49;00m\u001b[43m)\u001b[49m\n\u001b[1;32m    262\u001b[0m     \u001b[38;5;28;01mexcept\u001b[39;00m SympifyError:\n\u001b[1;32m    263\u001b[0m         \u001b[38;5;28;01mreturn\u001b[39;00m retval\n",
      "File \u001b[0;32m~/.local/lib/python3.8/site-packages/sympy/core/sympify.py:361\u001b[0m, in \u001b[0;36msympify\u001b[0;34m(a, locals, convert_xor, strict, rational, evaluate)\u001b[0m\n\u001b[1;32m    359\u001b[0m conv \u001b[38;5;241m=\u001b[39m converter\u001b[38;5;241m.\u001b[39mget(\u001b[38;5;28mcls\u001b[39m, \u001b[38;5;28;01mNone\u001b[39;00m)\n\u001b[1;32m    360\u001b[0m \u001b[38;5;28;01mif\u001b[39;00m conv \u001b[38;5;129;01mis\u001b[39;00m \u001b[38;5;129;01mnot\u001b[39;00m \u001b[38;5;28;01mNone\u001b[39;00m:\n\u001b[0;32m--> 361\u001b[0m     \u001b[38;5;28;01mreturn\u001b[39;00m \u001b[43mconv\u001b[49m\u001b[43m(\u001b[49m\u001b[43ma\u001b[49m\u001b[43m)\u001b[49m\n\u001b[1;32m    363\u001b[0m \u001b[38;5;28;01mfor\u001b[39;00m superclass \u001b[38;5;129;01min\u001b[39;00m getmro(\u001b[38;5;28mcls\u001b[39m):\n\u001b[1;32m    364\u001b[0m     \u001b[38;5;28;01mtry\u001b[39;00m:\n",
      "File \u001b[0;32m~/.local/lib/python3.8/site-packages/sympy/core/numbers.py:1100\u001b[0m, in \u001b[0;36mFloat.__new__\u001b[0;34m(***failed resolving arguments***)\u001b[0m\n\u001b[1;32m   1098\u001b[0m \u001b[38;5;28;01mif\u001b[39;00m \u001b[38;5;28misinstance\u001b[39m(num, \u001b[38;5;28mstr\u001b[39m) \u001b[38;5;129;01mand\u001b[39;00m _literal_float(num):\n\u001b[1;32m   1099\u001b[0m     \u001b[38;5;28;01mtry\u001b[39;00m:\n\u001b[0;32m-> 1100\u001b[0m         Num \u001b[38;5;241m=\u001b[39m \u001b[43mdecimal\u001b[49m\u001b[38;5;241;43m.\u001b[39;49m\u001b[43mDecimal\u001b[49m\u001b[43m(\u001b[49m\u001b[43mnum\u001b[49m\u001b[43m)\u001b[49m\n\u001b[1;32m   1101\u001b[0m     \u001b[38;5;28;01mexcept\u001b[39;00m decimal\u001b[38;5;241m.\u001b[39mInvalidOperation:\n\u001b[1;32m   1102\u001b[0m         \u001b[38;5;28;01mpass\u001b[39;00m\n",
      "\u001b[0;31mKeyboardInterrupt\u001b[0m: "
     ]
    }
   ],
   "source": [
    "tfinal = 10.0        # Specify the final time\n",
    "ncp = 500            # Number of communication points (number of return points)\n",
    "\n",
    "# simulation of DAE system\n",
    "tt_sol, yy_sol, yyd_sol = sim.simulate(tfinal, ncp) "
   ]
  },
  {
   "cell_type": "code",
   "execution_count": null,
   "metadata": {},
   "outputs": [],
   "source": [
    "# trajectories of coordinates and its velocities\n",
    "ttheta_sol = yy_sol[:, :mod.dae.ntt]\n",
    "ttheta_d_sol = yy_sol[:, mod.dae.ntt:mod.dae.ntt*2]"
   ]
  },
  {
   "cell_type": "code",
   "execution_count": null,
   "metadata": {},
   "outputs": [],
   "source": [
    "fig, (ax1, ax2) = plt.subplots(1, 2, figsize=(15, 7)); plt.sca(ax1)\n",
    "\n",
    "ax1.plot(tt_sol, ttheta_sol)\n",
    "ax1.set_title(\"theta\")\n",
    "\n",
    "ax2.plot(tt_sol, ttheta_d_sol)\n",
    "ax2.set_title(\"dot theta\")"
   ]
  },
  {
   "cell_type": "markdown",
   "metadata": {},
   "source": [
    "####  Visualization and Animation of simulation solution"
   ]
  },
  {
   "cell_type": "code",
   "execution_count": null,
   "metadata": {},
   "outputs": [],
   "source": [
    "joint_pos_expr = st.col_stack(G1, G2, G3, G4).subs(parameter_values) ##:\n",
    "joint_pos_func = st.expr_to_func(mod.tt, joint_pos_expr, keep_shape=True)"
   ]
  },
  {
   "cell_type": "code",
   "execution_count": null,
   "metadata": {
    "scrolled": false
   },
   "outputs": [],
   "source": [
    "import matplotlib.animation as animation\n",
    "from IPython.display import HTML\n",
    "\n",
    "fig = pl.figure() \n",
    "ax = fig.add_subplot(111, autoscale_on=False, xlim=(-2.3,2.3), ylim=(-2.3,2.3))\n",
    "ax.set_aspect('equal')\n",
    "\n",
    "line, = ax.plot([],[],'o-', lw=2)\n",
    "time_template = 'time=%.1fs'\n",
    "time_text = ax.text(0.05, 0.9, '', transform=ax.transAxes)\n",
    "dt = tt_sol[1] - tt_sol[0]\n",
    "\n",
    "\n",
    "def init():\n",
    "    line.set_data([],[])\n",
    "    time_text.set_text('')\n",
    "    return line, time_text\n",
    "\n",
    "l1 =1.0\n",
    "\n",
    "def animate(i):\n",
    "    xx, yy = joint_pos_func(*ttheta_sol[i, :])\n",
    "    \n",
    "    line.set_data(xx,yy)\n",
    "    time_text.set_text(time_template%(i*dt))\n",
    "    \n",
    "    return line, time_text\n",
    "\n",
    "\n",
    "ani = animation.FuncAnimation(fig, animate, range(ttheta_sol.shape[0]), interval=tt_sol[-1]*3, blit=True, init_func=init)\n",
    "\n",
    "\n",
    "# this animation is nice but results in a big notebook file which is unwanted for publication in the repo\n",
    "HTML(ani.to_jshtml())\n",
    "\n",
    "\n",
    "\n"
   ]
  },
  {
   "cell_type": "markdown",
   "metadata": {},
   "source": [
    "*Preliminary Conclusion*\n",
    "\n",
    "→ Behavior looks more or less realistic - up to the configurations where $p_1$ is an integer multiple of $\\pi$ (joint is fully streched or fully bended). Probably there are singularities."
   ]
  },
  {
   "cell_type": "markdown",
   "metadata": {},
   "source": [
    "#### Save animation"
   ]
  },
  {
   "cell_type": "code",
   "execution_count": null,
   "metadata": {},
   "outputs": [],
   "source": [
    "# this might need to be adapted on other systems\n",
    "\n",
    "plt.rcParams[\"animation.codec\"] = \"libvpx-vp9\"  # codec for webm\n",
    "plt.rcParams['animation.ffmpeg_path'] = '/usr/bin/ffmpeg'\n",
    "writer = animation.FFMpegWriter(fps=30)\n",
    "ani.save(\"gantry_crane.webm\", writer=writer)"
   ]
  },
  {
   "cell_type": "code",
   "execution_count": null,
   "metadata": {
    "scrolled": true
   },
   "outputs": [],
   "source": [
    "%%HTML\n",
    "<video width=\"320\" height=\"240\" controls>\n",
    "  <source src=\"gantry_crane.webm\" type=\"video/webm\">\n",
    "</video>"
   ]
  },
  {
   "cell_type": "code",
   "execution_count": null,
   "metadata": {},
   "outputs": [],
   "source": []
  }
 ],
 "metadata": {
  "kernelspec": {
   "display_name": "Python 3 (ipykernel)",
   "language": "python",
   "name": "python3"
  },
  "language_info": {
   "codemirror_mode": {
    "name": "ipython",
    "version": 3
   },
   "file_extension": ".py",
   "mimetype": "text/x-python",
   "name": "python",
   "nbconvert_exporter": "python",
   "pygments_lexer": "ipython3",
   "version": "3.8.10"
  },
  "varInspector": {
   "cols": {
    "lenName": 16,
    "lenType": 16,
    "lenVar": 40
   },
   "kernels_config": {
    "python": {
     "delete_cmd_postfix": "",
     "delete_cmd_prefix": "del ",
     "library": "var_list.py",
     "varRefreshCmd": "print(var_dic_list())"
    },
    "r": {
     "delete_cmd_postfix": ") ",
     "delete_cmd_prefix": "rm(",
     "library": "var_list.r",
     "varRefreshCmd": "cat(var_dic_list()) "
    }
   },
   "position": {
    "height": "877px",
    "left": "1528px",
    "right": "20px",
    "top": "134px",
    "width": "363px"
   },
   "types_to_exclude": [
    "module",
    "function",
    "builtin_function_or_method",
    "instance",
    "_Feature"
   ],
   "window_display": true
  }
 },
 "nbformat": 4,
 "nbformat_minor": 2
}
