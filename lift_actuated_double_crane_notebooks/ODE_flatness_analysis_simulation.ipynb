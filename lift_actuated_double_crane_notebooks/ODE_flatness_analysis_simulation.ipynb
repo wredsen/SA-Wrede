{
 "cells": [
  {
   "cell_type": "markdown",
   "metadata": {},
   "source": [
    "### Considered model: four-bar linkage (= two link manipulator + one link manipulator + rigid coupling)\n",
    "\n",
    "\n",
    "This Notebook depends on symbtools >=0.2.5\n",
    "\n",
    "→ `pip install --upgrade symbtools`\n",
    "\n",
    "\n",
    "\n"
   ]
  },
  {
   "cell_type": "code",
   "execution_count": 2,
   "metadata": {},
   "outputs": [
    {
     "name": "stdout",
     "output_type": "stream",
     "text": [
      "The ipydex.displaytools extension is already loaded. To reload it, use:\n",
      "  %reload_ext ipydex.displaytools\n"
     ]
    }
   ],
   "source": [
    "%load_ext ipydex.displaytools\n",
    "%matplotlib inline\n",
    "\n",
    "import sys\n",
    "# to load assimulo under wsl2\n",
    "sys.path.append('/home/kwrede/miniconda3/lib/python3.8/site-packages')\n",
    "sys.path.append('/home/wredi/miniconda3/lib/python3.8/site-packages')\n",
    "\n",
    "import os\n",
    "import sympy as sp\n",
    "import numpy as npy  # we need `np` later \n",
    "from sympy import sin, cos, pi\n",
    "from sympy.interactive import printing\n",
    "\n",
    "# using wredsen's symbtools fork (https://github.com/wredsen/symbtools @ DAE_statefeedback), assuming repos SA-Wrede and symbtools share the same parent directory\n",
    "sys.path.append('../../symbtools/')\n",
    "import symbtools as st\n",
    "import symbtools.modeltools as mt\n",
    "from symbtools.modeltools import Rz # Rotationsmatrix in the xy plane (c, -s; s, c)\n",
    "\n",
    "import scipy.integrate as sc_integrate\n",
    "from scipy.optimize import fmin\n",
    "import matplotlib.pyplot as pl\n",
    "from assimulo.solvers import ODASSL as SOLVER # Imports the solver ODASSL from Assimulo\n",
    "from assimulo.problem import Overdetermined_Problem # Imports the problem formulation from Assimulo\n",
    "import ipydex\n",
    "plt = pl\n",
    "\n",
    "printing.init_printing(1)"
   ]
  },
  {
   "cell_type": "code",
   "execution_count": 3,
   "metadata": {
    "scrolled": false
   },
   "outputs": [
    {
     "data": {
      "image/svg+xml": [
       "<svg xmlns=\"http://www.w3.org/2000/svg\" xmlns:xlink=\"http://www.w3.org/1999/xlink\" version=\"1.1\" width=\"593px\" height=\"359px\" viewBox=\"-0.5 -0.5 593 359\" content=\"&lt;mxfile host=&quot;Electron&quot; modified=&quot;2022-05-24T08:14:03.993Z&quot; agent=&quot;5.0 (X11; Linux x86_64) AppleWebKit/537.36 (KHTML, like Gecko) draw.io/18.0.6 Chrome/100.0.4896.143 Electron/18.2.3 Safari/537.36&quot; etag=&quot;iwEVDw9_uQL8_p0APs3N&quot; version=&quot;18.0.6&quot; type=&quot;device&quot;&gt;&lt;diagram id=&quot;B0kXoVWXYvZZ5K02NhJj&quot; name=&quot;Seite-1&quot;&gt;5Vxre5pKEP41fowPe+H2Mbdj0qY9PU3PSdovPigbpEExiEb768+usMIui6IhaNS2FgYcYd7ZmXlnF1vocjjvRM548CV0SdCCmjtvoasWhDa26DsTLBKBbmuJwIt8NxGBTHDv/yGpkJ829V0yEU6MwzCI/bEo7IejEenHgsyJovBVPO0pDMRvHTseKQju+05QlD74bjxIpBY0M/kN8b0B/2Zg2MmRocNPTlVMBo4bviai5c2h6xa6jMIwTraG80sSMNtxuyQW+Kvk6OrCIjKKq3zAfQnRr7vP5jzQe3efXqed2Z/OGUjVzJxgmt5xerXxgpsgCqcjlzAtWgtdvA78mNyPnT47+koxp7JBPAzoHqCbT34QXIZBGC0/i5509ofJw1GckycvKp/EUfhMckeM5YseicLYif1wRMVngKko3jC/eBLFZJ4TpQbokHBI4mhBT+FH7RSd1BsRVbzcf82wXbneII9rKnNSd/JWqjOL043U6NsAcLD2r8HchiZYG/Cxn7M2Vhgb1mBsTANCd/YIrJfZ7K5vPnjjr5MzuNnYZOSes7BB9/qBM5n4fdG+IhilNiKuEFaKFsqZQFeYgMsiEtBBMBODkcou6Td8C316JSsALBEAqGltUxeVTMJp1Cfp5/LhY70qIIMUO5FH4oKeJU6r+94dOlQ3dBSxaPHIdtq2ZXHBz6UA6CYXXM3z518t8nvfSOTT+yLRJm9IbLMmCmB06G4Dd3QbYBR0VfIbiqSzyJ02ZidMyi955Y/Fa848MVG6q19GZ+TR/m4/ayGc3uDn7xD1wzNd4ZeY/iXdebJRcFMaO2PRMcUYPApHRArkqcgJfI+lwz71L+Z0FywS+7RWOU8PDH3XZV+jTBKi+7N8kFZbANeUXJEc7o1K4R7VEO6V2Bil2CxODRsZGq2YiY0moQGqeM4g8U4NGV2XApe1b2jw21OtbKf+NJotjQg+QNGkyynLkkxdNffJitD71UzKqqJKzRQElEmXOX8OUWcyTuj1kz9nSL7HUOCl6Sp/FMlZo9yswkD4uNwMQzlbN0fOlNZWVVKH7K0YHZi7qsqd8ridZsdSfiRbjMz9OKFLyEbpfsqWTH48I0tsZ5HbqUyVkti65i7TxttGSnVYjAoYdtvSTIBMQ4caMJCYGDSLck7qQfTNRvTfbvkGyKWE3my+MT/YCAa2KcKA4X5HsPXBDIg1uVKy9mtArvi9YiDvGQGhX7ShV7R7rNMrxjrroGIdlshmoWSoGs8wkBSZzcYzAD/YeETSeFRNbzQ7HstoftClG1Sn9qkLT43xIyyjVEw778X41SiVNTHvOUrD00MJYjm3of2iBFW5zQiY9SdjZyTAYrxM2bTyhbDlJf8zGDtdxPFMNNArSpTws04FZmBCcTDqex6MsCxkXnRBMhg7y4179p6A14tEdE8HPWiIY5Qnsr2Bp2oZJeBBDp6RbNyzIXjq+OHC7KC9ZwBVHDaJmPjkwCmwu2I12Sg4qEqDocDuXGcyWM09rKV6uU6rBS/QstNa6MFqy1euIQaEZpi+thVWispGKpj63YFQPF0ujmQGsesUSdXlAXVRPFxh/dV260oqO5Jr2r2lI8nTAk/E6PeFjqudrEdZORm217uZquP6ezocpwEiuxy+pBG+yTcPrNVaWIawo28qlpQ065tV2g/v45tXpn2x1jfrdB/9oNwHS010gHd0H1xcRdWs+6iIRFJwMj9osTXTHNiMJfKwVEIcXxjrkIhjou1DEUfRfdcuSqheL1nyfGBx+VOj5RJWkZG3OwA8BgeoAW7M4zPH22iOu8z+/hQDLdAvHwZT4+b3Dye69ZRLyRlSw2zMngo2phTDjeaYixIaVSZPoEGnBg2GSMKmuZ7N/e2P6Oq/72fnY+MP7ofAIwunyhMYyiprQvN3fLzPCuy66A3j9Xrqq3qUaG5XM2/VIsj4GGdfP3NHjpvwy6gCeSq2snsgu20a+/SQ7Z4k2cpDPtgQB2DHhUam3bYMLXsBQS09quVfRqPwlnXgg652aqkWSlRWB41lWvz8+aZj6njesb/MzmNv9HA5UMbmDROYzCpnk6VZzukJAI/nZcwkYGWuViAnW05rVoc0IvS6nN5SFQMwfUKJ6tUvWvoV0zWNw0kK6RZeVQPyAIhcFOIiNzEV0Nfy5KUK+vJeRD3Qv3k6+zhwR9JsNoTN4a4b1z9vHP+r92xr9j/Txy4wgkqLuo802SIsljmrlQXbZluomesV1ZdRlRiq1pVvbiNZsMeayyUjdqwYsafZRpKfekF8iDSQpZVwV5hk5Ra8c3ok+EZjXfo7Db0wjsOhwsRxKK2GnAycMVM2nHvsZ0PaPYey57YTZcR65CURtg1M24LYhAYyDWQDtCRfNGasToB6qzBR4erEcnHBSzK/rAc7BNoSeooHKwGvj8Ull/Dt+P37y9BGXweDXmd8a1z/Gjqzh9ud+xnls0Y7mlaKwwpb7y00Q0tETR5MVUMzgiL1QfK11BealVhv1+04Taw1qRSWp+EqY63htiU9t8OflW0I7tp/BOP44JZaHIVHbisXXYVfCrJX6DeE9m7Td5vqLng8dVchUVfywxXA0vQ8am76Tgm3iiq9He6jmK6vAW4gr8aw363MprvZr7olwSD7aTx0/T8=&lt;/diagram&gt;&lt;/mxfile&gt;\" style=\"background-color: rgb(255, 255, 255);\"><defs><style xmlns=\"http://www.w3.org/1999/xhtml\" type=\"text/css\">div.MathJax_SVG_Display { position: static; }\n",
       "span.MathJax_SVG { position: static !important; }</style><style xmlns=\"http://www.w3.org/1999/xhtml\" type=\"text/css\">.MathJax_Hover_Frame {border-radius: .25em; -webkit-border-radius: .25em; -moz-border-radius: .25em; -khtml-border-radius: .25em; box-shadow: 0px 0px 15px #83A; -webkit-box-shadow: 0px 0px 15px #83A; -moz-box-shadow: 0px 0px 15px #83A; -khtml-box-shadow: 0px 0px 15px #83A; border: 1px solid #A6D ! important; display: inline-block; position: absolute}\n",
       ".MathJax_Menu_Button .MathJax_Hover_Arrow {position: absolute; cursor: pointer; display: inline-block; border: 2px solid #AAA; border-radius: 4px; -webkit-border-radius: 4px; -moz-border-radius: 4px; -khtml-border-radius: 4px; font-family: 'Courier New',Courier; font-size: 9px; color: #F0F0F0}\n",
       ".MathJax_Menu_Button .MathJax_Hover_Arrow span {display: block; background-color: #AAA; border: 1px solid; border-radius: 3px; line-height: 0; padding: 4px}\n",
       ".MathJax_Hover_Arrow:hover {color: white!important; border: 2px solid #CCC!important}\n",
       ".MathJax_Hover_Arrow:hover span {background-color: #CCC!important}\n",
       "</style><style xmlns=\"http://www.w3.org/1999/xhtml\" type=\"text/css\">#MathJax_About {position: fixed; left: 50%; width: auto; text-align: center; border: 3px outset; padding: 1em 2em; background-color: #DDDDDD; color: black; cursor: default; font-family: message-box; font-size: 120%; font-style: normal; text-indent: 0; text-transform: none; line-height: normal; letter-spacing: normal; word-spacing: normal; word-wrap: normal; white-space: nowrap; float: none; z-index: 201; border-radius: 15px; -webkit-border-radius: 15px; -moz-border-radius: 15px; -khtml-border-radius: 15px; box-shadow: 0px 10px 20px #808080; -webkit-box-shadow: 0px 10px 20px #808080; -moz-box-shadow: 0px 10px 20px #808080; -khtml-box-shadow: 0px 10px 20px #808080; filter: progid:DXImageTransform.Microsoft.dropshadow(OffX=2, OffY=2, Color='gray', Positive='true')}\n",
       "#MathJax_About.MathJax_MousePost {outline: none}\n",
       ".MathJax_Menu {position: absolute; background-color: white; color: black; width: auto; padding: 5px 0px; border: 1px solid #CCCCCC; margin: 0; cursor: default; font: menu; text-align: left; text-indent: 0; text-transform: none; line-height: normal; letter-spacing: normal; word-spacing: normal; word-wrap: normal; white-space: nowrap; float: none; z-index: 201; border-radius: 5px; -webkit-border-radius: 5px; -moz-border-radius: 5px; -khtml-border-radius: 5px; box-shadow: 0px 10px 20px #808080; -webkit-box-shadow: 0px 10px 20px #808080; -moz-box-shadow: 0px 10px 20px #808080; -khtml-box-shadow: 0px 10px 20px #808080; filter: progid:DXImageTransform.Microsoft.dropshadow(OffX=2, OffY=2, Color='gray', Positive='true')}\n",
       ".MathJax_MenuItem {padding: 1px 2em; background: transparent}\n",
       ".MathJax_MenuArrow {position: absolute; right: .5em; padding-top: .25em; color: #666666; font-size: .75em}\n",
       ".MathJax_MenuActive .MathJax_MenuArrow {color: white}\n",
       ".MathJax_MenuArrow.RTL {left: .5em; right: auto}\n",
       ".MathJax_MenuCheck {position: absolute; left: .7em}\n",
       ".MathJax_MenuCheck.RTL {right: .7em; left: auto}\n",
       ".MathJax_MenuRadioCheck {position: absolute; left: .7em}\n",
       ".MathJax_MenuRadioCheck.RTL {right: .7em; left: auto}\n",
       ".MathJax_MenuLabel {padding: 1px 2em 3px 1.33em; font-style: italic}\n",
       ".MathJax_MenuRule {border-top: 1px solid #DDDDDD; margin: 4px 3px}\n",
       ".MathJax_MenuDisabled {color: GrayText}\n",
       ".MathJax_MenuActive {background-color: #606872; color: white}\n",
       ".MathJax_MenuDisabled:focus, .MathJax_MenuLabel:focus {background-color: #E8E8E8}\n",
       ".MathJax_ContextMenu:focus {outline: none}\n",
       ".MathJax_ContextMenu .MathJax_MenuItem:focus {outline: none}\n",
       "#MathJax_AboutClose {top: .2em; right: .2em}\n",
       ".MathJax_Menu .MathJax_MenuClose {top: -10px; left: -10px}\n",
       ".MathJax_MenuClose {position: absolute; cursor: pointer; display: inline-block; border: 2px solid #AAA; border-radius: 18px; -webkit-border-radius: 18px; -moz-border-radius: 18px; -khtml-border-radius: 18px; font-family: 'Courier New',Courier; font-size: 24px; color: #F0F0F0}\n",
       ".MathJax_MenuClose span {display: block; background-color: #AAA; border: 1.5px solid; border-radius: 18px; -webkit-border-radius: 18px; -moz-border-radius: 18px; -khtml-border-radius: 18px; line-height: 0; padding: 8px 0 6px}\n",
       ".MathJax_MenuClose:hover {color: white!important; border: 2px solid #CCC!important}\n",
       ".MathJax_MenuClose:hover span {background-color: #CCC!important}\n",
       ".MathJax_MenuClose:hover:focus {outline: none}\n",
       "</style><style xmlns=\"http://www.w3.org/1999/xhtml\" type=\"text/css\">.MathJax_Preview .MJXf-math {color: inherit!important}\n",
       "</style><style xmlns=\"http://www.w3.org/1999/xhtml\" type=\"text/css\">#MathJax_Zoom {position: absolute; background-color: #F0F0F0; overflow: auto; display: block; z-index: 301; padding: .5em; border: 1px solid black; margin: 0; font-weight: normal; font-style: normal; text-align: left; text-indent: 0; text-transform: none; line-height: normal; letter-spacing: normal; word-spacing: normal; word-wrap: normal; white-space: nowrap; float: none; -webkit-box-sizing: content-box; -moz-box-sizing: content-box; box-sizing: content-box; box-shadow: 5px 5px 15px #AAAAAA; -webkit-box-shadow: 5px 5px 15px #AAAAAA; -moz-box-shadow: 5px 5px 15px #AAAAAA; -khtml-box-shadow: 5px 5px 15px #AAAAAA; filter: progid:DXImageTransform.Microsoft.dropshadow(OffX=2, OffY=2, Color='gray', Positive='true')}\n",
       "#MathJax_ZoomOverlay {position: absolute; left: 0; top: 0; z-index: 300; display: inline-block; width: 100%; height: 100%; border: 0; padding: 0; margin: 0; background-color: white; opacity: 0; filter: alpha(opacity=0)}\n",
       "#MathJax_ZoomFrame {position: relative; display: inline-block; height: 0; width: 0}\n",
       "#MathJax_ZoomEventTrap {position: absolute; left: 0; top: 0; z-index: 302; display: inline-block; border: 0; padding: 0; margin: 0; background-color: white; opacity: 0; filter: alpha(opacity=0)}\n",
       "</style><style xmlns=\"http://www.w3.org/1999/xhtml\" type=\"text/css\">.MathJax_Preview {color: #888; display: contents}\n",
       "#MathJax_Message {position: fixed; left: 1px; bottom: 2px; background-color: #E6E6E6; border: 1px solid #959595; margin: 0px; padding: 2px 8px; z-index: 102; color: black; font-size: 80%; width: auto; white-space: nowrap}\n",
       "#MathJax_MSIE_Frame {position: absolute; top: 0; left: 0; width: 0px; z-index: 101; border: 0px; margin: 0px; padding: 0px}\n",
       ".MathJax_Error {color: #CC0000; font-style: italic}\n",
       "</style><style xmlns=\"http://www.w3.org/1999/xhtml\" type=\"text/css\">.MJXp-script {font-size: .8em}\n",
       ".MJXp-right {-webkit-transform-origin: right; -moz-transform-origin: right; -ms-transform-origin: right; -o-transform-origin: right; transform-origin: right}\n",
       ".MJXp-bold {font-weight: bold}\n",
       ".MJXp-italic {font-style: italic}\n",
       ".MJXp-scr {font-family: MathJax_Script,'Times New Roman',Times,STIXGeneral,serif}\n",
       ".MJXp-frak {font-family: MathJax_Fraktur,'Times New Roman',Times,STIXGeneral,serif}\n",
       ".MJXp-sf {font-family: MathJax_SansSerif,'Times New Roman',Times,STIXGeneral,serif}\n",
       ".MJXp-cal {font-family: MathJax_Caligraphic,'Times New Roman',Times,STIXGeneral,serif}\n",
       ".MJXp-mono {font-family: MathJax_Typewriter,'Times New Roman',Times,STIXGeneral,serif}\n",
       ".MJXp-largeop {font-size: 150%}\n",
       ".MJXp-largeop.MJXp-int {vertical-align: -.2em}\n",
       ".MJXp-math {display: inline-block; line-height: 1.2; text-indent: 0; font-family: 'Times New Roman',Times,STIXGeneral,serif; white-space: nowrap; border-collapse: collapse}\n",
       ".MJXp-display {display: block; text-align: center; margin: 1em 0}\n",
       ".MJXp-math span {display: inline-block}\n",
       ".MJXp-box {display: block!important; text-align: center}\n",
       ".MJXp-box:after {content: &quot; &quot;}\n",
       ".MJXp-rule {display: block!important; margin-top: .1em}\n",
       ".MJXp-char {display: block!important}\n",
       ".MJXp-mo {margin: 0 .15em}\n",
       ".MJXp-mfrac {margin: 0 .125em; vertical-align: .25em}\n",
       ".MJXp-denom {display: inline-table!important; width: 100%}\n",
       ".MJXp-denom &gt; * {display: table-row!important}\n",
       ".MJXp-surd {vertical-align: top}\n",
       ".MJXp-surd &gt; * {display: block!important}\n",
       ".MJXp-script-box &gt; *  {display: table!important; height: 50%}\n",
       ".MJXp-script-box &gt; * &gt; * {display: table-cell!important; vertical-align: top}\n",
       ".MJXp-script-box &gt; *:last-child &gt; * {vertical-align: bottom}\n",
       ".MJXp-script-box &gt; * &gt; * &gt; * {display: block!important}\n",
       ".MJXp-mphantom {visibility: hidden}\n",
       ".MJXp-munderover, .MJXp-munder {display: inline-table!important}\n",
       ".MJXp-over {display: inline-block!important; text-align: center}\n",
       ".MJXp-over &gt; * {display: block!important}\n",
       ".MJXp-munderover &gt; *, .MJXp-munder &gt; * {display: table-row!important}\n",
       ".MJXp-mtable {vertical-align: .25em; margin: 0 .125em}\n",
       ".MJXp-mtable &gt; * {display: inline-table!important; vertical-align: middle}\n",
       ".MJXp-mtr {display: table-row!important}\n",
       ".MJXp-mtd {display: table-cell!important; text-align: center; padding: .5em 0 0 .5em}\n",
       ".MJXp-mtr &gt; .MJXp-mtd:first-child {padding-left: 0}\n",
       ".MJXp-mtr:first-child &gt; .MJXp-mtd {padding-top: 0}\n",
       ".MJXp-mlabeledtr {display: table-row!important}\n",
       ".MJXp-mlabeledtr &gt; .MJXp-mtd:first-child {padding-left: 0}\n",
       ".MJXp-mlabeledtr:first-child &gt; .MJXp-mtd {padding-top: 0}\n",
       ".MJXp-merror {background-color: #FFFF88; color: #CC0000; border: 1px solid #CC0000; padding: 1px 3px; font-style: normal; font-size: 90%}\n",
       ".MJXp-scale0 {-webkit-transform: scaleX(.0); -moz-transform: scaleX(.0); -ms-transform: scaleX(.0); -o-transform: scaleX(.0); transform: scaleX(.0)}\n",
       ".MJXp-scale1 {-webkit-transform: scaleX(.1); -moz-transform: scaleX(.1); -ms-transform: scaleX(.1); -o-transform: scaleX(.1); transform: scaleX(.1)}\n",
       ".MJXp-scale2 {-webkit-transform: scaleX(.2); -moz-transform: scaleX(.2); -ms-transform: scaleX(.2); -o-transform: scaleX(.2); transform: scaleX(.2)}\n",
       ".MJXp-scale3 {-webkit-transform: scaleX(.3); -moz-transform: scaleX(.3); -ms-transform: scaleX(.3); -o-transform: scaleX(.3); transform: scaleX(.3)}\n",
       ".MJXp-scale4 {-webkit-transform: scaleX(.4); -moz-transform: scaleX(.4); -ms-transform: scaleX(.4); -o-transform: scaleX(.4); transform: scaleX(.4)}\n",
       ".MJXp-scale5 {-webkit-transform: scaleX(.5); -moz-transform: scaleX(.5); -ms-transform: scaleX(.5); -o-transform: scaleX(.5); transform: scaleX(.5)}\n",
       ".MJXp-scale6 {-webkit-transform: scaleX(.6); -moz-transform: scaleX(.6); -ms-transform: scaleX(.6); -o-transform: scaleX(.6); transform: scaleX(.6)}\n",
       ".MJXp-scale7 {-webkit-transform: scaleX(.7); -moz-transform: scaleX(.7); -ms-transform: scaleX(.7); -o-transform: scaleX(.7); transform: scaleX(.7)}\n",
       ".MJXp-scale8 {-webkit-transform: scaleX(.8); -moz-transform: scaleX(.8); -ms-transform: scaleX(.8); -o-transform: scaleX(.8); transform: scaleX(.8)}\n",
       ".MJXp-scale9 {-webkit-transform: scaleX(.9); -moz-transform: scaleX(.9); -ms-transform: scaleX(.9); -o-transform: scaleX(.9); transform: scaleX(.9)}\n",
       ".MathJax_PHTML .noError {vertical-align: ; font-size: 90%; text-align: left; color: black; padding: 1px 3px; border: 1px solid}\n",
       "</style><style xmlns=\"http://www.w3.org/1999/xhtml\" type=\"text/css\">.MathJax_SVG_Display {text-align: center; margin: 1em 0em; position: relative; display: block!important; text-indent: 0; max-width: none; max-height: none; min-width: 0; min-height: 0; width: 100%}\n",
       ".MathJax_SVG .MJX-monospace {font-family: monospace}\n",
       ".MathJax_SVG .MJX-sans-serif {font-family: sans-serif}\n",
       "#MathJax_SVG_Tooltip {background-color: InfoBackground; color: InfoText; border: 1px solid black; box-shadow: 2px 2px 5px #AAAAAA; -webkit-box-shadow: 2px 2px 5px #AAAAAA; -moz-box-shadow: 2px 2px 5px #AAAAAA; -khtml-box-shadow: 2px 2px 5px #AAAAAA; padding: 3px 4px; z-index: 401; position: absolute; left: 0; top: 0; width: auto; height: auto; display: none}\n",
       ".MathJax_SVG {display: inline; font-style: normal; font-weight: normal; line-height: normal; font-size: 100%; font-size-adjust: none; text-indent: 0; text-align: left; text-transform: none; letter-spacing: normal; word-spacing: normal; word-wrap: normal; white-space: nowrap; float: none; direction: ltr; max-width: none; max-height: none; min-width: 0; min-height: 0; border: 0; padding: 0; margin: 0}\n",
       ".MathJax_SVG * {transition: none; -webkit-transition: none; -moz-transition: none; -ms-transition: none; -o-transition: none}\n",
       ".MathJax_SVG &gt; div {display: inline-block}\n",
       ".mjx-svg-href {fill: blue; stroke: blue}\n",
       ".MathJax_SVG_Processing {visibility: hidden; position: absolute; top: 0; left: 0; width: 0; height: 0; overflow: hidden; display: block!important}\n",
       ".MathJax_SVG_Processed {display: none!important}\n",
       ".MathJax_SVG_test {font-style: normal; font-weight: normal; font-size: 100%; font-size-adjust: none; text-indent: 0; text-transform: none; letter-spacing: normal; word-spacing: normal; overflow: hidden; height: 1px}\n",
       ".MathJax_SVG_test.mjx-test-display {display: table!important}\n",
       ".MathJax_SVG_test.mjx-test-inline {display: inline!important; margin-right: -1px}\n",
       ".MathJax_SVG_test.mjx-test-default {display: block!important; clear: both}\n",
       ".MathJax_SVG_ex_box {display: inline-block!important; position: absolute; overflow: hidden; min-height: 0; max-height: none; padding: 0; border: 0; margin: 0; width: 1px; height: 60ex}\n",
       ".mjx-test-inline .MathJax_SVG_left_box {display: inline-block; width: 0; float: left}\n",
       ".mjx-test-inline .MathJax_SVG_right_box {display: inline-block; width: 0; float: right}\n",
       ".mjx-test-display .MathJax_SVG_right_box {display: table-cell!important; width: 10000em!important; min-width: 0; max-width: none; padding: 0; border: 0; margin: 0}\n",
       ".MathJax_SVG .noError {vertical-align: ; font-size: 90%; text-align: left; color: black; padding: 1px 3px; border: 1px solid}\n",
       "</style></defs><g><rect x=\"181\" y=\"271\" width=\"210\" height=\"10\" fill=\"#f5f5f5\" stroke=\"#666666\" transform=\"rotate(-15,286,276)\" pointer-events=\"all\"/><rect x=\"42\" y=\"146\" width=\"40\" height=\"20\" fill=\"#f5f5f5\" stroke=\"#666666\" pointer-events=\"all\"/><path d=\"M 62 156.75 L 62 82.37\" fill=\"none\" stroke=\"rgb(0, 0, 0)\" stroke-miterlimit=\"10\" pointer-events=\"stroke\"/><path d=\"M 62 77.12 L 65.5 84.12 L 62 82.37 L 58.5 84.12 Z\" fill=\"rgb(0, 0, 0)\" stroke=\"rgb(0, 0, 0)\" stroke-miterlimit=\"10\" pointer-events=\"all\"/><path d=\"M 62 156.25 L 102 156.25 L 119.91 156.59\" fill=\"none\" stroke=\"rgb(0, 0, 0)\" stroke-miterlimit=\"10\" pointer-events=\"stroke\"/><path d=\"M 125.16 156.69 L 118.1 160.06 L 119.91 156.59 L 118.23 153.06 Z\" fill=\"rgb(0, 0, 0)\" stroke=\"rgb(0, 0, 0)\" stroke-miterlimit=\"10\" pointer-events=\"all\"/><rect x=\"112\" y=\"152\" width=\"40\" height=\"30\" fill=\"none\" stroke=\"none\" pointer-events=\"all\"/><g transform=\"translate(-0.5 -0.5)\"><switch><foreignObject pointer-events=\"none\" width=\"100%\" height=\"100%\" requiredFeatures=\"http://www.w3.org/TR/SVG11/feature#Extensibility\" style=\"overflow: visible; text-align: left;\"><div xmlns=\"http://www.w3.org/1999/xhtml\" style=\"display: flex; align-items: unsafe center; justify-content: unsafe center; width: 38px; height: 1px; padding-top: 167px; margin-left: 113px;\"><div data-drawio-colors=\"color: rgb(0, 0, 0); \" style=\"box-sizing: border-box; font-size: 0px; text-align: center;\"><div style=\"display: inline-block; font-size: 14px; font-family: Helvetica; color: rgb(0, 0, 0); line-height: 1.2; pointer-events: all; white-space: normal; overflow-wrap: normal;\"><span class=\"MathJax_Preview\" style=\"color: inherit;\"/><div class=\"MathJax_SVG_Display\" style=\"text-align: center;\"><span class=\"MathJax_SVG\" id=\"MathJax-Element-24-Frame\" tabindex=\"0\" data-mathml=\"&lt;math xmlns=&quot;http://www.w3.org/1998/Math/MathML&quot; display=&quot;block&quot;&gt;&lt;msub&gt;&lt;mi&gt;e&lt;/mi&gt;&lt;mi&gt;x&lt;/mi&gt;&lt;/msub&gt;&lt;/math&gt;\" role=\"presentation\" style=\"font-size: 100%; display: inline-block; position: relative;\"><svg xmlns=\"http://www.w3.org/2000/svg\" xmlns:xlink=\"http://www.w3.org/1999/xlink\" width=\"2.256ex\" height=\"1.766ex\" viewBox=\"0 -525.6 971.3 760.4\" role=\"img\" focusable=\"false\" style=\"vertical-align: -0.545ex;\" aria-hidden=\"true\"><g stroke=\"currentColor\" fill=\"currentColor\" stroke-width=\"0\" transform=\"matrix(1 0 0 -1 0 0)\"><path stroke-width=\"1\" d=\"M39 168Q39 225 58 272T107 350T174 402T244 433T307 442H310Q355 442 388 420T421 355Q421 265 310 237Q261 224 176 223Q139 223 138 221Q138 219 132 186T125 128Q125 81 146 54T209 26T302 45T394 111Q403 121 406 121Q410 121 419 112T429 98T420 82T390 55T344 24T281 -1T205 -11Q126 -11 83 42T39 168ZM373 353Q367 405 305 405Q272 405 244 391T199 357T170 316T154 280T149 261Q149 260 169 260Q282 260 327 284T373 353Z\"/><g transform=\"translate(466,-150)\"><path stroke-width=\"1\" transform=\"scale(0.707)\" d=\"M52 289Q59 331 106 386T222 442Q257 442 286 424T329 379Q371 442 430 442Q467 442 494 420T522 361Q522 332 508 314T481 292T458 288Q439 288 427 299T415 328Q415 374 465 391Q454 404 425 404Q412 404 406 402Q368 386 350 336Q290 115 290 78Q290 50 306 38T341 26Q378 26 414 59T463 140Q466 150 469 151T485 153H489Q504 153 504 145Q504 144 502 134Q486 77 440 33T333 -11Q263 -11 227 52Q186 -10 133 -10H127Q78 -10 57 16T35 71Q35 103 54 123T99 143Q142 143 142 101Q142 81 130 66T107 46T94 41L91 40Q91 39 97 36T113 29T132 26Q168 26 194 71Q203 87 217 139T245 247T261 313Q266 340 266 352Q266 380 251 392T217 404Q177 404 142 372T93 290Q91 281 88 280T72 278H58Q52 284 52 289Z\"/></g></g></svg><span class=\"MJX_Assistive_MathML MJX_Assistive_MathML_Block\" role=\"presentation\"/></span></div><script type=\"math/tex; mode=display\" id=\"MathJax-Element-24\">e_x</script></div></div></div></foreignObject><text x=\"132\" y=\"171\" fill=\"rgb(0, 0, 0)\" font-family=\"Helvetica\" font-size=\"14px\" text-anchor=\"middle\">\n",
       "e_x</text></switch></g><rect x=\"12\" y=\"56\" width=\"60\" height=\"30\" fill=\"none\" stroke=\"none\" pointer-events=\"all\"/><g transform=\"translate(-0.5 -0.5)\"><switch><foreignObject pointer-events=\"none\" width=\"100%\" height=\"100%\" requiredFeatures=\"http://www.w3.org/TR/SVG11/feature#Extensibility\" style=\"overflow: visible; text-align: left;\"><div xmlns=\"http://www.w3.org/1999/xhtml\" style=\"display: flex; align-items: unsafe center; justify-content: unsafe center; width: 58px; height: 1px; padding-top: 71px; margin-left: 13px;\"><div data-drawio-colors=\"color: rgb(0, 0, 0); \" style=\"box-sizing: border-box; font-size: 0px; text-align: center;\"><div style=\"display: inline-block; font-size: 14px; font-family: Helvetica; color: rgb(0, 0, 0); line-height: 1.2; pointer-events: all; white-space: normal; overflow-wrap: normal;\"><span class=\"MathJax_Preview\" style=\"color: inherit;\"/><div class=\"MathJax_SVG_Display\" style=\"text-align: center;\"><span class=\"MathJax_SVG\" id=\"MathJax-Element-25-Frame\" tabindex=\"0\" data-mathml=\"&lt;math xmlns=&quot;http://www.w3.org/1998/Math/MathML&quot; display=&quot;block&quot;&gt;&lt;msub&gt;&lt;mi&gt;e&lt;/mi&gt;&lt;mi&gt;y&lt;/mi&gt;&lt;/msub&gt;&lt;/math&gt;\" role=\"presentation\" style=\"font-size: 100%; display: inline-block; position: relative;\"><svg xmlns=\"http://www.w3.org/2000/svg\" xmlns:xlink=\"http://www.w3.org/1999/xlink\" width=\"2.133ex\" height=\"2.171ex\" viewBox=\"0 -525.6 918.3 934.9\" role=\"img\" focusable=\"false\" style=\"vertical-align: -0.951ex;\" aria-hidden=\"true\"><g stroke=\"currentColor\" fill=\"currentColor\" stroke-width=\"0\" transform=\"matrix(1 0 0 -1 0 0)\"><path stroke-width=\"1\" d=\"M39 168Q39 225 58 272T107 350T174 402T244 433T307 442H310Q355 442 388 420T421 355Q421 265 310 237Q261 224 176 223Q139 223 138 221Q138 219 132 186T125 128Q125 81 146 54T209 26T302 45T394 111Q403 121 406 121Q410 121 419 112T429 98T420 82T390 55T344 24T281 -1T205 -11Q126 -11 83 42T39 168ZM373 353Q367 405 305 405Q272 405 244 391T199 357T170 316T154 280T149 261Q149 260 169 260Q282 260 327 284T373 353Z\"/><g transform=\"translate(466,-150)\"><path stroke-width=\"1\" transform=\"scale(0.707)\" d=\"M21 287Q21 301 36 335T84 406T158 442Q199 442 224 419T250 355Q248 336 247 334Q247 331 231 288T198 191T182 105Q182 62 196 45T238 27Q261 27 281 38T312 61T339 94Q339 95 344 114T358 173T377 247Q415 397 419 404Q432 431 462 431Q475 431 483 424T494 412T496 403Q496 390 447 193T391 -23Q363 -106 294 -155T156 -205Q111 -205 77 -183T43 -117Q43 -95 50 -80T69 -58T89 -48T106 -45Q150 -45 150 -87Q150 -107 138 -122T115 -142T102 -147L99 -148Q101 -153 118 -160T152 -167H160Q177 -167 186 -165Q219 -156 247 -127T290 -65T313 -9T321 21L315 17Q309 13 296 6T270 -6Q250 -11 231 -11Q185 -11 150 11T104 82Q103 89 103 113Q103 170 138 262T173 379Q173 380 173 381Q173 390 173 393T169 400T158 404H154Q131 404 112 385T82 344T65 302T57 280Q55 278 41 278H27Q21 284 21 287Z\"/></g></g></svg><span class=\"MJX_Assistive_MathML MJX_Assistive_MathML_Block\" role=\"presentation\"/></span></div><script type=\"math/tex; mode=display\" id=\"MathJax-Element-25\">e_y</script></div></div></div></foreignObject><text x=\"42\" y=\"75\" fill=\"rgb(0, 0, 0)\" font-family=\"Helvetica\" font-size=\"14px\" text-anchor=\"middle\">\n",
       "e_y</text></switch></g><rect x=\"532\" y=\"236\" width=\"60\" height=\"30\" fill=\"none\" stroke=\"none\" pointer-events=\"all\"/><g transform=\"translate(-0.5 -0.5)\"><switch><foreignObject pointer-events=\"none\" width=\"100%\" height=\"100%\" requiredFeatures=\"http://www.w3.org/TR/SVG11/feature#Extensibility\" style=\"overflow: visible; text-align: left;\"><div xmlns=\"http://www.w3.org/1999/xhtml\" style=\"display: flex; align-items: unsafe center; justify-content: unsafe center; width: 58px; height: 1px; padding-top: 251px; margin-left: 533px;\"><div data-drawio-colors=\"color: rgb(0, 0, 0); \" style=\"box-sizing: border-box; font-size: 0px; text-align: center;\"><div style=\"display: inline-block; font-size: 14px; font-family: Helvetica; color: rgb(0, 0, 0); line-height: 1.2; pointer-events: all; white-space: normal; overflow-wrap: normal;\"><span class=\"MathJax_Preview\" style=\"color: inherit;\"/><div class=\"MathJax_SVG_Display\" style=\"text-align: center;\"><span class=\"MathJax_SVG\" id=\"MathJax-Element-26-Frame\" tabindex=\"0\" data-mathml=\"&lt;math xmlns=&quot;http://www.w3.org/1998/Math/MathML&quot; display=&quot;block&quot;&gt;&lt;mi&gt;g&lt;/mi&gt;&lt;/math&gt;\" role=\"presentation\" style=\"font-size: 100%; display: inline-block; position: relative;\"><svg xmlns=\"http://www.w3.org/2000/svg\" xmlns:xlink=\"http://www.w3.org/1999/xlink\" width=\"1.116ex\" height=\"1.901ex\" viewBox=\"0 -525.6 480.5 818.6\" role=\"img\" focusable=\"false\" style=\"vertical-align: -0.68ex;\" aria-hidden=\"true\"><g stroke=\"currentColor\" fill=\"currentColor\" stroke-width=\"0\" transform=\"matrix(1 0 0 -1 0 0)\"><path stroke-width=\"1\" d=\"M311 43Q296 30 267 15T206 0Q143 0 105 45T66 160Q66 265 143 353T314 442Q361 442 401 394L404 398Q406 401 409 404T418 412T431 419T447 422Q461 422 470 413T480 394Q480 379 423 152T363 -80Q345 -134 286 -169T151 -205Q10 -205 10 -137Q10 -111 28 -91T74 -71Q89 -71 102 -80T116 -111Q116 -121 114 -130T107 -144T99 -154T92 -162L90 -164H91Q101 -167 151 -167Q189 -167 211 -155Q234 -144 254 -122T282 -75Q288 -56 298 -13Q311 35 311 43ZM384 328L380 339Q377 350 375 354T369 368T359 382T346 393T328 402T306 405Q262 405 221 352Q191 313 171 233T151 117Q151 38 213 38Q269 38 323 108L331 118L384 328Z\"/></g></svg><span class=\"MJX_Assistive_MathML MJX_Assistive_MathML_Block\" role=\"presentation\"/></span></div><script type=\"math/tex; mode=display\" id=\"MathJax-Element-26\">g</script></div></div></div></foreignObject><text x=\"562\" y=\"255\" fill=\"rgb(0, 0, 0)\" font-family=\"Helvetica\" font-size=\"14px\" text-anchor=\"middle\">\n",
       "g</text></switch></g><path d=\"M 542 236 Q 542 236 542 269.63\" fill=\"none\" stroke=\"rgb(0, 0, 0)\" stroke-miterlimit=\"10\" pointer-events=\"stroke\"/><path d=\"M 542 274.88 L 538.5 267.88 L 542 269.63 L 545.5 267.88 Z\" fill=\"rgb(0, 0, 0)\" stroke=\"rgb(0, 0, 0)\" stroke-miterlimit=\"10\" pointer-events=\"all\"/><ellipse cx=\"62\" cy=\"156\" rx=\"5\" ry=\"5\" fill=\"rgb(255, 255, 255)\" stroke=\"rgb(0, 0, 0)\" pointer-events=\"all\"/><rect x=\"402\" y=\"146\" width=\"40\" height=\"20\" fill=\"#f5f5f5\" stroke=\"#666666\" pointer-events=\"all\"/><ellipse cx=\"422\" cy=\"156\" rx=\"5\" ry=\"5\" fill=\"rgb(255, 255, 255)\" stroke=\"rgb(0, 0, 0)\" pointer-events=\"all\"/><path d=\"M 182.93 299.74 L 65.22 159.83\" fill=\"none\" stroke=\"rgb(0, 0, 0)\" stroke-miterlimit=\"10\" pointer-events=\"stroke\"/><ellipse cx=\"184\" cy=\"303\" rx=\"5\" ry=\"5\" fill=\"rgb(255, 255, 255)\" stroke=\"rgb(0, 0, 0)\" pointer-events=\"all\"/><ellipse cx=\"387\" cy=\"249\" rx=\"5\" ry=\"5\" fill=\"rgb(255, 255, 255)\" stroke=\"rgb(0, 0, 0)\" pointer-events=\"all\"/><path d=\"M 420.34 160.71 L 390.54 245.46\" fill=\"none\" stroke=\"rgb(0, 0, 0)\" stroke-miterlimit=\"10\" pointer-events=\"stroke\"/><ellipse cx=\"287\" cy=\"276\" rx=\"5\" ry=\"5\" fill=\"rgb(255, 255, 255)\" stroke=\"rgb(0, 0, 0)\" pointer-events=\"all\"/><rect x=\"322\" y=\"268\" width=\"60\" height=\"30\" fill=\"none\" stroke=\"none\" pointer-events=\"all\"/><g transform=\"translate(-0.5 -0.5)\"><switch><foreignObject pointer-events=\"none\" width=\"100%\" height=\"100%\" requiredFeatures=\"http://www.w3.org/TR/SVG11/feature#Extensibility\" style=\"overflow: visible; text-align: left;\"><div xmlns=\"http://www.w3.org/1999/xhtml\" style=\"display: flex; align-items: unsafe center; justify-content: unsafe center; width: 58px; height: 1px; padding-top: 283px; margin-left: 323px;\"><div data-drawio-colors=\"color: rgb(0, 0, 0); \" style=\"box-sizing: border-box; font-size: 0px; text-align: center;\"><div style=\"display: inline-block; font-size: 14px; font-family: Helvetica; color: rgb(0, 0, 0); line-height: 1.2; pointer-events: all; white-space: normal; overflow-wrap: normal;\"><span class=\"MathJax_Preview\" style=\"color: inherit;\"/><div class=\"MathJax_SVG_Display\" style=\"text-align: center;\"><span class=\"MathJax_SVG\" id=\"MathJax-Element-27-Frame\" tabindex=\"0\" data-mathml=\"&lt;math xmlns=&quot;http://www.w3.org/1998/Math/MathML&quot; display=&quot;block&quot;&gt;&lt;msub&gt;&lt;mi&gt;l&lt;/mi&gt;&lt;mn&gt;2&lt;/mn&gt;&lt;/msub&gt;&lt;mo&gt;,&lt;/mo&gt;&lt;msub&gt;&lt;mi&gt;J&lt;/mi&gt;&lt;mn&gt;2&lt;/mn&gt;&lt;/msub&gt;&lt;/math&gt;\" role=\"presentation\" style=\"font-size: 100%; display: inline-block; position: relative;\"><svg xmlns=\"http://www.w3.org/2000/svg\" xmlns:xlink=\"http://www.w3.org/1999/xlink\" width=\"5.126ex\" height=\"2.442ex\" viewBox=\"0 -758.4 2207 1051.3\" role=\"img\" focusable=\"false\" style=\"vertical-align: -0.68ex;\" aria-hidden=\"true\"><g stroke=\"currentColor\" fill=\"currentColor\" stroke-width=\"0\" transform=\"matrix(1 0 0 -1 0 0)\"><path stroke-width=\"1\" d=\"M117 59Q117 26 142 26Q179 26 205 131Q211 151 215 152Q217 153 225 153H229Q238 153 241 153T246 151T248 144Q247 138 245 128T234 90T214 43T183 6T137 -11Q101 -11 70 11T38 85Q38 97 39 102L104 360Q167 615 167 623Q167 626 166 628T162 632T157 634T149 635T141 636T132 637T122 637Q112 637 109 637T101 638T95 641T94 647Q94 649 96 661Q101 680 107 682T179 688Q194 689 213 690T243 693T254 694Q266 694 266 686Q266 675 193 386T118 83Q118 81 118 75T117 65V59Z\"/><g transform=\"translate(298,-150)\"><path stroke-width=\"1\" transform=\"scale(0.707)\" d=\"M109 429Q82 429 66 447T50 491Q50 562 103 614T235 666Q326 666 387 610T449 465Q449 422 429 383T381 315T301 241Q265 210 201 149L142 93L218 92Q375 92 385 97Q392 99 409 186V189H449V186Q448 183 436 95T421 3V0H50V19V31Q50 38 56 46T86 81Q115 113 136 137Q145 147 170 174T204 211T233 244T261 278T284 308T305 340T320 369T333 401T340 431T343 464Q343 527 309 573T212 619Q179 619 154 602T119 569T109 550Q109 549 114 549Q132 549 151 535T170 489Q170 464 154 447T109 429Z\"/></g><g transform=\"translate(752,0)\"><path stroke-width=\"1\" d=\"M78 35T78 60T94 103T137 121Q165 121 187 96T210 8Q210 -27 201 -60T180 -117T154 -158T130 -185T117 -194Q113 -194 104 -185T95 -172Q95 -168 106 -156T131 -126T157 -76T173 -3V9L172 8Q170 7 167 6T161 3T152 1T140 0Q113 0 96 17Z\"/></g><g transform=\"translate(1197,0)\"><path stroke-width=\"1\" d=\"M447 625Q447 637 354 637H329Q323 642 323 645T325 664Q329 677 335 683H352Q393 681 498 681Q541 681 568 681T605 682T619 682Q633 682 633 672Q633 670 630 658Q626 642 623 640T604 637Q552 637 545 623Q541 610 483 376Q420 128 419 127Q397 64 333 21T195 -22Q137 -22 97 8T57 88Q57 130 80 152T132 174Q177 174 182 130Q182 98 164 80T123 56Q115 54 115 53T122 44Q148 15 197 15Q235 15 271 47T324 130Q328 142 387 380T447 625Z\"/><g transform=\"translate(555,-150)\"><path stroke-width=\"1\" transform=\"scale(0.707)\" d=\"M109 429Q82 429 66 447T50 491Q50 562 103 614T235 666Q326 666 387 610T449 465Q449 422 429 383T381 315T301 241Q265 210 201 149L142 93L218 92Q375 92 385 97Q392 99 409 186V189H449V186Q448 183 436 95T421 3V0H50V19V31Q50 38 56 46T86 81Q115 113 136 137Q145 147 170 174T204 211T233 244T261 278T284 308T305 340T320 369T333 401T340 431T343 464Q343 527 309 573T212 619Q179 619 154 602T119 569T109 550Q109 549 114 549Q132 549 151 535T170 489Q170 464 154 447T109 429Z\"/></g></g></g></svg><span class=\"MJX_Assistive_MathML MJX_Assistive_MathML_Block\" role=\"presentation\"/></span></div><script type=\"math/tex; mode=display\" id=\"MathJax-Element-27\">l_2, J_2</script></div></div></div></foreignObject><text x=\"352\" y=\"287\" fill=\"rgb(0, 0, 0)\" font-family=\"Helvetica\" font-size=\"14px\" text-anchor=\"middle\">\n",
       "l_2, J_2</text></switch></g><rect x=\"222\" y=\"239\" width=\"60\" height=\"30\" fill=\"none\" stroke=\"none\" pointer-events=\"all\"/><g transform=\"translate(-0.5 -0.5)\"><switch><foreignObject pointer-events=\"none\" width=\"100%\" height=\"100%\" requiredFeatures=\"http://www.w3.org/TR/SVG11/feature#Extensibility\" style=\"overflow: visible; text-align: left;\"><div xmlns=\"http://www.w3.org/1999/xhtml\" style=\"display: flex; align-items: unsafe center; justify-content: unsafe center; width: 58px; height: 1px; padding-top: 254px; margin-left: 223px;\"><div data-drawio-colors=\"color: rgb(0, 0, 0); \" style=\"box-sizing: border-box; font-size: 0px; text-align: center;\"><div style=\"display: inline-block; font-size: 14px; font-family: Helvetica; color: rgb(0, 0, 0); line-height: 1.2; pointer-events: all; white-space: normal; overflow-wrap: normal;\"><span class=\"MathJax_Preview\" style=\"color: inherit;\"/><div class=\"MathJax_SVG_Display\" style=\"text-align: center;\"><span class=\"MathJax_SVG\" id=\"MathJax-Element-28-Frame\" tabindex=\"0\" data-mathml=\"&lt;math xmlns=&quot;http://www.w3.org/1998/Math/MathML&quot; display=&quot;block&quot;&gt;&lt;msub&gt;&lt;mi&gt;S&lt;/mi&gt;&lt;mn&gt;2&lt;/mn&gt;&lt;/msub&gt;&lt;mo&gt;,&lt;/mo&gt;&lt;msub&gt;&lt;mi&gt;m&lt;/mi&gt;&lt;mn&gt;2&lt;/mn&gt;&lt;/msub&gt;&lt;/math&gt;\" role=\"presentation\" style=\"font-size: 100%; display: inline-block; position: relative;\"><svg xmlns=\"http://www.w3.org/2000/svg\" xmlns:xlink=\"http://www.w3.org/1999/xlink\" width=\"6.608ex\" height=\"2.577ex\" viewBox=\"0 -816.6 2845 1109.5\" role=\"img\" focusable=\"false\" style=\"vertical-align: -0.68ex;\" aria-hidden=\"true\"><g stroke=\"currentColor\" fill=\"currentColor\" stroke-width=\"0\" transform=\"matrix(1 0 0 -1 0 0)\"><path stroke-width=\"1\" d=\"M308 24Q367 24 416 76T466 197Q466 260 414 284Q308 311 278 321T236 341Q176 383 176 462Q176 523 208 573T273 648Q302 673 343 688T407 704H418H425Q521 704 564 640Q565 640 577 653T603 682T623 704Q624 704 627 704T632 705Q645 705 645 698T617 577T585 459T569 456Q549 456 549 465Q549 471 550 475Q550 478 551 494T553 520Q553 554 544 579T526 616T501 641Q465 662 419 662Q362 662 313 616T263 510Q263 480 278 458T319 427Q323 425 389 408T456 390Q490 379 522 342T554 242Q554 216 546 186Q541 164 528 137T492 78T426 18T332 -20Q320 -22 298 -22Q199 -22 144 33L134 44L106 13Q83 -14 78 -18T65 -22Q52 -22 52 -14Q52 -11 110 221Q112 227 130 227H143Q149 221 149 216Q149 214 148 207T144 186T142 153Q144 114 160 87T203 47T255 29T308 24Z\"/><g transform=\"translate(613,-150)\"><path stroke-width=\"1\" transform=\"scale(0.707)\" d=\"M109 429Q82 429 66 447T50 491Q50 562 103 614T235 666Q326 666 387 610T449 465Q449 422 429 383T381 315T301 241Q265 210 201 149L142 93L218 92Q375 92 385 97Q392 99 409 186V189H449V186Q448 183 436 95T421 3V0H50V19V31Q50 38 56 46T86 81Q115 113 136 137Q145 147 170 174T204 211T233 244T261 278T284 308T305 340T320 369T333 401T340 431T343 464Q343 527 309 573T212 619Q179 619 154 602T119 569T109 550Q109 549 114 549Q132 549 151 535T170 489Q170 464 154 447T109 429Z\"/></g><g transform=\"translate(1067,0)\"><path stroke-width=\"1\" d=\"M78 35T78 60T94 103T137 121Q165 121 187 96T210 8Q210 -27 201 -60T180 -117T154 -158T130 -185T117 -194Q113 -194 104 -185T95 -172Q95 -168 106 -156T131 -126T157 -76T173 -3V9L172 8Q170 7 167 6T161 3T152 1T140 0Q113 0 96 17Z\"/></g><g transform=\"translate(1512,0)\"><path stroke-width=\"1\" d=\"M21 287Q22 293 24 303T36 341T56 388T88 425T132 442T175 435T205 417T221 395T229 376L231 369Q231 367 232 367L243 378Q303 442 384 442Q401 442 415 440T441 433T460 423T475 411T485 398T493 385T497 373T500 364T502 357L510 367Q573 442 659 442Q713 442 746 415T780 336Q780 285 742 178T704 50Q705 36 709 31T724 26Q752 26 776 56T815 138Q818 149 821 151T837 153Q857 153 857 145Q857 144 853 130Q845 101 831 73T785 17T716 -10Q669 -10 648 17T627 73Q627 92 663 193T700 345Q700 404 656 404H651Q565 404 506 303L499 291L466 157Q433 26 428 16Q415 -11 385 -11Q372 -11 364 -4T353 8T350 18Q350 29 384 161L420 307Q423 322 423 345Q423 404 379 404H374Q288 404 229 303L222 291L189 157Q156 26 151 16Q138 -11 108 -11Q95 -11 87 -5T76 7T74 17Q74 30 112 181Q151 335 151 342Q154 357 154 369Q154 405 129 405Q107 405 92 377T69 316T57 280Q55 278 41 278H27Q21 284 21 287Z\"/><g transform=\"translate(878,-150)\"><path stroke-width=\"1\" transform=\"scale(0.707)\" d=\"M109 429Q82 429 66 447T50 491Q50 562 103 614T235 666Q326 666 387 610T449 465Q449 422 429 383T381 315T301 241Q265 210 201 149L142 93L218 92Q375 92 385 97Q392 99 409 186V189H449V186Q448 183 436 95T421 3V0H50V19V31Q50 38 56 46T86 81Q115 113 136 137Q145 147 170 174T204 211T233 244T261 278T284 308T305 340T320 369T333 401T340 431T343 464Q343 527 309 573T212 619Q179 619 154 602T119 569T109 550Q109 549 114 549Q132 549 151 535T170 489Q170 464 154 447T109 429Z\"/></g></g></g></svg><span class=\"MJX_Assistive_MathML MJX_Assistive_MathML_Block\" role=\"presentation\"/></span></div><script type=\"math/tex; mode=display\" id=\"MathJax-Element-28\">S_2, m_2</script></div></div></div></foreignObject><text x=\"252\" y=\"258\" fill=\"rgb(0, 0, 0)\" font-family=\"Helvetica\" font-size=\"14px\" text-anchor=\"middle\">\n",
       "S_2, m_2</text></switch></g><rect x=\"154\" y=\"308\" width=\"60\" height=\"30\" fill=\"none\" stroke=\"none\" pointer-events=\"all\"/><g transform=\"translate(-0.5 -0.5)\"><switch><foreignObject pointer-events=\"none\" width=\"100%\" height=\"100%\" requiredFeatures=\"http://www.w3.org/TR/SVG11/feature#Extensibility\" style=\"overflow: visible; text-align: left;\"><div xmlns=\"http://www.w3.org/1999/xhtml\" style=\"display: flex; align-items: unsafe center; justify-content: unsafe center; width: 58px; height: 1px; padding-top: 323px; margin-left: 155px;\"><div data-drawio-colors=\"color: rgb(0, 0, 0); \" style=\"box-sizing: border-box; font-size: 0px; text-align: center;\"><div style=\"display: inline-block; font-size: 14px; font-family: Helvetica; color: rgb(0, 0, 0); line-height: 1.2; pointer-events: all; white-space: normal; overflow-wrap: normal;\"><span style=\"\"><span class=\"MathJax_Preview\" style=\"color: inherit;\"/><div class=\"MathJax_SVG_Display\" style=\"text-align: center;\"><span class=\"MathJax_SVG\" id=\"MathJax-Element-29-Frame\" tabindex=\"0\" data-mathml=\"&lt;math xmlns=&quot;http://www.w3.org/1998/Math/MathML&quot; display=&quot;block&quot;&gt;&lt;msub&gt;&lt;mi&gt;G&lt;/mi&gt;&lt;mn&gt;3&lt;/mn&gt;&lt;/msub&gt;&lt;/math&gt;\" role=\"presentation\" style=\"font-size: 100%; display: inline-block; position: relative;\"><svg xmlns=\"http://www.w3.org/2000/svg\" xmlns:xlink=\"http://www.w3.org/1999/xlink\" width=\"2.881ex\" height=\"2.442ex\" viewBox=\"0 -816.6 1240.4 1051.3\" role=\"img\" focusable=\"false\" style=\"vertical-align: -0.545ex;\" aria-hidden=\"true\"><g stroke=\"currentColor\" fill=\"currentColor\" stroke-width=\"0\" transform=\"matrix(1 0 0 -1 0 0)\"><path stroke-width=\"1\" d=\"M50 252Q50 367 117 473T286 641T490 704Q580 704 633 653Q642 643 648 636T656 626L657 623Q660 623 684 649Q691 655 699 663T715 679T725 690L740 705H746Q760 705 760 698Q760 694 728 561Q692 422 692 421Q690 416 687 415T669 413H653Q647 419 647 422Q647 423 648 429T650 449T651 481Q651 552 619 605T510 659Q492 659 471 656T418 643T357 615T294 567T236 496T189 394T158 260Q156 242 156 221Q156 173 170 136T206 79T256 45T308 28T353 24Q407 24 452 47T514 106Q517 114 529 161T541 214Q541 222 528 224T468 227H431Q425 233 425 235T427 254Q431 267 437 273H454Q494 271 594 271Q634 271 659 271T695 272T707 272Q721 272 721 263Q721 261 719 249Q714 230 709 228Q706 227 694 227Q674 227 653 224Q646 221 643 215T629 164Q620 131 614 108Q589 6 586 3Q584 1 581 1Q571 1 553 21T530 52Q530 53 528 52T522 47Q448 -22 322 -22Q201 -22 126 55T50 252Z\"/><g transform=\"translate(786,-150)\"><path stroke-width=\"1\" transform=\"scale(0.707)\" d=\"M127 463Q100 463 85 480T69 524Q69 579 117 622T233 665Q268 665 277 664Q351 652 390 611T430 522Q430 470 396 421T302 350L299 348Q299 347 308 345T337 336T375 315Q457 262 457 175Q457 96 395 37T238 -22Q158 -22 100 21T42 130Q42 158 60 175T105 193Q133 193 151 175T169 130Q169 119 166 110T159 94T148 82T136 74T126 70T118 67L114 66Q165 21 238 21Q293 21 321 74Q338 107 338 175V195Q338 290 274 322Q259 328 213 329L171 330L168 332Q166 335 166 348Q166 366 174 366Q202 366 232 371Q266 376 294 413T322 525V533Q322 590 287 612Q265 626 240 626Q208 626 181 615T143 592T132 580H135Q138 579 143 578T153 573T165 566T175 555T183 540T186 520Q186 498 172 481T127 463Z\"/></g></g></svg><span class=\"MJX_Assistive_MathML MJX_Assistive_MathML_Block\" role=\"presentation\"/></span></div><script type=\"math/tex; mode=display\" id=\"MathJax-Element-29\">G_3</script></span></div></div></div></foreignObject><text x=\"184\" y=\"327\" fill=\"rgb(0, 0, 0)\" font-family=\"Helvetica\" font-size=\"14px\" text-anchor=\"middle\">\n",
       "G_3</text></switch></g><rect x=\"8\" y=\"166\" width=\"60\" height=\"30\" fill=\"none\" stroke=\"none\" pointer-events=\"all\"/><g transform=\"translate(-0.5 -0.5)\"><switch><foreignObject pointer-events=\"none\" width=\"100%\" height=\"100%\" requiredFeatures=\"http://www.w3.org/TR/SVG11/feature#Extensibility\" style=\"overflow: visible; text-align: left;\"><div xmlns=\"http://www.w3.org/1999/xhtml\" style=\"display: flex; align-items: unsafe center; justify-content: unsafe center; width: 58px; height: 1px; padding-top: 181px; margin-left: 9px;\"><div data-drawio-colors=\"color: rgb(0, 0, 0); \" style=\"box-sizing: border-box; font-size: 0px; text-align: center;\"><div style=\"display: inline-block; font-size: 14px; font-family: Helvetica; color: rgb(0, 0, 0); line-height: 1.2; pointer-events: all; white-space: normal; overflow-wrap: normal;\"><span class=\"MathJax_Preview\" style=\"color: inherit;\"/><div class=\"MathJax_SVG_Display\" style=\"text-align: center;\"><span class=\"MathJax_SVG\" id=\"MathJax-Element-30-Frame\" tabindex=\"0\" data-mathml=\"&lt;math xmlns=&quot;http://www.w3.org/1998/Math/MathML&quot; display=&quot;block&quot;&gt;&lt;msub&gt;&lt;mi&gt;B&lt;/mi&gt;&lt;mn&gt;1&lt;/mn&gt;&lt;/msub&gt;&lt;mo&gt;,&lt;/mo&gt;&lt;msub&gt;&lt;mi&gt;G&lt;/mi&gt;&lt;mn&gt;1&lt;/mn&gt;&lt;/msub&gt;&lt;mo&gt;,&lt;/mo&gt;&lt;msub&gt;&lt;mi&gt;S&lt;/mi&gt;&lt;mn&gt;1&lt;/mn&gt;&lt;/msub&gt;&lt;/math&gt;\" role=\"presentation\" style=\"font-size: 100%; display: inline-block; position: relative;\"><svg xmlns=\"http://www.w3.org/2000/svg\" xmlns:xlink=\"http://www.w3.org/1999/xlink\" width=\"10.246ex\" height=\"2.577ex\" viewBox=\"0 -816.6 4411.6 1109.5\" role=\"img\" focusable=\"false\" style=\"vertical-align: -0.68ex;\" aria-hidden=\"true\"><g stroke=\"currentColor\" fill=\"currentColor\" stroke-width=\"0\" transform=\"matrix(1 0 0 -1 0 0)\"><path stroke-width=\"1\" d=\"M231 637Q204 637 199 638T194 649Q194 676 205 682Q206 683 335 683Q594 683 608 681Q671 671 713 636T756 544Q756 480 698 429T565 360L555 357Q619 348 660 311T702 219Q702 146 630 78T453 1Q446 0 242 0Q42 0 39 2Q35 5 35 10Q35 17 37 24Q42 43 47 45Q51 46 62 46H68Q95 46 128 49Q142 52 147 61Q150 65 219 339T288 628Q288 635 231 637ZM649 544Q649 574 634 600T585 634Q578 636 493 637Q473 637 451 637T416 636H403Q388 635 384 626Q382 622 352 506Q352 503 351 500L320 374H401Q482 374 494 376Q554 386 601 434T649 544ZM595 229Q595 273 572 302T512 336Q506 337 429 337Q311 337 310 336Q310 334 293 263T258 122L240 52Q240 48 252 48T333 46Q422 46 429 47Q491 54 543 105T595 229Z\"/><g transform=\"translate(759,-150)\"><path stroke-width=\"1\" transform=\"scale(0.707)\" d=\"M213 578L200 573Q186 568 160 563T102 556H83V602H102Q149 604 189 617T245 641T273 663Q275 666 285 666Q294 666 302 660V361L303 61Q310 54 315 52T339 48T401 46H427V0H416Q395 3 257 3Q121 3 100 0H88V46H114Q136 46 152 46T177 47T193 50T201 52T207 57T213 61V578Z\"/></g><g transform=\"translate(1213,0)\"><path stroke-width=\"1\" d=\"M78 35T78 60T94 103T137 121Q165 121 187 96T210 8Q210 -27 201 -60T180 -117T154 -158T130 -185T117 -194Q113 -194 104 -185T95 -172Q95 -168 106 -156T131 -126T157 -76T173 -3V9L172 8Q170 7 167 6T161 3T152 1T140 0Q113 0 96 17Z\"/></g><g transform=\"translate(1658,0)\"><path stroke-width=\"1\" d=\"M50 252Q50 367 117 473T286 641T490 704Q580 704 633 653Q642 643 648 636T656 626L657 623Q660 623 684 649Q691 655 699 663T715 679T725 690L740 705H746Q760 705 760 698Q760 694 728 561Q692 422 692 421Q690 416 687 415T669 413H653Q647 419 647 422Q647 423 648 429T650 449T651 481Q651 552 619 605T510 659Q492 659 471 656T418 643T357 615T294 567T236 496T189 394T158 260Q156 242 156 221Q156 173 170 136T206 79T256 45T308 28T353 24Q407 24 452 47T514 106Q517 114 529 161T541 214Q541 222 528 224T468 227H431Q425 233 425 235T427 254Q431 267 437 273H454Q494 271 594 271Q634 271 659 271T695 272T707 272Q721 272 721 263Q721 261 719 249Q714 230 709 228Q706 227 694 227Q674 227 653 224Q646 221 643 215T629 164Q620 131 614 108Q589 6 586 3Q584 1 581 1Q571 1 553 21T530 52Q530 53 528 52T522 47Q448 -22 322 -22Q201 -22 126 55T50 252Z\"/><g transform=\"translate(786,-150)\"><path stroke-width=\"1\" transform=\"scale(0.707)\" d=\"M213 578L200 573Q186 568 160 563T102 556H83V602H102Q149 604 189 617T245 641T273 663Q275 666 285 666Q294 666 302 660V361L303 61Q310 54 315 52T339 48T401 46H427V0H416Q395 3 257 3Q121 3 100 0H88V46H114Q136 46 152 46T177 47T193 50T201 52T207 57T213 61V578Z\"/></g></g><g transform=\"translate(2898,0)\"><path stroke-width=\"1\" d=\"M78 35T78 60T94 103T137 121Q165 121 187 96T210 8Q210 -27 201 -60T180 -117T154 -158T130 -185T117 -194Q113 -194 104 -185T95 -172Q95 -168 106 -156T131 -126T157 -76T173 -3V9L172 8Q170 7 167 6T161 3T152 1T140 0Q113 0 96 17Z\"/></g><g transform=\"translate(3344,0)\"><path stroke-width=\"1\" d=\"M308 24Q367 24 416 76T466 197Q466 260 414 284Q308 311 278 321T236 341Q176 383 176 462Q176 523 208 573T273 648Q302 673 343 688T407 704H418H425Q521 704 564 640Q565 640 577 653T603 682T623 704Q624 704 627 704T632 705Q645 705 645 698T617 577T585 459T569 456Q549 456 549 465Q549 471 550 475Q550 478 551 494T553 520Q553 554 544 579T526 616T501 641Q465 662 419 662Q362 662 313 616T263 510Q263 480 278 458T319 427Q323 425 389 408T456 390Q490 379 522 342T554 242Q554 216 546 186Q541 164 528 137T492 78T426 18T332 -20Q320 -22 298 -22Q199 -22 144 33L134 44L106 13Q83 -14 78 -18T65 -22Q52 -22 52 -14Q52 -11 110 221Q112 227 130 227H143Q149 221 149 216Q149 214 148 207T144 186T142 153Q144 114 160 87T203 47T255 29T308 24Z\"/><g transform=\"translate(613,-150)\"><path stroke-width=\"1\" transform=\"scale(0.707)\" d=\"M213 578L200 573Q186 568 160 563T102 556H83V602H102Q149 604 189 617T245 641T273 663Q275 666 285 666Q294 666 302 660V361L303 61Q310 54 315 52T339 48T401 46H427V0H416Q395 3 257 3Q121 3 100 0H88V46H114Q136 46 152 46T177 47T193 50T201 52T207 57T213 61V578Z\"/></g></g></g></svg><span class=\"MJX_Assistive_MathML MJX_Assistive_MathML_Block\" role=\"presentation\"/></span></div><script type=\"math/tex; mode=display\" id=\"MathJax-Element-30\">B_1, G_1,S_1 </script></div></div></div></foreignObject><text x=\"38\" y=\"185\" fill=\"rgb(0, 0, 0)\" font-family=\"Helvetica\" font-size=\"14px\" text-anchor=\"middle\">B_1, G_1...</text></switch></g><rect x=\"442\" y=\"165\" width=\"60\" height=\"30\" fill=\"none\" stroke=\"none\" pointer-events=\"all\"/><g transform=\"translate(-0.5 -0.5)\"><switch><foreignObject pointer-events=\"none\" width=\"100%\" height=\"100%\" requiredFeatures=\"http://www.w3.org/TR/SVG11/feature#Extensibility\" style=\"overflow: visible; text-align: left;\"><div xmlns=\"http://www.w3.org/1999/xhtml\" style=\"display: flex; align-items: unsafe center; justify-content: unsafe center; width: 58px; height: 1px; padding-top: 180px; margin-left: 443px;\"><div data-drawio-colors=\"color: rgb(0, 0, 0); \" style=\"box-sizing: border-box; font-size: 0px; text-align: center;\"><div style=\"display: inline-block; font-size: 14px; font-family: Helvetica; color: rgb(0, 0, 0); line-height: 1.2; pointer-events: all; white-space: normal; overflow-wrap: normal;\"><span class=\"MathJax_Preview\" style=\"color: inherit;\"/><div class=\"MathJax_SVG_Display\" style=\"text-align: center;\"><span class=\"MathJax_SVG\" id=\"MathJax-Element-31-Frame\" tabindex=\"0\" data-mathml=\"&lt;math xmlns=&quot;http://www.w3.org/1998/Math/MathML&quot; display=&quot;block&quot;&gt;&lt;msub&gt;&lt;mi&gt;B&lt;/mi&gt;&lt;mn&gt;2&lt;/mn&gt;&lt;/msub&gt;&lt;mo&gt;,&lt;/mo&gt;&lt;msub&gt;&lt;mi&gt;G&lt;/mi&gt;&lt;mn&gt;6&lt;/mn&gt;&lt;/msub&gt;&lt;mo&gt;,&lt;/mo&gt;&lt;msub&gt;&lt;mi&gt;S&lt;/mi&gt;&lt;mn&gt;3&lt;/mn&gt;&lt;/msub&gt;&lt;/math&gt;\" role=\"presentation\" style=\"font-size: 100%; display: inline-block; position: relative;\"><svg xmlns=\"http://www.w3.org/2000/svg\" xmlns:xlink=\"http://www.w3.org/1999/xlink\" width=\"10.246ex\" height=\"2.577ex\" viewBox=\"0 -816.6 4411.6 1109.5\" role=\"img\" focusable=\"false\" style=\"vertical-align: -0.68ex;\" aria-hidden=\"true\"><g stroke=\"currentColor\" fill=\"currentColor\" stroke-width=\"0\" transform=\"matrix(1 0 0 -1 0 0)\"><path stroke-width=\"1\" d=\"M231 637Q204 637 199 638T194 649Q194 676 205 682Q206 683 335 683Q594 683 608 681Q671 671 713 636T756 544Q756 480 698 429T565 360L555 357Q619 348 660 311T702 219Q702 146 630 78T453 1Q446 0 242 0Q42 0 39 2Q35 5 35 10Q35 17 37 24Q42 43 47 45Q51 46 62 46H68Q95 46 128 49Q142 52 147 61Q150 65 219 339T288 628Q288 635 231 637ZM649 544Q649 574 634 600T585 634Q578 636 493 637Q473 637 451 637T416 636H403Q388 635 384 626Q382 622 352 506Q352 503 351 500L320 374H401Q482 374 494 376Q554 386 601 434T649 544ZM595 229Q595 273 572 302T512 336Q506 337 429 337Q311 337 310 336Q310 334 293 263T258 122L240 52Q240 48 252 48T333 46Q422 46 429 47Q491 54 543 105T595 229Z\"/><g transform=\"translate(759,-150)\"><path stroke-width=\"1\" transform=\"scale(0.707)\" d=\"M109 429Q82 429 66 447T50 491Q50 562 103 614T235 666Q326 666 387 610T449 465Q449 422 429 383T381 315T301 241Q265 210 201 149L142 93L218 92Q375 92 385 97Q392 99 409 186V189H449V186Q448 183 436 95T421 3V0H50V19V31Q50 38 56 46T86 81Q115 113 136 137Q145 147 170 174T204 211T233 244T261 278T284 308T305 340T320 369T333 401T340 431T343 464Q343 527 309 573T212 619Q179 619 154 602T119 569T109 550Q109 549 114 549Q132 549 151 535T170 489Q170 464 154 447T109 429Z\"/></g><g transform=\"translate(1213,0)\"><path stroke-width=\"1\" d=\"M78 35T78 60T94 103T137 121Q165 121 187 96T210 8Q210 -27 201 -60T180 -117T154 -158T130 -185T117 -194Q113 -194 104 -185T95 -172Q95 -168 106 -156T131 -126T157 -76T173 -3V9L172 8Q170 7 167 6T161 3T152 1T140 0Q113 0 96 17Z\"/></g><g transform=\"translate(1658,0)\"><path stroke-width=\"1\" d=\"M50 252Q50 367 117 473T286 641T490 704Q580 704 633 653Q642 643 648 636T656 626L657 623Q660 623 684 649Q691 655 699 663T715 679T725 690L740 705H746Q760 705 760 698Q760 694 728 561Q692 422 692 421Q690 416 687 415T669 413H653Q647 419 647 422Q647 423 648 429T650 449T651 481Q651 552 619 605T510 659Q492 659 471 656T418 643T357 615T294 567T236 496T189 394T158 260Q156 242 156 221Q156 173 170 136T206 79T256 45T308 28T353 24Q407 24 452 47T514 106Q517 114 529 161T541 214Q541 222 528 224T468 227H431Q425 233 425 235T427 254Q431 267 437 273H454Q494 271 594 271Q634 271 659 271T695 272T707 272Q721 272 721 263Q721 261 719 249Q714 230 709 228Q706 227 694 227Q674 227 653 224Q646 221 643 215T629 164Q620 131 614 108Q589 6 586 3Q584 1 581 1Q571 1 553 21T530 52Q530 53 528 52T522 47Q448 -22 322 -22Q201 -22 126 55T50 252Z\"/><g transform=\"translate(786,-150)\"><path stroke-width=\"1\" transform=\"scale(0.707)\" d=\"M42 313Q42 476 123 571T303 666Q372 666 402 630T432 550Q432 525 418 510T379 495Q356 495 341 509T326 548Q326 592 373 601Q351 623 311 626Q240 626 194 566Q147 500 147 364L148 360Q153 366 156 373Q197 433 263 433H267Q313 433 348 414Q372 400 396 374T435 317Q456 268 456 210V192Q456 169 451 149Q440 90 387 34T253 -22Q225 -22 199 -14T143 16T92 75T56 172T42 313ZM257 397Q227 397 205 380T171 335T154 278T148 216Q148 133 160 97T198 39Q222 21 251 21Q302 21 329 59Q342 77 347 104T352 209Q352 289 347 316T329 361Q302 397 257 397Z\"/></g></g><g transform=\"translate(2898,0)\"><path stroke-width=\"1\" d=\"M78 35T78 60T94 103T137 121Q165 121 187 96T210 8Q210 -27 201 -60T180 -117T154 -158T130 -185T117 -194Q113 -194 104 -185T95 -172Q95 -168 106 -156T131 -126T157 -76T173 -3V9L172 8Q170 7 167 6T161 3T152 1T140 0Q113 0 96 17Z\"/></g><g transform=\"translate(3344,0)\"><path stroke-width=\"1\" d=\"M308 24Q367 24 416 76T466 197Q466 260 414 284Q308 311 278 321T236 341Q176 383 176 462Q176 523 208 573T273 648Q302 673 343 688T407 704H418H425Q521 704 564 640Q565 640 577 653T603 682T623 704Q624 704 627 704T632 705Q645 705 645 698T617 577T585 459T569 456Q549 456 549 465Q549 471 550 475Q550 478 551 494T553 520Q553 554 544 579T526 616T501 641Q465 662 419 662Q362 662 313 616T263 510Q263 480 278 458T319 427Q323 425 389 408T456 390Q490 379 522 342T554 242Q554 216 546 186Q541 164 528 137T492 78T426 18T332 -20Q320 -22 298 -22Q199 -22 144 33L134 44L106 13Q83 -14 78 -18T65 -22Q52 -22 52 -14Q52 -11 110 221Q112 227 130 227H143Q149 221 149 216Q149 214 148 207T144 186T142 153Q144 114 160 87T203 47T255 29T308 24Z\"/><g transform=\"translate(613,-150)\"><path stroke-width=\"1\" transform=\"scale(0.707)\" d=\"M127 463Q100 463 85 480T69 524Q69 579 117 622T233 665Q268 665 277 664Q351 652 390 611T430 522Q430 470 396 421T302 350L299 348Q299 347 308 345T337 336T375 315Q457 262 457 175Q457 96 395 37T238 -22Q158 -22 100 21T42 130Q42 158 60 175T105 193Q133 193 151 175T169 130Q169 119 166 110T159 94T148 82T136 74T126 70T118 67L114 66Q165 21 238 21Q293 21 321 74Q338 107 338 175V195Q338 290 274 322Q259 328 213 329L171 330L168 332Q166 335 166 348Q166 366 174 366Q202 366 232 371Q266 376 294 413T322 525V533Q322 590 287 612Q265 626 240 626Q208 626 181 615T143 592T132 580H135Q138 579 143 578T153 573T165 566T175 555T183 540T186 520Q186 498 172 481T127 463Z\"/></g></g></g></svg><span class=\"MJX_Assistive_MathML MJX_Assistive_MathML_Block\" role=\"presentation\"/></span></div><script type=\"math/tex; mode=display\" id=\"MathJax-Element-31\">B_2, G_6, S_3 </script></div></div></div></foreignObject><text x=\"472\" y=\"184\" fill=\"rgb(0, 0, 0)\" font-family=\"Helvetica\" font-size=\"14px\" text-anchor=\"middle\">B_2, G_6...</text></switch></g><rect x=\"382\" y=\"241\" width=\"60\" height=\"30\" fill=\"none\" stroke=\"none\" pointer-events=\"all\"/><g transform=\"translate(-0.5 -0.5)\"><switch><foreignObject pointer-events=\"none\" width=\"100%\" height=\"100%\" requiredFeatures=\"http://www.w3.org/TR/SVG11/feature#Extensibility\" style=\"overflow: visible; text-align: left;\"><div xmlns=\"http://www.w3.org/1999/xhtml\" style=\"display: flex; align-items: unsafe center; justify-content: unsafe center; width: 58px; height: 1px; padding-top: 256px; margin-left: 383px;\"><div data-drawio-colors=\"color: rgb(0, 0, 0); \" style=\"box-sizing: border-box; font-size: 0px; text-align: center;\"><div style=\"display: inline-block; font-size: 14px; font-family: Helvetica; color: rgb(0, 0, 0); line-height: 1.2; pointer-events: all; white-space: normal; overflow-wrap: normal;\"><span class=\"MathJax_Preview\" style=\"color: inherit;\"/><div class=\"MathJax_SVG_Display\" style=\"text-align: center;\"><span class=\"MathJax_SVG\" id=\"MathJax-Element-32-Frame\" tabindex=\"0\" data-mathml=\"&lt;math xmlns=&quot;http://www.w3.org/1998/Math/MathML&quot; display=&quot;block&quot;&gt;&lt;msub&gt;&lt;mi&gt;G&lt;/mi&gt;&lt;mn&gt;4&lt;/mn&gt;&lt;/msub&gt;&lt;/math&gt;\" role=\"presentation\" style=\"font-size: 100%; display: inline-block; position: relative;\"><svg xmlns=\"http://www.w3.org/2000/svg\" xmlns:xlink=\"http://www.w3.org/1999/xlink\" width=\"2.881ex\" height=\"2.442ex\" viewBox=\"0 -816.6 1240.4 1051.3\" role=\"img\" focusable=\"false\" style=\"vertical-align: -0.545ex;\" aria-hidden=\"true\"><g stroke=\"currentColor\" fill=\"currentColor\" stroke-width=\"0\" transform=\"matrix(1 0 0 -1 0 0)\"><path stroke-width=\"1\" d=\"M50 252Q50 367 117 473T286 641T490 704Q580 704 633 653Q642 643 648 636T656 626L657 623Q660 623 684 649Q691 655 699 663T715 679T725 690L740 705H746Q760 705 760 698Q760 694 728 561Q692 422 692 421Q690 416 687 415T669 413H653Q647 419 647 422Q647 423 648 429T650 449T651 481Q651 552 619 605T510 659Q492 659 471 656T418 643T357 615T294 567T236 496T189 394T158 260Q156 242 156 221Q156 173 170 136T206 79T256 45T308 28T353 24Q407 24 452 47T514 106Q517 114 529 161T541 214Q541 222 528 224T468 227H431Q425 233 425 235T427 254Q431 267 437 273H454Q494 271 594 271Q634 271 659 271T695 272T707 272Q721 272 721 263Q721 261 719 249Q714 230 709 228Q706 227 694 227Q674 227 653 224Q646 221 643 215T629 164Q620 131 614 108Q589 6 586 3Q584 1 581 1Q571 1 553 21T530 52Q530 53 528 52T522 47Q448 -22 322 -22Q201 -22 126 55T50 252Z\"/><g transform=\"translate(786,-150)\"><path stroke-width=\"1\" transform=\"scale(0.707)\" d=\"M462 0Q444 3 333 3Q217 3 199 0H190V46H221Q241 46 248 46T265 48T279 53T286 61Q287 63 287 115V165H28V211L179 442Q332 674 334 675Q336 677 355 677H373L379 671V211H471V165H379V114Q379 73 379 66T385 54Q393 47 442 46H471V0H462ZM293 211V545L74 212L183 211H293Z\"/></g></g></svg><span class=\"MJX_Assistive_MathML MJX_Assistive_MathML_Block\" role=\"presentation\"/></span></div><script type=\"math/tex; mode=display\" id=\"MathJax-Element-32\">G_4</script></div></div></div></foreignObject><text x=\"412\" y=\"260\" fill=\"rgb(0, 0, 0)\" font-family=\"Helvetica\" font-size=\"14px\" text-anchor=\"middle\">\n",
       "G_4</text></switch></g><path d=\"M 442 156 L 542 156\" fill=\"none\" stroke=\"#000000\" stroke-miterlimit=\"10\" stroke-dasharray=\"3 3\" pointer-events=\"stroke\"/><path d=\"M 66.57 155.95 L 93.76 155.99\" fill=\"none\" stroke=\"#d79b00\" stroke-width=\"2\" stroke-miterlimit=\"10\" pointer-events=\"stroke\"/><path d=\"M 99.76 156 L 91.76 159.99 L 93.76 155.99 L 91.77 151.99 Z\" fill=\"#d79b00\" stroke=\"#d79b00\" stroke-width=\"2\" stroke-miterlimit=\"10\" pointer-events=\"all\"/><path d=\"M 427 156 L 453.76 156\" fill=\"none\" stroke=\"#d79b00\" stroke-width=\"2\" stroke-miterlimit=\"10\" pointer-events=\"stroke\"/><path d=\"M 459.76 156 L 451.76 160 L 453.76 156 L 451.76 152 Z\" fill=\"#d79b00\" stroke=\"#d79b00\" stroke-width=\"2\" stroke-miterlimit=\"10\" pointer-events=\"all\"/><rect x=\"67\" y=\"152\" width=\"60\" height=\"30\" fill=\"none\" stroke=\"none\" pointer-events=\"all\"/><g transform=\"translate(-0.5 -0.5)\"><switch><foreignObject pointer-events=\"none\" width=\"100%\" height=\"100%\" requiredFeatures=\"http://www.w3.org/TR/SVG11/feature#Extensibility\" style=\"overflow: visible; text-align: left;\"><div xmlns=\"http://www.w3.org/1999/xhtml\" style=\"display: flex; align-items: unsafe center; justify-content: unsafe center; width: 58px; height: 1px; padding-top: 167px; margin-left: 68px;\"><div data-drawio-colors=\"color: rgb(0, 0, 0); \" style=\"box-sizing: border-box; font-size: 0px; text-align: center;\"><div style=\"display: inline-block; font-size: 14px; font-family: Helvetica; color: rgb(0, 0, 0); line-height: 1.2; pointer-events: all; white-space: normal; overflow-wrap: normal;\"><font color=\"#d79b00\"><span class=\"MathJax_Preview\" style=\"color: inherit;\"/><div class=\"MathJax_SVG_Display\" style=\"text-align: center;\"><span class=\"MathJax_SVG\" id=\"MathJax-Element-33-Frame\" tabindex=\"0\" data-mathml=\"&lt;math xmlns=&quot;http://www.w3.org/1998/Math/MathML&quot; display=&quot;block&quot;&gt;&lt;msub&gt;&lt;mi&gt;q&lt;/mi&gt;&lt;mn&gt;1&lt;/mn&gt;&lt;/msub&gt;&lt;/math&gt;\" role=\"presentation\" style=\"font-size: 100%; display: inline-block; position: relative;\"><svg xmlns=\"http://www.w3.org/2000/svg\" xmlns:xlink=\"http://www.w3.org/1999/xlink\" width=\"2.091ex\" height=\"1.901ex\" viewBox=\"0 -525.6 900.4 818.6\" role=\"img\" focusable=\"false\" style=\"vertical-align: -0.68ex;\" aria-hidden=\"true\"><g stroke=\"currentColor\" fill=\"currentColor\" stroke-width=\"0\" transform=\"matrix(1 0 0 -1 0 0)\"><path stroke-width=\"1\" d=\"M33 157Q33 258 109 349T280 441Q340 441 372 389Q373 390 377 395T388 406T404 418Q438 442 450 442Q454 442 457 439T460 434Q460 425 391 149Q320 -135 320 -139Q320 -147 365 -148H390Q396 -156 396 -157T393 -175Q389 -188 383 -194H370Q339 -192 262 -192Q234 -192 211 -192T174 -192T157 -193Q143 -193 143 -185Q143 -182 145 -170Q149 -154 152 -151T172 -148Q220 -148 230 -141Q238 -136 258 -53T279 32Q279 33 272 29Q224 -10 172 -10Q117 -10 75 30T33 157ZM352 326Q329 405 277 405Q242 405 210 374T160 293Q131 214 119 129Q119 126 119 118T118 106Q118 61 136 44T179 26Q233 26 290 98L298 109L352 326Z\"/><g transform=\"translate(446,-150)\"><path stroke-width=\"1\" transform=\"scale(0.707)\" d=\"M213 578L200 573Q186 568 160 563T102 556H83V602H102Q149 604 189 617T245 641T273 663Q275 666 285 666Q294 666 302 660V361L303 61Q310 54 315 52T339 48T401 46H427V0H416Q395 3 257 3Q121 3 100 0H88V46H114Q136 46 152 46T177 47T193 50T201 52T207 57T213 61V578Z\"/></g></g></svg><span class=\"MJX_Assistive_MathML MJX_Assistive_MathML_Block\" role=\"presentation\"/></span></div><script type=\"math/tex; mode=display\" id=\"MathJax-Element-33\">q_1</script></font></div></div></div></foreignObject><text x=\"97\" y=\"171\" fill=\"rgb(0, 0, 0)\" font-family=\"Helvetica\" font-size=\"14px\" text-anchor=\"middle\">\n",
       "q_1</text></switch></g><rect x=\"424\" y=\"125\" width=\"60\" height=\"30\" fill=\"none\" stroke=\"none\" pointer-events=\"all\"/><g transform=\"translate(-0.5 -0.5)\"><switch><foreignObject pointer-events=\"none\" width=\"100%\" height=\"100%\" requiredFeatures=\"http://www.w3.org/TR/SVG11/feature#Extensibility\" style=\"overflow: visible; text-align: left;\"><div xmlns=\"http://www.w3.org/1999/xhtml\" style=\"display: flex; align-items: unsafe center; justify-content: unsafe center; width: 58px; height: 1px; padding-top: 140px; margin-left: 425px;\"><div data-drawio-colors=\"color: rgb(0, 0, 0); \" style=\"box-sizing: border-box; font-size: 0px; text-align: center;\"><div style=\"display: inline-block; font-size: 14px; font-family: Helvetica; color: rgb(0, 0, 0); line-height: 1.2; pointer-events: all; white-space: normal; overflow-wrap: normal;\"><font color=\"#d79b00\"><span class=\"MathJax_Preview\" style=\"color: inherit;\"/><div class=\"MathJax_SVG_Display\" style=\"text-align: center;\"><span class=\"MathJax_SVG\" id=\"MathJax-Element-34-Frame\" tabindex=\"0\" data-mathml=\"&lt;math xmlns=&quot;http://www.w3.org/1998/Math/MathML&quot; display=&quot;block&quot;&gt;&lt;msub&gt;&lt;mi&gt;q&lt;/mi&gt;&lt;mn&gt;2&lt;/mn&gt;&lt;/msub&gt;&lt;/math&gt;\" role=\"presentation\" style=\"font-size: 100%; display: inline-block; position: relative;\"><svg xmlns=\"http://www.w3.org/2000/svg\" xmlns:xlink=\"http://www.w3.org/1999/xlink\" width=\"2.091ex\" height=\"1.901ex\" viewBox=\"0 -525.6 900.4 818.6\" role=\"img\" focusable=\"false\" style=\"vertical-align: -0.68ex;\" aria-hidden=\"true\"><g stroke=\"currentColor\" fill=\"currentColor\" stroke-width=\"0\" transform=\"matrix(1 0 0 -1 0 0)\"><path stroke-width=\"1\" d=\"M33 157Q33 258 109 349T280 441Q340 441 372 389Q373 390 377 395T388 406T404 418Q438 442 450 442Q454 442 457 439T460 434Q460 425 391 149Q320 -135 320 -139Q320 -147 365 -148H390Q396 -156 396 -157T393 -175Q389 -188 383 -194H370Q339 -192 262 -192Q234 -192 211 -192T174 -192T157 -193Q143 -193 143 -185Q143 -182 145 -170Q149 -154 152 -151T172 -148Q220 -148 230 -141Q238 -136 258 -53T279 32Q279 33 272 29Q224 -10 172 -10Q117 -10 75 30T33 157ZM352 326Q329 405 277 405Q242 405 210 374T160 293Q131 214 119 129Q119 126 119 118T118 106Q118 61 136 44T179 26Q233 26 290 98L298 109L352 326Z\"/><g transform=\"translate(446,-150)\"><path stroke-width=\"1\" transform=\"scale(0.707)\" d=\"M109 429Q82 429 66 447T50 491Q50 562 103 614T235 666Q326 666 387 610T449 465Q449 422 429 383T381 315T301 241Q265 210 201 149L142 93L218 92Q375 92 385 97Q392 99 409 186V189H449V186Q448 183 436 95T421 3V0H50V19V31Q50 38 56 46T86 81Q115 113 136 137Q145 147 170 174T204 211T233 244T261 278T284 308T305 340T320 369T333 401T340 431T343 464Q343 527 309 573T212 619Q179 619 154 602T119 569T109 550Q109 549 114 549Q132 549 151 535T170 489Q170 464 154 447T109 429Z\"/></g></g></svg><span class=\"MJX_Assistive_MathML MJX_Assistive_MathML_Block\" role=\"presentation\"/></span></div><script type=\"math/tex; mode=display\" id=\"MathJax-Element-34\">q_2</script></font></div></div></div></foreignObject><text x=\"454\" y=\"144\" fill=\"rgb(0, 0, 0)\" font-family=\"Helvetica\" font-size=\"14px\" text-anchor=\"middle\">\n",
       "q_2</text></switch></g><rect x=\"52\" y=\"121\" width=\"60\" height=\"30\" fill=\"none\" stroke=\"none\" pointer-events=\"all\"/><g transform=\"translate(-0.5 -0.5)\"><switch><foreignObject pointer-events=\"none\" width=\"100%\" height=\"100%\" requiredFeatures=\"http://www.w3.org/TR/SVG11/feature#Extensibility\" style=\"overflow: visible; text-align: left;\"><div xmlns=\"http://www.w3.org/1999/xhtml\" style=\"display: flex; align-items: unsafe center; justify-content: unsafe center; width: 58px; height: 1px; padding-top: 136px; margin-left: 53px;\"><div data-drawio-colors=\"color: rgb(0, 0, 0); \" style=\"box-sizing: border-box; font-size: 0px; text-align: center;\"><div style=\"display: inline-block; font-size: 14px; font-family: Helvetica; color: rgb(0, 0, 0); line-height: 1.2; pointer-events: all; white-space: normal; overflow-wrap: normal;\"><span class=\"MathJax_Preview\" style=\"color: inherit;\"/><div class=\"MathJax_SVG_Display\" style=\"text-align: center;\"><span class=\"MathJax_SVG\" id=\"MathJax-Element-35-Frame\" tabindex=\"0\" data-mathml=\"&lt;math xmlns=&quot;http://www.w3.org/1998/Math/MathML&quot; display=&quot;block&quot;&gt;&lt;msub&gt;&lt;mi&gt;m&lt;/mi&gt;&lt;mn&gt;1&lt;/mn&gt;&lt;/msub&gt;&lt;/math&gt;\" role=\"presentation\" style=\"font-size: 100%; display: inline-block; position: relative;\"><svg xmlns=\"http://www.w3.org/2000/svg\" xmlns:xlink=\"http://www.w3.org/1999/xlink\" width=\"3.095ex\" height=\"1.766ex\" viewBox=\"0 -525.6 1332.4 760.4\" role=\"img\" focusable=\"false\" style=\"vertical-align: -0.545ex;\" aria-hidden=\"true\"><g stroke=\"currentColor\" fill=\"currentColor\" stroke-width=\"0\" transform=\"matrix(1 0 0 -1 0 0)\"><path stroke-width=\"1\" d=\"M21 287Q22 293 24 303T36 341T56 388T88 425T132 442T175 435T205 417T221 395T229 376L231 369Q231 367 232 367L243 378Q303 442 384 442Q401 442 415 440T441 433T460 423T475 411T485 398T493 385T497 373T500 364T502 357L510 367Q573 442 659 442Q713 442 746 415T780 336Q780 285 742 178T704 50Q705 36 709 31T724 26Q752 26 776 56T815 138Q818 149 821 151T837 153Q857 153 857 145Q857 144 853 130Q845 101 831 73T785 17T716 -10Q669 -10 648 17T627 73Q627 92 663 193T700 345Q700 404 656 404H651Q565 404 506 303L499 291L466 157Q433 26 428 16Q415 -11 385 -11Q372 -11 364 -4T353 8T350 18Q350 29 384 161L420 307Q423 322 423 345Q423 404 379 404H374Q288 404 229 303L222 291L189 157Q156 26 151 16Q138 -11 108 -11Q95 -11 87 -5T76 7T74 17Q74 30 112 181Q151 335 151 342Q154 357 154 369Q154 405 129 405Q107 405 92 377T69 316T57 280Q55 278 41 278H27Q21 284 21 287Z\"/><g transform=\"translate(878,-150)\"><path stroke-width=\"1\" transform=\"scale(0.707)\" d=\"M213 578L200 573Q186 568 160 563T102 556H83V602H102Q149 604 189 617T245 641T273 663Q275 666 285 666Q294 666 302 660V361L303 61Q310 54 315 52T339 48T401 46H427V0H416Q395 3 257 3Q121 3 100 0H88V46H114Q136 46 152 46T177 47T193 50T201 52T207 57T213 61V578Z\"/></g></g></svg><span class=\"MJX_Assistive_MathML MJX_Assistive_MathML_Block\" role=\"presentation\"/></span></div><script type=\"math/tex; mode=display\" id=\"MathJax-Element-35\">m_1</script></div></div></div></foreignObject><text x=\"82\" y=\"140\" fill=\"rgb(0, 0, 0)\" font-family=\"Helvetica\" font-size=\"14px\" text-anchor=\"middle\">\n",
       "m_1</text></switch></g><rect x=\"405\" y=\"116\" width=\"60\" height=\"30\" fill=\"none\" stroke=\"none\" pointer-events=\"all\"/><g transform=\"translate(-0.5 -0.5)\"><switch><foreignObject pointer-events=\"none\" width=\"100%\" height=\"100%\" requiredFeatures=\"http://www.w3.org/TR/SVG11/feature#Extensibility\" style=\"overflow: visible; text-align: left;\"><div xmlns=\"http://www.w3.org/1999/xhtml\" style=\"display: flex; align-items: unsafe center; justify-content: unsafe center; width: 58px; height: 1px; padding-top: 131px; margin-left: 406px;\"><div data-drawio-colors=\"color: rgb(0, 0, 0); \" style=\"box-sizing: border-box; font-size: 0px; text-align: center;\"><div style=\"display: inline-block; font-size: 14px; font-family: Helvetica; color: rgb(0, 0, 0); line-height: 1.2; pointer-events: all; white-space: normal; overflow-wrap: normal;\"><span class=\"MathJax_Preview\" style=\"color: inherit;\"/><div class=\"MathJax_SVG_Display\" style=\"text-align: center;\"><span class=\"MathJax_SVG\" id=\"MathJax-Element-36-Frame\" tabindex=\"0\" data-mathml=\"&lt;math xmlns=&quot;http://www.w3.org/1998/Math/MathML&quot; display=&quot;block&quot;&gt;&lt;msub&gt;&lt;mi&gt;m&lt;/mi&gt;&lt;mn&gt;3&lt;/mn&gt;&lt;/msub&gt;&lt;/math&gt;\" role=\"presentation\" style=\"font-size: 100%; display: inline-block; position: relative;\"><svg xmlns=\"http://www.w3.org/2000/svg\" xmlns:xlink=\"http://www.w3.org/1999/xlink\" width=\"3.095ex\" height=\"1.766ex\" viewBox=\"0 -525.6 1332.4 760.4\" role=\"img\" focusable=\"false\" style=\"vertical-align: -0.545ex;\" aria-hidden=\"true\"><g stroke=\"currentColor\" fill=\"currentColor\" stroke-width=\"0\" transform=\"matrix(1 0 0 -1 0 0)\"><path stroke-width=\"1\" d=\"M21 287Q22 293 24 303T36 341T56 388T88 425T132 442T175 435T205 417T221 395T229 376L231 369Q231 367 232 367L243 378Q303 442 384 442Q401 442 415 440T441 433T460 423T475 411T485 398T493 385T497 373T500 364T502 357L510 367Q573 442 659 442Q713 442 746 415T780 336Q780 285 742 178T704 50Q705 36 709 31T724 26Q752 26 776 56T815 138Q818 149 821 151T837 153Q857 153 857 145Q857 144 853 130Q845 101 831 73T785 17T716 -10Q669 -10 648 17T627 73Q627 92 663 193T700 345Q700 404 656 404H651Q565 404 506 303L499 291L466 157Q433 26 428 16Q415 -11 385 -11Q372 -11 364 -4T353 8T350 18Q350 29 384 161L420 307Q423 322 423 345Q423 404 379 404H374Q288 404 229 303L222 291L189 157Q156 26 151 16Q138 -11 108 -11Q95 -11 87 -5T76 7T74 17Q74 30 112 181Q151 335 151 342Q154 357 154 369Q154 405 129 405Q107 405 92 377T69 316T57 280Q55 278 41 278H27Q21 284 21 287Z\"/><g transform=\"translate(878,-150)\"><path stroke-width=\"1\" transform=\"scale(0.707)\" d=\"M127 463Q100 463 85 480T69 524Q69 579 117 622T233 665Q268 665 277 664Q351 652 390 611T430 522Q430 470 396 421T302 350L299 348Q299 347 308 345T337 336T375 315Q457 262 457 175Q457 96 395 37T238 -22Q158 -22 100 21T42 130Q42 158 60 175T105 193Q133 193 151 175T169 130Q169 119 166 110T159 94T148 82T136 74T126 70T118 67L114 66Q165 21 238 21Q293 21 321 74Q338 107 338 175V195Q338 290 274 322Q259 328 213 329L171 330L168 332Q166 335 166 348Q166 366 174 366Q202 366 232 371Q266 376 294 413T322 525V533Q322 590 287 612Q265 626 240 626Q208 626 181 615T143 592T132 580H135Q138 579 143 578T153 573T165 566T175 555T183 540T186 520Q186 498 172 481T127 463Z\"/></g></g></svg><span class=\"MJX_Assistive_MathML MJX_Assistive_MathML_Block\" role=\"presentation\"/></span></div><script type=\"math/tex; mode=display\" id=\"MathJax-Element-36\">m_3</script></div></div></div></foreignObject><text x=\"435\" y=\"135\" fill=\"rgb(0, 0, 0)\" font-family=\"Helvetica\" font-size=\"14px\" text-anchor=\"middle\">\n",
       "m_3</text></switch></g><path d=\"M 68.37 36 L 415.63 36\" fill=\"none\" stroke=\"rgb(0, 0, 0)\" stroke-miterlimit=\"10\" pointer-events=\"stroke\"/><path d=\"M 63.12 36 L 70.12 32.5 L 68.37 36 L 70.12 39.5 Z\" fill=\"rgb(0, 0, 0)\" stroke=\"rgb(0, 0, 0)\" stroke-miterlimit=\"10\" pointer-events=\"all\"/><path d=\"M 420.88 36 L 413.88 39.5 L 415.63 36 L 413.88 32.5 Z\" fill=\"rgb(0, 0, 0)\" stroke=\"rgb(0, 0, 0)\" stroke-miterlimit=\"10\" pointer-events=\"all\"/><path d=\"M 422 146 L 421.76 36\" fill=\"none\" stroke=\"rgb(0, 0, 0)\" stroke-miterlimit=\"10\" stroke-dasharray=\"3 3\" pointer-events=\"stroke\"/><path d=\"M 62 75 L 61.86 35\" fill=\"none\" stroke=\"rgb(0, 0, 0)\" stroke-miterlimit=\"10\" stroke-dasharray=\"3 3\" pointer-events=\"stroke\"/><rect x=\"232\" y=\"7\" width=\"60\" height=\"30\" fill=\"none\" stroke=\"none\" pointer-events=\"all\"/><g transform=\"translate(-0.5 -0.5)\"><switch><foreignObject pointer-events=\"none\" width=\"100%\" height=\"100%\" requiredFeatures=\"http://www.w3.org/TR/SVG11/feature#Extensibility\" style=\"overflow: visible; text-align: left;\"><div xmlns=\"http://www.w3.org/1999/xhtml\" style=\"display: flex; align-items: unsafe center; justify-content: unsafe center; width: 58px; height: 1px; padding-top: 22px; margin-left: 233px;\"><div data-drawio-colors=\"color: rgb(0, 0, 0); \" style=\"box-sizing: border-box; font-size: 0px; text-align: center;\"><div style=\"display: inline-block; font-size: 14px; font-family: Helvetica; color: rgb(0, 0, 0); line-height: 1.2; pointer-events: all; white-space: normal; overflow-wrap: normal;\"><span class=\"MathJax_Preview\" style=\"color: inherit;\"/><div class=\"MathJax_SVG_Display\" style=\"text-align: center;\"><span class=\"MathJax_SVG\" id=\"MathJax-Element-37-Frame\" tabindex=\"0\" data-mathml=\"&lt;math xmlns=&quot;http://www.w3.org/1998/Math/MathML&quot; display=&quot;block&quot;&gt;&lt;msub&gt;&lt;mi&gt;l&lt;/mi&gt;&lt;mn&gt;0&lt;/mn&gt;&lt;/msub&gt;&lt;/math&gt;\" role=\"presentation\" style=\"font-size: 100%; display: inline-block; position: relative;\"><svg xmlns=\"http://www.w3.org/2000/svg\" xmlns:xlink=\"http://www.w3.org/1999/xlink\" width=\"1.748ex\" height=\"2.307ex\" viewBox=\"0 -758.4 752.4 993.1\" role=\"img\" focusable=\"false\" style=\"vertical-align: -0.545ex;\" aria-hidden=\"true\"><g stroke=\"currentColor\" fill=\"currentColor\" stroke-width=\"0\" transform=\"matrix(1 0 0 -1 0 0)\"><path stroke-width=\"1\" d=\"M117 59Q117 26 142 26Q179 26 205 131Q211 151 215 152Q217 153 225 153H229Q238 153 241 153T246 151T248 144Q247 138 245 128T234 90T214 43T183 6T137 -11Q101 -11 70 11T38 85Q38 97 39 102L104 360Q167 615 167 623Q167 626 166 628T162 632T157 634T149 635T141 636T132 637T122 637Q112 637 109 637T101 638T95 641T94 647Q94 649 96 661Q101 680 107 682T179 688Q194 689 213 690T243 693T254 694Q266 694 266 686Q266 675 193 386T118 83Q118 81 118 75T117 65V59Z\"/><g transform=\"translate(298,-150)\"><path stroke-width=\"1\" transform=\"scale(0.707)\" d=\"M96 585Q152 666 249 666Q297 666 345 640T423 548Q460 465 460 320Q460 165 417 83Q397 41 362 16T301 -15T250 -22Q224 -22 198 -16T137 16T82 83Q39 165 39 320Q39 494 96 585ZM321 597Q291 629 250 629Q208 629 178 597Q153 571 145 525T137 333Q137 175 145 125T181 46Q209 16 250 16Q290 16 318 46Q347 76 354 130T362 333Q362 478 354 524T321 597Z\"/></g></g></svg><span class=\"MJX_Assistive_MathML MJX_Assistive_MathML_Block\" role=\"presentation\"/></span></div><script type=\"math/tex; mode=display\" id=\"MathJax-Element-37\">l_0</script></div></div></div></foreignObject><text x=\"262\" y=\"26\" fill=\"rgb(0, 0, 0)\" font-family=\"Helvetica\" font-size=\"14px\" text-anchor=\"middle\">\n",
       "l_0</text></switch></g><rect x=\"97\" y=\"205\" width=\"70\" height=\"20\" fill=\"none\" stroke=\"none\" pointer-events=\"all\"/><g transform=\"translate(-0.5 -0.5)\"><switch><foreignObject pointer-events=\"none\" width=\"100%\" height=\"100%\" requiredFeatures=\"http://www.w3.org/TR/SVG11/feature#Extensibility\" style=\"overflow: visible; text-align: left;\"><div xmlns=\"http://www.w3.org/1999/xhtml\" style=\"display: flex; align-items: unsafe center; justify-content: unsafe center; width: 1px; height: 1px; padding-top: 215px; margin-left: 132px;\"><div data-drawio-colors=\"color: rgb(0, 0, 0); \" style=\"box-sizing: border-box; font-size: 0px; text-align: center;\"><div style=\"display: inline-block; font-size: 12px; font-family: Helvetica; color: rgb(0, 0, 0); line-height: 1.2; pointer-events: all; white-space: nowrap;\"><span style=\"font-size: 14px\"><span class=\"MathJax_Preview\" style=\"color: inherit;\"/><div class=\"MathJax_SVG_Display\" style=\"text-align: center;\"><span class=\"MathJax_SVG\" id=\"MathJax-Element-38-Frame\" tabindex=\"0\" data-mathml=\"&lt;math xmlns=&quot;http://www.w3.org/1998/Math/MathML&quot; display=&quot;block&quot;&gt;&lt;msub&gt;&lt;mi&gt;l&lt;/mi&gt;&lt;mn&gt;1&lt;/mn&gt;&lt;/msub&gt;&lt;/math&gt;\" role=\"presentation\" style=\"font-size: 100%; display: inline-block; position: relative;\"><svg xmlns=\"http://www.w3.org/2000/svg\" xmlns:xlink=\"http://www.w3.org/1999/xlink\" width=\"1.748ex\" height=\"2.307ex\" viewBox=\"0 -758.4 752.4 993.1\" role=\"img\" focusable=\"false\" style=\"vertical-align: -0.545ex;\" aria-hidden=\"true\"><g stroke=\"currentColor\" fill=\"currentColor\" stroke-width=\"0\" transform=\"matrix(1 0 0 -1 0 0)\"><path stroke-width=\"1\" d=\"M117 59Q117 26 142 26Q179 26 205 131Q211 151 215 152Q217 153 225 153H229Q238 153 241 153T246 151T248 144Q247 138 245 128T234 90T214 43T183 6T137 -11Q101 -11 70 11T38 85Q38 97 39 102L104 360Q167 615 167 623Q167 626 166 628T162 632T157 634T149 635T141 636T132 637T122 637Q112 637 109 637T101 638T95 641T94 647Q94 649 96 661Q101 680 107 682T179 688Q194 689 213 690T243 693T254 694Q266 694 266 686Q266 675 193 386T118 83Q118 81 118 75T117 65V59Z\"/><g transform=\"translate(298,-150)\"><path stroke-width=\"1\" transform=\"scale(0.707)\" d=\"M213 578L200 573Q186 568 160 563T102 556H83V602H102Q149 604 189 617T245 641T273 663Q275 666 285 666Q294 666 302 660V361L303 61Q310 54 315 52T339 48T401 46H427V0H416Q395 3 257 3Q121 3 100 0H88V46H114Q136 46 152 46T177 47T193 50T201 52T207 57T213 61V578Z\"/></g></g></svg><span class=\"MJX_Assistive_MathML MJX_Assistive_MathML_Block\" role=\"presentation\"/></span></div><script type=\"math/tex; mode=display\" id=\"MathJax-Element-38\">l_1 </script></span></div></div></div></foreignObject><text x=\"132\" y=\"219\" fill=\"rgb(0, 0, 0)\" font-family=\"Helvetica\" font-size=\"12px\" text-anchor=\"middle\">\n",
       "l_1 </text></switch></g><rect x=\"354\" y=\"185\" width=\"70\" height=\"20\" fill=\"none\" stroke=\"none\" pointer-events=\"all\"/><g transform=\"translate(-0.5 -0.5)\"><switch><foreignObject pointer-events=\"none\" width=\"100%\" height=\"100%\" requiredFeatures=\"http://www.w3.org/TR/SVG11/feature#Extensibility\" style=\"overflow: visible; text-align: left;\"><div xmlns=\"http://www.w3.org/1999/xhtml\" style=\"display: flex; align-items: unsafe center; justify-content: unsafe center; width: 1px; height: 1px; padding-top: 195px; margin-left: 389px;\"><div data-drawio-colors=\"color: rgb(0, 0, 0); \" style=\"box-sizing: border-box; font-size: 0px; text-align: center;\"><div style=\"display: inline-block; font-size: 12px; font-family: Helvetica; color: rgb(0, 0, 0); line-height: 1.2; pointer-events: all; white-space: nowrap;\"><span style=\"font-size: 14px\"><span class=\"MathJax_Preview\" style=\"color: inherit;\"/><div class=\"MathJax_SVG_Display\" style=\"text-align: center;\"><span class=\"MathJax_SVG\" id=\"MathJax-Element-39-Frame\" tabindex=\"0\" data-mathml=\"&lt;math xmlns=&quot;http://www.w3.org/1998/Math/MathML&quot; display=&quot;block&quot;&gt;&lt;msub&gt;&lt;mi&gt;l&lt;/mi&gt;&lt;mn&gt;3&lt;/mn&gt;&lt;/msub&gt;&lt;/math&gt;\" role=\"presentation\" style=\"font-size: 100%; display: inline-block; position: relative;\"><svg xmlns=\"http://www.w3.org/2000/svg\" xmlns:xlink=\"http://www.w3.org/1999/xlink\" width=\"1.748ex\" height=\"2.307ex\" viewBox=\"0 -758.4 752.4 993.1\" role=\"img\" focusable=\"false\" style=\"vertical-align: -0.545ex;\" aria-hidden=\"true\"><g stroke=\"currentColor\" fill=\"currentColor\" stroke-width=\"0\" transform=\"matrix(1 0 0 -1 0 0)\"><path stroke-width=\"1\" d=\"M117 59Q117 26 142 26Q179 26 205 131Q211 151 215 152Q217 153 225 153H229Q238 153 241 153T246 151T248 144Q247 138 245 128T234 90T214 43T183 6T137 -11Q101 -11 70 11T38 85Q38 97 39 102L104 360Q167 615 167 623Q167 626 166 628T162 632T157 634T149 635T141 636T132 637T122 637Q112 637 109 637T101 638T95 641T94 647Q94 649 96 661Q101 680 107 682T179 688Q194 689 213 690T243 693T254 694Q266 694 266 686Q266 675 193 386T118 83Q118 81 118 75T117 65V59Z\"/><g transform=\"translate(298,-150)\"><path stroke-width=\"1\" transform=\"scale(0.707)\" d=\"M127 463Q100 463 85 480T69 524Q69 579 117 622T233 665Q268 665 277 664Q351 652 390 611T430 522Q430 470 396 421T302 350L299 348Q299 347 308 345T337 336T375 315Q457 262 457 175Q457 96 395 37T238 -22Q158 -22 100 21T42 130Q42 158 60 175T105 193Q133 193 151 175T169 130Q169 119 166 110T159 94T148 82T136 74T126 70T118 67L114 66Q165 21 238 21Q293 21 321 74Q338 107 338 175V195Q338 290 274 322Q259 328 213 329L171 330L168 332Q166 335 166 348Q166 366 174 366Q202 366 232 371Q266 376 294 413T322 525V533Q322 590 287 612Q265 626 240 626Q208 626 181 615T143 592T132 580H135Q138 579 143 578T153 573T165 566T175 555T183 540T186 520Q186 498 172 481T127 463Z\"/></g></g></svg><span class=\"MJX_Assistive_MathML MJX_Assistive_MathML_Block\" role=\"presentation\"/></span></div><script type=\"math/tex; mode=display\" id=\"MathJax-Element-39\">l_3</script></span></div></div></div></foreignObject><text x=\"389\" y=\"199\" fill=\"rgb(0, 0, 0)\" font-family=\"Helvetica\" font-size=\"12px\" text-anchor=\"middle\">\n",
       "l_3</text></switch></g><path d=\"M 328 308 L 189 308\" fill=\"none\" stroke=\"rgb(0, 0, 0)\" stroke-miterlimit=\"10\" stroke-dasharray=\"3 3\" pointer-events=\"stroke\"/><rect x=\"257\" y=\"278\" width=\"60\" height=\"30\" fill=\"none\" stroke=\"none\" pointer-events=\"all\"/><g transform=\"translate(-0.5 -0.5)\"><switch><foreignObject pointer-events=\"none\" width=\"100%\" height=\"100%\" requiredFeatures=\"http://www.w3.org/TR/SVG11/feature#Extensibility\" style=\"overflow: visible; text-align: left;\"><div xmlns=\"http://www.w3.org/1999/xhtml\" style=\"display: flex; align-items: unsafe center; justify-content: unsafe center; width: 58px; height: 1px; padding-top: 293px; margin-left: 258px;\"><div data-drawio-colors=\"color: rgb(0, 0, 0); \" style=\"box-sizing: border-box; font-size: 0px; text-align: center;\"><div style=\"display: inline-block; font-size: 14px; font-family: Helvetica; color: rgb(0, 0, 0); line-height: 1.2; pointer-events: all; white-space: normal; overflow-wrap: normal;\"><font color=\"#82b366\"><span class=\"MathJax_Preview\" style=\"color: inherit;\"/><div class=\"MathJax_SVG_Display\" style=\"text-align: center;\"><span class=\"MathJax_SVG\" id=\"MathJax-Element-45-Frame\" tabindex=\"0\" data-mathml=\"&lt;math xmlns=&quot;http://www.w3.org/1998/Math/MathML&quot; display=&quot;block&quot;&gt;&lt;msub&gt;&lt;mi&gt;p&lt;/mi&gt;&lt;mn&gt;3&lt;/mn&gt;&lt;/msub&gt;&lt;/math&gt;\" role=\"presentation\" style=\"font-size: 100%; display: inline-block; position: relative;\"><svg xmlns=\"http://www.w3.org/2000/svg\" xmlns:xlink=\"http://www.w3.org/1999/xlink\" width=\"2.313ex\" height=\"1.901ex\" viewBox=\"-38.5 -525.6 995.9 818.6\" role=\"img\" focusable=\"false\" style=\"vertical-align: -0.68ex; margin-left: -0.089ex;\" aria-hidden=\"true\"><g stroke=\"currentColor\" fill=\"currentColor\" stroke-width=\"0\" transform=\"matrix(1 0 0 -1 0 0)\"><path stroke-width=\"1\" d=\"M23 287Q24 290 25 295T30 317T40 348T55 381T75 411T101 433T134 442Q209 442 230 378L240 387Q302 442 358 442Q423 442 460 395T497 281Q497 173 421 82T249 -10Q227 -10 210 -4Q199 1 187 11T168 28L161 36Q160 35 139 -51T118 -138Q118 -144 126 -145T163 -148H188Q194 -155 194 -157T191 -175Q188 -187 185 -190T172 -194Q170 -194 161 -194T127 -193T65 -192Q-5 -192 -24 -194H-32Q-39 -187 -39 -183Q-37 -156 -26 -148H-6Q28 -147 33 -136Q36 -130 94 103T155 350Q156 355 156 364Q156 405 131 405Q109 405 94 377T71 316T59 280Q57 278 43 278H29Q23 284 23 287ZM178 102Q200 26 252 26Q282 26 310 49T356 107Q374 141 392 215T411 325V331Q411 405 350 405Q339 405 328 402T306 393T286 380T269 365T254 350T243 336T235 326L232 322Q232 321 229 308T218 264T204 212Q178 106 178 102Z\"/><g transform=\"translate(503,-150)\"><path stroke-width=\"1\" transform=\"scale(0.707)\" d=\"M127 463Q100 463 85 480T69 524Q69 579 117 622T233 665Q268 665 277 664Q351 652 390 611T430 522Q430 470 396 421T302 350L299 348Q299 347 308 345T337 336T375 315Q457 262 457 175Q457 96 395 37T238 -22Q158 -22 100 21T42 130Q42 158 60 175T105 193Q133 193 151 175T169 130Q169 119 166 110T159 94T148 82T136 74T126 70T118 67L114 66Q165 21 238 21Q293 21 321 74Q338 107 338 175V195Q338 290 274 322Q259 328 213 329L171 330L168 332Q166 335 166 348Q166 366 174 366Q202 366 232 371Q266 376 294 413T322 525V533Q322 590 287 612Q265 626 240 626Q208 626 181 615T143 592T132 580H135Q138 579 143 578T153 573T165 566T175 555T183 540T186 520Q186 498 172 481T127 463Z\"/></g></g></svg><span class=\"MJX_Assistive_MathML MJX_Assistive_MathML_Block\" role=\"presentation\"/></span></div><script type=\"math/tex; mode=display\" id=\"MathJax-Element-45\">p_3</script></font></div></div></div></foreignObject><text x=\"287\" y=\"297\" fill=\"rgb(0, 0, 0)\" font-family=\"Helvetica\" font-size=\"14px\" text-anchor=\"middle\">\n",
       "p_3</text></switch></g><path d=\"M 309.67 285.23 C 312.85 292.04 314.5 299.47 314.5 307\" fill=\"none\" stroke=\"#82b366\" stroke-miterlimit=\"10\" pointer-events=\"all\"/><path d=\"M 310 286 L 306.91 282.03\" fill=\"none\" stroke=\"#82b366\" stroke-miterlimit=\"10\" pointer-events=\"stroke\"/><path d=\"M 303.69 277.88 L 310.75 281.26 L 306.91 282.03 L 305.22 285.56 Z\" fill=\"#82b366\" stroke=\"#82b366\" stroke-miterlimit=\"10\" pointer-events=\"all\"/><path d=\"M 287 156 L 286.84 263.63\" fill=\"none\" stroke=\"#82b366\" stroke-miterlimit=\"10\" pointer-events=\"stroke\"/><path d=\"M 286.83 268.88 L 283.34 261.88 L 286.84 263.63 L 290.34 261.89 Z\" fill=\"#82b366\" stroke=\"#82b366\" stroke-miterlimit=\"10\" pointer-events=\"all\"/><path d=\"M 62 276 L 274.63 275.83\" fill=\"none\" stroke=\"#82b366\" stroke-miterlimit=\"10\" pointer-events=\"stroke\"/><path d=\"M 279.88 275.83 L 272.88 279.34 L 274.63 275.83 L 272.88 272.34 Z\" fill=\"#82b366\" stroke=\"#82b366\" stroke-miterlimit=\"10\" pointer-events=\"all\"/><rect x=\"272\" y=\"195\" width=\"60\" height=\"30\" fill=\"none\" stroke=\"none\" pointer-events=\"all\"/><g transform=\"translate(-0.5 -0.5)\"><switch><foreignObject pointer-events=\"none\" width=\"100%\" height=\"100%\" requiredFeatures=\"http://www.w3.org/TR/SVG11/feature#Extensibility\" style=\"overflow: visible; text-align: left;\"><div xmlns=\"http://www.w3.org/1999/xhtml\" style=\"display: flex; align-items: unsafe center; justify-content: unsafe center; width: 58px; height: 1px; padding-top: 210px; margin-left: 273px;\"><div data-drawio-colors=\"color: rgb(0, 0, 0); \" style=\"box-sizing: border-box; font-size: 0px; text-align: center;\"><div style=\"display: inline-block; font-size: 14px; font-family: Helvetica; color: rgb(0, 0, 0); line-height: 1.2; pointer-events: all; white-space: normal; overflow-wrap: normal;\"><font color=\"#82b366\"><span class=\"MathJax_Preview\" style=\"color: inherit;\"/><div class=\"MathJax_SVG_Display\" style=\"text-align: center;\"><span class=\"MathJax_SVG\" id=\"MathJax-Element-49-Frame\" tabindex=\"0\" data-mathml=\"&lt;math xmlns=&quot;http://www.w3.org/1998/Math/MathML&quot; display=&quot;block&quot;&gt;&lt;msub&gt;&lt;mi&gt;p&lt;/mi&gt;&lt;mn&gt;2&lt;/mn&gt;&lt;/msub&gt;&lt;/math&gt;\" role=\"presentation\" style=\"font-size: 100%; display: inline-block; position: relative;\"><svg xmlns=\"http://www.w3.org/2000/svg\" xmlns:xlink=\"http://www.w3.org/1999/xlink\" width=\"2.313ex\" height=\"1.901ex\" viewBox=\"-38.5 -525.6 995.9 818.6\" role=\"img\" focusable=\"false\" style=\"vertical-align: -0.68ex; margin-left: -0.089ex;\" aria-hidden=\"true\"><g stroke=\"currentColor\" fill=\"currentColor\" stroke-width=\"0\" transform=\"matrix(1 0 0 -1 0 0)\"><path stroke-width=\"1\" d=\"M23 287Q24 290 25 295T30 317T40 348T55 381T75 411T101 433T134 442Q209 442 230 378L240 387Q302 442 358 442Q423 442 460 395T497 281Q497 173 421 82T249 -10Q227 -10 210 -4Q199 1 187 11T168 28L161 36Q160 35 139 -51T118 -138Q118 -144 126 -145T163 -148H188Q194 -155 194 -157T191 -175Q188 -187 185 -190T172 -194Q170 -194 161 -194T127 -193T65 -192Q-5 -192 -24 -194H-32Q-39 -187 -39 -183Q-37 -156 -26 -148H-6Q28 -147 33 -136Q36 -130 94 103T155 350Q156 355 156 364Q156 405 131 405Q109 405 94 377T71 316T59 280Q57 278 43 278H29Q23 284 23 287ZM178 102Q200 26 252 26Q282 26 310 49T356 107Q374 141 392 215T411 325V331Q411 405 350 405Q339 405 328 402T306 393T286 380T269 365T254 350T243 336T235 326L232 322Q232 321 229 308T218 264T204 212Q178 106 178 102Z\"/><g transform=\"translate(503,-150)\"><path stroke-width=\"1\" transform=\"scale(0.707)\" d=\"M109 429Q82 429 66 447T50 491Q50 562 103 614T235 666Q326 666 387 610T449 465Q449 422 429 383T381 315T301 241Q265 210 201 149L142 93L218 92Q375 92 385 97Q392 99 409 186V189H449V186Q448 183 436 95T421 3V0H50V19V31Q50 38 56 46T86 81Q115 113 136 137Q145 147 170 174T204 211T233 244T261 278T284 308T305 340T320 369T333 401T340 431T343 464Q343 527 309 573T212 619Q179 619 154 602T119 569T109 550Q109 549 114 549Q132 549 151 535T170 489Q170 464 154 447T109 429Z\"/></g></g></svg><span class=\"MJX_Assistive_MathML MJX_Assistive_MathML_Block\" role=\"presentation\"/></span></div><script type=\"math/tex; mode=display\" id=\"MathJax-Element-49\">p_2</script></font></div></div></div></foreignObject><text x=\"302\" y=\"214\" fill=\"rgb(0, 0, 0)\" font-family=\"Helvetica\" font-size=\"14px\" text-anchor=\"middle\">\n",
       "p_2</text></switch></g><rect x=\"162\" y=\"248\" width=\"60\" height=\"30\" fill=\"none\" stroke=\"none\" pointer-events=\"all\"/><g transform=\"translate(-0.5 -0.5)\"><switch><foreignObject pointer-events=\"none\" width=\"100%\" height=\"100%\" requiredFeatures=\"http://www.w3.org/TR/SVG11/feature#Extensibility\" style=\"overflow: visible; text-align: left;\"><div xmlns=\"http://www.w3.org/1999/xhtml\" style=\"display: flex; align-items: unsafe center; justify-content: unsafe center; width: 58px; height: 1px; padding-top: 263px; margin-left: 163px;\"><div data-drawio-colors=\"color: rgb(0, 0, 0); \" style=\"box-sizing: border-box; font-size: 0px; text-align: center;\"><div style=\"display: inline-block; font-size: 14px; font-family: Helvetica; color: rgb(0, 0, 0); line-height: 1.2; pointer-events: all; white-space: normal; overflow-wrap: normal;\"><font color=\"#82b366\"><span class=\"MathJax_Preview\" style=\"color: inherit;\"/><div class=\"MathJax_SVG_Display\" style=\"text-align: center;\"><span class=\"MathJax_SVG\" id=\"MathJax-Element-48-Frame\" tabindex=\"0\" data-mathml=\"&lt;math xmlns=&quot;http://www.w3.org/1998/Math/MathML&quot; display=&quot;block&quot;&gt;&lt;msub&gt;&lt;mi&gt;p&lt;/mi&gt;&lt;mn&gt;1&lt;/mn&gt;&lt;/msub&gt;&lt;/math&gt;\" role=\"presentation\" style=\"font-size: 100%; display: inline-block; position: relative;\"><svg xmlns=\"http://www.w3.org/2000/svg\" xmlns:xlink=\"http://www.w3.org/1999/xlink\" width=\"2.313ex\" height=\"1.901ex\" viewBox=\"-38.5 -525.6 995.9 818.6\" role=\"img\" focusable=\"false\" style=\"vertical-align: -0.68ex; margin-left: -0.089ex;\" aria-hidden=\"true\"><g stroke=\"currentColor\" fill=\"currentColor\" stroke-width=\"0\" transform=\"matrix(1 0 0 -1 0 0)\"><path stroke-width=\"1\" d=\"M23 287Q24 290 25 295T30 317T40 348T55 381T75 411T101 433T134 442Q209 442 230 378L240 387Q302 442 358 442Q423 442 460 395T497 281Q497 173 421 82T249 -10Q227 -10 210 -4Q199 1 187 11T168 28L161 36Q160 35 139 -51T118 -138Q118 -144 126 -145T163 -148H188Q194 -155 194 -157T191 -175Q188 -187 185 -190T172 -194Q170 -194 161 -194T127 -193T65 -192Q-5 -192 -24 -194H-32Q-39 -187 -39 -183Q-37 -156 -26 -148H-6Q28 -147 33 -136Q36 -130 94 103T155 350Q156 355 156 364Q156 405 131 405Q109 405 94 377T71 316T59 280Q57 278 43 278H29Q23 284 23 287ZM178 102Q200 26 252 26Q282 26 310 49T356 107Q374 141 392 215T411 325V331Q411 405 350 405Q339 405 328 402T306 393T286 380T269 365T254 350T243 336T235 326L232 322Q232 321 229 308T218 264T204 212Q178 106 178 102Z\"/><g transform=\"translate(503,-150)\"><path stroke-width=\"1\" transform=\"scale(0.707)\" d=\"M213 578L200 573Q186 568 160 563T102 556H83V602H102Q149 604 189 617T245 641T273 663Q275 666 285 666Q294 666 302 660V361L303 61Q310 54 315 52T339 48T401 46H427V0H416Q395 3 257 3Q121 3 100 0H88V46H114Q136 46 152 46T177 47T193 50T201 52T207 57T213 61V578Z\"/></g></g></svg><span class=\"MJX_Assistive_MathML MJX_Assistive_MathML_Block\" role=\"presentation\"/></span></div><script type=\"math/tex; mode=display\" id=\"MathJax-Element-48\">p_1</script></font></div></div></div></foreignObject><text x=\"192\" y=\"267\" fill=\"rgb(0, 0, 0)\" font-family=\"Helvetica\" font-size=\"14px\" text-anchor=\"middle\">\n",
       "p_1</text></switch></g></g><switch><g requiredFeatures=\"http://www.w3.org/TR/SVG11/feature#Extensibility\"/><a transform=\"translate(0,-5)\" xlink:href=\"https://www.diagrams.net/doc/faq/svg-export-text-problems\" target=\"_blank\"><text text-anchor=\"middle\" font-size=\"10px\" x=\"50%\" y=\"100%\">Text is not SVG - cannot display</text></a></switch></svg>"
      ],
      "text/plain": [
       "<IPython.core.display.SVG object>"
      ]
     },
     "execution_count": 3,
     "metadata": {},
     "output_type": "execute_result"
    }
   ],
   "source": [
    "from IPython.display import Image\n",
    "from IPython.core.display import SVG\n",
    "SVG(filename='ODE_flatness_analysis_simulation_diagram.svg')"
   ]
  },
  {
   "cell_type": "code",
   "execution_count": 4,
   "metadata": {
    "scrolled": true
   },
   "outputs": [
    {
     "data": {
      "text/latex": [
       "aa.T := $\\displaystyle \\left[\\begin{matrix}a_{1} & a_{2} & a_{3} & a_{4}\\end{matrix}\\right]$"
      ],
      "text/plain": [
       "aa.T := [a₁  a₂  a₃  a₄]"
      ]
     },
     "metadata": {},
     "output_type": "display_data"
    },
    {
     "data": {
      "text/plain": [
       "---"
      ]
     },
     "metadata": {},
     "output_type": "display_data"
    },
    {
     "data": {
      "text/latex": [
       "ttheta.T := $\\displaystyle \\left[\\begin{matrix}p_{1} & p_{2} & p_{3} & q_{1} & q_{2}\\end{matrix}\\right]$"
      ],
      "text/plain": [
       "ttheta.T := [p₁  p₂  p₃  q₁  q₂]"
      ]
     },
     "metadata": {},
     "output_type": "display_data"
    },
    {
     "data": {
      "text/plain": [
       "---"
      ]
     },
     "metadata": {},
     "output_type": "display_data"
    },
    {
     "data": {
      "text/latex": [
       "tthetad.T := $\\displaystyle \\left[\\begin{matrix}\\dot{p}_{1} & \\dot{p}_{2} & \\dot{p}_{3} & \\dot{q}_{1} & \\dot{q}_{2}\\end{matrix}\\right]$"
      ],
      "text/plain": [
       "tthetad.T := [ṗ₁  ṗ₂  ṗ₃  q̇₁  q̇₂]"
      ]
     },
     "metadata": {},
     "output_type": "display_data"
    },
    {
     "data": {
      "text/plain": [
       "---"
      ]
     },
     "metadata": {},
     "output_type": "display_data"
    },
    {
     "data": {
      "text/latex": [
       "tthetadd.T := $\\displaystyle \\left[\\begin{matrix}\\ddot{p}_{1} & \\ddot{p}_{2} & \\ddot{p}_{3} & \\ddot{q}_{1} & \\ddot{q}_{2}\\end{matrix}\\right]$"
      ],
      "text/plain": [
       "tthetadd.T := [p̈₁  p̈₂  p̈₃  q̈₁  q̈₂]"
      ]
     },
     "metadata": {},
     "output_type": "display_data"
    },
    {
     "data": {
      "text/plain": [
       "---"
      ]
     },
     "metadata": {},
     "output_type": "display_data"
    },
    {
     "data": {
      "text/latex": [
       "QQ.T := $\\displaystyle \\left[\\begin{matrix}Q_{1} & Q_{2} & Q_{3} & Q_{4} & Q_{5}\\end{matrix}\\right]$"
      ],
      "text/plain": [
       "QQ.T := [Q₁  Q₂  Q₃  Q₄  Q₅]"
      ]
     },
     "metadata": {},
     "output_type": "display_data"
    },
    {
     "data": {
      "text/plain": [
       "---"
      ]
     },
     "metadata": {},
     "output_type": "display_data"
    }
   ],
   "source": [
    "t = sp.Symbol('t')  # time variable\n",
    "\n",
    "# coordinates\n",
    "np = 3 # number of passive coordinates (not directly actuated)\n",
    "nq = 2 # number of actuated coordinates\n",
    "n = np + nq\n",
    "\n",
    "pp = st.symb_vector(\"p1:{0}\".format(np+1)) # vector of passive coordinates\n",
    "qq = st.symb_vector(\"q1:{0}\".format(nq+1)) # vector of actuated coordinates\n",
    "\n",
    "\n",
    "\n",
    "# vector of control inputs\n",
    "aa = st.symb_vector(\"a1:{0}\".format(4+1)) ##:T\n",
    "# vector of all coordinates\n",
    "ttheta = st.row_stack(pp, qq) ##:T\n",
    "# vector of velocities \n",
    "tthetad = st.time_deriv(ttheta, ttheta) ##:T\n",
    "# vector of accelerations\n",
    "tthetadd = st.time_deriv(ttheta, ttheta, order=2) ##:T\n",
    "\n",
    "st.make_global(ttheta, tthetad, tthetadd)\n",
    "\n",
    "QQ = st.symb_vector(\"Q1:{0}\".format(n+1)) ##:T # vector of generalized foces\n",
    "st.make_global(QQ)"
   ]
  },
  {
   "cell_type": "code",
   "execution_count": 5,
   "metadata": {},
   "outputs": [],
   "source": [
    "# symbols for analytic equations\n",
    "params = sp.symbols('s2, m1, m2, m3, J1, J2, J3, mc1b, mc2b d1, d4, l0, l1, l2, l3, g')\n",
    "st.make_global(params)\n",
    "\n",
    "# symbols for control inputs\n",
    "# ttau = sp.symbols('tau')\n",
    "tau1, tau2, tau3, tau4 = ttau = st.symb_vector(\"tau1, tau2, tau3, tau4\")\n"
   ]
  },
  {
   "cell_type": "markdown",
   "metadata": {},
   "source": [
    "Specify the geometry (joints G and centers of masses S)"
   ]
  },
  {
   "cell_type": "code",
   "execution_count": 8,
   "metadata": {},
   "outputs": [
    {
     "data": {
      "text/latex": [
       "B1 := $\\displaystyle \\left[\\begin{matrix}q_{1}\\\\0\\end{matrix}\\right]$"
      ],
      "text/plain": [
       "B1 := ⎡q₁⎤\n",
       "⎢  ⎥\n",
       "⎣0 ⎦"
      ]
     },
     "metadata": {},
     "output_type": "display_data"
    },
    {
     "data": {
      "text/plain": [
       "---"
      ]
     },
     "metadata": {},
     "output_type": "display_data"
    },
    {
     "data": {
      "text/latex": [
       "B2 := $\\displaystyle \\left[\\begin{matrix}l_{0} + q_{2}\\\\0\\end{matrix}\\right]$"
      ],
      "text/plain": [
       "B2 := ⎡l₀ + q₂⎤\n",
       "⎢       ⎥\n",
       "⎣   0   ⎦"
      ]
     },
     "metadata": {},
     "output_type": "display_data"
    },
    {
     "data": {
      "text/plain": [
       "---"
      ]
     },
     "metadata": {},
     "output_type": "display_data"
    },
    {
     "data": {
      "text/latex": [
       "G3 := $\\displaystyle \\left[\\begin{matrix}p_{1} - s_{2} \\cos{\\left(p_{3} \\right)}\\\\p_{2} - s_{2} \\sin{\\left(p_{3} \\right)}\\end{matrix}\\right]$"
      ],
      "text/plain": [
       "G3 := ⎡p₁ - s₂⋅cos(p₃)⎤\n",
       "⎢               ⎥\n",
       "⎣p₂ - s₂⋅sin(p₃)⎦"
      ]
     },
     "metadata": {},
     "output_type": "display_data"
    },
    {
     "data": {
      "text/plain": [
       "---"
      ]
     },
     "metadata": {},
     "output_type": "display_data"
    },
    {
     "data": {
      "text/latex": [
       "G4 := $\\displaystyle \\left[\\begin{matrix}p_{1} + s_{2} \\cos{\\left(p_{3} \\right)}\\\\p_{2} + s_{2} \\sin{\\left(p_{3} \\right)}\\end{matrix}\\right]$"
      ],
      "text/plain": [
       "G4 := ⎡p₁ + s₂⋅cos(p₃)⎤\n",
       "⎢               ⎥\n",
       "⎣p₂ + s₂⋅sin(p₃)⎦"
      ]
     },
     "metadata": {},
     "output_type": "display_data"
    },
    {
     "data": {
      "text/plain": [
       "---"
      ]
     },
     "metadata": {},
     "output_type": "display_data"
    },
    {
     "data": {
      "text/latex": [
       "(Sd1, Sd2, Sd3) := $\\displaystyle \\left( \\left[\\begin{matrix}\\dot{q}_{1}\\\\0\\end{matrix}\\right], \\  \\left[\\begin{matrix}\\dot{p}_{1}\\\\\\dot{p}_{2}\\end{matrix}\\right], \\  \\left[\\begin{matrix}\\dot{q}_{2}\\\\0\\end{matrix}\\right]\\right)$"
      ],
      "text/plain": [
       "(Sd1, Sd2, Sd3) := ⎛⎡q̇₁⎤  ⎡ṗ₁⎤  ⎡q̇₂⎤⎞\n",
       "⎜⎢  ⎥, ⎢  ⎥, ⎢  ⎥⎟\n",
       "⎝⎣0 ⎦  ⎣ṗ₂⎦  ⎣0 ⎦⎠"
      ]
     },
     "metadata": {},
     "output_type": "display_data"
    },
    {
     "data": {
      "text/plain": [
       "---"
      ]
     },
     "metadata": {},
     "output_type": "display_data"
    }
   ],
   "source": [
    "# unit vectors\n",
    "ex = sp.Matrix([1, 0])\n",
    "ey = sp.Matrix([0, 1])\n",
    "\n",
    "# basis 1 and 2 (cart positions)\n",
    "S1 = G1 = B1 = sp.Matrix([q1, 0]) ##:\n",
    "S3 = G6 = B2 = sp.Matrix([l0 + q2, 0]) ##:\n",
    "\n",
    "# center of gravity of load\n",
    "S2 = sp.Matrix([p1, p2])\n",
    "\n",
    "# suspension points of load\n",
    "G3 = S2 - Rz(p3)*ex*s2 ##:\n",
    "G4 = S2 + Rz(p3)*ex*s2 ##:\n",
    "\n",
    "# Time derivatives of centers of masses\n",
    "Sd1, Sd2, Sd3 = st.col_split(st.time_deriv(st.col_stack(S1, S2, S3), ttheta)) ##:"
   ]
  },
  {
   "cell_type": "code",
   "execution_count": 9,
   "metadata": {},
   "outputs": [
    {
     "data": {
      "image/png": "[encoded data removed]",
      "text/latex": [
       "T := $\\displaystyle \\frac{J_{2} \\dot{p}_{3}^{2}}{2} + \\frac{m_{1} \\dot{q}_{1}^{2}}{2} + \\frac{m_{2} \\dot{p}_{1}^{2}}{2} + \\frac{m_{2} \\dot{p}_{2}^{2}}{2} + \\frac{m_{3} \\dot{q}_{2}^{2}}{2}$"
      ],
      "text/plain": [
       "T :=      2        2        2        2        2\n",
       "J₂⋅ṗ₃    m₁⋅q̇₁    m₂⋅ṗ₁    m₂⋅ṗ₂    m₃⋅q̇₂ \n",
       "────── + ────── + ────── + ────── + ──────\n",
       "  2        2        2        2        2   "
      ]
     },
     "metadata": {},
     "output_type": "display_data"
    },
    {
     "data": {
      "text/plain": [
       "---"
      ]
     },
     "metadata": {},
     "output_type": "display_data"
    },
    {
     "data": {
      "image/png": "[encoded data removed]",
      "text/latex": [
       "V := $\\displaystyle g m_{2} p_{2}$"
      ],
      "text/plain": [
       "V := g⋅m₂⋅p₂"
      ]
     },
     "metadata": {},
     "output_type": "display_data"
    },
    {
     "data": {
      "text/plain": [
       "---"
      ]
     },
     "metadata": {},
     "output_type": "display_data"
    }
   ],
   "source": [
    "# kinetic energy\n",
    "T1 = (m1/2 * Sd1.T*Sd1)[0] \n",
    "T2 = (m2/2 * Sd2.T*Sd2)[0] + J2/2 * (pdot3)**2\n",
    "T3 = (m3/2 * Sd3.T*Sd3)[0]\n",
    "\n",
    "T = T1 + T2 + T3 ##:\n",
    "\n",
    "# potential energy, for l1 <= l2\n",
    "V = m2*g*S2[1] ##:"
   ]
  },
  {
   "cell_type": "markdown",
   "metadata": {},
   "source": [
    "this model is very easy ..."
   ]
  },
  {
   "cell_type": "code",
   "execution_count": 10,
   "metadata": {},
   "outputs": [
    {
     "data": {
      "text/latex": [
       "$\\displaystyle \\left[\\begin{matrix}- Q_{1} + m_{2} \\ddot{p}_{1}\\\\- Q_{2} + g m_{2} + m_{2} \\ddot{p}_{2}\\\\J_{2} \\ddot{p}_{3} - Q_{3}\\\\- Q_{4} + m_{1} \\ddot{q}_{1}\\\\- Q_{5} + m_{3} \\ddot{q}_{2}\\end{matrix}\\right]$"
      ],
      "text/plain": [
       "⎡   -Q₁ + m₂⋅p̈₁    ⎤\n",
       "⎢                  ⎥\n",
       "⎢-Q₂ + g⋅m₂ + m₂⋅p̈₂⎥\n",
       "⎢                  ⎥\n",
       "⎢    J₂⋅p̈₃ - Q₃    ⎥\n",
       "⎢                  ⎥\n",
       "⎢   -Q₄ + m₁⋅q̈₁    ⎥\n",
       "⎢                  ⎥\n",
       "⎣   -Q₅ + m₃⋅q̈₂    ⎦"
      ]
     },
     "execution_count": 10,
     "metadata": {},
     "output_type": "execute_result"
    }
   ],
   "source": [
    "\n",
    "mod = mt.generate_symbolic_model(T, V, ttheta, QQ)\n",
    "mod.eqns"
   ]
  },
  {
   "cell_type": "markdown",
   "metadata": {},
   "source": [
    "... but $Q_i$ are yet unknown → calculate them via the principle of virtual work, see e.g. [Wikipedia](https://en.wikipedia.org/wiki/Generalized_forces#Virtual_work):\n",
    "$$\n",
    "\\delta W = \\sum_{i=1}^n \\mathbf {F}_{i} \\cdot \\frac {\\partial \\mathbf {r}_i} {\\partial q_1} \\delta q_1 +\\ldots + \\sum_{i=1}^n \\mathbf {F}_{i} \\cdot \\frac {\\partial \\mathbf {r}_i} {\\partial q_m} \\delta q_m.\n",
    "$$\n",
    "\n",
    "- $ \\mathbf {F}_{i}$ applied forces, i.e.  $i=1,2$ → cart-forces, $i=3,4$ → rope-foces\n",
    "- $ \\mathbf {r}_{i}$ position vectors of each particle (along the direction of forces): $i=1,3$ → cart, $i=2$ → load\n",
    "- $ \\mathbf {\\delta r}_{i}$ virtual displacement\n",
    "- $ \\mathbf \\delta q_{j} = \\delta \\theta_{j}$ virtual displacement of generalized coordinates\n",
    "\n",
    "\n",
    "The virtual work of a system of particles can be written in the form\n",
    "\n",
    "$$\n",
    "    \\delta W = Q_1\\delta q_1 + \\ldots + Q_m\\delta q_m,\n",
    "$$\n",
    "where\n",
    "\n",
    "$$\n",
    "    Q_j = \\sum_{i=1}^n \\frac {\\partial \\mathbf {r}_i} {\\partial q_j} \\cdot \\mathbf {F}_{i}  ,\\quad j=1,\\ldots, m, \n",
    "$$"
   ]
  },
  {
   "cell_type": "code",
   "execution_count": 11,
   "metadata": {},
   "outputs": [
    {
     "data": {
      "text/latex": [
       "F1.T := $\\displaystyle \\left[\\begin{matrix}\\tau_{1} & 0\\end{matrix}\\right]$"
      ],
      "text/plain": [
       "F1.T := [τ₁  0]"
      ]
     },
     "metadata": {},
     "output_type": "display_data"
    },
    {
     "data": {
      "text/plain": [
       "---"
      ]
     },
     "metadata": {},
     "output_type": "display_data"
    },
    {
     "data": {
      "text/latex": [
       "F2.T := $\\displaystyle \\left[\\begin{matrix}\\tau_{2} & 0\\end{matrix}\\right]$"
      ],
      "text/plain": [
       "F2.T := [τ₂  0]"
      ]
     },
     "metadata": {},
     "output_type": "display_data"
    },
    {
     "data": {
      "text/plain": [
       "---"
      ]
     },
     "metadata": {},
     "output_type": "display_data"
    },
    {
     "data": {
      "text/latex": [
       "F3 := $\\displaystyle \\left[\\begin{matrix}\\frac{\\tau_{3} \\left(p_{1} - q_{1} - s_{2} \\cos{\\left(p_{3} \\right)}\\right)}{l_{1}}\\\\\\frac{\\tau_{3} \\left(p_{2} - s_{2} \\sin{\\left(p_{3} \\right)}\\right)}{l_{1}}\\end{matrix}\\right]$"
      ],
      "text/plain": [
       "F3 := ⎡τ₃⋅(p₁ - q₁ - s₂⋅cos(p₃))⎤\n",
       "⎢─────────────────────────⎥\n",
       "⎢            l₁           ⎥\n",
       "⎢                         ⎥\n",
       "⎢  τ₃⋅(p₂ - s₂⋅sin(p₃))   ⎥\n",
       "⎢  ────────────────────   ⎥\n",
       "⎣           l₁            ⎦"
      ]
     },
     "metadata": {},
     "output_type": "display_data"
    },
    {
     "data": {
      "text/plain": [
       "---"
      ]
     },
     "metadata": {},
     "output_type": "display_data"
    },
    {
     "data": {
      "text/latex": [
       "F4 := $\\displaystyle \\left[\\begin{matrix}\\frac{\\tau_{4} \\left(- l_{0} + p_{1} - q_{2} + s_{2} \\cos{\\left(p_{3} \\right)}\\right)}{l_{2}}\\\\\\frac{\\tau_{4} \\left(p_{2} + s_{2} \\sin{\\left(p_{3} \\right)}\\right)}{l_{2}}\\end{matrix}\\right]$"
      ],
      "text/plain": [
       "F4 := ⎡τ₄⋅(-l₀ + p₁ - q₂ + s₂⋅cos(p₃))⎤\n",
       "⎢───────────────────────────────⎥\n",
       "⎢               l₂              ⎥\n",
       "⎢                               ⎥\n",
       "⎢     τ₄⋅(p₂ + s₂⋅sin(p₃))      ⎥\n",
       "⎢     ────────────────────      ⎥\n",
       "⎣              l₂               ⎦"
      ]
     },
     "metadata": {},
     "output_type": "display_data"
    },
    {
     "data": {
      "text/plain": [
       "---"
      ]
     },
     "metadata": {},
     "output_type": "display_data"
    }
   ],
   "source": [
    "F1 = sp.Matrix([tau1, 0])  ##:T\n",
    "F2 = sp.Matrix([tau2, 0])  ##:T\n",
    "\n",
    "# unit vectors for ropes to split forces according to angles\n",
    "rope1 = (G3 - S1)\n",
    "rope2 = (G4 - S3)\n",
    "uv_rope1 = rope1/sp.sqrt((rope1.T*rope1)[0])\n",
    "uv_rope2 = rope2/sp.sqrt((rope2.T*rope2)[0])\n",
    "\n",
    "# simplify expressions by using l1, l2 as shortcuts \n",
    "uv_rope1 = rope1/l1\n",
    "uv_rope2 = rope2/l2\n",
    "\n",
    "F3 = uv_rope1 * tau3 ##:\n",
    "F4 = uv_rope2 * tau4 ##:"
   ]
  },
  {
   "cell_type": "code",
   "execution_count": 12,
   "metadata": {},
   "outputs": [
    {
     "data": {
      "text/latex": [
       "ddelta_theta := $\\displaystyle \\left[\\begin{matrix}\\delta\\theta_{1}\\\\\\delta\\theta_{2}\\\\\\delta\\theta_{3}\\\\\\delta\\theta_{4}\\\\\\delta\\theta_{5}\\end{matrix}\\right]$"
      ],
      "text/plain": [
       "ddelta_theta := ⎡\\delta\\theta₁⎤\n",
       "⎢             ⎥\n",
       "⎢\\delta\\theta₂⎥\n",
       "⎢             ⎥\n",
       "⎢\\delta\\theta₃⎥\n",
       "⎢             ⎥\n",
       "⎢\\delta\\theta₄⎥\n",
       "⎢             ⎥\n",
       "⎣\\delta\\theta₅⎦"
      ]
     },
     "metadata": {},
     "output_type": "display_data"
    },
    {
     "data": {
      "text/plain": [
       "---"
      ]
     },
     "metadata": {},
     "output_type": "display_data"
    }
   ],
   "source": [
    "dt1, dt2, dt3, dt4, dt5 = ddelta_theta = st.symb_vector(f\"\\\\delta\\\\theta_1:{n+1}\") ##:"
   ]
  },
  {
   "cell_type": "code",
   "execution_count": 13,
   "metadata": {},
   "outputs": [
    {
     "data": {
      "text/latex": [
       "$\\displaystyle \\left[\\begin{matrix}p_{1}\\\\p_{2}\\\\p_{3}\\\\q_{1}\\\\q_{2}\\end{matrix}\\right]$"
      ],
      "text/plain": [
       "⎡p₁⎤\n",
       "⎢  ⎥\n",
       "⎢p₂⎥\n",
       "⎢  ⎥\n",
       "⎢p₃⎥\n",
       "⎢  ⎥\n",
       "⎢q₁⎥\n",
       "⎢  ⎥\n",
       "⎣q₂⎦"
      ]
     },
     "execution_count": 13,
     "metadata": {},
     "output_type": "execute_result"
    }
   ],
   "source": [
    "ttheta"
   ]
  },
  {
   "cell_type": "code",
   "execution_count": 14,
   "metadata": {},
   "outputs": [
    {
     "data": {
      "text/latex": [
       "(delta_S1) := $\\displaystyle \\left[\\begin{matrix}\\delta\\theta_{4}\\\\0\\end{matrix}\\right]$"
      ],
      "text/plain": [
       "(delta_S1) := ⎡\\delta\\theta₄⎤\n",
       "⎢             ⎥\n",
       "⎣      0      ⎦"
      ]
     },
     "metadata": {},
     "output_type": "display_data"
    },
    {
     "data": {
      "text/plain": [
       "---"
      ]
     },
     "metadata": {},
     "output_type": "display_data"
    },
    {
     "data": {
      "text/latex": [
       "(delta_S3) := $\\displaystyle \\left[\\begin{matrix}\\delta\\theta_{5}\\\\0\\end{matrix}\\right]$"
      ],
      "text/plain": [
       "(delta_S3) := ⎡\\delta\\theta₅⎤\n",
       "⎢             ⎥\n",
       "⎣      0      ⎦"
      ]
     },
     "metadata": {},
     "output_type": "display_data"
    },
    {
     "data": {
      "text/plain": [
       "---"
      ]
     },
     "metadata": {},
     "output_type": "display_data"
    },
    {
     "data": {
      "text/latex": [
       "(delta_G3) := $\\displaystyle \\left[\\begin{matrix}\\delta\\theta_{1} + \\delta\\theta_{3} s_{2} \\sin{\\left(p_{3} \\right)}\\\\\\delta\\theta_{2} - \\delta\\theta_{3} s_{2} \\cos{\\left(p_{3} \\right)}\\end{matrix}\\right]$"
      ],
      "text/plain": [
       "(delta_G3) := ⎡\\delta\\theta₁ + \\delta\\theta₃⋅s₂⋅sin(p₃)⎤\n",
       "⎢                                        ⎥\n",
       "⎣\\delta\\theta₂ - \\delta\\theta₃⋅s₂⋅cos(p₃)⎦"
      ]
     },
     "metadata": {},
     "output_type": "display_data"
    },
    {
     "data": {
      "text/plain": [
       "---"
      ]
     },
     "metadata": {},
     "output_type": "display_data"
    },
    {
     "data": {
      "text/latex": [
       "(delta_G4) := $\\displaystyle \\left[\\begin{matrix}\\delta\\theta_{1} - \\delta\\theta_{3} s_{2} \\sin{\\left(p_{3} \\right)}\\\\\\delta\\theta_{2} + \\delta\\theta_{3} s_{2} \\cos{\\left(p_{3} \\right)}\\end{matrix}\\right]$"
      ],
      "text/plain": [
       "(delta_G4) := ⎡\\delta\\theta₁ - \\delta\\theta₃⋅s₂⋅sin(p₃)⎤\n",
       "⎢                                        ⎥\n",
       "⎣\\delta\\theta₂ + \\delta\\theta₃⋅s₂⋅cos(p₃)⎦"
      ]
     },
     "metadata": {},
     "output_type": "display_data"
    },
    {
     "data": {
      "text/plain": [
       "---"
      ]
     },
     "metadata": {},
     "output_type": "display_data"
    }
   ],
   "source": [
    "delta_S1 = S1*0\n",
    "delta_S3 = S3*0\n",
    "\n",
    "delta_G3 = G3*0 \n",
    "delta_G4 = G4*0\n",
    "\n",
    "\n",
    "\n",
    "for theta, delta_theta in zip(ttheta, ddelta_theta):\n",
    "    \n",
    "    delta_S1 += S1.diff(theta)*delta_theta\n",
    "    delta_S3 += S3.diff(theta)*delta_theta\n",
    "    \n",
    "    delta_G3 += G3.diff(theta)*delta_theta\n",
    "    delta_G4 += G4.diff(theta)*delta_theta\n",
    "    \n",
    "delta_S1 ##:\n",
    "delta_S3 ##:\n",
    "\n",
    "delta_G3 ##:\n",
    "delta_G4 ##:"
   ]
  },
  {
   "cell_type": "code",
   "execution_count": 15,
   "metadata": {},
   "outputs": [
    {
     "data": {
      "text/latex": [
       "delta_W := $\\displaystyle \\left[\\begin{matrix}\\delta\\theta_{4} \\tau_{1} + \\delta\\theta_{5} \\tau_{2}\\end{matrix}\\right]$"
      ],
      "text/plain": [
       "delta_W := [\\delta\\theta₄⋅τ₁ + \\delta\\theta₅⋅τ₂]"
      ]
     },
     "metadata": {},
     "output_type": "display_data"
    },
    {
     "data": {
      "text/plain": [
       "---"
      ]
     },
     "metadata": {},
     "output_type": "display_data"
    },
    {
     "data": {
      "text/latex": [
       "delta_W := $\\displaystyle \\left[\\begin{matrix}\\delta\\theta_{4} \\tau_{1} - \\frac{\\delta\\theta_{4} \\tau_{3} \\left(p_{1} - q_{1} - s_{2} \\cos{\\left(p_{3} \\right)}\\right)}{l_{1}} + \\delta\\theta_{5} \\tau_{2} + \\frac{\\tau_{3} \\left(\\delta\\theta_{1} + \\delta\\theta_{3} s_{2} \\sin{\\left(p_{3} \\right)}\\right) \\left(p_{1} - q_{1} - s_{2} \\cos{\\left(p_{3} \\right)}\\right)}{l_{1}} + \\frac{\\tau_{3} \\left(\\delta\\theta_{2} - \\delta\\theta_{3} s_{2} \\cos{\\left(p_{3} \\right)}\\right) \\left(p_{2} - s_{2} \\sin{\\left(p_{3} \\right)}\\right)}{l_{1}}\\end{matrix}\\right]$"
      ],
      "text/plain": [
       "delta_W := ⎡                   \\delta\\theta₄⋅τ₃⋅(p₁ - q₁ - s₂⋅cos(p₃))                   \n",
       "⎢\\delta\\theta₄⋅τ₁ - ─────────────────────────────────────── + \\delta\\theta₅⋅τ₂\n",
       "⎣                                      l₁                                     \n",
       "\n",
       "   τ₃⋅(\\delta\\theta₁ + \\delta\\theta₃⋅s₂⋅sin(p₃))⋅(p₁ - q₁ - s₂⋅cos(p₃))   τ₃⋅(\n",
       " + ──────────────────────────────────────────────────────────────────── + ────\n",
       "                                    l₁                                        \n",
       "\n",
       "\\delta\\theta₂ - \\delta\\theta₃⋅s₂⋅cos(p₃))⋅(p₂ - s₂⋅sin(p₃))⎤\n",
       "───────────────────────────────────────────────────────────⎥\n",
       "                           l₁                              ⎦"
      ]
     },
     "metadata": {},
     "output_type": "display_data"
    },
    {
     "data": {
      "text/plain": [
       "---"
      ]
     },
     "metadata": {},
     "output_type": "display_data"
    },
    {
     "data": {
      "text/latex": [
       "delta_W := $\\displaystyle \\left[\\begin{matrix}\\delta\\theta_{4} \\tau_{1} - \\frac{\\delta\\theta_{4} \\tau_{3} \\left(p_{1} - q_{1} - s_{2} \\cos{\\left(p_{3} \\right)}\\right)}{l_{1}} + \\delta\\theta_{5} \\tau_{2} - \\frac{\\delta\\theta_{5} \\tau_{4} \\left(- l_{0} + p_{1} - q_{2} + s_{2} \\cos{\\left(p_{3} \\right)}\\right)}{l_{2}} + \\frac{\\tau_{4} \\left(\\delta\\theta_{1} - \\delta\\theta_{3} s_{2} \\sin{\\left(p_{3} \\right)}\\right) \\left(- l_{0} + p_{1} - q_{2} + s_{2} \\cos{\\left(p_{3} \\right)}\\right)}{l_{2}} + \\frac{\\tau_{4} \\left(\\delta\\theta_{2} + \\delta\\theta_{3} s_{2} \\cos{\\left(p_{3} \\right)}\\right) \\left(p_{2} + s_{2} \\sin{\\left(p_{3} \\right)}\\right)}{l_{2}} + \\frac{\\tau_{3} \\left(\\delta\\theta_{1} + \\delta\\theta_{3} s_{2} \\sin{\\left(p_{3} \\right)}\\right) \\left(p_{1} - q_{1} - s_{2} \\cos{\\left(p_{3} \\right)}\\right)}{l_{1}} + \\frac{\\tau_{3} \\left(\\delta\\theta_{2} - \\delta\\theta_{3} s_{2} \\cos{\\left(p_{3} \\right)}\\right) \\left(p_{2} - s_{2} \\sin{\\left(p_{3} \\right)}\\right)}{l_{1}}\\end{matrix}\\right]$"
      ],
      "text/plain": [
       "delta_W := ⎡                   \\delta\\theta₄⋅τ₃⋅(p₁ - q₁ - s₂⋅cos(p₃))                   \n",
       "⎢\\delta\\theta₄⋅τ₁ - ─────────────────────────────────────── + \\delta\\theta₅⋅τ₂\n",
       "⎣                                      l₁                                     \n",
       "\n",
       "   \\delta\\theta₅⋅τ₄⋅(-l₀ + p₁ - q₂ + s₂⋅cos(p₃))   τ₄⋅(\\delta\\theta₁ - \\delta\\\n",
       " - ───────────────────────────────────────────── + ───────────────────────────\n",
       "                         l₂                                                   \n",
       "\n",
       "theta₃⋅s₂⋅sin(p₃))⋅(-l₀ + p₁ - q₂ + s₂⋅cos(p₃))   τ₄⋅(\\delta\\theta₂ + \\delta\\t\n",
       "─────────────────────────────────────────────── + ────────────────────────────\n",
       "         l₂                                                                   \n",
       "\n",
       "heta₃⋅s₂⋅cos(p₃))⋅(p₂ + s₂⋅sin(p₃))   τ₃⋅(\\delta\\theta₁ + \\delta\\theta₃⋅s₂⋅sin\n",
       "─────────────────────────────────── + ────────────────────────────────────────\n",
       "   l₂                                                                  l₁     \n",
       "\n",
       "(p₃))⋅(p₁ - q₁ - s₂⋅cos(p₃))   τ₃⋅(\\delta\\theta₂ - \\delta\\theta₃⋅s₂⋅cos(p₃))⋅(\n",
       "──────────────────────────── + ───────────────────────────────────────────────\n",
       "                                                              l₁              \n",
       "\n",
       "p₂ - s₂⋅sin(p₃))⎤\n",
       "────────────────⎥\n",
       "                ⎦"
      ]
     },
     "metadata": {},
     "output_type": "display_data"
    },
    {
     "data": {
      "text/plain": [
       "---"
      ]
     },
     "metadata": {},
     "output_type": "display_data"
    }
   ],
   "source": [
    "# simple part (carts)\n",
    "delta_W = delta_S1.T*F1 + delta_S3.T*F2 ##:\n",
    "\n",
    "# rope1 (F3 > 0 means rope is pushing from S1 towards G3)\n",
    "delta_W = delta_W + delta_G3.T*F3 - delta_S1.T*F3 ##:\n",
    "\n",
    "# rope2 (F4 > 0 means rope is pushing from S3 towards G4)\n",
    "delta_W = delta_W + delta_G4.T*F4 - delta_S3.T*F4 ##:\n",
    "\n",
    "# convert from 1x1 Matrix to scalar:\n",
    "# delta_W = delta_W[0, 0] ##:"
   ]
  },
  {
   "cell_type": "code",
   "execution_count": 16,
   "metadata": {},
   "outputs": [
    {
     "data": {
      "text/latex": [
       "QQ_expr := $\\displaystyle \\left[\\begin{matrix}\\frac{\\tau_{4} \\left(- l_{0} + p_{1} - q_{2} + s_{2} \\cos{\\left(p_{3} \\right)}\\right)}{l_{2}} + \\frac{\\tau_{3} \\left(p_{1} - q_{1} - s_{2} \\cos{\\left(p_{3} \\right)}\\right)}{l_{1}}\\\\\\frac{\\tau_{4} \\left(p_{2} + s_{2} \\sin{\\left(p_{3} \\right)}\\right)}{l_{2}} + \\frac{\\tau_{3} \\left(p_{2} - s_{2} \\sin{\\left(p_{3} \\right)}\\right)}{l_{1}}\\\\\\frac{s_{2} \\tau_{4} \\left(p_{2} + s_{2} \\sin{\\left(p_{3} \\right)}\\right) \\cos{\\left(p_{3} \\right)}}{l_{2}} - \\frac{s_{2} \\tau_{4} \\left(- l_{0} + p_{1} - q_{2} + s_{2} \\cos{\\left(p_{3} \\right)}\\right) \\sin{\\left(p_{3} \\right)}}{l_{2}} - \\frac{s_{2} \\tau_{3} \\left(p_{2} - s_{2} \\sin{\\left(p_{3} \\right)}\\right) \\cos{\\left(p_{3} \\right)}}{l_{1}} + \\frac{s_{2} \\tau_{3} \\left(p_{1} - q_{1} - s_{2} \\cos{\\left(p_{3} \\right)}\\right) \\sin{\\left(p_{3} \\right)}}{l_{1}}\\\\\\tau_{1} - \\frac{\\tau_{3} \\left(p_{1} - q_{1} - s_{2} \\cos{\\left(p_{3} \\right)}\\right)}{l_{1}}\\\\\\tau_{2} - \\frac{\\tau_{4} \\left(- l_{0} + p_{1} - q_{2} + s_{2} \\cos{\\left(p_{3} \\right)}\\right)}{l_{2}}\\end{matrix}\\right]$"
      ],
      "text/plain": [
       "QQ_expr := ⎡                                             τ₄⋅(-l₀ + p₁ - q₂ + s₂⋅cos(p₃)) \n",
       "⎢                                             ─────────────────────────────── \n",
       "⎢                                                            l₂               \n",
       "⎢                                                                             \n",
       "⎢                                                     τ₄⋅(p₂ + s₂⋅sin(p₃))   τ\n",
       "⎢                                                     ──────────────────── + ─\n",
       "⎢                                                              l₂             \n",
       "⎢                                                                             \n",
       "⎢s₂⋅τ₄⋅(p₂ + s₂⋅sin(p₃))⋅cos(p₃)   s₂⋅τ₄⋅(-l₀ + p₁ - q₂ + s₂⋅cos(p₃))⋅sin(p₃) \n",
       "⎢─────────────────────────────── - ────────────────────────────────────────── \n",
       "⎢               l₂                                     l₂                     \n",
       "⎢                                                                             \n",
       "⎢                                                                τ₃⋅(p₁ - q₁ -\n",
       "⎢                                                           τ₁ - ─────────────\n",
       "⎢                                                                            l\n",
       "⎢                                                                             \n",
       "⎢                                                             τ₄⋅(-l₀ + p₁ - q\n",
       "⎢                                                        τ₂ - ────────────────\n",
       "⎣                                                                            l\n",
       "\n",
       "  τ₃⋅(p₁ - q₁ - s₂⋅cos(p₃))                                             ⎤\n",
       "+ ─────────────────────────                                             ⎥\n",
       "              l₁                                                        ⎥\n",
       "                                                                        ⎥\n",
       "₃⋅(p₂ - s₂⋅sin(p₃))                                                     ⎥\n",
       "───────────────────                                                     ⎥\n",
       "        l₁                                                              ⎥\n",
       "                                                                        ⎥\n",
       "  s₂⋅τ₃⋅(p₂ - s₂⋅sin(p₃))⋅cos(p₃)   s₂⋅τ₃⋅(p₁ - q₁ - s₂⋅cos(p₃))⋅sin(p₃)⎥\n",
       "- ─────────────────────────────── + ────────────────────────────────────⎥\n",
       "                 l₁                                  l₁                 ⎥\n",
       "                                                                        ⎥\n",
       " s₂⋅cos(p₃))                                                            ⎥\n",
       "────────────                                                            ⎥\n",
       "₁                                                                       ⎥\n",
       "                                                                        ⎥\n",
       "₂ + s₂⋅cos(p₃))                                                         ⎥\n",
       "───────────────                                                         ⎥\n",
       "₂                                                                       ⎦"
      ]
     },
     "metadata": {},
     "output_type": "display_data"
    },
    {
     "data": {
      "text/plain": [
       "---"
      ]
     },
     "metadata": {},
     "output_type": "display_data"
    }
   ],
   "source": [
    "QQ_expr = delta_W.jacobian(ddelta_theta).T ##:"
   ]
  },
  {
   "cell_type": "code",
   "execution_count": 17,
   "metadata": {
    "scrolled": true
   },
   "outputs": [
    {
     "data": {
      "text/latex": [
       "$\\displaystyle \\left[\\begin{matrix}- Q_{1} + m_{2} \\ddot{p}_{1}\\\\- Q_{2} + g m_{2} + m_{2} \\ddot{p}_{2}\\\\J_{2} \\ddot{p}_{3} - Q_{3}\\\\- Q_{4} + m_{1} \\ddot{q}_{1}\\\\- Q_{5} + m_{3} \\ddot{q}_{2}\\end{matrix}\\right]$"
      ],
      "text/plain": [
       "⎡   -Q₁ + m₂⋅p̈₁    ⎤\n",
       "⎢                  ⎥\n",
       "⎢-Q₂ + g⋅m₂ + m₂⋅p̈₂⎥\n",
       "⎢                  ⎥\n",
       "⎢    J₂⋅p̈₃ - Q₃    ⎥\n",
       "⎢                  ⎥\n",
       "⎢   -Q₄ + m₁⋅q̈₁    ⎥\n",
       "⎢                  ⎥\n",
       "⎣   -Q₅ + m₃⋅q̈₂    ⎦"
      ]
     },
     "execution_count": 17,
     "metadata": {},
     "output_type": "execute_result"
    }
   ],
   "source": [
    "mod.eqns"
   ]
  },
  {
   "cell_type": "code",
   "execution_count": 74,
   "metadata": {},
   "outputs": [
    {
     "data": {
      "text/latex": [
       "eqns := $\\displaystyle \\left[\\begin{matrix}m_{2} \\ddot{p}_{1} - \\frac{\\tau_{3} \\left(p_{1} - q_{1} - s_{2} \\cos{\\left(p_{3} \\right)}\\right)}{\\sqrt{\\left(p_{2} - s_{2} \\sin{\\left(p_{3} \\right)}\\right)^{2} + \\left(p_{1} - q_{1} - s_{2} \\cos{\\left(p_{3} \\right)}\\right)^{2}}} - \\frac{\\tau_{4} \\left(- l_{0} + p_{1} - q_{2} + s_{2} \\cos{\\left(p_{3} \\right)}\\right)}{\\sqrt{\\left(p_{2} + s_{2} \\sin{\\left(p_{3} \\right)}\\right)^{2} + \\left(- l_{0} + p_{1} - q_{2} + s_{2} \\cos{\\left(p_{3} \\right)}\\right)^{2}}}\\\\g m_{2} + m_{2} \\ddot{p}_{2} - \\frac{\\tau_{3} \\left(p_{2} - s_{2} \\sin{\\left(p_{3} \\right)}\\right)}{\\sqrt{\\left(p_{2} - s_{2} \\sin{\\left(p_{3} \\right)}\\right)^{2} + \\left(p_{1} - q_{1} - s_{2} \\cos{\\left(p_{3} \\right)}\\right)^{2}}} - \\frac{\\tau_{4} \\left(p_{2} + s_{2} \\sin{\\left(p_{3} \\right)}\\right)}{\\sqrt{\\left(p_{2} + s_{2} \\sin{\\left(p_{3} \\right)}\\right)^{2} + \\left(- l_{0} + p_{1} - q_{2} + s_{2} \\cos{\\left(p_{3} \\right)}\\right)^{2}}}\\\\J_{2} \\ddot{p}_{3} + \\frac{s_{2} \\tau_{3} \\left(p_{2} - s_{2} \\sin{\\left(p_{3} \\right)}\\right) \\cos{\\left(p_{3} \\right)}}{\\sqrt{\\left(p_{2} - s_{2} \\sin{\\left(p_{3} \\right)}\\right)^{2} + \\left(p_{1} - q_{1} - s_{2} \\cos{\\left(p_{3} \\right)}\\right)^{2}}} - \\frac{s_{2} \\tau_{3} \\left(p_{1} - q_{1} - s_{2} \\cos{\\left(p_{3} \\right)}\\right) \\sin{\\left(p_{3} \\right)}}{\\sqrt{\\left(p_{2} - s_{2} \\sin{\\left(p_{3} \\right)}\\right)^{2} + \\left(p_{1} - q_{1} - s_{2} \\cos{\\left(p_{3} \\right)}\\right)^{2}}} - \\frac{s_{2} \\tau_{4} \\left(p_{2} + s_{2} \\sin{\\left(p_{3} \\right)}\\right) \\cos{\\left(p_{3} \\right)}}{\\sqrt{\\left(p_{2} + s_{2} \\sin{\\left(p_{3} \\right)}\\right)^{2} + \\left(- l_{0} + p_{1} - q_{2} + s_{2} \\cos{\\left(p_{3} \\right)}\\right)^{2}}} + \\frac{s_{2} \\tau_{4} \\left(- l_{0} + p_{1} - q_{2} + s_{2} \\cos{\\left(p_{3} \\right)}\\right) \\sin{\\left(p_{3} \\right)}}{\\sqrt{\\left(p_{2} + s_{2} \\sin{\\left(p_{3} \\right)}\\right)^{2} + \\left(- l_{0} + p_{1} - q_{2} + s_{2} \\cos{\\left(p_{3} \\right)}\\right)^{2}}}\\\\m_{1} \\ddot{q}_{1} - \\tau_{1} + \\frac{\\tau_{3} \\left(p_{1} - q_{1} - s_{2} \\cos{\\left(p_{3} \\right)}\\right)}{\\sqrt{\\left(p_{2} - s_{2} \\sin{\\left(p_{3} \\right)}\\right)^{2} + \\left(p_{1} - q_{1} - s_{2} \\cos{\\left(p_{3} \\right)}\\right)^{2}}}\\\\m_{3} \\ddot{q}_{2} - \\tau_{2} + \\frac{\\tau_{4} \\left(- l_{0} + p_{1} - q_{2} + s_{2} \\cos{\\left(p_{3} \\right)}\\right)}{\\sqrt{\\left(p_{2} + s_{2} \\sin{\\left(p_{3} \\right)}\\right)^{2} + \\left(- l_{0} + p_{1} - q_{2} + s_{2} \\cos{\\left(p_{3} \\right)}\\right)^{2}}}\\end{matrix}\\right]$"
      ],
      "text/plain": [
       "eqns := ⎡                                                                           τ₃\n",
       "⎢                                                       m₂⋅p̈₁ - ─────────────\n",
       "⎢                                                                  ___________\n",
       "⎢                                                                 ╱           \n",
       "⎢                                                               ╲╱  (p₂ - s₂⋅s\n",
       "⎢                                                                             \n",
       "⎢                                                                             \n",
       "⎢                                                   g⋅m₂ + m₂⋅p̈₂ - ──────────\n",
       "⎢                                                                     ________\n",
       "⎢                                                                    ╱        \n",
       "⎢                                                                  ╲╱  (p₂ - s\n",
       "⎢                                                                             \n",
       "⎢                 s₂⋅τ₃⋅(p₂ - s₂⋅sin(p₃))⋅cos(p₃)                   s₂⋅τ₃⋅(p₁ \n",
       "⎢J₂⋅p̈₃ + ───────────────────────────────────────────────── - ────────────────\n",
       "⎢           ______________________________________________      ______________\n",
       "⎢          ╱                  2                         2      ╱              \n",
       "⎢        ╲╱  (p₂ - s₂⋅sin(p₃))  + (p₁ - q₁ - s₂⋅cos(p₃))     ╲╱  (p₂ - s₂⋅sin(\n",
       "⎢                                                                             \n",
       "⎢                                                                             \n",
       "⎢                                                                             \n",
       "⎢                                                                             \n",
       "⎢                                                                             \n",
       "⎢                                                                             \n",
       "⎢                                                                             \n",
       "⎢                                                                             \n",
       "⎢                                                                             \n",
       "⎢                                                                             \n",
       "⎢                                                                             \n",
       "⎣                                                                             \n",
       "\n",
       "⋅(p₁ - q₁ - s₂⋅cos(p₃))                           τ₄⋅(-l₀ + p₁ - q₂ + s₂⋅cos(p\n",
       "──────────────────────────────────── - ───────────────────────────────────────\n",
       "___________________________________      _____________________________________\n",
       "       2                         2      ╱                  2                  \n",
       "in(p₃))  + (p₁ - q₁ - s₂⋅cos(p₃))     ╲╱  (p₂ + s₂⋅sin(p₃))  + (-l₀ + p₁ - q₂ \n",
       "                                                                              \n",
       "    τ₃⋅(p₂ - s₂⋅sin(p₃))                                   τ₄⋅(p₂ + s₂⋅sin(p₃)\n",
       "─────────────────────────────────────── - ────────────────────────────────────\n",
       "______________________________________      __________________________________\n",
       "          2                         2      ╱                  2               \n",
       "₂⋅sin(p₃))  + (p₁ - q₁ - s₂⋅cos(p₃))     ╲╱  (p₂ + s₂⋅sin(p₃))  + (-l₀ + p₁ - \n",
       "                                                                              \n",
       "- q₁ - s₂⋅cos(p₃))⋅sin(p₃)                     s₂⋅τ₄⋅(p₂ + s₂⋅sin(p₃))⋅cos(p₃)\n",
       "───────────────────────────────── - ──────────────────────────────────────────\n",
       "________________________________      ________________________________________\n",
       "    2                         2      ╱                  2                     \n",
       "p₃))  + (p₁ - q₁ - s₂⋅cos(p₃))     ╲╱  (p₂ + s₂⋅sin(p₃))  + (-l₀ + p₁ - q₂ + s\n",
       "                                                                              \n",
       "                             τ₃⋅(p₁ - q₁ - s₂⋅cos(p₃))                        \n",
       "    m₁⋅q̈₁ - τ₁ + ─────────────────────────────────────────────────           \n",
       "                    ______________________________________________            \n",
       "                   ╱                  2                         2             \n",
       "                 ╲╱  (p₂ - s₂⋅sin(p₃))  + (p₁ - q₁ - s₂⋅cos(p₃))              \n",
       "                                                                              \n",
       "                          τ₄⋅(-l₀ + p₁ - q₂ + s₂⋅cos(p₃))                     \n",
       " m₃⋅q̈₂ - τ₂ + ───────────────────────────────────────────────────────        \n",
       "                 ____________________________________________________         \n",
       "                ╱                  2                               2          \n",
       "              ╲╱  (p₂ + s₂⋅sin(p₃))  + (-l₀ + p₁ - q₂ + s₂⋅cos(p₃))           \n",
       "\n",
       "₃))                                                                   ⎤\n",
       "────────────────                                                       ⎥\n",
       "_______________                                                       ⎥\n",
       "             2                                                        ⎥\n",
       "+ s₂⋅cos(p₃))                                                         ⎥\n",
       "                                                                      ⎥\n",
       ")                                                                     ⎥\n",
       "───────────────────                                                    ⎥\n",
       "__________________                                                    ⎥\n",
       "                2                                                     ⎥\n",
       "q₂ + s₂⋅cos(p₃))                                                      ⎥\n",
       "                                                                      ⎥\n",
       "                      s₂⋅τ₄⋅(-l₀ + p₁ - q₂ + s₂⋅cos(p₃))⋅sin(p₃)      ⎥\n",
       "───────────── + ───────────────────────────────────────────────────────⎥\n",
       "____________      ____________________________________________________⎥\n",
       "          2      ╱                  2                               2 ⎥\n",
       "₂⋅cos(p₃))     ╲╱  (p₂ + s₂⋅sin(p₃))  + (-l₀ + p₁ - q₂ + s₂⋅cos(p₃))  ⎥\n",
       "                                                                      ⎥\n",
       "                                                                      ⎥\n",
       "                                                                       ⎥\n",
       "                                                                      ⎥\n",
       "                                                                      ⎥\n",
       "                                                                      ⎥\n",
       "                                                                      ⎥\n",
       "                                                                      ⎥\n",
       "                                                                       ⎥\n",
       "                                                                      ⎥\n",
       "                                                                      ⎥\n",
       "                                                                      ⎦"
      ]
     },
     "metadata": {},
     "output_type": "display_data"
    },
    {
     "data": {
      "text/plain": [
       "---"
      ]
     },
     "metadata": {},
     "output_type": "display_data"
    }
   ],
   "source": [
    "eqns = mod.eqns.subz(QQ, QQ_expr) ##:"
   ]
  },
  {
   "cell_type": "code",
   "execution_count": 19,
   "metadata": {},
   "outputs": [
    {
     "data": {
      "text/latex": [
       "$\\displaystyle \\left[\\begin{matrix}0 & 0 & - \\frac{p_{1} - q_{1} - s_{2} \\cos{\\left(p_{3} \\right)}}{l_{1}} & - \\frac{- l_{0} + p_{1} - q_{2} + s_{2} \\cos{\\left(p_{3} \\right)}}{l_{2}}\\\\0 & 0 & - \\frac{p_{2} - s_{2} \\sin{\\left(p_{3} \\right)}}{l_{1}} & - \\frac{p_{2} + s_{2} \\sin{\\left(p_{3} \\right)}}{l_{2}}\\\\0 & 0 & \\frac{s_{2} \\left(p_{2} - s_{2} \\sin{\\left(p_{3} \\right)}\\right) \\cos{\\left(p_{3} \\right)}}{l_{1}} - \\frac{s_{2} \\left(p_{1} - q_{1} - s_{2} \\cos{\\left(p_{3} \\right)}\\right) \\sin{\\left(p_{3} \\right)}}{l_{1}} & - \\frac{s_{2} \\left(p_{2} + s_{2} \\sin{\\left(p_{3} \\right)}\\right) \\cos{\\left(p_{3} \\right)}}{l_{2}} + \\frac{s_{2} \\left(- l_{0} + p_{1} - q_{2} + s_{2} \\cos{\\left(p_{3} \\right)}\\right) \\sin{\\left(p_{3} \\right)}}{l_{2}}\\\\-1 & 0 & \\frac{p_{1} - q_{1} - s_{2} \\cos{\\left(p_{3} \\right)}}{l_{1}} & 0\\\\0 & -1 & 0 & \\frac{- l_{0} + p_{1} - q_{2} + s_{2} \\cos{\\left(p_{3} \\right)}}{l_{2}}\\end{matrix}\\right]$"
      ],
      "text/plain": [
       "⎡                            -(p₁ - q₁ - s₂⋅cos(p₃))                          \n",
       "⎢0   0                       ────────────────────────                         \n",
       "⎢                                       l₁                                    \n",
       "⎢                                                                             \n",
       "⎢                              -(p₂ - s₂⋅sin(p₃))                             \n",
       "⎢0   0                         ───────────────────                            \n",
       "⎢                                       l₁                                    \n",
       "⎢                                                                             \n",
       "⎢        s₂⋅(p₂ - s₂⋅sin(p₃))⋅cos(p₃)   s₂⋅(p₁ - q₁ - s₂⋅cos(p₃))⋅sin(p₃)    s\n",
       "⎢0   0   ──────────────────────────── - ─────────────────────────────────  - ─\n",
       "⎢                     l₁                                l₁                    \n",
       "⎢                                                                             \n",
       "⎢                              p₁ - q₁ - s₂⋅cos(p₃)                           \n",
       "⎢-1  0                         ────────────────────                           \n",
       "⎢                                       l₁                                    \n",
       "⎢                                                                             \n",
       "⎢                                                                             \n",
       "⎢0   -1                                 0                                     \n",
       "⎣                                                                             \n",
       "\n",
       "                  -(-l₀ + p₁ - q₂ + s₂⋅cos(p₃))                      ⎤\n",
       "                  ──────────────────────────────                     ⎥\n",
       "                                l₂                                   ⎥\n",
       "                                                                     ⎥\n",
       "                       -(p₂ + s₂⋅sin(p₃))                            ⎥\n",
       "                       ───────────────────                           ⎥\n",
       "                                l₂                                   ⎥\n",
       "                                                                     ⎥\n",
       "₂⋅(p₂ + s₂⋅sin(p₃))⋅cos(p₃)   s₂⋅(-l₀ + p₁ - q₂ + s₂⋅cos(p₃))⋅sin(p₃)⎥\n",
       "─────────────────────────── + ───────────────────────────────────────⎥\n",
       "            l₂                                   l₂                  ⎥\n",
       "                                                                     ⎥\n",
       "                                                                     ⎥\n",
       "                                0                                    ⎥\n",
       "                                                                     ⎥\n",
       "                                                                     ⎥\n",
       "                    -l₀ + p₁ - q₂ + s₂⋅cos(p₃)                       ⎥\n",
       "                    ──────────────────────────                       ⎥\n",
       "                                l₂                                   ⎦"
      ]
     },
     "execution_count": 19,
     "metadata": {},
     "output_type": "execute_result"
    }
   ],
   "source": [
    "eqns.jacobian(ttau)"
   ]
  },
  {
   "cell_type": "code",
   "execution_count": 20,
   "metadata": {},
   "outputs": [],
   "source": [
    "# eliminate the last two equations and tau1,2 → 3 remaining"
   ]
  },
  {
   "cell_type": "code",
   "execution_count": 21,
   "metadata": {},
   "outputs": [
    {
     "data": {
      "text/latex": [
       "eqns1 := $\\displaystyle \\left[\\begin{matrix}m_{2} \\ddot{p}_{1} - \\frac{\\tau_{4} \\left(- l_{0} + p_{1} - q_{2} + s_{2} \\cos{\\left(p_{3} \\right)}\\right)}{l_{2}} - \\frac{\\tau_{3} \\left(p_{1} - q_{1} - s_{2} \\cos{\\left(p_{3} \\right)}\\right)}{l_{1}}\\\\g m_{2} + m_{2} \\ddot{p}_{2} - \\frac{\\tau_{4} \\left(p_{2} + s_{2} \\sin{\\left(p_{3} \\right)}\\right)}{l_{2}} - \\frac{\\tau_{3} \\left(p_{2} - s_{2} \\sin{\\left(p_{3} \\right)}\\right)}{l_{1}}\\\\J_{2} \\ddot{p}_{3} - \\frac{s_{2} \\tau_{4} \\left(p_{2} + s_{2} \\sin{\\left(p_{3} \\right)}\\right) \\cos{\\left(p_{3} \\right)}}{l_{2}} + \\frac{s_{2} \\tau_{4} \\left(- l_{0} + p_{1} - q_{2} + s_{2} \\cos{\\left(p_{3} \\right)}\\right) \\sin{\\left(p_{3} \\right)}}{l_{2}} + \\frac{s_{2} \\tau_{3} \\left(p_{2} - s_{2} \\sin{\\left(p_{3} \\right)}\\right) \\cos{\\left(p_{3} \\right)}}{l_{1}} - \\frac{s_{2} \\tau_{3} \\left(p_{1} - q_{1} - s_{2} \\cos{\\left(p_{3} \\right)}\\right) \\sin{\\left(p_{3} \\right)}}{l_{1}}\\end{matrix}\\right]$"
      ],
      "text/plain": [
       "eqns1 := ⎡                                                     τ₄⋅(-l₀ + p₁ - q₂ + s₂⋅c\n",
       "⎢                                             m₂⋅p̈₁ - ───────────────────────\n",
       "⎢                                                                    l₂       \n",
       "⎢                                                                             \n",
       "⎢                                                                τ₄⋅(p₂ + s₂⋅s\n",
       "⎢                                                 g⋅m₂ + m₂⋅p̈₂ - ────────────\n",
       "⎢                                                                         l₂  \n",
       "⎢                                                                             \n",
       "⎢        s₂⋅τ₄⋅(p₂ + s₂⋅sin(p₃))⋅cos(p₃)   s₂⋅τ₄⋅(-l₀ + p₁ - q₂ + s₂⋅cos(p₃))⋅\n",
       "⎢J₂⋅p̈₃ - ─────────────────────────────── + ──────────────────────────────────\n",
       "⎣                       l₂                                     l₂             \n",
       "\n",
       "os(p₃))   τ₃⋅(p₁ - q₁ - s₂⋅cos(p₃))                                           \n",
       "──────── - ─────────────────────────                                          \n",
       "                      l₁                                                      \n",
       "                                                                              \n",
       "in(p₃))   τ₃⋅(p₂ - s₂⋅sin(p₃))                                                \n",
       "──────── - ────────────────────                                               \n",
       "                   l₁                                                         \n",
       "                                                                              \n",
       "sin(p₃)   s₂⋅τ₃⋅(p₂ - s₂⋅sin(p₃))⋅cos(p₃)   s₂⋅τ₃⋅(p₁ - q₁ - s₂⋅cos(p₃))⋅sin(p\n",
       "──────── + ─────────────────────────────── - ─────────────────────────────────\n",
       "                         l₁                                  l₁               \n",
       "\n",
       "  ⎤\n",
       "   ⎥\n",
       "  ⎥\n",
       "  ⎥\n",
       "  ⎥\n",
       "   ⎥\n",
       "  ⎥\n",
       "  ⎥\n",
       "₃)⎥\n",
       "───⎥\n",
       "  ⎦"
      ]
     },
     "metadata": {},
     "output_type": "display_data"
    },
    {
     "data": {
      "text/plain": [
       "---"
      ]
     },
     "metadata": {},
     "output_type": "display_data"
    }
   ],
   "source": [
    "eqns1 = eqns[:-2, :] ##:"
   ]
  },
  {
   "cell_type": "code",
   "execution_count": 22,
   "metadata": {},
   "outputs": [
    {
     "data": {
      "text/latex": [
       "ttau1 := $\\displaystyle \\left[\\begin{matrix}\\tau_{3}\\\\\\tau_{4}\\end{matrix}\\right]$"
      ],
      "text/plain": [
       "ttau1 := ⎡τ₃⎤\n",
       "⎢  ⎥\n",
       "⎣τ₄⎦"
      ]
     },
     "metadata": {},
     "output_type": "display_data"
    },
    {
     "data": {
      "text/plain": [
       "---"
      ]
     },
     "metadata": {},
     "output_type": "display_data"
    }
   ],
   "source": [
    "# TODO: Warum können tau1,2 eliminiert werden, Zshg. zu eqns erste beiden Spalten?\n",
    "ttau1 = ttau[2:, :] ##:"
   ]
  },
  {
   "cell_type": "markdown",
   "metadata": {},
   "source": [
    "now we have two inputs distributed over three equations. The $3\\times 2$ coefficient matrix $B_1$ is the following:"
   ]
  },
  {
   "cell_type": "code",
   "execution_count": 23,
   "metadata": {},
   "outputs": [
    {
     "data": {
      "text/latex": [
       "B1 := $\\displaystyle \\left[\\begin{matrix}- \\frac{p_{1} - q_{1} - s_{2} \\cos{\\left(p_{3} \\right)}}{l_{1}} & - \\frac{- l_{0} + p_{1} - q_{2} + s_{2} \\cos{\\left(p_{3} \\right)}}{l_{2}}\\\\- \\frac{p_{2} - s_{2} \\sin{\\left(p_{3} \\right)}}{l_{1}} & - \\frac{p_{2} + s_{2} \\sin{\\left(p_{3} \\right)}}{l_{2}}\\\\\\frac{s_{2} \\left(p_{2} - s_{2} \\sin{\\left(p_{3} \\right)}\\right) \\cos{\\left(p_{3} \\right)}}{l_{1}} - \\frac{s_{2} \\left(p_{1} - q_{1} - s_{2} \\cos{\\left(p_{3} \\right)}\\right) \\sin{\\left(p_{3} \\right)}}{l_{1}} & - \\frac{s_{2} \\left(p_{2} + s_{2} \\sin{\\left(p_{3} \\right)}\\right) \\cos{\\left(p_{3} \\right)}}{l_{2}} + \\frac{s_{2} \\left(- l_{0} + p_{1} - q_{2} + s_{2} \\cos{\\left(p_{3} \\right)}\\right) \\sin{\\left(p_{3} \\right)}}{l_{2}}\\end{matrix}\\right]$"
      ],
      "text/plain": [
       "B1 := ⎡                    -(p₁ - q₁ - s₂⋅cos(p₃))                                  \n",
       "⎢                    ────────────────────────                                 \n",
       "⎢                               l₁                                            \n",
       "⎢                                                                             \n",
       "⎢                      -(p₂ - s₂⋅sin(p₃))                                     \n",
       "⎢                      ───────────────────                                    \n",
       "⎢                               l₁                                            \n",
       "⎢                                                                             \n",
       "⎢s₂⋅(p₂ - s₂⋅sin(p₃))⋅cos(p₃)   s₂⋅(p₁ - q₁ - s₂⋅cos(p₃))⋅sin(p₃)    s₂⋅(p₂ + \n",
       "⎢──────────────────────────── - ─────────────────────────────────  - ─────────\n",
       "⎣             l₁                                l₁                            \n",
       "\n",
       "          -(-l₀ + p₁ - q₂ + s₂⋅cos(p₃))                      ⎤\n",
       "          ──────────────────────────────                     ⎥\n",
       "                        l₂                                   ⎥\n",
       "                                                             ⎥\n",
       "               -(p₂ + s₂⋅sin(p₃))                            ⎥\n",
       "               ───────────────────                           ⎥\n",
       "                        l₂                                   ⎥\n",
       "                                                             ⎥\n",
       "s₂⋅sin(p₃))⋅cos(p₃)   s₂⋅(-l₀ + p₁ - q₂ + s₂⋅cos(p₃))⋅sin(p₃)⎥\n",
       "─────────────────── + ───────────────────────────────────────⎥\n",
       "    l₂                                   l₂                  ⎦"
      ]
     },
     "metadata": {},
     "output_type": "display_data"
    },
    {
     "data": {
      "text/plain": [
       "---"
      ]
     },
     "metadata": {},
     "output_type": "display_data"
    }
   ],
   "source": [
    "B1 = eqns1.jacobian(ttau1) ##:"
   ]
  },
  {
   "cell_type": "markdown",
   "metadata": {},
   "source": [
    "We need its left pseudoinverse, i.e. the $2 \\times 3$ matrix $B_1^{L+}$ with $B_1^{L+} B_1 = I_2$ and its left Orthocomplement $B_1^{L\\perp}$ ($1 \\times 3$) with $B_1^{L\\perp} B_1 = 0_{1 \\times 2}$\n",
    "\n",
    "Note: both matrices are not unique: There are infinitely many Pseudoinverses and Othocomplements."
   ]
  },
  {
   "cell_type": "code",
   "execution_count": 24,
   "metadata": {},
   "outputs": [
    {
     "data": {
      "text/latex": [
       "B1pinv := $\\displaystyle \\left[\\begin{matrix}\\frac{l_{1} l_{2} \\left(- \\frac{p_{2}}{l_{2}} - \\frac{s_{2} \\sin{\\left(p_{3} \\right)}}{l_{2}}\\right)}{l_{0} p_{2} - l_{0} s_{2} \\sin{\\left(p_{3} \\right)} + 2 p_{1} s_{2} \\sin{\\left(p_{3} \\right)} - p_{2} q_{1} + p_{2} q_{2} - 2 p_{2} s_{2} \\cos{\\left(p_{3} \\right)} - q_{1} s_{2} \\sin{\\left(p_{3} \\right)} - q_{2} s_{2} \\sin{\\left(p_{3} \\right)}} & - \\frac{l_{1} \\left(l_{0} - p_{1} + q_{2} - s_{2} \\cos{\\left(p_{3} \\right)}\\right)}{l_{0} p_{2} - l_{0} s_{2} \\sin{\\left(p_{3} \\right)} + 2 p_{1} s_{2} \\sin{\\left(p_{3} \\right)} - p_{2} q_{1} + p_{2} q_{2} - 2 p_{2} s_{2} \\cos{\\left(p_{3} \\right)} - q_{1} s_{2} \\sin{\\left(p_{3} \\right)} - q_{2} s_{2} \\sin{\\left(p_{3} \\right)}} & 0\\\\\\frac{l_{1} l_{2} \\left(\\frac{p_{2}}{l_{1}} - \\frac{s_{2} \\sin{\\left(p_{3} \\right)}}{l_{1}}\\right)}{l_{0} p_{2} - l_{0} s_{2} \\sin{\\left(p_{3} \\right)} + 2 p_{1} s_{2} \\sin{\\left(p_{3} \\right)} - p_{2} q_{1} + p_{2} q_{2} - 2 p_{2} s_{2} \\cos{\\left(p_{3} \\right)} - q_{1} s_{2} \\sin{\\left(p_{3} \\right)} - q_{2} s_{2} \\sin{\\left(p_{3} \\right)}} & \\frac{l_{2} \\left(- p_{1} + q_{1} + s_{2} \\cos{\\left(p_{3} \\right)}\\right)}{l_{0} p_{2} - l_{0} s_{2} \\sin{\\left(p_{3} \\right)} + 2 p_{1} s_{2} \\sin{\\left(p_{3} \\right)} - p_{2} q_{1} + p_{2} q_{2} - 2 p_{2} s_{2} \\cos{\\left(p_{3} \\right)} - q_{1} s_{2} \\sin{\\left(p_{3} \\right)} - q_{2} s_{2} \\sin{\\left(p_{3} \\right)}} & 0\\end{matrix}\\right]$"
      ],
      "text/plain": [
       "B1pinv := ⎡                                              ⎛  p₂   s₂⋅sin(p₃)⎞            \n",
       "⎢                                        l₁⋅l₂⋅⎜- ── - ──────────⎟            \n",
       "⎢                                              ⎝  l₂       l₂    ⎠            \n",
       "⎢─────────────────────────────────────────────────────────────────────────────\n",
       "⎢l₀⋅p₂ - l₀⋅s₂⋅sin(p₃) + 2⋅p₁⋅s₂⋅sin(p₃) - p₂⋅q₁ + p₂⋅q₂ - 2⋅p₂⋅s₂⋅cos(p₃) - q\n",
       "⎢                                                                             \n",
       "⎢                                               ⎛p₂   s₂⋅sin(p₃)⎞             \n",
       "⎢                                         l₁⋅l₂⋅⎜── - ──────────⎟             \n",
       "⎢                                               ⎝l₁       l₁    ⎠             \n",
       "⎢─────────────────────────────────────────────────────────────────────────────\n",
       "⎣l₀⋅p₂ - l₀⋅s₂⋅sin(p₃) + 2⋅p₁⋅s₂⋅sin(p₃) - p₂⋅q₁ + p₂⋅q₂ - 2⋅p₂⋅s₂⋅cos(p₃) - q\n",
       "\n",
       "                                                                              \n",
       "                                                                              \n",
       "                                                                   -l₁⋅(l₀ - p\n",
       "────────────────────────────  ────────────────────────────────────────────────\n",
       "₁⋅s₂⋅sin(p₃) - q₂⋅s₂⋅sin(p₃)  l₀⋅p₂ - l₀⋅s₂⋅sin(p₃) + 2⋅p₁⋅s₂⋅sin(p₃) - p₂⋅q₁ \n",
       "                                                                              \n",
       "                                                                              \n",
       "                                                                              \n",
       "                                                                      l₂⋅(-p₁ \n",
       "────────────────────────────  ────────────────────────────────────────────────\n",
       "₁⋅s₂⋅sin(p₃) - q₂⋅s₂⋅sin(p₃)  l₀⋅p₂ - l₀⋅s₂⋅sin(p₃) + 2⋅p₁⋅s₂⋅sin(p₃) - p₂⋅q₁ \n",
       "\n",
       "                                                            ⎤\n",
       "                                                            ⎥\n",
       "₁ + q₂ - s₂⋅cos(p₃))                                        ⎥\n",
       "─────────────────────────────────────────────────────────  0⎥\n",
       "+ p₂⋅q₂ - 2⋅p₂⋅s₂⋅cos(p₃) - q₁⋅s₂⋅sin(p₃) - q₂⋅s₂⋅sin(p₃)   ⎥\n",
       "                                                            ⎥\n",
       "                                                            ⎥\n",
       "                                                            ⎥\n",
       "+ q₁ + s₂⋅cos(p₃))                                          ⎥\n",
       "─────────────────────────────────────────────────────────  0⎥\n",
       "+ p₂⋅q₂ - 2⋅p₂⋅s₂⋅cos(p₃) - q₁⋅s₂⋅sin(p₃) - q₂⋅s₂⋅sin(p₃)   ⎦"
      ]
     },
     "metadata": {},
     "output_type": "display_data"
    },
    {
     "data": {
      "text/plain": [
       "---"
      ]
     },
     "metadata": {},
     "output_type": "display_data"
    },
    {
     "data": {
      "image/png": "[encoded data removed]",
      "text/latex": [
       "(B1pinv.shape) := $\\displaystyle \\left( 2, \\  3\\right)$"
      ],
      "text/plain": [
       "(B1pinv.shape) := (2, 3)"
      ]
     },
     "metadata": {},
     "output_type": "display_data"
    },
    {
     "data": {
      "text/plain": [
       "---"
      ]
     },
     "metadata": {},
     "output_type": "display_data"
    }
   ],
   "source": [
    "B1pinv = B1[:2, :].inverse_ADJ() # this is 2 x 2\n",
    "B1pinv = st.col_stack(B1pinv, sp.Matrix([0, 0])) ##:\n",
    "\n",
    "B1pinv.shape ##:"
   ]
  },
  {
   "cell_type": "code",
   "execution_count": 25,
   "metadata": {},
   "outputs": [
    {
     "data": {
      "text/latex": [
       "tmp := $\\displaystyle \\left[\\begin{matrix}1 & 0\\\\0 & 1\\end{matrix}\\right]$"
      ],
      "text/plain": [
       "tmp := ⎡1  0⎤\n",
       "⎢    ⎥\n",
       "⎣0  1⎦"
      ]
     },
     "metadata": {},
     "output_type": "display_data"
    },
    {
     "data": {
      "text/plain": [
       "---"
      ]
     },
     "metadata": {},
     "output_type": "display_data"
    }
   ],
   "source": [
    "# check\n",
    "tmp = (B1pinv * B1).smplf ##:\n",
    "\n",
    "\n",
    "assert tmp == sp.eye(2)"
   ]
  },
  {
   "cell_type": "code",
   "execution_count": 26,
   "metadata": {},
   "outputs": [
    {
     "data": {
      "text/latex": [
       "A := $\\displaystyle \\left[\\begin{matrix}a_{11} & a_{12}\\\\a_{21} & a_{22}\\\\a_{31} & a_{32}\\end{matrix}\\right]$"
      ],
      "text/plain": [
       "A := ⎡a₁₁  a₁₂⎤\n",
       "⎢        ⎥\n",
       "⎢a₂₁  a₂₂⎥\n",
       "⎢        ⎥\n",
       "⎣a₃₁  a₃₂⎦"
      ]
     },
     "metadata": {},
     "output_type": "display_data"
    },
    {
     "data": {
      "text/plain": [
       "---"
      ]
     },
     "metadata": {},
     "output_type": "display_data"
    }
   ],
   "source": [
    "# nullspace(~kernel) (orthocomplement)\n",
    "\n",
    "A = st.symbMatrix(3, 2)##:"
   ]
  },
  {
   "cell_type": "code",
   "execution_count": 27,
   "metadata": {
    "scrolled": true
   },
   "outputs": [
    {
     "data": {
      "text/latex": [
       "A_ortho := $\\displaystyle \\left[\\begin{matrix}a_{21} a_{32} - a_{22} a_{31} & - a_{11} a_{32} + a_{12} a_{31} & a_{11} a_{22} - a_{12} a_{21}\\end{matrix}\\right]$"
      ],
      "text/plain": [
       "A_ortho := [a₂₁⋅a₃₂ - a₂₂⋅a₃₁  -a₁₁⋅a₃₂ + a₁₂⋅a₃₁  a₁₁⋅a₂₂ - a₁₂⋅a₂₁]"
      ]
     },
     "metadata": {},
     "output_type": "display_data"
    },
    {
     "data": {
      "text/plain": [
       "---"
      ]
     },
     "metadata": {},
     "output_type": "display_data"
    }
   ],
   "source": [
    "A_ortho = st.nullspaceMatrix(A.T).T ##:"
   ]
  },
  {
   "cell_type": "code",
   "execution_count": 28,
   "metadata": {
    "scrolled": true
   },
   "outputs": [
    {
     "data": {
      "text/latex": [
       "$\\displaystyle \\left[\\begin{matrix}0\\\\0\\end{matrix}\\right]$"
      ],
      "text/plain": [
       "⎡0⎤\n",
       "⎢ ⎥\n",
       "⎣0⎦"
      ]
     },
     "execution_count": 28,
     "metadata": {},
     "output_type": "execute_result"
    }
   ],
   "source": [
    "# check\n",
    "\n",
    "(A.T * A_ortho.T).smplf"
   ]
  },
  {
   "cell_type": "code",
   "execution_count": 29,
   "metadata": {
    "scrolled": true
   },
   "outputs": [
    {
     "data": {
      "text/latex": [
       "B1_ortho := $\\displaystyle \\left[\\begin{matrix}s_{2} \\left(l_{0} p_{2} \\sin{\\left(p_{3} \\right)} - l_{0} s_{2} \\sin^{2}{\\left(p_{3} \\right)} - 2 p_{1} p_{2} \\sin{\\left(p_{3} \\right)} + 2 p_{2}^{2} \\cos{\\left(p_{3} \\right)} + p_{2} q_{1} \\sin{\\left(p_{3} \\right)} + p_{2} q_{2} \\sin{\\left(p_{3} \\right)} + q_{1} s_{2} \\sin^{2}{\\left(p_{3} \\right)} - q_{2} s_{2} \\sin^{2}{\\left(p_{3} \\right)}\\right) & s_{2} \\left(\\left(- p_{1} + q_{1} + s_{2} \\cos{\\left(p_{3} \\right)}\\right) \\left(l_{0} \\sin{\\left(p_{3} \\right)} - p_{1} \\sin{\\left(p_{3} \\right)} + p_{2} \\cos{\\left(p_{3} \\right)} + q_{2} \\sin{\\left(p_{3} \\right)}\\right) + \\left(- p_{1} \\sin{\\left(p_{3} \\right)} + p_{2} \\cos{\\left(p_{3} \\right)} + q_{1} \\sin{\\left(p_{3} \\right)}\\right) \\left(l_{0} - p_{1} + q_{2} - s_{2} \\cos{\\left(p_{3} \\right)}\\right)\\right) & \\left(p_{2} - s_{2} \\sin{\\left(p_{3} \\right)}\\right) \\left(l_{0} - p_{1} + q_{2} - s_{2} \\cos{\\left(p_{3} \\right)}\\right) - \\left(p_{2} + s_{2} \\sin{\\left(p_{3} \\right)}\\right) \\left(- p_{1} + q_{1} + s_{2} \\cos{\\left(p_{3} \\right)}\\right)\\end{matrix}\\right]$"
      ],
      "text/plain": [
       "B1_ortho := ⎡   ⎛                         2                             2                 \n",
       "⎣s₂⋅⎝l₀⋅p₂⋅sin(p₃) - l₀⋅s₂⋅sin (p₃) - 2⋅p₁⋅p₂⋅sin(p₃) + 2⋅p₂ ⋅cos(p₃) + p₂⋅q₁⋅\n",
       "\n",
       "                                   2                2    ⎞                    \n",
       "sin(p₃) + p₂⋅q₂⋅sin(p₃) + q₁⋅s₂⋅sin (p₃) - q₂⋅s₂⋅sin (p₃)⎠  s₂⋅((-p₁ + q₁ + s₂\n",
       "\n",
       "                                                                              \n",
       "⋅cos(p₃))⋅(l₀⋅sin(p₃) - p₁⋅sin(p₃) + p₂⋅cos(p₃) + q₂⋅sin(p₃)) + (-p₁⋅sin(p₃) +\n",
       "\n",
       "                                                                              \n",
       " p₂⋅cos(p₃) + q₁⋅sin(p₃))⋅(l₀ - p₁ + q₂ - s₂⋅cos(p₃)))  (p₂ - s₂⋅sin(p₃))⋅(l₀ \n",
       "\n",
       "                                                                   ⎤\n",
       "- p₁ + q₂ - s₂⋅cos(p₃)) - (p₂ + s₂⋅sin(p₃))⋅(-p₁ + q₁ + s₂⋅cos(p₃))⎦"
      ]
     },
     "metadata": {},
     "output_type": "display_data"
    },
    {
     "data": {
      "text/plain": [
       "---"
      ]
     },
     "metadata": {},
     "output_type": "display_data"
    }
   ],
   "source": [
    "# TODO: Was passiert hier genau bzw. wieso?\n",
    "B1_ortho = A_ortho.subz(list(A), list(B1)).smplf*l1*l2 ##:"
   ]
  },
  {
   "cell_type": "code",
   "execution_count": 30,
   "metadata": {},
   "outputs": [
    {
     "data": {
      "text/latex": [
       "res := $\\displaystyle \\left[\\begin{matrix}0 & 0\\end{matrix}\\right]$"
      ],
      "text/plain": [
       "res := [0  0]"
      ]
     },
     "metadata": {},
     "output_type": "display_data"
    },
    {
     "data": {
      "text/plain": [
       "---"
      ]
     },
     "metadata": {},
     "output_type": "display_data"
    }
   ],
   "source": [
    "# check orthocomplement property:\n",
    "res = (B1_ortho * B1).smplf ##:\n",
    "assert not any(res)"
   ]
  },
  {
   "cell_type": "markdown",
   "metadata": {},
   "source": [
    "Now we can assemble the $3\\times 3$ transformation matrix:\n",
    "\n",
    "$$\n",
    "W_1 = \n",
    "\\left(\\begin{matrix}\n",
    "B_1^{L+} \\\\\n",
    "B_1^{L\\perp}\n",
    "\\end{matrix} \\right)\n",
    "$$"
   ]
  },
  {
   "cell_type": "code",
   "execution_count": 31,
   "metadata": {},
   "outputs": [
    {
     "data": {
      "text/plain": [
       "info(W1) := \"<class 'sympy.matrices.dense.MutableDenseMatrix'> with count_ops: Matrix([[37, 36, 0], [36, 34, 0], [38, 33, 19]])\""
      ]
     },
     "metadata": {},
     "output_type": "display_data"
    },
    {
     "data": {
      "text/plain": [
       "---"
      ]
     },
     "metadata": {},
     "output_type": "display_data"
    }
   ],
   "source": [
    "W1 = st.row_stack(B1pinv, B1_ortho) ##:i"
   ]
  },
  {
   "cell_type": "code",
   "execution_count": 32,
   "metadata": {},
   "outputs": [
    {
     "data": {
      "text/latex": [
       "$\\displaystyle \\left[\\begin{matrix}\\frac{l_{1} l_{2} \\left(- \\frac{p_{2}}{l_{2}} - \\frac{s_{2} \\sin{\\left(p_{3} \\right)}}{l_{2}}\\right)}{l_{0} p_{2} - l_{0} s_{2} \\sin{\\left(p_{3} \\right)} + 2 p_{1} s_{2} \\sin{\\left(p_{3} \\right)} - p_{2} q_{1} + p_{2} q_{2} - 2 p_{2} s_{2} \\cos{\\left(p_{3} \\right)} - q_{1} s_{2} \\sin{\\left(p_{3} \\right)} - q_{2} s_{2} \\sin{\\left(p_{3} \\right)}} & - \\frac{l_{1} \\left(l_{0} - p_{1} + q_{2} - s_{2} \\cos{\\left(p_{3} \\right)}\\right)}{l_{0} p_{2} - l_{0} s_{2} \\sin{\\left(p_{3} \\right)} + 2 p_{1} s_{2} \\sin{\\left(p_{3} \\right)} - p_{2} q_{1} + p_{2} q_{2} - 2 p_{2} s_{2} \\cos{\\left(p_{3} \\right)} - q_{1} s_{2} \\sin{\\left(p_{3} \\right)} - q_{2} s_{2} \\sin{\\left(p_{3} \\right)}} & 0\\\\\\frac{l_{1} l_{2} \\left(\\frac{p_{2}}{l_{1}} - \\frac{s_{2} \\sin{\\left(p_{3} \\right)}}{l_{1}}\\right)}{l_{0} p_{2} - l_{0} s_{2} \\sin{\\left(p_{3} \\right)} + 2 p_{1} s_{2} \\sin{\\left(p_{3} \\right)} - p_{2} q_{1} + p_{2} q_{2} - 2 p_{2} s_{2} \\cos{\\left(p_{3} \\right)} - q_{1} s_{2} \\sin{\\left(p_{3} \\right)} - q_{2} s_{2} \\sin{\\left(p_{3} \\right)}} & \\frac{l_{2} \\left(- p_{1} + q_{1} + s_{2} \\cos{\\left(p_{3} \\right)}\\right)}{l_{0} p_{2} - l_{0} s_{2} \\sin{\\left(p_{3} \\right)} + 2 p_{1} s_{2} \\sin{\\left(p_{3} \\right)} - p_{2} q_{1} + p_{2} q_{2} - 2 p_{2} s_{2} \\cos{\\left(p_{3} \\right)} - q_{1} s_{2} \\sin{\\left(p_{3} \\right)} - q_{2} s_{2} \\sin{\\left(p_{3} \\right)}} & 0\\\\s_{2} \\left(l_{0} p_{2} \\sin{\\left(p_{3} \\right)} - l_{0} s_{2} \\sin^{2}{\\left(p_{3} \\right)} - 2 p_{1} p_{2} \\sin{\\left(p_{3} \\right)} + 2 p_{2}^{2} \\cos{\\left(p_{3} \\right)} + p_{2} q_{1} \\sin{\\left(p_{3} \\right)} + p_{2} q_{2} \\sin{\\left(p_{3} \\right)} + q_{1} s_{2} \\sin^{2}{\\left(p_{3} \\right)} - q_{2} s_{2} \\sin^{2}{\\left(p_{3} \\right)}\\right) & s_{2} \\left(\\left(- p_{1} + q_{1} + s_{2} \\cos{\\left(p_{3} \\right)}\\right) \\left(l_{0} \\sin{\\left(p_{3} \\right)} - p_{1} \\sin{\\left(p_{3} \\right)} + p_{2} \\cos{\\left(p_{3} \\right)} + q_{2} \\sin{\\left(p_{3} \\right)}\\right) + \\left(- p_{1} \\sin{\\left(p_{3} \\right)} + p_{2} \\cos{\\left(p_{3} \\right)} + q_{1} \\sin{\\left(p_{3} \\right)}\\right) \\left(l_{0} - p_{1} + q_{2} - s_{2} \\cos{\\left(p_{3} \\right)}\\right)\\right) & \\left(p_{2} - s_{2} \\sin{\\left(p_{3} \\right)}\\right) \\left(l_{0} - p_{1} + q_{2} - s_{2} \\cos{\\left(p_{3} \\right)}\\right) - \\left(p_{2} + s_{2} \\sin{\\left(p_{3} \\right)}\\right) \\left(- p_{1} + q_{1} + s_{2} \\cos{\\left(p_{3} \\right)}\\right)\\end{matrix}\\right]$"
      ],
      "text/plain": [
       "⎡                                                             ⎛  p₂   s₂⋅sin(p\n",
       "⎢                                                       l₁⋅l₂⋅⎜- ── - ────────\n",
       "⎢                                                             ⎝  l₂       l₂  \n",
       "⎢               ──────────────────────────────────────────────────────────────\n",
       "⎢               l₀⋅p₂ - l₀⋅s₂⋅sin(p₃) + 2⋅p₁⋅s₂⋅sin(p₃) - p₂⋅q₁ + p₂⋅q₂ - 2⋅p₂\n",
       "⎢                                                                             \n",
       "⎢                                                              ⎛p₂   s₂⋅sin(p₃\n",
       "⎢                                                        l₁⋅l₂⋅⎜── - ─────────\n",
       "⎢                                                              ⎝l₁       l₁   \n",
       "⎢               ──────────────────────────────────────────────────────────────\n",
       "⎢               l₀⋅p₂ - l₀⋅s₂⋅sin(p₃) + 2⋅p₁⋅s₂⋅sin(p₃) - p₂⋅q₁ + p₂⋅q₂ - 2⋅p₂\n",
       "⎢                                                                             \n",
       "⎢   ⎛                         2                             2                 \n",
       "⎣s₂⋅⎝l₀⋅p₂⋅sin(p₃) - l₀⋅s₂⋅sin (p₃) - 2⋅p₁⋅p₂⋅sin(p₃) + 2⋅p₂ ⋅cos(p₃) + p₂⋅q₁⋅\n",
       "\n",
       "₃)⎞                                                                           \n",
       "──⎟                                                                           \n",
       "  ⎠                                                                           \n",
       "───────────────────────────────────────────                                   \n",
       "⋅s₂⋅cos(p₃) - q₁⋅s₂⋅sin(p₃) - q₂⋅s₂⋅sin(p₃)                                   \n",
       "                                                                              \n",
       ")⎞                                                                            \n",
       "─⎟                                                                            \n",
       " ⎠                                                                            \n",
       "───────────────────────────────────────────                                   \n",
       "⋅s₂⋅cos(p₃) - q₁⋅s₂⋅sin(p₃) - q₂⋅s₂⋅sin(p₃)                                   \n",
       "                                                                              \n",
       "                                   2                2    ⎞                    \n",
       "sin(p₃) + p₂⋅q₂⋅sin(p₃) + q₁⋅s₂⋅sin (p₃) - q₂⋅s₂⋅sin (p₃)⎠  s₂⋅((-p₁ + q₁ + s₂\n",
       "\n",
       "                                                                              \n",
       "                                                                              \n",
       "                                         -l₁⋅(l₀ - p₁ + q₂ - s₂⋅cos(p₃))      \n",
       "    ──────────────────────────────────────────────────────────────────────────\n",
       "    l₀⋅p₂ - l₀⋅s₂⋅sin(p₃) + 2⋅p₁⋅s₂⋅sin(p₃) - p₂⋅q₁ + p₂⋅q₂ - 2⋅p₂⋅s₂⋅cos(p₃) \n",
       "                                                                              \n",
       "                                                                              \n",
       "                                                                              \n",
       "                                            l₂⋅(-p₁ + q₁ + s₂⋅cos(p₃))        \n",
       "    ──────────────────────────────────────────────────────────────────────────\n",
       "    l₀⋅p₂ - l₀⋅s₂⋅sin(p₃) + 2⋅p₁⋅s₂⋅sin(p₃) - p₂⋅q₁ + p₂⋅q₂ - 2⋅p₂⋅s₂⋅cos(p₃) \n",
       "                                                                              \n",
       "                                                                              \n",
       "⋅cos(p₃))⋅(l₀⋅sin(p₃) - p₁⋅sin(p₃) + p₂⋅cos(p₃) + q₂⋅sin(p₃)) + (-p₁⋅sin(p₃) +\n",
       "\n",
       "                                                                              \n",
       "                                                                              \n",
       "                                                                              \n",
       "───────────────────────────────                                               \n",
       "- q₁⋅s₂⋅sin(p₃) - q₂⋅s₂⋅sin(p₃)                                               \n",
       "                                                                              \n",
       "                                                                              \n",
       "                                                                              \n",
       "                                                                              \n",
       "───────────────────────────────                                               \n",
       "- q₁⋅s₂⋅sin(p₃) - q₂⋅s₂⋅sin(p₃)                                               \n",
       "                                                                              \n",
       "                                                                              \n",
       " p₂⋅cos(p₃) + q₁⋅sin(p₃))⋅(l₀ - p₁ + q₂ - s₂⋅cos(p₃)))  (p₂ - s₂⋅sin(p₃))⋅(l₀ \n",
       "\n",
       "                                                                   ⎤\n",
       "                                                                   ⎥\n",
       "                                                                   ⎥\n",
       "                      0                                            ⎥\n",
       "                                                                   ⎥\n",
       "                                                                   ⎥\n",
       "                                                                   ⎥\n",
       "                                                                   ⎥\n",
       "                                                                   ⎥\n",
       "                      0                                            ⎥\n",
       "                                                                   ⎥\n",
       "                                                                   ⎥\n",
       "                                                                   ⎥\n",
       "- p₁ + q₂ - s₂⋅cos(p₃)) - (p₂ + s₂⋅sin(p₃))⋅(-p₁ + q₁ + s₂⋅cos(p₃))⎦"
      ]
     },
     "execution_count": 32,
     "metadata": {},
     "output_type": "execute_result"
    }
   ],
   "source": [
    "W1"
   ]
  },
  {
   "cell_type": "code",
   "execution_count": 33,
   "metadata": {},
   "outputs": [
    {
     "data": {
      "text/latex": [
       "eqns2 := $\\displaystyle \\left[\\begin{matrix}\\frac{\\left(p_{2} + s_{2} \\sin{\\left(p_{3} \\right)}\\right) \\left(l_{1} l_{2} m_{2} \\ddot{p}_{1} + l_{1} \\tau_{4} \\left(l_{0} - p_{1} + q_{2} - s_{2} \\cos{\\left(p_{3} \\right)}\\right) + l_{2} \\tau_{3} \\left(- p_{1} + q_{1} + s_{2} \\cos{\\left(p_{3} \\right)}\\right)\\right) + \\left(l_{1} l_{2} m_{2} \\left(g + \\ddot{p}_{2}\\right) - l_{1} \\tau_{4} \\left(p_{2} + s_{2} \\sin{\\left(p_{3} \\right)}\\right) - l_{2} \\tau_{3} \\left(p_{2} - s_{2} \\sin{\\left(p_{3} \\right)}\\right)\\right) \\left(l_{0} - p_{1} + q_{2} - s_{2} \\cos{\\left(p_{3} \\right)}\\right)}{l_{2} \\left(- l_{0} p_{2} + l_{0} s_{2} \\sin{\\left(p_{3} \\right)} - 2 p_{1} s_{2} \\sin{\\left(p_{3} \\right)} + p_{2} q_{1} - p_{2} q_{2} + 2 p_{2} s_{2} \\cos{\\left(p_{3} \\right)} + q_{1} s_{2} \\sin{\\left(p_{3} \\right)} + q_{2} s_{2} \\sin{\\left(p_{3} \\right)}\\right)}\\\\- \\frac{\\left(p_{2} - s_{2} \\sin{\\left(p_{3} \\right)}\\right) \\left(l_{1} l_{2} m_{2} \\ddot{p}_{1} + l_{1} \\tau_{4} \\left(l_{0} - p_{1} + q_{2} - s_{2} \\cos{\\left(p_{3} \\right)}\\right) + l_{2} \\tau_{3} \\left(- p_{1} + q_{1} + s_{2} \\cos{\\left(p_{3} \\right)}\\right)\\right) - \\left(- p_{1} + q_{1} + s_{2} \\cos{\\left(p_{3} \\right)}\\right) \\left(- l_{1} l_{2} m_{2} \\left(g + \\ddot{p}_{2}\\right) + l_{1} \\tau_{4} \\left(p_{2} + s_{2} \\sin{\\left(p_{3} \\right)}\\right) + l_{2} \\tau_{3} \\left(p_{2} - s_{2} \\sin{\\left(p_{3} \\right)}\\right)\\right)}{l_{1} \\left(- l_{0} p_{2} + l_{0} s_{2} \\sin{\\left(p_{3} \\right)} - 2 p_{1} s_{2} \\sin{\\left(p_{3} \\right)} + p_{2} q_{1} - p_{2} q_{2} + 2 p_{2} s_{2} \\cos{\\left(p_{3} \\right)} + q_{1} s_{2} \\sin{\\left(p_{3} \\right)} + q_{2} s_{2} \\sin{\\left(p_{3} \\right)}\\right)}\\\\\\frac{s_{2} \\left(\\left(- p_{1} + q_{1} + s_{2} \\cos{\\left(p_{3} \\right)}\\right) \\left(l_{0} \\sin{\\left(p_{3} \\right)} - p_{1} \\sin{\\left(p_{3} \\right)} + p_{2} \\cos{\\left(p_{3} \\right)} + q_{2} \\sin{\\left(p_{3} \\right)}\\right) + \\left(- p_{1} \\sin{\\left(p_{3} \\right)} + p_{2} \\cos{\\left(p_{3} \\right)} + q_{1} \\sin{\\left(p_{3} \\right)}\\right) \\left(l_{0} - p_{1} + q_{2} - s_{2} \\cos{\\left(p_{3} \\right)}\\right)\\right) \\left(l_{1} l_{2} m_{2} \\left(g + \\ddot{p}_{2}\\right) - l_{1} \\tau_{4} \\left(p_{2} + s_{2} \\sin{\\left(p_{3} \\right)}\\right) - l_{2} \\tau_{3} \\left(p_{2} - s_{2} \\sin{\\left(p_{3} \\right)}\\right)\\right) + s_{2} \\left(l_{1} l_{2} m_{2} \\ddot{p}_{1} + l_{1} \\tau_{4} \\left(l_{0} - p_{1} + q_{2} - s_{2} \\cos{\\left(p_{3} \\right)}\\right) + l_{2} \\tau_{3} \\left(- p_{1} + q_{1} + s_{2} \\cos{\\left(p_{3} \\right)}\\right)\\right) \\left(l_{0} p_{2} \\sin{\\left(p_{3} \\right)} - l_{0} s_{2} \\sin^{2}{\\left(p_{3} \\right)} - 2 p_{1} p_{2} \\sin{\\left(p_{3} \\right)} + 2 p_{2}^{2} \\cos{\\left(p_{3} \\right)} + p_{2} q_{1} \\sin{\\left(p_{3} \\right)} + p_{2} q_{2} \\sin{\\left(p_{3} \\right)} + q_{1} s_{2} \\sin^{2}{\\left(p_{3} \\right)} - q_{2} s_{2} \\sin^{2}{\\left(p_{3} \\right)}\\right) + \\left(\\left(p_{2} - s_{2} \\sin{\\left(p_{3} \\right)}\\right) \\left(l_{0} - p_{1} + q_{2} - s_{2} \\cos{\\left(p_{3} \\right)}\\right) - \\left(p_{2} + s_{2} \\sin{\\left(p_{3} \\right)}\\right) \\left(- p_{1} + q_{1} + s_{2} \\cos{\\left(p_{3} \\right)}\\right)\\right) \\left(J_{2} l_{1} l_{2} \\ddot{p}_{3} + l_{1} s_{2} \\tau_{4} \\left(- l_{0} \\sin{\\left(p_{3} \\right)} + p_{1} \\sin{\\left(p_{3} \\right)} - p_{2} \\cos{\\left(p_{3} \\right)} - q_{2} \\sin{\\left(p_{3} \\right)}\\right) + l_{2} s_{2} \\tau_{3} \\left(- p_{1} \\sin{\\left(p_{3} \\right)} + p_{2} \\cos{\\left(p_{3} \\right)} + q_{1} \\sin{\\left(p_{3} \\right)}\\right)\\right)}{l_{1} l_{2}}\\end{matrix}\\right]$"
      ],
      "text/plain": [
       "eqns2 := ⎡                                                                             \n",
       "⎢                                                                             \n",
       "⎢                                                                             \n",
       "⎢                                                                             \n",
       "⎢                                                                             \n",
       "⎢                                                                             \n",
       "⎢                                                                             \n",
       "⎢                                                                             \n",
       "⎢                                                                             \n",
       "⎢s₂⋅((-p₁ + q₁ + s₂⋅cos(p₃))⋅(l₀⋅sin(p₃) - p₁⋅sin(p₃) + p₂⋅cos(p₃) + q₂⋅sin(p₃\n",
       "⎢─────────────────────────────────────────────────────────────────────────────\n",
       "⎣                                                                             \n",
       "\n",
       "                                                                              \n",
       "                                                                              \n",
       "                                                                              \n",
       "                                                                              \n",
       "                                                                              \n",
       "                                                                              \n",
       "                                                                              \n",
       "                                                                              \n",
       "                                                                              \n",
       ")) + (-p₁⋅sin(p₃) + p₂⋅cos(p₃) + q₁⋅sin(p₃))⋅(l₀ - p₁ + q₂ - s₂⋅cos(p₃)))⋅(l₁⋅\n",
       "──────────────────────────────────────────────────────────────────────────────\n",
       "                                                                              \n",
       "\n",
       "                                                                             (\n",
       "                                                                             ─\n",
       "                                                                              \n",
       "                                                                              \n",
       "                                                                            -(\n",
       "                                                                            ──\n",
       "                                                                              \n",
       "                                                                              \n",
       "                                                                              \n",
       "l₂⋅m₂⋅(g + p̈₂) - l₁⋅τ₄⋅(p₂ + s₂⋅sin(p₃)) - l₂⋅τ₃⋅(p₂ - s₂⋅sin(p₃))) + s₂⋅(l₁⋅\n",
       "──────────────────────────────────────────────────────────────────────────────\n",
       "                                                                              \n",
       "\n",
       "p₂ + s₂⋅sin(p₃))⋅(l₁⋅l₂⋅m₂⋅p̈₁ + l₁⋅τ₄⋅(l₀ - p₁ + q₂ - s₂⋅cos(p₃)) + l₂⋅τ₃⋅(-p\n",
       "──────────────────────────────────────────────────────────────────────────────\n",
       "                                            l₂⋅(-l₀⋅p₂ + l₀⋅s₂⋅sin(p₃) - 2⋅p₁⋅\n",
       "                                                                              \n",
       "(p₂ - s₂⋅sin(p₃))⋅(l₁⋅l₂⋅m₂⋅p̈₁ + l₁⋅τ₄⋅(l₀ - p₁ + q₂ - s₂⋅cos(p₃)) + l₂⋅τ₃⋅(-\n",
       "──────────────────────────────────────────────────────────────────────────────\n",
       "                                           l₁⋅(-l₀⋅p₂ + l₀⋅s₂⋅sin(p₃) - 2⋅p₁⋅s\n",
       "                                                                              \n",
       "                                                                             ⎛\n",
       "l₂⋅m₂⋅p̈₁ + l₁⋅τ₄⋅(l₀ - p₁ + q₂ - s₂⋅cos(p₃)) + l₂⋅τ₃⋅(-p₁ + q₁ + s₂⋅cos(p₃)))\n",
       "──────────────────────────────────────────────────────────────────────────────\n",
       "                                                                              \n",
       "\n",
       "₁ + q₁ + s₂⋅cos(p₃))) + (l₁⋅l₂⋅m₂⋅(g + p̈₂) - l₁⋅τ₄⋅(p₂ + s₂⋅sin(p₃)) - l₂⋅τ₃⋅\n",
       "──────────────────────────────────────────────────────────────────────────────\n",
       "s₂⋅sin(p₃) + p₂⋅q₁ - p₂⋅q₂ + 2⋅p₂⋅s₂⋅cos(p₃) + q₁⋅s₂⋅sin(p₃) + q₂⋅s₂⋅sin(p₃)) \n",
       "                                                                              \n",
       "p₁ + q₁ + s₂⋅cos(p₃))) - (-p₁ + q₁ + s₂⋅cos(p₃))⋅(-l₁⋅l₂⋅m₂⋅(g + p̈₂) + l₁⋅τ₄⋅\n",
       "──────────────────────────────────────────────────────────────────────────────\n",
       "₂⋅sin(p₃) + p₂⋅q₁ - p₂⋅q₂ + 2⋅p₂⋅s₂⋅cos(p₃) + q₁⋅s₂⋅sin(p₃) + q₂⋅s₂⋅sin(p₃))  \n",
       "                                                                              \n",
       "                         2                             2                      \n",
       "⋅⎝l₀⋅p₂⋅sin(p₃) - l₀⋅s₂⋅sin (p₃) - 2⋅p₁⋅p₂⋅sin(p₃) + 2⋅p₂ ⋅cos(p₃) + p₂⋅q₁⋅sin\n",
       "──────────────────────────────────────────────────────────────────────────────\n",
       "                   l₁⋅l₂                                                      \n",
       "\n",
       "(p₂ - s₂⋅sin(p₃)))⋅(l₀ - p₁ + q₂ - s₂⋅cos(p₃))                                \n",
       "────────────────────────────────────────────                                  \n",
       "                                                                              \n",
       "                                                                              \n",
       "(p₂ + s₂⋅sin(p₃)) + l₂⋅τ₃⋅(p₂ - s₂⋅sin(p₃))))                                 \n",
       "────────────────────────────────────────────                                  \n",
       "                                                                              \n",
       "                                                                              \n",
       "                              2                2    ⎞                         \n",
       "(p₃) + p₂⋅q₂⋅sin(p₃) + q₁⋅s₂⋅sin (p₃) - q₂⋅s₂⋅sin (p₃)⎠ + ((p₂ - s₂⋅sin(p₃))⋅(\n",
       "──────────────────────────────────────────────────────────────────────────────\n",
       "                                                                              \n",
       "\n",
       "                                                                              \n",
       "                                                                              \n",
       "                                                                              \n",
       "                                                                              \n",
       "                                                                              \n",
       "                                                                              \n",
       "                                                                              \n",
       "                                                                              \n",
       "                                                                              \n",
       "l₀ - p₁ + q₂ - s₂⋅cos(p₃)) - (p₂ + s₂⋅sin(p₃))⋅(-p₁ + q₁ + s₂⋅cos(p₃)))⋅(J₂⋅l₁\n",
       "──────────────────────────────────────────────────────────────────────────────\n",
       "                                                                              \n",
       "\n",
       "                                                                              \n",
       "                                                                              \n",
       "                                                                              \n",
       "                                                                              \n",
       "                                                                              \n",
       "                                                                              \n",
       "                                                                              \n",
       "                                                                              \n",
       "                                                                              \n",
       "⋅l₂⋅p̈₃ + l₁⋅s₂⋅τ₄⋅(-l₀⋅sin(p₃) + p₁⋅sin(p₃) - p₂⋅cos(p₃) - q₂⋅sin(p₃)) + l₂⋅s\n",
       "──────────────────────────────────────────────────────────────────────────────\n",
       "                                                                              \n",
       "\n",
       "                                            ⎤\n",
       "                                          ⎥\n",
       "                                          ⎥\n",
       "                                          ⎥\n",
       "                                            ⎥\n",
       "                                          ⎥\n",
       "                                          ⎥\n",
       "                                          ⎥\n",
       "                                          ⎥\n",
       "₂⋅τ₃⋅(-p₁⋅sin(p₃) + p₂⋅cos(p₃) + q₁⋅sin(p₃)))⎥\n",
       "──────────────────────────────────────────⎥\n",
       "                                          ⎦"
      ]
     },
     "metadata": {},
     "output_type": "display_data"
    },
    {
     "data": {
      "text/plain": [
       "---"
      ]
     },
     "metadata": {},
     "output_type": "display_data"
    }
   ],
   "source": [
    "eqns2 = (W1*eqns1).smplf ##:"
   ]
  },
  {
   "cell_type": "code",
   "execution_count": 34,
   "metadata": {},
   "outputs": [
    {
     "data": {
      "text/latex": [
       "$\\displaystyle \\left[\\begin{matrix}\\tau_{3}\\\\\\tau_{4}\\end{matrix}\\right]$"
      ],
      "text/plain": [
       "⎡τ₃⎤\n",
       "⎢  ⎥\n",
       "⎣τ₄⎦"
      ]
     },
     "execution_count": 34,
     "metadata": {},
     "output_type": "execute_result"
    }
   ],
   "source": [
    "ttau1"
   ]
  },
  {
   "cell_type": "code",
   "execution_count": 35,
   "metadata": {},
   "outputs": [
    {
     "data": {
      "text/latex": [
       "B2 := $\\displaystyle \\left[\\begin{matrix}1 & 0\\\\0 & 1\\\\0 & 0\\end{matrix}\\right]$"
      ],
      "text/plain": [
       "B2 := ⎡1  0⎤\n",
       "⎢    ⎥\n",
       "⎢0  1⎥\n",
       "⎢    ⎥\n",
       "⎣0  0⎦"
      ]
     },
     "metadata": {},
     "output_type": "display_data"
    },
    {
     "data": {
      "text/plain": [
       "---"
      ]
     },
     "metadata": {},
     "output_type": "display_data"
    }
   ],
   "source": [
    "B2 = eqns2.jacobian(ttau1).smplf ##:\n",
    "assert B2 == sp.eye(3)[:, :2]"
   ]
  },
  {
   "cell_type": "code",
   "execution_count": 36,
   "metadata": {},
   "outputs": [
    {
     "data": {
      "image/png": "[encoded data removed]",
      "text/latex": [
       "eqn3 := $\\displaystyle s_{2} \\left(\\left(- p_{1} + q_{1} + s_{2} \\cos{\\left(p_{3} \\right)}\\right) \\left(l_{0} \\sin{\\left(p_{3} \\right)} - p_{1} \\sin{\\left(p_{3} \\right)} + p_{2} \\cos{\\left(p_{3} \\right)} + q_{2} \\sin{\\left(p_{3} \\right)}\\right) + \\left(- p_{1} \\sin{\\left(p_{3} \\right)} + p_{2} \\cos{\\left(p_{3} \\right)} + q_{1} \\sin{\\left(p_{3} \\right)}\\right) \\left(l_{0} - p_{1} + q_{2} - s_{2} \\cos{\\left(p_{3} \\right)}\\right)\\right) \\left(l_{1} l_{2} m_{2} \\left(g + \\ddot{p}_{2}\\right) - l_{1} \\tau_{4} \\left(p_{2} + s_{2} \\sin{\\left(p_{3} \\right)}\\right) - l_{2} \\tau_{3} \\left(p_{2} - s_{2} \\sin{\\left(p_{3} \\right)}\\right)\\right) + s_{2} \\left(l_{1} l_{2} m_{2} \\ddot{p}_{1} + l_{1} \\tau_{4} \\left(l_{0} - p_{1} + q_{2} - s_{2} \\cos{\\left(p_{3} \\right)}\\right) + l_{2} \\tau_{3} \\left(- p_{1} + q_{1} + s_{2} \\cos{\\left(p_{3} \\right)}\\right)\\right) \\left(l_{0} p_{2} \\sin{\\left(p_{3} \\right)} - l_{0} s_{2} \\sin^{2}{\\left(p_{3} \\right)} - 2 p_{1} p_{2} \\sin{\\left(p_{3} \\right)} + 2 p_{2}^{2} \\cos{\\left(p_{3} \\right)} + p_{2} q_{1} \\sin{\\left(p_{3} \\right)} + p_{2} q_{2} \\sin{\\left(p_{3} \\right)} + q_{1} s_{2} \\sin^{2}{\\left(p_{3} \\right)} - q_{2} s_{2} \\sin^{2}{\\left(p_{3} \\right)}\\right) + \\left(\\left(p_{2} - s_{2} \\sin{\\left(p_{3} \\right)}\\right) \\left(l_{0} - p_{1} + q_{2} - s_{2} \\cos{\\left(p_{3} \\right)}\\right) - \\left(p_{2} + s_{2} \\sin{\\left(p_{3} \\right)}\\right) \\left(- p_{1} + q_{1} + s_{2} \\cos{\\left(p_{3} \\right)}\\right)\\right) \\left(J_{2} l_{1} l_{2} \\ddot{p}_{3} + l_{1} s_{2} \\tau_{4} \\left(- l_{0} \\sin{\\left(p_{3} \\right)} + p_{1} \\sin{\\left(p_{3} \\right)} - p_{2} \\cos{\\left(p_{3} \\right)} - q_{2} \\sin{\\left(p_{3} \\right)}\\right) + l_{2} s_{2} \\tau_{3} \\left(- p_{1} \\sin{\\left(p_{3} \\right)} + p_{2} \\cos{\\left(p_{3} \\right)} + q_{1} \\sin{\\left(p_{3} \\right)}\\right)\\right)$"
      ],
      "text/plain": [
       "eqn3 :=                                                                               \n",
       "s₂⋅((-p₁ + q₁ + s₂⋅cos(p₃))⋅(l₀⋅sin(p₃) - p₁⋅sin(p₃) + p₂⋅cos(p₃) + q₂⋅sin(p₃)\n",
       "\n",
       "                                                                              \n",
       ") + (-p₁⋅sin(p₃) + p₂⋅cos(p₃) + q₁⋅sin(p₃))⋅(l₀ - p₁ + q₂ - s₂⋅cos(p₃)))⋅(l₁⋅l\n",
       "\n",
       "                                                                              \n",
       "₂⋅m₂⋅(g + p̈₂) - l₁⋅τ₄⋅(p₂ + s₂⋅sin(p₃)) - l₂⋅τ₃⋅(p₂ - s₂⋅sin(p₃))) + s₂⋅(l₁⋅l\n",
       "\n",
       "                                                                            ⎛ \n",
       "₂⋅m₂⋅p̈₁ + l₁⋅τ₄⋅(l₀ - p₁ + q₂ - s₂⋅cos(p₃)) + l₂⋅τ₃⋅(-p₁ + q₁ + s₂⋅cos(p₃)))⋅\n",
       "\n",
       "                        2                             2                       \n",
       "⎝l₀⋅p₂⋅sin(p₃) - l₀⋅s₂⋅sin (p₃) - 2⋅p₁⋅p₂⋅sin(p₃) + 2⋅p₂ ⋅cos(p₃) + p₂⋅q₁⋅sin(\n",
       "\n",
       "                             2                2    ⎞                          \n",
       "p₃) + p₂⋅q₂⋅sin(p₃) + q₁⋅s₂⋅sin (p₃) - q₂⋅s₂⋅sin (p₃)⎠ + ((p₂ - s₂⋅sin(p₃))⋅(l\n",
       "\n",
       "                                                                              \n",
       "₀ - p₁ + q₂ - s₂⋅cos(p₃)) - (p₂ + s₂⋅sin(p₃))⋅(-p₁ + q₁ + s₂⋅cos(p₃)))⋅(J₂⋅l₁⋅\n",
       "\n",
       "                                                                              \n",
       "l₂⋅p̈₃ + l₁⋅s₂⋅τ₄⋅(-l₀⋅sin(p₃) + p₁⋅sin(p₃) - p₂⋅cos(p₃) - q₂⋅sin(p₃)) + l₂⋅s₂\n",
       "\n",
       "                                         \n",
       "⋅τ₃⋅(-p₁⋅sin(p₃) + p₂⋅cos(p₃) + q₁⋅sin(p₃)))"
      ]
     },
     "metadata": {},
     "output_type": "display_data"
    },
    {
     "data": {
      "text/plain": [
       "---"
      ]
     },
     "metadata": {},
     "output_type": "display_data"
    }
   ],
   "source": [
    "# eliminate the first two equations and tau3, tau4\n",
    "eqn3 = eqns2[-1, 0] *l1*l2 ##:"
   ]
  },
  {
   "cell_type": "code",
   "execution_count": 37,
   "metadata": {
    "scrolled": true
   },
   "outputs": [
    {
     "data": {
      "image/png": "[encoded data removed]",
      "text/latex": [
       "$\\displaystyle \\left\\{J_{2}, g, l_{0}, l_{1}, l_{2}, m_{2}, p_{1}, p_{2}, p_{3}, \\ddot{p}_{1}, \\ddot{p}_{2}, \\ddot{p}_{3}, q_{1}, q_{2}, s_{2}\\right\\}$"
      ],
      "text/plain": [
       "{J₂, g, l₀, l₁, l₂, m₂, p₁, p₂, p₃, p̈₁, p̈₂, p̈₃, q₁, q₂, s₂}"
      ]
     },
     "execution_count": 37,
     "metadata": {},
     "output_type": "execute_result"
    }
   ],
   "source": [
    "eqn3.expand().s"
   ]
  },
  {
   "cell_type": "markdown",
   "metadata": {},
   "source": [
    "In `eqn3` $q_1, q_2$ only occur algebraicly:  the structure is $0 = \\kappa_0 + \\kappa_{1, 0} q_1+ \\kappa_{0,1} q_2 + \\kappa_{1, 1} q_1 q_2$. Thus, $q_2$ (or $q_1$) can be eliminated, together with the last equation.\n",
    "\n",
    "The remaining quantities form the flat output: $\\mathbf{y} = (p_1, p_2, p_3, q_1)^T$.\n",
    "\n",
    "All other quantities can be derived from $\\mathbf y(\\cdot)$: $q_2$ from `eqn3` and then the inputs from the earlier eliminated equations. Togehter the eliminated equations yield the parametrization of the system quantities by the flat output."
   ]
  },
  {
   "cell_type": "code",
   "execution_count": 38,
   "metadata": {},
   "outputs": [],
   "source": [
    "kappa_10 = eqn3.diff(q1).subs(q2, 0).smplf\n",
    "kappa_01 = eqn3.diff(q2).subs(q1, 0).smplf\n",
    "kappa_11 = eqn3.diff(q1).diff(q2).smplf"
   ]
  },
  {
   "cell_type": "code",
   "execution_count": 39,
   "metadata": {},
   "outputs": [],
   "source": [
    "kappa_0 = (eqn3 - kappa_10*q1 - kappa_01*q2 - kappa_11*q1*q2).smplf"
   ]
  },
  {
   "cell_type": "code",
   "execution_count": 40,
   "metadata": {},
   "outputs": [],
   "source": [
    "kk = sp.Matrix([kappa_0, kappa_01, kappa_10, kappa_11])"
   ]
  },
  {
   "cell_type": "code",
   "execution_count": 67,
   "metadata": {},
   "outputs": [
    {
     "data": {
      "image/png": "[encoded data removed]",
      "text/latex": [
       "$\\displaystyle \\left\\{J_{2}, g, l_{0}, l_{1}, l_{2}, m_{2}, p_{1}, p_{2}, p_{3}, \\ddot{p}_{1}, \\ddot{p}_{2}, \\ddot{p}_{3}, s_{2}\\right\\}$"
      ],
      "text/plain": [
       "{J₂, g, l₀, l₁, l₂, m₂, p₁, p₂, p₃, p̈₁, p̈₂, p̈₃, s₂}"
      ]
     },
     "execution_count": 67,
     "metadata": {},
     "output_type": "execute_result"
    }
   ],
   "source": [
    "kk.s"
   ]
  },
  {
   "cell_type": "markdown",
   "metadata": {},
   "source": [
    "# System parameterization by flat output"
   ]
  },
  {
   "cell_type": "code",
   "execution_count": 82,
   "metadata": {},
   "outputs": [
    {
     "data": {
      "text/latex": [
       "flat_q2 := $\\displaystyle \\left[\\begin{matrix}\\frac{- 2 J_{2} l_{0} p_{2} \\ddot{p}_{3} + 2 J_{2} l_{0} \\ddot{p}_{3} s_{2} \\sin{\\left(p_{3} \\right)} - 4 J_{2} p_{1} \\ddot{p}_{3} s_{2} \\sin{\\left(p_{3} \\right)} + 2 J_{2} p_{2} \\ddot{p}_{3} q_{1} + 4 J_{2} p_{2} \\ddot{p}_{3} s_{2} \\cos{\\left(p_{3} \\right)} + 2 J_{2} \\ddot{p}_{3} q_{1} s_{2} \\sin{\\left(p_{3} \\right)} + 4 g l_{0} m_{2} p_{1} s_{2} \\sin{\\left(p_{3} \\right)} - 2 g l_{0} m_{2} p_{2} s_{2} \\cos{\\left(p_{3} \\right)} - 4 g l_{0} m_{2} q_{1} s_{2} \\sin{\\left(p_{3} \\right)} - g l_{0} m_{2} s_{2}^{2} \\sin{\\left(2 p_{3} \\right)} - 4 g m_{2} p_{1}^{2} s_{2} \\sin{\\left(p_{3} \\right)} + 4 g m_{2} p_{1} p_{2} s_{2} \\cos{\\left(p_{3} \\right)} + 4 g m_{2} p_{1} q_{1} s_{2} \\sin{\\left(p_{3} \\right)} - 2 g m_{2} p_{2} q_{1} s_{2} \\cos{\\left(p_{3} \\right)} + g m_{2} q_{1} s_{2}^{2} \\sin{\\left(2 p_{3} \\right)} + 4 l_{0} m_{2} p_{1} \\ddot{p}_{2} s_{2} \\sin{\\left(p_{3} \\right)} - 2 l_{0} m_{2} p_{2} \\ddot{p}_{1} s_{2} \\sin{\\left(p_{3} \\right)} - 2 l_{0} m_{2} p_{2} \\ddot{p}_{2} s_{2} \\cos{\\left(p_{3} \\right)} + 2 l_{0} m_{2} \\ddot{p}_{1} s_{2}^{2} \\sin^{2}{\\left(p_{3} \\right)} - 4 l_{0} m_{2} \\ddot{p}_{2} q_{1} s_{2} \\sin{\\left(p_{3} \\right)} - l_{0} m_{2} \\ddot{p}_{2} s_{2}^{2} \\sin{\\left(2 p_{3} \\right)} - 4 m_{2} p_{1}^{2} \\ddot{p}_{2} s_{2} \\sin{\\left(p_{3} \\right)} + 4 m_{2} p_{1} p_{2} \\ddot{p}_{1} s_{2} \\sin{\\left(p_{3} \\right)} + 4 m_{2} p_{1} p_{2} \\ddot{p}_{2} s_{2} \\cos{\\left(p_{3} \\right)} + 4 m_{2} p_{1} \\ddot{p}_{2} q_{1} s_{2} \\sin{\\left(p_{3} \\right)} - 4 m_{2} p_{2}^{2} \\ddot{p}_{1} s_{2} \\cos{\\left(p_{3} \\right)} - 2 m_{2} p_{2} \\ddot{p}_{1} q_{1} s_{2} \\sin{\\left(p_{3} \\right)} - 2 m_{2} p_{2} \\ddot{p}_{2} q_{1} s_{2} \\cos{\\left(p_{3} \\right)} - 2 m_{2} \\ddot{p}_{1} q_{1} s_{2}^{2} \\sin^{2}{\\left(p_{3} \\right)} + m_{2} \\ddot{p}_{2} q_{1} s_{2}^{2} \\sin{\\left(2 p_{3} \\right)}}{2 J_{2} p_{2} \\ddot{p}_{3} - 2 J_{2} \\ddot{p}_{3} s_{2} \\sin{\\left(p_{3} \\right)} - 4 g m_{2} p_{1} s_{2} \\sin{\\left(p_{3} \\right)} + 2 g m_{2} p_{2} s_{2} \\cos{\\left(p_{3} \\right)} + 4 g m_{2} q_{1} s_{2} \\sin{\\left(p_{3} \\right)} + g m_{2} s_{2}^{2} \\sin{\\left(2 p_{3} \\right)} - 4 m_{2} p_{1} \\ddot{p}_{2} s_{2} \\sin{\\left(p_{3} \\right)} + 2 m_{2} p_{2} \\ddot{p}_{1} s_{2} \\sin{\\left(p_{3} \\right)} + 2 m_{2} p_{2} \\ddot{p}_{2} s_{2} \\cos{\\left(p_{3} \\right)} - 2 m_{2} \\ddot{p}_{1} s_{2}^{2} \\sin^{2}{\\left(p_{3} \\right)} + 4 m_{2} \\ddot{p}_{2} q_{1} s_{2} \\sin{\\left(p_{3} \\right)} + m_{2} \\ddot{p}_{2} s_{2}^{2} \\sin{\\left(2 p_{3} \\right)}}\\end{matrix}\\right]$"
      ],
      "text/plain": [
       "flat_q2 := ⎡                                                                             \n",
       "⎢-2⋅J₂⋅l₀⋅p₂⋅p̈₃ + 2⋅J₂⋅l₀⋅p̈₃⋅s₂⋅sin(p₃) - 4⋅J₂⋅p₁⋅p̈₃⋅s₂⋅sin(p₃) + 2⋅J₂⋅p₂⋅p\n",
       "⎢─────────────────────────────────────────────────────────────────────────────\n",
       "⎢                                                                             \n",
       "⎣                                                                             \n",
       "\n",
       "                                                                              \n",
       "̈₃⋅q₁ + 4⋅J₂⋅p₂⋅p̈₃⋅s₂⋅cos(p₃) + 2⋅J₂⋅p̈₃⋅q₁⋅s₂⋅sin(p₃) + 4⋅g⋅l₀⋅m₂⋅p₁⋅s₂⋅sin(\n",
       "──────────────────────────────────────────────────────────────────────────────\n",
       "                                                                              \n",
       "                                                                              \n",
       "\n",
       "                                                              2               \n",
       "p₃) - 2⋅g⋅l₀⋅m₂⋅p₂⋅s₂⋅cos(p₃) - 4⋅g⋅l₀⋅m₂⋅q₁⋅s₂⋅sin(p₃) - g⋅l₀⋅m₂⋅s₂ ⋅sin(2⋅p₃\n",
       "──────────────────────────────────────────────────────────────────────────────\n",
       "                                                                              \n",
       "                                                                              \n",
       "\n",
       "       2                                                                      \n",
       ") - 4⋅g⋅m₂⋅p₁ ⋅s₂⋅sin(p₃) + 4⋅g⋅m₂⋅p₁⋅p₂⋅s₂⋅cos(p₃) + 4⋅g⋅m₂⋅p₁⋅q₁⋅s₂⋅sin(p₃) \n",
       "──────────────────────────────────────────────────────────────────────────────\n",
       "                                                                              \n",
       "       2⋅J₂⋅p₂⋅p̈₃ - 2⋅J₂⋅p̈₃⋅s₂⋅sin(p₃) - 4⋅g⋅m₂⋅p₁⋅s₂⋅sin(p₃) + 2⋅g⋅m₂⋅p₂⋅s₂\n",
       "\n",
       "                                2                                             \n",
       "- 2⋅g⋅m₂⋅p₂⋅q₁⋅s₂⋅cos(p₃) + g⋅m₂⋅q₁⋅s₂ ⋅sin(2⋅p₃) + 4⋅l₀⋅m₂⋅p₁⋅p̈₂⋅s₂⋅sin(p₃) \n",
       "──────────────────────────────────────────────────────────────────────────────\n",
       "                                           2                                  \n",
       "⋅cos(p₃) + 4⋅g⋅m₂⋅q₁⋅s₂⋅sin(p₃) + g⋅m₂⋅s₂ ⋅sin(2⋅p₃) - 4⋅m₂⋅p₁⋅p̈₂⋅s₂⋅sin(p₃) \n",
       "\n",
       "                                                              2    2          \n",
       "- 2⋅l₀⋅m₂⋅p₂⋅p̈₁⋅s₂⋅sin(p₃) - 2⋅l₀⋅m₂⋅p₂⋅p̈₂⋅s₂⋅cos(p₃) + 2⋅l₀⋅m₂⋅p̈₁⋅s₂ ⋅sin \n",
       "──────────────────────────────────────────────────────────────────────────────\n",
       "                                                             2    2           \n",
       "+ 2⋅m₂⋅p₂⋅p̈₁⋅s₂⋅sin(p₃) + 2⋅m₂⋅p₂⋅p̈₂⋅s₂⋅cos(p₃) - 2⋅m₂⋅p̈₁⋅s₂ ⋅sin (p₃) + 4⋅\n",
       "\n",
       "                                   2                    2                     \n",
       "(p₃) - 4⋅l₀⋅m₂⋅p̈₂⋅q₁⋅s₂⋅sin(p₃) - l₀⋅m₂⋅p̈₂⋅s₂ ⋅sin(2⋅p₃) - 4⋅m₂⋅p₁ ⋅p̈₂⋅s₂⋅s\n",
       "──────────────────────────────────────────────────────────────────────────────\n",
       "                            2                                                 \n",
       "m₂⋅p̈₂⋅q₁⋅s₂⋅sin(p₃) + m₂⋅p̈₂⋅s₂ ⋅sin(2⋅p₃)                                   \n",
       "\n",
       "                                                                              \n",
       "in(p₃) + 4⋅m₂⋅p₁⋅p₂⋅p̈₁⋅s₂⋅sin(p₃) + 4⋅m₂⋅p₁⋅p₂⋅p̈₂⋅s₂⋅cos(p₃) + 4⋅m₂⋅p₁⋅p̈₂⋅q\n",
       "──────────────────────────────────────────────────────────────────────────────\n",
       "                                                                              \n",
       "                                                                              \n",
       "\n",
       "      2                                                                       \n",
       "₁⋅s₂⋅sin(p₃) - 4⋅m₂⋅p₂ ⋅p̈₁⋅s₂⋅cos(p₃) - 2⋅m₂⋅p₂⋅p̈₁⋅q₁⋅s₂⋅sin(p₃) - 2⋅m₂⋅p₂⋅p\n",
       "──────────────────────────────────────────────────────────────────────────────\n",
       "                                                                              \n",
       "                                                                              \n",
       "\n",
       "             2    2                  2          ⎤\n",
       "̈₂⋅q₁⋅s₂⋅cos(p₃) - 2⋅m₂⋅p̈₁⋅q₁⋅s₂ ⋅sin (p₃) + m₂⋅p̈₂⋅q₁⋅s₂ ⋅sin(2⋅p₃)⎥\n",
       "────────────────────────────────────────────────⎥\n",
       "                                                ⎥\n",
       "                                                ⎦"
      ]
     },
     "metadata": {},
     "output_type": "display_data"
    },
    {
     "data": {
      "text/plain": [
       "---"
      ]
     },
     "metadata": {},
     "output_type": "display_data"
    },
    {
     "data": {
      "image/png": "[encoded data removed]",
      "text/latex": [
       "(flat_q2.s) := $\\displaystyle \\left\\{J_{2}, g, l_{0}, m_{2}, p_{1}, p_{2}, p_{3}, \\ddot{p}_{1}, \\ddot{p}_{2}, \\ddot{p}_{3}, q_{1}, s_{2}\\right\\}$"
      ],
      "text/plain": [
       "(flat_q2.s) := {J₂, g, l₀, m₂, p₁, p₂, p₃, p̈₁, p̈₂, p̈₃, q₁, s₂}"
      ]
     },
     "metadata": {},
     "output_type": "display_data"
    },
    {
     "data": {
      "text/plain": [
       "---"
      ]
     },
     "metadata": {},
     "output_type": "display_data"
    }
   ],
   "source": [
    "flat_q2 = sp.solve(eqn3, q2)\n",
    "flat_q2 = flat_q2\n",
    "flat_q2 = sp.matrices.dense.MutableDenseMatrix(flat_q2).smplf ##:\n",
    "flat_q2.s ##:"
   ]
  },
  {
   "cell_type": "code",
   "execution_count": 83,
   "metadata": {},
   "outputs": [
    {
     "data": {
      "text/latex": [
       "flat_tau4 := $\\displaystyle \\left[\\begin{matrix}\\frac{l_{2} \\left(- J_{2} p_{2} \\ddot{p}_{3} + J_{2} \\ddot{p}_{3} s_{2} \\sin{\\left(p_{3} \\right)} + 2 g m_{2} p_{1} s_{2} \\sin{\\left(p_{3} \\right)} - g m_{2} p_{2} s_{2} \\cos{\\left(p_{3} \\right)} - 2 g m_{2} q_{1} s_{2} \\sin{\\left(p_{3} \\right)} - g m_{2} s_{2}^{2} \\sin{\\left(p_{3} \\right)} \\cos{\\left(p_{3} \\right)} + 2 m_{2} p_{1} \\ddot{p}_{2} s_{2} \\sin{\\left(p_{3} \\right)} - m_{2} p_{2} \\ddot{p}_{1} s_{2} \\sin{\\left(p_{3} \\right)} - m_{2} p_{2} \\ddot{p}_{2} s_{2} \\cos{\\left(p_{3} \\right)} + m_{2} \\ddot{p}_{1} s_{2}^{2} \\sin^{2}{\\left(p_{3} \\right)} - 2 m_{2} \\ddot{p}_{2} q_{1} s_{2} \\sin{\\left(p_{3} \\right)} - m_{2} \\ddot{p}_{2} s_{2}^{2} \\sin{\\left(p_{3} \\right)} \\cos{\\left(p_{3} \\right)}\\right)}{2 s_{2} \\left(p_{1} p_{2} \\sin{\\left(p_{3} \\right)} + p_{1} s_{2} \\sin^{2}{\\left(p_{3} \\right)} - p_{2}^{2} \\cos{\\left(p_{3} \\right)} - p_{2} q_{1} \\sin{\\left(p_{3} \\right)} - p_{2} s_{2} \\sin{\\left(p_{3} \\right)} \\cos{\\left(p_{3} \\right)} - q_{1} s_{2} \\sin^{2}{\\left(p_{3} \\right)}\\right)}\\end{matrix}\\right]$"
      ],
      "text/plain": [
       "flat_tau4 := ⎡   ⎛                                                                         \n",
       "⎢l₂⋅⎝-J₂⋅p₂⋅p̈₃ + J₂⋅p̈₃⋅s₂⋅sin(p₃) + 2⋅g⋅m₂⋅p₁⋅s₂⋅sin(p₃) - g⋅m₂⋅p₂⋅s₂⋅cos(p₃\n",
       "⎢─────────────────────────────────────────────────────────────────────────────\n",
       "⎢                                                                             \n",
       "⎣                                                                             \n",
       "\n",
       "                                2                                             \n",
       ") - 2⋅g⋅m₂⋅q₁⋅s₂⋅sin(p₃) - g⋅m₂⋅s₂ ⋅sin(p₃)⋅cos(p₃) + 2⋅m₂⋅p₁⋅p̈₂⋅s₂⋅sin(p₃) -\n",
       "──────────────────────────────────────────────────────────────────────────────\n",
       "        ⎛                         2         2                                 \n",
       "   2⋅s₂⋅⎝p₁⋅p₂⋅sin(p₃) + p₁⋅s₂⋅sin (p₃) - p₂ ⋅cos(p₃) - p₂⋅q₁⋅sin(p₃) - p₂⋅s₂⋅\n",
       "\n",
       "                                                  2    2                      \n",
       " m₂⋅p₂⋅p̈₁⋅s₂⋅sin(p₃) - m₂⋅p₂⋅p̈₂⋅s₂⋅cos(p₃) + m₂⋅p̈₁⋅s₂ ⋅sin (p₃) - 2⋅m₂⋅p̈₂⋅\n",
       "──────────────────────────────────────────────────────────────────────────────\n",
       "                           2    ⎞                                             \n",
       "sin(p₃)⋅cos(p₃) - q₁⋅s₂⋅sin (p₃)⎠                                             \n",
       "\n",
       "                 2                ⎞⎤\n",
       "q₁⋅s₂⋅sin(p₃) - m₂⋅p̈₂⋅s₂ ⋅sin(p₃)⋅cos(p₃)⎠⎥\n",
       "───────────────────────────────────⎥\n",
       "                                   ⎥\n",
       "                                   ⎦"
      ]
     },
     "metadata": {},
     "output_type": "display_data"
    },
    {
     "data": {
      "text/plain": [
       "---"
      ]
     },
     "metadata": {},
     "output_type": "display_data"
    },
    {
     "data": {
      "image/png": "[encoded data removed]",
      "text/latex": [
       "(flat_tau4.s) := $\\displaystyle \\left\\{J_{2}, g, l_{2}, m_{2}, p_{1}, p_{2}, p_{3}, \\ddot{p}_{1}, \\ddot{p}_{2}, \\ddot{p}_{3}, q_{1}, s_{2}\\right\\}$"
      ],
      "text/plain": [
       "(flat_tau4.s) := {J₂, g, l₂, m₂, p₁, p₂, p₃, p̈₁, p̈₂, p̈₃, q₁, s₂}"
      ]
     },
     "metadata": {},
     "output_type": "display_data"
    },
    {
     "data": {
      "text/plain": [
       "---"
      ]
     },
     "metadata": {},
     "output_type": "display_data"
    }
   ],
   "source": [
    "flat_tau4 = sp.matrices.dense.MutableDenseMatrix(sp.solve(eqns2[1], tau4)) \n",
    "flat_tau4 = flat_tau4.subz([q2], flat_q2)\n",
    "flat_tau4 = flat_tau4.smplf ##:\n",
    "flat_tau4.s ##:"
   ]
  },
  {
   "cell_type": "code",
   "execution_count": 84,
   "metadata": {},
   "outputs": [
    {
     "data": {
      "text/latex": [
       "flat_tau3 := $\\displaystyle \\left[\\begin{matrix}\\frac{l_{1} \\left(2 J_{2} g p_{1} \\ddot{p}_{3} - 2 J_{2} g \\ddot{p}_{3} q_{1} - 2 J_{2} g \\ddot{p}_{3} s_{2} \\cos{\\left(p_{3} \\right)} + 2 J_{2} p_{1} \\ddot{p}_{2} \\ddot{p}_{3} - 2 J_{2} p_{2} \\ddot{p}_{1} \\ddot{p}_{3} + 2 J_{2} \\ddot{p}_{1} \\ddot{p}_{3} s_{2} \\sin{\\left(p_{3} \\right)} - 2 J_{2} \\ddot{p}_{2} \\ddot{p}_{3} q_{1} - 2 J_{2} \\ddot{p}_{2} \\ddot{p}_{3} s_{2} \\cos{\\left(p_{3} \\right)} - 2 g^{2} m_{2} p_{1} s_{2} \\cos{\\left(p_{3} \\right)} + 2 g^{2} m_{2} q_{1} s_{2} \\cos{\\left(p_{3} \\right)} + g^{2} m_{2} s_{2}^{2} \\cos{\\left(2 p_{3} \\right)} + g^{2} m_{2} s_{2}^{2} + 2 g m_{2} p_{1} \\ddot{p}_{1} s_{2} \\sin{\\left(p_{3} \\right)} - 4 g m_{2} p_{1} \\ddot{p}_{2} s_{2} \\cos{\\left(p_{3} \\right)} + 2 g m_{2} p_{2} \\ddot{p}_{1} s_{2} \\cos{\\left(p_{3} \\right)} - 2 g m_{2} \\ddot{p}_{1} q_{1} s_{2} \\sin{\\left(p_{3} \\right)} - 2 g m_{2} \\ddot{p}_{1} s_{2}^{2} \\sin{\\left(2 p_{3} \\right)} + 4 g m_{2} \\ddot{p}_{2} q_{1} s_{2} \\cos{\\left(p_{3} \\right)} + 2 g m_{2} \\ddot{p}_{2} s_{2}^{2} \\cos{\\left(2 p_{3} \\right)} + 2 g m_{2} \\ddot{p}_{2} s_{2}^{2} + 2 m_{2} p_{1} \\ddot{p}_{1} \\ddot{p}_{2} s_{2} \\sin{\\left(p_{3} \\right)} - 2 m_{2} p_{1} \\ddot{p}_{2}^{2} s_{2} \\cos{\\left(p_{3} \\right)} - 2 m_{2} p_{2} \\ddot{p}_{1}^{2} s_{2} \\sin{\\left(p_{3} \\right)} + 2 m_{2} p_{2} \\ddot{p}_{1} \\ddot{p}_{2} s_{2} \\cos{\\left(p_{3} \\right)} - m_{2} \\ddot{p}_{1}^{2} s_{2}^{2} \\cos{\\left(2 p_{3} \\right)} + m_{2} \\ddot{p}_{1}^{2} s_{2}^{2} - 2 m_{2} \\ddot{p}_{1} \\ddot{p}_{2} q_{1} s_{2} \\sin{\\left(p_{3} \\right)} - 2 m_{2} \\ddot{p}_{1} \\ddot{p}_{2} s_{2}^{2} \\sin{\\left(2 p_{3} \\right)} + 2 m_{2} \\ddot{p}_{2}^{2} q_{1} s_{2} \\cos{\\left(p_{3} \\right)} + m_{2} \\ddot{p}_{2}^{2} s_{2}^{2} \\cos{\\left(2 p_{3} \\right)} + m_{2} \\ddot{p}_{2}^{2} s_{2}^{2}\\right)}{2 s_{2} \\left(2 g p_{1}^{2} \\sin{\\left(p_{3} \\right)} - 2 g p_{1} p_{2} \\cos{\\left(p_{3} \\right)} - 4 g p_{1} q_{1} \\sin{\\left(p_{3} \\right)} - g p_{1} s_{2} \\sin{\\left(2 p_{3} \\right)} + 2 g p_{2} q_{1} \\cos{\\left(p_{3} \\right)} + g p_{2} s_{2} \\cos{\\left(2 p_{3} \\right)} + g p_{2} s_{2} + 2 g q_{1}^{2} \\sin{\\left(p_{3} \\right)} + g q_{1} s_{2} \\sin{\\left(2 p_{3} \\right)} + 2 p_{1}^{2} \\ddot{p}_{2} \\sin{\\left(p_{3} \\right)} - 2 p_{1} p_{2} \\ddot{p}_{1} \\sin{\\left(p_{3} \\right)} - 2 p_{1} p_{2} \\ddot{p}_{2} \\cos{\\left(p_{3} \\right)} - p_{1} \\ddot{p}_{1} s_{2} \\cos{\\left(2 p_{3} \\right)} + p_{1} \\ddot{p}_{1} s_{2} - 4 p_{1} \\ddot{p}_{2} q_{1} \\sin{\\left(p_{3} \\right)} - p_{1} \\ddot{p}_{2} s_{2} \\sin{\\left(2 p_{3} \\right)} + 2 p_{2}^{2} \\ddot{p}_{1} \\cos{\\left(p_{3} \\right)} + 2 p_{2} \\ddot{p}_{1} q_{1} \\sin{\\left(p_{3} \\right)} - p_{2} \\ddot{p}_{1} s_{2} \\sin{\\left(2 p_{3} \\right)} + 2 p_{2} \\ddot{p}_{2} q_{1} \\cos{\\left(p_{3} \\right)} + p_{2} \\ddot{p}_{2} s_{2} \\cos{\\left(2 p_{3} \\right)} + p_{2} \\ddot{p}_{2} s_{2} + \\ddot{p}_{1} q_{1} s_{2} \\cos{\\left(2 p_{3} \\right)} - \\ddot{p}_{1} q_{1} s_{2} + 2 \\ddot{p}_{2} q_{1}^{2} \\sin{\\left(p_{3} \\right)} + \\ddot{p}_{2} q_{1} s_{2} \\sin{\\left(2 p_{3} \\right)}\\right)}\\end{matrix}\\right]$"
      ],
      "text/plain": [
       "flat_tau3 := ⎡   ⎛                                                                         \n",
       "⎢l₁⋅⎝2⋅J₂⋅g⋅p₁⋅p̈₃ - 2⋅J₂⋅g⋅p̈₃⋅q₁ - 2⋅J₂⋅g⋅p̈₃⋅s₂⋅cos(p₃) + 2⋅J₂⋅p₁⋅p̈₂⋅p̈₃ -\n",
       "⎢─────────────────────────────────────────────────────────────────────────────\n",
       "⎢                                                                             \n",
       "⎣                                                                             \n",
       "\n",
       "                                                                              \n",
       " 2⋅J₂⋅p₂⋅p̈₁⋅p̈₃ + 2⋅J₂⋅p̈₁⋅p̈₃⋅s₂⋅sin(p₃) - 2⋅J₂⋅p̈₂⋅p̈₃⋅q₁ - 2⋅J₂⋅p̈₂⋅p̈₃⋅s₂\n",
       "──────────────────────────────────────────────────────────────────────────────\n",
       "                         ⎛      2                                             \n",
       "            2⋅s₂⋅⎝2⋅g⋅p₁ ⋅sin(p₃) - 2⋅g⋅p₁⋅p₂⋅cos(p₃) - 4⋅g⋅p₁⋅q₁⋅sin(p₃) - g⋅\n",
       "\n",
       " 2                       2                     2      2              2      2 \n",
       "⋅cos(p₃) - 2⋅g ⋅m₂⋅p₁⋅s₂⋅cos(p₃) + 2⋅g ⋅m₂⋅q₁⋅s₂⋅cos(p₃) + g ⋅m₂⋅s₂ ⋅cos(2⋅p₃)\n",
       "──────────────────────────────────────────────────────────────────────────────\n",
       "                                                                              \n",
       "p₁⋅s₂⋅sin(2⋅p₃) + 2⋅g⋅p₂⋅q₁⋅cos(p₃) + g⋅p₂⋅s₂⋅cos(2⋅p₃) + g⋅p₂⋅s₂ + 2⋅g⋅q₁ ⋅si\n",
       "\n",
       "                                                                              \n",
       " + g ⋅m₂⋅s₂  + 2⋅g⋅m₂⋅p₁⋅p̈₁⋅s₂⋅sin(p₃) - 4⋅g⋅m₂⋅p₁⋅p̈₂⋅s₂⋅cos(p₃) + 2⋅g⋅m₂⋅p₂\n",
       "──────────────────────────────────────────────────────────────────────────────\n",
       "    2                                   2                                     \n",
       "n(p₃) + g⋅q₁⋅s₂⋅sin(2⋅p₃) + 2⋅p₁ ⋅p̈₂⋅sin(p₃) - 2⋅p₁⋅p₂⋅p̈₁⋅sin(p₃) - 2⋅p₁⋅p₂⋅\n",
       "\n",
       "                                        2                                     \n",
       "⋅p̈₁⋅s₂⋅cos(p₃) - 2⋅g⋅m₂⋅p̈₁⋅q₁⋅s₂⋅sin(p₃) - 2⋅g⋅m₂⋅p̈₁⋅s₂ ⋅sin(2⋅p₃) + 4⋅g⋅m₂\n",
       "──────────────────────────────────────────────────────────────────────────────\n",
       "                                                                              \n",
       "p̈₂⋅cos(p₃) - p₁⋅p̈₁⋅s₂⋅cos(2⋅p₃) + p₁⋅p̈₁⋅s₂ - 4⋅p₁⋅p̈₂⋅q₁⋅sin(p₃) - p₁⋅p̈₂⋅s\n",
       "\n",
       "              2                         2                                     \n",
       "⋅p̈₂⋅q₁⋅s₂⋅cos(p₃) + 2⋅g⋅m₂⋅p̈₂⋅s₂ ⋅cos(2⋅p₃) + 2⋅g⋅m₂⋅p̈₂⋅s₂  + 2⋅m₂⋅p₁⋅p̈₁⋅p\n",
       "──────────────────────────────────────────────────────────────────────────────\n",
       "                   2                                                          \n",
       "₂⋅sin(2⋅p₃) + 2⋅p₂ ⋅p̈₁⋅cos(p₃) + 2⋅p₂⋅p̈₁⋅q₁⋅sin(p₃) - p₂⋅p̈₁⋅s₂⋅sin(2⋅p₃) + \n",
       "\n",
       "   2                        2                                              2  \n",
       "̈₂⋅s₂⋅sin(p₃) - 2⋅m₂⋅p₁⋅p̈₂ ⋅s₂⋅cos(p₃) - 2⋅m₂⋅p₂⋅p̈₁ ⋅s₂⋅sin(p₃) + 2⋅m₂⋅p₂⋅p̈\n",
       "──────────────────────────────────────────────────────────────────────────────\n",
       "                                                                              \n",
       "2⋅p₂⋅p̈₂⋅q₁⋅cos(p₃) + p₂⋅p̈₂⋅s₂⋅cos(2⋅p₃) + p₂⋅p̈₂⋅s₂ + p̈₁⋅q₁⋅s₂⋅cos(2⋅p₃) - \n",
       "\n",
       " 2                  2   2                                           2         \n",
       "₁⋅p̈₂⋅s₂⋅cos(p₃) - m₂⋅p̈₁ ⋅s₂ ⋅cos(2⋅p₃) + m₂⋅p̈₁ ⋅s₂  - 2⋅m₂⋅p̈₁⋅p̈₂⋅q₁⋅s₂⋅si\n",
       "──────────────────────────────────────────────────────────────────────────────\n",
       "            2                             ⎞                                   \n",
       "p̈₁⋅q₁⋅s₂ + 2⋅p̈₂⋅q₁ ⋅sin(p₃) + p̈₂⋅q₁⋅s₂⋅sin(2⋅p₃)⎠                          \n",
       "\n",
       "           2                      2   2                  2   2⎞⎤\n",
       "n(p₃) - 2⋅m₂⋅p̈₁⋅p̈₂⋅s₂ ⋅sin(2⋅p₃) + 2⋅m₂⋅p̈₂ ⋅q₁⋅s₂⋅cos(p₃) + m₂⋅p̈₂ ⋅s₂ ⋅cos\n",
       "───────────────────────────────────────────────────────────────⎥\n",
       "                                                               ⎥\n",
       "                                                               ⎦"
      ]
     },
     "metadata": {},
     "output_type": "display_data"
    },
    {
     "data": {
      "text/plain": [
       "---"
      ]
     },
     "metadata": {},
     "output_type": "display_data"
    },
    {
     "data": {
      "image/png": "[encoded data removed]",
      "text/latex": [
       "(flat_tau3.s) := $\\displaystyle \\left\\{J_{2}, g, l_{1}, m_{2}, p_{1}, p_{2}, p_{3}, \\ddot{p}_{1}, \\ddot{p}_{2}, \\ddot{p}_{3}, q_{1}, s_{2}\\right\\}$"
      ],
      "text/plain": [
       "(flat_tau3.s) := {J₂, g, l₁, m₂, p₁, p₂, p₃, p̈₁, p̈₂, p̈₃, q₁, s₂}"
      ]
     },
     "metadata": {},
     "output_type": "display_data"
    },
    {
     "data": {
      "text/plain": [
       "---"
      ]
     },
     "metadata": {},
     "output_type": "display_data"
    }
   ],
   "source": [
    "flat_tau3 =  sp.matrices.dense.MutableDenseMatrix(sp.solve(eqns2[0], tau3)) \n",
    "flat_tau3 = flat_tau3.subz([q2], flat_q2)\n",
    "flat_tau3 = flat_tau3.smplf ##:\n",
    "flat_tau3.s ##:"
   ]
  },
  {
   "cell_type": "code",
   "execution_count": 81,
   "metadata": {
    "scrolled": true
   },
   "outputs": [
    {
     "data": {
      "text/latex": [
       "flat_tau2 := $\\displaystyle \\left[\\begin{matrix}\\frac{- \\frac{l_{0} l_{2} \\left(- J_{2} p_{2} \\ddot{p}_{3} + J_{2} \\ddot{p}_{3} s_{2} \\sin{\\left(p_{3} \\right)} + 2 g m_{2} p_{1} s_{2} \\sin{\\left(p_{3} \\right)} - g m_{2} p_{2} s_{2} \\cos{\\left(p_{3} \\right)} - 2 g m_{2} q_{1} s_{2} \\sin{\\left(p_{3} \\right)} - g m_{2} s_{2}^{2} \\sin{\\left(p_{3} \\right)} \\cos{\\left(p_{3} \\right)} + 2 m_{2} p_{1} \\ddot{p}_{2} s_{2} \\sin{\\left(p_{3} \\right)} - m_{2} p_{2} \\ddot{p}_{1} s_{2} \\sin{\\left(p_{3} \\right)} - m_{2} p_{2} \\ddot{p}_{2} s_{2} \\cos{\\left(p_{3} \\right)} + m_{2} \\ddot{p}_{1} s_{2}^{2} \\sin^{2}{\\left(p_{3} \\right)} - 2 m_{2} \\ddot{p}_{2} q_{1} s_{2} \\sin{\\left(p_{3} \\right)} - m_{2} \\ddot{p}_{2} s_{2}^{2} \\sin{\\left(p_{3} \\right)} \\cos{\\left(p_{3} \\right)}\\right)}{2 s_{2} \\left(p_{1} p_{2} \\sin{\\left(p_{3} \\right)} + p_{1} s_{2} \\sin^{2}{\\left(p_{3} \\right)} - p_{2}^{2} \\cos{\\left(p_{3} \\right)} - p_{2} q_{1} \\sin{\\left(p_{3} \\right)} - p_{2} s_{2} \\sin{\\left(p_{3} \\right)} \\cos{\\left(p_{3} \\right)} - q_{1} s_{2} \\sin^{2}{\\left(p_{3} \\right)}\\right)} + \\frac{l_{2} p_{1} \\left(- J_{2} p_{2} \\ddot{p}_{3} + J_{2} \\ddot{p}_{3} s_{2} \\sin{\\left(p_{3} \\right)} + 2 g m_{2} p_{1} s_{2} \\sin{\\left(p_{3} \\right)} - g m_{2} p_{2} s_{2} \\cos{\\left(p_{3} \\right)} - 2 g m_{2} q_{1} s_{2} \\sin{\\left(p_{3} \\right)} - g m_{2} s_{2}^{2} \\sin{\\left(p_{3} \\right)} \\cos{\\left(p_{3} \\right)} + 2 m_{2} p_{1} \\ddot{p}_{2} s_{2} \\sin{\\left(p_{3} \\right)} - m_{2} p_{2} \\ddot{p}_{1} s_{2} \\sin{\\left(p_{3} \\right)} - m_{2} p_{2} \\ddot{p}_{2} s_{2} \\cos{\\left(p_{3} \\right)} + m_{2} \\ddot{p}_{1} s_{2}^{2} \\sin^{2}{\\left(p_{3} \\right)} - 2 m_{2} \\ddot{p}_{2} q_{1} s_{2} \\sin{\\left(p_{3} \\right)} - m_{2} \\ddot{p}_{2} s_{2}^{2} \\sin{\\left(p_{3} \\right)} \\cos{\\left(p_{3} \\right)}\\right)}{2 s_{2} \\left(p_{1} p_{2} \\sin{\\left(p_{3} \\right)} + p_{1} s_{2} \\sin^{2}{\\left(p_{3} \\right)} - p_{2}^{2} \\cos{\\left(p_{3} \\right)} - p_{2} q_{1} \\sin{\\left(p_{3} \\right)} - p_{2} s_{2} \\sin{\\left(p_{3} \\right)} \\cos{\\left(p_{3} \\right)} - q_{1} s_{2} \\sin^{2}{\\left(p_{3} \\right)}\\right)} + \\frac{l_{2} \\left(- J_{2} p_{2} \\ddot{p}_{3} + J_{2} \\ddot{p}_{3} s_{2} \\sin{\\left(p_{3} \\right)} + 2 g m_{2} p_{1} s_{2} \\sin{\\left(p_{3} \\right)} - g m_{2} p_{2} s_{2} \\cos{\\left(p_{3} \\right)} - 2 g m_{2} q_{1} s_{2} \\sin{\\left(p_{3} \\right)} - g m_{2} s_{2}^{2} \\sin{\\left(p_{3} \\right)} \\cos{\\left(p_{3} \\right)} + 2 m_{2} p_{1} \\ddot{p}_{2} s_{2} \\sin{\\left(p_{3} \\right)} - m_{2} p_{2} \\ddot{p}_{1} s_{2} \\sin{\\left(p_{3} \\right)} - m_{2} p_{2} \\ddot{p}_{2} s_{2} \\cos{\\left(p_{3} \\right)} + m_{2} \\ddot{p}_{1} s_{2}^{2} \\sin^{2}{\\left(p_{3} \\right)} - 2 m_{2} \\ddot{p}_{2} q_{1} s_{2} \\sin{\\left(p_{3} \\right)} - m_{2} \\ddot{p}_{2} s_{2}^{2} \\sin{\\left(p_{3} \\right)} \\cos{\\left(p_{3} \\right)}\\right) \\cos{\\left(p_{3} \\right)}}{2 \\left(p_{1} p_{2} \\sin{\\left(p_{3} \\right)} + p_{1} s_{2} \\sin^{2}{\\left(p_{3} \\right)} - p_{2}^{2} \\cos{\\left(p_{3} \\right)} - p_{2} q_{1} \\sin{\\left(p_{3} \\right)} - p_{2} s_{2} \\sin{\\left(p_{3} \\right)} \\cos{\\left(p_{3} \\right)} - q_{1} s_{2} \\sin^{2}{\\left(p_{3} \\right)}\\right)} - \\frac{l_{2} \\left(- J_{2} p_{2} \\ddot{p}_{3} + J_{2} \\ddot{p}_{3} s_{2} \\sin{\\left(p_{3} \\right)} + 2 g m_{2} p_{1} s_{2} \\sin{\\left(p_{3} \\right)} - g m_{2} p_{2} s_{2} \\cos{\\left(p_{3} \\right)} - 2 g m_{2} q_{1} s_{2} \\sin{\\left(p_{3} \\right)} - g m_{2} s_{2}^{2} \\sin{\\left(p_{3} \\right)} \\cos{\\left(p_{3} \\right)} + 2 m_{2} p_{1} \\ddot{p}_{2} s_{2} \\sin{\\left(p_{3} \\right)} - m_{2} p_{2} \\ddot{p}_{1} s_{2} \\sin{\\left(p_{3} \\right)} - m_{2} p_{2} \\ddot{p}_{2} s_{2} \\cos{\\left(p_{3} \\right)} + m_{2} \\ddot{p}_{1} s_{2}^{2} \\sin^{2}{\\left(p_{3} \\right)} - 2 m_{2} \\ddot{p}_{2} q_{1} s_{2} \\sin{\\left(p_{3} \\right)} - m_{2} \\ddot{p}_{2} s_{2}^{2} \\sin{\\left(p_{3} \\right)} \\cos{\\left(p_{3} \\right)}\\right) \\left(- 2 J_{2} l_{0} p_{2} \\ddot{p}_{3} + 2 J_{2} l_{0} \\ddot{p}_{3} s_{2} \\sin{\\left(p_{3} \\right)} - 4 J_{2} p_{1} \\ddot{p}_{3} s_{2} \\sin{\\left(p_{3} \\right)} + 2 J_{2} p_{2} \\ddot{p}_{3} q_{1} + 4 J_{2} p_{2} \\ddot{p}_{3} s_{2} \\cos{\\left(p_{3} \\right)} + 2 J_{2} \\ddot{p}_{3} q_{1} s_{2} \\sin{\\left(p_{3} \\right)} + 4 g l_{0} m_{2} p_{1} s_{2} \\sin{\\left(p_{3} \\right)} - 2 g l_{0} m_{2} p_{2} s_{2} \\cos{\\left(p_{3} \\right)} - 4 g l_{0} m_{2} q_{1} s_{2} \\sin{\\left(p_{3} \\right)} - g l_{0} m_{2} s_{2}^{2} \\sin{\\left(2 p_{3} \\right)} - 4 g m_{2} p_{1}^{2} s_{2} \\sin{\\left(p_{3} \\right)} + 4 g m_{2} p_{1} p_{2} s_{2} \\cos{\\left(p_{3} \\right)} + 4 g m_{2} p_{1} q_{1} s_{2} \\sin{\\left(p_{3} \\right)} - 2 g m_{2} p_{2} q_{1} s_{2} \\cos{\\left(p_{3} \\right)} + g m_{2} q_{1} s_{2}^{2} \\sin{\\left(2 p_{3} \\right)} + 4 l_{0} m_{2} p_{1} \\ddot{p}_{2} s_{2} \\sin{\\left(p_{3} \\right)} - 2 l_{0} m_{2} p_{2} \\ddot{p}_{1} s_{2} \\sin{\\left(p_{3} \\right)} - 2 l_{0} m_{2} p_{2} \\ddot{p}_{2} s_{2} \\cos{\\left(p_{3} \\right)} + 2 l_{0} m_{2} \\ddot{p}_{1} s_{2}^{2} \\sin^{2}{\\left(p_{3} \\right)} - 4 l_{0} m_{2} \\ddot{p}_{2} q_{1} s_{2} \\sin{\\left(p_{3} \\right)} - l_{0} m_{2} \\ddot{p}_{2} s_{2}^{2} \\sin{\\left(2 p_{3} \\right)} - 4 m_{2} p_{1}^{2} \\ddot{p}_{2} s_{2} \\sin{\\left(p_{3} \\right)} + 4 m_{2} p_{1} p_{2} \\ddot{p}_{1} s_{2} \\sin{\\left(p_{3} \\right)} + 4 m_{2} p_{1} p_{2} \\ddot{p}_{2} s_{2} \\cos{\\left(p_{3} \\right)} + 4 m_{2} p_{1} \\ddot{p}_{2} q_{1} s_{2} \\sin{\\left(p_{3} \\right)} - 4 m_{2} p_{2}^{2} \\ddot{p}_{1} s_{2} \\cos{\\left(p_{3} \\right)} - 2 m_{2} p_{2} \\ddot{p}_{1} q_{1} s_{2} \\sin{\\left(p_{3} \\right)} - 2 m_{2} p_{2} \\ddot{p}_{2} q_{1} s_{2} \\cos{\\left(p_{3} \\right)} - 2 m_{2} \\ddot{p}_{1} q_{1} s_{2}^{2} \\sin^{2}{\\left(p_{3} \\right)} + m_{2} \\ddot{p}_{2} q_{1} s_{2}^{2} \\sin{\\left(2 p_{3} \\right)}\\right)}{2 s_{2} \\left(p_{1} p_{2} \\sin{\\left(p_{3} \\right)} + p_{1} s_{2} \\sin^{2}{\\left(p_{3} \\right)} - p_{2}^{2} \\cos{\\left(p_{3} \\right)} - p_{2} q_{1} \\sin{\\left(p_{3} \\right)} - p_{2} s_{2} \\sin{\\left(p_{3} \\right)} \\cos{\\left(p_{3} \\right)} - q_{1} s_{2} \\sin^{2}{\\left(p_{3} \\right)}\\right) \\left(2 J_{2} p_{2} \\ddot{p}_{3} - 2 J_{2} \\ddot{p}_{3} s_{2} \\sin{\\left(p_{3} \\right)} - 4 g m_{2} p_{1} s_{2} \\sin{\\left(p_{3} \\right)} + 2 g m_{2} p_{2} s_{2} \\cos{\\left(p_{3} \\right)} + 4 g m_{2} q_{1} s_{2} \\sin{\\left(p_{3} \\right)} + g m_{2} s_{2}^{2} \\sin{\\left(2 p_{3} \\right)} - 4 m_{2} p_{1} \\ddot{p}_{2} s_{2} \\sin{\\left(p_{3} \\right)} + 2 m_{2} p_{2} \\ddot{p}_{1} s_{2} \\sin{\\left(p_{3} \\right)} + 2 m_{2} p_{2} \\ddot{p}_{2} s_{2} \\cos{\\left(p_{3} \\right)} - 2 m_{2} \\ddot{p}_{1} s_{2}^{2} \\sin^{2}{\\left(p_{3} \\right)} + 4 m_{2} \\ddot{p}_{2} q_{1} s_{2} \\sin{\\left(p_{3} \\right)} + m_{2} \\ddot{p}_{2} s_{2}^{2} \\sin{\\left(2 p_{3} \\right)}\\right)} + m_{3} \\ddot{q}_{2} \\sqrt{\\left(p_{2} + s_{2} \\sin{\\left(p_{3} \\right)}\\right)^{2} + \\left(l_{0} - p_{1} - s_{2} \\cos{\\left(p_{3} \\right)} + \\frac{- 2 J_{2} l_{0} p_{2} \\ddot{p}_{3} + 2 J_{2} l_{0} \\ddot{p}_{3} s_{2} \\sin{\\left(p_{3} \\right)} - 4 J_{2} p_{1} \\ddot{p}_{3} s_{2} \\sin{\\left(p_{3} \\right)} + 2 J_{2} p_{2} \\ddot{p}_{3} q_{1} + 4 J_{2} p_{2} \\ddot{p}_{3} s_{2} \\cos{\\left(p_{3} \\right)} + 2 J_{2} \\ddot{p}_{3} q_{1} s_{2} \\sin{\\left(p_{3} \\right)} + 4 g l_{0} m_{2} p_{1} s_{2} \\sin{\\left(p_{3} \\right)} - 2 g l_{0} m_{2} p_{2} s_{2} \\cos{\\left(p_{3} \\right)} - 4 g l_{0} m_{2} q_{1} s_{2} \\sin{\\left(p_{3} \\right)} - g l_{0} m_{2} s_{2}^{2} \\sin{\\left(2 p_{3} \\right)} - 4 g m_{2} p_{1}^{2} s_{2} \\sin{\\left(p_{3} \\right)} + 4 g m_{2} p_{1} p_{2} s_{2} \\cos{\\left(p_{3} \\right)} + 4 g m_{2} p_{1} q_{1} s_{2} \\sin{\\left(p_{3} \\right)} - 2 g m_{2} p_{2} q_{1} s_{2} \\cos{\\left(p_{3} \\right)} + g m_{2} q_{1} s_{2}^{2} \\sin{\\left(2 p_{3} \\right)} + 4 l_{0} m_{2} p_{1} \\ddot{p}_{2} s_{2} \\sin{\\left(p_{3} \\right)} - 2 l_{0} m_{2} p_{2} \\ddot{p}_{1} s_{2} \\sin{\\left(p_{3} \\right)} - 2 l_{0} m_{2} p_{2} \\ddot{p}_{2} s_{2} \\cos{\\left(p_{3} \\right)} + 2 l_{0} m_{2} \\ddot{p}_{1} s_{2}^{2} \\sin^{2}{\\left(p_{3} \\right)} - 4 l_{0} m_{2} \\ddot{p}_{2} q_{1} s_{2} \\sin{\\left(p_{3} \\right)} - l_{0} m_{2} \\ddot{p}_{2} s_{2}^{2} \\sin{\\left(2 p_{3} \\right)} - 4 m_{2} p_{1}^{2} \\ddot{p}_{2} s_{2} \\sin{\\left(p_{3} \\right)} + 4 m_{2} p_{1} p_{2} \\ddot{p}_{1} s_{2} \\sin{\\left(p_{3} \\right)} + 4 m_{2} p_{1} p_{2} \\ddot{p}_{2} s_{2} \\cos{\\left(p_{3} \\right)} + 4 m_{2} p_{1} \\ddot{p}_{2} q_{1} s_{2} \\sin{\\left(p_{3} \\right)} - 4 m_{2} p_{2}^{2} \\ddot{p}_{1} s_{2} \\cos{\\left(p_{3} \\right)} - 2 m_{2} p_{2} \\ddot{p}_{1} q_{1} s_{2} \\sin{\\left(p_{3} \\right)} - 2 m_{2} p_{2} \\ddot{p}_{2} q_{1} s_{2} \\cos{\\left(p_{3} \\right)} - 2 m_{2} \\ddot{p}_{1} q_{1} s_{2}^{2} \\sin^{2}{\\left(p_{3} \\right)} + m_{2} \\ddot{p}_{2} q_{1} s_{2}^{2} \\sin{\\left(2 p_{3} \\right)}}{2 J_{2} p_{2} \\ddot{p}_{3} - 2 J_{2} \\ddot{p}_{3} s_{2} \\sin{\\left(p_{3} \\right)} - 4 g m_{2} p_{1} s_{2} \\sin{\\left(p_{3} \\right)} + 2 g m_{2} p_{2} s_{2} \\cos{\\left(p_{3} \\right)} + 4 g m_{2} q_{1} s_{2} \\sin{\\left(p_{3} \\right)} + g m_{2} s_{2}^{2} \\sin{\\left(2 p_{3} \\right)} - 4 m_{2} p_{1} \\ddot{p}_{2} s_{2} \\sin{\\left(p_{3} \\right)} + 2 m_{2} p_{2} \\ddot{p}_{1} s_{2} \\sin{\\left(p_{3} \\right)} + 2 m_{2} p_{2} \\ddot{p}_{2} s_{2} \\cos{\\left(p_{3} \\right)} - 2 m_{2} \\ddot{p}_{1} s_{2}^{2} \\sin^{2}{\\left(p_{3} \\right)} + 4 m_{2} \\ddot{p}_{2} q_{1} s_{2} \\sin{\\left(p_{3} \\right)} + m_{2} \\ddot{p}_{2} s_{2}^{2} \\sin{\\left(2 p_{3} \\right)}}\\right)^{2}}}{\\sqrt{\\left(p_{2} + s_{2} \\sin{\\left(p_{3} \\right)}\\right)^{2} + \\left(l_{0} - p_{1} - s_{2} \\cos{\\left(p_{3} \\right)} + \\frac{- 2 J_{2} l_{0} p_{2} \\ddot{p}_{3} + 2 J_{2} l_{0} \\ddot{p}_{3} s_{2} \\sin{\\left(p_{3} \\right)} - 4 J_{2} p_{1} \\ddot{p}_{3} s_{2} \\sin{\\left(p_{3} \\right)} + 2 J_{2} p_{2} \\ddot{p}_{3} q_{1} + 4 J_{2} p_{2} \\ddot{p}_{3} s_{2} \\cos{\\left(p_{3} \\right)} + 2 J_{2} \\ddot{p}_{3} q_{1} s_{2} \\sin{\\left(p_{3} \\right)} + 4 g l_{0} m_{2} p_{1} s_{2} \\sin{\\left(p_{3} \\right)} - 2 g l_{0} m_{2} p_{2} s_{2} \\cos{\\left(p_{3} \\right)} - 4 g l_{0} m_{2} q_{1} s_{2} \\sin{\\left(p_{3} \\right)} - g l_{0} m_{2} s_{2}^{2} \\sin{\\left(2 p_{3} \\right)} - 4 g m_{2} p_{1}^{2} s_{2} \\sin{\\left(p_{3} \\right)} + 4 g m_{2} p_{1} p_{2} s_{2} \\cos{\\left(p_{3} \\right)} + 4 g m_{2} p_{1} q_{1} s_{2} \\sin{\\left(p_{3} \\right)} - 2 g m_{2} p_{2} q_{1} s_{2} \\cos{\\left(p_{3} \\right)} + g m_{2} q_{1} s_{2}^{2} \\sin{\\left(2 p_{3} \\right)} + 4 l_{0} m_{2} p_{1} \\ddot{p}_{2} s_{2} \\sin{\\left(p_{3} \\right)} - 2 l_{0} m_{2} p_{2} \\ddot{p}_{1} s_{2} \\sin{\\left(p_{3} \\right)} - 2 l_{0} m_{2} p_{2} \\ddot{p}_{2} s_{2} \\cos{\\left(p_{3} \\right)} + 2 l_{0} m_{2} \\ddot{p}_{1} s_{2}^{2} \\sin^{2}{\\left(p_{3} \\right)} - 4 l_{0} m_{2} \\ddot{p}_{2} q_{1} s_{2} \\sin{\\left(p_{3} \\right)} - l_{0} m_{2} \\ddot{p}_{2} s_{2}^{2} \\sin{\\left(2 p_{3} \\right)} - 4 m_{2} p_{1}^{2} \\ddot{p}_{2} s_{2} \\sin{\\left(p_{3} \\right)} + 4 m_{2} p_{1} p_{2} \\ddot{p}_{1} s_{2} \\sin{\\left(p_{3} \\right)} + 4 m_{2} p_{1} p_{2} \\ddot{p}_{2} s_{2} \\cos{\\left(p_{3} \\right)} + 4 m_{2} p_{1} \\ddot{p}_{2} q_{1} s_{2} \\sin{\\left(p_{3} \\right)} - 4 m_{2} p_{2}^{2} \\ddot{p}_{1} s_{2} \\cos{\\left(p_{3} \\right)} - 2 m_{2} p_{2} \\ddot{p}_{1} q_{1} s_{2} \\sin{\\left(p_{3} \\right)} - 2 m_{2} p_{2} \\ddot{p}_{2} q_{1} s_{2} \\cos{\\left(p_{3} \\right)} - 2 m_{2} \\ddot{p}_{1} q_{1} s_{2}^{2} \\sin^{2}{\\left(p_{3} \\right)} + m_{2} \\ddot{p}_{2} q_{1} s_{2}^{2} \\sin{\\left(2 p_{3} \\right)}}{2 J_{2} p_{2} \\ddot{p}_{3} - 2 J_{2} \\ddot{p}_{3} s_{2} \\sin{\\left(p_{3} \\right)} - 4 g m_{2} p_{1} s_{2} \\sin{\\left(p_{3} \\right)} + 2 g m_{2} p_{2} s_{2} \\cos{\\left(p_{3} \\right)} + 4 g m_{2} q_{1} s_{2} \\sin{\\left(p_{3} \\right)} + g m_{2} s_{2}^{2} \\sin{\\left(2 p_{3} \\right)} - 4 m_{2} p_{1} \\ddot{p}_{2} s_{2} \\sin{\\left(p_{3} \\right)} + 2 m_{2} p_{2} \\ddot{p}_{1} s_{2} \\sin{\\left(p_{3} \\right)} + 2 m_{2} p_{2} \\ddot{p}_{2} s_{2} \\cos{\\left(p_{3} \\right)} - 2 m_{2} \\ddot{p}_{1} s_{2}^{2} \\sin^{2}{\\left(p_{3} \\right)} + 4 m_{2} \\ddot{p}_{2} q_{1} s_{2} \\sin{\\left(p_{3} \\right)} + m_{2} \\ddot{p}_{2} s_{2}^{2} \\sin{\\left(2 p_{3} \\right)}}\\right)^{2}}}\\end{matrix}\\right]$"
      ],
      "text/plain": [
       "flat_tau2 := ⎡                                                                             \n",
       "⎢                                                                             \n",
       "⎢        ⎛                                                                    \n",
       "⎢  l₀⋅l₂⋅⎝-J₂⋅p₂⋅p̈₃ + J₂⋅p̈₃⋅s₂⋅sin(p₃) + 2⋅g⋅m₂⋅p₁⋅s₂⋅sin(p₃) - g⋅m₂⋅p₂⋅s₂⋅c\n",
       "⎢- ───────────────────────────────────────────────────────────────────────────\n",
       "⎢                                                                             \n",
       "⎢                                                                             \n",
       "⎢─────────────────────────────────────────────────────────────────────────────\n",
       "⎢                                                                             \n",
       "⎢                                                                             \n",
       "⎢                                                                             \n",
       "⎢                                                                             \n",
       "⎢                                                                             \n",
       "⎢                                                                             \n",
       "⎣                                                                             \n",
       "\n",
       "                                                                              \n",
       "                                                                              \n",
       "                                     2                                        \n",
       "os(p₃) - 2⋅g⋅m₂⋅q₁⋅s₂⋅sin(p₃) - g⋅m₂⋅s₂ ⋅sin(p₃)⋅cos(p₃) + 2⋅m₂⋅p₁⋅p̈₂⋅s₂⋅sin(\n",
       "──────────────────────────────────────────────────────────────────────────────\n",
       "            ⎛                         2         2                             \n",
       "       2⋅s₂⋅⎝p₁⋅p₂⋅sin(p₃) + p₁⋅s₂⋅sin (p₃) - p₂ ⋅cos(p₃) - p₂⋅q₁⋅sin(p₃) - p₂\n",
       "──────────────────────────────────────────────────────────────────────────────\n",
       "                                                                              \n",
       "                                                                              \n",
       "                                                                              \n",
       "                                                                              \n",
       "                                                                              \n",
       "                                                                              \n",
       "                                                                              \n",
       "\n",
       "                                                                              \n",
       "                                                                              \n",
       "                                                       2    2                 \n",
       "p₃) - m₂⋅p₂⋅p̈₁⋅s₂⋅sin(p₃) - m₂⋅p₂⋅p̈₂⋅s₂⋅cos(p₃) + m₂⋅p̈₁⋅s₂ ⋅sin (p₃) - 2⋅m₂\n",
       "──────────────────────────────────────────────────────────────────────────────\n",
       "                               2    ⎞                                         \n",
       "⋅s₂⋅sin(p₃)⋅cos(p₃) - q₁⋅s₂⋅sin (p₃)⎠                                         \n",
       "──────────────────────────────────────────────────────────────────────────────\n",
       "                                                                              \n",
       "                                                                              \n",
       "                                                                              \n",
       "                                                                              \n",
       "                                                                              \n",
       "                                                                              \n",
       "                                                                              \n",
       "\n",
       "                                                                              \n",
       "                                                                              \n",
       "                      2                ⎞         ⎛                            \n",
       "⋅p̈₂⋅q₁⋅s₂⋅sin(p₃) - m₂⋅p̈₂⋅s₂ ⋅sin(p₃)⋅cos(p₃)⎠   l₂⋅p₁⋅⎝-J₂⋅p₂⋅p̈₃ + J₂⋅p̈₃⋅\n",
       "──────────────────────────────────────── + ───────────────────────────────────\n",
       "                                                                              \n",
       "                                                                              \n",
       "──────────────────────────────────────────────────────────────────────────────\n",
       "                                                                              \n",
       "                                                                              \n",
       "                                                                              \n",
       "                                                                              \n",
       "                                                                              \n",
       "                                                                              \n",
       "                                                                              \n",
       "\n",
       "                                                                              \n",
       "                                                                              \n",
       "                                                                             2\n",
       "s₂⋅sin(p₃) + 2⋅g⋅m₂⋅p₁⋅s₂⋅sin(p₃) - g⋅m₂⋅p₂⋅s₂⋅cos(p₃) - 2⋅g⋅m₂⋅q₁⋅s₂⋅sin(p₃) \n",
       "──────────────────────────────────────────────────────────────────────────────\n",
       "                                                    ⎛                         \n",
       "                                               2⋅s₂⋅⎝p₁⋅p₂⋅sin(p₃) + p₁⋅s₂⋅sin\n",
       "──────────────────────────────────────────────────────────────────────────────\n",
       "                                                                              \n",
       "                                                                              \n",
       "                                                                              \n",
       "                                                                              \n",
       "                                                                              \n",
       "                                                                              \n",
       "                                                                              \n",
       "\n",
       "                                                                              \n",
       "                                                                              \n",
       "                                                                              \n",
       "- g⋅m₂⋅s₂ ⋅sin(p₃)⋅cos(p₃) + 2⋅m₂⋅p₁⋅p̈₂⋅s₂⋅sin(p₃) - m₂⋅p₂⋅p̈₁⋅s₂⋅sin(p₃) - m\n",
       "──────────────────────────────────────────────────────────────────────────────\n",
       "2         2                                                            2    ⎞ \n",
       " (p₃) - p₂ ⋅cos(p₃) - p₂⋅q₁⋅sin(p₃) - p₂⋅s₂⋅sin(p₃)⋅cos(p₃) - q₁⋅s₂⋅sin (p₃)⎠ \n",
       "──────────────────────────────────────────────────────────────────────────────\n",
       "                                                                              \n",
       "                                                                              \n",
       "                                                                              \n",
       "                                                                              \n",
       "                                                                              \n",
       "                                                                              \n",
       "                                                                              \n",
       "\n",
       "                                                                              \n",
       "                                                                              \n",
       "                 2    2                                       2               \n",
       "₂⋅p₂⋅p̈₂⋅s₂⋅cos(p₃) + m₂⋅p̈₁⋅s₂ ⋅sin (p₃) - 2⋅m₂⋅p̈₂⋅q₁⋅s₂⋅sin(p₃) - m₂⋅p̈₂⋅s₂\n",
       "──────────────────────────────────────────────────────────────────────────────\n",
       "                                                                              \n",
       "                                                                              \n",
       "──────────────────────────────────────────────────────────────────────────────\n",
       "                                                                              \n",
       "                                                                              \n",
       "                                                                              \n",
       "                                                                              \n",
       "                                                                              \n",
       "                                                                              \n",
       "                                                                              \n",
       "\n",
       "                                                                              \n",
       "                                                                              \n",
       " ⎞      ⎛                                                                     \n",
       " ⋅sin(p₃)⋅cos(p₃)⎠   l₂⋅⎝-J₂⋅p₂⋅p̈₃ + J₂⋅p̈₃⋅s₂⋅sin(p₃) + 2⋅g⋅m₂⋅p₁⋅s₂⋅sin(p₃)\n",
       "── + ─────────────────────────────────────────────────────────────────────────\n",
       "                                                                              \n",
       "                                                                              \n",
       "──────────────────────────────────────────────────────────────────────────────\n",
       "                                                                              \n",
       "                                                                              \n",
       "                                                                              \n",
       "                                                                              \n",
       "                                                                              \n",
       "                                                                              \n",
       "                                                                              \n",
       "\n",
       "                                                                              \n",
       "                                                                              \n",
       "                                    2                                         \n",
       " - g⋅m₂⋅p₂⋅s₂⋅cos(p₃) - 2⋅g⋅m₂⋅q₁⋅s₂⋅sin(p₃) - g⋅m₂⋅s₂ ⋅sin(p₃)⋅cos(p₃) + 2⋅m₂\n",
       "──────────────────────────────────────────────────────────────────────────────\n",
       "              ⎛                         2         2                           \n",
       "            2⋅⎝p₁⋅p₂⋅sin(p₃) + p₁⋅s₂⋅sin (p₃) - p₂ ⋅cos(p₃) - p₂⋅q₁⋅sin(p₃) - \n",
       "──────────────────────────────────────────────────────────────────────────────\n",
       "                                                                              \n",
       "                                                                              \n",
       "                                                                              \n",
       "                                                                              \n",
       "                                                                              \n",
       "                                                                              \n",
       "                                                                              \n",
       "\n",
       "                                                                              \n",
       "                                                                              \n",
       "                                                      2    2                  \n",
       "⋅p₁⋅p̈₂⋅s₂⋅sin(p₃) - m₂⋅p₂⋅p̈₁⋅s₂⋅sin(p₃) - m₂⋅p₂⋅p̈₂⋅s₂⋅cos(p₃) + m₂⋅p̈₁⋅s₂ ⋅\n",
       "──────────────────────────────────────────────────────────────────────────────\n",
       "                                 2    ⎞                                       \n",
       "p₂⋅s₂⋅sin(p₃)⋅cos(p₃) - q₁⋅s₂⋅sin (p₃)⎠                                       \n",
       "──────────────────────────────────────────────────────────────────────────────\n",
       "                                                                              \n",
       "                                                                              \n",
       "                                                                              \n",
       "                                                                              \n",
       "                                                                              \n",
       "                                                                              \n",
       "                                                                              \n",
       "\n",
       "                                                                              \n",
       "                                                                              \n",
       "                     2                ⎞              ⎛                        \n",
       "sin (p₃) - 2⋅m₂⋅p̈₂⋅q₁⋅s₂⋅sin(p₃) - m₂⋅p̈₂⋅s₂ ⋅sin(p₃)⋅cos(p₃)⎠⋅cos(p₃)   l₂⋅⎝\n",
       "─────────────────────────────────────────────── - ────────────────────────────\n",
       "                                                                              \n",
       "                                                                              \n",
       "──────────────────────────────────────────────────────────────────────────────\n",
       "                                                                              \n",
       "                                                                              \n",
       "                                                                              \n",
       "                                                                              \n",
       "                                                                              \n",
       "                                                                              \n",
       "                                                                              \n",
       "\n",
       "                                                                              \n",
       "                                                                              \n",
       "                                                                              \n",
       "-J₂⋅p₂⋅p̈₃ + J₂⋅p̈₃⋅s₂⋅sin(p₃) + 2⋅g⋅m₂⋅p₁⋅s₂⋅sin(p₃) - g⋅m₂⋅p₂⋅s₂⋅cos(p₃) - 2\n",
       "──────────────────────────────────────────────────────────────────────────────\n",
       "                                                                              \n",
       "                                                                              \n",
       "──────────────────────────────────────────────────────────────────────────────\n",
       "                                                                              \n",
       "                                                                              \n",
       "                                                                             ╱\n",
       "                                                                   ╱          \n",
       "                                                                           ╱  \n",
       "                                                                          ╱   \n",
       "                                                                        ╲╱    \n",
       "\n",
       "                                                                              \n",
       "                                                                              \n",
       "   2                                                                          \n",
       "⋅g⋅m₂⋅q₁⋅s₂⋅sin(p₃) - g⋅m₂⋅s₂ ⋅sin(p₃)⋅cos(p₃) + 2⋅m₂⋅p₁⋅p̈₂⋅s₂⋅sin(p₃) - m₂⋅p\n",
       "──────────────────────────────────────────────────────────────────────────────\n",
       "                                                                              \n",
       "                                                                              \n",
       "──────────────────────────────────────────────────────────────────────────────\n",
       " _____________________________________________________________________________\n",
       "╱                                                                             \n",
       "                       ⎛                                                      \n",
       "         2   ⎜                       -2⋅J₂⋅l₀⋅p₂⋅p̈₃ + 2⋅J₂⋅l₀⋅p̈₃⋅s₂⋅sin(p₃) \n",
       "  (p₂ + s₂⋅sin(p₃))  + ⎜l₀ - p₁ - s₂⋅cos(p₃) + ───────────────────────────────\n",
       "                       ⎜                                                      \n",
       "                       ⎝                                                      \n",
       "\n",
       "                                                                              \n",
       "                                                                              \n",
       "                     2    2                                       2           \n",
       "₂⋅p̈₁⋅s₂⋅sin(p₃) - m₂⋅p₂⋅p̈₂⋅s₂⋅cos(p₃) + m₂⋅p̈₁⋅s₂ ⋅sin (p₃) - 2⋅m₂⋅p̈₂⋅q₁⋅s₂\n",
       "──────────────────────────────────────────────────────────────────────────────\n",
       "                                                                              \n",
       "                                                                              \n",
       "──────────────────────────────────────────────────────────────────────────────\n",
       "______________________________________________________________________________\n",
       "                                                                              \n",
       "                                                                              \n",
       "- 4⋅J₂⋅p₁⋅p̈₃⋅s₂⋅sin(p₃) + 2⋅J₂⋅p₂⋅p̈₃⋅q₁ + 4⋅J₂⋅p₂⋅p̈₃⋅s₂⋅cos(p₃) + 2⋅J₂⋅p̈₃⋅\n",
       "──────────────────────────────────────────────────────────────────────────────\n",
       "                                                                              \n",
       "                                                                              \n",
       "\n",
       "                                                                              \n",
       "                                                                              \n",
       "     ⎞ ⎛                                                                      \n",
       "⋅sin(p₃) - m₂⋅p̈₂⋅s₂ ⋅sin(p₃)⋅cos(p₃)⎠⋅⎝-2⋅J₂⋅l₀⋅p₂⋅p̈₃ + 2⋅J₂⋅l₀⋅p̈₃⋅s₂⋅sin(p\n",
       "──────────────────────────────────────────────────────────────────────────────\n",
       "                                                                  ⎛           \n",
       "                                                         2⋅s₂⋅⎝p₁⋅p₂⋅sin(p₃) +\n",
       "──────────────────────────────────────────────────────────────────────────────\n",
       "______________________________________________________________________________\n",
       "                                                                              \n",
       "                                                                              \n",
       "q₁⋅s₂⋅sin(p₃) + 4⋅g⋅l₀⋅m₂⋅p₁⋅s₂⋅sin(p₃) - 2⋅g⋅l₀⋅m₂⋅p₂⋅s₂⋅cos(p₃) - 4⋅g⋅l₀⋅m₂⋅\n",
       "──────────────────────────────────────────────────────────────────────────────\n",
       "                                                                              \n",
       "                                                                              \n",
       "\n",
       "                                                                              \n",
       "                                                                              \n",
       "                                                                              \n",
       "₃) - 4⋅J₂⋅p₁⋅p̈₃⋅s₂⋅sin(p₃) + 2⋅J₂⋅p₂⋅p̈₃⋅q₁ + 4⋅J₂⋅p₂⋅p̈₃⋅s₂⋅cos(p₃) + 2⋅J₂⋅p\n",
       "──────────────────────────────────────────────────────────────────────────────\n",
       "              2         2                                                     \n",
       " p₁⋅s₂⋅sin (p₃) - p₂ ⋅cos(p₃) - p₂⋅q₁⋅sin(p₃) - p₂⋅s₂⋅sin(p₃)⋅cos(p₃) - q₁⋅s₂⋅\n",
       "──────────────────────────────────────────────────────────────────────────────\n",
       "______________________________________________________________________________\n",
       "                                                                              \n",
       "                              2                      2                        \n",
       "q₁⋅s₂⋅sin(p₃) - g⋅l₀⋅m₂⋅s₂ ⋅sin(2⋅p₃) - 4⋅g⋅m₂⋅p₁ ⋅s₂⋅sin(p₃) + 4⋅g⋅m₂⋅p₁⋅p₂⋅s\n",
       "──────────────────────────────────────────────────────────────────────────────\n",
       "                                                                              \n",
       "                                                     2⋅J₂⋅p₂⋅p̈₃ - 2⋅J₂⋅p̈₃⋅s₂\n",
       "\n",
       "                                                                              \n",
       "                                                                              \n",
       "                                                                     2        \n",
       "̈₃⋅q₁⋅s₂⋅sin(p₃) + 4⋅g⋅l₀⋅m₂⋅p₁⋅s₂⋅sin(p₃) - 2⋅g⋅l₀⋅m₂⋅p₂⋅s₂⋅cos(p₃) - 4⋅g⋅l₀⋅\n",
       "──────────────────────────────────────────────────────────────────────────────\n",
       "       2    ⎞ ⎛                                                               \n",
       "sin (p₃)⎠⋅⎝2⋅J₂⋅p₂⋅p̈₃ - 2⋅J₂⋅p̈₃⋅s₂⋅sin(p₃) - 4⋅g⋅m₂⋅p₁⋅s₂⋅sin(p₃) + 2⋅g⋅m₂⋅p\n",
       "──────────────────────────────────────────────────────────────────────────────\n",
       "______________________________________________________________________________\n",
       "                                                                              \n",
       "                                                                              \n",
       "₂⋅cos(p₃) + 4⋅g⋅m₂⋅p₁⋅q₁⋅s₂⋅sin(p₃) - 2⋅g⋅m₂⋅p₂⋅q₁⋅s₂⋅cos(p₃) + g⋅m₂⋅q₁⋅s₂ ⋅si\n",
       "──────────────────────────────────────────────────────────────────────────────\n",
       "                                                                              \n",
       "⋅sin(p₃) - 4⋅g⋅m₂⋅p₁⋅s₂⋅sin(p₃) + 2⋅g⋅m₂⋅p₂⋅s₂⋅cos(p₃) + 4⋅g⋅m₂⋅q₁⋅s₂⋅sin(p₃) \n",
       "\n",
       "                                                                              \n",
       "                                                                              \n",
       "              2                                                               \n",
       "m₂⋅q₁⋅s₂⋅sin(p₃) - g⋅l₀⋅m₂⋅s₂ ⋅sin(2⋅p₃) - 4⋅g⋅m₂⋅p₁ ⋅s₂⋅sin(p₃) + 4⋅g⋅m₂⋅p₁⋅p\n",
       "──────────────────────────────────────────────────────────────────────────────\n",
       "                                               2                              \n",
       "₂⋅s₂⋅cos(p₃) + 4⋅g⋅m₂⋅q₁⋅s₂⋅sin(p₃) + g⋅m₂⋅s₂ ⋅sin(2⋅p₃) - 4⋅m₂⋅p₁⋅p̈₂⋅s₂⋅sin(\n",
       "──────────────────────────────────────────────────────────────────────────────\n",
       "______________________________________________________________________________\n",
       "                                                                              \n",
       "2                                                                             \n",
       "n(2⋅p₃) + 4⋅l₀⋅m₂⋅p₁⋅p̈₂⋅s₂⋅sin(p₃) - 2⋅l₀⋅m₂⋅p₂⋅p̈₁⋅s₂⋅sin(p₃) - 2⋅l₀⋅m₂⋅p₂⋅p\n",
       "──────────────────────────────────────────────────────────────────────────────\n",
       "           2                                                                  \n",
       "+ g⋅m₂⋅s₂ ⋅sin(2⋅p₃) - 4⋅m₂⋅p₁⋅p̈₂⋅s₂⋅sin(p₃) + 2⋅m₂⋅p₂⋅p̈₁⋅s₂⋅sin(p₃) + 2⋅m₂⋅\n",
       "\n",
       "                                                                              \n",
       "                                                                              \n",
       "                                       2                                      \n",
       "₂⋅s₂⋅cos(p₃) + 4⋅g⋅m₂⋅p₁⋅q₁⋅s₂⋅sin(p₃) - 2⋅g⋅m₂⋅p₂⋅q₁⋅s₂⋅cos(p₃) + g⋅m₂⋅q₁⋅s₂ \n",
       "──────────────────────────────────────────────────────────────────────────────\n",
       "                                                                 2    2       \n",
       "p₃) + 2⋅m₂⋅p₂⋅p̈₁⋅s₂⋅sin(p₃) + 2⋅m₂⋅p₂⋅p̈₂⋅s₂⋅cos(p₃) - 2⋅m₂⋅p̈₁⋅s₂ ⋅sin (p₃) \n",
       "──────────────────────────────────────────────────────────────────────────────\n",
       "______________________________________________________________________________\n",
       "                                                                              \n",
       "                              2    2                                          \n",
       "̈₂⋅s₂⋅cos(p₃) + 2⋅l₀⋅m₂⋅p̈₁⋅s₂ ⋅sin (p₃) - 4⋅l₀⋅m₂⋅p̈₂⋅q₁⋅s₂⋅sin(p₃) - l₀⋅m₂⋅p\n",
       "──────────────────────────────────────────────────────────────────────────────\n",
       "                             2    2                                       2   \n",
       "p₂⋅p̈₂⋅s₂⋅cos(p₃) - 2⋅m₂⋅p̈₁⋅s₂ ⋅sin (p₃) + 4⋅m₂⋅p̈₂⋅q₁⋅s₂⋅sin(p₃) + m₂⋅p̈₂⋅s₂\n",
       "\n",
       "                                                                              \n",
       "                                                                              \n",
       "                                                                     2    2   \n",
       "⋅sin(2⋅p₃) + 4⋅l₀⋅m₂⋅p₁⋅p̈₂⋅s₂⋅sin(p₃) - 2⋅l₀⋅m₂⋅p₂⋅p̈₁⋅s₂⋅sin(p₃) - 2⋅l₀⋅m₂⋅p\n",
       "──────────────────────────────────────────────────────────────────────────────\n",
       "                                2          ⎞                                  \n",
       "+ 4⋅m₂⋅p̈₂⋅q₁⋅s₂⋅sin(p₃) + m₂⋅p̈₂⋅s₂ ⋅sin(2⋅p₃)⎠                              \n",
       "──────────────────────────────────────────────────────────────────────────────\n",
       "______________________________________________________________________________\n",
       "                                                                              \n",
       "   2                    2                                                     \n",
       "̈₂⋅s₂ ⋅sin(2⋅p₃) - 4⋅m₂⋅p₁ ⋅p̈₂⋅s₂⋅sin(p₃) + 4⋅m₂⋅p₁⋅p₂⋅p̈₁⋅s₂⋅sin(p₃) + 4⋅m₂⋅\n",
       "──────────────────────────────────────────────────────────────────────────────\n",
       "                                                                              \n",
       " ⋅sin(2⋅p₃)                                                                   \n",
       "\n",
       "                                                                              \n",
       "                                                                              \n",
       "                                          2                    2              \n",
       "₂⋅p̈₂⋅s₂⋅cos(p₃) + 2⋅l₀⋅m₂⋅p̈₁⋅s₂ ⋅sin (p₃) - 4⋅l₀⋅m₂⋅p̈₂⋅q₁⋅s₂⋅sin(p₃) - l₀⋅m\n",
       "──────────────────────────────────────────────────────────────────────────────\n",
       "                                                                              \n",
       "                                                                              \n",
       "──────────────────────────────────────────────────────────────────────────────\n",
       "______________________________________________________________________________\n",
       "                                                                              \n",
       "                                                    2                         \n",
       "p₁⋅p₂⋅p̈₂⋅s₂⋅cos(p₃) + 4⋅m₂⋅p₁⋅p̈₂⋅q₁⋅s₂⋅sin(p₃) - 4⋅m₂⋅p₂ ⋅p̈₁⋅s₂⋅cos(p₃) - 2\n",
       "──────────────────────────────────────────────────────────────────────────────\n",
       "                                                                              \n",
       "                                                                              \n",
       "\n",
       "                                                                              \n",
       "                                                                              \n",
       "                                                                              \n",
       "₂⋅p̈₂⋅s₂ ⋅sin(2⋅p₃) - 4⋅m₂⋅p₁ ⋅p̈₂⋅s₂⋅sin(p₃) + 4⋅m₂⋅p₁⋅p₂⋅p̈₁⋅s₂⋅sin(p₃) + 4⋅\n",
       "──────────────────────────────────────────────────────────────────────────────\n",
       "                                                                              \n",
       "                                                                              \n",
       "──────────────────────────────────────────────────────────────────────────────\n",
       "______________________________________________________________________________\n",
       "                                                                              \n",
       "                                                           2    2             \n",
       "⋅m₂⋅p₂⋅p̈₁⋅q₁⋅s₂⋅sin(p₃) - 2⋅m₂⋅p₂⋅p̈₂⋅q₁⋅s₂⋅cos(p₃) - 2⋅m₂⋅p̈₁⋅q₁⋅s₂ ⋅sin (p₃\n",
       "──────────────────────────────────────────────────────────────────────────────\n",
       "                                                                              \n",
       "                                                                              \n",
       "\n",
       "                                                                              \n",
       "                                                                              \n",
       "             2                                                                \n",
       "m₂⋅p₁⋅p₂⋅p̈₂⋅s₂⋅cos(p₃) + 4⋅m₂⋅p₁⋅p̈₂⋅q₁⋅s₂⋅sin(p₃) - 4⋅m₂⋅p₂ ⋅p̈₁⋅s₂⋅cos(p₃) \n",
       "──────────────────────────────────────────────────────────────────────────────\n",
       "                                                                              \n",
       "                                                                              \n",
       "──────────────────────────────────────────────────────────────────────────────\n",
       "___________________                                                           \n",
       "                 2                                                            \n",
       "     2          ⎞                                                             \n",
       ") + m₂⋅p̈₂⋅q₁⋅s₂ ⋅sin(2⋅p₃)⎟                                                  \n",
       "────────────────⎟                                                             \n",
       "                ⎟                                                             \n",
       "                ⎠                                                             \n",
       "\n",
       "                                                                        ______\n",
       "                                                                       ╱      \n",
       "                    2    2                  2          ⎞              ╱       \n",
       "- 2⋅m₂⋅p₂⋅p̈₁⋅q₁⋅s₂⋅sin(p₃) - 2⋅m₂⋅p₂⋅p̈₂⋅q₁⋅s₂⋅cos(p₃) - 2⋅m₂⋅p̈₁⋅q₁⋅s₂ ⋅sin \n",
       "──────────────────────────────────────────────────────── + m₃⋅q̈₂⋅   ╱    (p₂ \n",
       "                                                                   ╱          \n",
       "                                                                 ╲╱           \n",
       "──────────────────────────────────────────────────────────────────────────────\n",
       "                                                                              \n",
       "                                                                              \n",
       "                                                                              \n",
       "                                                                              \n",
       "                                                                              \n",
       "                                                                              \n",
       "                                                                              \n",
       "\n",
       "______________________________________________________________________________\n",
       "                                                                              \n",
       "                ⎛                                                             \n",
       "(p₃) + m₂⋅p̈₂⋅q₁⋅s₂ ⋅sin(2⋅p₃)⎠             ╱                   2   ⎜         \n",
       "+ s₂⋅sin(p₃))  + ⎜l₀ - p₁ - s₂⋅cos(p₃) + ─────────────────────────────────────\n",
       "                ⎜                                                             \n",
       "                ⎝                                                             \n",
       "──────────────────────────────────────────────────────────────────────────────\n",
       "                                                                              \n",
       "                                                                              \n",
       "                                                                              \n",
       "                                                                              \n",
       "                                                                              \n",
       "                                                                              \n",
       "                                                                              \n",
       "\n",
       "______________________________________________________________________________\n",
       "                                                                              \n",
       "                                                                              \n",
       "              -2⋅J₂⋅l₀⋅p₂⋅p̈₃ + 2⋅J₂⋅l₀⋅p̈₃⋅s₂⋅sin(p₃) - 4⋅J₂⋅p₁⋅p̈₃⋅s₂⋅sin(p₃\n",
       "──────────────────────────────────────────────────────────────────────────────\n",
       "                                                                              \n",
       "                                                                              \n",
       "──────────────────────────────────────────────────────────────────────────────\n",
       "                                                                              \n",
       "                                                                              \n",
       "                                                                              \n",
       "                                                                              \n",
       "                                                                              \n",
       "                                                                              \n",
       "                                                                              \n",
       "\n",
       "______________________________________________________________________________\n",
       "                                                                              \n",
       "                                                                              \n",
       ") + 2⋅J₂⋅p₂⋅p̈₃⋅q₁ + 4⋅J₂⋅p₂⋅p̈₃⋅s₂⋅cos(p₃) + 2⋅J₂⋅p̈₃⋅q₁⋅s₂⋅sin(p₃) + 4⋅g⋅l₀⋅\n",
       "──────────────────────────────────────────────────────────────────────────────\n",
       "                                                                              \n",
       "                                                                              \n",
       "──────────────────────────────────────────────────────────────────────────────\n",
       "                                                                              \n",
       "                                                                              \n",
       "                                                                              \n",
       "                                                                              \n",
       "                                                                              \n",
       "                                                                              \n",
       "                                                                              \n",
       "\n",
       "______________________________________________________________________________\n",
       "                                                                              \n",
       "                       2                      2                               \n",
       "m₂⋅p₁⋅s₂⋅sin(p₃) - 2⋅g⋅l₀⋅m₂⋅p₂⋅s₂⋅cos(p₃) - 4⋅g⋅l₀⋅m₂⋅q₁⋅s₂⋅sin(p₃) - g⋅l₀⋅m₂\n",
       "──────────────────────────────────────────────────────────────────────────────\n",
       "                                                                              \n",
       "                                              2⋅J₂⋅p₂⋅p̈₃ - 2⋅J₂⋅p̈₃⋅s₂⋅sin(p₃\n",
       "──────────────────────────────────────────────────────────────────────────────\n",
       "                                                                              \n",
       "                                                                              \n",
       "                                                                              \n",
       "                                                                              \n",
       "                                                                              \n",
       "                                                                              \n",
       "                                                                              \n",
       "\n",
       "______________________________________________________________________________\n",
       "                                                                              \n",
       "                                                                       2      \n",
       "⋅s₂ ⋅sin(2⋅p₃) - 4⋅g⋅m₂⋅p₁ ⋅s₂⋅sin(p₃) + 4⋅g⋅m₂⋅p₁⋅p₂⋅s₂⋅cos(p₃) + 4⋅g⋅m₂⋅p₁⋅q\n",
       "──────────────────────────────────────────────────────────────────────────────\n",
       "                                                                              \n",
       ") - 4⋅g⋅m₂⋅p₁⋅s₂⋅sin(p₃) + 2⋅g⋅m₂⋅p₂⋅s₂⋅cos(p₃) + 4⋅g⋅m₂⋅q₁⋅s₂⋅sin(p₃) + g⋅m₂⋅\n",
       "──────────────────────────────────────────────────────────────────────────────\n",
       "                                                                              \n",
       "                                                                              \n",
       "                                                                              \n",
       "                                                                              \n",
       "                                                                              \n",
       "                                                                              \n",
       "                                                                              \n",
       "\n",
       "______________________________________________________________________________\n",
       "                                                                              \n",
       "                                                                              \n",
       "₁⋅s₂⋅sin(p₃) - 2⋅g⋅m₂⋅p₂⋅q₁⋅s₂⋅cos(p₃) + g⋅m₂⋅q₁⋅s₂ ⋅sin(2⋅p₃) + 4⋅l₀⋅m₂⋅p₁⋅p̈\n",
       "──────────────────────────────────────────────────────────────────────────────\n",
       "    2                                                                         \n",
       "s₂ ⋅sin(2⋅p₃) - 4⋅m₂⋅p₁⋅p̈₂⋅s₂⋅sin(p₃) + 2⋅m₂⋅p₂⋅p̈₁⋅s₂⋅sin(p₃) + 2⋅m₂⋅p₂⋅p̈₂⋅\n",
       "──────────────────────────────────────────────────────────────────────────────\n",
       "                                                                              \n",
       "                                                                              \n",
       "                                                                              \n",
       "                                                                              \n",
       "                                                                              \n",
       "                                                                              \n",
       "                                                                              \n",
       "\n",
       "______________________________________________________________________________\n",
       "                                                                              \n",
       "                       2    2                                             2   \n",
       "₂⋅s₂⋅sin(p₃) - 2⋅l₀⋅m₂⋅p₂⋅p̈₁⋅s₂⋅sin(p₃) - 2⋅l₀⋅m₂⋅p₂⋅p̈₂⋅s₂⋅cos(p₃) + 2⋅l₀⋅m₂\n",
       "──────────────────────────────────────────────────────────────────────────────\n",
       "                      2    2                                       2          \n",
       "s₂⋅cos(p₃) - 2⋅m₂⋅p̈₁⋅s₂ ⋅sin (p₃) + 4⋅m₂⋅p̈₂⋅q₁⋅s₂⋅sin(p₃) + m₂⋅p̈₂⋅s₂ ⋅sin(2\n",
       "──────────────────────────────────────────────────────────────────────────────\n",
       "                                                                              \n",
       "                                                                              \n",
       "                                                                              \n",
       "                                                                              \n",
       "                                                                              \n",
       "                                                                              \n",
       "                                                                              \n",
       "\n",
       "______________________________________________________________________________\n",
       "                                                                              \n",
       "                 2                                                            \n",
       "⋅p̈₁⋅s₂ ⋅sin (p₃) - 4⋅l₀⋅m₂⋅p̈₂⋅q₁⋅s₂⋅sin(p₃) - l₀⋅m₂⋅p̈₂⋅s₂ ⋅sin(2⋅p₃) - 4⋅m₂\n",
       "──────────────────────────────────────────────────────────────────────────────\n",
       "                                                                              \n",
       "⋅p₃)                                                                          \n",
       "──────────────────────────────────────────────────────────────────────────────\n",
       "                                                                              \n",
       "                                                                              \n",
       "                                                                              \n",
       "                                                                              \n",
       "                                                                              \n",
       "                                                                              \n",
       "                                                                              \n",
       "\n",
       "______________________________________________________________________________\n",
       "                                                                              \n",
       "                                             2                                \n",
       "⋅p₁ ⋅p̈₂⋅s₂⋅sin(p₃) + 4⋅m₂⋅p₁⋅p₂⋅p̈₁⋅s₂⋅sin(p₃) + 4⋅m₂⋅p₁⋅p₂⋅p̈₂⋅s₂⋅cos(p₃) + \n",
       "──────────────────────────────────────────────────────────────────────────────\n",
       "                                                                              \n",
       "                                                                              \n",
       "──────────────────────────────────────────────────────────────────────────────\n",
       "                                                                              \n",
       "                                                                              \n",
       "                                                                              \n",
       "                                                                              \n",
       "                                                                              \n",
       "                                                                              \n",
       "                                                                              \n",
       "\n",
       "______________________________________________________________________________\n",
       "                                                                              \n",
       "                                                    2    2                  2 \n",
       "4⋅m₂⋅p₁⋅p̈₂⋅q₁⋅s₂⋅sin(p₃) - 4⋅m₂⋅p₂ ⋅p̈₁⋅s₂⋅cos(p₃) - 2⋅m₂⋅p₂⋅p̈₁⋅q₁⋅s₂⋅sin(p₃\n",
       "──────────────────────────────────────────────────────────────────────────────\n",
       "                                                                              \n",
       "                                                                              \n",
       "──────────────────────────────────────────────────────────────────────────────\n",
       "                                                                              \n",
       "                                                                              \n",
       "                                                                              \n",
       "                                                                              \n",
       "                                                                              \n",
       "                                                                              \n",
       "                                                                              \n",
       "\n",
       "____________⎤\n",
       "          2 ⎥\n",
       "         ⎞  ⎥\n",
       ") - 2⋅m₂⋅p₂⋅p̈₂⋅q₁⋅s₂⋅cos(p₃) - 2⋅m₂⋅p̈₁⋅q₁⋅s₂ ⋅sin (p₃) + m₂⋅p̈₂⋅q₁⋅s₂ ⋅sin(2\n",
       "──────────⎟  ⎥\n",
       "         ⎟  ⎥\n",
       "         ⎠  ⎥\n",
       "────────────⎥\n",
       "            ⎥\n",
       "            ⎥\n",
       "            ⎥\n",
       "            ⎥\n",
       "            ⎥\n",
       "            ⎥\n",
       "            ⎦"
      ]
     },
     "metadata": {},
     "output_type": "display_data"
    },
    {
     "data": {
      "text/plain": [
       "---"
      ]
     },
     "metadata": {},
     "output_type": "display_data"
    },
    {
     "data": {
      "image/png": "[encoded data removed]",
      "text/latex": [
       "(flat_tau2.s) := $\\displaystyle \\left\\{J_{2}, g, l_{0}, l_{2}, m_{2}, m_{3}, p_{1}, p_{2}, p_{3}, \\ddot{p}_{1}, \\ddot{p}_{2}, \\ddot{p}_{3}, q_{1}, \\ddot{q}_{2}, s_{2}\\right\\}$"
      ],
      "text/plain": [
       "(flat_tau2.s) := {J₂, g, l₀, l₂, m₂, m₃, p₁, p₂, p₃, p̈₁, p̈₂, p̈₃, q₁, q̈₂, s₂}"
      ]
     },
     "metadata": {},
     "output_type": "display_data"
    },
    {
     "data": {
      "text/plain": [
       "---"
      ]
     },
     "metadata": {},
     "output_type": "display_data"
    }
   ],
   "source": [
    "flat_tau2 = sp.matrices.dense.MutableDenseMatrix(sp.solve(eqns[-1], tau2))\n",
    "flat_tau2 = flat_tau2.subz([q2, tau4, tau3], [*flat_q2, *flat_tau4, *flat_tau3]) ##:\n",
    "flat_tau2.s ##:"
   ]
  },
  {
   "cell_type": "code",
   "execution_count": 85,
   "metadata": {},
   "outputs": [
    {
     "data": {
      "text/latex": [
       "flat_tau1 := $\\displaystyle \\left[\\begin{matrix}\\frac{\\frac{l_{1} p_{1} \\left(2 J_{2} g p_{1} \\ddot{p}_{3} - 2 J_{2} g \\ddot{p}_{3} q_{1} - 2 J_{2} g \\ddot{p}_{3} s_{2} \\cos{\\left(p_{3} \\right)} + 2 J_{2} p_{1} \\ddot{p}_{2} \\ddot{p}_{3} - 2 J_{2} p_{2} \\ddot{p}_{1} \\ddot{p}_{3} + 2 J_{2} \\ddot{p}_{1} \\ddot{p}_{3} s_{2} \\sin{\\left(p_{3} \\right)} - 2 J_{2} \\ddot{p}_{2} \\ddot{p}_{3} q_{1} - 2 J_{2} \\ddot{p}_{2} \\ddot{p}_{3} s_{2} \\cos{\\left(p_{3} \\right)} - 2 g^{2} m_{2} p_{1} s_{2} \\cos{\\left(p_{3} \\right)} + 2 g^{2} m_{2} q_{1} s_{2} \\cos{\\left(p_{3} \\right)} + g^{2} m_{2} s_{2}^{2} \\cos{\\left(2 p_{3} \\right)} + g^{2} m_{2} s_{2}^{2} + 2 g m_{2} p_{1} \\ddot{p}_{1} s_{2} \\sin{\\left(p_{3} \\right)} - 4 g m_{2} p_{1} \\ddot{p}_{2} s_{2} \\cos{\\left(p_{3} \\right)} + 2 g m_{2} p_{2} \\ddot{p}_{1} s_{2} \\cos{\\left(p_{3} \\right)} - 2 g m_{2} \\ddot{p}_{1} q_{1} s_{2} \\sin{\\left(p_{3} \\right)} - 2 g m_{2} \\ddot{p}_{1} s_{2}^{2} \\sin{\\left(2 p_{3} \\right)} + 4 g m_{2} \\ddot{p}_{2} q_{1} s_{2} \\cos{\\left(p_{3} \\right)} + 2 g m_{2} \\ddot{p}_{2} s_{2}^{2} \\cos{\\left(2 p_{3} \\right)} + 2 g m_{2} \\ddot{p}_{2} s_{2}^{2} + 2 m_{2} p_{1} \\ddot{p}_{1} \\ddot{p}_{2} s_{2} \\sin{\\left(p_{3} \\right)} - 2 m_{2} p_{1} \\ddot{p}_{2}^{2} s_{2} \\cos{\\left(p_{3} \\right)} - 2 m_{2} p_{2} \\ddot{p}_{1}^{2} s_{2} \\sin{\\left(p_{3} \\right)} + 2 m_{2} p_{2} \\ddot{p}_{1} \\ddot{p}_{2} s_{2} \\cos{\\left(p_{3} \\right)} - m_{2} \\ddot{p}_{1}^{2} s_{2}^{2} \\cos{\\left(2 p_{3} \\right)} + m_{2} \\ddot{p}_{1}^{2} s_{2}^{2} - 2 m_{2} \\ddot{p}_{1} \\ddot{p}_{2} q_{1} s_{2} \\sin{\\left(p_{3} \\right)} - 2 m_{2} \\ddot{p}_{1} \\ddot{p}_{2} s_{2}^{2} \\sin{\\left(2 p_{3} \\right)} + 2 m_{2} \\ddot{p}_{2}^{2} q_{1} s_{2} \\cos{\\left(p_{3} \\right)} + m_{2} \\ddot{p}_{2}^{2} s_{2}^{2} \\cos{\\left(2 p_{3} \\right)} + m_{2} \\ddot{p}_{2}^{2} s_{2}^{2}\\right)}{2 s_{2} \\left(2 g p_{1}^{2} \\sin{\\left(p_{3} \\right)} - 2 g p_{1} p_{2} \\cos{\\left(p_{3} \\right)} - 4 g p_{1} q_{1} \\sin{\\left(p_{3} \\right)} - g p_{1} s_{2} \\sin{\\left(2 p_{3} \\right)} + 2 g p_{2} q_{1} \\cos{\\left(p_{3} \\right)} + g p_{2} s_{2} \\cos{\\left(2 p_{3} \\right)} + g p_{2} s_{2} + 2 g q_{1}^{2} \\sin{\\left(p_{3} \\right)} + g q_{1} s_{2} \\sin{\\left(2 p_{3} \\right)} + 2 p_{1}^{2} \\ddot{p}_{2} \\sin{\\left(p_{3} \\right)} - 2 p_{1} p_{2} \\ddot{p}_{1} \\sin{\\left(p_{3} \\right)} - 2 p_{1} p_{2} \\ddot{p}_{2} \\cos{\\left(p_{3} \\right)} - p_{1} \\ddot{p}_{1} s_{2} \\cos{\\left(2 p_{3} \\right)} + p_{1} \\ddot{p}_{1} s_{2} - 4 p_{1} \\ddot{p}_{2} q_{1} \\sin{\\left(p_{3} \\right)} - p_{1} \\ddot{p}_{2} s_{2} \\sin{\\left(2 p_{3} \\right)} + 2 p_{2}^{2} \\ddot{p}_{1} \\cos{\\left(p_{3} \\right)} + 2 p_{2} \\ddot{p}_{1} q_{1} \\sin{\\left(p_{3} \\right)} - p_{2} \\ddot{p}_{1} s_{2} \\sin{\\left(2 p_{3} \\right)} + 2 p_{2} \\ddot{p}_{2} q_{1} \\cos{\\left(p_{3} \\right)} + p_{2} \\ddot{p}_{2} s_{2} \\cos{\\left(2 p_{3} \\right)} + p_{2} \\ddot{p}_{2} s_{2} + \\ddot{p}_{1} q_{1} s_{2} \\cos{\\left(2 p_{3} \\right)} - \\ddot{p}_{1} q_{1} s_{2} + 2 \\ddot{p}_{2} q_{1}^{2} \\sin{\\left(p_{3} \\right)} + \\ddot{p}_{2} q_{1} s_{2} \\sin{\\left(2 p_{3} \\right)}\\right)} - \\frac{l_{1} q_{1} \\left(2 J_{2} g p_{1} \\ddot{p}_{3} - 2 J_{2} g \\ddot{p}_{3} q_{1} - 2 J_{2} g \\ddot{p}_{3} s_{2} \\cos{\\left(p_{3} \\right)} + 2 J_{2} p_{1} \\ddot{p}_{2} \\ddot{p}_{3} - 2 J_{2} p_{2} \\ddot{p}_{1} \\ddot{p}_{3} + 2 J_{2} \\ddot{p}_{1} \\ddot{p}_{3} s_{2} \\sin{\\left(p_{3} \\right)} - 2 J_{2} \\ddot{p}_{2} \\ddot{p}_{3} q_{1} - 2 J_{2} \\ddot{p}_{2} \\ddot{p}_{3} s_{2} \\cos{\\left(p_{3} \\right)} - 2 g^{2} m_{2} p_{1} s_{2} \\cos{\\left(p_{3} \\right)} + 2 g^{2} m_{2} q_{1} s_{2} \\cos{\\left(p_{3} \\right)} + g^{2} m_{2} s_{2}^{2} \\cos{\\left(2 p_{3} \\right)} + g^{2} m_{2} s_{2}^{2} + 2 g m_{2} p_{1} \\ddot{p}_{1} s_{2} \\sin{\\left(p_{3} \\right)} - 4 g m_{2} p_{1} \\ddot{p}_{2} s_{2} \\cos{\\left(p_{3} \\right)} + 2 g m_{2} p_{2} \\ddot{p}_{1} s_{2} \\cos{\\left(p_{3} \\right)} - 2 g m_{2} \\ddot{p}_{1} q_{1} s_{2} \\sin{\\left(p_{3} \\right)} - 2 g m_{2} \\ddot{p}_{1} s_{2}^{2} \\sin{\\left(2 p_{3} \\right)} + 4 g m_{2} \\ddot{p}_{2} q_{1} s_{2} \\cos{\\left(p_{3} \\right)} + 2 g m_{2} \\ddot{p}_{2} s_{2}^{2} \\cos{\\left(2 p_{3} \\right)} + 2 g m_{2} \\ddot{p}_{2} s_{2}^{2} + 2 m_{2} p_{1} \\ddot{p}_{1} \\ddot{p}_{2} s_{2} \\sin{\\left(p_{3} \\right)} - 2 m_{2} p_{1} \\ddot{p}_{2}^{2} s_{2} \\cos{\\left(p_{3} \\right)} - 2 m_{2} p_{2} \\ddot{p}_{1}^{2} s_{2} \\sin{\\left(p_{3} \\right)} + 2 m_{2} p_{2} \\ddot{p}_{1} \\ddot{p}_{2} s_{2} \\cos{\\left(p_{3} \\right)} - m_{2} \\ddot{p}_{1}^{2} s_{2}^{2} \\cos{\\left(2 p_{3} \\right)} + m_{2} \\ddot{p}_{1}^{2} s_{2}^{2} - 2 m_{2} \\ddot{p}_{1} \\ddot{p}_{2} q_{1} s_{2} \\sin{\\left(p_{3} \\right)} - 2 m_{2} \\ddot{p}_{1} \\ddot{p}_{2} s_{2}^{2} \\sin{\\left(2 p_{3} \\right)} + 2 m_{2} \\ddot{p}_{2}^{2} q_{1} s_{2} \\cos{\\left(p_{3} \\right)} + m_{2} \\ddot{p}_{2}^{2} s_{2}^{2} \\cos{\\left(2 p_{3} \\right)} + m_{2} \\ddot{p}_{2}^{2} s_{2}^{2}\\right)}{2 s_{2} \\left(2 g p_{1}^{2} \\sin{\\left(p_{3} \\right)} - 2 g p_{1} p_{2} \\cos{\\left(p_{3} \\right)} - 4 g p_{1} q_{1} \\sin{\\left(p_{3} \\right)} - g p_{1} s_{2} \\sin{\\left(2 p_{3} \\right)} + 2 g p_{2} q_{1} \\cos{\\left(p_{3} \\right)} + g p_{2} s_{2} \\cos{\\left(2 p_{3} \\right)} + g p_{2} s_{2} + 2 g q_{1}^{2} \\sin{\\left(p_{3} \\right)} + g q_{1} s_{2} \\sin{\\left(2 p_{3} \\right)} + 2 p_{1}^{2} \\ddot{p}_{2} \\sin{\\left(p_{3} \\right)} - 2 p_{1} p_{2} \\ddot{p}_{1} \\sin{\\left(p_{3} \\right)} - 2 p_{1} p_{2} \\ddot{p}_{2} \\cos{\\left(p_{3} \\right)} - p_{1} \\ddot{p}_{1} s_{2} \\cos{\\left(2 p_{3} \\right)} + p_{1} \\ddot{p}_{1} s_{2} - 4 p_{1} \\ddot{p}_{2} q_{1} \\sin{\\left(p_{3} \\right)} - p_{1} \\ddot{p}_{2} s_{2} \\sin{\\left(2 p_{3} \\right)} + 2 p_{2}^{2} \\ddot{p}_{1} \\cos{\\left(p_{3} \\right)} + 2 p_{2} \\ddot{p}_{1} q_{1} \\sin{\\left(p_{3} \\right)} - p_{2} \\ddot{p}_{1} s_{2} \\sin{\\left(2 p_{3} \\right)} + 2 p_{2} \\ddot{p}_{2} q_{1} \\cos{\\left(p_{3} \\right)} + p_{2} \\ddot{p}_{2} s_{2} \\cos{\\left(2 p_{3} \\right)} + p_{2} \\ddot{p}_{2} s_{2} + \\ddot{p}_{1} q_{1} s_{2} \\cos{\\left(2 p_{3} \\right)} - \\ddot{p}_{1} q_{1} s_{2} + 2 \\ddot{p}_{2} q_{1}^{2} \\sin{\\left(p_{3} \\right)} + \\ddot{p}_{2} q_{1} s_{2} \\sin{\\left(2 p_{3} \\right)}\\right)} - \\frac{l_{1} \\left(2 J_{2} g p_{1} \\ddot{p}_{3} - 2 J_{2} g \\ddot{p}_{3} q_{1} - 2 J_{2} g \\ddot{p}_{3} s_{2} \\cos{\\left(p_{3} \\right)} + 2 J_{2} p_{1} \\ddot{p}_{2} \\ddot{p}_{3} - 2 J_{2} p_{2} \\ddot{p}_{1} \\ddot{p}_{3} + 2 J_{2} \\ddot{p}_{1} \\ddot{p}_{3} s_{2} \\sin{\\left(p_{3} \\right)} - 2 J_{2} \\ddot{p}_{2} \\ddot{p}_{3} q_{1} - 2 J_{2} \\ddot{p}_{2} \\ddot{p}_{3} s_{2} \\cos{\\left(p_{3} \\right)} - 2 g^{2} m_{2} p_{1} s_{2} \\cos{\\left(p_{3} \\right)} + 2 g^{2} m_{2} q_{1} s_{2} \\cos{\\left(p_{3} \\right)} + g^{2} m_{2} s_{2}^{2} \\cos{\\left(2 p_{3} \\right)} + g^{2} m_{2} s_{2}^{2} + 2 g m_{2} p_{1} \\ddot{p}_{1} s_{2} \\sin{\\left(p_{3} \\right)} - 4 g m_{2} p_{1} \\ddot{p}_{2} s_{2} \\cos{\\left(p_{3} \\right)} + 2 g m_{2} p_{2} \\ddot{p}_{1} s_{2} \\cos{\\left(p_{3} \\right)} - 2 g m_{2} \\ddot{p}_{1} q_{1} s_{2} \\sin{\\left(p_{3} \\right)} - 2 g m_{2} \\ddot{p}_{1} s_{2}^{2} \\sin{\\left(2 p_{3} \\right)} + 4 g m_{2} \\ddot{p}_{2} q_{1} s_{2} \\cos{\\left(p_{3} \\right)} + 2 g m_{2} \\ddot{p}_{2} s_{2}^{2} \\cos{\\left(2 p_{3} \\right)} + 2 g m_{2} \\ddot{p}_{2} s_{2}^{2} + 2 m_{2} p_{1} \\ddot{p}_{1} \\ddot{p}_{2} s_{2} \\sin{\\left(p_{3} \\right)} - 2 m_{2} p_{1} \\ddot{p}_{2}^{2} s_{2} \\cos{\\left(p_{3} \\right)} - 2 m_{2} p_{2} \\ddot{p}_{1}^{2} s_{2} \\sin{\\left(p_{3} \\right)} + 2 m_{2} p_{2} \\ddot{p}_{1} \\ddot{p}_{2} s_{2} \\cos{\\left(p_{3} \\right)} - m_{2} \\ddot{p}_{1}^{2} s_{2}^{2} \\cos{\\left(2 p_{3} \\right)} + m_{2} \\ddot{p}_{1}^{2} s_{2}^{2} - 2 m_{2} \\ddot{p}_{1} \\ddot{p}_{2} q_{1} s_{2} \\sin{\\left(p_{3} \\right)} - 2 m_{2} \\ddot{p}_{1} \\ddot{p}_{2} s_{2}^{2} \\sin{\\left(2 p_{3} \\right)} + 2 m_{2} \\ddot{p}_{2}^{2} q_{1} s_{2} \\cos{\\left(p_{3} \\right)} + m_{2} \\ddot{p}_{2}^{2} s_{2}^{2} \\cos{\\left(2 p_{3} \\right)} + m_{2} \\ddot{p}_{2}^{2} s_{2}^{2}\\right) \\cos{\\left(p_{3} \\right)}}{2 \\left(2 g p_{1}^{2} \\sin{\\left(p_{3} \\right)} - 2 g p_{1} p_{2} \\cos{\\left(p_{3} \\right)} - 4 g p_{1} q_{1} \\sin{\\left(p_{3} \\right)} - g p_{1} s_{2} \\sin{\\left(2 p_{3} \\right)} + 2 g p_{2} q_{1} \\cos{\\left(p_{3} \\right)} + g p_{2} s_{2} \\cos{\\left(2 p_{3} \\right)} + g p_{2} s_{2} + 2 g q_{1}^{2} \\sin{\\left(p_{3} \\right)} + g q_{1} s_{2} \\sin{\\left(2 p_{3} \\right)} + 2 p_{1}^{2} \\ddot{p}_{2} \\sin{\\left(p_{3} \\right)} - 2 p_{1} p_{2} \\ddot{p}_{1} \\sin{\\left(p_{3} \\right)} - 2 p_{1} p_{2} \\ddot{p}_{2} \\cos{\\left(p_{3} \\right)} - p_{1} \\ddot{p}_{1} s_{2} \\cos{\\left(2 p_{3} \\right)} + p_{1} \\ddot{p}_{1} s_{2} - 4 p_{1} \\ddot{p}_{2} q_{1} \\sin{\\left(p_{3} \\right)} - p_{1} \\ddot{p}_{2} s_{2} \\sin{\\left(2 p_{3} \\right)} + 2 p_{2}^{2} \\ddot{p}_{1} \\cos{\\left(p_{3} \\right)} + 2 p_{2} \\ddot{p}_{1} q_{1} \\sin{\\left(p_{3} \\right)} - p_{2} \\ddot{p}_{1} s_{2} \\sin{\\left(2 p_{3} \\right)} + 2 p_{2} \\ddot{p}_{2} q_{1} \\cos{\\left(p_{3} \\right)} + p_{2} \\ddot{p}_{2} s_{2} \\cos{\\left(2 p_{3} \\right)} + p_{2} \\ddot{p}_{2} s_{2} + \\ddot{p}_{1} q_{1} s_{2} \\cos{\\left(2 p_{3} \\right)} - \\ddot{p}_{1} q_{1} s_{2} + 2 \\ddot{p}_{2} q_{1}^{2} \\sin{\\left(p_{3} \\right)} + \\ddot{p}_{2} q_{1} s_{2} \\sin{\\left(2 p_{3} \\right)}\\right)} + m_{1} \\ddot{q}_{1} \\sqrt{\\left(p_{2} - s_{2} \\sin{\\left(p_{3} \\right)}\\right)^{2} + \\left(- p_{1} + q_{1} + s_{2} \\cos{\\left(p_{3} \\right)}\\right)^{2}}}{\\sqrt{\\left(p_{2} - s_{2} \\sin{\\left(p_{3} \\right)}\\right)^{2} + \\left(- p_{1} + q_{1} + s_{2} \\cos{\\left(p_{3} \\right)}\\right)^{2}}}\\end{matrix}\\right]$"
      ],
      "text/plain": [
       "flat_tau1 := ⎡      ⎛                                                                      \n",
       "⎢l₁⋅p₁⋅⎝2⋅J₂⋅g⋅p₁⋅p̈₃ - 2⋅J₂⋅g⋅p̈₃⋅q₁ - 2⋅J₂⋅g⋅p̈₃⋅s₂⋅cos(p₃) + 2⋅J₂⋅p₁⋅p̈₂⋅p̈\n",
       "⎢─────────────────────────────────────────────────────────────────────────────\n",
       "⎢                                                                             \n",
       "⎢                                                                             \n",
       "⎢─────────────────────────────────────────────────────────────────────────────\n",
       "⎢                                                                             \n",
       "⎢                                                                             \n",
       "⎣                                                                             \n",
       "\n",
       "                                                                              \n",
       "₃ - 2⋅J₂⋅p₂⋅p̈₁⋅p̈₃ + 2⋅J₂⋅p̈₁⋅p̈₃⋅s₂⋅sin(p₃) - 2⋅J₂⋅p̈₂⋅p̈₃⋅q₁ - 2⋅J₂⋅p̈₂⋅p̈₃\n",
       "──────────────────────────────────────────────────────────────────────────────\n",
       "                           ⎛      2                                           \n",
       "              2⋅s₂⋅⎝2⋅g⋅p₁ ⋅sin(p₃) - 2⋅g⋅p₁⋅p₂⋅cos(p₃) - 4⋅g⋅p₁⋅q₁⋅sin(p₃) - \n",
       "──────────────────────────────────────────────────────────────────────────────\n",
       "                                                                              \n",
       "                                                                              \n",
       "                                                                              \n",
       "\n",
       "    2                       2                     2      2              2     \n",
       "⋅s₂⋅cos(p₃) - 2⋅g ⋅m₂⋅p₁⋅s₂⋅cos(p₃) + 2⋅g ⋅m₂⋅q₁⋅s₂⋅cos(p₃) + g ⋅m₂⋅s₂ ⋅cos(2⋅\n",
       "──────────────────────────────────────────────────────────────────────────────\n",
       "                                                                              \n",
       "g⋅p₁⋅s₂⋅sin(2⋅p₃) + 2⋅g⋅p₂⋅q₁⋅cos(p₃) + g⋅p₂⋅s₂⋅cos(2⋅p₃) + g⋅p₂⋅s₂ + 2⋅g⋅q₁ ⋅\n",
       "──────────────────────────────────────────────────────────────────────────────\n",
       "                                                                              \n",
       "                                                                              \n",
       "                                                                              \n",
       "\n",
       " 2                                                                            \n",
       "p₃) + g ⋅m₂⋅s₂  + 2⋅g⋅m₂⋅p₁⋅p̈₁⋅s₂⋅sin(p₃) - 4⋅g⋅m₂⋅p₁⋅p̈₂⋅s₂⋅cos(p₃) + 2⋅g⋅m₂\n",
       "──────────────────────────────────────────────────────────────────────────────\n",
       "      2                                   2                                   \n",
       "sin(p₃) + g⋅q₁⋅s₂⋅sin(2⋅p₃) + 2⋅p₁ ⋅p̈₂⋅sin(p₃) - 2⋅p₁⋅p₂⋅p̈₁⋅sin(p₃) - 2⋅p₁⋅p\n",
       "──────────────────────────────────────────────────────────────────────────────\n",
       "                                                                              \n",
       "                                                                              \n",
       "                                                                              \n",
       "\n",
       "                                           2                                  \n",
       "⋅p₂⋅p̈₁⋅s₂⋅cos(p₃) - 2⋅g⋅m₂⋅p̈₁⋅q₁⋅s₂⋅sin(p₃) - 2⋅g⋅m₂⋅p̈₁⋅s₂ ⋅sin(2⋅p₃) + 4⋅g\n",
       "──────────────────────────────────────────────────────────────────────────────\n",
       "                                                                              \n",
       "₂⋅p̈₂⋅cos(p₃) - p₁⋅p̈₁⋅s₂⋅cos(2⋅p₃) + p₁⋅p̈₁⋅s₂ - 4⋅p₁⋅p̈₂⋅q₁⋅sin(p₃) - p₁⋅p̈₂\n",
       "──────────────────────────────────────────────────────────────────────────────\n",
       "                                                                              \n",
       "                                                                              \n",
       "                                                                              \n",
       "\n",
       "                 2                         2                                  \n",
       "⋅m₂⋅p̈₂⋅q₁⋅s₂⋅cos(p₃) + 2⋅g⋅m₂⋅p̈₂⋅s₂ ⋅cos(2⋅p₃) + 2⋅g⋅m₂⋅p̈₂⋅s₂  + 2⋅m₂⋅p₁⋅p̈\n",
       "──────────────────────────────────────────────────────────────────────────────\n",
       "                     2                                                        \n",
       "⋅s₂⋅sin(2⋅p₃) + 2⋅p₂ ⋅p̈₁⋅cos(p₃) + 2⋅p₂⋅p̈₁⋅q₁⋅sin(p₃) - p₂⋅p̈₁⋅s₂⋅sin(2⋅p₃) \n",
       "──────────────────────────────────────────────────────────────────────────────\n",
       "                                                                              \n",
       "                                                                              \n",
       "                                                                              \n",
       "\n",
       "      2                        2                                              \n",
       "₁⋅p̈₂⋅s₂⋅sin(p₃) - 2⋅m₂⋅p₁⋅p̈₂ ⋅s₂⋅cos(p₃) - 2⋅m₂⋅p₂⋅p̈₁ ⋅s₂⋅sin(p₃) + 2⋅m₂⋅p₂\n",
       "──────────────────────────────────────────────────────────────────────────────\n",
       "                                                                              \n",
       "+ 2⋅p₂⋅p̈₂⋅q₁⋅cos(p₃) + p₂⋅p̈₂⋅s₂⋅cos(2⋅p₃) + p₂⋅p̈₂⋅s₂ + p̈₁⋅q₁⋅s₂⋅cos(2⋅p₃) \n",
       "──────────────────────────────────────────────────────────────────────────────\n",
       "                                                                              \n",
       "                                                                              \n",
       "                                                                              \n",
       "\n",
       "2   2                  2   2                                           2      \n",
       "⋅p̈₁⋅p̈₂⋅s₂⋅cos(p₃) - m₂⋅p̈₁ ⋅s₂ ⋅cos(2⋅p₃) + m₂⋅p̈₁ ⋅s₂  - 2⋅m₂⋅p̈₁⋅p̈₂⋅q₁⋅s₂\n",
       "──────────────────────────────────────────────────────────────────────────────\n",
       "              2                             ⎞                                 \n",
       "- p̈₁⋅q₁⋅s₂ + 2⋅p̈₂⋅q₁ ⋅sin(p₃) + p̈₂⋅q₁⋅s₂⋅sin(2⋅p₃)⎠                        \n",
       "──────────────────────────────────────────────────────────────────────────────\n",
       "                                                                              \n",
       "                                                                              \n",
       "                                                                              \n",
       "\n",
       "              2                      2   2                  2   2⎞         ⎛  \n",
       "⋅sin(p₃) - 2⋅m₂⋅p̈₁⋅p̈₂⋅s₂ ⋅sin(2⋅p₃) + 2⋅m₂⋅p̈₂ ⋅q₁⋅s₂⋅cos(p₃) + m₂⋅p̈₂ ⋅s₂ ⋅\n",
       "────────────────────────────────────────────────────────────────── - ─────────\n",
       "                                                                              \n",
       "                                                                              \n",
       "──────────────────────────────────────────────────────────────────────────────\n",
       "                                                                              \n",
       "                                                                              \n",
       "                                                                              \n",
       "\n",
       "                                                                              \n",
       "cos(2⋅p₃) + m₂⋅p̈₂ ⋅s₂ ⎠   l₁⋅q₁⋅⎝2⋅J₂⋅g⋅p₁⋅p̈₃ - 2⋅J₂⋅g⋅p̈₃⋅q₁ - 2⋅J₂⋅g⋅p̈₃⋅s\n",
       "──────────────────────────────────────────────────────────────────────────────\n",
       "                                                                              \n",
       "                                                                              \n",
       "──────────────────────────────────────────────────────────────────────────────\n",
       "                                                                              \n",
       "                                                                              \n",
       "                                                                              \n",
       "\n",
       "                                                                        2     \n",
       "₂⋅cos(p₃) + 2⋅J₂⋅p₁⋅p̈₂⋅p̈₃ - 2⋅J₂⋅p₂⋅p̈₁⋅p̈₃ + 2⋅J₂⋅p̈₁⋅p̈₃⋅s₂⋅sin(p₃) - 2⋅J₂\n",
       "──────────────────────────────────────────────────────────────────────────────\n",
       "                 ⎛      2                                                     \n",
       "    2⋅s₂⋅⎝2⋅g⋅p₁ ⋅sin(p₃) - 2⋅g⋅p₁⋅p₂⋅cos(p₃) - 4⋅g⋅p₁⋅q₁⋅sin(p₃) - g⋅p₁⋅s₂⋅si\n",
       "──────────────────────────────────────────────────────────────────────────────\n",
       "                                                                              \n",
       "                                                                              \n",
       "                                                                              \n",
       "\n",
       "                  2                     2      2              2      2        \n",
       "⋅p̈₂⋅p̈₃⋅q₁ - 2⋅J₂⋅p̈₂⋅p̈₃⋅s₂⋅cos(p₃) - 2⋅g ⋅m₂⋅p₁⋅s₂⋅cos(p₃) + 2⋅g ⋅m₂⋅q₁⋅s₂⋅\n",
       "──────────────────────────────────────────────────────────────────────────────\n",
       "                                                                          2   \n",
       "n(2⋅p₃) + 2⋅g⋅p₂⋅q₁⋅cos(p₃) + g⋅p₂⋅s₂⋅cos(2⋅p₃) + g⋅p₂⋅s₂ + 2⋅g⋅q₁ ⋅sin(p₃) + \n",
       "──────────────────────────────────────────────────────────────────────────────\n",
       "                                                                              \n",
       "                                                                              \n",
       "                                                                              \n",
       "\n",
       "                                                                              \n",
       "cos(p₃) + g ⋅m₂⋅s₂ ⋅cos(2⋅p₃) + g ⋅m₂⋅s₂  + 2⋅g⋅m₂⋅p₁⋅p̈₁⋅s₂⋅sin(p₃) - 4⋅g⋅m₂⋅\n",
       "──────────────────────────────────────────────────────────────────────────────\n",
       "                                2                                             \n",
       "g⋅q₁⋅s₂⋅sin(2⋅p₃) + 2⋅p₁ ⋅p̈₂⋅sin(p₃) - 2⋅p₁⋅p₂⋅p̈₁⋅sin(p₃) - 2⋅p₁⋅p₂⋅p̈₂⋅cos(\n",
       "──────────────────────────────────────────────────────────────────────────────\n",
       "                                                                              \n",
       "                                                                              \n",
       "                                                                              \n",
       "\n",
       "                                 2                                            \n",
       "p₁⋅p̈₂⋅s₂⋅cos(p₃) + 2⋅g⋅m₂⋅p₂⋅p̈₁⋅s₂⋅cos(p₃) - 2⋅g⋅m₂⋅p̈₁⋅q₁⋅s₂⋅sin(p₃) - 2⋅g⋅\n",
       "──────────────────────────────────────────────────────────────────────────────\n",
       "                                                                              \n",
       "p₃) - p₁⋅p̈₁⋅s₂⋅cos(2⋅p₃) + p₁⋅p̈₁⋅s₂ - 4⋅p₁⋅p̈₂⋅q₁⋅sin(p₃) - p₁⋅p̈₂⋅s₂⋅sin(2⋅\n",
       "──────────────────────────────────────────────────────────────────────────────\n",
       "                                  ____________________________________________\n",
       "                                 ╱                  2                         \n",
       "                               ╲╱  (p₂ - s₂⋅sin(p₃))  + (-p₁ + q₁ + s₂⋅cos(p₃)\n",
       "\n",
       "       2                         2                                        2   \n",
       "m₂⋅p̈₁⋅s₂ ⋅sin(2⋅p₃) + 4⋅g⋅m₂⋅p̈₂⋅q₁⋅s₂⋅cos(p₃) + 2⋅g⋅m₂⋅p̈₂⋅s₂ ⋅cos(2⋅p₃) + 2\n",
       "──────────────────────────────────────────────────────────────────────────────\n",
       "           2                                                                  \n",
       "p₃) + 2⋅p₂ ⋅p̈₁⋅cos(p₃) + 2⋅p₂⋅p̈₁⋅q₁⋅sin(p₃) - p₂⋅p̈₁⋅s₂⋅sin(2⋅p₃) + 2⋅p₂⋅p̈₂\n",
       "──────────────────────────────────────────────────────────────────────────────\n",
       "___                                                                           \n",
       " 2                                                                            \n",
       ")                                                                             \n",
       "\n",
       "                     2                                              2   2     \n",
       "⋅g⋅m₂⋅p̈₂⋅s₂  + 2⋅m₂⋅p₁⋅p̈₁⋅p̈₂⋅s₂⋅sin(p₃) - 2⋅m₂⋅p₁⋅p̈₂ ⋅s₂⋅cos(p₃) - 2⋅m₂⋅p₂\n",
       "──────────────────────────────────────────────────────────────────────────────\n",
       "                                                                              \n",
       "⋅q₁⋅cos(p₃) + p₂⋅p̈₂⋅s₂⋅cos(2⋅p₃) + p₂⋅p̈₂⋅s₂ + p̈₁⋅q₁⋅s₂⋅cos(2⋅p₃) - p̈₁⋅q₁⋅s\n",
       "──────────────────────────────────────────────────────────────────────────────\n",
       "                                                                              \n",
       "                                                                              \n",
       "                                                                              \n",
       "\n",
       "             2   2                                           2                \n",
       "⋅p̈₁ ⋅s₂⋅sin(p₃) + 2⋅m₂⋅p₂⋅p̈₁⋅p̈₂⋅s₂⋅cos(p₃) - m₂⋅p̈₁ ⋅s₂ ⋅cos(2⋅p₃) + m₂⋅p̈₁\n",
       "──────────────────────────────────────────────────────────────────────────────\n",
       "    2                             ⎞                                           \n",
       "₂ + 2⋅p̈₂⋅q₁ ⋅sin(p₃) + p̈₂⋅q₁⋅s₂⋅sin(2⋅p₃)⎠                                  \n",
       "──────────────────────────────────────────────────────────────────────────────\n",
       "                                                                              \n",
       "                                                                              \n",
       "                                                                              \n",
       "\n",
       "    2                      2   2                  2   2⎞      ⎛               \n",
       " ⋅s₂  - 2⋅m₂⋅p̈₁⋅p̈₂⋅q₁⋅s₂⋅sin(p₃) - 2⋅m₂⋅p̈₁⋅p̈₂⋅s₂ ⋅sin(2⋅p₃) + 2⋅m₂⋅p̈₂ ⋅q₁\n",
       "──────────────────────────────────────────────────────── - ───────────────────\n",
       "                                                                              \n",
       "                                                                              \n",
       "──────────────────────────────────────────────────────────────────────────────\n",
       "                                                                              \n",
       "                                                                              \n",
       "                                                                              \n",
       "\n",
       "                                                                              \n",
       "⋅s₂⋅cos(p₃) + m₂⋅p̈₂ ⋅s₂ ⋅cos(2⋅p₃) + m₂⋅p̈₂ ⋅s₂ ⎠   l₁⋅⎝2⋅J₂⋅g⋅p₁⋅p̈₃ - 2⋅J₂⋅\n",
       "──────────────────────────────────────────────────────────────────────────────\n",
       "                                                                              \n",
       "                                                                           2⋅⎝\n",
       "──────────────────────────────────────────────────────────────────────────────\n",
       "                                                                              \n",
       "                                                                              \n",
       "                                                                              \n",
       "\n",
       "                                                           2                  \n",
       "g⋅p̈₃⋅q₁ - 2⋅J₂⋅g⋅p̈₃⋅s₂⋅cos(p₃) + 2⋅J₂⋅p₁⋅p̈₂⋅p̈₃ - 2⋅J₂⋅p₂⋅p̈₁⋅p̈₃ + 2⋅J₂⋅p̈\n",
       "──────────────────────────────────────────────────────────────────────────────\n",
       "        ⎛      2                                                              \n",
       "2⋅g⋅p₁ ⋅sin(p₃) - 2⋅g⋅p₁⋅p₂⋅cos(p₃) - 4⋅g⋅p₁⋅q₁⋅sin(p₃) - g⋅p₁⋅s₂⋅sin(2⋅p₃) + \n",
       "──────────────────────────────────────────────────────────────────────────────\n",
       "                                                                              \n",
       "                                                                              \n",
       "                                                                              \n",
       "\n",
       "     2                     2      2              2      2                     \n",
       "₁⋅p̈₃⋅s₂⋅sin(p₃) - 2⋅J₂⋅p̈₂⋅p̈₃⋅q₁ - 2⋅J₂⋅p̈₂⋅p̈₃⋅s₂⋅cos(p₃) - 2⋅g ⋅m₂⋅p₁⋅s₂⋅c\n",
       "──────────────────────────────────────────────────────────────────────────────\n",
       "                                                                 2            \n",
       "2⋅g⋅p₂⋅q₁⋅cos(p₃) + g⋅p₂⋅s₂⋅cos(2⋅p₃) + g⋅p₂⋅s₂ + 2⋅g⋅q₁ ⋅sin(p₃) + g⋅q₁⋅s₂⋅si\n",
       "──────────────────────────────────────────────────────────────────────────────\n",
       "                                                                              \n",
       "                                                                              \n",
       "                                                                              \n",
       "\n",
       "                                                                              \n",
       "os(p₃) + 2⋅g ⋅m₂⋅q₁⋅s₂⋅cos(p₃) + g ⋅m₂⋅s₂ ⋅cos(2⋅p₃) + g ⋅m₂⋅s₂  + 2⋅g⋅m₂⋅p₁⋅p\n",
       "──────────────────────────────────────────────────────────────────────────────\n",
       "                       2                                                      \n",
       "n(2⋅p₃) + 2⋅p₁ ⋅p̈₂⋅sin(p₃) - 2⋅p₁⋅p₂⋅p̈₁⋅sin(p₃) - 2⋅p₁⋅p₂⋅p̈₂⋅cos(p₃) - p₁⋅p\n",
       "──────────────────────────────────────────────────────────────────────────────\n",
       "                                                                              \n",
       "                                                                              \n",
       "                                                                              \n",
       "\n",
       "                    2                                                   2     \n",
       "̈₁⋅s₂⋅sin(p₃) - 4⋅g⋅m₂⋅p₁⋅p̈₂⋅s₂⋅cos(p₃) + 2⋅g⋅m₂⋅p₂⋅p̈₁⋅s₂⋅cos(p₃) - 2⋅g⋅m₂⋅p\n",
       "──────────────────────────────────────────────────────────────────────────────\n",
       "                                                                              \n",
       "̈₁⋅s₂⋅cos(2⋅p₃) + p₁⋅p̈₁⋅s₂ - 4⋅p₁⋅p̈₂⋅q₁⋅sin(p₃) - p₁⋅p̈₂⋅s₂⋅sin(2⋅p₃) + 2⋅p₂\n",
       "──────────────────────────────────────────────────────────────────────────────\n",
       "                                                                              \n",
       "                                                                              \n",
       "                                                                              \n",
       "\n",
       "                    2                                        2                \n",
       "̈₁⋅q₁⋅s₂⋅sin(p₃) - 2⋅g⋅m₂⋅p̈₁⋅s₂ ⋅sin(2⋅p₃) + 4⋅g⋅m₂⋅p̈₂⋅q₁⋅s₂⋅cos(p₃) + 2⋅g⋅m\n",
       "──────────────────────────────────────────────────────────────────────────────\n",
       "  2                                                                           \n",
       " ⋅p̈₁⋅cos(p₃) + 2⋅p₂⋅p̈₁⋅q₁⋅sin(p₃) - p₂⋅p̈₁⋅s₂⋅sin(2⋅p₃) + 2⋅p₂⋅p̈₂⋅q₁⋅cos(p₃\n",
       "──────────────────────────────────────────────────────────────────────────────\n",
       "                                                                              \n",
       "                                                                              \n",
       "                                                                              \n",
       "\n",
       "        2                                              2   2                  \n",
       "₂⋅p̈₂⋅s₂ ⋅cos(2⋅p₃) + 2⋅g⋅m₂⋅p̈₂⋅s₂  + 2⋅m₂⋅p₁⋅p̈₁⋅p̈₂⋅s₂⋅sin(p₃) - 2⋅m₂⋅p₁⋅p̈\n",
       "──────────────────────────────────────────────────────────────────────────────\n",
       "                                                                         2    \n",
       ") + p₂⋅p̈₂⋅s₂⋅cos(2⋅p₃) + p₂⋅p̈₂⋅s₂ + p̈₁⋅q₁⋅s₂⋅cos(2⋅p₃) - p̈₁⋅q₁⋅s₂ + 2⋅p̈₂⋅\n",
       "──────────────────────────────────────────────────────────────────────────────\n",
       "                                                                              \n",
       "                                                                              \n",
       "                                                                              \n",
       "\n",
       "2   2                                           2                    2        \n",
       "₂ ⋅s₂⋅cos(p₃) - 2⋅m₂⋅p₂⋅p̈₁ ⋅s₂⋅sin(p₃) + 2⋅m₂⋅p₂⋅p̈₁⋅p̈₂⋅s₂⋅cos(p₃) - m₂⋅p̈₁ \n",
       "──────────────────────────────────────────────────────────────────────────────\n",
       "                         ⎞                                                    \n",
       "q₁ ⋅sin(p₃) + p̈₂⋅q₁⋅s₂⋅sin(2⋅p₃)⎠                                            \n",
       "──────────────────────────────────────────────────────────────────────────────\n",
       "                                                                              \n",
       "                                                                              \n",
       "                                                                              \n",
       "\n",
       "              2   2                  2   2⎞                    _______________\n",
       "⋅s₂ ⋅cos(2⋅p₃) + m₂⋅p̈₁ ⋅s₂  - 2⋅m₂⋅p̈₁⋅p̈₂⋅q₁⋅s₂⋅sin(p₃) - 2⋅m₂⋅p̈₁⋅p̈₂⋅s₂ ⋅s\n",
       "─────────────────────────────────────────────────── + m₁⋅q̈₁⋅╲╱  (p₂ - s₂⋅sin(\n",
       "                                                                              \n",
       "                                                                              \n",
       "──────────────────────────────────────────────────────────────────────────────\n",
       "                                                                              \n",
       "                                                                              \n",
       "                                                                              \n",
       "\n",
       "________________________________⎤\n",
       "in(2⋅p₃) + 2⋅m₂⋅p̈₂ ⋅q₁⋅s₂⋅cos(p₃) + m₂⋅p̈₂ ⋅s₂ ⋅cos(2⋅p₃) + m₂⋅p̈₂ ⋅s₂ ⎠⋅cos(\n",
       "p₃))  + (-p₁ + q₁ + s₂⋅cos(p₃))  ⎥\n",
       "                                ⎥\n",
       "                                ⎥\n",
       "────────────────────────────────⎥\n",
       "                                ⎥\n",
       "                                ⎥\n",
       "                                ⎦"
      ]
     },
     "metadata": {},
     "output_type": "display_data"
    },
    {
     "data": {
      "text/plain": [
       "---"
      ]
     },
     "metadata": {},
     "output_type": "display_data"
    },
    {
     "data": {
      "image/png": "[encoded data removed]",
      "text/latex": [
       "(flat_tau1.s) := $\\displaystyle \\left\\{J_{2}, g, l_{1}, m_{1}, m_{2}, p_{1}, p_{2}, p_{3}, \\ddot{p}_{1}, \\ddot{p}_{2}, \\ddot{p}_{3}, q_{1}, \\ddot{q}_{1}, s_{2}\\right\\}$"
      ],
      "text/plain": [
       "(flat_tau1.s) := {J₂, g, l₁, m₁, m₂, p₁, p₂, p₃, p̈₁, p̈₂, p̈₃, q₁, q̈₁, s₂}"
      ]
     },
     "metadata": {},
     "output_type": "display_data"
    },
    {
     "data": {
      "text/plain": [
       "---"
      ]
     },
     "metadata": {},
     "output_type": "display_data"
    }
   ],
   "source": [
    "flat_tau1 = sp.matrices.dense.MutableDenseMatrix(sp.solve(eqns[-2], tau1))\n",
    "flat_tau1 = flat_tau1.subz([q2, tau4, tau3], [*flat_q2, *flat_tau4, *flat_tau3]) ##:\n",
    "flat_tau1.s ##:"
   ]
  },
  {
   "cell_type": "markdown",
   "metadata": {},
   "source": [
    "# Simulation model"
   ]
  },
  {
   "cell_type": "code",
   "execution_count": 42,
   "metadata": {},
   "outputs": [],
   "source": [
    "# resubstitute the rope lengths:\n",
    "mod.eqns = eqns.subz([l1, l2], [sp.sqrt((rope1.T*rope1)[0]), sp.sqrt((rope2.T*rope2)[0])])"
   ]
  },
  {
   "cell_type": "code",
   "execution_count": 43,
   "metadata": {},
   "outputs": [
    {
     "data": {
      "text/latex": [
       "$\\displaystyle \\left[\\begin{matrix}m_{2} \\ddot{p}_{1} - \\frac{\\tau_{3} \\left(p_{1} - q_{1} - s_{2} \\cos{\\left(p_{3} \\right)}\\right)}{\\sqrt{\\left(p_{2} - s_{2} \\sin{\\left(p_{3} \\right)}\\right)^{2} + \\left(p_{1} - q_{1} - s_{2} \\cos{\\left(p_{3} \\right)}\\right)^{2}}} - \\frac{\\tau_{4} \\left(- l_{0} + p_{1} - q_{2} + s_{2} \\cos{\\left(p_{3} \\right)}\\right)}{\\sqrt{\\left(p_{2} + s_{2} \\sin{\\left(p_{3} \\right)}\\right)^{2} + \\left(- l_{0} + p_{1} - q_{2} + s_{2} \\cos{\\left(p_{3} \\right)}\\right)^{2}}}\\\\g m_{2} + m_{2} \\ddot{p}_{2} - \\frac{\\tau_{3} \\left(p_{2} - s_{2} \\sin{\\left(p_{3} \\right)}\\right)}{\\sqrt{\\left(p_{2} - s_{2} \\sin{\\left(p_{3} \\right)}\\right)^{2} + \\left(p_{1} - q_{1} - s_{2} \\cos{\\left(p_{3} \\right)}\\right)^{2}}} - \\frac{\\tau_{4} \\left(p_{2} + s_{2} \\sin{\\left(p_{3} \\right)}\\right)}{\\sqrt{\\left(p_{2} + s_{2} \\sin{\\left(p_{3} \\right)}\\right)^{2} + \\left(- l_{0} + p_{1} - q_{2} + s_{2} \\cos{\\left(p_{3} \\right)}\\right)^{2}}}\\\\J_{2} \\ddot{p}_{3} + \\frac{s_{2} \\tau_{3} \\left(p_{2} - s_{2} \\sin{\\left(p_{3} \\right)}\\right) \\cos{\\left(p_{3} \\right)}}{\\sqrt{\\left(p_{2} - s_{2} \\sin{\\left(p_{3} \\right)}\\right)^{2} + \\left(p_{1} - q_{1} - s_{2} \\cos{\\left(p_{3} \\right)}\\right)^{2}}} - \\frac{s_{2} \\tau_{3} \\left(p_{1} - q_{1} - s_{2} \\cos{\\left(p_{3} \\right)}\\right) \\sin{\\left(p_{3} \\right)}}{\\sqrt{\\left(p_{2} - s_{2} \\sin{\\left(p_{3} \\right)}\\right)^{2} + \\left(p_{1} - q_{1} - s_{2} \\cos{\\left(p_{3} \\right)}\\right)^{2}}} - \\frac{s_{2} \\tau_{4} \\left(p_{2} + s_{2} \\sin{\\left(p_{3} \\right)}\\right) \\cos{\\left(p_{3} \\right)}}{\\sqrt{\\left(p_{2} + s_{2} \\sin{\\left(p_{3} \\right)}\\right)^{2} + \\left(- l_{0} + p_{1} - q_{2} + s_{2} \\cos{\\left(p_{3} \\right)}\\right)^{2}}} + \\frac{s_{2} \\tau_{4} \\left(- l_{0} + p_{1} - q_{2} + s_{2} \\cos{\\left(p_{3} \\right)}\\right) \\sin{\\left(p_{3} \\right)}}{\\sqrt{\\left(p_{2} + s_{2} \\sin{\\left(p_{3} \\right)}\\right)^{2} + \\left(- l_{0} + p_{1} - q_{2} + s_{2} \\cos{\\left(p_{3} \\right)}\\right)^{2}}}\\\\m_{1} \\ddot{q}_{1} - \\tau_{1} + \\frac{\\tau_{3} \\left(p_{1} - q_{1} - s_{2} \\cos{\\left(p_{3} \\right)}\\right)}{\\sqrt{\\left(p_{2} - s_{2} \\sin{\\left(p_{3} \\right)}\\right)^{2} + \\left(p_{1} - q_{1} - s_{2} \\cos{\\left(p_{3} \\right)}\\right)^{2}}}\\\\m_{3} \\ddot{q}_{2} - \\tau_{2} + \\frac{\\tau_{4} \\left(- l_{0} + p_{1} - q_{2} + s_{2} \\cos{\\left(p_{3} \\right)}\\right)}{\\sqrt{\\left(p_{2} + s_{2} \\sin{\\left(p_{3} \\right)}\\right)^{2} + \\left(- l_{0} + p_{1} - q_{2} + s_{2} \\cos{\\left(p_{3} \\right)}\\right)^{2}}}\\end{matrix}\\right]$"
      ],
      "text/plain": [
       "⎡                                                                           τ₃\n",
       "⎢                                                       m₂⋅p̈₁ - ─────────────\n",
       "⎢                                                                  ___________\n",
       "⎢                                                                 ╱           \n",
       "⎢                                                               ╲╱  (p₂ - s₂⋅s\n",
       "⎢                                                                             \n",
       "⎢                                                                             \n",
       "⎢                                                   g⋅m₂ + m₂⋅p̈₂ - ──────────\n",
       "⎢                                                                     ________\n",
       "⎢                                                                    ╱        \n",
       "⎢                                                                  ╲╱  (p₂ - s\n",
       "⎢                                                                             \n",
       "⎢                 s₂⋅τ₃⋅(p₂ - s₂⋅sin(p₃))⋅cos(p₃)                   s₂⋅τ₃⋅(p₁ \n",
       "⎢J₂⋅p̈₃ + ───────────────────────────────────────────────── - ────────────────\n",
       "⎢           ______________________________________________      ______________\n",
       "⎢          ╱                  2                         2      ╱              \n",
       "⎢        ╲╱  (p₂ - s₂⋅sin(p₃))  + (p₁ - q₁ - s₂⋅cos(p₃))     ╲╱  (p₂ - s₂⋅sin(\n",
       "⎢                                                                             \n",
       "⎢                                                                             \n",
       "⎢                                                                             \n",
       "⎢                                                                             \n",
       "⎢                                                                             \n",
       "⎢                                                                             \n",
       "⎢                                                                             \n",
       "⎢                                                                             \n",
       "⎢                                                                             \n",
       "⎢                                                                             \n",
       "⎢                                                                             \n",
       "⎣                                                                             \n",
       "\n",
       "⋅(p₁ - q₁ - s₂⋅cos(p₃))                           τ₄⋅(-l₀ + p₁ - q₂ + s₂⋅cos(p\n",
       "──────────────────────────────────── - ───────────────────────────────────────\n",
       "___________________________________      _____________________________________\n",
       "       2                         2      ╱                  2                  \n",
       "in(p₃))  + (p₁ - q₁ - s₂⋅cos(p₃))     ╲╱  (p₂ + s₂⋅sin(p₃))  + (-l₀ + p₁ - q₂ \n",
       "                                                                              \n",
       "    τ₃⋅(p₂ - s₂⋅sin(p₃))                                   τ₄⋅(p₂ + s₂⋅sin(p₃)\n",
       "─────────────────────────────────────── - ────────────────────────────────────\n",
       "______________________________________      __________________________________\n",
       "          2                         2      ╱                  2               \n",
       "₂⋅sin(p₃))  + (p₁ - q₁ - s₂⋅cos(p₃))     ╲╱  (p₂ + s₂⋅sin(p₃))  + (-l₀ + p₁ - \n",
       "                                                                              \n",
       "- q₁ - s₂⋅cos(p₃))⋅sin(p₃)                     s₂⋅τ₄⋅(p₂ + s₂⋅sin(p₃))⋅cos(p₃)\n",
       "───────────────────────────────── - ──────────────────────────────────────────\n",
       "________________________________      ________________________________________\n",
       "    2                         2      ╱                  2                     \n",
       "p₃))  + (p₁ - q₁ - s₂⋅cos(p₃))     ╲╱  (p₂ + s₂⋅sin(p₃))  + (-l₀ + p₁ - q₂ + s\n",
       "                                                                              \n",
       "                             τ₃⋅(p₁ - q₁ - s₂⋅cos(p₃))                        \n",
       "    m₁⋅q̈₁ - τ₁ + ─────────────────────────────────────────────────           \n",
       "                    ______________________________________________            \n",
       "                   ╱                  2                         2             \n",
       "                 ╲╱  (p₂ - s₂⋅sin(p₃))  + (p₁ - q₁ - s₂⋅cos(p₃))              \n",
       "                                                                              \n",
       "                          τ₄⋅(-l₀ + p₁ - q₂ + s₂⋅cos(p₃))                     \n",
       " m₃⋅q̈₂ - τ₂ + ───────────────────────────────────────────────────────        \n",
       "                 ____________________________________________________         \n",
       "                ╱                  2                               2          \n",
       "              ╲╱  (p₂ + s₂⋅sin(p₃))  + (-l₀ + p₁ - q₂ + s₂⋅cos(p₃))           \n",
       "\n",
       "₃))                                                                   ⎤\n",
       "────────────────                                                       ⎥\n",
       "_______________                                                       ⎥\n",
       "             2                                                        ⎥\n",
       "+ s₂⋅cos(p₃))                                                         ⎥\n",
       "                                                                      ⎥\n",
       ")                                                                     ⎥\n",
       "───────────────────                                                    ⎥\n",
       "__________________                                                    ⎥\n",
       "                2                                                     ⎥\n",
       "q₂ + s₂⋅cos(p₃))                                                      ⎥\n",
       "                                                                      ⎥\n",
       "                      s₂⋅τ₄⋅(-l₀ + p₁ - q₂ + s₂⋅cos(p₃))⋅sin(p₃)      ⎥\n",
       "───────────── + ───────────────────────────────────────────────────────⎥\n",
       "____________      ____________________________________________________⎥\n",
       "          2      ╱                  2                               2 ⎥\n",
       "₂⋅cos(p₃))     ╲╱  (p₂ + s₂⋅sin(p₃))  + (-l₀ + p₁ - q₂ + s₂⋅cos(p₃))  ⎥\n",
       "                                                                      ⎥\n",
       "                                                                      ⎥\n",
       "                                                                       ⎥\n",
       "                                                                      ⎥\n",
       "                                                                      ⎥\n",
       "                                                                      ⎥\n",
       "                                                                      ⎥\n",
       "                                                                      ⎥\n",
       "                                                                       ⎥\n",
       "                                                                      ⎥\n",
       "                                                                      ⎥\n",
       "                                                                      ⎦"
      ]
     },
     "execution_count": 43,
     "metadata": {},
     "output_type": "execute_result"
    }
   ],
   "source": [
    "mod.eqns"
   ]
  },
  {
   "cell_type": "code",
   "execution_count": 44,
   "metadata": {},
   "outputs": [],
   "source": [
    "mod.tau = ttau"
   ]
  },
  {
   "cell_type": "code",
   "execution_count": 45,
   "metadata": {},
   "outputs": [],
   "source": [
    "mod.calc_state_eq(force_recalculation=True)"
   ]
  },
  {
   "cell_type": "code",
   "execution_count": 43,
   "metadata": {},
   "outputs": [
    {
     "data": {
      "image/png": "[encoded data removed]",
      "text/latex": [
       "$\\displaystyle \\left[\\begin{matrix}\\dot{p}_{1}\\\\\\dot{p}_{2}\\\\\\dot{p}_{3}\\\\\\dot{q}_{1}\\\\\\dot{q}_{2}\\\\0\\\\- g\\\\0\\\\0\\\\0\\end{matrix}\\right]$"
      ],
      "text/plain": [
       "⎡ṗ₁⎤\n",
       "⎢  ⎥\n",
       "⎢ṗ₂⎥\n",
       "⎢  ⎥\n",
       "⎢ṗ₃⎥\n",
       "⎢  ⎥\n",
       "⎢q̇₁⎥\n",
       "⎢  ⎥\n",
       "⎢q̇₂⎥\n",
       "⎢  ⎥\n",
       "⎢0 ⎥\n",
       "⎢  ⎥\n",
       "⎢-g⎥\n",
       "⎢  ⎥\n",
       "⎢0 ⎥\n",
       "⎢  ⎥\n",
       "⎢0 ⎥\n",
       "⎢  ⎥\n",
       "⎣0 ⎦"
      ]
     },
     "execution_count": 43,
     "metadata": {},
     "output_type": "execute_result"
    }
   ],
   "source": [
    "mod.f"
   ]
  },
  {
   "cell_type": "code",
   "execution_count": 44,
   "metadata": {},
   "outputs": [
    {
     "data": {
      "image/png": "[encoded data removed]",
      "text/latex": [
       "$\\displaystyle \\left[\\begin{matrix}0 & 0 & 0 & 0\\\\0 & 0 & 0 & 0\\\\0 & 0 & 0 & 0\\\\0 & 0 & 0 & 0\\\\0 & 0 & 0 & 0\\\\0 & 0 & \\frac{p_{1} - q_{1} - s_{2} \\cos{\\left(p_{3} \\right)}}{m_{2} \\sqrt{\\left(p_{2} - s_{2} \\sin{\\left(p_{3} \\right)}\\right)^{2} + \\left(- p_{1} + q_{1} + s_{2} \\cos{\\left(p_{3} \\right)}\\right)^{2}}} & \\frac{- l_{0} + p_{1} - q_{2} + s_{2} \\cos{\\left(p_{3} \\right)}}{m_{2} \\sqrt{\\left(p_{2} + s_{2} \\sin{\\left(p_{3} \\right)}\\right)^{2} + \\left(l_{0} - p_{1} + q_{2} - s_{2} \\cos{\\left(p_{3} \\right)}\\right)^{2}}}\\\\0 & 0 & \\frac{p_{2} - s_{2} \\sin{\\left(p_{3} \\right)}}{m_{2} \\sqrt{\\left(p_{2} - s_{2} \\sin{\\left(p_{3} \\right)}\\right)^{2} + \\left(- p_{1} + q_{1} + s_{2} \\cos{\\left(p_{3} \\right)}\\right)^{2}}} & \\frac{p_{2} + s_{2} \\sin{\\left(p_{3} \\right)}}{m_{2} \\sqrt{\\left(p_{2} + s_{2} \\sin{\\left(p_{3} \\right)}\\right)^{2} + \\left(l_{0} - p_{1} + q_{2} - s_{2} \\cos{\\left(p_{3} \\right)}\\right)^{2}}}\\\\0 & 0 & \\frac{s_{2} \\left(p_{1} \\sin{\\left(p_{3} \\right)} - p_{2} \\cos{\\left(p_{3} \\right)} - q_{1} \\sin{\\left(p_{3} \\right)}\\right)}{J_{2} \\sqrt{\\left(p_{2} - s_{2} \\sin{\\left(p_{3} \\right)}\\right)^{2} + \\left(- p_{1} + q_{1} + s_{2} \\cos{\\left(p_{3} \\right)}\\right)^{2}}} & \\frac{s_{2} \\left(l_{0} \\sin{\\left(p_{3} \\right)} - p_{1} \\sin{\\left(p_{3} \\right)} + p_{2} \\cos{\\left(p_{3} \\right)} + q_{2} \\sin{\\left(p_{3} \\right)}\\right)}{J_{2} \\sqrt{\\left(p_{2} + s_{2} \\sin{\\left(p_{3} \\right)}\\right)^{2} + \\left(l_{0} - p_{1} + q_{2} - s_{2} \\cos{\\left(p_{3} \\right)}\\right)^{2}}}\\\\\\frac{1}{m_{1}} & 0 & \\frac{- p_{1} + q_{1} + s_{2} \\cos{\\left(p_{3} \\right)}}{m_{1} \\sqrt{\\left(p_{2} - s_{2} \\sin{\\left(p_{3} \\right)}\\right)^{2} + \\left(- p_{1} + q_{1} + s_{2} \\cos{\\left(p_{3} \\right)}\\right)^{2}}} & 0\\\\0 & \\frac{1}{m_{3}} & 0 & \\frac{l_{0} - p_{1} + q_{2} - s_{2} \\cos{\\left(p_{3} \\right)}}{m_{3} \\sqrt{\\left(p_{2} + s_{2} \\sin{\\left(p_{3} \\right)}\\right)^{2} + \\left(l_{0} - p_{1} + q_{2} - s_{2} \\cos{\\left(p_{3} \\right)}\\right)^{2}}}\\end{matrix}\\right]$"
      ],
      "text/plain": [
       "⎡0   0                             0                                          \n",
       "⎢                                                                             \n",
       "⎢0   0                             0                                          \n",
       "⎢                                                                             \n",
       "⎢0   0                             0                                          \n",
       "⎢                                                                             \n",
       "⎢0   0                             0                                          \n",
       "⎢                                                                             \n",
       "⎢0   0                             0                                          \n",
       "⎢                                                                             \n",
       "⎢                         p₁ - q₁ - s₂⋅cos(p₃)                                \n",
       "⎢0   0   ─────────────────────────────────────────────────────  ──────────────\n",
       "⎢              _______________________________________________        ________\n",
       "⎢             ╱                  2                          2        ╱        \n",
       "⎢        m₂⋅╲╱  (p₂ - s₂⋅sin(p₃))  + (-p₁ + q₁ + s₂⋅cos(p₃))    m₂⋅╲╱  (p₂ + s\n",
       "⎢                                                                             \n",
       "⎢                           p₂ - s₂⋅sin(p₃)                                   \n",
       "⎢0   0   ─────────────────────────────────────────────────────  ──────────────\n",
       "⎢              _______________________________________________        ________\n",
       "⎢             ╱                  2                          2        ╱        \n",
       "⎢        m₂⋅╲╱  (p₂ - s₂⋅sin(p₃))  + (-p₁ + q₁ + s₂⋅cos(p₃))    m₂⋅╲╱  (p₂ + s\n",
       "⎢                                                                             \n",
       "⎢              s₂⋅(p₁⋅sin(p₃) - p₂⋅cos(p₃) - q₁⋅sin(p₃))          s₂⋅(l₀⋅sin(p\n",
       "⎢0   0   ─────────────────────────────────────────────────────  ──────────────\n",
       "⎢              _______________________________________________        ________\n",
       "⎢             ╱                  2                          2        ╱        \n",
       "⎢        J₂⋅╲╱  (p₂ - s₂⋅sin(p₃))  + (-p₁ + q₁ + s₂⋅cos(p₃))    J₂⋅╲╱  (p₂ + s\n",
       "⎢                                                                             \n",
       "⎢1                       -p₁ + q₁ + s₂⋅cos(p₃)                                \n",
       "⎢──  0   ─────────────────────────────────────────────────────                \n",
       "⎢m₁            _______________________________________________                \n",
       "⎢             ╱                  2                          2                 \n",
       "⎢        m₁⋅╲╱  (p₂ - s₂⋅sin(p₃))  + (-p₁ + q₁ + s₂⋅cos(p₃))                  \n",
       "⎢                                                                             \n",
       "⎢    1                                                                        \n",
       "⎢0   ──                            0                            ──────────────\n",
       "⎢    m₃                                                               ________\n",
       "⎢                                                                    ╱        \n",
       "⎣                                                               m₃⋅╲╱  (p₂ + s\n",
       "\n",
       "              0                            ⎤\n",
       "                                           ⎥\n",
       "              0                            ⎥\n",
       "                                           ⎥\n",
       "              0                            ⎥\n",
       "                                           ⎥\n",
       "              0                            ⎥\n",
       "                                           ⎥\n",
       "              0                            ⎥\n",
       "                                           ⎥\n",
       "  -l₀ + p₁ - q₂ + s₂⋅cos(p₃)               ⎥\n",
       "───────────────────────────────────────────⎥\n",
       "___________________________________________⎥\n",
       "          2                              2 ⎥\n",
       "₂⋅sin(p₃))  + (l₀ - p₁ + q₂ - s₂⋅cos(p₃))  ⎥\n",
       "                                           ⎥\n",
       "       p₂ + s₂⋅sin(p₃)                     ⎥\n",
       "───────────────────────────────────────────⎥\n",
       "___________________________________________⎥\n",
       "          2                              2 ⎥\n",
       "₂⋅sin(p₃))  + (l₀ - p₁ + q₂ - s₂⋅cos(p₃))  ⎥\n",
       "                                           ⎥\n",
       "₃) - p₁⋅sin(p₃) + p₂⋅cos(p₃) + q₂⋅sin(p₃)) ⎥\n",
       "───────────────────────────────────────────⎥\n",
       "___________________________________________⎥\n",
       "          2                              2 ⎥\n",
       "₂⋅sin(p₃))  + (l₀ - p₁ + q₂ - s₂⋅cos(p₃))  ⎥\n",
       "                                           ⎥\n",
       "                                           ⎥\n",
       "              0                            ⎥\n",
       "                                           ⎥\n",
       "                                           ⎥\n",
       "                                           ⎥\n",
       "                                           ⎥\n",
       "  l₀ - p₁ + q₂ - s₂⋅cos(p₃)                ⎥\n",
       "───────────────────────────────────────────⎥\n",
       "___________________________________________⎥\n",
       "          2                              2 ⎥\n",
       "₂⋅sin(p₃))  + (l₀ - p₁ + q₂ - s₂⋅cos(p₃))  ⎦"
      ]
     },
     "execution_count": 44,
     "metadata": {},
     "output_type": "execute_result"
    }
   ],
   "source": [
    "mod.g"
   ]
  },
  {
   "cell_type": "code",
   "execution_count": 45,
   "metadata": {},
   "outputs": [
    {
     "data": {
      "image/png": "[encoded data removed]",
      "text/latex": [
       "(used_params) := $\\displaystyle \\left[ J_{2}, \\  g, \\  l_{0}, \\  m_{1}, \\  m_{2}, \\  m_{3}, \\  s_{2}\\right]$"
      ],
      "text/plain": [
       "(used_params) := [J₂, g, l₀, m₁, m₂, m₃, s₂]"
      ]
     },
     "metadata": {},
     "output_type": "display_data"
    },
    {
     "data": {
      "text/plain": [
       "---"
      ]
     },
     "metadata": {},
     "output_type": "display_data"
    }
   ],
   "source": [
    "used_params = []\n",
    "for s in mod.eqns.s:\n",
    "    if s not in [*ttheta, *tthetad, *tthetadd, *ttau]:\n",
    "        used_params.append(s)\n",
    "\n",
    "used_params.sort(key=str)\n",
    "used_params ##:"
   ]
  },
  {
   "cell_type": "code",
   "execution_count": 46,
   "metadata": {},
   "outputs": [],
   "source": [
    "num_params = [0.1, 9.81, 2, 10, 10, 10, 1]"
   ]
  },
  {
   "cell_type": "code",
   "execution_count": 47,
   "metadata": {
    "scrolled": true
   },
   "outputs": [
    {
     "data": {
      "image/png": "[encoded data removed]",
      "text/latex": [
       "$\\displaystyle \\left[\\begin{matrix}- \\frac{\\tau_{4} \\left(- l_{0} + p_{1} - q_{2} + s_{2} \\cos{\\left(p_{3} \\right)}\\right)}{l_{2}} - \\frac{\\tau_{3} \\left(p_{1} - q_{1} - s_{2} \\cos{\\left(p_{3} \\right)}\\right)}{l_{1}}\\\\g m_{2} - \\frac{\\tau_{4} \\left(p_{2} + s_{2} \\sin{\\left(p_{3} \\right)}\\right)}{l_{2}} - \\frac{\\tau_{3} \\left(p_{2} - s_{2} \\sin{\\left(p_{3} \\right)}\\right)}{l_{1}}\\\\- \\frac{s_{2} \\tau_{4} \\left(p_{2} + s_{2} \\sin{\\left(p_{3} \\right)}\\right) \\cos{\\left(p_{3} \\right)}}{l_{2}} + \\frac{s_{2} \\tau_{4} \\left(- l_{0} + p_{1} - q_{2} + s_{2} \\cos{\\left(p_{3} \\right)}\\right) \\sin{\\left(p_{3} \\right)}}{l_{2}} + \\frac{s_{2} \\tau_{3} \\left(p_{2} - s_{2} \\sin{\\left(p_{3} \\right)}\\right) \\cos{\\left(p_{3} \\right)}}{l_{1}} - \\frac{s_{2} \\tau_{3} \\left(p_{1} - q_{1} - s_{2} \\cos{\\left(p_{3} \\right)}\\right) \\sin{\\left(p_{3} \\right)}}{l_{1}}\\\\- \\tau_{1} + \\frac{\\tau_{3} \\left(p_{1} - q_{1} - s_{2} \\cos{\\left(p_{3} \\right)}\\right)}{l_{1}}\\\\- \\tau_{2} + \\frac{\\tau_{4} \\left(- l_{0} + p_{1} - q_{2} + s_{2} \\cos{\\left(p_{3} \\right)}\\right)}{l_{2}}\\end{matrix}\\right]$"
      ],
      "text/plain": [
       "⎡                                               τ₄⋅(-l₀ + p₁ - q₂ + s₂⋅cos(p₃)\n",
       "⎢                                             - ──────────────────────────────\n",
       "⎢                                                              l₂             \n",
       "⎢                                                                             \n",
       "⎢                                                         τ₄⋅(p₂ + s₂⋅sin(p₃))\n",
       "⎢                                                  g⋅m₂ - ────────────────────\n",
       "⎢                                                                  l₂         \n",
       "⎢                                                                             \n",
       "⎢  s₂⋅τ₄⋅(p₂ + s₂⋅sin(p₃))⋅cos(p₃)   s₂⋅τ₄⋅(-l₀ + p₁ - q₂ + s₂⋅cos(p₃))⋅sin(p₃\n",
       "⎢- ─────────────────────────────── + ─────────────────────────────────────────\n",
       "⎢                 l₂                                     l₂                   \n",
       "⎢                                                                             \n",
       "⎢                                                                  τ₃⋅(p₁ - q₁\n",
       "⎢                                                            -τ₁ + ───────────\n",
       "⎢                                                                             \n",
       "⎢                                                                             \n",
       "⎢                                                               τ₄⋅(-l₀ + p₁ -\n",
       "⎢                                                         -τ₂ + ──────────────\n",
       "⎣                                                                             \n",
       "\n",
       ")   τ₃⋅(p₁ - q₁ - s₂⋅cos(p₃))                                             ⎤\n",
       "─ - ─────────────────────────                                             ⎥\n",
       "                l₁                                                        ⎥\n",
       "                                                                          ⎥\n",
       "   τ₃⋅(p₂ - s₂⋅sin(p₃))                                                   ⎥\n",
       " - ────────────────────                                                   ⎥\n",
       "            l₁                                                            ⎥\n",
       "                                                                          ⎥\n",
       ")   s₂⋅τ₃⋅(p₂ - s₂⋅sin(p₃))⋅cos(p₃)   s₂⋅τ₃⋅(p₁ - q₁ - s₂⋅cos(p₃))⋅sin(p₃)⎥\n",
       "─ + ─────────────────────────────── - ────────────────────────────────────⎥\n",
       "                   l₁                                  l₁                 ⎥\n",
       "                                                                          ⎥\n",
       " - s₂⋅cos(p₃))                                                            ⎥\n",
       "──────────────                                                            ⎥\n",
       " l₁                                                                       ⎥\n",
       "                                                                          ⎥\n",
       " q₂ + s₂⋅cos(p₃))                                                         ⎥\n",
       "─────────────────                                                         ⎥\n",
       " l₂                                                                       ⎦"
      ]
     },
     "execution_count": 47,
     "metadata": {},
     "output_type": "execute_result"
    }
   ],
   "source": [
    "eqns.subz0(tthetadd)"
   ]
  },
  {
   "cell_type": "code",
   "execution_count": 74,
   "metadata": {},
   "outputs": [
    {
     "data": {
      "image/png": "[encoded data removed]",
      "text/latex": [
       "eqlbr_conditions := $\\displaystyle \\left[ \\left( q_{1}, \\  0\\right), \\  \\left( p_{3}, \\  0\\right), \\  \\left( p_{1}, \\  1\\right), \\  \\left( p_{2}, \\  -3\\right), \\  \\left( \\tau_{1}, \\  0\\right), \\  \\left( \\tau_{2}, \\  0\\right), \\  \\left( \\tau_{3}, \\  \\tau_{4}\\right)\\right]$"
      ],
      "text/plain": [
       "eqlbr_conditions := [(q₁, 0), (p₃, 0), (p₁, 1), (p₂, -3), (τ₁, 0), (τ₂, 0), (τ₃, τ₄)]"
      ]
     },
     "metadata": {},
     "output_type": "display_data"
    },
    {
     "data": {
      "text/plain": [
       "---"
      ]
     },
     "metadata": {},
     "output_type": "display_data"
    },
    {
     "data": {
      "image/png": "[encoded data removed]",
      "text/latex": [
       "res := $\\displaystyle \\left[\\begin{matrix}\\frac{q_{2} \\tau_{4}}{\\sqrt{q_{2}^{2} + 9}}\\\\\\tau_{4} + \\frac{3 \\tau_{4}}{\\sqrt{q_{2}^{2} + 9}} + 98.1\\\\- \\tau_{4} + \\frac{3 \\tau_{4}}{\\sqrt{q_{2}^{2} + 9}}\\\\0\\\\- \\frac{q_{2} \\tau_{4}}{\\sqrt{q_{2}^{2} + 9}}\\end{matrix}\\right]$"
      ],
      "text/plain": [
       "res := ⎡         q₂⋅τ₄          ⎤\n",
       "⎢      ────────────      ⎥\n",
       "⎢         _________      ⎥\n",
       "⎢        ╱   2           ⎥\n",
       "⎢      ╲╱  q₂  + 9       ⎥\n",
       "⎢                        ⎥\n",
       "⎢         3⋅τ₄           ⎥\n",
       "⎢τ₄ + ──────────── + 98.1⎥\n",
       "⎢        _________       ⎥\n",
       "⎢       ╱   2            ⎥\n",
       "⎢     ╲╱  q₂  + 9        ⎥\n",
       "⎢                        ⎥\n",
       "⎢             3⋅τ₄       ⎥\n",
       "⎢   -τ₄ + ────────────   ⎥\n",
       "⎢            _________   ⎥\n",
       "⎢           ╱   2        ⎥\n",
       "⎢         ╲╱  q₂  + 9    ⎥\n",
       "⎢                        ⎥\n",
       "⎢           0            ⎥\n",
       "⎢                        ⎥\n",
       "⎢        -q₂⋅τ₄          ⎥\n",
       "⎢      ────────────      ⎥\n",
       "⎢         _________      ⎥\n",
       "⎢        ╱   2           ⎥\n",
       "⎣      ╲╱  q₂  + 9       ⎦"
      ]
     },
     "metadata": {},
     "output_type": "display_data"
    },
    {
     "data": {
      "text/plain": [
       "---"
      ]
     },
     "metadata": {},
     "output_type": "display_data"
    }
   ],
   "source": [
    "# determine a symetrical equilibrium:\n",
    "# TODO: woher Wahl von ttau?\n",
    "eqlbr_conditions = [(q1, 0), (p3, 0), (p1, 1), (p2, -3), (tau1, 0), (tau2, 0), (tau3, tau4)] ##:\n",
    "\n",
    "res = ((mod.eqns.subz0(tthetadd)).subs(eqlbr_conditions)).subz(used_params, num_params) ##:"
   ]
  },
  {
   "cell_type": "code",
   "execution_count": 49,
   "metadata": {},
   "outputs": [
    {
     "data": {
      "image/png": "[encoded data removed]",
      "text/latex": [
       "symbs := $\\displaystyle \\left[ q_{2}, \\  \\tau_{4}\\right]$"
      ],
      "text/plain": [
       "symbs := [q₂, τ₄]"
      ]
     },
     "metadata": {},
     "output_type": "display_data"
    },
    {
     "data": {
      "text/plain": [
       "---"
      ]
     },
     "metadata": {},
     "output_type": "display_data"
    },
    {
     "data": {
      "image/png": "[encoded data removed]",
      "text/latex": [
       "sol := $\\displaystyle \\left\\{ q_{2} : 0.0, \\  \\tau_{4} : -49.05\\right\\}$"
      ],
      "text/plain": [
       "sol := {q₂: 0.0, τ₄: -49.05}"
      ]
     },
     "metadata": {},
     "output_type": "display_data"
    },
    {
     "data": {
      "text/plain": [
       "---"
      ]
     },
     "metadata": {},
     "output_type": "display_data"
    }
   ],
   "source": [
    "symbs = list(res.s) ##:\n",
    "sol = sp.solve(res, symbs, dict=True)[0] ##:"
   ]
  },
  {
   "cell_type": "code",
   "execution_count": 50,
   "metadata": {},
   "outputs": [
    {
     "data": {
      "text/plain": [
       "ttheta0 := array([ 1., -3.,  0.,  0.,  0.])"
      ]
     },
     "metadata": {},
     "output_type": "display_data"
    },
    {
     "data": {
      "text/plain": [
       "---"
      ]
     },
     "metadata": {},
     "output_type": "display_data"
    },
    {
     "data": {
      "text/plain": [
       "uu0 := array([  0.  ,   0.  , -49.05, -49.05])"
      ]
     },
     "metadata": {},
     "output_type": "display_data"
    },
    {
     "data": {
      "text/plain": [
       "---"
      ]
     },
     "metadata": {},
     "output_type": "display_data"
    }
   ],
   "source": [
    "ttheta0 = st.to_np(ttheta.subs(eqlbr_conditions).subs(sol)).squeeze() ##:\n",
    "\n",
    "uu0 = st.to_np(ttau.subs(eqlbr_conditions).subs(sol)).squeeze()##:"
   ]
  },
  {
   "cell_type": "code",
   "execution_count": 51,
   "metadata": {},
   "outputs": [],
   "source": [
    "sim = st.SimulationModel(mod.f, mod.g, mod.xx, model_parameters=list(zip(used_params, num_params)))"
   ]
  },
  {
   "cell_type": "code",
   "execution_count": 52,
   "metadata": {},
   "outputs": [],
   "source": [
    "# return a constant value for simplicity\n",
    "uu1 = npy.array([  1.  ,   0.  , -49.05, -49.05])\n",
    "\n",
    "def input_func(t):\n",
    "    # constant input\n",
    "    return uu1\n",
    "\n",
    "rhs = sim.create_simfunction(input_function=input_func)"
   ]
  },
  {
   "cell_type": "code",
   "execution_count": 53,
   "metadata": {},
   "outputs": [],
   "source": [
    "import numpy as npy\n",
    "import scipy as sc\n",
    "import scipy.integrate"
   ]
  },
  {
   "cell_type": "code",
   "execution_count": 54,
   "metadata": {},
   "outputs": [
    {
     "data": {
      "text/plain": [
       "xx0 := array([ 1., -3.,  0.,  0.,  0.,  0., -0.,  0.,  0.,  0.])"
      ]
     },
     "metadata": {},
     "output_type": "display_data"
    },
    {
     "data": {
      "text/plain": [
       "---"
      ]
     },
     "metadata": {},
     "output_type": "display_data"
    }
   ],
   "source": [
    "xx0 = npy.concatenate((ttheta0, ttheta0*0)) ##:"
   ]
  },
  {
   "cell_type": "code",
   "execution_count": 55,
   "metadata": {},
   "outputs": [],
   "source": [
    "tt = npy.linspace(0, 10, 1000)"
   ]
  },
  {
   "cell_type": "code",
   "execution_count": 56,
   "metadata": {},
   "outputs": [
    {
     "data": {
      "text/plain": [
       "info(res) := \"<class 'numpy.ndarray'> with shape: (1000, 10)\""
      ]
     },
     "metadata": {},
     "output_type": "display_data"
    },
    {
     "data": {
      "text/plain": [
       "---"
      ]
     },
     "metadata": {},
     "output_type": "display_data"
    }
   ],
   "source": [
    "# solve_ivp is more modern, but the signature of rhs is taylored towards odeint\n",
    "res = sc.integrate.odeint(rhs, xx0, tt) ##:i"
   ]
  },
  {
   "cell_type": "code",
   "execution_count": 57,
   "metadata": {},
   "outputs": [
    {
     "data": {
      "text/plain": [
       "[<matplotlib.lines.Line2D at 0x7fb7b7254250>,\n",
       " <matplotlib.lines.Line2D at 0x7fb7b72541c0>,\n",
       " <matplotlib.lines.Line2D at 0x7fb7b72542e0>,\n",
       " <matplotlib.lines.Line2D at 0x7fb7b7254400>,\n",
       " <matplotlib.lines.Line2D at 0x7fb7b7254520>]"
      ]
     },
     "execution_count": 57,
     "metadata": {},
     "output_type": "execute_result"
    },
    {
     "data": {
      "image/png": "[encoded data removed]",
      "text/plain": [
       "<Figure size 432x288 with 1 Axes>"
      ]
     },
     "metadata": {
      "needs_background": "light"
     },
     "output_type": "display_data"
    }
   ],
   "source": [
    "plt.plot(tt, res[:, :5])"
   ]
  },
  {
   "cell_type": "code",
   "execution_count": null,
   "metadata": {},
   "outputs": [],
   "source": []
  }
 ],
 "metadata": {
  "kernelspec": {
   "display_name": "Python 3 (ipykernel)",
   "language": "python",
   "name": "python3"
  },
  "language_info": {
   "codemirror_mode": {
    "name": "ipython",
    "version": 3
   },
   "file_extension": ".py",
   "mimetype": "text/x-python",
   "name": "python",
   "nbconvert_exporter": "python",
   "pygments_lexer": "ipython3",
   "version": "3.8.10"
  },
  "varInspector": {
   "cols": {
    "lenName": 16,
    "lenType": 16,
    "lenVar": 40
   },
   "kernels_config": {
    "python": {
     "delete_cmd_postfix": "",
     "delete_cmd_prefix": "del ",
     "library": "var_list.py",
     "varRefreshCmd": "print(var_dic_list())"
    },
    "r": {
     "delete_cmd_postfix": ") ",
     "delete_cmd_prefix": "rm(",
     "library": "var_list.r",
     "varRefreshCmd": "cat(var_dic_list()) "
    }
   },
   "position": {
    "height": "1103px",
    "left": "1854px",
    "right": "20px",
    "top": "143px",
    "width": "543px"
   },
   "types_to_exclude": [
    "module",
    "function",
    "builtin_function_or_method",
    "instance",
    "_Feature"
   ],
   "window_display": false
  }
 },
 "nbformat": 4,
 "nbformat_minor": 2
}
