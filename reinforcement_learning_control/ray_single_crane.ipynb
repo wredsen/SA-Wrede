{
 "cells": [
  {
   "cell_type": "code",
   "execution_count": 1,
   "metadata": {},
   "outputs": [],
   "source": [
    "import sys\n",
    "\n",
    "import gym\n",
    "import numpy as np\n",
    "import scipy.integrate as sc_integrate\n",
    "\n",
    "import ray\n",
    "from ray.rllib.algorithms.ppo import PPO\n",
    "from ray.tune.logger import pretty_print\n",
    "\n",
    "import symbtools as st\n",
    "import sympy as sp\n",
    "import pickle\n",
    "import matplotlib.pyplot as plt"
   ]
  },
  {
   "cell_type": "markdown",
   "metadata": {},
   "source": [
    "## Mathematical system description with SymPy / symbtools"
   ]
  },
  {
   "cell_type": "code",
   "execution_count": 2,
   "metadata": {},
   "outputs": [],
   "source": [
    "# load model etc. from pickle of flatness analysis notebook\n",
    "with open(\"single_crane_model.pcl\", \"rb\") as pfile:\n",
    "    data = pickle.load(pfile)\n",
    "    locals().update(data)"
   ]
  },
  {
   "cell_type": "code",
   "execution_count": 3,
   "metadata": {},
   "outputs": [
    {
     "data": {
      "text/latex": [
       "$\\displaystyle \\left[\\begin{matrix}p_{1}\\\\p_{2}\\\\q_{1}\\\\\\dot{p}_{1}\\\\\\dot{p}_{2}\\\\\\dot{q}_{1}\\end{matrix}\\right]$"
      ],
      "text/plain": [
       "Matrix([\n",
       "[   p1],\n",
       "[   p2],\n",
       "[   q1],\n",
       "[pdot1],\n",
       "[pdot2],\n",
       "[qdot1]])"
      ]
     },
     "execution_count": 3,
     "metadata": {},
     "output_type": "execute_result"
    }
   ],
   "source": [
    "mod.xx"
   ]
  },
  {
   "cell_type": "code",
   "execution_count": 4,
   "metadata": {
    "scrolled": true
   },
   "outputs": [
    {
     "data": {
      "text/latex": [
       "$\\displaystyle \\left[\\begin{matrix}m_{2} \\ddot{p}_{1} - \\frac{\\tau_{2} \\left(p_{1} - q_{1}\\right)}{\\sqrt{p_{2}^{2} + \\left(p_{1} - q_{1}\\right)^{2}}}\\\\g m_{2} + m_{2} \\ddot{p}_{2} - \\frac{p_{2} \\tau_{2}}{\\sqrt{p_{2}^{2} + \\left(p_{1} - q_{1}\\right)^{2}}}\\\\m_{1} \\ddot{q}_{1} - \\tau_{1} + \\frac{\\tau_{2} \\left(p_{1} - q_{1}\\right)}{\\sqrt{p_{2}^{2} + \\left(p_{1} - q_{1}\\right)^{2}}}\\end{matrix}\\right]$"
      ],
      "text/plain": [
       "Matrix([\n",
       "[       m2*pddot1 - tau2*(p1 - q1)/sqrt(p2**2 + (p1 - q1)**2)],\n",
       "[       g*m2 + m2*pddot2 - p2*tau2/sqrt(p2**2 + (p1 - q1)**2)],\n",
       "[m1*qddot1 - tau1 + tau2*(p1 - q1)/sqrt(p2**2 + (p1 - q1)**2)]])"
      ]
     },
     "execution_count": 4,
     "metadata": {},
     "output_type": "execute_result"
    }
   ],
   "source": [
    "mod.calc_state_eq(force_recalculation=True)\n",
    "mod.eqns"
   ]
  },
  {
   "cell_type": "markdown",
   "metadata": {},
   "source": [
    "## Gym environment"
   ]
  },
  {
   "cell_type": "code",
   "execution_count": 5,
   "metadata": {},
   "outputs": [],
   "source": [
    "from abc import abstractmethod\n",
    "import inspect\n",
    "import math\n",
    "from typing import Optional, Union\n",
    "\n",
    "import numpy as np\n",
    "from scipy.integrate import solve_ivp\n",
    "\n",
    "import gym\n",
    "from gym import logger, spaces\n",
    "#from gym.envs.classic_control import utils\n",
    "from gym.error import DependencyNotInstalled\n",
    "#from gym.utils.renderer import Renderer\n",
    "\n",
    "class StateSpaceModel(gym.Env):\n",
    "    \"\"\" Environment subclass that uses a state space model of the form dx/dt = f(x, u)\n",
    "    to represent the environments dynamics.\n",
    "\n",
    "    Args:\n",
    "        ode\n",
    "        cost\n",
    "        x0\n",
    "        uDim\n",
    "\n",
    "    Attributes:\n",
    "        ode (function): ODE for simulation\n",
    "        cost (function): cost function (returns scalar)\n",
    "        o\n",
    "        o_\n",
    "        oDim\n",
    "    \"\"\"\n",
    "\n",
    "    def __init__(self, ode, cost, x0, uDim, dt,\n",
    "                 terminal_cost=-1e4):\n",
    "        self.tt = [0]\n",
    "        self.dt = dt\n",
    "        if callable(x0):\n",
    "            self.x0 = x0  # initial state\n",
    "            x0 = x0()\n",
    "        else:\n",
    "            x0 = list(x0)\n",
    "            self.x0 = x0\n",
    "        self.x = x0  # current state\n",
    "        self.x_ = x0 # previous state x[k-1]\n",
    "        self.xDim = len(x0) # state dimension\n",
    "        self.uDim = uDim # inputs\n",
    "        self.o = self.x\n",
    "        self.o_ = self.x_\n",
    "        self.oDim = len(self.o)  # observation dimensions\n",
    "        self.ode = ode\n",
    "        params = inspect.signature(cost).parameters\n",
    "        cost_args = params.__len__()\n",
    "        if cost_args == 1:\n",
    "            self.cost = lambda x_, u_, x, t, mod: cost(x_)\n",
    "        elif cost_args == 2:\n",
    "            if 'mod' in params:\n",
    "                self.cost = lambda x_, u_, x, t, mod: cost(x_, mod)\n",
    "            elif 't' in params:\n",
    "                self.cost = lambda x_, u_, x, t, mod: cost(x_, t)\n",
    "            else:\n",
    "                self.cost = lambda x_, u_, x, t, mod: cost(x_, u_)\n",
    "        elif cost_args == 3:\n",
    "            if 'mod' in params:\n",
    "                self.cost = lambda x_, u_, x, t, mod: cost(x_, u_, mod)\n",
    "            elif 't' in params:\n",
    "                self.cost = lambda x_, u_, x, t, mod: cost(x_, u_, t)\n",
    "            else:\n",
    "                self.cost = lambda x_, u_, x, t, mod: cost(x_, u_, x)\n",
    "        elif cost_args == 4:\n",
    "            if 'mod' in params and 't' in params:\n",
    "                self.cost = lambda x_, u_, x, t, mod: cost(x_, u_, t, mod)\n",
    "            elif 'mod' in params and not 't' in params:\n",
    "                self.cost = lambda x_, u_, x, t, mod: cost(x_, u_, x, mod)\n",
    "            else:\n",
    "                self.cost = lambda x_, u_, x, t, mod: cost(x_, u_, x, t)\n",
    "        elif cost_args == 5:\n",
    "            self.cost = cost\n",
    "        else:\n",
    "            print('Cost function must to be of the form c(x_, u_, x, t, mod), where mod is numpy/sympy.')\n",
    "            assert(True)\n",
    "            \n",
    "        self.terminated = False\n",
    "        self.terminal_cost = terminal_cost\n",
    "    \n",
    "    def get_state(self):\n",
    "        return self.x\n",
    "\n",
    "    def reset(self):\n",
    "        \"\"\" Resets environment to state x0\n",
    "\n",
    "        Args:\n",
    "            x0 (array, list, callable): initial state\n",
    "\n",
    "        \"\"\"\n",
    "        if callable(self.x0):\n",
    "            x0 = self.x0()\n",
    "        self.x_ = x0\n",
    "        self.x = x0\n",
    "        self.tt = [0]\n",
    "        self.terminated = False\n",
    "        return np.array(self.x, dtype=np.float32)\n",
    "\n",
    "    def step(self, *args):\n",
    "        \"\"\" Simulates the environment for 1 step of time t.\n",
    "\n",
    "        Args:\n",
    "            dt (int, float): duration of step (not solver step size)\n",
    "            u (array): control/action\n",
    "\n",
    "        Returns:\n",
    "            c (float): cost of state transition\n",
    "\n",
    "        \"\"\"\n",
    "        self.x_ = self.x  # shift state (x[k-1] = x[k])\n",
    "        self.o_ = self.o\n",
    "        if args.__len__()==2:\n",
    "            u = args[0]\n",
    "            dt = args[1]\n",
    "        elif args.__len__() == 1:\n",
    "            u = args[0]\n",
    "            dt = self.dt\n",
    "\n",
    "        # system simulation\n",
    "        sol = solve_ivp(lambda t, x: self.ode(t, x, u, self.dxdt), (0, dt), self.x_, 'RK45')\n",
    "        # todo: only output value of the last timestep\n",
    "        y = list(sol.y[:, -1])  # extract simulation result\n",
    "        self.x = y\n",
    "        self.tt.extend([self.tt[-1] + dt])  # increment simulation time\n",
    "        self.terminated = self.terminate(self.x)\n",
    "        #x_2pi = mapAngles(self.xIsAngle, self.x_)\n",
    "        #x2pi = mapAngles(self.xIsAngle, self.x)\n",
    "        #c = (self.cost(x_2pi, u, x2pi, np) + self.terminal_cost*self.terminated)*dt\n",
    "        t = self.tt[-1]\n",
    "        c = (self.cost(self.x_, u, self.x, t, np) + self.terminal_cost * self.terminated) * dt\n",
    "        \n",
    "        # todo: place difference for desired value with function or smth here\n",
    "        self.o =  np.array(self.x, dtype=np.float32)\n",
    "        reward = c\n",
    "        return self.o, reward, self.terminated, {\"info\": False}\n",
    "    \n",
    "    @abstractmethod\n",
    "    def terminate(self, *args):\n",
    "        return\n",
    "\n",
    "\n",
    "\n",
    "class CartPoleEnv(StateSpaceModel):\n",
    "\n",
    "    metadata = {}\n",
    "\n",
    "    def __init__(self, cost, x0, dt, mod):\n",
    "        super(CartPoleEnv, self).__init__(self.ode, cost, x0, 2, dt)\n",
    "        \n",
    "        self.spec = gym.envs.registration.EnvSpec(id='CartPoleEnv-v0', max_episode_steps=1000)\n",
    "        \n",
    "        F1, F2 = sp.symbols('F1 F2')\n",
    "\n",
    "        params = sp.symbols('m1, m2, l1, g')\n",
    "        st.make_global(params)\n",
    "        params_values = [(m1, 1.0), (m2, 0.1), (l1, 0.5), (g, 9.81)]\n",
    "        \n",
    "        states_dot = mod.f + mod.g * sp.Matrix([F1, F2]) ##:\n",
    "        states_dot_wo_params = states_dot.subs(params_values)\n",
    "        self.dxdt = st.expr_to_func([*mod.xx, F1, F2], states_dot_wo_params)\n",
    "\n",
    "        # define observation space\n",
    "        high_obs = np.array(\n",
    "            [\n",
    "                100.0,\n",
    "                100.0,\n",
    "                100.0,\n",
    "                100.0,\n",
    "                100.0,\n",
    "                100.0\n",
    "            ],\n",
    "            dtype=np.float32,\n",
    "        )\n",
    "        self.observation_space = spaces.Box(-high_obs, high_obs, dtype=np.float32)\n",
    "        \n",
    "        # define action space\n",
    "        high_act = np.array(\n",
    "            [ \n",
    "                2.0,\n",
    "                2.0\n",
    "            ],\n",
    "            dtype=np.float32,\n",
    "        )\n",
    "        self.action_space = spaces.Box(-high_act, high_act, dtype=np.float32)\n",
    "    \n",
    "    def ode(self, t, x, u, dxdt):\n",
    "        u1, u2 = u\n",
    "        states_dot = dxdt(*x, u1, u2 - 0.981)\n",
    "        return np.array(states_dot, dtype=np.float32)\n",
    "    \n",
    "    def terminate(self, x):\n",
    "        x1, x2, x3, x4, x5, x6 = x\n",
    "        if abs(x3) > 50 or abs(x2+0.3) > 0.3 or abs(x1) > 50:\n",
    "            return True\n",
    "        else:\n",
    "            return False"
   ]
  },
  {
   "cell_type": "markdown",
   "metadata": {},
   "source": [
    "## Cost function, Initial values"
   ]
  },
  {
   "cell_type": "code",
   "execution_count": 6,
   "metadata": {
    "scrolled": true
   },
   "outputs": [
    {
     "data": {
      "text/latex": [
       "$\\displaystyle \\left[\\begin{matrix}p_{1} & p_{2} & q_{1} & \\dot{p}_{1} & \\dot{p}_{2} & \\dot{q}_{1}\\end{matrix}\\right]$"
      ],
      "text/plain": [
       "Matrix([[p1, p2, q1, pdot1, pdot2, qdot1]])"
      ]
     },
     "execution_count": 6,
     "metadata": {},
     "output_type": "execute_result"
    }
   ],
   "source": [
    "mod.xx.T"
   ]
  },
  {
   "cell_type": "code",
   "execution_count": 22,
   "metadata": {},
   "outputs": [],
   "source": [
    "# define the incremental cost\n",
    "def c_k(x, u):\n",
    "    x1, x2, x3, x4, x5, x6 = x\n",
    "    u1, u2 = u\n",
    "    \n",
    "    \n",
    "    c = -10*(x2+0.3)**2 - 10*(x3-1)**2 #+ 0.01*u1**2 - 0.1*x5**2 - 0.1*x6**2\n",
    "    \n",
    "    if abs(x2+0.3) < 0.02:\n",
    "        c = c + 1\n",
    "    if abs(x3-1) < 0.05:\n",
    "        c = c + 1\n",
    "\n",
    "    return c\n",
    "\n",
    "# define the function, that represents the initial value distribution p(x_0)\n",
    "def p_x0():\n",
    "    x0 = [\n",
    "            np.random.uniform(-0.001,0.001), \n",
    "            -0.5 + np.random.uniform(-0.001,0.001), \n",
    "            np.random.uniform(-0.001,0.001), \n",
    "            np.random.uniform(-0.001,0.001),\n",
    "            np.random.uniform(-0.001,0.001),\n",
    "            np.random.uniform(-0.001,0.001)\n",
    "    ]\n",
    "    return x0\n",
    "\n",
    "t = 10 # time of an episode\n",
    "dt = 0.01 # time step-size\n",
    "\n",
    "learning_iterations = int(100) # define training iterations"
   ]
  },
  {
   "cell_type": "markdown",
   "metadata": {},
   "source": [
    "## Create Gym env"
   ]
  },
  {
   "cell_type": "code",
   "execution_count": 23,
   "metadata": {},
   "outputs": [],
   "source": [
    "# environment without renderings for training\n",
    "env = CartPoleEnv(c_k, p_x0, dt, mod)"
   ]
  },
  {
   "cell_type": "code",
   "execution_count": 24,
   "metadata": {},
   "outputs": [
    {
     "data": {
      "text/plain": [
       "Box([-100. -100. -100. -100. -100. -100.], [100. 100. 100. 100. 100. 100.], (6,), float32)"
      ]
     },
     "execution_count": 24,
     "metadata": {},
     "output_type": "execute_result"
    }
   ],
   "source": [
    "env.reset()\n",
    "env.step(env.action_space.sample())\n",
    "env.observation_space"
   ]
  },
  {
   "cell_type": "markdown",
   "metadata": {},
   "source": [
    "## Configure RL algo"
   ]
  },
  {
   "cell_type": "code",
   "execution_count": 10,
   "metadata": {
    "scrolled": true
   },
   "outputs": [
    {
     "name": "stderr",
     "output_type": "stream",
     "text": [
      "2022-09-22 09:09:50,464\tINFO worker.py:1518 -- Started a local Ray instance.\n"
     ]
    },
    {
     "data": {
      "text/html": [
       "<div>\n",
       "    <div style=\"margin-left: 50px;display: flex;flex-direction: row;align-items: center\">\n",
       "        <h3 style=\"color: var(--jp-ui-font-color0)\">Ray</h3>\n",
       "        <svg version=\"1.1\" id=\"ray\" width=\"3em\" viewBox=\"0 0 144.5 144.6\" style=\"margin-left: 3em;margin-right: 3em\">\n",
       "            <g id=\"layer-1\">\n",
       "                <path fill=\"#00a2e9\" class=\"st0\" d=\"M97.3,77.2c-3.8-1.1-6.2,0.9-8.3,5.1c-3.5,6.8-9.9,9.9-17.4,9.6S58,88.1,54.8,81.2c-1.4-3-3-4-6.3-4.1\n",
       "                    c-5.6-0.1-9.9,0.1-13.1,6.4c-3.8,7.6-13.6,10.2-21.8,7.6C5.2,88.4-0.4,80.5,0,71.7c0.1-8.4,5.7-15.8,13.8-18.2\n",
       "                    c8.4-2.6,17.5,0.7,22.3,8c1.3,1.9,1.3,5.2,3.6,5.6c3.9,0.6,8,0.2,12,0.2c1.8,0,1.9-1.6,2.4-2.8c3.5-7.8,9.7-11.8,18-11.9\n",
       "                    c8.2-0.1,14.4,3.9,17.8,11.4c1.3,2.8,2.9,3.6,5.7,3.3c1-0.1,2,0.1,3,0c2.8-0.5,6.4,1.7,8.1-2.7s-2.3-5.5-4.1-7.5\n",
       "                    c-5.1-5.7-10.9-10.8-16.1-16.3C84,38,81.9,37.1,78,38.3C66.7,42,56.2,35.7,53,24.1C50.3,14,57.3,2.8,67.7,0.5\n",
       "                    C78.4-2,89,4.7,91.5,15.3c0.1,0.3,0.1,0.5,0.2,0.8c0.7,3.4,0.7,6.9-0.8,9.8c-1.7,3.2-0.8,5,1.5,7.2c6.7,6.5,13.3,13,19.8,19.7\n",
       "                    c1.8,1.8,3,2.1,5.5,1.2c9.1-3.4,17.9-0.6,23.4,7c4.8,6.9,4.6,16.1-0.4,22.9c-5.4,7.2-14.2,9.9-23.1,6.5c-2.3-0.9-3.5-0.6-5.1,1.1\n",
       "                    c-6.7,6.9-13.6,13.7-20.5,20.4c-1.8,1.8-2.5,3.2-1.4,5.9c3.5,8.7,0.3,18.6-7.7,23.6c-7.9,5-18.2,3.8-24.8-2.9\n",
       "                    c-6.4-6.4-7.4-16.2-2.5-24.3c4.9-7.8,14.5-11,23.1-7.8c3,1.1,4.7,0.5,6.9-1.7C91.7,98.4,98,92.3,104.2,86c1.6-1.6,4.1-2.7,2.6-6.2\n",
       "                    c-1.4-3.3-3.8-2.5-6.2-2.6C99.8,77.2,98.9,77.2,97.3,77.2z M72.1,29.7c5.5,0.1,9.9-4.3,10-9.8c0-0.1,0-0.2,0-0.3\n",
       "                    C81.8,14,77,9.8,71.5,10.2c-5,0.3-9,4.2-9.3,9.2c-0.2,5.5,4,10.1,9.5,10.3C71.8,29.7,72,29.7,72.1,29.7z M72.3,62.3\n",
       "                    c-5.4-0.1-9.9,4.2-10.1,9.7c0,0.2,0,0.3,0,0.5c0.2,5.4,4.5,9.7,9.9,10c5.1,0.1,9.9-4.7,10.1-9.8c0.2-5.5-4-10-9.5-10.3\n",
       "                    C72.6,62.3,72.4,62.3,72.3,62.3z M115,72.5c0.1,5.4,4.5,9.7,9.8,9.9c5.6-0.2,10-4.8,10-10.4c-0.2-5.4-4.6-9.7-10-9.7\n",
       "                    c-5.3-0.1-9.8,4.2-9.9,9.5C115,72.1,115,72.3,115,72.5z M19.5,62.3c-5.4,0.1-9.8,4.4-10,9.8c-0.1,5.1,5.2,10.4,10.2,10.3\n",
       "                    c5.6-0.2,10-4.9,9.8-10.5c-0.1-5.4-4.5-9.7-9.9-9.6C19.6,62.3,19.5,62.3,19.5,62.3z M71.8,134.6c5.9,0.2,10.3-3.9,10.4-9.6\n",
       "                    c0.5-5.5-3.6-10.4-9.1-10.8c-5.5-0.5-10.4,3.6-10.8,9.1c0,0.5,0,0.9,0,1.4c-0.2,5.3,4,9.8,9.3,10\n",
       "                    C71.6,134.6,71.7,134.6,71.8,134.6z\"/>\n",
       "            </g>\n",
       "        </svg>\n",
       "        <table>\n",
       "            <tr>\n",
       "                <td style=\"text-align: left\"><b>Python version:</b></td>\n",
       "                <td style=\"text-align: left\"><b>3.10.4</b></td>\n",
       "            </tr>\n",
       "            <tr>\n",
       "                <td style=\"text-align: left\"><b>Ray version:</b></td>\n",
       "                <td style=\"text-align: left\"><b> 2.0.0</b></td>\n",
       "            </tr>\n",
       "            \n",
       "        </table>\n",
       "    </div>\n",
       "</div>\n"
      ],
      "text/plain": [
       "RayContext(dashboard_url='', python_version='3.10.4', ray_version='2.0.0', ray_commit='cba26cc83f6b5b8a2ff166594a65cb74c0ec8740', address_info={'node_ip_address': '10.4.19.28', 'raylet_ip_address': '10.4.19.28', 'redis_address': None, 'object_store_address': '/tmp/ray/session_2022-09-22_09-09-48_482805_2940/sockets/plasma_store', 'raylet_socket_name': '/tmp/ray/session_2022-09-22_09-09-48_482805_2940/sockets/raylet', 'webui_url': '', 'session_dir': '/tmp/ray/session_2022-09-22_09-09-48_482805_2940', 'metrics_export_port': 46225, 'gcs_address': '10.4.19.28:62941', 'address': '10.4.19.28:62941', 'dashboard_agent_listen_port': 52365, 'node_id': '666d1e1a08060fa685cacd74090339491d88247add1e27f7014f347b'})"
      ]
     },
     "execution_count": 10,
     "metadata": {},
     "output_type": "execute_result"
    }
   ],
   "source": [
    "ray.init()"
   ]
  },
  {
   "cell_type": "code",
   "execution_count": 25,
   "metadata": {},
   "outputs": [],
   "source": [
    "from ray.tune.registry import register_env\n",
    "\n",
    "def env_creator(env_config):\n",
    "    return CartPoleEnv(**env_config) # return an env instanceregister_env(\"my_env\", env_creator)"
   ]
  },
  {
   "cell_type": "code",
   "execution_count": 26,
   "metadata": {},
   "outputs": [],
   "source": [
    "register_env(\"CartPoleCustom\", env_creator)"
   ]
  },
  {
   "cell_type": "code",
   "execution_count": 27,
   "metadata": {},
   "outputs": [
    {
     "data": {
      "text/plain": [
       "'import ray\\nimport ray.rllib.algorithms.ppo as ppo\\nfrom ray.tune.logger import pretty_print\\n\\nconfig = ppo.DEFAULT_CONFIG.copy()\\nconfig[\"num_gpus\"] = 0\\nconfig[\"num_workers\"] = 1\\nalgo = ppo.PPO(config=config, env=\"CartPole-v0\")\\n'"
      ]
     },
     "execution_count": 27,
     "metadata": {},
     "output_type": "execute_result"
    }
   ],
   "source": [
    "'''import ray\n",
    "import ray.rllib.algorithms.ppo as ppo\n",
    "from ray.tune.logger import pretty_print\n",
    "\n",
    "config = ppo.DEFAULT_CONFIG.copy()\n",
    "config[\"num_gpus\"] = 0\n",
    "config[\"num_workers\"] = 1\n",
    "algo = ppo.PPO(config=config, env=\"CartPole-v0\")\n",
    "'''"
   ]
  },
  {
   "cell_type": "code",
   "execution_count": 28,
   "metadata": {},
   "outputs": [],
   "source": [
    "#config"
   ]
  },
  {
   "cell_type": "code",
   "execution_count": 29,
   "metadata": {},
   "outputs": [],
   "source": [
    "config = {\n",
    "    # Environment (RLlib understands openAI gym registered strings).\n",
    "    \"env\": \"CartPoleCustom\",\n",
    "    \"env_config\": {\"cost\":c_k, \"x0\":p_x0, \"dt\":dt, \"mod\":mod},\n",
    "    # Use 2 environment workers (aka \"rollout workers\") that parallelly\n",
    "    # collect samples from their own environment clone(s).\n",
    "    \"num_workers\": 30,\n",
    "    # Change this to \"framework: torch\", if you are using PyTorch.\n",
    "    # Also, use \"framework: tf2\" for tf2.x eager execution.\n",
    "    \"framework\": \"tf\",\n",
    "    # Tweak the default model provided automatically by RLlib,\n",
    "    # given the environment's observation- and action spaces.\n",
    "    \"model\": {\n",
    "        \"fcnet_hiddens\": [128, 128],\n",
    "        \"fcnet_activation\": \"relu\",\n",
    "    },\n",
    "    # Set up a separate evaluation worker set for the\n",
    "    # `algo.evaluate()` call after training (see below).\n",
    "    \"evaluation_num_workers\": 1,\n",
    "    # Only for evaluation runs, render the env.\n",
    "    \"evaluation_config\": {\n",
    "        \"render_env\": False,\n",
    "    },\n",
    "}\n"
   ]
  },
  {
   "cell_type": "markdown",
   "metadata": {},
   "source": [
    "## Training the model"
   ]
  },
  {
   "cell_type": "code",
   "execution_count": 30,
   "metadata": {
    "scrolled": true
   },
   "outputs": [
    {
     "name": "stderr",
     "output_type": "stream",
     "text": [
      "2022-09-22 09:18:38,383\tWARNING algorithm.py:2099 -- You have specified 1 evaluation workers, but your `evaluation_interval` is None! Therefore, evaluation will not occur automatically with each call to `Trainer.train()`. Instead, you will have to call `Trainer.evaluate()` manually in order to trigger an evaluation run.\n",
      "2022-09-22 09:18:38,384\tWARNING ppo.py:350 -- `train_batch_size` (4000) cannot be achieved with your other settings (num_workers=30 num_envs_per_worker=1 rollout_fragment_length=200)! Auto-adjusting `rollout_fragment_length` to 134.\n"
     ]
    },
    {
     "name": "stdout",
     "output_type": "stream",
     "text": [
      "\u001b[2m\u001b[36m(RolloutWorker pid=6740)\u001b[0m \u001b[22;0t\u001b]0;IPython: cluster/kwrede\u0007\n",
      "\u001b[2m\u001b[36m(RolloutWorker pid=6738)\u001b[0m \u001b[22;0t\u001b]0;IPython: cluster/kwrede\u0007\n",
      "\u001b[2m\u001b[36m(RolloutWorker pid=6744)\u001b[0m \u001b[22;0t\u001b]0;IPython: cluster/kwrede\u0007\n",
      "\u001b[2m\u001b[36m(RolloutWorker pid=6756)\u001b[0m \u001b[22;0t\u001b]0;IPython: cluster/kwrede\u0007\n",
      "\u001b[2m\u001b[36m(RolloutWorker pid=6760)\u001b[0m \u001b[22;0t\u001b]0;IPython: cluster/kwrede\u0007\n",
      "\u001b[2m\u001b[36m(RolloutWorker pid=6731)\u001b[0m \u001b[22;0t\u001b]0;IPython: cluster/kwrede\u0007\n",
      "\u001b[2m\u001b[36m(RolloutWorker pid=6730)\u001b[0m \u001b[22;0t\u001b]0;IPython: cluster/kwrede\u0007\n",
      "\u001b[2m\u001b[36m(RolloutWorker pid=6739)\u001b[0m \u001b[22;0t\u001b]0;IPython: cluster/kwrede\u0007\n",
      "\u001b[2m\u001b[36m(RolloutWorker pid=6734)\u001b[0m \u001b[22;0t\u001b]0;IPython: cluster/kwrede\u0007\n",
      "\u001b[2m\u001b[36m(RolloutWorker pid=6732)\u001b[0m \u001b[22;0t\u001b]0;IPython: cluster/kwrede\u0007\n",
      "\u001b[2m\u001b[36m(RolloutWorker pid=6746)\u001b[0m \u001b[22;0t\u001b]0;IPython: cluster/kwrede\u0007\n",
      "\u001b[2m\u001b[36m(RolloutWorker pid=6736)\u001b[0m \u001b[22;0t\u001b]0;IPython: cluster/kwrede\u0007\n",
      "\u001b[2m\u001b[36m(RolloutWorker pid=6737)\u001b[0m \u001b[22;0t\u001b]0;IPython: cluster/kwrede\u0007\n",
      "\u001b[2m\u001b[36m(RolloutWorker pid=6749)\u001b[0m \u001b[22;0t\u001b]0;IPython: cluster/kwrede\u0007\n",
      "\u001b[2m\u001b[36m(RolloutWorker pid=6750)\u001b[0m \u001b[22;0t\u001b]0;IPython: cluster/kwrede\u0007\n",
      "\u001b[2m\u001b[36m(RolloutWorker pid=6747)\u001b[0m \u001b[22;0t\u001b]0;IPython: cluster/kwrede\u0007\n",
      "\u001b[2m\u001b[36m(RolloutWorker pid=6742)\u001b[0m \u001b[22;0t\u001b]0;IPython: cluster/kwrede\u0007\n",
      "\u001b[2m\u001b[36m(RolloutWorker pid=6753)\u001b[0m \u001b[22;0t\u001b]0;IPython: cluster/kwrede\u0007\n",
      "\u001b[2m\u001b[36m(RolloutWorker pid=6751)\u001b[0m \u001b[22;0t\u001b]0;IPython: cluster/kwrede\u0007\n",
      "\u001b[2m\u001b[36m(RolloutWorker pid=6752)\u001b[0m \u001b[22;0t\u001b]0;IPython: cluster/kwrede\u0007\n",
      "\u001b[2m\u001b[36m(RolloutWorker pid=6735)\u001b[0m \u001b[22;0t\u001b]0;IPython: cluster/kwrede\u0007\n",
      "\u001b[2m\u001b[36m(RolloutWorker pid=6755)\u001b[0m \u001b[22;0t\u001b]0;IPython: cluster/kwrede\u0007\n",
      "\u001b[2m\u001b[36m(RolloutWorker pid=6743)\u001b[0m \u001b[22;0t\u001b]0;IPython: cluster/kwrede\u0007\n",
      "\u001b[2m\u001b[36m(RolloutWorker pid=6745)\u001b[0m \u001b[22;0t\u001b]0;IPython: cluster/kwrede\u0007\n",
      "\u001b[2m\u001b[36m(RolloutWorker pid=6757)\u001b[0m \u001b[22;0t\u001b]0;IPython: cluster/kwrede\u0007\n",
      "\u001b[2m\u001b[36m(RolloutWorker pid=6741)\u001b[0m \u001b[22;0t\u001b]0;IPython: cluster/kwrede\u0007\n",
      "\u001b[2m\u001b[36m(RolloutWorker pid=6733)\u001b[0m \u001b[22;0t\u001b]0;IPython: cluster/kwrede\u0007\n",
      "\u001b[2m\u001b[36m(RolloutWorker pid=6759)\u001b[0m \u001b[22;0t\u001b]0;IPython: cluster/kwrede\u0007\n",
      "\u001b[2m\u001b[36m(RolloutWorker pid=6761)\u001b[0m \u001b[22;0t\u001b]0;IPython: cluster/kwrede\u0007\n",
      "\u001b[2m\u001b[36m(RolloutWorker pid=6758)\u001b[0m \u001b[22;0t\u001b]0;IPython: cluster/kwrede\u0007\n"
     ]
    },
    {
     "name": "stderr",
     "output_type": "stream",
     "text": [
      "2022-09-22 09:18:48,424\tWARNING deprecation.py:47 -- DeprecationWarning: `simple_optimizer` has been deprecated. This will raise an error in the future!\n",
      "2022-09-22 09:18:48,426\tWARNING algorithm.py:2099 -- You have specified 1 evaluation workers, but your `evaluation_interval` is None! Therefore, evaluation will not occur automatically with each call to `Trainer.train()`. Instead, you will have to call `Trainer.evaluate()` manually in order to trigger an evaluation run.\n",
      "2022-09-22 09:18:48,427\tWARNING ppo.py:350 -- `train_batch_size` (4000) cannot be achieved with your other settings (num_workers=30 num_envs_per_worker=1 rollout_fragment_length=134)! Auto-adjusting `rollout_fragment_length` to 134.\n"
     ]
    },
    {
     "name": "stdout",
     "output_type": "stream",
     "text": [
      "\u001b[2m\u001b[36m(RolloutWorker pid=7728)\u001b[0m \u001b[22;0t\u001b]0;IPython: cluster/kwrede\u0007\n"
     ]
    },
    {
     "name": "stderr",
     "output_type": "stream",
     "text": [
      "2022-09-22 09:18:53,244\tINFO trainable.py:160 -- Trainable.setup took 14.875 seconds. If your trainable is slow to initialize, consider setting reuse_actors=True to reduce actor creation overheads.\n",
      "2022-09-22 09:18:53,246\tWARNING util.py:65 -- Install gputil for GPU system monitoring.\n"
     ]
    }
   ],
   "source": [
    "agent = PPO(config=config)"
   ]
  },
  {
   "cell_type": "code",
   "execution_count": 31,
   "metadata": {},
   "outputs": [],
   "source": [
    "for _ in range(learning_iterations):\n",
    "    result = agent.train()"
   ]
  },
  {
   "cell_type": "code",
   "execution_count": 32,
   "metadata": {
    "scrolled": false
   },
   "outputs": [
    {
     "data": {
      "text/plain": [
       "{'evaluation': {'episode_reward_max': 11.17313443184994,\n",
       "  'episode_reward_min': 8.915874825615305,\n",
       "  'episode_reward_mean': 10.520964132788981,\n",
       "  'episode_len_mean': 1000.0,\n",
       "  'episode_media': {},\n",
       "  'episodes_this_iter': 10,\n",
       "  'policy_reward_min': {},\n",
       "  'policy_reward_max': {},\n",
       "  'policy_reward_mean': {},\n",
       "  'custom_metrics': {},\n",
       "  'hist_stats': {'episode_reward': [10.604559332063134,\n",
       "    10.572437709508419,\n",
       "    10.279262291241421,\n",
       "    10.964081733137586,\n",
       "    10.619429055607926,\n",
       "    8.915874825615305,\n",
       "    10.779853310666082,\n",
       "    10.771328179367021,\n",
       "    11.17313443184994,\n",
       "    10.529680458832988],\n",
       "   'episode_lengths': [1000,\n",
       "    1000,\n",
       "    1000,\n",
       "    1000,\n",
       "    1000,\n",
       "    1000,\n",
       "    1000,\n",
       "    1000,\n",
       "    1000,\n",
       "    1000]},\n",
       "  'sampler_perf': {'mean_raw_obs_processing_ms': 0.2058226279575411,\n",
       "   'mean_inference_ms': 0.6640153626849229,\n",
       "   'mean_action_processing_ms': 0.09741981963302693,\n",
       "   'mean_env_wait_ms': 0.8964955049828879,\n",
       "   'mean_env_render_ms': 0.0},\n",
       "  'num_faulty_episodes': 0,\n",
       "  'num_agent_steps_sampled_this_iter': 10000,\n",
       "  'num_env_steps_sampled_this_iter': 10000,\n",
       "  'timesteps_this_iter': 10000}}"
      ]
     },
     "execution_count": 32,
     "metadata": {},
     "output_type": "execute_result"
    }
   ],
   "source": [
    "agent.evaluate()"
   ]
  },
  {
   "cell_type": "markdown",
   "metadata": {},
   "source": [
    "## Testing the model"
   ]
  },
  {
   "cell_type": "code",
   "execution_count": 49,
   "metadata": {
    "scrolled": true
   },
   "outputs": [],
   "source": [
    "u1_for_plots = []\n",
    "u2_for_plots = []\n",
    "x1_for_plots = []\n",
    "x2_for_plots = []\n",
    "x3_for_plots = []\n",
    "\n",
    "obs = env.reset()\n",
    "for i in range(1000):\n",
    "    # inference smoothing!\n",
    "    act_mean = [0, 0]\n",
    "    for i in range(0, 4):\n",
    "        action = agent.compute_action(obs)\n",
    "        act_mean = act_mean + action\n",
    "    action = act_mean/4\n",
    "    obs, reward, done, info = env.step(action)\n",
    "    u1_for_plots = np.append(u1_for_plots, action[0])\n",
    "    u2_for_plots = np.append(u2_for_plots, action[1])\n",
    "    x1_for_plots = np.append(x1_for_plots, obs[0])\n",
    "    x2_for_plots = np.append(x2_for_plots, obs[1])\n",
    "    x3_for_plots = np.append(x3_for_plots, obs[2])\n",
    "    if done:\n",
    "      obs = env.reset()\n",
    "      break;"
   ]
  },
  {
   "cell_type": "markdown",
   "metadata": {},
   "source": [
    "## Plotting"
   ]
  },
  {
   "cell_type": "code",
   "execution_count": 50,
   "metadata": {
    "scrolled": true
   },
   "outputs": [
    {
     "data": {
      "text/plain": [
       "<matplotlib.legend.Legend at 0x7f29007f1420>"
      ]
     },
     "execution_count": 50,
     "metadata": {},
     "output_type": "execute_result"
    },
    {
     "data": {
      "image/png": "[encoded data removed]",
      "text/plain": [
       "<Figure size 432x288 with 1 Axes>"
      ]
     },
     "metadata": {
      "needs_background": "light"
     },
     "output_type": "display_data"
    }
   ],
   "source": [
    "plt.plot(x1_for_plots, label=r\"$p_1$\")\n",
    "plt.plot(x2_for_plots, label=r\"$p_2$\")\n",
    "plt.plot(x3_for_plots, label=r\"$q_1$\")\n",
    "plt.legend()"
   ]
  },
  {
   "cell_type": "code",
   "execution_count": 51,
   "metadata": {},
   "outputs": [
    {
     "data": {
      "text/plain": [
       "<matplotlib.legend.Legend at 0x7f29006410f0>"
      ]
     },
     "execution_count": 51,
     "metadata": {},
     "output_type": "execute_result"
    },
    {
     "data": {
      "image/png": "[encoded data removed]",
      "text/plain": [
       "<Figure size 432x288 with 1 Axes>"
      ]
     },
     "metadata": {
      "needs_background": "light"
     },
     "output_type": "display_data"
    }
   ],
   "source": [
    "plt.plot(u1_for_plots, label=r\"$u_1$\")\n",
    "plt.plot(u2_for_plots, label=r\"$u_2$\")\n",
    "plt.legend()"
   ]
  },
  {
   "cell_type": "code",
   "execution_count": null,
   "metadata": {},
   "outputs": [],
   "source": []
  },
  {
   "cell_type": "code",
   "execution_count": null,
   "metadata": {},
   "outputs": [],
   "source": []
  }
 ],
 "metadata": {
  "kernelspec": {
   "display_name": "Python 3 (ipykernel)",
   "language": "python",
   "name": "python3"
  },
  "language_info": {
   "codemirror_mode": {
    "name": "ipython",
    "version": 3
   },
   "file_extension": ".py",
   "mimetype": "text/x-python",
   "name": "python",
   "nbconvert_exporter": "python",
   "pygments_lexer": "ipython3",
   "version": "3.10.4"
  },
  "varInspector": {
   "cols": {
    "lenName": 16,
    "lenType": 16,
    "lenVar": 40
   },
   "kernels_config": {
    "python": {
     "delete_cmd_postfix": "",
     "delete_cmd_prefix": "del ",
     "library": "var_list.py",
     "varRefreshCmd": "print(var_dic_list())"
    },
    "r": {
     "delete_cmd_postfix": ") ",
     "delete_cmd_prefix": "rm(",
     "library": "var_list.r",
     "varRefreshCmd": "cat(var_dic_list()) "
    }
   },
   "position": {
    "height": "795px",
    "left": "1545px",
    "right": "20px",
    "top": "125px",
    "width": "354px"
   },
   "types_to_exclude": [
    "module",
    "function",
    "builtin_function_or_method",
    "instance",
    "_Feature"
   ],
   "window_display": true
  }
 },
 "nbformat": 4,
 "nbformat_minor": 2
}
