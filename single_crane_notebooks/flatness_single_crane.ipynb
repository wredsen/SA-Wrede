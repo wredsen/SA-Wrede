{
 "cells": [
  {
   "cell_type": "code",
   "execution_count": 1,
   "metadata": {},
   "outputs": [
    {
     "name": "stdout",
     "output_type": "stream",
     "text": [
      "Mon Apr 18 17:31:58 2022\n"
     ]
    }
   ],
   "source": [
    "import time\n",
    "print(time.ctime())\n",
    "%load_ext ipydex.displaytools"
   ]
  },
  {
   "cell_type": "markdown",
   "metadata": {},
   "source": [
    "**Betrachtetes System**: Brückenkran<br>\n",
    "\n",
    "<img src=\"brueckenkran.png\" width=\"400px\">\n",
    "\n",
    "**Betrachtete Fragen**:\n",
    "* Herleitung der Modellgleichungen\n",
    "* Untersuchung der Flachheit"
   ]
  },
  {
   "cell_type": "code",
   "execution_count": 2,
   "metadata": {},
   "outputs": [],
   "source": [
    "import sympy as sp\n",
    "from sympy import sin, cos, tan, pi, Matrix, Q\n",
    "from sympy.interactive import printing\n",
    "import scipy as sc\n",
    "import scipy.optimize\n",
    "\n",
    "import symbtools as st\n",
    "import symbtools.modeltools as mt\n",
    "from symbtools.modeltools import Rz\n",
    "import symbtools.noncommutativetools as nct\n",
    "\n",
    "import pycartan as pc\n",
    "\n",
    "printing.init_printing(1)"
   ]
  },
  {
   "cell_type": "code",
   "execution_count": 3,
   "metadata": {},
   "outputs": [
    {
     "data": {
      "image/png": "[encoded data removed]",
      "text/latex": [
       "qq := $\\displaystyle \\left[\\begin{matrix}q_{1}\\\\q_{2}\\\\q_{3}\\end{matrix}\\right]$"
      ],
      "text/plain": [
       "qq := ⎡q₁⎤\n",
       "⎢  ⎥\n",
       "⎢q₂⎥\n",
       "⎢  ⎥\n",
       "⎣q₃⎦"
      ]
     },
     "metadata": {},
     "output_type": "display_data"
    },
    {
     "data": {
      "text/plain": [
       "---"
      ]
     },
     "metadata": {},
     "output_type": "display_data"
    },
    {
     "data": {
      "image/png": "[encoded data removed]",
      "text/latex": [
       "qqdot := $\\displaystyle \\left[\\begin{matrix}\\dot{q}_{1}\\\\\\dot{q}_{2}\\\\\\dot{q}_{3}\\end{matrix}\\right]$"
      ],
      "text/plain": [
       "qqdot := ⎡q̇₁⎤\n",
       "⎢  ⎥\n",
       "⎢q̇₂⎥\n",
       "⎢  ⎥\n",
       "⎣q̇₃⎦"
      ]
     },
     "metadata": {},
     "output_type": "display_data"
    },
    {
     "data": {
      "text/plain": [
       "---"
      ]
     },
     "metadata": {},
     "output_type": "display_data"
    },
    {
     "data": {
      "image/png": "[encoded data removed]",
      "text/latex": [
       "qqddot := $\\displaystyle \\left[\\begin{matrix}\\ddot{q}_{1}\\\\\\ddot{q}_{2}\\\\\\ddot{q}_{3}\\end{matrix}\\right]$"
      ],
      "text/plain": [
       "qqddot := ⎡q̈₁⎤\n",
       "⎢  ⎥\n",
       "⎢q̈₂⎥\n",
       "⎢  ⎥\n",
       "⎣q̈₃⎦"
      ]
     },
     "metadata": {},
     "output_type": "display_data"
    },
    {
     "data": {
      "text/plain": [
       "---"
      ]
     },
     "metadata": {},
     "output_type": "display_data"
    }
   ],
   "source": [
    "t = sp.Symbol('t')\n",
    "np = 1 # passiv\n",
    "na = 2 # aktiv\n",
    "n = np + na\n",
    "\n",
    "qq = st.symb_vector(\"q1:{0}\".format(n+1)) ##:\n",
    "qqdot = st.time_deriv(qq, qq) ##:\n",
    "qqddot = st.time_deriv(qq, qq, order=2) ##:\n",
    "\n",
    "st.make_global(qq)\n",
    "st.make_global(qqdot)\n",
    "st.make_global(qqddot)"
   ]
  },
  {
   "cell_type": "code",
   "execution_count": 4,
   "metadata": {},
   "outputs": [
    {
     "data": {
      "image/png": "[encoded data removed]",
      "text/latex": [
       "ttau := $\\displaystyle \\left[\\begin{matrix}\\tau_{1}\\\\\\tau_{2}\\end{matrix}\\right]$"
      ],
      "text/plain": [
       "ttau := ⎡τ₁⎤\n",
       "⎢  ⎥\n",
       "⎣τ₂⎦"
      ]
     },
     "metadata": {},
     "output_type": "display_data"
    },
    {
     "data": {
      "text/plain": [
       "---"
      ]
     },
     "metadata": {},
     "output_type": "display_data"
    }
   ],
   "source": [
    "params = sp.symbols('m1, m2, g')\n",
    "st.make_global(params)\n",
    "\n",
    "ttau = st.symb_vector(\"tau1:{0}\".format(na+1)) ##:\n",
    "st.make_global(ttau)"
   ]
  },
  {
   "cell_type": "markdown",
   "metadata": {},
   "source": [
    "### Festlegung der Geometrie des mechanischen Systemes"
   ]
  },
  {
   "cell_type": "code",
   "execution_count": 5,
   "metadata": {},
   "outputs": [
    {
     "data": {
      "image/png": "[encoded data removed]",
      "text/latex": [
       "(Sd1, Sd2) := $\\displaystyle \\left( \\left[\\begin{matrix}\\dot{q}_{2}\\\\0\\end{matrix}\\right], \\  \\left[\\begin{matrix}q_{3} \\dot{q}_{1} \\cos{\\left(q_{1} \\right)} + \\dot{q}_{2} + \\dot{q}_{3} \\sin{\\left(q_{1} \\right)}\\\\q_{3} \\dot{q}_{1} \\sin{\\left(q_{1} \\right)} - \\dot{q}_{3} \\cos{\\left(q_{1} \\right)}\\end{matrix}\\right]\\right)$"
      ],
      "text/plain": [
       "(Sd1, Sd2) := ⎛⎡q̇₂⎤  ⎡q₃⋅q̇₁⋅cos(q₁) + q̇₂ + q̇₃⋅sin(q₁)⎤⎞\n",
       "⎜⎢  ⎥, ⎢                               ⎥⎟\n",
       "⎝⎣0 ⎦  ⎣  q₃⋅q̇₁⋅sin(q₁) - q̇₃⋅cos(q₁)   ⎦⎠"
      ]
     },
     "metadata": {},
     "output_type": "display_data"
    },
    {
     "data": {
      "text/plain": [
       "---"
      ]
     },
     "metadata": {},
     "output_type": "display_data"
    }
   ],
   "source": [
    "#Einheitsvektoren\n",
    "ex = sp.Matrix([1,0])\n",
    "ey = sp.Matrix([0,1])\n",
    "\n",
    "# Koordinaten der Schwerpunkte und Gelenke\n",
    "S1 = q2*ex\n",
    "S2 = S1 + Rz(q1)*(-ey)*q3\n",
    "\n",
    "# Zeitableitungen der Schwerpunktskoordinaten\n",
    "Sd1, Sd2 = st.col_split(st.time_deriv(st.col_stack(S1, S2), qq)) ##:"
   ]
  },
  {
   "cell_type": "markdown",
   "metadata": {},
   "source": []
  },
  {
   "cell_type": "code",
   "execution_count": 6,
   "metadata": {},
   "outputs": [
    {
     "data": {
      "image/png": "[encoded data removed]",
      "text/latex": [
       "T := $\\displaystyle \\frac{m_{1} \\dot{q}_{2}^{2}}{2} + \\frac{m_{2} \\left(q_{3} \\dot{q}_{1} \\sin{\\left(q_{1} \\right)} - \\dot{q}_{3} \\cos{\\left(q_{1} \\right)}\\right)^{2}}{2} + \\frac{m_{2} \\left(q_{3} \\dot{q}_{1} \\cos{\\left(q_{1} \\right)} + \\dot{q}_{2} + \\dot{q}_{3} \\sin{\\left(q_{1} \\right)}\\right)^{2}}{2}$"
      ],
      "text/plain": [
       "T :=      2                                  2                                     \n",
       "m₁⋅q̇₂    m₂⋅(q₃⋅q̇₁⋅sin(q₁) - q̇₃⋅cos(q₁))    m₂⋅(q₃⋅q̇₁⋅cos(q₁) + q̇₂ + q̇₃⋅\n",
       "────── + ──────────────────────────────── + ──────────────────────────────────\n",
       "  2                     2                                     2               \n",
       "\n",
       "  2\n",
       "sin(q₁)) \n",
       "───\n",
       "   "
      ]
     },
     "metadata": {},
     "output_type": "display_data"
    },
    {
     "data": {
      "text/plain": [
       "---"
      ]
     },
     "metadata": {},
     "output_type": "display_data"
    }
   ],
   "source": [
    "# Energie\n",
    "T_rot = 0\n",
    "T_trans = (m1*Sd1.T*Sd1 + m2*Sd2.T*Sd2)/2\n",
    "\n",
    "T = T_rot + T_trans[0] ##:\n",
    "V = m2*g*S2[1]"
   ]
  },
  {
   "cell_type": "code",
   "execution_count": 7,
   "metadata": {},
   "outputs": [],
   "source": [
    "external_forces = [0, tau1, tau2]\n",
    "assert not any(external_forces[:np])\n",
    "mod = mt.generate_symbolic_model(T, V, qq, external_forces)"
   ]
  },
  {
   "cell_type": "code",
   "execution_count": 8,
   "metadata": {},
   "outputs": [
    {
     "data": {
      "image/png": "[encoded data removed]",
      "text/latex": [
       "MM := $\\displaystyle \\left[\\begin{matrix}m_{2} q_{3}^{2} & m_{2} q_{3} \\cos{\\left(q_{1} \\right)} & 0\\\\m_{2} q_{3} \\cos{\\left(q_{1} \\right)} & m_{1} + m_{2} & m_{2} \\sin{\\left(q_{1} \\right)}\\\\0 & m_{2} \\sin{\\left(q_{1} \\right)} & m_{2}\\end{matrix}\\right]$"
      ],
      "text/plain": [
       "MM := ⎡        2                               ⎤\n",
       "⎢   m₂⋅q₃       m₂⋅q₃⋅cos(q₁)      0     ⎥\n",
       "⎢                                        ⎥\n",
       "⎢m₂⋅q₃⋅cos(q₁)     m₁ + m₂     m₂⋅sin(q₁)⎥\n",
       "⎢                                        ⎥\n",
       "⎣      0         m₂⋅sin(q₁)        m₂    ⎦"
      ]
     },
     "metadata": {},
     "output_type": "display_data"
    },
    {
     "data": {
      "text/plain": [
       "---"
      ]
     },
     "metadata": {},
     "output_type": "display_data"
    }
   ],
   "source": [
    "MM = sp.simplify(mod.MM) ##:"
   ]
  },
  {
   "cell_type": "code",
   "execution_count": 9,
   "metadata": {},
   "outputs": [
    {
     "data": {
      "image/png": "[encoded data removed]",
      "text/latex": [
       "FF := $\\displaystyle \\left[\\begin{matrix}m_{2} q_{3} \\left(g \\sin{\\left(q_{1} \\right)} + q_{3} \\ddot{q}_{1} + \\ddot{q}_{2} \\cos{\\left(q_{1} \\right)} + 2 \\dot{q}_{1} \\dot{q}_{3}\\right)\\end{matrix}\\right]$"
      ],
      "text/plain": [
       "FF := [m₂⋅q₃⋅(g⋅sin(q₁) + q₃⋅q̈₁ + q̈₂⋅cos(q₁) + 2⋅q̇₁⋅q̇₃)]"
      ]
     },
     "metadata": {},
     "output_type": "display_data"
    },
    {
     "data": {
      "text/plain": [
       "---"
      ]
     },
     "metadata": {},
     "output_type": "display_data"
    },
    {
     "data": {
      "image/png": "[encoded data removed]",
      "text/latex": [
       "FF := $\\displaystyle \\left[\\begin{matrix}g \\sin{\\left(q_{1} \\right)} + q_{3} \\ddot{q}_{1} + \\ddot{q}_{2} \\cos{\\left(q_{1} \\right)} + 2 \\dot{q}_{1} \\dot{q}_{3}\\end{matrix}\\right]$"
      ],
      "text/plain": [
       "FF := [g⋅sin(q₁) + q₃⋅q̈₁ + q̈₂⋅cos(q₁) + 2⋅q̇₁⋅q̇₃]"
      ]
     },
     "metadata": {},
     "output_type": "display_data"
    },
    {
     "data": {
      "text/plain": [
       "---"
      ]
     },
     "metadata": {},
     "output_type": "display_data"
    }
   ],
   "source": [
    "# Implizite Systemgleichung 0=FF\n",
    "FF = sp.simplify(mod.eqns[:np, :]) ##:\n",
    "# Vereinfachung\n",
    "FF = FF/(m2*q3) ##:"
   ]
  },
  {
   "cell_type": "code",
   "execution_count": 10,
   "metadata": {},
   "outputs": [],
   "source": [
    "s = sp.Symbol('s', commutative=False)"
   ]
  },
  {
   "cell_type": "markdown",
   "metadata": {},
   "source": [
    "### System in Darstellung 1. Ordnung"
   ]
  },
  {
   "cell_type": "code",
   "execution_count": 11,
   "metadata": {},
   "outputs": [],
   "source": [
    "vec_x = st.symb_vector('x1:7', commutative=False)\n",
    "vec_xdot = st.time_deriv(vec_x, vec_x)\n",
    "st.make_global(vec_x)\n",
    "st.make_global(vec_xdot)"
   ]
  },
  {
   "cell_type": "code",
   "execution_count": 12,
   "metadata": {},
   "outputs": [
    {
     "data": {
      "image/png": "[encoded data removed]",
      "text/latex": [
       "$\\displaystyle \\left[\\begin{matrix}- x_{4} + \\dot{x}_{1}\\\\- x_{5} + \\dot{x}_{2}\\\\- x_{6} + \\dot{x}_{3}\\\\g \\sin{\\left(x_{1} \\right)} + x_{3} \\dot{x}_{4} + 2 x_{4} x_{6} + \\dot{x}_{5} \\cos{\\left(x_{1} \\right)}\\end{matrix}\\right]$"
      ],
      "text/plain": [
       "⎡                -x₄ + ẋ₁                ⎤\n",
       "⎢                                        ⎥\n",
       "⎢                -x₅ + ẋ₂                ⎥\n",
       "⎢                                        ⎥\n",
       "⎢                -x₆ + ẋ₃                ⎥\n",
       "⎢                                        ⎥\n",
       "⎣g⋅sin(x₁) + x₃⋅ẋ₄ + 2⋅x₄⋅x₆ + ẋ₅⋅cos(x₁)⎦"
      ]
     },
     "execution_count": 12,
     "metadata": {},
     "output_type": "execute_result"
    }
   ],
   "source": [
    "FF_zustand = sp.Matrix([\n",
    "        [xdot1-x4],\n",
    "        [xdot2-x5],\n",
    "        [xdot3-x6],\n",
    "        [g*sin(x1)+x3*xdot4+2*x4*x6+xdot5*cos(x1)]\n",
    "    ])\n",
    "FF_zustand"
   ]
  },
  {
   "cell_type": "markdown",
   "metadata": {},
   "source": [
    "### Tangentialsystem"
   ]
  },
  {
   "cell_type": "code",
   "execution_count": 13,
   "metadata": {},
   "outputs": [
    {
     "data": {
      "image/png": "[encoded data removed]",
      "text/latex": [
       "P1 := $\\displaystyle \\left[\\begin{matrix}1 & 0 & 0 & 0 & 0 & 0\\\\0 & 1 & 0 & 0 & 0 & 0\\\\0 & 0 & 1 & 0 & 0 & 0\\\\0 & 0 & 0 & x_{3} & \\cos{\\left(x_{1} \\right)} & 0\\end{matrix}\\right]$"
      ],
      "text/plain": [
       "P1 := ⎡1  0  0  0      0     0⎤\n",
       "⎢                       ⎥\n",
       "⎢0  1  0  0      0     0⎥\n",
       "⎢                       ⎥\n",
       "⎢0  0  1  0      0     0⎥\n",
       "⎢                       ⎥\n",
       "⎣0  0  0  x₃  cos(x₁)  0⎦"
      ]
     },
     "metadata": {},
     "output_type": "display_data"
    },
    {
     "data": {
      "text/plain": [
       "---"
      ]
     },
     "metadata": {},
     "output_type": "display_data"
    },
    {
     "data": {
      "image/png": "[encoded data removed]",
      "text/latex": [
       "P0 := $\\displaystyle \\left[\\begin{matrix}0 & 0 & 0 & -1 & 0 & 0\\\\0 & 0 & 0 & 0 & -1 & 0\\\\0 & 0 & 0 & 0 & 0 & -1\\\\g \\cos{\\left(x_{1} \\right)} - \\dot{x}_{5} \\sin{\\left(x_{1} \\right)} & 0 & \\dot{x}_{4} & 2 x_{6} & 0 & 2 x_{4}\\end{matrix}\\right]$"
      ],
      "text/plain": [
       "P0 := ⎡          0             0  0    -1   0    0  ⎤\n",
       "⎢                                             ⎥\n",
       "⎢          0             0  0    0    -1   0  ⎥\n",
       "⎢                                             ⎥\n",
       "⎢          0             0  0    0    0    -1 ⎥\n",
       "⎢                                             ⎥\n",
       "⎣g⋅cos(x₁) - ẋ₅⋅sin(x₁)  0  ẋ₄  2⋅x₆  0   2⋅x₄⎦"
      ]
     },
     "metadata": {},
     "output_type": "display_data"
    },
    {
     "data": {
      "text/plain": [
       "---"
      ]
     },
     "metadata": {},
     "output_type": "display_data"
    }
   ],
   "source": [
    "P1 = FF_zustand.jacobian(vec_xdot) ##:\n",
    "P0 = FF_zustand.jacobian(vec_x) ##:"
   ]
  },
  {
   "cell_type": "markdown",
   "metadata": {},
   "source": [
    "### Unimodulare Ergänzung des Tangentialsystem"
   ]
  },
  {
   "cell_type": "code",
   "execution_count": 14,
   "metadata": {},
   "outputs": [
    {
     "data": {
      "image/png": "[encoded data removed]",
      "text/latex": [
       "basis_vec := $\\displaystyle \\left[\\begin{matrix}x_{1}\\\\x_{2}\\\\x_{3}\\\\\\dot{x}_{1}\\\\\\dot{x}_{2}\\\\\\dot{x}_{3}\\\\\\ddot{x}_{1}\\\\\\ddot{x}_{2}\\\\\\ddot{x}_{3}\\end{matrix}\\right]$"
      ],
      "text/plain": [
       "basis_vec := ⎡x₁⎤\n",
       "⎢  ⎥\n",
       "⎢x₂⎥\n",
       "⎢  ⎥\n",
       "⎢x₃⎥\n",
       "⎢  ⎥\n",
       "⎢ẋ₁⎥\n",
       "⎢  ⎥\n",
       "⎢ẋ₂⎥\n",
       "⎢  ⎥\n",
       "⎢ẋ₃⎥\n",
       "⎢  ⎥\n",
       "⎢ẍ₁⎥\n",
       "⎢  ⎥\n",
       "⎢ẍ₂⎥\n",
       "⎢  ⎥\n",
       "⎣ẍ₃⎦"
      ]
     },
     "metadata": {},
     "output_type": "display_data"
    },
    {
     "data": {
      "text/plain": [
       "---"
      ]
     },
     "metadata": {},
     "output_type": "display_data"
    }
   ],
   "source": [
    "basis_vec = st.row_stack(vec_x[:3,:], vec_xdot[:3,:], st.time_deriv(vec_xdot[:3,:],vec_xdot[:3,:])) ##:"
   ]
  },
  {
   "cell_type": "code",
   "execution_count": 15,
   "metadata": {},
   "outputs": [],
   "source": [
    "data = st.pickle_full_load(\"brueckenkran.pcl\")"
   ]
  },
  {
   "cell_type": "code",
   "execution_count": 16,
   "metadata": {},
   "outputs": [
    {
     "data": {
      "image/png": "[encoded data removed]",
      "text/latex": [
       "$\\displaystyle \\left[\\begin{matrix}- x_{4} + \\dot{x}_{1}\\\\- x_{5} + \\dot{x}_{2}\\\\- x_{6} + \\dot{x}_{3}\\\\g \\sin{\\left(x_{1} \\right)} + 2 x_{4} x_{6} + \\dot{x}_{4} x_{3} + \\cos{\\left(x_{1} \\right)} \\dot{x}_{5}\\end{matrix}\\right]$"
      ],
      "text/plain": [
       "⎡                -x₄ + ẋ₁                ⎤\n",
       "⎢                                        ⎥\n",
       "⎢                -x₅ + ẋ₂                ⎥\n",
       "⎢                                        ⎥\n",
       "⎢                -x₆ + ẋ₃                ⎥\n",
       "⎢                                        ⎥\n",
       "⎣g⋅sin(x₁) + 2⋅x₄⋅x₆ + ẋ₄⋅x₃ + cos(x₁)⋅ẋ₅⎦"
      ]
     },
     "execution_count": 16,
     "metadata": {},
     "output_type": "execute_result"
    }
   ],
   "source": [
    "data.F_eq"
   ]
  },
  {
   "cell_type": "code",
   "execution_count": 17,
   "metadata": {},
   "outputs": [
    {
     "data": {
      "image/png": "[encoded data removed]",
      "text/latex": [
       "P := $\\displaystyle \\left[\\begin{matrix}s & 0 & 0 & -1 & 0 & 0\\\\0 & s & 0 & 0 & -1 & 0\\\\0 & 0 & s & 0 & 0 & -1\\\\g \\cos{\\left(x_{1} \\right)} - \\dot{x}_{5} \\sin{\\left(x_{1} \\right)} & 0 & \\dot{x}_{4} & x_{3} s + 2 x_{6} & \\cos{\\left(x_{1} \\right)} s & 2 x_{4}\\end{matrix}\\right]$"
      ],
      "text/plain": [
       "P := ⎡          s             0  0       -1           0       0  ⎤\n",
       "⎢                                                           ⎥\n",
       "⎢          0             s  0        0          -1       0  ⎥\n",
       "⎢                                                           ⎥\n",
       "⎢          0             0  s        0           0       -1 ⎥\n",
       "⎢                                                           ⎥\n",
       "⎣g⋅cos(x₁) - ẋ₅⋅sin(x₁)  0  ẋ₄  x₃⋅s + 2⋅x₆  cos(x₁)⋅s  2⋅x₄⎦"
      ]
     },
     "metadata": {},
     "output_type": "display_data"
    },
    {
     "data": {
      "text/plain": [
       "---"
      ]
     },
     "metadata": {},
     "output_type": "display_data"
    }
   ],
   "source": [
    "# P = P1*s + P0\n",
    "P = data.P ##:"
   ]
  },
  {
   "cell_type": "code",
   "execution_count": 18,
   "metadata": {},
   "outputs": [
    {
     "data": {
      "image/png": "[encoded data removed]",
      "text/latex": [
       "H := $\\displaystyle \\left[\\begin{matrix}x_{3} & \\cos{\\left(x_{1} \\right)} & 0 & 0 & 0 & 0\\\\2 x_{6} - \\dot{x}_{1} \\tan{\\left(x_{1} \\right)} x_{3} - \\dot{x}_{3} & 0 & 2 x_{4} & x_{3} & \\cos{\\left(x_{1} \\right)} & 0\\end{matrix}\\right]$"
      ],
      "text/plain": [
       "H := ⎡           x₃              cos(x₁)   0    0      0     0⎤\n",
       "⎢                                                        ⎥\n",
       "⎣2⋅x₆ - ẋ₁⋅tan(x₁)⋅x₃ - ẋ₃     0     2⋅x₄  x₃  cos(x₁)  0⎦"
      ]
     },
     "metadata": {},
     "output_type": "display_data"
    },
    {
     "data": {
      "text/plain": [
       "---"
      ]
     },
     "metadata": {},
     "output_type": "display_data"
    }
   ],
   "source": [
    "H = data.H ##:"
   ]
  },
  {
   "cell_type": "markdown",
   "metadata": {},
   "source": [
    "### Integrabilitätsprüfung"
   ]
  },
  {
   "cell_type": "code",
   "execution_count": 19,
   "metadata": {},
   "outputs": [
    {
     "data": {
      "image/png": "[encoded data removed]",
      "text/latex": [
       "M1 := $\\displaystyle \\left[\\begin{matrix}1 & 0\\\\- s & 1\\end{matrix}\\right]$"
      ],
      "text/plain": [
       "M1 := ⎡1   0⎤\n",
       "⎢     ⎥\n",
       "⎣-s  1⎦"
      ]
     },
     "metadata": {},
     "output_type": "display_data"
    },
    {
     "data": {
      "text/plain": [
       "---"
      ]
     },
     "metadata": {},
     "output_type": "display_data"
    }
   ],
   "source": [
    "M1 = sp.Matrix([[1, 0], [-s, 1]]) ##:"
   ]
  },
  {
   "cell_type": "code",
   "execution_count": 20,
   "metadata": {},
   "outputs": [
    {
     "data": {
      "image/png": "[encoded data removed]",
      "text/latex": [
       "$\\displaystyle \\left[\\begin{matrix}x_{3} & \\cos{\\left(x_{1} \\right)} & 0 & 0 & 0 & 0 & 0 & 0 & 0\\\\2 x_{6} - \\dot{x}_{1} \\tan{\\left(x_{1} \\right)} x_{3} - \\dot{x}_{3} & 0 & 2 x_{4} & x_{3} & \\cos{\\left(x_{1} \\right)} & 0 & 0 & 0 & 0\\end{matrix}\\right]$"
      ],
      "text/plain": [
       "⎡           x₃              cos(x₁)   0    0      0     0  0  0  0⎤\n",
       "⎢                                                                 ⎥\n",
       "⎣2⋅x₆ - ẋ₁⋅tan(x₁)⋅x₃ - ẋ₃     0     2⋅x₄  x₃  cos(x₁)  0  0  0  0⎦"
      ]
     },
     "execution_count": 20,
     "metadata": {},
     "output_type": "execute_result"
    }
   ],
   "source": [
    "H_ = st.col_stack(H, sp.zeros(2,3))\n",
    "Hdx = pc.VectorDifferentialForm(1, basis_vec, coeff=H_)\n",
    "Hdx.coeff"
   ]
  },
  {
   "cell_type": "code",
   "execution_count": 21,
   "metadata": {},
   "outputs": [
    {
     "ename": "ValueError",
     "evalue": "ddt_parent was already set to x3 for symbol xdot3",
     "output_type": "error",
     "traceback": [
      "\u001b[0;31m---------------------------------------------------------------------------\u001b[0m",
      "\u001b[0;31mValueError\u001b[0m                                Traceback (most recent call last)",
      "Input \u001b[0;32mIn [21]\u001b[0m, in \u001b[0;36m<cell line: 1>\u001b[0;34m()\u001b[0m\n\u001b[0;32m----> 1\u001b[0m H1dx \u001b[38;5;241m=\u001b[39m \u001b[43mHdx\u001b[49m\u001b[38;5;241;43m.\u001b[39;49m\u001b[43mleft_mul_by\u001b[49m\u001b[43m(\u001b[49m\u001b[43mM1\u001b[49m\u001b[43m,\u001b[49m\u001b[43ms\u001b[49m\u001b[43m)\u001b[49m\n\u001b[1;32m      2\u001b[0m H1dx\u001b[38;5;241m.\u001b[39mcoeff\n",
      "File \u001b[0;32m~/.local/lib/python3.8/site-packages/pycartan/core.py:1095\u001b[0m, in \u001b[0;36mVectorDifferentialForm.left_mul_by\u001b[0;34m(self, matrix, s, additional_symbols)\u001b[0m\n\u001b[1;32m   1093\u001b[0m         new_wi \u001b[38;5;241m+\u001b[39m\u001b[38;5;241m=\u001b[39m M0[i,j] \u001b[38;5;241m*\u001b[39m \u001b[38;5;28mself\u001b[39m\u001b[38;5;241m.\u001b[39mget_differential_form(j)\n\u001b[1;32m   1094\u001b[0m         \u001b[38;5;28;01mif\u001b[39;00m \u001b[38;5;129;01mnot\u001b[39;00m s\u001b[38;5;241m==\u001b[39m\u001b[38;5;28;01mNone\u001b[39;00m:\n\u001b[0;32m-> 1095\u001b[0m             new_wi \u001b[38;5;241m+\u001b[39m\u001b[38;5;241m=\u001b[39m M1[i,j] \u001b[38;5;241m*\u001b[39m \u001b[38;5;28;43mself\u001b[39;49m\u001b[38;5;241;43m.\u001b[39;49m\u001b[43mget_differential_form\u001b[49m\u001b[43m(\u001b[49m\u001b[43mj\u001b[49m\u001b[43m)\u001b[49m\u001b[38;5;241;43m.\u001b[39;49m\u001b[43mdot\u001b[49m\u001b[43m(\u001b[49m\u001b[43madditional_symbols\u001b[49m\u001b[43m)\u001b[49m\n\u001b[1;32m   1096\u001b[0m     new_vector_form\u001b[38;5;241m.\u001b[39mappend(new_wi)\n\u001b[1;32m   1098\u001b[0m \u001b[38;5;28;01mreturn\u001b[39;00m new_vector_form\n",
      "File \u001b[0;32m~/.local/lib/python3.8/site-packages/pycartan/core.py:916\u001b[0m, in \u001b[0;36mDifferentialForm.dot\u001b[0;34m(self, additional_symbols)\u001b[0m\n\u001b[1;32m    909\u001b[0m \u001b[38;5;66;03m#diff_idcs = [basis_list.index(c) for c in nz_coords_diff]\u001b[39;00m\n\u001b[1;32m    910\u001b[0m \n\u001b[1;32m    911\u001b[0m \u001b[38;5;66;03m# assume self = a*dx1^dx3\u001b[39;00m\n\u001b[1;32m    912\u001b[0m \u001b[38;5;66;03m# result: self.dot = adot*dx1^dx3 + a*dxdot1^dx3 + a*dx1^dxdot3\u001b[39;00m\n\u001b[1;32m    913\u001b[0m \n\u001b[1;32m    914\u001b[0m \u001b[38;5;66;03m# replace the original coeff with its time derivative (adot*dx1^dx3)\u001b[39;00m\n\u001b[1;32m    915\u001b[0m \u001b[38;5;28;01mfor\u001b[39;00m idcs, c \u001b[38;5;129;01min\u001b[39;00m \u001b[38;5;28mzip\u001b[39m(idx_tups, coeffs):\n\u001b[0;32m--> 916\u001b[0m     res[idcs] \u001b[38;5;241m=\u001b[39m \u001b[43mst\u001b[49m\u001b[38;5;241;43m.\u001b[39;49m\u001b[43mtime_deriv\u001b[49m\u001b[43m(\u001b[49m\u001b[43mc\u001b[49m\u001b[43m,\u001b[49m\u001b[43m \u001b[49m\u001b[43mbasis_list\u001b[49m\u001b[43m \u001b[49m\u001b[38;5;241;43m+\u001b[39;49m\u001b[43m \u001b[49m\u001b[43madditional_symbols\u001b[49m\u001b[43m)\u001b[49m\n\u001b[1;32m    918\u001b[0m \u001b[38;5;66;03m# now for every coordinate find the basis-index of its derivative, e.g.\u001b[39;00m\n\u001b[1;32m    919\u001b[0m \u001b[38;5;66;03m# if basis is x1, x2, x3 the index of xdot2 is 4\u001b[39;00m\n\u001b[1;32m    920\u001b[0m \u001b[38;5;66;03m# set the original coeff to the corresponding place (a*dxdot1^dx3 + a*dx1^dxdot3)\u001b[39;00m\n\u001b[1;32m    921\u001b[0m \u001b[38;5;28;01mfor\u001b[39;00m idx_tup, c \u001b[38;5;129;01min\u001b[39;00m \u001b[38;5;28mzip\u001b[39m(idx_tups, coeffs):\n",
      "File \u001b[0;32m~/.local/lib/python3.8/site-packages/symbtools/time_deriv.py:192\u001b[0m, in \u001b[0;36mtime_deriv\u001b[0;34m(expr, func_symbols, prov_deriv_symbols, t_symbol, order, **kwargs)\u001b[0m\n\u001b[1;32m    189\u001b[0m \u001b[38;5;66;03m# ensure that derivs and deriv_symbols are sorted correctly\u001b[39;00m\n\u001b[1;32m    190\u001b[0m subs2 \u001b[38;5;241m=\u001b[39m _sort_func_symb_tuples(subs2, index\u001b[38;5;241m=\u001b[39m\u001b[38;5;241m0\u001b[39m)\n\u001b[0;32m--> 192\u001b[0m \u001b[43m_set_ddt_attributes\u001b[49m\u001b[43m(\u001b[49m\u001b[43msubs2\u001b[49m\u001b[43m)\u001b[49m\n\u001b[1;32m    194\u001b[0m expr1 \u001b[38;5;241m=\u001b[39m expr\u001b[38;5;241m.\u001b[39msubs(subs1)\n\u001b[1;32m    195\u001b[0m expr2 \u001b[38;5;241m=\u001b[39m expr1\u001b[38;5;241m.\u001b[39mdiff(t, order)\n",
      "File \u001b[0;32m~/.local/lib/python3.8/site-packages/symbtools/time_deriv.py:255\u001b[0m, in \u001b[0;36m_set_ddt_attributes\u001b[0;34m(rplmts_funcder_to_symb)\u001b[0m\n\u001b[1;32m    252\u001b[0m parent_symbol\u001b[38;5;241m.\u001b[39mddt_func \u001b[38;5;241m=\u001b[39m parent_func_der\n\u001b[1;32m    253\u001b[0m parent_symbol\u001b[38;5;241m.\u001b[39mddt_child \u001b[38;5;241m=\u001b[39m symbol\n\u001b[0;32m--> 255\u001b[0m symbol\u001b[38;5;241m.\u001b[39mddt_parent \u001b[38;5;241m=\u001b[39m parent_symbol\n",
      "File \u001b[0;32m~/.local/lib/python3.8/site-packages/symbtools/core.py:253\u001b[0m, in \u001b[0;36mregister_new_attribute_for_sp_symbol.<locals>.setter\u001b[0;34m(self, value)\u001b[0m\n\u001b[1;32m    251\u001b[0m \u001b[38;5;28;01mif\u001b[39;00m save_setter \u001b[38;5;129;01mand\u001b[39;00m old_value \u001b[38;5;129;01mis\u001b[39;00m \u001b[38;5;129;01mnot\u001b[39;00m \u001b[38;5;28;01mNone\u001b[39;00m \u001b[38;5;129;01mand\u001b[39;00m \u001b[38;5;129;01mnot\u001b[39;00m value \u001b[38;5;241m==\u001b[39m old_value:\n\u001b[1;32m    252\u001b[0m     msg \u001b[38;5;241m=\u001b[39m \u001b[38;5;124m\"\u001b[39m\u001b[38;5;132;01m{}\u001b[39;00m\u001b[38;5;124m was already set to \u001b[39m\u001b[38;5;132;01m{}\u001b[39;00m\u001b[38;5;124m for symbol \u001b[39m\u001b[38;5;132;01m{}\u001b[39;00m\u001b[38;5;124m\"\u001b[39m\u001b[38;5;241m.\u001b[39mformat(attrname, old_value, \u001b[38;5;28mself\u001b[39m)\n\u001b[0;32m--> 253\u001b[0m     \u001b[38;5;28;01mraise\u001b[39;00m \u001b[38;5;167;01mValueError\u001b[39;00m(msg)\n\u001b[1;32m    255\u001b[0m global_data\u001b[38;5;241m.\u001b[39mattribute_store[(\u001b[38;5;28mself\u001b[39m, attrname)] \u001b[38;5;241m=\u001b[39m value\n",
      "\u001b[0;31mValueError\u001b[0m: ddt_parent was already set to x3 for symbol xdot3"
     ]
    }
   ],
   "source": [
    "H1dx = Hdx.left_mul_by(M1,s)\n",
    "H1dx.coeff"
   ]
  },
  {
   "cell_type": "code",
   "execution_count": 22,
   "metadata": {},
   "outputs": [
    {
     "ename": "NameError",
     "evalue": "name 'H1dx' is not defined",
     "output_type": "error",
     "traceback": [
      "\u001b[0;31m---------------------------------------------------------------------------\u001b[0m",
      "\u001b[0;31mNameError\u001b[0m                                 Traceback (most recent call last)",
      "Input \u001b[0;32mIn [22]\u001b[0m, in \u001b[0;36m<module>\u001b[0;34m\u001b[0m\n\u001b[1;32m      1\u001b[0m \u001b[38;5;66;03m# Substitution mit definitorischen Gleichungen: x4=xdot1, x6=xdot3\u001b[39;00m\n\u001b[0;32m----> 2\u001b[0m H2_ \u001b[38;5;241m=\u001b[39m \u001b[43mH1dx\u001b[49m\u001b[38;5;241m.\u001b[39mcoeff\u001b[38;5;241m.\u001b[39msubs(x4, xdot1)\u001b[38;5;241m.\u001b[39msubs(x6, xdot3)\n\u001b[1;32m      3\u001b[0m H2dx \u001b[38;5;241m=\u001b[39m pc\u001b[38;5;241m.\u001b[39mVectorDifferentialForm(\u001b[38;5;241m1\u001b[39m, basis_vec, coeff\u001b[38;5;241m=\u001b[39mH2_)\n\u001b[1;32m      4\u001b[0m H2dx\u001b[38;5;241m.\u001b[39mcoeff\n",
      "\u001b[0;31mNameError\u001b[0m: name 'H1dx' is not defined"
     ]
    }
   ],
   "source": [
    "# Substitution mit definitorischen Gleichungen: x4=xdot1, x6=xdot3\n",
    "H2_ = H1dx.coeff.subs(x4, xdot1).subs(x6, xdot3)\n",
    "H2dx = pc.VectorDifferentialForm(1, basis_vec, coeff=H2_)\n",
    "H2dx.coeff"
   ]
  },
  {
   "cell_type": "code",
   "execution_count": 23,
   "metadata": {},
   "outputs": [
    {
     "ename": "NameError",
     "evalue": "name 'H2dx' is not defined",
     "output_type": "error",
     "traceback": [
      "\u001b[0;31m---------------------------------------------------------------------------\u001b[0m",
      "\u001b[0;31mNameError\u001b[0m                                 Traceback (most recent call last)",
      "Input \u001b[0;32mIn [23]\u001b[0m, in \u001b[0;36m<module>\u001b[0;34m\u001b[0m\n\u001b[1;32m      1\u001b[0m \u001b[38;5;66;03m# Betrachten der ersten 3 Spalten\u001b[39;00m\n\u001b[0;32m----> 2\u001b[0m H2_2 \u001b[38;5;241m=\u001b[39m st\u001b[38;5;241m.\u001b[39mcol_select(\u001b[43mH2dx\u001b[49m\u001b[38;5;241m.\u001b[39mcoeff, \u001b[38;5;241m0\u001b[39m, \u001b[38;5;241m1\u001b[39m, \u001b[38;5;241m2\u001b[39m) \u001b[38;5;66;03m##:\u001b[39;00m\n\u001b[1;32m      3\u001b[0m custom_display(\u001b[38;5;124m\"\u001b[39m\u001b[38;5;124mH2_2\u001b[39m\u001b[38;5;124m\"\u001b[39m, H2_2); display({\u001b[38;5;124m\"\u001b[39m\u001b[38;5;124mtext/plain\u001b[39m\u001b[38;5;124m\"\u001b[39m: \u001b[38;5;124m\"\u001b[39m\u001b[38;5;124m---\u001b[39m\u001b[38;5;124m\"\u001b[39m}, raw\u001b[38;5;241m=\u001b[39m\u001b[38;5;28;01mTrue\u001b[39;00m)\n",
      "\u001b[0;31mNameError\u001b[0m: name 'H2dx' is not defined"
     ]
    }
   ],
   "source": [
    "# Betrachten der ersten 3 Spalten\n",
    "H2_2 = st.col_select(H2dx.coeff, 0, 1, 2) ##:"
   ]
  },
  {
   "cell_type": "code",
   "execution_count": 24,
   "metadata": {},
   "outputs": [
    {
     "ename": "NameError",
     "evalue": "name 'H2_2' is not defined",
     "output_type": "error",
     "traceback": [
      "\u001b[0;31m---------------------------------------------------------------------------\u001b[0m",
      "\u001b[0;31mNameError\u001b[0m                                 Traceback (most recent call last)",
      "Input \u001b[0;32mIn [24]\u001b[0m, in \u001b[0;36m<module>\u001b[0;34m\u001b[0m\n\u001b[1;32m      1\u001b[0m \u001b[38;5;66;03m# Nichtkommutativität nicht mehr benötigt: Symbole in kommutative umwandeln\u001b[39;00m\n\u001b[0;32m----> 2\u001b[0m H2 \u001b[38;5;241m=\u001b[39m nct\u001b[38;5;241m.\u001b[39mmake_all_symbols_commutative(\u001b[43mH2_2\u001b[49m, appendix\u001b[38;5;241m=\u001b[39m\u001b[38;5;124m'\u001b[39m\u001b[38;5;124m'\u001b[39m)[\u001b[38;5;241m0\u001b[39m] \u001b[38;5;66;03m##:\u001b[39;00m\n\u001b[1;32m      3\u001b[0m custom_display(\u001b[38;5;124m\"\u001b[39m\u001b[38;5;124mH2\u001b[39m\u001b[38;5;124m\"\u001b[39m, H2); display({\u001b[38;5;124m\"\u001b[39m\u001b[38;5;124mtext/plain\u001b[39m\u001b[38;5;124m\"\u001b[39m: \u001b[38;5;124m\"\u001b[39m\u001b[38;5;124m---\u001b[39m\u001b[38;5;124m\"\u001b[39m}, raw\u001b[38;5;241m=\u001b[39m\u001b[38;5;28;01mTrue\u001b[39;00m)\n\u001b[1;32m      4\u001b[0m M2 \u001b[38;5;241m=\u001b[39m nct\u001b[38;5;241m.\u001b[39mmake_all_symbols_commutative(sp\u001b[38;5;241m.\u001b[39mMatrix([[\u001b[38;5;241m1\u001b[39m,\u001b[38;5;241m0\u001b[39m],[\u001b[38;5;241m0\u001b[39m,\u001b[38;5;241m1\u001b[39m\u001b[38;5;241m/\u001b[39mxdot1]]), appendix\u001b[38;5;241m=\u001b[39m\u001b[38;5;124m'\u001b[39m\u001b[38;5;124m'\u001b[39m)[\u001b[38;5;241m0\u001b[39m] \u001b[38;5;66;03m##:\u001b[39;00m\n",
      "\u001b[0;31mNameError\u001b[0m: name 'H2_2' is not defined"
     ]
    }
   ],
   "source": [
    "# Nichtkommutativität nicht mehr benötigt: Symbole in kommutative umwandeln\n",
    "H2 = nct.make_all_symbols_commutative(H2_2, appendix='')[0] ##:\n",
    "M2 = nct.make_all_symbols_commutative(sp.Matrix([[1,0],[0,1/xdot1]]), appendix='')[0] ##:"
   ]
  },
  {
   "cell_type": "code",
   "execution_count": 25,
   "metadata": {},
   "outputs": [
    {
     "ename": "NameError",
     "evalue": "name 'M2' is not defined",
     "output_type": "error",
     "traceback": [
      "\u001b[0;31m---------------------------------------------------------------------------\u001b[0m",
      "\u001b[0;31mNameError\u001b[0m                                 Traceback (most recent call last)",
      "Input \u001b[0;32mIn [25]\u001b[0m, in \u001b[0;36m<module>\u001b[0;34m\u001b[0m\n\u001b[0;32m----> 1\u001b[0m H3 \u001b[38;5;241m=\u001b[39m sp\u001b[38;5;241m.\u001b[39msimplify(\u001b[43mM2\u001b[49m\u001b[38;5;241m*\u001b[39mH2) \u001b[38;5;66;03m##:\u001b[39;00m\n\u001b[1;32m      2\u001b[0m custom_display(\u001b[38;5;124m\"\u001b[39m\u001b[38;5;124mH3\u001b[39m\u001b[38;5;124m\"\u001b[39m, H3); display({\u001b[38;5;124m\"\u001b[39m\u001b[38;5;124mtext/plain\u001b[39m\u001b[38;5;124m\"\u001b[39m: \u001b[38;5;124m\"\u001b[39m\u001b[38;5;124m---\u001b[39m\u001b[38;5;124m\"\u001b[39m}, raw\u001b[38;5;241m=\u001b[39m\u001b[38;5;28;01mTrue\u001b[39;00m)\n",
      "\u001b[0;31mNameError\u001b[0m: name 'M2' is not defined"
     ]
    }
   ],
   "source": [
    "H3 = sp.simplify(M2*H2) ##:"
   ]
  },
  {
   "cell_type": "code",
   "execution_count": 26,
   "metadata": {},
   "outputs": [
    {
     "data": {
      "image/png": "[encoded data removed]",
      "text/latex": [
       "M3 := $\\displaystyle \\left[\\begin{matrix}\\frac{1}{2 x_{3}} & - \\frac{1}{2 x_{3} \\tan{\\left(x_{1} \\right)}}\\\\\\frac{1}{2 \\cos{\\left(x_{1} \\right)}} & \\frac{1}{2 \\sin{\\left(x_{1} \\right)}}\\end{matrix}\\right]$"
      ],
      "text/plain": [
       "M3 := ⎡   1           -1      ⎤\n",
       "⎢  ────     ────────────⎥\n",
       "⎢  2⋅x₃     2⋅x₃⋅tan(x₁)⎥\n",
       "⎢                       ⎥\n",
       "⎢    1           1      ⎥\n",
       "⎢─────────   ─────────  ⎥\n",
       "⎣2⋅cos(x₁)   2⋅sin(x₁)  ⎦"
      ]
     },
     "metadata": {},
     "output_type": "display_data"
    },
    {
     "data": {
      "text/plain": [
       "---"
      ]
     },
     "metadata": {},
     "output_type": "display_data"
    }
   ],
   "source": [
    "M3_nct = sp.Matrix([[1/(2*x3),-1/(2*x3*tan(x1))],[1/(2*cos(x1)),1/(2*sin(x1))]])\n",
    "M3 = nct.make_all_symbols_commutative(M3_nct, appendix='')[0] ##:"
   ]
  },
  {
   "cell_type": "code",
   "execution_count": 27,
   "metadata": {},
   "outputs": [
    {
     "ename": "NameError",
     "evalue": "name 'H3' is not defined",
     "output_type": "error",
     "traceback": [
      "\u001b[0;31m---------------------------------------------------------------------------\u001b[0m",
      "\u001b[0;31mNameError\u001b[0m                                 Traceback (most recent call last)",
      "Input \u001b[0;32mIn [27]\u001b[0m, in \u001b[0;36m<module>\u001b[0;34m\u001b[0m\n\u001b[0;32m----> 1\u001b[0m H4 \u001b[38;5;241m=\u001b[39m sp\u001b[38;5;241m.\u001b[39msimplify(M3\u001b[38;5;241m*\u001b[39m\u001b[43mH3\u001b[49m) \u001b[38;5;66;03m##:\u001b[39;00m\n\u001b[1;32m      2\u001b[0m custom_display(\u001b[38;5;124m\"\u001b[39m\u001b[38;5;124mH4\u001b[39m\u001b[38;5;124m\"\u001b[39m, H4); display({\u001b[38;5;124m\"\u001b[39m\u001b[38;5;124mtext/plain\u001b[39m\u001b[38;5;124m\"\u001b[39m: \u001b[38;5;124m\"\u001b[39m\u001b[38;5;124m---\u001b[39m\u001b[38;5;124m\"\u001b[39m}, raw\u001b[38;5;241m=\u001b[39m\u001b[38;5;28;01mTrue\u001b[39;00m)\n",
      "\u001b[0;31mNameError\u001b[0m: name 'H3' is not defined"
     ]
    }
   ],
   "source": [
    "H4 = sp.simplify(M3*H3) ##:"
   ]
  },
  {
   "cell_type": "code",
   "execution_count": 28,
   "metadata": {},
   "outputs": [
    {
     "data": {
      "image/png": "[encoded data removed]",
      "text/latex": [
       "M4 := $\\displaystyle \\left[\\begin{matrix}x_{3} \\sin{\\left(x_{1} \\right)} & 0\\\\x_{3} \\cos{\\left(x_{1} \\right)} & 1\\end{matrix}\\right]$"
      ],
      "text/plain": [
       "M4 := ⎡x₃⋅sin(x₁)  0⎤\n",
       "⎢             ⎥\n",
       "⎣x₃⋅cos(x₁)  1⎦"
      ]
     },
     "metadata": {},
     "output_type": "display_data"
    },
    {
     "data": {
      "text/plain": [
       "---"
      ]
     },
     "metadata": {},
     "output_type": "display_data"
    }
   ],
   "source": [
    "M4_nct = sp.Matrix([[x3*sin(x1),0],[x3*cos(x1),1]])\n",
    "M4 = nct.make_all_symbols_commutative(M4_nct, appendix='')[0] ##:"
   ]
  },
  {
   "cell_type": "code",
   "execution_count": 29,
   "metadata": {},
   "outputs": [
    {
     "ename": "NameError",
     "evalue": "name 'H4' is not defined",
     "output_type": "error",
     "traceback": [
      "\u001b[0;31m---------------------------------------------------------------------------\u001b[0m",
      "\u001b[0;31mNameError\u001b[0m                                 Traceback (most recent call last)",
      "Input \u001b[0;32mIn [29]\u001b[0m, in \u001b[0;36m<module>\u001b[0;34m\u001b[0m\n\u001b[0;32m----> 1\u001b[0m H5 \u001b[38;5;241m=\u001b[39m sp\u001b[38;5;241m.\u001b[39msimplify(M4\u001b[38;5;241m*\u001b[39m\u001b[43mH4\u001b[49m) \u001b[38;5;66;03m##:\u001b[39;00m\n\u001b[1;32m      2\u001b[0m custom_display(\u001b[38;5;124m\"\u001b[39m\u001b[38;5;124mH5\u001b[39m\u001b[38;5;124m\"\u001b[39m, H5); display({\u001b[38;5;124m\"\u001b[39m\u001b[38;5;124mtext/plain\u001b[39m\u001b[38;5;124m\"\u001b[39m: \u001b[38;5;124m\"\u001b[39m\u001b[38;5;124m---\u001b[39m\u001b[38;5;124m\"\u001b[39m}, raw\u001b[38;5;241m=\u001b[39m\u001b[38;5;28;01mTrue\u001b[39;00m)\n",
      "\u001b[0;31mNameError\u001b[0m: name 'H4' is not defined"
     ]
    }
   ],
   "source": [
    "H5 = sp.simplify(M4*H4) ##:"
   ]
  },
  {
   "cell_type": "markdown",
   "metadata": {},
   "source": [
    "### Flachheitsnachweis"
   ]
  },
  {
   "cell_type": "code",
   "execution_count": 30,
   "metadata": {},
   "outputs": [],
   "source": [
    "basis_vec_nct = nct.make_all_symbols_commutative(basis_vec, appendix='')[0]"
   ]
  },
  {
   "cell_type": "code",
   "execution_count": 31,
   "metadata": {},
   "outputs": [
    {
     "ename": "NameError",
     "evalue": "name 'H5' is not defined",
     "output_type": "error",
     "traceback": [
      "\u001b[0;31m---------------------------------------------------------------------------\u001b[0m",
      "\u001b[0;31mNameError\u001b[0m                                 Traceback (most recent call last)",
      "Input \u001b[0;32mIn [31]\u001b[0m, in \u001b[0;36m<module>\u001b[0;34m\u001b[0m\n\u001b[0;32m----> 1\u001b[0m H5_ \u001b[38;5;241m=\u001b[39m st\u001b[38;5;241m.\u001b[39mcol_stack(\u001b[43mH5\u001b[49m, sp\u001b[38;5;241m.\u001b[39mzeros(\u001b[38;5;241m2\u001b[39m,\u001b[38;5;241m6\u001b[39m))\n\u001b[1;32m      2\u001b[0m H5_coeff_omega1 \u001b[38;5;241m=\u001b[39m st\u001b[38;5;241m.\u001b[39mrow_split(H5_, \u001b[38;5;241m0\u001b[39m)[\u001b[38;5;241m0\u001b[39m]\n\u001b[1;32m      3\u001b[0m H5_coeff_omega2 \u001b[38;5;241m=\u001b[39m st\u001b[38;5;241m.\u001b[39mrow_split(H5_, \u001b[38;5;241m1\u001b[39m)[\u001b[38;5;241m0\u001b[39m]\n",
      "\u001b[0;31mNameError\u001b[0m: name 'H5' is not defined"
     ]
    }
   ],
   "source": [
    "H5_ = st.col_stack(H5, sp.zeros(2,6))\n",
    "H5_coeff_omega1 = st.row_split(H5_, 0)[0]\n",
    "H5_coeff_omega2 = st.row_split(H5_, 1)[0]\n",
    "omega1 = pc.DifferentialForm(1, basis_vec_nct, coeff=H5_coeff_omega1) ##:\n",
    "omega2 = pc.DifferentialForm(1, basis_vec_nct, coeff=H5_coeff_omega2) ##:"
   ]
  },
  {
   "cell_type": "code",
   "execution_count": 32,
   "metadata": {},
   "outputs": [
    {
     "ename": "NameError",
     "evalue": "name 'omega1' is not defined",
     "output_type": "error",
     "traceback": [
      "\u001b[0;31m---------------------------------------------------------------------------\u001b[0m",
      "\u001b[0;31mNameError\u001b[0m                                 Traceback (most recent call last)",
      "Input \u001b[0;32mIn [32]\u001b[0m, in \u001b[0;36m<module>\u001b[0;34m\u001b[0m\n\u001b[0;32m----> 1\u001b[0m \u001b[43momega1\u001b[49m\u001b[38;5;241m.\u001b[39md\n",
      "\u001b[0;31mNameError\u001b[0m: name 'omega1' is not defined"
     ]
    }
   ],
   "source": [
    "omega1.d"
   ]
  },
  {
   "cell_type": "code",
   "execution_count": 33,
   "metadata": {},
   "outputs": [
    {
     "ename": "NameError",
     "evalue": "name 'omega2' is not defined",
     "output_type": "error",
     "traceback": [
      "\u001b[0;31m---------------------------------------------------------------------------\u001b[0m",
      "\u001b[0;31mNameError\u001b[0m                                 Traceback (most recent call last)",
      "Input \u001b[0;32mIn [33]\u001b[0m, in \u001b[0;36m<module>\u001b[0;34m\u001b[0m\n\u001b[0;32m----> 1\u001b[0m \u001b[43momega2\u001b[49m\u001b[38;5;241m.\u001b[39md\n",
      "\u001b[0;31mNameError\u001b[0m: name 'omega2' is not defined"
     ]
    }
   ],
   "source": [
    "omega2.d"
   ]
  },
  {
   "cell_type": "markdown",
   "metadata": {},
   "source": [
    "### Berechnung eines flachen Ausgangs"
   ]
  },
  {
   "cell_type": "code",
   "execution_count": 34,
   "metadata": {},
   "outputs": [
    {
     "ename": "NameError",
     "evalue": "name 'omega1' is not defined",
     "output_type": "error",
     "traceback": [
      "\u001b[0;31m---------------------------------------------------------------------------\u001b[0m",
      "\u001b[0;31mNameError\u001b[0m                                 Traceback (most recent call last)",
      "Input \u001b[0;32mIn [34]\u001b[0m, in \u001b[0;36m<module>\u001b[0;34m\u001b[0m\n\u001b[0;32m----> 1\u001b[0m y1 \u001b[38;5;241m=\u001b[39m \u001b[43momega1\u001b[49m\u001b[38;5;241m.\u001b[39mintegrate()\n",
      "\u001b[0;31mNameError\u001b[0m: name 'omega1' is not defined"
     ]
    }
   ],
   "source": [
    "y1 = omega1.integrate() ##"
   ]
  },
  {
   "cell_type": "code",
   "execution_count": 35,
   "metadata": {},
   "outputs": [
    {
     "ename": "NameError",
     "evalue": "name 'omega2' is not defined",
     "output_type": "error",
     "traceback": [
      "\u001b[0;31m---------------------------------------------------------------------------\u001b[0m",
      "\u001b[0;31mNameError\u001b[0m                                 Traceback (most recent call last)",
      "Input \u001b[0;32mIn [35]\u001b[0m, in \u001b[0;36m<module>\u001b[0;34m\u001b[0m\n\u001b[0;32m----> 1\u001b[0m y2 \u001b[38;5;241m=\u001b[39m \u001b[43momega2\u001b[49m\u001b[38;5;241m.\u001b[39mintegrate()\n",
      "\u001b[0;31mNameError\u001b[0m: name 'omega2' is not defined"
     ]
    }
   ],
   "source": [
    "y2 = omega2.integrate() ##"
   ]
  },
  {
   "cell_type": "code",
   "execution_count": null,
   "metadata": {},
   "outputs": [],
   "source": []
  }
 ],
 "metadata": {
  "kernelspec": {
   "display_name": "Python 3 (ipykernel)",
   "language": "python",
   "name": "python3"
  },
  "language_info": {
   "codemirror_mode": {
    "name": "ipython",
    "version": 3
   },
   "file_extension": ".py",
   "mimetype": "text/x-python",
   "name": "python",
   "nbconvert_exporter": "python",
   "pygments_lexer": "ipython3",
   "version": "3.8.10"
  },
  "varInspector": {
   "cols": {
    "lenName": 16,
    "lenType": 16,
    "lenVar": 40
   },
   "kernels_config": {
    "python": {
     "delete_cmd_postfix": "",
     "delete_cmd_prefix": "del ",
     "library": "var_list.py",
     "varRefreshCmd": "print(var_dic_list())"
    },
    "r": {
     "delete_cmd_postfix": ") ",
     "delete_cmd_prefix": "rm(",
     "library": "var_list.r",
     "varRefreshCmd": "cat(var_dic_list()) "
    }
   },
   "position": {
    "height": "874.844px",
    "left": "1876px",
    "right": "20px",
    "top": "175px",
    "width": "387px"
   },
   "types_to_exclude": [
    "module",
    "function",
    "builtin_function_or_method",
    "instance",
    "_Feature"
   ],
   "window_display": true
  }
 },
 "nbformat": 4,
 "nbformat_minor": 1
}
