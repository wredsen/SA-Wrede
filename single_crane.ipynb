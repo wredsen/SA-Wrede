{
 "cells": [
  {
   "cell_type": "markdown",
   "metadata": {},
   "source": [
    "# Single Crane as Part of a Gantry Crane: Derivation of Equations of Motion and Simulation\n",
    "\n",
    "Strongly inspired by [Bolorkhuu Dariimaa](http://bolorkhuu.com/about.html) (2017), [Carsten Knoll](https://tu-dresden.de/ing/elektrotechnik/rst/das-institut/beschaeftigte/carsten-knoll) (2021) \n",
    "\n",
    "This notebook requires the python packages `ipydex` and `symbtools`. To install these, one might use:\n",
    "\n",
    "```\n",
    "\n",
    "!pip install ipydex symbtools\n",
    "\n",
    "```\n",
    "\n",
    "---\n"
   ]
  },
  {
   "cell_type": "code",
   "execution_count": 114,
   "metadata": {},
   "outputs": [
    {
     "name": "stdout",
     "output_type": "stream",
     "text": [
      "The ipydex.displaytools extension is already loaded. To reload it, use:\n",
      "  %reload_ext ipydex.displaytools\n"
     ]
    },
    {
     "data": {
      "text/plain": [
       "'Thu Apr  7 11:04:42 2022'"
      ]
     },
     "execution_count": 114,
     "metadata": {},
     "output_type": "execute_result"
    }
   ],
   "source": [
    "%load_ext ipydex.displaytools\n",
    "\n",
    "from sympy import sin, cos, Function\n",
    "import numpy as npy\n",
    "np = npy\n",
    "import sympy as sp\n",
    "import sys\n",
    "import pickle\n",
    "import numpy as np\n",
    "import symbtools as st\n",
    "from symbtools import modeltools as mt\n",
    "import pickle\n",
    "np.set_printoptions(precision=3, suppress=True)\n",
    "\n",
    "from matplotlib import pyplot as plt\n",
    "import time\n",
    "time.ctime()"
   ]
  },
  {
   "cell_type": "code",
   "execution_count": 115,
   "metadata": {},
   "outputs": [],
   "source": [
    "from sympy.interactive import printing\n",
    "printing.init_printing()"
   ]
  },
  {
   "cell_type": "markdown",
   "metadata": {},
   "source": [
    "Image:\n",
    "\n",
    "<img src=\"single_crane_diagram.svg\">"
   ]
  },
  {
   "cell_type": "code",
   "execution_count": 152,
   "metadata": {},
   "outputs": [
    {
     "data": {
      "text/latex": [
       "ttheta.T := $\\displaystyle \\left[\\begin{matrix}p_{1} & q_{1}\\end{matrix}\\right]$"
      ],
      "text/plain": [
       "ttheta.T := [p₁  q₁]"
      ]
     },
     "metadata": {},
     "output_type": "display_data"
    },
    {
     "data": {
      "text/plain": [
       "---"
      ]
     },
     "metadata": {},
     "output_type": "display_data"
    },
    {
     "data": {
      "text/latex": [
       "tthetad.T := $\\displaystyle \\left[\\begin{matrix}\\dot{p}_{1} & \\dot{q}_{1}\\end{matrix}\\right]$"
      ],
      "text/plain": [
       "tthetad.T := [ṗ₁  q̇₁]"
      ]
     },
     "metadata": {},
     "output_type": "display_data"
    },
    {
     "data": {
      "text/plain": [
       "---"
      ]
     },
     "metadata": {},
     "output_type": "display_data"
    },
    {
     "data": {
      "text/latex": [
       "tthetadd.T := $\\displaystyle \\left[\\begin{matrix}\\ddot{p}_{1} & \\ddot{q}_{1}\\end{matrix}\\right]$"
      ],
      "text/plain": [
       "tthetadd.T := [p̈₁  q̈₁]"
      ]
     },
     "metadata": {},
     "output_type": "display_data"
    },
    {
     "data": {
      "text/plain": [
       "---"
      ]
     },
     "metadata": {},
     "output_type": "display_data"
    }
   ],
   "source": [
    "t = sp.Symbol('t')\n",
    "params = sp.symbols('m0, m1, l1, g, d0, d1')\n",
    "\n",
    "st.make_global(params)\n",
    "\n",
    "# TODO: System identification -> d0, d1\n",
    "params_values = [(m0, 0.557), (m1, 0.1), (l1, 0.32), (g, 9.81),\n",
    "                 (d0, 0.01), (d1, 0.01)]\n",
    "\n",
    "F = sp.Symbol('F')\n",
    "\n",
    "Np = 1 # number of passive coordinates (phi1)\n",
    "Nq = 1 # number of actuated coordinates (x0)\n",
    "n = Np + Nq\n",
    "pp = st.symb_vector(\"p1:{0}\".format(Np+1))\n",
    "qq = st.symb_vector(\"q1:{0}\".format(Nq+1))\n",
    "\n",
    "# all coordinates and their derivatives\n",
    "ttheta = st.row_stack(pp, qq) ##:T\n",
    "tthetad = st.time_deriv(ttheta, ttheta) ##:T\n",
    "tthetadd = st.time_deriv(ttheta, ttheta, order=2) ##:T\n",
    "st.make_global(ttheta, tthetad)\n"
   ]
  },
  {
   "cell_type": "markdown",
   "metadata": {},
   "source": [
    "Meaning of the variables: absolut values!\n",
    "\n",
    "$[p_1, q_1] = [\\varphi_1, x_0]$"
   ]
  },
  {
   "cell_type": "code",
   "execution_count": 153,
   "metadata": {},
   "outputs": [
    {
     "data": {
      "text/latex": [
       "G0 := $\\displaystyle \\left[\\begin{matrix}q_{1}\\\\0\\end{matrix}\\right]$"
      ],
      "text/plain": [
       "G0 := ⎡q₁⎤\n",
       "⎢  ⎥\n",
       "⎣0 ⎦"
      ]
     },
     "metadata": {},
     "output_type": "display_data"
    },
    {
     "data": {
      "text/plain": [
       "---"
      ]
     },
     "metadata": {},
     "output_type": "display_data"
    },
    {
     "data": {
      "text/latex": [
       "G1 := $\\displaystyle \\left[\\begin{matrix}- l_{1} \\sin{\\left(p_{1} \\right)} + q_{1}\\\\l_{1} \\cos{\\left(p_{1} \\right)}\\end{matrix}\\right]$"
      ],
      "text/plain": [
       "G1 := ⎡-l₁⋅sin(p₁) + q₁⎤\n",
       "⎢                ⎥\n",
       "⎣   l₁⋅cos(p₁)   ⎦"
      ]
     },
     "metadata": {},
     "output_type": "display_data"
    },
    {
     "data": {
      "text/plain": [
       "---"
      ]
     },
     "metadata": {},
     "output_type": "display_data"
    }
   ],
   "source": [
    "# Unit vectors in x-y-plane\n",
    "ex = sp.Matrix([1, 0])\n",
    "ey = sp.Matrix([0, 1])\n",
    "# Rotation matrix in x-y-plane\n",
    "Rz = mt.Rz\n",
    "\n",
    "# centers of masses -> S\n",
    "# joints -> G\n",
    "\n",
    "S0 = G0 = ex*q1 ##:\n",
    "\n",
    "S1 = G1 =  G0 + Rz(p1)*ey*l1 ##:\n"
   ]
  },
  {
   "cell_type": "code",
   "execution_count": 154,
   "metadata": {},
   "outputs": [
    {
     "data": {
      "text/latex": [
       "(S0dt, S1dt) := $\\displaystyle \\left( \\left[\\begin{matrix}\\dot{q}_{1}\\\\0\\end{matrix}\\right], \\  \\left[\\begin{matrix}- l_{1} \\dot{p}_{1} \\cos{\\left(p_{1} \\right)} + \\dot{q}_{1}\\\\- l_{1} \\dot{p}_{1} \\sin{\\left(p_{1} \\right)}\\end{matrix}\\right]\\right)$"
      ],
      "text/plain": [
       "(S0dt, S1dt) := ⎛⎡q̇₁⎤  ⎡-l₁⋅ṗ₁⋅cos(p₁) + q̇₁⎤⎞\n",
       "⎜⎢  ⎥, ⎢                   ⎥⎟\n",
       "⎝⎣0 ⎦  ⎣  -l₁⋅ṗ₁⋅sin(p₁)   ⎦⎠"
      ]
     },
     "metadata": {},
     "output_type": "display_data"
    },
    {
     "data": {
      "text/plain": [
       "---"
      ]
     },
     "metadata": {},
     "output_type": "display_data"
    }
   ],
   "source": [
    "# Time derivatives of coordinates of the centers of masses\n",
    "S0dt, S1dt = st.col_split(st.time_deriv(st.col_stack(S0, S1), ttheta)) ##:"
   ]
  },
  {
   "cell_type": "code",
   "execution_count": 155,
   "metadata": {},
   "outputs": [],
   "source": [
    "# kinetic energy of the cart\n",
    "T0 = 0.5 * m0 * qdot1**2\n",
    "# kinetic energy of pendulum\n",
    "T1 = 0.5 * m1 * (S1dt.T * S1dt)[0]\n",
    "\n",
    "# total kinetic energy\n",
    "T = T0 + T1\n",
    "\n",
    "# total potential energy\n",
    "V = g * m1 * (l1 - S1[1])\n",
    "\n",
    "# viscous friction\n",
    "# TODO: is this calculation correct?\n",
    "R = 0.5 * d0 * qdot1**2 + 0.5 * d1 * pdot1**2"
   ]
  },
  {
   "cell_type": "code",
   "execution_count": 156,
   "metadata": {},
   "outputs": [
    {
     "data": {
      "text/latex": [
       "key_point_pos_expr := $\\displaystyle \\left[\\begin{matrix}q_{1} & q_{1} - 0.32 \\sin{\\left(p_{1} \\right)} & q_{1} - 0.32 \\sin{\\left(p_{1} \\right)}\\\\0 & 0.32 \\cos{\\left(p_{1} \\right)} & 0.32 \\cos{\\left(p_{1} \\right)}\\end{matrix}\\right]$"
      ],
      "text/plain": [
       "key_point_pos_expr := ⎡q₁  q₁ - 0.32⋅sin(p₁)  q₁ - 0.32⋅sin(p₁)⎤\n",
       "⎢                                        ⎥\n",
       "⎣0     0.32⋅cos(p₁)       0.32⋅cos(p₁)   ⎦"
      ]
     },
     "metadata": {},
     "output_type": "display_data"
    },
    {
     "data": {
      "text/plain": [
       "---"
      ]
     },
     "metadata": {},
     "output_type": "display_data"
    }
   ],
   "source": [
    "# joints and centers of mass for visualization\n",
    "key_point_pos_expr = st.col_stack(G0, G1, S1).subs(params_values) ##:\n",
    "key_point_pos_func = st.expr_to_func(ttheta, key_point_pos_expr, keep_shape=True)"
   ]
  },
  {
   "cell_type": "markdown",
   "metadata": {},
   "source": [
    "### Visualization of kinematics (optional, just for didactic or debug purpose)"
   ]
  },
  {
   "cell_type": "code",
   "execution_count": 157,
   "metadata": {},
   "outputs": [
    {
     "data": {
      "application/vnd.jupyter.widget-view+json": {
       "model_id": "c51bae67bbf246d8802d092d533b437b",
       "version_major": 2,
       "version_minor": 0
      },
      "text/plain": [
       "interactive(children=(FloatSlider(value=3.1207963267948964, description='p1', max=4.71238898038469, min=1.5707…"
      ]
     },
     "metadata": {},
     "output_type": "display_data"
    }
   ],
   "source": [
    "%matplotlib inline\n",
    "\n",
    "def plot_func(p1, q1, lines=None, init=False):\n",
    "    \n",
    "    res_arr = key_point_pos_func(p1, q1)\n",
    "    \n",
    "    # joints\n",
    "    xxg, yyg = res_arr[:, :2] \n",
    "    \n",
    "    # centers of mass\n",
    "    xxs, yys = res_arr[:, 2:]\n",
    "    \n",
    "    \n",
    "    # G0, G1, S1 = res_arr.T    \n",
    "    \n",
    "    if lines is None:\n",
    "        fig = plt.figure(figsize=(16, 6))\n",
    "        ax = fig.add_subplot(111, autoscale_on=False, xlim=(-2.3,2.3), ylim=(-1.3,1.3))\n",
    "        ax.set_aspect('equal')\n",
    "        \n",
    "        # plot joints and their connection\n",
    "        line1, = ax.plot(xxg, yyg,\"b-o\")\n",
    "        # plot mass m1\n",
    "        line2, = ax.plot(xxs, yys,\"r.\")\n",
    "        \n",
    "        if init:\n",
    "            return fig, ax, line1, line2\n",
    "\n",
    "    else:\n",
    "        line1, line2 = lines\n",
    "        line1.set_data(xxg, yyg)\n",
    "        line2.set_data(xxs, yys)\n",
    "        \n",
    "        return line1, line2\n",
    "\n",
    "from ipywidgets import interact\n",
    "@interact(p1=(np.pi/2, 3*np.pi/2, .05), q1=(-2, 2, .1))\n",
    "def i_plot(p1, q1):\n",
    "    plot_func(p1, q1)\n",
    "    \n",
    "    "
   ]
  },
  {
   "cell_type": "code",
   "execution_count": 158,
   "metadata": {},
   "outputs": [
    {
     "data": {
      "image/png": "[encoded data removed]",
      "text/latex": [
       "external_forces := $\\displaystyle \\left[ 0, \\  F\\right]$"
      ],
      "text/plain": [
       "external_forces := [0, F]"
      ]
     },
     "metadata": {},
     "output_type": "display_data"
    },
    {
     "data": {
      "text/plain": [
       "---"
      ]
     },
     "metadata": {},
     "output_type": "display_data"
    }
   ],
   "source": [
    "# Force applied at ttheta\n",
    "external_forces = [0, F] ##:"
   ]
  },
  {
   "cell_type": "code",
   "execution_count": 159,
   "metadata": {},
   "outputs": [
    {
     "name": "stdout",
     "output_type": "stream",
     "text": [
      "CPU times: user 314 ms, sys: 0 ns, total: 314 ms\n",
      "Wall time: 311 ms\n",
      "CPU times: user 29 ms, sys: 0 ns, total: 29 ms\n",
      "Wall time: 28.9 ms\n"
     ]
    }
   ],
   "source": [
    "\n",
    "\n",
    "if 1:\n",
    "    # Calculate the model based on lagrange equation\n",
    "    %time mod = mt.generate_symbolic_model(T, V, ttheta, external_forces)\n",
    "    \n",
    "    # TODO: What is exactly meant by this?\n",
    "    # perform partial linearization such that system input is acceleration and not force\n",
    "    %time mod.calc_coll_part_lin_state_eq()\n",
    "    \n",
    "    # write the model to disk to save time in the next run of the notebook\n",
    "    with open(\"model_single_crane.pcl\", \"wb\") as pfile:\n",
    "        pickle.dump(mod, pfile)\n",
    "else:\n",
    "    with open(\"model_single_crane.pcl\", \"rb\") as pfile:\n",
    "        mod = pickle.load(pfile)"
   ]
  },
  {
   "cell_type": "code",
   "execution_count": 160,
   "metadata": {},
   "outputs": [
    {
     "data": {
      "text/latex": [
       "(st.gradient(R, tthetad).smplf.T) := $\\displaystyle \\left[\\begin{matrix}1.0 d_{1} \\dot{p}_{1}\\\\1.0 d_{0} \\dot{q}_{1}\\end{matrix}\\right]$"
      ],
      "text/plain": [
       "(st.gradient(R, tthetad).smplf.T) := ⎡1.0⋅d₁⋅ṗ₁⎤\n",
       "⎢         ⎥\n",
       "⎣1.0⋅d₀⋅q̇₁⎦"
      ]
     },
     "metadata": {},
     "output_type": "display_data"
    },
    {
     "data": {
      "text/plain": [
       "---"
      ]
     },
     "metadata": {},
     "output_type": "display_data"
    }
   ],
   "source": [
    "# Gradient of dissipative force R\n",
    "st.gradient(R, tthetad).smplf.T ##:"
   ]
  },
  {
   "cell_type": "code",
   "execution_count": 161,
   "metadata": {
    "scrolled": false
   },
   "outputs": [
    {
     "data": {
      "image/png": "[encoded data removed]",
      "text/latex": [
       "rhs.shape := $\\displaystyle \\left( 4, \\  1\\right)$"
      ],
      "text/plain": [
       "rhs.shape := (4, 1)"
      ]
     },
     "metadata": {},
     "output_type": "display_data"
    },
    {
     "data": {
      "text/plain": [
       "---"
      ]
     },
     "metadata": {},
     "output_type": "display_data"
    }
   ],
   "source": [
    "# TODO: \n",
    "# System of ODEs, rhs = f(x) + g(x)*u, u = q1dd after partial linearization\n",
    "rhs = mod.ff + mod.gg*mod.aa ##:S"
   ]
  },
  {
   "cell_type": "code",
   "execution_count": 162,
   "metadata": {},
   "outputs": [
    {
     "data": {
      "image/png": "[encoded data removed]",
      "text/latex": [
       "$\\displaystyle 8$"
      ],
      "text/plain": [
       "8"
      ]
     },
     "execution_count": 162,
     "metadata": {},
     "output_type": "execute_result"
    }
   ],
   "source": [
    "# count ops -> how big is the expression?\n",
    "rhs[2].co"
   ]
  },
  {
   "cell_type": "code",
   "execution_count": 163,
   "metadata": {},
   "outputs": [
    {
     "name": "stdout",
     "output_type": "stream",
     "text": [
      "\\left(\\begin{matrix}\n",
      "l_{1} m_{1} \\left(g \\sin{\\left(p_{1} \\right)} + l_{1} \\ddot{p}_{1} - \\ddot{q}_{1} \\cos{\\left(p_{1} \\right)}\\right)\\\\\n",
      "- F + 1.0 m_{0} \\ddot{q}_{1} + m_{1} \\left(- l_{1} \\ddot{p}_{1} \\cos{\\left(p_{1} \\right)} + l_{1} \\dot{p}_{1}^{2} \\sin{\\left(p_{1} \\right)} + \\ddot{q}_{1}\\right)\n",
      "\\end{matrix}\\right)\n",
      "% -------------\n"
     ]
    }
   ],
   "source": [
    "# equations of motions generate LaTeX-Code for the video:\n",
    "from symbtools import interactive_aux as ia\n",
    "ia.adapted_latex(mod.eqns)"
   ]
  },
  {
   "cell_type": "code",
   "execution_count": 164,
   "metadata": {},
   "outputs": [
    {
     "data": {
      "text/latex": [
       "$\\displaystyle \\left[\\begin{matrix}l_{1} m_{1} \\left(g \\sin{\\left(p_{1} \\right)} + l_{1} \\ddot{p}_{1} - \\ddot{q}_{1} \\cos{\\left(p_{1} \\right)}\\right)\\\\- F + 1.0 m_{0} \\ddot{q}_{1} + m_{1} \\left(- l_{1} \\ddot{p}_{1} \\cos{\\left(p_{1} \\right)} + l_{1} \\dot{p}_{1}^{2} \\sin{\\left(p_{1} \\right)} + \\ddot{q}_{1}\\right)\\end{matrix}\\right]$"
      ],
      "text/plain": [
       "⎡          l₁⋅m₁⋅(g⋅sin(p₁) + l₁⋅p̈₁ - q̈₁⋅cos(p₁))          ⎤\n",
       "⎢                                                          ⎥\n",
       "⎢                    ⎛                      2             ⎞⎥\n",
       "⎣-F + 1.0⋅m₀⋅q̈₁ + m₁⋅⎝-l₁⋅p̈₁⋅cos(p₁) + l₁⋅ṗ₁ ⋅sin(p₁) + q̈₁⎠⎦"
      ]
     },
     "execution_count": 164,
     "metadata": {},
     "output_type": "execute_result"
    }
   ],
   "source": [
    "mod.eqns"
   ]
  },
  {
   "cell_type": "code",
   "execution_count": 165,
   "metadata": {},
   "outputs": [
    {
     "data": {
      "image/png": "[encoded data removed]",
      "text/latex": [
       "rhs_v.shape := $\\displaystyle \\left( 4, \\  1\\right)$"
      ],
      "text/plain": [
       "rhs_v.shape := (4, 1)"
      ]
     },
     "metadata": {},
     "output_type": "display_data"
    },
    {
     "data": {
      "text/plain": [
       "---"
      ]
     },
     "metadata": {},
     "output_type": "display_data"
    }
   ],
   "source": [
    "rhs_v = rhs.subs(params_values) ##:S"
   ]
  },
  {
   "cell_type": "code",
   "execution_count": 166,
   "metadata": {
    "scrolled": true
   },
   "outputs": [
    {
     "data": {
      "text/latex": [
       "$\\displaystyle \\left[\\begin{matrix}1\\\\1\\\\7\\\\1\\end{matrix}\\right]$"
      ],
      "text/plain": [
       "⎡1⎤\n",
       "⎢ ⎥\n",
       "⎢1⎥\n",
       "⎢ ⎥\n",
       "⎢7⎥\n",
       "⎢ ⎥\n",
       "⎣1⎦"
      ]
     },
     "execution_count": 166,
     "metadata": {},
     "output_type": "execute_result"
    }
   ],
   "source": [
    "# count_ops for each component (after substitution of numerical values)\n",
    "rhs_v.co"
   ]
  },
  {
   "cell_type": "code",
   "execution_count": 167,
   "metadata": {},
   "outputs": [
    {
     "data": {
      "image/png": "[encoded data removed]",
      "text/latex": [
       "$\\displaystyle \\left\\{p_{1}, \\dot{p}_{1}, \\ddot{q}_{1}, \\dot{q}_{1}\\right\\}$"
      ],
      "text/plain": [
       "{p₁, ṗ₁, q̈₁, q̇₁}"
      ]
     },
     "execution_count": 167,
     "metadata": {},
     "output_type": "execute_result"
    }
   ],
   "source": [
    "# which symbols are still occurring?\n",
    "rhs_v.s"
   ]
  },
  {
   "cell_type": "code",
   "execution_count": 168,
   "metadata": {},
   "outputs": [],
   "source": [
    "# total energy:\n",
    "\n",
    "Eges = T + V"
   ]
  },
  {
   "cell_type": "code",
   "execution_count": 169,
   "metadata": {},
   "outputs": [],
   "source": [
    "Edot = st.lie_deriv(Eges, mod.ff, mod.xx)\n",
    "\n",
    "Edot_conservative = Edot.subz0([d0, d1])"
   ]
  },
  {
   "cell_type": "code",
   "execution_count": 170,
   "metadata": {},
   "outputs": [
    {
     "data": {
      "image/png": "[encoded data removed]",
      "text/latex": [
       "$\\displaystyle \\left\\{g, l_{1}, m_{1}, p_{1}, \\dot{p}_{1}, \\dot{q}_{1}\\right\\}$"
      ],
      "text/plain": [
       "{g, l₁, m₁, p₁, ṗ₁, q̇₁}"
      ]
     },
     "execution_count": 170,
     "metadata": {},
     "output_type": "execute_result"
    }
   ],
   "source": [
    "Edot_conservative.s"
   ]
  },
  {
   "cell_type": "code",
   "execution_count": 171,
   "metadata": {},
   "outputs": [
    {
     "data": {
      "image/png": "[encoded data removed]",
      "text/latex": [
       "(Edot_test.co) := $\\displaystyle 26$"
      ],
      "text/plain": [
       "(Edot_test.co) := 26"
      ]
     },
     "metadata": {},
     "output_type": "display_data"
    },
    {
     "data": {
      "text/plain": [
       "---"
      ]
     },
     "metadata": {},
     "output_type": "display_data"
    },
    {
     "data": {
      "image/png": "[encoded data removed]",
      "text/latex": [
       "$\\displaystyle 0$"
      ],
      "text/plain": [
       "0"
      ]
     },
     "execution_count": 171,
     "metadata": {},
     "output_type": "execute_result"
    }
   ],
   "source": [
    "# plausibility check: Edot should be zero if qdot1 = 0.\n",
    "\n",
    "Edot_test = Edot.subs(qdot1, 0)\n",
    "\n",
    "# However the expresion is too large to be simplified in reasonable time\n",
    "Edot_test.co ##:\n",
    "\n",
    "# evaluate with `subs_random_numbers` and check that the expression is \"zero up to numerical noise\"\n",
    "Edot_test.srn"
   ]
  },
  {
   "cell_type": "markdown",
   "metadata": {},
   "source": [
    "## Create Simulation Model\n",
    "without any actuation (i.e. no tranqulisation controller is active)"
   ]
  },
  {
   "cell_type": "code",
   "execution_count": 172,
   "metadata": {},
   "outputs": [],
   "source": [
    "simmod = st.SimulationModel(mod.ff, mod.gg, mod.xx, model_parameters=params_values)"
   ]
  },
  {
   "cell_type": "code",
   "execution_count": 173,
   "metadata": {},
   "outputs": [],
   "source": [
    "rhs = simmod.create_simfunction()\n"
   ]
  },
  {
   "cell_type": "code",
   "execution_count": 174,
   "metadata": {},
   "outputs": [],
   "source": [
    "xx0 = np.array([0.75*np.pi, 0, 0, 0])"
   ]
  },
  {
   "cell_type": "code",
   "execution_count": 175,
   "metadata": {},
   "outputs": [],
   "source": [
    "from scipy.integrate import odeint"
   ]
  },
  {
   "cell_type": "code",
   "execution_count": 176,
   "metadata": {},
   "outputs": [
    {
     "data": {
      "image/png": "[encoded data removed]",
      "text/latex": [
       "res.shape := $\\displaystyle \\left( 1000, \\  4\\right)$"
      ],
      "text/plain": [
       "res.shape := (1000, 4)"
      ]
     },
     "metadata": {},
     "output_type": "display_data"
    },
    {
     "data": {
      "text/plain": [
       "---"
      ]
     },
     "metadata": {},
     "output_type": "display_data"
    }
   ],
   "source": [
    "# simulate 5 seconds\n",
    "tt = np.linspace(0, 15, 1000)\n",
    "res = odeint(rhs, xx0, tt)  ##:S"
   ]
  },
  {
   "cell_type": "code",
   "execution_count": 177,
   "metadata": {},
   "outputs": [],
   "source": [
    "Eges_subs = Eges.subs(params_values)\n",
    "Eges_func = st.expr_to_func(mod.xx, Eges_subs)"
   ]
  },
  {
   "cell_type": "code",
   "execution_count": 178,
   "metadata": {},
   "outputs": [
    {
     "data": {
      "image/png": "[encoded data removed]",
      "text/latex": [
       "(Eges_subs.s) := $\\displaystyle \\left\\{p_{1}, \\dot{p}_{1}, \\dot{q}_{1}\\right\\}$"
      ],
      "text/plain": [
       "(Eges_subs.s) := {p₁, ṗ₁, q̇₁}"
      ]
     },
     "metadata": {},
     "output_type": "display_data"
    },
    {
     "data": {
      "text/plain": [
       "---"
      ]
     },
     "metadata": {},
     "output_type": "display_data"
    },
    {
     "data": {
      "text/latex": [
       "(mod.xx).T := $\\displaystyle \\left[\\begin{matrix}p_{1} & q_{1} & \\dot{p}_{1} & \\dot{q}_{1}\\end{matrix}\\right]$"
      ],
      "text/plain": [
       "(mod.xx).T := [p₁  q₁  ṗ₁  q̇₁]"
      ]
     },
     "metadata": {},
     "output_type": "display_data"
    },
    {
     "data": {
      "text/plain": [
       "---"
      ]
     },
     "metadata": {},
     "output_type": "display_data"
    }
   ],
   "source": [
    "Eges_subs.s ##:\n",
    "mod.xx ##:T"
   ]
  },
  {
   "cell_type": "code",
   "execution_count": 179,
   "metadata": {},
   "outputs": [
    {
     "data": {
      "text/plain": [
       "array(0.)"
      ]
     },
     "execution_count": 179,
     "metadata": {},
     "output_type": "execute_result"
    }
   ],
   "source": [
    "# system energy at upper equilibrium\n",
    "Eges_func(0, 0, 0, 0)"
   ]
  },
  {
   "cell_type": "code",
   "execution_count": 180,
   "metadata": {
    "scrolled": true
   },
   "outputs": [
    {
     "data": {
      "image/png": "[encoded data removed]",
      "text/latex": [
       "$\\displaystyle \\left( -3.0, \\  3.0\\right)$"
      ],
      "text/plain": [
       "(-3.0, 3.0)"
      ]
     },
     "execution_count": 180,
     "metadata": {},
     "output_type": "execute_result"
    },
    {
     "data": {
      "image/png": "[encoded data removed]",
      "text/plain": [
       "<Figure size 432x288 with 1 Axes>"
      ]
     },
     "metadata": {
      "needs_background": "light"
     },
     "output_type": "display_data"
    }
   ],
   "source": [
    "# check energy conservation\n",
    "\n",
    "EE = Eges_func(*res[:, :].T)\n",
    "\n",
    "plt.plot(tt, EE)\n",
    "plt.ylim(-3, 3)\n"
   ]
  },
  {
   "cell_type": "code",
   "execution_count": 181,
   "metadata": {},
   "outputs": [
    {
     "data": {
      "text/plain": [
       "[<matplotlib.lines.Line2D at 0x7f21994d6a60>,\n",
       " <matplotlib.lines.Line2D at 0x7f21994d6ac0>,\n",
       " <matplotlib.lines.Line2D at 0x7f21994d6be0>,\n",
       " <matplotlib.lines.Line2D at 0x7f21994d6d00>]"
      ]
     },
     "execution_count": 181,
     "metadata": {},
     "output_type": "execute_result"
    },
    {
     "data": {
      "image/png": "[encoded data removed]",
      "text/plain": [
       "<Figure size 432x288 with 1 Axes>"
      ]
     },
     "metadata": {
      "needs_background": "light"
     },
     "output_type": "display_data"
    }
   ],
   "source": [
    "# plot state components \n",
    "\n",
    "plt.plot(tt, res)"
   ]
  },
  {
   "cell_type": "code",
   "execution_count": null,
   "metadata": {},
   "outputs": [],
   "source": []
  },
  {
   "cell_type": "code",
   "execution_count": null,
   "metadata": {},
   "outputs": [],
   "source": []
  }
 ],
 "metadata": {
  "kernelspec": {
   "display_name": "Python 3 (ipykernel)",
   "language": "python",
   "name": "python3"
  },
  "language_info": {
   "codemirror_mode": {
    "name": "ipython",
    "version": 3
   },
   "file_extension": ".py",
   "mimetype": "text/x-python",
   "name": "python",
   "nbconvert_exporter": "python",
   "pygments_lexer": "ipython3",
   "version": "3.8.10"
  }
 },
 "nbformat": 4,
 "nbformat_minor": 4
}
