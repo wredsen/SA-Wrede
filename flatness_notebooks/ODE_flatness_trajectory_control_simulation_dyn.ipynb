{
 "cells": [
  {
   "cell_type": "markdown",
   "metadata": {},
   "source": [
    "### Considered model: four-bar linkage (= two link manipulator + one link manipulator + rigid coupling)\n",
    "\n",
    "\n",
    "This Notebook depends on symbtools >=0.2.5\n",
    "\n",
    "→ `pip install --upgrade symbtools`\n",
    "\n",
    "\n",
    "\n"
   ]
  },
  {
   "cell_type": "code",
   "execution_count": 1,
   "metadata": {},
   "outputs": [],
   "source": [
    "%load_ext ipydex.displaytools\n",
    "%matplotlib inline\n",
    "\n",
    "import sys\n",
    "# to load assimulo under wsl2\n",
    "sys.path.append('/home/kwrede/miniconda3/lib/python3.8/site-packages')\n",
    "sys.path.append('/home/wredi/miniconda3/lib/python3.8/site-packages')\n",
    "\n",
    "import os\n",
    "import pickle\n",
    "\n",
    "import sympy as sp\n",
    "import numpy as npy  # we need `np` later \n",
    "from sympy import sin, cos, pi\n",
    "from sympy.interactive import printing\n",
    "\n",
    "# using wredsen's symbtools fork (https://github.com/wredsen/symbtools @ DAE_statefeedback), assuming repos SA-Wrede and symbtools share the same parent directory\n",
    "sys.path.append('../../symbtools/')\n",
    "import symbtools as st\n",
    "import symbtools.modeltools as mt\n",
    "from symbtools.modeltools import Rz # Rotationsmatrix in the xy plane (c, -s; s, c)\n",
    "\n",
    "import scipy as sc\n",
    "import scipy.integrate as sc_integrate\n",
    "from scipy.optimize import fmin\n",
    "import matplotlib.pyplot as pl\n",
    "from assimulo.solvers import ODASSL as SOLVER # Imports the solver ODASSL from Assimulo\n",
    "from assimulo.problem import Overdetermined_Problem # Imports the problem formulation from Assimulo\n",
    "import ipydex\n",
    "plt = pl\n",
    "\n",
    "printing.init_printing(1)"
   ]
  },
  {
   "cell_type": "code",
   "execution_count": 2,
   "metadata": {
    "scrolled": false
   },
   "outputs": [
    {
     "data": {
      "image/svg+xml": [
       "<svg xmlns=\"http://www.w3.org/2000/svg\" xmlns:xlink=\"http://www.w3.org/1999/xlink\" version=\"1.1\" width=\"592px\" height=\"359px\" viewBox=\"-0.5 -0.5 592 359\" content=\"&lt;mxfile host=&quot;Electron&quot; modified=&quot;2022-05-30T13:50:47.766Z&quot; agent=&quot;5.0 (Windows NT 10.0; Win64; x64) AppleWebKit/537.36 (KHTML, like Gecko) draw.io/18.0.6 Chrome/100.0.4896.143 Electron/18.2.3 Safari/537.36&quot; etag=&quot;min5w-b4zxJFSnJGOmVM&quot; version=&quot;18.0.6&quot; type=&quot;device&quot;&gt;&lt;diagram id=&quot;B0kXoVWXYvZZ5K02NhJj&quot; name=&quot;Seite-1&quot;&gt;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&lt;/diagram&gt;&lt;/mxfile&gt;\" style=\"background-color: rgb(255, 255, 255);\"><defs><style xmlns=\"http://www.w3.org/1999/xhtml\" type=\"text/css\">div.MathJax_SVG_Display { position: static; }\n",
       "span.MathJax_SVG { position: static !important; }</style><style xmlns=\"http://www.w3.org/1999/xhtml\" type=\"text/css\">.MathJax_Hover_Frame {border-radius: .25em; -webkit-border-radius: .25em; -moz-border-radius: .25em; -khtml-border-radius: .25em; box-shadow: 0px 0px 15px #83A; -webkit-box-shadow: 0px 0px 15px #83A; -moz-box-shadow: 0px 0px 15px #83A; -khtml-box-shadow: 0px 0px 15px #83A; border: 1px solid #A6D ! important; display: inline-block; position: absolute}\n",
       ".MathJax_Menu_Button .MathJax_Hover_Arrow {position: absolute; cursor: pointer; display: inline-block; border: 2px solid #AAA; border-radius: 4px; -webkit-border-radius: 4px; -moz-border-radius: 4px; -khtml-border-radius: 4px; font-family: 'Courier New',Courier; font-size: 9px; color: #F0F0F0}\n",
       ".MathJax_Menu_Button .MathJax_Hover_Arrow span {display: block; background-color: #AAA; border: 1px solid; border-radius: 3px; line-height: 0; padding: 4px}\n",
       ".MathJax_Hover_Arrow:hover {color: white!important; border: 2px solid #CCC!important}\n",
       ".MathJax_Hover_Arrow:hover span {background-color: #CCC!important}\n",
       "</style><style xmlns=\"http://www.w3.org/1999/xhtml\" type=\"text/css\">#MathJax_About {position: fixed; left: 50%; width: auto; text-align: center; border: 3px outset; padding: 1em 2em; background-color: #DDDDDD; color: black; cursor: default; font-family: message-box; font-size: 120%; font-style: normal; text-indent: 0; text-transform: none; line-height: normal; letter-spacing: normal; word-spacing: normal; word-wrap: normal; white-space: nowrap; float: none; z-index: 201; border-radius: 15px; -webkit-border-radius: 15px; -moz-border-radius: 15px; -khtml-border-radius: 15px; box-shadow: 0px 10px 20px #808080; -webkit-box-shadow: 0px 10px 20px #808080; -moz-box-shadow: 0px 10px 20px #808080; -khtml-box-shadow: 0px 10px 20px #808080; filter: progid:DXImageTransform.Microsoft.dropshadow(OffX=2, OffY=2, Color='gray', Positive='true')}\n",
       "#MathJax_About.MathJax_MousePost {outline: none}\n",
       ".MathJax_Menu {position: absolute; background-color: white; color: black; width: auto; padding: 2px; border: 1px solid #CCCCCC; margin: 0; cursor: default; font: menu; text-align: left; text-indent: 0; text-transform: none; line-height: normal; letter-spacing: normal; word-spacing: normal; word-wrap: normal; white-space: nowrap; float: none; z-index: 201; box-shadow: 0px 10px 20px #808080; -webkit-box-shadow: 0px 10px 20px #808080; -moz-box-shadow: 0px 10px 20px #808080; -khtml-box-shadow: 0px 10px 20px #808080; filter: progid:DXImageTransform.Microsoft.dropshadow(OffX=2, OffY=2, Color='gray', Positive='true')}\n",
       ".MathJax_MenuItem {padding: 2px 2em; background: transparent}\n",
       ".MathJax_MenuArrow {position: absolute; right: .5em; padding-top: .25em; color: #666666; font-size: .75em}\n",
       ".MathJax_MenuActive .MathJax_MenuArrow {color: white}\n",
       ".MathJax_MenuArrow.RTL {left: .5em; right: auto}\n",
       ".MathJax_MenuCheck {position: absolute; left: .7em}\n",
       ".MathJax_MenuCheck.RTL {right: .7em; left: auto}\n",
       ".MathJax_MenuRadioCheck {position: absolute; left: 1em}\n",
       ".MathJax_MenuRadioCheck.RTL {right: 1em; left: auto}\n",
       ".MathJax_MenuLabel {padding: 2px 2em 4px 1.33em; font-style: italic}\n",
       ".MathJax_MenuRule {border-top: 1px solid #CCCCCC; margin: 4px 1px 0px}\n",
       ".MathJax_MenuDisabled {color: GrayText}\n",
       ".MathJax_MenuActive {background-color: Highlight; color: HighlightText}\n",
       ".MathJax_MenuDisabled:focus, .MathJax_MenuLabel:focus {background-color: #E8E8E8}\n",
       ".MathJax_ContextMenu:focus {outline: none}\n",
       ".MathJax_ContextMenu .MathJax_MenuItem:focus {outline: none}\n",
       "#MathJax_AboutClose {top: .2em; right: .2em}\n",
       ".MathJax_Menu .MathJax_MenuClose {top: -10px; left: -10px}\n",
       ".MathJax_MenuClose {position: absolute; cursor: pointer; display: inline-block; border: 2px solid #AAA; border-radius: 18px; -webkit-border-radius: 18px; -moz-border-radius: 18px; -khtml-border-radius: 18px; font-family: 'Courier New',Courier; font-size: 24px; color: #F0F0F0}\n",
       ".MathJax_MenuClose span {display: block; background-color: #AAA; border: 1.5px solid; border-radius: 18px; -webkit-border-radius: 18px; -moz-border-radius: 18px; -khtml-border-radius: 18px; line-height: 0; padding: 8px 0 6px}\n",
       ".MathJax_MenuClose:hover {color: white!important; border: 2px solid #CCC!important}\n",
       ".MathJax_MenuClose:hover span {background-color: #CCC!important}\n",
       ".MathJax_MenuClose:hover:focus {outline: none}\n",
       "</style><style xmlns=\"http://www.w3.org/1999/xhtml\" type=\"text/css\">.MathJax_Preview .MJXf-math {color: inherit!important}\n",
       "</style><style xmlns=\"http://www.w3.org/1999/xhtml\" type=\"text/css\">#MathJax_Zoom {position: absolute; background-color: #F0F0F0; overflow: auto; display: block; z-index: 301; padding: .5em; border: 1px solid black; margin: 0; font-weight: normal; font-style: normal; text-align: left; text-indent: 0; text-transform: none; line-height: normal; letter-spacing: normal; word-spacing: normal; word-wrap: normal; white-space: nowrap; float: none; -webkit-box-sizing: content-box; -moz-box-sizing: content-box; box-sizing: content-box; box-shadow: 5px 5px 15px #AAAAAA; -webkit-box-shadow: 5px 5px 15px #AAAAAA; -moz-box-shadow: 5px 5px 15px #AAAAAA; -khtml-box-shadow: 5px 5px 15px #AAAAAA; filter: progid:DXImageTransform.Microsoft.dropshadow(OffX=2, OffY=2, Color='gray', Positive='true')}\n",
       "#MathJax_ZoomOverlay {position: absolute; left: 0; top: 0; z-index: 300; display: inline-block; width: 100%; height: 100%; border: 0; padding: 0; margin: 0; background-color: white; opacity: 0; filter: alpha(opacity=0)}\n",
       "#MathJax_ZoomFrame {position: relative; display: inline-block; height: 0; width: 0}\n",
       "#MathJax_ZoomEventTrap {position: absolute; left: 0; top: 0; z-index: 302; display: inline-block; border: 0; padding: 0; margin: 0; background-color: white; opacity: 0; filter: alpha(opacity=0)}\n",
       "</style><style xmlns=\"http://www.w3.org/1999/xhtml\" type=\"text/css\">.MathJax_Preview {color: #888; display: contents}\n",
       "#MathJax_Message {position: fixed; left: 1px; bottom: 2px; background-color: #E6E6E6; border: 1px solid #959595; margin: 0px; padding: 2px 8px; z-index: 102; color: black; font-size: 80%; width: auto; white-space: nowrap}\n",
       "#MathJax_MSIE_Frame {position: absolute; top: 0; left: 0; width: 0px; z-index: 101; border: 0px; margin: 0px; padding: 0px}\n",
       ".MathJax_Error {color: #CC0000; font-style: italic}\n",
       "</style><style xmlns=\"http://www.w3.org/1999/xhtml\" type=\"text/css\">.MJXp-script {font-size: .8em}\n",
       ".MJXp-right {-webkit-transform-origin: right; -moz-transform-origin: right; -ms-transform-origin: right; -o-transform-origin: right; transform-origin: right}\n",
       ".MJXp-bold {font-weight: bold}\n",
       ".MJXp-italic {font-style: italic}\n",
       ".MJXp-scr {font-family: MathJax_Script,'Times New Roman',Times,STIXGeneral,serif}\n",
       ".MJXp-frak {font-family: MathJax_Fraktur,'Times New Roman',Times,STIXGeneral,serif}\n",
       ".MJXp-sf {font-family: MathJax_SansSerif,'Times New Roman',Times,STIXGeneral,serif}\n",
       ".MJXp-cal {font-family: MathJax_Caligraphic,'Times New Roman',Times,STIXGeneral,serif}\n",
       ".MJXp-mono {font-family: MathJax_Typewriter,'Times New Roman',Times,STIXGeneral,serif}\n",
       ".MJXp-largeop {font-size: 150%}\n",
       ".MJXp-largeop.MJXp-int {vertical-align: -.2em}\n",
       ".MJXp-math {display: inline-block; line-height: 1.2; text-indent: 0; font-family: 'Times New Roman',Times,STIXGeneral,serif; white-space: nowrap; border-collapse: collapse}\n",
       ".MJXp-display {display: block; text-align: center; margin: 1em 0}\n",
       ".MJXp-math span {display: inline-block}\n",
       ".MJXp-box {display: block!important; text-align: center}\n",
       ".MJXp-box:after {content: &quot; &quot;}\n",
       ".MJXp-rule {display: block!important; margin-top: .1em}\n",
       ".MJXp-char {display: block!important}\n",
       ".MJXp-mo {margin: 0 .15em}\n",
       ".MJXp-mfrac {margin: 0 .125em; vertical-align: .25em}\n",
       ".MJXp-denom {display: inline-table!important; width: 100%}\n",
       ".MJXp-denom &gt; * {display: table-row!important}\n",
       ".MJXp-surd {vertical-align: top}\n",
       ".MJXp-surd &gt; * {display: block!important}\n",
       ".MJXp-script-box &gt; *  {display: table!important; height: 50%}\n",
       ".MJXp-script-box &gt; * &gt; * {display: table-cell!important; vertical-align: top}\n",
       ".MJXp-script-box &gt; *:last-child &gt; * {vertical-align: bottom}\n",
       ".MJXp-script-box &gt; * &gt; * &gt; * {display: block!important}\n",
       ".MJXp-mphantom {visibility: hidden}\n",
       ".MJXp-munderover, .MJXp-munder {display: inline-table!important}\n",
       ".MJXp-over {display: inline-block!important; text-align: center}\n",
       ".MJXp-over &gt; * {display: block!important}\n",
       ".MJXp-munderover &gt; *, .MJXp-munder &gt; * {display: table-row!important}\n",
       ".MJXp-mtable {vertical-align: .25em; margin: 0 .125em}\n",
       ".MJXp-mtable &gt; * {display: inline-table!important; vertical-align: middle}\n",
       ".MJXp-mtr {display: table-row!important}\n",
       ".MJXp-mtd {display: table-cell!important; text-align: center; padding: .5em 0 0 .5em}\n",
       ".MJXp-mtr &gt; .MJXp-mtd:first-child {padding-left: 0}\n",
       ".MJXp-mtr:first-child &gt; .MJXp-mtd {padding-top: 0}\n",
       ".MJXp-mlabeledtr {display: table-row!important}\n",
       ".MJXp-mlabeledtr &gt; .MJXp-mtd:first-child {padding-left: 0}\n",
       ".MJXp-mlabeledtr:first-child &gt; .MJXp-mtd {padding-top: 0}\n",
       ".MJXp-merror {background-color: #FFFF88; color: #CC0000; border: 1px solid #CC0000; padding: 1px 3px; font-style: normal; font-size: 90%}\n",
       ".MJXp-scale0 {-webkit-transform: scaleX(.0); -moz-transform: scaleX(.0); -ms-transform: scaleX(.0); -o-transform: scaleX(.0); transform: scaleX(.0)}\n",
       ".MJXp-scale1 {-webkit-transform: scaleX(.1); -moz-transform: scaleX(.1); -ms-transform: scaleX(.1); -o-transform: scaleX(.1); transform: scaleX(.1)}\n",
       ".MJXp-scale2 {-webkit-transform: scaleX(.2); -moz-transform: scaleX(.2); -ms-transform: scaleX(.2); -o-transform: scaleX(.2); transform: scaleX(.2)}\n",
       ".MJXp-scale3 {-webkit-transform: scaleX(.3); -moz-transform: scaleX(.3); -ms-transform: scaleX(.3); -o-transform: scaleX(.3); transform: scaleX(.3)}\n",
       ".MJXp-scale4 {-webkit-transform: scaleX(.4); -moz-transform: scaleX(.4); -ms-transform: scaleX(.4); -o-transform: scaleX(.4); transform: scaleX(.4)}\n",
       ".MJXp-scale5 {-webkit-transform: scaleX(.5); -moz-transform: scaleX(.5); -ms-transform: scaleX(.5); -o-transform: scaleX(.5); transform: scaleX(.5)}\n",
       ".MJXp-scale6 {-webkit-transform: scaleX(.6); -moz-transform: scaleX(.6); -ms-transform: scaleX(.6); -o-transform: scaleX(.6); transform: scaleX(.6)}\n",
       ".MJXp-scale7 {-webkit-transform: scaleX(.7); -moz-transform: scaleX(.7); -ms-transform: scaleX(.7); -o-transform: scaleX(.7); transform: scaleX(.7)}\n",
       ".MJXp-scale8 {-webkit-transform: scaleX(.8); -moz-transform: scaleX(.8); -ms-transform: scaleX(.8); -o-transform: scaleX(.8); transform: scaleX(.8)}\n",
       ".MJXp-scale9 {-webkit-transform: scaleX(.9); -moz-transform: scaleX(.9); -ms-transform: scaleX(.9); -o-transform: scaleX(.9); transform: scaleX(.9)}\n",
       ".MathJax_PHTML .noError {vertical-align: ; font-size: 90%; text-align: left; color: black; padding: 1px 3px; border: 1px solid}\n",
       "</style><style xmlns=\"http://www.w3.org/1999/xhtml\" type=\"text/css\">.MathJax_SVG_Display {text-align: center; margin: 1em 0em; position: relative; display: block!important; text-indent: 0; max-width: none; max-height: none; min-width: 0; min-height: 0; width: 100%}\n",
       ".MathJax_SVG .MJX-monospace {font-family: monospace}\n",
       ".MathJax_SVG .MJX-sans-serif {font-family: sans-serif}\n",
       "#MathJax_SVG_Tooltip {background-color: InfoBackground; color: InfoText; border: 1px solid black; box-shadow: 2px 2px 5px #AAAAAA; -webkit-box-shadow: 2px 2px 5px #AAAAAA; -moz-box-shadow: 2px 2px 5px #AAAAAA; -khtml-box-shadow: 2px 2px 5px #AAAAAA; padding: 3px 4px; z-index: 401; position: absolute; left: 0; top: 0; width: auto; height: auto; display: none}\n",
       ".MathJax_SVG {display: inline; font-style: normal; font-weight: normal; line-height: normal; font-size: 100%; font-size-adjust: none; text-indent: 0; text-align: left; text-transform: none; letter-spacing: normal; word-spacing: normal; word-wrap: normal; white-space: nowrap; float: none; direction: ltr; max-width: none; max-height: none; min-width: 0; min-height: 0; border: 0; padding: 0; margin: 0}\n",
       ".MathJax_SVG * {transition: none; -webkit-transition: none; -moz-transition: none; -ms-transition: none; -o-transition: none}\n",
       ".MathJax_SVG &gt; div {display: inline-block}\n",
       ".mjx-svg-href {fill: blue; stroke: blue}\n",
       ".MathJax_SVG_Processing {visibility: hidden; position: absolute; top: 0; left: 0; width: 0; height: 0; overflow: hidden; display: block!important}\n",
       ".MathJax_SVG_Processed {display: none!important}\n",
       ".MathJax_SVG_test {font-style: normal; font-weight: normal; font-size: 100%; font-size-adjust: none; text-indent: 0; text-transform: none; letter-spacing: normal; word-spacing: normal; overflow: hidden; height: 1px}\n",
       ".MathJax_SVG_test.mjx-test-display {display: table!important}\n",
       ".MathJax_SVG_test.mjx-test-inline {display: inline!important; margin-right: -1px}\n",
       ".MathJax_SVG_test.mjx-test-default {display: block!important; clear: both}\n",
       ".MathJax_SVG_ex_box {display: inline-block!important; position: absolute; overflow: hidden; min-height: 0; max-height: none; padding: 0; border: 0; margin: 0; width: 1px; height: 60ex}\n",
       ".mjx-test-inline .MathJax_SVG_left_box {display: inline-block; width: 0; float: left}\n",
       ".mjx-test-inline .MathJax_SVG_right_box {display: inline-block; width: 0; float: right}\n",
       ".mjx-test-display .MathJax_SVG_right_box {display: table-cell!important; width: 10000em!important; min-width: 0; max-width: none; padding: 0; border: 0; margin: 0}\n",
       ".MathJax_SVG .noError {vertical-align: ; font-size: 90%; text-align: left; color: black; padding: 1px 3px; border: 1px solid}\n",
       "</style></defs><g><rect x=\"180\" y=\"271\" width=\"210\" height=\"10\" fill=\"#f5f5f5\" stroke=\"#666666\" transform=\"rotate(-15,285,276)\" pointer-events=\"all\"/><rect x=\"41\" y=\"146\" width=\"40\" height=\"20\" fill=\"#f5f5f5\" stroke=\"#666666\" pointer-events=\"all\"/><path d=\"M 61 156.75 L 61 82.37\" fill=\"none\" stroke=\"rgb(0, 0, 0)\" stroke-miterlimit=\"10\" pointer-events=\"stroke\"/><path d=\"M 61 77.12 L 64.5 84.12 L 61 82.37 L 57.5 84.12 Z\" fill=\"rgb(0, 0, 0)\" stroke=\"rgb(0, 0, 0)\" stroke-miterlimit=\"10\" pointer-events=\"all\"/><path d=\"M 61 156.25 L 101 156.25 L 118.91 156.59\" fill=\"none\" stroke=\"rgb(0, 0, 0)\" stroke-miterlimit=\"10\" pointer-events=\"stroke\"/><path d=\"M 124.16 156.69 L 117.1 160.06 L 118.91 156.59 L 117.23 153.06 Z\" fill=\"rgb(0, 0, 0)\" stroke=\"rgb(0, 0, 0)\" stroke-miterlimit=\"10\" pointer-events=\"all\"/><rect x=\"111\" y=\"152\" width=\"40\" height=\"30\" fill=\"none\" stroke=\"none\" pointer-events=\"all\"/><g transform=\"translate(-0.5 -0.5)\"><switch><foreignObject pointer-events=\"none\" width=\"100%\" height=\"100%\" requiredFeatures=\"http://www.w3.org/TR/SVG11/feature#Extensibility\" style=\"overflow: visible; text-align: left;\"><div xmlns=\"http://www.w3.org/1999/xhtml\" style=\"display: flex; align-items: unsafe center; justify-content: unsafe center; width: 38px; height: 1px; padding-top: 167px; margin-left: 112px;\"><div data-drawio-colors=\"color: rgb(0, 0, 0); \" style=\"box-sizing: border-box; font-size: 0px; text-align: center;\"><div style=\"display: inline-block; font-size: 14px; font-family: Helvetica; color: rgb(0, 0, 0); line-height: 1.2; pointer-events: all; white-space: normal; overflow-wrap: normal;\"><span class=\"MathJax_Preview\" style=\"color: inherit;\"/><div class=\"MathJax_SVG_Display\" style=\"text-align: center;\"><span class=\"MathJax_SVG\" id=\"MathJax-Element-1-Frame\" tabindex=\"0\" data-mathml=\"&lt;math xmlns=&quot;http://www.w3.org/1998/Math/MathML&quot; display=&quot;block&quot;&gt;&lt;msub&gt;&lt;mi&gt;e&lt;/mi&gt;&lt;mi&gt;x&lt;/mi&gt;&lt;/msub&gt;&lt;/math&gt;\" role=\"presentation\" style=\"font-size: 100%; display: inline-block; position: relative;\"><svg xmlns=\"http://www.w3.org/2000/svg\" xmlns:xlink=\"http://www.w3.org/1999/xlink\" width=\"2.256ex\" height=\"1.798ex\" viewBox=\"0 -535.3 971.3 774.3\" role=\"img\" focusable=\"false\" style=\"vertical-align: -0.555ex;\" aria-hidden=\"true\"><g stroke=\"currentColor\" fill=\"currentColor\" stroke-width=\"0\" transform=\"matrix(1 0 0 -1 0 0)\"><path stroke-width=\"1\" d=\"M39 168Q39 225 58 272T107 350T174 402T244 433T307 442H310Q355 442 388 420T421 355Q421 265 310 237Q261 224 176 223Q139 223 138 221Q138 219 132 186T125 128Q125 81 146 54T209 26T302 45T394 111Q403 121 406 121Q410 121 419 112T429 98T420 82T390 55T344 24T281 -1T205 -11Q126 -11 83 42T39 168ZM373 353Q367 405 305 405Q272 405 244 391T199 357T170 316T154 280T149 261Q149 260 169 260Q282 260 327 284T373 353Z\"/><g transform=\"translate(466,-150)\"><path stroke-width=\"1\" transform=\"scale(0.707)\" d=\"M52 289Q59 331 106 386T222 442Q257 442 286 424T329 379Q371 442 430 442Q467 442 494 420T522 361Q522 332 508 314T481 292T458 288Q439 288 427 299T415 328Q415 374 465 391Q454 404 425 404Q412 404 406 402Q368 386 350 336Q290 115 290 78Q290 50 306 38T341 26Q378 26 414 59T463 140Q466 150 469 151T485 153H489Q504 153 504 145Q504 144 502 134Q486 77 440 33T333 -11Q263 -11 227 52Q186 -10 133 -10H127Q78 -10 57 16T35 71Q35 103 54 123T99 143Q142 143 142 101Q142 81 130 66T107 46T94 41L91 40Q91 39 97 36T113 29T132 26Q168 26 194 71Q203 87 217 139T245 247T261 313Q266 340 266 352Q266 380 251 392T217 404Q177 404 142 372T93 290Q91 281 88 280T72 278H58Q52 284 52 289Z\"/></g></g></svg><span class=\"MJX_Assistive_MathML MJX_Assistive_MathML_Block\" role=\"presentation\"/></span></div><script type=\"math/tex; mode=display\" id=\"MathJax-Element-1\">e_x</script></div></div></div></foreignObject><text x=\"131\" y=\"171\" fill=\"rgb(0, 0, 0)\" font-family=\"Helvetica\" font-size=\"14px\" text-anchor=\"middle\">\n",
       "e_x</text></switch></g><rect x=\"11\" y=\"56\" width=\"60\" height=\"30\" fill=\"none\" stroke=\"none\" pointer-events=\"all\"/><g transform=\"translate(-0.5 -0.5)\"><switch><foreignObject pointer-events=\"none\" width=\"100%\" height=\"100%\" requiredFeatures=\"http://www.w3.org/TR/SVG11/feature#Extensibility\" style=\"overflow: visible; text-align: left;\"><div xmlns=\"http://www.w3.org/1999/xhtml\" style=\"display: flex; align-items: unsafe center; justify-content: unsafe center; width: 58px; height: 1px; padding-top: 71px; margin-left: 12px;\"><div data-drawio-colors=\"color: rgb(0, 0, 0); \" style=\"box-sizing: border-box; font-size: 0px; text-align: center;\"><div style=\"display: inline-block; font-size: 14px; font-family: Helvetica; color: rgb(0, 0, 0); line-height: 1.2; pointer-events: all; white-space: normal; overflow-wrap: normal;\"><span class=\"MathJax_Preview\" style=\"color: inherit;\"/><div class=\"MathJax_SVG_Display\" style=\"text-align: center;\"><span class=\"MathJax_SVG\" id=\"MathJax-Element-2-Frame\" tabindex=\"0\" data-mathml=\"&lt;math xmlns=&quot;http://www.w3.org/1998/Math/MathML&quot; display=&quot;block&quot;&gt;&lt;msub&gt;&lt;mi&gt;e&lt;/mi&gt;&lt;mi&gt;y&lt;/mi&gt;&lt;/msub&gt;&lt;/math&gt;\" role=\"presentation\" style=\"font-size: 100%; display: inline-block; position: relative;\"><svg xmlns=\"http://www.w3.org/2000/svg\" xmlns:xlink=\"http://www.w3.org/1999/xlink\" width=\"2.133ex\" height=\"2.074ex\" viewBox=\"0 -535.3 918.3 892.8\" role=\"img\" focusable=\"false\" style=\"vertical-align: -0.83ex;\" aria-hidden=\"true\"><g stroke=\"currentColor\" fill=\"currentColor\" stroke-width=\"0\" transform=\"matrix(1 0 0 -1 0 0)\"><path stroke-width=\"1\" d=\"M39 168Q39 225 58 272T107 350T174 402T244 433T307 442H310Q355 442 388 420T421 355Q421 265 310 237Q261 224 176 223Q139 223 138 221Q138 219 132 186T125 128Q125 81 146 54T209 26T302 45T394 111Q403 121 406 121Q410 121 419 112T429 98T420 82T390 55T344 24T281 -1T205 -11Q126 -11 83 42T39 168ZM373 353Q367 405 305 405Q272 405 244 391T199 357T170 316T154 280T149 261Q149 260 169 260Q282 260 327 284T373 353Z\"/><g transform=\"translate(466,-150)\"><path stroke-width=\"1\" transform=\"scale(0.707)\" d=\"M21 287Q21 301 36 335T84 406T158 442Q199 442 224 419T250 355Q248 336 247 334Q247 331 231 288T198 191T182 105Q182 62 196 45T238 27Q261 27 281 38T312 61T339 94Q339 95 344 114T358 173T377 247Q415 397 419 404Q432 431 462 431Q475 431 483 424T494 412T496 403Q496 390 447 193T391 -23Q363 -106 294 -155T156 -205Q111 -205 77 -183T43 -117Q43 -95 50 -80T69 -58T89 -48T106 -45Q150 -45 150 -87Q150 -107 138 -122T115 -142T102 -147L99 -148Q101 -153 118 -160T152 -167H160Q177 -167 186 -165Q219 -156 247 -127T290 -65T313 -9T321 21L315 17Q309 13 296 6T270 -6Q250 -11 231 -11Q185 -11 150 11T104 82Q103 89 103 113Q103 170 138 262T173 379Q173 380 173 381Q173 390 173 393T169 400T158 404H154Q131 404 112 385T82 344T65 302T57 280Q55 278 41 278H27Q21 284 21 287Z\"/></g></g></svg><span class=\"MJX_Assistive_MathML MJX_Assistive_MathML_Block\" role=\"presentation\"/></span></div><script type=\"math/tex; mode=display\" id=\"MathJax-Element-2\">e_y</script></div></div></div></foreignObject><text x=\"41\" y=\"75\" fill=\"rgb(0, 0, 0)\" font-family=\"Helvetica\" font-size=\"14px\" text-anchor=\"middle\">\n",
       "e_y</text></switch></g><rect x=\"531\" y=\"236\" width=\"60\" height=\"30\" fill=\"none\" stroke=\"none\" pointer-events=\"all\"/><g transform=\"translate(-0.5 -0.5)\"><switch><foreignObject pointer-events=\"none\" width=\"100%\" height=\"100%\" requiredFeatures=\"http://www.w3.org/TR/SVG11/feature#Extensibility\" style=\"overflow: visible; text-align: left;\"><div xmlns=\"http://www.w3.org/1999/xhtml\" style=\"display: flex; align-items: unsafe center; justify-content: unsafe center; width: 58px; height: 1px; padding-top: 251px; margin-left: 532px;\"><div data-drawio-colors=\"color: rgb(0, 0, 0); \" style=\"box-sizing: border-box; font-size: 0px; text-align: center;\"><div style=\"display: inline-block; font-size: 14px; font-family: Helvetica; color: rgb(0, 0, 0); line-height: 1.2; pointer-events: all; white-space: normal; overflow-wrap: normal;\"><span class=\"MathJax_Preview\" style=\"color: inherit;\"/><div class=\"MathJax_SVG_Display\" style=\"text-align: center;\"><span class=\"MathJax_SVG\" id=\"MathJax-Element-3-Frame\" tabindex=\"0\" data-mathml=\"&lt;math xmlns=&quot;http://www.w3.org/1998/Math/MathML&quot; display=&quot;block&quot;&gt;&lt;mi&gt;g&lt;/mi&gt;&lt;/math&gt;\" role=\"presentation\" style=\"font-size: 100%; display: inline-block; position: relative;\"><svg xmlns=\"http://www.w3.org/2000/svg\" xmlns:xlink=\"http://www.w3.org/1999/xlink\" width=\"1.116ex\" height=\"1.936ex\" viewBox=\"0 -535.3 480.5 833.5\" role=\"img\" focusable=\"false\" style=\"vertical-align: -0.693ex;\" aria-hidden=\"true\"><g stroke=\"currentColor\" fill=\"currentColor\" stroke-width=\"0\" transform=\"matrix(1 0 0 -1 0 0)\"><path stroke-width=\"1\" d=\"M311 43Q296 30 267 15T206 0Q143 0 105 45T66 160Q66 265 143 353T314 442Q361 442 401 394L404 398Q406 401 409 404T418 412T431 419T447 422Q461 422 470 413T480 394Q480 379 423 152T363 -80Q345 -134 286 -169T151 -205Q10 -205 10 -137Q10 -111 28 -91T74 -71Q89 -71 102 -80T116 -111Q116 -121 114 -130T107 -144T99 -154T92 -162L90 -164H91Q101 -167 151 -167Q189 -167 211 -155Q234 -144 254 -122T282 -75Q288 -56 298 -13Q311 35 311 43ZM384 328L380 339Q377 350 375 354T369 368T359 382T346 393T328 402T306 405Q262 405 221 352Q191 313 171 233T151 117Q151 38 213 38Q269 38 323 108L331 118L384 328Z\"/></g></svg><span class=\"MJX_Assistive_MathML MJX_Assistive_MathML_Block\" role=\"presentation\"/></span></div><script type=\"math/tex; mode=display\" id=\"MathJax-Element-3\">g</script></div></div></div></foreignObject><text x=\"561\" y=\"255\" fill=\"rgb(0, 0, 0)\" font-family=\"Helvetica\" font-size=\"14px\" text-anchor=\"middle\">\n",
       "g</text></switch></g><path d=\"M 541 236 Q 541 236 541 269.63\" fill=\"none\" stroke=\"rgb(0, 0, 0)\" stroke-miterlimit=\"10\" pointer-events=\"stroke\"/><path d=\"M 541 274.88 L 537.5 267.88 L 541 269.63 L 544.5 267.88 Z\" fill=\"rgb(0, 0, 0)\" stroke=\"rgb(0, 0, 0)\" stroke-miterlimit=\"10\" pointer-events=\"all\"/><ellipse cx=\"61\" cy=\"156\" rx=\"5\" ry=\"5\" fill=\"rgb(255, 255, 255)\" stroke=\"rgb(0, 0, 0)\" pointer-events=\"all\"/><rect x=\"401\" y=\"146\" width=\"40\" height=\"20\" fill=\"#f5f5f5\" stroke=\"#666666\" pointer-events=\"all\"/><ellipse cx=\"421\" cy=\"156\" rx=\"5\" ry=\"5\" fill=\"rgb(255, 255, 255)\" stroke=\"rgb(0, 0, 0)\" pointer-events=\"all\"/><path d=\"M 181.93 299.74 L 64.22 159.83\" fill=\"none\" stroke=\"rgb(0, 0, 0)\" stroke-miterlimit=\"10\" pointer-events=\"stroke\"/><ellipse cx=\"183\" cy=\"303\" rx=\"5\" ry=\"5\" fill=\"rgb(255, 255, 255)\" stroke=\"rgb(0, 0, 0)\" pointer-events=\"all\"/><ellipse cx=\"386\" cy=\"249\" rx=\"5\" ry=\"5\" fill=\"rgb(255, 255, 255)\" stroke=\"rgb(0, 0, 0)\" pointer-events=\"all\"/><path d=\"M 419.34 160.72 L 389.54 245.46\" fill=\"none\" stroke=\"rgb(0, 0, 0)\" stroke-miterlimit=\"10\" pointer-events=\"stroke\"/><ellipse cx=\"286\" cy=\"276\" rx=\"5\" ry=\"5\" fill=\"rgb(255, 255, 255)\" stroke=\"rgb(0, 0, 0)\" pointer-events=\"all\"/><rect x=\"330\" y=\"268\" width=\"60\" height=\"30\" fill=\"none\" stroke=\"none\" pointer-events=\"all\"/><g transform=\"translate(-0.5 -0.5)\"><switch><foreignObject pointer-events=\"none\" width=\"100%\" height=\"100%\" requiredFeatures=\"http://www.w3.org/TR/SVG11/feature#Extensibility\" style=\"overflow: visible; text-align: left;\"><div xmlns=\"http://www.w3.org/1999/xhtml\" style=\"display: flex; align-items: unsafe center; justify-content: unsafe center; width: 58px; height: 1px; padding-top: 283px; margin-left: 331px;\"><div data-drawio-colors=\"color: rgb(0, 0, 0); \" style=\"box-sizing: border-box; font-size: 0px; text-align: center;\"><div style=\"display: inline-block; font-size: 14px; font-family: Helvetica; color: rgb(0, 0, 0); line-height: 1.2; pointer-events: all; white-space: normal; overflow-wrap: normal;\"><span class=\"MathJax_Preview\" style=\"color: inherit;\"/><div class=\"MathJax_SVG_Display\" style=\"text-align: center;\"><span class=\"MathJax_SVG\" id=\"MathJax-Element-21-Frame\" tabindex=\"0\" data-mathml=\"&lt;math xmlns=&quot;http://www.w3.org/1998/Math/MathML&quot; display=&quot;block&quot;&gt;&lt;mn&gt;2&lt;/mn&gt;&lt;msub&gt;&lt;mi&gt;s&lt;/mi&gt;&lt;mn&gt;2&lt;/mn&gt;&lt;/msub&gt;&lt;mo&gt;,&lt;/mo&gt;&lt;msub&gt;&lt;mi&gt;J&lt;/mi&gt;&lt;mn&gt;2&lt;/mn&gt;&lt;/msub&gt;&lt;/math&gt;\" role=\"presentation\" style=\"font-size: 100%; display: inline-block; position: relative;\"><svg xmlns=\"http://www.w3.org/2000/svg\" xmlns:xlink=\"http://www.w3.org/1999/xlink\" width=\"6.686ex\" height=\"2.486ex\" viewBox=\"0 -772.3 2878.5 1070.5\" role=\"img\" focusable=\"false\" style=\"vertical-align: -0.693ex;\" aria-hidden=\"true\"><g stroke=\"currentColor\" fill=\"currentColor\" stroke-width=\"0\" transform=\"matrix(1 0 0 -1 0 0)\"><path stroke-width=\"1\" d=\"M109 429Q82 429 66 447T50 491Q50 562 103 614T235 666Q326 666 387 610T449 465Q449 422 429 383T381 315T301 241Q265 210 201 149L142 93L218 92Q375 92 385 97Q392 99 409 186V189H449V186Q448 183 436 95T421 3V0H50V19V31Q50 38 56 46T86 81Q115 113 136 137Q145 147 170 174T204 211T233 244T261 278T284 308T305 340T320 369T333 401T340 431T343 464Q343 527 309 573T212 619Q179 619 154 602T119 569T109 550Q109 549 114 549Q132 549 151 535T170 489Q170 464 154 447T109 429Z\"/><g transform=\"translate(500,0)\"><path stroke-width=\"1\" d=\"M131 289Q131 321 147 354T203 415T300 442Q362 442 390 415T419 355Q419 323 402 308T364 292Q351 292 340 300T328 326Q328 342 337 354T354 372T367 378Q368 378 368 379Q368 382 361 388T336 399T297 405Q249 405 227 379T204 326Q204 301 223 291T278 274T330 259Q396 230 396 163Q396 135 385 107T352 51T289 7T195 -10Q118 -10 86 19T53 87Q53 126 74 143T118 160Q133 160 146 151T160 120Q160 94 142 76T111 58Q109 57 108 57T107 55Q108 52 115 47T146 34T201 27Q237 27 263 38T301 66T318 97T323 122Q323 150 302 164T254 181T195 196T148 231Q131 256 131 289Z\"/><g transform=\"translate(469,-150)\"><path stroke-width=\"1\" transform=\"scale(0.707)\" d=\"M109 429Q82 429 66 447T50 491Q50 562 103 614T235 666Q326 666 387 610T449 465Q449 422 429 383T381 315T301 241Q265 210 201 149L142 93L218 92Q375 92 385 97Q392 99 409 186V189H449V186Q448 183 436 95T421 3V0H50V19V31Q50 38 56 46T86 81Q115 113 136 137Q145 147 170 174T204 211T233 244T261 278T284 308T305 340T320 369T333 401T340 431T343 464Q343 527 309 573T212 619Q179 619 154 602T119 569T109 550Q109 549 114 549Q132 549 151 535T170 489Q170 464 154 447T109 429Z\"/></g></g><g transform=\"translate(1423,0)\"><path stroke-width=\"1\" d=\"M78 35T78 60T94 103T137 121Q165 121 187 96T210 8Q210 -27 201 -60T180 -117T154 -158T130 -185T117 -194Q113 -194 104 -185T95 -172Q95 -168 106 -156T131 -126T157 -76T173 -3V9L172 8Q170 7 167 6T161 3T152 1T140 0Q113 0 96 17Z\"/></g><g transform=\"translate(1869,0)\"><path stroke-width=\"1\" d=\"M447 625Q447 637 354 637H329Q323 642 323 645T325 664Q329 677 335 683H352Q393 681 498 681Q541 681 568 681T605 682T619 682Q633 682 633 672Q633 670 630 658Q626 642 623 640T604 637Q552 637 545 623Q541 610 483 376Q420 128 419 127Q397 64 333 21T195 -22Q137 -22 97 8T57 88Q57 130 80 152T132 174Q177 174 182 130Q182 98 164 80T123 56Q115 54 115 53T122 44Q148 15 197 15Q235 15 271 47T324 130Q328 142 387 380T447 625Z\"/><g transform=\"translate(555,-150)\"><path stroke-width=\"1\" transform=\"scale(0.707)\" d=\"M109 429Q82 429 66 447T50 491Q50 562 103 614T235 666Q326 666 387 610T449 465Q449 422 429 383T381 315T301 241Q265 210 201 149L142 93L218 92Q375 92 385 97Q392 99 409 186V189H449V186Q448 183 436 95T421 3V0H50V19V31Q50 38 56 46T86 81Q115 113 136 137Q145 147 170 174T204 211T233 244T261 278T284 308T305 340T320 369T333 401T340 431T343 464Q343 527 309 573T212 619Q179 619 154 602T119 569T109 550Q109 549 114 549Q132 549 151 535T170 489Q170 464 154 447T109 429Z\"/></g></g></g></svg><span class=\"MJX_Assistive_MathML MJX_Assistive_MathML_Block\" role=\"presentation\"/></span></div><script type=\"math/tex; mode=display\" id=\"MathJax-Element-21\">2s_2, J_2</script></div></div></div></foreignObject><text x=\"360\" y=\"287\" fill=\"rgb(0, 0, 0)\" font-family=\"Helvetica\" font-size=\"14px\" text-anchor=\"middle\">2s_2, J_...</text></switch></g><rect x=\"221\" y=\"239\" width=\"60\" height=\"30\" fill=\"none\" stroke=\"none\" pointer-events=\"all\"/><g transform=\"translate(-0.5 -0.5)\"><switch><foreignObject pointer-events=\"none\" width=\"100%\" height=\"100%\" requiredFeatures=\"http://www.w3.org/TR/SVG11/feature#Extensibility\" style=\"overflow: visible; text-align: left;\"><div xmlns=\"http://www.w3.org/1999/xhtml\" style=\"display: flex; align-items: unsafe center; justify-content: unsafe center; width: 58px; height: 1px; padding-top: 254px; margin-left: 222px;\"><div data-drawio-colors=\"color: rgb(0, 0, 0); \" style=\"box-sizing: border-box; font-size: 0px; text-align: center;\"><div style=\"display: inline-block; font-size: 14px; font-family: Helvetica; color: rgb(0, 0, 0); line-height: 1.2; pointer-events: all; white-space: normal; overflow-wrap: normal;\"><span class=\"MathJax_Preview\" style=\"color: inherit;\"/><div class=\"MathJax_SVG_Display\" style=\"text-align: center;\"><span class=\"MathJax_SVG\" id=\"MathJax-Element-5-Frame\" tabindex=\"0\" data-mathml=\"&lt;math xmlns=&quot;http://www.w3.org/1998/Math/MathML&quot; display=&quot;block&quot;&gt;&lt;msub&gt;&lt;mi&gt;S&lt;/mi&gt;&lt;mn&gt;2&lt;/mn&gt;&lt;/msub&gt;&lt;mo&gt;,&lt;/mo&gt;&lt;msub&gt;&lt;mi&gt;m&lt;/mi&gt;&lt;mn&gt;2&lt;/mn&gt;&lt;/msub&gt;&lt;/math&gt;\" role=\"presentation\" style=\"font-size: 100%; display: inline-block; position: relative;\"><svg xmlns=\"http://www.w3.org/2000/svg\" xmlns:xlink=\"http://www.w3.org/1999/xlink\" width=\"6.608ex\" height=\"2.486ex\" viewBox=\"0 -772.3 2845 1070.5\" role=\"img\" focusable=\"false\" style=\"vertical-align: -0.693ex;\" aria-hidden=\"true\"><g stroke=\"currentColor\" fill=\"currentColor\" stroke-width=\"0\" transform=\"matrix(1 0 0 -1 0 0)\"><path stroke-width=\"1\" d=\"M308 24Q367 24 416 76T466 197Q466 260 414 284Q308 311 278 321T236 341Q176 383 176 462Q176 523 208 573T273 648Q302 673 343 688T407 704H418H425Q521 704 564 640Q565 640 577 653T603 682T623 704Q624 704 627 704T632 705Q645 705 645 698T617 577T585 459T569 456Q549 456 549 465Q549 471 550 475Q550 478 551 494T553 520Q553 554 544 579T526 616T501 641Q465 662 419 662Q362 662 313 616T263 510Q263 480 278 458T319 427Q323 425 389 408T456 390Q490 379 522 342T554 242Q554 216 546 186Q541 164 528 137T492 78T426 18T332 -20Q320 -22 298 -22Q199 -22 144 33L134 44L106 13Q83 -14 78 -18T65 -22Q52 -22 52 -14Q52 -11 110 221Q112 227 130 227H143Q149 221 149 216Q149 214 148 207T144 186T142 153Q144 114 160 87T203 47T255 29T308 24Z\"/><g transform=\"translate(613,-150)\"><path stroke-width=\"1\" transform=\"scale(0.707)\" d=\"M109 429Q82 429 66 447T50 491Q50 562 103 614T235 666Q326 666 387 610T449 465Q449 422 429 383T381 315T301 241Q265 210 201 149L142 93L218 92Q375 92 385 97Q392 99 409 186V189H449V186Q448 183 436 95T421 3V0H50V19V31Q50 38 56 46T86 81Q115 113 136 137Q145 147 170 174T204 211T233 244T261 278T284 308T305 340T320 369T333 401T340 431T343 464Q343 527 309 573T212 619Q179 619 154 602T119 569T109 550Q109 549 114 549Q132 549 151 535T170 489Q170 464 154 447T109 429Z\"/></g><g transform=\"translate(1067,0)\"><path stroke-width=\"1\" d=\"M78 35T78 60T94 103T137 121Q165 121 187 96T210 8Q210 -27 201 -60T180 -117T154 -158T130 -185T117 -194Q113 -194 104 -185T95 -172Q95 -168 106 -156T131 -126T157 -76T173 -3V9L172 8Q170 7 167 6T161 3T152 1T140 0Q113 0 96 17Z\"/></g><g transform=\"translate(1512,0)\"><path stroke-width=\"1\" d=\"M21 287Q22 293 24 303T36 341T56 388T88 425T132 442T175 435T205 417T221 395T229 376L231 369Q231 367 232 367L243 378Q303 442 384 442Q401 442 415 440T441 433T460 423T475 411T485 398T493 385T497 373T500 364T502 357L510 367Q573 442 659 442Q713 442 746 415T780 336Q780 285 742 178T704 50Q705 36 709 31T724 26Q752 26 776 56T815 138Q818 149 821 151T837 153Q857 153 857 145Q857 144 853 130Q845 101 831 73T785 17T716 -10Q669 -10 648 17T627 73Q627 92 663 193T700 345Q700 404 656 404H651Q565 404 506 303L499 291L466 157Q433 26 428 16Q415 -11 385 -11Q372 -11 364 -4T353 8T350 18Q350 29 384 161L420 307Q423 322 423 345Q423 404 379 404H374Q288 404 229 303L222 291L189 157Q156 26 151 16Q138 -11 108 -11Q95 -11 87 -5T76 7T74 17Q74 30 112 181Q151 335 151 342Q154 357 154 369Q154 405 129 405Q107 405 92 377T69 316T57 280Q55 278 41 278H27Q21 284 21 287Z\"/><g transform=\"translate(878,-150)\"><path stroke-width=\"1\" transform=\"scale(0.707)\" d=\"M109 429Q82 429 66 447T50 491Q50 562 103 614T235 666Q326 666 387 610T449 465Q449 422 429 383T381 315T301 241Q265 210 201 149L142 93L218 92Q375 92 385 97Q392 99 409 186V189H449V186Q448 183 436 95T421 3V0H50V19V31Q50 38 56 46T86 81Q115 113 136 137Q145 147 170 174T204 211T233 244T261 278T284 308T305 340T320 369T333 401T340 431T343 464Q343 527 309 573T212 619Q179 619 154 602T119 569T109 550Q109 549 114 549Q132 549 151 535T170 489Q170 464 154 447T109 429Z\"/></g></g></g></svg><span class=\"MJX_Assistive_MathML MJX_Assistive_MathML_Block\" role=\"presentation\"/></span></div><script type=\"math/tex; mode=display\" id=\"MathJax-Element-5\">S_2, m_2</script></div></div></div></foreignObject><text x=\"251\" y=\"258\" fill=\"rgb(0, 0, 0)\" font-family=\"Helvetica\" font-size=\"14px\" text-anchor=\"middle\">\n",
       "S_2, m_2</text></switch></g><rect x=\"153\" y=\"308\" width=\"60\" height=\"30\" fill=\"none\" stroke=\"none\" pointer-events=\"all\"/><g transform=\"translate(-0.5 -0.5)\"><switch><foreignObject pointer-events=\"none\" width=\"100%\" height=\"100%\" requiredFeatures=\"http://www.w3.org/TR/SVG11/feature#Extensibility\" style=\"overflow: visible; text-align: left;\"><div xmlns=\"http://www.w3.org/1999/xhtml\" style=\"display: flex; align-items: unsafe center; justify-content: unsafe center; width: 58px; height: 1px; padding-top: 323px; margin-left: 154px;\"><div data-drawio-colors=\"color: rgb(0, 0, 0); \" style=\"box-sizing: border-box; font-size: 0px; text-align: center;\"><div style=\"display: inline-block; font-size: 14px; font-family: Helvetica; color: rgb(0, 0, 0); line-height: 1.2; pointer-events: all; white-space: normal; overflow-wrap: normal;\"><span style=\"\"><span class=\"MathJax_Preview\" style=\"color: inherit;\"/><div class=\"MathJax_SVG_Display\" style=\"text-align: center;\"><span class=\"MathJax_SVG\" id=\"MathJax-Element-6-Frame\" tabindex=\"0\" data-mathml=\"&lt;math xmlns=&quot;http://www.w3.org/1998/Math/MathML&quot; display=&quot;block&quot;&gt;&lt;msub&gt;&lt;mi&gt;G&lt;/mi&gt;&lt;mn&gt;3&lt;/mn&gt;&lt;/msub&gt;&lt;/math&gt;\" role=\"presentation\" style=\"font-size: 100%; display: inline-block; position: relative;\"><svg xmlns=\"http://www.w3.org/2000/svg\" xmlns:xlink=\"http://www.w3.org/1999/xlink\" width=\"2.881ex\" height=\"2.349ex\" viewBox=\"0 -772.3 1240.4 1011.3\" role=\"img\" focusable=\"false\" style=\"vertical-align: -0.555ex;\" aria-hidden=\"true\"><g stroke=\"currentColor\" fill=\"currentColor\" stroke-width=\"0\" transform=\"matrix(1 0 0 -1 0 0)\"><path stroke-width=\"1\" d=\"M50 252Q50 367 117 473T286 641T490 704Q580 704 633 653Q642 643 648 636T656 626L657 623Q660 623 684 649Q691 655 699 663T715 679T725 690L740 705H746Q760 705 760 698Q760 694 728 561Q692 422 692 421Q690 416 687 415T669 413H653Q647 419 647 422Q647 423 648 429T650 449T651 481Q651 552 619 605T510 659Q492 659 471 656T418 643T357 615T294 567T236 496T189 394T158 260Q156 242 156 221Q156 173 170 136T206 79T256 45T308 28T353 24Q407 24 452 47T514 106Q517 114 529 161T541 214Q541 222 528 224T468 227H431Q425 233 425 235T427 254Q431 267 437 273H454Q494 271 594 271Q634 271 659 271T695 272T707 272Q721 272 721 263Q721 261 719 249Q714 230 709 228Q706 227 694 227Q674 227 653 224Q646 221 643 215T629 164Q620 131 614 108Q589 6 586 3Q584 1 581 1Q571 1 553 21T530 52Q530 53 528 52T522 47Q448 -22 322 -22Q201 -22 126 55T50 252Z\"/><g transform=\"translate(786,-150)\"><path stroke-width=\"1\" transform=\"scale(0.707)\" d=\"M127 463Q100 463 85 480T69 524Q69 579 117 622T233 665Q268 665 277 664Q351 652 390 611T430 522Q430 470 396 421T302 350L299 348Q299 347 308 345T337 336T375 315Q457 262 457 175Q457 96 395 37T238 -22Q158 -22 100 21T42 130Q42 158 60 175T105 193Q133 193 151 175T169 130Q169 119 166 110T159 94T148 82T136 74T126 70T118 67L114 66Q165 21 238 21Q293 21 321 74Q338 107 338 175V195Q338 290 274 322Q259 328 213 329L171 330L168 332Q166 335 166 348Q166 366 174 366Q202 366 232 371Q266 376 294 413T322 525V533Q322 590 287 612Q265 626 240 626Q208 626 181 615T143 592T132 580H135Q138 579 143 578T153 573T165 566T175 555T183 540T186 520Q186 498 172 481T127 463Z\"/></g></g></svg><span class=\"MJX_Assistive_MathML MJX_Assistive_MathML_Block\" role=\"presentation\"/></span></div><script type=\"math/tex; mode=display\" id=\"MathJax-Element-6\">G_3</script></span></div></div></div></foreignObject><text x=\"183\" y=\"327\" fill=\"rgb(0, 0, 0)\" font-family=\"Helvetica\" font-size=\"14px\" text-anchor=\"middle\">\n",
       "G_3</text></switch></g><rect x=\"7\" y=\"166\" width=\"60\" height=\"30\" fill=\"none\" stroke=\"none\" pointer-events=\"all\"/><g transform=\"translate(-0.5 -0.5)\"><switch><foreignObject pointer-events=\"none\" width=\"100%\" height=\"100%\" requiredFeatures=\"http://www.w3.org/TR/SVG11/feature#Extensibility\" style=\"overflow: visible; text-align: left;\"><div xmlns=\"http://www.w3.org/1999/xhtml\" style=\"display: flex; align-items: unsafe center; justify-content: unsafe center; width: 58px; height: 1px; padding-top: 181px; margin-left: 8px;\"><div data-drawio-colors=\"color: rgb(0, 0, 0); \" style=\"box-sizing: border-box; font-size: 0px; text-align: center;\"><div style=\"display: inline-block; font-size: 14px; font-family: Helvetica; color: rgb(0, 0, 0); line-height: 1.2; pointer-events: all; white-space: normal; overflow-wrap: normal;\"><span class=\"MathJax_Preview\" style=\"color: inherit;\"/><div class=\"MathJax_SVG_Display\" style=\"text-align: center;\"><span class=\"MathJax_SVG\" id=\"MathJax-Element-7-Frame\" tabindex=\"0\" data-mathml=\"&lt;math xmlns=&quot;http://www.w3.org/1998/Math/MathML&quot; display=&quot;block&quot;&gt;&lt;msub&gt;&lt;mi&gt;B&lt;/mi&gt;&lt;mn&gt;1&lt;/mn&gt;&lt;/msub&gt;&lt;mo&gt;,&lt;/mo&gt;&lt;msub&gt;&lt;mi&gt;G&lt;/mi&gt;&lt;mn&gt;1&lt;/mn&gt;&lt;/msub&gt;&lt;mo&gt;,&lt;/mo&gt;&lt;msub&gt;&lt;mi&gt;S&lt;/mi&gt;&lt;mn&gt;1&lt;/mn&gt;&lt;/msub&gt;&lt;/math&gt;\" role=\"presentation\" style=\"font-size: 100%; display: inline-block; position: relative;\"><svg xmlns=\"http://www.w3.org/2000/svg\" xmlns:xlink=\"http://www.w3.org/1999/xlink\" width=\"10.246ex\" height=\"2.486ex\" viewBox=\"0 -772.3 4411.6 1070.5\" role=\"img\" focusable=\"false\" style=\"vertical-align: -0.693ex;\" aria-hidden=\"true\"><g stroke=\"currentColor\" fill=\"currentColor\" stroke-width=\"0\" transform=\"matrix(1 0 0 -1 0 0)\"><path stroke-width=\"1\" d=\"M231 637Q204 637 199 638T194 649Q194 676 205 682Q206 683 335 683Q594 683 608 681Q671 671 713 636T756 544Q756 480 698 429T565 360L555 357Q619 348 660 311T702 219Q702 146 630 78T453 1Q446 0 242 0Q42 0 39 2Q35 5 35 10Q35 17 37 24Q42 43 47 45Q51 46 62 46H68Q95 46 128 49Q142 52 147 61Q150 65 219 339T288 628Q288 635 231 637ZM649 544Q649 574 634 600T585 634Q578 636 493 637Q473 637 451 637T416 636H403Q388 635 384 626Q382 622 352 506Q352 503 351 500L320 374H401Q482 374 494 376Q554 386 601 434T649 544ZM595 229Q595 273 572 302T512 336Q506 337 429 337Q311 337 310 336Q310 334 293 263T258 122L240 52Q240 48 252 48T333 46Q422 46 429 47Q491 54 543 105T595 229Z\"/><g transform=\"translate(759,-150)\"><path stroke-width=\"1\" transform=\"scale(0.707)\" d=\"M213 578L200 573Q186 568 160 563T102 556H83V602H102Q149 604 189 617T245 641T273 663Q275 666 285 666Q294 666 302 660V361L303 61Q310 54 315 52T339 48T401 46H427V0H416Q395 3 257 3Q121 3 100 0H88V46H114Q136 46 152 46T177 47T193 50T201 52T207 57T213 61V578Z\"/></g><g transform=\"translate(1213,0)\"><path stroke-width=\"1\" d=\"M78 35T78 60T94 103T137 121Q165 121 187 96T210 8Q210 -27 201 -60T180 -117T154 -158T130 -185T117 -194Q113 -194 104 -185T95 -172Q95 -168 106 -156T131 -126T157 -76T173 -3V9L172 8Q170 7 167 6T161 3T152 1T140 0Q113 0 96 17Z\"/></g><g transform=\"translate(1658,0)\"><path stroke-width=\"1\" d=\"M50 252Q50 367 117 473T286 641T490 704Q580 704 633 653Q642 643 648 636T656 626L657 623Q660 623 684 649Q691 655 699 663T715 679T725 690L740 705H746Q760 705 760 698Q760 694 728 561Q692 422 692 421Q690 416 687 415T669 413H653Q647 419 647 422Q647 423 648 429T650 449T651 481Q651 552 619 605T510 659Q492 659 471 656T418 643T357 615T294 567T236 496T189 394T158 260Q156 242 156 221Q156 173 170 136T206 79T256 45T308 28T353 24Q407 24 452 47T514 106Q517 114 529 161T541 214Q541 222 528 224T468 227H431Q425 233 425 235T427 254Q431 267 437 273H454Q494 271 594 271Q634 271 659 271T695 272T707 272Q721 272 721 263Q721 261 719 249Q714 230 709 228Q706 227 694 227Q674 227 653 224Q646 221 643 215T629 164Q620 131 614 108Q589 6 586 3Q584 1 581 1Q571 1 553 21T530 52Q530 53 528 52T522 47Q448 -22 322 -22Q201 -22 126 55T50 252Z\"/><g transform=\"translate(786,-150)\"><path stroke-width=\"1\" transform=\"scale(0.707)\" d=\"M213 578L200 573Q186 568 160 563T102 556H83V602H102Q149 604 189 617T245 641T273 663Q275 666 285 666Q294 666 302 660V361L303 61Q310 54 315 52T339 48T401 46H427V0H416Q395 3 257 3Q121 3 100 0H88V46H114Q136 46 152 46T177 47T193 50T201 52T207 57T213 61V578Z\"/></g></g><g transform=\"translate(2898,0)\"><path stroke-width=\"1\" d=\"M78 35T78 60T94 103T137 121Q165 121 187 96T210 8Q210 -27 201 -60T180 -117T154 -158T130 -185T117 -194Q113 -194 104 -185T95 -172Q95 -168 106 -156T131 -126T157 -76T173 -3V9L172 8Q170 7 167 6T161 3T152 1T140 0Q113 0 96 17Z\"/></g><g transform=\"translate(3344,0)\"><path stroke-width=\"1\" d=\"M308 24Q367 24 416 76T466 197Q466 260 414 284Q308 311 278 321T236 341Q176 383 176 462Q176 523 208 573T273 648Q302 673 343 688T407 704H418H425Q521 704 564 640Q565 640 577 653T603 682T623 704Q624 704 627 704T632 705Q645 705 645 698T617 577T585 459T569 456Q549 456 549 465Q549 471 550 475Q550 478 551 494T553 520Q553 554 544 579T526 616T501 641Q465 662 419 662Q362 662 313 616T263 510Q263 480 278 458T319 427Q323 425 389 408T456 390Q490 379 522 342T554 242Q554 216 546 186Q541 164 528 137T492 78T426 18T332 -20Q320 -22 298 -22Q199 -22 144 33L134 44L106 13Q83 -14 78 -18T65 -22Q52 -22 52 -14Q52 -11 110 221Q112 227 130 227H143Q149 221 149 216Q149 214 148 207T144 186T142 153Q144 114 160 87T203 47T255 29T308 24Z\"/><g transform=\"translate(613,-150)\"><path stroke-width=\"1\" transform=\"scale(0.707)\" d=\"M213 578L200 573Q186 568 160 563T102 556H83V602H102Q149 604 189 617T245 641T273 663Q275 666 285 666Q294 666 302 660V361L303 61Q310 54 315 52T339 48T401 46H427V0H416Q395 3 257 3Q121 3 100 0H88V46H114Q136 46 152 46T177 47T193 50T201 52T207 57T213 61V578Z\"/></g></g></g></svg><span class=\"MJX_Assistive_MathML MJX_Assistive_MathML_Block\" role=\"presentation\"/></span></div><script type=\"math/tex; mode=display\" id=\"MathJax-Element-7\">B_1, G_1,S_1 </script></div></div></div></foreignObject><text x=\"37\" y=\"185\" fill=\"rgb(0, 0, 0)\" font-family=\"Helvetica\" font-size=\"14px\" text-anchor=\"middle\">B_1, G_1...</text></switch></g><rect x=\"441\" y=\"165\" width=\"60\" height=\"30\" fill=\"none\" stroke=\"none\" pointer-events=\"all\"/><g transform=\"translate(-0.5 -0.5)\"><switch><foreignObject pointer-events=\"none\" width=\"100%\" height=\"100%\" requiredFeatures=\"http://www.w3.org/TR/SVG11/feature#Extensibility\" style=\"overflow: visible; text-align: left;\"><div xmlns=\"http://www.w3.org/1999/xhtml\" style=\"display: flex; align-items: unsafe center; justify-content: unsafe center; width: 58px; height: 1px; padding-top: 180px; margin-left: 442px;\"><div data-drawio-colors=\"color: rgb(0, 0, 0); \" style=\"box-sizing: border-box; font-size: 0px; text-align: center;\"><div style=\"display: inline-block; font-size: 14px; font-family: Helvetica; color: rgb(0, 0, 0); line-height: 1.2; pointer-events: all; white-space: normal; overflow-wrap: normal;\"><span class=\"MathJax_Preview\" style=\"color: inherit;\"/><div class=\"MathJax_SVG_Display\" style=\"text-align: center;\"><span class=\"MathJax_SVG\" id=\"MathJax-Element-8-Frame\" tabindex=\"0\" data-mathml=\"&lt;math xmlns=&quot;http://www.w3.org/1998/Math/MathML&quot; display=&quot;block&quot;&gt;&lt;msub&gt;&lt;mi&gt;B&lt;/mi&gt;&lt;mn&gt;2&lt;/mn&gt;&lt;/msub&gt;&lt;mo&gt;,&lt;/mo&gt;&lt;msub&gt;&lt;mi&gt;G&lt;/mi&gt;&lt;mn&gt;6&lt;/mn&gt;&lt;/msub&gt;&lt;mo&gt;,&lt;/mo&gt;&lt;msub&gt;&lt;mi&gt;S&lt;/mi&gt;&lt;mn&gt;3&lt;/mn&gt;&lt;/msub&gt;&lt;/math&gt;\" role=\"presentation\" style=\"font-size: 100%; display: inline-block; position: relative;\"><svg xmlns=\"http://www.w3.org/2000/svg\" xmlns:xlink=\"http://www.w3.org/1999/xlink\" width=\"10.246ex\" height=\"2.486ex\" viewBox=\"0 -772.3 4411.6 1070.5\" role=\"img\" focusable=\"false\" style=\"vertical-align: -0.693ex;\" aria-hidden=\"true\"><g stroke=\"currentColor\" fill=\"currentColor\" stroke-width=\"0\" transform=\"matrix(1 0 0 -1 0 0)\"><path stroke-width=\"1\" d=\"M231 637Q204 637 199 638T194 649Q194 676 205 682Q206 683 335 683Q594 683 608 681Q671 671 713 636T756 544Q756 480 698 429T565 360L555 357Q619 348 660 311T702 219Q702 146 630 78T453 1Q446 0 242 0Q42 0 39 2Q35 5 35 10Q35 17 37 24Q42 43 47 45Q51 46 62 46H68Q95 46 128 49Q142 52 147 61Q150 65 219 339T288 628Q288 635 231 637ZM649 544Q649 574 634 600T585 634Q578 636 493 637Q473 637 451 637T416 636H403Q388 635 384 626Q382 622 352 506Q352 503 351 500L320 374H401Q482 374 494 376Q554 386 601 434T649 544ZM595 229Q595 273 572 302T512 336Q506 337 429 337Q311 337 310 336Q310 334 293 263T258 122L240 52Q240 48 252 48T333 46Q422 46 429 47Q491 54 543 105T595 229Z\"/><g transform=\"translate(759,-150)\"><path stroke-width=\"1\" transform=\"scale(0.707)\" d=\"M109 429Q82 429 66 447T50 491Q50 562 103 614T235 666Q326 666 387 610T449 465Q449 422 429 383T381 315T301 241Q265 210 201 149L142 93L218 92Q375 92 385 97Q392 99 409 186V189H449V186Q448 183 436 95T421 3V0H50V19V31Q50 38 56 46T86 81Q115 113 136 137Q145 147 170 174T204 211T233 244T261 278T284 308T305 340T320 369T333 401T340 431T343 464Q343 527 309 573T212 619Q179 619 154 602T119 569T109 550Q109 549 114 549Q132 549 151 535T170 489Q170 464 154 447T109 429Z\"/></g><g transform=\"translate(1213,0)\"><path stroke-width=\"1\" d=\"M78 35T78 60T94 103T137 121Q165 121 187 96T210 8Q210 -27 201 -60T180 -117T154 -158T130 -185T117 -194Q113 -194 104 -185T95 -172Q95 -168 106 -156T131 -126T157 -76T173 -3V9L172 8Q170 7 167 6T161 3T152 1T140 0Q113 0 96 17Z\"/></g><g transform=\"translate(1658,0)\"><path stroke-width=\"1\" d=\"M50 252Q50 367 117 473T286 641T490 704Q580 704 633 653Q642 643 648 636T656 626L657 623Q660 623 684 649Q691 655 699 663T715 679T725 690L740 705H746Q760 705 760 698Q760 694 728 561Q692 422 692 421Q690 416 687 415T669 413H653Q647 419 647 422Q647 423 648 429T650 449T651 481Q651 552 619 605T510 659Q492 659 471 656T418 643T357 615T294 567T236 496T189 394T158 260Q156 242 156 221Q156 173 170 136T206 79T256 45T308 28T353 24Q407 24 452 47T514 106Q517 114 529 161T541 214Q541 222 528 224T468 227H431Q425 233 425 235T427 254Q431 267 437 273H454Q494 271 594 271Q634 271 659 271T695 272T707 272Q721 272 721 263Q721 261 719 249Q714 230 709 228Q706 227 694 227Q674 227 653 224Q646 221 643 215T629 164Q620 131 614 108Q589 6 586 3Q584 1 581 1Q571 1 553 21T530 52Q530 53 528 52T522 47Q448 -22 322 -22Q201 -22 126 55T50 252Z\"/><g transform=\"translate(786,-150)\"><path stroke-width=\"1\" transform=\"scale(0.707)\" d=\"M42 313Q42 476 123 571T303 666Q372 666 402 630T432 550Q432 525 418 510T379 495Q356 495 341 509T326 548Q326 592 373 601Q351 623 311 626Q240 626 194 566Q147 500 147 364L148 360Q153 366 156 373Q197 433 263 433H267Q313 433 348 414Q372 400 396 374T435 317Q456 268 456 210V192Q456 169 451 149Q440 90 387 34T253 -22Q225 -22 199 -14T143 16T92 75T56 172T42 313ZM257 397Q227 397 205 380T171 335T154 278T148 216Q148 133 160 97T198 39Q222 21 251 21Q302 21 329 59Q342 77 347 104T352 209Q352 289 347 316T329 361Q302 397 257 397Z\"/></g></g><g transform=\"translate(2898,0)\"><path stroke-width=\"1\" d=\"M78 35T78 60T94 103T137 121Q165 121 187 96T210 8Q210 -27 201 -60T180 -117T154 -158T130 -185T117 -194Q113 -194 104 -185T95 -172Q95 -168 106 -156T131 -126T157 -76T173 -3V9L172 8Q170 7 167 6T161 3T152 1T140 0Q113 0 96 17Z\"/></g><g transform=\"translate(3344,0)\"><path stroke-width=\"1\" d=\"M308 24Q367 24 416 76T466 197Q466 260 414 284Q308 311 278 321T236 341Q176 383 176 462Q176 523 208 573T273 648Q302 673 343 688T407 704H418H425Q521 704 564 640Q565 640 577 653T603 682T623 704Q624 704 627 704T632 705Q645 705 645 698T617 577T585 459T569 456Q549 456 549 465Q549 471 550 475Q550 478 551 494T553 520Q553 554 544 579T526 616T501 641Q465 662 419 662Q362 662 313 616T263 510Q263 480 278 458T319 427Q323 425 389 408T456 390Q490 379 522 342T554 242Q554 216 546 186Q541 164 528 137T492 78T426 18T332 -20Q320 -22 298 -22Q199 -22 144 33L134 44L106 13Q83 -14 78 -18T65 -22Q52 -22 52 -14Q52 -11 110 221Q112 227 130 227H143Q149 221 149 216Q149 214 148 207T144 186T142 153Q144 114 160 87T203 47T255 29T308 24Z\"/><g transform=\"translate(613,-150)\"><path stroke-width=\"1\" transform=\"scale(0.707)\" d=\"M127 463Q100 463 85 480T69 524Q69 579 117 622T233 665Q268 665 277 664Q351 652 390 611T430 522Q430 470 396 421T302 350L299 348Q299 347 308 345T337 336T375 315Q457 262 457 175Q457 96 395 37T238 -22Q158 -22 100 21T42 130Q42 158 60 175T105 193Q133 193 151 175T169 130Q169 119 166 110T159 94T148 82T136 74T126 70T118 67L114 66Q165 21 238 21Q293 21 321 74Q338 107 338 175V195Q338 290 274 322Q259 328 213 329L171 330L168 332Q166 335 166 348Q166 366 174 366Q202 366 232 371Q266 376 294 413T322 525V533Q322 590 287 612Q265 626 240 626Q208 626 181 615T143 592T132 580H135Q138 579 143 578T153 573T165 566T175 555T183 540T186 520Q186 498 172 481T127 463Z\"/></g></g></g></svg><span class=\"MJX_Assistive_MathML MJX_Assistive_MathML_Block\" role=\"presentation\"/></span></div><script type=\"math/tex; mode=display\" id=\"MathJax-Element-8\">B_2, G_6, S_3 </script></div></div></div></foreignObject><text x=\"471\" y=\"184\" fill=\"rgb(0, 0, 0)\" font-family=\"Helvetica\" font-size=\"14px\" text-anchor=\"middle\">B_2, G_6...</text></switch></g><rect x=\"381\" y=\"234\" width=\"60\" height=\"30\" fill=\"none\" stroke=\"none\" pointer-events=\"all\"/><g transform=\"translate(-0.5 -0.5)\"><switch><foreignObject pointer-events=\"none\" width=\"100%\" height=\"100%\" requiredFeatures=\"http://www.w3.org/TR/SVG11/feature#Extensibility\" style=\"overflow: visible; text-align: left;\"><div xmlns=\"http://www.w3.org/1999/xhtml\" style=\"display: flex; align-items: unsafe center; justify-content: unsafe center; width: 58px; height: 1px; padding-top: 249px; margin-left: 382px;\"><div data-drawio-colors=\"color: rgb(0, 0, 0); \" style=\"box-sizing: border-box; font-size: 0px; text-align: center;\"><div style=\"display: inline-block; font-size: 14px; font-family: Helvetica; color: rgb(0, 0, 0); line-height: 1.2; pointer-events: all; white-space: normal; overflow-wrap: normal;\"><span class=\"MathJax_Preview\" style=\"color: inherit;\"/><div class=\"MathJax_SVG_Display\" style=\"text-align: center;\"><span class=\"MathJax_SVG\" id=\"MathJax-Element-9-Frame\" tabindex=\"0\" data-mathml=\"&lt;math xmlns=&quot;http://www.w3.org/1998/Math/MathML&quot; display=&quot;block&quot;&gt;&lt;msub&gt;&lt;mi&gt;G&lt;/mi&gt;&lt;mn&gt;4&lt;/mn&gt;&lt;/msub&gt;&lt;/math&gt;\" role=\"presentation\" style=\"font-size: 100%; display: inline-block; position: relative;\"><svg xmlns=\"http://www.w3.org/2000/svg\" xmlns:xlink=\"http://www.w3.org/1999/xlink\" width=\"2.881ex\" height=\"2.349ex\" viewBox=\"0 -772.3 1240.4 1011.3\" role=\"img\" focusable=\"false\" style=\"vertical-align: -0.555ex;\" aria-hidden=\"true\"><g stroke=\"currentColor\" fill=\"currentColor\" stroke-width=\"0\" transform=\"matrix(1 0 0 -1 0 0)\"><path stroke-width=\"1\" d=\"M50 252Q50 367 117 473T286 641T490 704Q580 704 633 653Q642 643 648 636T656 626L657 623Q660 623 684 649Q691 655 699 663T715 679T725 690L740 705H746Q760 705 760 698Q760 694 728 561Q692 422 692 421Q690 416 687 415T669 413H653Q647 419 647 422Q647 423 648 429T650 449T651 481Q651 552 619 605T510 659Q492 659 471 656T418 643T357 615T294 567T236 496T189 394T158 260Q156 242 156 221Q156 173 170 136T206 79T256 45T308 28T353 24Q407 24 452 47T514 106Q517 114 529 161T541 214Q541 222 528 224T468 227H431Q425 233 425 235T427 254Q431 267 437 273H454Q494 271 594 271Q634 271 659 271T695 272T707 272Q721 272 721 263Q721 261 719 249Q714 230 709 228Q706 227 694 227Q674 227 653 224Q646 221 643 215T629 164Q620 131 614 108Q589 6 586 3Q584 1 581 1Q571 1 553 21T530 52Q530 53 528 52T522 47Q448 -22 322 -22Q201 -22 126 55T50 252Z\"/><g transform=\"translate(786,-150)\"><path stroke-width=\"1\" transform=\"scale(0.707)\" d=\"M462 0Q444 3 333 3Q217 3 199 0H190V46H221Q241 46 248 46T265 48T279 53T286 61Q287 63 287 115V165H28V211L179 442Q332 674 334 675Q336 677 355 677H373L379 671V211H471V165H379V114Q379 73 379 66T385 54Q393 47 442 46H471V0H462ZM293 211V545L74 212L183 211H293Z\"/></g></g></svg><span class=\"MJX_Assistive_MathML MJX_Assistive_MathML_Block\" role=\"presentation\"/></span></div><script type=\"math/tex; mode=display\" id=\"MathJax-Element-9\">G_4</script></div></div></div></foreignObject><text x=\"411\" y=\"253\" fill=\"rgb(0, 0, 0)\" font-family=\"Helvetica\" font-size=\"14px\" text-anchor=\"middle\">\n",
       "G_4</text></switch></g><path d=\"M 441 156 L 541 156\" fill=\"none\" stroke=\"#000000\" stroke-miterlimit=\"10\" stroke-dasharray=\"3 3\" pointer-events=\"stroke\"/><path d=\"M 65.57 155.95 L 92.76 155.99\" fill=\"none\" stroke=\"#d79b00\" stroke-width=\"2\" stroke-miterlimit=\"10\" pointer-events=\"stroke\"/><path d=\"M 98.76 156 L 90.76 159.99 L 92.76 155.99 L 90.77 151.99 Z\" fill=\"#d79b00\" stroke=\"#d79b00\" stroke-width=\"2\" stroke-miterlimit=\"10\" pointer-events=\"all\"/><path d=\"M 426 156 L 452.76 156\" fill=\"none\" stroke=\"#d79b00\" stroke-width=\"2\" stroke-miterlimit=\"10\" pointer-events=\"stroke\"/><path d=\"M 458.76 156 L 450.76 160 L 452.76 156 L 450.76 152 Z\" fill=\"#d79b00\" stroke=\"#d79b00\" stroke-width=\"2\" stroke-miterlimit=\"10\" pointer-events=\"all\"/><rect x=\"66\" y=\"152\" width=\"60\" height=\"30\" fill=\"none\" stroke=\"none\" pointer-events=\"all\"/><g transform=\"translate(-0.5 -0.5)\"><switch><foreignObject pointer-events=\"none\" width=\"100%\" height=\"100%\" requiredFeatures=\"http://www.w3.org/TR/SVG11/feature#Extensibility\" style=\"overflow: visible; text-align: left;\"><div xmlns=\"http://www.w3.org/1999/xhtml\" style=\"display: flex; align-items: unsafe center; justify-content: unsafe center; width: 58px; height: 1px; padding-top: 167px; margin-left: 67px;\"><div data-drawio-colors=\"color: rgb(0, 0, 0); \" style=\"box-sizing: border-box; font-size: 0px; text-align: center;\"><div style=\"display: inline-block; font-size: 14px; font-family: Helvetica; color: rgb(0, 0, 0); line-height: 1.2; pointer-events: all; white-space: normal; overflow-wrap: normal;\"><font color=\"#d79b00\"><span class=\"MathJax_Preview\" style=\"color: inherit;\"/><div class=\"MathJax_SVG_Display\" style=\"text-align: center;\"><span class=\"MathJax_SVG\" id=\"MathJax-Element-10-Frame\" tabindex=\"0\" data-mathml=\"&lt;math xmlns=&quot;http://www.w3.org/1998/Math/MathML&quot; display=&quot;block&quot;&gt;&lt;msub&gt;&lt;mi&gt;q&lt;/mi&gt;&lt;mn&gt;1&lt;/mn&gt;&lt;/msub&gt;&lt;/math&gt;\" role=\"presentation\" style=\"font-size: 100%; display: inline-block; position: relative;\"><svg xmlns=\"http://www.w3.org/2000/svg\" xmlns:xlink=\"http://www.w3.org/1999/xlink\" width=\"2.091ex\" height=\"1.936ex\" viewBox=\"0 -535.3 900.4 833.5\" role=\"img\" focusable=\"false\" style=\"vertical-align: -0.693ex;\" aria-hidden=\"true\"><g stroke=\"currentColor\" fill=\"currentColor\" stroke-width=\"0\" transform=\"matrix(1 0 0 -1 0 0)\"><path stroke-width=\"1\" d=\"M33 157Q33 258 109 349T280 441Q340 441 372 389Q373 390 377 395T388 406T404 418Q438 442 450 442Q454 442 457 439T460 434Q460 425 391 149Q320 -135 320 -139Q320 -147 365 -148H390Q396 -156 396 -157T393 -175Q389 -188 383 -194H370Q339 -192 262 -192Q234 -192 211 -192T174 -192T157 -193Q143 -193 143 -185Q143 -182 145 -170Q149 -154 152 -151T172 -148Q220 -148 230 -141Q238 -136 258 -53T279 32Q279 33 272 29Q224 -10 172 -10Q117 -10 75 30T33 157ZM352 326Q329 405 277 405Q242 405 210 374T160 293Q131 214 119 129Q119 126 119 118T118 106Q118 61 136 44T179 26Q233 26 290 98L298 109L352 326Z\"/><g transform=\"translate(446,-150)\"><path stroke-width=\"1\" transform=\"scale(0.707)\" d=\"M213 578L200 573Q186 568 160 563T102 556H83V602H102Q149 604 189 617T245 641T273 663Q275 666 285 666Q294 666 302 660V361L303 61Q310 54 315 52T339 48T401 46H427V0H416Q395 3 257 3Q121 3 100 0H88V46H114Q136 46 152 46T177 47T193 50T201 52T207 57T213 61V578Z\"/></g></g></svg><span class=\"MJX_Assistive_MathML MJX_Assistive_MathML_Block\" role=\"presentation\"/></span></div><script type=\"math/tex; mode=display\" id=\"MathJax-Element-10\">q_1</script></font></div></div></div></foreignObject><text x=\"96\" y=\"171\" fill=\"rgb(0, 0, 0)\" font-family=\"Helvetica\" font-size=\"14px\" text-anchor=\"middle\">\n",
       "q_1</text></switch></g><rect x=\"423\" y=\"125\" width=\"60\" height=\"30\" fill=\"none\" stroke=\"none\" pointer-events=\"all\"/><g transform=\"translate(-0.5 -0.5)\"><switch><foreignObject pointer-events=\"none\" width=\"100%\" height=\"100%\" requiredFeatures=\"http://www.w3.org/TR/SVG11/feature#Extensibility\" style=\"overflow: visible; text-align: left;\"><div xmlns=\"http://www.w3.org/1999/xhtml\" style=\"display: flex; align-items: unsafe center; justify-content: unsafe center; width: 58px; height: 1px; padding-top: 140px; margin-left: 424px;\"><div data-drawio-colors=\"color: rgb(0, 0, 0); \" style=\"box-sizing: border-box; font-size: 0px; text-align: center;\"><div style=\"display: inline-block; font-size: 14px; font-family: Helvetica; color: rgb(0, 0, 0); line-height: 1.2; pointer-events: all; white-space: normal; overflow-wrap: normal;\"><font color=\"#d79b00\"><span class=\"MathJax_Preview\" style=\"color: inherit;\"/><div class=\"MathJax_SVG_Display\" style=\"text-align: center;\"><span class=\"MathJax_SVG\" id=\"MathJax-Element-11-Frame\" tabindex=\"0\" data-mathml=\"&lt;math xmlns=&quot;http://www.w3.org/1998/Math/MathML&quot; display=&quot;block&quot;&gt;&lt;msub&gt;&lt;mi&gt;q&lt;/mi&gt;&lt;mn&gt;2&lt;/mn&gt;&lt;/msub&gt;&lt;/math&gt;\" role=\"presentation\" style=\"font-size: 100%; display: inline-block; position: relative;\"><svg xmlns=\"http://www.w3.org/2000/svg\" xmlns:xlink=\"http://www.w3.org/1999/xlink\" width=\"2.091ex\" height=\"1.936ex\" viewBox=\"0 -535.3 900.4 833.5\" role=\"img\" focusable=\"false\" style=\"vertical-align: -0.693ex;\" aria-hidden=\"true\"><g stroke=\"currentColor\" fill=\"currentColor\" stroke-width=\"0\" transform=\"matrix(1 0 0 -1 0 0)\"><path stroke-width=\"1\" d=\"M33 157Q33 258 109 349T280 441Q340 441 372 389Q373 390 377 395T388 406T404 418Q438 442 450 442Q454 442 457 439T460 434Q460 425 391 149Q320 -135 320 -139Q320 -147 365 -148H390Q396 -156 396 -157T393 -175Q389 -188 383 -194H370Q339 -192 262 -192Q234 -192 211 -192T174 -192T157 -193Q143 -193 143 -185Q143 -182 145 -170Q149 -154 152 -151T172 -148Q220 -148 230 -141Q238 -136 258 -53T279 32Q279 33 272 29Q224 -10 172 -10Q117 -10 75 30T33 157ZM352 326Q329 405 277 405Q242 405 210 374T160 293Q131 214 119 129Q119 126 119 118T118 106Q118 61 136 44T179 26Q233 26 290 98L298 109L352 326Z\"/><g transform=\"translate(446,-150)\"><path stroke-width=\"1\" transform=\"scale(0.707)\" d=\"M109 429Q82 429 66 447T50 491Q50 562 103 614T235 666Q326 666 387 610T449 465Q449 422 429 383T381 315T301 241Q265 210 201 149L142 93L218 92Q375 92 385 97Q392 99 409 186V189H449V186Q448 183 436 95T421 3V0H50V19V31Q50 38 56 46T86 81Q115 113 136 137Q145 147 170 174T204 211T233 244T261 278T284 308T305 340T320 369T333 401T340 431T343 464Q343 527 309 573T212 619Q179 619 154 602T119 569T109 550Q109 549 114 549Q132 549 151 535T170 489Q170 464 154 447T109 429Z\"/></g></g></svg><span class=\"MJX_Assistive_MathML MJX_Assistive_MathML_Block\" role=\"presentation\"/></span></div><script type=\"math/tex; mode=display\" id=\"MathJax-Element-11\">q_2</script></font></div></div></div></foreignObject><text x=\"453\" y=\"144\" fill=\"rgb(0, 0, 0)\" font-family=\"Helvetica\" font-size=\"14px\" text-anchor=\"middle\">\n",
       "q_2</text></switch></g><rect x=\"51\" y=\"121\" width=\"60\" height=\"30\" fill=\"none\" stroke=\"none\" pointer-events=\"all\"/><g transform=\"translate(-0.5 -0.5)\"><switch><foreignObject pointer-events=\"none\" width=\"100%\" height=\"100%\" requiredFeatures=\"http://www.w3.org/TR/SVG11/feature#Extensibility\" style=\"overflow: visible; text-align: left;\"><div xmlns=\"http://www.w3.org/1999/xhtml\" style=\"display: flex; align-items: unsafe center; justify-content: unsafe center; width: 58px; height: 1px; padding-top: 136px; margin-left: 52px;\"><div data-drawio-colors=\"color: rgb(0, 0, 0); \" style=\"box-sizing: border-box; font-size: 0px; text-align: center;\"><div style=\"display: inline-block; font-size: 14px; font-family: Helvetica; color: rgb(0, 0, 0); line-height: 1.2; pointer-events: all; white-space: normal; overflow-wrap: normal;\"><span class=\"MathJax_Preview\" style=\"color: inherit;\"/><div class=\"MathJax_SVG_Display\" style=\"text-align: center;\"><span class=\"MathJax_SVG\" id=\"MathJax-Element-12-Frame\" tabindex=\"0\" data-mathml=\"&lt;math xmlns=&quot;http://www.w3.org/1998/Math/MathML&quot; display=&quot;block&quot;&gt;&lt;msub&gt;&lt;mi&gt;m&lt;/mi&gt;&lt;mn&gt;1&lt;/mn&gt;&lt;/msub&gt;&lt;/math&gt;\" role=\"presentation\" style=\"font-size: 100%; display: inline-block; position: relative;\"><svg xmlns=\"http://www.w3.org/2000/svg\" xmlns:xlink=\"http://www.w3.org/1999/xlink\" width=\"3.095ex\" height=\"1.798ex\" viewBox=\"0 -535.3 1332.4 774.3\" role=\"img\" focusable=\"false\" style=\"vertical-align: -0.555ex;\" aria-hidden=\"true\"><g stroke=\"currentColor\" fill=\"currentColor\" stroke-width=\"0\" transform=\"matrix(1 0 0 -1 0 0)\"><path stroke-width=\"1\" d=\"M21 287Q22 293 24 303T36 341T56 388T88 425T132 442T175 435T205 417T221 395T229 376L231 369Q231 367 232 367L243 378Q303 442 384 442Q401 442 415 440T441 433T460 423T475 411T485 398T493 385T497 373T500 364T502 357L510 367Q573 442 659 442Q713 442 746 415T780 336Q780 285 742 178T704 50Q705 36 709 31T724 26Q752 26 776 56T815 138Q818 149 821 151T837 153Q857 153 857 145Q857 144 853 130Q845 101 831 73T785 17T716 -10Q669 -10 648 17T627 73Q627 92 663 193T700 345Q700 404 656 404H651Q565 404 506 303L499 291L466 157Q433 26 428 16Q415 -11 385 -11Q372 -11 364 -4T353 8T350 18Q350 29 384 161L420 307Q423 322 423 345Q423 404 379 404H374Q288 404 229 303L222 291L189 157Q156 26 151 16Q138 -11 108 -11Q95 -11 87 -5T76 7T74 17Q74 30 112 181Q151 335 151 342Q154 357 154 369Q154 405 129 405Q107 405 92 377T69 316T57 280Q55 278 41 278H27Q21 284 21 287Z\"/><g transform=\"translate(878,-150)\"><path stroke-width=\"1\" transform=\"scale(0.707)\" d=\"M213 578L200 573Q186 568 160 563T102 556H83V602H102Q149 604 189 617T245 641T273 663Q275 666 285 666Q294 666 302 660V361L303 61Q310 54 315 52T339 48T401 46H427V0H416Q395 3 257 3Q121 3 100 0H88V46H114Q136 46 152 46T177 47T193 50T201 52T207 57T213 61V578Z\"/></g></g></svg><span class=\"MJX_Assistive_MathML MJX_Assistive_MathML_Block\" role=\"presentation\"/></span></div><script type=\"math/tex; mode=display\" id=\"MathJax-Element-12\">m_1</script></div></div></div></foreignObject><text x=\"81\" y=\"140\" fill=\"rgb(0, 0, 0)\" font-family=\"Helvetica\" font-size=\"14px\" text-anchor=\"middle\">\n",
       "m_1</text></switch></g><rect x=\"404\" y=\"116\" width=\"60\" height=\"30\" fill=\"none\" stroke=\"none\" pointer-events=\"all\"/><g transform=\"translate(-0.5 -0.5)\"><switch><foreignObject pointer-events=\"none\" width=\"100%\" height=\"100%\" requiredFeatures=\"http://www.w3.org/TR/SVG11/feature#Extensibility\" style=\"overflow: visible; text-align: left;\"><div xmlns=\"http://www.w3.org/1999/xhtml\" style=\"display: flex; align-items: unsafe center; justify-content: unsafe center; width: 58px; height: 1px; padding-top: 131px; margin-left: 405px;\"><div data-drawio-colors=\"color: rgb(0, 0, 0); \" style=\"box-sizing: border-box; font-size: 0px; text-align: center;\"><div style=\"display: inline-block; font-size: 14px; font-family: Helvetica; color: rgb(0, 0, 0); line-height: 1.2; pointer-events: all; white-space: normal; overflow-wrap: normal;\"><span class=\"MathJax_Preview\" style=\"color: inherit;\"/><div class=\"MathJax_SVG_Display\" style=\"text-align: center;\"><span class=\"MathJax_SVG\" id=\"MathJax-Element-13-Frame\" tabindex=\"0\" data-mathml=\"&lt;math xmlns=&quot;http://www.w3.org/1998/Math/MathML&quot; display=&quot;block&quot;&gt;&lt;msub&gt;&lt;mi&gt;m&lt;/mi&gt;&lt;mn&gt;3&lt;/mn&gt;&lt;/msub&gt;&lt;/math&gt;\" role=\"presentation\" style=\"font-size: 100%; display: inline-block; position: relative;\"><svg xmlns=\"http://www.w3.org/2000/svg\" xmlns:xlink=\"http://www.w3.org/1999/xlink\" width=\"3.095ex\" height=\"1.798ex\" viewBox=\"0 -535.3 1332.4 774.3\" role=\"img\" focusable=\"false\" style=\"vertical-align: -0.555ex;\" aria-hidden=\"true\"><g stroke=\"currentColor\" fill=\"currentColor\" stroke-width=\"0\" transform=\"matrix(1 0 0 -1 0 0)\"><path stroke-width=\"1\" d=\"M21 287Q22 293 24 303T36 341T56 388T88 425T132 442T175 435T205 417T221 395T229 376L231 369Q231 367 232 367L243 378Q303 442 384 442Q401 442 415 440T441 433T460 423T475 411T485 398T493 385T497 373T500 364T502 357L510 367Q573 442 659 442Q713 442 746 415T780 336Q780 285 742 178T704 50Q705 36 709 31T724 26Q752 26 776 56T815 138Q818 149 821 151T837 153Q857 153 857 145Q857 144 853 130Q845 101 831 73T785 17T716 -10Q669 -10 648 17T627 73Q627 92 663 193T700 345Q700 404 656 404H651Q565 404 506 303L499 291L466 157Q433 26 428 16Q415 -11 385 -11Q372 -11 364 -4T353 8T350 18Q350 29 384 161L420 307Q423 322 423 345Q423 404 379 404H374Q288 404 229 303L222 291L189 157Q156 26 151 16Q138 -11 108 -11Q95 -11 87 -5T76 7T74 17Q74 30 112 181Q151 335 151 342Q154 357 154 369Q154 405 129 405Q107 405 92 377T69 316T57 280Q55 278 41 278H27Q21 284 21 287Z\"/><g transform=\"translate(878,-150)\"><path stroke-width=\"1\" transform=\"scale(0.707)\" d=\"M127 463Q100 463 85 480T69 524Q69 579 117 622T233 665Q268 665 277 664Q351 652 390 611T430 522Q430 470 396 421T302 350L299 348Q299 347 308 345T337 336T375 315Q457 262 457 175Q457 96 395 37T238 -22Q158 -22 100 21T42 130Q42 158 60 175T105 193Q133 193 151 175T169 130Q169 119 166 110T159 94T148 82T136 74T126 70T118 67L114 66Q165 21 238 21Q293 21 321 74Q338 107 338 175V195Q338 290 274 322Q259 328 213 329L171 330L168 332Q166 335 166 348Q166 366 174 366Q202 366 232 371Q266 376 294 413T322 525V533Q322 590 287 612Q265 626 240 626Q208 626 181 615T143 592T132 580H135Q138 579 143 578T153 573T165 566T175 555T183 540T186 520Q186 498 172 481T127 463Z\"/></g></g></svg><span class=\"MJX_Assistive_MathML MJX_Assistive_MathML_Block\" role=\"presentation\"/></span></div><script type=\"math/tex; mode=display\" id=\"MathJax-Element-13\">m_3</script></div></div></div></foreignObject><text x=\"434\" y=\"135\" fill=\"rgb(0, 0, 0)\" font-family=\"Helvetica\" font-size=\"14px\" text-anchor=\"middle\">\n",
       "m_3</text></switch></g><path d=\"M 67.37 36 L 414.63 36\" fill=\"none\" stroke=\"rgb(0, 0, 0)\" stroke-miterlimit=\"10\" pointer-events=\"stroke\"/><path d=\"M 62.12 36 L 69.12 32.5 L 67.37 36 L 69.12 39.5 Z\" fill=\"rgb(0, 0, 0)\" stroke=\"rgb(0, 0, 0)\" stroke-miterlimit=\"10\" pointer-events=\"all\"/><path d=\"M 419.88 36 L 412.88 39.5 L 414.63 36 L 412.88 32.5 Z\" fill=\"rgb(0, 0, 0)\" stroke=\"rgb(0, 0, 0)\" stroke-miterlimit=\"10\" pointer-events=\"all\"/><path d=\"M 421 146 L 420.76 36\" fill=\"none\" stroke=\"rgb(0, 0, 0)\" stroke-miterlimit=\"10\" stroke-dasharray=\"3 3\" pointer-events=\"stroke\"/><path d=\"M 61 75 L 60.86 35\" fill=\"none\" stroke=\"rgb(0, 0, 0)\" stroke-miterlimit=\"10\" stroke-dasharray=\"3 3\" pointer-events=\"stroke\"/><rect x=\"231\" y=\"7\" width=\"60\" height=\"30\" fill=\"none\" stroke=\"none\" pointer-events=\"all\"/><g transform=\"translate(-0.5 -0.5)\"><switch><foreignObject pointer-events=\"none\" width=\"100%\" height=\"100%\" requiredFeatures=\"http://www.w3.org/TR/SVG11/feature#Extensibility\" style=\"overflow: visible; text-align: left;\"><div xmlns=\"http://www.w3.org/1999/xhtml\" style=\"display: flex; align-items: unsafe center; justify-content: unsafe center; width: 58px; height: 1px; padding-top: 22px; margin-left: 232px;\"><div data-drawio-colors=\"color: rgb(0, 0, 0); \" style=\"box-sizing: border-box; font-size: 0px; text-align: center;\"><div style=\"display: inline-block; font-size: 14px; font-family: Helvetica; color: rgb(0, 0, 0); line-height: 1.2; pointer-events: all; white-space: normal; overflow-wrap: normal;\"><span class=\"MathJax_Preview\" style=\"color: inherit;\"/><div class=\"MathJax_SVG_Display\" style=\"text-align: center;\"><span class=\"MathJax_SVG\" id=\"MathJax-Element-14-Frame\" tabindex=\"0\" data-mathml=\"&lt;math xmlns=&quot;http://www.w3.org/1998/Math/MathML&quot; display=&quot;block&quot;&gt;&lt;msub&gt;&lt;mi&gt;l&lt;/mi&gt;&lt;mn&gt;0&lt;/mn&gt;&lt;/msub&gt;&lt;/math&gt;\" role=\"presentation\" style=\"font-size: 100%; display: inline-block; position: relative;\"><svg xmlns=\"http://www.w3.org/2000/svg\" xmlns:xlink=\"http://www.w3.org/1999/xlink\" width=\"1.748ex\" height=\"2.349ex\" viewBox=\"0 -772.3 752.4 1011.3\" role=\"img\" focusable=\"false\" style=\"vertical-align: -0.555ex;\" aria-hidden=\"true\"><g stroke=\"currentColor\" fill=\"currentColor\" stroke-width=\"0\" transform=\"matrix(1 0 0 -1 0 0)\"><path stroke-width=\"1\" d=\"M117 59Q117 26 142 26Q179 26 205 131Q211 151 215 152Q217 153 225 153H229Q238 153 241 153T246 151T248 144Q247 138 245 128T234 90T214 43T183 6T137 -11Q101 -11 70 11T38 85Q38 97 39 102L104 360Q167 615 167 623Q167 626 166 628T162 632T157 634T149 635T141 636T132 637T122 637Q112 637 109 637T101 638T95 641T94 647Q94 649 96 661Q101 680 107 682T179 688Q194 689 213 690T243 693T254 694Q266 694 266 686Q266 675 193 386T118 83Q118 81 118 75T117 65V59Z\"/><g transform=\"translate(298,-150)\"><path stroke-width=\"1\" transform=\"scale(0.707)\" d=\"M96 585Q152 666 249 666Q297 666 345 640T423 548Q460 465 460 320Q460 165 417 83Q397 41 362 16T301 -15T250 -22Q224 -22 198 -16T137 16T82 83Q39 165 39 320Q39 494 96 585ZM321 597Q291 629 250 629Q208 629 178 597Q153 571 145 525T137 333Q137 175 145 125T181 46Q209 16 250 16Q290 16 318 46Q347 76 354 130T362 333Q362 478 354 524T321 597Z\"/></g></g></svg><span class=\"MJX_Assistive_MathML MJX_Assistive_MathML_Block\" role=\"presentation\"/></span></div><script type=\"math/tex; mode=display\" id=\"MathJax-Element-14\">l_0</script></div></div></div></foreignObject><text x=\"261\" y=\"26\" fill=\"rgb(0, 0, 0)\" font-family=\"Helvetica\" font-size=\"14px\" text-anchor=\"middle\">\n",
       "l_0</text></switch></g><rect x=\"96\" y=\"205\" width=\"70\" height=\"20\" fill=\"none\" stroke=\"none\" pointer-events=\"all\"/><g transform=\"translate(-0.5 -0.5)\"><switch><foreignObject pointer-events=\"none\" width=\"100%\" height=\"100%\" requiredFeatures=\"http://www.w3.org/TR/SVG11/feature#Extensibility\" style=\"overflow: visible; text-align: left;\"><div xmlns=\"http://www.w3.org/1999/xhtml\" style=\"display: flex; align-items: unsafe center; justify-content: unsafe center; width: 1px; height: 1px; padding-top: 215px; margin-left: 131px;\"><div data-drawio-colors=\"color: rgb(0, 0, 0); \" style=\"box-sizing: border-box; font-size: 0px; text-align: center;\"><div style=\"display: inline-block; font-size: 12px; font-family: Helvetica; color: rgb(0, 0, 0); line-height: 1.2; pointer-events: all; white-space: nowrap;\"><span style=\"font-size: 14px\"><span class=\"MathJax_Preview\" style=\"color: inherit;\"/><div class=\"MathJax_SVG_Display\" style=\"text-align: center;\"><span class=\"MathJax_SVG\" id=\"MathJax-Element-15-Frame\" tabindex=\"0\" data-mathml=\"&lt;math xmlns=&quot;http://www.w3.org/1998/Math/MathML&quot; display=&quot;block&quot;&gt;&lt;msub&gt;&lt;mi&gt;l&lt;/mi&gt;&lt;mn&gt;1&lt;/mn&gt;&lt;/msub&gt;&lt;/math&gt;\" role=\"presentation\" style=\"font-size: 100%; display: inline-block; position: relative;\"><svg xmlns=\"http://www.w3.org/2000/svg\" xmlns:xlink=\"http://www.w3.org/1999/xlink\" width=\"1.748ex\" height=\"2.349ex\" viewBox=\"0 -772.3 752.4 1011.3\" role=\"img\" focusable=\"false\" style=\"vertical-align: -0.555ex;\" aria-hidden=\"true\"><g stroke=\"currentColor\" fill=\"currentColor\" stroke-width=\"0\" transform=\"matrix(1 0 0 -1 0 0)\"><path stroke-width=\"1\" d=\"M117 59Q117 26 142 26Q179 26 205 131Q211 151 215 152Q217 153 225 153H229Q238 153 241 153T246 151T248 144Q247 138 245 128T234 90T214 43T183 6T137 -11Q101 -11 70 11T38 85Q38 97 39 102L104 360Q167 615 167 623Q167 626 166 628T162 632T157 634T149 635T141 636T132 637T122 637Q112 637 109 637T101 638T95 641T94 647Q94 649 96 661Q101 680 107 682T179 688Q194 689 213 690T243 693T254 694Q266 694 266 686Q266 675 193 386T118 83Q118 81 118 75T117 65V59Z\"/><g transform=\"translate(298,-150)\"><path stroke-width=\"1\" transform=\"scale(0.707)\" d=\"M213 578L200 573Q186 568 160 563T102 556H83V602H102Q149 604 189 617T245 641T273 663Q275 666 285 666Q294 666 302 660V361L303 61Q310 54 315 52T339 48T401 46H427V0H416Q395 3 257 3Q121 3 100 0H88V46H114Q136 46 152 46T177 47T193 50T201 52T207 57T213 61V578Z\"/></g></g></svg><span class=\"MJX_Assistive_MathML MJX_Assistive_MathML_Block\" role=\"presentation\"/></span></div><script type=\"math/tex; mode=display\" id=\"MathJax-Element-15\">l_1 </script></span></div></div></div></foreignObject><text x=\"131\" y=\"219\" fill=\"rgb(0, 0, 0)\" font-family=\"Helvetica\" font-size=\"12px\" text-anchor=\"middle\">\n",
       "l_1 </text></switch></g><rect x=\"353\" y=\"185\" width=\"70\" height=\"20\" fill=\"none\" stroke=\"none\" pointer-events=\"all\"/><g transform=\"translate(-0.5 -0.5)\"><switch><foreignObject pointer-events=\"none\" width=\"100%\" height=\"100%\" requiredFeatures=\"http://www.w3.org/TR/SVG11/feature#Extensibility\" style=\"overflow: visible; text-align: left;\"><div xmlns=\"http://www.w3.org/1999/xhtml\" style=\"display: flex; align-items: unsafe center; justify-content: unsafe center; width: 1px; height: 1px; padding-top: 195px; margin-left: 388px;\"><div data-drawio-colors=\"color: rgb(0, 0, 0); \" style=\"box-sizing: border-box; font-size: 0px; text-align: center;\"><div style=\"display: inline-block; font-size: 12px; font-family: Helvetica; color: rgb(0, 0, 0); line-height: 1.2; pointer-events: all; white-space: nowrap;\"><span style=\"font-size: 14px\"><span class=\"MathJax_Preview\" style=\"color: inherit;\"/><div class=\"MathJax_SVG_Display\" style=\"text-align: center;\"><span class=\"MathJax_SVG\" id=\"MathJax-Element-20-Frame\" tabindex=\"0\" data-mathml=\"&lt;math xmlns=&quot;http://www.w3.org/1998/Math/MathML&quot; display=&quot;block&quot;&gt;&lt;msub&gt;&lt;mi&gt;l&lt;/mi&gt;&lt;mn&gt;2&lt;/mn&gt;&lt;/msub&gt;&lt;/math&gt;\" role=\"presentation\" style=\"font-size: 100%; display: inline-block; position: relative;\"><svg xmlns=\"http://www.w3.org/2000/svg\" xmlns:xlink=\"http://www.w3.org/1999/xlink\" width=\"1.748ex\" height=\"2.349ex\" viewBox=\"0 -772.3 752.4 1011.3\" role=\"img\" focusable=\"false\" style=\"vertical-align: -0.555ex;\" aria-hidden=\"true\"><g stroke=\"currentColor\" fill=\"currentColor\" stroke-width=\"0\" transform=\"matrix(1 0 0 -1 0 0)\"><path stroke-width=\"1\" d=\"M117 59Q117 26 142 26Q179 26 205 131Q211 151 215 152Q217 153 225 153H229Q238 153 241 153T246 151T248 144Q247 138 245 128T234 90T214 43T183 6T137 -11Q101 -11 70 11T38 85Q38 97 39 102L104 360Q167 615 167 623Q167 626 166 628T162 632T157 634T149 635T141 636T132 637T122 637Q112 637 109 637T101 638T95 641T94 647Q94 649 96 661Q101 680 107 682T179 688Q194 689 213 690T243 693T254 694Q266 694 266 686Q266 675 193 386T118 83Q118 81 118 75T117 65V59Z\"/><g transform=\"translate(298,-150)\"><path stroke-width=\"1\" transform=\"scale(0.707)\" d=\"M109 429Q82 429 66 447T50 491Q50 562 103 614T235 666Q326 666 387 610T449 465Q449 422 429 383T381 315T301 241Q265 210 201 149L142 93L218 92Q375 92 385 97Q392 99 409 186V189H449V186Q448 183 436 95T421 3V0H50V19V31Q50 38 56 46T86 81Q115 113 136 137Q145 147 170 174T204 211T233 244T261 278T284 308T305 340T320 369T333 401T340 431T343 464Q343 527 309 573T212 619Q179 619 154 602T119 569T109 550Q109 549 114 549Q132 549 151 535T170 489Q170 464 154 447T109 429Z\"/></g></g></svg><span class=\"MJX_Assistive_MathML MJX_Assistive_MathML_Block\" role=\"presentation\"/></span></div><script type=\"math/tex; mode=display\" id=\"MathJax-Element-20\">l_2</script></span></div></div></div></foreignObject><text x=\"388\" y=\"199\" fill=\"rgb(0, 0, 0)\" font-family=\"Helvetica\" font-size=\"12px\" text-anchor=\"middle\">\n",
       "l_2</text></switch></g><path d=\"M 327 308 L 188 308\" fill=\"none\" stroke=\"rgb(0, 0, 0)\" stroke-miterlimit=\"10\" stroke-dasharray=\"3 3\" pointer-events=\"stroke\"/><rect x=\"256\" y=\"278\" width=\"60\" height=\"30\" fill=\"none\" stroke=\"none\" pointer-events=\"all\"/><g transform=\"translate(-0.5 -0.5)\"><switch><foreignObject pointer-events=\"none\" width=\"100%\" height=\"100%\" requiredFeatures=\"http://www.w3.org/TR/SVG11/feature#Extensibility\" style=\"overflow: visible; text-align: left;\"><div xmlns=\"http://www.w3.org/1999/xhtml\" style=\"display: flex; align-items: unsafe center; justify-content: unsafe center; width: 58px; height: 1px; padding-top: 293px; margin-left: 257px;\"><div data-drawio-colors=\"color: rgb(0, 0, 0); \" style=\"box-sizing: border-box; font-size: 0px; text-align: center;\"><div style=\"display: inline-block; font-size: 14px; font-family: Helvetica; color: rgb(0, 0, 0); line-height: 1.2; pointer-events: all; white-space: normal; overflow-wrap: normal;\"><font color=\"#82b366\"><span class=\"MathJax_Preview\" style=\"color: inherit;\"/><div class=\"MathJax_SVG_Display\" style=\"text-align: center;\"><span class=\"MathJax_SVG\" id=\"MathJax-Element-17-Frame\" tabindex=\"0\" data-mathml=\"&lt;math xmlns=&quot;http://www.w3.org/1998/Math/MathML&quot; display=&quot;block&quot;&gt;&lt;msub&gt;&lt;mi&gt;p&lt;/mi&gt;&lt;mn&gt;3&lt;/mn&gt;&lt;/msub&gt;&lt;/math&gt;\" role=\"presentation\" style=\"font-size: 100%; display: inline-block; position: relative;\"><svg xmlns=\"http://www.w3.org/2000/svg\" xmlns:xlink=\"http://www.w3.org/1999/xlink\" width=\"2.313ex\" height=\"1.936ex\" viewBox=\"-38.5 -535.3 995.9 833.5\" role=\"img\" focusable=\"false\" style=\"vertical-align: -0.693ex; margin-left: -0.089ex;\" aria-hidden=\"true\"><g stroke=\"currentColor\" fill=\"currentColor\" stroke-width=\"0\" transform=\"matrix(1 0 0 -1 0 0)\"><path stroke-width=\"1\" d=\"M23 287Q24 290 25 295T30 317T40 348T55 381T75 411T101 433T134 442Q209 442 230 378L240 387Q302 442 358 442Q423 442 460 395T497 281Q497 173 421 82T249 -10Q227 -10 210 -4Q199 1 187 11T168 28L161 36Q160 35 139 -51T118 -138Q118 -144 126 -145T163 -148H188Q194 -155 194 -157T191 -175Q188 -187 185 -190T172 -194Q170 -194 161 -194T127 -193T65 -192Q-5 -192 -24 -194H-32Q-39 -187 -39 -183Q-37 -156 -26 -148H-6Q28 -147 33 -136Q36 -130 94 103T155 350Q156 355 156 364Q156 405 131 405Q109 405 94 377T71 316T59 280Q57 278 43 278H29Q23 284 23 287ZM178 102Q200 26 252 26Q282 26 310 49T356 107Q374 141 392 215T411 325V331Q411 405 350 405Q339 405 328 402T306 393T286 380T269 365T254 350T243 336T235 326L232 322Q232 321 229 308T218 264T204 212Q178 106 178 102Z\"/><g transform=\"translate(503,-150)\"><path stroke-width=\"1\" transform=\"scale(0.707)\" d=\"M127 463Q100 463 85 480T69 524Q69 579 117 622T233 665Q268 665 277 664Q351 652 390 611T430 522Q430 470 396 421T302 350L299 348Q299 347 308 345T337 336T375 315Q457 262 457 175Q457 96 395 37T238 -22Q158 -22 100 21T42 130Q42 158 60 175T105 193Q133 193 151 175T169 130Q169 119 166 110T159 94T148 82T136 74T126 70T118 67L114 66Q165 21 238 21Q293 21 321 74Q338 107 338 175V195Q338 290 274 322Q259 328 213 329L171 330L168 332Q166 335 166 348Q166 366 174 366Q202 366 232 371Q266 376 294 413T322 525V533Q322 590 287 612Q265 626 240 626Q208 626 181 615T143 592T132 580H135Q138 579 143 578T153 573T165 566T175 555T183 540T186 520Q186 498 172 481T127 463Z\"/></g></g></svg><span class=\"MJX_Assistive_MathML MJX_Assistive_MathML_Block\" role=\"presentation\"/></span></div><script type=\"math/tex; mode=display\" id=\"MathJax-Element-17\">p_3</script></font></div></div></div></foreignObject><text x=\"286\" y=\"297\" fill=\"rgb(0, 0, 0)\" font-family=\"Helvetica\" font-size=\"14px\" text-anchor=\"middle\">\n",
       "p_3</text></switch></g><path d=\"M 308.67 285.23 C 311.85 292.04 313.5 299.47 313.5 307\" fill=\"none\" stroke=\"#82b366\" stroke-miterlimit=\"10\" pointer-events=\"all\"/><path d=\"M 309 286 L 305.91 282.03\" fill=\"none\" stroke=\"#82b366\" stroke-miterlimit=\"10\" pointer-events=\"stroke\"/><path d=\"M 302.69 277.88 L 309.75 281.26 L 305.91 282.03 L 304.22 285.56 Z\" fill=\"#82b366\" stroke=\"#82b366\" stroke-miterlimit=\"10\" pointer-events=\"all\"/><path d=\"M 286 156 L 285.84 263.63\" fill=\"none\" stroke=\"#82b366\" stroke-miterlimit=\"10\" pointer-events=\"stroke\"/><path d=\"M 285.83 268.88 L 282.34 261.88 L 285.84 263.63 L 289.34 261.89 Z\" fill=\"#82b366\" stroke=\"#82b366\" stroke-miterlimit=\"10\" pointer-events=\"all\"/><path d=\"M 61 276 L 273.63 275.83\" fill=\"none\" stroke=\"#82b366\" stroke-miterlimit=\"10\" pointer-events=\"stroke\"/><path d=\"M 278.88 275.83 L 271.88 279.34 L 273.63 275.83 L 271.88 272.34 Z\" fill=\"#82b366\" stroke=\"#82b366\" stroke-miterlimit=\"10\" pointer-events=\"all\"/><rect x=\"271\" y=\"195\" width=\"60\" height=\"30\" fill=\"none\" stroke=\"none\" pointer-events=\"all\"/><g transform=\"translate(-0.5 -0.5)\"><switch><foreignObject pointer-events=\"none\" width=\"100%\" height=\"100%\" requiredFeatures=\"http://www.w3.org/TR/SVG11/feature#Extensibility\" style=\"overflow: visible; text-align: left;\"><div xmlns=\"http://www.w3.org/1999/xhtml\" style=\"display: flex; align-items: unsafe center; justify-content: unsafe center; width: 58px; height: 1px; padding-top: 210px; margin-left: 272px;\"><div data-drawio-colors=\"color: rgb(0, 0, 0); \" style=\"box-sizing: border-box; font-size: 0px; text-align: center;\"><div style=\"display: inline-block; font-size: 14px; font-family: Helvetica; color: rgb(0, 0, 0); line-height: 1.2; pointer-events: all; white-space: normal; overflow-wrap: normal;\"><font color=\"#82b366\"><span class=\"MathJax_Preview\" style=\"color: inherit;\"/><div class=\"MathJax_SVG_Display\" style=\"text-align: center;\"><span class=\"MathJax_SVG\" id=\"MathJax-Element-18-Frame\" tabindex=\"0\" data-mathml=\"&lt;math xmlns=&quot;http://www.w3.org/1998/Math/MathML&quot; display=&quot;block&quot;&gt;&lt;msub&gt;&lt;mi&gt;p&lt;/mi&gt;&lt;mn&gt;2&lt;/mn&gt;&lt;/msub&gt;&lt;/math&gt;\" role=\"presentation\" style=\"font-size: 100%; display: inline-block; position: relative;\"><svg xmlns=\"http://www.w3.org/2000/svg\" xmlns:xlink=\"http://www.w3.org/1999/xlink\" width=\"2.313ex\" height=\"1.936ex\" viewBox=\"-38.5 -535.3 995.9 833.5\" role=\"img\" focusable=\"false\" style=\"vertical-align: -0.693ex; margin-left: -0.089ex;\" aria-hidden=\"true\"><g stroke=\"currentColor\" fill=\"currentColor\" stroke-width=\"0\" transform=\"matrix(1 0 0 -1 0 0)\"><path stroke-width=\"1\" d=\"M23 287Q24 290 25 295T30 317T40 348T55 381T75 411T101 433T134 442Q209 442 230 378L240 387Q302 442 358 442Q423 442 460 395T497 281Q497 173 421 82T249 -10Q227 -10 210 -4Q199 1 187 11T168 28L161 36Q160 35 139 -51T118 -138Q118 -144 126 -145T163 -148H188Q194 -155 194 -157T191 -175Q188 -187 185 -190T172 -194Q170 -194 161 -194T127 -193T65 -192Q-5 -192 -24 -194H-32Q-39 -187 -39 -183Q-37 -156 -26 -148H-6Q28 -147 33 -136Q36 -130 94 103T155 350Q156 355 156 364Q156 405 131 405Q109 405 94 377T71 316T59 280Q57 278 43 278H29Q23 284 23 287ZM178 102Q200 26 252 26Q282 26 310 49T356 107Q374 141 392 215T411 325V331Q411 405 350 405Q339 405 328 402T306 393T286 380T269 365T254 350T243 336T235 326L232 322Q232 321 229 308T218 264T204 212Q178 106 178 102Z\"/><g transform=\"translate(503,-150)\"><path stroke-width=\"1\" transform=\"scale(0.707)\" d=\"M109 429Q82 429 66 447T50 491Q50 562 103 614T235 666Q326 666 387 610T449 465Q449 422 429 383T381 315T301 241Q265 210 201 149L142 93L218 92Q375 92 385 97Q392 99 409 186V189H449V186Q448 183 436 95T421 3V0H50V19V31Q50 38 56 46T86 81Q115 113 136 137Q145 147 170 174T204 211T233 244T261 278T284 308T305 340T320 369T333 401T340 431T343 464Q343 527 309 573T212 619Q179 619 154 602T119 569T109 550Q109 549 114 549Q132 549 151 535T170 489Q170 464 154 447T109 429Z\"/></g></g></svg><span class=\"MJX_Assistive_MathML MJX_Assistive_MathML_Block\" role=\"presentation\"/></span></div><script type=\"math/tex; mode=display\" id=\"MathJax-Element-18\">p_2</script></font></div></div></div></foreignObject><text x=\"301\" y=\"214\" fill=\"rgb(0, 0, 0)\" font-family=\"Helvetica\" font-size=\"14px\" text-anchor=\"middle\">\n",
       "p_2</text></switch></g><rect x=\"161\" y=\"248\" width=\"60\" height=\"30\" fill=\"none\" stroke=\"none\" pointer-events=\"all\"/><g transform=\"translate(-0.5 -0.5)\"><switch><foreignObject pointer-events=\"none\" width=\"100%\" height=\"100%\" requiredFeatures=\"http://www.w3.org/TR/SVG11/feature#Extensibility\" style=\"overflow: visible; text-align: left;\"><div xmlns=\"http://www.w3.org/1999/xhtml\" style=\"display: flex; align-items: unsafe center; justify-content: unsafe center; width: 58px; height: 1px; padding-top: 263px; margin-left: 162px;\"><div data-drawio-colors=\"color: rgb(0, 0, 0); \" style=\"box-sizing: border-box; font-size: 0px; text-align: center;\"><div style=\"display: inline-block; font-size: 14px; font-family: Helvetica; color: rgb(0, 0, 0); line-height: 1.2; pointer-events: all; white-space: normal; overflow-wrap: normal;\"><font color=\"#82b366\"><span class=\"MathJax_Preview\" style=\"color: inherit;\"/><div class=\"MathJax_SVG_Display\" style=\"text-align: center;\"><span class=\"MathJax_SVG\" id=\"MathJax-Element-19-Frame\" tabindex=\"0\" data-mathml=\"&lt;math xmlns=&quot;http://www.w3.org/1998/Math/MathML&quot; display=&quot;block&quot;&gt;&lt;msub&gt;&lt;mi&gt;p&lt;/mi&gt;&lt;mn&gt;1&lt;/mn&gt;&lt;/msub&gt;&lt;/math&gt;\" role=\"presentation\" style=\"font-size: 100%; display: inline-block; position: relative;\"><svg xmlns=\"http://www.w3.org/2000/svg\" xmlns:xlink=\"http://www.w3.org/1999/xlink\" width=\"2.313ex\" height=\"1.936ex\" viewBox=\"-38.5 -535.3 995.9 833.5\" role=\"img\" focusable=\"false\" style=\"vertical-align: -0.693ex; margin-left: -0.089ex;\" aria-hidden=\"true\"><g stroke=\"currentColor\" fill=\"currentColor\" stroke-width=\"0\" transform=\"matrix(1 0 0 -1 0 0)\"><path stroke-width=\"1\" d=\"M23 287Q24 290 25 295T30 317T40 348T55 381T75 411T101 433T134 442Q209 442 230 378L240 387Q302 442 358 442Q423 442 460 395T497 281Q497 173 421 82T249 -10Q227 -10 210 -4Q199 1 187 11T168 28L161 36Q160 35 139 -51T118 -138Q118 -144 126 -145T163 -148H188Q194 -155 194 -157T191 -175Q188 -187 185 -190T172 -194Q170 -194 161 -194T127 -193T65 -192Q-5 -192 -24 -194H-32Q-39 -187 -39 -183Q-37 -156 -26 -148H-6Q28 -147 33 -136Q36 -130 94 103T155 350Q156 355 156 364Q156 405 131 405Q109 405 94 377T71 316T59 280Q57 278 43 278H29Q23 284 23 287ZM178 102Q200 26 252 26Q282 26 310 49T356 107Q374 141 392 215T411 325V331Q411 405 350 405Q339 405 328 402T306 393T286 380T269 365T254 350T243 336T235 326L232 322Q232 321 229 308T218 264T204 212Q178 106 178 102Z\"/><g transform=\"translate(503,-150)\"><path stroke-width=\"1\" transform=\"scale(0.707)\" d=\"M213 578L200 573Q186 568 160 563T102 556H83V602H102Q149 604 189 617T245 641T273 663Q275 666 285 666Q294 666 302 660V361L303 61Q310 54 315 52T339 48T401 46H427V0H416Q395 3 257 3Q121 3 100 0H88V46H114Q136 46 152 46T177 47T193 50T201 52T207 57T213 61V578Z\"/></g></g></svg><span class=\"MJX_Assistive_MathML MJX_Assistive_MathML_Block\" role=\"presentation\"/></span></div><script type=\"math/tex; mode=display\" id=\"MathJax-Element-19\">p_1</script></font></div></div></div></foreignObject><text x=\"191\" y=\"267\" fill=\"rgb(0, 0, 0)\" font-family=\"Helvetica\" font-size=\"14px\" text-anchor=\"middle\">\n",
       "p_1</text></switch></g></g><switch><g requiredFeatures=\"http://www.w3.org/TR/SVG11/feature#Extensibility\"/><a transform=\"translate(0,-5)\" xlink:href=\"https://www.diagrams.net/doc/faq/svg-export-text-problems\" target=\"_blank\"><text text-anchor=\"middle\" font-size=\"10px\" x=\"50%\" y=\"100%\">Text is not SVG - cannot display</text></a></switch></svg>"
      ],
      "text/plain": [
       "<IPython.core.display.SVG object>"
      ]
     },
     "execution_count": 2,
     "metadata": {},
     "output_type": "execute_result"
    }
   ],
   "source": [
    "from IPython.display import Image\n",
    "from IPython.core.display import SVG\n",
    "SVG(filename='ODE_flatness_analysis_simulation_diagram.svg')"
   ]
  },
  {
   "cell_type": "code",
   "execution_count": 3,
   "metadata": {
    "scrolled": false
   },
   "outputs": [
    {
     "data": {
      "text/latex": [
       "aa.T := $\\displaystyle \\left[\\begin{matrix}a_{1} & a_{2} & a_{3} & a_{4}\\end{matrix}\\right]$"
      ],
      "text/plain": [
       "aa.T := [a₁  a₂  a₃  a₄]"
      ]
     },
     "metadata": {},
     "output_type": "display_data"
    },
    {
     "data": {
      "text/plain": [
       "---"
      ]
     },
     "metadata": {},
     "output_type": "display_data"
    },
    {
     "data": {
      "text/latex": [
       "ttheta.T := $\\displaystyle \\left[\\begin{matrix}p_{1} & p_{2} & p_{3} & q_{1} & q_{2}\\end{matrix}\\right]$"
      ],
      "text/plain": [
       "ttheta.T := [p₁  p₂  p₃  q₁  q₂]"
      ]
     },
     "metadata": {},
     "output_type": "display_data"
    },
    {
     "data": {
      "text/plain": [
       "---"
      ]
     },
     "metadata": {},
     "output_type": "display_data"
    },
    {
     "data": {
      "text/latex": [
       "tthetad.T := $\\displaystyle \\left[\\begin{matrix}\\dot{p}_{1} & \\dot{p}_{2} & \\dot{p}_{3} & \\dot{q}_{1} & \\dot{q}_{2}\\end{matrix}\\right]$"
      ],
      "text/plain": [
       "tthetad.T := [ṗ₁  ṗ₂  ṗ₃  q̇₁  q̇₂]"
      ]
     },
     "metadata": {},
     "output_type": "display_data"
    },
    {
     "data": {
      "text/plain": [
       "---"
      ]
     },
     "metadata": {},
     "output_type": "display_data"
    },
    {
     "data": {
      "text/latex": [
       "tthetadd.T := $\\displaystyle \\left[\\begin{matrix}\\ddot{p}_{1} & \\ddot{p}_{2} & \\ddot{p}_{3} & \\ddot{q}_{1} & \\ddot{q}_{2}\\end{matrix}\\right]$"
      ],
      "text/plain": [
       "tthetadd.T := [p̈₁  p̈₂  p̈₃  q̈₁  q̈₂]"
      ]
     },
     "metadata": {},
     "output_type": "display_data"
    },
    {
     "data": {
      "text/plain": [
       "---"
      ]
     },
     "metadata": {},
     "output_type": "display_data"
    },
    {
     "data": {
      "text/latex": [
       "tthetaddd.T := $\\displaystyle \\left[\\begin{matrix}\\dddot{p}_{1} & \\dddot{p}_{2} & \\dddot{p}_{3} & \\dddot{q}_{1} & \\dddot{q}_{2}\\end{matrix}\\right]$"
      ],
      "text/plain": [
       "tthetaddd.T := [p⃛₁  p⃛₂  p⃛₃  q⃛₁  q⃛₂]"
      ]
     },
     "metadata": {},
     "output_type": "display_data"
    },
    {
     "data": {
      "text/plain": [
       "---"
      ]
     },
     "metadata": {},
     "output_type": "display_data"
    },
    {
     "data": {
      "text/latex": [
       "tthetadddd.T := $\\displaystyle \\left[\\begin{matrix}\\ddddot{p}_{1} & \\ddddot{p}_{2} & \\ddddot{p}_{3} & \\ddddot{q}_{1} & \\ddddot{q}_{2}\\end{matrix}\\right]$"
      ],
      "text/plain": [
       "tthetadddd.T := [p⃜₁  p⃜₂  p⃜₃  q⃜₁  q⃜₂]"
      ]
     },
     "metadata": {},
     "output_type": "display_data"
    },
    {
     "data": {
      "text/plain": [
       "---"
      ]
     },
     "metadata": {},
     "output_type": "display_data"
    },
    {
     "data": {
      "text/latex": [
       "meas_states.T := $\\displaystyle \\left[\\begin{matrix}pm_{1} & pm_{2} & pm_{3} & qm_{1} & qm_{2}\\end{matrix}\\right]$"
      ],
      "text/plain": [
       "meas_states.T := [pm₁  pm₂  pm₃  qm₁  qm₂]"
      ]
     },
     "metadata": {},
     "output_type": "display_data"
    },
    {
     "data": {
      "text/plain": [
       "---"
      ]
     },
     "metadata": {},
     "output_type": "display_data"
    },
    {
     "data": {
      "text/latex": [
       "meas_states_d.T := $\\displaystyle \\left[\\begin{matrix}\\dot{pm}_{1} & \\dot{pm}_{2} & \\dot{pm}_{3} & \\dot{qm}_{1} & \\dot{qm}_{2}\\end{matrix}\\right]$"
      ],
      "text/plain": [
       "meas_states_d.T := [pṁ₁  pṁ₂  pṁ₃  qṁ₁  qṁ₂]"
      ]
     },
     "metadata": {},
     "output_type": "display_data"
    },
    {
     "data": {
      "text/plain": [
       "---"
      ]
     },
     "metadata": {},
     "output_type": "display_data"
    },
    {
     "data": {
      "text/latex": [
       "QQ.T := $\\displaystyle \\left[\\begin{matrix}Q_{1} & Q_{2} & Q_{3} & Q_{4} & Q_{5}\\end{matrix}\\right]$"
      ],
      "text/plain": [
       "QQ.T := [Q₁  Q₂  Q₃  Q₄  Q₅]"
      ]
     },
     "metadata": {},
     "output_type": "display_data"
    },
    {
     "data": {
      "text/plain": [
       "---"
      ]
     },
     "metadata": {},
     "output_type": "display_data"
    }
   ],
   "source": [
    "t = sp.Symbol('t')  # time variable\n",
    "\n",
    "# coordinates\n",
    "np = 3 # number of passive coordinates (not directly actuated)\n",
    "nq = 2 # number of actuated coordinates\n",
    "n = np + nq\n",
    "\n",
    "pp = st.symb_vector(\"p1:{0}\".format(np+1)) # vector of passive coordinates\n",
    "qq = st.symb_vector(\"q1:{0}\".format(nq+1)) # vector of actuated coordinates\n",
    "\n",
    "\n",
    "\n",
    "# vector of control inputs\n",
    "aa = st.symb_vector(\"a1:{0}\".format(4+1)) ##:T\n",
    "# vector of all coordinates\n",
    "ttheta = st.row_stack(pp, qq) ##:T\n",
    "# vector of velocities \n",
    "tthetad = st.time_deriv(ttheta, ttheta) ##:T\n",
    "# vector of accelerations\n",
    "tthetadd = st.time_deriv(ttheta, ttheta, order=2) ##:T\n",
    "tthetaddd = st.time_deriv(ttheta, ttheta, order=3) ##:T\n",
    "tthetadddd = st.time_deriv(ttheta, ttheta, order=4) ##:T\n",
    "\n",
    "st.make_global(ttheta, tthetad, tthetadd, tthetaddd, tthetadddd)\n",
    "\n",
    "# define symbols for measured states\n",
    "p_meas = st.symb_vector(\"pm1:{0}\".format(3+1)) # error vector of passive coordinates\n",
    "q_meas = st.symb_vector(\"qm1:{0}\".format(2+1)) # error vector of actuated coordinates\n",
    "\n",
    "meas_states = st.row_stack(p_meas, q_meas) ##:T\n",
    "meas_states_d = st.time_deriv(meas_states, meas_states) ##:T\n",
    "\n",
    "st.make_global(meas_states, meas_states_d)\n",
    "\n",
    "# define symbols for reference trajectory states\n",
    "p_ref = st.symb_vector(\"pr1:{0}\".format(3+1)) # error vector of passive coordinates\n",
    "q_ref = st.symb_vector(\"qr1:{0}\".format(2+1)) # error vector of actuated coordinates\n",
    "\n",
    "ref_states = st.row_stack(p_ref, q_ref)\n",
    "ref_states_d = st.time_deriv(ref_states, ref_states)\n",
    "ref_states_dd = st.time_deriv(ref_states, ref_states, order=2)\n",
    "ref_states_ddd = st.time_deriv(ref_states, ref_states, order=3)\n",
    "ref_states_dddd = st.time_deriv(ref_states, ref_states, order=4)\n",
    "\n",
    "st.make_global(ref_states, ref_states_d, ref_states_dd, ref_states_ddd, ref_states_dddd)\n",
    "\n",
    "aalpha = sp.symbols('alpha1, alpha3, alpha4') # vector of 1 times integrated original inputs\n",
    "bbeta = sp.symbols('beta1, beta3, beta4') # vector of 2 times integrated original inputs\n",
    "\n",
    "st.make_global(aalpha, bbeta)\n",
    "\n",
    "QQ = st.symb_vector(\"Q1:{0}\".format(n+1)) ##:T # vector of generalized foces\n",
    "st.make_global(QQ)"
   ]
  },
  {
   "cell_type": "code",
   "execution_count": 4,
   "metadata": {},
   "outputs": [],
   "source": [
    "# symbols for analytic equations\n",
    "params = sp.symbols('s2, m1, m2, m3, J1, J2, J3, mc1b, mc2b d1, d4, l0, l1, l2, l3, g')\n",
    "st.make_global(params)\n",
    "\n",
    "# symbols for control inputs\n",
    "# ttau = sp.symbols('tau')\n",
    "tau1, tau2, tau3, tau4 = ttau = st.symb_vector(\"tau1, tau2, tau3, tau4\")"
   ]
  },
  {
   "cell_type": "markdown",
   "metadata": {},
   "source": [
    "Specify the geometry (joints G and centers of masses S)"
   ]
  },
  {
   "cell_type": "code",
   "execution_count": 5,
   "metadata": {},
   "outputs": [
    {
     "data": {
      "text/latex": [
       "B1 := $\\displaystyle \\left[\\begin{matrix}q_{1}\\\\0\\end{matrix}\\right]$"
      ],
      "text/plain": [
       "B1 := ⎡q₁⎤\n",
       "⎢  ⎥\n",
       "⎣0 ⎦"
      ]
     },
     "metadata": {},
     "output_type": "display_data"
    },
    {
     "data": {
      "text/plain": [
       "---"
      ]
     },
     "metadata": {},
     "output_type": "display_data"
    },
    {
     "data": {
      "text/latex": [
       "B2 := $\\displaystyle \\left[\\begin{matrix}l_{0} + q_{2}\\\\0\\end{matrix}\\right]$"
      ],
      "text/plain": [
       "B2 := ⎡l₀ + q₂⎤\n",
       "⎢       ⎥\n",
       "⎣   0   ⎦"
      ]
     },
     "metadata": {},
     "output_type": "display_data"
    },
    {
     "data": {
      "text/plain": [
       "---"
      ]
     },
     "metadata": {},
     "output_type": "display_data"
    },
    {
     "data": {
      "text/latex": [
       "G3 := $\\displaystyle \\left[\\begin{matrix}p_{1} - s_{2} \\cos{\\left(p_{3} \\right)}\\\\p_{2} - s_{2} \\sin{\\left(p_{3} \\right)}\\end{matrix}\\right]$"
      ],
      "text/plain": [
       "G3 := ⎡p₁ - s₂⋅cos(p₃)⎤\n",
       "⎢               ⎥\n",
       "⎣p₂ - s₂⋅sin(p₃)⎦"
      ]
     },
     "metadata": {},
     "output_type": "display_data"
    },
    {
     "data": {
      "text/plain": [
       "---"
      ]
     },
     "metadata": {},
     "output_type": "display_data"
    },
    {
     "data": {
      "text/latex": [
       "G4 := $\\displaystyle \\left[\\begin{matrix}p_{1} + s_{2} \\cos{\\left(p_{3} \\right)}\\\\p_{2} + s_{2} \\sin{\\left(p_{3} \\right)}\\end{matrix}\\right]$"
      ],
      "text/plain": [
       "G4 := ⎡p₁ + s₂⋅cos(p₃)⎤\n",
       "⎢               ⎥\n",
       "⎣p₂ + s₂⋅sin(p₃)⎦"
      ]
     },
     "metadata": {},
     "output_type": "display_data"
    },
    {
     "data": {
      "text/plain": [
       "---"
      ]
     },
     "metadata": {},
     "output_type": "display_data"
    },
    {
     "data": {
      "text/latex": [
       "(Sd1, Sd2, Sd3) := $\\displaystyle \\left( \\left[\\begin{matrix}\\dot{q}_{1}\\\\0\\end{matrix}\\right], \\  \\left[\\begin{matrix}\\dot{p}_{1}\\\\\\dot{p}_{2}\\end{matrix}\\right], \\  \\left[\\begin{matrix}\\dot{q}_{2}\\\\0\\end{matrix}\\right]\\right)$"
      ],
      "text/plain": [
       "(Sd1, Sd2, Sd3) := ⎛⎡q̇₁⎤  ⎡ṗ₁⎤  ⎡q̇₂⎤⎞\n",
       "⎜⎢  ⎥, ⎢  ⎥, ⎢  ⎥⎟\n",
       "⎝⎣0 ⎦  ⎣ṗ₂⎦  ⎣0 ⎦⎠"
      ]
     },
     "metadata": {},
     "output_type": "display_data"
    },
    {
     "data": {
      "text/plain": [
       "---"
      ]
     },
     "metadata": {},
     "output_type": "display_data"
    }
   ],
   "source": [
    "# unit vectors\n",
    "ex = sp.Matrix([1, 0])\n",
    "ey = sp.Matrix([0, 1])\n",
    "\n",
    "# basis 1 and 2 (cart positions)\n",
    "S1 = G1 = B1 = sp.Matrix([q1, 0]) ##:\n",
    "S3 = G6 = B2 = sp.Matrix([l0 + q2, 0]) ##:\n",
    "\n",
    "# center of gravity of load\n",
    "S2 = sp.Matrix([p1, p2])\n",
    "\n",
    "# suspension points of load\n",
    "G3 = S2 - Rz(p3)*ex*s2 ##:\n",
    "G4 = S2 + Rz(p3)*ex*s2 ##:\n",
    "\n",
    "# Time derivatives of centers of masses\n",
    "Sd1, Sd2, Sd3 = st.col_split(st.time_deriv(st.col_stack(S1, S2, S3), ttheta)) ##:\n",
    "\n",
    "# rope vectors\n",
    "rope1 = (G3 - S1)\n",
    "rope2 = (G4 - S3)"
   ]
  },
  {
   "cell_type": "markdown",
   "metadata": {},
   "source": [
    "# Initial values"
   ]
  },
  {
   "cell_type": "code",
   "execution_count": 6,
   "metadata": {},
   "outputs": [],
   "source": [
    "# load model etc. from pickle of flatness analysis notebook\n",
    "with open(\"flatness_analysis_control.pcl\", \"rb\") as pfile:\n",
    "    data = pickle.load(pfile)\n",
    "    locals().update(data)"
   ]
  },
  {
   "cell_type": "code",
   "execution_count": 7,
   "metadata": {},
   "outputs": [],
   "source": [
    "# load model etc. from pickle of flatness analysis notebook\n",
    "with open(\"qstat_expr.pcl\", \"rb\") as pfile:\n",
    "    data = pickle.load(pfile)\n",
    "    locals().update(data)"
   ]
  },
  {
   "cell_type": "code",
   "execution_count": 8,
   "metadata": {},
   "outputs": [
    {
     "data": {
      "text/latex": [
       "$\\displaystyle \\left[\\begin{matrix}23756\\\\20310\\\\20318\\\\20210\\end{matrix}\\right]$"
      ],
      "text/plain": [
       "⎡23756⎤\n",
       "⎢     ⎥\n",
       "⎢20310⎥\n",
       "⎢     ⎥\n",
       "⎢20318⎥\n",
       "⎢     ⎥\n",
       "⎣20210⎦"
      ]
     },
     "execution_count": 8,
     "metadata": {},
     "output_type": "execute_result"
    }
   ],
   "source": [
    "dyn_tau.co"
   ]
  },
  {
   "cell_type": "code",
   "execution_count": 9,
   "metadata": {
    "scrolled": false
   },
   "outputs": [
    {
     "data": {
      "text/plain": [
       "sys_params := [('J2', 0.004553475),\n",
       " ('g', 9.81),\n",
       " ('l0', 0.3),\n",
       " ('m1', 0.45),\n",
       " ('m2', 0.557),\n",
       " ('m3', 0.45),\n",
       " ('s2', 0.15)]"
      ]
     },
     "metadata": {},
     "output_type": "display_data"
    },
    {
     "data": {
      "text/plain": [
       "---"
      ]
     },
     "metadata": {},
     "output_type": "display_data"
    }
   ],
   "source": [
    "sys_params = list(dict(J2=0.004553475, g=9.81, l0=0.3, m1=0.45, m2=0.557, m3=0.45, s2=0.15).items()) ##:"
   ]
  },
  {
   "cell_type": "code",
   "execution_count": 10,
   "metadata": {
    "scrolled": false
   },
   "outputs": [
    {
     "data": {
      "text/latex": [
       "$\\displaystyle \\left[\\begin{matrix}- \\frac{\\tau_{4} \\left(- l_{0} + p_{1} - q_{2} + s_{2} \\cos{\\left(p_{3} \\right)}\\right)}{l_{2}} - \\frac{\\tau_{3} \\left(p_{1} - q_{1} - s_{2} \\cos{\\left(p_{3} \\right)}\\right)}{l_{1}}\\\\g m_{2} - \\frac{\\tau_{4} \\left(p_{2} + s_{2} \\sin{\\left(p_{3} \\right)}\\right)}{l_{2}} - \\frac{\\tau_{3} \\left(p_{2} - s_{2} \\sin{\\left(p_{3} \\right)}\\right)}{l_{1}}\\\\- \\frac{s_{2} \\tau_{4} \\left(p_{2} + s_{2} \\sin{\\left(p_{3} \\right)}\\right) \\cos{\\left(p_{3} \\right)}}{l_{2}} + \\frac{s_{2} \\tau_{4} \\left(- l_{0} + p_{1} - q_{2} + s_{2} \\cos{\\left(p_{3} \\right)}\\right) \\sin{\\left(p_{3} \\right)}}{l_{2}} + \\frac{s_{2} \\tau_{3} \\left(p_{2} - s_{2} \\sin{\\left(p_{3} \\right)}\\right) \\cos{\\left(p_{3} \\right)}}{l_{1}} - \\frac{s_{2} \\tau_{3} \\left(p_{1} - q_{1} - s_{2} \\cos{\\left(p_{3} \\right)}\\right) \\sin{\\left(p_{3} \\right)}}{l_{1}}\\\\- \\tau_{1} + \\frac{\\tau_{3} \\left(p_{1} - q_{1} - s_{2} \\cos{\\left(p_{3} \\right)}\\right)}{l_{1}}\\\\- \\tau_{2} + \\frac{\\tau_{4} \\left(- l_{0} + p_{1} - q_{2} + s_{2} \\cos{\\left(p_{3} \\right)}\\right)}{l_{2}}\\end{matrix}\\right]$"
      ],
      "text/plain": [
       "⎡                                               τ₄⋅(-l₀ + p₁ - q₂ + s₂⋅cos(p₃)\n",
       "⎢                                             - ──────────────────────────────\n",
       "⎢                                                              l₂             \n",
       "⎢                                                                             \n",
       "⎢                                                         τ₄⋅(p₂ + s₂⋅sin(p₃))\n",
       "⎢                                                  g⋅m₂ - ────────────────────\n",
       "⎢                                                                  l₂         \n",
       "⎢                                                                             \n",
       "⎢  s₂⋅τ₄⋅(p₂ + s₂⋅sin(p₃))⋅cos(p₃)   s₂⋅τ₄⋅(-l₀ + p₁ - q₂ + s₂⋅cos(p₃))⋅sin(p₃\n",
       "⎢- ─────────────────────────────── + ─────────────────────────────────────────\n",
       "⎢                 l₂                                     l₂                   \n",
       "⎢                                                                             \n",
       "⎢                                                                  τ₃⋅(p₁ - q₁\n",
       "⎢                                                            -τ₁ + ───────────\n",
       "⎢                                                                             \n",
       "⎢                                                                             \n",
       "⎢                                                               τ₄⋅(-l₀ + p₁ -\n",
       "⎢                                                         -τ₂ + ──────────────\n",
       "⎣                                                                             \n",
       "\n",
       ")   τ₃⋅(p₁ - q₁ - s₂⋅cos(p₃))                                             ⎤\n",
       "─ - ─────────────────────────                                             ⎥\n",
       "                l₁                                                        ⎥\n",
       "                                                                          ⎥\n",
       "   τ₃⋅(p₂ - s₂⋅sin(p₃))                                                   ⎥\n",
       " - ────────────────────                                                   ⎥\n",
       "            l₁                                                            ⎥\n",
       "                                                                          ⎥\n",
       ")   s₂⋅τ₃⋅(p₂ - s₂⋅sin(p₃))⋅cos(p₃)   s₂⋅τ₃⋅(p₁ - q₁ - s₂⋅cos(p₃))⋅sin(p₃)⎥\n",
       "─ + ─────────────────────────────── - ────────────────────────────────────⎥\n",
       "                   l₁                                  l₁                 ⎥\n",
       "                                                                          ⎥\n",
       " - s₂⋅cos(p₃))                                                            ⎥\n",
       "──────────────                                                            ⎥\n",
       " l₁                                                                       ⎥\n",
       "                                                                          ⎥\n",
       " q₂ + s₂⋅cos(p₃))                                                         ⎥\n",
       "─────────────────                                                         ⎥\n",
       " l₂                                                                       ⎦"
      ]
     },
     "execution_count": 10,
     "metadata": {},
     "output_type": "execute_result"
    }
   ],
   "source": [
    "eqns.subz0(tthetadd)"
   ]
  },
  {
   "cell_type": "code",
   "execution_count": 11,
   "metadata": {},
   "outputs": [
    {
     "data": {
      "image/png": "[encoded data removed]",
      "text/latex": [
       "eqlbr_conditions := $\\displaystyle \\left[ \\left( q_{1}, \\  0\\right), \\  \\left( p_{1}, \\  0.15\\right), \\  \\left( p_{2}, \\  -0.4\\right), \\  \\left( p_{3}, \\  0\\right), \\  \\left( \\tau_{1}, \\  0\\right), \\  \\left( \\tau_{2}, \\  0\\right), \\  \\left( \\tau_{3}, \\  \\tau_{4}\\right)\\right]$"
      ],
      "text/plain": [
       "eqlbr_conditions := [(q₁, 0), (p₁, 0.15), (p₂, -0.4), (p₃, 0), (τ₁, 0), (τ₂, 0), (τ₃, τ₄)]"
      ]
     },
     "metadata": {},
     "output_type": "display_data"
    },
    {
     "data": {
      "text/plain": [
       "---"
      ]
     },
     "metadata": {},
     "output_type": "display_data"
    },
    {
     "data": {
      "text/latex": [
       "res := $\\displaystyle \\left[\\begin{matrix}\\frac{q_{2} \\tau_{4}}{\\sqrt{q_{2}^{2} + 0.16}}\\\\1.0 \\tau_{4} + \\frac{0.4 \\tau_{4}}{\\sqrt{q_{2}^{2} + 0.16}} + 5.46417\\\\- 0.15 \\tau_{4} + \\frac{0.06 \\tau_{4}}{\\sqrt{q_{2}^{2} + 0.16}}\\\\0\\\\- \\frac{q_{2} \\tau_{4}}{\\sqrt{q_{2}^{2} + 0.16}}\\end{matrix}\\right]$"
      ],
      "text/plain": [
       "res := ⎡              q₂⋅τ₄               ⎤\n",
       "⎢         ───────────────          ⎥\n",
       "⎢            ____________          ⎥\n",
       "⎢           ╱   2                  ⎥\n",
       "⎢         ╲╱  q₂  + 0.16           ⎥\n",
       "⎢                                  ⎥\n",
       "⎢              0.4⋅τ₄              ⎥\n",
       "⎢1.0⋅τ₄ + ─────────────── + 5.46417⎥\n",
       "⎢            ____________          ⎥\n",
       "⎢           ╱   2                  ⎥\n",
       "⎢         ╲╱  q₂  + 0.16           ⎥\n",
       "⎢                                  ⎥\n",
       "⎢                   0.06⋅τ₄        ⎥\n",
       "⎢    -0.15⋅τ₄ + ───────────────    ⎥\n",
       "⎢                  ____________    ⎥\n",
       "⎢                 ╱   2            ⎥\n",
       "⎢               ╲╱  q₂  + 0.16     ⎥\n",
       "⎢                                  ⎥\n",
       "⎢                0                 ⎥\n",
       "⎢                                  ⎥\n",
       "⎢             -q₂⋅τ₄               ⎥\n",
       "⎢         ───────────────          ⎥\n",
       "⎢            ____________          ⎥\n",
       "⎢           ╱   2                  ⎥\n",
       "⎣         ╲╱  q₂  + 0.16           ⎦"
      ]
     },
     "metadata": {},
     "output_type": "display_data"
    },
    {
     "data": {
      "text/plain": [
       "---"
      ]
     },
     "metadata": {},
     "output_type": "display_data"
    }
   ],
   "source": [
    "# determine a symetrical equilibrium:\n",
    "# TODO: woher Wahl von ttau?\n",
    "eqlbr_conditions = [(q1, 0), (p1, 0.15), (p2, -0.4), (p3, 0), (tau1, 0), (tau2, 0), (tau3, tau4)] ##:\n",
    "\n",
    "res = ((mod.eqns.subz0(tthetadd)).subs(eqlbr_conditions)).subs(sys_params) ##:"
   ]
  },
  {
   "cell_type": "code",
   "execution_count": 12,
   "metadata": {
    "scrolled": true
   },
   "outputs": [
    {
     "data": {
      "image/png": "[encoded data removed]",
      "text/latex": [
       "symbs := $\\displaystyle \\left[ \\tau_{4}, \\  q_{2}\\right]$"
      ],
      "text/plain": [
       "symbs := [τ₄, q₂]"
      ]
     },
     "metadata": {},
     "output_type": "display_data"
    },
    {
     "data": {
      "text/plain": [
       "---"
      ]
     },
     "metadata": {},
     "output_type": "display_data"
    },
    {
     "data": {
      "image/png": "[encoded data removed]",
      "text/latex": [
       "sol := $\\displaystyle \\left[ \\left\\{ q_{2} : 0.0, \\  \\tau_{4} : -2.732085\\right\\}\\right]$"
      ],
      "text/plain": [
       "sol := [{q₂: 0.0, τ₄: -2.732085}]"
      ]
     },
     "metadata": {},
     "output_type": "display_data"
    },
    {
     "data": {
      "text/plain": [
       "---"
      ]
     },
     "metadata": {},
     "output_type": "display_data"
    }
   ],
   "source": [
    "symbs = list(res.s) ##:\n",
    "sol = sp.solve(res, symbs, dict=True) ##:"
   ]
  },
  {
   "cell_type": "code",
   "execution_count": 13,
   "metadata": {},
   "outputs": [
    {
     "data": {
      "text/plain": [
       "ttheta0 := array([ 0.15, -0.4 ,  0.  ,  0.  ,  0.  ])"
      ]
     },
     "metadata": {},
     "output_type": "display_data"
    },
    {
     "data": {
      "text/plain": [
       "---"
      ]
     },
     "metadata": {},
     "output_type": "display_data"
    },
    {
     "data": {
      "text/plain": [
       "uu0 := array([ 0.      ,  0.      , -2.732085, -2.732085])"
      ]
     },
     "metadata": {},
     "output_type": "display_data"
    },
    {
     "data": {
      "text/plain": [
       "---"
      ]
     },
     "metadata": {},
     "output_type": "display_data"
    }
   ],
   "source": [
    "ttheta0 = st.to_np(ttheta.subs(eqlbr_conditions).subs(sol[0])).squeeze() ##:\n",
    "\n",
    "uu0 = st.to_np(ttau.subs(eqlbr_conditions).subs(sol[0])).squeeze()##:"
   ]
  },
  {
   "cell_type": "markdown",
   "metadata": {},
   "source": [
    "# Trajectory planning\n",
    "The parametrization of $\\tau_2$ determines the highest required order $N_i$ of the flat output's derivatives. For each component of the flat output a trajectory $y_i$ can be chosen with a polynomial order of $\\alpha_i = 2 N_i + 1$ in compliance with the system's initial values."
   ]
  },
  {
   "cell_type": "code",
   "execution_count": 14,
   "metadata": {},
   "outputs": [
    {
     "data": {
      "image/png": "[encoded data removed]",
      "text/latex": [
       "(p10, p20, p30, q10) := $\\displaystyle \\left( 0.15, \\  -0.4, \\  0.0, \\  0.0\\right)$"
      ],
      "text/plain": [
       "(p10, p20, p30, q10) := (0.15, -0.4, 0.0, 0.0)"
      ]
     },
     "metadata": {},
     "output_type": "display_data"
    },
    {
     "data": {
      "text/plain": [
       "---"
      ]
     },
     "metadata": {},
     "output_type": "display_data"
    },
    {
     "data": {
      "image/png": "[encoded data removed]",
      "text/latex": [
       "(p1e, p2e, p3e, q1e) := $\\displaystyle \\left( -0.15, \\  -0.7, \\  -0.3, \\  -0.3\\right)$"
      ],
      "text/plain": [
       "(p1e, p2e, p3e, q1e) := (-0.15, -0.7, -0.3, -0.3)"
      ]
     },
     "metadata": {},
     "output_type": "display_data"
    },
    {
     "data": {
      "text/plain": [
       "---"
      ]
     },
     "metadata": {},
     "output_type": "display_data"
    },
    {
     "data": {
      "image/png": "[encoded data removed]",
      "text/latex": [
       "p1_traj := $\\displaystyle - 2.77199999999999 \\cdot 10^{-11} t^{13} + 1.8018 \\cdot 10^{-9} t^{12} - 4.91399999999999 \\cdot 10^{-8} t^{11} + 7.20719999999999 \\cdot 10^{-7} t^{10} - 6.00599999999999 \\cdot 10^{-6} t^{9} + 2.7027 \\cdot 10^{-5} t^{8} - 5.14799999999999 \\cdot 10^{-5} t^{7} + 0.15$"
      ],
      "text/plain": [
       "p1_traj :=                         13              12                        11          \n",
       "- 2.77199999999999e-11⋅t   + 1.8018e-9⋅t   - 4.91399999999999e-8⋅t   + 7.20719\n",
       "\n",
       "              10                        9              8                      \n",
       "999999999e-7⋅t   - 6.00599999999999e-6⋅t  + 2.7027e-5⋅t  - 5.14799999999999e-5\n",
       "\n",
       "  7       \n",
       "⋅t  + 0.15"
      ]
     },
     "metadata": {},
     "output_type": "display_data"
    },
    {
     "data": {
      "text/plain": [
       "---"
      ]
     },
     "metadata": {},
     "output_type": "display_data"
    },
    {
     "data": {
      "image/png": "[encoded data removed]",
      "text/latex": [
       "p2_traj := $\\displaystyle - 2.77200000000001 \\cdot 10^{-11} t^{13} + 1.80180000000001 \\cdot 10^{-9} t^{12} - 4.91400000000001 \\cdot 10^{-8} t^{11} + 7.20720000000002 \\cdot 10^{-7} t^{10} - 6.00600000000002 \\cdot 10^{-6} t^{9} + 2.70270000000001 \\cdot 10^{-5} t^{8} - 5.14800000000001 \\cdot 10^{-5} t^{7} - 0.4$"
      ],
      "text/plain": [
       "p2_traj :=                         13                        12                        11\n",
       "- 2.77200000000001e-11⋅t   + 1.80180000000001e-9⋅t   - 4.91400000000001e-8⋅t  \n",
       "\n",
       "                        10                        9                        8  \n",
       " + 7.20720000000002e-7⋅t   - 6.00600000000002e-6⋅t  + 2.70270000000001e-5⋅t  -\n",
       "\n",
       "                      7      \n",
       " 5.14800000000001e-5⋅t  - 0.4"
      ]
     },
     "metadata": {},
     "output_type": "display_data"
    },
    {
     "data": {
      "text/plain": [
       "---"
      ]
     },
     "metadata": {},
     "output_type": "display_data"
    },
    {
     "data": {
      "image/png": "[encoded data removed]",
      "text/latex": [
       "p3_traj := $\\displaystyle - 2.77199999999999 \\cdot 10^{-11} t^{13} + 1.8018 \\cdot 10^{-9} t^{12} - 4.91399999999999 \\cdot 10^{-8} t^{11} + 7.20719999999999 \\cdot 10^{-7} t^{10} - 6.00599999999999 \\cdot 10^{-6} t^{9} + 2.7027 \\cdot 10^{-5} t^{8} - 5.14799999999999 \\cdot 10^{-5} t^{7}$"
      ],
      "text/plain": [
       "p3_traj :=                         13              12                        11          \n",
       "- 2.77199999999999e-11⋅t   + 1.8018e-9⋅t   - 4.91399999999999e-8⋅t   + 7.20719\n",
       "\n",
       "              10                        9              8                      \n",
       "999999999e-7⋅t   - 6.00599999999999e-6⋅t  + 2.7027e-5⋅t  - 5.14799999999999e-5\n",
       "\n",
       "  7\n",
       "⋅t "
      ]
     },
     "metadata": {},
     "output_type": "display_data"
    },
    {
     "data": {
      "text/plain": [
       "---"
      ]
     },
     "metadata": {},
     "output_type": "display_data"
    },
    {
     "data": {
      "image/png": "[encoded data removed]",
      "text/latex": [
       "q1_traj := $\\displaystyle - 2.77199999999999 \\cdot 10^{-11} t^{13} + 1.8018 \\cdot 10^{-9} t^{12} - 4.91399999999999 \\cdot 10^{-8} t^{11} + 7.20719999999999 \\cdot 10^{-7} t^{10} - 6.00599999999999 \\cdot 10^{-6} t^{9} + 2.7027 \\cdot 10^{-5} t^{8} - 5.14799999999999 \\cdot 10^{-5} t^{7}$"
      ],
      "text/plain": [
       "q1_traj :=                         13              12                        11          \n",
       "- 2.77199999999999e-11⋅t   + 1.8018e-9⋅t   - 4.91399999999999e-8⋅t   + 7.20719\n",
       "\n",
       "              10                        9              8                      \n",
       "999999999e-7⋅t   - 6.00599999999999e-6⋅t  + 2.7027e-5⋅t  - 5.14799999999999e-5\n",
       "\n",
       "  7\n",
       "⋅t "
      ]
     },
     "metadata": {},
     "output_type": "display_data"
    },
    {
     "data": {
      "text/plain": [
       "---"
      ]
     },
     "metadata": {},
     "output_type": "display_data"
    }
   ],
   "source": [
    "T0, T1 = 0, 10\n",
    "p10, p20, p30, q10 = ttheta0[:-1] ##:\n",
    "p1e, p2e, p3e, q1e = ttheta0[:-1] - 0.3 ##:\n",
    "# p10 = p10 + 0.2\n",
    "# p20 = p20 + 0.15\n",
    "# q10 = q10 + 0.15\n",
    "# p30 = p30 + 0.1\n",
    "# polynoms of order 13 = 9 (boundary conditions until 4th derivative due to usage of qddot2 later) \n",
    "# + 4 (2 more derivatives needed for tauddot as new control input) for p_i\n",
    "p1_traj = st.condition_poly(t, (T0, p10, 0, 0, 0, 0, 0, 0), (T1, p1e, 0, 0, 0, 0, 0, 0)) ##:\n",
    "p2_traj = st.condition_poly(t, (T0, p20, 0, 0, 0, 0, 0, 0), (T1, p2e, 0, 0, 0, 0, 0, 0)) ##:\n",
    "p3_traj = st.condition_poly(t, (T0, p30, 0, 0, 0, 0, 0, 0), (T1, p3e, 0, 0, 0, 0, 0, 0)) ##:\n",
    "# polynoms of order 13 = 9 (boundary conditions until 4th derivative due to usage of qddot2 later) \n",
    "# + 4 (2 more derivatives needed for tauddot as new control input) for q1\n",
    "q1_traj = st.condition_poly(t, (T0, q10, 0, 0, 0, 0, 0, 0), (T1, q1e, 0, 0, 0, 0, 0, 0)) ##:\n",
    "# trajectory for q2 from flatness relations \n",
    "q2_traj = flat_q2.subz([p1, p2, p3, pddot1, pddot2, pddot3, q1], [p1_traj, p2_traj, p3_traj, p1_traj.diff(t, 2), p2_traj.diff(t, 2), p3_traj.diff(t, 2), q1_traj])\n",
    "q2_traj = q2_traj.subs(sys_params)"
   ]
  },
  {
   "cell_type": "markdown",
   "metadata": {},
   "source": [
    "Substitution of $\\mathbf{y}$ with trajectories into control inputs"
   ]
  },
  {
   "cell_type": "code",
   "execution_count": 15,
   "metadata": {},
   "outputs": [
    {
     "data": {
      "image/png": "[encoded data removed]",
      "text/latex": [
       "$\\displaystyle \\left\\{J_{2}, g, l_{0}, m_{2}, m_{3}, p_{1}, p_{2}, p_{3}, \\ddot{p}_{1}, \\ddot{p}_{2}, \\ddot{p}_{3}, q_{1}, q_{2}, \\ddot{q}_{2}, s_{2}\\right\\}$"
      ],
      "text/plain": [
       "{J₂, g, l₀, m₂, m₃, p₁, p₂, p₃, p̈₁, p̈₂, p̈₃, q₁, q₂, q̈₂, s₂}"
      ]
     },
     "execution_count": 15,
     "metadata": {},
     "output_type": "execute_result"
    }
   ],
   "source": [
    "flat_tau2.s"
   ]
  },
  {
   "cell_type": "code",
   "execution_count": 16,
   "metadata": {},
   "outputs": [
    {
     "name": "stdout",
     "output_type": "stream",
     "text": [
      "CPU times: user 3min 53s, sys: 204 ms, total: 3min 53s\n",
      "Wall time: 3min 53s\n"
     ]
    }
   ],
   "source": [
    "%%time\n",
    "\n",
    "flat_quant_subs = [p1_traj, p2_traj, p3_traj, q1_traj, q2_traj,\n",
    "                   p1_traj.diff(t), p2_traj.diff(t), p3_traj.diff(t), q1_traj.diff(t), q2_traj.diff(t),\n",
    "                   p1_traj.diff(t, 2), p2_traj.diff(t, 2), p3_traj.diff(t, 2), q1_traj.diff(t, 2), q2_traj.diff(t, 2),\n",
    "                   p1_traj.diff(t, 3), p2_traj.diff(t, 3), p3_traj.diff(t, 3), q1_traj.diff(t, 3), q2_traj.diff(t, 3),\n",
    "                   p1_traj.diff(t, 4), p2_traj.diff(t, 4), p3_traj.diff(t, 4), q1_traj.diff(t, 4), q2_traj.diff(t, 4)]\n",
    "flat_quant_func = st.expr_to_func(t, flat_quant_subs)"
   ]
  },
  {
   "cell_type": "code",
   "execution_count": 17,
   "metadata": {},
   "outputs": [],
   "source": [
    "tau1_traj = dyn_tau[0]\n",
    "tau2_traj = dyn_tau[1]\n",
    "tau3_traj = dyn_tau[2]\n",
    "tau4_traj = dyn_tau[3]"
   ]
  },
  {
   "cell_type": "code",
   "execution_count": 18,
   "metadata": {},
   "outputs": [],
   "source": [
    "tau1_traj_num = tau1_traj.subs(sys_params)\n",
    "tau2_traj_num = tau2_traj.subs(sys_params)\n",
    "tau3_traj_num = tau3_traj.subs(sys_params)\n",
    "tau4_traj_num = tau4_traj.subs(sys_params)"
   ]
  },
  {
   "cell_type": "code",
   "execution_count": 19,
   "metadata": {},
   "outputs": [],
   "source": [
    "tau1_traj_func = st.expr_to_func([*meas_states, *meas_states_d, tau1, tau3, tau4, *aalpha, *ref_states, *ref_states_d, *ref_states_dd, *ref_states_ddd, *ref_states_dddd], tau1_traj_num)\n",
    "tau2_traj_func = st.expr_to_func([*meas_states, *meas_states_d, tau1, tau3, tau4, *aalpha, *ref_states, *ref_states_d, *ref_states_dd, *ref_states_ddd, *ref_states_dddd], tau2_traj_num)\n",
    "tau3_traj_func = st.expr_to_func([*meas_states, *meas_states_d, tau1, tau3, tau4, *aalpha, *ref_states, *ref_states_d, *ref_states_dd, *ref_states_ddd, *ref_states_dddd], tau3_traj_num)\n",
    "tau4_traj_func = st.expr_to_func([*meas_states, *meas_states_d, tau1, tau3, tau4, *aalpha, *ref_states, *ref_states_d, *ref_states_dd, *ref_states_ddd, *ref_states_dddd], tau4_traj_num)"
   ]
  },
  {
   "cell_type": "code",
   "execution_count": 20,
   "metadata": {},
   "outputs": [],
   "source": [
    "# seperate trajectory callable functions\n",
    "p1_traj_func = st.expr_to_func(t, p1_traj)\n",
    "p2_traj_func = st.expr_to_func(t, p2_traj)\n",
    "p3_traj_func = st.expr_to_func(t, p3_traj)\n",
    "q1_traj_func = st.expr_to_func(t, q1_traj)\n",
    "q2_traj_func = st.expr_to_func(t, q2_traj)"
   ]
  },
  {
   "cell_type": "code",
   "execution_count": 21,
   "metadata": {},
   "outputs": [],
   "source": [
    "##### Analyse Problem der Definitionslücke \"0 / 0\""
   ]
  },
  {
   "cell_type": "code",
   "execution_count": 22,
   "metadata": {},
   "outputs": [
    {
     "ename": "NameError",
     "evalue": "name 'flat_tau3_num' is not defined",
     "output_type": "error",
     "traceback": [
      "\u001b[0;31m---------------------------------------------------------------------------\u001b[0m",
      "\u001b[0;31mNameError\u001b[0m                                 Traceback (most recent call last)",
      "Input \u001b[0;32mIn [22]\u001b[0m, in \u001b[0;36m<cell line: 1>\u001b[0;34m()\u001b[0m\n\u001b[0;32m----> 1\u001b[0m \u001b[43mflat_tau3_num\u001b[49m\u001b[38;5;241m.\u001b[39msubz(ttheta, ttheta0)\u001b[38;5;241m.\u001b[39msubz0(tthetadd)\n",
      "\u001b[0;31mNameError\u001b[0m: name 'flat_tau3_num' is not defined"
     ]
    }
   ],
   "source": [
    "flat_tau3_num.subz(ttheta, ttheta0).subz0(tthetadd)"
   ]
  },
  {
   "cell_type": "code",
   "execution_count": null,
   "metadata": {},
   "outputs": [],
   "source": [
    "[*ttheta, *tthetadd]"
   ]
  },
  {
   "cell_type": "code",
   "execution_count": null,
   "metadata": {},
   "outputs": [],
   "source": [
    "flat_tau1_num = flat_tau1.subs(sys_params)\n",
    "flat_tau2_num = flat_tau2.subs(sys_params)\n",
    "flat_tau3_num = flat_tau3.subs(sys_params)\n",
    "flat_tau4_num = flat_tau4.subs(sys_params)"
   ]
  },
  {
   "cell_type": "code",
   "execution_count": null,
   "metadata": {},
   "outputs": [],
   "source": [
    "flat_ttau_num = sp.Matrix([flat_tau1_num, flat_tau2_num, flat_tau3_num, flat_tau4_num])"
   ]
  },
  {
   "cell_type": "code",
   "execution_count": null,
   "metadata": {},
   "outputs": [],
   "source": [
    "flat_ttau_num.s"
   ]
  },
  {
   "cell_type": "code",
   "execution_count": null,
   "metadata": {},
   "outputs": [],
   "source": [
    "flat_ttau_num_func = sp.lambdify([p1, p2, p3, q1, q2, pddot1, pddot2, pddot3, qddot1, qddot2], flat_tau3_num)"
   ]
  },
  {
   "cell_type": "code",
   "execution_count": null,
   "metadata": {},
   "outputs": [],
   "source": [
    "flat_tau3_num, flat_tau3_den = flat_tau3_num.as_numer_denom()"
   ]
  },
  {
   "cell_type": "code",
   "execution_count": null,
   "metadata": {},
   "outputs": [],
   "source": [
    "a = flat_tau3_num.subz0(tthetadd).subz(ttheta[2:], ttheta0[2:])"
   ]
  },
  {
   "cell_type": "code",
   "execution_count": null,
   "metadata": {},
   "outputs": [],
   "source": [
    "a_num, a_den = a.as_numer_denom()"
   ]
  },
  {
   "cell_type": "code",
   "execution_count": null,
   "metadata": {},
   "outputs": [],
   "source": [
    "b = flat_tau3_den.subs([(p1, q1+0.15), (q2, q1), (p3, 0)])"
   ]
  },
  {
   "cell_type": "code",
   "execution_count": null,
   "metadata": {},
   "outputs": [],
   "source": [
    "b.subz0(tthetadd).srn"
   ]
  },
  {
   "cell_type": "code",
   "execution_count": null,
   "metadata": {},
   "outputs": [],
   "source": [
    "ttheta0"
   ]
  },
  {
   "cell_type": "code",
   "execution_count": null,
   "metadata": {
    "scrolled": true
   },
   "outputs": [],
   "source": [
    "flat_tau3_num.subz(ttheta, ttheta0)"
   ]
  },
  {
   "cell_type": "code",
   "execution_count": null,
   "metadata": {},
   "outputs": [],
   "source": [
    "flat_ttau_num_func = sp.lambdify([p1, p2, p3, q1, q2, pddot1, pddot2, pddot3, qddot1, qddot2], flat_ttau_num)"
   ]
  },
  {
   "cell_type": "code",
   "execution_count": null,
   "metadata": {
    "scrolled": true
   },
   "outputs": [],
   "source": [
    "flat_ttau_num_func(*ttheta0, 0, 0, 0, 0, 0)"
   ]
  },
  {
   "cell_type": "code",
   "execution_count": null,
   "metadata": {},
   "outputs": [],
   "source": [
    "ttheta0"
   ]
  },
  {
   "cell_type": "code",
   "execution_count": null,
   "metadata": {},
   "outputs": [],
   "source": [
    "a = flat_tau3_num.subz0(tthetadd).subz0(ttheta[2:])"
   ]
  },
  {
   "cell_type": "code",
   "execution_count": null,
   "metadata": {},
   "outputs": [],
   "source": [
    "a"
   ]
  },
  {
   "cell_type": "code",
   "execution_count": null,
   "metadata": {},
   "outputs": [],
   "source": [
    "a.subz(ttheta, ttheta0)"
   ]
  },
  {
   "cell_type": "code",
   "execution_count": null,
   "metadata": {},
   "outputs": [],
   "source": [
    "####################"
   ]
  },
  {
   "cell_type": "markdown",
   "metadata": {},
   "source": [
    "# Simulation model"
   ]
  },
  {
   "cell_type": "code",
   "execution_count": 21,
   "metadata": {},
   "outputs": [
    {
     "data": {
      "text/latex": [
       "$\\displaystyle \\left[\\begin{array}{cccccccccccccccc}p_{1} & p_{2} & p_{3} & q_{1} & q_{2} & \\dot{p}_{1} & \\dot{p}_{2} & \\dot{p}_{3} & \\dot{q}_{1} & \\dot{q}_{2} & \\tau_{1} & \\tau_{3} & \\tau_{4} & \\alpha_{1} & \\alpha_{3} & \\alpha_{4}\\end{array}\\right]$"
      ],
      "text/plain": [
       "[p₁  p₂  p₃  q₁  q₂  ṗ₁  ṗ₂  ṗ₃  q̇₁  q̇₂  τ₁  τ₃  τ₄  α₁  α₃  α₄]"
      ]
     },
     "metadata": {},
     "output_type": "display_data"
    },
    {
     "data": {
      "text/plain": [
       "---"
      ]
     },
     "metadata": {},
     "output_type": "display_data"
    }
   ],
   "source": [
    "xx_dyn ##T:"
   ]
  },
  {
   "cell_type": "code",
   "execution_count": 22,
   "metadata": {},
   "outputs": [],
   "source": [
    "sim = st.SimulationModel(f_dyn, g_dyn, xx_dyn, model_parameters=sys_params)"
   ]
  },
  {
   "cell_type": "code",
   "execution_count": 23,
   "metadata": {},
   "outputs": [],
   "source": [
    "# control forces for stabilizing equilbrium\n",
    "uu1 = npy.array([0, 0, 0, 0]) # as new control inputs contain derivatives of original tau -> 0 in equilibrium\n",
    "def composite_force(x, t):\n",
    "    # friction constants\n",
    "    di = 10\n",
    "    dissipation1 = -di*x[8]\n",
    "    dissipation2 = -di*x[9]\n",
    "    control_force = 0\n",
    "    \n",
    "    forces = uu1 #+ [dissipation1, dissipation2, 0.0, 0.0]\n",
    "    return forces\n",
    "\n",
    "# control forces for driving feed forward trajectories\n",
    "def feed_forward_traj(x, t):\n",
    "    if t < 1e-2:\n",
    "        forces = uu1        \n",
    "    elif t < 9.99:\n",
    "        u1 = tau1_traj_func(*x, *flat_quant_func(t))\n",
    "        u2 = tau2_traj_func(*x, *flat_quant_func(t))\n",
    "        u3 = tau3_traj_func(*x, *flat_quant_func(t))\n",
    "        u4 = tau4_traj_func(*x, *flat_quant_func(t))\n",
    "        \n",
    "        forces = [u1, u2, u3, u4]\n",
    "    else:\n",
    "        u1 = tau1_traj_func(*x, *flat_quant_func(9.99))\n",
    "        u2 = tau2_traj_func(*x, *flat_quant_func(9.99))\n",
    "        u3 = tau3_traj_func(*x, *flat_quant_func(9.99))\n",
    "        u4 = tau4_traj_func(*x, *flat_quant_func(9.99))\n",
    "        forces = [u1, u2, u3, u4]\n",
    "    return forces"
   ]
  },
  {
   "cell_type": "code",
   "execution_count": 24,
   "metadata": {},
   "outputs": [],
   "source": [
    "rhs = sim.create_simfunction(controller_function=feed_forward_traj)"
   ]
  },
  {
   "cell_type": "code",
   "execution_count": 25,
   "metadata": {},
   "outputs": [
    {
     "data": {
      "text/latex": [
       "$\\displaystyle \\left[\\begin{matrix}p_{1}\\\\p_{2}\\\\p_{3}\\\\q_{1}\\\\q_{2}\\\\\\dot{p}_{1}\\\\\\dot{p}_{2}\\\\\\dot{p}_{3}\\\\\\dot{q}_{1}\\\\\\dot{q}_{2}\\\\\\tau_{1}\\\\\\tau_{3}\\\\\\tau_{4}\\\\\\alpha_{1}\\\\\\alpha_{3}\\\\\\alpha_{4}\\end{matrix}\\right]$"
      ],
      "text/plain": [
       "⎡p₁⎤\n",
       "⎢  ⎥\n",
       "⎢p₂⎥\n",
       "⎢  ⎥\n",
       "⎢p₃⎥\n",
       "⎢  ⎥\n",
       "⎢q₁⎥\n",
       "⎢  ⎥\n",
       "⎢q₂⎥\n",
       "⎢  ⎥\n",
       "⎢ṗ₁⎥\n",
       "⎢  ⎥\n",
       "⎢ṗ₂⎥\n",
       "⎢  ⎥\n",
       "⎢ṗ₃⎥\n",
       "⎢  ⎥\n",
       "⎢q̇₁⎥\n",
       "⎢  ⎥\n",
       "⎢q̇₂⎥\n",
       "⎢  ⎥\n",
       "⎢τ₁⎥\n",
       "⎢  ⎥\n",
       "⎢τ₃⎥\n",
       "⎢  ⎥\n",
       "⎢τ₄⎥\n",
       "⎢  ⎥\n",
       "⎢α₁⎥\n",
       "⎢  ⎥\n",
       "⎢α₃⎥\n",
       "⎢  ⎥\n",
       "⎣α₄⎦"
      ]
     },
     "execution_count": 25,
     "metadata": {},
     "output_type": "execute_result"
    }
   ],
   "source": [
    "xx_dyn"
   ]
  },
  {
   "cell_type": "code",
   "execution_count": 63,
   "metadata": {},
   "outputs": [
    {
     "data": {
      "text/plain": [
       "xx0 := array([ 0.15    , -0.4     ,  0.      ,  0.      ,  0.      ,  0.      , -0.      ,  0.      ,  0.      ,  0.      ,  0.      , -2.732085, -2.732085,  0.      ,  0.      ,  0.      ])"
      ]
     },
     "metadata": {},
     "output_type": "display_data"
    },
    {
     "data": {
      "text/plain": [
       "---"
      ]
     },
     "metadata": {},
     "output_type": "display_data"
    }
   ],
   "source": [
    "xx0 = npy.array([*ttheta0, *ttheta0*0,     0, -2.732085, -2.732085,     0, 0, 0]) ##:\n",
    "#xx0 += npy.array([0.05, 0, 0, 0, 0,     0, 0, 0, 0, 0,     0, 0, 0,     0, 0, 0])\n",
    "#xx0 += npy.array([0.05, -0.05, 0.05, 0.02, 0.05,     0, 0, 0, 0, 0,     0, 0, 0,     0, 0, 0])\n",
    "xx0 += npy.array([0.1, -0.15, 0.15, 0.1, 0.05,     0, 0, 0, 0, 0,     0, 0, 0,     0, 0, 0])"
   ]
  },
  {
   "cell_type": "code",
   "execution_count": 64,
   "metadata": {},
   "outputs": [],
   "source": [
    "tt = npy.linspace(0, 20, 2000)"
   ]
  },
  {
   "cell_type": "code",
   "execution_count": 65,
   "metadata": {},
   "outputs": [
    {
     "data": {
      "text/plain": [
       "array([ 0.        ,  0.        ,  0.        ,  0.        ,  0.        , -0.46175626, -0.02046119,  0.8165301 ,  0.01786478,  0.55368686,  0.        ,  0.        ,  0.        ,  0.        ,  0.        ,  0.        ])"
      ]
     },
     "execution_count": 65,
     "metadata": {},
     "output_type": "execute_result"
    }
   ],
   "source": [
    "rhs(xx0, 0)"
   ]
  },
  {
   "cell_type": "code",
   "execution_count": 66,
   "metadata": {},
   "outputs": [
    {
     "data": {
      "text/plain": [
       "info(res) := \"<class 'numpy.ndarray'> with shape: (2000, 16)\""
      ]
     },
     "metadata": {},
     "output_type": "display_data"
    },
    {
     "data": {
      "text/plain": [
       "---"
      ]
     },
     "metadata": {},
     "output_type": "display_data"
    },
    {
     "name": "stdout",
     "output_type": "stream",
     "text": [
      "CPU times: user 3min 26s, sys: 0 ns, total: 3min 26s\n",
      "Wall time: 3min 26s\n"
     ]
    }
   ],
   "source": [
    "%%time\n",
    "# solve_ivp is more modern, but the signature of rhs is taylored towards odeint\n",
    "res = sc_integrate.odeint(rhs, xx0, tt) ##:i"
   ]
  },
  {
   "cell_type": "code",
   "execution_count": 67,
   "metadata": {
    "scrolled": true
   },
   "outputs": [
    {
     "data": {
      "text/plain": [
       "array([ 0.25    , -0.55    ,  0.15    ,  0.1     ,  0.05    ,  0.      ,  0.      ,  0.      ,  0.      ,  0.      ,  0.      , -2.732085, -2.732085,  0.      ,  0.      ,  0.      ])"
      ]
     },
     "execution_count": 67,
     "metadata": {},
     "output_type": "execute_result"
    }
   ],
   "source": [
    "res[0, :]"
   ]
  },
  {
   "cell_type": "code",
   "execution_count": 68,
   "metadata": {
    "scrolled": true
   },
   "outputs": [
    {
     "data": {
      "image/png": "[encoded data removed]",
      "text/latex": [
       "mean_err_trajp1 := $\\displaystyle 0.00658001602993869$"
      ],
      "text/plain": [
       "mean_err_trajp1 := 0.006580016029938685"
      ]
     },
     "metadata": {},
     "output_type": "display_data"
    },
    {
     "data": {
      "text/plain": [
       "---"
      ]
     },
     "metadata": {},
     "output_type": "display_data"
    },
    {
     "data": {
      "image/png": "[encoded data removed]",
      "text/latex": [
       "mean_err_trajp2 := $\\displaystyle 0.0122878249119823$"
      ],
      "text/plain": [
       "mean_err_trajp2 := 0.012287824911982341"
      ]
     },
     "metadata": {},
     "output_type": "display_data"
    },
    {
     "data": {
      "text/plain": [
       "---"
      ]
     },
     "metadata": {},
     "output_type": "display_data"
    },
    {
     "data": {
      "image/png": "[encoded data removed]",
      "text/latex": [
       "mean_err_trajp3 := $\\displaystyle 0.0150418561051868$"
      ],
      "text/plain": [
       "mean_err_trajp3 := 0.0150418561051868"
      ]
     },
     "metadata": {},
     "output_type": "display_data"
    },
    {
     "data": {
      "text/plain": [
       "---"
      ]
     },
     "metadata": {},
     "output_type": "display_data"
    },
    {
     "data": {
      "image/png": "[encoded data removed]",
      "text/latex": [
       "mean_err_trajq1 := $\\displaystyle 0.00819883166238693$"
      ],
      "text/plain": [
       "mean_err_trajq1 := 0.00819883166238693"
      ]
     },
     "metadata": {},
     "output_type": "display_data"
    },
    {
     "data": {
      "text/plain": [
       "---"
      ]
     },
     "metadata": {},
     "output_type": "display_data"
    },
    {
     "data": {
      "image/png": "[encoded data removed]",
      "text/latex": [
       "mean_err_trajq2 := $\\displaystyle 0.00485431219834333$"
      ],
      "text/plain": [
       "mean_err_trajq2 := 0.004854312198343334"
      ]
     },
     "metadata": {},
     "output_type": "display_data"
    },
    {
     "data": {
      "text/plain": [
       "---"
      ]
     },
     "metadata": {},
     "output_type": "display_data"
    }
   ],
   "source": [
    "# numeric trajs\n",
    "p1_num = st.expr_to_func(t, p1_traj)\n",
    "p2_num = st.expr_to_func(t, p2_traj)\n",
    "p3_num = st.expr_to_func(t, p3_traj)\n",
    "q1_num = st.expr_to_func(t, q1_traj)\n",
    "q2_num = st.expr_to_func(t, q2_traj)\n",
    "pdot1_num = st.expr_to_func(t, p1_traj.diff(t))\n",
    "pdot2_num = st.expr_to_func(t, p2_traj.diff(t))\n",
    "pdot3_num = st.expr_to_func(t, p3_traj.diff(t))\n",
    "qdot1_num = st.expr_to_func(t, q1_traj.diff(t))\n",
    "qdot2_num = st.expr_to_func(t, q2_traj.diff(t))\n",
    "# deviation of simulated and reference trajs\n",
    "err_trajp1 = res[:1000, 0] - p1_num(tt[tt<10])\n",
    "err_trajp2 = res[:1000, 1] - p2_num(tt[tt<10]) \n",
    "err_trajp3 = res[:1000, 2] - p3_num(tt[tt<10]) \n",
    "err_trajq1 = res[:1000, 3] - q1_num(tt[tt<10]) \n",
    "err_trajq2 = res[:1000, 4] - q2_num(tt[tt<10])\n",
    "err_trajpdot1 = res[:1000, 5] - pdot1_num(tt[tt<10])\n",
    "err_trajpdot2 = res[:1000, 6] - pdot2_num(tt[tt<10]) \n",
    "err_trajpdot3 = res[:1000, 7] - pdot3_num(tt[tt<10]) \n",
    "err_trajqdot1 = res[:1000, 8] - qdot1_num(tt[tt<10])\n",
    "err_trajqdot2 = res[:1000, 9] - qdot2_num(tt[tt<10]) \n",
    "# ... mean\n",
    "mean_err_trajp1 = npy.mean(abs(err_trajp1)) ##:\n",
    "mean_err_trajp2 = npy.mean(abs(err_trajp2)) ##:\n",
    "mean_err_trajp3 = npy.mean(abs(err_trajp3)) ##:\n",
    "mean_err_trajq1 = npy.mean(abs(err_trajq1)) ##:\n",
    "mean_err_trajq2 = npy.mean(abs(err_trajq2)) ##:"
   ]
  },
  {
   "cell_type": "code",
   "execution_count": 69,
   "metadata": {},
   "outputs": [
    {
     "data": {
      "image/png": "[encoded data removed]",
      "text/latex": [
       "inf_err_trajp1 := $\\displaystyle 6.85161649638388 \\cdot 10^{-11}$"
      ],
      "text/plain": [
       "inf_err_trajp1 := 6.851616496383883e-11"
      ]
     },
     "metadata": {},
     "output_type": "display_data"
    },
    {
     "data": {
      "text/plain": [
       "---"
      ]
     },
     "metadata": {},
     "output_type": "display_data"
    },
    {
     "data": {
      "image/png": "[encoded data removed]",
      "text/latex": [
       "inf_err_trajp2 := $\\displaystyle 2.6620746718109 \\cdot 10^{-9}$"
      ],
      "text/plain": [
       "inf_err_trajp2 := 2.662074671810899e-09"
      ]
     },
     "metadata": {},
     "output_type": "display_data"
    },
    {
     "data": {
      "text/plain": [
       "---"
      ]
     },
     "metadata": {},
     "output_type": "display_data"
    },
    {
     "data": {
      "image/png": "[encoded data removed]",
      "text/latex": [
       "inf_err_trajp3 := $\\displaystyle 4.48129311436674 \\cdot 10^{-11}$"
      ],
      "text/plain": [
       "inf_err_trajp3 := 4.4812931143667356e-11"
      ]
     },
     "metadata": {},
     "output_type": "display_data"
    },
    {
     "data": {
      "text/plain": [
       "---"
      ]
     },
     "metadata": {},
     "output_type": "display_data"
    },
    {
     "data": {
      "image/png": "[encoded data removed]",
      "text/latex": [
       "inf_err_trajq1 := $\\displaystyle 3.39933636794854 \\cdot 10^{-11}$"
      ],
      "text/plain": [
       "inf_err_trajq1 := 3.3993363679485356e-11"
      ]
     },
     "metadata": {},
     "output_type": "display_data"
    },
    {
     "data": {
      "text/plain": [
       "---"
      ]
     },
     "metadata": {},
     "output_type": "display_data"
    }
   ],
   "source": [
    "# stationary difference:\n",
    "inf_err_trajp1 = abs(res[1500, 0] - p1_num(10)) ##:\n",
    "inf_err_trajp2 = abs(res[1500, 1] - p2_num(10)) ##:\n",
    "inf_err_trajp3 = abs(res[1500, 2] - p3_num(10)) ##:\n",
    "inf_err_trajq1 = abs(res[1500, 3] - q1_num(10)) ##:"
   ]
  },
  {
   "cell_type": "code",
   "execution_count": 70,
   "metadata": {
    "scrolled": true
   },
   "outputs": [
    {
     "name": "stdout",
     "output_type": "stream",
     "text": [
      "CPU times: user 3min 28s, sys: 60 ms, total: 3min 28s\n",
      "Wall time: 3min 28s\n"
     ]
    }
   ],
   "source": [
    "%%time\n",
    "ttau = list(map(feed_forward_traj, res[1:1500, :] ,tt[1:1500]))\n",
    "ttau1, ttau2, ttau3, ttau4 = zip(*ttau)"
   ]
  },
  {
   "cell_type": "code",
   "execution_count": 71,
   "metadata": {},
   "outputs": [
    {
     "data": {
      "text/plain": [
       "<matplotlib.legend.Legend at 0x7faf6d03be50>"
      ]
     },
     "execution_count": 71,
     "metadata": {},
     "output_type": "execute_result"
    },
    {
     "data": {
      "image/png": "[encoded data removed]",
      "text/plain": [
       "<Figure size 1800x1440 with 1 Axes>"
      ]
     },
     "metadata": {
      "needs_background": "light"
     },
     "output_type": "display_data"
    }
   ],
   "source": [
    "plt.plot(tt[1:1500], ttau1, label=\"tau1\")\n",
    "plt.plot(tt[1:1500], ttau2, label=\"tau2\")\n",
    "plt.plot(tt[1:1500], ttau3, label=\"tau3\")\n",
    "plt.plot(tt[1:1500], ttau4, label=\"tau4\")\n",
    "plt.legend()"
   ]
  },
  {
   "cell_type": "code",
   "execution_count": 72,
   "metadata": {
    "scrolled": false
   },
   "outputs": [
    {
     "data": {
      "image/png": "[encoded data removed]",
      "text/plain": [
       "<Figure size 1800x1440 with 2 Axes>"
      ]
     },
     "metadata": {
      "needs_background": "light"
     },
     "output_type": "display_data"
    }
   ],
   "source": [
    "plt.rcParams['figure.figsize'] = [25, 20]\n",
    "fig, axs = plt.subplots(2, 1)\n",
    "plt.subplots_adjust(hspace = 0.3)\n",
    "\n",
    "axs[0].plot(tt[:1500], res[:1500, 0], '#1f77b4', label=r'$p_{1}$', linewidth=4.0)\n",
    "axs[0].plot(tt[:1500], res[:1500, 1], '#ff7f0e', label=r'$p_{2}$', linewidth=4.0)\n",
    "axs[0].plot(tt[:1500], res[:1500, 2], '#2ca02c', label=r'$p_{3}$', linewidth=4.0)\n",
    "axs[0].plot(tt[:1000], p1_traj_func(tt[:1000]), '#1f77b4', linestyle='--', label=r'$p_{1,ref}$', linewidth=4.0)\n",
    "axs[0].plot(tt[:1000], p2_traj_func(tt[:1000]), '#ff7f0e', linestyle='--', label=r'$p_{2,ref}$', linewidth=4.0)\n",
    "axs[0].plot(tt[:1000], p3_traj_func(tt[:1000]), '#2ca02c', linestyle='--', label=r'$p_{3,ref}$', linewidth=4.0)\n",
    "\n",
    "axs[0].legend(prop={'size': 15})\n",
    "axs[0].set_title('trajectories of load coordinates', fontsize=20)\n",
    "axs[0].set_xlabel('$t$', fontsize=20)\n",
    "axs[0].set_ylabel('$p_1, p_2, p_3$', fontsize=20)\n",
    "\n",
    "axs[1].plot(tt[:1500], res[:1500, 3], '#d62728', label=r'$q_{1}$', linewidth=4.0)\n",
    "axs[1].plot(tt[:1500], res[:1500, 4], '#9467bd', label=r'$q_{2}$', linewidth=4.0)\n",
    "axs[1].plot(tt[:1000], q1_traj_func(tt[:1000]), '#d62728', linestyle='--', label=r'$q_{1,ref}$', linewidth=4.0)\n",
    "axs[1].plot(tt[:1000], q2_traj_func(tt[:1000]), '#9467bd', linestyle='--', label=r'$q_{2,ref}$', linewidth=4.0)\n",
    "\n",
    "axs[1].legend(prop={'size': 15})\n",
    "axs[1].set_title('trajectories of gantry coordinates', fontsize=20)\n",
    "axs[1].set_xlabel('$t$', fontsize=20)\n",
    "axs[1].set_ylabel('$q_1, q_2$', fontsize=20)\n",
    "\n",
    "plt.show()"
   ]
  },
  {
   "cell_type": "markdown",
   "metadata": {},
   "source": [
    "### Stability analysis of current trajectories"
   ]
  },
  {
   "cell_type": "code",
   "execution_count": 37,
   "metadata": {},
   "outputs": [],
   "source": [
    "xref, error, errord = sp.symbols('x_{ref} e_x \\dot{e}_x')"
   ]
  },
  {
   "cell_type": "code",
   "execution_count": 38,
   "metadata": {},
   "outputs": [
    {
     "data": {
      "text/latex": [
       "eetheta.T := $\\displaystyle \\left[\\begin{matrix}e_{1} & e_{2} & e_{3} & e_{4} & e_{5}\\end{matrix}\\right]$"
      ],
      "text/plain": [
       "eetheta.T := [e₁  e₂  e₃  e₄  e₅]"
      ]
     },
     "metadata": {},
     "output_type": "display_data"
    },
    {
     "data": {
      "text/plain": [
       "---"
      ]
     },
     "metadata": {},
     "output_type": "display_data"
    },
    {
     "data": {
      "text/latex": [
       "eethetad.T := $\\displaystyle \\left[\\begin{matrix}\\dot{e}_{1} & \\dot{e}_{2} & \\dot{e}_{3} & \\dot{e}_{4} & \\dot{e}_{5}\\end{matrix}\\right]$"
      ],
      "text/plain": [
       "eethetad.T := [ė₁  ė₂  ė₃  ė₄  ė₅]"
      ]
     },
     "metadata": {},
     "output_type": "display_data"
    },
    {
     "data": {
      "text/plain": [
       "---"
      ]
     },
     "metadata": {},
     "output_type": "display_data"
    },
    {
     "data": {
      "text/latex": [
       "eethetadd.T := $\\displaystyle \\left[\\begin{matrix}\\ddot{e}_{1} & \\ddot{e}_{2} & \\ddot{e}_{3} & \\ddot{e}_{4} & \\ddot{e}_{5}\\end{matrix}\\right]$"
      ],
      "text/plain": [
       "eethetadd.T := [ë₁  ë₂  ë₃  ë₄  ë₅]"
      ]
     },
     "metadata": {},
     "output_type": "display_data"
    },
    {
     "data": {
      "text/plain": [
       "---"
      ]
     },
     "metadata": {},
     "output_type": "display_data"
    },
    {
     "data": {
      "text/latex": [
       "xxref.T := $\\displaystyle \\left[\\begin{matrix}pr_{1} & pr_{2} & pr_{3} & qr_{1} & qr_{2} & \\dot{pr}_{1} & \\dot{pr}_{2} & \\dot{pr}_{3} & \\dot{qr}_{1} & \\dot{qr}_{2}\\end{matrix}\\right]$"
      ],
      "text/plain": [
       "xxref.T := [pr₁  pr₂  pr₃  qr₁  qr₂  pṙ₁  pṙ₂  pṙ₃  qṙ₁  qṙ₂]"
      ]
     },
     "metadata": {},
     "output_type": "display_data"
    },
    {
     "data": {
      "text/plain": [
       "---"
      ]
     },
     "metadata": {},
     "output_type": "display_data"
    },
    {
     "data": {
      "text/latex": [
       "xxrefd.T := $\\displaystyle \\left[\\begin{matrix}\\dot{pr}_{1} & \\dot{pr}_{2} & \\dot{pr}_{3} & \\dot{qr}_{1} & \\dot{qr}_{2} & \\ddot{pr}_{1} & \\ddot{pr}_{2} & \\ddot{pr}_{3} & \\ddot{qr}_{1} & \\ddot{qr}_{2}\\end{matrix}\\right]$"
      ],
      "text/plain": [
       "xxrefd.T := [pṙ₁  pṙ₂  pṙ₃  qṙ₁  qṙ₂  pr̈₁  pr̈₂  pr̈₃  qr̈₁  qr̈₂]"
      ]
     },
     "metadata": {},
     "output_type": "display_data"
    },
    {
     "data": {
      "text/plain": [
       "---"
      ]
     },
     "metadata": {},
     "output_type": "display_data"
    },
    {
     "data": {
      "text/latex": [
       "eerror.T := $\\displaystyle \\left[\\begin{matrix}e_{1} & e_{2} & e_{3} & e_{4} & e_{5} & \\dot{e}_{1} & \\dot{e}_{2} & \\dot{e}_{3} & \\dot{e}_{4} & \\dot{e}_{5}\\end{matrix}\\right]$"
      ],
      "text/plain": [
       "eerror.T := [e₁  e₂  e₃  e₄  e₅  ė₁  ė₂  ė₃  ė₄  ė₅]"
      ]
     },
     "metadata": {},
     "output_type": "display_data"
    },
    {
     "data": {
      "text/plain": [
       "---"
      ]
     },
     "metadata": {},
     "output_type": "display_data"
    },
    {
     "data": {
      "text/latex": [
       "eerrord.T := $\\displaystyle \\left[\\begin{matrix}\\dot{e}_{1} & \\dot{e}_{2} & \\dot{e}_{3} & \\dot{e}_{4} & \\dot{e}_{5} & \\ddot{e}_{1} & \\ddot{e}_{2} & \\ddot{e}_{3} & \\ddot{e}_{4} & \\ddot{e}_{5}\\end{matrix}\\right]$"
      ],
      "text/plain": [
       "eerrord.T := [ė₁  ė₂  ė₃  ė₄  ė₅  ë₁  ë₂  ë₃  ë₄  ë₅]"
      ]
     },
     "metadata": {},
     "output_type": "display_data"
    },
    {
     "data": {
      "text/plain": [
       "---"
      ]
     },
     "metadata": {},
     "output_type": "display_data"
    }
   ],
   "source": [
    "eetheta = st.symb_vector(\"e1:{0}\".format(len(ttheta)+1)) ##:T\n",
    "eethetad = st.time_deriv(eetheta, eetheta, order=1) ##:T \n",
    "eethetadd = st.time_deriv(eetheta, eetheta, order=2) ##:T \n",
    "\n",
    "xxref = st.row_stack(ref_states, ref_states_d) ##:T\n",
    "xxrefd = st.row_stack(ref_states_d, ref_states_dd) ##:T\n",
    "eerror = st.row_stack(eetheta, eethetad) ##:T\n",
    "eerrord = st.row_stack(eethetad, eethetadd) ##:T\n",
    "\n",
    "st.make_global(xxref, xxrefd, eerror, eerrord)"
   ]
  },
  {
   "cell_type": "code",
   "execution_count": 40,
   "metadata": {},
   "outputs": [],
   "source": [
    "# place current controller functions here:\n",
    "tau_control = sp.Matrix([dyn_tau[0], dyn_tau[1], dyn_tau[2], dyn_tau[3]])"
   ]
  },
  {
   "cell_type": "code",
   "execution_count": 41,
   "metadata": {},
   "outputs": [],
   "source": [
    "xx = eerror + xxref\n",
    "ffex = mod.f.subz([*ttheta, *tthetad], [*xx]).smplf + mod.g.subz([*ttheta, *tthetad], [*xx]).smplf * tau_control.subz([*meas_states, *meas_states_d], [*xx]) - xxrefd"
   ]
  },
  {
   "cell_type": "code",
   "execution_count": 42,
   "metadata": {},
   "outputs": [],
   "source": [
    "P = sp.eye(10)\n",
    "Vdot = (xx.T * P * ffex)[0] ## = w(ex, t)"
   ]
  },
  {
   "cell_type": "code",
   "execution_count": 43,
   "metadata": {},
   "outputs": [],
   "source": [
    "ffex0 = ffex.subz0(eerror)"
   ]
  },
  {
   "cell_type": "code",
   "execution_count": 44,
   "metadata": {},
   "outputs": [
    {
     "data": {
      "text/latex": [
       "$\\displaystyle \\left[\\begin{matrix}0\\\\0\\\\0\\\\0\\\\0\\\\40521\\\\40519\\\\40533\\\\44039\\\\40495\\end{matrix}\\right]$"
      ],
      "text/plain": [
       "⎡  0  ⎤\n",
       "⎢     ⎥\n",
       "⎢  0  ⎥\n",
       "⎢     ⎥\n",
       "⎢  0  ⎥\n",
       "⎢     ⎥\n",
       "⎢  0  ⎥\n",
       "⎢     ⎥\n",
       "⎢  0  ⎥\n",
       "⎢     ⎥\n",
       "⎢40521⎥\n",
       "⎢     ⎥\n",
       "⎢40519⎥\n",
       "⎢     ⎥\n",
       "⎢40533⎥\n",
       "⎢     ⎥\n",
       "⎢44039⎥\n",
       "⎢     ⎥\n",
       "⎣40495⎦"
      ]
     },
     "execution_count": 44,
     "metadata": {},
     "output_type": "execute_result"
    }
   ],
   "source": [
    "ffex0.co"
   ]
  },
  {
   "cell_type": "code",
   "execution_count": 45,
   "metadata": {},
   "outputs": [],
   "source": [
    "jacobi = ffex.jacobian(eerror)\n",
    "jacobi0 = jacobi.subz0(eerror)"
   ]
  },
  {
   "cell_type": "code",
   "execution_count": 46,
   "metadata": {},
   "outputs": [
    {
     "data": {
      "image/png": "[encoded data removed]",
      "text/latex": [
       "(jacobi0.s) := $\\displaystyle \\left\\{J_{2}, \\alpha_{1}, \\alpha_{3}, \\alpha_{4}, g, l_{0}, m_{1}, m_{2}, m_{3}, pr_{1}, pr_{2}, pr_{3}, \\ddddot{pr}_{1}, \\ddddot{pr}_{2}, \\ddddot{pr}_{3}, \\dddot{pr}_{1}, \\dddot{pr}_{2}, \\dddot{pr}_{3}, \\ddot{pr}_{1}, \\ddot{pr}_{2}, \\ddot{pr}_{3}, \\dot{pr}_{1}, \\dot{pr}_{2}, \\dot{pr}_{3}, qr_{1}, qr_{2}, \\ddddot{qr}_{1}, \\dddot{qr}_{1}, \\ddot{qr}_{1}, \\dot{qr}_{1}, \\dot{qr}_{2}, s_{2}, \\tau_{1}, \\tau_{3}, \\tau_{4}\\right\\}$"
      ],
      "text/plain": [
       "(jacobi0.s) := {J₂, α₁, α₃, α₄, g, l₀, m₁, m₂, m₃, pr₁, pr₂, pr₃, pr⃜₁, pr⃜₂, pr⃜₃, pr⃛₁, pr⃛\n",
       "₂, pr⃛₃, pr̈₁, pr̈₂, pr̈₃, pṙ₁, pṙ₂, pṙ₃, qr₁, qr₂, qr⃜₁, qr⃛₁, qr̈₁, qṙ₁,\n",
       " qṙ₂, s₂, τ₁, τ₃, τ₄}"
      ]
     },
     "metadata": {},
     "output_type": "display_data"
    },
    {
     "data": {
      "text/plain": [
       "---"
      ]
     },
     "metadata": {},
     "output_type": "display_data"
    },
    {
     "data": {
      "text/latex": [
       "(jacobi0.co) := $\\displaystyle \\left[\\begin{matrix}0 & 0 & 0 & 0 & 0 & 1 & 0 & 0 & 0 & 0\\\\0 & 0 & 0 & 0 & 0 & 0 & 1 & 0 & 0 & 0\\\\0 & 0 & 0 & 0 & 0 & 0 & 0 & 1 & 0 & 0\\\\0 & 0 & 0 & 0 & 0 & 0 & 0 & 0 & 1 & 0\\\\0 & 0 & 0 & 0 & 0 & 0 & 0 & 0 & 0 & 1\\\\259751 & 212005 & 316519 & 168900 & 177576 & 14792 & 14154 & 21426 & 9212 & 9664\\\\219236 & 252508 & 316513 & 148592 & 157375 & 14789 & 14151 & 21423 & 9209 & 9661\\\\259781 & 252544 & 316560 & 168924 & 177603 & 14804 & 14166 & 21438 & 9224 & 9676\\\\238651 & 209438 & 300453 & 183354 & 149551 & 16835 & 16049 & 23697 & 11189 & 9852\\\\218998 & 191601 & 275737 & 107764 & 178088 & 14766 & 14128 & 21400 & 9186 & 9638\\end{matrix}\\right]$"
      ],
      "text/plain": [
       "(jacobi0.co) := ⎡  0       0       0       0       0       1      0      0      0     0  ⎤\n",
       "⎢                                                                        ⎥\n",
       "⎢  0       0       0       0       0       0      1      0      0     0  ⎥\n",
       "⎢                                                                        ⎥\n",
       "⎢  0       0       0       0       0       0      0      1      0     0  ⎥\n",
       "⎢                                                                        ⎥\n",
       "⎢  0       0       0       0       0       0      0      0      1     0  ⎥\n",
       "⎢                                                                        ⎥\n",
       "⎢  0       0       0       0       0       0      0      0      0     1  ⎥\n",
       "⎢                                                                        ⎥\n",
       "⎢259751  212005  316519  168900  177576  14792  14154  21426  9212   9664⎥\n",
       "⎢                                                                        ⎥\n",
       "⎢219236  252508  316513  148592  157375  14789  14151  21423  9209   9661⎥\n",
       "⎢                                                                        ⎥\n",
       "⎢259781  252544  316560  168924  177603  14804  14166  21438  9224   9676⎥\n",
       "⎢                                                                        ⎥\n",
       "⎢238651  209438  300453  183354  149551  16835  16049  23697  11189  9852⎥\n",
       "⎢                                                                        ⎥\n",
       "⎣218998  191601  275737  107764  178088  14766  14128  21400  9186   9638⎦"
      ]
     },
     "metadata": {},
     "output_type": "display_data"
    },
    {
     "data": {
      "text/plain": [
       "---"
      ]
     },
     "metadata": {},
     "output_type": "display_data"
    }
   ],
   "source": [
    "jacobi0.s ##:\n",
    "jacobi0.co ##:"
   ]
  },
  {
   "cell_type": "code",
   "execution_count": 332,
   "metadata": {},
   "outputs": [],
   "source": [
    "hesse = sp.hessian(Vdot, eerror)\n",
    "hesse0 = hesse.subz0(eerror)"
   ]
  },
  {
   "cell_type": "code",
   "execution_count": 333,
   "metadata": {},
   "outputs": [
    {
     "data": {
      "text/latex": [
       "$\\displaystyle \\left[\\begin{matrix}49559 & 49623 & 74710 & 26648 & 26584 & 17443 & 13734 & 17570 & 4946 & 4931\\\\49623 & 44572 & 73410 & 21083 & 21029 & 12509 & 16167 & 16304 & 3103 & 3094\\\\74710 & 73410 & 69955 & 32331 & 32265 & 18835 & 18805 & 18989 & 4975 & 4965\\\\26648 & 21083 & 32331 & 20408 & 0 & 8102 & 6254 & 8156 & 3698 & 0\\\\26584 & 21029 & 32265 & 0 & 20356 & 8084 & 6236 & 8155 & 0 & 3686\\\\17443 & 12509 & 18835 & 8102 & 8084 & 1254 & 2501 & 2532 & 1255 & 1253\\\\13734 & 16167 & 18805 & 6254 & 6236 & 2501 & 1248 & 2526 & 1253 & 1249\\\\17570 & 16304 & 18989 & 8156 & 8155 & 2532 & 2526 & 1279 & 1267 & 1269\\\\4946 & 3103 & 4975 & 3698 & 0 & 1255 & 1253 & 1267 & 2 & 0\\\\4931 & 3094 & 4965 & 0 & 3686 & 1253 & 1249 & 1269 & 0 & 2\\end{matrix}\\right]$"
      ],
      "text/plain": [
       "⎡49559  49623  74710  26648  26584  17443  13734  17570  4946  4931⎤\n",
       "⎢                                                                  ⎥\n",
       "⎢49623  44572  73410  21083  21029  12509  16167  16304  3103  3094⎥\n",
       "⎢                                                                  ⎥\n",
       "⎢74710  73410  69955  32331  32265  18835  18805  18989  4975  4965⎥\n",
       "⎢                                                                  ⎥\n",
       "⎢26648  21083  32331  20408    0    8102   6254   8156   3698   0  ⎥\n",
       "⎢                                                                  ⎥\n",
       "⎢26584  21029  32265    0    20356  8084   6236   8155    0    3686⎥\n",
       "⎢                                                                  ⎥\n",
       "⎢17443  12509  18835  8102   8084   1254   2501   2532   1255  1253⎥\n",
       "⎢                                                                  ⎥\n",
       "⎢13734  16167  18805  6254   6236   2501   1248   2526   1253  1249⎥\n",
       "⎢                                                                  ⎥\n",
       "⎢17570  16304  18989  8156   8155   2532   2526   1279   1267  1269⎥\n",
       "⎢                                                                  ⎥\n",
       "⎢4946   3103   4975   3698     0    1255   1253   1267    2     0  ⎥\n",
       "⎢                                                                  ⎥\n",
       "⎣4931   3094   4965     0    3686   1253   1249   1269    0     2  ⎦"
      ]
     },
     "execution_count": 333,
     "metadata": {},
     "output_type": "execute_result"
    }
   ],
   "source": [
    "hesse0.co"
   ]
  },
  {
   "cell_type": "markdown",
   "metadata": {},
   "source": [
    "First look if error dynamics is 0 for equilibrium in $t = 0, 10$"
   ]
  },
  {
   "cell_type": "code",
   "execution_count": 47,
   "metadata": {
    "scrolled": true
   },
   "outputs": [
    {
     "ename": "NameError",
     "evalue": "name 'flat_quantities' is not defined",
     "output_type": "error",
     "traceback": [
      "\u001b[0;31m---------------------------------------------------------------------------\u001b[0m",
      "\u001b[0;31mNameError\u001b[0m                                 Traceback (most recent call last)",
      "Input \u001b[0;32mIn [47]\u001b[0m, in \u001b[0;36m<cell line: 2>\u001b[0;34m()\u001b[0m\n\u001b[1;32m      1\u001b[0m ffex0_num \u001b[38;5;241m=\u001b[39m ffex0\u001b[38;5;241m.\u001b[39msubs(sys_params)\n\u001b[0;32m----> 2\u001b[0m ffex0_num \u001b[38;5;241m=\u001b[39m ffex0_num\u001b[38;5;241m.\u001b[39msubz(\u001b[43mflat_quantities\u001b[49m, flat_quant_subs)\n",
      "\u001b[0;31mNameError\u001b[0m: name 'flat_quantities' is not defined"
     ]
    }
   ],
   "source": [
    "ffex0_num = ffex0.subs(sys_params)\n",
    "ffex0_num = ffex0_num.subz(flat_quantities, flat_quant_subs)"
   ]
  },
  {
   "cell_type": "code",
   "execution_count": 48,
   "metadata": {},
   "outputs": [
    {
     "data": {
      "image/png": "[encoded data removed]",
      "text/latex": [
       "$\\displaystyle \\left\\{\\alpha_{1}, \\alpha_{3}, \\alpha_{4}, pr_{1}, pr_{2}, pr_{3}, \\ddddot{pr}_{1}, \\ddddot{pr}_{2}, \\ddddot{pr}_{3}, \\dddot{pr}_{1}, \\dddot{pr}_{2}, \\dddot{pr}_{3}, \\ddot{pr}_{1}, \\ddot{pr}_{2}, \\ddot{pr}_{3}, \\dot{pr}_{1}, \\dot{pr}_{2}, \\dot{pr}_{3}, qr_{1}, qr_{2}, \\ddddot{qr}_{1}, \\dddot{qr}_{1}, \\ddot{qr}_{1}, \\ddot{qr}_{2}, \\dot{qr}_{1}, \\dot{qr}_{2}, \\tau_{1}, \\tau_{3}, \\tau_{4}\\right\\}$"
      ],
      "text/plain": [
       "{α₁, α₃, α₄, pr₁, pr₂, pr₃, pr⃜₁, pr⃜₂, pr⃜₃, pr⃛₁, pr⃛₂, pr⃛₃, pr̈₁, pr̈₂, pr\n",
       "̈₃, pṙ₁, pṙ₂, pṙ₃, qr₁, qr₂, qr⃜₁, qr⃛₁, qr̈₁, qr̈₂, qṙ₁, qṙ₂, τ₁, τ₃, τ₄"
      ]
     },
     "execution_count": 48,
     "metadata": {},
     "output_type": "execute_result"
    }
   ],
   "source": [
    "ffex0_num.s"
   ]
  },
  {
   "cell_type": "code",
   "execution_count": null,
   "metadata": {},
   "outputs": [],
   "source": [
    "ffex0_num_t0 = ffex0_num.subs(t, 0) \n",
    "ffex0_num_t0 ##:\n",
    "ffex0_num_t10 = ffex0_num.subs(t, 10)\n",
    "ffex0_num_t10 ##:"
   ]
  },
  {
   "cell_type": "markdown",
   "metadata": {},
   "source": [
    "#### Lyapunov's indirect (1st) method"
   ]
  },
  {
   "cell_type": "code",
   "execution_count": 49,
   "metadata": {},
   "outputs": [],
   "source": [
    "jacobi_num = jacobi0.subs(sys_params)\n",
    "#jacobi_num = jacobi_num.subz(flat_quantities, flat_quant_subs)"
   ]
  },
  {
   "cell_type": "code",
   "execution_count": 50,
   "metadata": {},
   "outputs": [
    {
     "data": {
      "text/latex": [
       "$\\displaystyle \\left[\\begin{matrix}0 & 0 & 0 & 0 & 0 & 1 & 0 & 0 & 0 & 0\\\\0 & 0 & 0 & 0 & 0 & 0 & 1 & 0 & 0 & 0\\\\0 & 0 & 0 & 0 & 0 & 0 & 0 & 1 & 0 & 0\\\\0 & 0 & 0 & 0 & 0 & 0 & 0 & 0 & 1 & 0\\\\0 & 0 & 0 & 0 & 0 & 0 & 0 & 0 & 0 & 1\\\\251960 & 205901 & 305791 & 164450 & 172165 & 14364 & 13766 & 20810 & 8916 & 9318\\\\212347 & 245502 & 305785 & 144596 & 152412 & 14361 & 13763 & 20807 & 8913 & 9315\\\\251980 & 245528 & 305828 & 164468 & 172186 & 14374 & 13776 & 20820 & 8926 & 9328\\\\231117 & 203237 & 289734 & 178462 & 144632 & 16350 & 15603 & 23013 & 10834 & 9502\\\\212126 & 185961 & 265933 & 104689 & 172661 & 14340 & 13742 & 20786 & 8892 & 9294\\end{matrix}\\right]$"
      ],
      "text/plain": [
       "⎡  0       0       0       0       0       1      0      0      0     0  ⎤\n",
       "⎢                                                                        ⎥\n",
       "⎢  0       0       0       0       0       0      1      0      0     0  ⎥\n",
       "⎢                                                                        ⎥\n",
       "⎢  0       0       0       0       0       0      0      1      0     0  ⎥\n",
       "⎢                                                                        ⎥\n",
       "⎢  0       0       0       0       0       0      0      0      1     0  ⎥\n",
       "⎢                                                                        ⎥\n",
       "⎢  0       0       0       0       0       0      0      0      0     1  ⎥\n",
       "⎢                                                                        ⎥\n",
       "⎢251960  205901  305791  164450  172165  14364  13766  20810  8916   9318⎥\n",
       "⎢                                                                        ⎥\n",
       "⎢212347  245502  305785  144596  152412  14361  13763  20807  8913   9315⎥\n",
       "⎢                                                                        ⎥\n",
       "⎢251980  245528  305828  164468  172186  14374  13776  20820  8926   9328⎥\n",
       "⎢                                                                        ⎥\n",
       "⎢231117  203237  289734  178462  144632  16350  15603  23013  10834  9502⎥\n",
       "⎢                                                                        ⎥\n",
       "⎣212126  185961  265933  104689  172661  14340  13742  20786  8892   9294⎦"
      ]
     },
     "execution_count": 50,
     "metadata": {},
     "output_type": "execute_result"
    }
   ],
   "source": [
    "jacobi_num.co"
   ]
  },
  {
   "cell_type": "code",
   "execution_count": 51,
   "metadata": {},
   "outputs": [],
   "source": [
    "tti = npy.arange(0.1, 10.1, 0.1)\n",
    "eigs = []"
   ]
  },
  {
   "cell_type": "code",
   "execution_count": 55,
   "metadata": {},
   "outputs": [
    {
     "data": {
      "image/png": "[encoded data removed]",
      "text/latex": [
       "$\\displaystyle \\left\\{\\alpha_{1}, \\alpha_{3}, \\alpha_{4}, pr_{1}, pr_{2}, pr_{3}, \\ddddot{pr}_{1}, \\ddddot{pr}_{2}, \\ddddot{pr}_{3}, \\dddot{pr}_{1}, \\dddot{pr}_{2}, \\dddot{pr}_{3}, \\ddot{pr}_{1}, \\ddot{pr}_{2}, \\ddot{pr}_{3}, \\dot{pr}_{1}, \\dot{pr}_{2}, \\dot{pr}_{3}, qr_{1}, qr_{2}, \\ddddot{qr}_{1}, \\dddot{qr}_{1}, \\ddot{qr}_{1}, \\dot{qr}_{1}, \\dot{qr}_{2}, \\tau_{1}, \\tau_{3}, \\tau_{4}\\right\\}$"
      ],
      "text/plain": [
       "{α₁, α₃, α₄, pr₁, pr₂, pr₃, pr⃜₁, pr⃜₂, pr⃜₃, pr⃛₁, pr⃛₂, pr⃛₃, pr̈₁, pr̈₂, pr\n",
       "̈₃, pṙ₁, pṙ₂, pṙ₃, qr₁, qr₂, qr⃜₁, qr⃛₁, qr̈₁, qṙ₁, qṙ₂, τ₁, τ₃, τ₄}"
      ]
     },
     "execution_count": 55,
     "metadata": {},
     "output_type": "execute_result"
    }
   ],
   "source": [
    "jacobi_num.s"
   ]
  },
  {
   "cell_type": "code",
   "execution_count": 56,
   "metadata": {},
   "outputs": [
    {
     "data": {
      "text/latex": [
       "$\\displaystyle \\left[\\begin{matrix}p_{1}\\\\p_{2}\\\\p_{3}\\\\q_{1}\\\\q_{2}\\\\\\dot{p}_{1}\\\\\\dot{p}_{2}\\\\\\dot{p}_{3}\\\\\\dot{q}_{1}\\\\\\dot{q}_{2}\\\\\\tau_{1}\\\\\\tau_{3}\\\\\\tau_{4}\\\\\\alpha_{1}\\\\\\alpha_{3}\\\\\\alpha_{4}\\end{matrix}\\right]$"
      ],
      "text/plain": [
       "⎡p₁⎤\n",
       "⎢  ⎥\n",
       "⎢p₂⎥\n",
       "⎢  ⎥\n",
       "⎢p₃⎥\n",
       "⎢  ⎥\n",
       "⎢q₁⎥\n",
       "⎢  ⎥\n",
       "⎢q₂⎥\n",
       "⎢  ⎥\n",
       "⎢ṗ₁⎥\n",
       "⎢  ⎥\n",
       "⎢ṗ₂⎥\n",
       "⎢  ⎥\n",
       "⎢ṗ₃⎥\n",
       "⎢  ⎥\n",
       "⎢q̇₁⎥\n",
       "⎢  ⎥\n",
       "⎢q̇₂⎥\n",
       "⎢  ⎥\n",
       "⎢τ₁⎥\n",
       "⎢  ⎥\n",
       "⎢τ₃⎥\n",
       "⎢  ⎥\n",
       "⎢τ₄⎥\n",
       "⎢  ⎥\n",
       "⎢α₁⎥\n",
       "⎢  ⎥\n",
       "⎢α₃⎥\n",
       "⎢  ⎥\n",
       "⎣α₄⎦"
      ]
     },
     "execution_count": 56,
     "metadata": {},
     "output_type": "execute_result"
    }
   ],
   "source": [
    "xx_dyn"
   ]
  },
  {
   "cell_type": "code",
   "execution_count": 57,
   "metadata": {},
   "outputs": [],
   "source": [
    "flat_quantities = [p1, p2, p3, q1, q2,\n",
    "                   pdot1, pdot2, pdot3, qdot1, qdot2,\n",
    "                   pddot1, pddot2, pddot3, qddot1, qddot2,\n",
    "                   pdddot1, pdddot2, pdddot3, \n",
    "                   pddddot1, pddddot2, pddddot3]"
   ]
  },
  {
   "cell_type": "code",
   "execution_count": 62,
   "metadata": {},
   "outputs": [
    {
     "data": {
      "image/png": "[encoded data removed]",
      "text/latex": [
       "$\\displaystyle \\left\\{\\alpha_{1}, \\alpha_{3}, \\alpha_{4}, pr_{1}, pr_{2}, pr_{3}, \\ddddot{pr}_{1}, \\ddddot{pr}_{2}, \\ddddot{pr}_{3}, \\dddot{pr}_{1}, \\dddot{pr}_{2}, \\dddot{pr}_{3}, \\ddot{pr}_{1}, \\ddot{pr}_{2}, \\ddot{pr}_{3}, \\dot{pr}_{1}, \\dot{pr}_{2}, \\dot{pr}_{3}, qr_{1}, qr_{2}, \\ddddot{qr}_{1}, \\dddot{qr}_{1}, \\ddot{qr}_{1}, \\dot{qr}_{1}, \\dot{qr}_{2}, \\tau_{1}, \\tau_{3}, \\tau_{4}\\right\\}$"
      ],
      "text/plain": [
       "{α₁, α₃, α₄, pr₁, pr₂, pr₃, pr⃜₁, pr⃜₂, pr⃜₃, pr⃛₁, pr⃛₂, pr⃛₃, pr̈₁, pr̈₂, pr\n",
       "̈₃, pṙ₁, pṙ₂, pṙ₃, qr₁, qr₂, qr⃜₁, qr⃛₁, qr̈₁, qṙ₁, qṙ₂, τ₁, τ₃, τ₄}"
      ]
     },
     "execution_count": 62,
     "metadata": {},
     "output_type": "execute_result"
    }
   ],
   "source": [
    "jacobi_num_ti.s"
   ]
  },
  {
   "cell_type": "code",
   "execution_count": 60,
   "metadata": {
    "scrolled": false
   },
   "outputs": [
    {
     "ename": "TypeError",
     "evalue": "can't convert expression to float",
     "output_type": "error",
     "traceback": [
      "\u001b[0;31m---------------------------------------------------------------------------\u001b[0m",
      "\u001b[0;31mTypeError\u001b[0m                                 Traceback (most recent call last)",
      "Input \u001b[0;32mIn [60]\u001b[0m, in \u001b[0;36m<cell line: 2>\u001b[0;34m()\u001b[0m\n\u001b[1;32m      1\u001b[0m jacobi_num_ti \u001b[38;5;241m=\u001b[39m jacobi_num\u001b[38;5;241m.\u001b[39msubz(flat_quantities, flat_quant_func(\u001b[38;5;241m0.1\u001b[39m))\n\u001b[0;32m----> 2\u001b[0m jacobi_num_ti_eigs \u001b[38;5;241m=\u001b[39m npy\u001b[38;5;241m.\u001b[39mlinalg\u001b[38;5;241m.\u001b[39meig(\u001b[43mst\u001b[49m\u001b[38;5;241;43m.\u001b[39;49m\u001b[43mto_np\u001b[49m\u001b[43m(\u001b[49m\u001b[43mjacobi_num_ti\u001b[49m\u001b[43m)\u001b[49m)\n\u001b[1;32m      3\u001b[0m eigs\u001b[38;5;241m.\u001b[39mappend(jacobi_num_ti_eigs[\u001b[38;5;241m0\u001b[39m]\u001b[38;5;241m.\u001b[39mreal)\n",
      "File \u001b[0;32m/mnt/c/Users/kwrede/Desktop/Studienarbeit/SA-Wrede/flatness_notebooks/../../symbtools/symbtools/core.py:2427\u001b[0m, in \u001b[0;36mto_np\u001b[0;34m(arr, dtype)\u001b[0m\n\u001b[1;32m   2422\u001b[0m     \u001b[38;5;28;01massert\u001b[39;00m \u001b[38;5;28mlen\u001b[39m(symbs) \u001b[38;5;241m==\u001b[39m \u001b[38;5;241m0\u001b[39m, \u001b[38;5;124m\"\u001b[39m\u001b[38;5;124mno symbols allowed\u001b[39m\u001b[38;5;124m\"\u001b[39m\n\u001b[1;32m   2424\u001b[0m \u001b[38;5;66;03m# because np.int can not understand sp.Integer\u001b[39;00m\n\u001b[1;32m   2425\u001b[0m \u001b[38;5;66;03m# we temporarily convert to float\u001b[39;00m\n\u001b[1;32m   2426\u001b[0m \u001b[38;5;66;03m# TODO: make this work with complex numbers..\u001b[39;00m\n\u001b[0;32m-> 2427\u001b[0m arr1 \u001b[38;5;241m=\u001b[39m \u001b[43marr_float\u001b[49m\u001b[43m(\u001b[49m\u001b[43m \u001b[49m\u001b[43mnp\u001b[49m\u001b[38;5;241;43m.\u001b[39;49m\u001b[43marray\u001b[49m\u001b[43m(\u001b[49m\u001b[43marr\u001b[49m\u001b[43m)\u001b[49m\u001b[43m \u001b[49m\u001b[43m)\u001b[49m\n\u001b[1;32m   2428\u001b[0m \u001b[38;5;28;01mreturn\u001b[39;00m np\u001b[38;5;241m.\u001b[39marray( arr1, dtype )\n",
      "File \u001b[0;32m~/.local/lib/python3.8/site-packages/sympy/core/expr.py:358\u001b[0m, in \u001b[0;36mExpr.__float__\u001b[0;34m(self)\u001b[0m\n\u001b[1;32m    356\u001b[0m \u001b[38;5;28;01mif\u001b[39;00m result\u001b[38;5;241m.\u001b[39mis_number \u001b[38;5;129;01mand\u001b[39;00m result\u001b[38;5;241m.\u001b[39mas_real_imag()[\u001b[38;5;241m1\u001b[39m]:\n\u001b[1;32m    357\u001b[0m     \u001b[38;5;28;01mraise\u001b[39;00m \u001b[38;5;167;01mTypeError\u001b[39;00m(\u001b[38;5;124m\"\u001b[39m\u001b[38;5;124mcan\u001b[39m\u001b[38;5;124m'\u001b[39m\u001b[38;5;124mt convert complex to float\u001b[39m\u001b[38;5;124m\"\u001b[39m)\n\u001b[0;32m--> 358\u001b[0m \u001b[38;5;28;01mraise\u001b[39;00m \u001b[38;5;167;01mTypeError\u001b[39;00m(\u001b[38;5;124m\"\u001b[39m\u001b[38;5;124mcan\u001b[39m\u001b[38;5;124m'\u001b[39m\u001b[38;5;124mt convert expression to float\u001b[39m\u001b[38;5;124m\"\u001b[39m)\n",
      "\u001b[0;31mTypeError\u001b[0m: can't convert expression to float"
     ]
    }
   ],
   "source": [
    "jacobi_num_ti = jacobi_num.subz(flat_quantities, flat_quant_func(0.1))\n",
    "jacobi_num_ti_eigs = npy.linalg.eig(st.to_np(jacobi_num_ti))\n",
    "jacobi_num_ti_eigs[0].real"
   ]
  },
  {
   "cell_type": "code",
   "execution_count": 58,
   "metadata": {
    "scrolled": false
   },
   "outputs": [
    {
     "ename": "TypeError",
     "evalue": "can't convert expression to float",
     "output_type": "error",
     "traceback": [
      "\u001b[0;31m---------------------------------------------------------------------------\u001b[0m",
      "\u001b[0;31mTypeError\u001b[0m                                 Traceback (most recent call last)",
      "Input \u001b[0;32mIn [58]\u001b[0m, in \u001b[0;36m<cell line: 1>\u001b[0;34m()\u001b[0m\n\u001b[1;32m      1\u001b[0m \u001b[38;5;28;01mfor\u001b[39;00m ti \u001b[38;5;129;01min\u001b[39;00m tti:\n\u001b[1;32m      2\u001b[0m     \u001b[38;5;66;03m#flat_quant_subs_num = [flats.subs(t, ti) for flats in flat_quant_subs]\u001b[39;00m\n\u001b[1;32m      3\u001b[0m     jacobi_num_ti \u001b[38;5;241m=\u001b[39m jacobi_num\u001b[38;5;241m.\u001b[39msubz(flat_quantities, flat_quant_func(ti))\n\u001b[0;32m----> 4\u001b[0m     jacobi_num_ti_eigs \u001b[38;5;241m=\u001b[39m npy\u001b[38;5;241m.\u001b[39mlinalg\u001b[38;5;241m.\u001b[39meig(\u001b[43mst\u001b[49m\u001b[38;5;241;43m.\u001b[39;49m\u001b[43mto_np\u001b[49m\u001b[43m(\u001b[49m\u001b[43mjacobi_num_ti\u001b[49m\u001b[43m)\u001b[49m)\n\u001b[1;32m      5\u001b[0m     eigs\u001b[38;5;241m.\u001b[39mappend(jacobi_num_ti_eigs[\u001b[38;5;241m0\u001b[39m]\u001b[38;5;241m.\u001b[39mreal)\n",
      "File \u001b[0;32m/mnt/c/Users/kwrede/Desktop/Studienarbeit/SA-Wrede/flatness_notebooks/../../symbtools/symbtools/core.py:2427\u001b[0m, in \u001b[0;36mto_np\u001b[0;34m(arr, dtype)\u001b[0m\n\u001b[1;32m   2422\u001b[0m     \u001b[38;5;28;01massert\u001b[39;00m \u001b[38;5;28mlen\u001b[39m(symbs) \u001b[38;5;241m==\u001b[39m \u001b[38;5;241m0\u001b[39m, \u001b[38;5;124m\"\u001b[39m\u001b[38;5;124mno symbols allowed\u001b[39m\u001b[38;5;124m\"\u001b[39m\n\u001b[1;32m   2424\u001b[0m \u001b[38;5;66;03m# because np.int can not understand sp.Integer\u001b[39;00m\n\u001b[1;32m   2425\u001b[0m \u001b[38;5;66;03m# we temporarily convert to float\u001b[39;00m\n\u001b[1;32m   2426\u001b[0m \u001b[38;5;66;03m# TODO: make this work with complex numbers..\u001b[39;00m\n\u001b[0;32m-> 2427\u001b[0m arr1 \u001b[38;5;241m=\u001b[39m \u001b[43marr_float\u001b[49m\u001b[43m(\u001b[49m\u001b[43m \u001b[49m\u001b[43mnp\u001b[49m\u001b[38;5;241;43m.\u001b[39;49m\u001b[43marray\u001b[49m\u001b[43m(\u001b[49m\u001b[43marr\u001b[49m\u001b[43m)\u001b[49m\u001b[43m \u001b[49m\u001b[43m)\u001b[49m\n\u001b[1;32m   2428\u001b[0m \u001b[38;5;28;01mreturn\u001b[39;00m np\u001b[38;5;241m.\u001b[39marray( arr1, dtype )\n",
      "File \u001b[0;32m~/.local/lib/python3.8/site-packages/sympy/core/expr.py:358\u001b[0m, in \u001b[0;36mExpr.__float__\u001b[0;34m(self)\u001b[0m\n\u001b[1;32m    356\u001b[0m \u001b[38;5;28;01mif\u001b[39;00m result\u001b[38;5;241m.\u001b[39mis_number \u001b[38;5;129;01mand\u001b[39;00m result\u001b[38;5;241m.\u001b[39mas_real_imag()[\u001b[38;5;241m1\u001b[39m]:\n\u001b[1;32m    357\u001b[0m     \u001b[38;5;28;01mraise\u001b[39;00m \u001b[38;5;167;01mTypeError\u001b[39;00m(\u001b[38;5;124m\"\u001b[39m\u001b[38;5;124mcan\u001b[39m\u001b[38;5;124m'\u001b[39m\u001b[38;5;124mt convert complex to float\u001b[39m\u001b[38;5;124m\"\u001b[39m)\n\u001b[0;32m--> 358\u001b[0m \u001b[38;5;28;01mraise\u001b[39;00m \u001b[38;5;167;01mTypeError\u001b[39;00m(\u001b[38;5;124m\"\u001b[39m\u001b[38;5;124mcan\u001b[39m\u001b[38;5;124m'\u001b[39m\u001b[38;5;124mt convert expression to float\u001b[39m\u001b[38;5;124m\"\u001b[39m)\n",
      "\u001b[0;31mTypeError\u001b[0m: can't convert expression to float"
     ]
    }
   ],
   "source": [
    "for ti in tti:\n",
    "    #flat_quant_subs_num = [flats.subs(t, ti) for flats in flat_quant_subs]\n",
    "    jacobi_num_ti = jacobi_num.subz(flat_quantities, flat_quant_func(ti))\n",
    "    jacobi_num_ti_eigs = npy.linalg.eig(st.to_np(jacobi_num_ti))\n",
    "    eigs.append(jacobi_num_ti_eigs[0].real)"
   ]
  },
  {
   "cell_type": "code",
   "execution_count": null,
   "metadata": {},
   "outputs": [],
   "source": [
    "eigs"
   ]
  },
  {
   "cell_type": "code",
   "execution_count": null,
   "metadata": {
    "scrolled": false
   },
   "outputs": [],
   "source": [
    "plt.plot(tti, eigs, \"bo\")"
   ]
  },
  {
   "cell_type": "markdown",
   "metadata": {},
   "source": [
    "#### Lyapunov's direct (2nd) method"
   ]
  },
  {
   "cell_type": "code",
   "execution_count": 71,
   "metadata": {},
   "outputs": [],
   "source": [
    "# load with pickle\n",
    "#pickle_data = {\"Vdot\":Vdot, \"Vdot_traj\":Vdot_traj, \"Vdot_traj_num\":Vdot_traj_num, \"hesse\": hesse, \"hesse0\": hesse0}\n",
    "\n",
    "load_hesse = 1\n",
    "\n",
    "if load_hesse == 1:\n",
    "    with open(\"hesse_matrix.pcl\", \"rb\") as pfile:\n",
    "        data = pickle.load(pfile)\n",
    "        locals().update(data)\n",
    "\n",
    "else:\n",
    "    Vdot_traj = Vdot.subz(flat_quantities, flat_quant_subs)\n",
    "    Vdot_traj_num = Vdot_traj.subs(sys_params)\n",
    "    hesse = sp.hessian(Vdot_traj_num, eerror)\n",
    "    hesse0 = hesse.subz0(eerror)"
   ]
  },
  {
   "cell_type": "code",
   "execution_count": 74,
   "metadata": {},
   "outputs": [],
   "source": [
    "Vdot0 = Vdot_traj_num.subz0(eerror)"
   ]
  },
  {
   "cell_type": "code",
   "execution_count": 76,
   "metadata": {},
   "outputs": [],
   "source": [
    "Vdot0i = []\n",
    "\n",
    "for ti in tti:\n",
    "    Vdot0i.append(Vdot0.subs(t, ti))"
   ]
  },
  {
   "cell_type": "code",
   "execution_count": 77,
   "metadata": {},
   "outputs": [
    {
     "data": {
      "text/plain": [
       "[<matplotlib.lines.Line2D at 0x7f3646c18df0>]"
      ]
     },
     "execution_count": 77,
     "metadata": {},
     "output_type": "execute_result"
    },
    {
     "data": {
      "image/png": "[encoded data removed]",
      "text/plain": [
       "<Figure size 1800x1440 with 1 Axes>"
      ]
     },
     "metadata": {
      "needs_background": "light"
     },
     "output_type": "display_data"
    }
   ],
   "source": [
    "plt.plot(tti, Vdot0i, \"bo\")"
   ]
  },
  {
   "cell_type": "code",
   "execution_count": 44,
   "metadata": {},
   "outputs": [
    {
     "name": "stdout",
     "output_type": "stream",
     "text": [
      "CPU times: user 587 ms, sys: 0 ns, total: 587 ms\n",
      "Wall time: 585 ms\n"
     ]
    }
   ],
   "source": [
    "%%time\n",
    "hesse0ti = hesse0.subs(t, 10).evalf()"
   ]
  },
  {
   "cell_type": "code",
   "execution_count": 45,
   "metadata": {},
   "outputs": [],
   "source": [
    "hesse0ti_eigs = npy.linalg.eig(st.to_np(hesse0ti))[0]"
   ]
  },
  {
   "cell_type": "code",
   "execution_count": 46,
   "metadata": {},
   "outputs": [
    {
     "data": {
      "text/plain": [
       "array([ 7.50162648e+01, -7.90073165e+01,  1.39859309e+01, -1.59068925e+01, -2.15921161e+00, -4.06778876e+00,  7.30182435e-02,  6.59954628e-02, -4.00000000e+00,  5.55045920e-16])"
      ]
     },
     "execution_count": 46,
     "metadata": {},
     "output_type": "execute_result"
    }
   ],
   "source": [
    "npy.real(hesse0ti_eigs)"
   ]
  },
  {
   "cell_type": "markdown",
   "metadata": {},
   "source": [
    "#### V, Vdot development for simulated trajectory"
   ]
  },
  {
   "cell_type": "code",
   "execution_count": 204,
   "metadata": {},
   "outputs": [],
   "source": [
    "error_traj = npy.array([err_trajp1, err_trajp2, err_trajp3, err_trajq1, err_trajq2, err_trajpdot1, err_trajpdot2, err_trajpdot3, err_trajqdot1, err_trajqdot2])"
   ]
  },
  {
   "cell_type": "code",
   "execution_count": 221,
   "metadata": {},
   "outputs": [],
   "source": [
    "V_traj = []\n",
    "for i in range(0, len(error_traj)):\n",
    "    V_traj = 0.5 * npy.square(error_traj[i, :])"
   ]
  },
  {
   "cell_type": "code",
   "execution_count": 230,
   "metadata": {
    "scrolled": false
   },
   "outputs": [
    {
     "data": {
      "text/plain": [
       "[<matplotlib.lines.Line2D at 0x7f35f189c520>]"
      ]
     },
     "execution_count": 230,
     "metadata": {},
     "output_type": "execute_result"
    },
    {
     "data": {
      "image/png": "[encoded data removed]",
      "text/plain": [
       "<Figure size 1800x1440 with 1 Axes>"
      ]
     },
     "metadata": {
      "needs_background": "light"
     },
     "output_type": "display_data"
    }
   ],
   "source": [
    "plt.semilogy(tt[:1000], V_traj, \"bo\")"
   ]
  },
  {
   "cell_type": "code",
   "execution_count": null,
   "metadata": {},
   "outputs": [],
   "source": []
  },
  {
   "cell_type": "code",
   "execution_count": null,
   "metadata": {},
   "outputs": [],
   "source": []
  },
  {
   "cell_type": "code",
   "execution_count": null,
   "metadata": {},
   "outputs": [],
   "source": [
    "joint_pos_expr = st.col_stack(G1, G3, G4, G6).subs(sys_params) ##:\n",
    "joint_pos_func = st.expr_to_func(mod.tt, joint_pos_expr, keep_shape=True)"
   ]
  },
  {
   "cell_type": "code",
   "execution_count": null,
   "metadata": {
    "scrolled": false
   },
   "outputs": [],
   "source": [
    "import matplotlib.animation as animation\n",
    "from IPython.display import HTML\n",
    "\n",
    "fig = pl.figure() \n",
    "ax = fig.add_subplot(111, autoscale_on=False, xlim=(-2.3,2.3), ylim=(-2.3,2.3))\n",
    "ax.set_aspect('equal')\n",
    "\n",
    "line, = ax.plot([],[],'o-', lw=2)\n",
    "time_template = 'time=%.1fs'\n",
    "time_text = ax.text(0.05, 0.9, '', transform=ax.transAxes)\n",
    "dt = tt[1] - tt[0]\n",
    "\n",
    "\n",
    "def init():\n",
    "    line.set_data([],[])\n",
    "    time_text.set_text('')\n",
    "    return line, time_text\n",
    "\n",
    "l1 =1.0\n",
    "\n",
    "def animate(i):\n",
    "    xx, yy = joint_pos_func(*res[i, :res.shape[1]//2])\n",
    "    \n",
    "    line.set_data(xx,yy)\n",
    "    time_text.set_text(time_template%(i*dt))\n",
    "    \n",
    "    return line, time_text\n",
    "\n",
    "\n",
    "ani = animation.FuncAnimation(fig, animate, range(res.shape[0]), interval=tt[-1]*3, blit=True, init_func=init)\n",
    "\n",
    "\n",
    "# this animation is nice but results in a big notebook file which is unwanted for publication in the repo\n",
    "HTML(ani.to_jshtml())\n",
    "\n",
    "\n",
    "\n"
   ]
  },
  {
   "cell_type": "code",
   "execution_count": null,
   "metadata": {},
   "outputs": [],
   "source": []
  },
  {
   "cell_type": "code",
   "execution_count": null,
   "metadata": {},
   "outputs": [],
   "source": []
  },
  {
   "cell_type": "code",
   "execution_count": null,
   "metadata": {},
   "outputs": [],
   "source": []
  },
  {
   "cell_type": "code",
   "execution_count": null,
   "metadata": {},
   "outputs": [],
   "source": []
  },
  {
   "cell_type": "code",
   "execution_count": null,
   "metadata": {},
   "outputs": [],
   "source": []
  }
 ],
 "metadata": {
  "kernelspec": {
   "display_name": "Python 3 (ipykernel)",
   "language": "python",
   "name": "python3"
  },
  "language_info": {
   "codemirror_mode": {
    "name": "ipython",
    "version": 3
   },
   "file_extension": ".py",
   "mimetype": "text/x-python",
   "name": "python",
   "nbconvert_exporter": "python",
   "pygments_lexer": "ipython3",
   "version": "3.8.10"
  },
  "varInspector": {
   "cols": {
    "lenName": 16,
    "lenType": 16,
    "lenVar": 40
   },
   "kernels_config": {
    "python": {
     "delete_cmd_postfix": "",
     "delete_cmd_prefix": "del ",
     "library": "var_list.py",
     "varRefreshCmd": "print(var_dic_list())"
    },
    "r": {
     "delete_cmd_postfix": ") ",
     "delete_cmd_prefix": "rm(",
     "library": "var_list.r",
     "varRefreshCmd": "cat(var_dic_list()) "
    }
   },
   "position": {
    "height": "1007px",
    "left": "1519px",
    "right": "20px",
    "top": "94px",
    "width": "610px"
   },
   "types_to_exclude": [
    "module",
    "function",
    "builtin_function_or_method",
    "instance",
    "_Feature"
   ],
   "window_display": true
  }
 },
 "nbformat": 4,
 "nbformat_minor": 2
}
