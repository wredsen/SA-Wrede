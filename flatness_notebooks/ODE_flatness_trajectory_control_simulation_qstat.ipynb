{
 "cells": [
  {
   "cell_type": "markdown",
   "metadata": {},
   "source": [
    "### Considered model: four-bar linkage (= two link manipulator + one link manipulator + rigid coupling)\n",
    "\n",
    "\n",
    "This Notebook depends on symbtools >=0.2.5\n",
    "\n",
    "→ `pip install --upgrade symbtools`\n",
    "\n",
    "\n",
    "\n"
   ]
  },
  {
   "cell_type": "code",
   "execution_count": 1,
   "metadata": {},
   "outputs": [
    {
     "name": "stderr",
     "output_type": "stream",
     "text": [
      "Could not find No module named 'assimulo.solvers.sundials'\n",
      "Could not find No module named 'assimulo.solvers.kinsol'\n",
      "/home/wredi/.local/lib/python3.8/site-packages/assimulo/solvers/odepack.py:701: VisibleDeprecationWarning: Creating an ndarray from ragged nested sequences (which is a list-or-tuple of lists-or-tuples-or ndarrays with different lengths or shapes) is deprecated. If you meant to do this, you must specify 'dtype=object' when creating the ndarray.\n",
      "  N.array([[0.,0.,0.,0.,0.,0.,0.,0.,0.,0.,0.,0.,0.,0.],  # 5th order\n",
      "Could not find GLIMDA.\n"
     ]
    }
   ],
   "source": [
    "%load_ext ipydex.displaytools\n",
    "%matplotlib inline\n",
    "\n",
    "import sys\n",
    "# to load assimulo under wsl2\n",
    "sys.path.append('/home/kwrede/miniconda3/lib/python3.8/site-packages')\n",
    "sys.path.append('/home/wredi/miniconda3/lib/python3.8/site-packages')\n",
    "\n",
    "import os\n",
    "import pickle\n",
    "\n",
    "import sympy as sp\n",
    "import numpy as npy  # we need `np` later \n",
    "from sympy import sin, cos, pi\n",
    "from sympy.interactive import printing\n",
    "\n",
    "# using wredsen's symbtools fork (https://github.com/wredsen/symbtools @ DAE_statefeedback), assuming repos SA-Wrede and symbtools share the same parent directory\n",
    "sys.path.append('../../symbtools/')\n",
    "import symbtools as st\n",
    "import symbtools.modeltools as mt\n",
    "from symbtools.modeltools import Rz # Rotationsmatrix in the xy plane (c, -s; s, c)\n",
    "\n",
    "import scipy as sc\n",
    "import scipy.integrate as sc_integrate\n",
    "from scipy.optimize import fmin\n",
    "import matplotlib.pyplot as pl\n",
    "from assimulo.solvers import ODASSL as SOLVER # Imports the solver ODASSL from Assimulo\n",
    "from assimulo.problem import Overdetermined_Problem # Imports the problem formulation from Assimulo\n",
    "import ipydex\n",
    "plt = pl\n",
    "\n",
    "printing.init_printing(1)"
   ]
  },
  {
   "cell_type": "code",
   "execution_count": 2,
   "metadata": {
    "scrolled": false
   },
   "outputs": [
    {
     "data": {
      "image/svg+xml": [
       "<svg xmlns=\"http://www.w3.org/2000/svg\" xmlns:xlink=\"http://www.w3.org/1999/xlink\" version=\"1.1\" width=\"592px\" height=\"359px\" viewBox=\"-0.5 -0.5 592 359\" content=\"&lt;mxfile host=&quot;Electron&quot; modified=&quot;2022-05-30T13:50:47.766Z&quot; agent=&quot;5.0 (Windows NT 10.0; Win64; x64) AppleWebKit/537.36 (KHTML, like Gecko) draw.io/18.0.6 Chrome/100.0.4896.143 Electron/18.2.3 Safari/537.36&quot; etag=&quot;min5w-b4zxJFSnJGOmVM&quot; version=&quot;18.0.6&quot; type=&quot;device&quot;&gt;&lt;diagram id=&quot;B0kXoVWXYvZZ5K02NhJj&quot; name=&quot;Seite-1&quot;&gt;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&lt;/diagram&gt;&lt;/mxfile&gt;\" style=\"background-color: rgb(255, 255, 255);\"><defs><style xmlns=\"http://www.w3.org/1999/xhtml\" type=\"text/css\">div.MathJax_SVG_Display { position: static; }\n",
       "span.MathJax_SVG { position: static !important; }</style><style xmlns=\"http://www.w3.org/1999/xhtml\" type=\"text/css\">.MathJax_Hover_Frame {border-radius: .25em; -webkit-border-radius: .25em; -moz-border-radius: .25em; -khtml-border-radius: .25em; box-shadow: 0px 0px 15px #83A; -webkit-box-shadow: 0px 0px 15px #83A; -moz-box-shadow: 0px 0px 15px #83A; -khtml-box-shadow: 0px 0px 15px #83A; border: 1px solid #A6D ! important; display: inline-block; position: absolute}\n",
       ".MathJax_Menu_Button .MathJax_Hover_Arrow {position: absolute; cursor: pointer; display: inline-block; border: 2px solid #AAA; border-radius: 4px; -webkit-border-radius: 4px; -moz-border-radius: 4px; -khtml-border-radius: 4px; font-family: 'Courier New',Courier; font-size: 9px; color: #F0F0F0}\n",
       ".MathJax_Menu_Button .MathJax_Hover_Arrow span {display: block; background-color: #AAA; border: 1px solid; border-radius: 3px; line-height: 0; padding: 4px}\n",
       ".MathJax_Hover_Arrow:hover {color: white!important; border: 2px solid #CCC!important}\n",
       ".MathJax_Hover_Arrow:hover span {background-color: #CCC!important}\n",
       "</style><style xmlns=\"http://www.w3.org/1999/xhtml\" type=\"text/css\">#MathJax_About {position: fixed; left: 50%; width: auto; text-align: center; border: 3px outset; padding: 1em 2em; background-color: #DDDDDD; color: black; cursor: default; font-family: message-box; font-size: 120%; font-style: normal; text-indent: 0; text-transform: none; line-height: normal; letter-spacing: normal; word-spacing: normal; word-wrap: normal; white-space: nowrap; float: none; z-index: 201; border-radius: 15px; -webkit-border-radius: 15px; -moz-border-radius: 15px; -khtml-border-radius: 15px; box-shadow: 0px 10px 20px #808080; -webkit-box-shadow: 0px 10px 20px #808080; -moz-box-shadow: 0px 10px 20px #808080; -khtml-box-shadow: 0px 10px 20px #808080; filter: progid:DXImageTransform.Microsoft.dropshadow(OffX=2, OffY=2, Color='gray', Positive='true')}\n",
       "#MathJax_About.MathJax_MousePost {outline: none}\n",
       ".MathJax_Menu {position: absolute; background-color: white; color: black; width: auto; padding: 2px; border: 1px solid #CCCCCC; margin: 0; cursor: default; font: menu; text-align: left; text-indent: 0; text-transform: none; line-height: normal; letter-spacing: normal; word-spacing: normal; word-wrap: normal; white-space: nowrap; float: none; z-index: 201; box-shadow: 0px 10px 20px #808080; -webkit-box-shadow: 0px 10px 20px #808080; -moz-box-shadow: 0px 10px 20px #808080; -khtml-box-shadow: 0px 10px 20px #808080; filter: progid:DXImageTransform.Microsoft.dropshadow(OffX=2, OffY=2, Color='gray', Positive='true')}\n",
       ".MathJax_MenuItem {padding: 2px 2em; background: transparent}\n",
       ".MathJax_MenuArrow {position: absolute; right: .5em; padding-top: .25em; color: #666666; font-size: .75em}\n",
       ".MathJax_MenuActive .MathJax_MenuArrow {color: white}\n",
       ".MathJax_MenuArrow.RTL {left: .5em; right: auto}\n",
       ".MathJax_MenuCheck {position: absolute; left: .7em}\n",
       ".MathJax_MenuCheck.RTL {right: .7em; left: auto}\n",
       ".MathJax_MenuRadioCheck {position: absolute; left: 1em}\n",
       ".MathJax_MenuRadioCheck.RTL {right: 1em; left: auto}\n",
       ".MathJax_MenuLabel {padding: 2px 2em 4px 1.33em; font-style: italic}\n",
       ".MathJax_MenuRule {border-top: 1px solid #CCCCCC; margin: 4px 1px 0px}\n",
       ".MathJax_MenuDisabled {color: GrayText}\n",
       ".MathJax_MenuActive {background-color: Highlight; color: HighlightText}\n",
       ".MathJax_MenuDisabled:focus, .MathJax_MenuLabel:focus {background-color: #E8E8E8}\n",
       ".MathJax_ContextMenu:focus {outline: none}\n",
       ".MathJax_ContextMenu .MathJax_MenuItem:focus {outline: none}\n",
       "#MathJax_AboutClose {top: .2em; right: .2em}\n",
       ".MathJax_Menu .MathJax_MenuClose {top: -10px; left: -10px}\n",
       ".MathJax_MenuClose {position: absolute; cursor: pointer; display: inline-block; border: 2px solid #AAA; border-radius: 18px; -webkit-border-radius: 18px; -moz-border-radius: 18px; -khtml-border-radius: 18px; font-family: 'Courier New',Courier; font-size: 24px; color: #F0F0F0}\n",
       ".MathJax_MenuClose span {display: block; background-color: #AAA; border: 1.5px solid; border-radius: 18px; -webkit-border-radius: 18px; -moz-border-radius: 18px; -khtml-border-radius: 18px; line-height: 0; padding: 8px 0 6px}\n",
       ".MathJax_MenuClose:hover {color: white!important; border: 2px solid #CCC!important}\n",
       ".MathJax_MenuClose:hover span {background-color: #CCC!important}\n",
       ".MathJax_MenuClose:hover:focus {outline: none}\n",
       "</style><style xmlns=\"http://www.w3.org/1999/xhtml\" type=\"text/css\">.MathJax_Preview .MJXf-math {color: inherit!important}\n",
       "</style><style xmlns=\"http://www.w3.org/1999/xhtml\" type=\"text/css\">#MathJax_Zoom {position: absolute; background-color: #F0F0F0; overflow: auto; display: block; z-index: 301; padding: .5em; border: 1px solid black; margin: 0; font-weight: normal; font-style: normal; text-align: left; text-indent: 0; text-transform: none; line-height: normal; letter-spacing: normal; word-spacing: normal; word-wrap: normal; white-space: nowrap; float: none; -webkit-box-sizing: content-box; -moz-box-sizing: content-box; box-sizing: content-box; box-shadow: 5px 5px 15px #AAAAAA; -webkit-box-shadow: 5px 5px 15px #AAAAAA; -moz-box-shadow: 5px 5px 15px #AAAAAA; -khtml-box-shadow: 5px 5px 15px #AAAAAA; filter: progid:DXImageTransform.Microsoft.dropshadow(OffX=2, OffY=2, Color='gray', Positive='true')}\n",
       "#MathJax_ZoomOverlay {position: absolute; left: 0; top: 0; z-index: 300; display: inline-block; width: 100%; height: 100%; border: 0; padding: 0; margin: 0; background-color: white; opacity: 0; filter: alpha(opacity=0)}\n",
       "#MathJax_ZoomFrame {position: relative; display: inline-block; height: 0; width: 0}\n",
       "#MathJax_ZoomEventTrap {position: absolute; left: 0; top: 0; z-index: 302; display: inline-block; border: 0; padding: 0; margin: 0; background-color: white; opacity: 0; filter: alpha(opacity=0)}\n",
       "</style><style xmlns=\"http://www.w3.org/1999/xhtml\" type=\"text/css\">.MathJax_Preview {color: #888; display: contents}\n",
       "#MathJax_Message {position: fixed; left: 1px; bottom: 2px; background-color: #E6E6E6; border: 1px solid #959595; margin: 0px; padding: 2px 8px; z-index: 102; color: black; font-size: 80%; width: auto; white-space: nowrap}\n",
       "#MathJax_MSIE_Frame {position: absolute; top: 0; left: 0; width: 0px; z-index: 101; border: 0px; margin: 0px; padding: 0px}\n",
       ".MathJax_Error {color: #CC0000; font-style: italic}\n",
       "</style><style xmlns=\"http://www.w3.org/1999/xhtml\" type=\"text/css\">.MJXp-script {font-size: .8em}\n",
       ".MJXp-right {-webkit-transform-origin: right; -moz-transform-origin: right; -ms-transform-origin: right; -o-transform-origin: right; transform-origin: right}\n",
       ".MJXp-bold {font-weight: bold}\n",
       ".MJXp-italic {font-style: italic}\n",
       ".MJXp-scr {font-family: MathJax_Script,'Times New Roman',Times,STIXGeneral,serif}\n",
       ".MJXp-frak {font-family: MathJax_Fraktur,'Times New Roman',Times,STIXGeneral,serif}\n",
       ".MJXp-sf {font-family: MathJax_SansSerif,'Times New Roman',Times,STIXGeneral,serif}\n",
       ".MJXp-cal {font-family: MathJax_Caligraphic,'Times New Roman',Times,STIXGeneral,serif}\n",
       ".MJXp-mono {font-family: MathJax_Typewriter,'Times New Roman',Times,STIXGeneral,serif}\n",
       ".MJXp-largeop {font-size: 150%}\n",
       ".MJXp-largeop.MJXp-int {vertical-align: -.2em}\n",
       ".MJXp-math {display: inline-block; line-height: 1.2; text-indent: 0; font-family: 'Times New Roman',Times,STIXGeneral,serif; white-space: nowrap; border-collapse: collapse}\n",
       ".MJXp-display {display: block; text-align: center; margin: 1em 0}\n",
       ".MJXp-math span {display: inline-block}\n",
       ".MJXp-box {display: block!important; text-align: center}\n",
       ".MJXp-box:after {content: &quot; &quot;}\n",
       ".MJXp-rule {display: block!important; margin-top: .1em}\n",
       ".MJXp-char {display: block!important}\n",
       ".MJXp-mo {margin: 0 .15em}\n",
       ".MJXp-mfrac {margin: 0 .125em; vertical-align: .25em}\n",
       ".MJXp-denom {display: inline-table!important; width: 100%}\n",
       ".MJXp-denom &gt; * {display: table-row!important}\n",
       ".MJXp-surd {vertical-align: top}\n",
       ".MJXp-surd &gt; * {display: block!important}\n",
       ".MJXp-script-box &gt; *  {display: table!important; height: 50%}\n",
       ".MJXp-script-box &gt; * &gt; * {display: table-cell!important; vertical-align: top}\n",
       ".MJXp-script-box &gt; *:last-child &gt; * {vertical-align: bottom}\n",
       ".MJXp-script-box &gt; * &gt; * &gt; * {display: block!important}\n",
       ".MJXp-mphantom {visibility: hidden}\n",
       ".MJXp-munderover, .MJXp-munder {display: inline-table!important}\n",
       ".MJXp-over {display: inline-block!important; text-align: center}\n",
       ".MJXp-over &gt; * {display: block!important}\n",
       ".MJXp-munderover &gt; *, .MJXp-munder &gt; * {display: table-row!important}\n",
       ".MJXp-mtable {vertical-align: .25em; margin: 0 .125em}\n",
       ".MJXp-mtable &gt; * {display: inline-table!important; vertical-align: middle}\n",
       ".MJXp-mtr {display: table-row!important}\n",
       ".MJXp-mtd {display: table-cell!important; text-align: center; padding: .5em 0 0 .5em}\n",
       ".MJXp-mtr &gt; .MJXp-mtd:first-child {padding-left: 0}\n",
       ".MJXp-mtr:first-child &gt; .MJXp-mtd {padding-top: 0}\n",
       ".MJXp-mlabeledtr {display: table-row!important}\n",
       ".MJXp-mlabeledtr &gt; .MJXp-mtd:first-child {padding-left: 0}\n",
       ".MJXp-mlabeledtr:first-child &gt; .MJXp-mtd {padding-top: 0}\n",
       ".MJXp-merror {background-color: #FFFF88; color: #CC0000; border: 1px solid #CC0000; padding: 1px 3px; font-style: normal; font-size: 90%}\n",
       ".MJXp-scale0 {-webkit-transform: scaleX(.0); -moz-transform: scaleX(.0); -ms-transform: scaleX(.0); -o-transform: scaleX(.0); transform: scaleX(.0)}\n",
       ".MJXp-scale1 {-webkit-transform: scaleX(.1); -moz-transform: scaleX(.1); -ms-transform: scaleX(.1); -o-transform: scaleX(.1); transform: scaleX(.1)}\n",
       ".MJXp-scale2 {-webkit-transform: scaleX(.2); -moz-transform: scaleX(.2); -ms-transform: scaleX(.2); -o-transform: scaleX(.2); transform: scaleX(.2)}\n",
       ".MJXp-scale3 {-webkit-transform: scaleX(.3); -moz-transform: scaleX(.3); -ms-transform: scaleX(.3); -o-transform: scaleX(.3); transform: scaleX(.3)}\n",
       ".MJXp-scale4 {-webkit-transform: scaleX(.4); -moz-transform: scaleX(.4); -ms-transform: scaleX(.4); -o-transform: scaleX(.4); transform: scaleX(.4)}\n",
       ".MJXp-scale5 {-webkit-transform: scaleX(.5); -moz-transform: scaleX(.5); -ms-transform: scaleX(.5); -o-transform: scaleX(.5); transform: scaleX(.5)}\n",
       ".MJXp-scale6 {-webkit-transform: scaleX(.6); -moz-transform: scaleX(.6); -ms-transform: scaleX(.6); -o-transform: scaleX(.6); transform: scaleX(.6)}\n",
       ".MJXp-scale7 {-webkit-transform: scaleX(.7); -moz-transform: scaleX(.7); -ms-transform: scaleX(.7); -o-transform: scaleX(.7); transform: scaleX(.7)}\n",
       ".MJXp-scale8 {-webkit-transform: scaleX(.8); -moz-transform: scaleX(.8); -ms-transform: scaleX(.8); -o-transform: scaleX(.8); transform: scaleX(.8)}\n",
       ".MJXp-scale9 {-webkit-transform: scaleX(.9); -moz-transform: scaleX(.9); -ms-transform: scaleX(.9); -o-transform: scaleX(.9); transform: scaleX(.9)}\n",
       ".MathJax_PHTML .noError {vertical-align: ; font-size: 90%; text-align: left; color: black; padding: 1px 3px; border: 1px solid}\n",
       "</style><style xmlns=\"http://www.w3.org/1999/xhtml\" type=\"text/css\">.MathJax_SVG_Display {text-align: center; margin: 1em 0em; position: relative; display: block!important; text-indent: 0; max-width: none; max-height: none; min-width: 0; min-height: 0; width: 100%}\n",
       ".MathJax_SVG .MJX-monospace {font-family: monospace}\n",
       ".MathJax_SVG .MJX-sans-serif {font-family: sans-serif}\n",
       "#MathJax_SVG_Tooltip {background-color: InfoBackground; color: InfoText; border: 1px solid black; box-shadow: 2px 2px 5px #AAAAAA; -webkit-box-shadow: 2px 2px 5px #AAAAAA; -moz-box-shadow: 2px 2px 5px #AAAAAA; -khtml-box-shadow: 2px 2px 5px #AAAAAA; padding: 3px 4px; z-index: 401; position: absolute; left: 0; top: 0; width: auto; height: auto; display: none}\n",
       ".MathJax_SVG {display: inline; font-style: normal; font-weight: normal; line-height: normal; font-size: 100%; font-size-adjust: none; text-indent: 0; text-align: left; text-transform: none; letter-spacing: normal; word-spacing: normal; word-wrap: normal; white-space: nowrap; float: none; direction: ltr; max-width: none; max-height: none; min-width: 0; min-height: 0; border: 0; padding: 0; margin: 0}\n",
       ".MathJax_SVG * {transition: none; -webkit-transition: none; -moz-transition: none; -ms-transition: none; -o-transition: none}\n",
       ".MathJax_SVG &gt; div {display: inline-block}\n",
       ".mjx-svg-href {fill: blue; stroke: blue}\n",
       ".MathJax_SVG_Processing {visibility: hidden; position: absolute; top: 0; left: 0; width: 0; height: 0; overflow: hidden; display: block!important}\n",
       ".MathJax_SVG_Processed {display: none!important}\n",
       ".MathJax_SVG_test {font-style: normal; font-weight: normal; font-size: 100%; font-size-adjust: none; text-indent: 0; text-transform: none; letter-spacing: normal; word-spacing: normal; overflow: hidden; height: 1px}\n",
       ".MathJax_SVG_test.mjx-test-display {display: table!important}\n",
       ".MathJax_SVG_test.mjx-test-inline {display: inline!important; margin-right: -1px}\n",
       ".MathJax_SVG_test.mjx-test-default {display: block!important; clear: both}\n",
       ".MathJax_SVG_ex_box {display: inline-block!important; position: absolute; overflow: hidden; min-height: 0; max-height: none; padding: 0; border: 0; margin: 0; width: 1px; height: 60ex}\n",
       ".mjx-test-inline .MathJax_SVG_left_box {display: inline-block; width: 0; float: left}\n",
       ".mjx-test-inline .MathJax_SVG_right_box {display: inline-block; width: 0; float: right}\n",
       ".mjx-test-display .MathJax_SVG_right_box {display: table-cell!important; width: 10000em!important; min-width: 0; max-width: none; padding: 0; border: 0; margin: 0}\n",
       ".MathJax_SVG .noError {vertical-align: ; font-size: 90%; text-align: left; color: black; padding: 1px 3px; border: 1px solid}\n",
       "</style></defs><g><rect x=\"180\" y=\"271\" width=\"210\" height=\"10\" fill=\"#f5f5f5\" stroke=\"#666666\" transform=\"rotate(-15,285,276)\" pointer-events=\"all\"/><rect x=\"41\" y=\"146\" width=\"40\" height=\"20\" fill=\"#f5f5f5\" stroke=\"#666666\" pointer-events=\"all\"/><path d=\"M 61 156.75 L 61 82.37\" fill=\"none\" stroke=\"rgb(0, 0, 0)\" stroke-miterlimit=\"10\" pointer-events=\"stroke\"/><path d=\"M 61 77.12 L 64.5 84.12 L 61 82.37 L 57.5 84.12 Z\" fill=\"rgb(0, 0, 0)\" stroke=\"rgb(0, 0, 0)\" stroke-miterlimit=\"10\" pointer-events=\"all\"/><path d=\"M 61 156.25 L 101 156.25 L 118.91 156.59\" fill=\"none\" stroke=\"rgb(0, 0, 0)\" stroke-miterlimit=\"10\" pointer-events=\"stroke\"/><path d=\"M 124.16 156.69 L 117.1 160.06 L 118.91 156.59 L 117.23 153.06 Z\" fill=\"rgb(0, 0, 0)\" stroke=\"rgb(0, 0, 0)\" stroke-miterlimit=\"10\" pointer-events=\"all\"/><rect x=\"111\" y=\"152\" width=\"40\" height=\"30\" fill=\"none\" stroke=\"none\" pointer-events=\"all\"/><g transform=\"translate(-0.5 -0.5)\"><switch><foreignObject pointer-events=\"none\" width=\"100%\" height=\"100%\" requiredFeatures=\"http://www.w3.org/TR/SVG11/feature#Extensibility\" style=\"overflow: visible; text-align: left;\"><div xmlns=\"http://www.w3.org/1999/xhtml\" style=\"display: flex; align-items: unsafe center; justify-content: unsafe center; width: 38px; height: 1px; padding-top: 167px; margin-left: 112px;\"><div data-drawio-colors=\"color: rgb(0, 0, 0); \" style=\"box-sizing: border-box; font-size: 0px; text-align: center;\"><div style=\"display: inline-block; font-size: 14px; font-family: Helvetica; color: rgb(0, 0, 0); line-height: 1.2; pointer-events: all; white-space: normal; overflow-wrap: normal;\"><span class=\"MathJax_Preview\" style=\"color: inherit;\"/><div class=\"MathJax_SVG_Display\" style=\"text-align: center;\"><span class=\"MathJax_SVG\" id=\"MathJax-Element-1-Frame\" tabindex=\"0\" data-mathml=\"&lt;math xmlns=&quot;http://www.w3.org/1998/Math/MathML&quot; display=&quot;block&quot;&gt;&lt;msub&gt;&lt;mi&gt;e&lt;/mi&gt;&lt;mi&gt;x&lt;/mi&gt;&lt;/msub&gt;&lt;/math&gt;\" role=\"presentation\" style=\"font-size: 100%; display: inline-block; position: relative;\"><svg xmlns=\"http://www.w3.org/2000/svg\" xmlns:xlink=\"http://www.w3.org/1999/xlink\" width=\"2.256ex\" height=\"1.798ex\" viewBox=\"0 -535.3 971.3 774.3\" role=\"img\" focusable=\"false\" style=\"vertical-align: -0.555ex;\" aria-hidden=\"true\"><g stroke=\"currentColor\" fill=\"currentColor\" stroke-width=\"0\" transform=\"matrix(1 0 0 -1 0 0)\"><path stroke-width=\"1\" d=\"M39 168Q39 225 58 272T107 350T174 402T244 433T307 442H310Q355 442 388 420T421 355Q421 265 310 237Q261 224 176 223Q139 223 138 221Q138 219 132 186T125 128Q125 81 146 54T209 26T302 45T394 111Q403 121 406 121Q410 121 419 112T429 98T420 82T390 55T344 24T281 -1T205 -11Q126 -11 83 42T39 168ZM373 353Q367 405 305 405Q272 405 244 391T199 357T170 316T154 280T149 261Q149 260 169 260Q282 260 327 284T373 353Z\"/><g transform=\"translate(466,-150)\"><path stroke-width=\"1\" transform=\"scale(0.707)\" d=\"M52 289Q59 331 106 386T222 442Q257 442 286 424T329 379Q371 442 430 442Q467 442 494 420T522 361Q522 332 508 314T481 292T458 288Q439 288 427 299T415 328Q415 374 465 391Q454 404 425 404Q412 404 406 402Q368 386 350 336Q290 115 290 78Q290 50 306 38T341 26Q378 26 414 59T463 140Q466 150 469 151T485 153H489Q504 153 504 145Q504 144 502 134Q486 77 440 33T333 -11Q263 -11 227 52Q186 -10 133 -10H127Q78 -10 57 16T35 71Q35 103 54 123T99 143Q142 143 142 101Q142 81 130 66T107 46T94 41L91 40Q91 39 97 36T113 29T132 26Q168 26 194 71Q203 87 217 139T245 247T261 313Q266 340 266 352Q266 380 251 392T217 404Q177 404 142 372T93 290Q91 281 88 280T72 278H58Q52 284 52 289Z\"/></g></g></svg><span class=\"MJX_Assistive_MathML MJX_Assistive_MathML_Block\" role=\"presentation\"/></span></div><script type=\"math/tex; mode=display\" id=\"MathJax-Element-1\">e_x</script></div></div></div></foreignObject><text x=\"131\" y=\"171\" fill=\"rgb(0, 0, 0)\" font-family=\"Helvetica\" font-size=\"14px\" text-anchor=\"middle\">\n",
       "e_x</text></switch></g><rect x=\"11\" y=\"56\" width=\"60\" height=\"30\" fill=\"none\" stroke=\"none\" pointer-events=\"all\"/><g transform=\"translate(-0.5 -0.5)\"><switch><foreignObject pointer-events=\"none\" width=\"100%\" height=\"100%\" requiredFeatures=\"http://www.w3.org/TR/SVG11/feature#Extensibility\" style=\"overflow: visible; text-align: left;\"><div xmlns=\"http://www.w3.org/1999/xhtml\" style=\"display: flex; align-items: unsafe center; justify-content: unsafe center; width: 58px; height: 1px; padding-top: 71px; margin-left: 12px;\"><div data-drawio-colors=\"color: rgb(0, 0, 0); \" style=\"box-sizing: border-box; font-size: 0px; text-align: center;\"><div style=\"display: inline-block; font-size: 14px; font-family: Helvetica; color: rgb(0, 0, 0); line-height: 1.2; pointer-events: all; white-space: normal; overflow-wrap: normal;\"><span class=\"MathJax_Preview\" style=\"color: inherit;\"/><div class=\"MathJax_SVG_Display\" style=\"text-align: center;\"><span class=\"MathJax_SVG\" id=\"MathJax-Element-2-Frame\" tabindex=\"0\" data-mathml=\"&lt;math xmlns=&quot;http://www.w3.org/1998/Math/MathML&quot; display=&quot;block&quot;&gt;&lt;msub&gt;&lt;mi&gt;e&lt;/mi&gt;&lt;mi&gt;y&lt;/mi&gt;&lt;/msub&gt;&lt;/math&gt;\" role=\"presentation\" style=\"font-size: 100%; display: inline-block; position: relative;\"><svg xmlns=\"http://www.w3.org/2000/svg\" xmlns:xlink=\"http://www.w3.org/1999/xlink\" width=\"2.133ex\" height=\"2.074ex\" viewBox=\"0 -535.3 918.3 892.8\" role=\"img\" focusable=\"false\" style=\"vertical-align: -0.83ex;\" aria-hidden=\"true\"><g stroke=\"currentColor\" fill=\"currentColor\" stroke-width=\"0\" transform=\"matrix(1 0 0 -1 0 0)\"><path stroke-width=\"1\" d=\"M39 168Q39 225 58 272T107 350T174 402T244 433T307 442H310Q355 442 388 420T421 355Q421 265 310 237Q261 224 176 223Q139 223 138 221Q138 219 132 186T125 128Q125 81 146 54T209 26T302 45T394 111Q403 121 406 121Q410 121 419 112T429 98T420 82T390 55T344 24T281 -1T205 -11Q126 -11 83 42T39 168ZM373 353Q367 405 305 405Q272 405 244 391T199 357T170 316T154 280T149 261Q149 260 169 260Q282 260 327 284T373 353Z\"/><g transform=\"translate(466,-150)\"><path stroke-width=\"1\" transform=\"scale(0.707)\" d=\"M21 287Q21 301 36 335T84 406T158 442Q199 442 224 419T250 355Q248 336 247 334Q247 331 231 288T198 191T182 105Q182 62 196 45T238 27Q261 27 281 38T312 61T339 94Q339 95 344 114T358 173T377 247Q415 397 419 404Q432 431 462 431Q475 431 483 424T494 412T496 403Q496 390 447 193T391 -23Q363 -106 294 -155T156 -205Q111 -205 77 -183T43 -117Q43 -95 50 -80T69 -58T89 -48T106 -45Q150 -45 150 -87Q150 -107 138 -122T115 -142T102 -147L99 -148Q101 -153 118 -160T152 -167H160Q177 -167 186 -165Q219 -156 247 -127T290 -65T313 -9T321 21L315 17Q309 13 296 6T270 -6Q250 -11 231 -11Q185 -11 150 11T104 82Q103 89 103 113Q103 170 138 262T173 379Q173 380 173 381Q173 390 173 393T169 400T158 404H154Q131 404 112 385T82 344T65 302T57 280Q55 278 41 278H27Q21 284 21 287Z\"/></g></g></svg><span class=\"MJX_Assistive_MathML MJX_Assistive_MathML_Block\" role=\"presentation\"/></span></div><script type=\"math/tex; mode=display\" id=\"MathJax-Element-2\">e_y</script></div></div></div></foreignObject><text x=\"41\" y=\"75\" fill=\"rgb(0, 0, 0)\" font-family=\"Helvetica\" font-size=\"14px\" text-anchor=\"middle\">\n",
       "e_y</text></switch></g><rect x=\"531\" y=\"236\" width=\"60\" height=\"30\" fill=\"none\" stroke=\"none\" pointer-events=\"all\"/><g transform=\"translate(-0.5 -0.5)\"><switch><foreignObject pointer-events=\"none\" width=\"100%\" height=\"100%\" requiredFeatures=\"http://www.w3.org/TR/SVG11/feature#Extensibility\" style=\"overflow: visible; text-align: left;\"><div xmlns=\"http://www.w3.org/1999/xhtml\" style=\"display: flex; align-items: unsafe center; justify-content: unsafe center; width: 58px; height: 1px; padding-top: 251px; margin-left: 532px;\"><div data-drawio-colors=\"color: rgb(0, 0, 0); \" style=\"box-sizing: border-box; font-size: 0px; text-align: center;\"><div style=\"display: inline-block; font-size: 14px; font-family: Helvetica; color: rgb(0, 0, 0); line-height: 1.2; pointer-events: all; white-space: normal; overflow-wrap: normal;\"><span class=\"MathJax_Preview\" style=\"color: inherit;\"/><div class=\"MathJax_SVG_Display\" style=\"text-align: center;\"><span class=\"MathJax_SVG\" id=\"MathJax-Element-3-Frame\" tabindex=\"0\" data-mathml=\"&lt;math xmlns=&quot;http://www.w3.org/1998/Math/MathML&quot; display=&quot;block&quot;&gt;&lt;mi&gt;g&lt;/mi&gt;&lt;/math&gt;\" role=\"presentation\" style=\"font-size: 100%; display: inline-block; position: relative;\"><svg xmlns=\"http://www.w3.org/2000/svg\" xmlns:xlink=\"http://www.w3.org/1999/xlink\" width=\"1.116ex\" height=\"1.936ex\" viewBox=\"0 -535.3 480.5 833.5\" role=\"img\" focusable=\"false\" style=\"vertical-align: -0.693ex;\" aria-hidden=\"true\"><g stroke=\"currentColor\" fill=\"currentColor\" stroke-width=\"0\" transform=\"matrix(1 0 0 -1 0 0)\"><path stroke-width=\"1\" d=\"M311 43Q296 30 267 15T206 0Q143 0 105 45T66 160Q66 265 143 353T314 442Q361 442 401 394L404 398Q406 401 409 404T418 412T431 419T447 422Q461 422 470 413T480 394Q480 379 423 152T363 -80Q345 -134 286 -169T151 -205Q10 -205 10 -137Q10 -111 28 -91T74 -71Q89 -71 102 -80T116 -111Q116 -121 114 -130T107 -144T99 -154T92 -162L90 -164H91Q101 -167 151 -167Q189 -167 211 -155Q234 -144 254 -122T282 -75Q288 -56 298 -13Q311 35 311 43ZM384 328L380 339Q377 350 375 354T369 368T359 382T346 393T328 402T306 405Q262 405 221 352Q191 313 171 233T151 117Q151 38 213 38Q269 38 323 108L331 118L384 328Z\"/></g></svg><span class=\"MJX_Assistive_MathML MJX_Assistive_MathML_Block\" role=\"presentation\"/></span></div><script type=\"math/tex; mode=display\" id=\"MathJax-Element-3\">g</script></div></div></div></foreignObject><text x=\"561\" y=\"255\" fill=\"rgb(0, 0, 0)\" font-family=\"Helvetica\" font-size=\"14px\" text-anchor=\"middle\">\n",
       "g</text></switch></g><path d=\"M 541 236 Q 541 236 541 269.63\" fill=\"none\" stroke=\"rgb(0, 0, 0)\" stroke-miterlimit=\"10\" pointer-events=\"stroke\"/><path d=\"M 541 274.88 L 537.5 267.88 L 541 269.63 L 544.5 267.88 Z\" fill=\"rgb(0, 0, 0)\" stroke=\"rgb(0, 0, 0)\" stroke-miterlimit=\"10\" pointer-events=\"all\"/><ellipse cx=\"61\" cy=\"156\" rx=\"5\" ry=\"5\" fill=\"rgb(255, 255, 255)\" stroke=\"rgb(0, 0, 0)\" pointer-events=\"all\"/><rect x=\"401\" y=\"146\" width=\"40\" height=\"20\" fill=\"#f5f5f5\" stroke=\"#666666\" pointer-events=\"all\"/><ellipse cx=\"421\" cy=\"156\" rx=\"5\" ry=\"5\" fill=\"rgb(255, 255, 255)\" stroke=\"rgb(0, 0, 0)\" pointer-events=\"all\"/><path d=\"M 181.93 299.74 L 64.22 159.83\" fill=\"none\" stroke=\"rgb(0, 0, 0)\" stroke-miterlimit=\"10\" pointer-events=\"stroke\"/><ellipse cx=\"183\" cy=\"303\" rx=\"5\" ry=\"5\" fill=\"rgb(255, 255, 255)\" stroke=\"rgb(0, 0, 0)\" pointer-events=\"all\"/><ellipse cx=\"386\" cy=\"249\" rx=\"5\" ry=\"5\" fill=\"rgb(255, 255, 255)\" stroke=\"rgb(0, 0, 0)\" pointer-events=\"all\"/><path d=\"M 419.34 160.72 L 389.54 245.46\" fill=\"none\" stroke=\"rgb(0, 0, 0)\" stroke-miterlimit=\"10\" pointer-events=\"stroke\"/><ellipse cx=\"286\" cy=\"276\" rx=\"5\" ry=\"5\" fill=\"rgb(255, 255, 255)\" stroke=\"rgb(0, 0, 0)\" pointer-events=\"all\"/><rect x=\"330\" y=\"268\" width=\"60\" height=\"30\" fill=\"none\" stroke=\"none\" pointer-events=\"all\"/><g transform=\"translate(-0.5 -0.5)\"><switch><foreignObject pointer-events=\"none\" width=\"100%\" height=\"100%\" requiredFeatures=\"http://www.w3.org/TR/SVG11/feature#Extensibility\" style=\"overflow: visible; text-align: left;\"><div xmlns=\"http://www.w3.org/1999/xhtml\" style=\"display: flex; align-items: unsafe center; justify-content: unsafe center; width: 58px; height: 1px; padding-top: 283px; margin-left: 331px;\"><div data-drawio-colors=\"color: rgb(0, 0, 0); \" style=\"box-sizing: border-box; font-size: 0px; text-align: center;\"><div style=\"display: inline-block; font-size: 14px; font-family: Helvetica; color: rgb(0, 0, 0); line-height: 1.2; pointer-events: all; white-space: normal; overflow-wrap: normal;\"><span class=\"MathJax_Preview\" style=\"color: inherit;\"/><div class=\"MathJax_SVG_Display\" style=\"text-align: center;\"><span class=\"MathJax_SVG\" id=\"MathJax-Element-21-Frame\" tabindex=\"0\" data-mathml=\"&lt;math xmlns=&quot;http://www.w3.org/1998/Math/MathML&quot; display=&quot;block&quot;&gt;&lt;mn&gt;2&lt;/mn&gt;&lt;msub&gt;&lt;mi&gt;s&lt;/mi&gt;&lt;mn&gt;2&lt;/mn&gt;&lt;/msub&gt;&lt;mo&gt;,&lt;/mo&gt;&lt;msub&gt;&lt;mi&gt;J&lt;/mi&gt;&lt;mn&gt;2&lt;/mn&gt;&lt;/msub&gt;&lt;/math&gt;\" role=\"presentation\" style=\"font-size: 100%; display: inline-block; position: relative;\"><svg xmlns=\"http://www.w3.org/2000/svg\" xmlns:xlink=\"http://www.w3.org/1999/xlink\" width=\"6.686ex\" height=\"2.486ex\" viewBox=\"0 -772.3 2878.5 1070.5\" role=\"img\" focusable=\"false\" style=\"vertical-align: -0.693ex;\" aria-hidden=\"true\"><g stroke=\"currentColor\" fill=\"currentColor\" stroke-width=\"0\" transform=\"matrix(1 0 0 -1 0 0)\"><path stroke-width=\"1\" d=\"M109 429Q82 429 66 447T50 491Q50 562 103 614T235 666Q326 666 387 610T449 465Q449 422 429 383T381 315T301 241Q265 210 201 149L142 93L218 92Q375 92 385 97Q392 99 409 186V189H449V186Q448 183 436 95T421 3V0H50V19V31Q50 38 56 46T86 81Q115 113 136 137Q145 147 170 174T204 211T233 244T261 278T284 308T305 340T320 369T333 401T340 431T343 464Q343 527 309 573T212 619Q179 619 154 602T119 569T109 550Q109 549 114 549Q132 549 151 535T170 489Q170 464 154 447T109 429Z\"/><g transform=\"translate(500,0)\"><path stroke-width=\"1\" d=\"M131 289Q131 321 147 354T203 415T300 442Q362 442 390 415T419 355Q419 323 402 308T364 292Q351 292 340 300T328 326Q328 342 337 354T354 372T367 378Q368 378 368 379Q368 382 361 388T336 399T297 405Q249 405 227 379T204 326Q204 301 223 291T278 274T330 259Q396 230 396 163Q396 135 385 107T352 51T289 7T195 -10Q118 -10 86 19T53 87Q53 126 74 143T118 160Q133 160 146 151T160 120Q160 94 142 76T111 58Q109 57 108 57T107 55Q108 52 115 47T146 34T201 27Q237 27 263 38T301 66T318 97T323 122Q323 150 302 164T254 181T195 196T148 231Q131 256 131 289Z\"/><g transform=\"translate(469,-150)\"><path stroke-width=\"1\" transform=\"scale(0.707)\" d=\"M109 429Q82 429 66 447T50 491Q50 562 103 614T235 666Q326 666 387 610T449 465Q449 422 429 383T381 315T301 241Q265 210 201 149L142 93L218 92Q375 92 385 97Q392 99 409 186V189H449V186Q448 183 436 95T421 3V0H50V19V31Q50 38 56 46T86 81Q115 113 136 137Q145 147 170 174T204 211T233 244T261 278T284 308T305 340T320 369T333 401T340 431T343 464Q343 527 309 573T212 619Q179 619 154 602T119 569T109 550Q109 549 114 549Q132 549 151 535T170 489Q170 464 154 447T109 429Z\"/></g></g><g transform=\"translate(1423,0)\"><path stroke-width=\"1\" d=\"M78 35T78 60T94 103T137 121Q165 121 187 96T210 8Q210 -27 201 -60T180 -117T154 -158T130 -185T117 -194Q113 -194 104 -185T95 -172Q95 -168 106 -156T131 -126T157 -76T173 -3V9L172 8Q170 7 167 6T161 3T152 1T140 0Q113 0 96 17Z\"/></g><g transform=\"translate(1869,0)\"><path stroke-width=\"1\" d=\"M447 625Q447 637 354 637H329Q323 642 323 645T325 664Q329 677 335 683H352Q393 681 498 681Q541 681 568 681T605 682T619 682Q633 682 633 672Q633 670 630 658Q626 642 623 640T604 637Q552 637 545 623Q541 610 483 376Q420 128 419 127Q397 64 333 21T195 -22Q137 -22 97 8T57 88Q57 130 80 152T132 174Q177 174 182 130Q182 98 164 80T123 56Q115 54 115 53T122 44Q148 15 197 15Q235 15 271 47T324 130Q328 142 387 380T447 625Z\"/><g transform=\"translate(555,-150)\"><path stroke-width=\"1\" transform=\"scale(0.707)\" d=\"M109 429Q82 429 66 447T50 491Q50 562 103 614T235 666Q326 666 387 610T449 465Q449 422 429 383T381 315T301 241Q265 210 201 149L142 93L218 92Q375 92 385 97Q392 99 409 186V189H449V186Q448 183 436 95T421 3V0H50V19V31Q50 38 56 46T86 81Q115 113 136 137Q145 147 170 174T204 211T233 244T261 278T284 308T305 340T320 369T333 401T340 431T343 464Q343 527 309 573T212 619Q179 619 154 602T119 569T109 550Q109 549 114 549Q132 549 151 535T170 489Q170 464 154 447T109 429Z\"/></g></g></g></svg><span class=\"MJX_Assistive_MathML MJX_Assistive_MathML_Block\" role=\"presentation\"/></span></div><script type=\"math/tex; mode=display\" id=\"MathJax-Element-21\">2s_2, J_2</script></div></div></div></foreignObject><text x=\"360\" y=\"287\" fill=\"rgb(0, 0, 0)\" font-family=\"Helvetica\" font-size=\"14px\" text-anchor=\"middle\">2s_2, J_...</text></switch></g><rect x=\"221\" y=\"239\" width=\"60\" height=\"30\" fill=\"none\" stroke=\"none\" pointer-events=\"all\"/><g transform=\"translate(-0.5 -0.5)\"><switch><foreignObject pointer-events=\"none\" width=\"100%\" height=\"100%\" requiredFeatures=\"http://www.w3.org/TR/SVG11/feature#Extensibility\" style=\"overflow: visible; text-align: left;\"><div xmlns=\"http://www.w3.org/1999/xhtml\" style=\"display: flex; align-items: unsafe center; justify-content: unsafe center; width: 58px; height: 1px; padding-top: 254px; margin-left: 222px;\"><div data-drawio-colors=\"color: rgb(0, 0, 0); \" style=\"box-sizing: border-box; font-size: 0px; text-align: center;\"><div style=\"display: inline-block; font-size: 14px; font-family: Helvetica; color: rgb(0, 0, 0); line-height: 1.2; pointer-events: all; white-space: normal; overflow-wrap: normal;\"><span class=\"MathJax_Preview\" style=\"color: inherit;\"/><div class=\"MathJax_SVG_Display\" style=\"text-align: center;\"><span class=\"MathJax_SVG\" id=\"MathJax-Element-5-Frame\" tabindex=\"0\" data-mathml=\"&lt;math xmlns=&quot;http://www.w3.org/1998/Math/MathML&quot; display=&quot;block&quot;&gt;&lt;msub&gt;&lt;mi&gt;S&lt;/mi&gt;&lt;mn&gt;2&lt;/mn&gt;&lt;/msub&gt;&lt;mo&gt;,&lt;/mo&gt;&lt;msub&gt;&lt;mi&gt;m&lt;/mi&gt;&lt;mn&gt;2&lt;/mn&gt;&lt;/msub&gt;&lt;/math&gt;\" role=\"presentation\" style=\"font-size: 100%; display: inline-block; position: relative;\"><svg xmlns=\"http://www.w3.org/2000/svg\" xmlns:xlink=\"http://www.w3.org/1999/xlink\" width=\"6.608ex\" height=\"2.486ex\" viewBox=\"0 -772.3 2845 1070.5\" role=\"img\" focusable=\"false\" style=\"vertical-align: -0.693ex;\" aria-hidden=\"true\"><g stroke=\"currentColor\" fill=\"currentColor\" stroke-width=\"0\" transform=\"matrix(1 0 0 -1 0 0)\"><path stroke-width=\"1\" d=\"M308 24Q367 24 416 76T466 197Q466 260 414 284Q308 311 278 321T236 341Q176 383 176 462Q176 523 208 573T273 648Q302 673 343 688T407 704H418H425Q521 704 564 640Q565 640 577 653T603 682T623 704Q624 704 627 704T632 705Q645 705 645 698T617 577T585 459T569 456Q549 456 549 465Q549 471 550 475Q550 478 551 494T553 520Q553 554 544 579T526 616T501 641Q465 662 419 662Q362 662 313 616T263 510Q263 480 278 458T319 427Q323 425 389 408T456 390Q490 379 522 342T554 242Q554 216 546 186Q541 164 528 137T492 78T426 18T332 -20Q320 -22 298 -22Q199 -22 144 33L134 44L106 13Q83 -14 78 -18T65 -22Q52 -22 52 -14Q52 -11 110 221Q112 227 130 227H143Q149 221 149 216Q149 214 148 207T144 186T142 153Q144 114 160 87T203 47T255 29T308 24Z\"/><g transform=\"translate(613,-150)\"><path stroke-width=\"1\" transform=\"scale(0.707)\" d=\"M109 429Q82 429 66 447T50 491Q50 562 103 614T235 666Q326 666 387 610T449 465Q449 422 429 383T381 315T301 241Q265 210 201 149L142 93L218 92Q375 92 385 97Q392 99 409 186V189H449V186Q448 183 436 95T421 3V0H50V19V31Q50 38 56 46T86 81Q115 113 136 137Q145 147 170 174T204 211T233 244T261 278T284 308T305 340T320 369T333 401T340 431T343 464Q343 527 309 573T212 619Q179 619 154 602T119 569T109 550Q109 549 114 549Q132 549 151 535T170 489Q170 464 154 447T109 429Z\"/></g><g transform=\"translate(1067,0)\"><path stroke-width=\"1\" d=\"M78 35T78 60T94 103T137 121Q165 121 187 96T210 8Q210 -27 201 -60T180 -117T154 -158T130 -185T117 -194Q113 -194 104 -185T95 -172Q95 -168 106 -156T131 -126T157 -76T173 -3V9L172 8Q170 7 167 6T161 3T152 1T140 0Q113 0 96 17Z\"/></g><g transform=\"translate(1512,0)\"><path stroke-width=\"1\" d=\"M21 287Q22 293 24 303T36 341T56 388T88 425T132 442T175 435T205 417T221 395T229 376L231 369Q231 367 232 367L243 378Q303 442 384 442Q401 442 415 440T441 433T460 423T475 411T485 398T493 385T497 373T500 364T502 357L510 367Q573 442 659 442Q713 442 746 415T780 336Q780 285 742 178T704 50Q705 36 709 31T724 26Q752 26 776 56T815 138Q818 149 821 151T837 153Q857 153 857 145Q857 144 853 130Q845 101 831 73T785 17T716 -10Q669 -10 648 17T627 73Q627 92 663 193T700 345Q700 404 656 404H651Q565 404 506 303L499 291L466 157Q433 26 428 16Q415 -11 385 -11Q372 -11 364 -4T353 8T350 18Q350 29 384 161L420 307Q423 322 423 345Q423 404 379 404H374Q288 404 229 303L222 291L189 157Q156 26 151 16Q138 -11 108 -11Q95 -11 87 -5T76 7T74 17Q74 30 112 181Q151 335 151 342Q154 357 154 369Q154 405 129 405Q107 405 92 377T69 316T57 280Q55 278 41 278H27Q21 284 21 287Z\"/><g transform=\"translate(878,-150)\"><path stroke-width=\"1\" transform=\"scale(0.707)\" d=\"M109 429Q82 429 66 447T50 491Q50 562 103 614T235 666Q326 666 387 610T449 465Q449 422 429 383T381 315T301 241Q265 210 201 149L142 93L218 92Q375 92 385 97Q392 99 409 186V189H449V186Q448 183 436 95T421 3V0H50V19V31Q50 38 56 46T86 81Q115 113 136 137Q145 147 170 174T204 211T233 244T261 278T284 308T305 340T320 369T333 401T340 431T343 464Q343 527 309 573T212 619Q179 619 154 602T119 569T109 550Q109 549 114 549Q132 549 151 535T170 489Q170 464 154 447T109 429Z\"/></g></g></g></svg><span class=\"MJX_Assistive_MathML MJX_Assistive_MathML_Block\" role=\"presentation\"/></span></div><script type=\"math/tex; mode=display\" id=\"MathJax-Element-5\">S_2, m_2</script></div></div></div></foreignObject><text x=\"251\" y=\"258\" fill=\"rgb(0, 0, 0)\" font-family=\"Helvetica\" font-size=\"14px\" text-anchor=\"middle\">\n",
       "S_2, m_2</text></switch></g><rect x=\"153\" y=\"308\" width=\"60\" height=\"30\" fill=\"none\" stroke=\"none\" pointer-events=\"all\"/><g transform=\"translate(-0.5 -0.5)\"><switch><foreignObject pointer-events=\"none\" width=\"100%\" height=\"100%\" requiredFeatures=\"http://www.w3.org/TR/SVG11/feature#Extensibility\" style=\"overflow: visible; text-align: left;\"><div xmlns=\"http://www.w3.org/1999/xhtml\" style=\"display: flex; align-items: unsafe center; justify-content: unsafe center; width: 58px; height: 1px; padding-top: 323px; margin-left: 154px;\"><div data-drawio-colors=\"color: rgb(0, 0, 0); \" style=\"box-sizing: border-box; font-size: 0px; text-align: center;\"><div style=\"display: inline-block; font-size: 14px; font-family: Helvetica; color: rgb(0, 0, 0); line-height: 1.2; pointer-events: all; white-space: normal; overflow-wrap: normal;\"><span style=\"\"><span class=\"MathJax_Preview\" style=\"color: inherit;\"/><div class=\"MathJax_SVG_Display\" style=\"text-align: center;\"><span class=\"MathJax_SVG\" id=\"MathJax-Element-6-Frame\" tabindex=\"0\" data-mathml=\"&lt;math xmlns=&quot;http://www.w3.org/1998/Math/MathML&quot; display=&quot;block&quot;&gt;&lt;msub&gt;&lt;mi&gt;G&lt;/mi&gt;&lt;mn&gt;3&lt;/mn&gt;&lt;/msub&gt;&lt;/math&gt;\" role=\"presentation\" style=\"font-size: 100%; display: inline-block; position: relative;\"><svg xmlns=\"http://www.w3.org/2000/svg\" xmlns:xlink=\"http://www.w3.org/1999/xlink\" width=\"2.881ex\" height=\"2.349ex\" viewBox=\"0 -772.3 1240.4 1011.3\" role=\"img\" focusable=\"false\" style=\"vertical-align: -0.555ex;\" aria-hidden=\"true\"><g stroke=\"currentColor\" fill=\"currentColor\" stroke-width=\"0\" transform=\"matrix(1 0 0 -1 0 0)\"><path stroke-width=\"1\" d=\"M50 252Q50 367 117 473T286 641T490 704Q580 704 633 653Q642 643 648 636T656 626L657 623Q660 623 684 649Q691 655 699 663T715 679T725 690L740 705H746Q760 705 760 698Q760 694 728 561Q692 422 692 421Q690 416 687 415T669 413H653Q647 419 647 422Q647 423 648 429T650 449T651 481Q651 552 619 605T510 659Q492 659 471 656T418 643T357 615T294 567T236 496T189 394T158 260Q156 242 156 221Q156 173 170 136T206 79T256 45T308 28T353 24Q407 24 452 47T514 106Q517 114 529 161T541 214Q541 222 528 224T468 227H431Q425 233 425 235T427 254Q431 267 437 273H454Q494 271 594 271Q634 271 659 271T695 272T707 272Q721 272 721 263Q721 261 719 249Q714 230 709 228Q706 227 694 227Q674 227 653 224Q646 221 643 215T629 164Q620 131 614 108Q589 6 586 3Q584 1 581 1Q571 1 553 21T530 52Q530 53 528 52T522 47Q448 -22 322 -22Q201 -22 126 55T50 252Z\"/><g transform=\"translate(786,-150)\"><path stroke-width=\"1\" transform=\"scale(0.707)\" d=\"M127 463Q100 463 85 480T69 524Q69 579 117 622T233 665Q268 665 277 664Q351 652 390 611T430 522Q430 470 396 421T302 350L299 348Q299 347 308 345T337 336T375 315Q457 262 457 175Q457 96 395 37T238 -22Q158 -22 100 21T42 130Q42 158 60 175T105 193Q133 193 151 175T169 130Q169 119 166 110T159 94T148 82T136 74T126 70T118 67L114 66Q165 21 238 21Q293 21 321 74Q338 107 338 175V195Q338 290 274 322Q259 328 213 329L171 330L168 332Q166 335 166 348Q166 366 174 366Q202 366 232 371Q266 376 294 413T322 525V533Q322 590 287 612Q265 626 240 626Q208 626 181 615T143 592T132 580H135Q138 579 143 578T153 573T165 566T175 555T183 540T186 520Q186 498 172 481T127 463Z\"/></g></g></svg><span class=\"MJX_Assistive_MathML MJX_Assistive_MathML_Block\" role=\"presentation\"/></span></div><script type=\"math/tex; mode=display\" id=\"MathJax-Element-6\">G_3</script></span></div></div></div></foreignObject><text x=\"183\" y=\"327\" fill=\"rgb(0, 0, 0)\" font-family=\"Helvetica\" font-size=\"14px\" text-anchor=\"middle\">\n",
       "G_3</text></switch></g><rect x=\"7\" y=\"166\" width=\"60\" height=\"30\" fill=\"none\" stroke=\"none\" pointer-events=\"all\"/><g transform=\"translate(-0.5 -0.5)\"><switch><foreignObject pointer-events=\"none\" width=\"100%\" height=\"100%\" requiredFeatures=\"http://www.w3.org/TR/SVG11/feature#Extensibility\" style=\"overflow: visible; text-align: left;\"><div xmlns=\"http://www.w3.org/1999/xhtml\" style=\"display: flex; align-items: unsafe center; justify-content: unsafe center; width: 58px; height: 1px; padding-top: 181px; margin-left: 8px;\"><div data-drawio-colors=\"color: rgb(0, 0, 0); \" style=\"box-sizing: border-box; font-size: 0px; text-align: center;\"><div style=\"display: inline-block; font-size: 14px; font-family: Helvetica; color: rgb(0, 0, 0); line-height: 1.2; pointer-events: all; white-space: normal; overflow-wrap: normal;\"><span class=\"MathJax_Preview\" style=\"color: inherit;\"/><div class=\"MathJax_SVG_Display\" style=\"text-align: center;\"><span class=\"MathJax_SVG\" id=\"MathJax-Element-7-Frame\" tabindex=\"0\" data-mathml=\"&lt;math xmlns=&quot;http://www.w3.org/1998/Math/MathML&quot; display=&quot;block&quot;&gt;&lt;msub&gt;&lt;mi&gt;B&lt;/mi&gt;&lt;mn&gt;1&lt;/mn&gt;&lt;/msub&gt;&lt;mo&gt;,&lt;/mo&gt;&lt;msub&gt;&lt;mi&gt;G&lt;/mi&gt;&lt;mn&gt;1&lt;/mn&gt;&lt;/msub&gt;&lt;mo&gt;,&lt;/mo&gt;&lt;msub&gt;&lt;mi&gt;S&lt;/mi&gt;&lt;mn&gt;1&lt;/mn&gt;&lt;/msub&gt;&lt;/math&gt;\" role=\"presentation\" style=\"font-size: 100%; display: inline-block; position: relative;\"><svg xmlns=\"http://www.w3.org/2000/svg\" xmlns:xlink=\"http://www.w3.org/1999/xlink\" width=\"10.246ex\" height=\"2.486ex\" viewBox=\"0 -772.3 4411.6 1070.5\" role=\"img\" focusable=\"false\" style=\"vertical-align: -0.693ex;\" aria-hidden=\"true\"><g stroke=\"currentColor\" fill=\"currentColor\" stroke-width=\"0\" transform=\"matrix(1 0 0 -1 0 0)\"><path stroke-width=\"1\" d=\"M231 637Q204 637 199 638T194 649Q194 676 205 682Q206 683 335 683Q594 683 608 681Q671 671 713 636T756 544Q756 480 698 429T565 360L555 357Q619 348 660 311T702 219Q702 146 630 78T453 1Q446 0 242 0Q42 0 39 2Q35 5 35 10Q35 17 37 24Q42 43 47 45Q51 46 62 46H68Q95 46 128 49Q142 52 147 61Q150 65 219 339T288 628Q288 635 231 637ZM649 544Q649 574 634 600T585 634Q578 636 493 637Q473 637 451 637T416 636H403Q388 635 384 626Q382 622 352 506Q352 503 351 500L320 374H401Q482 374 494 376Q554 386 601 434T649 544ZM595 229Q595 273 572 302T512 336Q506 337 429 337Q311 337 310 336Q310 334 293 263T258 122L240 52Q240 48 252 48T333 46Q422 46 429 47Q491 54 543 105T595 229Z\"/><g transform=\"translate(759,-150)\"><path stroke-width=\"1\" transform=\"scale(0.707)\" d=\"M213 578L200 573Q186 568 160 563T102 556H83V602H102Q149 604 189 617T245 641T273 663Q275 666 285 666Q294 666 302 660V361L303 61Q310 54 315 52T339 48T401 46H427V0H416Q395 3 257 3Q121 3 100 0H88V46H114Q136 46 152 46T177 47T193 50T201 52T207 57T213 61V578Z\"/></g><g transform=\"translate(1213,0)\"><path stroke-width=\"1\" d=\"M78 35T78 60T94 103T137 121Q165 121 187 96T210 8Q210 -27 201 -60T180 -117T154 -158T130 -185T117 -194Q113 -194 104 -185T95 -172Q95 -168 106 -156T131 -126T157 -76T173 -3V9L172 8Q170 7 167 6T161 3T152 1T140 0Q113 0 96 17Z\"/></g><g transform=\"translate(1658,0)\"><path stroke-width=\"1\" d=\"M50 252Q50 367 117 473T286 641T490 704Q580 704 633 653Q642 643 648 636T656 626L657 623Q660 623 684 649Q691 655 699 663T715 679T725 690L740 705H746Q760 705 760 698Q760 694 728 561Q692 422 692 421Q690 416 687 415T669 413H653Q647 419 647 422Q647 423 648 429T650 449T651 481Q651 552 619 605T510 659Q492 659 471 656T418 643T357 615T294 567T236 496T189 394T158 260Q156 242 156 221Q156 173 170 136T206 79T256 45T308 28T353 24Q407 24 452 47T514 106Q517 114 529 161T541 214Q541 222 528 224T468 227H431Q425 233 425 235T427 254Q431 267 437 273H454Q494 271 594 271Q634 271 659 271T695 272T707 272Q721 272 721 263Q721 261 719 249Q714 230 709 228Q706 227 694 227Q674 227 653 224Q646 221 643 215T629 164Q620 131 614 108Q589 6 586 3Q584 1 581 1Q571 1 553 21T530 52Q530 53 528 52T522 47Q448 -22 322 -22Q201 -22 126 55T50 252Z\"/><g transform=\"translate(786,-150)\"><path stroke-width=\"1\" transform=\"scale(0.707)\" d=\"M213 578L200 573Q186 568 160 563T102 556H83V602H102Q149 604 189 617T245 641T273 663Q275 666 285 666Q294 666 302 660V361L303 61Q310 54 315 52T339 48T401 46H427V0H416Q395 3 257 3Q121 3 100 0H88V46H114Q136 46 152 46T177 47T193 50T201 52T207 57T213 61V578Z\"/></g></g><g transform=\"translate(2898,0)\"><path stroke-width=\"1\" d=\"M78 35T78 60T94 103T137 121Q165 121 187 96T210 8Q210 -27 201 -60T180 -117T154 -158T130 -185T117 -194Q113 -194 104 -185T95 -172Q95 -168 106 -156T131 -126T157 -76T173 -3V9L172 8Q170 7 167 6T161 3T152 1T140 0Q113 0 96 17Z\"/></g><g transform=\"translate(3344,0)\"><path stroke-width=\"1\" d=\"M308 24Q367 24 416 76T466 197Q466 260 414 284Q308 311 278 321T236 341Q176 383 176 462Q176 523 208 573T273 648Q302 673 343 688T407 704H418H425Q521 704 564 640Q565 640 577 653T603 682T623 704Q624 704 627 704T632 705Q645 705 645 698T617 577T585 459T569 456Q549 456 549 465Q549 471 550 475Q550 478 551 494T553 520Q553 554 544 579T526 616T501 641Q465 662 419 662Q362 662 313 616T263 510Q263 480 278 458T319 427Q323 425 389 408T456 390Q490 379 522 342T554 242Q554 216 546 186Q541 164 528 137T492 78T426 18T332 -20Q320 -22 298 -22Q199 -22 144 33L134 44L106 13Q83 -14 78 -18T65 -22Q52 -22 52 -14Q52 -11 110 221Q112 227 130 227H143Q149 221 149 216Q149 214 148 207T144 186T142 153Q144 114 160 87T203 47T255 29T308 24Z\"/><g transform=\"translate(613,-150)\"><path stroke-width=\"1\" transform=\"scale(0.707)\" d=\"M213 578L200 573Q186 568 160 563T102 556H83V602H102Q149 604 189 617T245 641T273 663Q275 666 285 666Q294 666 302 660V361L303 61Q310 54 315 52T339 48T401 46H427V0H416Q395 3 257 3Q121 3 100 0H88V46H114Q136 46 152 46T177 47T193 50T201 52T207 57T213 61V578Z\"/></g></g></g></svg><span class=\"MJX_Assistive_MathML MJX_Assistive_MathML_Block\" role=\"presentation\"/></span></div><script type=\"math/tex; mode=display\" id=\"MathJax-Element-7\">B_1, G_1,S_1 </script></div></div></div></foreignObject><text x=\"37\" y=\"185\" fill=\"rgb(0, 0, 0)\" font-family=\"Helvetica\" font-size=\"14px\" text-anchor=\"middle\">B_1, G_1...</text></switch></g><rect x=\"441\" y=\"165\" width=\"60\" height=\"30\" fill=\"none\" stroke=\"none\" pointer-events=\"all\"/><g transform=\"translate(-0.5 -0.5)\"><switch><foreignObject pointer-events=\"none\" width=\"100%\" height=\"100%\" requiredFeatures=\"http://www.w3.org/TR/SVG11/feature#Extensibility\" style=\"overflow: visible; text-align: left;\"><div xmlns=\"http://www.w3.org/1999/xhtml\" style=\"display: flex; align-items: unsafe center; justify-content: unsafe center; width: 58px; height: 1px; padding-top: 180px; margin-left: 442px;\"><div data-drawio-colors=\"color: rgb(0, 0, 0); \" style=\"box-sizing: border-box; font-size: 0px; text-align: center;\"><div style=\"display: inline-block; font-size: 14px; font-family: Helvetica; color: rgb(0, 0, 0); line-height: 1.2; pointer-events: all; white-space: normal; overflow-wrap: normal;\"><span class=\"MathJax_Preview\" style=\"color: inherit;\"/><div class=\"MathJax_SVG_Display\" style=\"text-align: center;\"><span class=\"MathJax_SVG\" id=\"MathJax-Element-8-Frame\" tabindex=\"0\" data-mathml=\"&lt;math xmlns=&quot;http://www.w3.org/1998/Math/MathML&quot; display=&quot;block&quot;&gt;&lt;msub&gt;&lt;mi&gt;B&lt;/mi&gt;&lt;mn&gt;2&lt;/mn&gt;&lt;/msub&gt;&lt;mo&gt;,&lt;/mo&gt;&lt;msub&gt;&lt;mi&gt;G&lt;/mi&gt;&lt;mn&gt;6&lt;/mn&gt;&lt;/msub&gt;&lt;mo&gt;,&lt;/mo&gt;&lt;msub&gt;&lt;mi&gt;S&lt;/mi&gt;&lt;mn&gt;3&lt;/mn&gt;&lt;/msub&gt;&lt;/math&gt;\" role=\"presentation\" style=\"font-size: 100%; display: inline-block; position: relative;\"><svg xmlns=\"http://www.w3.org/2000/svg\" xmlns:xlink=\"http://www.w3.org/1999/xlink\" width=\"10.246ex\" height=\"2.486ex\" viewBox=\"0 -772.3 4411.6 1070.5\" role=\"img\" focusable=\"false\" style=\"vertical-align: -0.693ex;\" aria-hidden=\"true\"><g stroke=\"currentColor\" fill=\"currentColor\" stroke-width=\"0\" transform=\"matrix(1 0 0 -1 0 0)\"><path stroke-width=\"1\" d=\"M231 637Q204 637 199 638T194 649Q194 676 205 682Q206 683 335 683Q594 683 608 681Q671 671 713 636T756 544Q756 480 698 429T565 360L555 357Q619 348 660 311T702 219Q702 146 630 78T453 1Q446 0 242 0Q42 0 39 2Q35 5 35 10Q35 17 37 24Q42 43 47 45Q51 46 62 46H68Q95 46 128 49Q142 52 147 61Q150 65 219 339T288 628Q288 635 231 637ZM649 544Q649 574 634 600T585 634Q578 636 493 637Q473 637 451 637T416 636H403Q388 635 384 626Q382 622 352 506Q352 503 351 500L320 374H401Q482 374 494 376Q554 386 601 434T649 544ZM595 229Q595 273 572 302T512 336Q506 337 429 337Q311 337 310 336Q310 334 293 263T258 122L240 52Q240 48 252 48T333 46Q422 46 429 47Q491 54 543 105T595 229Z\"/><g transform=\"translate(759,-150)\"><path stroke-width=\"1\" transform=\"scale(0.707)\" d=\"M109 429Q82 429 66 447T50 491Q50 562 103 614T235 666Q326 666 387 610T449 465Q449 422 429 383T381 315T301 241Q265 210 201 149L142 93L218 92Q375 92 385 97Q392 99 409 186V189H449V186Q448 183 436 95T421 3V0H50V19V31Q50 38 56 46T86 81Q115 113 136 137Q145 147 170 174T204 211T233 244T261 278T284 308T305 340T320 369T333 401T340 431T343 464Q343 527 309 573T212 619Q179 619 154 602T119 569T109 550Q109 549 114 549Q132 549 151 535T170 489Q170 464 154 447T109 429Z\"/></g><g transform=\"translate(1213,0)\"><path stroke-width=\"1\" d=\"M78 35T78 60T94 103T137 121Q165 121 187 96T210 8Q210 -27 201 -60T180 -117T154 -158T130 -185T117 -194Q113 -194 104 -185T95 -172Q95 -168 106 -156T131 -126T157 -76T173 -3V9L172 8Q170 7 167 6T161 3T152 1T140 0Q113 0 96 17Z\"/></g><g transform=\"translate(1658,0)\"><path stroke-width=\"1\" d=\"M50 252Q50 367 117 473T286 641T490 704Q580 704 633 653Q642 643 648 636T656 626L657 623Q660 623 684 649Q691 655 699 663T715 679T725 690L740 705H746Q760 705 760 698Q760 694 728 561Q692 422 692 421Q690 416 687 415T669 413H653Q647 419 647 422Q647 423 648 429T650 449T651 481Q651 552 619 605T510 659Q492 659 471 656T418 643T357 615T294 567T236 496T189 394T158 260Q156 242 156 221Q156 173 170 136T206 79T256 45T308 28T353 24Q407 24 452 47T514 106Q517 114 529 161T541 214Q541 222 528 224T468 227H431Q425 233 425 235T427 254Q431 267 437 273H454Q494 271 594 271Q634 271 659 271T695 272T707 272Q721 272 721 263Q721 261 719 249Q714 230 709 228Q706 227 694 227Q674 227 653 224Q646 221 643 215T629 164Q620 131 614 108Q589 6 586 3Q584 1 581 1Q571 1 553 21T530 52Q530 53 528 52T522 47Q448 -22 322 -22Q201 -22 126 55T50 252Z\"/><g transform=\"translate(786,-150)\"><path stroke-width=\"1\" transform=\"scale(0.707)\" d=\"M42 313Q42 476 123 571T303 666Q372 666 402 630T432 550Q432 525 418 510T379 495Q356 495 341 509T326 548Q326 592 373 601Q351 623 311 626Q240 626 194 566Q147 500 147 364L148 360Q153 366 156 373Q197 433 263 433H267Q313 433 348 414Q372 400 396 374T435 317Q456 268 456 210V192Q456 169 451 149Q440 90 387 34T253 -22Q225 -22 199 -14T143 16T92 75T56 172T42 313ZM257 397Q227 397 205 380T171 335T154 278T148 216Q148 133 160 97T198 39Q222 21 251 21Q302 21 329 59Q342 77 347 104T352 209Q352 289 347 316T329 361Q302 397 257 397Z\"/></g></g><g transform=\"translate(2898,0)\"><path stroke-width=\"1\" d=\"M78 35T78 60T94 103T137 121Q165 121 187 96T210 8Q210 -27 201 -60T180 -117T154 -158T130 -185T117 -194Q113 -194 104 -185T95 -172Q95 -168 106 -156T131 -126T157 -76T173 -3V9L172 8Q170 7 167 6T161 3T152 1T140 0Q113 0 96 17Z\"/></g><g transform=\"translate(3344,0)\"><path stroke-width=\"1\" d=\"M308 24Q367 24 416 76T466 197Q466 260 414 284Q308 311 278 321T236 341Q176 383 176 462Q176 523 208 573T273 648Q302 673 343 688T407 704H418H425Q521 704 564 640Q565 640 577 653T603 682T623 704Q624 704 627 704T632 705Q645 705 645 698T617 577T585 459T569 456Q549 456 549 465Q549 471 550 475Q550 478 551 494T553 520Q553 554 544 579T526 616T501 641Q465 662 419 662Q362 662 313 616T263 510Q263 480 278 458T319 427Q323 425 389 408T456 390Q490 379 522 342T554 242Q554 216 546 186Q541 164 528 137T492 78T426 18T332 -20Q320 -22 298 -22Q199 -22 144 33L134 44L106 13Q83 -14 78 -18T65 -22Q52 -22 52 -14Q52 -11 110 221Q112 227 130 227H143Q149 221 149 216Q149 214 148 207T144 186T142 153Q144 114 160 87T203 47T255 29T308 24Z\"/><g transform=\"translate(613,-150)\"><path stroke-width=\"1\" transform=\"scale(0.707)\" d=\"M127 463Q100 463 85 480T69 524Q69 579 117 622T233 665Q268 665 277 664Q351 652 390 611T430 522Q430 470 396 421T302 350L299 348Q299 347 308 345T337 336T375 315Q457 262 457 175Q457 96 395 37T238 -22Q158 -22 100 21T42 130Q42 158 60 175T105 193Q133 193 151 175T169 130Q169 119 166 110T159 94T148 82T136 74T126 70T118 67L114 66Q165 21 238 21Q293 21 321 74Q338 107 338 175V195Q338 290 274 322Q259 328 213 329L171 330L168 332Q166 335 166 348Q166 366 174 366Q202 366 232 371Q266 376 294 413T322 525V533Q322 590 287 612Q265 626 240 626Q208 626 181 615T143 592T132 580H135Q138 579 143 578T153 573T165 566T175 555T183 540T186 520Q186 498 172 481T127 463Z\"/></g></g></g></svg><span class=\"MJX_Assistive_MathML MJX_Assistive_MathML_Block\" role=\"presentation\"/></span></div><script type=\"math/tex; mode=display\" id=\"MathJax-Element-8\">B_2, G_6, S_3 </script></div></div></div></foreignObject><text x=\"471\" y=\"184\" fill=\"rgb(0, 0, 0)\" font-family=\"Helvetica\" font-size=\"14px\" text-anchor=\"middle\">B_2, G_6...</text></switch></g><rect x=\"381\" y=\"234\" width=\"60\" height=\"30\" fill=\"none\" stroke=\"none\" pointer-events=\"all\"/><g transform=\"translate(-0.5 -0.5)\"><switch><foreignObject pointer-events=\"none\" width=\"100%\" height=\"100%\" requiredFeatures=\"http://www.w3.org/TR/SVG11/feature#Extensibility\" style=\"overflow: visible; text-align: left;\"><div xmlns=\"http://www.w3.org/1999/xhtml\" style=\"display: flex; align-items: unsafe center; justify-content: unsafe center; width: 58px; height: 1px; padding-top: 249px; margin-left: 382px;\"><div data-drawio-colors=\"color: rgb(0, 0, 0); \" style=\"box-sizing: border-box; font-size: 0px; text-align: center;\"><div style=\"display: inline-block; font-size: 14px; font-family: Helvetica; color: rgb(0, 0, 0); line-height: 1.2; pointer-events: all; white-space: normal; overflow-wrap: normal;\"><span class=\"MathJax_Preview\" style=\"color: inherit;\"/><div class=\"MathJax_SVG_Display\" style=\"text-align: center;\"><span class=\"MathJax_SVG\" id=\"MathJax-Element-9-Frame\" tabindex=\"0\" data-mathml=\"&lt;math xmlns=&quot;http://www.w3.org/1998/Math/MathML&quot; display=&quot;block&quot;&gt;&lt;msub&gt;&lt;mi&gt;G&lt;/mi&gt;&lt;mn&gt;4&lt;/mn&gt;&lt;/msub&gt;&lt;/math&gt;\" role=\"presentation\" style=\"font-size: 100%; display: inline-block; position: relative;\"><svg xmlns=\"http://www.w3.org/2000/svg\" xmlns:xlink=\"http://www.w3.org/1999/xlink\" width=\"2.881ex\" height=\"2.349ex\" viewBox=\"0 -772.3 1240.4 1011.3\" role=\"img\" focusable=\"false\" style=\"vertical-align: -0.555ex;\" aria-hidden=\"true\"><g stroke=\"currentColor\" fill=\"currentColor\" stroke-width=\"0\" transform=\"matrix(1 0 0 -1 0 0)\"><path stroke-width=\"1\" d=\"M50 252Q50 367 117 473T286 641T490 704Q580 704 633 653Q642 643 648 636T656 626L657 623Q660 623 684 649Q691 655 699 663T715 679T725 690L740 705H746Q760 705 760 698Q760 694 728 561Q692 422 692 421Q690 416 687 415T669 413H653Q647 419 647 422Q647 423 648 429T650 449T651 481Q651 552 619 605T510 659Q492 659 471 656T418 643T357 615T294 567T236 496T189 394T158 260Q156 242 156 221Q156 173 170 136T206 79T256 45T308 28T353 24Q407 24 452 47T514 106Q517 114 529 161T541 214Q541 222 528 224T468 227H431Q425 233 425 235T427 254Q431 267 437 273H454Q494 271 594 271Q634 271 659 271T695 272T707 272Q721 272 721 263Q721 261 719 249Q714 230 709 228Q706 227 694 227Q674 227 653 224Q646 221 643 215T629 164Q620 131 614 108Q589 6 586 3Q584 1 581 1Q571 1 553 21T530 52Q530 53 528 52T522 47Q448 -22 322 -22Q201 -22 126 55T50 252Z\"/><g transform=\"translate(786,-150)\"><path stroke-width=\"1\" transform=\"scale(0.707)\" d=\"M462 0Q444 3 333 3Q217 3 199 0H190V46H221Q241 46 248 46T265 48T279 53T286 61Q287 63 287 115V165H28V211L179 442Q332 674 334 675Q336 677 355 677H373L379 671V211H471V165H379V114Q379 73 379 66T385 54Q393 47 442 46H471V0H462ZM293 211V545L74 212L183 211H293Z\"/></g></g></svg><span class=\"MJX_Assistive_MathML MJX_Assistive_MathML_Block\" role=\"presentation\"/></span></div><script type=\"math/tex; mode=display\" id=\"MathJax-Element-9\">G_4</script></div></div></div></foreignObject><text x=\"411\" y=\"253\" fill=\"rgb(0, 0, 0)\" font-family=\"Helvetica\" font-size=\"14px\" text-anchor=\"middle\">\n",
       "G_4</text></switch></g><path d=\"M 441 156 L 541 156\" fill=\"none\" stroke=\"#000000\" stroke-miterlimit=\"10\" stroke-dasharray=\"3 3\" pointer-events=\"stroke\"/><path d=\"M 65.57 155.95 L 92.76 155.99\" fill=\"none\" stroke=\"#d79b00\" stroke-width=\"2\" stroke-miterlimit=\"10\" pointer-events=\"stroke\"/><path d=\"M 98.76 156 L 90.76 159.99 L 92.76 155.99 L 90.77 151.99 Z\" fill=\"#d79b00\" stroke=\"#d79b00\" stroke-width=\"2\" stroke-miterlimit=\"10\" pointer-events=\"all\"/><path d=\"M 426 156 L 452.76 156\" fill=\"none\" stroke=\"#d79b00\" stroke-width=\"2\" stroke-miterlimit=\"10\" pointer-events=\"stroke\"/><path d=\"M 458.76 156 L 450.76 160 L 452.76 156 L 450.76 152 Z\" fill=\"#d79b00\" stroke=\"#d79b00\" stroke-width=\"2\" stroke-miterlimit=\"10\" pointer-events=\"all\"/><rect x=\"66\" y=\"152\" width=\"60\" height=\"30\" fill=\"none\" stroke=\"none\" pointer-events=\"all\"/><g transform=\"translate(-0.5 -0.5)\"><switch><foreignObject pointer-events=\"none\" width=\"100%\" height=\"100%\" requiredFeatures=\"http://www.w3.org/TR/SVG11/feature#Extensibility\" style=\"overflow: visible; text-align: left;\"><div xmlns=\"http://www.w3.org/1999/xhtml\" style=\"display: flex; align-items: unsafe center; justify-content: unsafe center; width: 58px; height: 1px; padding-top: 167px; margin-left: 67px;\"><div data-drawio-colors=\"color: rgb(0, 0, 0); \" style=\"box-sizing: border-box; font-size: 0px; text-align: center;\"><div style=\"display: inline-block; font-size: 14px; font-family: Helvetica; color: rgb(0, 0, 0); line-height: 1.2; pointer-events: all; white-space: normal; overflow-wrap: normal;\"><font color=\"#d79b00\"><span class=\"MathJax_Preview\" style=\"color: inherit;\"/><div class=\"MathJax_SVG_Display\" style=\"text-align: center;\"><span class=\"MathJax_SVG\" id=\"MathJax-Element-10-Frame\" tabindex=\"0\" data-mathml=\"&lt;math xmlns=&quot;http://www.w3.org/1998/Math/MathML&quot; display=&quot;block&quot;&gt;&lt;msub&gt;&lt;mi&gt;q&lt;/mi&gt;&lt;mn&gt;1&lt;/mn&gt;&lt;/msub&gt;&lt;/math&gt;\" role=\"presentation\" style=\"font-size: 100%; display: inline-block; position: relative;\"><svg xmlns=\"http://www.w3.org/2000/svg\" xmlns:xlink=\"http://www.w3.org/1999/xlink\" width=\"2.091ex\" height=\"1.936ex\" viewBox=\"0 -535.3 900.4 833.5\" role=\"img\" focusable=\"false\" style=\"vertical-align: -0.693ex;\" aria-hidden=\"true\"><g stroke=\"currentColor\" fill=\"currentColor\" stroke-width=\"0\" transform=\"matrix(1 0 0 -1 0 0)\"><path stroke-width=\"1\" d=\"M33 157Q33 258 109 349T280 441Q340 441 372 389Q373 390 377 395T388 406T404 418Q438 442 450 442Q454 442 457 439T460 434Q460 425 391 149Q320 -135 320 -139Q320 -147 365 -148H390Q396 -156 396 -157T393 -175Q389 -188 383 -194H370Q339 -192 262 -192Q234 -192 211 -192T174 -192T157 -193Q143 -193 143 -185Q143 -182 145 -170Q149 -154 152 -151T172 -148Q220 -148 230 -141Q238 -136 258 -53T279 32Q279 33 272 29Q224 -10 172 -10Q117 -10 75 30T33 157ZM352 326Q329 405 277 405Q242 405 210 374T160 293Q131 214 119 129Q119 126 119 118T118 106Q118 61 136 44T179 26Q233 26 290 98L298 109L352 326Z\"/><g transform=\"translate(446,-150)\"><path stroke-width=\"1\" transform=\"scale(0.707)\" d=\"M213 578L200 573Q186 568 160 563T102 556H83V602H102Q149 604 189 617T245 641T273 663Q275 666 285 666Q294 666 302 660V361L303 61Q310 54 315 52T339 48T401 46H427V0H416Q395 3 257 3Q121 3 100 0H88V46H114Q136 46 152 46T177 47T193 50T201 52T207 57T213 61V578Z\"/></g></g></svg><span class=\"MJX_Assistive_MathML MJX_Assistive_MathML_Block\" role=\"presentation\"/></span></div><script type=\"math/tex; mode=display\" id=\"MathJax-Element-10\">q_1</script></font></div></div></div></foreignObject><text x=\"96\" y=\"171\" fill=\"rgb(0, 0, 0)\" font-family=\"Helvetica\" font-size=\"14px\" text-anchor=\"middle\">\n",
       "q_1</text></switch></g><rect x=\"423\" y=\"125\" width=\"60\" height=\"30\" fill=\"none\" stroke=\"none\" pointer-events=\"all\"/><g transform=\"translate(-0.5 -0.5)\"><switch><foreignObject pointer-events=\"none\" width=\"100%\" height=\"100%\" requiredFeatures=\"http://www.w3.org/TR/SVG11/feature#Extensibility\" style=\"overflow: visible; text-align: left;\"><div xmlns=\"http://www.w3.org/1999/xhtml\" style=\"display: flex; align-items: unsafe center; justify-content: unsafe center; width: 58px; height: 1px; padding-top: 140px; margin-left: 424px;\"><div data-drawio-colors=\"color: rgb(0, 0, 0); \" style=\"box-sizing: border-box; font-size: 0px; text-align: center;\"><div style=\"display: inline-block; font-size: 14px; font-family: Helvetica; color: rgb(0, 0, 0); line-height: 1.2; pointer-events: all; white-space: normal; overflow-wrap: normal;\"><font color=\"#d79b00\"><span class=\"MathJax_Preview\" style=\"color: inherit;\"/><div class=\"MathJax_SVG_Display\" style=\"text-align: center;\"><span class=\"MathJax_SVG\" id=\"MathJax-Element-11-Frame\" tabindex=\"0\" data-mathml=\"&lt;math xmlns=&quot;http://www.w3.org/1998/Math/MathML&quot; display=&quot;block&quot;&gt;&lt;msub&gt;&lt;mi&gt;q&lt;/mi&gt;&lt;mn&gt;2&lt;/mn&gt;&lt;/msub&gt;&lt;/math&gt;\" role=\"presentation\" style=\"font-size: 100%; display: inline-block; position: relative;\"><svg xmlns=\"http://www.w3.org/2000/svg\" xmlns:xlink=\"http://www.w3.org/1999/xlink\" width=\"2.091ex\" height=\"1.936ex\" viewBox=\"0 -535.3 900.4 833.5\" role=\"img\" focusable=\"false\" style=\"vertical-align: -0.693ex;\" aria-hidden=\"true\"><g stroke=\"currentColor\" fill=\"currentColor\" stroke-width=\"0\" transform=\"matrix(1 0 0 -1 0 0)\"><path stroke-width=\"1\" d=\"M33 157Q33 258 109 349T280 441Q340 441 372 389Q373 390 377 395T388 406T404 418Q438 442 450 442Q454 442 457 439T460 434Q460 425 391 149Q320 -135 320 -139Q320 -147 365 -148H390Q396 -156 396 -157T393 -175Q389 -188 383 -194H370Q339 -192 262 -192Q234 -192 211 -192T174 -192T157 -193Q143 -193 143 -185Q143 -182 145 -170Q149 -154 152 -151T172 -148Q220 -148 230 -141Q238 -136 258 -53T279 32Q279 33 272 29Q224 -10 172 -10Q117 -10 75 30T33 157ZM352 326Q329 405 277 405Q242 405 210 374T160 293Q131 214 119 129Q119 126 119 118T118 106Q118 61 136 44T179 26Q233 26 290 98L298 109L352 326Z\"/><g transform=\"translate(446,-150)\"><path stroke-width=\"1\" transform=\"scale(0.707)\" d=\"M109 429Q82 429 66 447T50 491Q50 562 103 614T235 666Q326 666 387 610T449 465Q449 422 429 383T381 315T301 241Q265 210 201 149L142 93L218 92Q375 92 385 97Q392 99 409 186V189H449V186Q448 183 436 95T421 3V0H50V19V31Q50 38 56 46T86 81Q115 113 136 137Q145 147 170 174T204 211T233 244T261 278T284 308T305 340T320 369T333 401T340 431T343 464Q343 527 309 573T212 619Q179 619 154 602T119 569T109 550Q109 549 114 549Q132 549 151 535T170 489Q170 464 154 447T109 429Z\"/></g></g></svg><span class=\"MJX_Assistive_MathML MJX_Assistive_MathML_Block\" role=\"presentation\"/></span></div><script type=\"math/tex; mode=display\" id=\"MathJax-Element-11\">q_2</script></font></div></div></div></foreignObject><text x=\"453\" y=\"144\" fill=\"rgb(0, 0, 0)\" font-family=\"Helvetica\" font-size=\"14px\" text-anchor=\"middle\">\n",
       "q_2</text></switch></g><rect x=\"51\" y=\"121\" width=\"60\" height=\"30\" fill=\"none\" stroke=\"none\" pointer-events=\"all\"/><g transform=\"translate(-0.5 -0.5)\"><switch><foreignObject pointer-events=\"none\" width=\"100%\" height=\"100%\" requiredFeatures=\"http://www.w3.org/TR/SVG11/feature#Extensibility\" style=\"overflow: visible; text-align: left;\"><div xmlns=\"http://www.w3.org/1999/xhtml\" style=\"display: flex; align-items: unsafe center; justify-content: unsafe center; width: 58px; height: 1px; padding-top: 136px; margin-left: 52px;\"><div data-drawio-colors=\"color: rgb(0, 0, 0); \" style=\"box-sizing: border-box; font-size: 0px; text-align: center;\"><div style=\"display: inline-block; font-size: 14px; font-family: Helvetica; color: rgb(0, 0, 0); line-height: 1.2; pointer-events: all; white-space: normal; overflow-wrap: normal;\"><span class=\"MathJax_Preview\" style=\"color: inherit;\"/><div class=\"MathJax_SVG_Display\" style=\"text-align: center;\"><span class=\"MathJax_SVG\" id=\"MathJax-Element-12-Frame\" tabindex=\"0\" data-mathml=\"&lt;math xmlns=&quot;http://www.w3.org/1998/Math/MathML&quot; display=&quot;block&quot;&gt;&lt;msub&gt;&lt;mi&gt;m&lt;/mi&gt;&lt;mn&gt;1&lt;/mn&gt;&lt;/msub&gt;&lt;/math&gt;\" role=\"presentation\" style=\"font-size: 100%; display: inline-block; position: relative;\"><svg xmlns=\"http://www.w3.org/2000/svg\" xmlns:xlink=\"http://www.w3.org/1999/xlink\" width=\"3.095ex\" height=\"1.798ex\" viewBox=\"0 -535.3 1332.4 774.3\" role=\"img\" focusable=\"false\" style=\"vertical-align: -0.555ex;\" aria-hidden=\"true\"><g stroke=\"currentColor\" fill=\"currentColor\" stroke-width=\"0\" transform=\"matrix(1 0 0 -1 0 0)\"><path stroke-width=\"1\" d=\"M21 287Q22 293 24 303T36 341T56 388T88 425T132 442T175 435T205 417T221 395T229 376L231 369Q231 367 232 367L243 378Q303 442 384 442Q401 442 415 440T441 433T460 423T475 411T485 398T493 385T497 373T500 364T502 357L510 367Q573 442 659 442Q713 442 746 415T780 336Q780 285 742 178T704 50Q705 36 709 31T724 26Q752 26 776 56T815 138Q818 149 821 151T837 153Q857 153 857 145Q857 144 853 130Q845 101 831 73T785 17T716 -10Q669 -10 648 17T627 73Q627 92 663 193T700 345Q700 404 656 404H651Q565 404 506 303L499 291L466 157Q433 26 428 16Q415 -11 385 -11Q372 -11 364 -4T353 8T350 18Q350 29 384 161L420 307Q423 322 423 345Q423 404 379 404H374Q288 404 229 303L222 291L189 157Q156 26 151 16Q138 -11 108 -11Q95 -11 87 -5T76 7T74 17Q74 30 112 181Q151 335 151 342Q154 357 154 369Q154 405 129 405Q107 405 92 377T69 316T57 280Q55 278 41 278H27Q21 284 21 287Z\"/><g transform=\"translate(878,-150)\"><path stroke-width=\"1\" transform=\"scale(0.707)\" d=\"M213 578L200 573Q186 568 160 563T102 556H83V602H102Q149 604 189 617T245 641T273 663Q275 666 285 666Q294 666 302 660V361L303 61Q310 54 315 52T339 48T401 46H427V0H416Q395 3 257 3Q121 3 100 0H88V46H114Q136 46 152 46T177 47T193 50T201 52T207 57T213 61V578Z\"/></g></g></svg><span class=\"MJX_Assistive_MathML MJX_Assistive_MathML_Block\" role=\"presentation\"/></span></div><script type=\"math/tex; mode=display\" id=\"MathJax-Element-12\">m_1</script></div></div></div></foreignObject><text x=\"81\" y=\"140\" fill=\"rgb(0, 0, 0)\" font-family=\"Helvetica\" font-size=\"14px\" text-anchor=\"middle\">\n",
       "m_1</text></switch></g><rect x=\"404\" y=\"116\" width=\"60\" height=\"30\" fill=\"none\" stroke=\"none\" pointer-events=\"all\"/><g transform=\"translate(-0.5 -0.5)\"><switch><foreignObject pointer-events=\"none\" width=\"100%\" height=\"100%\" requiredFeatures=\"http://www.w3.org/TR/SVG11/feature#Extensibility\" style=\"overflow: visible; text-align: left;\"><div xmlns=\"http://www.w3.org/1999/xhtml\" style=\"display: flex; align-items: unsafe center; justify-content: unsafe center; width: 58px; height: 1px; padding-top: 131px; margin-left: 405px;\"><div data-drawio-colors=\"color: rgb(0, 0, 0); \" style=\"box-sizing: border-box; font-size: 0px; text-align: center;\"><div style=\"display: inline-block; font-size: 14px; font-family: Helvetica; color: rgb(0, 0, 0); line-height: 1.2; pointer-events: all; white-space: normal; overflow-wrap: normal;\"><span class=\"MathJax_Preview\" style=\"color: inherit;\"/><div class=\"MathJax_SVG_Display\" style=\"text-align: center;\"><span class=\"MathJax_SVG\" id=\"MathJax-Element-13-Frame\" tabindex=\"0\" data-mathml=\"&lt;math xmlns=&quot;http://www.w3.org/1998/Math/MathML&quot; display=&quot;block&quot;&gt;&lt;msub&gt;&lt;mi&gt;m&lt;/mi&gt;&lt;mn&gt;3&lt;/mn&gt;&lt;/msub&gt;&lt;/math&gt;\" role=\"presentation\" style=\"font-size: 100%; display: inline-block; position: relative;\"><svg xmlns=\"http://www.w3.org/2000/svg\" xmlns:xlink=\"http://www.w3.org/1999/xlink\" width=\"3.095ex\" height=\"1.798ex\" viewBox=\"0 -535.3 1332.4 774.3\" role=\"img\" focusable=\"false\" style=\"vertical-align: -0.555ex;\" aria-hidden=\"true\"><g stroke=\"currentColor\" fill=\"currentColor\" stroke-width=\"0\" transform=\"matrix(1 0 0 -1 0 0)\"><path stroke-width=\"1\" d=\"M21 287Q22 293 24 303T36 341T56 388T88 425T132 442T175 435T205 417T221 395T229 376L231 369Q231 367 232 367L243 378Q303 442 384 442Q401 442 415 440T441 433T460 423T475 411T485 398T493 385T497 373T500 364T502 357L510 367Q573 442 659 442Q713 442 746 415T780 336Q780 285 742 178T704 50Q705 36 709 31T724 26Q752 26 776 56T815 138Q818 149 821 151T837 153Q857 153 857 145Q857 144 853 130Q845 101 831 73T785 17T716 -10Q669 -10 648 17T627 73Q627 92 663 193T700 345Q700 404 656 404H651Q565 404 506 303L499 291L466 157Q433 26 428 16Q415 -11 385 -11Q372 -11 364 -4T353 8T350 18Q350 29 384 161L420 307Q423 322 423 345Q423 404 379 404H374Q288 404 229 303L222 291L189 157Q156 26 151 16Q138 -11 108 -11Q95 -11 87 -5T76 7T74 17Q74 30 112 181Q151 335 151 342Q154 357 154 369Q154 405 129 405Q107 405 92 377T69 316T57 280Q55 278 41 278H27Q21 284 21 287Z\"/><g transform=\"translate(878,-150)\"><path stroke-width=\"1\" transform=\"scale(0.707)\" d=\"M127 463Q100 463 85 480T69 524Q69 579 117 622T233 665Q268 665 277 664Q351 652 390 611T430 522Q430 470 396 421T302 350L299 348Q299 347 308 345T337 336T375 315Q457 262 457 175Q457 96 395 37T238 -22Q158 -22 100 21T42 130Q42 158 60 175T105 193Q133 193 151 175T169 130Q169 119 166 110T159 94T148 82T136 74T126 70T118 67L114 66Q165 21 238 21Q293 21 321 74Q338 107 338 175V195Q338 290 274 322Q259 328 213 329L171 330L168 332Q166 335 166 348Q166 366 174 366Q202 366 232 371Q266 376 294 413T322 525V533Q322 590 287 612Q265 626 240 626Q208 626 181 615T143 592T132 580H135Q138 579 143 578T153 573T165 566T175 555T183 540T186 520Q186 498 172 481T127 463Z\"/></g></g></svg><span class=\"MJX_Assistive_MathML MJX_Assistive_MathML_Block\" role=\"presentation\"/></span></div><script type=\"math/tex; mode=display\" id=\"MathJax-Element-13\">m_3</script></div></div></div></foreignObject><text x=\"434\" y=\"135\" fill=\"rgb(0, 0, 0)\" font-family=\"Helvetica\" font-size=\"14px\" text-anchor=\"middle\">\n",
       "m_3</text></switch></g><path d=\"M 67.37 36 L 414.63 36\" fill=\"none\" stroke=\"rgb(0, 0, 0)\" stroke-miterlimit=\"10\" pointer-events=\"stroke\"/><path d=\"M 62.12 36 L 69.12 32.5 L 67.37 36 L 69.12 39.5 Z\" fill=\"rgb(0, 0, 0)\" stroke=\"rgb(0, 0, 0)\" stroke-miterlimit=\"10\" pointer-events=\"all\"/><path d=\"M 419.88 36 L 412.88 39.5 L 414.63 36 L 412.88 32.5 Z\" fill=\"rgb(0, 0, 0)\" stroke=\"rgb(0, 0, 0)\" stroke-miterlimit=\"10\" pointer-events=\"all\"/><path d=\"M 421 146 L 420.76 36\" fill=\"none\" stroke=\"rgb(0, 0, 0)\" stroke-miterlimit=\"10\" stroke-dasharray=\"3 3\" pointer-events=\"stroke\"/><path d=\"M 61 75 L 60.86 35\" fill=\"none\" stroke=\"rgb(0, 0, 0)\" stroke-miterlimit=\"10\" stroke-dasharray=\"3 3\" pointer-events=\"stroke\"/><rect x=\"231\" y=\"7\" width=\"60\" height=\"30\" fill=\"none\" stroke=\"none\" pointer-events=\"all\"/><g transform=\"translate(-0.5 -0.5)\"><switch><foreignObject pointer-events=\"none\" width=\"100%\" height=\"100%\" requiredFeatures=\"http://www.w3.org/TR/SVG11/feature#Extensibility\" style=\"overflow: visible; text-align: left;\"><div xmlns=\"http://www.w3.org/1999/xhtml\" style=\"display: flex; align-items: unsafe center; justify-content: unsafe center; width: 58px; height: 1px; padding-top: 22px; margin-left: 232px;\"><div data-drawio-colors=\"color: rgb(0, 0, 0); \" style=\"box-sizing: border-box; font-size: 0px; text-align: center;\"><div style=\"display: inline-block; font-size: 14px; font-family: Helvetica; color: rgb(0, 0, 0); line-height: 1.2; pointer-events: all; white-space: normal; overflow-wrap: normal;\"><span class=\"MathJax_Preview\" style=\"color: inherit;\"/><div class=\"MathJax_SVG_Display\" style=\"text-align: center;\"><span class=\"MathJax_SVG\" id=\"MathJax-Element-14-Frame\" tabindex=\"0\" data-mathml=\"&lt;math xmlns=&quot;http://www.w3.org/1998/Math/MathML&quot; display=&quot;block&quot;&gt;&lt;msub&gt;&lt;mi&gt;l&lt;/mi&gt;&lt;mn&gt;0&lt;/mn&gt;&lt;/msub&gt;&lt;/math&gt;\" role=\"presentation\" style=\"font-size: 100%; display: inline-block; position: relative;\"><svg xmlns=\"http://www.w3.org/2000/svg\" xmlns:xlink=\"http://www.w3.org/1999/xlink\" width=\"1.748ex\" height=\"2.349ex\" viewBox=\"0 -772.3 752.4 1011.3\" role=\"img\" focusable=\"false\" style=\"vertical-align: -0.555ex;\" aria-hidden=\"true\"><g stroke=\"currentColor\" fill=\"currentColor\" stroke-width=\"0\" transform=\"matrix(1 0 0 -1 0 0)\"><path stroke-width=\"1\" d=\"M117 59Q117 26 142 26Q179 26 205 131Q211 151 215 152Q217 153 225 153H229Q238 153 241 153T246 151T248 144Q247 138 245 128T234 90T214 43T183 6T137 -11Q101 -11 70 11T38 85Q38 97 39 102L104 360Q167 615 167 623Q167 626 166 628T162 632T157 634T149 635T141 636T132 637T122 637Q112 637 109 637T101 638T95 641T94 647Q94 649 96 661Q101 680 107 682T179 688Q194 689 213 690T243 693T254 694Q266 694 266 686Q266 675 193 386T118 83Q118 81 118 75T117 65V59Z\"/><g transform=\"translate(298,-150)\"><path stroke-width=\"1\" transform=\"scale(0.707)\" d=\"M96 585Q152 666 249 666Q297 666 345 640T423 548Q460 465 460 320Q460 165 417 83Q397 41 362 16T301 -15T250 -22Q224 -22 198 -16T137 16T82 83Q39 165 39 320Q39 494 96 585ZM321 597Q291 629 250 629Q208 629 178 597Q153 571 145 525T137 333Q137 175 145 125T181 46Q209 16 250 16Q290 16 318 46Q347 76 354 130T362 333Q362 478 354 524T321 597Z\"/></g></g></svg><span class=\"MJX_Assistive_MathML MJX_Assistive_MathML_Block\" role=\"presentation\"/></span></div><script type=\"math/tex; mode=display\" id=\"MathJax-Element-14\">l_0</script></div></div></div></foreignObject><text x=\"261\" y=\"26\" fill=\"rgb(0, 0, 0)\" font-family=\"Helvetica\" font-size=\"14px\" text-anchor=\"middle\">\n",
       "l_0</text></switch></g><rect x=\"96\" y=\"205\" width=\"70\" height=\"20\" fill=\"none\" stroke=\"none\" pointer-events=\"all\"/><g transform=\"translate(-0.5 -0.5)\"><switch><foreignObject pointer-events=\"none\" width=\"100%\" height=\"100%\" requiredFeatures=\"http://www.w3.org/TR/SVG11/feature#Extensibility\" style=\"overflow: visible; text-align: left;\"><div xmlns=\"http://www.w3.org/1999/xhtml\" style=\"display: flex; align-items: unsafe center; justify-content: unsafe center; width: 1px; height: 1px; padding-top: 215px; margin-left: 131px;\"><div data-drawio-colors=\"color: rgb(0, 0, 0); \" style=\"box-sizing: border-box; font-size: 0px; text-align: center;\"><div style=\"display: inline-block; font-size: 12px; font-family: Helvetica; color: rgb(0, 0, 0); line-height: 1.2; pointer-events: all; white-space: nowrap;\"><span style=\"font-size: 14px\"><span class=\"MathJax_Preview\" style=\"color: inherit;\"/><div class=\"MathJax_SVG_Display\" style=\"text-align: center;\"><span class=\"MathJax_SVG\" id=\"MathJax-Element-15-Frame\" tabindex=\"0\" data-mathml=\"&lt;math xmlns=&quot;http://www.w3.org/1998/Math/MathML&quot; display=&quot;block&quot;&gt;&lt;msub&gt;&lt;mi&gt;l&lt;/mi&gt;&lt;mn&gt;1&lt;/mn&gt;&lt;/msub&gt;&lt;/math&gt;\" role=\"presentation\" style=\"font-size: 100%; display: inline-block; position: relative;\"><svg xmlns=\"http://www.w3.org/2000/svg\" xmlns:xlink=\"http://www.w3.org/1999/xlink\" width=\"1.748ex\" height=\"2.349ex\" viewBox=\"0 -772.3 752.4 1011.3\" role=\"img\" focusable=\"false\" style=\"vertical-align: -0.555ex;\" aria-hidden=\"true\"><g stroke=\"currentColor\" fill=\"currentColor\" stroke-width=\"0\" transform=\"matrix(1 0 0 -1 0 0)\"><path stroke-width=\"1\" d=\"M117 59Q117 26 142 26Q179 26 205 131Q211 151 215 152Q217 153 225 153H229Q238 153 241 153T246 151T248 144Q247 138 245 128T234 90T214 43T183 6T137 -11Q101 -11 70 11T38 85Q38 97 39 102L104 360Q167 615 167 623Q167 626 166 628T162 632T157 634T149 635T141 636T132 637T122 637Q112 637 109 637T101 638T95 641T94 647Q94 649 96 661Q101 680 107 682T179 688Q194 689 213 690T243 693T254 694Q266 694 266 686Q266 675 193 386T118 83Q118 81 118 75T117 65V59Z\"/><g transform=\"translate(298,-150)\"><path stroke-width=\"1\" transform=\"scale(0.707)\" d=\"M213 578L200 573Q186 568 160 563T102 556H83V602H102Q149 604 189 617T245 641T273 663Q275 666 285 666Q294 666 302 660V361L303 61Q310 54 315 52T339 48T401 46H427V0H416Q395 3 257 3Q121 3 100 0H88V46H114Q136 46 152 46T177 47T193 50T201 52T207 57T213 61V578Z\"/></g></g></svg><span class=\"MJX_Assistive_MathML MJX_Assistive_MathML_Block\" role=\"presentation\"/></span></div><script type=\"math/tex; mode=display\" id=\"MathJax-Element-15\">l_1 </script></span></div></div></div></foreignObject><text x=\"131\" y=\"219\" fill=\"rgb(0, 0, 0)\" font-family=\"Helvetica\" font-size=\"12px\" text-anchor=\"middle\">\n",
       "l_1 </text></switch></g><rect x=\"353\" y=\"185\" width=\"70\" height=\"20\" fill=\"none\" stroke=\"none\" pointer-events=\"all\"/><g transform=\"translate(-0.5 -0.5)\"><switch><foreignObject pointer-events=\"none\" width=\"100%\" height=\"100%\" requiredFeatures=\"http://www.w3.org/TR/SVG11/feature#Extensibility\" style=\"overflow: visible; text-align: left;\"><div xmlns=\"http://www.w3.org/1999/xhtml\" style=\"display: flex; align-items: unsafe center; justify-content: unsafe center; width: 1px; height: 1px; padding-top: 195px; margin-left: 388px;\"><div data-drawio-colors=\"color: rgb(0, 0, 0); \" style=\"box-sizing: border-box; font-size: 0px; text-align: center;\"><div style=\"display: inline-block; font-size: 12px; font-family: Helvetica; color: rgb(0, 0, 0); line-height: 1.2; pointer-events: all; white-space: nowrap;\"><span style=\"font-size: 14px\"><span class=\"MathJax_Preview\" style=\"color: inherit;\"/><div class=\"MathJax_SVG_Display\" style=\"text-align: center;\"><span class=\"MathJax_SVG\" id=\"MathJax-Element-20-Frame\" tabindex=\"0\" data-mathml=\"&lt;math xmlns=&quot;http://www.w3.org/1998/Math/MathML&quot; display=&quot;block&quot;&gt;&lt;msub&gt;&lt;mi&gt;l&lt;/mi&gt;&lt;mn&gt;2&lt;/mn&gt;&lt;/msub&gt;&lt;/math&gt;\" role=\"presentation\" style=\"font-size: 100%; display: inline-block; position: relative;\"><svg xmlns=\"http://www.w3.org/2000/svg\" xmlns:xlink=\"http://www.w3.org/1999/xlink\" width=\"1.748ex\" height=\"2.349ex\" viewBox=\"0 -772.3 752.4 1011.3\" role=\"img\" focusable=\"false\" style=\"vertical-align: -0.555ex;\" aria-hidden=\"true\"><g stroke=\"currentColor\" fill=\"currentColor\" stroke-width=\"0\" transform=\"matrix(1 0 0 -1 0 0)\"><path stroke-width=\"1\" d=\"M117 59Q117 26 142 26Q179 26 205 131Q211 151 215 152Q217 153 225 153H229Q238 153 241 153T246 151T248 144Q247 138 245 128T234 90T214 43T183 6T137 -11Q101 -11 70 11T38 85Q38 97 39 102L104 360Q167 615 167 623Q167 626 166 628T162 632T157 634T149 635T141 636T132 637T122 637Q112 637 109 637T101 638T95 641T94 647Q94 649 96 661Q101 680 107 682T179 688Q194 689 213 690T243 693T254 694Q266 694 266 686Q266 675 193 386T118 83Q118 81 118 75T117 65V59Z\"/><g transform=\"translate(298,-150)\"><path stroke-width=\"1\" transform=\"scale(0.707)\" d=\"M109 429Q82 429 66 447T50 491Q50 562 103 614T235 666Q326 666 387 610T449 465Q449 422 429 383T381 315T301 241Q265 210 201 149L142 93L218 92Q375 92 385 97Q392 99 409 186V189H449V186Q448 183 436 95T421 3V0H50V19V31Q50 38 56 46T86 81Q115 113 136 137Q145 147 170 174T204 211T233 244T261 278T284 308T305 340T320 369T333 401T340 431T343 464Q343 527 309 573T212 619Q179 619 154 602T119 569T109 550Q109 549 114 549Q132 549 151 535T170 489Q170 464 154 447T109 429Z\"/></g></g></svg><span class=\"MJX_Assistive_MathML MJX_Assistive_MathML_Block\" role=\"presentation\"/></span></div><script type=\"math/tex; mode=display\" id=\"MathJax-Element-20\">l_2</script></span></div></div></div></foreignObject><text x=\"388\" y=\"199\" fill=\"rgb(0, 0, 0)\" font-family=\"Helvetica\" font-size=\"12px\" text-anchor=\"middle\">\n",
       "l_2</text></switch></g><path d=\"M 327 308 L 188 308\" fill=\"none\" stroke=\"rgb(0, 0, 0)\" stroke-miterlimit=\"10\" stroke-dasharray=\"3 3\" pointer-events=\"stroke\"/><rect x=\"256\" y=\"278\" width=\"60\" height=\"30\" fill=\"none\" stroke=\"none\" pointer-events=\"all\"/><g transform=\"translate(-0.5 -0.5)\"><switch><foreignObject pointer-events=\"none\" width=\"100%\" height=\"100%\" requiredFeatures=\"http://www.w3.org/TR/SVG11/feature#Extensibility\" style=\"overflow: visible; text-align: left;\"><div xmlns=\"http://www.w3.org/1999/xhtml\" style=\"display: flex; align-items: unsafe center; justify-content: unsafe center; width: 58px; height: 1px; padding-top: 293px; margin-left: 257px;\"><div data-drawio-colors=\"color: rgb(0, 0, 0); \" style=\"box-sizing: border-box; font-size: 0px; text-align: center;\"><div style=\"display: inline-block; font-size: 14px; font-family: Helvetica; color: rgb(0, 0, 0); line-height: 1.2; pointer-events: all; white-space: normal; overflow-wrap: normal;\"><font color=\"#82b366\"><span class=\"MathJax_Preview\" style=\"color: inherit;\"/><div class=\"MathJax_SVG_Display\" style=\"text-align: center;\"><span class=\"MathJax_SVG\" id=\"MathJax-Element-17-Frame\" tabindex=\"0\" data-mathml=\"&lt;math xmlns=&quot;http://www.w3.org/1998/Math/MathML&quot; display=&quot;block&quot;&gt;&lt;msub&gt;&lt;mi&gt;p&lt;/mi&gt;&lt;mn&gt;3&lt;/mn&gt;&lt;/msub&gt;&lt;/math&gt;\" role=\"presentation\" style=\"font-size: 100%; display: inline-block; position: relative;\"><svg xmlns=\"http://www.w3.org/2000/svg\" xmlns:xlink=\"http://www.w3.org/1999/xlink\" width=\"2.313ex\" height=\"1.936ex\" viewBox=\"-38.5 -535.3 995.9 833.5\" role=\"img\" focusable=\"false\" style=\"vertical-align: -0.693ex; margin-left: -0.089ex;\" aria-hidden=\"true\"><g stroke=\"currentColor\" fill=\"currentColor\" stroke-width=\"0\" transform=\"matrix(1 0 0 -1 0 0)\"><path stroke-width=\"1\" d=\"M23 287Q24 290 25 295T30 317T40 348T55 381T75 411T101 433T134 442Q209 442 230 378L240 387Q302 442 358 442Q423 442 460 395T497 281Q497 173 421 82T249 -10Q227 -10 210 -4Q199 1 187 11T168 28L161 36Q160 35 139 -51T118 -138Q118 -144 126 -145T163 -148H188Q194 -155 194 -157T191 -175Q188 -187 185 -190T172 -194Q170 -194 161 -194T127 -193T65 -192Q-5 -192 -24 -194H-32Q-39 -187 -39 -183Q-37 -156 -26 -148H-6Q28 -147 33 -136Q36 -130 94 103T155 350Q156 355 156 364Q156 405 131 405Q109 405 94 377T71 316T59 280Q57 278 43 278H29Q23 284 23 287ZM178 102Q200 26 252 26Q282 26 310 49T356 107Q374 141 392 215T411 325V331Q411 405 350 405Q339 405 328 402T306 393T286 380T269 365T254 350T243 336T235 326L232 322Q232 321 229 308T218 264T204 212Q178 106 178 102Z\"/><g transform=\"translate(503,-150)\"><path stroke-width=\"1\" transform=\"scale(0.707)\" d=\"M127 463Q100 463 85 480T69 524Q69 579 117 622T233 665Q268 665 277 664Q351 652 390 611T430 522Q430 470 396 421T302 350L299 348Q299 347 308 345T337 336T375 315Q457 262 457 175Q457 96 395 37T238 -22Q158 -22 100 21T42 130Q42 158 60 175T105 193Q133 193 151 175T169 130Q169 119 166 110T159 94T148 82T136 74T126 70T118 67L114 66Q165 21 238 21Q293 21 321 74Q338 107 338 175V195Q338 290 274 322Q259 328 213 329L171 330L168 332Q166 335 166 348Q166 366 174 366Q202 366 232 371Q266 376 294 413T322 525V533Q322 590 287 612Q265 626 240 626Q208 626 181 615T143 592T132 580H135Q138 579 143 578T153 573T165 566T175 555T183 540T186 520Q186 498 172 481T127 463Z\"/></g></g></svg><span class=\"MJX_Assistive_MathML MJX_Assistive_MathML_Block\" role=\"presentation\"/></span></div><script type=\"math/tex; mode=display\" id=\"MathJax-Element-17\">p_3</script></font></div></div></div></foreignObject><text x=\"286\" y=\"297\" fill=\"rgb(0, 0, 0)\" font-family=\"Helvetica\" font-size=\"14px\" text-anchor=\"middle\">\n",
       "p_3</text></switch></g><path d=\"M 308.67 285.23 C 311.85 292.04 313.5 299.47 313.5 307\" fill=\"none\" stroke=\"#82b366\" stroke-miterlimit=\"10\" pointer-events=\"all\"/><path d=\"M 309 286 L 305.91 282.03\" fill=\"none\" stroke=\"#82b366\" stroke-miterlimit=\"10\" pointer-events=\"stroke\"/><path d=\"M 302.69 277.88 L 309.75 281.26 L 305.91 282.03 L 304.22 285.56 Z\" fill=\"#82b366\" stroke=\"#82b366\" stroke-miterlimit=\"10\" pointer-events=\"all\"/><path d=\"M 286 156 L 285.84 263.63\" fill=\"none\" stroke=\"#82b366\" stroke-miterlimit=\"10\" pointer-events=\"stroke\"/><path d=\"M 285.83 268.88 L 282.34 261.88 L 285.84 263.63 L 289.34 261.89 Z\" fill=\"#82b366\" stroke=\"#82b366\" stroke-miterlimit=\"10\" pointer-events=\"all\"/><path d=\"M 61 276 L 273.63 275.83\" fill=\"none\" stroke=\"#82b366\" stroke-miterlimit=\"10\" pointer-events=\"stroke\"/><path d=\"M 278.88 275.83 L 271.88 279.34 L 273.63 275.83 L 271.88 272.34 Z\" fill=\"#82b366\" stroke=\"#82b366\" stroke-miterlimit=\"10\" pointer-events=\"all\"/><rect x=\"271\" y=\"195\" width=\"60\" height=\"30\" fill=\"none\" stroke=\"none\" pointer-events=\"all\"/><g transform=\"translate(-0.5 -0.5)\"><switch><foreignObject pointer-events=\"none\" width=\"100%\" height=\"100%\" requiredFeatures=\"http://www.w3.org/TR/SVG11/feature#Extensibility\" style=\"overflow: visible; text-align: left;\"><div xmlns=\"http://www.w3.org/1999/xhtml\" style=\"display: flex; align-items: unsafe center; justify-content: unsafe center; width: 58px; height: 1px; padding-top: 210px; margin-left: 272px;\"><div data-drawio-colors=\"color: rgb(0, 0, 0); \" style=\"box-sizing: border-box; font-size: 0px; text-align: center;\"><div style=\"display: inline-block; font-size: 14px; font-family: Helvetica; color: rgb(0, 0, 0); line-height: 1.2; pointer-events: all; white-space: normal; overflow-wrap: normal;\"><font color=\"#82b366\"><span class=\"MathJax_Preview\" style=\"color: inherit;\"/><div class=\"MathJax_SVG_Display\" style=\"text-align: center;\"><span class=\"MathJax_SVG\" id=\"MathJax-Element-18-Frame\" tabindex=\"0\" data-mathml=\"&lt;math xmlns=&quot;http://www.w3.org/1998/Math/MathML&quot; display=&quot;block&quot;&gt;&lt;msub&gt;&lt;mi&gt;p&lt;/mi&gt;&lt;mn&gt;2&lt;/mn&gt;&lt;/msub&gt;&lt;/math&gt;\" role=\"presentation\" style=\"font-size: 100%; display: inline-block; position: relative;\"><svg xmlns=\"http://www.w3.org/2000/svg\" xmlns:xlink=\"http://www.w3.org/1999/xlink\" width=\"2.313ex\" height=\"1.936ex\" viewBox=\"-38.5 -535.3 995.9 833.5\" role=\"img\" focusable=\"false\" style=\"vertical-align: -0.693ex; margin-left: -0.089ex;\" aria-hidden=\"true\"><g stroke=\"currentColor\" fill=\"currentColor\" stroke-width=\"0\" transform=\"matrix(1 0 0 -1 0 0)\"><path stroke-width=\"1\" d=\"M23 287Q24 290 25 295T30 317T40 348T55 381T75 411T101 433T134 442Q209 442 230 378L240 387Q302 442 358 442Q423 442 460 395T497 281Q497 173 421 82T249 -10Q227 -10 210 -4Q199 1 187 11T168 28L161 36Q160 35 139 -51T118 -138Q118 -144 126 -145T163 -148H188Q194 -155 194 -157T191 -175Q188 -187 185 -190T172 -194Q170 -194 161 -194T127 -193T65 -192Q-5 -192 -24 -194H-32Q-39 -187 -39 -183Q-37 -156 -26 -148H-6Q28 -147 33 -136Q36 -130 94 103T155 350Q156 355 156 364Q156 405 131 405Q109 405 94 377T71 316T59 280Q57 278 43 278H29Q23 284 23 287ZM178 102Q200 26 252 26Q282 26 310 49T356 107Q374 141 392 215T411 325V331Q411 405 350 405Q339 405 328 402T306 393T286 380T269 365T254 350T243 336T235 326L232 322Q232 321 229 308T218 264T204 212Q178 106 178 102Z\"/><g transform=\"translate(503,-150)\"><path stroke-width=\"1\" transform=\"scale(0.707)\" d=\"M109 429Q82 429 66 447T50 491Q50 562 103 614T235 666Q326 666 387 610T449 465Q449 422 429 383T381 315T301 241Q265 210 201 149L142 93L218 92Q375 92 385 97Q392 99 409 186V189H449V186Q448 183 436 95T421 3V0H50V19V31Q50 38 56 46T86 81Q115 113 136 137Q145 147 170 174T204 211T233 244T261 278T284 308T305 340T320 369T333 401T340 431T343 464Q343 527 309 573T212 619Q179 619 154 602T119 569T109 550Q109 549 114 549Q132 549 151 535T170 489Q170 464 154 447T109 429Z\"/></g></g></svg><span class=\"MJX_Assistive_MathML MJX_Assistive_MathML_Block\" role=\"presentation\"/></span></div><script type=\"math/tex; mode=display\" id=\"MathJax-Element-18\">p_2</script></font></div></div></div></foreignObject><text x=\"301\" y=\"214\" fill=\"rgb(0, 0, 0)\" font-family=\"Helvetica\" font-size=\"14px\" text-anchor=\"middle\">\n",
       "p_2</text></switch></g><rect x=\"161\" y=\"248\" width=\"60\" height=\"30\" fill=\"none\" stroke=\"none\" pointer-events=\"all\"/><g transform=\"translate(-0.5 -0.5)\"><switch><foreignObject pointer-events=\"none\" width=\"100%\" height=\"100%\" requiredFeatures=\"http://www.w3.org/TR/SVG11/feature#Extensibility\" style=\"overflow: visible; text-align: left;\"><div xmlns=\"http://www.w3.org/1999/xhtml\" style=\"display: flex; align-items: unsafe center; justify-content: unsafe center; width: 58px; height: 1px; padding-top: 263px; margin-left: 162px;\"><div data-drawio-colors=\"color: rgb(0, 0, 0); \" style=\"box-sizing: border-box; font-size: 0px; text-align: center;\"><div style=\"display: inline-block; font-size: 14px; font-family: Helvetica; color: rgb(0, 0, 0); line-height: 1.2; pointer-events: all; white-space: normal; overflow-wrap: normal;\"><font color=\"#82b366\"><span class=\"MathJax_Preview\" style=\"color: inherit;\"/><div class=\"MathJax_SVG_Display\" style=\"text-align: center;\"><span class=\"MathJax_SVG\" id=\"MathJax-Element-19-Frame\" tabindex=\"0\" data-mathml=\"&lt;math xmlns=&quot;http://www.w3.org/1998/Math/MathML&quot; display=&quot;block&quot;&gt;&lt;msub&gt;&lt;mi&gt;p&lt;/mi&gt;&lt;mn&gt;1&lt;/mn&gt;&lt;/msub&gt;&lt;/math&gt;\" role=\"presentation\" style=\"font-size: 100%; display: inline-block; position: relative;\"><svg xmlns=\"http://www.w3.org/2000/svg\" xmlns:xlink=\"http://www.w3.org/1999/xlink\" width=\"2.313ex\" height=\"1.936ex\" viewBox=\"-38.5 -535.3 995.9 833.5\" role=\"img\" focusable=\"false\" style=\"vertical-align: -0.693ex; margin-left: -0.089ex;\" aria-hidden=\"true\"><g stroke=\"currentColor\" fill=\"currentColor\" stroke-width=\"0\" transform=\"matrix(1 0 0 -1 0 0)\"><path stroke-width=\"1\" d=\"M23 287Q24 290 25 295T30 317T40 348T55 381T75 411T101 433T134 442Q209 442 230 378L240 387Q302 442 358 442Q423 442 460 395T497 281Q497 173 421 82T249 -10Q227 -10 210 -4Q199 1 187 11T168 28L161 36Q160 35 139 -51T118 -138Q118 -144 126 -145T163 -148H188Q194 -155 194 -157T191 -175Q188 -187 185 -190T172 -194Q170 -194 161 -194T127 -193T65 -192Q-5 -192 -24 -194H-32Q-39 -187 -39 -183Q-37 -156 -26 -148H-6Q28 -147 33 -136Q36 -130 94 103T155 350Q156 355 156 364Q156 405 131 405Q109 405 94 377T71 316T59 280Q57 278 43 278H29Q23 284 23 287ZM178 102Q200 26 252 26Q282 26 310 49T356 107Q374 141 392 215T411 325V331Q411 405 350 405Q339 405 328 402T306 393T286 380T269 365T254 350T243 336T235 326L232 322Q232 321 229 308T218 264T204 212Q178 106 178 102Z\"/><g transform=\"translate(503,-150)\"><path stroke-width=\"1\" transform=\"scale(0.707)\" d=\"M213 578L200 573Q186 568 160 563T102 556H83V602H102Q149 604 189 617T245 641T273 663Q275 666 285 666Q294 666 302 660V361L303 61Q310 54 315 52T339 48T401 46H427V0H416Q395 3 257 3Q121 3 100 0H88V46H114Q136 46 152 46T177 47T193 50T201 52T207 57T213 61V578Z\"/></g></g></svg><span class=\"MJX_Assistive_MathML MJX_Assistive_MathML_Block\" role=\"presentation\"/></span></div><script type=\"math/tex; mode=display\" id=\"MathJax-Element-19\">p_1</script></font></div></div></div></foreignObject><text x=\"191\" y=\"267\" fill=\"rgb(0, 0, 0)\" font-family=\"Helvetica\" font-size=\"14px\" text-anchor=\"middle\">\n",
       "p_1</text></switch></g></g><switch><g requiredFeatures=\"http://www.w3.org/TR/SVG11/feature#Extensibility\"/><a transform=\"translate(0,-5)\" xlink:href=\"https://www.diagrams.net/doc/faq/svg-export-text-problems\" target=\"_blank\"><text text-anchor=\"middle\" font-size=\"10px\" x=\"50%\" y=\"100%\">Text is not SVG - cannot display</text></a></switch></svg>"
      ],
      "text/plain": [
       "<IPython.core.display.SVG object>"
      ]
     },
     "execution_count": 2,
     "metadata": {},
     "output_type": "execute_result"
    }
   ],
   "source": [
    "from IPython.display import Image\n",
    "from IPython.core.display import SVG\n",
    "SVG(filename='ODE_flatness_analysis_simulation_diagram.svg')"
   ]
  },
  {
   "cell_type": "code",
   "execution_count": 3,
   "metadata": {
    "scrolled": false
   },
   "outputs": [
    {
     "data": {
      "image/png": "[encoded data removed]",
      "text/latex": [
       "aa.T := $\\displaystyle \\left[\\begin{matrix}a_{1} & a_{2} & a_{3} & a_{4}\\end{matrix}\\right]$"
      ],
      "text/plain": [
       "aa.T := [a₁  a₂  a₃  a₄]"
      ]
     },
     "metadata": {},
     "output_type": "display_data"
    },
    {
     "data": {
      "text/plain": [
       "---"
      ]
     },
     "metadata": {},
     "output_type": "display_data"
    },
    {
     "data": {
      "image/png": "[encoded data removed]",
      "text/latex": [
       "ttheta.T := $\\displaystyle \\left[\\begin{matrix}p_{1} & p_{2} & p_{3} & q_{1} & q_{2}\\end{matrix}\\right]$"
      ],
      "text/plain": [
       "ttheta.T := [p₁  p₂  p₃  q₁  q₂]"
      ]
     },
     "metadata": {},
     "output_type": "display_data"
    },
    {
     "data": {
      "text/plain": [
       "---"
      ]
     },
     "metadata": {},
     "output_type": "display_data"
    },
    {
     "data": {
      "image/png": "[encoded data removed]",
      "text/latex": [
       "tthetad.T := $\\displaystyle \\left[\\begin{matrix}\\dot{p}_{1} & \\dot{p}_{2} & \\dot{p}_{3} & \\dot{q}_{1} & \\dot{q}_{2}\\end{matrix}\\right]$"
      ],
      "text/plain": [
       "tthetad.T := [ṗ₁  ṗ₂  ṗ₃  q̇₁  q̇₂]"
      ]
     },
     "metadata": {},
     "output_type": "display_data"
    },
    {
     "data": {
      "text/plain": [
       "---"
      ]
     },
     "metadata": {},
     "output_type": "display_data"
    },
    {
     "data": {
      "image/png": "[encoded data removed]",
      "text/latex": [
       "tthetadd.T := $\\displaystyle \\left[\\begin{matrix}\\ddot{p}_{1} & \\ddot{p}_{2} & \\ddot{p}_{3} & \\ddot{q}_{1} & \\ddot{q}_{2}\\end{matrix}\\right]$"
      ],
      "text/plain": [
       "tthetadd.T := [p̈₁  p̈₂  p̈₃  q̈₁  q̈₂]"
      ]
     },
     "metadata": {},
     "output_type": "display_data"
    },
    {
     "data": {
      "text/plain": [
       "---"
      ]
     },
     "metadata": {},
     "output_type": "display_data"
    },
    {
     "data": {
      "image/png": "[encoded data removed]",
      "text/latex": [
       "tthetaddd.T := $\\displaystyle \\left[\\begin{matrix}\\dddot{p}_{1} & \\dddot{p}_{2} & \\dddot{p}_{3} & \\dddot{q}_{1} & \\dddot{q}_{2}\\end{matrix}\\right]$"
      ],
      "text/plain": [
       "tthetaddd.T := [p⃛₁  p⃛₂  p⃛₃  q⃛₁  q⃛₂]"
      ]
     },
     "metadata": {},
     "output_type": "display_data"
    },
    {
     "data": {
      "text/plain": [
       "---"
      ]
     },
     "metadata": {},
     "output_type": "display_data"
    },
    {
     "data": {
      "image/png": "[encoded data removed]",
      "text/latex": [
       "tthetadddd.T := $\\displaystyle \\left[\\begin{matrix}\\ddddot{p}_{1} & \\ddddot{p}_{2} & \\ddddot{p}_{3} & \\ddddot{q}_{1} & \\ddddot{q}_{2}\\end{matrix}\\right]$"
      ],
      "text/plain": [
       "tthetadddd.T := [p⃜₁  p⃜₂  p⃜₃  q⃜₁  q⃜₂]"
      ]
     },
     "metadata": {},
     "output_type": "display_data"
    },
    {
     "data": {
      "text/plain": [
       "---"
      ]
     },
     "metadata": {},
     "output_type": "display_data"
    },
    {
     "data": {
      "image/png": "[encoded data removed]",
      "text/latex": [
       "meas_states.T := $\\displaystyle \\left[\\begin{matrix}pm_{1} & pm_{2} & pm_{3} & qm_{1} & qm_{2}\\end{matrix}\\right]$"
      ],
      "text/plain": [
       "meas_states.T := [pm₁  pm₂  pm₃  qm₁  qm₂]"
      ]
     },
     "metadata": {},
     "output_type": "display_data"
    },
    {
     "data": {
      "text/plain": [
       "---"
      ]
     },
     "metadata": {},
     "output_type": "display_data"
    },
    {
     "data": {
      "image/png": "[encoded data removed]",
      "text/latex": [
       "meas_states_d.T := $\\displaystyle \\left[\\begin{matrix}\\dot{pm}_{1} & \\dot{pm}_{2} & \\dot{pm}_{3} & \\dot{qm}_{1} & \\dot{qm}_{2}\\end{matrix}\\right]$"
      ],
      "text/plain": [
       "meas_states_d.T := [pṁ₁  pṁ₂  pṁ₃  qṁ₁  qṁ₂]"
      ]
     },
     "metadata": {},
     "output_type": "display_data"
    },
    {
     "data": {
      "text/plain": [
       "---"
      ]
     },
     "metadata": {},
     "output_type": "display_data"
    },
    {
     "data": {
      "image/png": "[encoded data removed]",
      "text/latex": [
       "QQ.T := $\\displaystyle \\left[\\begin{matrix}Q_{1} & Q_{2} & Q_{3} & Q_{4} & Q_{5}\\end{matrix}\\right]$"
      ],
      "text/plain": [
       "QQ.T := [Q₁  Q₂  Q₃  Q₄  Q₅]"
      ]
     },
     "metadata": {},
     "output_type": "display_data"
    },
    {
     "data": {
      "text/plain": [
       "---"
      ]
     },
     "metadata": {},
     "output_type": "display_data"
    }
   ],
   "source": [
    "t = sp.Symbol('t')  # time variable\n",
    "\n",
    "# coordinates\n",
    "np = 3 # number of passive coordinates (not directly actuated)\n",
    "nq = 2 # number of actuated coordinates\n",
    "n = np + nq\n",
    "\n",
    "pp = st.symb_vector(\"p1:{0}\".format(np+1)) # vector of passive coordinates\n",
    "qq = st.symb_vector(\"q1:{0}\".format(nq+1)) # vector of actuated coordinates\n",
    "\n",
    "\n",
    "\n",
    "# vector of control inputs\n",
    "aa = st.symb_vector(\"a1:{0}\".format(4+1)) ##:T\n",
    "# vector of all coordinates\n",
    "ttheta = st.row_stack(pp, qq) ##:T\n",
    "# vector of velocities \n",
    "tthetad = st.time_deriv(ttheta, ttheta) ##:T\n",
    "# vector of accelerations\n",
    "tthetadd = st.time_deriv(ttheta, ttheta, order=2) ##:T\n",
    "tthetaddd = st.time_deriv(ttheta, ttheta, order=3) ##:T\n",
    "tthetadddd = st.time_deriv(ttheta, ttheta, order=4) ##:T\n",
    "\n",
    "st.make_global(ttheta, tthetad, tthetadd, tthetaddd, tthetadddd)\n",
    "\n",
    "# define symbols for measured states\n",
    "p_meas = st.symb_vector(\"pm1:{0}\".format(3+1)) # error vector of passive coordinates\n",
    "q_meas = st.symb_vector(\"qm1:{0}\".format(2+1)) # error vector of actuated coordinates\n",
    "\n",
    "meas_states = st.row_stack(p_meas, q_meas) ##:T\n",
    "meas_states_d = st.time_deriv(meas_states, meas_states) ##:T\n",
    "\n",
    "st.make_global(meas_states, meas_states_d)\n",
    "\n",
    "# define symbols for reference trajectory states\n",
    "p_ref = st.symb_vector(\"pr1:{0}\".format(3+1)) # error vector of passive coordinates\n",
    "q_ref = st.symb_vector(\"qr1:{0}\".format(2+1)) # error vector of actuated coordinates\n",
    "\n",
    "ref_states = st.row_stack(p_ref, q_ref)\n",
    "ref_states_d = st.time_deriv(ref_states, ref_states)\n",
    "ref_states_dd = st.time_deriv(ref_states, ref_states, order=2)\n",
    "ref_states_ddd = st.time_deriv(ref_states, ref_states, order=3)\n",
    "ref_states_dddd = st.time_deriv(ref_states, ref_states, order=4)\n",
    "\n",
    "st.make_global(ref_states, ref_states_d, ref_states_dd, ref_states_ddd, ref_states_dddd)\n",
    "\n",
    "QQ = st.symb_vector(\"Q1:{0}\".format(n+1)) ##:T # vector of generalized foces\n",
    "st.make_global(QQ)"
   ]
  },
  {
   "cell_type": "code",
   "execution_count": 4,
   "metadata": {},
   "outputs": [],
   "source": [
    "# symbols for analytic equations\n",
    "params = sp.symbols('s2, m1, m2, m3, J1, J2, J3, mc1b, mc2b d1, d4, l0, l1, l2, l3, g')\n",
    "st.make_global(params)\n",
    "\n",
    "# symbols for control inputs\n",
    "# ttau = sp.symbols('tau')\n",
    "tau1, tau2, tau3, tau4 = ttau = st.symb_vector(\"tau1, tau2, tau3, tau4\")"
   ]
  },
  {
   "cell_type": "markdown",
   "metadata": {},
   "source": [
    "Specify the geometry (joints G and centers of masses S)"
   ]
  },
  {
   "cell_type": "code",
   "execution_count": 5,
   "metadata": {},
   "outputs": [
    {
     "data": {
      "image/png": "[encoded data removed]",
      "text/latex": [
       "B1 := $\\displaystyle \\left[\\begin{matrix}q_{1}\\\\0\\end{matrix}\\right]$"
      ],
      "text/plain": [
       "B1 := ⎡q₁⎤\n",
       "⎢  ⎥\n",
       "⎣0 ⎦"
      ]
     },
     "metadata": {},
     "output_type": "display_data"
    },
    {
     "data": {
      "text/plain": [
       "---"
      ]
     },
     "metadata": {},
     "output_type": "display_data"
    },
    {
     "data": {
      "image/png": "[encoded data removed]",
      "text/latex": [
       "B2 := $\\displaystyle \\left[\\begin{matrix}l_{0} + q_{2}\\\\0\\end{matrix}\\right]$"
      ],
      "text/plain": [
       "B2 := ⎡l₀ + q₂⎤\n",
       "⎢       ⎥\n",
       "⎣   0   ⎦"
      ]
     },
     "metadata": {},
     "output_type": "display_data"
    },
    {
     "data": {
      "text/plain": [
       "---"
      ]
     },
     "metadata": {},
     "output_type": "display_data"
    },
    {
     "data": {
      "image/png": "[encoded data removed]",
      "text/latex": [
       "G3 := $\\displaystyle \\left[\\begin{matrix}p_{1} - s_{2} \\cos{\\left(p_{3} \\right)}\\\\p_{2} - s_{2} \\sin{\\left(p_{3} \\right)}\\end{matrix}\\right]$"
      ],
      "text/plain": [
       "G3 := ⎡p₁ - s₂⋅cos(p₃)⎤\n",
       "⎢               ⎥\n",
       "⎣p₂ - s₂⋅sin(p₃)⎦"
      ]
     },
     "metadata": {},
     "output_type": "display_data"
    },
    {
     "data": {
      "text/plain": [
       "---"
      ]
     },
     "metadata": {},
     "output_type": "display_data"
    },
    {
     "data": {
      "image/png": "[encoded data removed]",
      "text/latex": [
       "G4 := $\\displaystyle \\left[\\begin{matrix}p_{1} + s_{2} \\cos{\\left(p_{3} \\right)}\\\\p_{2} + s_{2} \\sin{\\left(p_{3} \\right)}\\end{matrix}\\right]$"
      ],
      "text/plain": [
       "G4 := ⎡p₁ + s₂⋅cos(p₃)⎤\n",
       "⎢               ⎥\n",
       "⎣p₂ + s₂⋅sin(p₃)⎦"
      ]
     },
     "metadata": {},
     "output_type": "display_data"
    },
    {
     "data": {
      "text/plain": [
       "---"
      ]
     },
     "metadata": {},
     "output_type": "display_data"
    },
    {
     "data": {
      "image/png": "[encoded data removed]",
      "text/latex": [
       "(Sd1, Sd2, Sd3) := $\\displaystyle \\left( \\left[\\begin{matrix}\\dot{q}_{1}\\\\0\\end{matrix}\\right], \\  \\left[\\begin{matrix}\\dot{p}_{1}\\\\\\dot{p}_{2}\\end{matrix}\\right], \\  \\left[\\begin{matrix}\\dot{q}_{2}\\\\0\\end{matrix}\\right]\\right)$"
      ],
      "text/plain": [
       "(Sd1, Sd2, Sd3) := ⎛⎡q̇₁⎤  ⎡ṗ₁⎤  ⎡q̇₂⎤⎞\n",
       "⎜⎢  ⎥, ⎢  ⎥, ⎢  ⎥⎟\n",
       "⎝⎣0 ⎦  ⎣ṗ₂⎦  ⎣0 ⎦⎠"
      ]
     },
     "metadata": {},
     "output_type": "display_data"
    },
    {
     "data": {
      "text/plain": [
       "---"
      ]
     },
     "metadata": {},
     "output_type": "display_data"
    }
   ],
   "source": [
    "# unit vectors\n",
    "ex = sp.Matrix([1, 0])\n",
    "ey = sp.Matrix([0, 1])\n",
    "\n",
    "# basis 1 and 2 (cart positions)\n",
    "S1 = G1 = B1 = sp.Matrix([q1, 0]) ##:\n",
    "S3 = G6 = B2 = sp.Matrix([l0 + q2, 0]) ##:\n",
    "\n",
    "# center of gravity of load\n",
    "S2 = sp.Matrix([p1, p2])\n",
    "\n",
    "# suspension points of load\n",
    "G3 = S2 - Rz(p3)*ex*s2 ##:\n",
    "G4 = S2 + Rz(p3)*ex*s2 ##:\n",
    "\n",
    "# Time derivatives of centers of masses\n",
    "Sd1, Sd2, Sd3 = st.col_split(st.time_deriv(st.col_stack(S1, S2, S3), ttheta)) ##:\n",
    "\n",
    "# rope vectors\n",
    "rope1 = (G3 - S1)\n",
    "rope2 = (G4 - S3)"
   ]
  },
  {
   "cell_type": "markdown",
   "metadata": {},
   "source": [
    "# Initial values"
   ]
  },
  {
   "cell_type": "code",
   "execution_count": 6,
   "metadata": {},
   "outputs": [],
   "source": [
    "# load model etc. from pickle of flatness analysis notebook\n",
    "with open(\"flatness_analysis_control.pcl\", \"rb\") as pfile:\n",
    "    data = pickle.load(pfile)\n",
    "    locals().update(data)"
   ]
  },
  {
   "cell_type": "code",
   "execution_count": 7,
   "metadata": {},
   "outputs": [],
   "source": [
    "# load model etc. from pickle of flatness analysis notebook\n",
    "with open(\"qstat_expr.pcl\", \"rb\") as pfile:\n",
    "    data = pickle.load(pfile)\n",
    "    locals().update(data)"
   ]
  },
  {
   "cell_type": "code",
   "execution_count": 8,
   "metadata": {},
   "outputs": [
    {
     "data": {
      "image/png": "[encoded data removed]",
      "text/latex": [
       "$\\displaystyle 163887$"
      ],
      "text/plain": [
       "163887"
      ]
     },
     "execution_count": 8,
     "metadata": {},
     "output_type": "execute_result"
    }
   ],
   "source": [
    "qstat_tau2.co"
   ]
  },
  {
   "cell_type": "code",
   "execution_count": 9,
   "metadata": {
    "scrolled": false
   },
   "outputs": [
    {
     "data": {
      "text/plain": [
       "sys_params := [('J2', 0.004553475),\n",
       " ('g', 9.81),\n",
       " ('l0', 0.3),\n",
       " ('m1', 0.45),\n",
       " ('m2', 0.557),\n",
       " ('m3', 0.45),\n",
       " ('s2', 0.15)]"
      ]
     },
     "metadata": {},
     "output_type": "display_data"
    },
    {
     "data": {
      "text/plain": [
       "---"
      ]
     },
     "metadata": {},
     "output_type": "display_data"
    }
   ],
   "source": [
    "sys_params = list(dict(J2=0.004553475, g=9.81, l0=0.3, m1=0.45, m2=0.557, m3=0.45, s2=0.15).items()) ##:"
   ]
  },
  {
   "cell_type": "code",
   "execution_count": 10,
   "metadata": {
    "scrolled": false
   },
   "outputs": [
    {
     "data": {
      "image/png": "[encoded data removed]",
      "text/latex": [
       "$\\displaystyle \\left[\\begin{matrix}- \\frac{\\tau_{4} \\left(- l_{0} + p_{1} - q_{2} + s_{2} \\cos{\\left(p_{3} \\right)}\\right)}{l_{2}} - \\frac{\\tau_{3} \\left(p_{1} - q_{1} - s_{2} \\cos{\\left(p_{3} \\right)}\\right)}{l_{1}}\\\\g m_{2} - \\frac{\\tau_{4} \\left(p_{2} + s_{2} \\sin{\\left(p_{3} \\right)}\\right)}{l_{2}} - \\frac{\\tau_{3} \\left(p_{2} - s_{2} \\sin{\\left(p_{3} \\right)}\\right)}{l_{1}}\\\\- \\frac{s_{2} \\tau_{4} \\left(p_{2} + s_{2} \\sin{\\left(p_{3} \\right)}\\right) \\cos{\\left(p_{3} \\right)}}{l_{2}} + \\frac{s_{2} \\tau_{4} \\left(- l_{0} + p_{1} - q_{2} + s_{2} \\cos{\\left(p_{3} \\right)}\\right) \\sin{\\left(p_{3} \\right)}}{l_{2}} + \\frac{s_{2} \\tau_{3} \\left(p_{2} - s_{2} \\sin{\\left(p_{3} \\right)}\\right) \\cos{\\left(p_{3} \\right)}}{l_{1}} - \\frac{s_{2} \\tau_{3} \\left(p_{1} - q_{1} - s_{2} \\cos{\\left(p_{3} \\right)}\\right) \\sin{\\left(p_{3} \\right)}}{l_{1}}\\\\- \\tau_{1} + \\frac{\\tau_{3} \\left(p_{1} - q_{1} - s_{2} \\cos{\\left(p_{3} \\right)}\\right)}{l_{1}}\\\\- \\tau_{2} + \\frac{\\tau_{4} \\left(- l_{0} + p_{1} - q_{2} + s_{2} \\cos{\\left(p_{3} \\right)}\\right)}{l_{2}}\\end{matrix}\\right]$"
      ],
      "text/plain": [
       "⎡                                               τ₄⋅(-l₀ + p₁ - q₂ + s₂⋅cos(p₃)\n",
       "⎢                                             - ──────────────────────────────\n",
       "⎢                                                              l₂             \n",
       "⎢                                                                             \n",
       "⎢                                                         τ₄⋅(p₂ + s₂⋅sin(p₃))\n",
       "⎢                                                  g⋅m₂ - ────────────────────\n",
       "⎢                                                                  l₂         \n",
       "⎢                                                                             \n",
       "⎢  s₂⋅τ₄⋅(p₂ + s₂⋅sin(p₃))⋅cos(p₃)   s₂⋅τ₄⋅(-l₀ + p₁ - q₂ + s₂⋅cos(p₃))⋅sin(p₃\n",
       "⎢- ─────────────────────────────── + ─────────────────────────────────────────\n",
       "⎢                 l₂                                     l₂                   \n",
       "⎢                                                                             \n",
       "⎢                                                                  τ₃⋅(p₁ - q₁\n",
       "⎢                                                            -τ₁ + ───────────\n",
       "⎢                                                                             \n",
       "⎢                                                                             \n",
       "⎢                                                               τ₄⋅(-l₀ + p₁ -\n",
       "⎢                                                         -τ₂ + ──────────────\n",
       "⎣                                                                             \n",
       "\n",
       ")   τ₃⋅(p₁ - q₁ - s₂⋅cos(p₃))                                             ⎤\n",
       "─ - ─────────────────────────                                             ⎥\n",
       "                l₁                                                        ⎥\n",
       "                                                                          ⎥\n",
       "   τ₃⋅(p₂ - s₂⋅sin(p₃))                                                   ⎥\n",
       " - ────────────────────                                                   ⎥\n",
       "            l₁                                                            ⎥\n",
       "                                                                          ⎥\n",
       ")   s₂⋅τ₃⋅(p₂ - s₂⋅sin(p₃))⋅cos(p₃)   s₂⋅τ₃⋅(p₁ - q₁ - s₂⋅cos(p₃))⋅sin(p₃)⎥\n",
       "─ + ─────────────────────────────── - ────────────────────────────────────⎥\n",
       "                   l₁                                  l₁                 ⎥\n",
       "                                                                          ⎥\n",
       " - s₂⋅cos(p₃))                                                            ⎥\n",
       "──────────────                                                            ⎥\n",
       " l₁                                                                       ⎥\n",
       "                                                                          ⎥\n",
       " q₂ + s₂⋅cos(p₃))                                                         ⎥\n",
       "─────────────────                                                         ⎥\n",
       " l₂                                                                       ⎦"
      ]
     },
     "execution_count": 10,
     "metadata": {},
     "output_type": "execute_result"
    }
   ],
   "source": [
    "eqns.subz0(tthetadd)"
   ]
  },
  {
   "cell_type": "code",
   "execution_count": 11,
   "metadata": {},
   "outputs": [],
   "source": [
    "# load DAE constraints and joints for initial value plot from DAE_double_crane_w3_angles notebook\n",
    "with open(\"../double_crane_notebooks/DAE_cartesian_initial_values.pcl\", \"rb\") as pfile:\n",
    "    data = pickle.load(pfile)\n",
    "    locals().update(data)"
   ]
  },
  {
   "cell_type": "code",
   "execution_count": 12,
   "metadata": {},
   "outputs": [],
   "source": [
    "# numerical functions for joints and constraints\n",
    "constraints_func = sp.lambdify(ttheta_cart, constraints, modules=\"numpy\")\n",
    "joints_func = sp.lambdify(ttheta_cart, joints, modules=\"numpy\")\n",
    "\n",
    "# cost function of constraints, theta_var: variable coordinates to be optimized, theta_const: constant coordinate (manipulated by slider later)\n",
    "def constraint_cost(theta_var, theta_const):   \n",
    "    err = constraints_func(theta_const[0], *theta_var, theta_const[1], theta_const[2])\n",
    "    return err[0]**2 + err[1]**2 + err[2]**2 # squared error"
   ]
  },
  {
   "cell_type": "code",
   "execution_count": 13,
   "metadata": {},
   "outputs": [
    {
     "data": {
      "application/vnd.jupyter.widget-view+json": {
       "model_id": "b0ae0df5cc454ed79a35a1cd5ddace9e",
       "version_major": 2,
       "version_minor": 0
      },
      "text/plain": [
       "interactive(children=(FloatSlider(value=0.20000000000000018, description='p1_cart', max=1.5, min=-1.0), FloatS…"
      ]
     },
     "metadata": {},
     "output_type": "display_data"
    }
   ],
   "source": [
    "%matplotlib inline\n",
    "\n",
    "ttheta0_cart = []\n",
    "ttheta0 = []\n",
    "\n",
    "from ipywidgets import interact\n",
    "@interact(p1_cart=(-1, 1.5, .1), q1=(-1, 1, .1), q2=(-1, 1, .1))\n",
    "def plot_func(p1_cart, q1, q2):\n",
    "    res = fmin(constraint_cost, x0=[-0.4, 0.5, -0.4], args=([p1_cart, q1, q2],), disp=0, ftol=1e-15)\n",
    "\n",
    "    # dependent coordinates\n",
    "    p2_cart, p3_cart, p4_cart = res\n",
    "    jc = joint_coords = joints_func(p1_cart, p2_cart, p3_cart, p4_cart, q1, q2)\n",
    "\n",
    "    plt.plot(jc[0, :], jc[1, :], \"ok\", ms=7)\n",
    "    plt.plot(jc[0, :], jc[1, :], \"b-\")\n",
    "    plt.axis(\"equal\")\n",
    "    plt.axis([-0.5, 1.4, -1.5, 0.5])\n",
    "    \n",
    "    ttheta0_cart[:] = [p1_cart, p2_cart, p3_cart, p4_cart, q1, q2]\n",
    "    const_err = constraints_func(*ttheta0_cart)\n",
    "    \n",
    "    p1 = p1_cart + 0.5*(p3_cart - p1_cart)\n",
    "    p2 = p2_cart + 0.5*(p4_cart - p2_cart)\n",
    "    p3 = npy.arctan2(p4_cart-p2_cart, p3_cart-p1_cart)\n",
    "    \n",
    "    ttheta0[:] = [p1, p2, p3, q1, q2]\n",
    "    \n",
    "    str_coords = ( f'Initial Values:\\n'\n",
    "                   f'p1: {p1}\\n'\n",
    "                   f'p2: {p2}\\n'\n",
    "                   f'p3: {p3}\\n'\n",
    "                   f'q1: {q1}\\n'\n",
    "                   f'q2: {q2}\\n'\n",
    "                   f'error of constraints: \\n {const_err} \\n')\n",
    "    print(str_coords)"
   ]
  },
  {
   "cell_type": "code",
   "execution_count": 61,
   "metadata": {},
   "outputs": [
    {
     "data": {
      "text/plain": [
       "array([ 1.49999995e-01, -4.00000004e-01,  4.43002187e-08,  0.00000000e+00,  0.00000000e+00])"
      ]
     },
     "execution_count": 61,
     "metadata": {},
     "output_type": "execute_result"
    }
   ],
   "source": [
    "ttheta0"
   ]
  },
  {
   "cell_type": "code",
   "execution_count": 62,
   "metadata": {},
   "outputs": [
    {
     "data": {
      "image/png": "[encoded data removed]",
      "text/latex": [
       "eqlbr_conditions := $\\displaystyle \\left[ \\left( p_{1}, \\  0.149999995042072\\right), \\  \\left( p_{2}, \\  -0.400000003717804\\right), \\  \\left( p_{3}, \\  4.43002186625421 \\cdot 10^{-8}\\right), \\  \\left( q_{1}, \\  0.0\\right), \\  \\left( q_{2}, \\  0.0\\right)\\right]$"
      ],
      "text/plain": [
       "eqlbr_conditions := [(p₁, 0.14999999504207212), (p₂, -0.4000000037178036), (p₃, 4.430021866254207e\n",
       "-08), (q₁, 0.0), (q₂, 0.0)]"
      ]
     },
     "metadata": {},
     "output_type": "display_data"
    },
    {
     "data": {
      "text/plain": [
       "---"
      ]
     },
     "metadata": {},
     "output_type": "display_data"
    },
    {
     "data": {
      "image/png": "[encoded data removed]",
      "text/latex": [
       "res := $\\displaystyle \\left[\\begin{matrix}1.23948190164552 \\cdot 10^{-8} \\tau_{3} + 1.23948201221645 \\cdot 10^{-8} \\tau_{4}\\\\1.0 \\tau_{3} + 1.0 \\tau_{4} + 5.46417\\\\- 0.15 \\tau_{3} + 0.15 \\tau_{4}\\\\- \\tau_{1} - 1.23948190164552 \\cdot 10^{-8} \\tau_{3}\\\\- \\tau_{2} - 1.23948201221645 \\cdot 10^{-8} \\tau_{4}\\end{matrix}\\right]$"
      ],
      "text/plain": [
       "res := ⎡1.23948190164552e-8⋅τ₃ + 1.23948201221645e-8⋅τ₄⎤\n",
       "⎢                                               ⎥\n",
       "⎢           1.0⋅τ₃ + 1.0⋅τ₄ + 5.46417           ⎥\n",
       "⎢                                               ⎥\n",
       "⎢              -0.15⋅τ₃ + 0.15⋅τ₄               ⎥\n",
       "⎢                                               ⎥\n",
       "⎢         -τ₁ - 1.23948190164552e-8⋅τ₃          ⎥\n",
       "⎢                                               ⎥\n",
       "⎣         -τ₂ - 1.23948201221645e-8⋅τ₄          ⎦"
      ]
     },
     "metadata": {},
     "output_type": "display_data"
    },
    {
     "data": {
      "text/plain": [
       "---"
      ]
     },
     "metadata": {},
     "output_type": "display_data"
    }
   ],
   "source": [
    "eqlbr_conditions = [(p1, ttheta0[0]), (p2, ttheta0[1]), (p3, ttheta0[2]), (q1, ttheta0[3]), (q2, ttheta0[4])] ##:\n",
    "\n",
    "res = ((mod.eqns.subz0(tthetadd)).subs(eqlbr_conditions)).subs(sys_params) ##:"
   ]
  },
  {
   "cell_type": "code",
   "execution_count": 63,
   "metadata": {
    "scrolled": true
   },
   "outputs": [
    {
     "data": {
      "image/png": "[encoded data removed]",
      "text/latex": [
       "symbs := $\\displaystyle \\left[ \\tau_{3}, \\  \\tau_{2}, \\  \\tau_{4}, \\  \\tau_{1}\\right]$"
      ],
      "text/plain": [
       "symbs := [τ₃, τ₂, τ₄, τ₁]"
      ]
     },
     "metadata": {},
     "output_type": "display_data"
    },
    {
     "data": {
      "text/plain": [
       "---"
      ]
     },
     "metadata": {},
     "output_type": "display_data"
    },
    {
     "data": {
      "image/png": "[encoded data removed]",
      "text/latex": [
       "sol := $\\displaystyle \\left[ \\left\\{ \\tau_{1} : 3.3863699112572 \\cdot 10^{-8}, \\  \\tau_{2} : 3.38637021334638 \\cdot 10^{-8}, \\  \\tau_{3} : -2.732085, \\  \\tau_{4} : -2.732085\\right\\}\\right]$"
      ],
      "text/plain": [
       "sol := [{τ₁: 3.3863699112572e-8, τ₂: 3.38637021334638e-8, τ₃: -2.732085, τ₄: -2.73208\n",
       "5}]"
      ]
     },
     "metadata": {},
     "output_type": "display_data"
    },
    {
     "data": {
      "text/plain": [
       "---"
      ]
     },
     "metadata": {},
     "output_type": "display_data"
    }
   ],
   "source": [
    "symbs = list(res.s) ##:\n",
    "# do not use first equation of res as it adds redundancy (5 eqs for 4 quantities of tau)\n",
    "sol = sp.solve(res[1:], symbs, dict=True) ##:"
   ]
  },
  {
   "cell_type": "code",
   "execution_count": 64,
   "metadata": {},
   "outputs": [
    {
     "data": {
      "text/plain": [
       "ttheta0 := array([ 1.49999995e-01, -4.00000004e-01,  4.43002187e-08,  0.00000000e+00,  0.00000000e+00])"
      ]
     },
     "metadata": {},
     "output_type": "display_data"
    },
    {
     "data": {
      "text/plain": [
       "---"
      ]
     },
     "metadata": {},
     "output_type": "display_data"
    },
    {
     "data": {
      "text/plain": [
       "uu0 := array([ 3.38636991e-08,  3.38637021e-08, -2.73208500e+00, -2.73208500e+00])"
      ]
     },
     "metadata": {},
     "output_type": "display_data"
    },
    {
     "data": {
      "text/plain": [
       "---"
      ]
     },
     "metadata": {},
     "output_type": "display_data"
    }
   ],
   "source": [
    "ttheta0 = st.to_np(ttheta.subs(eqlbr_conditions).subs(sol[0])).squeeze() ##:\n",
    "\n",
    "uu0 = st.to_np(ttau.subs(eqlbr_conditions).subs(sol[0])).squeeze()##:"
   ]
  },
  {
   "cell_type": "markdown",
   "metadata": {},
   "source": [
    "# Trajectory planning\n",
    "The parametrization of $\\tau_2$ determines the highest required order $N_i$ of the flat output's derivatives. For each component of the flat output a trajectory $y_i$ can be chosen with a polynomial order of $\\alpha_i = 2 N_i + 1$ in compliance with the system's initial values."
   ]
  },
  {
   "cell_type": "code",
   "execution_count": 65,
   "metadata": {},
   "outputs": [
    {
     "data": {
      "image/png": "[encoded data removed]",
      "text/latex": [
       "(p10, p20, p30, q10) := $\\displaystyle \\left( 0.149999995042072, \\  -0.400000003717804, \\  4.43002186625421 \\cdot 10^{-8}, \\  0.0\\right)$"
      ],
      "text/plain": [
       "(p10, p20, p30, q10) := (0.14999999504207212, -0.4000000037178036, 4.430021866254207e-08, 0.0)"
      ]
     },
     "metadata": {},
     "output_type": "display_data"
    },
    {
     "data": {
      "text/plain": [
       "---"
      ]
     },
     "metadata": {},
     "output_type": "display_data"
    },
    {
     "data": {
      "image/png": "[encoded data removed]",
      "text/latex": [
       "(p1e, p2e, p3e, q1e) := $\\displaystyle \\left( -0.150000004957928, \\  -0.700000003717804, \\  -0.299999955699781, \\  -0.3\\right)$"
      ],
      "text/plain": [
       "(p1e, p2e, p3e, q1e) := (-0.15000000495792787, -0.7000000037178036, -0.29999995569978133, -0.3)"
      ]
     },
     "metadata": {},
     "output_type": "display_data"
    },
    {
     "data": {
      "text/plain": [
       "---"
      ]
     },
     "metadata": {},
     "output_type": "display_data"
    },
    {
     "data": {
      "image/png": "[encoded data removed]",
      "text/latex": [
       "p1_traj := $\\displaystyle - 2.10000000000002 \\cdot 10^{-8} t^{9} + 9.45000000000006 \\cdot 10^{-7} t^{8} - 1.62000000000001 \\cdot 10^{-5} t^{7} + 0.000126 t^{6} - 0.000377999999999999 t^{5} + 0.149999995042072$"
      ],
      "text/plain": [
       "p1_traj :=                        9                        8                        7    \n",
       "- 2.10000000000002e-8⋅t  + 9.45000000000006e-7⋅t  - 1.62000000000001e-5⋅t  + 0\n",
       "\n",
       "         6                         5                    \n",
       ".000126⋅t  - 0.000377999999999999⋅t  + 0.149999995042072"
      ]
     },
     "metadata": {},
     "output_type": "display_data"
    },
    {
     "data": {
      "text/plain": [
       "---"
      ]
     },
     "metadata": {},
     "output_type": "display_data"
    },
    {
     "data": {
      "image/png": "[encoded data removed]",
      "text/latex": [
       "p2_traj := $\\displaystyle - 2.10000000000002 \\cdot 10^{-8} t^{9} + 9.45000000000006 \\cdot 10^{-7} t^{8} - 1.62000000000001 \\cdot 10^{-5} t^{7} + 0.000126 t^{6} - 0.000377999999999999 t^{5} - 0.400000003717804$"
      ],
      "text/plain": [
       "p2_traj :=                        9                        8                        7    \n",
       "- 2.10000000000002e-8⋅t  + 9.45000000000006e-7⋅t  - 1.62000000000001e-5⋅t  + 0\n",
       "\n",
       "         6                         5                    \n",
       ".000126⋅t  - 0.000377999999999999⋅t  - 0.400000003717804"
      ]
     },
     "metadata": {},
     "output_type": "display_data"
    },
    {
     "data": {
      "text/plain": [
       "---"
      ]
     },
     "metadata": {},
     "output_type": "display_data"
    },
    {
     "data": {
      "image/png": "[encoded data removed]",
      "text/latex": [
       "p3_traj := $\\displaystyle - 2.10000000000002 \\cdot 10^{-8} t^{9} + 9.45000000000006 \\cdot 10^{-7} t^{8} - 1.62000000000001 \\cdot 10^{-5} t^{7} + 0.000126 t^{6} - 0.000377999999999999 t^{5} + 4.43002186625421 \\cdot 10^{-8}$"
      ],
      "text/plain": [
       "p3_traj :=                        9                        8                        7    \n",
       "- 2.10000000000002e-8⋅t  + 9.45000000000006e-7⋅t  - 1.62000000000001e-5⋅t  + 0\n",
       "\n",
       "         6                         5                      \n",
       ".000126⋅t  - 0.000377999999999999⋅t  + 4.43002186625421e-8"
      ]
     },
     "metadata": {},
     "output_type": "display_data"
    },
    {
     "data": {
      "text/plain": [
       "---"
      ]
     },
     "metadata": {},
     "output_type": "display_data"
    },
    {
     "data": {
      "image/png": "[encoded data removed]",
      "text/latex": [
       "q1_traj := $\\displaystyle - 1.8 \\cdot 10^{-5} t^{5} + 0.00045 t^{4} - 0.003 t^{3}$"
      ],
      "text/plain": [
       "q1_traj :=           5            4          3\n",
       "- 1.8e-5⋅t  + 0.00045⋅t  - 0.003⋅t "
      ]
     },
     "metadata": {},
     "output_type": "display_data"
    },
    {
     "data": {
      "text/plain": [
       "---"
      ]
     },
     "metadata": {},
     "output_type": "display_data"
    }
   ],
   "source": [
    "T0, T1 = 0, 10\n",
    "p10, p20, p30, q10 = ttheta0[:-1] ##:\n",
    "p1e, p2e, p3e, q1e = ttheta0[:-1] - 0.3 ##:\n",
    "# p10 = p10 + 0.2\n",
    "# p20 = p20 + 0.15\n",
    "# q10 = q10 + 0.15\n",
    "# p30 = p30 + 0.1\n",
    "# polynoms of order 9 (boundary conditions until 4th derivative due to usage of qddot2 later) for p_i\n",
    "p1_traj = st.condition_poly(t, (T0, p10, 0, 0, 0, 0), (T1, p1e, 0, 0, 0, 0)) ##:\n",
    "p2_traj = st.condition_poly(t, (T0, p20, 0, 0, 0, 0), (T1, p2e, 0, 0, 0, 0)) ##:\n",
    "p3_traj = st.condition_poly(t, (T0, p30, 0, 0, 0, 0), (T1, p3e, 0, 0, 0, 0)) ##:\n",
    "# polynoms of order 5 (boundary conditions until 2nd derivative) for q_1\n",
    "q1_traj = st.condition_poly(t, (T0, q10, 0, 0), (T1, q1e, 0, 0)) ##:\n",
    "# trajectory for q2 from flatness relations \n",
    "q2_traj = flat_q2.subz([p1, p2, p3, pddot1, pddot2, pddot3, q1], [p1_traj, p2_traj, p3_traj, p1_traj.diff(t, 2), p2_traj.diff(t, 2), p3_traj.diff(t, 2), q1_traj])\n",
    "q2_traj = q2_traj.subs(sys_params)"
   ]
  },
  {
   "cell_type": "markdown",
   "metadata": {},
   "source": [
    "Substitution of $\\mathbf{y}$ with trajectories into control inputs"
   ]
  },
  {
   "cell_type": "code",
   "execution_count": 66,
   "metadata": {},
   "outputs": [],
   "source": [
    "flat_quantities = [pr1, pr2, pr3, qr1, qr2,\n",
    "                   prdot1, prdot2, prdot3, qrdot1, qrdot2,\n",
    "                   prddot1, prddot2, prddot3, qrddot1, qrddot2,\n",
    "                   prdddot1, prdddot2, prdddot3, \n",
    "                   prddddot1, prddddot2, prddddot3]\n",
    "\n",
    "flat_quantities_wo_r = [p1, p2, p3, q1, q2,\n",
    "                       pdot1, pdot2, pdot3, qdot1, qdot2,\n",
    "                       pddot1, pddot2, pddot3, qddot1, qddot2,\n",
    "                       pdddot1, pdddot2, pdddot3, \n",
    "                       pddddot1, pddddot2, pddddot3]\n",
    "\n",
    "flat_quant_subs = [p1_traj, p2_traj, p3_traj, q1_traj, q2_traj,\n",
    "                   p1_traj.diff(t), p2_traj.diff(t), p3_traj.diff(t), q1_traj.diff(t), q2_traj.diff(t),\n",
    "                   p1_traj.diff(t, 2), p2_traj.diff(t, 2), p3_traj.diff(t, 2), q1_traj.diff(t, 2), q2_traj.diff(t, 2),\n",
    "                   p1_traj.diff(t, 3), p2_traj.diff(t, 3), p3_traj.diff(t, 3),\n",
    "                   p1_traj.diff(t, 4), p2_traj.diff(t, 4), p3_traj.diff(t, 4)]"
   ]
  },
  {
   "cell_type": "code",
   "execution_count": 67,
   "metadata": {},
   "outputs": [
    {
     "data": {
      "image/png": "[encoded data removed]",
      "text/latex": [
       "(set([*tau1_traj.s, *tau2_traj.s, *tau3_traj.s, *tau4_traj.s])) := $\\displaystyle \\left\\{J_{2}, g, l_{0}, m_{1}, m_{2}, m_{3}, pm_{1}, pm_{2}, pm_{3}, \\dot{pm}_{1}, \\dot{pm}_{2}, \\dot{pm}_{3}, qm_{1}, qm_{2}, \\dot{qm}_{1}, \\dot{qm}_{2}, s_{2}, t\\right\\}$"
      ],
      "text/plain": [
       "(set([*tau1_traj.s, *tau2_traj.s, *tau3_traj.s, *tau4_traj.s])) := {J₂, g, l₀, m₁, m₂, m₃, pm₁, pm₂, pm₃, pṁ₁, pṁ₂, pṁ₃, qm₁, qm₂, qṁ₁, qṁ₂,\n",
       " s₂, t}"
      ]
     },
     "metadata": {},
     "output_type": "display_data"
    },
    {
     "data": {
      "text/plain": [
       "---"
      ]
     },
     "metadata": {},
     "output_type": "display_data"
    },
    {
     "name": "stdout",
     "output_type": "stream",
     "text": [
      "CPU times: user 3min 46s, sys: 528 ms, total: 3min 47s\n",
      "Wall time: 3min 47s\n"
     ]
    }
   ],
   "source": [
    "%%time\n",
    "\n",
    "tau1_traj = qstat_tau1.subz(flat_quantities, flat_quant_subs)\n",
    "tau2_traj = qstat_tau2.subz(flat_quantities, flat_quant_subs)\n",
    "tau3_traj = qstat_tau3.subz(flat_quantities, flat_quant_subs)\n",
    "tau4_traj = qstat_tau4.subz(flat_quantities, flat_quant_subs)\n",
    "\n",
    "\n",
    "tau1_backup = flat_tau1_control.subz(flat_quantities, flat_quant_subs)\n",
    "tau2_backup = flat_tau2_control.subz(flat_quantities, flat_quant_subs)\n",
    "tau3_backup = flat_tau3_control.subz(flat_quantities, flat_quant_subs)\n",
    "tau4_backup = flat_tau4_control.subz(flat_quantities, flat_quant_subs)\n",
    "\n",
    "'''\n",
    "tau1_feedforward = flat_tau1.subz(flat_quantities_wo_r, flat_quant_subs)\n",
    "tau2_feedforward = flat_tau2.subz(flat_quantities_wo_r, flat_quant_subs)\n",
    "tau3_feedforward = flat_tau3.subz(flat_quantities_wo_r, flat_quant_subs)\n",
    "tau4_feedforward = flat_tau4.subz(flat_quantities_wo_r, flat_quant_subs)\n",
    "'''\n",
    "\n",
    "# verify that only constant system parameters, the time and measured quantities are included\n",
    "set([*tau1_traj.s, *tau2_traj.s, *tau3_traj.s, *tau4_traj.s]) ##:"
   ]
  },
  {
   "cell_type": "code",
   "execution_count": 68,
   "metadata": {},
   "outputs": [
    {
     "data": {
      "text/plain": [
       "'\\ntau1_feedforward_num = tau1_feedforward.subs(sys_params)\\ntau2_feedforward_num = tau2_feedforward.subs(sys_params)\\ntau3_feedforward_num = tau3_feedforward.subs(sys_params)\\ntau4_feedforward_num = tau4_feedforward.subs(sys_params)\\n'"
      ]
     },
     "execution_count": 68,
     "metadata": {},
     "output_type": "execute_result"
    }
   ],
   "source": [
    "tau1_traj_num = tau1_traj.subs(sys_params)\n",
    "tau2_traj_num = tau2_traj.subs(sys_params)\n",
    "tau3_traj_num = tau3_traj.subs(sys_params)\n",
    "tau4_traj_num = tau4_traj.subs(sys_params)\n",
    "\n",
    "tau1_backup_num = tau1_backup.subs(sys_params)\n",
    "tau2_backup_num = tau2_backup.subs(sys_params)\n",
    "tau3_backup_num = tau3_backup.subs(sys_params)\n",
    "tau4_backup_num = tau4_backup.subs(sys_params)\n",
    "\n",
    "'''\n",
    "tau1_feedforward_num = tau1_feedforward.subs(sys_params)\n",
    "tau2_feedforward_num = tau2_feedforward.subs(sys_params)\n",
    "tau3_feedforward_num = tau3_feedforward.subs(sys_params)\n",
    "tau4_feedforward_num = tau4_feedforward.subs(sys_params)\n",
    "'''"
   ]
  },
  {
   "cell_type": "code",
   "execution_count": 69,
   "metadata": {},
   "outputs": [
    {
     "data": {
      "text/plain": [
       "'\\ntau1_feedforward_func = st.expr_to_func(t, tau1_feedforward_num)\\ntau2_feedforward_func = st.expr_to_func(t, tau2_feedforward_num)\\ntau3_feedforward_func = st.expr_to_func(t, tau3_feedforward_num)\\ntau4_feedforward_func = st.expr_to_func(t, tau4_feedforward_num)\\n'"
      ]
     },
     "execution_count": 69,
     "metadata": {},
     "output_type": "execute_result"
    }
   ],
   "source": [
    "tau1_traj_func = st.expr_to_func([t, pm1, pm2, pm3, qm1, qm2, pmdot1, pmdot2, pmdot3, qmdot1, qmdot2], tau1_traj_num)\n",
    "tau2_traj_func = st.expr_to_func([t, pm1, pm2, pm3, qm1, qm2, pmdot1, pmdot2, pmdot3, qmdot1, qmdot2], tau2_traj_num)\n",
    "tau3_traj_func = st.expr_to_func([t, pm1, pm2, pm3, qm1, qm2, pmdot1, pmdot2, pmdot3, qmdot1, qmdot2], tau3_traj_num)\n",
    "tau4_traj_func = st.expr_to_func([t, pm1, pm2, pm3, qm1, qm2, pmdot1, pmdot2, pmdot3, qmdot1, qmdot2], tau4_traj_num)\n",
    "\n",
    "tau1_backup_func = st.expr_to_func([t, pm1, pm2, pm3, qm1, qm2, pmdot1, pmdot2, pmdot3, qmdot1, qmdot2], tau1_backup_num)\n",
    "tau2_backup_func = st.expr_to_func([t, pm1, pm2, pm3, qm1, qm2, pmdot1, pmdot2, pmdot3, qmdot1, qmdot2], tau2_backup_num)\n",
    "tau3_backup_func = st.expr_to_func([t, pm1, pm2, pm3, qm1, qm2, pmdot1, pmdot2, pmdot3, qmdot1, qmdot2], tau3_backup_num)\n",
    "tau4_backup_func = st.expr_to_func([t, pm1, pm2, pm3, qm1, qm2, pmdot1, pmdot2, pmdot3, qmdot1, qmdot2], tau4_backup_num)\n",
    "\n",
    "'''\n",
    "tau1_feedforward_func = st.expr_to_func(t, tau1_feedforward_num)\n",
    "tau2_feedforward_func = st.expr_to_func(t, tau2_feedforward_num)\n",
    "tau3_feedforward_func = st.expr_to_func(t, tau3_feedforward_num)\n",
    "tau4_feedforward_func = st.expr_to_func(t, tau4_feedforward_num)\n",
    "'''"
   ]
  },
  {
   "cell_type": "code",
   "execution_count": 70,
   "metadata": {},
   "outputs": [],
   "source": [
    "# dito for reference trajectories for later plotting\n",
    "p1_traj_func = st.expr_to_func(t, p1_traj)\n",
    "p2_traj_func = st.expr_to_func(t, p2_traj)\n",
    "p3_traj_func = st.expr_to_func(t, p3_traj)\n",
    "q1_traj_func = st.expr_to_func(t, q1_traj)\n",
    "q2_traj_func = st.expr_to_func(t, q2_traj)"
   ]
  },
  {
   "cell_type": "code",
   "execution_count": 71,
   "metadata": {},
   "outputs": [],
   "source": [
    "##### Analyse Problem der Definitionslücke \"0 / 0\""
   ]
  },
  {
   "cell_type": "code",
   "execution_count": 72,
   "metadata": {},
   "outputs": [],
   "source": [
    "qstat_tau = sp.Matrix([qstat_tau1, qstat_tau2, qstat_tau3, qstat_tau4])"
   ]
  },
  {
   "cell_type": "code",
   "execution_count": 73,
   "metadata": {},
   "outputs": [],
   "source": [
    "qstat_num_den = list(map(sp.core.expr.Expr.as_numer_denom, qstat_tau))\n",
    "qstat_num = [num_den[0] for num_den in qstat_num_den]\n",
    "qstat_den = [num_den[1] for num_den in qstat_num_den]"
   ]
  },
  {
   "cell_type": "code",
   "execution_count": 74,
   "metadata": {},
   "outputs": [],
   "source": [
    "qstat_num_subs = [subs.subz(flat_quantities, flat_quant_subs) for subs in qstat_num]\n",
    "qstat_num_subs = [subs.subz([*meas_states, *meas_states_d], [*ttheta, *tthetad]) \n",
    "                  for subs in qstat_num_subs]\n",
    "qstat_num_subs = [subs.subz(tthetad, npy.zeros(5))\n",
    "                  for subs in qstat_num_subs]"
   ]
  },
  {
   "cell_type": "code",
   "execution_count": 75,
   "metadata": {
    "scrolled": true
   },
   "outputs": [
    {
     "data": {
      "image/png": "[encoded data removed]",
      "text/latex": [
       "qstat_num_equil := $\\displaystyle \\left[ 0, \\  \\text{NaN}, \\  0, \\  0\\right]$"
      ],
      "text/plain": [
       "qstat_num_equil := [0, nan, 0, 0]"
      ]
     },
     "metadata": {},
     "output_type": "display_data"
    },
    {
     "data": {
      "text/plain": [
       "---"
      ]
     },
     "metadata": {},
     "output_type": "display_data"
    }
   ],
   "source": [
    "qstat_num_equil = [subs.subs(eqlbr_conditions).subs(sys_params).subs(t, 0)\n",
    "                   for subs in qstat_num_subs] ##:"
   ]
  },
  {
   "cell_type": "code",
   "execution_count": 76,
   "metadata": {},
   "outputs": [],
   "source": [
    "qstat_den_subs = [subs.subz(flat_quantities, flat_quant_subs) for subs in qstat_den]\n",
    "qstat_den_subs = [subs.subz([*meas_states, *meas_states_d], [*ttheta, *tthetad]) \n",
    "                  for subs in qstat_den_subs]\n",
    "qstat_den_subs = [subs.subz(tthetad, npy.zeros(5))\n",
    "                  for subs in qstat_den_subs]"
   ]
  },
  {
   "cell_type": "code",
   "execution_count": 77,
   "metadata": {},
   "outputs": [
    {
     "data": {
      "image/png": "[encoded data removed]",
      "text/latex": [
       "qstat_den_equil := $\\displaystyle \\left[ 1, \\  1, \\  1, \\  1\\right]$"
      ],
      "text/plain": [
       "qstat_den_equil := [1, 1, 1, 1]"
      ]
     },
     "metadata": {},
     "output_type": "display_data"
    },
    {
     "data": {
      "text/plain": [
       "---"
      ]
     },
     "metadata": {},
     "output_type": "display_data"
    }
   ],
   "source": [
    "qstat_den_equil = [subs.subs(eqlbr_conditions).subs(sys_params).subs(t, 0)\n",
    "                for subs in qstat_den_subs] ##:"
   ]
  },
  {
   "cell_type": "code",
   "execution_count": 78,
   "metadata": {},
   "outputs": [],
   "source": [
    "###########################"
   ]
  },
  {
   "cell_type": "markdown",
   "metadata": {},
   "source": [
    "# Simulation model"
   ]
  },
  {
   "cell_type": "code",
   "execution_count": 79,
   "metadata": {},
   "outputs": [
    {
     "data": {
      "image/png": "[encoded data removed]",
      "text/latex": [
       "$\\displaystyle \\left[\\begin{matrix}p_{1} & p_{2} & p_{3} & q_{1} & q_{2} & \\dot{p}_{1} & \\dot{p}_{2} & \\dot{p}_{3} & \\dot{q}_{1} & \\dot{q}_{2}\\end{matrix}\\right]$"
      ],
      "text/plain": [
       "[p₁  p₂  p₃  q₁  q₂  ṗ₁  ṗ₂  ṗ₃  q̇₁  q̇₂]"
      ]
     },
     "metadata": {},
     "output_type": "display_data"
    },
    {
     "data": {
      "text/plain": [
       "---"
      ]
     },
     "metadata": {},
     "output_type": "display_data"
    }
   ],
   "source": [
    "mod.xx ##T:"
   ]
  },
  {
   "cell_type": "code",
   "execution_count": 80,
   "metadata": {},
   "outputs": [],
   "source": [
    "sim = st.SimulationModel(mod.f, mod.g, mod.xx, model_parameters=sys_params)"
   ]
  },
  {
   "cell_type": "code",
   "execution_count": 81,
   "metadata": {},
   "outputs": [],
   "source": [
    "import math"
   ]
  },
  {
   "cell_type": "code",
   "execution_count": 96,
   "metadata": {},
   "outputs": [],
   "source": [
    "# control forces for stabilizing equilbrium\n",
    "uu1 = uu0\n",
    "def composite_force(x, t):\n",
    "    # friction constants\n",
    "    di = 10\n",
    "    dissipation1 = -di*x[8]\n",
    "    dissipation2 = -di*x[9]\n",
    "    control_force = 0\n",
    "    \n",
    "    forces = uu1 #+ [dissipation1, dissipation2, 0.0, 0.0]\n",
    "    return forces\n",
    "\n",
    "# control forces for driving feed forward trajectories\n",
    "def feed_forward_traj(x, t):   \n",
    "\n",
    "    u1 = tau1_traj_func(t, *x) \n",
    "    u2 = tau2_backup_func(t, *x) \n",
    "    u3 = tau3_backup_func(t, *x)\n",
    "    u4 = tau4_backup_func(t, *x)\n",
    "\n",
    "    if t>9.99:\n",
    "        u1 = tau1_backup_func(9.99, *x)\n",
    "        u2 = tau2_backup_func(9.99, *x)\n",
    "        u3 = tau3_backup_func(9.99, *x)\n",
    "        u4 = tau4_backup_func(9.99, *x)\n",
    "        \n",
    "    forces = [u1, u2, u3, u4]\n",
    "    return forces"
   ]
  },
  {
   "cell_type": "code",
   "execution_count": 97,
   "metadata": {
    "scrolled": true
   },
   "outputs": [
    {
     "name": "stderr",
     "output_type": "stream",
     "text": [
      "<lambdifygenerated-82>:2: RuntimeWarning: divide by zero encountered in double_scalars\n",
      "  return (-pmdot2 + pmdot2 - qmdot2 + qmdot2 + 6.66666666666667*(0.27*pm1**2*(-25*qm1 - 10*qmdot1 - 0.00045*t**5 + 0.01035*t**4 - 0.057*t**3 - 0.09*t**2 + t*(-0.00036*t**2 + 0.0054*t - 0.018))*sin(pm3) + 0.1671*pm1**2*(-25*pm1 - 10*pmdot1 - 5.25000000000004e-7*t**9 + 2.17350000000001e-5*t**8 - 0.000329400000000001*t**7 + 0.002016*t**6 - 0.00188999999999996*t**5 - 0.0189*t**4 + t**3*(-1.51200000000001e-6*t**4 + 5.29200000000004e-5*t**3 - 0.000680400000000003*t**2 + 0.00378000000000001*t - 0.00755999999999998) + 3.7499998760518)*sin(pm3) + 0.00910695*pm1**2*(-25*pm3 - 10*pmdot3 - 5.25000000000004e-7*t**9 + 2.17350000000001e-5*t**8 - 0.000329400000000001*t**7 + 0.002016*t**6 - 0.00188999999999996*t**5 - 0.0189*t**4 + t**3*(-1.51200000000001e-6*t**4 + 5.29200000000004e-5*t**3 - 0.000680400000000003*t**2 + 0.00378000000000001*t - 0.00755999999999998) + 1.10750546656355e-6) - 0.27*pm1*pm2*(-25*qm1 - 10*qmdot1 - 0.00045*t**5 + 0.01035*t**4 - 0.057*t**3 - 0.09*t**2 + t*(-0.00036*t**2 + 0.0054*t - 0.018))*cos(pm3) - 0.1671*pm1*pm2*(-25*pm1 - 10*pmdot1 - 5.25000000000004e-7*t**9 + 2.17350000000001e-5*t**8 - 0.000329400000000001*t**7 + 0.002016*t**6 - 0.00188999999999996*t**5 - 0.0189*t**4 + t**3*(-1.51200000000001e-6*t**4 + 5.29200000000004e-5*t**3 - 0.000680400000000003*t**2 + 0.00378000000000001*t - 0.00755999999999998) + 3.7499998760518)*cos(pm3) - 0.27*pm1*qm1*(-25*qm1 - 10*qmdot1 - 0.00045*t**5 + 0.01035*t**4 - 0.057*t**3 - 0.09*t**2 + t*(-0.00036*t**2 + 0.0054*t - 0.018))*sin(pm3) - 0.1671*pm1*qm1*(-25*pm1 - 10*pmdot1 - 5.25000000000004e-7*t**9 + 2.17350000000001e-5*t**8 - 0.000329400000000001*t**7 + 0.002016*t**6 - 0.00188999999999996*t**5 - 0.0189*t**4 + t**3*(-1.51200000000001e-6*t**4 + 5.29200000000004e-5*t**3 - 0.000680400000000003*t**2 + 0.00378000000000001*t - 0.00755999999999998) + 3.7499998760518)*sin(pm3) - 0.00910695*pm1*qm1*(-25*pm3 - 10*pmdot3 - 5.25000000000004e-7*t**9 + 2.17350000000001e-5*t**8 - 0.000329400000000001*t**7 + 0.002016*t**6 - 0.00188999999999996*t**5 - 0.0189*t**4 + t**3*(-1.51200000000001e-6*t**4 + 5.29200000000004e-5*t**3 - 0.000680400000000003*t**2 + 0.00378000000000001*t - 0.00755999999999998) + 1.10750546656355e-6) - 0.27*pm1*qm2*(-25*qm1 - 10*qmdot1 - 0.00045*t**5 + 0.01035*t**4 - 0.057*t**3 - 0.09*t**2 + t*(-0.00036*t**2 + 0.0054*t - 0.018))*sin(pm3) - 0.1671*pm1*qm2*(-25*pm1 - 10*pmdot1 - 5.25000000000004e-7*t**9 + 2.17350000000001e-5*t**8 - 0.000329400000000001*t**7 + 0.002016*t**6 - 0.00188999999999996*t**5 - 0.0189*t**4 + t**3*(-1.51200000000001e-6*t**4 + 5.29200000000004e-5*t**3 - 0.000680400000000003*t**2 + 0.00378000000000001*t - 0.00755999999999998) + 3.7499998760518)*sin(pm3) - 0.00910695*pm1*qm2*(-25*pm3 - 10*pmdot3 - 5.25000000000004e-7*t**9 + 2.17350000000001e-5*t**8 - 0.000329400000000001*t**7 + 0.002016*t**6 - 0.00188999999999996*t**5 - 0.0189*t**4 + t**3*(-1.51200000000001e-6*t**4 + 5.29200000000004e-5*t**3 - 0.000680400000000003*t**2 + 0.00378000000000001*t - 0.00755999999999998) + 1.10750546656355e-6) - 0.081*pm1*(-25*qm1 - 10*qmdot1 - 0.00045*t**5 + 0.01035*t**4 - 0.057*t**3 - 0.09*t**2 + t*(-0.00036*t**2 + 0.0054*t - 0.018))*sin(pm3) - 0.05013*pm1*(-25*pm1 - 10*pmdot1 - 5.25000000000004e-7*t**9 + 2.17350000000001e-5*t**8 - 0.000329400000000001*t**7 + 0.002016*t**6 - 0.00188999999999996*t**5 - 0.0189*t**4 + t**3*(-1.51200000000001e-6*t**4 + 5.29200000000004e-5*t**3 - 0.000680400000000003*t**2 + 0.00378000000000001*t - 0.00755999999999998) + 3.7499998760518)*sin(pm3) - 0.0125325*pm1*(-25*pm1 - 10*pmdot1 - 5.25000000000004e-7*t**9 + 2.17350000000001e-5*t**8 - 0.000329400000000001*t**7 + 0.002016*t**6 - 0.00188999999999996*t**5 - 0.0189*t**4 + t**3*(-1.51200000000001e-6*t**4 + 5.29200000000004e-5*t**3 - 0.000680400000000003*t**2 + 0.00378000000000001*t - 0.00755999999999998) + 3.7499998760518)*sin(2*pm3) - 0.002732085*pm1*(-25*pm3 - 10*pmdot3 - 5.25000000000004e-7*t**9 + 2.17350000000001e-5*t**8 - 0.000329400000000001*t**7 + 0.002016*t**6 - 0.00188999999999996*t**5 - 0.0189*t**4 + t**3*(-1.51200000000001e-6*t**4 + 5.29200000000004e-5*t**3 - 0.000680400000000003*t**2 + 0.00378000000000001*t - 0.00755999999999998) + 1.10750546656355e-6) + 0.135*pm2*qm1*(-25*qm1 - 10*qmdot1 - 0.00045*t**5 + 0.01035*t**4 - 0.057*t**3 - 0.09*t**2 + t*(-0.00036*t**2 + 0.0054*t - 0.018))*cos(pm3) + 0.1671*pm2*qm1*(-25*pm1 - 10*pmdot1 - 5.25000000000004e-7*t**9 + 2.17350000000001e-5*t**8 - 0.000329400000000001*t**7 + 0.002016*t**6 - 0.00188999999999996*t**5 - 0.0189*t**4 + t**3*(-1.51200000000001e-6*t**4 + 5.29200000000004e-5*t**3 - 0.000680400000000003*t**2 + 0.00378000000000001*t - 0.00755999999999998) + 3.7499998760518)*cos(pm3) + 0.135*pm2*qm2*(-25*qm1 - 10*qmdot1 - 0.00045*t**5 + 0.01035*t**4 - 0.057*t**3 - 0.09*t**2 + t*(-0.00036*t**2 + 0.0054*t - 0.018))*cos(pm3) + 0.0405*pm2*(-25*qm1 - 10*qmdot1 - 0.00045*t**5 + 0.01035*t**4 - 0.057*t**3 - 0.09*t**2 + t*(-0.00036*t**2 + 0.0054*t - 0.018))*cos(pm3) + 0.025065*pm2*(-25*pm1 - 10*pmdot1 - 5.25000000000004e-7*t**9 + 2.17350000000001e-5*t**8 - 0.000329400000000001*t**7 + 0.002016*t**6 - 0.00188999999999996*t**5 - 0.0189*t**4 + t**3*(-1.51200000000001e-6*t**4 + 5.29200000000004e-5*t**3 - 0.000680400000000003*t**2 + 0.00378000000000001*t - 0.00755999999999998) + 3.7499998760518)*cos(pm3)**2 + 0.27*qm1*qm2*(-25*qm1 - 10*qmdot1 - 0.00045*t**5 + 0.01035*t**4 - 0.057*t**3 - 0.09*t**2 + t*(-0.00036*t**2 + 0.0054*t - 0.018))*sin(pm3) + 0.1671*qm1*qm2*(-25*pm1 - 10*pmdot1 - 5.25000000000004e-7*t**9 + 2.17350000000001e-5*t**8 - 0.000329400000000001*t**7 + 0.002016*t**6 - 0.00188999999999996*t**5 - 0.0189*t**4 + t**3*(-1.51200000000001e-6*t**4 + 5.29200000000004e-5*t**3 - 0.000680400000000003*t**2 + 0.00378000000000001*t - 0.00755999999999998) + 3.7499998760518)*sin(pm3) + 0.00910695*qm1*qm2*(-25*pm3 - 10*pmdot3 - 5.25000000000004e-7*t**9 + 2.17350000000001e-5*t**8 - 0.000329400000000001*t**7 + 0.002016*t**6 - 0.00188999999999996*t**5 - 0.0189*t**4 + t**3*(-1.51200000000001e-6*t**4 + 5.29200000000004e-5*t**3 - 0.000680400000000003*t**2 + 0.00378000000000001*t - 0.00755999999999998) + 1.10750546656355e-6) + 0.081*qm1*(-25*qm1 - 10*qmdot1 - 0.00045*t**5 + 0.01035*t**4 - 0.057*t**3 - 0.09*t**2 + t*(-0.00036*t**2 + 0.0054*t - 0.018))*sin(pm3) - 0.010125*qm1*(-25*qm1 - 10*qmdot1 - 0.00045*t**5 + 0.01035*t**4 - 0.057*t**3 - 0.09*t**2 + t*(-0.00036*t**2 + 0.0054*t - 0.018))*sin(2*pm3) + 0.05013*qm1*(-25*pm1 - 10*pmdot1 - 5.25000000000004e-7*t**9 + 2.17350000000001e-5*t**8 - 0.000329400000000001*t**7 + 0.002016*t**6 - 0.00188999999999996*t**5 - 0.0189*t**4 + t**3*(-1.51200000000001e-6*t**4 + 5.29200000000004e-5*t**3 - 0.000680400000000003*t**2 + 0.00378000000000001*t - 0.00755999999999998) + 3.7499998760518)*sin(pm3) - 0.0013660425*qm1*(-25*pm3 - 10*pmdot3 - 5.25000000000004e-7*t**9 + 2.17350000000001e-5*t**8 - 0.000329400000000001*t**7 + 0.002016*t**6 - 0.00188999999999996*t**5 - 0.0189*t**4 + t**3*(-1.51200000000001e-6*t**4 + 5.29200000000004e-5*t**3 - 0.000680400000000003*t**2 + 0.00378000000000001*t - 0.00755999999999998) + 1.10750546656355e-6)*cos(pm3) + 0.002732085*qm1*(-25*pm3 - 10*pmdot3 - 5.25000000000004e-7*t**9 + 2.17350000000001e-5*t**8 - 0.000329400000000001*t**7 + 0.002016*t**6 - 0.00188999999999996*t**5 - 0.0189*t**4 + t**3*(-1.51200000000001e-6*t**4 + 5.29200000000004e-5*t**3 - 0.000680400000000003*t**2 + 0.00378000000000001*t - 0.00755999999999998) + 1.10750546656355e-6) + 0.010125*qm2*(-25*qm1 - 10*qmdot1 - 0.00045*t**5 + 0.01035*t**4 - 0.057*t**3 - 0.09*t**2 + t*(-0.00036*t**2 + 0.0054*t - 0.018))*sin(2*pm3) + 0.0125325*qm2*(-25*pm1 - 10*pmdot1 - 5.25000000000004e-7*t**9 + 2.17350000000001e-5*t**8 - 0.000329400000000001*t**7 + 0.002016*t**6 - 0.00188999999999996*t**5 - 0.0189*t**4 + t**3*(-1.51200000000001e-6*t**4 + 5.29200000000004e-5*t**3 - 0.000680400000000003*t**2 + 0.00378000000000001*t - 0.00755999999999998) + 3.7499998760518)*sin(2*pm3) + 0.0013660425*qm2*(-25*pm3 - 10*pmdot3 - 5.25000000000004e-7*t**9 + 2.17350000000001e-5*t**8 - 0.000329400000000001*t**7 + 0.002016*t**6 - 0.00188999999999996*t**5 - 0.0189*t**4 + t**3*(-1.51200000000001e-6*t**4 + 5.29200000000004e-5*t**3 - 0.000680400000000003*t**2 + 0.00378000000000001*t - 0.00755999999999998) + 1.10750546656355e-6)*cos(pm3) + 0.0030375*(-25*qm1 - 10*qmdot1 - 0.00045*t**5 + 0.01035*t**4 - 0.057*t**3 - 0.09*t**2 + t*(-0.00036*t**2 + 0.0054*t - 0.018))*sin(2*pm3) + 0.00375975*(-25*pm1 - 10*pmdot1 - 5.25000000000004e-7*t**9 + 2.17350000000001e-5*t**8 - 0.000329400000000001*t**7 + 0.002016*t**6 - 0.00188999999999996*t**5 - 0.0189*t**4 + t**3*(-1.51200000000001e-6*t**4 + 5.29200000000004e-5*t**3 - 0.000680400000000003*t**2 + 0.00378000000000001*t - 0.00755999999999998) + 3.7499998760518)*sin(2*pm3) - 0.000204906375*(-25*pm3 - 10*pmdot3 - 5.25000000000004e-7*t**9 + 2.17350000000001e-5*t**8 - 0.000329400000000001*t**7 + 0.002016*t**6 - 0.00188999999999996*t**5 - 0.0189*t**4 + t**3*(-1.51200000000001e-6*t**4 + 5.29200000000004e-5*t**3 - 0.000680400000000003*t**2 + 0.00378000000000001*t - 0.00755999999999998) + 1.10750546656355e-6)*cos(pm3)**2 + 0.00040981275*(-25*pm3 - 10*pmdot3 - 5.25000000000004e-7*t**9 + 2.17350000000001e-5*t**8 - 0.000329400000000001*t**7 + 0.002016*t**6 - 0.00188999999999996*t**5 - 0.0189*t**4 + t**3*(-1.51200000000001e-6*t**4 + 5.29200000000004e-5*t**3 - 0.000680400000000003*t**2 + 0.00378000000000001*t - 0.00755999999999998) + 1.10750546656355e-6)*cos(pm3))/(4*pm1**2*sin(pm3) - 4*pm1*pm2*cos(pm3) - 4*pm1*qm1*sin(pm3) - 4*pm1*qm2*sin(pm3) - 1.2*pm1*sin(pm3) + 2*pm2*qm1*cos(pm3) + 2*pm2*qm2*cos(pm3) + 0.6*pm2*cos(pm3) + 4*qm1*qm2*sin(pm3) + 1.2*qm1*sin(pm3) - 0.15*qm1*sin(2*pm3) + 0.15*qm2*sin(2*pm3) + 0.045*sin(2*pm3)))\n"
     ]
    }
   ],
   "source": [
    "rhs = sim.create_simfunction(controller_function=feed_forward_traj)"
   ]
  },
  {
   "cell_type": "code",
   "execution_count": 98,
   "metadata": {},
   "outputs": [
    {
     "data": {
      "text/plain": [
       "xx0 := array([ 1.49999995e-01, -4.00000004e-01,  4.43002187e-08,  0.00000000e+00,  0.00000000e+00,  0.00000000e+00, -0.00000000e+00,  0.00000000e+00,  0.00000000e+00,  0.00000000e+00])"
      ]
     },
     "metadata": {},
     "output_type": "display_data"
    },
    {
     "data": {
      "text/plain": [
       "---"
      ]
     },
     "metadata": {},
     "output_type": "display_data"
    }
   ],
   "source": [
    "xx0 = npy.concatenate((ttheta0, ttheta0*0)) ##:\n",
    "#xx0 += npy.array([0.05, 0, 0, 0, 0,     0, 0, 0, 0, 0])\n",
    "#xx0 += npy.array([0.1, -0.15, 0.15, 0.1, 0.05,     0, 0, 0, 0, 0])"
   ]
  },
  {
   "cell_type": "code",
   "execution_count": 99,
   "metadata": {},
   "outputs": [],
   "source": [
    "tt = npy.linspace(0, 10, 1000)"
   ]
  },
  {
   "cell_type": "code",
   "execution_count": 100,
   "metadata": {},
   "outputs": [
    {
     "data": {
      "text/plain": [
       "(tau1_traj_func(0, *xx0)) := array(-8.65751873e-16)"
      ]
     },
     "metadata": {},
     "output_type": "display_data"
    },
    {
     "data": {
      "text/plain": [
       "---"
      ]
     },
     "metadata": {},
     "output_type": "display_data"
    },
    {
     "data": {
      "text/plain": [
       "(tau2_traj_func(0, *xx0)) := array(1.04721298)"
      ]
     },
     "metadata": {},
     "output_type": "display_data"
    },
    {
     "data": {
      "text/plain": [
       "---"
      ]
     },
     "metadata": {},
     "output_type": "display_data"
    },
    {
     "data": {
      "text/plain": [
       "(tau3_traj_func(0, *xx0)) := array(6.98478847e-08)"
      ]
     },
     "metadata": {},
     "output_type": "display_data"
    },
    {
     "data": {
      "text/plain": [
       "---"
      ]
     },
     "metadata": {},
     "output_type": "display_data"
    },
    {
     "data": {
      "text/plain": [
       "(tau4_traj_func(0, *xx0)) := array(6.98478838e-08)"
      ]
     },
     "metadata": {},
     "output_type": "display_data"
    },
    {
     "data": {
      "text/plain": [
       "---"
      ]
     },
     "metadata": {},
     "output_type": "display_data"
    }
   ],
   "source": [
    "tau1_traj_func(0, *xx0) ##:\n",
    "tau2_traj_func(0, *xx0) ##:\n",
    "tau3_traj_func(0, *xx0) ##:\n",
    "tau4_traj_func(0, *xx0) ##:"
   ]
  },
  {
   "cell_type": "code",
   "execution_count": 101,
   "metadata": {
    "scrolled": false
   },
   "outputs": [
    {
     "data": {
      "text/plain": [
       "array([ 0.00000000e+00,  0.00000000e+00,  0.00000000e+00,  0.00000000e+00,  0.00000000e+00,  1.21593180e-07,  3.55271368e-15, -1.98951966e-13, -7.52526666e-08, -1.60421193e-07])"
      ]
     },
     "execution_count": 101,
     "metadata": {},
     "output_type": "execute_result"
    }
   ],
   "source": [
    "rhs(xx0, 0)"
   ]
  },
  {
   "cell_type": "code",
   "execution_count": 102,
   "metadata": {},
   "outputs": [
    {
     "name": "stderr",
     "output_type": "stream",
     "text": [
      "/home/wredi/.local/lib/python3.8/site-packages/scipy/integrate/odepack.py:247: ODEintWarning: Excess work done on this call (perhaps wrong Dfun type). Run with full_output = 1 to get quantitative information.\n",
      "  warnings.warn(warning_msg, ODEintWarning)\n"
     ]
    },
    {
     "data": {
      "text/plain": [
       "info(res) := \"<class 'numpy.ndarray'> with shape: (1000, 10)\""
      ]
     },
     "metadata": {},
     "output_type": "display_data"
    },
    {
     "data": {
      "text/plain": [
       "---"
      ]
     },
     "metadata": {},
     "output_type": "display_data"
    },
    {
     "name": "stdout",
     "output_type": "stream",
     "text": [
      "CPU times: user 50.2 s, sys: 27.1 s, total: 1min 17s\n",
      "Wall time: 25 s\n"
     ]
    }
   ],
   "source": [
    "%%time\n",
    "# solve_ivp is more modern, but the signature of rhs is taylored towards odeint\n",
    "res = sc_integrate.odeint(rhs, xx0, tt) ##:i"
   ]
  },
  {
   "cell_type": "code",
   "execution_count": 103,
   "metadata": {
    "scrolled": true
   },
   "outputs": [
    {
     "data": {
      "text/plain": [
       "array([ 1.49999995e-01, -4.00000004e-01,  4.43002187e-08,  0.00000000e+00,  0.00000000e+00,  0.00000000e+00, -0.00000000e+00,  0.00000000e+00,  0.00000000e+00,  0.00000000e+00])"
      ]
     },
     "execution_count": 103,
     "metadata": {},
     "output_type": "execute_result"
    }
   ],
   "source": [
    "res[0, :]"
   ]
  },
  {
   "cell_type": "code",
   "execution_count": 104,
   "metadata": {
    "scrolled": true
   },
   "outputs": [
    {
     "data": {
      "image/png": "[encoded data removed]",
      "text/latex": [
       "mean_err_trajp1 := $\\displaystyle 5.76452107906552 \\cdot 10^{248}$"
      ],
      "text/plain": [
       "mean_err_trajp1 := 5.764521079065524e+248"
      ]
     },
     "metadata": {},
     "output_type": "display_data"
    },
    {
     "data": {
      "text/plain": [
       "---"
      ]
     },
     "metadata": {},
     "output_type": "display_data"
    },
    {
     "data": {
      "image/png": "[encoded data removed]",
      "text/latex": [
       "mean_err_trajp2 := $\\displaystyle \\text{NaN}$"
      ],
      "text/plain": [
       "mean_err_trajp2 := nan"
      ]
     },
     "metadata": {},
     "output_type": "display_data"
    },
    {
     "data": {
      "text/plain": [
       "---"
      ]
     },
     "metadata": {},
     "output_type": "display_data"
    },
    {
     "data": {
      "image/png": "[encoded data removed]",
      "text/latex": [
       "mean_err_trajp3 := $\\displaystyle \\text{NaN}$"
      ],
      "text/plain": [
       "mean_err_trajp3 := nan"
      ]
     },
     "metadata": {},
     "output_type": "display_data"
    },
    {
     "data": {
      "text/plain": [
       "---"
      ]
     },
     "metadata": {},
     "output_type": "display_data"
    },
    {
     "data": {
      "image/png": "[encoded data removed]",
      "text/latex": [
       "mean_err_trajq1 := $\\displaystyle \\text{NaN}$"
      ],
      "text/plain": [
       "mean_err_trajq1 := nan"
      ]
     },
     "metadata": {},
     "output_type": "display_data"
    },
    {
     "data": {
      "text/plain": [
       "---"
      ]
     },
     "metadata": {},
     "output_type": "display_data"
    },
    {
     "data": {
      "image/png": "[encoded data removed]",
      "text/latex": [
       "mean_err_trajq2 := $\\displaystyle 2.6095900313155 \\cdot 10^{301}$"
      ],
      "text/plain": [
       "mean_err_trajq2 := 2.6095900313155033e+301"
      ]
     },
     "metadata": {},
     "output_type": "display_data"
    },
    {
     "data": {
      "text/plain": [
       "---"
      ]
     },
     "metadata": {},
     "output_type": "display_data"
    }
   ],
   "source": [
    "# numeric trajs\n",
    "p1_num = st.expr_to_func(t, p1_traj)\n",
    "p2_num = st.expr_to_func(t, p2_traj)\n",
    "p3_num = st.expr_to_func(t, p3_traj)\n",
    "q1_num = st.expr_to_func(t, q1_traj)\n",
    "q2_num = st.expr_to_func(t, q2_traj)\n",
    "pdot1_num = st.expr_to_func(t, p1_traj.diff(t))\n",
    "pdot2_num = st.expr_to_func(t, p2_traj.diff(t))\n",
    "pdot3_num = st.expr_to_func(t, p3_traj.diff(t))\n",
    "qdot1_num = st.expr_to_func(t, q1_traj.diff(t))\n",
    "qdot2_num = st.expr_to_func(t, q2_traj.diff(t))\n",
    "# deviation of simulated and reference trajs\n",
    "err_trajp1 = res[:999, 0] - p1_num(tt[tt<10])\n",
    "err_trajp2 = res[:999, 1] - p2_num(tt[tt<10]) \n",
    "err_trajp3 = res[:999, 2] - p3_num(tt[tt<10]) \n",
    "err_trajq1 = res[:999, 3] - q1_num(tt[tt<10]) \n",
    "err_trajq2 = res[:999, 4] - q2_num(tt[tt<10])\n",
    "err_trajpdot1 = res[:999, 5] - pdot1_num(tt[tt<10])\n",
    "err_trajpdot2 = res[:999, 6] - pdot2_num(tt[tt<10]) \n",
    "err_trajpdot3 = res[:999, 7] - pdot3_num(tt[tt<10]) \n",
    "err_trajqdot1 = res[:999, 8] - qdot1_num(tt[tt<10])\n",
    "err_trajqdot2 = res[:999, 9] - qdot2_num(tt[tt<10]) \n",
    "# ... mean\n",
    "mean_err_trajp1 = npy.mean(abs(err_trajp1)) ##:\n",
    "mean_err_trajp2 = npy.mean(abs(err_trajp2)) ##:\n",
    "mean_err_trajp3 = npy.mean(abs(err_trajp3)) ##:\n",
    "mean_err_trajq1 = npy.mean(abs(err_trajq1)) ##:\n",
    "mean_err_trajq2 = npy.mean(abs(err_trajq2)) ##:"
   ]
  },
  {
   "cell_type": "code",
   "execution_count": 105,
   "metadata": {
    "scrolled": true
   },
   "outputs": [
    {
     "data": {
      "image/png": "[encoded data removed]",
      "text/latex": [
       "inf_err_trajp1 := $\\displaystyle 0.150000004958423$"
      ],
      "text/plain": [
       "inf_err_trajp1 := 0.15000000495842253"
      ]
     },
     "metadata": {},
     "output_type": "display_data"
    },
    {
     "data": {
      "text/plain": [
       "---"
      ]
     },
     "metadata": {},
     "output_type": "display_data"
    },
    {
     "data": {
      "image/png": "[encoded data removed]",
      "text/latex": [
       "inf_err_trajp2 := $\\displaystyle 0.700000003718299$"
      ],
      "text/plain": [
       "inf_err_trajp2 := 0.7000000037182985"
      ]
     },
     "metadata": {},
     "output_type": "display_data"
    },
    {
     "data": {
      "text/plain": [
       "---"
      ]
     },
     "metadata": {},
     "output_type": "display_data"
    },
    {
     "data": {
      "image/png": "[encoded data removed]",
      "text/latex": [
       "inf_err_trajp3 := $\\displaystyle 0.299999955700276$"
      ],
      "text/plain": [
       "inf_err_trajp3 := 0.2999999557002759"
      ]
     },
     "metadata": {},
     "output_type": "display_data"
    },
    {
     "data": {
      "text/plain": [
       "---"
      ]
     },
     "metadata": {},
     "output_type": "display_data"
    },
    {
     "data": {
      "image/png": "[encoded data removed]",
      "text/latex": [
       "inf_err_trajq1 := $\\displaystyle 0.3$"
      ],
      "text/plain": [
       "inf_err_trajq1 := 0.2999999999999998"
      ]
     },
     "metadata": {},
     "output_type": "display_data"
    },
    {
     "data": {
      "text/plain": [
       "---"
      ]
     },
     "metadata": {},
     "output_type": "display_data"
    }
   ],
   "source": [
    "# stationary difference:\n",
    "inf_err_trajp1 = abs(res[999, 0] - p1_num(10)) ##:\n",
    "inf_err_trajp2 = abs(res[999, 1] - p2_num(10)) ##:\n",
    "inf_err_trajp3 = abs(res[999, 2] - p3_num(10)) ##:\n",
    "inf_err_trajq1 = abs(res[999, 3] - q1_num(10)) ##:"
   ]
  },
  {
   "cell_type": "code",
   "execution_count": 106,
   "metadata": {
    "scrolled": true
   },
   "outputs": [
    {
     "name": "stderr",
     "output_type": "stream",
     "text": [
      "<lambdifygenerated-82>:2: RuntimeWarning: overflow encountered in double_scalars\n",
      "  return (-pmdot2 + pmdot2 - qmdot2 + qmdot2 + 6.66666666666667*(0.27*pm1**2*(-25*qm1 - 10*qmdot1 - 0.00045*t**5 + 0.01035*t**4 - 0.057*t**3 - 0.09*t**2 + t*(-0.00036*t**2 + 0.0054*t - 0.018))*sin(pm3) + 0.1671*pm1**2*(-25*pm1 - 10*pmdot1 - 5.25000000000004e-7*t**9 + 2.17350000000001e-5*t**8 - 0.000329400000000001*t**7 + 0.002016*t**6 - 0.00188999999999996*t**5 - 0.0189*t**4 + t**3*(-1.51200000000001e-6*t**4 + 5.29200000000004e-5*t**3 - 0.000680400000000003*t**2 + 0.00378000000000001*t - 0.00755999999999998) + 3.7499998760518)*sin(pm3) + 0.00910695*pm1**2*(-25*pm3 - 10*pmdot3 - 5.25000000000004e-7*t**9 + 2.17350000000001e-5*t**8 - 0.000329400000000001*t**7 + 0.002016*t**6 - 0.00188999999999996*t**5 - 0.0189*t**4 + t**3*(-1.51200000000001e-6*t**4 + 5.29200000000004e-5*t**3 - 0.000680400000000003*t**2 + 0.00378000000000001*t - 0.00755999999999998) + 1.10750546656355e-6) - 0.27*pm1*pm2*(-25*qm1 - 10*qmdot1 - 0.00045*t**5 + 0.01035*t**4 - 0.057*t**3 - 0.09*t**2 + t*(-0.00036*t**2 + 0.0054*t - 0.018))*cos(pm3) - 0.1671*pm1*pm2*(-25*pm1 - 10*pmdot1 - 5.25000000000004e-7*t**9 + 2.17350000000001e-5*t**8 - 0.000329400000000001*t**7 + 0.002016*t**6 - 0.00188999999999996*t**5 - 0.0189*t**4 + t**3*(-1.51200000000001e-6*t**4 + 5.29200000000004e-5*t**3 - 0.000680400000000003*t**2 + 0.00378000000000001*t - 0.00755999999999998) + 3.7499998760518)*cos(pm3) - 0.27*pm1*qm1*(-25*qm1 - 10*qmdot1 - 0.00045*t**5 + 0.01035*t**4 - 0.057*t**3 - 0.09*t**2 + t*(-0.00036*t**2 + 0.0054*t - 0.018))*sin(pm3) - 0.1671*pm1*qm1*(-25*pm1 - 10*pmdot1 - 5.25000000000004e-7*t**9 + 2.17350000000001e-5*t**8 - 0.000329400000000001*t**7 + 0.002016*t**6 - 0.00188999999999996*t**5 - 0.0189*t**4 + t**3*(-1.51200000000001e-6*t**4 + 5.29200000000004e-5*t**3 - 0.000680400000000003*t**2 + 0.00378000000000001*t - 0.00755999999999998) + 3.7499998760518)*sin(pm3) - 0.00910695*pm1*qm1*(-25*pm3 - 10*pmdot3 - 5.25000000000004e-7*t**9 + 2.17350000000001e-5*t**8 - 0.000329400000000001*t**7 + 0.002016*t**6 - 0.00188999999999996*t**5 - 0.0189*t**4 + t**3*(-1.51200000000001e-6*t**4 + 5.29200000000004e-5*t**3 - 0.000680400000000003*t**2 + 0.00378000000000001*t - 0.00755999999999998) + 1.10750546656355e-6) - 0.27*pm1*qm2*(-25*qm1 - 10*qmdot1 - 0.00045*t**5 + 0.01035*t**4 - 0.057*t**3 - 0.09*t**2 + t*(-0.00036*t**2 + 0.0054*t - 0.018))*sin(pm3) - 0.1671*pm1*qm2*(-25*pm1 - 10*pmdot1 - 5.25000000000004e-7*t**9 + 2.17350000000001e-5*t**8 - 0.000329400000000001*t**7 + 0.002016*t**6 - 0.00188999999999996*t**5 - 0.0189*t**4 + t**3*(-1.51200000000001e-6*t**4 + 5.29200000000004e-5*t**3 - 0.000680400000000003*t**2 + 0.00378000000000001*t - 0.00755999999999998) + 3.7499998760518)*sin(pm3) - 0.00910695*pm1*qm2*(-25*pm3 - 10*pmdot3 - 5.25000000000004e-7*t**9 + 2.17350000000001e-5*t**8 - 0.000329400000000001*t**7 + 0.002016*t**6 - 0.00188999999999996*t**5 - 0.0189*t**4 + t**3*(-1.51200000000001e-6*t**4 + 5.29200000000004e-5*t**3 - 0.000680400000000003*t**2 + 0.00378000000000001*t - 0.00755999999999998) + 1.10750546656355e-6) - 0.081*pm1*(-25*qm1 - 10*qmdot1 - 0.00045*t**5 + 0.01035*t**4 - 0.057*t**3 - 0.09*t**2 + t*(-0.00036*t**2 + 0.0054*t - 0.018))*sin(pm3) - 0.05013*pm1*(-25*pm1 - 10*pmdot1 - 5.25000000000004e-7*t**9 + 2.17350000000001e-5*t**8 - 0.000329400000000001*t**7 + 0.002016*t**6 - 0.00188999999999996*t**5 - 0.0189*t**4 + t**3*(-1.51200000000001e-6*t**4 + 5.29200000000004e-5*t**3 - 0.000680400000000003*t**2 + 0.00378000000000001*t - 0.00755999999999998) + 3.7499998760518)*sin(pm3) - 0.0125325*pm1*(-25*pm1 - 10*pmdot1 - 5.25000000000004e-7*t**9 + 2.17350000000001e-5*t**8 - 0.000329400000000001*t**7 + 0.002016*t**6 - 0.00188999999999996*t**5 - 0.0189*t**4 + t**3*(-1.51200000000001e-6*t**4 + 5.29200000000004e-5*t**3 - 0.000680400000000003*t**2 + 0.00378000000000001*t - 0.00755999999999998) + 3.7499998760518)*sin(2*pm3) - 0.002732085*pm1*(-25*pm3 - 10*pmdot3 - 5.25000000000004e-7*t**9 + 2.17350000000001e-5*t**8 - 0.000329400000000001*t**7 + 0.002016*t**6 - 0.00188999999999996*t**5 - 0.0189*t**4 + t**3*(-1.51200000000001e-6*t**4 + 5.29200000000004e-5*t**3 - 0.000680400000000003*t**2 + 0.00378000000000001*t - 0.00755999999999998) + 1.10750546656355e-6) + 0.135*pm2*qm1*(-25*qm1 - 10*qmdot1 - 0.00045*t**5 + 0.01035*t**4 - 0.057*t**3 - 0.09*t**2 + t*(-0.00036*t**2 + 0.0054*t - 0.018))*cos(pm3) + 0.1671*pm2*qm1*(-25*pm1 - 10*pmdot1 - 5.25000000000004e-7*t**9 + 2.17350000000001e-5*t**8 - 0.000329400000000001*t**7 + 0.002016*t**6 - 0.00188999999999996*t**5 - 0.0189*t**4 + t**3*(-1.51200000000001e-6*t**4 + 5.29200000000004e-5*t**3 - 0.000680400000000003*t**2 + 0.00378000000000001*t - 0.00755999999999998) + 3.7499998760518)*cos(pm3) + 0.135*pm2*qm2*(-25*qm1 - 10*qmdot1 - 0.00045*t**5 + 0.01035*t**4 - 0.057*t**3 - 0.09*t**2 + t*(-0.00036*t**2 + 0.0054*t - 0.018))*cos(pm3) + 0.0405*pm2*(-25*qm1 - 10*qmdot1 - 0.00045*t**5 + 0.01035*t**4 - 0.057*t**3 - 0.09*t**2 + t*(-0.00036*t**2 + 0.0054*t - 0.018))*cos(pm3) + 0.025065*pm2*(-25*pm1 - 10*pmdot1 - 5.25000000000004e-7*t**9 + 2.17350000000001e-5*t**8 - 0.000329400000000001*t**7 + 0.002016*t**6 - 0.00188999999999996*t**5 - 0.0189*t**4 + t**3*(-1.51200000000001e-6*t**4 + 5.29200000000004e-5*t**3 - 0.000680400000000003*t**2 + 0.00378000000000001*t - 0.00755999999999998) + 3.7499998760518)*cos(pm3)**2 + 0.27*qm1*qm2*(-25*qm1 - 10*qmdot1 - 0.00045*t**5 + 0.01035*t**4 - 0.057*t**3 - 0.09*t**2 + t*(-0.00036*t**2 + 0.0054*t - 0.018))*sin(pm3) + 0.1671*qm1*qm2*(-25*pm1 - 10*pmdot1 - 5.25000000000004e-7*t**9 + 2.17350000000001e-5*t**8 - 0.000329400000000001*t**7 + 0.002016*t**6 - 0.00188999999999996*t**5 - 0.0189*t**4 + t**3*(-1.51200000000001e-6*t**4 + 5.29200000000004e-5*t**3 - 0.000680400000000003*t**2 + 0.00378000000000001*t - 0.00755999999999998) + 3.7499998760518)*sin(pm3) + 0.00910695*qm1*qm2*(-25*pm3 - 10*pmdot3 - 5.25000000000004e-7*t**9 + 2.17350000000001e-5*t**8 - 0.000329400000000001*t**7 + 0.002016*t**6 - 0.00188999999999996*t**5 - 0.0189*t**4 + t**3*(-1.51200000000001e-6*t**4 + 5.29200000000004e-5*t**3 - 0.000680400000000003*t**2 + 0.00378000000000001*t - 0.00755999999999998) + 1.10750546656355e-6) + 0.081*qm1*(-25*qm1 - 10*qmdot1 - 0.00045*t**5 + 0.01035*t**4 - 0.057*t**3 - 0.09*t**2 + t*(-0.00036*t**2 + 0.0054*t - 0.018))*sin(pm3) - 0.010125*qm1*(-25*qm1 - 10*qmdot1 - 0.00045*t**5 + 0.01035*t**4 - 0.057*t**3 - 0.09*t**2 + t*(-0.00036*t**2 + 0.0054*t - 0.018))*sin(2*pm3) + 0.05013*qm1*(-25*pm1 - 10*pmdot1 - 5.25000000000004e-7*t**9 + 2.17350000000001e-5*t**8 - 0.000329400000000001*t**7 + 0.002016*t**6 - 0.00188999999999996*t**5 - 0.0189*t**4 + t**3*(-1.51200000000001e-6*t**4 + 5.29200000000004e-5*t**3 - 0.000680400000000003*t**2 + 0.00378000000000001*t - 0.00755999999999998) + 3.7499998760518)*sin(pm3) - 0.0013660425*qm1*(-25*pm3 - 10*pmdot3 - 5.25000000000004e-7*t**9 + 2.17350000000001e-5*t**8 - 0.000329400000000001*t**7 + 0.002016*t**6 - 0.00188999999999996*t**5 - 0.0189*t**4 + t**3*(-1.51200000000001e-6*t**4 + 5.29200000000004e-5*t**3 - 0.000680400000000003*t**2 + 0.00378000000000001*t - 0.00755999999999998) + 1.10750546656355e-6)*cos(pm3) + 0.002732085*qm1*(-25*pm3 - 10*pmdot3 - 5.25000000000004e-7*t**9 + 2.17350000000001e-5*t**8 - 0.000329400000000001*t**7 + 0.002016*t**6 - 0.00188999999999996*t**5 - 0.0189*t**4 + t**3*(-1.51200000000001e-6*t**4 + 5.29200000000004e-5*t**3 - 0.000680400000000003*t**2 + 0.00378000000000001*t - 0.00755999999999998) + 1.10750546656355e-6) + 0.010125*qm2*(-25*qm1 - 10*qmdot1 - 0.00045*t**5 + 0.01035*t**4 - 0.057*t**3 - 0.09*t**2 + t*(-0.00036*t**2 + 0.0054*t - 0.018))*sin(2*pm3) + 0.0125325*qm2*(-25*pm1 - 10*pmdot1 - 5.25000000000004e-7*t**9 + 2.17350000000001e-5*t**8 - 0.000329400000000001*t**7 + 0.002016*t**6 - 0.00188999999999996*t**5 - 0.0189*t**4 + t**3*(-1.51200000000001e-6*t**4 + 5.29200000000004e-5*t**3 - 0.000680400000000003*t**2 + 0.00378000000000001*t - 0.00755999999999998) + 3.7499998760518)*sin(2*pm3) + 0.0013660425*qm2*(-25*pm3 - 10*pmdot3 - 5.25000000000004e-7*t**9 + 2.17350000000001e-5*t**8 - 0.000329400000000001*t**7 + 0.002016*t**6 - 0.00188999999999996*t**5 - 0.0189*t**4 + t**3*(-1.51200000000001e-6*t**4 + 5.29200000000004e-5*t**3 - 0.000680400000000003*t**2 + 0.00378000000000001*t - 0.00755999999999998) + 1.10750546656355e-6)*cos(pm3) + 0.0030375*(-25*qm1 - 10*qmdot1 - 0.00045*t**5 + 0.01035*t**4 - 0.057*t**3 - 0.09*t**2 + t*(-0.00036*t**2 + 0.0054*t - 0.018))*sin(2*pm3) + 0.00375975*(-25*pm1 - 10*pmdot1 - 5.25000000000004e-7*t**9 + 2.17350000000001e-5*t**8 - 0.000329400000000001*t**7 + 0.002016*t**6 - 0.00188999999999996*t**5 - 0.0189*t**4 + t**3*(-1.51200000000001e-6*t**4 + 5.29200000000004e-5*t**3 - 0.000680400000000003*t**2 + 0.00378000000000001*t - 0.00755999999999998) + 3.7499998760518)*sin(2*pm3) - 0.000204906375*(-25*pm3 - 10*pmdot3 - 5.25000000000004e-7*t**9 + 2.17350000000001e-5*t**8 - 0.000329400000000001*t**7 + 0.002016*t**6 - 0.00188999999999996*t**5 - 0.0189*t**4 + t**3*(-1.51200000000001e-6*t**4 + 5.29200000000004e-5*t**3 - 0.000680400000000003*t**2 + 0.00378000000000001*t - 0.00755999999999998) + 1.10750546656355e-6)*cos(pm3)**2 + 0.00040981275*(-25*pm3 - 10*pmdot3 - 5.25000000000004e-7*t**9 + 2.17350000000001e-5*t**8 - 0.000329400000000001*t**7 + 0.002016*t**6 - 0.00188999999999996*t**5 - 0.0189*t**4 + t**3*(-1.51200000000001e-6*t**4 + 5.29200000000004e-5*t**3 - 0.000680400000000003*t**2 + 0.00378000000000001*t - 0.00755999999999998) + 1.10750546656355e-6)*cos(pm3))/(4*pm1**2*sin(pm3) - 4*pm1*pm2*cos(pm3) - 4*pm1*qm1*sin(pm3) - 4*pm1*qm2*sin(pm3) - 1.2*pm1*sin(pm3) + 2*pm2*qm1*cos(pm3) + 2*pm2*qm2*cos(pm3) + 0.6*pm2*cos(pm3) + 4*qm1*qm2*sin(pm3) + 1.2*qm1*sin(pm3) - 0.15*qm1*sin(2*pm3) + 0.15*qm2*sin(2*pm3) + 0.045*sin(2*pm3)))\n",
      "<lambdifygenerated-82>:2: RuntimeWarning: invalid value encountered in double_scalars\n",
      "  return (-pmdot2 + pmdot2 - qmdot2 + qmdot2 + 6.66666666666667*(0.27*pm1**2*(-25*qm1 - 10*qmdot1 - 0.00045*t**5 + 0.01035*t**4 - 0.057*t**3 - 0.09*t**2 + t*(-0.00036*t**2 + 0.0054*t - 0.018))*sin(pm3) + 0.1671*pm1**2*(-25*pm1 - 10*pmdot1 - 5.25000000000004e-7*t**9 + 2.17350000000001e-5*t**8 - 0.000329400000000001*t**7 + 0.002016*t**6 - 0.00188999999999996*t**5 - 0.0189*t**4 + t**3*(-1.51200000000001e-6*t**4 + 5.29200000000004e-5*t**3 - 0.000680400000000003*t**2 + 0.00378000000000001*t - 0.00755999999999998) + 3.7499998760518)*sin(pm3) + 0.00910695*pm1**2*(-25*pm3 - 10*pmdot3 - 5.25000000000004e-7*t**9 + 2.17350000000001e-5*t**8 - 0.000329400000000001*t**7 + 0.002016*t**6 - 0.00188999999999996*t**5 - 0.0189*t**4 + t**3*(-1.51200000000001e-6*t**4 + 5.29200000000004e-5*t**3 - 0.000680400000000003*t**2 + 0.00378000000000001*t - 0.00755999999999998) + 1.10750546656355e-6) - 0.27*pm1*pm2*(-25*qm1 - 10*qmdot1 - 0.00045*t**5 + 0.01035*t**4 - 0.057*t**3 - 0.09*t**2 + t*(-0.00036*t**2 + 0.0054*t - 0.018))*cos(pm3) - 0.1671*pm1*pm2*(-25*pm1 - 10*pmdot1 - 5.25000000000004e-7*t**9 + 2.17350000000001e-5*t**8 - 0.000329400000000001*t**7 + 0.002016*t**6 - 0.00188999999999996*t**5 - 0.0189*t**4 + t**3*(-1.51200000000001e-6*t**4 + 5.29200000000004e-5*t**3 - 0.000680400000000003*t**2 + 0.00378000000000001*t - 0.00755999999999998) + 3.7499998760518)*cos(pm3) - 0.27*pm1*qm1*(-25*qm1 - 10*qmdot1 - 0.00045*t**5 + 0.01035*t**4 - 0.057*t**3 - 0.09*t**2 + t*(-0.00036*t**2 + 0.0054*t - 0.018))*sin(pm3) - 0.1671*pm1*qm1*(-25*pm1 - 10*pmdot1 - 5.25000000000004e-7*t**9 + 2.17350000000001e-5*t**8 - 0.000329400000000001*t**7 + 0.002016*t**6 - 0.00188999999999996*t**5 - 0.0189*t**4 + t**3*(-1.51200000000001e-6*t**4 + 5.29200000000004e-5*t**3 - 0.000680400000000003*t**2 + 0.00378000000000001*t - 0.00755999999999998) + 3.7499998760518)*sin(pm3) - 0.00910695*pm1*qm1*(-25*pm3 - 10*pmdot3 - 5.25000000000004e-7*t**9 + 2.17350000000001e-5*t**8 - 0.000329400000000001*t**7 + 0.002016*t**6 - 0.00188999999999996*t**5 - 0.0189*t**4 + t**3*(-1.51200000000001e-6*t**4 + 5.29200000000004e-5*t**3 - 0.000680400000000003*t**2 + 0.00378000000000001*t - 0.00755999999999998) + 1.10750546656355e-6) - 0.27*pm1*qm2*(-25*qm1 - 10*qmdot1 - 0.00045*t**5 + 0.01035*t**4 - 0.057*t**3 - 0.09*t**2 + t*(-0.00036*t**2 + 0.0054*t - 0.018))*sin(pm3) - 0.1671*pm1*qm2*(-25*pm1 - 10*pmdot1 - 5.25000000000004e-7*t**9 + 2.17350000000001e-5*t**8 - 0.000329400000000001*t**7 + 0.002016*t**6 - 0.00188999999999996*t**5 - 0.0189*t**4 + t**3*(-1.51200000000001e-6*t**4 + 5.29200000000004e-5*t**3 - 0.000680400000000003*t**2 + 0.00378000000000001*t - 0.00755999999999998) + 3.7499998760518)*sin(pm3) - 0.00910695*pm1*qm2*(-25*pm3 - 10*pmdot3 - 5.25000000000004e-7*t**9 + 2.17350000000001e-5*t**8 - 0.000329400000000001*t**7 + 0.002016*t**6 - 0.00188999999999996*t**5 - 0.0189*t**4 + t**3*(-1.51200000000001e-6*t**4 + 5.29200000000004e-5*t**3 - 0.000680400000000003*t**2 + 0.00378000000000001*t - 0.00755999999999998) + 1.10750546656355e-6) - 0.081*pm1*(-25*qm1 - 10*qmdot1 - 0.00045*t**5 + 0.01035*t**4 - 0.057*t**3 - 0.09*t**2 + t*(-0.00036*t**2 + 0.0054*t - 0.018))*sin(pm3) - 0.05013*pm1*(-25*pm1 - 10*pmdot1 - 5.25000000000004e-7*t**9 + 2.17350000000001e-5*t**8 - 0.000329400000000001*t**7 + 0.002016*t**6 - 0.00188999999999996*t**5 - 0.0189*t**4 + t**3*(-1.51200000000001e-6*t**4 + 5.29200000000004e-5*t**3 - 0.000680400000000003*t**2 + 0.00378000000000001*t - 0.00755999999999998) + 3.7499998760518)*sin(pm3) - 0.0125325*pm1*(-25*pm1 - 10*pmdot1 - 5.25000000000004e-7*t**9 + 2.17350000000001e-5*t**8 - 0.000329400000000001*t**7 + 0.002016*t**6 - 0.00188999999999996*t**5 - 0.0189*t**4 + t**3*(-1.51200000000001e-6*t**4 + 5.29200000000004e-5*t**3 - 0.000680400000000003*t**2 + 0.00378000000000001*t - 0.00755999999999998) + 3.7499998760518)*sin(2*pm3) - 0.002732085*pm1*(-25*pm3 - 10*pmdot3 - 5.25000000000004e-7*t**9 + 2.17350000000001e-5*t**8 - 0.000329400000000001*t**7 + 0.002016*t**6 - 0.00188999999999996*t**5 - 0.0189*t**4 + t**3*(-1.51200000000001e-6*t**4 + 5.29200000000004e-5*t**3 - 0.000680400000000003*t**2 + 0.00378000000000001*t - 0.00755999999999998) + 1.10750546656355e-6) + 0.135*pm2*qm1*(-25*qm1 - 10*qmdot1 - 0.00045*t**5 + 0.01035*t**4 - 0.057*t**3 - 0.09*t**2 + t*(-0.00036*t**2 + 0.0054*t - 0.018))*cos(pm3) + 0.1671*pm2*qm1*(-25*pm1 - 10*pmdot1 - 5.25000000000004e-7*t**9 + 2.17350000000001e-5*t**8 - 0.000329400000000001*t**7 + 0.002016*t**6 - 0.00188999999999996*t**5 - 0.0189*t**4 + t**3*(-1.51200000000001e-6*t**4 + 5.29200000000004e-5*t**3 - 0.000680400000000003*t**2 + 0.00378000000000001*t - 0.00755999999999998) + 3.7499998760518)*cos(pm3) + 0.135*pm2*qm2*(-25*qm1 - 10*qmdot1 - 0.00045*t**5 + 0.01035*t**4 - 0.057*t**3 - 0.09*t**2 + t*(-0.00036*t**2 + 0.0054*t - 0.018))*cos(pm3) + 0.0405*pm2*(-25*qm1 - 10*qmdot1 - 0.00045*t**5 + 0.01035*t**4 - 0.057*t**3 - 0.09*t**2 + t*(-0.00036*t**2 + 0.0054*t - 0.018))*cos(pm3) + 0.025065*pm2*(-25*pm1 - 10*pmdot1 - 5.25000000000004e-7*t**9 + 2.17350000000001e-5*t**8 - 0.000329400000000001*t**7 + 0.002016*t**6 - 0.00188999999999996*t**5 - 0.0189*t**4 + t**3*(-1.51200000000001e-6*t**4 + 5.29200000000004e-5*t**3 - 0.000680400000000003*t**2 + 0.00378000000000001*t - 0.00755999999999998) + 3.7499998760518)*cos(pm3)**2 + 0.27*qm1*qm2*(-25*qm1 - 10*qmdot1 - 0.00045*t**5 + 0.01035*t**4 - 0.057*t**3 - 0.09*t**2 + t*(-0.00036*t**2 + 0.0054*t - 0.018))*sin(pm3) + 0.1671*qm1*qm2*(-25*pm1 - 10*pmdot1 - 5.25000000000004e-7*t**9 + 2.17350000000001e-5*t**8 - 0.000329400000000001*t**7 + 0.002016*t**6 - 0.00188999999999996*t**5 - 0.0189*t**4 + t**3*(-1.51200000000001e-6*t**4 + 5.29200000000004e-5*t**3 - 0.000680400000000003*t**2 + 0.00378000000000001*t - 0.00755999999999998) + 3.7499998760518)*sin(pm3) + 0.00910695*qm1*qm2*(-25*pm3 - 10*pmdot3 - 5.25000000000004e-7*t**9 + 2.17350000000001e-5*t**8 - 0.000329400000000001*t**7 + 0.002016*t**6 - 0.00188999999999996*t**5 - 0.0189*t**4 + t**3*(-1.51200000000001e-6*t**4 + 5.29200000000004e-5*t**3 - 0.000680400000000003*t**2 + 0.00378000000000001*t - 0.00755999999999998) + 1.10750546656355e-6) + 0.081*qm1*(-25*qm1 - 10*qmdot1 - 0.00045*t**5 + 0.01035*t**4 - 0.057*t**3 - 0.09*t**2 + t*(-0.00036*t**2 + 0.0054*t - 0.018))*sin(pm3) - 0.010125*qm1*(-25*qm1 - 10*qmdot1 - 0.00045*t**5 + 0.01035*t**4 - 0.057*t**3 - 0.09*t**2 + t*(-0.00036*t**2 + 0.0054*t - 0.018))*sin(2*pm3) + 0.05013*qm1*(-25*pm1 - 10*pmdot1 - 5.25000000000004e-7*t**9 + 2.17350000000001e-5*t**8 - 0.000329400000000001*t**7 + 0.002016*t**6 - 0.00188999999999996*t**5 - 0.0189*t**4 + t**3*(-1.51200000000001e-6*t**4 + 5.29200000000004e-5*t**3 - 0.000680400000000003*t**2 + 0.00378000000000001*t - 0.00755999999999998) + 3.7499998760518)*sin(pm3) - 0.0013660425*qm1*(-25*pm3 - 10*pmdot3 - 5.25000000000004e-7*t**9 + 2.17350000000001e-5*t**8 - 0.000329400000000001*t**7 + 0.002016*t**6 - 0.00188999999999996*t**5 - 0.0189*t**4 + t**3*(-1.51200000000001e-6*t**4 + 5.29200000000004e-5*t**3 - 0.000680400000000003*t**2 + 0.00378000000000001*t - 0.00755999999999998) + 1.10750546656355e-6)*cos(pm3) + 0.002732085*qm1*(-25*pm3 - 10*pmdot3 - 5.25000000000004e-7*t**9 + 2.17350000000001e-5*t**8 - 0.000329400000000001*t**7 + 0.002016*t**6 - 0.00188999999999996*t**5 - 0.0189*t**4 + t**3*(-1.51200000000001e-6*t**4 + 5.29200000000004e-5*t**3 - 0.000680400000000003*t**2 + 0.00378000000000001*t - 0.00755999999999998) + 1.10750546656355e-6) + 0.010125*qm2*(-25*qm1 - 10*qmdot1 - 0.00045*t**5 + 0.01035*t**4 - 0.057*t**3 - 0.09*t**2 + t*(-0.00036*t**2 + 0.0054*t - 0.018))*sin(2*pm3) + 0.0125325*qm2*(-25*pm1 - 10*pmdot1 - 5.25000000000004e-7*t**9 + 2.17350000000001e-5*t**8 - 0.000329400000000001*t**7 + 0.002016*t**6 - 0.00188999999999996*t**5 - 0.0189*t**4 + t**3*(-1.51200000000001e-6*t**4 + 5.29200000000004e-5*t**3 - 0.000680400000000003*t**2 + 0.00378000000000001*t - 0.00755999999999998) + 3.7499998760518)*sin(2*pm3) + 0.0013660425*qm2*(-25*pm3 - 10*pmdot3 - 5.25000000000004e-7*t**9 + 2.17350000000001e-5*t**8 - 0.000329400000000001*t**7 + 0.002016*t**6 - 0.00188999999999996*t**5 - 0.0189*t**4 + t**3*(-1.51200000000001e-6*t**4 + 5.29200000000004e-5*t**3 - 0.000680400000000003*t**2 + 0.00378000000000001*t - 0.00755999999999998) + 1.10750546656355e-6)*cos(pm3) + 0.0030375*(-25*qm1 - 10*qmdot1 - 0.00045*t**5 + 0.01035*t**4 - 0.057*t**3 - 0.09*t**2 + t*(-0.00036*t**2 + 0.0054*t - 0.018))*sin(2*pm3) + 0.00375975*(-25*pm1 - 10*pmdot1 - 5.25000000000004e-7*t**9 + 2.17350000000001e-5*t**8 - 0.000329400000000001*t**7 + 0.002016*t**6 - 0.00188999999999996*t**5 - 0.0189*t**4 + t**3*(-1.51200000000001e-6*t**4 + 5.29200000000004e-5*t**3 - 0.000680400000000003*t**2 + 0.00378000000000001*t - 0.00755999999999998) + 3.7499998760518)*sin(2*pm3) - 0.000204906375*(-25*pm3 - 10*pmdot3 - 5.25000000000004e-7*t**9 + 2.17350000000001e-5*t**8 - 0.000329400000000001*t**7 + 0.002016*t**6 - 0.00188999999999996*t**5 - 0.0189*t**4 + t**3*(-1.51200000000001e-6*t**4 + 5.29200000000004e-5*t**3 - 0.000680400000000003*t**2 + 0.00378000000000001*t - 0.00755999999999998) + 1.10750546656355e-6)*cos(pm3)**2 + 0.00040981275*(-25*pm3 - 10*pmdot3 - 5.25000000000004e-7*t**9 + 2.17350000000001e-5*t**8 - 0.000329400000000001*t**7 + 0.002016*t**6 - 0.00188999999999996*t**5 - 0.0189*t**4 + t**3*(-1.51200000000001e-6*t**4 + 5.29200000000004e-5*t**3 - 0.000680400000000003*t**2 + 0.00378000000000001*t - 0.00755999999999998) + 1.10750546656355e-6)*cos(pm3))/(4*pm1**2*sin(pm3) - 4*pm1*pm2*cos(pm3) - 4*pm1*qm1*sin(pm3) - 4*pm1*qm2*sin(pm3) - 1.2*pm1*sin(pm3) + 2*pm2*qm1*cos(pm3) + 2*pm2*qm2*cos(pm3) + 0.6*pm2*cos(pm3) + 4*qm1*qm2*sin(pm3) + 1.2*qm1*sin(pm3) - 0.15*qm1*sin(2*pm3) + 0.15*qm2*sin(2*pm3) + 0.045*sin(2*pm3)))\n",
      "<lambdifygenerated-82>:2: RuntimeWarning: divide by zero encountered in double_scalars\n",
      "  return (-pmdot2 + pmdot2 - qmdot2 + qmdot2 + 6.66666666666667*(0.27*pm1**2*(-25*qm1 - 10*qmdot1 - 0.00045*t**5 + 0.01035*t**4 - 0.057*t**3 - 0.09*t**2 + t*(-0.00036*t**2 + 0.0054*t - 0.018))*sin(pm3) + 0.1671*pm1**2*(-25*pm1 - 10*pmdot1 - 5.25000000000004e-7*t**9 + 2.17350000000001e-5*t**8 - 0.000329400000000001*t**7 + 0.002016*t**6 - 0.00188999999999996*t**5 - 0.0189*t**4 + t**3*(-1.51200000000001e-6*t**4 + 5.29200000000004e-5*t**3 - 0.000680400000000003*t**2 + 0.00378000000000001*t - 0.00755999999999998) + 3.7499998760518)*sin(pm3) + 0.00910695*pm1**2*(-25*pm3 - 10*pmdot3 - 5.25000000000004e-7*t**9 + 2.17350000000001e-5*t**8 - 0.000329400000000001*t**7 + 0.002016*t**6 - 0.00188999999999996*t**5 - 0.0189*t**4 + t**3*(-1.51200000000001e-6*t**4 + 5.29200000000004e-5*t**3 - 0.000680400000000003*t**2 + 0.00378000000000001*t - 0.00755999999999998) + 1.10750546656355e-6) - 0.27*pm1*pm2*(-25*qm1 - 10*qmdot1 - 0.00045*t**5 + 0.01035*t**4 - 0.057*t**3 - 0.09*t**2 + t*(-0.00036*t**2 + 0.0054*t - 0.018))*cos(pm3) - 0.1671*pm1*pm2*(-25*pm1 - 10*pmdot1 - 5.25000000000004e-7*t**9 + 2.17350000000001e-5*t**8 - 0.000329400000000001*t**7 + 0.002016*t**6 - 0.00188999999999996*t**5 - 0.0189*t**4 + t**3*(-1.51200000000001e-6*t**4 + 5.29200000000004e-5*t**3 - 0.000680400000000003*t**2 + 0.00378000000000001*t - 0.00755999999999998) + 3.7499998760518)*cos(pm3) - 0.27*pm1*qm1*(-25*qm1 - 10*qmdot1 - 0.00045*t**5 + 0.01035*t**4 - 0.057*t**3 - 0.09*t**2 + t*(-0.00036*t**2 + 0.0054*t - 0.018))*sin(pm3) - 0.1671*pm1*qm1*(-25*pm1 - 10*pmdot1 - 5.25000000000004e-7*t**9 + 2.17350000000001e-5*t**8 - 0.000329400000000001*t**7 + 0.002016*t**6 - 0.00188999999999996*t**5 - 0.0189*t**4 + t**3*(-1.51200000000001e-6*t**4 + 5.29200000000004e-5*t**3 - 0.000680400000000003*t**2 + 0.00378000000000001*t - 0.00755999999999998) + 3.7499998760518)*sin(pm3) - 0.00910695*pm1*qm1*(-25*pm3 - 10*pmdot3 - 5.25000000000004e-7*t**9 + 2.17350000000001e-5*t**8 - 0.000329400000000001*t**7 + 0.002016*t**6 - 0.00188999999999996*t**5 - 0.0189*t**4 + t**3*(-1.51200000000001e-6*t**4 + 5.29200000000004e-5*t**3 - 0.000680400000000003*t**2 + 0.00378000000000001*t - 0.00755999999999998) + 1.10750546656355e-6) - 0.27*pm1*qm2*(-25*qm1 - 10*qmdot1 - 0.00045*t**5 + 0.01035*t**4 - 0.057*t**3 - 0.09*t**2 + t*(-0.00036*t**2 + 0.0054*t - 0.018))*sin(pm3) - 0.1671*pm1*qm2*(-25*pm1 - 10*pmdot1 - 5.25000000000004e-7*t**9 + 2.17350000000001e-5*t**8 - 0.000329400000000001*t**7 + 0.002016*t**6 - 0.00188999999999996*t**5 - 0.0189*t**4 + t**3*(-1.51200000000001e-6*t**4 + 5.29200000000004e-5*t**3 - 0.000680400000000003*t**2 + 0.00378000000000001*t - 0.00755999999999998) + 3.7499998760518)*sin(pm3) - 0.00910695*pm1*qm2*(-25*pm3 - 10*pmdot3 - 5.25000000000004e-7*t**9 + 2.17350000000001e-5*t**8 - 0.000329400000000001*t**7 + 0.002016*t**6 - 0.00188999999999996*t**5 - 0.0189*t**4 + t**3*(-1.51200000000001e-6*t**4 + 5.29200000000004e-5*t**3 - 0.000680400000000003*t**2 + 0.00378000000000001*t - 0.00755999999999998) + 1.10750546656355e-6) - 0.081*pm1*(-25*qm1 - 10*qmdot1 - 0.00045*t**5 + 0.01035*t**4 - 0.057*t**3 - 0.09*t**2 + t*(-0.00036*t**2 + 0.0054*t - 0.018))*sin(pm3) - 0.05013*pm1*(-25*pm1 - 10*pmdot1 - 5.25000000000004e-7*t**9 + 2.17350000000001e-5*t**8 - 0.000329400000000001*t**7 + 0.002016*t**6 - 0.00188999999999996*t**5 - 0.0189*t**4 + t**3*(-1.51200000000001e-6*t**4 + 5.29200000000004e-5*t**3 - 0.000680400000000003*t**2 + 0.00378000000000001*t - 0.00755999999999998) + 3.7499998760518)*sin(pm3) - 0.0125325*pm1*(-25*pm1 - 10*pmdot1 - 5.25000000000004e-7*t**9 + 2.17350000000001e-5*t**8 - 0.000329400000000001*t**7 + 0.002016*t**6 - 0.00188999999999996*t**5 - 0.0189*t**4 + t**3*(-1.51200000000001e-6*t**4 + 5.29200000000004e-5*t**3 - 0.000680400000000003*t**2 + 0.00378000000000001*t - 0.00755999999999998) + 3.7499998760518)*sin(2*pm3) - 0.002732085*pm1*(-25*pm3 - 10*pmdot3 - 5.25000000000004e-7*t**9 + 2.17350000000001e-5*t**8 - 0.000329400000000001*t**7 + 0.002016*t**6 - 0.00188999999999996*t**5 - 0.0189*t**4 + t**3*(-1.51200000000001e-6*t**4 + 5.29200000000004e-5*t**3 - 0.000680400000000003*t**2 + 0.00378000000000001*t - 0.00755999999999998) + 1.10750546656355e-6) + 0.135*pm2*qm1*(-25*qm1 - 10*qmdot1 - 0.00045*t**5 + 0.01035*t**4 - 0.057*t**3 - 0.09*t**2 + t*(-0.00036*t**2 + 0.0054*t - 0.018))*cos(pm3) + 0.1671*pm2*qm1*(-25*pm1 - 10*pmdot1 - 5.25000000000004e-7*t**9 + 2.17350000000001e-5*t**8 - 0.000329400000000001*t**7 + 0.002016*t**6 - 0.00188999999999996*t**5 - 0.0189*t**4 + t**3*(-1.51200000000001e-6*t**4 + 5.29200000000004e-5*t**3 - 0.000680400000000003*t**2 + 0.00378000000000001*t - 0.00755999999999998) + 3.7499998760518)*cos(pm3) + 0.135*pm2*qm2*(-25*qm1 - 10*qmdot1 - 0.00045*t**5 + 0.01035*t**4 - 0.057*t**3 - 0.09*t**2 + t*(-0.00036*t**2 + 0.0054*t - 0.018))*cos(pm3) + 0.0405*pm2*(-25*qm1 - 10*qmdot1 - 0.00045*t**5 + 0.01035*t**4 - 0.057*t**3 - 0.09*t**2 + t*(-0.00036*t**2 + 0.0054*t - 0.018))*cos(pm3) + 0.025065*pm2*(-25*pm1 - 10*pmdot1 - 5.25000000000004e-7*t**9 + 2.17350000000001e-5*t**8 - 0.000329400000000001*t**7 + 0.002016*t**6 - 0.00188999999999996*t**5 - 0.0189*t**4 + t**3*(-1.51200000000001e-6*t**4 + 5.29200000000004e-5*t**3 - 0.000680400000000003*t**2 + 0.00378000000000001*t - 0.00755999999999998) + 3.7499998760518)*cos(pm3)**2 + 0.27*qm1*qm2*(-25*qm1 - 10*qmdot1 - 0.00045*t**5 + 0.01035*t**4 - 0.057*t**3 - 0.09*t**2 + t*(-0.00036*t**2 + 0.0054*t - 0.018))*sin(pm3) + 0.1671*qm1*qm2*(-25*pm1 - 10*pmdot1 - 5.25000000000004e-7*t**9 + 2.17350000000001e-5*t**8 - 0.000329400000000001*t**7 + 0.002016*t**6 - 0.00188999999999996*t**5 - 0.0189*t**4 + t**3*(-1.51200000000001e-6*t**4 + 5.29200000000004e-5*t**3 - 0.000680400000000003*t**2 + 0.00378000000000001*t - 0.00755999999999998) + 3.7499998760518)*sin(pm3) + 0.00910695*qm1*qm2*(-25*pm3 - 10*pmdot3 - 5.25000000000004e-7*t**9 + 2.17350000000001e-5*t**8 - 0.000329400000000001*t**7 + 0.002016*t**6 - 0.00188999999999996*t**5 - 0.0189*t**4 + t**3*(-1.51200000000001e-6*t**4 + 5.29200000000004e-5*t**3 - 0.000680400000000003*t**2 + 0.00378000000000001*t - 0.00755999999999998) + 1.10750546656355e-6) + 0.081*qm1*(-25*qm1 - 10*qmdot1 - 0.00045*t**5 + 0.01035*t**4 - 0.057*t**3 - 0.09*t**2 + t*(-0.00036*t**2 + 0.0054*t - 0.018))*sin(pm3) - 0.010125*qm1*(-25*qm1 - 10*qmdot1 - 0.00045*t**5 + 0.01035*t**4 - 0.057*t**3 - 0.09*t**2 + t*(-0.00036*t**2 + 0.0054*t - 0.018))*sin(2*pm3) + 0.05013*qm1*(-25*pm1 - 10*pmdot1 - 5.25000000000004e-7*t**9 + 2.17350000000001e-5*t**8 - 0.000329400000000001*t**7 + 0.002016*t**6 - 0.00188999999999996*t**5 - 0.0189*t**4 + t**3*(-1.51200000000001e-6*t**4 + 5.29200000000004e-5*t**3 - 0.000680400000000003*t**2 + 0.00378000000000001*t - 0.00755999999999998) + 3.7499998760518)*sin(pm3) - 0.0013660425*qm1*(-25*pm3 - 10*pmdot3 - 5.25000000000004e-7*t**9 + 2.17350000000001e-5*t**8 - 0.000329400000000001*t**7 + 0.002016*t**6 - 0.00188999999999996*t**5 - 0.0189*t**4 + t**3*(-1.51200000000001e-6*t**4 + 5.29200000000004e-5*t**3 - 0.000680400000000003*t**2 + 0.00378000000000001*t - 0.00755999999999998) + 1.10750546656355e-6)*cos(pm3) + 0.002732085*qm1*(-25*pm3 - 10*pmdot3 - 5.25000000000004e-7*t**9 + 2.17350000000001e-5*t**8 - 0.000329400000000001*t**7 + 0.002016*t**6 - 0.00188999999999996*t**5 - 0.0189*t**4 + t**3*(-1.51200000000001e-6*t**4 + 5.29200000000004e-5*t**3 - 0.000680400000000003*t**2 + 0.00378000000000001*t - 0.00755999999999998) + 1.10750546656355e-6) + 0.010125*qm2*(-25*qm1 - 10*qmdot1 - 0.00045*t**5 + 0.01035*t**4 - 0.057*t**3 - 0.09*t**2 + t*(-0.00036*t**2 + 0.0054*t - 0.018))*sin(2*pm3) + 0.0125325*qm2*(-25*pm1 - 10*pmdot1 - 5.25000000000004e-7*t**9 + 2.17350000000001e-5*t**8 - 0.000329400000000001*t**7 + 0.002016*t**6 - 0.00188999999999996*t**5 - 0.0189*t**4 + t**3*(-1.51200000000001e-6*t**4 + 5.29200000000004e-5*t**3 - 0.000680400000000003*t**2 + 0.00378000000000001*t - 0.00755999999999998) + 3.7499998760518)*sin(2*pm3) + 0.0013660425*qm2*(-25*pm3 - 10*pmdot3 - 5.25000000000004e-7*t**9 + 2.17350000000001e-5*t**8 - 0.000329400000000001*t**7 + 0.002016*t**6 - 0.00188999999999996*t**5 - 0.0189*t**4 + t**3*(-1.51200000000001e-6*t**4 + 5.29200000000004e-5*t**3 - 0.000680400000000003*t**2 + 0.00378000000000001*t - 0.00755999999999998) + 1.10750546656355e-6)*cos(pm3) + 0.0030375*(-25*qm1 - 10*qmdot1 - 0.00045*t**5 + 0.01035*t**4 - 0.057*t**3 - 0.09*t**2 + t*(-0.00036*t**2 + 0.0054*t - 0.018))*sin(2*pm3) + 0.00375975*(-25*pm1 - 10*pmdot1 - 5.25000000000004e-7*t**9 + 2.17350000000001e-5*t**8 - 0.000329400000000001*t**7 + 0.002016*t**6 - 0.00188999999999996*t**5 - 0.0189*t**4 + t**3*(-1.51200000000001e-6*t**4 + 5.29200000000004e-5*t**3 - 0.000680400000000003*t**2 + 0.00378000000000001*t - 0.00755999999999998) + 3.7499998760518)*sin(2*pm3) - 0.000204906375*(-25*pm3 - 10*pmdot3 - 5.25000000000004e-7*t**9 + 2.17350000000001e-5*t**8 - 0.000329400000000001*t**7 + 0.002016*t**6 - 0.00188999999999996*t**5 - 0.0189*t**4 + t**3*(-1.51200000000001e-6*t**4 + 5.29200000000004e-5*t**3 - 0.000680400000000003*t**2 + 0.00378000000000001*t - 0.00755999999999998) + 1.10750546656355e-6)*cos(pm3)**2 + 0.00040981275*(-25*pm3 - 10*pmdot3 - 5.25000000000004e-7*t**9 + 2.17350000000001e-5*t**8 - 0.000329400000000001*t**7 + 0.002016*t**6 - 0.00188999999999996*t**5 - 0.0189*t**4 + t**3*(-1.51200000000001e-6*t**4 + 5.29200000000004e-5*t**3 - 0.000680400000000003*t**2 + 0.00378000000000001*t - 0.00755999999999998) + 1.10750546656355e-6)*cos(pm3))/(4*pm1**2*sin(pm3) - 4*pm1*pm2*cos(pm3) - 4*pm1*qm1*sin(pm3) - 4*pm1*qm2*sin(pm3) - 1.2*pm1*sin(pm3) + 2*pm2*qm1*cos(pm3) + 2*pm2*qm2*cos(pm3) + 0.6*pm2*cos(pm3) + 4*qm1*qm2*sin(pm3) + 1.2*qm1*sin(pm3) - 0.15*qm1*sin(2*pm3) + 0.15*qm2*sin(2*pm3) + 0.045*sin(2*pm3)))\n"
     ]
    }
   ],
   "source": [
    "ttau_sim = list(map(feed_forward_traj, res[1:999, :] ,tt[1:999]))\n",
    "ttau1, ttau2, ttau3, ttau4 = zip(*ttau_sim)"
   ]
  },
  {
   "cell_type": "code",
   "execution_count": 107,
   "metadata": {
    "scrolled": false
   },
   "outputs": [
    {
     "data": {
      "text/plain": [
       "<matplotlib.legend.Legend at 0x7f90fa472a00>"
      ]
     },
     "execution_count": 107,
     "metadata": {},
     "output_type": "execute_result"
    },
    {
     "data": {
      "image/png": "[encoded data removed]",
      "text/plain": [
       "<Figure size 1800x1440 with 1 Axes>"
      ]
     },
     "metadata": {
      "needs_background": "light"
     },
     "output_type": "display_data"
    }
   ],
   "source": [
    "plt.plot(tt[1:900], ttau1[1:900], label=\"tau1\")\n",
    "plt.plot(tt[1:900], ttau2[1:900], label=\"tau2\")\n",
    "plt.plot(tt[1:900], ttau3[1:900], label=\"tau3\")\n",
    "plt.plot(tt[1:900], ttau4[1:900], label=\"tau4\")\n",
    "plt.legend()"
   ]
  },
  {
   "cell_type": "code",
   "execution_count": 108,
   "metadata": {
    "scrolled": false
   },
   "outputs": [
    {
     "data": {
      "image/png": "[encoded data removed]",
      "text/plain": [
       "<Figure size 1800x1440 with 2 Axes>"
      ]
     },
     "metadata": {
      "needs_background": "light"
     },
     "output_type": "display_data"
    }
   ],
   "source": [
    "plt.rcParams['figure.figsize'] = [25, 20]\n",
    "fig, axs = plt.subplots(2, 1)\n",
    "plt.subplots_adjust(hspace = 0.3)\n",
    "\n",
    "axs[0].plot(tt[:1000], res[:1000, 0], '#1f77b4', label=r'$p_{1}$', linewidth=4.0)\n",
    "axs[0].plot(tt[:1000], res[:1000, 1], '#ff7f0e', label=r'$p_{2}$', linewidth=4.0)\n",
    "axs[0].plot(tt[:1000], res[:1000, 2], '#2ca02c', label=r'$p_{3}$', linewidth=4.0)\n",
    "axs[0].plot(tt[:1000], p1_traj_func(tt[:1000]), '#1f77b4', linestyle='--', label=r'$p_{1,ref}$', linewidth=4.0)\n",
    "axs[0].plot(tt[:1000], p2_traj_func(tt[:1000]), '#ff7f0e', linestyle='--', label=r'$p_{2,ref}$', linewidth=4.0)\n",
    "axs[0].plot(tt[:1000], p3_traj_func(tt[:1000]), '#2ca02c', linestyle='--', label=r'$p_{3,ref}$', linewidth=4.0)\n",
    "\n",
    "axs[0].legend(prop={'size': 15})\n",
    "axs[0].set_title('trajectories of load coordinates', fontsize=20)\n",
    "axs[0].set_xlabel('$t$', fontsize=20)\n",
    "axs[0].set_ylabel('$p_1, p_2, p_3$', fontsize=20)\n",
    "\n",
    "axs[1].plot(tt[:1000], res[:1000, 3], '#d62728', label=r'$q_{1}$', linewidth=4.0)\n",
    "axs[1].plot(tt[:1000], res[:1000, 4], '#9467bd', label=r'$q_{2}$', linewidth=4.0)\n",
    "axs[1].plot(tt[:1000], q1_traj_func(tt[:1000]), '#d62728', linestyle='--', label=r'$q_{1,ref}$', linewidth=4.0)\n",
    "axs[1].plot(tt[:1000], q2_traj_func(tt[:1000]), '#9467bd', linestyle='--', label=r'$q_{2,ref}$', linewidth=4.0)\n",
    "\n",
    "axs[1].legend(prop={'size': 15})\n",
    "axs[1].set_title('trajectories of gantry coordinates', fontsize=20)\n",
    "axs[1].set_xlabel('$t$', fontsize=20)\n",
    "axs[1].set_ylabel('$q_1, q_2$', fontsize=20)\n",
    "\n",
    "plt.show()"
   ]
  },
  {
   "cell_type": "markdown",
   "metadata": {},
   "source": [
    "### Stability analysis of current trajectories"
   ]
  },
  {
   "cell_type": "code",
   "execution_count": 322,
   "metadata": {},
   "outputs": [],
   "source": [
    "xref, error, errord = sp.symbols('x_{ref} e_x \\dot{e}_x')"
   ]
  },
  {
   "cell_type": "code",
   "execution_count": 323,
   "metadata": {},
   "outputs": [
    {
     "data": {
      "text/latex": [
       "eetheta.T := $\\displaystyle \\left[\\begin{matrix}e_{1} & e_{2} & e_{3} & e_{4} & e_{5}\\end{matrix}\\right]$"
      ],
      "text/plain": [
       "eetheta.T := [e₁  e₂  e₃  e₄  e₅]"
      ]
     },
     "metadata": {},
     "output_type": "display_data"
    },
    {
     "data": {
      "text/plain": [
       "---"
      ]
     },
     "metadata": {},
     "output_type": "display_data"
    },
    {
     "data": {
      "text/latex": [
       "eethetad.T := $\\displaystyle \\left[\\begin{matrix}\\dot{e}_{1} & \\dot{e}_{2} & \\dot{e}_{3} & \\dot{e}_{4} & \\dot{e}_{5}\\end{matrix}\\right]$"
      ],
      "text/plain": [
       "eethetad.T := [ė₁  ė₂  ė₃  ė₄  ė₅]"
      ]
     },
     "metadata": {},
     "output_type": "display_data"
    },
    {
     "data": {
      "text/plain": [
       "---"
      ]
     },
     "metadata": {},
     "output_type": "display_data"
    },
    {
     "data": {
      "text/latex": [
       "eethetadd.T := $\\displaystyle \\left[\\begin{matrix}\\ddot{e}_{1} & \\ddot{e}_{2} & \\ddot{e}_{3} & \\ddot{e}_{4} & \\ddot{e}_{5}\\end{matrix}\\right]$"
      ],
      "text/plain": [
       "eethetadd.T := [ë₁  ë₂  ë₃  ë₄  ë₅]"
      ]
     },
     "metadata": {},
     "output_type": "display_data"
    },
    {
     "data": {
      "text/plain": [
       "---"
      ]
     },
     "metadata": {},
     "output_type": "display_data"
    },
    {
     "data": {
      "text/latex": [
       "xxref.T := $\\displaystyle \\left[\\begin{matrix}pr_{1} & pr_{2} & pr_{3} & qr_{1} & qr_{2} & \\dot{pr}_{1} & \\dot{pr}_{2} & \\dot{pr}_{3} & \\dot{qr}_{1} & \\dot{qr}_{2}\\end{matrix}\\right]$"
      ],
      "text/plain": [
       "xxref.T := [pr₁  pr₂  pr₃  qr₁  qr₂  pṙ₁  pṙ₂  pṙ₃  qṙ₁  qṙ₂]"
      ]
     },
     "metadata": {},
     "output_type": "display_data"
    },
    {
     "data": {
      "text/plain": [
       "---"
      ]
     },
     "metadata": {},
     "output_type": "display_data"
    },
    {
     "data": {
      "text/latex": [
       "xxrefd.T := $\\displaystyle \\left[\\begin{matrix}\\dot{pr}_{1} & \\dot{pr}_{2} & \\dot{pr}_{3} & \\dot{qr}_{1} & \\dot{qr}_{2} & \\ddot{pr}_{1} & \\ddot{pr}_{2} & \\ddot{pr}_{3} & \\ddot{qr}_{1} & \\ddot{qr}_{2}\\end{matrix}\\right]$"
      ],
      "text/plain": [
       "xxrefd.T := [pṙ₁  pṙ₂  pṙ₃  qṙ₁  qṙ₂  pr̈₁  pr̈₂  pr̈₃  qr̈₁  qr̈₂]"
      ]
     },
     "metadata": {},
     "output_type": "display_data"
    },
    {
     "data": {
      "text/plain": [
       "---"
      ]
     },
     "metadata": {},
     "output_type": "display_data"
    },
    {
     "data": {
      "text/latex": [
       "eerror.T := $\\displaystyle \\left[\\begin{matrix}e_{1} & e_{2} & e_{3} & e_{4} & e_{5} & \\dot{e}_{1} & \\dot{e}_{2} & \\dot{e}_{3} & \\dot{e}_{4} & \\dot{e}_{5}\\end{matrix}\\right]$"
      ],
      "text/plain": [
       "eerror.T := [e₁  e₂  e₃  e₄  e₅  ė₁  ė₂  ė₃  ė₄  ė₅]"
      ]
     },
     "metadata": {},
     "output_type": "display_data"
    },
    {
     "data": {
      "text/plain": [
       "---"
      ]
     },
     "metadata": {},
     "output_type": "display_data"
    },
    {
     "data": {
      "text/latex": [
       "eerrord.T := $\\displaystyle \\left[\\begin{matrix}\\dot{e}_{1} & \\dot{e}_{2} & \\dot{e}_{3} & \\dot{e}_{4} & \\dot{e}_{5} & \\ddot{e}_{1} & \\ddot{e}_{2} & \\ddot{e}_{3} & \\ddot{e}_{4} & \\ddot{e}_{5}\\end{matrix}\\right]$"
      ],
      "text/plain": [
       "eerrord.T := [ė₁  ė₂  ė₃  ė₄  ė₅  ë₁  ë₂  ë₃  ë₄  ë₅]"
      ]
     },
     "metadata": {},
     "output_type": "display_data"
    },
    {
     "data": {
      "text/plain": [
       "---"
      ]
     },
     "metadata": {},
     "output_type": "display_data"
    }
   ],
   "source": [
    "eetheta = st.symb_vector(\"e1:{0}\".format(len(ttheta)+1)) ##:T\n",
    "eethetad = st.time_deriv(eetheta, eetheta, order=1) ##:T \n",
    "eethetadd = st.time_deriv(eetheta, eetheta, order=2) ##:T \n",
    "\n",
    "xxref = st.row_stack(ref_states, ref_states_d) ##:T\n",
    "xxrefd = st.row_stack(ref_states_d, ref_states_dd) ##:T\n",
    "eerror = st.row_stack(eetheta, eethetad) ##:T\n",
    "eerrord = st.row_stack(eethetad, eethetadd) ##:T\n",
    "\n",
    "st.make_global(xxref, xxrefd, eerror, eerrord)"
   ]
  },
  {
   "cell_type": "code",
   "execution_count": 325,
   "metadata": {},
   "outputs": [],
   "source": [
    "# place current controller functions here:\n",
    "tau_control = sp.Matrix([flat_tau1_control_pseudo, flat_tau2_control_pseudo, flat_tau3_control_pseudo, flat_tau4_control_pseudo])"
   ]
  },
  {
   "cell_type": "code",
   "execution_count": 326,
   "metadata": {},
   "outputs": [],
   "source": [
    "xx = eerror + xxref\n",
    "ffex = mod.f.subz([*ttheta, *tthetad], [*xx]).smplf + mod.g.subz([*ttheta, *tthetad], [*xx]).smplf * tau_control.subz([*meas_states, *meas_states_d], [*xx]) - xxrefd"
   ]
  },
  {
   "cell_type": "code",
   "execution_count": 327,
   "metadata": {},
   "outputs": [],
   "source": [
    "P = sp.eye(10)\n",
    "Vdot = (xx.T * P * ffex)[0] ## = w(ex, t)"
   ]
  },
  {
   "cell_type": "code",
   "execution_count": 328,
   "metadata": {},
   "outputs": [],
   "source": [
    "ffex0 = ffex.subz0(eerror)"
   ]
  },
  {
   "cell_type": "code",
   "execution_count": 329,
   "metadata": {},
   "outputs": [
    {
     "data": {
      "text/latex": [
       "$\\displaystyle \\left[\\begin{matrix}0\\\\0\\\\0\\\\0\\\\0\\\\3693\\\\3691\\\\3705\\\\3737\\\\3729\\end{matrix}\\right]$"
      ],
      "text/plain": [
       "⎡ 0  ⎤\n",
       "⎢    ⎥\n",
       "⎢ 0  ⎥\n",
       "⎢    ⎥\n",
       "⎢ 0  ⎥\n",
       "⎢    ⎥\n",
       "⎢ 0  ⎥\n",
       "⎢    ⎥\n",
       "⎢ 0  ⎥\n",
       "⎢    ⎥\n",
       "⎢3693⎥\n",
       "⎢    ⎥\n",
       "⎢3691⎥\n",
       "⎢    ⎥\n",
       "⎢3705⎥\n",
       "⎢    ⎥\n",
       "⎢3737⎥\n",
       "⎢    ⎥\n",
       "⎣3729⎦"
      ]
     },
     "execution_count": 329,
     "metadata": {},
     "output_type": "execute_result"
    }
   ],
   "source": [
    "ffex0.co"
   ]
  },
  {
   "cell_type": "code",
   "execution_count": 330,
   "metadata": {},
   "outputs": [],
   "source": [
    "jacobi = ffex.jacobian(eerror)\n",
    "jacobi0 = jacobi.subz0(eerror)"
   ]
  },
  {
   "cell_type": "code",
   "execution_count": 331,
   "metadata": {},
   "outputs": [
    {
     "data": {
      "image/png": "[encoded data removed]",
      "text/latex": [
       "(jacobi0.s) := $\\displaystyle \\left\\{J_{2}, g, l_{0}, m_{1}, m_{2}, m_{3}, pr_{1}, pr_{2}, pr_{3}, \\ddot{pr}_{1}, \\ddot{pr}_{2}, \\ddot{pr}_{3}, qr_{1}, qr_{2}, s_{2}\\right\\}$"
      ],
      "text/plain": [
       "(jacobi0.s) := {J₂, g, l₀, m₁, m₂, m₃, pr₁, pr₂, pr₃, pr̈₁, pr̈₂, pr̈₃, qr₁, qr₂, s₂}"
      ]
     },
     "metadata": {},
     "output_type": "display_data"
    },
    {
     "data": {
      "text/plain": [
       "---"
      ]
     },
     "metadata": {},
     "output_type": "display_data"
    },
    {
     "data": {
      "text/latex": [
       "(jacobi0.co) := $\\displaystyle \\left[\\begin{matrix}0 & 0 & 0 & 0 & 0 & 1 & 0 & 0 & 0 & 0\\\\0 & 0 & 0 & 0 & 0 & 0 & 1 & 0 & 0 & 0\\\\0 & 0 & 0 & 0 & 0 & 0 & 0 & 1 & 0 & 0\\\\0 & 0 & 0 & 0 & 0 & 0 & 0 & 0 & 1 & 0\\\\0 & 0 & 0 & 0 & 0 & 0 & 0 & 0 & 0 & 1\\\\8635 & 4949 & 8675 & 3694 & 3681 & 1254 & 1251 & 1268 & 0 & 0\\\\4948 & 8624 & 8669 & 1853 & 1847 & 1251 & 1248 & 1265 & 0 & 0\\\\8665 & 8660 & 8716 & 3707 & 3696 & 1265 & 1262 & 1279 & 0 & 0\\\\4946 & 3103 & 4975 & 3699 & 0 & 1255 & 1253 & 1267 & 2 & 0\\\\4931 & 3094 & 4965 & 0 & 3687 & 1253 & 1249 & 1269 & 0 & 2\\end{matrix}\\right]$"
      ],
      "text/plain": [
       "(jacobi0.co) := ⎡ 0     0     0     0     0     1     0     0    0  0⎤\n",
       "⎢                                                    ⎥\n",
       "⎢ 0     0     0     0     0     0     1     0    0  0⎥\n",
       "⎢                                                    ⎥\n",
       "⎢ 0     0     0     0     0     0     0     1    0  0⎥\n",
       "⎢                                                    ⎥\n",
       "⎢ 0     0     0     0     0     0     0     0    1  0⎥\n",
       "⎢                                                    ⎥\n",
       "⎢ 0     0     0     0     0     0     0     0    0  1⎥\n",
       "⎢                                                    ⎥\n",
       "⎢8635  4949  8675  3694  3681  1254  1251  1268  0  0⎥\n",
       "⎢                                                    ⎥\n",
       "⎢4948  8624  8669  1853  1847  1251  1248  1265  0  0⎥\n",
       "⎢                                                    ⎥\n",
       "⎢8665  8660  8716  3707  3696  1265  1262  1279  0  0⎥\n",
       "⎢                                                    ⎥\n",
       "⎢4946  3103  4975  3699   0    1255  1253  1267  2  0⎥\n",
       "⎢                                                    ⎥\n",
       "⎣4931  3094  4965   0    3687  1253  1249  1269  0  2⎦"
      ]
     },
     "metadata": {},
     "output_type": "display_data"
    },
    {
     "data": {
      "text/plain": [
       "---"
      ]
     },
     "metadata": {},
     "output_type": "display_data"
    }
   ],
   "source": [
    "jacobi0.s ##:\n",
    "jacobi0.co ##:"
   ]
  },
  {
   "cell_type": "code",
   "execution_count": 332,
   "metadata": {},
   "outputs": [],
   "source": [
    "hesse = sp.hessian(Vdot, eerror)\n",
    "hesse0 = hesse.subz0(eerror)"
   ]
  },
  {
   "cell_type": "code",
   "execution_count": 333,
   "metadata": {},
   "outputs": [
    {
     "data": {
      "text/latex": [
       "$\\displaystyle \\left[\\begin{matrix}49559 & 49623 & 74710 & 26648 & 26584 & 17443 & 13734 & 17570 & 4946 & 4931\\\\49623 & 44572 & 73410 & 21083 & 21029 & 12509 & 16167 & 16304 & 3103 & 3094\\\\74710 & 73410 & 69955 & 32331 & 32265 & 18835 & 18805 & 18989 & 4975 & 4965\\\\26648 & 21083 & 32331 & 20408 & 0 & 8102 & 6254 & 8156 & 3698 & 0\\\\26584 & 21029 & 32265 & 0 & 20356 & 8084 & 6236 & 8155 & 0 & 3686\\\\17443 & 12509 & 18835 & 8102 & 8084 & 1254 & 2501 & 2532 & 1255 & 1253\\\\13734 & 16167 & 18805 & 6254 & 6236 & 2501 & 1248 & 2526 & 1253 & 1249\\\\17570 & 16304 & 18989 & 8156 & 8155 & 2532 & 2526 & 1279 & 1267 & 1269\\\\4946 & 3103 & 4975 & 3698 & 0 & 1255 & 1253 & 1267 & 2 & 0\\\\4931 & 3094 & 4965 & 0 & 3686 & 1253 & 1249 & 1269 & 0 & 2\\end{matrix}\\right]$"
      ],
      "text/plain": [
       "⎡49559  49623  74710  26648  26584  17443  13734  17570  4946  4931⎤\n",
       "⎢                                                                  ⎥\n",
       "⎢49623  44572  73410  21083  21029  12509  16167  16304  3103  3094⎥\n",
       "⎢                                                                  ⎥\n",
       "⎢74710  73410  69955  32331  32265  18835  18805  18989  4975  4965⎥\n",
       "⎢                                                                  ⎥\n",
       "⎢26648  21083  32331  20408    0    8102   6254   8156   3698   0  ⎥\n",
       "⎢                                                                  ⎥\n",
       "⎢26584  21029  32265    0    20356  8084   6236   8155    0    3686⎥\n",
       "⎢                                                                  ⎥\n",
       "⎢17443  12509  18835  8102   8084   1254   2501   2532   1255  1253⎥\n",
       "⎢                                                                  ⎥\n",
       "⎢13734  16167  18805  6254   6236   2501   1248   2526   1253  1249⎥\n",
       "⎢                                                                  ⎥\n",
       "⎢17570  16304  18989  8156   8155   2532   2526   1279   1267  1269⎥\n",
       "⎢                                                                  ⎥\n",
       "⎢4946   3103   4975   3698     0    1255   1253   1267    2     0  ⎥\n",
       "⎢                                                                  ⎥\n",
       "⎣4931   3094   4965     0    3686   1253   1249   1269    0     2  ⎦"
      ]
     },
     "execution_count": 333,
     "metadata": {},
     "output_type": "execute_result"
    }
   ],
   "source": [
    "hesse0.co"
   ]
  },
  {
   "cell_type": "markdown",
   "metadata": {},
   "source": [
    "First look if error dynamics is 0 for equilibrium in $t = 0, 10$"
   ]
  },
  {
   "cell_type": "code",
   "execution_count": 334,
   "metadata": {
    "scrolled": true
   },
   "outputs": [],
   "source": [
    "ffex0_num = ffex0.subs(sys_params)\n",
    "ffex0_num = ffex0_num.subz(flat_quantities, flat_quant_subs)"
   ]
  },
  {
   "cell_type": "code",
   "execution_count": 335,
   "metadata": {},
   "outputs": [
    {
     "data": {
      "text/latex": [
       "(ffex0_num_t0) := $\\displaystyle \\left[\\begin{matrix}0\\\\0\\\\0\\\\0\\\\0\\\\0\\\\-5.32907051820075 \\cdot 10^{-15}\\\\0\\\\0\\\\0\\end{matrix}\\right]$"
      ],
      "text/plain": [
       "(ffex0_num_t0) := ⎡          0          ⎤\n",
       "⎢                     ⎥\n",
       "⎢          0          ⎥\n",
       "⎢                     ⎥\n",
       "⎢          0          ⎥\n",
       "⎢                     ⎥\n",
       "⎢          0          ⎥\n",
       "⎢                     ⎥\n",
       "⎢          0          ⎥\n",
       "⎢                     ⎥\n",
       "⎢          0          ⎥\n",
       "⎢                     ⎥\n",
       "⎢-5.32907051820075e-15⎥\n",
       "⎢                     ⎥\n",
       "⎢          0          ⎥\n",
       "⎢                     ⎥\n",
       "⎢          0          ⎥\n",
       "⎢                     ⎥\n",
       "⎣          0          ⎦"
      ]
     },
     "metadata": {},
     "output_type": "display_data"
    },
    {
     "data": {
      "text/plain": [
       "---"
      ]
     },
     "metadata": {},
     "output_type": "display_data"
    },
    {
     "data": {
      "text/latex": [
       "(ffex0_num_t10) := $\\displaystyle \\left[\\begin{matrix}0\\\\0\\\\0\\\\0\\\\0\\\\4.02178290670463 \\cdot 10^{-14}\\\\-1.26121335597418 \\cdot 10^{-13}\\\\-1.4210854715202 \\cdot 10^{-14}\\\\3.75699999761891 \\cdot 10^{-18}\\\\1.76586886695218 \\cdot 10^{-17}\\end{matrix}\\right]$"
      ],
      "text/plain": [
       "(ffex0_num_t10) := ⎡          0          ⎤\n",
       "⎢                     ⎥\n",
       "⎢          0          ⎥\n",
       "⎢                     ⎥\n",
       "⎢          0          ⎥\n",
       "⎢                     ⎥\n",
       "⎢          0          ⎥\n",
       "⎢                     ⎥\n",
       "⎢          0          ⎥\n",
       "⎢                     ⎥\n",
       "⎢4.02178290670463e-14 ⎥\n",
       "⎢                     ⎥\n",
       "⎢-1.26121335597418e-13⎥\n",
       "⎢                     ⎥\n",
       "⎢-1.4210854715202e-14 ⎥\n",
       "⎢                     ⎥\n",
       "⎢3.75699999761891e-18 ⎥\n",
       "⎢                     ⎥\n",
       "⎣1.76586886695218e-17 ⎦"
      ]
     },
     "metadata": {},
     "output_type": "display_data"
    },
    {
     "data": {
      "text/plain": [
       "---"
      ]
     },
     "metadata": {},
     "output_type": "display_data"
    }
   ],
   "source": [
    "ffex0_num_t0 = ffex0_num.subs(t, 0) \n",
    "ffex0_num_t0 ##:\n",
    "ffex0_num_t10 = ffex0_num.subs(t, 10)\n",
    "ffex0_num_t10 ##:"
   ]
  },
  {
   "cell_type": "markdown",
   "metadata": {},
   "source": [
    "#### Lyapunov's indirect (1st) method"
   ]
  },
  {
   "cell_type": "code",
   "execution_count": 336,
   "metadata": {},
   "outputs": [],
   "source": [
    "jacobi_num = jacobi0.subs(sys_params)\n",
    "#jacobi_num = jacobi_num.subz(flat_quantities, flat_quant_subs)"
   ]
  },
  {
   "cell_type": "code",
   "execution_count": 337,
   "metadata": {},
   "outputs": [
    {
     "data": {
      "text/latex": [
       "$\\displaystyle \\left[\\begin{matrix}0 & 0 & 0 & 0 & 0 & 1 & 0 & 0 & 0 & 0\\\\0 & 0 & 0 & 0 & 0 & 0 & 1 & 0 & 0 & 0\\\\0 & 0 & 0 & 0 & 0 & 0 & 0 & 1 & 0 & 0\\\\0 & 0 & 0 & 0 & 0 & 0 & 0 & 0 & 1 & 0\\\\0 & 0 & 0 & 0 & 0 & 0 & 0 & 0 & 0 & 1\\\\7987 & 4577 & 8017 & 3416 & 3403 & 1160 & 1157 & 1170 & 0 & 0\\\\4576 & 7976 & 8011 & 1713 & 1707 & 1157 & 1154 & 1167 & 0 & 0\\\\8007 & 8002 & 8054 & 3425 & 3414 & 1169 & 1166 & 1179 & 0 & 0\\\\4576 & 2871 & 4598 & 3421 & 0 & 1161 & 1159 & 1169 & 2 & 0\\\\4561 & 2862 & 4588 & 0 & 3409 & 1159 & 1155 & 1171 & 0 & 2\\end{matrix}\\right]$"
      ],
      "text/plain": [
       "⎡ 0     0     0     0     0     1     0     0    0  0⎤\n",
       "⎢                                                    ⎥\n",
       "⎢ 0     0     0     0     0     0     1     0    0  0⎥\n",
       "⎢                                                    ⎥\n",
       "⎢ 0     0     0     0     0     0     0     1    0  0⎥\n",
       "⎢                                                    ⎥\n",
       "⎢ 0     0     0     0     0     0     0     0    1  0⎥\n",
       "⎢                                                    ⎥\n",
       "⎢ 0     0     0     0     0     0     0     0    0  1⎥\n",
       "⎢                                                    ⎥\n",
       "⎢7987  4577  8017  3416  3403  1160  1157  1170  0  0⎥\n",
       "⎢                                                    ⎥\n",
       "⎢4576  7976  8011  1713  1707  1157  1154  1167  0  0⎥\n",
       "⎢                                                    ⎥\n",
       "⎢8007  8002  8054  3425  3414  1169  1166  1179  0  0⎥\n",
       "⎢                                                    ⎥\n",
       "⎢4576  2871  4598  3421   0    1161  1159  1169  2  0⎥\n",
       "⎢                                                    ⎥\n",
       "⎣4561  2862  4588   0    3409  1159  1155  1171  0  2⎦"
      ]
     },
     "execution_count": 337,
     "metadata": {},
     "output_type": "execute_result"
    }
   ],
   "source": [
    "jacobi_num.co"
   ]
  },
  {
   "cell_type": "code",
   "execution_count": 338,
   "metadata": {},
   "outputs": [],
   "source": [
    "tti = npy.arange(0.1, 10.1, 0.1)\n",
    "eigs = []"
   ]
  },
  {
   "cell_type": "code",
   "execution_count": 339,
   "metadata": {
    "scrolled": false
   },
   "outputs": [],
   "source": [
    "for ti in tti:\n",
    "    flat_quant_subs_num = [flats.subs(t, ti) for flats in flat_quant_subs]\n",
    "    jacobi_num_ti = jacobi_num.subz(flat_quantities, flat_quant_subs_num)\n",
    "    jacobi_num_ti_eigs = npy.linalg.eig(st.to_np(jacobi_num_ti))\n",
    "    eigs.append(jacobi_num_ti_eigs[0].real)"
   ]
  },
  {
   "cell_type": "code",
   "execution_count": 340,
   "metadata": {},
   "outputs": [
    {
     "data": {
      "text/plain": [
       "[array([-0.37939454, -0.37939454, -1.        , -1.        , -0.62060546, -0.62060546, -0.99999999, -1.00000001, -1.        , -1.        ]),\n",
       " array([-0.37939452, -0.37939452, -1.        , -1.        , -0.62060548, -0.62060548, -1.        , -1.        , -1.        , -1.        ]),\n",
       " array([-0.37939449, -0.37939449, -1.        , -1.        , -0.62060551, -0.62060551, -1.        , -1.        , -1.00000006, -0.99999994]),\n",
       " array([-0.37939447, -0.37939447, -1.        , -1.        , -0.62060554, -0.62060554, -1.        , -1.        , -1.        , -1.        ]),\n",
       " array([-0.3793945 , -0.3793945 , -1.        , -1.        , -0.62060553, -0.62060553, -0.99999996, -0.99999996, -0.99999999, -1.00000001]),\n",
       " array([-0.37939475, -0.37939475, -1.        , -1.        , -0.62060551, -0.62060551, -0.99999974, -0.99999974, -0.99999999, -1.00000001]),\n",
       " array([-0.37939543, -0.37939543, -1.        , -1.        , -0.6206057 , -0.6206057 , -0.99999887, -0.99999887, -1.00000007, -0.99999993]),\n",
       " array([-0.37939692, -0.37939692, -1.        , -1.        , -0.62060637, -0.62060637, -0.99999671, -0.99999671, -1.        , -1.        ]),\n",
       " array([-0.37939974, -0.37939974, -1.        , -1.        , -0.99999267, -0.99999267, -0.62060759, -0.62060759, -0.99999995, -1.00000005]),\n",
       " array([-0.37940458, -0.37940458, -0.99999999, -0.99999999, -0.99998609, -0.99998609, -0.62060934, -0.62060934, -1.00000005, -0.99999995]),\n",
       " array([-0.37941231, -0.37941231, -0.99999997, -0.99999997, -0.99997609, -0.99997609, -0.62061163, -0.62061163, -1.00000009, -0.99999991]),\n",
       " array([-0.379424  , -0.379424  , -0.99999994, -0.99999994, -0.99996156, -0.99996156, -0.6206145 , -0.6206145 , -1.00000006, -0.99999994]),\n",
       " array([-0.37944088, -0.37944088, -0.99999988, -0.99999988, -0.99994121, -0.99994121, -0.62061803, -0.62061803, -0.99999996, -1.00000004]),\n",
       " array([-0.37946433, -0.37946433, -0.99999976, -0.99999976, -0.99991359, -0.99991359, -0.62062232, -0.62062232, -0.99999996, -1.00000004]),\n",
       " array([-0.3794958 , -0.3794958 , -0.99999954, -0.99999954, -0.9998772 , -0.9998772 , -0.62062746, -0.62062746, -1.        , -1.        ]),\n",
       " array([-0.37953678, -0.37953678, -0.99999915, -0.99999915, -0.9998305 , -0.9998305 , -0.62063356, -0.62063356, -1.        , -1.        ]),\n",
       " array([-0.37958867, -0.37958867, -0.99999849, -0.99999849, -0.99977212, -0.99977212, -0.62064071, -0.62064071, -1.        , -1.        ]),\n",
       " array([-0.37965267, -0.37965267, -0.99999739, -0.99999739, -0.99970093, -0.99970093, -0.62064901, -0.62064901, -0.99999996, -1.00000004]),\n",
       " array([-0.37972962, -0.37972962, -0.99999561, -0.99999561, -0.99961622, -0.99961622, -0.62065855, -0.62065855, -0.99999994, -1.00000006]),\n",
       " array([-0.37981991, -0.37981991, -0.99999278, -0.99999278, -0.99951789, -0.99951789, -0.62066942, -0.62066942, -1.        , -1.        ]),\n",
       " array([-0.37992324, -0.37992324, -0.99998841, -0.99998841, -0.99940665, -0.99940665, -0.62068169, -0.62068169, -1.00000006, -0.99999994]),\n",
       " array([-0.38003859, -0.38003859, -0.9999818 , -0.9999818 , -0.99928415, -0.99928415, -0.62069545, -0.62069545, -1.        , -1.        ]),\n",
       " array([-0.38016406, -0.38016406, -0.99997204, -0.99997204, -0.99915314, -0.99915314, -0.62071076, -0.62071076, -0.99999998, -1.00000002]),\n",
       " array([-0.38029688, -0.38029688, -0.99995795, -0.99995795, -0.99901749, -0.99901749, -0.62072767, -0.62072767, -1.00000005, -0.99999995]),\n",
       " array([-0.38043344, -0.38043344, -0.9999381 , -0.9999381 , -0.99888221, -0.99888221, -0.62074624, -0.62074624, -0.99999997, -1.00000003]),\n",
       " array([-0.38056942, -0.38056942, -0.99991085, -0.99991085, -0.99875322, -0.99875322, -0.62076652, -0.62076652, -0.99999993, -1.00000007]),\n",
       " array([-0.38069999, -0.38069999, -0.99987446, -0.99987446, -0.99863703, -0.99863703, -0.62078852, -0.62078852, -1.        , -1.        ]),\n",
       " array([-0.38082011, -0.38082011, -0.99982731, -0.99982731, -0.99854029, -0.99854029, -0.62081229, -0.62081229, -0.99999996, -1.00000004]),\n",
       " array([-0.3809249 , -0.3809249 , -0.99976815, -0.99976815, -0.99846912, -0.99846912, -0.62083784, -0.62083784, -0.99999997, -1.00000003]),\n",
       " array([-0.38100994, -0.38100994, -0.99969646, -0.99969646, -0.99842841, -0.99842841, -0.62086519, -0.62086519, -1.        , -1.        ]),\n",
       " array([-0.3810717 , -0.3810717 , -0.99961272, -0.99961272, -0.99842124, -0.99842124, -0.62089434, -0.62089434, -1.        , -1.        ]),\n",
       " array([-0.38110775, -0.38110775, -0.99951856, -0.99951856, -0.9984484 , -0.9984484 , -0.62092529, -0.62092529, -0.99999996, -1.00000004]),\n",
       " array([-0.38111699, -0.38111699, -0.9994167 , -0.9994167 , -0.99850826, -0.99850826, -0.62095804, -0.62095804, -1.        , -1.        ]),\n",
       " array([-0.38109974, -0.38109974, -0.99931067, -0.99931067, -0.99859701, -0.99859701, -0.62099258, -0.62099258, -1.        , -1.        ]),\n",
       " array([-0.38105763, -0.38105763, -0.99920436, -0.99920436, -0.99870914, -0.99870914, -0.62102888, -0.62102888, -1.00000005, -0.99999995]),\n",
       " array([-0.38099346, -0.38099346, -0.99910149, -0.99910149, -0.99883815, -0.99883815, -0.62106691, -0.62106691, -1.        , -1.        ]),\n",
       " array([-0.38091088, -0.38091088, -0.99900526, -0.99900526, -0.99897722, -0.99897722, -0.62110664, -0.62110664, -1.        , -1.        ]),\n",
       " array([-0.38081412, -0.38081412, -0.99891805, -0.99891805, -0.9991198 , -0.9991198 , -0.62114803, -0.62114803, -0.99999999, -1.00000001]),\n",
       " array([-0.38070752, -0.38070752, -0.99884137, -0.99884137, -0.99926007, -0.99926007, -0.62119103, -0.62119103, -1.        , -1.        ]),\n",
       " array([-0.38059532, -0.38059532, -0.99877592, -0.99877592, -0.99939319, -0.99939319, -0.62123556, -0.62123556, -1.        , -1.        ]),\n",
       " array([-0.38048128, -0.38048128, -0.99872171, -0.99872171, -0.99951543, -0.99951543, -0.62128157, -0.62128157, -1.        , -1.        ]),\n",
       " array([-0.38036854, -0.38036854, -0.99867825, -0.99867825, -0.99962425, -0.99962425, -0.62132896, -0.62132896, -0.99999996, -1.00000004]),\n",
       " array([-0.38025948, -0.38025948, -0.99864471, -0.99864471, -0.99971816, -0.99971816, -0.62137765, -0.62137765, -1.        , -1.        ]),\n",
       " array([-0.38015573, -0.38015573, -0.99862006, -0.99862006, -0.99979668, -0.99979668, -0.62142752, -0.62142752, -1.        , -1.        ]),\n",
       " array([-0.38005821, -0.38005821, -0.99860319, -0.99860319, -0.99986014, -0.99986014, -0.62147847, -0.62147847, -1.        , -1.        ]),\n",
       " array([-0.3799672 , -0.3799672 , -0.99859294, -0.99859294, -0.99990949, -0.99990949, -0.62153037, -0.62153037, -0.99999996, -1.00000004]),\n",
       " array([-0.37988255, -0.37988255, -0.99858821, -0.99858821, -0.99994616, -0.99994616, -0.62158307, -0.62158307, -0.99999999, -1.00000001]),\n",
       " array([-0.37980376, -0.37980376, -0.99858793, -0.99858793, -0.99997187, -0.99997187, -0.62163644, -0.62163644, -0.99999995, -1.00000005]),\n",
       " array([-0.37973016, -0.37973016, -0.99859108, -0.99859108, -0.62169031, -0.62169031, -0.99998845, -0.99998845, -1.        , -1.        ]),\n",
       " array([-0.37966103, -0.37966103, -0.99859671, -0.99859671, -0.62174468, -0.62174468, -0.99999758, -0.99999758, -1.        , -1.        ]),\n",
       " array([-0.37959568, -0.37959568, -0.99860394, -0.99860394, -0.62180038, -0.62180038, -1.        , -1.        , -1.00000005, -0.99999995]),\n",
       " array([-0.37953357, -0.37953357, -0.99861193, -0.99861193, -0.62185493, -0.62185493, -1.60522663, -0.39477251, -1.        , -1.        ]),\n",
       " array([-0.37947433, -0.37947433, -0.99861987, -0.99861987, -1.88191796, -0.62190897, -0.62190897, -0.11807569, -1.00000007, -0.99999993]),\n",
       " array([-0.37941776, -0.37941776, -0.99862701, -0.99862701, -2.07815464, -0.62196289, -0.62196289,  0.07816995, -1.00000004, -0.99999996]),\n",
       " array([-0.37936389, -0.37936389, -0.99863262, -0.99863262, -2.23207413, -0.62201639, -0.62201639,  0.23209993, -1.00000003, -0.99999997]),\n",
       " array([-0.37931293, -0.37931293, -0.99863599, -0.99863599, -2.35746039,  0.35749677, -0.62206926, -0.62206926, -1.00000005, -0.99999995]),\n",
       " array([-0.37926528, -0.37926528, -0.99863643, -0.99863643, -2.46116319,  0.46120925, -0.62212132, -0.62212132, -1.        , -1.        ]),\n",
       " array([-0.37922147, -0.37922147, -0.99863325, -0.99863325, -2.54717556,  0.5472298 , -0.62217239, -0.62217239, -1.        , -1.        ]),\n",
       " array([-0.37918219, -0.37918219, -0.99862577, -0.99862577, -2.61806789,  0.61812844, -0.62222231, -0.62222231, -1.        , -1.        ]),\n",
       " array([-0.37914822, -0.37914822, -0.9986133 , -0.9986133 , -2.67561227,  0.67567716, -0.62227093, -0.62227093, -1.        , -1.        ]),\n",
       " array([-0.37912041, -0.37912041, -0.99859513, -0.99859513, -2.72109421,  0.72116149, -0.6223181 , -0.6223181 , -1.        , -1.        ]),\n",
       " array([-0.3790997 , -0.3790997 , -0.99857054, -0.99857054, -2.75548367,  0.75555156, -0.62236371, -0.62236371, -1.00000004, -0.99999996]),\n",
       " array([-0.37908706, -0.37908706, -0.99853877, -0.99853877, -2.77953601,  0.77960291, -0.62240762, -0.62240762, -1.        , -1.        ]),\n",
       " array([-0.37908352, -0.37908352, -0.99849903, -0.99849903, -2.79385466,  0.79391925, -0.62244975, -0.62244975, -1.        , -1.        ]),\n",
       " array([-0.37909012, -0.37909012, -0.99845049, -0.99845049, -2.79893195,  0.79899317, -0.62248999, -0.62248999, -1.        , -1.        ]),\n",
       " array([-0.37910796, -0.37910796, -0.99839227, -0.99839227, -2.79517632,  0.79523335, -0.62252829, -0.62252829, -1.00000002, -0.99999998]),\n",
       " array([-0.37913814, -0.37913814, -0.99832343, -0.99832343, -2.78293087,  0.78298315, -0.62256457, -0.62256457, -1.        , -1.        ]),\n",
       " array([-0.37918179, -0.37918179, -0.99824298, -0.99824298, -2.76248601,  0.76253318, -0.62259882, -0.62259882, -1.00000003, -0.99999997]),\n",
       " array([-0.37924007, -0.37924007, -0.99814989, -0.99814989, -2.73408763,  0.73412952, -0.62263099, -0.62263099, -1.        , -1.        ]),\n",
       " array([-0.37931414, -0.37931414, -0.99804307, -0.99804307, -2.69794174,  0.69797832, -0.62266108, -0.62266108, -1.00000005, -0.99999995]),\n",
       " array([-0.37940517, -0.37940517, -0.99792143, -0.99792143, -2.65421575,  0.65424713, -0.6226891 , -0.6226891 , -1.00000004, -0.99999996]),\n",
       " array([-0.37951429, -0.37951429, -0.99778384, -0.99778384, -2.60303621,  0.6030626 , -0.62271507, -0.62271507, -1.        , -1.        ]),\n",
       " array([-0.3796426 , -0.3796426 , -0.99762923, -0.99762923, -2.54448216,  0.54450386, -0.62273902, -0.62273902, -1.        , -1.        ]),\n",
       " array([-0.37979111, -0.37979111, -0.99745658, -0.99745658, -2.47857254,  0.47858993, -0.622761  , -0.622761  , -1.00000006, -0.99999994]),\n",
       " array([-0.37996069, -0.37996069, -0.99726497, -0.99726497, -2.40524479,  0.40525829, -0.62278108, -0.62278108, -1.        , -1.        ]),\n",
       " array([-0.38015201, -0.38015201, -0.99705372, -0.99705372, -2.32431932,  0.32432941, -0.62279932, -0.62279932, -1.        , -1.        ]),\n",
       " array([-0.38036544, -0.38036544, -0.99682235, -0.99682235, -2.23544014,  0.23544732, -0.6228158 , -0.6228158 , -0.99999998, -1.00000002]),\n",
       " array([-0.38060099, -0.38060099, -0.9965708 , -0.9965708 , -2.13797151, -0.62283061, -0.62283061,  0.13797631, -1.00000004, -0.99999996]),\n",
       " array([-0.3808582 , -0.3808582 , -0.99629942, -0.99629942, -2.03080712, -0.62284384, -0.62284384,  0.03081005, -1.        , -1.        ]),\n",
       " array([-0.38113605, -0.38113605, -0.99600914, -0.99600914, -1.91198373, -0.62285558, -0.62285558, -0.08801471, -1.00000004, -0.99999996]),\n",
       " array([-0.38143284, -0.38143284, -0.99570155, -0.99570155, -1.77778657, -0.62286594, -0.62286594, -0.22221277, -0.99999997, -1.00000003]),\n",
       " array([-0.3817461 , -0.3817461 , -0.99537896, -0.99537896, -0.62287502, -0.62287502, -1.62018549, -0.37981434, -0.99999998, -1.00000002]),\n",
       " array([-0.38207261, -0.38207261, -0.99504448, -0.99504448, -0.62288292, -0.62288292, -1.41581679, -0.5841832 , -1.00000005, -0.99999995]),\n",
       " array([-0.38240831, -0.38240831, -0.99470202, -0.99470202, -0.62288967, -0.62288967, -1.00000007, -0.99999993, -1.        , -1.        ]),\n",
       " array([-0.3827484 , -0.3827484 , -0.99435626, -0.99435626, -0.62289536, -0.62289536, -0.99999998, -0.99999998, -1.        , -1.        ]),\n",
       " array([-0.38308744, -0.38308744, -0.9940125 , -0.9940125 , -0.62290021, -0.62290021, -0.99999985, -0.99999985, -1.        , -1.        ]),\n",
       " array([-0.3834195 , -0.3834195 , -0.99367653, -0.99367653, -0.62290432, -0.62290432, -0.99999965, -0.99999965, -0.99999998, -1.00000002]),\n",
       " array([-0.38373849, -0.38373849, -0.99335435, -0.99335435, -0.62290773, -0.62290773, -0.99999942, -0.99999942, -1.        , -1.        ]),\n",
       " array([-0.38403841, -0.38403841, -0.99305185, -0.99305185, -0.62291054, -0.62291054, -0.9999992 , -0.9999992 , -1.        , -1.        ]),\n",
       " array([-0.38431368, -0.38431368, -0.99277451, -0.99277451, -0.6229128 , -0.6229128 , -0.999999  , -0.999999  , -0.99999995, -1.00000005]),\n",
       " array([-0.38455957, -0.38455957, -0.99252699, -0.99252699, -0.6229146 , -0.6229146 , -0.99999883, -0.99999883, -1.00000005, -0.99999995]),\n",
       " array([-0.38477245, -0.38477245, -0.99231285, -0.99231285, -0.622916  , -0.622916  , -0.99999869, -0.99999869, -1.        , -1.        ]),\n",
       " array([-0.3849501 , -0.3849501 , -0.99213425, -0.99213425, -0.99999859, -0.99999859, -0.62291707, -0.62291707, -1.        , -1.        ]),\n",
       " array([-0.3850919 , -0.3850919 , -0.99199174, -0.99199174, -0.99999851, -0.99999851, -0.62291785, -0.62291785, -1.00000007, -0.99999993]),\n",
       " array([-0.38519891, -0.38519891, -0.99188424, -0.99188424, -0.99999845, -0.99999845, -0.6229184 , -0.6229184 , -1.        , -1.        ]),\n",
       " array([-0.38527385, -0.38527385, -0.99180897, -0.99180897, -0.99999841, -0.99999841, -0.62291877, -0.62291877, -1.        , -1.        ]),\n",
       " array([-0.38532098, -0.38532098, -0.99176165, -0.99176165, -0.62291899, -0.62291899, -0.99999839, -0.99999839, -1.        , -1.        ]),\n",
       " array([-0.38534588, -0.38534588, -0.99173663, -0.99173663, -0.62291911, -0.62291911, -0.99999837, -0.99999837, -1.        , -1.        ]),\n",
       " array([-0.38535527, -0.38535527, -0.99172721, -0.99172721, -0.62291915, -0.62291915, -0.99999837, -0.99999837, -1.00000005, -0.99999995]),\n",
       " array([-0.38535663, -0.38535663, -0.99172584, -0.99172584, -0.62291916, -0.62291916, -0.99999837, -0.99999837, -1.        , -1.        ])]"
      ]
     },
     "execution_count": 340,
     "metadata": {},
     "output_type": "execute_result"
    }
   ],
   "source": [
    "eigs"
   ]
  },
  {
   "cell_type": "code",
   "execution_count": 341,
   "metadata": {
    "scrolled": false
   },
   "outputs": [
    {
     "data": {
      "text/plain": [
       "[<matplotlib.lines.Line2D at 0x7facf741eee0>,\n",
       " <matplotlib.lines.Line2D at 0x7facf7c079d0>,\n",
       " <matplotlib.lines.Line2D at 0x7facebd31610>,\n",
       " <matplotlib.lines.Line2D at 0x7facee3b1a30>,\n",
       " <matplotlib.lines.Line2D at 0x7facf7903d90>,\n",
       " <matplotlib.lines.Line2D at 0x7facf7903460>,\n",
       " <matplotlib.lines.Line2D at 0x7facf7903fa0>,\n",
       " <matplotlib.lines.Line2D at 0x7facf7903430>,\n",
       " <matplotlib.lines.Line2D at 0x7facdbf80790>,\n",
       " <matplotlib.lines.Line2D at 0x7facf2ae4250>]"
      ]
     },
     "execution_count": 341,
     "metadata": {},
     "output_type": "execute_result"
    },
    {
     "data": {
      "image/png": "[encoded data removed]",
      "text/plain": [
       "<Figure size 1800x1440 with 1 Axes>"
      ]
     },
     "metadata": {
      "needs_background": "light"
     },
     "output_type": "display_data"
    }
   ],
   "source": [
    "plt.plot(tti, eigs, \"bo\")"
   ]
  },
  {
   "cell_type": "markdown",
   "metadata": {},
   "source": [
    "#### Lyapunov's direct (2nd) method"
   ]
  },
  {
   "cell_type": "code",
   "execution_count": 71,
   "metadata": {},
   "outputs": [],
   "source": [
    "# load with pickle\n",
    "#pickle_data = {\"Vdot\":Vdot, \"Vdot_traj\":Vdot_traj, \"Vdot_traj_num\":Vdot_traj_num, \"hesse\": hesse, \"hesse0\": hesse0}\n",
    "\n",
    "load_hesse = 1\n",
    "\n",
    "if load_hesse == 1:\n",
    "    with open(\"hesse_matrix.pcl\", \"rb\") as pfile:\n",
    "        data = pickle.load(pfile)\n",
    "        locals().update(data)\n",
    "\n",
    "else:\n",
    "    Vdot_traj = Vdot.subz(flat_quantities, flat_quant_subs)\n",
    "    Vdot_traj_num = Vdot_traj.subs(sys_params)\n",
    "    hesse = sp.hessian(Vdot_traj_num, eerror)\n",
    "    hesse0 = hesse.subz0(eerror)"
   ]
  },
  {
   "cell_type": "code",
   "execution_count": 74,
   "metadata": {},
   "outputs": [],
   "source": [
    "Vdot0 = Vdot_traj_num.subz0(eerror)"
   ]
  },
  {
   "cell_type": "code",
   "execution_count": 76,
   "metadata": {},
   "outputs": [],
   "source": [
    "Vdot0i = []\n",
    "\n",
    "for ti in tti:\n",
    "    Vdot0i.append(Vdot0.subs(t, ti))"
   ]
  },
  {
   "cell_type": "code",
   "execution_count": 77,
   "metadata": {},
   "outputs": [
    {
     "data": {
      "text/plain": [
       "[<matplotlib.lines.Line2D at 0x7f3646c18df0>]"
      ]
     },
     "execution_count": 77,
     "metadata": {},
     "output_type": "execute_result"
    },
    {
     "data": {
      "image/png": "[encoded data removed]",
      "text/plain": [
       "<Figure size 1800x1440 with 1 Axes>"
      ]
     },
     "metadata": {
      "needs_background": "light"
     },
     "output_type": "display_data"
    }
   ],
   "source": [
    "plt.plot(tti, Vdot0i, \"bo\")"
   ]
  },
  {
   "cell_type": "code",
   "execution_count": 44,
   "metadata": {},
   "outputs": [
    {
     "name": "stdout",
     "output_type": "stream",
     "text": [
      "CPU times: user 587 ms, sys: 0 ns, total: 587 ms\n",
      "Wall time: 585 ms\n"
     ]
    }
   ],
   "source": [
    "%%time\n",
    "hesse0ti = hesse0.subs(t, 10).evalf()"
   ]
  },
  {
   "cell_type": "code",
   "execution_count": 45,
   "metadata": {},
   "outputs": [],
   "source": [
    "hesse0ti_eigs = npy.linalg.eig(st.to_np(hesse0ti))[0]"
   ]
  },
  {
   "cell_type": "code",
   "execution_count": 46,
   "metadata": {},
   "outputs": [
    {
     "data": {
      "text/plain": [
       "array([ 7.50162648e+01, -7.90073165e+01,  1.39859309e+01, -1.59068925e+01, -2.15921161e+00, -4.06778876e+00,  7.30182435e-02,  6.59954628e-02, -4.00000000e+00,  5.55045920e-16])"
      ]
     },
     "execution_count": 46,
     "metadata": {},
     "output_type": "execute_result"
    }
   ],
   "source": [
    "npy.real(hesse0ti_eigs)"
   ]
  },
  {
   "cell_type": "markdown",
   "metadata": {},
   "source": [
    "#### V, Vdot development for simulated trajectory"
   ]
  },
  {
   "cell_type": "code",
   "execution_count": 204,
   "metadata": {},
   "outputs": [],
   "source": [
    "error_traj = npy.array([err_trajp1, err_trajp2, err_trajp3, err_trajq1, err_trajq2, err_trajpdot1, err_trajpdot2, err_trajpdot3, err_trajqdot1, err_trajqdot2])"
   ]
  },
  {
   "cell_type": "code",
   "execution_count": 221,
   "metadata": {},
   "outputs": [],
   "source": [
    "V_traj = []\n",
    "for i in range(0, len(error_traj)):\n",
    "    V_traj = 0.5 * npy.square(error_traj[i, :])"
   ]
  },
  {
   "cell_type": "code",
   "execution_count": 230,
   "metadata": {
    "scrolled": false
   },
   "outputs": [
    {
     "data": {
      "text/plain": [
       "[<matplotlib.lines.Line2D at 0x7f35f189c520>]"
      ]
     },
     "execution_count": 230,
     "metadata": {},
     "output_type": "execute_result"
    },
    {
     "data": {
      "image/png": "[encoded data removed]",
      "text/plain": [
       "<Figure size 1800x1440 with 1 Axes>"
      ]
     },
     "metadata": {
      "needs_background": "light"
     },
     "output_type": "display_data"
    }
   ],
   "source": [
    "plt.semilogy(tt[:1000], V_traj, \"bo\")"
   ]
  },
  {
   "cell_type": "code",
   "execution_count": null,
   "metadata": {},
   "outputs": [],
   "source": []
  },
  {
   "cell_type": "code",
   "execution_count": null,
   "metadata": {},
   "outputs": [],
   "source": []
  },
  {
   "cell_type": "code",
   "execution_count": null,
   "metadata": {},
   "outputs": [],
   "source": [
    "joint_pos_expr = st.col_stack(G1, G3, G4, G6).subs(sys_params) ##:\n",
    "joint_pos_func = st.expr_to_func(mod.tt, joint_pos_expr, keep_shape=True)"
   ]
  },
  {
   "cell_type": "code",
   "execution_count": null,
   "metadata": {
    "scrolled": false
   },
   "outputs": [],
   "source": [
    "import matplotlib.animation as animation\n",
    "from IPython.display import HTML\n",
    "\n",
    "fig = pl.figure() \n",
    "ax = fig.add_subplot(111, autoscale_on=False, xlim=(-2.3,2.3), ylim=(-2.3,2.3))\n",
    "ax.set_aspect('equal')\n",
    "\n",
    "line, = ax.plot([],[],'o-', lw=2)\n",
    "time_template = 'time=%.1fs'\n",
    "time_text = ax.text(0.05, 0.9, '', transform=ax.transAxes)\n",
    "dt = tt[1] - tt[0]\n",
    "\n",
    "\n",
    "def init():\n",
    "    line.set_data([],[])\n",
    "    time_text.set_text('')\n",
    "    return line, time_text\n",
    "\n",
    "l1 =1.0\n",
    "\n",
    "def animate(i):\n",
    "    xx, yy = joint_pos_func(*res[i, :res.shape[1]//2])\n",
    "    \n",
    "    line.set_data(xx,yy)\n",
    "    time_text.set_text(time_template%(i*dt))\n",
    "    \n",
    "    return line, time_text\n",
    "\n",
    "\n",
    "ani = animation.FuncAnimation(fig, animate, range(res.shape[0]), interval=tt[-1]*3, blit=True, init_func=init)\n",
    "\n",
    "\n",
    "# this animation is nice but results in a big notebook file which is unwanted for publication in the repo\n",
    "HTML(ani.to_jshtml())\n",
    "\n",
    "\n",
    "\n"
   ]
  },
  {
   "cell_type": "code",
   "execution_count": null,
   "metadata": {},
   "outputs": [],
   "source": []
  },
  {
   "cell_type": "code",
   "execution_count": null,
   "metadata": {},
   "outputs": [],
   "source": []
  },
  {
   "cell_type": "code",
   "execution_count": null,
   "metadata": {},
   "outputs": [],
   "source": []
  },
  {
   "cell_type": "code",
   "execution_count": null,
   "metadata": {},
   "outputs": [],
   "source": []
  },
  {
   "cell_type": "code",
   "execution_count": null,
   "metadata": {},
   "outputs": [],
   "source": []
  }
 ],
 "metadata": {
  "kernelspec": {
   "display_name": "Python 3 (ipykernel)",
   "language": "python",
   "name": "python3"
  },
  "language_info": {
   "codemirror_mode": {
    "name": "ipython",
    "version": 3
   },
   "file_extension": ".py",
   "mimetype": "text/x-python",
   "name": "python",
   "nbconvert_exporter": "python",
   "pygments_lexer": "ipython3",
   "version": "3.8.10"
  },
  "varInspector": {
   "cols": {
    "lenName": 16,
    "lenType": 16,
    "lenVar": 40
   },
   "kernels_config": {
    "python": {
     "delete_cmd_postfix": "",
     "delete_cmd_prefix": "del ",
     "library": "var_list.py",
     "varRefreshCmd": "print(var_dic_list())"
    },
    "r": {
     "delete_cmd_postfix": ") ",
     "delete_cmd_prefix": "rm(",
     "library": "var_list.r",
     "varRefreshCmd": "cat(var_dic_list()) "
    }
   },
   "position": {
    "height": "1007px",
    "left": "1519px",
    "right": "20px",
    "top": "94px",
    "width": "610px"
   },
   "types_to_exclude": [
    "module",
    "function",
    "builtin_function_or_method",
    "instance",
    "_Feature"
   ],
   "window_display": true
  }
 },
 "nbformat": 4,
 "nbformat_minor": 2
}
