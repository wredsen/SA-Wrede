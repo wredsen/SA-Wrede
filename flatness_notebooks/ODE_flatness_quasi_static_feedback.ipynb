{
 "cells": [
  {
   "cell_type": "markdown",
   "metadata": {},
   "source": [
    "### Considered model: four-bar linkage (= two link manipulator + one link manipulator + rigid coupling)\n",
    "\n",
    "\n",
    "This Notebook depends on symbtools >=0.2.5\n",
    "\n",
    "→ `pip install --upgrade symbtools`\n",
    "\n",
    "\n",
    "\n"
   ]
  },
  {
   "cell_type": "code",
   "execution_count": 1,
   "metadata": {},
   "outputs": [
    {
     "name": "stderr",
     "output_type": "stream",
     "text": [
      "Could not find No module named 'assimulo.solvers.sundials'\n",
      "Could not find No module named 'assimulo.solvers.kinsol'\n",
      "/home/wredi/.local/lib/python3.8/site-packages/assimulo/solvers/odepack.py:701: VisibleDeprecationWarning: Creating an ndarray from ragged nested sequences (which is a list-or-tuple of lists-or-tuples-or ndarrays with different lengths or shapes) is deprecated. If you meant to do this, you must specify 'dtype=object' when creating the ndarray.\n",
      "  N.array([[0.,0.,0.,0.,0.,0.,0.,0.,0.,0.,0.,0.,0.,0.],  # 5th order\n",
      "Could not find GLIMDA.\n"
     ]
    }
   ],
   "source": [
    "%load_ext ipydex.displaytools\n",
    "%matplotlib inline\n",
    "\n",
    "import sys\n",
    "# to load assimulo under wsl2\n",
    "sys.path.append('/home/kwrede/miniconda3/lib/python3.8/site-packages')\n",
    "sys.path.append('/home/wredi/miniconda3/lib/python3.8/site-packages')\n",
    "\n",
    "import os\n",
    "import pickle\n",
    "import sympy as sp\n",
    "import numpy as npy  # we need `np` later \n",
    "from sympy import sin, cos, pi\n",
    "from sympy.interactive import printing\n",
    "\n",
    "# using wredsen's symbtools fork (https://github.com/wredsen/symbtools @ DAE_statefeedback), assuming repos SA-Wrede and symbtools share the same parent directory\n",
    "sys.path.append('../../symbtools/')\n",
    "import symbtools as st\n",
    "import symbtools.modeltools as mt\n",
    "from symbtools.modeltools import Rz # Rotationsmatrix in the xy plane (c, -s; s, c)\n",
    "\n",
    "import scipy.integrate as sc_integrate\n",
    "from scipy.optimize import fmin\n",
    "import matplotlib.pyplot as pl\n",
    "from assimulo.solvers import ODASSL as SOLVER # Imports the solver ODASSL from Assimulo\n",
    "from assimulo.problem import Overdetermined_Problem # Imports the problem formulation from Assimulo\n",
    "import ipydex\n",
    "plt = pl\n",
    "\n",
    "printing.init_printing(1)"
   ]
  },
  {
   "cell_type": "code",
   "execution_count": 2,
   "metadata": {
    "scrolled": false
   },
   "outputs": [
    {
     "data": {
      "image/svg+xml": [
       "<svg xmlns=\"http://www.w3.org/2000/svg\" xmlns:xlink=\"http://www.w3.org/1999/xlink\" version=\"1.1\" width=\"592px\" height=\"359px\" viewBox=\"-0.5 -0.5 592 359\" content=\"&lt;mxfile host=&quot;Electron&quot; modified=&quot;2022-05-30T13:50:47.766Z&quot; agent=&quot;5.0 (Windows NT 10.0; Win64; x64) AppleWebKit/537.36 (KHTML, like Gecko) draw.io/18.0.6 Chrome/100.0.4896.143 Electron/18.2.3 Safari/537.36&quot; etag=&quot;min5w-b4zxJFSnJGOmVM&quot; version=&quot;18.0.6&quot; type=&quot;device&quot;&gt;&lt;diagram id=&quot;B0kXoVWXYvZZ5K02NhJj&quot; name=&quot;Seite-1&quot;&gt;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&lt;/diagram&gt;&lt;/mxfile&gt;\" style=\"background-color: rgb(255, 255, 255);\"><defs><style xmlns=\"http://www.w3.org/1999/xhtml\" type=\"text/css\">div.MathJax_SVG_Display { position: static; }\n",
       "span.MathJax_SVG { position: static !important; }</style><style xmlns=\"http://www.w3.org/1999/xhtml\" type=\"text/css\">.MathJax_Hover_Frame {border-radius: .25em; -webkit-border-radius: .25em; -moz-border-radius: .25em; -khtml-border-radius: .25em; box-shadow: 0px 0px 15px #83A; -webkit-box-shadow: 0px 0px 15px #83A; -moz-box-shadow: 0px 0px 15px #83A; -khtml-box-shadow: 0px 0px 15px #83A; border: 1px solid #A6D ! important; display: inline-block; position: absolute}\n",
       ".MathJax_Menu_Button .MathJax_Hover_Arrow {position: absolute; cursor: pointer; display: inline-block; border: 2px solid #AAA; border-radius: 4px; -webkit-border-radius: 4px; -moz-border-radius: 4px; -khtml-border-radius: 4px; font-family: 'Courier New',Courier; font-size: 9px; color: #F0F0F0}\n",
       ".MathJax_Menu_Button .MathJax_Hover_Arrow span {display: block; background-color: #AAA; border: 1px solid; border-radius: 3px; line-height: 0; padding: 4px}\n",
       ".MathJax_Hover_Arrow:hover {color: white!important; border: 2px solid #CCC!important}\n",
       ".MathJax_Hover_Arrow:hover span {background-color: #CCC!important}\n",
       "</style><style xmlns=\"http://www.w3.org/1999/xhtml\" type=\"text/css\">#MathJax_About {position: fixed; left: 50%; width: auto; text-align: center; border: 3px outset; padding: 1em 2em; background-color: #DDDDDD; color: black; cursor: default; font-family: message-box; font-size: 120%; font-style: normal; text-indent: 0; text-transform: none; line-height: normal; letter-spacing: normal; word-spacing: normal; word-wrap: normal; white-space: nowrap; float: none; z-index: 201; border-radius: 15px; -webkit-border-radius: 15px; -moz-border-radius: 15px; -khtml-border-radius: 15px; box-shadow: 0px 10px 20px #808080; -webkit-box-shadow: 0px 10px 20px #808080; -moz-box-shadow: 0px 10px 20px #808080; -khtml-box-shadow: 0px 10px 20px #808080; filter: progid:DXImageTransform.Microsoft.dropshadow(OffX=2, OffY=2, Color='gray', Positive='true')}\n",
       "#MathJax_About.MathJax_MousePost {outline: none}\n",
       ".MathJax_Menu {position: absolute; background-color: white; color: black; width: auto; padding: 2px; border: 1px solid #CCCCCC; margin: 0; cursor: default; font: menu; text-align: left; text-indent: 0; text-transform: none; line-height: normal; letter-spacing: normal; word-spacing: normal; word-wrap: normal; white-space: nowrap; float: none; z-index: 201; box-shadow: 0px 10px 20px #808080; -webkit-box-shadow: 0px 10px 20px #808080; -moz-box-shadow: 0px 10px 20px #808080; -khtml-box-shadow: 0px 10px 20px #808080; filter: progid:DXImageTransform.Microsoft.dropshadow(OffX=2, OffY=2, Color='gray', Positive='true')}\n",
       ".MathJax_MenuItem {padding: 2px 2em; background: transparent}\n",
       ".MathJax_MenuArrow {position: absolute; right: .5em; padding-top: .25em; color: #666666; font-size: .75em}\n",
       ".MathJax_MenuActive .MathJax_MenuArrow {color: white}\n",
       ".MathJax_MenuArrow.RTL {left: .5em; right: auto}\n",
       ".MathJax_MenuCheck {position: absolute; left: .7em}\n",
       ".MathJax_MenuCheck.RTL {right: .7em; left: auto}\n",
       ".MathJax_MenuRadioCheck {position: absolute; left: 1em}\n",
       ".MathJax_MenuRadioCheck.RTL {right: 1em; left: auto}\n",
       ".MathJax_MenuLabel {padding: 2px 2em 4px 1.33em; font-style: italic}\n",
       ".MathJax_MenuRule {border-top: 1px solid #CCCCCC; margin: 4px 1px 0px}\n",
       ".MathJax_MenuDisabled {color: GrayText}\n",
       ".MathJax_MenuActive {background-color: Highlight; color: HighlightText}\n",
       ".MathJax_MenuDisabled:focus, .MathJax_MenuLabel:focus {background-color: #E8E8E8}\n",
       ".MathJax_ContextMenu:focus {outline: none}\n",
       ".MathJax_ContextMenu .MathJax_MenuItem:focus {outline: none}\n",
       "#MathJax_AboutClose {top: .2em; right: .2em}\n",
       ".MathJax_Menu .MathJax_MenuClose {top: -10px; left: -10px}\n",
       ".MathJax_MenuClose {position: absolute; cursor: pointer; display: inline-block; border: 2px solid #AAA; border-radius: 18px; -webkit-border-radius: 18px; -moz-border-radius: 18px; -khtml-border-radius: 18px; font-family: 'Courier New',Courier; font-size: 24px; color: #F0F0F0}\n",
       ".MathJax_MenuClose span {display: block; background-color: #AAA; border: 1.5px solid; border-radius: 18px; -webkit-border-radius: 18px; -moz-border-radius: 18px; -khtml-border-radius: 18px; line-height: 0; padding: 8px 0 6px}\n",
       ".MathJax_MenuClose:hover {color: white!important; border: 2px solid #CCC!important}\n",
       ".MathJax_MenuClose:hover span {background-color: #CCC!important}\n",
       ".MathJax_MenuClose:hover:focus {outline: none}\n",
       "</style><style xmlns=\"http://www.w3.org/1999/xhtml\" type=\"text/css\">.MathJax_Preview .MJXf-math {color: inherit!important}\n",
       "</style><style xmlns=\"http://www.w3.org/1999/xhtml\" type=\"text/css\">#MathJax_Zoom {position: absolute; background-color: #F0F0F0; overflow: auto; display: block; z-index: 301; padding: .5em; border: 1px solid black; margin: 0; font-weight: normal; font-style: normal; text-align: left; text-indent: 0; text-transform: none; line-height: normal; letter-spacing: normal; word-spacing: normal; word-wrap: normal; white-space: nowrap; float: none; -webkit-box-sizing: content-box; -moz-box-sizing: content-box; box-sizing: content-box; box-shadow: 5px 5px 15px #AAAAAA; -webkit-box-shadow: 5px 5px 15px #AAAAAA; -moz-box-shadow: 5px 5px 15px #AAAAAA; -khtml-box-shadow: 5px 5px 15px #AAAAAA; filter: progid:DXImageTransform.Microsoft.dropshadow(OffX=2, OffY=2, Color='gray', Positive='true')}\n",
       "#MathJax_ZoomOverlay {position: absolute; left: 0; top: 0; z-index: 300; display: inline-block; width: 100%; height: 100%; border: 0; padding: 0; margin: 0; background-color: white; opacity: 0; filter: alpha(opacity=0)}\n",
       "#MathJax_ZoomFrame {position: relative; display: inline-block; height: 0; width: 0}\n",
       "#MathJax_ZoomEventTrap {position: absolute; left: 0; top: 0; z-index: 302; display: inline-block; border: 0; padding: 0; margin: 0; background-color: white; opacity: 0; filter: alpha(opacity=0)}\n",
       "</style><style xmlns=\"http://www.w3.org/1999/xhtml\" type=\"text/css\">.MathJax_Preview {color: #888; display: contents}\n",
       "#MathJax_Message {position: fixed; left: 1px; bottom: 2px; background-color: #E6E6E6; border: 1px solid #959595; margin: 0px; padding: 2px 8px; z-index: 102; color: black; font-size: 80%; width: auto; white-space: nowrap}\n",
       "#MathJax_MSIE_Frame {position: absolute; top: 0; left: 0; width: 0px; z-index: 101; border: 0px; margin: 0px; padding: 0px}\n",
       ".MathJax_Error {color: #CC0000; font-style: italic}\n",
       "</style><style xmlns=\"http://www.w3.org/1999/xhtml\" type=\"text/css\">.MJXp-script {font-size: .8em}\n",
       ".MJXp-right {-webkit-transform-origin: right; -moz-transform-origin: right; -ms-transform-origin: right; -o-transform-origin: right; transform-origin: right}\n",
       ".MJXp-bold {font-weight: bold}\n",
       ".MJXp-italic {font-style: italic}\n",
       ".MJXp-scr {font-family: MathJax_Script,'Times New Roman',Times,STIXGeneral,serif}\n",
       ".MJXp-frak {font-family: MathJax_Fraktur,'Times New Roman',Times,STIXGeneral,serif}\n",
       ".MJXp-sf {font-family: MathJax_SansSerif,'Times New Roman',Times,STIXGeneral,serif}\n",
       ".MJXp-cal {font-family: MathJax_Caligraphic,'Times New Roman',Times,STIXGeneral,serif}\n",
       ".MJXp-mono {font-family: MathJax_Typewriter,'Times New Roman',Times,STIXGeneral,serif}\n",
       ".MJXp-largeop {font-size: 150%}\n",
       ".MJXp-largeop.MJXp-int {vertical-align: -.2em}\n",
       ".MJXp-math {display: inline-block; line-height: 1.2; text-indent: 0; font-family: 'Times New Roman',Times,STIXGeneral,serif; white-space: nowrap; border-collapse: collapse}\n",
       ".MJXp-display {display: block; text-align: center; margin: 1em 0}\n",
       ".MJXp-math span {display: inline-block}\n",
       ".MJXp-box {display: block!important; text-align: center}\n",
       ".MJXp-box:after {content: &quot; &quot;}\n",
       ".MJXp-rule {display: block!important; margin-top: .1em}\n",
       ".MJXp-char {display: block!important}\n",
       ".MJXp-mo {margin: 0 .15em}\n",
       ".MJXp-mfrac {margin: 0 .125em; vertical-align: .25em}\n",
       ".MJXp-denom {display: inline-table!important; width: 100%}\n",
       ".MJXp-denom &gt; * {display: table-row!important}\n",
       ".MJXp-surd {vertical-align: top}\n",
       ".MJXp-surd &gt; * {display: block!important}\n",
       ".MJXp-script-box &gt; *  {display: table!important; height: 50%}\n",
       ".MJXp-script-box &gt; * &gt; * {display: table-cell!important; vertical-align: top}\n",
       ".MJXp-script-box &gt; *:last-child &gt; * {vertical-align: bottom}\n",
       ".MJXp-script-box &gt; * &gt; * &gt; * {display: block!important}\n",
       ".MJXp-mphantom {visibility: hidden}\n",
       ".MJXp-munderover, .MJXp-munder {display: inline-table!important}\n",
       ".MJXp-over {display: inline-block!important; text-align: center}\n",
       ".MJXp-over &gt; * {display: block!important}\n",
       ".MJXp-munderover &gt; *, .MJXp-munder &gt; * {display: table-row!important}\n",
       ".MJXp-mtable {vertical-align: .25em; margin: 0 .125em}\n",
       ".MJXp-mtable &gt; * {display: inline-table!important; vertical-align: middle}\n",
       ".MJXp-mtr {display: table-row!important}\n",
       ".MJXp-mtd {display: table-cell!important; text-align: center; padding: .5em 0 0 .5em}\n",
       ".MJXp-mtr &gt; .MJXp-mtd:first-child {padding-left: 0}\n",
       ".MJXp-mtr:first-child &gt; .MJXp-mtd {padding-top: 0}\n",
       ".MJXp-mlabeledtr {display: table-row!important}\n",
       ".MJXp-mlabeledtr &gt; .MJXp-mtd:first-child {padding-left: 0}\n",
       ".MJXp-mlabeledtr:first-child &gt; .MJXp-mtd {padding-top: 0}\n",
       ".MJXp-merror {background-color: #FFFF88; color: #CC0000; border: 1px solid #CC0000; padding: 1px 3px; font-style: normal; font-size: 90%}\n",
       ".MJXp-scale0 {-webkit-transform: scaleX(.0); -moz-transform: scaleX(.0); -ms-transform: scaleX(.0); -o-transform: scaleX(.0); transform: scaleX(.0)}\n",
       ".MJXp-scale1 {-webkit-transform: scaleX(.1); -moz-transform: scaleX(.1); -ms-transform: scaleX(.1); -o-transform: scaleX(.1); transform: scaleX(.1)}\n",
       ".MJXp-scale2 {-webkit-transform: scaleX(.2); -moz-transform: scaleX(.2); -ms-transform: scaleX(.2); -o-transform: scaleX(.2); transform: scaleX(.2)}\n",
       ".MJXp-scale3 {-webkit-transform: scaleX(.3); -moz-transform: scaleX(.3); -ms-transform: scaleX(.3); -o-transform: scaleX(.3); transform: scaleX(.3)}\n",
       ".MJXp-scale4 {-webkit-transform: scaleX(.4); -moz-transform: scaleX(.4); -ms-transform: scaleX(.4); -o-transform: scaleX(.4); transform: scaleX(.4)}\n",
       ".MJXp-scale5 {-webkit-transform: scaleX(.5); -moz-transform: scaleX(.5); -ms-transform: scaleX(.5); -o-transform: scaleX(.5); transform: scaleX(.5)}\n",
       ".MJXp-scale6 {-webkit-transform: scaleX(.6); -moz-transform: scaleX(.6); -ms-transform: scaleX(.6); -o-transform: scaleX(.6); transform: scaleX(.6)}\n",
       ".MJXp-scale7 {-webkit-transform: scaleX(.7); -moz-transform: scaleX(.7); -ms-transform: scaleX(.7); -o-transform: scaleX(.7); transform: scaleX(.7)}\n",
       ".MJXp-scale8 {-webkit-transform: scaleX(.8); -moz-transform: scaleX(.8); -ms-transform: scaleX(.8); -o-transform: scaleX(.8); transform: scaleX(.8)}\n",
       ".MJXp-scale9 {-webkit-transform: scaleX(.9); -moz-transform: scaleX(.9); -ms-transform: scaleX(.9); -o-transform: scaleX(.9); transform: scaleX(.9)}\n",
       ".MathJax_PHTML .noError {vertical-align: ; font-size: 90%; text-align: left; color: black; padding: 1px 3px; border: 1px solid}\n",
       "</style><style xmlns=\"http://www.w3.org/1999/xhtml\" type=\"text/css\">.MathJax_SVG_Display {text-align: center; margin: 1em 0em; position: relative; display: block!important; text-indent: 0; max-width: none; max-height: none; min-width: 0; min-height: 0; width: 100%}\n",
       ".MathJax_SVG .MJX-monospace {font-family: monospace}\n",
       ".MathJax_SVG .MJX-sans-serif {font-family: sans-serif}\n",
       "#MathJax_SVG_Tooltip {background-color: InfoBackground; color: InfoText; border: 1px solid black; box-shadow: 2px 2px 5px #AAAAAA; -webkit-box-shadow: 2px 2px 5px #AAAAAA; -moz-box-shadow: 2px 2px 5px #AAAAAA; -khtml-box-shadow: 2px 2px 5px #AAAAAA; padding: 3px 4px; z-index: 401; position: absolute; left: 0; top: 0; width: auto; height: auto; display: none}\n",
       ".MathJax_SVG {display: inline; font-style: normal; font-weight: normal; line-height: normal; font-size: 100%; font-size-adjust: none; text-indent: 0; text-align: left; text-transform: none; letter-spacing: normal; word-spacing: normal; word-wrap: normal; white-space: nowrap; float: none; direction: ltr; max-width: none; max-height: none; min-width: 0; min-height: 0; border: 0; padding: 0; margin: 0}\n",
       ".MathJax_SVG * {transition: none; -webkit-transition: none; -moz-transition: none; -ms-transition: none; -o-transition: none}\n",
       ".MathJax_SVG &gt; div {display: inline-block}\n",
       ".mjx-svg-href {fill: blue; stroke: blue}\n",
       ".MathJax_SVG_Processing {visibility: hidden; position: absolute; top: 0; left: 0; width: 0; height: 0; overflow: hidden; display: block!important}\n",
       ".MathJax_SVG_Processed {display: none!important}\n",
       ".MathJax_SVG_test {font-style: normal; font-weight: normal; font-size: 100%; font-size-adjust: none; text-indent: 0; text-transform: none; letter-spacing: normal; word-spacing: normal; overflow: hidden; height: 1px}\n",
       ".MathJax_SVG_test.mjx-test-display {display: table!important}\n",
       ".MathJax_SVG_test.mjx-test-inline {display: inline!important; margin-right: -1px}\n",
       ".MathJax_SVG_test.mjx-test-default {display: block!important; clear: both}\n",
       ".MathJax_SVG_ex_box {display: inline-block!important; position: absolute; overflow: hidden; min-height: 0; max-height: none; padding: 0; border: 0; margin: 0; width: 1px; height: 60ex}\n",
       ".mjx-test-inline .MathJax_SVG_left_box {display: inline-block; width: 0; float: left}\n",
       ".mjx-test-inline .MathJax_SVG_right_box {display: inline-block; width: 0; float: right}\n",
       ".mjx-test-display .MathJax_SVG_right_box {display: table-cell!important; width: 10000em!important; min-width: 0; max-width: none; padding: 0; border: 0; margin: 0}\n",
       ".MathJax_SVG .noError {vertical-align: ; font-size: 90%; text-align: left; color: black; padding: 1px 3px; border: 1px solid}\n",
       "</style></defs><g><rect x=\"180\" y=\"271\" width=\"210\" height=\"10\" fill=\"#f5f5f5\" stroke=\"#666666\" transform=\"rotate(-15,285,276)\" pointer-events=\"all\"/><rect x=\"41\" y=\"146\" width=\"40\" height=\"20\" fill=\"#f5f5f5\" stroke=\"#666666\" pointer-events=\"all\"/><path d=\"M 61 156.75 L 61 82.37\" fill=\"none\" stroke=\"rgb(0, 0, 0)\" stroke-miterlimit=\"10\" pointer-events=\"stroke\"/><path d=\"M 61 77.12 L 64.5 84.12 L 61 82.37 L 57.5 84.12 Z\" fill=\"rgb(0, 0, 0)\" stroke=\"rgb(0, 0, 0)\" stroke-miterlimit=\"10\" pointer-events=\"all\"/><path d=\"M 61 156.25 L 101 156.25 L 118.91 156.59\" fill=\"none\" stroke=\"rgb(0, 0, 0)\" stroke-miterlimit=\"10\" pointer-events=\"stroke\"/><path d=\"M 124.16 156.69 L 117.1 160.06 L 118.91 156.59 L 117.23 153.06 Z\" fill=\"rgb(0, 0, 0)\" stroke=\"rgb(0, 0, 0)\" stroke-miterlimit=\"10\" pointer-events=\"all\"/><rect x=\"111\" y=\"152\" width=\"40\" height=\"30\" fill=\"none\" stroke=\"none\" pointer-events=\"all\"/><g transform=\"translate(-0.5 -0.5)\"><switch><foreignObject pointer-events=\"none\" width=\"100%\" height=\"100%\" requiredFeatures=\"http://www.w3.org/TR/SVG11/feature#Extensibility\" style=\"overflow: visible; text-align: left;\"><div xmlns=\"http://www.w3.org/1999/xhtml\" style=\"display: flex; align-items: unsafe center; justify-content: unsafe center; width: 38px; height: 1px; padding-top: 167px; margin-left: 112px;\"><div data-drawio-colors=\"color: rgb(0, 0, 0); \" style=\"box-sizing: border-box; font-size: 0px; text-align: center;\"><div style=\"display: inline-block; font-size: 14px; font-family: Helvetica; color: rgb(0, 0, 0); line-height: 1.2; pointer-events: all; white-space: normal; overflow-wrap: normal;\"><span class=\"MathJax_Preview\" style=\"color: inherit;\"/><div class=\"MathJax_SVG_Display\" style=\"text-align: center;\"><span class=\"MathJax_SVG\" id=\"MathJax-Element-1-Frame\" tabindex=\"0\" data-mathml=\"&lt;math xmlns=&quot;http://www.w3.org/1998/Math/MathML&quot; display=&quot;block&quot;&gt;&lt;msub&gt;&lt;mi&gt;e&lt;/mi&gt;&lt;mi&gt;x&lt;/mi&gt;&lt;/msub&gt;&lt;/math&gt;\" role=\"presentation\" style=\"font-size: 100%; display: inline-block; position: relative;\"><svg xmlns=\"http://www.w3.org/2000/svg\" xmlns:xlink=\"http://www.w3.org/1999/xlink\" width=\"2.256ex\" height=\"1.798ex\" viewBox=\"0 -535.3 971.3 774.3\" role=\"img\" focusable=\"false\" style=\"vertical-align: -0.555ex;\" aria-hidden=\"true\"><g stroke=\"currentColor\" fill=\"currentColor\" stroke-width=\"0\" transform=\"matrix(1 0 0 -1 0 0)\"><path stroke-width=\"1\" d=\"M39 168Q39 225 58 272T107 350T174 402T244 433T307 442H310Q355 442 388 420T421 355Q421 265 310 237Q261 224 176 223Q139 223 138 221Q138 219 132 186T125 128Q125 81 146 54T209 26T302 45T394 111Q403 121 406 121Q410 121 419 112T429 98T420 82T390 55T344 24T281 -1T205 -11Q126 -11 83 42T39 168ZM373 353Q367 405 305 405Q272 405 244 391T199 357T170 316T154 280T149 261Q149 260 169 260Q282 260 327 284T373 353Z\"/><g transform=\"translate(466,-150)\"><path stroke-width=\"1\" transform=\"scale(0.707)\" d=\"M52 289Q59 331 106 386T222 442Q257 442 286 424T329 379Q371 442 430 442Q467 442 494 420T522 361Q522 332 508 314T481 292T458 288Q439 288 427 299T415 328Q415 374 465 391Q454 404 425 404Q412 404 406 402Q368 386 350 336Q290 115 290 78Q290 50 306 38T341 26Q378 26 414 59T463 140Q466 150 469 151T485 153H489Q504 153 504 145Q504 144 502 134Q486 77 440 33T333 -11Q263 -11 227 52Q186 -10 133 -10H127Q78 -10 57 16T35 71Q35 103 54 123T99 143Q142 143 142 101Q142 81 130 66T107 46T94 41L91 40Q91 39 97 36T113 29T132 26Q168 26 194 71Q203 87 217 139T245 247T261 313Q266 340 266 352Q266 380 251 392T217 404Q177 404 142 372T93 290Q91 281 88 280T72 278H58Q52 284 52 289Z\"/></g></g></svg><span class=\"MJX_Assistive_MathML MJX_Assistive_MathML_Block\" role=\"presentation\"/></span></div><script type=\"math/tex; mode=display\" id=\"MathJax-Element-1\">e_x</script></div></div></div></foreignObject><text x=\"131\" y=\"171\" fill=\"rgb(0, 0, 0)\" font-family=\"Helvetica\" font-size=\"14px\" text-anchor=\"middle\">\n",
       "e_x</text></switch></g><rect x=\"11\" y=\"56\" width=\"60\" height=\"30\" fill=\"none\" stroke=\"none\" pointer-events=\"all\"/><g transform=\"translate(-0.5 -0.5)\"><switch><foreignObject pointer-events=\"none\" width=\"100%\" height=\"100%\" requiredFeatures=\"http://www.w3.org/TR/SVG11/feature#Extensibility\" style=\"overflow: visible; text-align: left;\"><div xmlns=\"http://www.w3.org/1999/xhtml\" style=\"display: flex; align-items: unsafe center; justify-content: unsafe center; width: 58px; height: 1px; padding-top: 71px; margin-left: 12px;\"><div data-drawio-colors=\"color: rgb(0, 0, 0); \" style=\"box-sizing: border-box; font-size: 0px; text-align: center;\"><div style=\"display: inline-block; font-size: 14px; font-family: Helvetica; color: rgb(0, 0, 0); line-height: 1.2; pointer-events: all; white-space: normal; overflow-wrap: normal;\"><span class=\"MathJax_Preview\" style=\"color: inherit;\"/><div class=\"MathJax_SVG_Display\" style=\"text-align: center;\"><span class=\"MathJax_SVG\" id=\"MathJax-Element-2-Frame\" tabindex=\"0\" data-mathml=\"&lt;math xmlns=&quot;http://www.w3.org/1998/Math/MathML&quot; display=&quot;block&quot;&gt;&lt;msub&gt;&lt;mi&gt;e&lt;/mi&gt;&lt;mi&gt;y&lt;/mi&gt;&lt;/msub&gt;&lt;/math&gt;\" role=\"presentation\" style=\"font-size: 100%; display: inline-block; position: relative;\"><svg xmlns=\"http://www.w3.org/2000/svg\" xmlns:xlink=\"http://www.w3.org/1999/xlink\" width=\"2.133ex\" height=\"2.074ex\" viewBox=\"0 -535.3 918.3 892.8\" role=\"img\" focusable=\"false\" style=\"vertical-align: -0.83ex;\" aria-hidden=\"true\"><g stroke=\"currentColor\" fill=\"currentColor\" stroke-width=\"0\" transform=\"matrix(1 0 0 -1 0 0)\"><path stroke-width=\"1\" d=\"M39 168Q39 225 58 272T107 350T174 402T244 433T307 442H310Q355 442 388 420T421 355Q421 265 310 237Q261 224 176 223Q139 223 138 221Q138 219 132 186T125 128Q125 81 146 54T209 26T302 45T394 111Q403 121 406 121Q410 121 419 112T429 98T420 82T390 55T344 24T281 -1T205 -11Q126 -11 83 42T39 168ZM373 353Q367 405 305 405Q272 405 244 391T199 357T170 316T154 280T149 261Q149 260 169 260Q282 260 327 284T373 353Z\"/><g transform=\"translate(466,-150)\"><path stroke-width=\"1\" transform=\"scale(0.707)\" d=\"M21 287Q21 301 36 335T84 406T158 442Q199 442 224 419T250 355Q248 336 247 334Q247 331 231 288T198 191T182 105Q182 62 196 45T238 27Q261 27 281 38T312 61T339 94Q339 95 344 114T358 173T377 247Q415 397 419 404Q432 431 462 431Q475 431 483 424T494 412T496 403Q496 390 447 193T391 -23Q363 -106 294 -155T156 -205Q111 -205 77 -183T43 -117Q43 -95 50 -80T69 -58T89 -48T106 -45Q150 -45 150 -87Q150 -107 138 -122T115 -142T102 -147L99 -148Q101 -153 118 -160T152 -167H160Q177 -167 186 -165Q219 -156 247 -127T290 -65T313 -9T321 21L315 17Q309 13 296 6T270 -6Q250 -11 231 -11Q185 -11 150 11T104 82Q103 89 103 113Q103 170 138 262T173 379Q173 380 173 381Q173 390 173 393T169 400T158 404H154Q131 404 112 385T82 344T65 302T57 280Q55 278 41 278H27Q21 284 21 287Z\"/></g></g></svg><span class=\"MJX_Assistive_MathML MJX_Assistive_MathML_Block\" role=\"presentation\"/></span></div><script type=\"math/tex; mode=display\" id=\"MathJax-Element-2\">e_y</script></div></div></div></foreignObject><text x=\"41\" y=\"75\" fill=\"rgb(0, 0, 0)\" font-family=\"Helvetica\" font-size=\"14px\" text-anchor=\"middle\">\n",
       "e_y</text></switch></g><rect x=\"531\" y=\"236\" width=\"60\" height=\"30\" fill=\"none\" stroke=\"none\" pointer-events=\"all\"/><g transform=\"translate(-0.5 -0.5)\"><switch><foreignObject pointer-events=\"none\" width=\"100%\" height=\"100%\" requiredFeatures=\"http://www.w3.org/TR/SVG11/feature#Extensibility\" style=\"overflow: visible; text-align: left;\"><div xmlns=\"http://www.w3.org/1999/xhtml\" style=\"display: flex; align-items: unsafe center; justify-content: unsafe center; width: 58px; height: 1px; padding-top: 251px; margin-left: 532px;\"><div data-drawio-colors=\"color: rgb(0, 0, 0); \" style=\"box-sizing: border-box; font-size: 0px; text-align: center;\"><div style=\"display: inline-block; font-size: 14px; font-family: Helvetica; color: rgb(0, 0, 0); line-height: 1.2; pointer-events: all; white-space: normal; overflow-wrap: normal;\"><span class=\"MathJax_Preview\" style=\"color: inherit;\"/><div class=\"MathJax_SVG_Display\" style=\"text-align: center;\"><span class=\"MathJax_SVG\" id=\"MathJax-Element-3-Frame\" tabindex=\"0\" data-mathml=\"&lt;math xmlns=&quot;http://www.w3.org/1998/Math/MathML&quot; display=&quot;block&quot;&gt;&lt;mi&gt;g&lt;/mi&gt;&lt;/math&gt;\" role=\"presentation\" style=\"font-size: 100%; display: inline-block; position: relative;\"><svg xmlns=\"http://www.w3.org/2000/svg\" xmlns:xlink=\"http://www.w3.org/1999/xlink\" width=\"1.116ex\" height=\"1.936ex\" viewBox=\"0 -535.3 480.5 833.5\" role=\"img\" focusable=\"false\" style=\"vertical-align: -0.693ex;\" aria-hidden=\"true\"><g stroke=\"currentColor\" fill=\"currentColor\" stroke-width=\"0\" transform=\"matrix(1 0 0 -1 0 0)\"><path stroke-width=\"1\" d=\"M311 43Q296 30 267 15T206 0Q143 0 105 45T66 160Q66 265 143 353T314 442Q361 442 401 394L404 398Q406 401 409 404T418 412T431 419T447 422Q461 422 470 413T480 394Q480 379 423 152T363 -80Q345 -134 286 -169T151 -205Q10 -205 10 -137Q10 -111 28 -91T74 -71Q89 -71 102 -80T116 -111Q116 -121 114 -130T107 -144T99 -154T92 -162L90 -164H91Q101 -167 151 -167Q189 -167 211 -155Q234 -144 254 -122T282 -75Q288 -56 298 -13Q311 35 311 43ZM384 328L380 339Q377 350 375 354T369 368T359 382T346 393T328 402T306 405Q262 405 221 352Q191 313 171 233T151 117Q151 38 213 38Q269 38 323 108L331 118L384 328Z\"/></g></svg><span class=\"MJX_Assistive_MathML MJX_Assistive_MathML_Block\" role=\"presentation\"/></span></div><script type=\"math/tex; mode=display\" id=\"MathJax-Element-3\">g</script></div></div></div></foreignObject><text x=\"561\" y=\"255\" fill=\"rgb(0, 0, 0)\" font-family=\"Helvetica\" font-size=\"14px\" text-anchor=\"middle\">\n",
       "g</text></switch></g><path d=\"M 541 236 Q 541 236 541 269.63\" fill=\"none\" stroke=\"rgb(0, 0, 0)\" stroke-miterlimit=\"10\" pointer-events=\"stroke\"/><path d=\"M 541 274.88 L 537.5 267.88 L 541 269.63 L 544.5 267.88 Z\" fill=\"rgb(0, 0, 0)\" stroke=\"rgb(0, 0, 0)\" stroke-miterlimit=\"10\" pointer-events=\"all\"/><ellipse cx=\"61\" cy=\"156\" rx=\"5\" ry=\"5\" fill=\"rgb(255, 255, 255)\" stroke=\"rgb(0, 0, 0)\" pointer-events=\"all\"/><rect x=\"401\" y=\"146\" width=\"40\" height=\"20\" fill=\"#f5f5f5\" stroke=\"#666666\" pointer-events=\"all\"/><ellipse cx=\"421\" cy=\"156\" rx=\"5\" ry=\"5\" fill=\"rgb(255, 255, 255)\" stroke=\"rgb(0, 0, 0)\" pointer-events=\"all\"/><path d=\"M 181.93 299.74 L 64.22 159.83\" fill=\"none\" stroke=\"rgb(0, 0, 0)\" stroke-miterlimit=\"10\" pointer-events=\"stroke\"/><ellipse cx=\"183\" cy=\"303\" rx=\"5\" ry=\"5\" fill=\"rgb(255, 255, 255)\" stroke=\"rgb(0, 0, 0)\" pointer-events=\"all\"/><ellipse cx=\"386\" cy=\"249\" rx=\"5\" ry=\"5\" fill=\"rgb(255, 255, 255)\" stroke=\"rgb(0, 0, 0)\" pointer-events=\"all\"/><path d=\"M 419.34 160.72 L 389.54 245.46\" fill=\"none\" stroke=\"rgb(0, 0, 0)\" stroke-miterlimit=\"10\" pointer-events=\"stroke\"/><ellipse cx=\"286\" cy=\"276\" rx=\"5\" ry=\"5\" fill=\"rgb(255, 255, 255)\" stroke=\"rgb(0, 0, 0)\" pointer-events=\"all\"/><rect x=\"330\" y=\"268\" width=\"60\" height=\"30\" fill=\"none\" stroke=\"none\" pointer-events=\"all\"/><g transform=\"translate(-0.5 -0.5)\"><switch><foreignObject pointer-events=\"none\" width=\"100%\" height=\"100%\" requiredFeatures=\"http://www.w3.org/TR/SVG11/feature#Extensibility\" style=\"overflow: visible; text-align: left;\"><div xmlns=\"http://www.w3.org/1999/xhtml\" style=\"display: flex; align-items: unsafe center; justify-content: unsafe center; width: 58px; height: 1px; padding-top: 283px; margin-left: 331px;\"><div data-drawio-colors=\"color: rgb(0, 0, 0); \" style=\"box-sizing: border-box; font-size: 0px; text-align: center;\"><div style=\"display: inline-block; font-size: 14px; font-family: Helvetica; color: rgb(0, 0, 0); line-height: 1.2; pointer-events: all; white-space: normal; overflow-wrap: normal;\"><span class=\"MathJax_Preview\" style=\"color: inherit;\"/><div class=\"MathJax_SVG_Display\" style=\"text-align: center;\"><span class=\"MathJax_SVG\" id=\"MathJax-Element-21-Frame\" tabindex=\"0\" data-mathml=\"&lt;math xmlns=&quot;http://www.w3.org/1998/Math/MathML&quot; display=&quot;block&quot;&gt;&lt;mn&gt;2&lt;/mn&gt;&lt;msub&gt;&lt;mi&gt;s&lt;/mi&gt;&lt;mn&gt;2&lt;/mn&gt;&lt;/msub&gt;&lt;mo&gt;,&lt;/mo&gt;&lt;msub&gt;&lt;mi&gt;J&lt;/mi&gt;&lt;mn&gt;2&lt;/mn&gt;&lt;/msub&gt;&lt;/math&gt;\" role=\"presentation\" style=\"font-size: 100%; display: inline-block; position: relative;\"><svg xmlns=\"http://www.w3.org/2000/svg\" xmlns:xlink=\"http://www.w3.org/1999/xlink\" width=\"6.686ex\" height=\"2.486ex\" viewBox=\"0 -772.3 2878.5 1070.5\" role=\"img\" focusable=\"false\" style=\"vertical-align: -0.693ex;\" aria-hidden=\"true\"><g stroke=\"currentColor\" fill=\"currentColor\" stroke-width=\"0\" transform=\"matrix(1 0 0 -1 0 0)\"><path stroke-width=\"1\" d=\"M109 429Q82 429 66 447T50 491Q50 562 103 614T235 666Q326 666 387 610T449 465Q449 422 429 383T381 315T301 241Q265 210 201 149L142 93L218 92Q375 92 385 97Q392 99 409 186V189H449V186Q448 183 436 95T421 3V0H50V19V31Q50 38 56 46T86 81Q115 113 136 137Q145 147 170 174T204 211T233 244T261 278T284 308T305 340T320 369T333 401T340 431T343 464Q343 527 309 573T212 619Q179 619 154 602T119 569T109 550Q109 549 114 549Q132 549 151 535T170 489Q170 464 154 447T109 429Z\"/><g transform=\"translate(500,0)\"><path stroke-width=\"1\" d=\"M131 289Q131 321 147 354T203 415T300 442Q362 442 390 415T419 355Q419 323 402 308T364 292Q351 292 340 300T328 326Q328 342 337 354T354 372T367 378Q368 378 368 379Q368 382 361 388T336 399T297 405Q249 405 227 379T204 326Q204 301 223 291T278 274T330 259Q396 230 396 163Q396 135 385 107T352 51T289 7T195 -10Q118 -10 86 19T53 87Q53 126 74 143T118 160Q133 160 146 151T160 120Q160 94 142 76T111 58Q109 57 108 57T107 55Q108 52 115 47T146 34T201 27Q237 27 263 38T301 66T318 97T323 122Q323 150 302 164T254 181T195 196T148 231Q131 256 131 289Z\"/><g transform=\"translate(469,-150)\"><path stroke-width=\"1\" transform=\"scale(0.707)\" d=\"M109 429Q82 429 66 447T50 491Q50 562 103 614T235 666Q326 666 387 610T449 465Q449 422 429 383T381 315T301 241Q265 210 201 149L142 93L218 92Q375 92 385 97Q392 99 409 186V189H449V186Q448 183 436 95T421 3V0H50V19V31Q50 38 56 46T86 81Q115 113 136 137Q145 147 170 174T204 211T233 244T261 278T284 308T305 340T320 369T333 401T340 431T343 464Q343 527 309 573T212 619Q179 619 154 602T119 569T109 550Q109 549 114 549Q132 549 151 535T170 489Q170 464 154 447T109 429Z\"/></g></g><g transform=\"translate(1423,0)\"><path stroke-width=\"1\" d=\"M78 35T78 60T94 103T137 121Q165 121 187 96T210 8Q210 -27 201 -60T180 -117T154 -158T130 -185T117 -194Q113 -194 104 -185T95 -172Q95 -168 106 -156T131 -126T157 -76T173 -3V9L172 8Q170 7 167 6T161 3T152 1T140 0Q113 0 96 17Z\"/></g><g transform=\"translate(1869,0)\"><path stroke-width=\"1\" d=\"M447 625Q447 637 354 637H329Q323 642 323 645T325 664Q329 677 335 683H352Q393 681 498 681Q541 681 568 681T605 682T619 682Q633 682 633 672Q633 670 630 658Q626 642 623 640T604 637Q552 637 545 623Q541 610 483 376Q420 128 419 127Q397 64 333 21T195 -22Q137 -22 97 8T57 88Q57 130 80 152T132 174Q177 174 182 130Q182 98 164 80T123 56Q115 54 115 53T122 44Q148 15 197 15Q235 15 271 47T324 130Q328 142 387 380T447 625Z\"/><g transform=\"translate(555,-150)\"><path stroke-width=\"1\" transform=\"scale(0.707)\" d=\"M109 429Q82 429 66 447T50 491Q50 562 103 614T235 666Q326 666 387 610T449 465Q449 422 429 383T381 315T301 241Q265 210 201 149L142 93L218 92Q375 92 385 97Q392 99 409 186V189H449V186Q448 183 436 95T421 3V0H50V19V31Q50 38 56 46T86 81Q115 113 136 137Q145 147 170 174T204 211T233 244T261 278T284 308T305 340T320 369T333 401T340 431T343 464Q343 527 309 573T212 619Q179 619 154 602T119 569T109 550Q109 549 114 549Q132 549 151 535T170 489Q170 464 154 447T109 429Z\"/></g></g></g></svg><span class=\"MJX_Assistive_MathML MJX_Assistive_MathML_Block\" role=\"presentation\"/></span></div><script type=\"math/tex; mode=display\" id=\"MathJax-Element-21\">2s_2, J_2</script></div></div></div></foreignObject><text x=\"360\" y=\"287\" fill=\"rgb(0, 0, 0)\" font-family=\"Helvetica\" font-size=\"14px\" text-anchor=\"middle\">2s_2, J_...</text></switch></g><rect x=\"221\" y=\"239\" width=\"60\" height=\"30\" fill=\"none\" stroke=\"none\" pointer-events=\"all\"/><g transform=\"translate(-0.5 -0.5)\"><switch><foreignObject pointer-events=\"none\" width=\"100%\" height=\"100%\" requiredFeatures=\"http://www.w3.org/TR/SVG11/feature#Extensibility\" style=\"overflow: visible; text-align: left;\"><div xmlns=\"http://www.w3.org/1999/xhtml\" style=\"display: flex; align-items: unsafe center; justify-content: unsafe center; width: 58px; height: 1px; padding-top: 254px; margin-left: 222px;\"><div data-drawio-colors=\"color: rgb(0, 0, 0); \" style=\"box-sizing: border-box; font-size: 0px; text-align: center;\"><div style=\"display: inline-block; font-size: 14px; font-family: Helvetica; color: rgb(0, 0, 0); line-height: 1.2; pointer-events: all; white-space: normal; overflow-wrap: normal;\"><span class=\"MathJax_Preview\" style=\"color: inherit;\"/><div class=\"MathJax_SVG_Display\" style=\"text-align: center;\"><span class=\"MathJax_SVG\" id=\"MathJax-Element-5-Frame\" tabindex=\"0\" data-mathml=\"&lt;math xmlns=&quot;http://www.w3.org/1998/Math/MathML&quot; display=&quot;block&quot;&gt;&lt;msub&gt;&lt;mi&gt;S&lt;/mi&gt;&lt;mn&gt;2&lt;/mn&gt;&lt;/msub&gt;&lt;mo&gt;,&lt;/mo&gt;&lt;msub&gt;&lt;mi&gt;m&lt;/mi&gt;&lt;mn&gt;2&lt;/mn&gt;&lt;/msub&gt;&lt;/math&gt;\" role=\"presentation\" style=\"font-size: 100%; display: inline-block; position: relative;\"><svg xmlns=\"http://www.w3.org/2000/svg\" xmlns:xlink=\"http://www.w3.org/1999/xlink\" width=\"6.608ex\" height=\"2.486ex\" viewBox=\"0 -772.3 2845 1070.5\" role=\"img\" focusable=\"false\" style=\"vertical-align: -0.693ex;\" aria-hidden=\"true\"><g stroke=\"currentColor\" fill=\"currentColor\" stroke-width=\"0\" transform=\"matrix(1 0 0 -1 0 0)\"><path stroke-width=\"1\" d=\"M308 24Q367 24 416 76T466 197Q466 260 414 284Q308 311 278 321T236 341Q176 383 176 462Q176 523 208 573T273 648Q302 673 343 688T407 704H418H425Q521 704 564 640Q565 640 577 653T603 682T623 704Q624 704 627 704T632 705Q645 705 645 698T617 577T585 459T569 456Q549 456 549 465Q549 471 550 475Q550 478 551 494T553 520Q553 554 544 579T526 616T501 641Q465 662 419 662Q362 662 313 616T263 510Q263 480 278 458T319 427Q323 425 389 408T456 390Q490 379 522 342T554 242Q554 216 546 186Q541 164 528 137T492 78T426 18T332 -20Q320 -22 298 -22Q199 -22 144 33L134 44L106 13Q83 -14 78 -18T65 -22Q52 -22 52 -14Q52 -11 110 221Q112 227 130 227H143Q149 221 149 216Q149 214 148 207T144 186T142 153Q144 114 160 87T203 47T255 29T308 24Z\"/><g transform=\"translate(613,-150)\"><path stroke-width=\"1\" transform=\"scale(0.707)\" d=\"M109 429Q82 429 66 447T50 491Q50 562 103 614T235 666Q326 666 387 610T449 465Q449 422 429 383T381 315T301 241Q265 210 201 149L142 93L218 92Q375 92 385 97Q392 99 409 186V189H449V186Q448 183 436 95T421 3V0H50V19V31Q50 38 56 46T86 81Q115 113 136 137Q145 147 170 174T204 211T233 244T261 278T284 308T305 340T320 369T333 401T340 431T343 464Q343 527 309 573T212 619Q179 619 154 602T119 569T109 550Q109 549 114 549Q132 549 151 535T170 489Q170 464 154 447T109 429Z\"/></g><g transform=\"translate(1067,0)\"><path stroke-width=\"1\" d=\"M78 35T78 60T94 103T137 121Q165 121 187 96T210 8Q210 -27 201 -60T180 -117T154 -158T130 -185T117 -194Q113 -194 104 -185T95 -172Q95 -168 106 -156T131 -126T157 -76T173 -3V9L172 8Q170 7 167 6T161 3T152 1T140 0Q113 0 96 17Z\"/></g><g transform=\"translate(1512,0)\"><path stroke-width=\"1\" d=\"M21 287Q22 293 24 303T36 341T56 388T88 425T132 442T175 435T205 417T221 395T229 376L231 369Q231 367 232 367L243 378Q303 442 384 442Q401 442 415 440T441 433T460 423T475 411T485 398T493 385T497 373T500 364T502 357L510 367Q573 442 659 442Q713 442 746 415T780 336Q780 285 742 178T704 50Q705 36 709 31T724 26Q752 26 776 56T815 138Q818 149 821 151T837 153Q857 153 857 145Q857 144 853 130Q845 101 831 73T785 17T716 -10Q669 -10 648 17T627 73Q627 92 663 193T700 345Q700 404 656 404H651Q565 404 506 303L499 291L466 157Q433 26 428 16Q415 -11 385 -11Q372 -11 364 -4T353 8T350 18Q350 29 384 161L420 307Q423 322 423 345Q423 404 379 404H374Q288 404 229 303L222 291L189 157Q156 26 151 16Q138 -11 108 -11Q95 -11 87 -5T76 7T74 17Q74 30 112 181Q151 335 151 342Q154 357 154 369Q154 405 129 405Q107 405 92 377T69 316T57 280Q55 278 41 278H27Q21 284 21 287Z\"/><g transform=\"translate(878,-150)\"><path stroke-width=\"1\" transform=\"scale(0.707)\" d=\"M109 429Q82 429 66 447T50 491Q50 562 103 614T235 666Q326 666 387 610T449 465Q449 422 429 383T381 315T301 241Q265 210 201 149L142 93L218 92Q375 92 385 97Q392 99 409 186V189H449V186Q448 183 436 95T421 3V0H50V19V31Q50 38 56 46T86 81Q115 113 136 137Q145 147 170 174T204 211T233 244T261 278T284 308T305 340T320 369T333 401T340 431T343 464Q343 527 309 573T212 619Q179 619 154 602T119 569T109 550Q109 549 114 549Q132 549 151 535T170 489Q170 464 154 447T109 429Z\"/></g></g></g></svg><span class=\"MJX_Assistive_MathML MJX_Assistive_MathML_Block\" role=\"presentation\"/></span></div><script type=\"math/tex; mode=display\" id=\"MathJax-Element-5\">S_2, m_2</script></div></div></div></foreignObject><text x=\"251\" y=\"258\" fill=\"rgb(0, 0, 0)\" font-family=\"Helvetica\" font-size=\"14px\" text-anchor=\"middle\">\n",
       "S_2, m_2</text></switch></g><rect x=\"153\" y=\"308\" width=\"60\" height=\"30\" fill=\"none\" stroke=\"none\" pointer-events=\"all\"/><g transform=\"translate(-0.5 -0.5)\"><switch><foreignObject pointer-events=\"none\" width=\"100%\" height=\"100%\" requiredFeatures=\"http://www.w3.org/TR/SVG11/feature#Extensibility\" style=\"overflow: visible; text-align: left;\"><div xmlns=\"http://www.w3.org/1999/xhtml\" style=\"display: flex; align-items: unsafe center; justify-content: unsafe center; width: 58px; height: 1px; padding-top: 323px; margin-left: 154px;\"><div data-drawio-colors=\"color: rgb(0, 0, 0); \" style=\"box-sizing: border-box; font-size: 0px; text-align: center;\"><div style=\"display: inline-block; font-size: 14px; font-family: Helvetica; color: rgb(0, 0, 0); line-height: 1.2; pointer-events: all; white-space: normal; overflow-wrap: normal;\"><span style=\"\"><span class=\"MathJax_Preview\" style=\"color: inherit;\"/><div class=\"MathJax_SVG_Display\" style=\"text-align: center;\"><span class=\"MathJax_SVG\" id=\"MathJax-Element-6-Frame\" tabindex=\"0\" data-mathml=\"&lt;math xmlns=&quot;http://www.w3.org/1998/Math/MathML&quot; display=&quot;block&quot;&gt;&lt;msub&gt;&lt;mi&gt;G&lt;/mi&gt;&lt;mn&gt;3&lt;/mn&gt;&lt;/msub&gt;&lt;/math&gt;\" role=\"presentation\" style=\"font-size: 100%; display: inline-block; position: relative;\"><svg xmlns=\"http://www.w3.org/2000/svg\" xmlns:xlink=\"http://www.w3.org/1999/xlink\" width=\"2.881ex\" height=\"2.349ex\" viewBox=\"0 -772.3 1240.4 1011.3\" role=\"img\" focusable=\"false\" style=\"vertical-align: -0.555ex;\" aria-hidden=\"true\"><g stroke=\"currentColor\" fill=\"currentColor\" stroke-width=\"0\" transform=\"matrix(1 0 0 -1 0 0)\"><path stroke-width=\"1\" d=\"M50 252Q50 367 117 473T286 641T490 704Q580 704 633 653Q642 643 648 636T656 626L657 623Q660 623 684 649Q691 655 699 663T715 679T725 690L740 705H746Q760 705 760 698Q760 694 728 561Q692 422 692 421Q690 416 687 415T669 413H653Q647 419 647 422Q647 423 648 429T650 449T651 481Q651 552 619 605T510 659Q492 659 471 656T418 643T357 615T294 567T236 496T189 394T158 260Q156 242 156 221Q156 173 170 136T206 79T256 45T308 28T353 24Q407 24 452 47T514 106Q517 114 529 161T541 214Q541 222 528 224T468 227H431Q425 233 425 235T427 254Q431 267 437 273H454Q494 271 594 271Q634 271 659 271T695 272T707 272Q721 272 721 263Q721 261 719 249Q714 230 709 228Q706 227 694 227Q674 227 653 224Q646 221 643 215T629 164Q620 131 614 108Q589 6 586 3Q584 1 581 1Q571 1 553 21T530 52Q530 53 528 52T522 47Q448 -22 322 -22Q201 -22 126 55T50 252Z\"/><g transform=\"translate(786,-150)\"><path stroke-width=\"1\" transform=\"scale(0.707)\" d=\"M127 463Q100 463 85 480T69 524Q69 579 117 622T233 665Q268 665 277 664Q351 652 390 611T430 522Q430 470 396 421T302 350L299 348Q299 347 308 345T337 336T375 315Q457 262 457 175Q457 96 395 37T238 -22Q158 -22 100 21T42 130Q42 158 60 175T105 193Q133 193 151 175T169 130Q169 119 166 110T159 94T148 82T136 74T126 70T118 67L114 66Q165 21 238 21Q293 21 321 74Q338 107 338 175V195Q338 290 274 322Q259 328 213 329L171 330L168 332Q166 335 166 348Q166 366 174 366Q202 366 232 371Q266 376 294 413T322 525V533Q322 590 287 612Q265 626 240 626Q208 626 181 615T143 592T132 580H135Q138 579 143 578T153 573T165 566T175 555T183 540T186 520Q186 498 172 481T127 463Z\"/></g></g></svg><span class=\"MJX_Assistive_MathML MJX_Assistive_MathML_Block\" role=\"presentation\"/></span></div><script type=\"math/tex; mode=display\" id=\"MathJax-Element-6\">G_3</script></span></div></div></div></foreignObject><text x=\"183\" y=\"327\" fill=\"rgb(0, 0, 0)\" font-family=\"Helvetica\" font-size=\"14px\" text-anchor=\"middle\">\n",
       "G_3</text></switch></g><rect x=\"7\" y=\"166\" width=\"60\" height=\"30\" fill=\"none\" stroke=\"none\" pointer-events=\"all\"/><g transform=\"translate(-0.5 -0.5)\"><switch><foreignObject pointer-events=\"none\" width=\"100%\" height=\"100%\" requiredFeatures=\"http://www.w3.org/TR/SVG11/feature#Extensibility\" style=\"overflow: visible; text-align: left;\"><div xmlns=\"http://www.w3.org/1999/xhtml\" style=\"display: flex; align-items: unsafe center; justify-content: unsafe center; width: 58px; height: 1px; padding-top: 181px; margin-left: 8px;\"><div data-drawio-colors=\"color: rgb(0, 0, 0); \" style=\"box-sizing: border-box; font-size: 0px; text-align: center;\"><div style=\"display: inline-block; font-size: 14px; font-family: Helvetica; color: rgb(0, 0, 0); line-height: 1.2; pointer-events: all; white-space: normal; overflow-wrap: normal;\"><span class=\"MathJax_Preview\" style=\"color: inherit;\"/><div class=\"MathJax_SVG_Display\" style=\"text-align: center;\"><span class=\"MathJax_SVG\" id=\"MathJax-Element-7-Frame\" tabindex=\"0\" data-mathml=\"&lt;math xmlns=&quot;http://www.w3.org/1998/Math/MathML&quot; display=&quot;block&quot;&gt;&lt;msub&gt;&lt;mi&gt;B&lt;/mi&gt;&lt;mn&gt;1&lt;/mn&gt;&lt;/msub&gt;&lt;mo&gt;,&lt;/mo&gt;&lt;msub&gt;&lt;mi&gt;G&lt;/mi&gt;&lt;mn&gt;1&lt;/mn&gt;&lt;/msub&gt;&lt;mo&gt;,&lt;/mo&gt;&lt;msub&gt;&lt;mi&gt;S&lt;/mi&gt;&lt;mn&gt;1&lt;/mn&gt;&lt;/msub&gt;&lt;/math&gt;\" role=\"presentation\" style=\"font-size: 100%; display: inline-block; position: relative;\"><svg xmlns=\"http://www.w3.org/2000/svg\" xmlns:xlink=\"http://www.w3.org/1999/xlink\" width=\"10.246ex\" height=\"2.486ex\" viewBox=\"0 -772.3 4411.6 1070.5\" role=\"img\" focusable=\"false\" style=\"vertical-align: -0.693ex;\" aria-hidden=\"true\"><g stroke=\"currentColor\" fill=\"currentColor\" stroke-width=\"0\" transform=\"matrix(1 0 0 -1 0 0)\"><path stroke-width=\"1\" d=\"M231 637Q204 637 199 638T194 649Q194 676 205 682Q206 683 335 683Q594 683 608 681Q671 671 713 636T756 544Q756 480 698 429T565 360L555 357Q619 348 660 311T702 219Q702 146 630 78T453 1Q446 0 242 0Q42 0 39 2Q35 5 35 10Q35 17 37 24Q42 43 47 45Q51 46 62 46H68Q95 46 128 49Q142 52 147 61Q150 65 219 339T288 628Q288 635 231 637ZM649 544Q649 574 634 600T585 634Q578 636 493 637Q473 637 451 637T416 636H403Q388 635 384 626Q382 622 352 506Q352 503 351 500L320 374H401Q482 374 494 376Q554 386 601 434T649 544ZM595 229Q595 273 572 302T512 336Q506 337 429 337Q311 337 310 336Q310 334 293 263T258 122L240 52Q240 48 252 48T333 46Q422 46 429 47Q491 54 543 105T595 229Z\"/><g transform=\"translate(759,-150)\"><path stroke-width=\"1\" transform=\"scale(0.707)\" d=\"M213 578L200 573Q186 568 160 563T102 556H83V602H102Q149 604 189 617T245 641T273 663Q275 666 285 666Q294 666 302 660V361L303 61Q310 54 315 52T339 48T401 46H427V0H416Q395 3 257 3Q121 3 100 0H88V46H114Q136 46 152 46T177 47T193 50T201 52T207 57T213 61V578Z\"/></g><g transform=\"translate(1213,0)\"><path stroke-width=\"1\" d=\"M78 35T78 60T94 103T137 121Q165 121 187 96T210 8Q210 -27 201 -60T180 -117T154 -158T130 -185T117 -194Q113 -194 104 -185T95 -172Q95 -168 106 -156T131 -126T157 -76T173 -3V9L172 8Q170 7 167 6T161 3T152 1T140 0Q113 0 96 17Z\"/></g><g transform=\"translate(1658,0)\"><path stroke-width=\"1\" d=\"M50 252Q50 367 117 473T286 641T490 704Q580 704 633 653Q642 643 648 636T656 626L657 623Q660 623 684 649Q691 655 699 663T715 679T725 690L740 705H746Q760 705 760 698Q760 694 728 561Q692 422 692 421Q690 416 687 415T669 413H653Q647 419 647 422Q647 423 648 429T650 449T651 481Q651 552 619 605T510 659Q492 659 471 656T418 643T357 615T294 567T236 496T189 394T158 260Q156 242 156 221Q156 173 170 136T206 79T256 45T308 28T353 24Q407 24 452 47T514 106Q517 114 529 161T541 214Q541 222 528 224T468 227H431Q425 233 425 235T427 254Q431 267 437 273H454Q494 271 594 271Q634 271 659 271T695 272T707 272Q721 272 721 263Q721 261 719 249Q714 230 709 228Q706 227 694 227Q674 227 653 224Q646 221 643 215T629 164Q620 131 614 108Q589 6 586 3Q584 1 581 1Q571 1 553 21T530 52Q530 53 528 52T522 47Q448 -22 322 -22Q201 -22 126 55T50 252Z\"/><g transform=\"translate(786,-150)\"><path stroke-width=\"1\" transform=\"scale(0.707)\" d=\"M213 578L200 573Q186 568 160 563T102 556H83V602H102Q149 604 189 617T245 641T273 663Q275 666 285 666Q294 666 302 660V361L303 61Q310 54 315 52T339 48T401 46H427V0H416Q395 3 257 3Q121 3 100 0H88V46H114Q136 46 152 46T177 47T193 50T201 52T207 57T213 61V578Z\"/></g></g><g transform=\"translate(2898,0)\"><path stroke-width=\"1\" d=\"M78 35T78 60T94 103T137 121Q165 121 187 96T210 8Q210 -27 201 -60T180 -117T154 -158T130 -185T117 -194Q113 -194 104 -185T95 -172Q95 -168 106 -156T131 -126T157 -76T173 -3V9L172 8Q170 7 167 6T161 3T152 1T140 0Q113 0 96 17Z\"/></g><g transform=\"translate(3344,0)\"><path stroke-width=\"1\" d=\"M308 24Q367 24 416 76T466 197Q466 260 414 284Q308 311 278 321T236 341Q176 383 176 462Q176 523 208 573T273 648Q302 673 343 688T407 704H418H425Q521 704 564 640Q565 640 577 653T603 682T623 704Q624 704 627 704T632 705Q645 705 645 698T617 577T585 459T569 456Q549 456 549 465Q549 471 550 475Q550 478 551 494T553 520Q553 554 544 579T526 616T501 641Q465 662 419 662Q362 662 313 616T263 510Q263 480 278 458T319 427Q323 425 389 408T456 390Q490 379 522 342T554 242Q554 216 546 186Q541 164 528 137T492 78T426 18T332 -20Q320 -22 298 -22Q199 -22 144 33L134 44L106 13Q83 -14 78 -18T65 -22Q52 -22 52 -14Q52 -11 110 221Q112 227 130 227H143Q149 221 149 216Q149 214 148 207T144 186T142 153Q144 114 160 87T203 47T255 29T308 24Z\"/><g transform=\"translate(613,-150)\"><path stroke-width=\"1\" transform=\"scale(0.707)\" d=\"M213 578L200 573Q186 568 160 563T102 556H83V602H102Q149 604 189 617T245 641T273 663Q275 666 285 666Q294 666 302 660V361L303 61Q310 54 315 52T339 48T401 46H427V0H416Q395 3 257 3Q121 3 100 0H88V46H114Q136 46 152 46T177 47T193 50T201 52T207 57T213 61V578Z\"/></g></g></g></svg><span class=\"MJX_Assistive_MathML MJX_Assistive_MathML_Block\" role=\"presentation\"/></span></div><script type=\"math/tex; mode=display\" id=\"MathJax-Element-7\">B_1, G_1,S_1 </script></div></div></div></foreignObject><text x=\"37\" y=\"185\" fill=\"rgb(0, 0, 0)\" font-family=\"Helvetica\" font-size=\"14px\" text-anchor=\"middle\">B_1, G_1...</text></switch></g><rect x=\"441\" y=\"165\" width=\"60\" height=\"30\" fill=\"none\" stroke=\"none\" pointer-events=\"all\"/><g transform=\"translate(-0.5 -0.5)\"><switch><foreignObject pointer-events=\"none\" width=\"100%\" height=\"100%\" requiredFeatures=\"http://www.w3.org/TR/SVG11/feature#Extensibility\" style=\"overflow: visible; text-align: left;\"><div xmlns=\"http://www.w3.org/1999/xhtml\" style=\"display: flex; align-items: unsafe center; justify-content: unsafe center; width: 58px; height: 1px; padding-top: 180px; margin-left: 442px;\"><div data-drawio-colors=\"color: rgb(0, 0, 0); \" style=\"box-sizing: border-box; font-size: 0px; text-align: center;\"><div style=\"display: inline-block; font-size: 14px; font-family: Helvetica; color: rgb(0, 0, 0); line-height: 1.2; pointer-events: all; white-space: normal; overflow-wrap: normal;\"><span class=\"MathJax_Preview\" style=\"color: inherit;\"/><div class=\"MathJax_SVG_Display\" style=\"text-align: center;\"><span class=\"MathJax_SVG\" id=\"MathJax-Element-8-Frame\" tabindex=\"0\" data-mathml=\"&lt;math xmlns=&quot;http://www.w3.org/1998/Math/MathML&quot; display=&quot;block&quot;&gt;&lt;msub&gt;&lt;mi&gt;B&lt;/mi&gt;&lt;mn&gt;2&lt;/mn&gt;&lt;/msub&gt;&lt;mo&gt;,&lt;/mo&gt;&lt;msub&gt;&lt;mi&gt;G&lt;/mi&gt;&lt;mn&gt;6&lt;/mn&gt;&lt;/msub&gt;&lt;mo&gt;,&lt;/mo&gt;&lt;msub&gt;&lt;mi&gt;S&lt;/mi&gt;&lt;mn&gt;3&lt;/mn&gt;&lt;/msub&gt;&lt;/math&gt;\" role=\"presentation\" style=\"font-size: 100%; display: inline-block; position: relative;\"><svg xmlns=\"http://www.w3.org/2000/svg\" xmlns:xlink=\"http://www.w3.org/1999/xlink\" width=\"10.246ex\" height=\"2.486ex\" viewBox=\"0 -772.3 4411.6 1070.5\" role=\"img\" focusable=\"false\" style=\"vertical-align: -0.693ex;\" aria-hidden=\"true\"><g stroke=\"currentColor\" fill=\"currentColor\" stroke-width=\"0\" transform=\"matrix(1 0 0 -1 0 0)\"><path stroke-width=\"1\" d=\"M231 637Q204 637 199 638T194 649Q194 676 205 682Q206 683 335 683Q594 683 608 681Q671 671 713 636T756 544Q756 480 698 429T565 360L555 357Q619 348 660 311T702 219Q702 146 630 78T453 1Q446 0 242 0Q42 0 39 2Q35 5 35 10Q35 17 37 24Q42 43 47 45Q51 46 62 46H68Q95 46 128 49Q142 52 147 61Q150 65 219 339T288 628Q288 635 231 637ZM649 544Q649 574 634 600T585 634Q578 636 493 637Q473 637 451 637T416 636H403Q388 635 384 626Q382 622 352 506Q352 503 351 500L320 374H401Q482 374 494 376Q554 386 601 434T649 544ZM595 229Q595 273 572 302T512 336Q506 337 429 337Q311 337 310 336Q310 334 293 263T258 122L240 52Q240 48 252 48T333 46Q422 46 429 47Q491 54 543 105T595 229Z\"/><g transform=\"translate(759,-150)\"><path stroke-width=\"1\" transform=\"scale(0.707)\" d=\"M109 429Q82 429 66 447T50 491Q50 562 103 614T235 666Q326 666 387 610T449 465Q449 422 429 383T381 315T301 241Q265 210 201 149L142 93L218 92Q375 92 385 97Q392 99 409 186V189H449V186Q448 183 436 95T421 3V0H50V19V31Q50 38 56 46T86 81Q115 113 136 137Q145 147 170 174T204 211T233 244T261 278T284 308T305 340T320 369T333 401T340 431T343 464Q343 527 309 573T212 619Q179 619 154 602T119 569T109 550Q109 549 114 549Q132 549 151 535T170 489Q170 464 154 447T109 429Z\"/></g><g transform=\"translate(1213,0)\"><path stroke-width=\"1\" d=\"M78 35T78 60T94 103T137 121Q165 121 187 96T210 8Q210 -27 201 -60T180 -117T154 -158T130 -185T117 -194Q113 -194 104 -185T95 -172Q95 -168 106 -156T131 -126T157 -76T173 -3V9L172 8Q170 7 167 6T161 3T152 1T140 0Q113 0 96 17Z\"/></g><g transform=\"translate(1658,0)\"><path stroke-width=\"1\" d=\"M50 252Q50 367 117 473T286 641T490 704Q580 704 633 653Q642 643 648 636T656 626L657 623Q660 623 684 649Q691 655 699 663T715 679T725 690L740 705H746Q760 705 760 698Q760 694 728 561Q692 422 692 421Q690 416 687 415T669 413H653Q647 419 647 422Q647 423 648 429T650 449T651 481Q651 552 619 605T510 659Q492 659 471 656T418 643T357 615T294 567T236 496T189 394T158 260Q156 242 156 221Q156 173 170 136T206 79T256 45T308 28T353 24Q407 24 452 47T514 106Q517 114 529 161T541 214Q541 222 528 224T468 227H431Q425 233 425 235T427 254Q431 267 437 273H454Q494 271 594 271Q634 271 659 271T695 272T707 272Q721 272 721 263Q721 261 719 249Q714 230 709 228Q706 227 694 227Q674 227 653 224Q646 221 643 215T629 164Q620 131 614 108Q589 6 586 3Q584 1 581 1Q571 1 553 21T530 52Q530 53 528 52T522 47Q448 -22 322 -22Q201 -22 126 55T50 252Z\"/><g transform=\"translate(786,-150)\"><path stroke-width=\"1\" transform=\"scale(0.707)\" d=\"M42 313Q42 476 123 571T303 666Q372 666 402 630T432 550Q432 525 418 510T379 495Q356 495 341 509T326 548Q326 592 373 601Q351 623 311 626Q240 626 194 566Q147 500 147 364L148 360Q153 366 156 373Q197 433 263 433H267Q313 433 348 414Q372 400 396 374T435 317Q456 268 456 210V192Q456 169 451 149Q440 90 387 34T253 -22Q225 -22 199 -14T143 16T92 75T56 172T42 313ZM257 397Q227 397 205 380T171 335T154 278T148 216Q148 133 160 97T198 39Q222 21 251 21Q302 21 329 59Q342 77 347 104T352 209Q352 289 347 316T329 361Q302 397 257 397Z\"/></g></g><g transform=\"translate(2898,0)\"><path stroke-width=\"1\" d=\"M78 35T78 60T94 103T137 121Q165 121 187 96T210 8Q210 -27 201 -60T180 -117T154 -158T130 -185T117 -194Q113 -194 104 -185T95 -172Q95 -168 106 -156T131 -126T157 -76T173 -3V9L172 8Q170 7 167 6T161 3T152 1T140 0Q113 0 96 17Z\"/></g><g transform=\"translate(3344,0)\"><path stroke-width=\"1\" d=\"M308 24Q367 24 416 76T466 197Q466 260 414 284Q308 311 278 321T236 341Q176 383 176 462Q176 523 208 573T273 648Q302 673 343 688T407 704H418H425Q521 704 564 640Q565 640 577 653T603 682T623 704Q624 704 627 704T632 705Q645 705 645 698T617 577T585 459T569 456Q549 456 549 465Q549 471 550 475Q550 478 551 494T553 520Q553 554 544 579T526 616T501 641Q465 662 419 662Q362 662 313 616T263 510Q263 480 278 458T319 427Q323 425 389 408T456 390Q490 379 522 342T554 242Q554 216 546 186Q541 164 528 137T492 78T426 18T332 -20Q320 -22 298 -22Q199 -22 144 33L134 44L106 13Q83 -14 78 -18T65 -22Q52 -22 52 -14Q52 -11 110 221Q112 227 130 227H143Q149 221 149 216Q149 214 148 207T144 186T142 153Q144 114 160 87T203 47T255 29T308 24Z\"/><g transform=\"translate(613,-150)\"><path stroke-width=\"1\" transform=\"scale(0.707)\" d=\"M127 463Q100 463 85 480T69 524Q69 579 117 622T233 665Q268 665 277 664Q351 652 390 611T430 522Q430 470 396 421T302 350L299 348Q299 347 308 345T337 336T375 315Q457 262 457 175Q457 96 395 37T238 -22Q158 -22 100 21T42 130Q42 158 60 175T105 193Q133 193 151 175T169 130Q169 119 166 110T159 94T148 82T136 74T126 70T118 67L114 66Q165 21 238 21Q293 21 321 74Q338 107 338 175V195Q338 290 274 322Q259 328 213 329L171 330L168 332Q166 335 166 348Q166 366 174 366Q202 366 232 371Q266 376 294 413T322 525V533Q322 590 287 612Q265 626 240 626Q208 626 181 615T143 592T132 580H135Q138 579 143 578T153 573T165 566T175 555T183 540T186 520Q186 498 172 481T127 463Z\"/></g></g></g></svg><span class=\"MJX_Assistive_MathML MJX_Assistive_MathML_Block\" role=\"presentation\"/></span></div><script type=\"math/tex; mode=display\" id=\"MathJax-Element-8\">B_2, G_6, S_3 </script></div></div></div></foreignObject><text x=\"471\" y=\"184\" fill=\"rgb(0, 0, 0)\" font-family=\"Helvetica\" font-size=\"14px\" text-anchor=\"middle\">B_2, G_6...</text></switch></g><rect x=\"381\" y=\"234\" width=\"60\" height=\"30\" fill=\"none\" stroke=\"none\" pointer-events=\"all\"/><g transform=\"translate(-0.5 -0.5)\"><switch><foreignObject pointer-events=\"none\" width=\"100%\" height=\"100%\" requiredFeatures=\"http://www.w3.org/TR/SVG11/feature#Extensibility\" style=\"overflow: visible; text-align: left;\"><div xmlns=\"http://www.w3.org/1999/xhtml\" style=\"display: flex; align-items: unsafe center; justify-content: unsafe center; width: 58px; height: 1px; padding-top: 249px; margin-left: 382px;\"><div data-drawio-colors=\"color: rgb(0, 0, 0); \" style=\"box-sizing: border-box; font-size: 0px; text-align: center;\"><div style=\"display: inline-block; font-size: 14px; font-family: Helvetica; color: rgb(0, 0, 0); line-height: 1.2; pointer-events: all; white-space: normal; overflow-wrap: normal;\"><span class=\"MathJax_Preview\" style=\"color: inherit;\"/><div class=\"MathJax_SVG_Display\" style=\"text-align: center;\"><span class=\"MathJax_SVG\" id=\"MathJax-Element-9-Frame\" tabindex=\"0\" data-mathml=\"&lt;math xmlns=&quot;http://www.w3.org/1998/Math/MathML&quot; display=&quot;block&quot;&gt;&lt;msub&gt;&lt;mi&gt;G&lt;/mi&gt;&lt;mn&gt;4&lt;/mn&gt;&lt;/msub&gt;&lt;/math&gt;\" role=\"presentation\" style=\"font-size: 100%; display: inline-block; position: relative;\"><svg xmlns=\"http://www.w3.org/2000/svg\" xmlns:xlink=\"http://www.w3.org/1999/xlink\" width=\"2.881ex\" height=\"2.349ex\" viewBox=\"0 -772.3 1240.4 1011.3\" role=\"img\" focusable=\"false\" style=\"vertical-align: -0.555ex;\" aria-hidden=\"true\"><g stroke=\"currentColor\" fill=\"currentColor\" stroke-width=\"0\" transform=\"matrix(1 0 0 -1 0 0)\"><path stroke-width=\"1\" d=\"M50 252Q50 367 117 473T286 641T490 704Q580 704 633 653Q642 643 648 636T656 626L657 623Q660 623 684 649Q691 655 699 663T715 679T725 690L740 705H746Q760 705 760 698Q760 694 728 561Q692 422 692 421Q690 416 687 415T669 413H653Q647 419 647 422Q647 423 648 429T650 449T651 481Q651 552 619 605T510 659Q492 659 471 656T418 643T357 615T294 567T236 496T189 394T158 260Q156 242 156 221Q156 173 170 136T206 79T256 45T308 28T353 24Q407 24 452 47T514 106Q517 114 529 161T541 214Q541 222 528 224T468 227H431Q425 233 425 235T427 254Q431 267 437 273H454Q494 271 594 271Q634 271 659 271T695 272T707 272Q721 272 721 263Q721 261 719 249Q714 230 709 228Q706 227 694 227Q674 227 653 224Q646 221 643 215T629 164Q620 131 614 108Q589 6 586 3Q584 1 581 1Q571 1 553 21T530 52Q530 53 528 52T522 47Q448 -22 322 -22Q201 -22 126 55T50 252Z\"/><g transform=\"translate(786,-150)\"><path stroke-width=\"1\" transform=\"scale(0.707)\" d=\"M462 0Q444 3 333 3Q217 3 199 0H190V46H221Q241 46 248 46T265 48T279 53T286 61Q287 63 287 115V165H28V211L179 442Q332 674 334 675Q336 677 355 677H373L379 671V211H471V165H379V114Q379 73 379 66T385 54Q393 47 442 46H471V0H462ZM293 211V545L74 212L183 211H293Z\"/></g></g></svg><span class=\"MJX_Assistive_MathML MJX_Assistive_MathML_Block\" role=\"presentation\"/></span></div><script type=\"math/tex; mode=display\" id=\"MathJax-Element-9\">G_4</script></div></div></div></foreignObject><text x=\"411\" y=\"253\" fill=\"rgb(0, 0, 0)\" font-family=\"Helvetica\" font-size=\"14px\" text-anchor=\"middle\">\n",
       "G_4</text></switch></g><path d=\"M 441 156 L 541 156\" fill=\"none\" stroke=\"#000000\" stroke-miterlimit=\"10\" stroke-dasharray=\"3 3\" pointer-events=\"stroke\"/><path d=\"M 65.57 155.95 L 92.76 155.99\" fill=\"none\" stroke=\"#d79b00\" stroke-width=\"2\" stroke-miterlimit=\"10\" pointer-events=\"stroke\"/><path d=\"M 98.76 156 L 90.76 159.99 L 92.76 155.99 L 90.77 151.99 Z\" fill=\"#d79b00\" stroke=\"#d79b00\" stroke-width=\"2\" stroke-miterlimit=\"10\" pointer-events=\"all\"/><path d=\"M 426 156 L 452.76 156\" fill=\"none\" stroke=\"#d79b00\" stroke-width=\"2\" stroke-miterlimit=\"10\" pointer-events=\"stroke\"/><path d=\"M 458.76 156 L 450.76 160 L 452.76 156 L 450.76 152 Z\" fill=\"#d79b00\" stroke=\"#d79b00\" stroke-width=\"2\" stroke-miterlimit=\"10\" pointer-events=\"all\"/><rect x=\"66\" y=\"152\" width=\"60\" height=\"30\" fill=\"none\" stroke=\"none\" pointer-events=\"all\"/><g transform=\"translate(-0.5 -0.5)\"><switch><foreignObject pointer-events=\"none\" width=\"100%\" height=\"100%\" requiredFeatures=\"http://www.w3.org/TR/SVG11/feature#Extensibility\" style=\"overflow: visible; text-align: left;\"><div xmlns=\"http://www.w3.org/1999/xhtml\" style=\"display: flex; align-items: unsafe center; justify-content: unsafe center; width: 58px; height: 1px; padding-top: 167px; margin-left: 67px;\"><div data-drawio-colors=\"color: rgb(0, 0, 0); \" style=\"box-sizing: border-box; font-size: 0px; text-align: center;\"><div style=\"display: inline-block; font-size: 14px; font-family: Helvetica; color: rgb(0, 0, 0); line-height: 1.2; pointer-events: all; white-space: normal; overflow-wrap: normal;\"><font color=\"#d79b00\"><span class=\"MathJax_Preview\" style=\"color: inherit;\"/><div class=\"MathJax_SVG_Display\" style=\"text-align: center;\"><span class=\"MathJax_SVG\" id=\"MathJax-Element-10-Frame\" tabindex=\"0\" data-mathml=\"&lt;math xmlns=&quot;http://www.w3.org/1998/Math/MathML&quot; display=&quot;block&quot;&gt;&lt;msub&gt;&lt;mi&gt;q&lt;/mi&gt;&lt;mn&gt;1&lt;/mn&gt;&lt;/msub&gt;&lt;/math&gt;\" role=\"presentation\" style=\"font-size: 100%; display: inline-block; position: relative;\"><svg xmlns=\"http://www.w3.org/2000/svg\" xmlns:xlink=\"http://www.w3.org/1999/xlink\" width=\"2.091ex\" height=\"1.936ex\" viewBox=\"0 -535.3 900.4 833.5\" role=\"img\" focusable=\"false\" style=\"vertical-align: -0.693ex;\" aria-hidden=\"true\"><g stroke=\"currentColor\" fill=\"currentColor\" stroke-width=\"0\" transform=\"matrix(1 0 0 -1 0 0)\"><path stroke-width=\"1\" d=\"M33 157Q33 258 109 349T280 441Q340 441 372 389Q373 390 377 395T388 406T404 418Q438 442 450 442Q454 442 457 439T460 434Q460 425 391 149Q320 -135 320 -139Q320 -147 365 -148H390Q396 -156 396 -157T393 -175Q389 -188 383 -194H370Q339 -192 262 -192Q234 -192 211 -192T174 -192T157 -193Q143 -193 143 -185Q143 -182 145 -170Q149 -154 152 -151T172 -148Q220 -148 230 -141Q238 -136 258 -53T279 32Q279 33 272 29Q224 -10 172 -10Q117 -10 75 30T33 157ZM352 326Q329 405 277 405Q242 405 210 374T160 293Q131 214 119 129Q119 126 119 118T118 106Q118 61 136 44T179 26Q233 26 290 98L298 109L352 326Z\"/><g transform=\"translate(446,-150)\"><path stroke-width=\"1\" transform=\"scale(0.707)\" d=\"M213 578L200 573Q186 568 160 563T102 556H83V602H102Q149 604 189 617T245 641T273 663Q275 666 285 666Q294 666 302 660V361L303 61Q310 54 315 52T339 48T401 46H427V0H416Q395 3 257 3Q121 3 100 0H88V46H114Q136 46 152 46T177 47T193 50T201 52T207 57T213 61V578Z\"/></g></g></svg><span class=\"MJX_Assistive_MathML MJX_Assistive_MathML_Block\" role=\"presentation\"/></span></div><script type=\"math/tex; mode=display\" id=\"MathJax-Element-10\">q_1</script></font></div></div></div></foreignObject><text x=\"96\" y=\"171\" fill=\"rgb(0, 0, 0)\" font-family=\"Helvetica\" font-size=\"14px\" text-anchor=\"middle\">\n",
       "q_1</text></switch></g><rect x=\"423\" y=\"125\" width=\"60\" height=\"30\" fill=\"none\" stroke=\"none\" pointer-events=\"all\"/><g transform=\"translate(-0.5 -0.5)\"><switch><foreignObject pointer-events=\"none\" width=\"100%\" height=\"100%\" requiredFeatures=\"http://www.w3.org/TR/SVG11/feature#Extensibility\" style=\"overflow: visible; text-align: left;\"><div xmlns=\"http://www.w3.org/1999/xhtml\" style=\"display: flex; align-items: unsafe center; justify-content: unsafe center; width: 58px; height: 1px; padding-top: 140px; margin-left: 424px;\"><div data-drawio-colors=\"color: rgb(0, 0, 0); \" style=\"box-sizing: border-box; font-size: 0px; text-align: center;\"><div style=\"display: inline-block; font-size: 14px; font-family: Helvetica; color: rgb(0, 0, 0); line-height: 1.2; pointer-events: all; white-space: normal; overflow-wrap: normal;\"><font color=\"#d79b00\"><span class=\"MathJax_Preview\" style=\"color: inherit;\"/><div class=\"MathJax_SVG_Display\" style=\"text-align: center;\"><span class=\"MathJax_SVG\" id=\"MathJax-Element-11-Frame\" tabindex=\"0\" data-mathml=\"&lt;math xmlns=&quot;http://www.w3.org/1998/Math/MathML&quot; display=&quot;block&quot;&gt;&lt;msub&gt;&lt;mi&gt;q&lt;/mi&gt;&lt;mn&gt;2&lt;/mn&gt;&lt;/msub&gt;&lt;/math&gt;\" role=\"presentation\" style=\"font-size: 100%; display: inline-block; position: relative;\"><svg xmlns=\"http://www.w3.org/2000/svg\" xmlns:xlink=\"http://www.w3.org/1999/xlink\" width=\"2.091ex\" height=\"1.936ex\" viewBox=\"0 -535.3 900.4 833.5\" role=\"img\" focusable=\"false\" style=\"vertical-align: -0.693ex;\" aria-hidden=\"true\"><g stroke=\"currentColor\" fill=\"currentColor\" stroke-width=\"0\" transform=\"matrix(1 0 0 -1 0 0)\"><path stroke-width=\"1\" d=\"M33 157Q33 258 109 349T280 441Q340 441 372 389Q373 390 377 395T388 406T404 418Q438 442 450 442Q454 442 457 439T460 434Q460 425 391 149Q320 -135 320 -139Q320 -147 365 -148H390Q396 -156 396 -157T393 -175Q389 -188 383 -194H370Q339 -192 262 -192Q234 -192 211 -192T174 -192T157 -193Q143 -193 143 -185Q143 -182 145 -170Q149 -154 152 -151T172 -148Q220 -148 230 -141Q238 -136 258 -53T279 32Q279 33 272 29Q224 -10 172 -10Q117 -10 75 30T33 157ZM352 326Q329 405 277 405Q242 405 210 374T160 293Q131 214 119 129Q119 126 119 118T118 106Q118 61 136 44T179 26Q233 26 290 98L298 109L352 326Z\"/><g transform=\"translate(446,-150)\"><path stroke-width=\"1\" transform=\"scale(0.707)\" d=\"M109 429Q82 429 66 447T50 491Q50 562 103 614T235 666Q326 666 387 610T449 465Q449 422 429 383T381 315T301 241Q265 210 201 149L142 93L218 92Q375 92 385 97Q392 99 409 186V189H449V186Q448 183 436 95T421 3V0H50V19V31Q50 38 56 46T86 81Q115 113 136 137Q145 147 170 174T204 211T233 244T261 278T284 308T305 340T320 369T333 401T340 431T343 464Q343 527 309 573T212 619Q179 619 154 602T119 569T109 550Q109 549 114 549Q132 549 151 535T170 489Q170 464 154 447T109 429Z\"/></g></g></svg><span class=\"MJX_Assistive_MathML MJX_Assistive_MathML_Block\" role=\"presentation\"/></span></div><script type=\"math/tex; mode=display\" id=\"MathJax-Element-11\">q_2</script></font></div></div></div></foreignObject><text x=\"453\" y=\"144\" fill=\"rgb(0, 0, 0)\" font-family=\"Helvetica\" font-size=\"14px\" text-anchor=\"middle\">\n",
       "q_2</text></switch></g><rect x=\"51\" y=\"121\" width=\"60\" height=\"30\" fill=\"none\" stroke=\"none\" pointer-events=\"all\"/><g transform=\"translate(-0.5 -0.5)\"><switch><foreignObject pointer-events=\"none\" width=\"100%\" height=\"100%\" requiredFeatures=\"http://www.w3.org/TR/SVG11/feature#Extensibility\" style=\"overflow: visible; text-align: left;\"><div xmlns=\"http://www.w3.org/1999/xhtml\" style=\"display: flex; align-items: unsafe center; justify-content: unsafe center; width: 58px; height: 1px; padding-top: 136px; margin-left: 52px;\"><div data-drawio-colors=\"color: rgb(0, 0, 0); \" style=\"box-sizing: border-box; font-size: 0px; text-align: center;\"><div style=\"display: inline-block; font-size: 14px; font-family: Helvetica; color: rgb(0, 0, 0); line-height: 1.2; pointer-events: all; white-space: normal; overflow-wrap: normal;\"><span class=\"MathJax_Preview\" style=\"color: inherit;\"/><div class=\"MathJax_SVG_Display\" style=\"text-align: center;\"><span class=\"MathJax_SVG\" id=\"MathJax-Element-12-Frame\" tabindex=\"0\" data-mathml=\"&lt;math xmlns=&quot;http://www.w3.org/1998/Math/MathML&quot; display=&quot;block&quot;&gt;&lt;msub&gt;&lt;mi&gt;m&lt;/mi&gt;&lt;mn&gt;1&lt;/mn&gt;&lt;/msub&gt;&lt;/math&gt;\" role=\"presentation\" style=\"font-size: 100%; display: inline-block; position: relative;\"><svg xmlns=\"http://www.w3.org/2000/svg\" xmlns:xlink=\"http://www.w3.org/1999/xlink\" width=\"3.095ex\" height=\"1.798ex\" viewBox=\"0 -535.3 1332.4 774.3\" role=\"img\" focusable=\"false\" style=\"vertical-align: -0.555ex;\" aria-hidden=\"true\"><g stroke=\"currentColor\" fill=\"currentColor\" stroke-width=\"0\" transform=\"matrix(1 0 0 -1 0 0)\"><path stroke-width=\"1\" d=\"M21 287Q22 293 24 303T36 341T56 388T88 425T132 442T175 435T205 417T221 395T229 376L231 369Q231 367 232 367L243 378Q303 442 384 442Q401 442 415 440T441 433T460 423T475 411T485 398T493 385T497 373T500 364T502 357L510 367Q573 442 659 442Q713 442 746 415T780 336Q780 285 742 178T704 50Q705 36 709 31T724 26Q752 26 776 56T815 138Q818 149 821 151T837 153Q857 153 857 145Q857 144 853 130Q845 101 831 73T785 17T716 -10Q669 -10 648 17T627 73Q627 92 663 193T700 345Q700 404 656 404H651Q565 404 506 303L499 291L466 157Q433 26 428 16Q415 -11 385 -11Q372 -11 364 -4T353 8T350 18Q350 29 384 161L420 307Q423 322 423 345Q423 404 379 404H374Q288 404 229 303L222 291L189 157Q156 26 151 16Q138 -11 108 -11Q95 -11 87 -5T76 7T74 17Q74 30 112 181Q151 335 151 342Q154 357 154 369Q154 405 129 405Q107 405 92 377T69 316T57 280Q55 278 41 278H27Q21 284 21 287Z\"/><g transform=\"translate(878,-150)\"><path stroke-width=\"1\" transform=\"scale(0.707)\" d=\"M213 578L200 573Q186 568 160 563T102 556H83V602H102Q149 604 189 617T245 641T273 663Q275 666 285 666Q294 666 302 660V361L303 61Q310 54 315 52T339 48T401 46H427V0H416Q395 3 257 3Q121 3 100 0H88V46H114Q136 46 152 46T177 47T193 50T201 52T207 57T213 61V578Z\"/></g></g></svg><span class=\"MJX_Assistive_MathML MJX_Assistive_MathML_Block\" role=\"presentation\"/></span></div><script type=\"math/tex; mode=display\" id=\"MathJax-Element-12\">m_1</script></div></div></div></foreignObject><text x=\"81\" y=\"140\" fill=\"rgb(0, 0, 0)\" font-family=\"Helvetica\" font-size=\"14px\" text-anchor=\"middle\">\n",
       "m_1</text></switch></g><rect x=\"404\" y=\"116\" width=\"60\" height=\"30\" fill=\"none\" stroke=\"none\" pointer-events=\"all\"/><g transform=\"translate(-0.5 -0.5)\"><switch><foreignObject pointer-events=\"none\" width=\"100%\" height=\"100%\" requiredFeatures=\"http://www.w3.org/TR/SVG11/feature#Extensibility\" style=\"overflow: visible; text-align: left;\"><div xmlns=\"http://www.w3.org/1999/xhtml\" style=\"display: flex; align-items: unsafe center; justify-content: unsafe center; width: 58px; height: 1px; padding-top: 131px; margin-left: 405px;\"><div data-drawio-colors=\"color: rgb(0, 0, 0); \" style=\"box-sizing: border-box; font-size: 0px; text-align: center;\"><div style=\"display: inline-block; font-size: 14px; font-family: Helvetica; color: rgb(0, 0, 0); line-height: 1.2; pointer-events: all; white-space: normal; overflow-wrap: normal;\"><span class=\"MathJax_Preview\" style=\"color: inherit;\"/><div class=\"MathJax_SVG_Display\" style=\"text-align: center;\"><span class=\"MathJax_SVG\" id=\"MathJax-Element-13-Frame\" tabindex=\"0\" data-mathml=\"&lt;math xmlns=&quot;http://www.w3.org/1998/Math/MathML&quot; display=&quot;block&quot;&gt;&lt;msub&gt;&lt;mi&gt;m&lt;/mi&gt;&lt;mn&gt;3&lt;/mn&gt;&lt;/msub&gt;&lt;/math&gt;\" role=\"presentation\" style=\"font-size: 100%; display: inline-block; position: relative;\"><svg xmlns=\"http://www.w3.org/2000/svg\" xmlns:xlink=\"http://www.w3.org/1999/xlink\" width=\"3.095ex\" height=\"1.798ex\" viewBox=\"0 -535.3 1332.4 774.3\" role=\"img\" focusable=\"false\" style=\"vertical-align: -0.555ex;\" aria-hidden=\"true\"><g stroke=\"currentColor\" fill=\"currentColor\" stroke-width=\"0\" transform=\"matrix(1 0 0 -1 0 0)\"><path stroke-width=\"1\" d=\"M21 287Q22 293 24 303T36 341T56 388T88 425T132 442T175 435T205 417T221 395T229 376L231 369Q231 367 232 367L243 378Q303 442 384 442Q401 442 415 440T441 433T460 423T475 411T485 398T493 385T497 373T500 364T502 357L510 367Q573 442 659 442Q713 442 746 415T780 336Q780 285 742 178T704 50Q705 36 709 31T724 26Q752 26 776 56T815 138Q818 149 821 151T837 153Q857 153 857 145Q857 144 853 130Q845 101 831 73T785 17T716 -10Q669 -10 648 17T627 73Q627 92 663 193T700 345Q700 404 656 404H651Q565 404 506 303L499 291L466 157Q433 26 428 16Q415 -11 385 -11Q372 -11 364 -4T353 8T350 18Q350 29 384 161L420 307Q423 322 423 345Q423 404 379 404H374Q288 404 229 303L222 291L189 157Q156 26 151 16Q138 -11 108 -11Q95 -11 87 -5T76 7T74 17Q74 30 112 181Q151 335 151 342Q154 357 154 369Q154 405 129 405Q107 405 92 377T69 316T57 280Q55 278 41 278H27Q21 284 21 287Z\"/><g transform=\"translate(878,-150)\"><path stroke-width=\"1\" transform=\"scale(0.707)\" d=\"M127 463Q100 463 85 480T69 524Q69 579 117 622T233 665Q268 665 277 664Q351 652 390 611T430 522Q430 470 396 421T302 350L299 348Q299 347 308 345T337 336T375 315Q457 262 457 175Q457 96 395 37T238 -22Q158 -22 100 21T42 130Q42 158 60 175T105 193Q133 193 151 175T169 130Q169 119 166 110T159 94T148 82T136 74T126 70T118 67L114 66Q165 21 238 21Q293 21 321 74Q338 107 338 175V195Q338 290 274 322Q259 328 213 329L171 330L168 332Q166 335 166 348Q166 366 174 366Q202 366 232 371Q266 376 294 413T322 525V533Q322 590 287 612Q265 626 240 626Q208 626 181 615T143 592T132 580H135Q138 579 143 578T153 573T165 566T175 555T183 540T186 520Q186 498 172 481T127 463Z\"/></g></g></svg><span class=\"MJX_Assistive_MathML MJX_Assistive_MathML_Block\" role=\"presentation\"/></span></div><script type=\"math/tex; mode=display\" id=\"MathJax-Element-13\">m_3</script></div></div></div></foreignObject><text x=\"434\" y=\"135\" fill=\"rgb(0, 0, 0)\" font-family=\"Helvetica\" font-size=\"14px\" text-anchor=\"middle\">\n",
       "m_3</text></switch></g><path d=\"M 67.37 36 L 414.63 36\" fill=\"none\" stroke=\"rgb(0, 0, 0)\" stroke-miterlimit=\"10\" pointer-events=\"stroke\"/><path d=\"M 62.12 36 L 69.12 32.5 L 67.37 36 L 69.12 39.5 Z\" fill=\"rgb(0, 0, 0)\" stroke=\"rgb(0, 0, 0)\" stroke-miterlimit=\"10\" pointer-events=\"all\"/><path d=\"M 419.88 36 L 412.88 39.5 L 414.63 36 L 412.88 32.5 Z\" fill=\"rgb(0, 0, 0)\" stroke=\"rgb(0, 0, 0)\" stroke-miterlimit=\"10\" pointer-events=\"all\"/><path d=\"M 421 146 L 420.76 36\" fill=\"none\" stroke=\"rgb(0, 0, 0)\" stroke-miterlimit=\"10\" stroke-dasharray=\"3 3\" pointer-events=\"stroke\"/><path d=\"M 61 75 L 60.86 35\" fill=\"none\" stroke=\"rgb(0, 0, 0)\" stroke-miterlimit=\"10\" stroke-dasharray=\"3 3\" pointer-events=\"stroke\"/><rect x=\"231\" y=\"7\" width=\"60\" height=\"30\" fill=\"none\" stroke=\"none\" pointer-events=\"all\"/><g transform=\"translate(-0.5 -0.5)\"><switch><foreignObject pointer-events=\"none\" width=\"100%\" height=\"100%\" requiredFeatures=\"http://www.w3.org/TR/SVG11/feature#Extensibility\" style=\"overflow: visible; text-align: left;\"><div xmlns=\"http://www.w3.org/1999/xhtml\" style=\"display: flex; align-items: unsafe center; justify-content: unsafe center; width: 58px; height: 1px; padding-top: 22px; margin-left: 232px;\"><div data-drawio-colors=\"color: rgb(0, 0, 0); \" style=\"box-sizing: border-box; font-size: 0px; text-align: center;\"><div style=\"display: inline-block; font-size: 14px; font-family: Helvetica; color: rgb(0, 0, 0); line-height: 1.2; pointer-events: all; white-space: normal; overflow-wrap: normal;\"><span class=\"MathJax_Preview\" style=\"color: inherit;\"/><div class=\"MathJax_SVG_Display\" style=\"text-align: center;\"><span class=\"MathJax_SVG\" id=\"MathJax-Element-14-Frame\" tabindex=\"0\" data-mathml=\"&lt;math xmlns=&quot;http://www.w3.org/1998/Math/MathML&quot; display=&quot;block&quot;&gt;&lt;msub&gt;&lt;mi&gt;l&lt;/mi&gt;&lt;mn&gt;0&lt;/mn&gt;&lt;/msub&gt;&lt;/math&gt;\" role=\"presentation\" style=\"font-size: 100%; display: inline-block; position: relative;\"><svg xmlns=\"http://www.w3.org/2000/svg\" xmlns:xlink=\"http://www.w3.org/1999/xlink\" width=\"1.748ex\" height=\"2.349ex\" viewBox=\"0 -772.3 752.4 1011.3\" role=\"img\" focusable=\"false\" style=\"vertical-align: -0.555ex;\" aria-hidden=\"true\"><g stroke=\"currentColor\" fill=\"currentColor\" stroke-width=\"0\" transform=\"matrix(1 0 0 -1 0 0)\"><path stroke-width=\"1\" d=\"M117 59Q117 26 142 26Q179 26 205 131Q211 151 215 152Q217 153 225 153H229Q238 153 241 153T246 151T248 144Q247 138 245 128T234 90T214 43T183 6T137 -11Q101 -11 70 11T38 85Q38 97 39 102L104 360Q167 615 167 623Q167 626 166 628T162 632T157 634T149 635T141 636T132 637T122 637Q112 637 109 637T101 638T95 641T94 647Q94 649 96 661Q101 680 107 682T179 688Q194 689 213 690T243 693T254 694Q266 694 266 686Q266 675 193 386T118 83Q118 81 118 75T117 65V59Z\"/><g transform=\"translate(298,-150)\"><path stroke-width=\"1\" transform=\"scale(0.707)\" d=\"M96 585Q152 666 249 666Q297 666 345 640T423 548Q460 465 460 320Q460 165 417 83Q397 41 362 16T301 -15T250 -22Q224 -22 198 -16T137 16T82 83Q39 165 39 320Q39 494 96 585ZM321 597Q291 629 250 629Q208 629 178 597Q153 571 145 525T137 333Q137 175 145 125T181 46Q209 16 250 16Q290 16 318 46Q347 76 354 130T362 333Q362 478 354 524T321 597Z\"/></g></g></svg><span class=\"MJX_Assistive_MathML MJX_Assistive_MathML_Block\" role=\"presentation\"/></span></div><script type=\"math/tex; mode=display\" id=\"MathJax-Element-14\">l_0</script></div></div></div></foreignObject><text x=\"261\" y=\"26\" fill=\"rgb(0, 0, 0)\" font-family=\"Helvetica\" font-size=\"14px\" text-anchor=\"middle\">\n",
       "l_0</text></switch></g><rect x=\"96\" y=\"205\" width=\"70\" height=\"20\" fill=\"none\" stroke=\"none\" pointer-events=\"all\"/><g transform=\"translate(-0.5 -0.5)\"><switch><foreignObject pointer-events=\"none\" width=\"100%\" height=\"100%\" requiredFeatures=\"http://www.w3.org/TR/SVG11/feature#Extensibility\" style=\"overflow: visible; text-align: left;\"><div xmlns=\"http://www.w3.org/1999/xhtml\" style=\"display: flex; align-items: unsafe center; justify-content: unsafe center; width: 1px; height: 1px; padding-top: 215px; margin-left: 131px;\"><div data-drawio-colors=\"color: rgb(0, 0, 0); \" style=\"box-sizing: border-box; font-size: 0px; text-align: center;\"><div style=\"display: inline-block; font-size: 12px; font-family: Helvetica; color: rgb(0, 0, 0); line-height: 1.2; pointer-events: all; white-space: nowrap;\"><span style=\"font-size: 14px\"><span class=\"MathJax_Preview\" style=\"color: inherit;\"/><div class=\"MathJax_SVG_Display\" style=\"text-align: center;\"><span class=\"MathJax_SVG\" id=\"MathJax-Element-15-Frame\" tabindex=\"0\" data-mathml=\"&lt;math xmlns=&quot;http://www.w3.org/1998/Math/MathML&quot; display=&quot;block&quot;&gt;&lt;msub&gt;&lt;mi&gt;l&lt;/mi&gt;&lt;mn&gt;1&lt;/mn&gt;&lt;/msub&gt;&lt;/math&gt;\" role=\"presentation\" style=\"font-size: 100%; display: inline-block; position: relative;\"><svg xmlns=\"http://www.w3.org/2000/svg\" xmlns:xlink=\"http://www.w3.org/1999/xlink\" width=\"1.748ex\" height=\"2.349ex\" viewBox=\"0 -772.3 752.4 1011.3\" role=\"img\" focusable=\"false\" style=\"vertical-align: -0.555ex;\" aria-hidden=\"true\"><g stroke=\"currentColor\" fill=\"currentColor\" stroke-width=\"0\" transform=\"matrix(1 0 0 -1 0 0)\"><path stroke-width=\"1\" d=\"M117 59Q117 26 142 26Q179 26 205 131Q211 151 215 152Q217 153 225 153H229Q238 153 241 153T246 151T248 144Q247 138 245 128T234 90T214 43T183 6T137 -11Q101 -11 70 11T38 85Q38 97 39 102L104 360Q167 615 167 623Q167 626 166 628T162 632T157 634T149 635T141 636T132 637T122 637Q112 637 109 637T101 638T95 641T94 647Q94 649 96 661Q101 680 107 682T179 688Q194 689 213 690T243 693T254 694Q266 694 266 686Q266 675 193 386T118 83Q118 81 118 75T117 65V59Z\"/><g transform=\"translate(298,-150)\"><path stroke-width=\"1\" transform=\"scale(0.707)\" d=\"M213 578L200 573Q186 568 160 563T102 556H83V602H102Q149 604 189 617T245 641T273 663Q275 666 285 666Q294 666 302 660V361L303 61Q310 54 315 52T339 48T401 46H427V0H416Q395 3 257 3Q121 3 100 0H88V46H114Q136 46 152 46T177 47T193 50T201 52T207 57T213 61V578Z\"/></g></g></svg><span class=\"MJX_Assistive_MathML MJX_Assistive_MathML_Block\" role=\"presentation\"/></span></div><script type=\"math/tex; mode=display\" id=\"MathJax-Element-15\">l_1 </script></span></div></div></div></foreignObject><text x=\"131\" y=\"219\" fill=\"rgb(0, 0, 0)\" font-family=\"Helvetica\" font-size=\"12px\" text-anchor=\"middle\">\n",
       "l_1 </text></switch></g><rect x=\"353\" y=\"185\" width=\"70\" height=\"20\" fill=\"none\" stroke=\"none\" pointer-events=\"all\"/><g transform=\"translate(-0.5 -0.5)\"><switch><foreignObject pointer-events=\"none\" width=\"100%\" height=\"100%\" requiredFeatures=\"http://www.w3.org/TR/SVG11/feature#Extensibility\" style=\"overflow: visible; text-align: left;\"><div xmlns=\"http://www.w3.org/1999/xhtml\" style=\"display: flex; align-items: unsafe center; justify-content: unsafe center; width: 1px; height: 1px; padding-top: 195px; margin-left: 388px;\"><div data-drawio-colors=\"color: rgb(0, 0, 0); \" style=\"box-sizing: border-box; font-size: 0px; text-align: center;\"><div style=\"display: inline-block; font-size: 12px; font-family: Helvetica; color: rgb(0, 0, 0); line-height: 1.2; pointer-events: all; white-space: nowrap;\"><span style=\"font-size: 14px\"><span class=\"MathJax_Preview\" style=\"color: inherit;\"/><div class=\"MathJax_SVG_Display\" style=\"text-align: center;\"><span class=\"MathJax_SVG\" id=\"MathJax-Element-20-Frame\" tabindex=\"0\" data-mathml=\"&lt;math xmlns=&quot;http://www.w3.org/1998/Math/MathML&quot; display=&quot;block&quot;&gt;&lt;msub&gt;&lt;mi&gt;l&lt;/mi&gt;&lt;mn&gt;2&lt;/mn&gt;&lt;/msub&gt;&lt;/math&gt;\" role=\"presentation\" style=\"font-size: 100%; display: inline-block; position: relative;\"><svg xmlns=\"http://www.w3.org/2000/svg\" xmlns:xlink=\"http://www.w3.org/1999/xlink\" width=\"1.748ex\" height=\"2.349ex\" viewBox=\"0 -772.3 752.4 1011.3\" role=\"img\" focusable=\"false\" style=\"vertical-align: -0.555ex;\" aria-hidden=\"true\"><g stroke=\"currentColor\" fill=\"currentColor\" stroke-width=\"0\" transform=\"matrix(1 0 0 -1 0 0)\"><path stroke-width=\"1\" d=\"M117 59Q117 26 142 26Q179 26 205 131Q211 151 215 152Q217 153 225 153H229Q238 153 241 153T246 151T248 144Q247 138 245 128T234 90T214 43T183 6T137 -11Q101 -11 70 11T38 85Q38 97 39 102L104 360Q167 615 167 623Q167 626 166 628T162 632T157 634T149 635T141 636T132 637T122 637Q112 637 109 637T101 638T95 641T94 647Q94 649 96 661Q101 680 107 682T179 688Q194 689 213 690T243 693T254 694Q266 694 266 686Q266 675 193 386T118 83Q118 81 118 75T117 65V59Z\"/><g transform=\"translate(298,-150)\"><path stroke-width=\"1\" transform=\"scale(0.707)\" d=\"M109 429Q82 429 66 447T50 491Q50 562 103 614T235 666Q326 666 387 610T449 465Q449 422 429 383T381 315T301 241Q265 210 201 149L142 93L218 92Q375 92 385 97Q392 99 409 186V189H449V186Q448 183 436 95T421 3V0H50V19V31Q50 38 56 46T86 81Q115 113 136 137Q145 147 170 174T204 211T233 244T261 278T284 308T305 340T320 369T333 401T340 431T343 464Q343 527 309 573T212 619Q179 619 154 602T119 569T109 550Q109 549 114 549Q132 549 151 535T170 489Q170 464 154 447T109 429Z\"/></g></g></svg><span class=\"MJX_Assistive_MathML MJX_Assistive_MathML_Block\" role=\"presentation\"/></span></div><script type=\"math/tex; mode=display\" id=\"MathJax-Element-20\">l_2</script></span></div></div></div></foreignObject><text x=\"388\" y=\"199\" fill=\"rgb(0, 0, 0)\" font-family=\"Helvetica\" font-size=\"12px\" text-anchor=\"middle\">\n",
       "l_2</text></switch></g><path d=\"M 327 308 L 188 308\" fill=\"none\" stroke=\"rgb(0, 0, 0)\" stroke-miterlimit=\"10\" stroke-dasharray=\"3 3\" pointer-events=\"stroke\"/><rect x=\"256\" y=\"278\" width=\"60\" height=\"30\" fill=\"none\" stroke=\"none\" pointer-events=\"all\"/><g transform=\"translate(-0.5 -0.5)\"><switch><foreignObject pointer-events=\"none\" width=\"100%\" height=\"100%\" requiredFeatures=\"http://www.w3.org/TR/SVG11/feature#Extensibility\" style=\"overflow: visible; text-align: left;\"><div xmlns=\"http://www.w3.org/1999/xhtml\" style=\"display: flex; align-items: unsafe center; justify-content: unsafe center; width: 58px; height: 1px; padding-top: 293px; margin-left: 257px;\"><div data-drawio-colors=\"color: rgb(0, 0, 0); \" style=\"box-sizing: border-box; font-size: 0px; text-align: center;\"><div style=\"display: inline-block; font-size: 14px; font-family: Helvetica; color: rgb(0, 0, 0); line-height: 1.2; pointer-events: all; white-space: normal; overflow-wrap: normal;\"><font color=\"#82b366\"><span class=\"MathJax_Preview\" style=\"color: inherit;\"/><div class=\"MathJax_SVG_Display\" style=\"text-align: center;\"><span class=\"MathJax_SVG\" id=\"MathJax-Element-17-Frame\" tabindex=\"0\" data-mathml=\"&lt;math xmlns=&quot;http://www.w3.org/1998/Math/MathML&quot; display=&quot;block&quot;&gt;&lt;msub&gt;&lt;mi&gt;p&lt;/mi&gt;&lt;mn&gt;3&lt;/mn&gt;&lt;/msub&gt;&lt;/math&gt;\" role=\"presentation\" style=\"font-size: 100%; display: inline-block; position: relative;\"><svg xmlns=\"http://www.w3.org/2000/svg\" xmlns:xlink=\"http://www.w3.org/1999/xlink\" width=\"2.313ex\" height=\"1.936ex\" viewBox=\"-38.5 -535.3 995.9 833.5\" role=\"img\" focusable=\"false\" style=\"vertical-align: -0.693ex; margin-left: -0.089ex;\" aria-hidden=\"true\"><g stroke=\"currentColor\" fill=\"currentColor\" stroke-width=\"0\" transform=\"matrix(1 0 0 -1 0 0)\"><path stroke-width=\"1\" d=\"M23 287Q24 290 25 295T30 317T40 348T55 381T75 411T101 433T134 442Q209 442 230 378L240 387Q302 442 358 442Q423 442 460 395T497 281Q497 173 421 82T249 -10Q227 -10 210 -4Q199 1 187 11T168 28L161 36Q160 35 139 -51T118 -138Q118 -144 126 -145T163 -148H188Q194 -155 194 -157T191 -175Q188 -187 185 -190T172 -194Q170 -194 161 -194T127 -193T65 -192Q-5 -192 -24 -194H-32Q-39 -187 -39 -183Q-37 -156 -26 -148H-6Q28 -147 33 -136Q36 -130 94 103T155 350Q156 355 156 364Q156 405 131 405Q109 405 94 377T71 316T59 280Q57 278 43 278H29Q23 284 23 287ZM178 102Q200 26 252 26Q282 26 310 49T356 107Q374 141 392 215T411 325V331Q411 405 350 405Q339 405 328 402T306 393T286 380T269 365T254 350T243 336T235 326L232 322Q232 321 229 308T218 264T204 212Q178 106 178 102Z\"/><g transform=\"translate(503,-150)\"><path stroke-width=\"1\" transform=\"scale(0.707)\" d=\"M127 463Q100 463 85 480T69 524Q69 579 117 622T233 665Q268 665 277 664Q351 652 390 611T430 522Q430 470 396 421T302 350L299 348Q299 347 308 345T337 336T375 315Q457 262 457 175Q457 96 395 37T238 -22Q158 -22 100 21T42 130Q42 158 60 175T105 193Q133 193 151 175T169 130Q169 119 166 110T159 94T148 82T136 74T126 70T118 67L114 66Q165 21 238 21Q293 21 321 74Q338 107 338 175V195Q338 290 274 322Q259 328 213 329L171 330L168 332Q166 335 166 348Q166 366 174 366Q202 366 232 371Q266 376 294 413T322 525V533Q322 590 287 612Q265 626 240 626Q208 626 181 615T143 592T132 580H135Q138 579 143 578T153 573T165 566T175 555T183 540T186 520Q186 498 172 481T127 463Z\"/></g></g></svg><span class=\"MJX_Assistive_MathML MJX_Assistive_MathML_Block\" role=\"presentation\"/></span></div><script type=\"math/tex; mode=display\" id=\"MathJax-Element-17\">p_3</script></font></div></div></div></foreignObject><text x=\"286\" y=\"297\" fill=\"rgb(0, 0, 0)\" font-family=\"Helvetica\" font-size=\"14px\" text-anchor=\"middle\">\n",
       "p_3</text></switch></g><path d=\"M 308.67 285.23 C 311.85 292.04 313.5 299.47 313.5 307\" fill=\"none\" stroke=\"#82b366\" stroke-miterlimit=\"10\" pointer-events=\"all\"/><path d=\"M 309 286 L 305.91 282.03\" fill=\"none\" stroke=\"#82b366\" stroke-miterlimit=\"10\" pointer-events=\"stroke\"/><path d=\"M 302.69 277.88 L 309.75 281.26 L 305.91 282.03 L 304.22 285.56 Z\" fill=\"#82b366\" stroke=\"#82b366\" stroke-miterlimit=\"10\" pointer-events=\"all\"/><path d=\"M 286 156 L 285.84 263.63\" fill=\"none\" stroke=\"#82b366\" stroke-miterlimit=\"10\" pointer-events=\"stroke\"/><path d=\"M 285.83 268.88 L 282.34 261.88 L 285.84 263.63 L 289.34 261.89 Z\" fill=\"#82b366\" stroke=\"#82b366\" stroke-miterlimit=\"10\" pointer-events=\"all\"/><path d=\"M 61 276 L 273.63 275.83\" fill=\"none\" stroke=\"#82b366\" stroke-miterlimit=\"10\" pointer-events=\"stroke\"/><path d=\"M 278.88 275.83 L 271.88 279.34 L 273.63 275.83 L 271.88 272.34 Z\" fill=\"#82b366\" stroke=\"#82b366\" stroke-miterlimit=\"10\" pointer-events=\"all\"/><rect x=\"271\" y=\"195\" width=\"60\" height=\"30\" fill=\"none\" stroke=\"none\" pointer-events=\"all\"/><g transform=\"translate(-0.5 -0.5)\"><switch><foreignObject pointer-events=\"none\" width=\"100%\" height=\"100%\" requiredFeatures=\"http://www.w3.org/TR/SVG11/feature#Extensibility\" style=\"overflow: visible; text-align: left;\"><div xmlns=\"http://www.w3.org/1999/xhtml\" style=\"display: flex; align-items: unsafe center; justify-content: unsafe center; width: 58px; height: 1px; padding-top: 210px; margin-left: 272px;\"><div data-drawio-colors=\"color: rgb(0, 0, 0); \" style=\"box-sizing: border-box; font-size: 0px; text-align: center;\"><div style=\"display: inline-block; font-size: 14px; font-family: Helvetica; color: rgb(0, 0, 0); line-height: 1.2; pointer-events: all; white-space: normal; overflow-wrap: normal;\"><font color=\"#82b366\"><span class=\"MathJax_Preview\" style=\"color: inherit;\"/><div class=\"MathJax_SVG_Display\" style=\"text-align: center;\"><span class=\"MathJax_SVG\" id=\"MathJax-Element-18-Frame\" tabindex=\"0\" data-mathml=\"&lt;math xmlns=&quot;http://www.w3.org/1998/Math/MathML&quot; display=&quot;block&quot;&gt;&lt;msub&gt;&lt;mi&gt;p&lt;/mi&gt;&lt;mn&gt;2&lt;/mn&gt;&lt;/msub&gt;&lt;/math&gt;\" role=\"presentation\" style=\"font-size: 100%; display: inline-block; position: relative;\"><svg xmlns=\"http://www.w3.org/2000/svg\" xmlns:xlink=\"http://www.w3.org/1999/xlink\" width=\"2.313ex\" height=\"1.936ex\" viewBox=\"-38.5 -535.3 995.9 833.5\" role=\"img\" focusable=\"false\" style=\"vertical-align: -0.693ex; margin-left: -0.089ex;\" aria-hidden=\"true\"><g stroke=\"currentColor\" fill=\"currentColor\" stroke-width=\"0\" transform=\"matrix(1 0 0 -1 0 0)\"><path stroke-width=\"1\" d=\"M23 287Q24 290 25 295T30 317T40 348T55 381T75 411T101 433T134 442Q209 442 230 378L240 387Q302 442 358 442Q423 442 460 395T497 281Q497 173 421 82T249 -10Q227 -10 210 -4Q199 1 187 11T168 28L161 36Q160 35 139 -51T118 -138Q118 -144 126 -145T163 -148H188Q194 -155 194 -157T191 -175Q188 -187 185 -190T172 -194Q170 -194 161 -194T127 -193T65 -192Q-5 -192 -24 -194H-32Q-39 -187 -39 -183Q-37 -156 -26 -148H-6Q28 -147 33 -136Q36 -130 94 103T155 350Q156 355 156 364Q156 405 131 405Q109 405 94 377T71 316T59 280Q57 278 43 278H29Q23 284 23 287ZM178 102Q200 26 252 26Q282 26 310 49T356 107Q374 141 392 215T411 325V331Q411 405 350 405Q339 405 328 402T306 393T286 380T269 365T254 350T243 336T235 326L232 322Q232 321 229 308T218 264T204 212Q178 106 178 102Z\"/><g transform=\"translate(503,-150)\"><path stroke-width=\"1\" transform=\"scale(0.707)\" d=\"M109 429Q82 429 66 447T50 491Q50 562 103 614T235 666Q326 666 387 610T449 465Q449 422 429 383T381 315T301 241Q265 210 201 149L142 93L218 92Q375 92 385 97Q392 99 409 186V189H449V186Q448 183 436 95T421 3V0H50V19V31Q50 38 56 46T86 81Q115 113 136 137Q145 147 170 174T204 211T233 244T261 278T284 308T305 340T320 369T333 401T340 431T343 464Q343 527 309 573T212 619Q179 619 154 602T119 569T109 550Q109 549 114 549Q132 549 151 535T170 489Q170 464 154 447T109 429Z\"/></g></g></svg><span class=\"MJX_Assistive_MathML MJX_Assistive_MathML_Block\" role=\"presentation\"/></span></div><script type=\"math/tex; mode=display\" id=\"MathJax-Element-18\">p_2</script></font></div></div></div></foreignObject><text x=\"301\" y=\"214\" fill=\"rgb(0, 0, 0)\" font-family=\"Helvetica\" font-size=\"14px\" text-anchor=\"middle\">\n",
       "p_2</text></switch></g><rect x=\"161\" y=\"248\" width=\"60\" height=\"30\" fill=\"none\" stroke=\"none\" pointer-events=\"all\"/><g transform=\"translate(-0.5 -0.5)\"><switch><foreignObject pointer-events=\"none\" width=\"100%\" height=\"100%\" requiredFeatures=\"http://www.w3.org/TR/SVG11/feature#Extensibility\" style=\"overflow: visible; text-align: left;\"><div xmlns=\"http://www.w3.org/1999/xhtml\" style=\"display: flex; align-items: unsafe center; justify-content: unsafe center; width: 58px; height: 1px; padding-top: 263px; margin-left: 162px;\"><div data-drawio-colors=\"color: rgb(0, 0, 0); \" style=\"box-sizing: border-box; font-size: 0px; text-align: center;\"><div style=\"display: inline-block; font-size: 14px; font-family: Helvetica; color: rgb(0, 0, 0); line-height: 1.2; pointer-events: all; white-space: normal; overflow-wrap: normal;\"><font color=\"#82b366\"><span class=\"MathJax_Preview\" style=\"color: inherit;\"/><div class=\"MathJax_SVG_Display\" style=\"text-align: center;\"><span class=\"MathJax_SVG\" id=\"MathJax-Element-19-Frame\" tabindex=\"0\" data-mathml=\"&lt;math xmlns=&quot;http://www.w3.org/1998/Math/MathML&quot; display=&quot;block&quot;&gt;&lt;msub&gt;&lt;mi&gt;p&lt;/mi&gt;&lt;mn&gt;1&lt;/mn&gt;&lt;/msub&gt;&lt;/math&gt;\" role=\"presentation\" style=\"font-size: 100%; display: inline-block; position: relative;\"><svg xmlns=\"http://www.w3.org/2000/svg\" xmlns:xlink=\"http://www.w3.org/1999/xlink\" width=\"2.313ex\" height=\"1.936ex\" viewBox=\"-38.5 -535.3 995.9 833.5\" role=\"img\" focusable=\"false\" style=\"vertical-align: -0.693ex; margin-left: -0.089ex;\" aria-hidden=\"true\"><g stroke=\"currentColor\" fill=\"currentColor\" stroke-width=\"0\" transform=\"matrix(1 0 0 -1 0 0)\"><path stroke-width=\"1\" d=\"M23 287Q24 290 25 295T30 317T40 348T55 381T75 411T101 433T134 442Q209 442 230 378L240 387Q302 442 358 442Q423 442 460 395T497 281Q497 173 421 82T249 -10Q227 -10 210 -4Q199 1 187 11T168 28L161 36Q160 35 139 -51T118 -138Q118 -144 126 -145T163 -148H188Q194 -155 194 -157T191 -175Q188 -187 185 -190T172 -194Q170 -194 161 -194T127 -193T65 -192Q-5 -192 -24 -194H-32Q-39 -187 -39 -183Q-37 -156 -26 -148H-6Q28 -147 33 -136Q36 -130 94 103T155 350Q156 355 156 364Q156 405 131 405Q109 405 94 377T71 316T59 280Q57 278 43 278H29Q23 284 23 287ZM178 102Q200 26 252 26Q282 26 310 49T356 107Q374 141 392 215T411 325V331Q411 405 350 405Q339 405 328 402T306 393T286 380T269 365T254 350T243 336T235 326L232 322Q232 321 229 308T218 264T204 212Q178 106 178 102Z\"/><g transform=\"translate(503,-150)\"><path stroke-width=\"1\" transform=\"scale(0.707)\" d=\"M213 578L200 573Q186 568 160 563T102 556H83V602H102Q149 604 189 617T245 641T273 663Q275 666 285 666Q294 666 302 660V361L303 61Q310 54 315 52T339 48T401 46H427V0H416Q395 3 257 3Q121 3 100 0H88V46H114Q136 46 152 46T177 47T193 50T201 52T207 57T213 61V578Z\"/></g></g></svg><span class=\"MJX_Assistive_MathML MJX_Assistive_MathML_Block\" role=\"presentation\"/></span></div><script type=\"math/tex; mode=display\" id=\"MathJax-Element-19\">p_1</script></font></div></div></div></foreignObject><text x=\"191\" y=\"267\" fill=\"rgb(0, 0, 0)\" font-family=\"Helvetica\" font-size=\"14px\" text-anchor=\"middle\">\n",
       "p_1</text></switch></g></g><switch><g requiredFeatures=\"http://www.w3.org/TR/SVG11/feature#Extensibility\"/><a transform=\"translate(0,-5)\" xlink:href=\"https://www.diagrams.net/doc/faq/svg-export-text-problems\" target=\"_blank\"><text text-anchor=\"middle\" font-size=\"10px\" x=\"50%\" y=\"100%\">Text is not SVG - cannot display</text></a></switch></svg>"
      ],
      "text/plain": [
       "<IPython.core.display.SVG object>"
      ]
     },
     "execution_count": 2,
     "metadata": {},
     "output_type": "execute_result"
    }
   ],
   "source": [
    "from IPython.display import Image\n",
    "from IPython.core.display import SVG\n",
    "SVG(filename='ODE_flatness_analysis_simulation_diagram.svg')"
   ]
  },
  {
   "cell_type": "code",
   "execution_count": 3,
   "metadata": {
    "scrolled": false
   },
   "outputs": [
    {
     "data": {
      "image/png": "[encoded data removed]",
      "text/latex": [
       "aa.T := $\\displaystyle \\left[\\begin{matrix}a_{1} & a_{2} & a_{3} & a_{4}\\end{matrix}\\right]$"
      ],
      "text/plain": [
       "aa.T := [a₁  a₂  a₃  a₄]"
      ]
     },
     "metadata": {},
     "output_type": "display_data"
    },
    {
     "data": {
      "text/plain": [
       "---"
      ]
     },
     "metadata": {},
     "output_type": "display_data"
    },
    {
     "data": {
      "image/png": "[encoded data removed]",
      "text/latex": [
       "ttheta.T := $\\displaystyle \\left[\\begin{matrix}p_{1} & p_{2} & p_{3} & q_{1} & q_{2}\\end{matrix}\\right]$"
      ],
      "text/plain": [
       "ttheta.T := [p₁  p₂  p₃  q₁  q₂]"
      ]
     },
     "metadata": {},
     "output_type": "display_data"
    },
    {
     "data": {
      "text/plain": [
       "---"
      ]
     },
     "metadata": {},
     "output_type": "display_data"
    },
    {
     "data": {
      "image/png": "[encoded data removed]",
      "text/latex": [
       "tthetad.T := $\\displaystyle \\left[\\begin{matrix}\\dot{p}_{1} & \\dot{p}_{2} & \\dot{p}_{3} & \\dot{q}_{1} & \\dot{q}_{2}\\end{matrix}\\right]$"
      ],
      "text/plain": [
       "tthetad.T := [ṗ₁  ṗ₂  ṗ₃  q̇₁  q̇₂]"
      ]
     },
     "metadata": {},
     "output_type": "display_data"
    },
    {
     "data": {
      "text/plain": [
       "---"
      ]
     },
     "metadata": {},
     "output_type": "display_data"
    },
    {
     "data": {
      "image/png": "[encoded data removed]",
      "text/latex": [
       "tthetadd.T := $\\displaystyle \\left[\\begin{matrix}\\ddot{p}_{1} & \\ddot{p}_{2} & \\ddot{p}_{3} & \\ddot{q}_{1} & \\ddot{q}_{2}\\end{matrix}\\right]$"
      ],
      "text/plain": [
       "tthetadd.T := [p̈₁  p̈₂  p̈₃  q̈₁  q̈₂]"
      ]
     },
     "metadata": {},
     "output_type": "display_data"
    },
    {
     "data": {
      "text/plain": [
       "---"
      ]
     },
     "metadata": {},
     "output_type": "display_data"
    },
    {
     "data": {
      "image/png": "[encoded data removed]",
      "text/latex": [
       "tthetaddd.T := $\\displaystyle \\left[\\begin{matrix}\\dddot{p}_{1} & \\dddot{p}_{2} & \\dddot{p}_{3} & \\dddot{q}_{1} & \\dddot{q}_{2}\\end{matrix}\\right]$"
      ],
      "text/plain": [
       "tthetaddd.T := [p⃛₁  p⃛₂  p⃛₃  q⃛₁  q⃛₂]"
      ]
     },
     "metadata": {},
     "output_type": "display_data"
    },
    {
     "data": {
      "text/plain": [
       "---"
      ]
     },
     "metadata": {},
     "output_type": "display_data"
    },
    {
     "data": {
      "image/png": "[encoded data removed]",
      "text/latex": [
       "tthetadddd.T := $\\displaystyle \\left[\\begin{matrix}\\ddddot{p}_{1} & \\ddddot{p}_{2} & \\ddddot{p}_{3} & \\ddddot{q}_{1} & \\ddddot{q}_{2}\\end{matrix}\\right]$"
      ],
      "text/plain": [
       "tthetadddd.T := [p⃜₁  p⃜₂  p⃜₃  q⃜₁  q⃜₂]"
      ]
     },
     "metadata": {},
     "output_type": "display_data"
    },
    {
     "data": {
      "text/plain": [
       "---"
      ]
     },
     "metadata": {},
     "output_type": "display_data"
    },
    {
     "data": {
      "image/png": "[encoded data removed]",
      "text/latex": [
       "QQ.T := $\\displaystyle \\left[\\begin{matrix}Q_{1} & Q_{2} & Q_{3} & Q_{4} & Q_{5}\\end{matrix}\\right]$"
      ],
      "text/plain": [
       "QQ.T := [Q₁  Q₂  Q₃  Q₄  Q₅]"
      ]
     },
     "metadata": {},
     "output_type": "display_data"
    },
    {
     "data": {
      "text/plain": [
       "---"
      ]
     },
     "metadata": {},
     "output_type": "display_data"
    }
   ],
   "source": [
    "t = sp.Symbol('t')  # time variable\n",
    "\n",
    "# coordinates\n",
    "np = 3 # number of passive coordinates (not directly actuated)\n",
    "nq = 2 # number of actuated coordinates\n",
    "n = np + nq\n",
    "\n",
    "pp = st.symb_vector(\"p1:{0}\".format(np+1)) # vector of passive coordinates\n",
    "qq = st.symb_vector(\"q1:{0}\".format(nq+1)) # vector of actuated coordinates\n",
    "\n",
    "\n",
    "\n",
    "# vector of control inputs\n",
    "aa = st.symb_vector(\"a1:{0}\".format(4+1)) ##:T\n",
    "# vector of all coordinates\n",
    "ttheta = st.row_stack(pp, qq) ##:T\n",
    "# vector of velocities \n",
    "tthetad = st.time_deriv(ttheta, ttheta) ##:T\n",
    "# vector of accelerations\n",
    "tthetadd = st.time_deriv(ttheta, ttheta, order=2) ##:T\n",
    "tthetaddd = st.time_deriv(ttheta, ttheta, order=3) ##:T\n",
    "tthetadddd = st.time_deriv(ttheta, ttheta, order=4) ##:T\n",
    "\n",
    "st.make_global(ttheta, tthetad, tthetadd, tthetaddd, tthetadddd)\n",
    "\n",
    "QQ = st.symb_vector(\"Q1:{0}\".format(n+1)) ##:T # vector of generalized foces\n",
    "st.make_global(QQ)"
   ]
  },
  {
   "cell_type": "code",
   "execution_count": 4,
   "metadata": {},
   "outputs": [],
   "source": [
    "# symbols for analytic equations\n",
    "params = sp.symbols('s2, m1, m2, m3, J1, J2, J3, mc1b, mc2b d1, d4, l0, l1, l2, l3, g')\n",
    "st.make_global(params)\n",
    "\n",
    "# symbols for control inputs\n",
    "# ttau = sp.symbols('tau')\n",
    "tau1, tau2, tau3, tau4 = ttau = st.symb_vector(\"tau1, tau2, tau3, tau4\")\n"
   ]
  },
  {
   "cell_type": "markdown",
   "metadata": {},
   "source": [
    "Specify the geometry (joints G and centers of masses S)"
   ]
  },
  {
   "cell_type": "markdown",
   "metadata": {},
   "source": [
    "#### Quasistatic state feedback control"
   ]
  },
  {
   "cell_type": "code",
   "execution_count": 5,
   "metadata": {
    "scrolled": true
   },
   "outputs": [],
   "source": [
    "# load model etc. from pickle of flatness analysis notebook\n",
    "with open(\"flatness_analysis_control.pcl\", \"rb\") as pfile:\n",
    "    data = pickle.load(pfile)\n",
    "    locals().update(data)"
   ]
  },
  {
   "cell_type": "markdown",
   "metadata": {},
   "source": [
    "Nonlinearities are chosen to be the new inputs of the system:\n",
    "\\begin{align}\n",
    "    v_1 &:= \\ddot{p}_1 = \\ddot{y}_1 \\\\\n",
    "    v_2 &:= \\ddddot{p}_2 = \\ddddot{y}_2 \\\\\n",
    "    v_3 &:= \\ddot{p}_3 = \\ddot{y}_3 \\\\\n",
    "    v_4 &:= \\ddot{q}_1 = \\ddot{y}_4 \n",
    "\\end{align}"
   ]
  },
  {
   "cell_type": "code",
   "execution_count": 6,
   "metadata": {},
   "outputs": [],
   "source": [
    "vv = st.symb_vector(\"v1:{0}\".format(4+1)) # vector of new inputs\n",
    "vvd = st.time_deriv(vv, vv)\n",
    "vvdd = st.time_deriv(vv, vv, order=2)\n",
    "\n",
    "st.make_global(vv, vvd, vvdd)"
   ]
  },
  {
   "cell_type": "code",
   "execution_count": 7,
   "metadata": {},
   "outputs": [],
   "source": [
    "ttaud = st.time_deriv(ttau, ttau)\n",
    "ttaudd = st.time_deriv(ttau, ttau, order=2)\n",
    "\n",
    "st.make_global(ttaud, ttaudd)"
   ]
  },
  {
   "cell_type": "code",
   "execution_count": 8,
   "metadata": {},
   "outputs": [
    {
     "data": {
      "image/png": "[encoded data removed]",
      "text/latex": [
       "xxddot := $\\displaystyle \\left[\\begin{matrix}\\ddot{p}_{1}\\\\\\ddot{p}_{2}\\\\\\ddot{p}_{3}\\\\\\ddot{q}_{1}\\\\\\ddot{q}_{2}\\\\\\dddot{p}_{1}\\\\\\dddot{p}_{2}\\\\\\dddot{p}_{3}\\\\\\dddot{q}_{1}\\\\\\dddot{q}_{2}\\end{matrix}\\right]$"
      ],
      "text/plain": [
       "xxddot := ⎡p̈₁⎤\n",
       "⎢  ⎥\n",
       "⎢p̈₂⎥\n",
       "⎢  ⎥\n",
       "⎢p̈₃⎥\n",
       "⎢  ⎥\n",
       "⎢q̈₁⎥\n",
       "⎢  ⎥\n",
       "⎢q̈₂⎥\n",
       "⎢  ⎥\n",
       "⎢p⃛₁⎥\n",
       "⎢  ⎥\n",
       "⎢p⃛₂⎥\n",
       "⎢  ⎥\n",
       "⎢p⃛₃⎥\n",
       "⎢  ⎥\n",
       "⎢q⃛₁⎥\n",
       "⎢  ⎥\n",
       "⎣q⃛₂⎦"
      ]
     },
     "metadata": {},
     "output_type": "display_data"
    },
    {
     "data": {
      "text/plain": [
       "---"
      ]
     },
     "metadata": {},
     "output_type": "display_data"
    }
   ],
   "source": [
    "xxdot = st.time_deriv(mod.xx, mod.xx, order=1)\n",
    "xxddot = st.time_deriv(mod.xx, mod.xx, order=2) ##:\n",
    "xxdddot = st.time_deriv(mod.xx, mod.xx, order=3)"
   ]
  },
  {
   "cell_type": "code",
   "execution_count": 9,
   "metadata": {},
   "outputs": [],
   "source": [
    "xx_ext = sp.Matrix(2*len(mod.xx) + 2*len(mod.tau) + 2*len(vv), 1, [*mod.xx, *xxddot, *ttau, *ttaud, *vv, *vvd])\n",
    "fg_ext = sp.Matrix(2*len(mod.state_eq) + 2*len(mod.tau) + 2*len(vv), 1, [*mod.state_eq, *xxdddot, *ttaud, *ttaudd, *vvd, *vvdd])"
   ]
  },
  {
   "cell_type": "code",
   "execution_count": 10,
   "metadata": {},
   "outputs": [
    {
     "data": {
      "image/png": "[encoded data removed]",
      "text/latex": [
       "(ydot1_ext.s) := $\\displaystyle \\left\\{\\dot{p}_{1}\\right\\}$"
      ],
      "text/plain": [
       "(ydot1_ext.s) := {ṗ₁}"
      ]
     },
     "metadata": {},
     "output_type": "display_data"
    },
    {
     "data": {
      "text/plain": [
       "---"
      ]
     },
     "metadata": {},
     "output_type": "display_data"
    },
    {
     "data": {
      "image/png": "[encoded data removed]",
      "text/latex": [
       "(yddot1_ext.s) := $\\displaystyle \\left\\{l_{0}, m_{2}, p_{1}, p_{2}, p_{3}, q_{1}, q_{2}, s_{2}, \\tau_{3}, \\tau_{4}\\right\\}$"
      ],
      "text/plain": [
       "(yddot1_ext.s) := {l₀, m₂, p₁, p₂, p₃, q₁, q₂, s₂, τ₃, τ₄}"
      ]
     },
     "metadata": {},
     "output_type": "display_data"
    },
    {
     "data": {
      "text/plain": [
       "---"
      ]
     },
     "metadata": {},
     "output_type": "display_data"
    },
    {
     "data": {
      "image/png": "[encoded data removed]",
      "text/latex": [
       "(ydddot1_ext.s) := $\\displaystyle \\left\\{l_{0}, m_{2}, p_{1}, p_{2}, p_{3}, \\dot{p}_{1}, \\dot{p}_{2}, \\dot{p}_{3}, q_{1}, q_{2}, \\dot{q}_{1}, \\dot{q}_{2}, s_{2}, \\tau_{3}, \\tau_{4}, \\dot{\\tau}_{3}, \\dot{\\tau}_{4}\\right\\}$"
      ],
      "text/plain": [
       "(ydddot1_ext.s) := {l₀, m₂, p₁, p₂, p₃, ṗ₁, ṗ₂, ṗ₃, q₁, q₂, q̇₁, q̇₂, s₂, τ₃, τ₄, τ̇₃, τ̇₄}"
      ]
     },
     "metadata": {},
     "output_type": "display_data"
    },
    {
     "data": {
      "text/plain": [
       "---"
      ]
     },
     "metadata": {},
     "output_type": "display_data"
    },
    {
     "data": {
      "image/png": "[encoded data removed]",
      "text/latex": [
       "(yddddot1_ext.s) := $\\displaystyle \\left\\{J_{2}, g, l_{0}, m_{1}, m_{2}, m_{3}, p_{1}, p_{2}, p_{3}, \\dot{p}_{1}, \\dot{p}_{2}, \\dot{p}_{3}, q_{1}, q_{2}, \\dot{q}_{1}, \\dot{q}_{2}, s_{2}, \\tau_{1}, \\tau_{2}, \\tau_{3}, \\tau_{4}, \\ddot{\\tau}_{3}, \\ddot{\\tau}_{4}, \\dot{\\tau}_{3}, \\dot{\\tau}_{4}\\right\\}$"
      ],
      "text/plain": [
       "(yddddot1_ext.s) := {J₂, g, l₀, m₁, m₂, m₃, p₁, p₂, p₃, ṗ₁, ṗ₂, ṗ₃, q₁, q₂, q̇₁, q̇₂, s₂, τ₁, τ\n",
       "₂, τ₃, τ₄, τ̈₃, τ̈₄, τ̇₃, τ̇₄}"
      ]
     },
     "metadata": {},
     "output_type": "display_data"
    },
    {
     "data": {
      "text/plain": [
       "---"
      ]
     },
     "metadata": {},
     "output_type": "display_data"
    }
   ],
   "source": [
    "y1_ext = xx_ext[0]\n",
    "ydot1_ext = st.lie_deriv(y1_ext, fg_ext, xx_ext)\n",
    "yddot1_ext = st.lie_deriv(ydot1_ext, fg_ext, xx_ext)\n",
    "ydddot1_ext = st.lie_deriv(yddot1_ext, fg_ext, xx_ext)\n",
    "yddddot1_ext = st.lie_deriv(ydddot1_ext, fg_ext, xx_ext)\n",
    "\n",
    "ydot1_ext.s ##:\n",
    "yddot1_ext.s ##:\n",
    "ydddot1_ext.s ##:\n",
    "yddddot1_ext.s ##:"
   ]
  },
  {
   "cell_type": "code",
   "execution_count": 11,
   "metadata": {},
   "outputs": [
    {
     "data": {
      "image/png": "[encoded data removed]",
      "text/latex": [
       "(ydot2_ext.s) := $\\displaystyle \\left\\{\\dot{p}_{2}\\right\\}$"
      ],
      "text/plain": [
       "(ydot2_ext.s) := {ṗ₂}"
      ]
     },
     "metadata": {},
     "output_type": "display_data"
    },
    {
     "data": {
      "text/plain": [
       "---"
      ]
     },
     "metadata": {},
     "output_type": "display_data"
    },
    {
     "data": {
      "image/png": "[encoded data removed]",
      "text/latex": [
       "(yddot2_ext.s) := $\\displaystyle \\left\\{g, l_{0}, m_{2}, p_{1}, p_{2}, p_{3}, q_{1}, q_{2}, s_{2}, \\tau_{3}, \\tau_{4}\\right\\}$"
      ],
      "text/plain": [
       "(yddot2_ext.s) := {g, l₀, m₂, p₁, p₂, p₃, q₁, q₂, s₂, τ₃, τ₄}"
      ]
     },
     "metadata": {},
     "output_type": "display_data"
    },
    {
     "data": {
      "text/plain": [
       "---"
      ]
     },
     "metadata": {},
     "output_type": "display_data"
    },
    {
     "data": {
      "image/png": "[encoded data removed]",
      "text/latex": [
       "(ydddot2_ext.s) := $\\displaystyle \\left\\{l_{0}, m_{2}, p_{1}, p_{2}, p_{3}, \\dot{p}_{1}, \\dot{p}_{2}, \\dot{p}_{3}, q_{1}, q_{2}, \\dot{q}_{1}, \\dot{q}_{2}, s_{2}, \\tau_{3}, \\tau_{4}, \\dot{\\tau}_{3}, \\dot{\\tau}_{4}\\right\\}$"
      ],
      "text/plain": [
       "(ydddot2_ext.s) := {l₀, m₂, p₁, p₂, p₃, ṗ₁, ṗ₂, ṗ₃, q₁, q₂, q̇₁, q̇₂, s₂, τ₃, τ₄, τ̇₃, τ̇₄}"
      ]
     },
     "metadata": {},
     "output_type": "display_data"
    },
    {
     "data": {
      "text/plain": [
       "---"
      ]
     },
     "metadata": {},
     "output_type": "display_data"
    },
    {
     "data": {
      "image/png": "[encoded data removed]",
      "text/latex": [
       "(yddddot2_ext.s) := $\\displaystyle \\left\\{J_{2}, g, l_{0}, m_{1}, m_{2}, m_{3}, p_{1}, p_{2}, p_{3}, \\dot{p}_{1}, \\dot{p}_{2}, \\dot{p}_{3}, q_{1}, q_{2}, \\dot{q}_{1}, \\dot{q}_{2}, s_{2}, \\tau_{1}, \\tau_{2}, \\tau_{3}, \\tau_{4}, \\ddot{\\tau}_{3}, \\ddot{\\tau}_{4}, \\dot{\\tau}_{3}, \\dot{\\tau}_{4}\\right\\}$"
      ],
      "text/plain": [
       "(yddddot2_ext.s) := {J₂, g, l₀, m₁, m₂, m₃, p₁, p₂, p₃, ṗ₁, ṗ₂, ṗ₃, q₁, q₂, q̇₁, q̇₂, s₂, τ₁, τ\n",
       "₂, τ₃, τ₄, τ̈₃, τ̈₄, τ̇₃, τ̇₄}"
      ]
     },
     "metadata": {},
     "output_type": "display_data"
    },
    {
     "data": {
      "text/plain": [
       "---"
      ]
     },
     "metadata": {},
     "output_type": "display_data"
    }
   ],
   "source": [
    "y2_ext = xx_ext[1]\n",
    "ydot2_ext = st.lie_deriv(y2_ext, fg_ext, xx_ext)\n",
    "yddot2_ext = st.lie_deriv(ydot2_ext, fg_ext, xx_ext)\n",
    "ydddot2_ext = st.lie_deriv(yddot2_ext, fg_ext, xx_ext)\n",
    "yddddot2_ext = st.lie_deriv(ydddot2_ext, fg_ext, xx_ext)\n",
    "\n",
    "ydot2_ext.s ##:\n",
    "yddot2_ext.s ##:\n",
    "ydddot2_ext.s ##:\n",
    "yddddot2_ext.s ##:"
   ]
  },
  {
   "cell_type": "code",
   "execution_count": 12,
   "metadata": {},
   "outputs": [
    {
     "data": {
      "image/png": "[encoded data removed]",
      "text/latex": [
       "(ydot3_ext.s) := $\\displaystyle \\left\\{\\dot{p}_{3}\\right\\}$"
      ],
      "text/plain": [
       "(ydot3_ext.s) := {ṗ₃}"
      ]
     },
     "metadata": {},
     "output_type": "display_data"
    },
    {
     "data": {
      "text/plain": [
       "---"
      ]
     },
     "metadata": {},
     "output_type": "display_data"
    },
    {
     "data": {
      "image/png": "[encoded data removed]",
      "text/latex": [
       "(yddot3_ext.s) := $\\displaystyle \\left\\{J_{2}, l_{0}, p_{1}, p_{2}, p_{3}, q_{1}, q_{2}, s_{2}, \\tau_{3}, \\tau_{4}\\right\\}$"
      ],
      "text/plain": [
       "(yddot3_ext.s) := {J₂, l₀, p₁, p₂, p₃, q₁, q₂, s₂, τ₃, τ₄}"
      ]
     },
     "metadata": {},
     "output_type": "display_data"
    },
    {
     "data": {
      "text/plain": [
       "---"
      ]
     },
     "metadata": {},
     "output_type": "display_data"
    },
    {
     "data": {
      "image/png": "[encoded data removed]",
      "text/latex": [
       "(ydddot3_ext.s) := $\\displaystyle \\left\\{J_{2}, l_{0}, p_{1}, p_{2}, p_{3}, \\dot{p}_{1}, \\dot{p}_{2}, \\dot{p}_{3}, q_{1}, q_{2}, \\dot{q}_{1}, \\dot{q}_{2}, s_{2}, \\tau_{3}, \\tau_{4}, \\dot{\\tau}_{3}, \\dot{\\tau}_{4}\\right\\}$"
      ],
      "text/plain": [
       "(ydddot3_ext.s) := {J₂, l₀, p₁, p₂, p₃, ṗ₁, ṗ₂, ṗ₃, q₁, q₂, q̇₁, q̇₂, s₂, τ₃, τ₄, τ̇₃, τ̇₄}"
      ]
     },
     "metadata": {},
     "output_type": "display_data"
    },
    {
     "data": {
      "text/plain": [
       "---"
      ]
     },
     "metadata": {},
     "output_type": "display_data"
    },
    {
     "data": {
      "image/png": "[encoded data removed]",
      "text/latex": [
       "(yddddot3_ext.s) := $\\displaystyle \\left\\{J_{2}, g, l_{0}, m_{1}, m_{2}, m_{3}, p_{1}, p_{2}, p_{3}, \\dot{p}_{1}, \\dot{p}_{2}, \\dot{p}_{3}, q_{1}, q_{2}, \\dot{q}_{1}, \\dot{q}_{2}, s_{2}, \\tau_{1}, \\tau_{2}, \\tau_{3}, \\tau_{4}, \\ddot{\\tau}_{3}, \\ddot{\\tau}_{4}, \\dot{\\tau}_{3}, \\dot{\\tau}_{4}\\right\\}$"
      ],
      "text/plain": [
       "(yddddot3_ext.s) := {J₂, g, l₀, m₁, m₂, m₃, p₁, p₂, p₃, ṗ₁, ṗ₂, ṗ₃, q₁, q₂, q̇₁, q̇₂, s₂, τ₁, τ\n",
       "₂, τ₃, τ₄, τ̈₃, τ̈₄, τ̇₃, τ̇₄}"
      ]
     },
     "metadata": {},
     "output_type": "display_data"
    },
    {
     "data": {
      "text/plain": [
       "---"
      ]
     },
     "metadata": {},
     "output_type": "display_data"
    }
   ],
   "source": [
    "y3_ext = xx_ext[2]\n",
    "ydot3_ext = st.lie_deriv(y3_ext, fg_ext, xx_ext)\n",
    "yddot3_ext = st.lie_deriv(ydot3_ext, fg_ext, xx_ext)\n",
    "ydddot3_ext = st.lie_deriv(yddot3_ext, fg_ext, xx_ext)\n",
    "yddddot3_ext = st.lie_deriv(ydddot3_ext, fg_ext, xx_ext)\n",
    "\n",
    "ydot3_ext.s ##:\n",
    "yddot3_ext.s ##:\n",
    "ydddot3_ext.s ##:\n",
    "yddddot3_ext.s ##:"
   ]
  },
  {
   "cell_type": "code",
   "execution_count": 13,
   "metadata": {
    "scrolled": true
   },
   "outputs": [
    {
     "data": {
      "image/png": "[encoded data removed]",
      "text/latex": [
       "(ydot4_ext.s) := $\\displaystyle \\left\\{\\dot{q}_{1}\\right\\}$"
      ],
      "text/plain": [
       "(ydot4_ext.s) := {q̇₁}"
      ]
     },
     "metadata": {},
     "output_type": "display_data"
    },
    {
     "data": {
      "text/plain": [
       "---"
      ]
     },
     "metadata": {},
     "output_type": "display_data"
    },
    {
     "data": {
      "image/png": "[encoded data removed]",
      "text/latex": [
       "(yddot4_ext.s) := $\\displaystyle \\left\\{m_{1}, p_{1}, p_{2}, p_{3}, q_{1}, s_{2}, \\tau_{1}, \\tau_{3}\\right\\}$"
      ],
      "text/plain": [
       "(yddot4_ext.s) := {m₁, p₁, p₂, p₃, q₁, s₂, τ₁, τ₃}"
      ]
     },
     "metadata": {},
     "output_type": "display_data"
    },
    {
     "data": {
      "text/plain": [
       "---"
      ]
     },
     "metadata": {},
     "output_type": "display_data"
    },
    {
     "data": {
      "image/png": "[encoded data removed]",
      "text/latex": [
       "(ydddot4_ext.s) := $\\displaystyle \\left\\{m_{1}, p_{1}, p_{2}, p_{3}, \\dot{p}_{1}, \\dot{p}_{2}, \\dot{p}_{3}, q_{1}, \\dot{q}_{1}, s_{2}, \\tau_{3}, \\dot{\\tau}_{1}, \\dot{\\tau}_{3}\\right\\}$"
      ],
      "text/plain": [
       "(ydddot4_ext.s) := {m₁, p₁, p₂, p₃, ṗ₁, ṗ₂, ṗ₃, q₁, q̇₁, s₂, τ₃, τ̇₁, τ̇₃}"
      ]
     },
     "metadata": {},
     "output_type": "display_data"
    },
    {
     "data": {
      "text/plain": [
       "---"
      ]
     },
     "metadata": {},
     "output_type": "display_data"
    },
    {
     "data": {
      "image/png": "[encoded data removed]",
      "text/latex": [
       "(yddddot4_ext.s) := $\\displaystyle \\left\\{J_{2}, g, l_{0}, m_{1}, m_{2}, p_{1}, p_{2}, p_{3}, \\dot{p}_{1}, \\dot{p}_{2}, \\dot{p}_{3}, q_{1}, q_{2}, \\dot{q}_{1}, s_{2}, \\tau_{1}, \\tau_{3}, \\tau_{4}, \\ddot{\\tau}_{1}, \\ddot{\\tau}_{3}, \\dot{\\tau}_{3}\\right\\}$"
      ],
      "text/plain": [
       "(yddddot4_ext.s) := {J₂, g, l₀, m₁, m₂, p₁, p₂, p₃, ṗ₁, ṗ₂, ṗ₃, q₁, q₂, q̇₁, s₂, τ₁, τ₃, τ₄, τ̈\n",
       "₁, τ̈₃, τ̇₃}"
      ]
     },
     "metadata": {},
     "output_type": "display_data"
    },
    {
     "data": {
      "text/plain": [
       "---"
      ]
     },
     "metadata": {},
     "output_type": "display_data"
    }
   ],
   "source": [
    "y4_ext = xx_ext[3]\n",
    "ydot4_ext = st.lie_deriv(y4_ext, fg_ext, xx_ext)\n",
    "yddot4_ext = st.lie_deriv(ydot4_ext, fg_ext, xx_ext)\n",
    "ydddot4_ext = st.lie_deriv(yddot4_ext, fg_ext, xx_ext)\n",
    "yddddot4_ext = st.lie_deriv(ydddot4_ext, fg_ext, xx_ext)\n",
    "\n",
    "ydot4_ext.s ##:\n",
    "yddot4_ext.s ##:\n",
    "ydddot4_ext.s ##:\n",
    "yddddot4_ext.s ##:"
   ]
  },
  {
   "cell_type": "code",
   "execution_count": 14,
   "metadata": {},
   "outputs": [],
   "source": [
    "# v_j = m_i * tau_i + n_i"
   ]
  },
  {
   "cell_type": "code",
   "execution_count": 15,
   "metadata": {},
   "outputs": [
    {
     "data": {
      "image/png": "[encoded data removed]",
      "text/latex": [
       "(tau1_impl.s) := $\\displaystyle \\left\\{m_{1}, p_{1}, p_{2}, p_{3}, q_{1}, s_{2}, \\tau_{3}, v_{4}\\right\\}$"
      ],
      "text/plain": [
       "(tau1_impl.s) := {m₁, p₁, p₂, p₃, q₁, s₂, τ₃, v₄}"
      ]
     },
     "metadata": {},
     "output_type": "display_data"
    },
    {
     "data": {
      "text/plain": [
       "---"
      ]
     },
     "metadata": {},
     "output_type": "display_data"
    },
    {
     "data": {
      "image/png": "[encoded data removed]",
      "text/latex": [
       "(tau1_impl.co) := $\\displaystyle 22$"
      ],
      "text/plain": [
       "(tau1_impl.co) := 22"
      ]
     },
     "metadata": {},
     "output_type": "display_data"
    },
    {
     "data": {
      "text/plain": [
       "---"
      ]
     },
     "metadata": {},
     "output_type": "display_data"
    }
   ],
   "source": [
    "m1 = yddot4_ext.diff(tau1)\n",
    "n1 = yddot4_ext.subs(tau1, 0)\n",
    "tau1_impl = (v4 - n1)/ m1\n",
    "tau1_impl.s ##:\n",
    "tau1_impl.co ##:"
   ]
  },
  {
   "cell_type": "code",
   "execution_count": 16,
   "metadata": {},
   "outputs": [
    {
     "data": {
      "image/png": "[encoded data removed]",
      "text/latex": [
       "(tau2_impl.s) := $\\displaystyle \\left\\{J_{2}, g, l_{0}, m_{1}, m_{2}, m_{3}, p_{1}, p_{2}, p_{3}, \\dot{p}_{1}, \\dot{p}_{2}, \\dot{p}_{3}, q_{1}, q_{2}, \\dot{q}_{1}, \\dot{q}_{2}, s_{2}, \\tau_{1}, \\tau_{3}, \\tau_{4}, \\ddot{\\tau}_{3}, \\ddot{\\tau}_{4}, \\dot{\\tau}_{3}, \\dot{\\tau}_{4}, v_{2}\\right\\}$"
      ],
      "text/plain": [
       "(tau2_impl.s) := {J₂, g, l₀, m₁, m₂, m₃, p₁, p₂, p₃, ṗ₁, ṗ₂, ṗ₃, q₁, q₂, q̇₁, q̇₂, s₂, τ₁, τ\n",
       "₃, τ₄, τ̈₃, τ̈₄, τ̇₃, τ̇₄, v₂}"
      ]
     },
     "metadata": {},
     "output_type": "display_data"
    },
    {
     "data": {
      "text/plain": [
       "---"
      ]
     },
     "metadata": {},
     "output_type": "display_data"
    },
    {
     "data": {
      "image/png": "[encoded data removed]",
      "text/latex": [
       "(tau2_impl.co) := $\\displaystyle 3582$"
      ],
      "text/plain": [
       "(tau2_impl.co) := 3582"
      ]
     },
     "metadata": {},
     "output_type": "display_data"
    },
    {
     "data": {
      "text/plain": [
       "---"
      ]
     },
     "metadata": {},
     "output_type": "display_data"
    }
   ],
   "source": [
    "m2 = yddddot2_ext.diff(tau2)\n",
    "n2 = yddddot2_ext.subs(tau2, 0)\n",
    "tau2_impl = (v2 - n2)/ m2\n",
    "tau2_impl.s ##:\n",
    "tau2_impl.co ##:"
   ]
  },
  {
   "cell_type": "code",
   "execution_count": 17,
   "metadata": {},
   "outputs": [
    {
     "data": {
      "image/png": "[encoded data removed]",
      "text/latex": [
       "(tau3_impl.s) := $\\displaystyle \\left\\{l_{0}, m_{2}, p_{1}, p_{2}, p_{3}, q_{1}, q_{2}, s_{2}, \\tau_{4}, v_{1}\\right\\}$"
      ],
      "text/plain": [
       "(tau3_impl.s) := {l₀, m₂, p₁, p₂, p₃, q₁, q₂, s₂, τ₄, v₁}"
      ]
     },
     "metadata": {},
     "output_type": "display_data"
    },
    {
     "data": {
      "text/plain": [
       "---"
      ]
     },
     "metadata": {},
     "output_type": "display_data"
    },
    {
     "data": {
      "image/png": "[encoded data removed]",
      "text/latex": [
       "(tau3_impl.co) := $\\displaystyle 42$"
      ],
      "text/plain": [
       "(tau3_impl.co) := 42"
      ]
     },
     "metadata": {},
     "output_type": "display_data"
    },
    {
     "data": {
      "text/plain": [
       "---"
      ]
     },
     "metadata": {},
     "output_type": "display_data"
    }
   ],
   "source": [
    "m3 = yddot1_ext.diff(tau3)\n",
    "n3 = yddot1_ext.subs(tau3, 0)\n",
    "tau3_impl = (v1 - n3)/ m3\n",
    "tau3_impl.s ##:\n",
    "tau3_impl.co ##:"
   ]
  },
  {
   "cell_type": "code",
   "execution_count": 18,
   "metadata": {},
   "outputs": [
    {
     "data": {
      "image/png": "[encoded data removed]",
      "text/latex": [
       "(tau4_impl.s) := $\\displaystyle \\left\\{J_{2}, l_{0}, p_{1}, p_{2}, p_{3}, q_{1}, q_{2}, s_{2}, \\tau_{3}, v_{3}\\right\\}$"
      ],
      "text/plain": [
       "(tau4_impl.s) := {J₂, l₀, p₁, p₂, p₃, q₁, q₂, s₂, τ₃, v₃}"
      ]
     },
     "metadata": {},
     "output_type": "display_data"
    },
    {
     "data": {
      "text/plain": [
       "---"
      ]
     },
     "metadata": {},
     "output_type": "display_data"
    },
    {
     "data": {
      "image/png": "[encoded data removed]",
      "text/latex": [
       "(tau4_impl.co) := $\\displaystyle 90$"
      ],
      "text/plain": [
       "(tau4_impl.co) := 90"
      ]
     },
     "metadata": {},
     "output_type": "display_data"
    },
    {
     "data": {
      "text/plain": [
       "---"
      ]
     },
     "metadata": {},
     "output_type": "display_data"
    }
   ],
   "source": [
    "m4 = yddot3_ext.diff(tau4)\n",
    "n4 = yddot3_ext.subs(tau4, 0)\n",
    "tau4_impl = (v3 - n4)/ m4\n",
    "tau4_impl.s ##:\n",
    "tau4_impl.co ##:"
   ]
  },
  {
   "cell_type": "code",
   "execution_count": 19,
   "metadata": {},
   "outputs": [],
   "source": [
    "sol_tau134 = sp.solve((tau1-tau1_impl, tau3-tau3_impl, tau4-tau4_impl), tau1, tau3, tau4)"
   ]
  },
  {
   "cell_type": "code",
   "execution_count": 20,
   "metadata": {},
   "outputs": [],
   "source": [
    "tau1_expl = sol_tau134[tau1].smplf\n",
    "tau3_expl = sol_tau134[tau3].smplf\n",
    "tau4_expl = sol_tau134[tau4].smplf"
   ]
  },
  {
   "cell_type": "code",
   "execution_count": 21,
   "metadata": {},
   "outputs": [
    {
     "data": {
      "image/png": "[encoded data removed]",
      "text/latex": [
       "(tau1_expl.s) := $\\displaystyle \\left\\{J_{2}, l_{0}, m_{1}, m_{2}, p_{1}, p_{2}, p_{3}, q_{1}, q_{2}, s_{2}, v_{1}, v_{3}, v_{4}\\right\\}$"
      ],
      "text/plain": [
       "(tau1_expl.s) := {J₂, l₀, m₁, m₂, p₁, p₂, p₃, q₁, q₂, s₂, v₁, v₃, v₄}"
      ]
     },
     "metadata": {},
     "output_type": "display_data"
    },
    {
     "data": {
      "text/plain": [
       "---"
      ]
     },
     "metadata": {},
     "output_type": "display_data"
    },
    {
     "data": {
      "image/png": "[encoded data removed]",
      "text/latex": [
       "(tau1_expl.co) := $\\displaystyle 310$"
      ],
      "text/plain": [
       "(tau1_expl.co) := 310"
      ]
     },
     "metadata": {},
     "output_type": "display_data"
    },
    {
     "data": {
      "text/plain": [
       "---"
      ]
     },
     "metadata": {},
     "output_type": "display_data"
    },
    {
     "data": {
      "image/png": "[encoded data removed]",
      "text/latex": [
       "(tau3_expl.s) := $\\displaystyle \\left\\{J_{2}, l_{0}, m_{2}, p_{1}, p_{2}, p_{3}, q_{1}, q_{2}, s_{2}, v_{1}, v_{3}\\right\\}$"
      ],
      "text/plain": [
       "(tau3_expl.s) := {J₂, l₀, m₂, p₁, p₂, p₃, q₁, q₂, s₂, v₁, v₃}"
      ]
     },
     "metadata": {},
     "output_type": "display_data"
    },
    {
     "data": {
      "text/plain": [
       "---"
      ]
     },
     "metadata": {},
     "output_type": "display_data"
    },
    {
     "data": {
      "image/png": "[encoded data removed]",
      "text/latex": [
       "(tau3_expl.co) := $\\displaystyle 132$"
      ],
      "text/plain": [
       "(tau3_expl.co) := 132"
      ]
     },
     "metadata": {},
     "output_type": "display_data"
    },
    {
     "data": {
      "text/plain": [
       "---"
      ]
     },
     "metadata": {},
     "output_type": "display_data"
    },
    {
     "data": {
      "image/png": "[encoded data removed]",
      "text/latex": [
       "(tau4_expl.s) := $\\displaystyle \\left\\{J_{2}, l_{0}, m_{2}, p_{1}, p_{2}, p_{3}, q_{1}, q_{2}, s_{2}, v_{1}, v_{3}\\right\\}$"
      ],
      "text/plain": [
       "(tau4_expl.s) := {J₂, l₀, m₂, p₁, p₂, p₃, q₁, q₂, s₂, v₁, v₃}"
      ]
     },
     "metadata": {},
     "output_type": "display_data"
    },
    {
     "data": {
      "text/plain": [
       "---"
      ]
     },
     "metadata": {},
     "output_type": "display_data"
    },
    {
     "data": {
      "image/png": "[encoded data removed]",
      "text/latex": [
       "(tau4_expl.co) := $\\displaystyle 136$"
      ],
      "text/plain": [
       "(tau4_expl.co) := 136"
      ]
     },
     "metadata": {},
     "output_type": "display_data"
    },
    {
     "data": {
      "text/plain": [
       "---"
      ]
     },
     "metadata": {},
     "output_type": "display_data"
    }
   ],
   "source": [
    "tau1_expl.s ##:\n",
    "tau1_expl.co ##:\n",
    "tau3_expl.s ##:\n",
    "tau3_expl.co ##:\n",
    "tau4_expl.s ##:\n",
    "tau4_expl.co ##:"
   ]
  },
  {
   "cell_type": "code",
   "execution_count": 22,
   "metadata": {},
   "outputs": [
    {
     "data": {
      "image/png": "[encoded data removed]",
      "text/latex": [
       "(tau3_expl_dot.s) := $\\displaystyle \\left\\{J_{2}, l_{0}, m_{2}, p_{1}, p_{2}, p_{3}, \\dot{p}_{1}, \\dot{p}_{2}, \\dot{p}_{3}, q_{1}, q_{2}, \\dot{q}_{1}, \\dot{q}_{2}, s_{2}, v_{1}, v_{3}, \\dot{v}_{1}, \\dot{v}_{3}\\right\\}$"
      ],
      "text/plain": [
       "(tau3_expl_dot.s) := {J₂, l₀, m₂, p₁, p₂, p₃, ṗ₁, ṗ₂, ṗ₃, q₁, q₂, q̇₁, q̇₂, s₂, v₁, v₃, v̇₁, v̇₃}"
      ]
     },
     "metadata": {},
     "output_type": "display_data"
    },
    {
     "data": {
      "text/plain": [
       "---"
      ]
     },
     "metadata": {},
     "output_type": "display_data"
    },
    {
     "data": {
      "image/png": "[encoded data removed]",
      "text/latex": [
       "(tau3_expl_dot.co) := $\\displaystyle 1998$"
      ],
      "text/plain": [
       "(tau3_expl_dot.co) := 1998"
      ]
     },
     "metadata": {},
     "output_type": "display_data"
    },
    {
     "data": {
      "text/plain": [
       "---"
      ]
     },
     "metadata": {},
     "output_type": "display_data"
    },
    {
     "data": {
      "image/png": "[encoded data removed]",
      "text/latex": [
       "(tau3_expl_ddot.s) := $\\displaystyle \\left\\{J_{2}, g, l_{0}, m_{1}, m_{2}, m_{3}, p_{1}, p_{2}, p_{3}, \\dot{p}_{1}, \\dot{p}_{2}, \\dot{p}_{3}, q_{1}, q_{2}, \\dot{q}_{1}, \\dot{q}_{2}, s_{2}, \\tau_{1}, \\tau_{2}, \\tau_{3}, \\tau_{4}, v_{1}, v_{3}, \\ddot{v}_{1}, \\ddot{v}_{3}, \\dot{v}_{1}, \\dot{v}_{3}\\right\\}$"
      ],
      "text/plain": [
       "(tau3_expl_ddot.s) := {J₂, g, l₀, m₁, m₂, m₃, p₁, p₂, p₃, ṗ₁, ṗ₂, ṗ₃, q₁, q₂, q̇₁, q̇₂, s₂, τ₁, τ\n",
       "₂, τ₃, τ₄, v₁, v₃, v̈₁, v̈₃, v̇₁, v̇₃}"
      ]
     },
     "metadata": {},
     "output_type": "display_data"
    },
    {
     "data": {
      "text/plain": [
       "---"
      ]
     },
     "metadata": {},
     "output_type": "display_data"
    },
    {
     "data": {
      "image/png": "[encoded data removed]",
      "text/latex": [
       "(tau3_expl_ddot.co) := $\\displaystyle 34678$"
      ],
      "text/plain": [
       "(tau3_expl_ddot.co) := 34678"
      ]
     },
     "metadata": {},
     "output_type": "display_data"
    },
    {
     "data": {
      "text/plain": [
       "---"
      ]
     },
     "metadata": {},
     "output_type": "display_data"
    },
    {
     "data": {
      "image/png": "[encoded data removed]",
      "text/latex": [
       "(tau4_expl_dot.s) := $\\displaystyle \\left\\{J_{2}, l_{0}, m_{2}, p_{1}, p_{2}, p_{3}, \\dot{p}_{1}, \\dot{p}_{2}, \\dot{p}_{3}, q_{1}, q_{2}, \\dot{q}_{1}, \\dot{q}_{2}, s_{2}, v_{1}, v_{3}, \\dot{v}_{1}, \\dot{v}_{3}\\right\\}$"
      ],
      "text/plain": [
       "(tau4_expl_dot.s) := {J₂, l₀, m₂, p₁, p₂, p₃, ṗ₁, ṗ₂, ṗ₃, q₁, q₂, q̇₁, q̇₂, s₂, v₁, v₃, v̇₁, v̇₃}"
      ]
     },
     "metadata": {},
     "output_type": "display_data"
    },
    {
     "data": {
      "text/plain": [
       "---"
      ]
     },
     "metadata": {},
     "output_type": "display_data"
    },
    {
     "data": {
      "image/png": "[encoded data removed]",
      "text/latex": [
       "(tau4_expl_dot.co) := $\\displaystyle 2104$"
      ],
      "text/plain": [
       "(tau4_expl_dot.co) := 2104"
      ]
     },
     "metadata": {},
     "output_type": "display_data"
    },
    {
     "data": {
      "text/plain": [
       "---"
      ]
     },
     "metadata": {},
     "output_type": "display_data"
    },
    {
     "data": {
      "image/png": "[encoded data removed]",
      "text/latex": [
       "(tau4_expl_ddot.s) := $\\displaystyle \\left\\{J_{2}, g, l_{0}, m_{1}, m_{2}, m_{3}, p_{1}, p_{2}, p_{3}, \\dot{p}_{1}, \\dot{p}_{2}, \\dot{p}_{3}, q_{1}, q_{2}, \\dot{q}_{1}, \\dot{q}_{2}, s_{2}, \\tau_{1}, \\tau_{2}, \\tau_{3}, \\tau_{4}, v_{1}, v_{3}, \\ddot{v}_{1}, \\ddot{v}_{3}, \\dot{v}_{1}, \\dot{v}_{3}\\right\\}$"
      ],
      "text/plain": [
       "(tau4_expl_ddot.s) := {J₂, g, l₀, m₁, m₂, m₃, p₁, p₂, p₃, ṗ₁, ṗ₂, ṗ₃, q₁, q₂, q̇₁, q̇₂, s₂, τ₁, τ\n",
       "₂, τ₃, τ₄, v₁, v₃, v̈₁, v̈₃, v̇₁, v̇₃}"
      ]
     },
     "metadata": {},
     "output_type": "display_data"
    },
    {
     "data": {
      "text/plain": [
       "---"
      ]
     },
     "metadata": {},
     "output_type": "display_data"
    },
    {
     "data": {
      "image/png": "[encoded data removed]",
      "text/latex": [
       "(tau4_expl_ddot.co) := $\\displaystyle 36734$"
      ],
      "text/plain": [
       "(tau4_expl_ddot.co) := 36734"
      ]
     },
     "metadata": {},
     "output_type": "display_data"
    },
    {
     "data": {
      "text/plain": [
       "---"
      ]
     },
     "metadata": {},
     "output_type": "display_data"
    }
   ],
   "source": [
    "tau3_expl_dot = st.lie_deriv(tau3_expl, fg_ext, xx_ext)\n",
    "tau3_expl_dot.s ##:\n",
    "tau3_expl_dot.co ##:\n",
    "tau3_expl_ddot = st.lie_deriv(tau3_expl_dot, fg_ext, xx_ext)\n",
    "tau3_expl_ddot.s ##:\n",
    "tau3_expl_ddot.co ##:\n",
    "\n",
    "tau4_expl_dot = st.lie_deriv(tau4_expl, fg_ext, xx_ext)\n",
    "tau4_expl_dot.s ##:\n",
    "tau4_expl_dot.co ##:\n",
    "tau4_expl_ddot = st.lie_deriv(tau4_expl_dot, fg_ext, xx_ext)\n",
    "tau4_expl_ddot.s ##:\n",
    "tau4_expl_ddot.co ##:"
   ]
  },
  {
   "cell_type": "code",
   "execution_count": 23,
   "metadata": {},
   "outputs": [
    {
     "data": {
      "image/png": "[encoded data removed]",
      "text/latex": [
       "(tau2_expl.s) := $\\displaystyle \\left\\{J_{2}, g, l_{0}, m_{1}, m_{2}, m_{3}, p_{1}, p_{2}, p_{3}, \\dot{p}_{1}, \\dot{p}_{2}, \\dot{p}_{3}, q_{1}, q_{2}, \\dot{q}_{1}, \\dot{q}_{2}, s_{2}, \\tau_{2}, v_{1}, v_{2}, v_{3}, v_{4}, \\ddot{v}_{1}, \\ddot{v}_{3}, \\dot{v}_{1}, \\dot{v}_{3}\\right\\}$"
      ],
      "text/plain": [
       "(tau2_expl.s) := {J₂, g, l₀, m₁, m₂, m₃, p₁, p₂, p₃, ṗ₁, ṗ₂, ṗ₃, q₁, q₂, q̇₁, q̇₂, s₂, τ₂, v\n",
       "₁, v₂, v₃, v₄, v̈₁, v̈₃, v̇₁, v̇₃}"
      ]
     },
     "metadata": {},
     "output_type": "display_data"
    },
    {
     "data": {
      "text/plain": [
       "---"
      ]
     },
     "metadata": {},
     "output_type": "display_data"
    },
    {
     "data": {
      "image/png": "[encoded data removed]",
      "text/latex": [
       "(tau2_expl.co) := $\\displaystyle 121559$"
      ],
      "text/plain": [
       "(tau2_expl.co) := 121559"
      ]
     },
     "metadata": {},
     "output_type": "display_data"
    },
    {
     "data": {
      "text/plain": [
       "---"
      ]
     },
     "metadata": {},
     "output_type": "display_data"
    },
    {
     "data": {
      "image/png": "[encoded data removed]",
      "text/latex": [
       "(tau2_expl.s) := $\\displaystyle \\left\\{J_{2}, g, l_{0}, m_{1}, m_{2}, m_{3}, p_{1}, p_{2}, p_{3}, \\dot{p}_{1}, \\dot{p}_{2}, \\dot{p}_{3}, q_{1}, q_{2}, \\dot{q}_{1}, \\dot{q}_{2}, s_{2}, v_{1}, v_{2}, v_{3}, v_{4}, \\ddot{v}_{1}, \\ddot{v}_{3}, \\dot{v}_{1}, \\dot{v}_{3}\\right\\}$"
      ],
      "text/plain": [
       "(tau2_expl.s) := {J₂, g, l₀, m₁, m₂, m₃, p₁, p₂, p₃, ṗ₁, ṗ₂, ṗ₃, q₁, q₂, q̇₁, q̇₂, s₂, v₁, v\n",
       "₂, v₃, v₄, v̈₁, v̈₃, v̇₁, v̇₃}"
      ]
     },
     "metadata": {},
     "output_type": "display_data"
    },
    {
     "data": {
      "text/plain": [
       "---"
      ]
     },
     "metadata": {},
     "output_type": "display_data"
    },
    {
     "data": {
      "image/png": "[encoded data removed]",
      "text/latex": [
       "(tau2_expl.co) := $\\displaystyle 122306$"
      ],
      "text/plain": [
       "(tau2_expl.co) := 122306"
      ]
     },
     "metadata": {},
     "output_type": "display_data"
    },
    {
     "data": {
      "text/plain": [
       "---"
      ]
     },
     "metadata": {},
     "output_type": "display_data"
    }
   ],
   "source": [
    "tau2_expl = tau2_impl.subz([tauddot3, tauddot4, taudot3, taudot4, tau1, tau3, tau4], \n",
    "                             [tau3_expl_ddot, tau4_expl_ddot, tau3_expl_dot, tau4_expl_dot, tau1_expl, tau3_expl, tau4_expl])\n",
    "tau2_expl.s ##:\n",
    "tau2_expl.co ##:\n",
    "\n",
    "mc2 = tau2_expl.diff(tau2)\n",
    "nc2 = tau2_expl.subs(tau2, 0)\n",
    "\n",
    "tau2_expl = 1/(1-mc2) * nc2\n",
    "tau2_expl.s ##:\n",
    "tau2_expl.co ##:"
   ]
  },
  {
   "cell_type": "markdown",
   "metadata": {},
   "source": [
    "#### State feedback for control"
   ]
  },
  {
   "cell_type": "code",
   "execution_count": 24,
   "metadata": {},
   "outputs": [],
   "source": [
    "# define symbols for measured states\n",
    "p_meas = st.symb_vector(\"pm1:{0}\".format(3+1)) # error vector of passive coordinates\n",
    "q_meas = st.symb_vector(\"qm1:{0}\".format(2+1)) # error vector of actuated coordinates\n",
    "\n",
    "meas_states = st.row_stack(p_meas, q_meas)\n",
    "meas_states_d = st.time_deriv(meas_states, meas_states)\n",
    "meas_states_dd = st.time_deriv(meas_states, meas_states, order=2)\n",
    "meas_states_ddd = st.time_deriv(meas_states, meas_states, order=3)\n",
    "meas_states_dddd = st.time_deriv(meas_states, meas_states, order=4)\n",
    "\n",
    "st.make_global(meas_states, meas_states_d, meas_states_dd, meas_states_ddd, meas_states_dddd)\n",
    "\n",
    "# define symbols for reference trajectory states\n",
    "p_ref = st.symb_vector(\"pr1:{0}\".format(3+1)) # error vector of passive coordinates\n",
    "q_ref = st.symb_vector(\"qr1:{0}\".format(2+1)) # error vector of actuated coordinates\n",
    "\n",
    "ref_states = st.row_stack(p_ref, q_ref)\n",
    "ref_states_d = st.time_deriv(ref_states, ref_states)\n",
    "ref_states_dd = st.time_deriv(ref_states, ref_states, order=2)\n",
    "ref_states_ddd = st.time_deriv(ref_states, ref_states, order=3)\n",
    "ref_states_dddd = st.time_deriv(ref_states, ref_states, order=4)\n",
    "\n",
    "st.make_global(ref_states, ref_states_d, ref_states_dd, ref_states_ddd, ref_states_dddd)"
   ]
  },
  {
   "cell_type": "markdown",
   "metadata": {},
   "source": [
    "#### Linear feedback error:\n",
    "$$\n",
    "e := y - y_{\\text{ref}}\n",
    "$$\n",
    "\n",
    "#### Error dynamics:\n",
    "$$\n",
    "e^{(n)} + c_{n-1} e^{(n-1)} + ... + c_{1} \\dot{e} + c_{0} e = 0 \n",
    "\\Leftrightarrow y^{(n)} = y_{\\text{ref}}^{(n)} - c_{n-1} e^{(n-1)} - ... - c_{1} \\dot{e} - c_{0} e\n",
    "$$"
   ]
  },
  {
   "cell_type": "code",
   "execution_count": 132,
   "metadata": {},
   "outputs": [
    {
     "data": {
      "image/png": "[encoded data removed]",
      "text/latex": [
       "v1_expr := $\\displaystyle \\ddot{pr}_{1}$"
      ],
      "text/plain": [
       "v1_expr := pr̈₁"
      ]
     },
     "metadata": {},
     "output_type": "display_data"
    },
    {
     "data": {
      "text/plain": [
       "---"
      ]
     },
     "metadata": {},
     "output_type": "display_data"
    },
    {
     "data": {
      "image/png": "[encoded data removed]",
      "text/latex": [
       "v3_expr := $\\displaystyle \\ddot{pr}_{3}$"
      ],
      "text/plain": [
       "v3_expr := pr̈₃"
      ]
     },
     "metadata": {},
     "output_type": "display_data"
    },
    {
     "data": {
      "text/plain": [
       "---"
      ]
     },
     "metadata": {},
     "output_type": "display_data"
    },
    {
     "data": {
      "image/png": "[encoded data removed]",
      "text/latex": [
       "v4_expr := $\\displaystyle \\ddot{qr}_{1}$"
      ],
      "text/plain": [
       "v4_expr := qr̈₁"
      ]
     },
     "metadata": {},
     "output_type": "display_data"
    },
    {
     "data": {
      "text/plain": [
       "---"
      ]
     },
     "metadata": {},
     "output_type": "display_data"
    }
   ],
   "source": [
    "v1_expr = prddot1 #+ 2*(prdot1 - pdot1) + (pr1 - p1) ##:\n",
    "v3_expr = prddot3 #+ 2*(prdot3 - pdot3) + (pr3 - p3) ##:\n",
    "v4_expr = qrddot1 #+ 2*(qrdot1 - qdot1) + (qr1 - q1) ##:"
   ]
  },
  {
   "cell_type": "markdown",
   "metadata": {},
   "source": [
    "##### Quasi static state feedback for $\\dot{v}_1$, $\\ddot{v}_1$, $\\dot{v}_3$, $\\ddot{v}_3$:\n",
    "\\begin{align}\n",
    "    \\ddot{e} + c_1 \\dot{e} + c_0 e &= 0 \\\\\n",
    "    e^{(3)} + c_1 \\ddot{e} + c_0 \\dot{e} &= 0 \\\\\n",
    "    e^{(3)} + c_1 (-c_1 \\dot{e} - c_0 e) + c_0 \\dot{e} &= 0 \\\\\n",
    "    e^{(3)} - c_1^2 \\dot{e} + c_0 \\dot{e} - c_0 c_1 e &= 0 \\\\\n",
    "    e^{(3)} + (c_0 - c_1^2) \\dot{e} - c_0 c_1 e &= 0 \\\\\n",
    "    e^{(4)} + (c_0 - c_1^2) \\ddot{e} - c_0 c_1 \\dot{e} &= 0 \\\\\n",
    "    e^{(4)} + (c_0 - c_1^2) (-c_1 \\dot{e} - c_0 e) - c_0 c_1 \\dot{e} &= 0 \\\\\n",
    "    e^{(4)} + (c_1^2 - 2 c_0 c_1) \\dot{e} + (c_0 c_1^2 - c_0^2) e &= 0 \\\\\n",
    "    \\Rightarrow y^{(3)} &= y_{\\text{ref}}^{(3)} - (c_0 - c_1^2) \\dot{e} + c_0 c_1 e \\\\\n",
    "    \\Rightarrow y^{(4)} &= y_{\\text{ref}}^{(4)} - (c_1^3 - 2 c_0 c_1) \\dot{e} - (c_0 c_1^2 - c_0^2) e\n",
    "\\end{align}"
   ]
  },
  {
   "cell_type": "code",
   "execution_count": 134,
   "metadata": {},
   "outputs": [],
   "source": [
    "# vdot1 = y1^(3)\n",
    "vdot1_expr = prdddot1 #+ 3*(prdot1 - pdot1) + 2*(pr1 - p1)\n",
    "# vddot1 = y1^(4)\n",
    "vddot1_expr = prddddot1 #- 4*(prdot1 - pdot1) - 3*(pr1 - p1)\n",
    "\n",
    "# vdot3 = y3^(3)\n",
    "vdot3_expr = prdddot3 #+ 3*(prdot3 - pdot3) + 2*(pr3 - p3)\n",
    "# vddot3 = y3^(4)\n",
    "vddot3_expr = prddddot3 #- 4*(prdot3 - pdot3) - 3*(pr3 - p3)"
   ]
  },
  {
   "cell_type": "code",
   "execution_count": 135,
   "metadata": {},
   "outputs": [
    {
     "data": {
      "image/png": "[encoded data removed]",
      "text/latex": [
       "(pddot2_expr.s) := $\\displaystyle \\left\\{g, l_{0}, m_{2}, p_{1}, p_{2}, p_{3}, q_{1}, q_{2}, s_{2}, \\tau_{3}, \\tau_{4}\\right\\}$"
      ],
      "text/plain": [
       "(pddot2_expr.s) := {g, l₀, m₂, p₁, p₂, p₃, q₁, q₂, s₂, τ₃, τ₄}"
      ]
     },
     "metadata": {},
     "output_type": "display_data"
    },
    {
     "data": {
      "text/plain": [
       "---"
      ]
     },
     "metadata": {},
     "output_type": "display_data"
    },
    {
     "data": {
      "image/png": "[encoded data removed]",
      "text/latex": [
       "(pddot2_expr_traj.s) := $\\displaystyle \\left\\{J_{2}, g, l_{0}, m_{2}, p_{1}, p_{2}, p_{3}, \\ddot{pr}_{1}, \\ddot{pr}_{3}, q_{1}, q_{2}, s_{2}\\right\\}$"
      ],
      "text/plain": [
       "(pddot2_expr_traj.s) := {J₂, g, l₀, m₂, p₁, p₂, p₃, pr̈₁, pr̈₃, q₁, q₂, s₂}"
      ]
     },
     "metadata": {},
     "output_type": "display_data"
    },
    {
     "data": {
      "text/plain": [
       "---"
      ]
     },
     "metadata": {},
     "output_type": "display_data"
    }
   ],
   "source": [
    "pddot2_expr = mod.f[-4] + (mod.g[-4, :] * ttau)[0]\n",
    "pddot2_expr.s ##:\n",
    "pddot2_expr_traj = pddot2_expr.subz([tau3, tau4, v1, v3], [tau3_expl, tau4_expl, v1_expr, v3_expr])\n",
    "pddot2_expr_traj.s ##:"
   ]
  },
  {
   "cell_type": "code",
   "execution_count": 136,
   "metadata": {},
   "outputs": [
    {
     "data": {
      "image/png": "[encoded data removed]",
      "text/latex": [
       "(pdddot2_expr.s) := $\\displaystyle \\left\\{l_{0}, m_{2}, p_{1}, p_{2}, p_{3}, \\dot{p}_{1}, \\dot{p}_{2}, \\dot{p}_{3}, q_{1}, q_{2}, \\dot{q}_{1}, \\dot{q}_{2}, s_{2}, \\tau_{3}, \\tau_{4}, \\dot{\\tau}_{3}, \\dot{\\tau}_{4}\\right\\}$"
      ],
      "text/plain": [
       "(pdddot2_expr.s) := {l₀, m₂, p₁, p₂, p₃, ṗ₁, ṗ₂, ṗ₃, q₁, q₂, q̇₁, q̇₂, s₂, τ₃, τ₄, τ̇₃, τ̇₄}"
      ]
     },
     "metadata": {},
     "output_type": "display_data"
    },
    {
     "data": {
      "text/plain": [
       "---"
      ]
     },
     "metadata": {},
     "output_type": "display_data"
    },
    {
     "data": {
      "image/png": "[encoded data removed]",
      "text/latex": [
       "(pdddot2_expr_traj.s) := $\\displaystyle \\left\\{J_{2}, l_{0}, m_{2}, p_{1}, p_{2}, p_{3}, \\dot{p}_{1}, \\dot{p}_{2}, \\dot{p}_{3}, \\dddot{pr}_{1}, \\dddot{pr}_{3}, \\ddot{pr}_{1}, \\ddot{pr}_{3}, q_{1}, q_{2}, \\dot{q}_{1}, \\dot{q}_{2}, s_{2}\\right\\}$"
      ],
      "text/plain": [
       "(pdddot2_expr_traj.s) := {J₂, l₀, m₂, p₁, p₂, p₃, ṗ₁, ṗ₂, ṗ₃, pr⃛₁, pr⃛₃, pr̈₁, pr̈₃, q₁, q₂, q̇₁, q̇₂, s₂}"
      ]
     },
     "metadata": {},
     "output_type": "display_data"
    },
    {
     "data": {
      "text/plain": [
       "---"
      ]
     },
     "metadata": {},
     "output_type": "display_data"
    },
    {
     "data": {
      "image/png": "[encoded data removed]",
      "text/latex": [
       "(pdddot2_expr_traj.co) := $\\displaystyle 6023$"
      ],
      "text/plain": [
       "(pdddot2_expr_traj.co) := 6023"
      ]
     },
     "metadata": {},
     "output_type": "display_data"
    },
    {
     "data": {
      "text/plain": [
       "---"
      ]
     },
     "metadata": {},
     "output_type": "display_data"
    }
   ],
   "source": [
    "pdddot2_expr = st.lie_deriv(pddot2_expr, fg_ext, xx_ext)\n",
    "pdddot2_expr.s ##:\n",
    "pdddot2_expr_traj = pdddot2_expr.subz([taudot3, taudot4, tau3, tau4, vdot1, vdot3, v1, v3], \n",
    "                                      [tau3_expl_dot, tau4_expl_dot, tau3_expl, tau4_expl, vdot1_expr, vdot3_expr,v1_expr, v3_expr])\n",
    "pdddot2_expr_traj.s ##:\n",
    "pdddot2_expr_traj.co ##:"
   ]
  },
  {
   "cell_type": "code",
   "execution_count": 139,
   "metadata": {},
   "outputs": [
    {
     "data": {
      "image/png": "[encoded data removed]",
      "text/latex": [
       "v2_expr := $\\displaystyle \\ddddot{pr}_{2}$"
      ],
      "text/plain": [
       "v2_expr := pr⃜₂"
      ]
     },
     "metadata": {},
     "output_type": "display_data"
    },
    {
     "data": {
      "text/plain": [
       "---"
      ]
     },
     "metadata": {},
     "output_type": "display_data"
    },
    {
     "data": {
      "image/png": "[encoded data removed]",
      "text/latex": [
       "(v2_expr.s) := $\\displaystyle \\left\\{\\ddddot{pr}_{2}\\right\\}$"
      ],
      "text/plain": [
       "(v2_expr.s) := {pr⃜₂}"
      ]
     },
     "metadata": {},
     "output_type": "display_data"
    },
    {
     "data": {
      "text/plain": [
       "---"
      ]
     },
     "metadata": {},
     "output_type": "display_data"
    }
   ],
   "source": [
    "v2_expr = prddddot2 #+ 4*(prdddot2 - pdddot2) + 6*(prddot2 - pddot2) + 4*(prdot2 - pdot2) + 1 ##:\n",
    "v2_expr = v2_expr.subz([pddot2, pdddot2], [pddot2_expr_traj, pdddot2_expr_traj])\n",
    "v2_expr.s ##:"
   ]
  },
  {
   "cell_type": "code",
   "execution_count": 140,
   "metadata": {},
   "outputs": [],
   "source": [
    "### substitute new inputs into tau"
   ]
  },
  {
   "cell_type": "code",
   "execution_count": 141,
   "metadata": {},
   "outputs": [
    {
     "data": {
      "image/png": "[encoded data removed]",
      "text/latex": [
       "(tau1_expl.s) := $\\displaystyle \\left\\{J_{2}, l_{0}, m_{1}, m_{2}, p_{1}, p_{2}, p_{3}, q_{1}, q_{2}, s_{2}, v_{1}, v_{3}, v_{4}\\right\\}$"
      ],
      "text/plain": [
       "(tau1_expl.s) := {J₂, l₀, m₁, m₂, p₁, p₂, p₃, q₁, q₂, s₂, v₁, v₃, v₄}"
      ]
     },
     "metadata": {},
     "output_type": "display_data"
    },
    {
     "data": {
      "text/plain": [
       "---"
      ]
     },
     "metadata": {},
     "output_type": "display_data"
    },
    {
     "data": {
      "image/png": "[encoded data removed]",
      "text/latex": [
       "(qstat_tau1.s) := $\\displaystyle \\left\\{J_{2}, l_{0}, m_{1}, m_{2}, pm_{1}, pm_{2}, pm_{3}, \\ddot{pr}_{1}, \\ddot{pr}_{3}, qm_{1}, qm_{2}, \\ddot{qr}_{1}, s_{2}\\right\\}$"
      ],
      "text/plain": [
       "(qstat_tau1.s) := {J₂, l₀, m₁, m₂, pm₁, pm₂, pm₃, pr̈₁, pr̈₃, qm₁, qm₂, qr̈₁, s₂}"
      ]
     },
     "metadata": {},
     "output_type": "display_data"
    },
    {
     "data": {
      "text/plain": [
       "---"
      ]
     },
     "metadata": {},
     "output_type": "display_data"
    },
    {
     "data": {
      "image/png": "[encoded data removed]",
      "text/latex": [
       "(qstat_tau1.co) := $\\displaystyle 310$"
      ],
      "text/plain": [
       "(qstat_tau1.co) := 310"
      ]
     },
     "metadata": {},
     "output_type": "display_data"
    },
    {
     "data": {
      "text/plain": [
       "---"
      ]
     },
     "metadata": {},
     "output_type": "display_data"
    }
   ],
   "source": [
    "tau1_expl.s ##:\n",
    "qstat_tau1 = tau1_expl.subz([v1, v3, v4], [v1_expr, v3_expr, v4_expr])\n",
    "qstat_tau1 = qstat_tau1.subz([*tthetad, *ttheta], [*meas_states_d, *meas_states])\n",
    "qstat_tau1.s ##:\n",
    "qstat_tau1.co ##:"
   ]
  },
  {
   "cell_type": "code",
   "execution_count": 142,
   "metadata": {},
   "outputs": [
    {
     "data": {
      "image/png": "[encoded data removed]",
      "text/latex": [
       "(tau3_expl.s) := $\\displaystyle \\left\\{J_{2}, l_{0}, m_{2}, p_{1}, p_{2}, p_{3}, q_{1}, q_{2}, s_{2}, v_{1}, v_{3}\\right\\}$"
      ],
      "text/plain": [
       "(tau3_expl.s) := {J₂, l₀, m₂, p₁, p₂, p₃, q₁, q₂, s₂, v₁, v₃}"
      ]
     },
     "metadata": {},
     "output_type": "display_data"
    },
    {
     "data": {
      "text/plain": [
       "---"
      ]
     },
     "metadata": {},
     "output_type": "display_data"
    },
    {
     "data": {
      "image/png": "[encoded data removed]",
      "text/latex": [
       "(qstat_tau3.s) := $\\displaystyle \\left\\{J_{2}, l_{0}, m_{2}, pm_{1}, pm_{2}, pm_{3}, \\ddot{pr}_{1}, \\ddot{pr}_{3}, qm_{1}, qm_{2}, s_{2}\\right\\}$"
      ],
      "text/plain": [
       "(qstat_tau3.s) := {J₂, l₀, m₂, pm₁, pm₂, pm₃, pr̈₁, pr̈₃, qm₁, qm₂, s₂}"
      ]
     },
     "metadata": {},
     "output_type": "display_data"
    },
    {
     "data": {
      "text/plain": [
       "---"
      ]
     },
     "metadata": {},
     "output_type": "display_data"
    },
    {
     "data": {
      "image/png": "[encoded data removed]",
      "text/latex": [
       "(qstat_tau3.co) := $\\displaystyle 132$"
      ],
      "text/plain": [
       "(qstat_tau3.co) := 132"
      ]
     },
     "metadata": {},
     "output_type": "display_data"
    },
    {
     "data": {
      "text/plain": [
       "---"
      ]
     },
     "metadata": {},
     "output_type": "display_data"
    }
   ],
   "source": [
    "tau3_expl.s ##:\n",
    "qstat_tau3 = tau3_expl.subz([v1, v3], [v1_expr, v3_expr])\n",
    "qstat_tau3 = qstat_tau3.subz([*tthetad, *ttheta], [*meas_states_d, *meas_states])\n",
    "qstat_tau3.s ##:\n",
    "qstat_tau3.co ##:"
   ]
  },
  {
   "cell_type": "code",
   "execution_count": 143,
   "metadata": {},
   "outputs": [
    {
     "data": {
      "image/png": "[encoded data removed]",
      "text/latex": [
       "(tau4_expl.s) := $\\displaystyle \\left\\{J_{2}, l_{0}, m_{2}, p_{1}, p_{2}, p_{3}, q_{1}, q_{2}, s_{2}, v_{1}, v_{3}\\right\\}$"
      ],
      "text/plain": [
       "(tau4_expl.s) := {J₂, l₀, m₂, p₁, p₂, p₃, q₁, q₂, s₂, v₁, v₃}"
      ]
     },
     "metadata": {},
     "output_type": "display_data"
    },
    {
     "data": {
      "text/plain": [
       "---"
      ]
     },
     "metadata": {},
     "output_type": "display_data"
    },
    {
     "data": {
      "image/png": "[encoded data removed]",
      "text/latex": [
       "(qstat_tau4.s) := $\\displaystyle \\left\\{J_{2}, l_{0}, m_{2}, pm_{1}, pm_{2}, pm_{3}, \\ddot{pr}_{1}, \\ddot{pr}_{3}, qm_{1}, qm_{2}, s_{2}\\right\\}$"
      ],
      "text/plain": [
       "(qstat_tau4.s) := {J₂, l₀, m₂, pm₁, pm₂, pm₃, pr̈₁, pr̈₃, qm₁, qm₂, s₂}"
      ]
     },
     "metadata": {},
     "output_type": "display_data"
    },
    {
     "data": {
      "text/plain": [
       "---"
      ]
     },
     "metadata": {},
     "output_type": "display_data"
    },
    {
     "data": {
      "image/png": "[encoded data removed]",
      "text/latex": [
       "(qstat_tau4.co) := $\\displaystyle 136$"
      ],
      "text/plain": [
       "(qstat_tau4.co) := 136"
      ]
     },
     "metadata": {},
     "output_type": "display_data"
    },
    {
     "data": {
      "text/plain": [
       "---"
      ]
     },
     "metadata": {},
     "output_type": "display_data"
    }
   ],
   "source": [
    "tau4_expl.s ##:\n",
    "qstat_tau4 = tau4_expl.subz([v1, v3], [v1_expr, v3_expr])\n",
    "qstat_tau4 = qstat_tau4.subz([*tthetad, *ttheta], [*meas_states_d, *meas_states])\n",
    "qstat_tau4.s ##:\n",
    "qstat_tau4.co ##:"
   ]
  },
  {
   "cell_type": "code",
   "execution_count": 144,
   "metadata": {},
   "outputs": [
    {
     "data": {
      "image/png": "[encoded data removed]",
      "text/latex": [
       "(tau2_expl.s) := $\\displaystyle \\left\\{J_{2}, g, l_{0}, m_{1}, m_{2}, m_{3}, p_{1}, p_{2}, p_{3}, \\dot{p}_{1}, \\dot{p}_{2}, \\dot{p}_{3}, q_{1}, q_{2}, \\dot{q}_{1}, \\dot{q}_{2}, s_{2}, v_{1}, v_{2}, v_{3}, v_{4}, \\ddot{v}_{1}, \\ddot{v}_{3}, \\dot{v}_{1}, \\dot{v}_{3}\\right\\}$"
      ],
      "text/plain": [
       "(tau2_expl.s) := {J₂, g, l₀, m₁, m₂, m₃, p₁, p₂, p₃, ṗ₁, ṗ₂, ṗ₃, q₁, q₂, q̇₁, q̇₂, s₂, v₁, v\n",
       "₂, v₃, v₄, v̈₁, v̈₃, v̇₁, v̇₃}"
      ]
     },
     "metadata": {},
     "output_type": "display_data"
    },
    {
     "data": {
      "text/plain": [
       "---"
      ]
     },
     "metadata": {},
     "output_type": "display_data"
    },
    {
     "data": {
      "image/png": "[encoded data removed]",
      "text/latex": [
       "(qstat_tau2.s) := $\\displaystyle \\left\\{J_{2}, g, l_{0}, m_{1}, m_{2}, m_{3}, pm_{1}, pm_{2}, pm_{3}, \\dot{pm}_{1}, \\dot{pm}_{2}, \\dot{pm}_{3}, \\ddddot{pr}_{1}, \\ddddot{pr}_{2}, \\ddddot{pr}_{3}, \\dddot{pr}_{1}, \\dddot{pr}_{3}, \\ddot{pr}_{1}, \\ddot{pr}_{3}, qm_{1}, qm_{2}, \\dot{qm}_{1}, \\dot{qm}_{2}, \\ddot{qr}_{1}, s_{2}\\right\\}$"
      ],
      "text/plain": [
       "(qstat_tau2.s) := {J₂, g, l₀, m₁, m₂, m₃, pm₁, pm₂, pm₃, pṁ₁, pṁ₂, pṁ₃, pr⃜₁, pr⃜₂, pr⃜₃, pr⃛\n",
       "₁, pr⃛₃, pr̈₁, pr̈₃, qm₁, qm₂, qṁ₁, qṁ₂, qr̈₁, s₂}"
      ]
     },
     "metadata": {},
     "output_type": "display_data"
    },
    {
     "data": {
      "text/plain": [
       "---"
      ]
     },
     "metadata": {},
     "output_type": "display_data"
    },
    {
     "data": {
      "image/png": "[encoded data removed]",
      "text/latex": [
       "(qstat_tau2.co) := $\\displaystyle 122306$"
      ],
      "text/plain": [
       "(qstat_tau2.co) := 122306"
      ]
     },
     "metadata": {},
     "output_type": "display_data"
    },
    {
     "data": {
      "text/plain": [
       "---"
      ]
     },
     "metadata": {},
     "output_type": "display_data"
    }
   ],
   "source": [
    "tau2_expl.s ##:\n",
    "qstat_tau2 = tau2_expl.subz([v1, v2, v3, v4, vdot1, vdot3, vddot1, vddot3], \n",
    "                             [v1_expr, v2_expr, v3_expr, v4_expr, vdot1_expr, vdot3_expr, vddot1_expr, vddot3_expr])\n",
    "qstat_tau2 = qstat_tau2.subz([*tthetad, *ttheta], [*meas_states_d, *meas_states])\n",
    "qstat_tau2.s ##:\n",
    "qstat_tau2.co ##:"
   ]
  },
  {
   "cell_type": "code",
   "execution_count": 145,
   "metadata": {},
   "outputs": [],
   "source": [
    "num1, den1 = sp.fraction(qstat_tau1)\n",
    "num2, den2 = sp.fraction(qstat_tau2)\n",
    "num3, den3 = sp.fraction(qstat_tau3)\n",
    "num4, den4 = sp.fraction(qstat_tau4)"
   ]
  },
  {
   "cell_type": "code",
   "execution_count": 52,
   "metadata": {},
   "outputs": [],
   "source": [
    "num2a, den2a = qstat_tau2.as_numer_denom()\n",
    "diff_n = num2 - num2a\n",
    "diff_d = den2 -den2a"
   ]
  },
  {
   "cell_type": "code",
   "execution_count": 60,
   "metadata": {},
   "outputs": [
    {
     "data": {
      "image/png": "[encoded data removed]",
      "text/latex": [
       "(den2.co) := $\\displaystyle 1033$"
      ],
      "text/plain": [
       "(den2.co) := 1033"
      ]
     },
     "metadata": {},
     "output_type": "display_data"
    },
    {
     "data": {
      "text/plain": [
       "---"
      ]
     },
     "metadata": {},
     "output_type": "display_data"
    },
    {
     "data": {
      "image/png": "[encoded data removed]",
      "text/latex": [
       "(den2a.co) := $\\displaystyle 1424$"
      ],
      "text/plain": [
       "(den2a.co) := 1424"
      ]
     },
     "metadata": {},
     "output_type": "display_data"
    },
    {
     "data": {
      "text/plain": [
       "---"
      ]
     },
     "metadata": {},
     "output_type": "display_data"
    }
   ],
   "source": [
    "den2.co ##:\n",
    "den2a.co ##:"
   ]
  },
  {
   "cell_type": "code",
   "execution_count": 64,
   "metadata": {},
   "outputs": [],
   "source": [
    "sp.cse?"
   ]
  },
  {
   "cell_type": "code",
   "execution_count": 58,
   "metadata": {},
   "outputs": [
    {
     "name": "stderr",
     "output_type": "stream",
     "text": [
      "\n",
      "KeyboardInterrupt\n",
      "\n"
     ]
    }
   ],
   "source": [
    "num2.srn ##:\n",
    "num2a.co ##:"
   ]
  },
  {
   "cell_type": "code",
   "execution_count": 53,
   "metadata": {},
   "outputs": [
    {
     "name": "stderr",
     "output_type": "stream",
     "text": [
      "\n",
      "KeyboardInterrupt\n",
      "\n"
     ]
    }
   ],
   "source": [
    "diff_n.srn"
   ]
  },
  {
   "cell_type": "code",
   "execution_count": 81,
   "metadata": {},
   "outputs": [],
   "source": [
    "den2_cse_rp, (den2_cse_exprs,) = sp.cse(den2)"
   ]
  },
  {
   "cell_type": "code",
   "execution_count": 82,
   "metadata": {},
   "outputs": [
    {
     "data": {
      "image/png": "[encoded data removed]",
      "text/latex": [
       "$\\displaystyle \\left[ \\left( x_{0}, \\  \\sin{\\left(pm_{3} \\right)}\\right), \\  \\left( x_{1}, \\  s_{2} x_{0}\\right), \\  \\left( x_{2}, \\  pm_{2} + x_{1}\\right)\\right]$"
      ],
      "text/plain": [
       "[(x₀, sin(pm₃)), (x₁, s₂⋅x₀), (x₂, pm₂ + x₁)]"
      ]
     },
     "execution_count": 82,
     "metadata": {},
     "output_type": "execute_result"
    }
   ],
   "source": [
    "den2_cse_rp[:3]"
   ]
  },
  {
   "cell_type": "code",
   "execution_count": 83,
   "metadata": {},
   "outputs": [
    {
     "data": {
      "image/png": "[encoded data removed]",
      "text/latex": [
       "$\\displaystyle x_{2} x_{38} x_{5} \\left(- \\frac{m_{2} m_{3} s_{2} x_{17} x_{23} x_{6}^{\\frac{3}{2}} \\left(- \\frac{x_{2} x_{37} \\left(x_{17} x_{30} x_{35} \\left(l_{0} + qm_{2} + x_{26} + x_{32}\\right) + x_{36} x_{38}\\right)}{\\sqrt{x_{6}}} - \\frac{x_{31} x_{37} \\left(x_{33} x_{35} \\left(- x_{24} - x_{28}\\right) + x_{33} x_{36} \\left(- l_{0} x_{24} - l_{0} x_{28} - qm_{2} x_{24} - qm_{2} x_{28} + x_{25} + x_{29}\\right)\\right)}{\\sqrt{x_{31}^{2} + \\left(pm_{1} - qm_{1} + x_{32}\\right)^{2}}}\\right)}{x_{2} x_{30} x_{5}} + 1\\right)$"
      ],
      "text/plain": [
       "          ⎛                     3/2 ⎛  x₂⋅x₃₇⋅(x₁₇⋅x₃₀⋅x₃₅⋅(l₀ + qm₂ + x₂₆ + x\n",
       "          ⎜  m₂⋅m₃⋅s₂⋅x₁₇⋅x₂₃⋅x₆   ⋅⎜- ───────────────────────────────────────\n",
       "          ⎜                         ⎜                            ____         \n",
       "          ⎜                         ⎜                          ╲╱ x₆          \n",
       "          ⎜                         ⎝                                         \n",
       "x₂⋅x₃₈⋅x₅⋅⎜- ─────────────────────────────────────────────────────────────────\n",
       "          ⎝                                                                   \n",
       "\n",
       "₃₂) + x₃₆⋅x₃₈)   x₃₁⋅x₃₇⋅(x₃₃⋅x₃₅⋅(-x₂₄ - x₂₈) + x₃₃⋅x₃₆⋅(-l₀⋅x₂₄ - l₀⋅x₂₈ - q\n",
       "────────────── - ─────────────────────────────────────────────────────────────\n",
       "                                                   ___________________________\n",
       "                                                  ╱    2                    2 \n",
       "                                                ╲╱  x₃₁  + (pm₁ - qm₁ + x₃₂)  \n",
       "──────────────────────────────────────────────────────────────────────────────\n",
       "                 x₂⋅x₃₀⋅x₅                                                    \n",
       "\n",
       "m₂⋅x₂₄ - qm₂⋅x₂₈ + x₂₅ + x₂₉))⎞    ⎞\n",
       "──────────────────────────────⎟    ⎟\n",
       "                              ⎟    ⎟\n",
       "                              ⎟    ⎟\n",
       "                              ⎠    ⎟\n",
       "─────────────────────────────── + 1⎟\n",
       "                                   ⎠"
      ]
     },
     "execution_count": 83,
     "metadata": {},
     "output_type": "execute_result"
    }
   ],
   "source": [
    "den2_cse_exprs"
   ]
  },
  {
   "cell_type": "code",
   "execution_count": 84,
   "metadata": {},
   "outputs": [],
   "source": [
    "den2_cse_exprs_num, den2_cse_exprs_den = den2_cse_exprs.as_numer_denom()"
   ]
  },
  {
   "cell_type": "code",
   "execution_count": 85,
   "metadata": {
    "scrolled": true
   },
   "outputs": [
    {
     "data": {
      "image/png": "[encoded data removed]",
      "text/latex": [
       "$\\displaystyle x_{2} x_{30} x_{5} \\sqrt{x_{6}} \\sqrt{x_{31}^{2} + \\left(pm_{1} - qm_{1} + x_{32}\\right)^{2}}$"
      ],
      "text/plain": [
       "                    ___________________________\n",
       "            ____   ╱    2                    2 \n",
       "x₂⋅x₃₀⋅x₅⋅╲╱ x₆ ⋅╲╱  x₃₁  + (pm₁ - qm₁ + x₃₂)  "
      ]
     },
     "execution_count": 85,
     "metadata": {},
     "output_type": "execute_result"
    }
   ],
   "source": [
    "den2_cse_exprs_den"
   ]
  },
  {
   "cell_type": "code",
   "execution_count": 117,
   "metadata": {},
   "outputs": [],
   "source": [
    "qstat_tau2_cse_rp, (qstat_tau2_cse_exprs,) = sp.cse(qstat_tau2)\n",
    "qstat_tau2_cse_rp_reversed = qstat_tau2_cse_rp[::-1]"
   ]
  },
  {
   "cell_type": "code",
   "execution_count": 119,
   "metadata": {},
   "outputs": [
    {
     "data": {
      "image/png": "[encoded data removed]",
      "text/latex": [
       "$\\displaystyle \\left[ \\left( x_{0}, \\  \\sin{\\left(pm_{3} \\right)}\\right), \\  \\left( x_{1}, \\  s_{2} x_{0}\\right), \\  \\left( x_{2}, \\  - x_{1}\\right), \\  \\left( x_{3}, \\  pm_{2} + x_{2}\\right)\\right]$"
      ],
      "text/plain": [
       "[(x₀, sin(pm₃)), (x₁, s₂⋅x₀), (x₂, -x₁), (x₃, pm₂ + x₂)]"
      ]
     },
     "execution_count": 119,
     "metadata": {},
     "output_type": "execute_result"
    }
   ],
   "source": [
    "qstat_tau2_cse_rp[:4]"
   ]
  },
  {
   "cell_type": "code",
   "execution_count": 120,
   "metadata": {},
   "outputs": [
    {
     "data": {
      "image/png": "[encoded data removed]",
      "text/latex": [
       "$\\displaystyle \\left[ \\left( x_{482}, \\  x_{457} x_{480}\\right), \\  \\left( x_{481}, \\  2 x_{236}\\right), \\  \\left( x_{480}, \\  x_{209} + x_{92}\\right), \\  \\left( x_{479}, \\  x_{397} x_{442}\\right)\\right]$"
      ],
      "text/plain": [
       "[(x₄₈₂, x₄₅₇⋅x₄₈₀), (x₄₈₁, 2⋅x₂₃₆), (x₄₈₀, x₂₀₉ + x₉₂), (x₄₇₉, x₃₉₇⋅x₄₄₂)]"
      ]
     },
     "execution_count": 120,
     "metadata": {},
     "output_type": "execute_result"
    }
   ],
   "source": [
    "qstat_tau2_cse_rp_reversed[:4]"
   ]
  },
  {
   "cell_type": "code",
   "execution_count": 87,
   "metadata": {},
   "outputs": [],
   "source": [
    "qstat_tau2_cse_exprs_num, qstat_tau2_cse_exprs_den = qstat_tau2_cse_exprs.as_numer_denom()"
   ]
  },
  {
   "cell_type": "code",
   "execution_count": 88,
   "metadata": {},
   "outputs": [
    {
     "data": {
      "image/png": "[encoded data removed]",
      "text/latex": [
       "$\\displaystyle x_{30} x_{79}^{2} \\left(- x_{101} \\left(- x_{15} x_{74} - x_{82} x_{99}\\right) + 1\\right)$"
      ],
      "text/plain": [
       "       2                                 \n",
       "x₃₀⋅x₇₉ ⋅(-x₁₀₁⋅(-x₁₅⋅x₇₄ - x₈₂⋅x₉₉) + 1)"
      ]
     },
     "execution_count": 88,
     "metadata": {},
     "output_type": "execute_result"
    }
   ],
   "source": [
    "qstat_tau2_cse_exprs_den"
   ]
  },
  {
   "cell_type": "code",
   "execution_count": 116,
   "metadata": {},
   "outputs": [
    {
     "data": {
      "image/png": "[encoded data removed]",
      "text/latex": [
       "$\\displaystyle \\left[ \\left( x_{482}, \\  x_{457} x_{480}\\right), \\  \\left( x_{481}, \\  2 x_{236}\\right), \\  \\left( x_{480}, \\  x_{209} + x_{92}\\right), \\  \\left( x_{479}, \\  x_{397} x_{442}\\right)\\right]$"
      ],
      "text/plain": [
       "[(x₄₈₂, x₄₅₇⋅x₄₈₀), (x₄₈₁, 2⋅x₂₃₆), (x₄₈₀, x₂₀₉ + x₉₂), (x₄₇₉, x₃₉₇⋅x₄₄₂)]"
      ]
     },
     "execution_count": 116,
     "metadata": {},
     "output_type": "execute_result"
    }
   ],
   "source": [
    "qstat_tau2_cse_rp_reversed[:4]"
   ]
  },
  {
   "cell_type": "code",
   "execution_count": 121,
   "metadata": {},
   "outputs": [],
   "source": [
    "qstat_tau2_den = qstat_tau2_cse_exprs_den.subs(qstat_tau2_cse_rp_reversed)"
   ]
  },
  {
   "cell_type": "code",
   "execution_count": 122,
   "metadata": {},
   "outputs": [
    {
     "data": {
      "image/png": "[encoded data removed]",
      "text/latex": [
       "$\\displaystyle 1033$"
      ],
      "text/plain": [
       "1033"
      ]
     },
     "execution_count": 122,
     "metadata": {},
     "output_type": "execute_result"
    }
   ],
   "source": [
    "den2.co"
   ]
  },
  {
   "cell_type": "code",
   "execution_count": 123,
   "metadata": {},
   "outputs": [
    {
     "data": {
      "image/png": "[encoded data removed]",
      "text/latex": [
       "$\\displaystyle \\frac{x_{101} \\left(6 g - \\dot{pm}_{1} \\left(x_{113} x_{273} + x_{123} x_{274} + x_{140} x_{220} + x_{143} x_{241} + x_{242} \\left(x_{115} x_{274} + x_{273} x_{83} + x_{275}\\right) + x_{244} \\left(x_{129} x_{273} + x_{131} x_{274} + x_{278}\\right) + x_{245} \\left(x_{168} x_{273} + x_{171} x_{274} + x_{279}\\right) + x_{247} + x_{261}\\right) - \\dot{pm}_{2} \\left(x_{112} x_{255} + x_{113} x_{282} + x_{122} x_{267} + x_{123} x_{283} + x_{161} x_{220} + x_{162} x_{241} + x_{242} \\left(x_{115} x_{283} + x_{278} + x_{282} x_{83}\\right) + x_{244} \\left(2 x_{129} x_{254} + x_{129} x_{282} + 2 x_{131} x_{266} + x_{131} x_{283} + x_{275}\\right) + x_{245} \\left(x_{168} x_{282} + x_{171} x_{283} + x_{284}\\right) + x_{285} + x_{286}\\right) - \\dot{pm}_{3} \\left(- x_{112} x_{257} + x_{112} x_{259} + x_{113} x_{287} + x_{122} x_{269} - x_{122} x_{271} + x_{123} x_{288} + x_{169} x_{220} + x_{172} x_{241} + x_{242} \\left(x_{115} x_{288} + x_{279} + x_{287} x_{83}\\right) + x_{244} \\left(x_{129} x_{287} + x_{131} x_{288} + x_{284}\\right) + x_{245} \\left(2 x_{168} x_{258} + x_{168} x_{287} - 2 x_{171} x_{270} + x_{171} x_{288} - x_{174} + x_{175} + x_{246} \\left(x_{1} x_{75} + x_{289} + x_{77} x_{8}\\right) + x_{260} \\left(- x_{1} x_{3} - x_{10} x_{8} + x_{289}\\right)\\right) + x_{285} x_{8} - x_{286} x_{8}\\right) + \\ddddot{pr}_{2} + 4 \\dddot{pr}_{2} + 6 \\ddot{pr}_{2} + 4 \\dot{pr}_{2} - \\dot{qm}_{1} \\left(x_{123} x_{265} + x_{159} x_{241} + x_{242} \\left(x_{115} x_{265} + x_{260}\\right) + x_{244} \\left(x_{131} x_{265} + x_{267}\\right) + x_{245} \\left(x_{171} x_{265} + x_{269} - x_{271}\\right) - x_{261}\\right) - \\dot{qm}_{2} \\left(x_{113} x_{253} + x_{220} x_{243} + x_{242} \\left(x_{246} + x_{253} x_{83}\\right) + x_{244} \\left(x_{129} x_{253} + x_{255}\\right) + x_{245} \\left(x_{168} x_{253} - x_{257} + x_{259}\\right) - x_{247}\\right) - x_{102} \\left(x_{104} x_{127} + x_{114} x_{130} + x_{124} x_{129} + x_{125} x_{131}\\right) - x_{102} - x_{104} x_{108} x_{109} - 4 x_{108} x_{220} - x_{109} x_{114} x_{119} - 4 x_{111} x_{113} - x_{114} x_{158} x_{159} x_{4} - 4 x_{119} x_{241} - 4 x_{121} x_{123} - x_{126} \\left(x_{115} x_{125} + x_{124} x_{83}\\right) - x_{132} x_{137} \\left(x_{104} x_{140} + x_{114} x_{143}\\right) - x_{132} x_{160} \\left(x_{104} x_{161} + x_{114} x_{162} + x_{133} + x_{135}\\right) - x_{149} \\left(x_{124} \\left(- x_{1} x_{83} + x_{147}\\right) + x_{125} \\left(x_{1} x_{115} + x_{148}\\right) + x_{127} x_{145} - x_{130} x_{146}\\right) - x_{15} \\left(\\dot{pm}_{1} \\left(\\dot{pm}_{1} \\left(2 x_{10} x_{466} + x_{204} x_{477} + x_{392} x_{465} + x_{392} x_{467} - 4 x_{444} + x_{459}\\right) + \\dot{pm}_{2} \\left(x_{198} x_{477} + x_{3} x_{458} + x_{475}\\right) + \\dot{pm}_{3} \\left(x_{217} x_{477} + x_{238} x_{458} + x_{478}\\right) + \\dot{qm}_{1} \\left(x_{116} x_{457} + x_{188} x_{477} + x_{469}\\right) + \\dot{qm}_{2} \\left(x_{452} + x_{477} x_{53}\\right) + x_{177} x_{419} + x_{177} x_{421} + x_{182} x_{435} + x_{182} x_{436} + x_{440} + x_{441}\\right) + \\dot{pm}_{2} \\left(\\dot{pm}_{1} \\left(x_{10} x_{474} + x_{204} x_{473} + x_{475}\\right) + \\dot{pm}_{2} \\left(x_{198} x_{473} + x_{227} - 2 x_{3} x_{463} + x_{3} x_{474} - x_{384} x_{450} + x_{384} x_{461}\\right) + \\dot{pm}_{3} \\left(x_{217} x_{473} + x_{238} x_{474} + x_{476}\\right) + \\dot{qm}_{1} \\left(x_{131} x_{458} + x_{188} x_{473} + x_{464}\\right) + \\dot{qm}_{2} \\left(x_{451} + x_{473} x_{53}\\right) + x_{177} x_{410} + x_{177} x_{413} - x_{182} x_{432} + x_{182} x_{433} + x_{182} x_{434}\\right) + \\dot{pm}_{3} \\left(\\dot{pm}_{1} \\left(x_{10} x_{482} + x_{204} x_{479} + x_{478}\\right) + \\dot{pm}_{2} \\left(x_{198} x_{479} + x_{3} x_{482} + x_{476}\\right) + \\dot{pm}_{3} \\left(x_{217} x_{479} + x_{227} \\left(x_{206} + x_{26} - x_{28}\\right) + x_{228} x_{404} + 2 x_{238} x_{471} + x_{238} x_{482} + x_{423} x_{481} + x_{425} x_{481} + x_{50} \\left(x_{400} + x_{61} + x_{63}\\right)\\right) + \\dot{qm}_{1} \\left(x_{188} x_{479} + x_{458} x_{480} + x_{472}\\right) + \\dot{qm}_{2} \\left(x_{453} + x_{479} x_{53}\\right) - x_{177} x_{422} + x_{177} x_{424} + x_{177} x_{426} + x_{182} x_{437} + x_{182} x_{438} + x_{182} x_{439}\\right) + \\dot{qm}_{1} \\left(\\dot{pm}_{1} \\left(x_{11} x_{457} + x_{204} x_{454} + x_{469}\\right) + \\dot{pm}_{2} \\left(x_{198} x_{454} + x_{3} x_{460} + x_{464}\\right) + \\dot{pm}_{3} \\left(x_{217} x_{454} + x_{238} x_{460} + x_{472}\\right) + \\dot{qm}_{1} \\left(2 x_{115} x_{456} + x_{188} x_{454} + x_{459}\\right) + \\dot{qm}_{2} \\left(x_{447} + x_{454} x_{53}\\right) + x_{177} x_{415} + x_{177} x_{417} + x_{182} x_{430} + x_{182} x_{431}\\right) + \\dot{qm}_{2} \\left(\\dot{pm}_{1} \\left(x_{204} x_{443} + x_{452}\\right) + \\dot{pm}_{2} \\left(x_{198} x_{443} + x_{451}\\right) + \\dot{pm}_{3} \\left(x_{217} x_{443} + x_{453}\\right) + \\dot{qm}_{1} \\left(x_{188} x_{443} + x_{447}\\right) + \\dot{qm}_{2} \\left(2 x_{22} x_{406} + x_{443} x_{53}\\right) + x_{177} x_{407} + x_{182} x_{429} - x_{440} - x_{441}\\right) - x_{134} x_{74} + x_{158} x_{229} + x_{176} x_{239} + x_{177} \\left(\\dot{pm}_{1} \\left(x_{405} + x_{419} + x_{421}\\right) + \\dot{pm}_{2} \\left(x_{410} + x_{413}\\right) + \\dot{pm}_{3} \\left(- x_{422} + x_{424} + x_{426}\\right) + \\dot{qm}_{1} \\left(x_{415} + x_{417}\\right) + \\dot{qm}_{2} \\left(- x_{405} + x_{407}\\right)\\right) + x_{182} \\left(\\dot{pm}_{1} \\left(x_{428} + x_{435} + x_{436}\\right) + \\dot{pm}_{2} \\left(- x_{432} + x_{433} + x_{434}\\right) + \\dot{pm}_{3} \\left(x_{437} + x_{438} + x_{439}\\right) + \\dot{qm}_{1} \\left(x_{430} + x_{431}\\right) + \\dot{qm}_{2} \\left(- x_{428} + x_{429}\\right)\\right) + x_{222} x_{290} + x_{224} x_{291} + x_{232} x_{292} + x_{234} x_{293}\\right) - x_{176} x_{4} \\left(x_{104} x_{169} + x_{114} x_{172} + x_{164} - x_{166}\\right) - x_{219} \\left(x_{112} x_{243} + x_{140} x_{242} + x_{244} \\left(x_{161} + x_{80}\\right) + x_{245} \\left(x_{169} + x_{8} x_{80}\\right)\\right) - x_{240} \\left(x_{122} x_{159} + x_{143} x_{242} + x_{244} \\left(x_{13} + x_{162}\\right) + x_{245} \\left(- x_{13} x_{8} + x_{172}\\right)\\right) - x_{82} \\left(\\dot{pm}_{1} \\left(\\dot{pm}_{1} \\left(x_{204} x_{391} - 4 x_{341} + x_{352} x_{392} + x_{353} x_{392} + x_{366} + 2 x_{371} x_{77}\\right) + \\dot{pm}_{2} \\left(x_{198} x_{391} + x_{365} x_{75} + x_{386}\\right) + \\dot{pm}_{3} \\left(x_{210} x_{365} + x_{217} x_{391} + x_{394}\\right) + \\dot{qm}_{1} \\left(x_{188} x_{391} + x_{354}\\right) + \\dot{qm}_{2} \\left(x_{105} x_{364} + x_{373} + x_{391} x_{53}\\right) + x_{177} x_{308} + x_{177} x_{310} + x_{182} x_{325} + x_{182} x_{326} - x_{331} + x_{332}\\right) + \\dot{pm}_{2} \\left(\\dot{pm}_{1} \\left(x_{204} x_{383} + x_{385} x_{77} + x_{386}\\right) + \\dot{pm}_{2} \\left(x_{198} x_{383} + x_{348} x_{384} - x_{350} x_{384} - 2 x_{369} x_{75} + x_{385} x_{75} + x_{96}\\right) + \\dot{pm}_{3} \\left(x_{210} x_{385} + x_{217} x_{383} + x_{389}\\right) + \\dot{qm}_{1} \\left(x_{188} x_{383} + x_{351}\\right) + \\dot{qm}_{2} \\left(x_{129} x_{365} + x_{370} + x_{383} x_{53}\\right) + x_{177} x_{300} + x_{177} x_{302} - x_{182} x_{322} + x_{182} x_{323} + x_{182} x_{324}\\right) + \\dot{pm}_{3} \\left(\\dot{pm}_{1} \\left(x_{204} x_{398} + x_{394} + x_{402} x_{77}\\right) + \\dot{pm}_{2} \\left(x_{198} x_{398} + x_{389} + x_{402} x_{75}\\right) + \\dot{pm}_{3} \\left(x_{103} \\left(x_{400} + x_{93}\\right) + x_{189} x_{404} + 2 x_{210} x_{378} + x_{210} x_{402} + x_{217} x_{398} + x_{313} x_{401} + x_{315} x_{401} + x_{96} \\left(- x_{206} + x_{235} - x_{26} + x_{87}\\right)\\right) + \\dot{qm}_{1} \\left(x_{188} x_{398} + x_{359}\\right) + \\dot{qm}_{2} \\left(x_{365} x_{399} + x_{379} + x_{398} x_{53}\\right) - x_{177} x_{312} + x_{177} x_{314} + x_{177} x_{316} + x_{182} x_{328} + x_{182} x_{329} + x_{182} x_{330}\\right) + \\dot{qm}_{1} \\left(\\dot{pm}_{1} \\left(x_{204} x_{339} + x_{354}\\right) + \\dot{pm}_{2} \\left(x_{198} x_{339} + x_{351}\\right) + \\dot{pm}_{3} \\left(x_{217} x_{339} + x_{359}\\right) + \\dot{qm}_{1} \\left(2 x_{186} x_{296} + x_{188} x_{339}\\right) + \\dot{qm}_{2} \\left(x_{339} x_{53} + x_{345}\\right) + x_{177} x_{297} + x_{182} x_{319} + x_{331} - x_{332}\\right) + \\dot{qm}_{2} \\left(\\dot{pm}_{1} \\left(x_{204} x_{362} + x_{364} x_{78} + x_{373}\\right) + \\dot{pm}_{2} \\left(x_{198} x_{362} + x_{367} x_{75} + x_{370}\\right) + \\dot{pm}_{3} \\left(x_{210} x_{367} + x_{217} x_{362} + x_{379}\\right) + \\dot{qm}_{1} \\left(x_{188} x_{362} + x_{345}\\right) + \\dot{qm}_{2} \\left(x_{362} x_{53} + 2 x_{363} x_{83} + x_{366}\\right) + x_{177} x_{304} + x_{177} x_{306} + x_{182} x_{320} + x_{182} x_{321}\\right) - x_{134} x_{99} + x_{158} x_{190} + x_{176} x_{218} + x_{177} \\left(\\dot{pm}_{1} \\left(- x_{294} + x_{308} + x_{310}\\right) + \\dot{pm}_{2} \\left(x_{300} + x_{302}\\right) + \\dot{pm}_{3} \\left(- x_{312} + x_{314} + x_{316}\\right) + \\dot{qm}_{1} \\left(x_{294} + x_{297}\\right) + \\dot{qm}_{2} \\left(x_{304} + x_{306}\\right)\\right) + x_{181} x_{290} + x_{182} \\left(\\dot{pm}_{1} \\left(x_{318} + x_{325} + x_{326}\\right) + \\dot{pm}_{2} \\left(- x_{322} + x_{323} + x_{324}\\right) + \\dot{pm}_{3} \\left(x_{328} + x_{329} + x_{330}\\right) + \\dot{qm}_{1} \\left(- x_{318} + x_{319}\\right) + \\dot{qm}_{2} \\left(x_{320} + x_{321}\\right)\\right) + x_{185} x_{291} + x_{199} x_{292} + x_{205} x_{293}\\right) + 1 + \\frac{x_{4} x_{54} x_{73} x_{75} x_{78} x_{88} x_{94}^{2}}{x_{30} x_{79}^{2}}\\right)}{- x_{101} \\left(- x_{15} x_{74} - x_{82} x_{99}\\right) + 1}$"
      ],
      "text/plain": [
       "     ⎛                                                                        \n",
       "     ⎜                                                                        \n",
       "x₁₀₁⋅⎜6⋅g - pṁ₁⋅(x₁₁₃⋅x₂₇₃ + x₁₂₃⋅x₂₇₄ + x₁₄₀⋅x₂₂₀ + x₁₄₃⋅x₂₄₁ + x₂₄₂⋅(x₁₁₅⋅x\n",
       "     ⎜                                                                        \n",
       "     ⎝                                                                        \n",
       "──────────────────────────────────────────────────────────────────────────────\n",
       "                                                                              \n",
       "\n",
       "                                                                              \n",
       "                                                                              \n",
       "₂₇₄ + x₂₇₃⋅x₈₃ + x₂₇₅) + x₂₄₄⋅(x₁₂₉⋅x₂₇₃ + x₁₃₁⋅x₂₇₄ + x₂₇₈) + x₂₄₅⋅(x₁₆₈⋅x₂₇₃\n",
       "                                                                              \n",
       "                                                                              \n",
       "──────────────────────────────────────────────────────────────────────────────\n",
       "                                                                              \n",
       "\n",
       "                                                                              \n",
       "                                                                              \n",
       " + x₁₇₁⋅x₂₇₄ + x₂₇₉) + x₂₄₇ + x₂₆₁) - pṁ₂⋅(x₁₁₂⋅x₂₅₅ + x₁₁₃⋅x₂₈₂ + x₁₂₂⋅x₂₆₇ \n",
       "                                                                              \n",
       "                                                                              \n",
       "──────────────────────────────────────────────────────────────────────────────\n",
       "                                                                              \n",
       "\n",
       "                                                                              \n",
       "                                                                              \n",
       "+ x₁₂₃⋅x₂₈₃ + x₁₆₁⋅x₂₂₀ + x₁₆₂⋅x₂₄₁ + x₂₄₂⋅(x₁₁₅⋅x₂₈₃ + x₂₇₈ + x₂₈₂⋅x₈₃) + x₂₄\n",
       "                                                                              \n",
       "                                                                              \n",
       "──────────────────────────────────────────────────────────────────────────────\n",
       "                                                                              \n",
       "\n",
       "                                                                              \n",
       "                                                                              \n",
       "₄⋅(2⋅x₁₂₉⋅x₂₅₄ + x₁₂₉⋅x₂₈₂ + 2⋅x₁₃₁⋅x₂₆₆ + x₁₃₁⋅x₂₈₃ + x₂₇₅) + x₂₄₅⋅(x₁₆₈⋅x₂₈₂\n",
       "                                                                              \n",
       "                                                                              \n",
       "──────────────────────────────────────────────────────────────────────────────\n",
       "                                                                              \n",
       "\n",
       "                                                                              \n",
       "                                                                              \n",
       " + x₁₇₁⋅x₂₈₃ + x₂₈₄) + x₂₈₅ + x₂₈₆) - pṁ₃⋅(-x₁₁₂⋅x₂₅₇ + x₁₁₂⋅x₂₅₉ + x₁₁₃⋅x₂₈₇\n",
       "                                                                              \n",
       "                                                                              \n",
       "──────────────────────────────────────────────────────────────────────────────\n",
       "                                                                              \n",
       "\n",
       "                                                                              \n",
       "                                                                              \n",
       " + x₁₂₂⋅x₂₆₉ - x₁₂₂⋅x₂₇₁ + x₁₂₃⋅x₂₈₈ + x₁₆₉⋅x₂₂₀ + x₁₇₂⋅x₂₄₁ + x₂₄₂⋅(x₁₁₅⋅x₂₈₈\n",
       "                                                                              \n",
       "                                                                              \n",
       "──────────────────────────────────────────────────────────────────────────────\n",
       "                                                                              \n",
       "\n",
       "                                                                              \n",
       "                                                                              \n",
       " + x₂₇₉ + x₂₈₇⋅x₈₃) + x₂₄₄⋅(x₁₂₉⋅x₂₈₇ + x₁₃₁⋅x₂₈₈ + x₂₈₄) + x₂₄₅⋅(2⋅x₁₆₈⋅x₂₅₈ \n",
       "                                                                              \n",
       "                                                                              \n",
       "──────────────────────────────────────────────────────────────────────────────\n",
       "                                                                              \n",
       "\n",
       "                                                                              \n",
       "                                                                              \n",
       "+ x₁₆₈⋅x₂₈₇ - 2⋅x₁₇₁⋅x₂₇₀ + x₁₇₁⋅x₂₈₈ - x₁₇₄ + x₁₇₅ + x₂₄₆⋅(x₁⋅x₇₅ + x₂₈₉ + x₇\n",
       "                                                                              \n",
       "                                                                              \n",
       "──────────────────────────────────────────────────────────────────────────────\n",
       "                                                                              \n",
       "\n",
       "                                                                              \n",
       "                                                                              \n",
       "₇⋅x₈) + x₂₆₀⋅(-x₁⋅x₃ - x₁₀⋅x₈ + x₂₈₉)) + x₂₈₅⋅x₈ - x₂₈₆⋅x₈) + pr⃜₂ + 4⋅pr⃛₂ + \n",
       "                                                                              \n",
       "                                                                              \n",
       "──────────────────────────────────────────────────────────────────────────────\n",
       "                                                                              \n",
       "\n",
       "                                                                              \n",
       "                                                                              \n",
       "6⋅pr̈₂ + 4⋅pṙ₂ - qṁ₁⋅(x₁₂₃⋅x₂₆₅ + x₁₅₉⋅x₂₄₁ + x₂₄₂⋅(x₁₁₅⋅x₂₆₅ + x₂₆₀) + x₂₄₄\n",
       "                                                                              \n",
       "                                                                              \n",
       "──────────────────────────────────────────────────────────────────────────────\n",
       "                                                                              \n",
       "\n",
       "                                                                              \n",
       "                                                                              \n",
       "⋅(x₁₃₁⋅x₂₆₅ + x₂₆₇) + x₂₄₅⋅(x₁₇₁⋅x₂₆₅ + x₂₆₉ - x₂₇₁) - x₂₆₁) - qṁ₂⋅(x₁₁₃⋅x₂₅₃\n",
       "                                                                              \n",
       "                                                                              \n",
       "──────────────────────────────────────────────────────────────────────────────\n",
       "                                                                              \n",
       "\n",
       "                                                                              \n",
       "                                                                              \n",
       " + x₂₂₀⋅x₂₄₃ + x₂₄₂⋅(x₂₄₆ + x₂₅₃⋅x₈₃) + x₂₄₄⋅(x₁₂₉⋅x₂₅₃ + x₂₅₅) + x₂₄₅⋅(x₁₆₈⋅x\n",
       "                                                                              \n",
       "                                                                              \n",
       "──────────────────────────────────────────────────────────────────────────────\n",
       "                                                                              \n",
       "\n",
       "                                                                              \n",
       "                                                                              \n",
       "₂₅₃ - x₂₅₇ + x₂₅₉) - x₂₄₇) - x₁₀₂⋅(x₁₀₄⋅x₁₂₇ + x₁₁₄⋅x₁₃₀ + x₁₂₄⋅x₁₂₉ + x₁₂₅⋅x₁\n",
       "                                                                              \n",
       "                                                                              \n",
       "──────────────────────────────────────────────────────────────────────────────\n",
       "                                                                              \n",
       "\n",
       "                                                                              \n",
       "                                                                              \n",
       "₃₁) - x₁₀₂ - x₁₀₄⋅x₁₀₈⋅x₁₀₉ - 4⋅x₁₀₈⋅x₂₂₀ - x₁₀₉⋅x₁₁₄⋅x₁₁₉ - 4⋅x₁₁₁⋅x₁₁₃ - x₁₁\n",
       "                                                                              \n",
       "                                                                              \n",
       "──────────────────────────────────────────────────────────────────────────────\n",
       "                                                                              \n",
       "\n",
       "                                                                              \n",
       "                                                                              \n",
       "₄⋅x₁₅₈⋅x₁₅₉⋅x₄ - 4⋅x₁₁₉⋅x₂₄₁ - 4⋅x₁₂₁⋅x₁₂₃ - x₁₂₆⋅(x₁₁₅⋅x₁₂₅ + x₁₂₄⋅x₈₃) - x₁₃\n",
       "                                                                              \n",
       "                                                                              \n",
       "──────────────────────────────────────────────────────────────────────────────\n",
       "                                                                              \n",
       "\n",
       "                                                                              \n",
       "                                                                              \n",
       "₂⋅x₁₃₇⋅(x₁₀₄⋅x₁₄₀ + x₁₁₄⋅x₁₄₃) - x₁₃₂⋅x₁₆₀⋅(x₁₀₄⋅x₁₆₁ + x₁₁₄⋅x₁₆₂ + x₁₃₃ + x₁₃\n",
       "                                                                              \n",
       "                                                                              \n",
       "──────────────────────────────────────────────────────────────────────────────\n",
       "                                                                              \n",
       "\n",
       "                                                                              \n",
       "                                                                              \n",
       "₅) - x₁₄₉⋅(x₁₂₄⋅(-x₁⋅x₈₃ + x₁₄₇) + x₁₂₅⋅(x₁⋅x₁₁₅ + x₁₄₈) + x₁₂₇⋅x₁₄₅ - x₁₃₀⋅x₁\n",
       "                                                                              \n",
       "                                                                              \n",
       "──────────────────────────────────────────────────────────────────────────────\n",
       "                                                                              \n",
       "\n",
       "                                                                              \n",
       "                                                                              \n",
       "₄₆) - x₁₅⋅(pṁ₁⋅(pṁ₁⋅(2⋅x₁₀⋅x₄₆₆ + x₂₀₄⋅x₄₇₇ + x₃₉₂⋅x₄₆₅ + x₃₉₂⋅x₄₆₇ - 4⋅x₄₄₄\n",
       "                                                                              \n",
       "                                                                              \n",
       "──────────────────────────────────────────────────────────────────────────────\n",
       "                                                                              \n",
       "\n",
       "                                                                              \n",
       "                                                                              \n",
       " + x₄₅₉) + pṁ₂⋅(x₁₉₈⋅x₄₇₇ + x₃⋅x₄₅₈ + x₄₇₅) + pṁ₃⋅(x₂₁₇⋅x₄₇₇ + x₂₃₈⋅x₄₅₈ + x\n",
       "                                                                              \n",
       "                                                                              \n",
       "──────────────────────────────────────────────────────────────────────────────\n",
       "                                                                              \n",
       "\n",
       "                                                                              \n",
       "                                                                              \n",
       "₄₇₈) + qṁ₁⋅(x₁₁₆⋅x₄₅₇ + x₁₈₈⋅x₄₇₇ + x₄₆₉) + qṁ₂⋅(x₄₅₂ + x₄₇₇⋅x₅₃) + x₁₇₇⋅x₄₁\n",
       "                                                                              \n",
       "                                                                              \n",
       "──────────────────────────────────────────────────────────────────────────────\n",
       "                                                                              \n",
       "\n",
       "                                                                              \n",
       "                                                                              \n",
       "₉ + x₁₇₇⋅x₄₂₁ + x₁₈₂⋅x₄₃₅ + x₁₈₂⋅x₄₃₆ + x₄₄₀ + x₄₄₁) + pṁ₂⋅(pṁ₁⋅(x₁₀⋅x₄₇₄ + \n",
       "                                                                              \n",
       "                                                                              \n",
       "──────────────────────────────────────────────────────────────────────────────\n",
       "                                                                              \n",
       "\n",
       "                                                                              \n",
       "                                                                              \n",
       "x₂₀₄⋅x₄₇₃ + x₄₇₅) + pṁ₂⋅(x₁₉₈⋅x₄₇₃ + x₂₂₇ - 2⋅x₃⋅x₄₆₃ + x₃⋅x₄₇₄ - x₃₈₄⋅x₄₅₀ +\n",
       "                                                                              \n",
       "                                                                              \n",
       "──────────────────────────────────────────────────────────────────────────────\n",
       "                                                                              \n",
       "\n",
       "                                                                              \n",
       "                                                                              \n",
       " x₃₈₄⋅x₄₆₁) + pṁ₃⋅(x₂₁₇⋅x₄₇₃ + x₂₃₈⋅x₄₇₄ + x₄₇₆) + qṁ₁⋅(x₁₃₁⋅x₄₅₈ + x₁₈₈⋅x₄₇\n",
       "                                                                              \n",
       "                                                                              \n",
       "──────────────────────────────────────────────────────────────────────────────\n",
       "                                                                              \n",
       "\n",
       "                                                                              \n",
       "                                                                              \n",
       "₃ + x₄₆₄) + qṁ₂⋅(x₄₅₁ + x₄₇₃⋅x₅₃) + x₁₇₇⋅x₄₁₀ + x₁₇₇⋅x₄₁₃ - x₁₈₂⋅x₄₃₂ + x₁₈₂⋅\n",
       "                                                                              \n",
       "                                                                              \n",
       "──────────────────────────────────────────────────────────────────────────────\n",
       "                                                                              \n",
       "\n",
       "                                                                              \n",
       "                                                                              \n",
       "x₄₃₃ + x₁₈₂⋅x₄₃₄) + pṁ₃⋅(pṁ₁⋅(x₁₀⋅x₄₈₂ + x₂₀₄⋅x₄₇₉ + x₄₇₈) + pṁ₂⋅(x₁₉₈⋅x₄₇₉\n",
       "                                                                              \n",
       "                                                                              \n",
       "──────────────────────────────────────────────────────────────────────────────\n",
       "                                                                              \n",
       "\n",
       "                                                                              \n",
       "                                                                              \n",
       " + x₃⋅x₄₈₂ + x₄₇₆) + pṁ₃⋅(x₂₁₇⋅x₄₇₉ + x₂₂₇⋅(x₂₀₆ + x₂₆ - x₂₈) + x₂₂₈⋅x₄₀₄ + 2\n",
       "                                                                              \n",
       "                                                                              \n",
       "──────────────────────────────────────────────────────────────────────────────\n",
       "                                                                              \n",
       "\n",
       "                                                                              \n",
       "                                                                              \n",
       "⋅x₂₃₈⋅x₄₇₁ + x₂₃₈⋅x₄₈₂ + x₄₂₃⋅x₄₈₁ + x₄₂₅⋅x₄₈₁ + x₅₀⋅(x₄₀₀ + x₆₁ + x₆₃)) + qṁ\n",
       "                                                                              \n",
       "                                                                              \n",
       "──────────────────────────────────────────────────────────────────────────────\n",
       "                                                                              \n",
       "\n",
       "                                                                              \n",
       "                                                                              \n",
       "₁⋅(x₁₈₈⋅x₄₇₉ + x₄₅₈⋅x₄₈₀ + x₄₇₂) + qṁ₂⋅(x₄₅₃ + x₄₇₉⋅x₅₃) - x₁₇₇⋅x₄₂₂ + x₁₇₇⋅x\n",
       "                                                                              \n",
       "                                                                              \n",
       "──────────────────────────────────────────────────────────────────────────────\n",
       "                                                                              \n",
       "\n",
       "                                                                              \n",
       "                                                                              \n",
       "₄₂₄ + x₁₇₇⋅x₄₂₆ + x₁₈₂⋅x₄₃₇ + x₁₈₂⋅x₄₃₈ + x₁₈₂⋅x₄₃₉) + qṁ₁⋅(pṁ₁⋅(x₁₁⋅x₄₅₇ + \n",
       "                                                                              \n",
       "                                                                              \n",
       "──────────────────────────────────────────────────────────────────────────────\n",
       "                                                                              \n",
       "\n",
       "                                                                              \n",
       "                                                                              \n",
       "x₂₀₄⋅x₄₅₄ + x₄₆₉) + pṁ₂⋅(x₁₉₈⋅x₄₅₄ + x₃⋅x₄₆₀ + x₄₆₄) + pṁ₃⋅(x₂₁₇⋅x₄₅₄ + x₂₃₈\n",
       "                                                                              \n",
       "                                                                              \n",
       "──────────────────────────────────────────────────────────────────────────────\n",
       "                                                                              \n",
       "\n",
       "                                                                              \n",
       "                                                                              \n",
       "⋅x₄₆₀ + x₄₇₂) + qṁ₁⋅(2⋅x₁₁₅⋅x₄₅₆ + x₁₈₈⋅x₄₅₄ + x₄₅₉) + qṁ₂⋅(x₄₄₇ + x₄₅₄⋅x₅₃)\n",
       "                                                                              \n",
       "                                                                              \n",
       "──────────────────────────────────────────────────────────────────────────────\n",
       "          -x₁₀₁⋅(-x₁₅⋅x₇₄ - x₈₂⋅x₉₉) + 1                                      \n",
       "\n",
       "                                                                              \n",
       "                                                                              \n",
       " + x₁₇₇⋅x₄₁₅ + x₁₇₇⋅x₄₁₇ + x₁₈₂⋅x₄₃₀ + x₁₈₂⋅x₄₃₁) + qṁ₂⋅(pṁ₁⋅(x₂₀₄⋅x₄₄₃ + x₄\n",
       "                                                                              \n",
       "                                                                              \n",
       "──────────────────────────────────────────────────────────────────────────────\n",
       "                                                                              \n",
       "\n",
       "                                                                              \n",
       "                                                                              \n",
       "₅₂) + pṁ₂⋅(x₁₉₈⋅x₄₄₃ + x₄₅₁) + pṁ₃⋅(x₂₁₇⋅x₄₄₃ + x₄₅₃) + qṁ₁⋅(x₁₈₈⋅x₄₄₃ + x₄\n",
       "                                                                              \n",
       "                                                                              \n",
       "──────────────────────────────────────────────────────────────────────────────\n",
       "                                                                              \n",
       "\n",
       "                                                                              \n",
       "                                                                              \n",
       "₄₇) + qṁ₂⋅(2⋅x₂₂⋅x₄₀₆ + x₄₄₃⋅x₅₃) + x₁₇₇⋅x₄₀₇ + x₁₈₂⋅x₄₂₉ - x₄₄₀ - x₄₄₁) - x₁\n",
       "                                                                              \n",
       "                                                                              \n",
       "──────────────────────────────────────────────────────────────────────────────\n",
       "                                                                              \n",
       "\n",
       "                                                                              \n",
       "                                                                              \n",
       "₃₄⋅x₇₄ + x₁₅₈⋅x₂₂₉ + x₁₇₆⋅x₂₃₉ + x₁₇₇⋅(pṁ₁⋅(x₄₀₅ + x₄₁₉ + x₄₂₁) + pṁ₂⋅(x₄₁₀ \n",
       "                                                                              \n",
       "                                                                              \n",
       "──────────────────────────────────────────────────────────────────────────────\n",
       "                                                                              \n",
       "\n",
       "                                                                              \n",
       "                                                                              \n",
       "+ x₄₁₃) + pṁ₃⋅(-x₄₂₂ + x₄₂₄ + x₄₂₆) + qṁ₁⋅(x₄₁₅ + x₄₁₇) + qṁ₂⋅(-x₄₀₅ + x₄₀₇\n",
       "                                                                              \n",
       "                                                                              \n",
       "──────────────────────────────────────────────────────────────────────────────\n",
       "                                                                              \n",
       "\n",
       "                                                                              \n",
       "                                                                              \n",
       ")) + x₁₈₂⋅(pṁ₁⋅(x₄₂₈ + x₄₃₅ + x₄₃₆) + pṁ₂⋅(-x₄₃₂ + x₄₃₃ + x₄₃₄) + pṁ₃⋅(x₄₃₇\n",
       "                                                                              \n",
       "                                                                              \n",
       "──────────────────────────────────────────────────────────────────────────────\n",
       "                                                                              \n",
       "\n",
       "                                                                              \n",
       "                                                                              \n",
       " + x₄₃₈ + x₄₃₉) + qṁ₁⋅(x₄₃₀ + x₄₃₁) + qṁ₂⋅(-x₄₂₈ + x₄₂₉)) + x₂₂₂⋅x₂₉₀ + x₂₂₄\n",
       "                                                                              \n",
       "                                                                              \n",
       "──────────────────────────────────────────────────────────────────────────────\n",
       "                                                                              \n",
       "\n",
       "                                                                              \n",
       "                                                                              \n",
       "⋅x₂₉₁ + x₂₃₂⋅x₂₉₂ + x₂₃₄⋅x₂₉₃) - x₁₇₆⋅x₄⋅(x₁₀₄⋅x₁₆₉ + x₁₁₄⋅x₁₇₂ + x₁₆₄ - x₁₆₆)\n",
       "                                                                              \n",
       "                                                                              \n",
       "──────────────────────────────────────────────────────────────────────────────\n",
       "                                                                              \n",
       "\n",
       "                                                                              \n",
       "                                                                              \n",
       " - x₂₁₉⋅(x₁₁₂⋅x₂₄₃ + x₁₄₀⋅x₂₄₂ + x₂₄₄⋅(x₁₆₁ + x₈₀) + x₂₄₅⋅(x₁₆₉ + x₈⋅x₈₀)) - x\n",
       "                                                                              \n",
       "                                                                              \n",
       "──────────────────────────────────────────────────────────────────────────────\n",
       "                                                                              \n",
       "\n",
       "                                                                              \n",
       "                                                                              \n",
       "₂₄₀⋅(x₁₂₂⋅x₁₅₉ + x₁₄₃⋅x₂₄₂ + x₂₄₄⋅(x₁₃ + x₁₆₂) + x₂₄₅⋅(-x₁₃⋅x₈ + x₁₇₂)) - x₈₂⋅\n",
       "                                                                              \n",
       "                                                                              \n",
       "──────────────────────────────────────────────────────────────────────────────\n",
       "                                                                              \n",
       "\n",
       "                                                                              \n",
       "                                                                              \n",
       "(pṁ₁⋅(pṁ₁⋅(x₂₀₄⋅x₃₉₁ - 4⋅x₃₄₁ + x₃₅₂⋅x₃₉₂ + x₃₅₃⋅x₃₉₂ + x₃₆₆ + 2⋅x₃₇₁⋅x₇₇) +\n",
       "                                                                              \n",
       "                                                                              \n",
       "──────────────────────────────────────────────────────────────────────────────\n",
       "                                                                              \n",
       "\n",
       "                                                                              \n",
       "                                                                              \n",
       " pṁ₂⋅(x₁₉₈⋅x₃₉₁ + x₃₆₅⋅x₇₅ + x₃₈₆) + pṁ₃⋅(x₂₁₀⋅x₃₆₅ + x₂₁₇⋅x₃₉₁ + x₃₉₄) + qm\n",
       "                                                                              \n",
       "                                                                              \n",
       "──────────────────────────────────────────────────────────────────────────────\n",
       "                                                                              \n",
       "\n",
       "                                                                              \n",
       "                                                                              \n",
       "̇₁⋅(x₁₈₈⋅x₃₉₁ + x₃₅₄) + qṁ₂⋅(x₁₀₅⋅x₃₆₄ + x₃₇₃ + x₃₉₁⋅x₅₃) + x₁₇₇⋅x₃₀₈ + x₁₇₇⋅\n",
       "                                                                              \n",
       "                                                                              \n",
       "──────────────────────────────────────────────────────────────────────────────\n",
       "                                                                              \n",
       "\n",
       "                                                                              \n",
       "                                                                              \n",
       "x₃₁₀ + x₁₈₂⋅x₃₂₅ + x₁₈₂⋅x₃₂₆ - x₃₃₁ + x₃₃₂) + pṁ₂⋅(pṁ₁⋅(x₂₀₄⋅x₃₈₃ + x₃₈₅⋅x₇₇\n",
       "                                                                              \n",
       "                                                                              \n",
       "──────────────────────────────────────────────────────────────────────────────\n",
       "                                                                              \n",
       "\n",
       "                                                                              \n",
       "                                                                              \n",
       " + x₃₈₆) + pṁ₂⋅(x₁₉₈⋅x₃₈₃ + x₃₄₈⋅x₃₈₄ - x₃₅₀⋅x₃₈₄ - 2⋅x₃₆₉⋅x₇₅ + x₃₈₅⋅x₇₅ + x\n",
       "                                                                              \n",
       "                                                                              \n",
       "──────────────────────────────────────────────────────────────────────────────\n",
       "                                                                              \n",
       "\n",
       "                                                                              \n",
       "                                                                              \n",
       "₉₆) + pṁ₃⋅(x₂₁₀⋅x₃₈₅ + x₂₁₇⋅x₃₈₃ + x₃₈₉) + qṁ₁⋅(x₁₈₈⋅x₃₈₃ + x₃₅₁) + qṁ₂⋅(x₁\n",
       "                                                                              \n",
       "                                                                              \n",
       "──────────────────────────────────────────────────────────────────────────────\n",
       "                                                                              \n",
       "\n",
       "                                                                              \n",
       "                                                                              \n",
       "₂₉⋅x₃₆₅ + x₃₇₀ + x₃₈₃⋅x₅₃) + x₁₇₇⋅x₃₀₀ + x₁₇₇⋅x₃₀₂ - x₁₈₂⋅x₃₂₂ + x₁₈₂⋅x₃₂₃ + x\n",
       "                                                                              \n",
       "                                                                              \n",
       "──────────────────────────────────────────────────────────────────────────────\n",
       "                                                                              \n",
       "\n",
       "                                                                              \n",
       "                                                                              \n",
       "₁₈₂⋅x₃₂₄) + pṁ₃⋅(pṁ₁⋅(x₂₀₄⋅x₃₉₈ + x₃₉₄ + x₄₀₂⋅x₇₇) + pṁ₂⋅(x₁₉₈⋅x₃₉₈ + x₃₈₉ \n",
       "                                                                              \n",
       "                                                                              \n",
       "──────────────────────────────────────────────────────────────────────────────\n",
       "                                                                              \n",
       "\n",
       "                                                                              \n",
       "                                                                              \n",
       "+ x₄₀₂⋅x₇₅) + pṁ₃⋅(x₁₀₃⋅(x₄₀₀ + x₉₃) + x₁₈₉⋅x₄₀₄ + 2⋅x₂₁₀⋅x₃₇₈ + x₂₁₀⋅x₄₀₂ + \n",
       "                                                                              \n",
       "                                                                              \n",
       "──────────────────────────────────────────────────────────────────────────────\n",
       "                                                                              \n",
       "\n",
       "                                                                              \n",
       "                                                                              \n",
       "x₂₁₇⋅x₃₉₈ + x₃₁₃⋅x₄₀₁ + x₃₁₅⋅x₄₀₁ + x₉₆⋅(-x₂₀₆ + x₂₃₅ - x₂₆ + x₈₇)) + qṁ₁⋅(x₁\n",
       "                                                                              \n",
       "                                                                              \n",
       "──────────────────────────────────────────────────────────────────────────────\n",
       "                                                                              \n",
       "\n",
       "                                                                              \n",
       "                                                                              \n",
       "₈₈⋅x₃₉₈ + x₃₅₉) + qṁ₂⋅(x₃₆₅⋅x₃₉₉ + x₃₇₉ + x₃₉₈⋅x₅₃) - x₁₇₇⋅x₃₁₂ + x₁₇₇⋅x₃₁₄ +\n",
       "                                                                              \n",
       "                                                                              \n",
       "──────────────────────────────────────────────────────────────────────────────\n",
       "                                                                              \n",
       "\n",
       "                                                                              \n",
       "                                                                              \n",
       " x₁₇₇⋅x₃₁₆ + x₁₈₂⋅x₃₂₈ + x₁₈₂⋅x₃₂₉ + x₁₈₂⋅x₃₃₀) + qṁ₁⋅(pṁ₁⋅(x₂₀₄⋅x₃₃₉ + x₃₅₄\n",
       "                                                                              \n",
       "                                                                              \n",
       "──────────────────────────────────────────────────────────────────────────────\n",
       "                                                                              \n",
       "\n",
       "                                                                              \n",
       "                                                                              \n",
       ") + pṁ₂⋅(x₁₉₈⋅x₃₃₉ + x₃₅₁) + pṁ₃⋅(x₂₁₇⋅x₃₃₉ + x₃₅₉) + qṁ₁⋅(2⋅x₁₈₆⋅x₂₉₆ + x₁\n",
       "                                                                              \n",
       "                                                                              \n",
       "──────────────────────────────────────────────────────────────────────────────\n",
       "                                                                              \n",
       "\n",
       "                                                                              \n",
       "                                                                              \n",
       "₈₈⋅x₃₃₉) + qṁ₂⋅(x₃₃₉⋅x₅₃ + x₃₄₅) + x₁₇₇⋅x₂₉₇ + x₁₈₂⋅x₃₁₉ + x₃₃₁ - x₃₃₂) + qṁ\n",
       "                                                                              \n",
       "                                                                              \n",
       "──────────────────────────────────────────────────────────────────────────────\n",
       "                                                                              \n",
       "\n",
       "                                                                              \n",
       "                                                                              \n",
       "₂⋅(pṁ₁⋅(x₂₀₄⋅x₃₆₂ + x₃₆₄⋅x₇₈ + x₃₇₃) + pṁ₂⋅(x₁₉₈⋅x₃₆₂ + x₃₆₇⋅x₇₅ + x₃₇₀) + p\n",
       "                                                                              \n",
       "                                                                              \n",
       "──────────────────────────────────────────────────────────────────────────────\n",
       "                                                                              \n",
       "\n",
       "                                                                              \n",
       "                                                                              \n",
       "ṁ₃⋅(x₂₁₀⋅x₃₆₇ + x₂₁₇⋅x₃₆₂ + x₃₇₉) + qṁ₁⋅(x₁₈₈⋅x₃₆₂ + x₃₄₅) + qṁ₂⋅(x₃₆₂⋅x₅₃ \n",
       "                                                                              \n",
       "                                                                              \n",
       "──────────────────────────────────────────────────────────────────────────────\n",
       "                                                                              \n",
       "\n",
       "                                                                              \n",
       "                                                                              \n",
       "+ 2⋅x₃₆₃⋅x₈₃ + x₃₆₆) + x₁₇₇⋅x₃₀₄ + x₁₇₇⋅x₃₀₆ + x₁₈₂⋅x₃₂₀ + x₁₈₂⋅x₃₂₁) - x₁₃₄⋅x\n",
       "                                                                              \n",
       "                                                                              \n",
       "──────────────────────────────────────────────────────────────────────────────\n",
       "                                                                              \n",
       "\n",
       "                                                                              \n",
       "                                                                              \n",
       "₉₉ + x₁₅₈⋅x₁₉₀ + x₁₇₆⋅x₂₁₈ + x₁₇₇⋅(pṁ₁⋅(-x₂₉₄ + x₃₀₈ + x₃₁₀) + pṁ₂⋅(x₃₀₀ + x\n",
       "                                                                              \n",
       "                                                                              \n",
       "──────────────────────────────────────────────────────────────────────────────\n",
       "                                                                              \n",
       "\n",
       "                                                                              \n",
       "                                                                              \n",
       "₃₀₂) + pṁ₃⋅(-x₃₁₂ + x₃₁₄ + x₃₁₆) + qṁ₁⋅(x₂₉₄ + x₂₉₇) + qṁ₂⋅(x₃₀₄ + x₃₀₆)) +\n",
       "                                                                              \n",
       "                                                                              \n",
       "──────────────────────────────────────────────────────────────────────────────\n",
       "                                                                              \n",
       "\n",
       "                                                                              \n",
       "                                                                              \n",
       " x₁₈₁⋅x₂₉₀ + x₁₈₂⋅(pṁ₁⋅(x₃₁₈ + x₃₂₅ + x₃₂₆) + pṁ₂⋅(-x₃₂₂ + x₃₂₃ + x₃₂₄) + pm\n",
       "                                                                              \n",
       "                                                                              \n",
       "──────────────────────────────────────────────────────────────────────────────\n",
       "                                                                              \n",
       "\n",
       "                                                2⎞\n",
       "                      x₄⋅x₅₄⋅x₇₃⋅x₇₅⋅x₇₈⋅x₈₈⋅x₉₄ ⎟\n",
       "̇₃⋅(x₃₂₈ + x₃₂₉ + x₃₃₀) + qṁ₁⋅(-x₃₁₈ + x₃₁₉) + qṁ₂⋅(x₃₂₀ + x₃₂₁)) + x₁₈₅⋅x₂₉\n",
       "                                       2         ⎟\n",
       "                                x₃₀⋅x₇₉          ⎠\n",
       "──────────────────────────────────────────────────\n",
       "                                                  "
      ]
     },
     "execution_count": 123,
     "metadata": {},
     "output_type": "execute_result"
    }
   ],
   "source": [
    "qstat_tau2_cse_exprs"
   ]
  },
  {
   "cell_type": "code",
   "execution_count": 111,
   "metadata": {},
   "outputs": [
    {
     "data": {
      "image/png": "[encoded data removed]",
      "text/latex": [
       "$\\displaystyle \\left[ \\left( x_{49}, \\  x_{34} x_{48}\\right), \\  \\left( x_{48}, \\  \\frac{1}{x_{47}}\\right), \\  \\left( x_{47}, \\  l_{0} x_{38} - qm_{1} x_{38} + qm_{2} x_{38} + x_{46}\\right), \\  \\left( x_{46}, \\  l_{0} x_{40} + qm_{1} x_{40} + qm_{1} x_{44} + qm_{2} x_{40} + qm_{2} x_{45} + x_{0} x_{39} - x_{23} x_{40} - x_{23} x_{41} - x_{23} x_{42} - x_{23} x_{43}\\right), \\  \\left( x_{45}, \\  2 x_{42}\\right), \\  \\left( x_{44}, \\  2 x_{41}\\right), \\  \\left( x_{43}, \\  qm_{2} x_{0}\\right), \\  \\left( x_{42}, \\  qm_{1} x_{0}\\right), \\  \\left( x_{41}, \\  l_{0} x_{0}\\right), \\  \\left( x_{40}, \\  pm_{2} x_{7}\\right), \\  \\left( x_{39}, \\  2 x_{29}\\right), \\  \\left( x_{38}, \\  \\frac{x_{37}}{2}\\right), \\  \\left( x_{37}, \\  s_{2} x_{36}\\right), \\  \\left( x_{36}, \\  \\sin{\\left(x_{35} \\right)}\\right), \\  \\left( x_{35}, \\  2 pm_{3}\\right), \\  \\left( x_{34}, \\  \\frac{1}{s_{2}}\\right), \\  \\left( x_{33}, \\  \\sqrt{x_{32}}\\right), \\  \\left( x_{32}, \\  qm_{1}^{2} - x_{24} - x_{25} - x_{27} + 2 x_{28} + x_{31}\\right), \\  \\left( x_{31}, \\  pm_{2}^{2} + x_{29} + x_{30}\\right), \\  \\left( x_{30}, \\  s_{2}^{2}\\right)\\right]$"
      ],
      "text/plain": [
       "⎡                ⎛      1 ⎞                                                   \n",
       "⎢(x₄₉, x₃₄⋅x₄₈), ⎜x₄₈, ───⎟, (x₄₇, l₀⋅x₃₈ - qm₁⋅x₃₈ + qm₂⋅x₃₈ + x₄₆), (x₄₆, l₀\n",
       "⎣                ⎝     x₄₇⎠                                                   \n",
       "\n",
       "                                                                              \n",
       "⋅x₄₀ + qm₁⋅x₄₀ + qm₁⋅x₄₄ + qm₂⋅x₄₀ + qm₂⋅x₄₅ + x₀⋅x₃₉ - x₂₃⋅x₄₀ - x₂₃⋅x₄₁ - x₂\n",
       "                                                                              \n",
       "\n",
       "                                                                              \n",
       "₃⋅x₄₂ - x₂₃⋅x₄₃), (x₄₅, 2⋅x₄₂), (x₄₄, 2⋅x₄₁), (x₄₃, qm₂⋅x₀), (x₄₂, qm₁⋅x₀), (x\n",
       "                                                                              \n",
       "\n",
       "                                         ⎛     x₃₇⎞                           \n",
       "₄₁, l₀⋅x₀), (x₄₀, pm₂⋅x₇), (x₃₉, 2⋅x₂₉), ⎜x₃₈, ───⎟, (x₃₇, s₂⋅x₃₆), (x₃₆, sin(\n",
       "                                         ⎝      2 ⎠                           \n",
       "\n",
       "                     ⎛     1 ⎞  ⎛       _____⎞  ⎛        2                    \n",
       "x₃₅)), (x₃₅, 2⋅pm₃), ⎜x₃₄, ──⎟, ⎝x₃₃, ╲╱ x₃₂ ⎠, ⎝x₃₂, qm₁  - x₂₄ - x₂₅ - x₂₇ +\n",
       "                     ⎝     s₂⎠                                                \n",
       "\n",
       "            ⎞  ⎛        2            ⎞  ⎛       2⎞⎤\n",
       " 2⋅x₂₈ + x₃₁⎠, ⎝x₃₁, pm₂  + x₂₉ + x₃₀⎠, ⎝x₃₀, s₂ ⎠⎥\n",
       "                                                  ⎦"
      ]
     },
     "execution_count": 111,
     "metadata": {},
     "output_type": "execute_result"
    }
   ],
   "source": [
    "qstat_tau2_cse_rp.reverse()\n",
    "qstat_tau2_cse_rp[:4]"
   ]
  },
  {
   "cell_type": "code",
   "execution_count": 126,
   "metadata": {},
   "outputs": [
    {
     "data": {
      "text/plain": [
       "sys_params := [('J2', 0.004553475),\n",
       " ('g', 9.81),\n",
       " ('l0', 0.3),\n",
       " ('m1', 0.45),\n",
       " ('m2', 0.557),\n",
       " ('m3', 0.45),\n",
       " ('s2', 0.15)]"
      ]
     },
     "metadata": {},
     "output_type": "display_data"
    },
    {
     "data": {
      "text/plain": [
       "---"
      ]
     },
     "metadata": {},
     "output_type": "display_data"
    }
   ],
   "source": [
    "sys_params = list(dict(J2=0.004553475, g=9.81, l0=0.3, m1=0.45, m2=0.557, m3=0.45, s2=0.15).items()) ##:"
   ]
  },
  {
   "cell_type": "code",
   "execution_count": 125,
   "metadata": {},
   "outputs": [],
   "source": [
    "xx5 = npy.array([0, -5.5000000000e-01, -1.5000000000e-01, -1.5000000000e-01, -1.4985510823e-01, -7.3828125000e-02, -7.3828125000e-02, -7.3828125000e-02, -5.6250000000e-02, -8.9979908736e-02])"
   ]
  },
  {
   "cell_type": "code",
   "execution_count": null,
   "metadata": {},
   "outputs": [],
   "source": [
    "for rp in qstat_tau2_cse_rp:\n",
    "    rp"
   ]
  },
  {
   "cell_type": "code",
   "execution_count": 130,
   "metadata": {},
   "outputs": [
    {
     "data": {
      "image/png": "[encoded data removed]",
      "text/latex": [
       "$\\displaystyle \\left\\{J_{2}, l_{0}, m_{2}, m_{3}, pm_{1}, pm_{2}, pm_{3}, \\dot{pm}_{1}, \\dot{pm}_{3}, pr_{1}, pr_{3}, \\ddot{pr}_{1}, \\ddot{pr}_{3}, \\dot{pr}_{1}, \\dot{pr}_{3}, qm_{1}, qm_{2}, s_{2}\\right\\}$"
      ],
      "text/plain": [
       "{J₂, l₀, m₂, m₃, pm₁, pm₂, pm₃, pṁ₁, pṁ₃, pr₁, pr₃, pr̈₁, pr̈₃, pṙ₁, pṙ₃, \n",
       "qm₁, qm₂, s₂}"
      ]
     },
     "execution_count": 130,
     "metadata": {},
     "output_type": "execute_result"
    }
   ],
   "source": [
    "den2.s"
   ]
  },
  {
   "cell_type": "code",
   "execution_count": 131,
   "metadata": {},
   "outputs": [
    {
     "data": {
      "image/png": "[encoded data removed]",
      "text/latex": [
       "$\\displaystyle \\frac{- J_{2} l_{0} pm_{1} \\left(- pm_{3} - 2 \\dot{pm}_{3} + pr_{3} + \\ddot{pr}_{3} + 2 \\dot{pr}_{3}\\right) + J_{2} l_{0} qm_{1} \\left(- pm_{3} - 2 \\dot{pm}_{3} + pr_{3} + \\ddot{pr}_{3} + 2 \\dot{pr}_{3}\\right) + J_{2} l_{0} s_{2} \\left(- pm_{3} - 2 \\dot{pm}_{3} + pr_{3} + \\ddot{pr}_{3} + 2 \\dot{pr}_{3}\\right) \\cos{\\left(pm_{3} \\right)} + J_{2} pm_{1}^{2} \\left(- pm_{3} - 2 \\dot{pm}_{3} + pr_{3} + \\ddot{pr}_{3} + 2 \\dot{pr}_{3}\\right) - J_{2} pm_{1} qm_{1} \\left(- pm_{3} - 2 \\dot{pm}_{3} + pr_{3} + \\ddot{pr}_{3} + 2 \\dot{pr}_{3}\\right) - J_{2} pm_{1} qm_{2} \\left(- pm_{3} - 2 \\dot{pm}_{3} + pr_{3} + \\ddot{pr}_{3} + 2 \\dot{pr}_{3}\\right) + J_{2} qm_{1} qm_{2} \\left(- pm_{3} - 2 \\dot{pm}_{3} + pr_{3} + \\ddot{pr}_{3} + 2 \\dot{pr}_{3}\\right) - J_{2} qm_{1} s_{2} \\left(- pm_{3} - 2 \\dot{pm}_{3} + pr_{3} + \\ddot{pr}_{3} + 2 \\dot{pr}_{3}\\right) \\cos{\\left(pm_{3} \\right)} + J_{2} qm_{2} s_{2} \\left(- pm_{3} - 2 \\dot{pm}_{3} + pr_{3} + \\ddot{pr}_{3} + 2 \\dot{pr}_{3}\\right) \\cos{\\left(pm_{3} \\right)} - J_{2} s_{2}^{2} \\left(- pm_{3} - 2 \\dot{pm}_{3} + pr_{3} + \\ddot{pr}_{3} + 2 \\dot{pr}_{3}\\right) \\cos^{2}{\\left(pm_{3} \\right)} - 2 l_{0} m_{1} pm_{1} s_{2} \\left(- qm_{1} - 2 \\dot{qm}_{1} + qr_{1} + \\ddot{qr}_{1} + 2 \\dot{qr}_{1}\\right) \\sin{\\left(pm_{3} \\right)} + l_{0} m_{1} pm_{2} s_{2} \\left(- qm_{1} - 2 \\dot{qm}_{1} + qr_{1} + \\ddot{qr}_{1} + 2 \\dot{qr}_{1}\\right) \\cos{\\left(pm_{3} \\right)} + 2 l_{0} m_{1} qm_{1} s_{2} \\left(- qm_{1} - 2 \\dot{qm}_{1} + qr_{1} + \\ddot{qr}_{1} + 2 \\dot{qr}_{1}\\right) \\sin{\\left(pm_{3} \\right)} + \\frac{l_{0} m_{1} s_{2}^{2} \\left(- qm_{1} - 2 \\dot{qm}_{1} + qr_{1} + \\ddot{qr}_{1} + 2 \\dot{qr}_{1}\\right) \\sin{\\left(2 pm_{3} \\right)}}{2} - l_{0} m_{2} pm_{1} s_{2} \\left(- pm_{1} - 2 \\dot{pm}_{1} + pr_{1} + \\ddot{pr}_{1} + 2 \\dot{pr}_{1}\\right) \\sin{\\left(pm_{3} \\right)} + l_{0} m_{2} qm_{1} s_{2} \\left(- pm_{1} - 2 \\dot{pm}_{1} + pr_{1} + \\ddot{pr}_{1} + 2 \\dot{pr}_{1}\\right) \\sin{\\left(pm_{3} \\right)} + \\frac{l_{0} m_{2} s_{2}^{2} \\left(- pm_{1} - 2 \\dot{pm}_{1} + pr_{1} + \\ddot{pr}_{1} + 2 \\dot{pr}_{1}\\right) \\sin{\\left(2 pm_{3} \\right)}}{2} + 2 m_{1} pm_{1}^{2} s_{2} \\left(- qm_{1} - 2 \\dot{qm}_{1} + qr_{1} + \\ddot{qr}_{1} + 2 \\dot{qr}_{1}\\right) \\sin{\\left(pm_{3} \\right)} - 2 m_{1} pm_{1} pm_{2} s_{2} \\left(- qm_{1} - 2 \\dot{qm}_{1} + qr_{1} + \\ddot{qr}_{1} + 2 \\dot{qr}_{1}\\right) \\cos{\\left(pm_{3} \\right)} - 2 m_{1} pm_{1} qm_{1} s_{2} \\left(- qm_{1} - 2 \\dot{qm}_{1} + qr_{1} + \\ddot{qr}_{1} + 2 \\dot{qr}_{1}\\right) \\sin{\\left(pm_{3} \\right)} - 2 m_{1} pm_{1} qm_{2} s_{2} \\left(- qm_{1} - 2 \\dot{qm}_{1} + qr_{1} + \\ddot{qr}_{1} + 2 \\dot{qr}_{1}\\right) \\sin{\\left(pm_{3} \\right)} + m_{1} pm_{2} qm_{1} s_{2} \\left(- qm_{1} - 2 \\dot{qm}_{1} + qr_{1} + \\ddot{qr}_{1} + 2 \\dot{qr}_{1}\\right) \\cos{\\left(pm_{3} \\right)} + m_{1} pm_{2} qm_{2} s_{2} \\left(- qm_{1} - 2 \\dot{qm}_{1} + qr_{1} + \\ddot{qr}_{1} + 2 \\dot{qr}_{1}\\right) \\cos{\\left(pm_{3} \\right)} + 2 m_{1} qm_{1} qm_{2} s_{2} \\left(- qm_{1} - 2 \\dot{qm}_{1} + qr_{1} + \\ddot{qr}_{1} + 2 \\dot{qr}_{1}\\right) \\sin{\\left(pm_{3} \\right)} - \\frac{m_{1} qm_{1} s_{2}^{2} \\left(- qm_{1} - 2 \\dot{qm}_{1} + qr_{1} + \\ddot{qr}_{1} + 2 \\dot{qr}_{1}\\right) \\sin{\\left(2 pm_{3} \\right)}}{2} + \\frac{m_{1} qm_{2} s_{2}^{2} \\left(- qm_{1} - 2 \\dot{qm}_{1} + qr_{1} + \\ddot{qr}_{1} + 2 \\dot{qr}_{1}\\right) \\sin{\\left(2 pm_{3} \\right)}}{2} + m_{2} pm_{1}^{2} s_{2} \\left(- pm_{1} - 2 \\dot{pm}_{1} + pr_{1} + \\ddot{pr}_{1} + 2 \\dot{pr}_{1}\\right) \\sin{\\left(pm_{3} \\right)} - m_{2} pm_{1} pm_{2} s_{2} \\left(- pm_{1} - 2 \\dot{pm}_{1} + pr_{1} + \\ddot{pr}_{1} + 2 \\dot{pr}_{1}\\right) \\cos{\\left(pm_{3} \\right)} - m_{2} pm_{1} qm_{1} s_{2} \\left(- pm_{1} - 2 \\dot{pm}_{1} + pr_{1} + \\ddot{pr}_{1} + 2 \\dot{pr}_{1}\\right) \\sin{\\left(pm_{3} \\right)} - m_{2} pm_{1} qm_{2} s_{2} \\left(- pm_{1} - 2 \\dot{pm}_{1} + pr_{1} + \\ddot{pr}_{1} + 2 \\dot{pr}_{1}\\right) \\sin{\\left(pm_{3} \\right)} - \\frac{m_{2} pm_{1} s_{2}^{2} \\left(- pm_{1} - 2 \\dot{pm}_{1} + pr_{1} + \\ddot{pr}_{1} + 2 \\dot{pr}_{1}\\right) \\sin{\\left(2 pm_{3} \\right)}}{2} + m_{2} pm_{2} qm_{1} s_{2} \\left(- pm_{1} - 2 \\dot{pm}_{1} + pr_{1} + \\ddot{pr}_{1} + 2 \\dot{pr}_{1}\\right) \\cos{\\left(pm_{3} \\right)} + m_{2} pm_{2} s_{2}^{2} \\left(- pm_{1} - 2 \\dot{pm}_{1} + pr_{1} + \\ddot{pr}_{1} + 2 \\dot{pr}_{1}\\right) \\cos^{2}{\\left(pm_{3} \\right)} + m_{2} qm_{1} qm_{2} s_{2} \\left(- pm_{1} - 2 \\dot{pm}_{1} + pr_{1} + \\ddot{pr}_{1} + 2 \\dot{pr}_{1}\\right) \\sin{\\left(pm_{3} \\right)} + \\frac{m_{2} qm_{2} s_{2}^{2} \\left(- pm_{1} - 2 \\dot{pm}_{1} + pr_{1} + \\ddot{pr}_{1} + 2 \\dot{pr}_{1}\\right) \\sin{\\left(2 pm_{3} \\right)}}{2}}{s_{2} \\left(- 2 l_{0} pm_{1} \\sin{\\left(pm_{3} \\right)} + l_{0} pm_{2} \\cos{\\left(pm_{3} \\right)} + 2 l_{0} qm_{1} \\sin{\\left(pm_{3} \\right)} + \\frac{l_{0} s_{2} \\sin{\\left(2 pm_{3} \\right)}}{2} + 2 pm_{1}^{2} \\sin{\\left(pm_{3} \\right)} - 2 pm_{1} pm_{2} \\cos{\\left(pm_{3} \\right)} - 2 pm_{1} qm_{1} \\sin{\\left(pm_{3} \\right)} - 2 pm_{1} qm_{2} \\sin{\\left(pm_{3} \\right)} + pm_{2} qm_{1} \\cos{\\left(pm_{3} \\right)} + pm_{2} qm_{2} \\cos{\\left(pm_{3} \\right)} + 2 qm_{1} qm_{2} \\sin{\\left(pm_{3} \\right)} - \\frac{qm_{1} s_{2} \\sin{\\left(2 pm_{3} \\right)}}{2} + \\frac{qm_{2} s_{2} \\sin{\\left(2 pm_{3} \\right)}}{2}\\right)}$"
      ],
      "text/plain": [
       "                                                                              \n",
       "                                                                              \n",
       "-J₂⋅l₀⋅pm₁⋅(-pm₃ - 2⋅pṁ₃ + pr₃ + pr̈₃ + 2⋅pṙ₃) + J₂⋅l₀⋅qm₁⋅(-pm₃ - 2⋅pṁ₃ + \n",
       "                                                                              \n",
       "──────────────────────────────────────────────────────────────────────────────\n",
       "                                                                              \n",
       "                                                                              \n",
       "                                                                              \n",
       "\n",
       "                                                                              \n",
       "                                                                              \n",
       "pr₃ + pr̈₃ + 2⋅pṙ₃) + J₂⋅l₀⋅s₂⋅(-pm₃ - 2⋅pṁ₃ + pr₃ + pr̈₃ + 2⋅pṙ₃)⋅cos(pm₃)\n",
       "                                                                              \n",
       "──────────────────────────────────────────────────────────────────────────────\n",
       "                                                                              \n",
       "                                                                              \n",
       "                                                                              \n",
       "\n",
       "                                                                              \n",
       "2                                                                             \n",
       " + J₂⋅pm₁ ⋅(-pm₃ - 2⋅pṁ₃ + pr₃ + pr̈₃ + 2⋅pṙ₃) - J₂⋅pm₁⋅qm₁⋅(-pm₃ - 2⋅pṁ₃ +\n",
       "                                                                              \n",
       "──────────────────────────────────────────────────────────────────────────────\n",
       "                                                                              \n",
       "                                                                              \n",
       "                                                                              \n",
       "\n",
       "                                                                              \n",
       "                                                                              \n",
       " pr₃ + pr̈₃ + 2⋅pṙ₃) - J₂⋅pm₁⋅qm₂⋅(-pm₃ - 2⋅pṁ₃ + pr₃ + pr̈₃ + 2⋅pṙ₃) + J₂⋅\n",
       "                                                                              \n",
       "──────────────────────────────────────────────────────────────────────────────\n",
       "                                                                              \n",
       "                                                                              \n",
       "                                                                              \n",
       "\n",
       "                                                                              \n",
       "                                                                              \n",
       "qm₁⋅qm₂⋅(-pm₃ - 2⋅pṁ₃ + pr₃ + pr̈₃ + 2⋅pṙ₃) - J₂⋅qm₁⋅s₂⋅(-pm₃ - 2⋅pṁ₃ + pr₃\n",
       "                                                                              \n",
       "──────────────────────────────────────────────────────────────────────────────\n",
       "                                                                              \n",
       "                                                                              \n",
       "                                                                              \n",
       "\n",
       "                                                                              \n",
       "                                                                  2           \n",
       " + pr̈₃ + 2⋅pṙ₃)⋅cos(pm₃) + J₂⋅qm₂⋅s₂⋅(-pm₃ - 2⋅pṁ₃ + pr₃ + pr̈₃ + 2⋅pṙ₃)⋅c\n",
       "                                                                              \n",
       "──────────────────────────────────────────────────────────────────────────────\n",
       "                                                                              \n",
       "                                                                              \n",
       "                                                                              \n",
       "\n",
       "                                                                              \n",
       "                            2                                                 \n",
       "os(pm₃) - J₂⋅s₂ ⋅(-pm₃ - 2⋅pṁ₃ + pr₃ + pr̈₃ + 2⋅pṙ₃)⋅cos (pm₃) - 2⋅l₀⋅m₁⋅pm₁\n",
       "                                                                              \n",
       "──────────────────────────────────────────────────────────────────────────────\n",
       "                                                                              \n",
       "                                                                              \n",
       "                                                                              \n",
       "\n",
       "                                                                              \n",
       "                                                                              \n",
       "⋅s₂⋅(-qm₁ - 2⋅qṁ₁ + qr₁ + qr̈₁ + 2⋅qṙ₁)⋅sin(pm₃) + l₀⋅m₁⋅pm₂⋅s₂⋅(-qm₁ - 2⋅qm\n",
       "                                                                              \n",
       "──────────────────────────────────────────────────────────────────────────────\n",
       "                                                                              \n",
       "                                                                              \n",
       "                                                                              \n",
       "\n",
       "                                                                      2       \n",
       "                                                              l₀⋅m₁⋅s₂ ⋅(-qm₁ \n",
       "̇₁ + qr₁ + qr̈₁ + 2⋅qṙ₁)⋅cos(pm₃) + 2⋅l₀⋅m₁⋅qm₁⋅s₂⋅(-qm₁ - 2⋅qṁ₁ + qr₁ + qr̈\n",
       "                                                                              \n",
       "──────────────────────────────────────────────────────────────────────────────\n",
       "                                                                              \n",
       "                                                                              \n",
       "                                                                              \n",
       "\n",
       "                                                                              \n",
       "- 2⋅qṁ₁ + qr₁ + qr̈₁ + 2⋅qṙ₁)⋅sin(2⋅pm₃)                                    \n",
       "₁ + 2⋅qṙ₁)⋅sin(pm₃) + ───────────────────────────────────────────────────────\n",
       "           2                                                                  \n",
       "──────────────────────────────────────────────────────────────────────────────\n",
       "                                                                              \n",
       "                                                                              \n",
       "                                                                              \n",
       "\n",
       "                                                                              \n",
       "                                                                              \n",
       " - l₀⋅m₂⋅pm₁⋅s₂⋅(-pm₁ - 2⋅pṁ₁ + pr₁ + pr̈₁ + 2⋅pṙ₁)⋅sin(pm₃) + l₀⋅m₂⋅qm₁⋅s₂⋅\n",
       "                                                                              \n",
       "──────────────────────────────────────────────────────────────────────────────\n",
       "                                                                              \n",
       "                                                                              \n",
       "                                                                              \n",
       "\n",
       "            2                                                                 \n",
       "       l₀⋅m₂⋅s₂ ⋅(-pm₁ - 2⋅pṁ₁ + pr₁ + pr̈₁ + 2⋅pṙ₁)⋅sin(2⋅pm₃)           2 \n",
       "(-pm₁ - 2⋅pṁ₁ + pr₁ + pr̈₁ + 2⋅pṙ₁)⋅sin(pm₃) + ─────────────────────────────\n",
       "                               2                                              \n",
       "──────────────────────────────────────────────────────────────────────────────\n",
       "             ⎛                                                           l₀⋅s₂\n",
       "          s₂⋅⎜-2⋅l₀⋅pm₁⋅sin(pm₃) + l₀⋅pm₂⋅cos(pm₃) + 2⋅l₀⋅qm₁⋅sin(pm₃) + ─────\n",
       "             ⎝                                                                \n",
       "\n",
       "                                                                              \n",
       "                                                                              \n",
       "────────────────────────── + 2⋅m₁⋅pm₁ ⋅s₂⋅(-qm₁ - 2⋅qṁ₁ + qr₁ + qr̈₁ + 2⋅qṙ₁\n",
       "                                                                              \n",
       "──────────────────────────────────────────────────────────────────────────────\n",
       "⋅sin(2⋅pm₃)        2                                                          \n",
       "─────────── + 2⋅pm₁ ⋅sin(pm₃) - 2⋅pm₁⋅pm₂⋅cos(pm₃) - 2⋅pm₁⋅qm₁⋅sin(pm₃) - 2⋅pm\n",
       "  2                                                                           \n",
       "\n",
       "                                                                              \n",
       "                                                                              \n",
       ")⋅sin(pm₃) - 2⋅m₁⋅pm₁⋅pm₂⋅s₂⋅(-qm₁ - 2⋅qṁ₁ + qr₁ + qr̈₁ + 2⋅qṙ₁)⋅cos(pm₃) - \n",
       "                                                                              \n",
       "──────────────────────────────────────────────────────────────────────────────\n",
       "                                                                            qm\n",
       "₁⋅qm₂⋅sin(pm₃) + pm₂⋅qm₁⋅cos(pm₃) + pm₂⋅qm₂⋅cos(pm₃) + 2⋅qm₁⋅qm₂⋅sin(pm₃) - ──\n",
       "                                                                              \n",
       "\n",
       "                                                                              \n",
       "                                                                              \n",
       "2⋅m₁⋅pm₁⋅qm₁⋅s₂⋅(-qm₁ - 2⋅qṁ₁ + qr₁ + qr̈₁ + 2⋅qṙ₁)⋅sin(pm₃) - 2⋅m₁⋅pm₁⋅qm₂⋅\n",
       "                                                                              \n",
       "──────────────────────────────────────────────────────────────────────────────\n",
       "₁⋅s₂⋅sin(2⋅pm₃)   qm₂⋅s₂⋅sin(2⋅pm₃)⎞                                          \n",
       "─────────────── + ─────────────────⎟                                          \n",
       "      2                   2        ⎠                                          \n",
       "\n",
       "                                                                              \n",
       "                                                                              \n",
       "s₂⋅(-qm₁ - 2⋅qṁ₁ + qr₁ + qr̈₁ + 2⋅qṙ₁)⋅sin(pm₃) + m₁⋅pm₂⋅qm₁⋅s₂⋅(-qm₁ - 2⋅qm\n",
       "                                                                              \n",
       "──────────────────────────────────────────────────────────────────────────────\n",
       "                                                                              \n",
       "                                                                              \n",
       "                                                                              \n",
       "\n",
       "                                                                              \n",
       "                                                                              \n",
       "̇₁ + qr₁ + qr̈₁ + 2⋅qṙ₁)⋅cos(pm₃) + m₁⋅pm₂⋅qm₂⋅s₂⋅(-qm₁ - 2⋅qṁ₁ + qr₁ + qr̈₁\n",
       "                                                                              \n",
       "──────────────────────────────────────────────────────────────────────────────\n",
       "                                                                              \n",
       "                                                                              \n",
       "                                                                              \n",
       "\n",
       "                              2                                               \n",
       "                           m₁⋅qm₁⋅s₂ ⋅(-qm₁ - 2⋅qṁ₁ + qr₁ + qr̈₁ + 2⋅qṙ₁)⋅si\n",
       " + 2⋅qṙ₁)⋅cos(pm₃) + 2⋅m₁⋅qm₁⋅qm₂⋅s₂⋅(-qm₁ - 2⋅qṁ₁ + qr₁ + qr̈₁ + 2⋅qṙ₁)⋅si\n",
       "                                                2                             \n",
       "──────────────────────────────────────────────────────────────────────────────\n",
       "                                                                              \n",
       "                                                                              \n",
       "                                                                              \n",
       "\n",
       "           2                                                                  \n",
       "n(2⋅pm₃)   m₁⋅qm₂⋅s₂ ⋅(-qm₁ - 2⋅qṁ₁ + qr₁ + qr̈₁ + 2⋅qṙ₁)⋅sin(2⋅pm₃)        \n",
       "n(pm₃) - ──────────────────────────────────────────────────────── + ──────────\n",
       "                             2                                                \n",
       "──────────────────────────────────────────────────────────────────────────────\n",
       "                                                                              \n",
       "                                                                              \n",
       "                                                                              \n",
       "\n",
       "                                                                              \n",
       " 2                                                                            \n",
       "────────────────────────────────────────────── + m₂⋅pm₁ ⋅s₂⋅(-pm₁ - 2⋅pṁ₁ + p\n",
       "                                                                              \n",
       "──────────────────────────────────────────────────────────────────────────────\n",
       "                                                                              \n",
       "                                                                              \n",
       "                                                                              \n",
       "\n",
       "                                                                              \n",
       "                                                                              \n",
       "r₁ + pr̈₁ + 2⋅pṙ₁)⋅sin(pm₃) - m₂⋅pm₁⋅pm₂⋅s₂⋅(-pm₁ - 2⋅pṁ₁ + pr₁ + pr̈₁ + 2⋅p\n",
       "                                                                              \n",
       "──────────────────────────────────────────────────────────────────────────────\n",
       "                                                                              \n",
       "                                                                              \n",
       "                                                                              \n",
       "\n",
       "                                                                         2    \n",
       "                                                                            m₂\n",
       "ṙ₁)⋅cos(pm₃) - m₂⋅pm₁⋅qm₁⋅s₂⋅(-pm₁ - 2⋅pṁ₁ + pr₁ + pr̈₁ + 2⋅pṙ₁)⋅sin(pm₃) -\n",
       "                                                                              \n",
       "──────────────────────────────────────────────────────────────────────────────\n",
       "                                                                              \n",
       "                                                                              \n",
       "                                                                              \n",
       "\n",
       "                                                                              \n",
       "⋅pm₁⋅s₂ ⋅(-pm₁ - 2⋅pṁ₁ + pr₁ + pr̈₁ + 2⋅pṙ₁)⋅sin(2⋅pm₃)                     \n",
       " m₂⋅pm₁⋅qm₂⋅s₂⋅(-pm₁ - 2⋅pṁ₁ + pr₁ + pr̈₁ + 2⋅pṙ₁)⋅sin(pm₃) - ──────────────\n",
       "             2                                                                \n",
       "──────────────────────────────────────────────────────────────────────────────\n",
       "                                                                              \n",
       "                                                                              \n",
       "                                                                              \n",
       "\n",
       "                                                                              \n",
       "                                                   2                          \n",
       "────────────────────────────────────────── + m₂⋅pm₂⋅qm₁⋅s₂⋅(-pm₁ - 2⋅pṁ₁ + pr\n",
       "                                                                              \n",
       "──────────────────────────────────────────────────────────────────────────────\n",
       "                                                                              \n",
       "                                                                              \n",
       "                                                                              \n",
       "\n",
       "                                                                            2 \n",
       "             2                                                                \n",
       "₁ + pr̈₁ + 2⋅pṙ₁)⋅cos(pm₃) + m₂⋅pm₂⋅s₂ ⋅(-pm₁ - 2⋅pṁ₁ + pr₁ + pr̈₁ + 2⋅pṙ₁)\n",
       "                                                                              \n",
       "──────────────────────────────────────────────────────────────────────────────\n",
       "                                                                              \n",
       "                                                                              \n",
       "                                                                              \n",
       "\n",
       "                                             \n",
       "    m₂⋅qm₂⋅s₂ ⋅(-pm₁ - 2⋅pṁ₁ + pr₁ + pr̈₁ + 2⋅pṙ₁)⋅sin(2⋅pm₃)\n",
       "⋅cos (pm₃) + m₂⋅qm₁⋅qm₂⋅s₂⋅(-pm₁ - 2⋅pṁ₁ + pr₁ + pr̈₁ + 2⋅pṙ₁)⋅sin(pm₃) + ──\n",
       "                2                            \n",
       "─────────────────────────────────────────────\n",
       "                                             \n",
       "                                             \n",
       "                                             "
      ]
     },
     "execution_count": 131,
     "metadata": {},
     "output_type": "execute_result"
    }
   ],
   "source": [
    "qstat_tau1"
   ]
  },
  {
   "cell_type": "code",
   "execution_count": null,
   "metadata": {},
   "outputs": [],
   "source": [
    "################################"
   ]
  },
  {
   "cell_type": "code",
   "execution_count": 146,
   "metadata": {},
   "outputs": [],
   "source": [
    "numerators = [num1, num2, num3, num4]\n",
    "denominators = [den1, den2, den3, den4]"
   ]
  },
  {
   "cell_type": "code",
   "execution_count": 147,
   "metadata": {},
   "outputs": [],
   "source": [
    "# store with pickle\n",
    "pickle_data = {\"qstat_tau1\":qstat_tau1, \"qstat_tau2\":qstat_tau2, \"qstat_tau3\":qstat_tau3, \"qstat_tau4\":qstat_tau4, \"numerators\":numerators, \"denominators\":denominators}\n",
    "\n",
    "with open(\"qstat_expr.pcl\", \"wb\") as pfile:\n",
    "    pickle.dump(pickle_data, pfile)"
   ]
  },
  {
   "cell_type": "code",
   "execution_count": null,
   "metadata": {},
   "outputs": [],
   "source": []
  },
  {
   "cell_type": "code",
   "execution_count": null,
   "metadata": {},
   "outputs": [],
   "source": []
  },
  {
   "cell_type": "code",
   "execution_count": null,
   "metadata": {},
   "outputs": [],
   "source": []
  },
  {
   "cell_type": "code",
   "execution_count": 39,
   "metadata": {},
   "outputs": [],
   "source": [
    "# coefficients for error dynamics\n",
    "# Polynome: s^2 + c_i[1] s + c_i[0] s\n",
    "cp1 = [1, 2]\n",
    "cp2 = [1, 2]\n",
    "cp3 = [1, 2]\n",
    "cq1 = [1, 2]\n",
    "c2 = sp.Matrix([cp1, cp2, cp3, cq1, [0, 0]])"
   ]
  },
  {
   "cell_type": "markdown",
   "metadata": {},
   "source": [
    "Every component of the flat output $\\mathbf{y}$ appearing in $\\mathbf{\\tau}$ with a higher order derivative than 1 has to be substituted, becaus it is assumed that only positions and speeds of $\\mathbf{y}$ can be measured directly."
   ]
  },
  {
   "cell_type": "markdown",
   "metadata": {},
   "source": [
    "##### State feedback error dynamics:\n",
    "\\begin{align}\n",
    "    \\ddot{e} + c_1 \\dot{e} + c_0 e &= 0 \\\\\n",
    "\\end{align}"
   ]
  },
  {
   "cell_type": "code",
   "execution_count": 62,
   "metadata": {},
   "outputs": [],
   "source": [
    "from sympy.matrices.dense import matrix_multiply_elementwise as elmul"
   ]
  },
  {
   "cell_type": "code",
   "execution_count": 63,
   "metadata": {},
   "outputs": [],
   "source": [
    "c2_00 = elmul(c2[:, 0], c2[:, 0])\n",
    "c2_01 = elmul(c2[:, 0], c2[:, 1])\n",
    "c2_11 = elmul(c2[:, 1], c2[:, 1])\n",
    "c2_111 = elmul(elmul(c2[:, 1], c2[:, 1]), c2[:, 1])\n",
    "c2_011 = elmul(elmul(c2[:, 0], c2[:, 1]), c2[:, 1])"
   ]
  },
  {
   "cell_type": "code",
   "execution_count": 64,
   "metadata": {
    "scrolled": false
   },
   "outputs": [
    {
     "data": {
      "text/latex": [
       "meas_subs_dd := $\\displaystyle \\left[\\begin{matrix}- pm_{1} - 2 \\dot{pm}_{1} + pr_{1} + \\ddot{pr}_{1} + 2 \\dot{pr}_{1}\\\\- pm_{2} - 2 \\dot{pm}_{2} + pr_{2} + \\ddot{pr}_{2} + 2 \\dot{pr}_{2}\\\\- pm_{3} - 2 \\dot{pm}_{3} + pr_{3} + \\ddot{pr}_{3} + 2 \\dot{pr}_{3}\\\\- qm_{1} - 2 \\dot{qm}_{1} + qr_{1} + \\ddot{qr}_{1} + 2 \\dot{qr}_{1}\\\\\\ddot{qr}_{2}\\end{matrix}\\right]$"
      ],
      "text/plain": [
       "meas_subs_dd := ⎡-pm₁ - 2⋅pṁ₁ + pr₁ + pr̈₁ + 2⋅pṙ₁⎤\n",
       "⎢                                ⎥\n",
       "⎢-pm₂ - 2⋅pṁ₂ + pr₂ + pr̈₂ + 2⋅pṙ₂⎥\n",
       "⎢                                ⎥\n",
       "⎢-pm₃ - 2⋅pṁ₃ + pr₃ + pr̈₃ + 2⋅pṙ₃⎥\n",
       "⎢                                ⎥\n",
       "⎢-qm₁ - 2⋅qṁ₁ + qr₁ + qr̈₁ + 2⋅qṙ₁⎥\n",
       "⎢                                ⎥\n",
       "⎣              qr̈₂               ⎦"
      ]
     },
     "metadata": {},
     "output_type": "display_data"
    },
    {
     "data": {
      "text/plain": [
       "---"
      ]
     },
     "metadata": {},
     "output_type": "display_data"
    }
   ],
   "source": [
    "meas_subs_dd = ref_states_dd - elmul(c2[:, 1], (meas_states_d - ref_states_d)) - elmul(c2[:, 0], (meas_states - ref_states)) ##:"
   ]
  },
  {
   "cell_type": "code",
   "execution_count": 65,
   "metadata": {},
   "outputs": [
    {
     "data": {
      "text/latex": [
       "meas_subs_ddd := $\\displaystyle \\left[\\begin{matrix}2 pm_{1} + 3 \\dot{pm}_{1} - 2 pr_{1} + \\dddot{pr}_{1} - 3 \\dot{pr}_{1}\\\\2 pm_{2} + 3 \\dot{pm}_{2} - 2 pr_{2} + \\dddot{pr}_{2} - 3 \\dot{pr}_{2}\\\\2 pm_{3} + 3 \\dot{pm}_{3} - 2 pr_{3} + \\dddot{pr}_{3} - 3 \\dot{pr}_{3}\\\\2 qm_{1} + 3 \\dot{qm}_{1} - 2 qr_{1} + \\dddot{qr}_{1} - 3 \\dot{qr}_{1}\\\\\\dddot{qr}_{2}\\end{matrix}\\right]$"
      ],
      "text/plain": [
       "meas_subs_ddd := ⎡2⋅pm₁ + 3⋅pṁ₁ - 2⋅pr₁ + pr⃛₁ - 3⋅pṙ₁⎤\n",
       "⎢                                   ⎥\n",
       "⎢2⋅pm₂ + 3⋅pṁ₂ - 2⋅pr₂ + pr⃛₂ - 3⋅pṙ₂⎥\n",
       "⎢                                   ⎥\n",
       "⎢2⋅pm₃ + 3⋅pṁ₃ - 2⋅pr₃ + pr⃛₃ - 3⋅pṙ₃⎥\n",
       "⎢                                   ⎥\n",
       "⎢2⋅qm₁ + 3⋅qṁ₁ - 2⋅qr₁ + qr⃛₁ - 3⋅qṙ₁⎥\n",
       "⎢                                   ⎥\n",
       "⎣                qr⃛₂                ⎦"
      ]
     },
     "metadata": {},
     "output_type": "display_data"
    },
    {
     "data": {
      "text/plain": [
       "---"
      ]
     },
     "metadata": {},
     "output_type": "display_data"
    },
    {
     "data": {
      "text/latex": [
       "meas_subs_dddd := $\\displaystyle \\left[\\begin{matrix}- 3 pm_{1} - 4 \\dot{pm}_{1} + 3 pr_{1} + \\ddddot{pr}_{1} + 4 \\dot{pr}_{1}\\\\- 3 pm_{2} - 4 \\dot{pm}_{2} + 3 pr_{2} + \\ddddot{pr}_{2} + 4 \\dot{pr}_{2}\\\\- 3 pm_{3} - 4 \\dot{pm}_{3} + 3 pr_{3} + \\ddddot{pr}_{3} + 4 \\dot{pr}_{3}\\\\- 3 qm_{1} - 4 \\dot{qm}_{1} + 3 qr_{1} + \\ddddot{qr}_{1} + 4 \\dot{qr}_{1}\\\\\\ddddot{qr}_{2}\\end{matrix}\\right]$"
      ],
      "text/plain": [
       "meas_subs_dddd := ⎡-3⋅pm₁ - 4⋅pṁ₁ + 3⋅pr₁ + pr⃜₁ + 4⋅pṙ₁⎤\n",
       "⎢                                    ⎥\n",
       "⎢-3⋅pm₂ - 4⋅pṁ₂ + 3⋅pr₂ + pr⃜₂ + 4⋅pṙ₂⎥\n",
       "⎢                                    ⎥\n",
       "⎢-3⋅pm₃ - 4⋅pṁ₃ + 3⋅pr₃ + pr⃜₃ + 4⋅pṙ₃⎥\n",
       "⎢                                    ⎥\n",
       "⎢-3⋅qm₁ - 4⋅qṁ₁ + 3⋅qr₁ + qr⃜₁ + 4⋅qṙ₁⎥\n",
       "⎢                                    ⎥\n",
       "⎣                qr⃜₂                 ⎦"
      ]
     },
     "metadata": {},
     "output_type": "display_data"
    },
    {
     "data": {
      "text/plain": [
       "---"
      ]
     },
     "metadata": {},
     "output_type": "display_data"
    }
   ],
   "source": [
    "# for quasi static state feedback approach\n",
    "meas_subs_ddd = ref_states_ddd - elmul((c2[:, 0] - c2_11), (meas_states_d - ref_states_d)) + elmul(c2_01, (meas_states - ref_states)) ##:\n",
    "meas_subs_dddd = ref_states_dddd - elmul((c2_111 - 2*c2_01), (meas_states_d - ref_states_d)) - elmul((c2_011 - c2_00), (meas_states - ref_states)) ##:"
   ]
  },
  {
   "cell_type": "markdown",
   "metadata": {},
   "source": [
    "#### Inputs from flat output"
   ]
  },
  {
   "cell_type": "code",
   "execution_count": 66,
   "metadata": {},
   "outputs": [
    {
     "data": {
      "image/png": "[encoded data removed]",
      "text/latex": [
       "$\\displaystyle \\left\\{J_{2}, g, l_{0}, m_{1}, m_{2}, m_{3}, p_{1}, p_{2}, p_{3}, \\dot{p}_{1}, \\dot{p}_{2}, \\dot{p}_{3}, q_{1}, q_{2}, \\dot{q}_{1}, \\dot{q}_{2}, s_{2}, \\tau_{1}, \\tau_{2}, \\tau_{3}, \\tau_{4}, \\ddot{\\tau}_{3}, \\ddot{\\tau}_{4}, \\dot{\\tau}_{3}, \\dot{\\tau}_{4}\\right\\}$"
      ],
      "text/plain": [
       "{J₂, g, l₀, m₁, m₂, m₃, p₁, p₂, p₃, ṗ₁, ṗ₂, ṗ₃, q₁, q₂, q̇₁, q̇₂, s₂, τ₁, τ\n",
       "₂, τ₃, τ₄, τ̈₃, τ̈₄, τ̇₃, τ̇₄}"
      ]
     },
     "execution_count": 66,
     "metadata": {},
     "output_type": "execute_result"
    }
   ],
   "source": [
    "yddddot2_ext.s"
   ]
  },
  {
   "cell_type": "code",
   "execution_count": null,
   "metadata": {},
   "outputs": [],
   "source": []
  },
  {
   "cell_type": "code",
   "execution_count": null,
   "metadata": {},
   "outputs": [],
   "source": []
  },
  {
   "cell_type": "code",
   "execution_count": 67,
   "metadata": {
    "scrolled": false
   },
   "outputs": [],
   "source": [
    "sol_tau134 = sp.solve((pddot1-yddot1_ext, pddot3-yddot3_ext, qddot1-yddot4_ext), tau1, tau3, tau4)"
   ]
  },
  {
   "cell_type": "code",
   "execution_count": 68,
   "metadata": {},
   "outputs": [],
   "source": [
    "tau1_alg = sol_tau134[tau1].smplf\n",
    "tau3_alg = sol_tau134[tau3].smplf\n",
    "tau4_alg = sol_tau134[tau4].smplf"
   ]
  },
  {
   "cell_type": "code",
   "execution_count": 70,
   "metadata": {
    "scrolled": false
   },
   "outputs": [
    {
     "data": {
      "image/png": "[encoded data removed]",
      "text/latex": [
       "(tau1_alg.s) := $\\displaystyle \\left\\{J_{2}, l_{0}, m_{1}, m_{2}, p_{1}, p_{2}, p_{3}, \\ddot{p}_{1}, \\ddot{p}_{3}, q_{1}, q_{2}, \\ddot{q}_{1}, s_{2}\\right\\}$"
      ],
      "text/plain": [
       "(tau1_alg.s) := {J₂, l₀, m₁, m₂, p₁, p₂, p₃, p̈₁, p̈₃, q₁, q₂, q̈₁, s₂}"
      ]
     },
     "metadata": {},
     "output_type": "display_data"
    },
    {
     "data": {
      "text/plain": [
       "---"
      ]
     },
     "metadata": {},
     "output_type": "display_data"
    },
    {
     "data": {
      "image/png": "[encoded data removed]",
      "text/latex": [
       "(tau1_alg.co) := $\\displaystyle 310$"
      ],
      "text/plain": [
       "(tau1_alg.co) := 310"
      ]
     },
     "metadata": {},
     "output_type": "display_data"
    },
    {
     "data": {
      "text/plain": [
       "---"
      ]
     },
     "metadata": {},
     "output_type": "display_data"
    },
    {
     "data": {
      "image/png": "[encoded data removed]",
      "text/latex": [
       "(tau3_alg.s) := $\\displaystyle \\left\\{J_{2}, l_{0}, m_{2}, p_{1}, p_{2}, p_{3}, \\ddot{p}_{1}, \\ddot{p}_{3}, q_{1}, q_{2}, s_{2}\\right\\}$"
      ],
      "text/plain": [
       "(tau3_alg.s) := {J₂, l₀, m₂, p₁, p₂, p₃, p̈₁, p̈₃, q₁, q₂, s₂}"
      ]
     },
     "metadata": {},
     "output_type": "display_data"
    },
    {
     "data": {
      "text/plain": [
       "---"
      ]
     },
     "metadata": {},
     "output_type": "display_data"
    },
    {
     "data": {
      "image/png": "[encoded data removed]",
      "text/latex": [
       "(tau3_alg.co) := $\\displaystyle 132$"
      ],
      "text/plain": [
       "(tau3_alg.co) := 132"
      ]
     },
     "metadata": {},
     "output_type": "display_data"
    },
    {
     "data": {
      "text/plain": [
       "---"
      ]
     },
     "metadata": {},
     "output_type": "display_data"
    },
    {
     "data": {
      "image/png": "[encoded data removed]",
      "text/latex": [
       "(tau4_alg.s) := $\\displaystyle \\left\\{J_{2}, l_{0}, m_{2}, p_{1}, p_{2}, p_{3}, \\ddot{p}_{1}, \\ddot{p}_{3}, q_{1}, q_{2}, s_{2}\\right\\}$"
      ],
      "text/plain": [
       "(tau4_alg.s) := {J₂, l₀, m₂, p₁, p₂, p₃, p̈₁, p̈₃, q₁, q₂, s₂}"
      ]
     },
     "metadata": {},
     "output_type": "display_data"
    },
    {
     "data": {
      "text/plain": [
       "---"
      ]
     },
     "metadata": {},
     "output_type": "display_data"
    },
    {
     "data": {
      "image/png": "[encoded data removed]",
      "text/latex": [
       "(tau4_alg.co) := $\\displaystyle 136$"
      ],
      "text/plain": [
       "(tau4_alg.co) := 136"
      ]
     },
     "metadata": {},
     "output_type": "display_data"
    },
    {
     "data": {
      "text/plain": [
       "---"
      ]
     },
     "metadata": {},
     "output_type": "display_data"
    }
   ],
   "source": [
    "tau1_alg.s ##:\n",
    "tau1_alg.co ##:\n",
    "tau3_alg.s ##:\n",
    "tau3_alg.co ##:\n",
    "tau4_alg.s ##:\n",
    "tau4_alg.co ##:"
   ]
  },
  {
   "cell_type": "code",
   "execution_count": 74,
   "metadata": {},
   "outputs": [],
   "source": [
    "tau1_alg_flat = tau1_alg.subs(q2, flat_q2)\n",
    "tau3_alg_flat = tau3_alg.subs(q2, flat_q2)\n",
    "tau4_alg_flat = tau4_alg.subs(q2, flat_q2)"
   ]
  },
  {
   "cell_type": "code",
   "execution_count": 75,
   "metadata": {},
   "outputs": [],
   "source": [
    "tau1_alg_flat = tau1_alg_flat.subz([*tthetadd, *tthetad, *ttheta], [*meas_subs_dd, *meas_states_d, *meas_states])\n",
    "tau3_alg_flat = tau3_alg_flat.subz([*tthetadd, *tthetad, *ttheta], [*meas_subs_dd, *meas_states_d, *meas_states])\n",
    "tau4_alg_flat = tau4_alg_flat.subz([*tthetadd, *tthetad, *ttheta], [*meas_subs_dd, *meas_states_d, *meas_states])"
   ]
  },
  {
   "cell_type": "code",
   "execution_count": 76,
   "metadata": {},
   "outputs": [
    {
     "data": {
      "image/png": "[encoded data removed]",
      "text/latex": [
       "(tau1_alg_flat.s) := $\\displaystyle \\left\\{J_{2}, l_{0}, m_{1}, m_{2}, pm_{1}, pm_{2}, pm_{3}, \\dot{pm}_{1}, \\dot{pm}_{3}, pr_{1}, pr_{3}, \\ddot{pr}_{1}, \\ddot{pr}_{3}, \\dot{pr}_{1}, \\dot{pr}_{3}, qm_{1}, qm_{2}, \\dot{qm}_{1}, qr_{1}, \\ddot{qr}_{1}, \\dot{qr}_{1}, s_{2}\\right\\}$"
      ],
      "text/plain": [
       "(tau1_alg_flat.s) := {J₂, l₀, m₁, m₂, pm₁, pm₂, pm₃, pṁ₁, pṁ₃, pr₁, pr₃, pr̈₁, pr̈₃, pṙ₁, pṙ₃, \n",
       "qm₁, qm₂, qṁ₁, qr₁, qr̈₁, qṙ₁, s₂}"
      ]
     },
     "metadata": {},
     "output_type": "display_data"
    },
    {
     "data": {
      "text/plain": [
       "---"
      ]
     },
     "metadata": {},
     "output_type": "display_data"
    },
    {
     "data": {
      "image/png": "[encoded data removed]",
      "text/latex": [
       "(tau1_alg_flat.co) := $\\displaystyle 520$"
      ],
      "text/plain": [
       "(tau1_alg_flat.co) := 520"
      ]
     },
     "metadata": {},
     "output_type": "display_data"
    },
    {
     "data": {
      "text/plain": [
       "---"
      ]
     },
     "metadata": {},
     "output_type": "display_data"
    },
    {
     "data": {
      "image/png": "[encoded data removed]",
      "text/latex": [
       "(tau3_alg_flat.s) := $\\displaystyle \\left\\{J_{2}, l_{0}, m_{2}, pm_{1}, pm_{2}, pm_{3}, \\dot{pm}_{1}, \\dot{pm}_{3}, pr_{1}, pr_{3}, \\ddot{pr}_{1}, \\ddot{pr}_{3}, \\dot{pr}_{1}, \\dot{pr}_{3}, qm_{1}, qm_{2}, s_{2}\\right\\}$"
      ],
      "text/plain": [
       "(tau3_alg_flat.s) := {J₂, l₀, m₂, pm₁, pm₂, pm₃, pṁ₁, pṁ₃, pr₁, pr₃, pr̈₁, pr̈₃, pṙ₁, pṙ₃, qm₁,\n",
       " qm₂, s₂}"
      ]
     },
     "metadata": {},
     "output_type": "display_data"
    },
    {
     "data": {
      "text/plain": [
       "---"
      ]
     },
     "metadata": {},
     "output_type": "display_data"
    },
    {
     "data": {
      "image/png": "[encoded data removed]",
      "text/latex": [
       "(tau3_alg_flat.co) := $\\displaystyle 180$"
      ],
      "text/plain": [
       "(tau3_alg_flat.co) := 180"
      ]
     },
     "metadata": {},
     "output_type": "display_data"
    },
    {
     "data": {
      "text/plain": [
       "---"
      ]
     },
     "metadata": {},
     "output_type": "display_data"
    },
    {
     "data": {
      "image/png": "[encoded data removed]",
      "text/latex": [
       "(tau4_alg_flat.s) := $\\displaystyle \\left\\{J_{2}, l_{0}, m_{2}, pm_{1}, pm_{2}, pm_{3}, \\dot{pm}_{1}, \\dot{pm}_{3}, pr_{1}, pr_{3}, \\ddot{pr}_{1}, \\ddot{pr}_{3}, \\dot{pr}_{1}, \\dot{pr}_{3}, qm_{1}, qm_{2}, s_{2}\\right\\}$"
      ],
      "text/plain": [
       "(tau4_alg_flat.s) := {J₂, l₀, m₂, pm₁, pm₂, pm₃, pṁ₁, pṁ₃, pr₁, pr₃, pr̈₁, pr̈₃, pṙ₁, pṙ₃, qm₁,\n",
       " qm₂, s₂}"
      ]
     },
     "metadata": {},
     "output_type": "display_data"
    },
    {
     "data": {
      "text/plain": [
       "---"
      ]
     },
     "metadata": {},
     "output_type": "display_data"
    },
    {
     "data": {
      "image/png": "[encoded data removed]",
      "text/latex": [
       "(tau4_alg_flat.co) := $\\displaystyle 172$"
      ],
      "text/plain": [
       "(tau4_alg_flat.co) := 172"
      ]
     },
     "metadata": {},
     "output_type": "display_data"
    },
    {
     "data": {
      "text/plain": [
       "---"
      ]
     },
     "metadata": {},
     "output_type": "display_data"
    }
   ],
   "source": [
    "tau1_alg_flat.s ##:\n",
    "tau1_alg_flat.co ##:\n",
    "tau3_alg_flat.s ##:\n",
    "tau3_alg_flat.co ##:\n",
    "tau4_alg_flat.s ##:\n",
    "tau4_alg_flat.co ##:"
   ]
  },
  {
   "cell_type": "code",
   "execution_count": 77,
   "metadata": {},
   "outputs": [],
   "source": [
    "taudot3_alg = st.lie_deriv(tau3_alg, fg_ext, xx_ext, order=1)\n",
    "tauddot3_alg = st.lie_deriv(taudot3_alg, fg_ext, xx_ext, order=1)\n",
    "taudot4_alg = st.lie_deriv(tau4_alg, fg_ext, xx_ext, order=1)\n",
    "tauddot4_alg = st.lie_deriv(taudot4_alg, fg_ext, xx_ext, order=1)"
   ]
  },
  {
   "cell_type": "code",
   "execution_count": 79,
   "metadata": {
    "scrolled": true
   },
   "outputs": [
    {
     "data": {
      "image/png": "[encoded data removed]",
      "text/latex": [
       "$\\displaystyle \\left\\{J_{2}, g, l_{0}, m_{2}, p_{1}, p_{2}, p_{3}, \\ddot{p}_{1}, \\ddot{p}_{2}, \\ddot{p}_{3}, q_{1}, s_{2}\\right\\}$"
      ],
      "text/plain": [
       "{J₂, g, l₀, m₂, p₁, p₂, p₃, p̈₁, p̈₂, p̈₃, q₁, s₂}"
      ]
     },
     "execution_count": 79,
     "metadata": {},
     "output_type": "execute_result"
    }
   ],
   "source": [
    "flat_q2.s"
   ]
  },
  {
   "cell_type": "code",
   "execution_count": 80,
   "metadata": {},
   "outputs": [
    {
     "data": {
      "image/png": "[encoded data removed]",
      "text/latex": [
       "$\\displaystyle \\left\\{J_{2}, g, l_{0}, m_{1}, m_{2}, p_{1}, p_{2}, p_{3}, \\ddddot{p}_{1}, \\ddddot{p}_{2}, \\ddddot{p}_{3}, \\dddot{p}_{1}, \\dddot{p}_{2}, \\dddot{p}_{3}, \\ddot{p}_{1}, \\ddot{p}_{2}, \\ddot{p}_{3}, \\dot{p}_{1}, \\dot{p}_{2}, \\dot{p}_{3}, q_{1}, q_{2}, \\dot{q}_{1}, s_{2}, \\tau_{1}, \\tau_{3}, \\tau_{4}\\right\\}$"
      ],
      "text/plain": [
       "{J₂, g, l₀, m₁, m₂, p₁, p₂, p₃, p⃜₁, p⃜₂, p⃜₃, p⃛₁, p⃛₂, p⃛₃, p̈₁, p̈₂, p̈₃, p\n",
       "̇₁, ṗ₂, ṗ₃, q₁, q₂, q̇₁, s₂, τ₁, τ₃, τ₄}"
      ]
     },
     "execution_count": 80,
     "metadata": {},
     "output_type": "execute_result"
    }
   ],
   "source": [
    "flat_qddot2 = st.lie_deriv(flat_q2, fg_ext, xx_ext, order=2)\n",
    "flat_qddot2.s"
   ]
  },
  {
   "cell_type": "code",
   "execution_count": 81,
   "metadata": {},
   "outputs": [
    {
     "data": {
      "image/png": "[encoded data removed]",
      "text/latex": [
       "$\\displaystyle 51147$"
      ],
      "text/plain": [
       "51147"
      ]
     },
     "execution_count": 81,
     "metadata": {},
     "output_type": "execute_result"
    }
   ],
   "source": [
    "flat_qddot2.co"
   ]
  },
  {
   "cell_type": "markdown",
   "metadata": {},
   "source": [
    "flat_qddot2 is already to large and would also need a substitution of the control forces $\\tau_1, \\tau_3, \\tau_4$ to then be used in a representation of $\\tau_2$"
   ]
  },
  {
   "cell_type": "code",
   "execution_count": 82,
   "metadata": {},
   "outputs": [],
   "source": [
    "# store with pickle\n",
    "pickle_data = {\"qstat_tau1\":tau1_alg_flat, \"qstat_tau2\":qstat_tau2, \"qstat_tau3\":tau3_alg_flat, \"qstat_tau4\":tau4_alg_flat}\n",
    "\n",
    "with open(\"qstat_expr.pcl\", \"wb\") as pfile:\n",
    "    pickle.dump(pickle_data, pfile)"
   ]
  },
  {
   "cell_type": "code",
   "execution_count": null,
   "metadata": {},
   "outputs": [],
   "source": []
  },
  {
   "cell_type": "code",
   "execution_count": null,
   "metadata": {},
   "outputs": [],
   "source": []
  }
 ],
 "metadata": {
  "kernelspec": {
   "display_name": "Python 3 (ipykernel)",
   "language": "python",
   "name": "python3"
  },
  "language_info": {
   "codemirror_mode": {
    "name": "ipython",
    "version": 3
   },
   "file_extension": ".py",
   "mimetype": "text/x-python",
   "name": "python",
   "nbconvert_exporter": "python",
   "pygments_lexer": "ipython3",
   "version": "3.8.10"
  },
  "varInspector": {
   "cols": {
    "lenName": 16,
    "lenType": 16,
    "lenVar": 40
   },
   "kernels_config": {
    "python": {
     "delete_cmd_postfix": "",
     "delete_cmd_prefix": "del ",
     "library": "var_list.py",
     "varRefreshCmd": "print(var_dic_list())"
    },
    "r": {
     "delete_cmd_postfix": ") ",
     "delete_cmd_prefix": "rm(",
     "library": "var_list.r",
     "varRefreshCmd": "cat(var_dic_list()) "
    }
   },
   "position": {
    "height": "795px",
    "left": "1545px",
    "right": "20px",
    "top": "125px",
    "width": "354px"
   },
   "types_to_exclude": [
    "module",
    "function",
    "builtin_function_or_method",
    "instance",
    "_Feature"
   ],
   "window_display": true
  }
 },
 "nbformat": 4,
 "nbformat_minor": 2
}
