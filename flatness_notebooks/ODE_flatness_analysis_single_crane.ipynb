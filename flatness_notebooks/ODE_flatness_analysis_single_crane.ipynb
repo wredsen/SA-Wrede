{
 "cells": [
  {
   "cell_type": "markdown",
   "metadata": {},
   "source": [
    "### Considered model: four-bar linkage (= two link manipulator + one link manipulator + rigid coupling)\n",
    "\n",
    "\n",
    "This Notebook depends on symbtools >=0.2.5\n",
    "\n",
    "→ `pip install --upgrade symbtools`\n",
    "\n",
    "\n",
    "\n"
   ]
  },
  {
   "cell_type": "code",
   "execution_count": 1,
   "metadata": {},
   "outputs": [],
   "source": [
    "%load_ext ipydex.displaytools\n",
    "%matplotlib inline\n",
    "\n",
    "import sys\n",
    "# to load assimulo under wsl2\n",
    "sys.path.append('/home/kwrede/miniconda3/lib/python3.8/site-packages')\n",
    "sys.path.append('/home/wredi/miniconda3/lib/python3.8/site-packages')\n",
    "\n",
    "import os\n",
    "import pickle\n",
    "import sympy as sp\n",
    "import numpy as npy  # we need `np` later \n",
    "from sympy import sin, cos, pi\n",
    "from sympy.interactive import printing\n",
    "\n",
    "# using wredsen's symbtools fork (https://github.com/wredsen/symbtools @ DAE_statefeedback), assuming repos SA-Wrede and symbtools share the same parent directory\n",
    "sys.path.append('../../symbtools/')\n",
    "import symbtools as st\n",
    "import symbtools.modeltools as mt\n",
    "from symbtools.modeltools import Rz # Rotationsmatrix in the xy plane (c, -s; s, c)\n",
    "\n",
    "import scipy.integrate as sc_integrate\n",
    "from scipy.optimize import fmin\n",
    "import matplotlib.pyplot as pl\n",
    "from assimulo.solvers import ODASSL as SOLVER # Imports the solver ODASSL from Assimulo\n",
    "from assimulo.problem import Overdetermined_Problem # Imports the problem formulation from Assimulo\n",
    "import ipydex\n",
    "plt = pl\n",
    "\n",
    "printing.init_printing(1)"
   ]
  },
  {
   "cell_type": "code",
   "execution_count": 57,
   "metadata": {
    "scrolled": false
   },
   "outputs": [
    {
     "data": {
      "image/svg+xml": [
       "<svg xmlns=\"http://www.w3.org/2000/svg\" xmlns:xlink=\"http://www.w3.org/1999/xlink\" version=\"1.1\" width=\"231px\" height=\"319px\" viewBox=\"-0.5 -0.5 231 319\" content=\"&lt;mxfile host=&quot;Electron&quot; modified=&quot;2022-08-10T11:45:16.071Z&quot; agent=&quot;5.0 (Windows NT 10.0; Win64; x64) AppleWebKit/537.36 (KHTML, like Gecko) draw.io/19.0.3 Chrome/102.0.5005.63 Electron/19.0.3 Safari/537.36&quot; etag=&quot;DEsDD_v2KPQAN0W_klO-&quot; version=&quot;19.0.3&quot; type=&quot;device&quot;&gt;&lt;diagram id=&quot;B0kXoVWXYvZZ5K02NhJj&quot; name=&quot;Seite-1&quot;&gt;5VpbV6M6FP41fayLEK6P2nqqM86cWXbO0eOLi0IERkoQ6M1ffxISCuFSsVKvuKxkJ92E/X3Ze2fHARzN15PYirwf2EHBQJac9QCOBzK5JIX8oZINkwBTl5jEjX2HywrB1H9EXJgPW/gOSoSBKcZB6kei0MZhiOxUkFlxjFfisDsciE+NLBfVBFPbCurSK99JPSY1ZL2QnyHf9fInA81kPXMrH8xVJJ7l4BUTZS8HTwdwFGOcsrv5eoQCar3cLswCf7X0bicWozDt8gXnAcObi+/6OlBnF99Wi8nycTLkWpZWsOAvzCebbnILxHgROogqkQbwZOX5KZpGlk17VwR0IvPSeUBagNze+UEwwgGOs+/CO5X+UDkO05KcXUSepDG+R6UeLbtIT/318rmiOEXrkoi/7gThOUrjDRnCezXOoS33eHtVAKlwkVfCkNtRsjh13K3iwrrkhhu42dgK4ePt8hoYD8vlha1fudHPZCg/bWwUOseUtaRlB1aS+LZoXxGMVhshR2B13UIlE6gNJshlMQqs1F+Ka6HJLvwJv7BPZrIFwBABkCXpSFdFJQlexDbi3yuzd7cqUAUptWIXpTU9GU7b994fOtg3dASxeHNNG0emYeSC/zIBUPVcMF6Xx4835dYvFPvkvVD8FBuYbXZ4AQW+d9rIe9IGaDVdnXhDkLQ2pWERHZC0T3nLx/qcCyYypfvyMh6ia/PSvJewvDhT7i9laOOh2sBLEnIVdLtmNzWaEt+ZisQUfXCIQ1Rx5FxkBb4bUnYTflHSnVBP7JNQecw75r7j0Mc0BgmR/jQe8GAPlH68PYBVd691cvewB3ffiI3Wis3mq2FThUaqR2LtNaEBTf6cQuJ+NWSAKiADJfmNkVFeHmmrZrIX8TKzIfgAOZPcAshzI19Vj1LR01/C1JhSdEmYgoDs4tqYX8LTSiK2tbvz1xTHQ6wDXTQXMNXaOgANoIMe1kGj/ZqCR/sy4L6mNdusGgyt/ZQln9CEvM1zTz3vL1JP2tiUGp0TT8bVHW/Jd9FPJqjvKz8le/wjQ9IB1DVVloAGKyvWIBk8YRD5MCH53W/9ArWSUaoH2/HsgubDLODtis1hUN94BYO23Hx6S26ITml+K3+5dEMXWQ21OkqHyjcaUZLbMsGTW8BQmmQ3U/qpBRSVWUzu3DQzyNdCT9ZElwReL41vrlt0KF8+ryxTqVMa8gnMqpG1OqWjmzNJaqh43iHNtoUQa7JyzjbEKqb67BD7ZzGPOJjFdPKCtPyiGPzOYmttF18hT+f4Wa/IvGr8VJocC3MglGQDemSRs0Z7WGDmT3JelURlV/NAvRDzOUwVmRrTlo/6EK5IpO/OXVl352RUM/h6+edQzmn597cUSIE6uvIW2tmf31Z87jYerVDo5gWGHwKsHqCpBH3wikF/ev47Hv97OTyOtEfFxsBFG+uZ1XxuY8dKvG0V4bMcyQCw5/ZEJ1sgTSouIKglvVL50g7lepX772cTXVXWE/PH8jh1w6uR13jOxtxlElmhgHPuZinph0nG+mMyACjRus0HB3T9SjU3zFR3dsPdV2yMyLysWaaKMowfRRC96slAHVNdixQnfMU+w2n0sLBBpXwoK2ZtZesNZO7jiPWfG00Kf3rebBKda6c3c2t5dd7/EWslvXNUZDhKzchZqjhjqWLpZE8dlM/1BrvP9Lp6jg7lEv0tPcw20WpLvDpncCbxMbJZXIagFx6uINJIrd6PgF9CLYFYBc8+ObWMavFgX2bpVSrBV6VS0xnH01sDToOWsBQVxaSPvDXoIygZTwelQ6WbjXA3FQJfDven2An2koNUvAI82O6CNIv/12POoPi3R3j6Pw==&lt;/diagram&gt;&lt;/mxfile&gt;\" style=\"background-color: rgb(255, 255, 255);\"><defs><style xmlns=\"http://www.w3.org/1999/xhtml\" type=\"text/css\">div.MathJax_SVG_Display { position: static; }\n",
       "span.MathJax_SVG { position: static !important; }</style><style xmlns=\"http://www.w3.org/1999/xhtml\" type=\"text/css\">.MathJax_Hover_Frame {border-radius: .25em; -webkit-border-radius: .25em; -moz-border-radius: .25em; -khtml-border-radius: .25em; box-shadow: 0px 0px 15px #83A; -webkit-box-shadow: 0px 0px 15px #83A; -moz-box-shadow: 0px 0px 15px #83A; -khtml-box-shadow: 0px 0px 15px #83A; border: 1px solid #A6D ! important; display: inline-block; position: absolute}\n",
       ".MathJax_Menu_Button .MathJax_Hover_Arrow {position: absolute; cursor: pointer; display: inline-block; border: 2px solid #AAA; border-radius: 4px; -webkit-border-radius: 4px; -moz-border-radius: 4px; -khtml-border-radius: 4px; font-family: 'Courier New',Courier; font-size: 9px; color: #F0F0F0}\n",
       ".MathJax_Menu_Button .MathJax_Hover_Arrow span {display: block; background-color: #AAA; border: 1px solid; border-radius: 3px; line-height: 0; padding: 4px}\n",
       ".MathJax_Hover_Arrow:hover {color: white!important; border: 2px solid #CCC!important}\n",
       ".MathJax_Hover_Arrow:hover span {background-color: #CCC!important}\n",
       "</style><style xmlns=\"http://www.w3.org/1999/xhtml\" type=\"text/css\">#MathJax_About {position: fixed; left: 50%; width: auto; text-align: center; border: 3px outset; padding: 1em 2em; background-color: #DDDDDD; color: black; cursor: default; font-family: message-box; font-size: 120%; font-style: normal; text-indent: 0; text-transform: none; line-height: normal; letter-spacing: normal; word-spacing: normal; word-wrap: normal; white-space: nowrap; float: none; z-index: 201; border-radius: 15px; -webkit-border-radius: 15px; -moz-border-radius: 15px; -khtml-border-radius: 15px; box-shadow: 0px 10px 20px #808080; -webkit-box-shadow: 0px 10px 20px #808080; -moz-box-shadow: 0px 10px 20px #808080; -khtml-box-shadow: 0px 10px 20px #808080; filter: progid:DXImageTransform.Microsoft.dropshadow(OffX=2, OffY=2, Color='gray', Positive='true')}\n",
       "#MathJax_About.MathJax_MousePost {outline: none}\n",
       ".MathJax_Menu {position: absolute; background-color: white; color: black; width: auto; padding: 2px; border: 1px solid #CCCCCC; margin: 0; cursor: default; font: menu; text-align: left; text-indent: 0; text-transform: none; line-height: normal; letter-spacing: normal; word-spacing: normal; word-wrap: normal; white-space: nowrap; float: none; z-index: 201; box-shadow: 0px 10px 20px #808080; -webkit-box-shadow: 0px 10px 20px #808080; -moz-box-shadow: 0px 10px 20px #808080; -khtml-box-shadow: 0px 10px 20px #808080; filter: progid:DXImageTransform.Microsoft.dropshadow(OffX=2, OffY=2, Color='gray', Positive='true')}\n",
       ".MathJax_MenuItem {padding: 2px 2em; background: transparent}\n",
       ".MathJax_MenuArrow {position: absolute; right: .5em; padding-top: .25em; color: #666666; font-size: .75em}\n",
       ".MathJax_MenuActive .MathJax_MenuArrow {color: white}\n",
       ".MathJax_MenuArrow.RTL {left: .5em; right: auto}\n",
       ".MathJax_MenuCheck {position: absolute; left: .7em}\n",
       ".MathJax_MenuCheck.RTL {right: .7em; left: auto}\n",
       ".MathJax_MenuRadioCheck {position: absolute; left: 1em}\n",
       ".MathJax_MenuRadioCheck.RTL {right: 1em; left: auto}\n",
       ".MathJax_MenuLabel {padding: 2px 2em 4px 1.33em; font-style: italic}\n",
       ".MathJax_MenuRule {border-top: 1px solid #CCCCCC; margin: 4px 1px 0px}\n",
       ".MathJax_MenuDisabled {color: GrayText}\n",
       ".MathJax_MenuActive {background-color: Highlight; color: HighlightText}\n",
       ".MathJax_MenuDisabled:focus, .MathJax_MenuLabel:focus {background-color: #E8E8E8}\n",
       ".MathJax_ContextMenu:focus {outline: none}\n",
       ".MathJax_ContextMenu .MathJax_MenuItem:focus {outline: none}\n",
       "#MathJax_AboutClose {top: .2em; right: .2em}\n",
       ".MathJax_Menu .MathJax_MenuClose {top: -10px; left: -10px}\n",
       ".MathJax_MenuClose {position: absolute; cursor: pointer; display: inline-block; border: 2px solid #AAA; border-radius: 18px; -webkit-border-radius: 18px; -moz-border-radius: 18px; -khtml-border-radius: 18px; font-family: 'Courier New',Courier; font-size: 24px; color: #F0F0F0}\n",
       ".MathJax_MenuClose span {display: block; background-color: #AAA; border: 1.5px solid; border-radius: 18px; -webkit-border-radius: 18px; -moz-border-radius: 18px; -khtml-border-radius: 18px; line-height: 0; padding: 8px 0 6px}\n",
       ".MathJax_MenuClose:hover {color: white!important; border: 2px solid #CCC!important}\n",
       ".MathJax_MenuClose:hover span {background-color: #CCC!important}\n",
       ".MathJax_MenuClose:hover:focus {outline: none}\n",
       "</style><style xmlns=\"http://www.w3.org/1999/xhtml\" type=\"text/css\">.MathJax_Preview .MJXf-math {color: inherit!important}\n",
       "</style><style xmlns=\"http://www.w3.org/1999/xhtml\" type=\"text/css\">#MathJax_Zoom {position: absolute; background-color: #F0F0F0; overflow: auto; display: block; z-index: 301; padding: .5em; border: 1px solid black; margin: 0; font-weight: normal; font-style: normal; text-align: left; text-indent: 0; text-transform: none; line-height: normal; letter-spacing: normal; word-spacing: normal; word-wrap: normal; white-space: nowrap; float: none; -webkit-box-sizing: content-box; -moz-box-sizing: content-box; box-sizing: content-box; box-shadow: 5px 5px 15px #AAAAAA; -webkit-box-shadow: 5px 5px 15px #AAAAAA; -moz-box-shadow: 5px 5px 15px #AAAAAA; -khtml-box-shadow: 5px 5px 15px #AAAAAA; filter: progid:DXImageTransform.Microsoft.dropshadow(OffX=2, OffY=2, Color='gray', Positive='true')}\n",
       "#MathJax_ZoomOverlay {position: absolute; left: 0; top: 0; z-index: 300; display: inline-block; width: 100%; height: 100%; border: 0; padding: 0; margin: 0; background-color: white; opacity: 0; filter: alpha(opacity=0)}\n",
       "#MathJax_ZoomFrame {position: relative; display: inline-block; height: 0; width: 0}\n",
       "#MathJax_ZoomEventTrap {position: absolute; left: 0; top: 0; z-index: 302; display: inline-block; border: 0; padding: 0; margin: 0; background-color: white; opacity: 0; filter: alpha(opacity=0)}\n",
       "</style><style xmlns=\"http://www.w3.org/1999/xhtml\" type=\"text/css\">.MathJax_Preview {color: #888; display: contents}\n",
       "#MathJax_Message {position: fixed; left: 1px; bottom: 2px; background-color: #E6E6E6; border: 1px solid #959595; margin: 0px; padding: 2px 8px; z-index: 102; color: black; font-size: 80%; width: auto; white-space: nowrap}\n",
       "#MathJax_MSIE_Frame {position: absolute; top: 0; left: 0; width: 0px; z-index: 101; border: 0px; margin: 0px; padding: 0px}\n",
       ".MathJax_Error {color: #CC0000; font-style: italic}\n",
       "</style><style xmlns=\"http://www.w3.org/1999/xhtml\" type=\"text/css\">.MJXp-script {font-size: .8em}\n",
       ".MJXp-right {-webkit-transform-origin: right; -moz-transform-origin: right; -ms-transform-origin: right; -o-transform-origin: right; transform-origin: right}\n",
       ".MJXp-bold {font-weight: bold}\n",
       ".MJXp-italic {font-style: italic}\n",
       ".MJXp-scr {font-family: MathJax_Script,'Times New Roman',Times,STIXGeneral,serif}\n",
       ".MJXp-frak {font-family: MathJax_Fraktur,'Times New Roman',Times,STIXGeneral,serif}\n",
       ".MJXp-sf {font-family: MathJax_SansSerif,'Times New Roman',Times,STIXGeneral,serif}\n",
       ".MJXp-cal {font-family: MathJax_Caligraphic,'Times New Roman',Times,STIXGeneral,serif}\n",
       ".MJXp-mono {font-family: MathJax_Typewriter,'Times New Roman',Times,STIXGeneral,serif}\n",
       ".MJXp-largeop {font-size: 150%}\n",
       ".MJXp-largeop.MJXp-int {vertical-align: -.2em}\n",
       ".MJXp-math {display: inline-block; line-height: 1.2; text-indent: 0; font-family: 'Times New Roman',Times,STIXGeneral,serif; white-space: nowrap; border-collapse: collapse}\n",
       ".MJXp-display {display: block; text-align: center; margin: 1em 0}\n",
       ".MJXp-math span {display: inline-block}\n",
       ".MJXp-box {display: block!important; text-align: center}\n",
       ".MJXp-box:after {content: &quot; &quot;}\n",
       ".MJXp-rule {display: block!important; margin-top: .1em}\n",
       ".MJXp-char {display: block!important}\n",
       ".MJXp-mo {margin: 0 .15em}\n",
       ".MJXp-mfrac {margin: 0 .125em; vertical-align: .25em}\n",
       ".MJXp-denom {display: inline-table!important; width: 100%}\n",
       ".MJXp-denom &gt; * {display: table-row!important}\n",
       ".MJXp-surd {vertical-align: top}\n",
       ".MJXp-surd &gt; * {display: block!important}\n",
       ".MJXp-script-box &gt; *  {display: table!important; height: 50%}\n",
       ".MJXp-script-box &gt; * &gt; * {display: table-cell!important; vertical-align: top}\n",
       ".MJXp-script-box &gt; *:last-child &gt; * {vertical-align: bottom}\n",
       ".MJXp-script-box &gt; * &gt; * &gt; * {display: block!important}\n",
       ".MJXp-mphantom {visibility: hidden}\n",
       ".MJXp-munderover, .MJXp-munder {display: inline-table!important}\n",
       ".MJXp-over {display: inline-block!important; text-align: center}\n",
       ".MJXp-over &gt; * {display: block!important}\n",
       ".MJXp-munderover &gt; *, .MJXp-munder &gt; * {display: table-row!important}\n",
       ".MJXp-mtable {vertical-align: .25em; margin: 0 .125em}\n",
       ".MJXp-mtable &gt; * {display: inline-table!important; vertical-align: middle}\n",
       ".MJXp-mtr {display: table-row!important}\n",
       ".MJXp-mtd {display: table-cell!important; text-align: center; padding: .5em 0 0 .5em}\n",
       ".MJXp-mtr &gt; .MJXp-mtd:first-child {padding-left: 0}\n",
       ".MJXp-mtr:first-child &gt; .MJXp-mtd {padding-top: 0}\n",
       ".MJXp-mlabeledtr {display: table-row!important}\n",
       ".MJXp-mlabeledtr &gt; .MJXp-mtd:first-child {padding-left: 0}\n",
       ".MJXp-mlabeledtr:first-child &gt; .MJXp-mtd {padding-top: 0}\n",
       ".MJXp-merror {background-color: #FFFF88; color: #CC0000; border: 1px solid #CC0000; padding: 1px 3px; font-style: normal; font-size: 90%}\n",
       ".MJXp-scale0 {-webkit-transform: scaleX(.0); -moz-transform: scaleX(.0); -ms-transform: scaleX(.0); -o-transform: scaleX(.0); transform: scaleX(.0)}\n",
       ".MJXp-scale1 {-webkit-transform: scaleX(.1); -moz-transform: scaleX(.1); -ms-transform: scaleX(.1); -o-transform: scaleX(.1); transform: scaleX(.1)}\n",
       ".MJXp-scale2 {-webkit-transform: scaleX(.2); -moz-transform: scaleX(.2); -ms-transform: scaleX(.2); -o-transform: scaleX(.2); transform: scaleX(.2)}\n",
       ".MJXp-scale3 {-webkit-transform: scaleX(.3); -moz-transform: scaleX(.3); -ms-transform: scaleX(.3); -o-transform: scaleX(.3); transform: scaleX(.3)}\n",
       ".MJXp-scale4 {-webkit-transform: scaleX(.4); -moz-transform: scaleX(.4); -ms-transform: scaleX(.4); -o-transform: scaleX(.4); transform: scaleX(.4)}\n",
       ".MJXp-scale5 {-webkit-transform: scaleX(.5); -moz-transform: scaleX(.5); -ms-transform: scaleX(.5); -o-transform: scaleX(.5); transform: scaleX(.5)}\n",
       ".MJXp-scale6 {-webkit-transform: scaleX(.6); -moz-transform: scaleX(.6); -ms-transform: scaleX(.6); -o-transform: scaleX(.6); transform: scaleX(.6)}\n",
       ".MJXp-scale7 {-webkit-transform: scaleX(.7); -moz-transform: scaleX(.7); -ms-transform: scaleX(.7); -o-transform: scaleX(.7); transform: scaleX(.7)}\n",
       ".MJXp-scale8 {-webkit-transform: scaleX(.8); -moz-transform: scaleX(.8); -ms-transform: scaleX(.8); -o-transform: scaleX(.8); transform: scaleX(.8)}\n",
       ".MJXp-scale9 {-webkit-transform: scaleX(.9); -moz-transform: scaleX(.9); -ms-transform: scaleX(.9); -o-transform: scaleX(.9); transform: scaleX(.9)}\n",
       ".MathJax_PHTML .noError {vertical-align: ; font-size: 90%; text-align: left; color: black; padding: 1px 3px; border: 1px solid}\n",
       "</style><style xmlns=\"http://www.w3.org/1999/xhtml\" type=\"text/css\">.MathJax_SVG_Display {text-align: center; margin: 1em 0em; position: relative; display: block!important; text-indent: 0; max-width: none; max-height: none; min-width: 0; min-height: 0; width: 100%}\n",
       ".MathJax_SVG .MJX-monospace {font-family: monospace}\n",
       ".MathJax_SVG .MJX-sans-serif {font-family: sans-serif}\n",
       "#MathJax_SVG_Tooltip {background-color: InfoBackground; color: InfoText; border: 1px solid black; box-shadow: 2px 2px 5px #AAAAAA; -webkit-box-shadow: 2px 2px 5px #AAAAAA; -moz-box-shadow: 2px 2px 5px #AAAAAA; -khtml-box-shadow: 2px 2px 5px #AAAAAA; padding: 3px 4px; z-index: 401; position: absolute; left: 0; top: 0; width: auto; height: auto; display: none}\n",
       ".MathJax_SVG {display: inline; font-style: normal; font-weight: normal; line-height: normal; font-size: 100%; font-size-adjust: none; text-indent: 0; text-align: left; text-transform: none; letter-spacing: normal; word-spacing: normal; word-wrap: normal; white-space: nowrap; float: none; direction: ltr; max-width: none; max-height: none; min-width: 0; min-height: 0; border: 0; padding: 0; margin: 0}\n",
       ".MathJax_SVG * {transition: none; -webkit-transition: none; -moz-transition: none; -ms-transition: none; -o-transition: none}\n",
       ".MathJax_SVG &gt; div {display: inline-block}\n",
       ".mjx-svg-href {fill: blue; stroke: blue}\n",
       ".MathJax_SVG_Processing {visibility: hidden; position: absolute; top: 0; left: 0; width: 0; height: 0; overflow: hidden; display: block!important}\n",
       ".MathJax_SVG_Processed {display: none!important}\n",
       ".MathJax_SVG_test {font-style: normal; font-weight: normal; font-size: 100%; font-size-adjust: none; text-indent: 0; text-transform: none; letter-spacing: normal; word-spacing: normal; overflow: hidden; height: 1px}\n",
       ".MathJax_SVG_test.mjx-test-display {display: table!important}\n",
       ".MathJax_SVG_test.mjx-test-inline {display: inline!important; margin-right: -1px}\n",
       ".MathJax_SVG_test.mjx-test-default {display: block!important; clear: both}\n",
       ".MathJax_SVG_ex_box {display: inline-block!important; position: absolute; overflow: hidden; min-height: 0; max-height: none; padding: 0; border: 0; margin: 0; width: 1px; height: 60ex}\n",
       ".mjx-test-inline .MathJax_SVG_left_box {display: inline-block; width: 0; float: left}\n",
       ".mjx-test-inline .MathJax_SVG_right_box {display: inline-block; width: 0; float: right}\n",
       ".mjx-test-display .MathJax_SVG_right_box {display: table-cell!important; width: 10000em!important; min-width: 0; max-width: none; padding: 0; border: 0; margin: 0}\n",
       ".MathJax_SVG .noError {vertical-align: ; font-size: 90%; text-align: left; color: black; padding: 1px 3px; border: 1px solid}\n",
       "</style></defs><g><rect x=\"45\" y=\"111\" width=\"40\" height=\"20\" fill=\"#f5f5f5\" stroke=\"#666666\" pointer-events=\"all\"/><path d=\"M 65 121.75 L 65 47.37\" fill=\"none\" stroke=\"rgb(0, 0, 0)\" stroke-miterlimit=\"10\" pointer-events=\"stroke\"/><path d=\"M 65 42.12 L 68.5 49.12 L 65 47.37 L 61.5 49.12 Z\" fill=\"rgb(0, 0, 0)\" stroke=\"rgb(0, 0, 0)\" stroke-miterlimit=\"10\" pointer-events=\"all\"/><path d=\"M 65 121.25 L 105 121.25 L 122.91 121.59\" fill=\"none\" stroke=\"rgb(0, 0, 0)\" stroke-miterlimit=\"10\" pointer-events=\"stroke\"/><path d=\"M 128.16 121.69 L 121.1 125.06 L 122.91 121.59 L 121.23 118.06 Z\" fill=\"rgb(0, 0, 0)\" stroke=\"rgb(0, 0, 0)\" stroke-miterlimit=\"10\" pointer-events=\"all\"/><rect x=\"115\" y=\"117\" width=\"40\" height=\"30\" fill=\"none\" stroke=\"none\" pointer-events=\"all\"/><g transform=\"translate(-0.5 -0.5)\"><switch><foreignObject pointer-events=\"none\" width=\"100%\" height=\"100%\" requiredFeatures=\"http://www.w3.org/TR/SVG11/feature#Extensibility\" style=\"overflow: visible; text-align: left;\"><div xmlns=\"http://www.w3.org/1999/xhtml\" style=\"display: flex; align-items: unsafe center; justify-content: unsafe center; width: 38px; height: 1px; padding-top: 132px; margin-left: 116px;\"><div data-drawio-colors=\"color: rgb(0, 0, 0); \" style=\"box-sizing: border-box; font-size: 0px; text-align: center;\"><div style=\"display: inline-block; font-size: 14px; font-family: Helvetica; color: rgb(0, 0, 0); line-height: 1.2; pointer-events: all; white-space: normal; overflow-wrap: normal;\"><span class=\"MathJax_Preview\" style=\"color: inherit;\"/><div class=\"MathJax_SVG_Display\" style=\"text-align: center;\"><span class=\"MathJax_SVG\" id=\"MathJax-Element-20-Frame\" tabindex=\"0\" data-mathml=\"&lt;math xmlns=&quot;http://www.w3.org/1998/Math/MathML&quot; display=&quot;block&quot;&gt;&lt;msub&gt;&lt;mi&gt;e&lt;/mi&gt;&lt;mi&gt;x&lt;/mi&gt;&lt;/msub&gt;&lt;/math&gt;\" role=\"presentation\" style=\"font-size: 100%; display: inline-block; position: relative;\"><svg xmlns=\"http://www.w3.org/2000/svg\" xmlns:xlink=\"http://www.w3.org/1999/xlink\" width=\"2.256ex\" height=\"1.798ex\" viewBox=\"0 -535.3 971.3 774.3\" role=\"img\" focusable=\"false\" style=\"vertical-align: -0.555ex;\" aria-hidden=\"true\"><g stroke=\"currentColor\" fill=\"currentColor\" stroke-width=\"0\" transform=\"matrix(1 0 0 -1 0 0)\"><path stroke-width=\"1\" d=\"M39 168Q39 225 58 272T107 350T174 402T244 433T307 442H310Q355 442 388 420T421 355Q421 265 310 237Q261 224 176 223Q139 223 138 221Q138 219 132 186T125 128Q125 81 146 54T209 26T302 45T394 111Q403 121 406 121Q410 121 419 112T429 98T420 82T390 55T344 24T281 -1T205 -11Q126 -11 83 42T39 168ZM373 353Q367 405 305 405Q272 405 244 391T199 357T170 316T154 280T149 261Q149 260 169 260Q282 260 327 284T373 353Z\"/><g transform=\"translate(466,-150)\"><path stroke-width=\"1\" transform=\"scale(0.707)\" d=\"M52 289Q59 331 106 386T222 442Q257 442 286 424T329 379Q371 442 430 442Q467 442 494 420T522 361Q522 332 508 314T481 292T458 288Q439 288 427 299T415 328Q415 374 465 391Q454 404 425 404Q412 404 406 402Q368 386 350 336Q290 115 290 78Q290 50 306 38T341 26Q378 26 414 59T463 140Q466 150 469 151T485 153H489Q504 153 504 145Q504 144 502 134Q486 77 440 33T333 -11Q263 -11 227 52Q186 -10 133 -10H127Q78 -10 57 16T35 71Q35 103 54 123T99 143Q142 143 142 101Q142 81 130 66T107 46T94 41L91 40Q91 39 97 36T113 29T132 26Q168 26 194 71Q203 87 217 139T245 247T261 313Q266 340 266 352Q266 380 251 392T217 404Q177 404 142 372T93 290Q91 281 88 280T72 278H58Q52 284 52 289Z\"/></g></g></svg><span class=\"MJX_Assistive_MathML MJX_Assistive_MathML_Block\" role=\"presentation\"/></span></div><script type=\"math/tex; mode=display\" id=\"MathJax-Element-20\">e_x</script></div></div></div></foreignObject><text x=\"135\" y=\"136\" fill=\"rgb(0, 0, 0)\" font-family=\"Helvetica\" font-size=\"14px\" text-anchor=\"middle\">\n",
       "e_x</text></switch></g><rect x=\"15\" y=\"21\" width=\"60\" height=\"30\" fill=\"none\" stroke=\"none\" pointer-events=\"all\"/><g transform=\"translate(-0.5 -0.5)\"><switch><foreignObject pointer-events=\"none\" width=\"100%\" height=\"100%\" requiredFeatures=\"http://www.w3.org/TR/SVG11/feature#Extensibility\" style=\"overflow: visible; text-align: left;\"><div xmlns=\"http://www.w3.org/1999/xhtml\" style=\"display: flex; align-items: unsafe center; justify-content: unsafe center; width: 58px; height: 1px; padding-top: 36px; margin-left: 16px;\"><div data-drawio-colors=\"color: rgb(0, 0, 0); \" style=\"box-sizing: border-box; font-size: 0px; text-align: center;\"><div style=\"display: inline-block; font-size: 14px; font-family: Helvetica; color: rgb(0, 0, 0); line-height: 1.2; pointer-events: all; white-space: normal; overflow-wrap: normal;\"><span class=\"MathJax_Preview\" style=\"color: inherit;\"/><div class=\"MathJax_SVG_Display\" style=\"text-align: center;\"><span class=\"MathJax_SVG\" id=\"MathJax-Element-21-Frame\" tabindex=\"0\" data-mathml=\"&lt;math xmlns=&quot;http://www.w3.org/1998/Math/MathML&quot; display=&quot;block&quot;&gt;&lt;msub&gt;&lt;mi&gt;e&lt;/mi&gt;&lt;mi&gt;y&lt;/mi&gt;&lt;/msub&gt;&lt;/math&gt;\" role=\"presentation\" style=\"font-size: 100%; display: inline-block; position: relative;\"><svg xmlns=\"http://www.w3.org/2000/svg\" xmlns:xlink=\"http://www.w3.org/1999/xlink\" width=\"2.133ex\" height=\"2.074ex\" viewBox=\"0 -535.3 918.3 892.8\" role=\"img\" focusable=\"false\" style=\"vertical-align: -0.83ex;\" aria-hidden=\"true\"><g stroke=\"currentColor\" fill=\"currentColor\" stroke-width=\"0\" transform=\"matrix(1 0 0 -1 0 0)\"><path stroke-width=\"1\" d=\"M39 168Q39 225 58 272T107 350T174 402T244 433T307 442H310Q355 442 388 420T421 355Q421 265 310 237Q261 224 176 223Q139 223 138 221Q138 219 132 186T125 128Q125 81 146 54T209 26T302 45T394 111Q403 121 406 121Q410 121 419 112T429 98T420 82T390 55T344 24T281 -1T205 -11Q126 -11 83 42T39 168ZM373 353Q367 405 305 405Q272 405 244 391T199 357T170 316T154 280T149 261Q149 260 169 260Q282 260 327 284T373 353Z\"/><g transform=\"translate(466,-150)\"><path stroke-width=\"1\" transform=\"scale(0.707)\" d=\"M21 287Q21 301 36 335T84 406T158 442Q199 442 224 419T250 355Q248 336 247 334Q247 331 231 288T198 191T182 105Q182 62 196 45T238 27Q261 27 281 38T312 61T339 94Q339 95 344 114T358 173T377 247Q415 397 419 404Q432 431 462 431Q475 431 483 424T494 412T496 403Q496 390 447 193T391 -23Q363 -106 294 -155T156 -205Q111 -205 77 -183T43 -117Q43 -95 50 -80T69 -58T89 -48T106 -45Q150 -45 150 -87Q150 -107 138 -122T115 -142T102 -147L99 -148Q101 -153 118 -160T152 -167H160Q177 -167 186 -165Q219 -156 247 -127T290 -65T313 -9T321 21L315 17Q309 13 296 6T270 -6Q250 -11 231 -11Q185 -11 150 11T104 82Q103 89 103 113Q103 170 138 262T173 379Q173 380 173 381Q173 390 173 393T169 400T158 404H154Q131 404 112 385T82 344T65 302T57 280Q55 278 41 278H27Q21 284 21 287Z\"/></g></g></svg><span class=\"MJX_Assistive_MathML MJX_Assistive_MathML_Block\" role=\"presentation\"/></span></div><script type=\"math/tex; mode=display\" id=\"MathJax-Element-21\">e_y</script></div></div></div></foreignObject><text x=\"45\" y=\"40\" fill=\"rgb(0, 0, 0)\" font-family=\"Helvetica\" font-size=\"14px\" text-anchor=\"middle\">\n",
       "e_y</text></switch></g><rect x=\"0\" y=\"223\" width=\"60\" height=\"30\" fill=\"none\" stroke=\"none\" pointer-events=\"all\"/><g transform=\"translate(-0.5 -0.5)\"><switch><foreignObject pointer-events=\"none\" width=\"100%\" height=\"100%\" requiredFeatures=\"http://www.w3.org/TR/SVG11/feature#Extensibility\" style=\"overflow: visible; text-align: left;\"><div xmlns=\"http://www.w3.org/1999/xhtml\" style=\"display: flex; align-items: unsafe center; justify-content: unsafe center; width: 58px; height: 1px; padding-top: 238px; margin-left: 1px;\"><div data-drawio-colors=\"color: rgb(0, 0, 0); \" style=\"box-sizing: border-box; font-size: 0px; text-align: center;\"><div style=\"display: inline-block; font-size: 14px; font-family: Helvetica; color: rgb(0, 0, 0); line-height: 1.2; pointer-events: all; white-space: normal; overflow-wrap: normal;\"><span class=\"MathJax_Preview\" style=\"color: inherit;\"/><div class=\"MathJax_SVG_Display\" style=\"text-align: center;\"><span class=\"MathJax_SVG\" id=\"MathJax-Element-22-Frame\" tabindex=\"0\" data-mathml=\"&lt;math xmlns=&quot;http://www.w3.org/1998/Math/MathML&quot; display=&quot;block&quot;&gt;&lt;mi&gt;g&lt;/mi&gt;&lt;/math&gt;\" role=\"presentation\" style=\"font-size: 100%; display: inline-block; position: relative;\"><svg xmlns=\"http://www.w3.org/2000/svg\" xmlns:xlink=\"http://www.w3.org/1999/xlink\" width=\"1.116ex\" height=\"1.936ex\" viewBox=\"0 -535.3 480.5 833.5\" role=\"img\" focusable=\"false\" style=\"vertical-align: -0.693ex;\" aria-hidden=\"true\"><g stroke=\"currentColor\" fill=\"currentColor\" stroke-width=\"0\" transform=\"matrix(1 0 0 -1 0 0)\"><path stroke-width=\"1\" d=\"M311 43Q296 30 267 15T206 0Q143 0 105 45T66 160Q66 265 143 353T314 442Q361 442 401 394L404 398Q406 401 409 404T418 412T431 419T447 422Q461 422 470 413T480 394Q480 379 423 152T363 -80Q345 -134 286 -169T151 -205Q10 -205 10 -137Q10 -111 28 -91T74 -71Q89 -71 102 -80T116 -111Q116 -121 114 -130T107 -144T99 -154T92 -162L90 -164H91Q101 -167 151 -167Q189 -167 211 -155Q234 -144 254 -122T282 -75Q288 -56 298 -13Q311 35 311 43ZM384 328L380 339Q377 350 375 354T369 368T359 382T346 393T328 402T306 405Q262 405 221 352Q191 313 171 233T151 117Q151 38 213 38Q269 38 323 108L331 118L384 328Z\"/></g></svg><span class=\"MJX_Assistive_MathML MJX_Assistive_MathML_Block\" role=\"presentation\"/></span></div><script type=\"math/tex; mode=display\" id=\"MathJax-Element-22\">g</script></div></div></div></foreignObject><text x=\"30\" y=\"242\" fill=\"rgb(0, 0, 0)\" font-family=\"Helvetica\" font-size=\"14px\" text-anchor=\"middle\">\n",
       "g</text></switch></g><path d=\"M 10 223 Q 10 223 10 256.63\" fill=\"none\" stroke=\"rgb(0, 0, 0)\" stroke-miterlimit=\"10\" pointer-events=\"stroke\"/><path d=\"M 10 261.88 L 6.5 254.88 L 10 256.63 L 13.5 254.88 Z\" fill=\"rgb(0, 0, 0)\" stroke=\"rgb(0, 0, 0)\" stroke-miterlimit=\"10\" pointer-events=\"all\"/><ellipse cx=\"65\" cy=\"121\" rx=\"5\" ry=\"5\" fill=\"rgb(255, 255, 255)\" stroke=\"rgb(0, 0, 0)\" pointer-events=\"all\"/><path d=\"M 183.93 277.74 L 68.02 124.99\" fill=\"none\" stroke=\"rgb(0, 0, 0)\" stroke-miterlimit=\"10\" pointer-events=\"stroke\"/><ellipse cx=\"185\" cy=\"281\" rx=\"5\" ry=\"5\" fill=\"rgb(255, 255, 255)\" stroke=\"rgb(0, 0, 0)\" pointer-events=\"all\"/><rect x=\"155\" y=\"286\" width=\"60\" height=\"30\" fill=\"none\" stroke=\"none\" pointer-events=\"all\"/><g transform=\"translate(-0.5 -0.5)\"><switch><foreignObject pointer-events=\"none\" width=\"100%\" height=\"100%\" requiredFeatures=\"http://www.w3.org/TR/SVG11/feature#Extensibility\" style=\"overflow: visible; text-align: left;\"><div xmlns=\"http://www.w3.org/1999/xhtml\" style=\"display: flex; align-items: unsafe center; justify-content: unsafe center; width: 58px; height: 1px; padding-top: 301px; margin-left: 156px;\"><div data-drawio-colors=\"color: rgb(0, 0, 0); \" style=\"box-sizing: border-box; font-size: 0px; text-align: center;\"><div style=\"display: inline-block; font-size: 14px; font-family: Helvetica; color: rgb(0, 0, 0); line-height: 1.2; pointer-events: all; white-space: normal; overflow-wrap: normal;\"><span class=\"MathJax_Preview\" style=\"color: inherit;\"/><div class=\"MathJax_SVG_Display\" style=\"text-align: center;\"><span class=\"MathJax_SVG\" id=\"MathJax-Element-23-Frame\" tabindex=\"0\" data-mathml=\"&lt;math xmlns=&quot;http://www.w3.org/1998/Math/MathML&quot; display=&quot;block&quot;&gt;&lt;msub&gt;&lt;mi&gt;S&lt;/mi&gt;&lt;mn&gt;2&lt;/mn&gt;&lt;/msub&gt;&lt;mo&gt;,&lt;/mo&gt;&lt;msub&gt;&lt;mi&gt;m&lt;/mi&gt;&lt;mn&gt;2&lt;/mn&gt;&lt;/msub&gt;&lt;/math&gt;\" role=\"presentation\" style=\"font-size: 100%; display: inline-block; position: relative;\"><svg xmlns=\"http://www.w3.org/2000/svg\" xmlns:xlink=\"http://www.w3.org/1999/xlink\" width=\"6.608ex\" height=\"2.486ex\" viewBox=\"0 -772.3 2845 1070.5\" role=\"img\" focusable=\"false\" style=\"vertical-align: -0.693ex;\" aria-hidden=\"true\"><g stroke=\"currentColor\" fill=\"currentColor\" stroke-width=\"0\" transform=\"matrix(1 0 0 -1 0 0)\"><path stroke-width=\"1\" d=\"M308 24Q367 24 416 76T466 197Q466 260 414 284Q308 311 278 321T236 341Q176 383 176 462Q176 523 208 573T273 648Q302 673 343 688T407 704H418H425Q521 704 564 640Q565 640 577 653T603 682T623 704Q624 704 627 704T632 705Q645 705 645 698T617 577T585 459T569 456Q549 456 549 465Q549 471 550 475Q550 478 551 494T553 520Q553 554 544 579T526 616T501 641Q465 662 419 662Q362 662 313 616T263 510Q263 480 278 458T319 427Q323 425 389 408T456 390Q490 379 522 342T554 242Q554 216 546 186Q541 164 528 137T492 78T426 18T332 -20Q320 -22 298 -22Q199 -22 144 33L134 44L106 13Q83 -14 78 -18T65 -22Q52 -22 52 -14Q52 -11 110 221Q112 227 130 227H143Q149 221 149 216Q149 214 148 207T144 186T142 153Q144 114 160 87T203 47T255 29T308 24Z\"/><g transform=\"translate(613,-150)\"><path stroke-width=\"1\" transform=\"scale(0.707)\" d=\"M109 429Q82 429 66 447T50 491Q50 562 103 614T235 666Q326 666 387 610T449 465Q449 422 429 383T381 315T301 241Q265 210 201 149L142 93L218 92Q375 92 385 97Q392 99 409 186V189H449V186Q448 183 436 95T421 3V0H50V19V31Q50 38 56 46T86 81Q115 113 136 137Q145 147 170 174T204 211T233 244T261 278T284 308T305 340T320 369T333 401T340 431T343 464Q343 527 309 573T212 619Q179 619 154 602T119 569T109 550Q109 549 114 549Q132 549 151 535T170 489Q170 464 154 447T109 429Z\"/></g><g transform=\"translate(1067,0)\"><path stroke-width=\"1\" d=\"M78 35T78 60T94 103T137 121Q165 121 187 96T210 8Q210 -27 201 -60T180 -117T154 -158T130 -185T117 -194Q113 -194 104 -185T95 -172Q95 -168 106 -156T131 -126T157 -76T173 -3V9L172 8Q170 7 167 6T161 3T152 1T140 0Q113 0 96 17Z\"/></g><g transform=\"translate(1512,0)\"><path stroke-width=\"1\" d=\"M21 287Q22 293 24 303T36 341T56 388T88 425T132 442T175 435T205 417T221 395T229 376L231 369Q231 367 232 367L243 378Q303 442 384 442Q401 442 415 440T441 433T460 423T475 411T485 398T493 385T497 373T500 364T502 357L510 367Q573 442 659 442Q713 442 746 415T780 336Q780 285 742 178T704 50Q705 36 709 31T724 26Q752 26 776 56T815 138Q818 149 821 151T837 153Q857 153 857 145Q857 144 853 130Q845 101 831 73T785 17T716 -10Q669 -10 648 17T627 73Q627 92 663 193T700 345Q700 404 656 404H651Q565 404 506 303L499 291L466 157Q433 26 428 16Q415 -11 385 -11Q372 -11 364 -4T353 8T350 18Q350 29 384 161L420 307Q423 322 423 345Q423 404 379 404H374Q288 404 229 303L222 291L189 157Q156 26 151 16Q138 -11 108 -11Q95 -11 87 -5T76 7T74 17Q74 30 112 181Q151 335 151 342Q154 357 154 369Q154 405 129 405Q107 405 92 377T69 316T57 280Q55 278 41 278H27Q21 284 21 287Z\"/><g transform=\"translate(878,-150)\"><path stroke-width=\"1\" transform=\"scale(0.707)\" d=\"M109 429Q82 429 66 447T50 491Q50 562 103 614T235 666Q326 666 387 610T449 465Q449 422 429 383T381 315T301 241Q265 210 201 149L142 93L218 92Q375 92 385 97Q392 99 409 186V189H449V186Q448 183 436 95T421 3V0H50V19V31Q50 38 56 46T86 81Q115 113 136 137Q145 147 170 174T204 211T233 244T261 278T284 308T305 340T320 369T333 401T340 431T343 464Q343 527 309 573T212 619Q179 619 154 602T119 569T109 550Q109 549 114 549Q132 549 151 535T170 489Q170 464 154 447T109 429Z\"/></g></g></g></svg><span class=\"MJX_Assistive_MathML MJX_Assistive_MathML_Block\" role=\"presentation\"/></span></div><script type=\"math/tex; mode=display\" id=\"MathJax-Element-23\">S_2, m_2</script></div></div></div></foreignObject><text x=\"185\" y=\"305\" fill=\"rgb(0, 0, 0)\" font-family=\"Helvetica\" font-size=\"14px\" text-anchor=\"middle\">\n",
       "S_2, m_2</text></switch></g><rect x=\"11\" y=\"131\" width=\"60\" height=\"30\" fill=\"none\" stroke=\"none\" pointer-events=\"all\"/><g transform=\"translate(-0.5 -0.5)\"><switch><foreignObject pointer-events=\"none\" width=\"100%\" height=\"100%\" requiredFeatures=\"http://www.w3.org/TR/SVG11/feature#Extensibility\" style=\"overflow: visible; text-align: left;\"><div xmlns=\"http://www.w3.org/1999/xhtml\" style=\"display: flex; align-items: unsafe center; justify-content: unsafe center; width: 58px; height: 1px; padding-top: 146px; margin-left: 12px;\"><div data-drawio-colors=\"color: rgb(0, 0, 0); \" style=\"box-sizing: border-box; font-size: 0px; text-align: center;\"><div style=\"display: inline-block; font-size: 14px; font-family: Helvetica; color: rgb(0, 0, 0); line-height: 1.2; pointer-events: all; white-space: normal; overflow-wrap: normal;\"><span class=\"MathJax_Preview\" style=\"color: inherit;\"/><div class=\"MathJax_SVG_Display\" style=\"text-align: center;\"><span class=\"MathJax_SVG\" id=\"MathJax-Element-24-Frame\" tabindex=\"0\" data-mathml=\"&lt;math xmlns=&quot;http://www.w3.org/1998/Math/MathML&quot; display=&quot;block&quot;&gt;&lt;msub&gt;&lt;mi&gt;B&lt;/mi&gt;&lt;mn&gt;1&lt;/mn&gt;&lt;/msub&gt;&lt;mo&gt;,&lt;/mo&gt;&lt;msub&gt;&lt;mi&gt;G&lt;/mi&gt;&lt;mn&gt;1&lt;/mn&gt;&lt;/msub&gt;&lt;mo&gt;,&lt;/mo&gt;&lt;msub&gt;&lt;mi&gt;S&lt;/mi&gt;&lt;mn&gt;1&lt;/mn&gt;&lt;/msub&gt;&lt;/math&gt;\" role=\"presentation\" style=\"font-size: 100%; display: inline-block; position: relative;\"><svg xmlns=\"http://www.w3.org/2000/svg\" xmlns:xlink=\"http://www.w3.org/1999/xlink\" width=\"10.246ex\" height=\"2.486ex\" viewBox=\"0 -772.3 4411.6 1070.5\" role=\"img\" focusable=\"false\" style=\"vertical-align: -0.693ex;\" aria-hidden=\"true\"><g stroke=\"currentColor\" fill=\"currentColor\" stroke-width=\"0\" transform=\"matrix(1 0 0 -1 0 0)\"><path stroke-width=\"1\" d=\"M231 637Q204 637 199 638T194 649Q194 676 205 682Q206 683 335 683Q594 683 608 681Q671 671 713 636T756 544Q756 480 698 429T565 360L555 357Q619 348 660 311T702 219Q702 146 630 78T453 1Q446 0 242 0Q42 0 39 2Q35 5 35 10Q35 17 37 24Q42 43 47 45Q51 46 62 46H68Q95 46 128 49Q142 52 147 61Q150 65 219 339T288 628Q288 635 231 637ZM649 544Q649 574 634 600T585 634Q578 636 493 637Q473 637 451 637T416 636H403Q388 635 384 626Q382 622 352 506Q352 503 351 500L320 374H401Q482 374 494 376Q554 386 601 434T649 544ZM595 229Q595 273 572 302T512 336Q506 337 429 337Q311 337 310 336Q310 334 293 263T258 122L240 52Q240 48 252 48T333 46Q422 46 429 47Q491 54 543 105T595 229Z\"/><g transform=\"translate(759,-150)\"><path stroke-width=\"1\" transform=\"scale(0.707)\" d=\"M213 578L200 573Q186 568 160 563T102 556H83V602H102Q149 604 189 617T245 641T273 663Q275 666 285 666Q294 666 302 660V361L303 61Q310 54 315 52T339 48T401 46H427V0H416Q395 3 257 3Q121 3 100 0H88V46H114Q136 46 152 46T177 47T193 50T201 52T207 57T213 61V578Z\"/></g><g transform=\"translate(1213,0)\"><path stroke-width=\"1\" d=\"M78 35T78 60T94 103T137 121Q165 121 187 96T210 8Q210 -27 201 -60T180 -117T154 -158T130 -185T117 -194Q113 -194 104 -185T95 -172Q95 -168 106 -156T131 -126T157 -76T173 -3V9L172 8Q170 7 167 6T161 3T152 1T140 0Q113 0 96 17Z\"/></g><g transform=\"translate(1658,0)\"><path stroke-width=\"1\" d=\"M50 252Q50 367 117 473T286 641T490 704Q580 704 633 653Q642 643 648 636T656 626L657 623Q660 623 684 649Q691 655 699 663T715 679T725 690L740 705H746Q760 705 760 698Q760 694 728 561Q692 422 692 421Q690 416 687 415T669 413H653Q647 419 647 422Q647 423 648 429T650 449T651 481Q651 552 619 605T510 659Q492 659 471 656T418 643T357 615T294 567T236 496T189 394T158 260Q156 242 156 221Q156 173 170 136T206 79T256 45T308 28T353 24Q407 24 452 47T514 106Q517 114 529 161T541 214Q541 222 528 224T468 227H431Q425 233 425 235T427 254Q431 267 437 273H454Q494 271 594 271Q634 271 659 271T695 272T707 272Q721 272 721 263Q721 261 719 249Q714 230 709 228Q706 227 694 227Q674 227 653 224Q646 221 643 215T629 164Q620 131 614 108Q589 6 586 3Q584 1 581 1Q571 1 553 21T530 52Q530 53 528 52T522 47Q448 -22 322 -22Q201 -22 126 55T50 252Z\"/><g transform=\"translate(786,-150)\"><path stroke-width=\"1\" transform=\"scale(0.707)\" d=\"M213 578L200 573Q186 568 160 563T102 556H83V602H102Q149 604 189 617T245 641T273 663Q275 666 285 666Q294 666 302 660V361L303 61Q310 54 315 52T339 48T401 46H427V0H416Q395 3 257 3Q121 3 100 0H88V46H114Q136 46 152 46T177 47T193 50T201 52T207 57T213 61V578Z\"/></g></g><g transform=\"translate(2898,0)\"><path stroke-width=\"1\" d=\"M78 35T78 60T94 103T137 121Q165 121 187 96T210 8Q210 -27 201 -60T180 -117T154 -158T130 -185T117 -194Q113 -194 104 -185T95 -172Q95 -168 106 -156T131 -126T157 -76T173 -3V9L172 8Q170 7 167 6T161 3T152 1T140 0Q113 0 96 17Z\"/></g><g transform=\"translate(3344,0)\"><path stroke-width=\"1\" d=\"M308 24Q367 24 416 76T466 197Q466 260 414 284Q308 311 278 321T236 341Q176 383 176 462Q176 523 208 573T273 648Q302 673 343 688T407 704H418H425Q521 704 564 640Q565 640 577 653T603 682T623 704Q624 704 627 704T632 705Q645 705 645 698T617 577T585 459T569 456Q549 456 549 465Q549 471 550 475Q550 478 551 494T553 520Q553 554 544 579T526 616T501 641Q465 662 419 662Q362 662 313 616T263 510Q263 480 278 458T319 427Q323 425 389 408T456 390Q490 379 522 342T554 242Q554 216 546 186Q541 164 528 137T492 78T426 18T332 -20Q320 -22 298 -22Q199 -22 144 33L134 44L106 13Q83 -14 78 -18T65 -22Q52 -22 52 -14Q52 -11 110 221Q112 227 130 227H143Q149 221 149 216Q149 214 148 207T144 186T142 153Q144 114 160 87T203 47T255 29T308 24Z\"/><g transform=\"translate(613,-150)\"><path stroke-width=\"1\" transform=\"scale(0.707)\" d=\"M213 578L200 573Q186 568 160 563T102 556H83V602H102Q149 604 189 617T245 641T273 663Q275 666 285 666Q294 666 302 660V361L303 61Q310 54 315 52T339 48T401 46H427V0H416Q395 3 257 3Q121 3 100 0H88V46H114Q136 46 152 46T177 47T193 50T201 52T207 57T213 61V578Z\"/></g></g></g></svg><span class=\"MJX_Assistive_MathML MJX_Assistive_MathML_Block\" role=\"presentation\"/></span></div><script type=\"math/tex; mode=display\" id=\"MathJax-Element-24\">B_1, G_1,S_1 </script></div></div></div></foreignObject><text x=\"41\" y=\"150\" fill=\"rgb(0, 0, 0)\" font-family=\"Helvetica\" font-size=\"14px\" text-anchor=\"middle\">B_1, G_1...</text></switch></g><path d=\"M 69.57 120.95 L 96.76 120.99\" fill=\"none\" stroke=\"#d79b00\" stroke-width=\"2\" stroke-miterlimit=\"10\" pointer-events=\"stroke\"/><path d=\"M 102.76 121 L 94.76 124.99 L 96.76 120.99 L 94.77 116.99 Z\" fill=\"#d79b00\" stroke=\"#d79b00\" stroke-width=\"2\" stroke-miterlimit=\"10\" pointer-events=\"all\"/><rect x=\"70\" y=\"117\" width=\"60\" height=\"30\" fill=\"none\" stroke=\"none\" pointer-events=\"all\"/><g transform=\"translate(-0.5 -0.5)\"><switch><foreignObject pointer-events=\"none\" width=\"100%\" height=\"100%\" requiredFeatures=\"http://www.w3.org/TR/SVG11/feature#Extensibility\" style=\"overflow: visible; text-align: left;\"><div xmlns=\"http://www.w3.org/1999/xhtml\" style=\"display: flex; align-items: unsafe center; justify-content: unsafe center; width: 58px; height: 1px; padding-top: 132px; margin-left: 71px;\"><div data-drawio-colors=\"color: rgb(0, 0, 0); \" style=\"box-sizing: border-box; font-size: 0px; text-align: center;\"><div style=\"display: inline-block; font-size: 14px; font-family: Helvetica; color: rgb(0, 0, 0); line-height: 1.2; pointer-events: all; white-space: normal; overflow-wrap: normal;\"><font color=\"#d79b00\"><span class=\"MathJax_Preview\" style=\"color: inherit;\"/><div class=\"MathJax_SVG_Display\" style=\"text-align: center;\"><span class=\"MathJax_SVG\" id=\"MathJax-Element-25-Frame\" tabindex=\"0\" data-mathml=\"&lt;math xmlns=&quot;http://www.w3.org/1998/Math/MathML&quot; display=&quot;block&quot;&gt;&lt;msub&gt;&lt;mi&gt;q&lt;/mi&gt;&lt;mn&gt;1&lt;/mn&gt;&lt;/msub&gt;&lt;/math&gt;\" role=\"presentation\" style=\"font-size: 100%; display: inline-block; position: relative;\"><svg xmlns=\"http://www.w3.org/2000/svg\" xmlns:xlink=\"http://www.w3.org/1999/xlink\" width=\"2.091ex\" height=\"1.936ex\" viewBox=\"0 -535.3 900.4 833.5\" role=\"img\" focusable=\"false\" style=\"vertical-align: -0.693ex;\" aria-hidden=\"true\"><g stroke=\"currentColor\" fill=\"currentColor\" stroke-width=\"0\" transform=\"matrix(1 0 0 -1 0 0)\"><path stroke-width=\"1\" d=\"M33 157Q33 258 109 349T280 441Q340 441 372 389Q373 390 377 395T388 406T404 418Q438 442 450 442Q454 442 457 439T460 434Q460 425 391 149Q320 -135 320 -139Q320 -147 365 -148H390Q396 -156 396 -157T393 -175Q389 -188 383 -194H370Q339 -192 262 -192Q234 -192 211 -192T174 -192T157 -193Q143 -193 143 -185Q143 -182 145 -170Q149 -154 152 -151T172 -148Q220 -148 230 -141Q238 -136 258 -53T279 32Q279 33 272 29Q224 -10 172 -10Q117 -10 75 30T33 157ZM352 326Q329 405 277 405Q242 405 210 374T160 293Q131 214 119 129Q119 126 119 118T118 106Q118 61 136 44T179 26Q233 26 290 98L298 109L352 326Z\"/><g transform=\"translate(446,-150)\"><path stroke-width=\"1\" transform=\"scale(0.707)\" d=\"M213 578L200 573Q186 568 160 563T102 556H83V602H102Q149 604 189 617T245 641T273 663Q275 666 285 666Q294 666 302 660V361L303 61Q310 54 315 52T339 48T401 46H427V0H416Q395 3 257 3Q121 3 100 0H88V46H114Q136 46 152 46T177 47T193 50T201 52T207 57T213 61V578Z\"/></g></g></svg><span class=\"MJX_Assistive_MathML MJX_Assistive_MathML_Block\" role=\"presentation\"/></span></div><script type=\"math/tex; mode=display\" id=\"MathJax-Element-25\">q_1</script></font></div></div></div></foreignObject><text x=\"100\" y=\"136\" fill=\"rgb(0, 0, 0)\" font-family=\"Helvetica\" font-size=\"14px\" text-anchor=\"middle\">\n",
       "q_1</text></switch></g><rect x=\"55\" y=\"86\" width=\"60\" height=\"30\" fill=\"none\" stroke=\"none\" pointer-events=\"all\"/><g transform=\"translate(-0.5 -0.5)\"><switch><foreignObject pointer-events=\"none\" width=\"100%\" height=\"100%\" requiredFeatures=\"http://www.w3.org/TR/SVG11/feature#Extensibility\" style=\"overflow: visible; text-align: left;\"><div xmlns=\"http://www.w3.org/1999/xhtml\" style=\"display: flex; align-items: unsafe center; justify-content: unsafe center; width: 58px; height: 1px; padding-top: 101px; margin-left: 56px;\"><div data-drawio-colors=\"color: rgb(0, 0, 0); \" style=\"box-sizing: border-box; font-size: 0px; text-align: center;\"><div style=\"display: inline-block; font-size: 14px; font-family: Helvetica; color: rgb(0, 0, 0); line-height: 1.2; pointer-events: all; white-space: normal; overflow-wrap: normal;\"><span class=\"MathJax_Preview\" style=\"color: inherit;\"/><div class=\"MathJax_SVG_Display\" style=\"text-align: center;\"><span class=\"MathJax_SVG\" id=\"MathJax-Element-26-Frame\" tabindex=\"0\" data-mathml=\"&lt;math xmlns=&quot;http://www.w3.org/1998/Math/MathML&quot; display=&quot;block&quot;&gt;&lt;msub&gt;&lt;mi&gt;m&lt;/mi&gt;&lt;mn&gt;1&lt;/mn&gt;&lt;/msub&gt;&lt;/math&gt;\" role=\"presentation\" style=\"font-size: 100%; display: inline-block; position: relative;\"><svg xmlns=\"http://www.w3.org/2000/svg\" xmlns:xlink=\"http://www.w3.org/1999/xlink\" width=\"3.095ex\" height=\"1.798ex\" viewBox=\"0 -535.3 1332.4 774.3\" role=\"img\" focusable=\"false\" style=\"vertical-align: -0.555ex;\" aria-hidden=\"true\"><g stroke=\"currentColor\" fill=\"currentColor\" stroke-width=\"0\" transform=\"matrix(1 0 0 -1 0 0)\"><path stroke-width=\"1\" d=\"M21 287Q22 293 24 303T36 341T56 388T88 425T132 442T175 435T205 417T221 395T229 376L231 369Q231 367 232 367L243 378Q303 442 384 442Q401 442 415 440T441 433T460 423T475 411T485 398T493 385T497 373T500 364T502 357L510 367Q573 442 659 442Q713 442 746 415T780 336Q780 285 742 178T704 50Q705 36 709 31T724 26Q752 26 776 56T815 138Q818 149 821 151T837 153Q857 153 857 145Q857 144 853 130Q845 101 831 73T785 17T716 -10Q669 -10 648 17T627 73Q627 92 663 193T700 345Q700 404 656 404H651Q565 404 506 303L499 291L466 157Q433 26 428 16Q415 -11 385 -11Q372 -11 364 -4T353 8T350 18Q350 29 384 161L420 307Q423 322 423 345Q423 404 379 404H374Q288 404 229 303L222 291L189 157Q156 26 151 16Q138 -11 108 -11Q95 -11 87 -5T76 7T74 17Q74 30 112 181Q151 335 151 342Q154 357 154 369Q154 405 129 405Q107 405 92 377T69 316T57 280Q55 278 41 278H27Q21 284 21 287Z\"/><g transform=\"translate(878,-150)\"><path stroke-width=\"1\" transform=\"scale(0.707)\" d=\"M213 578L200 573Q186 568 160 563T102 556H83V602H102Q149 604 189 617T245 641T273 663Q275 666 285 666Q294 666 302 660V361L303 61Q310 54 315 52T339 48T401 46H427V0H416Q395 3 257 3Q121 3 100 0H88V46H114Q136 46 152 46T177 47T193 50T201 52T207 57T213 61V578Z\"/></g></g></svg><span class=\"MJX_Assistive_MathML MJX_Assistive_MathML_Block\" role=\"presentation\"/></span></div><script type=\"math/tex; mode=display\" id=\"MathJax-Element-26\">m_1</script></div></div></div></foreignObject><text x=\"85\" y=\"105\" fill=\"rgb(0, 0, 0)\" font-family=\"Helvetica\" font-size=\"14px\" text-anchor=\"middle\">\n",
       "m_1</text></switch></g><path d=\"M 65 40 L 64.86 0\" fill=\"none\" stroke=\"rgb(0, 0, 0)\" stroke-miterlimit=\"10\" stroke-dasharray=\"3 3\" pointer-events=\"stroke\"/><rect x=\"100\" y=\"170\" width=\"70\" height=\"20\" fill=\"none\" stroke=\"none\" pointer-events=\"all\"/><g transform=\"translate(-0.5 -0.5)\"><switch><foreignObject pointer-events=\"none\" width=\"100%\" height=\"100%\" requiredFeatures=\"http://www.w3.org/TR/SVG11/feature#Extensibility\" style=\"overflow: visible; text-align: left;\"><div xmlns=\"http://www.w3.org/1999/xhtml\" style=\"display: flex; align-items: unsafe center; justify-content: unsafe center; width: 1px; height: 1px; padding-top: 180px; margin-left: 135px;\"><div data-drawio-colors=\"color: rgb(0, 0, 0); \" style=\"box-sizing: border-box; font-size: 0px; text-align: center;\"><div style=\"display: inline-block; font-size: 12px; font-family: Helvetica; color: rgb(0, 0, 0); line-height: 1.2; pointer-events: all; white-space: nowrap;\"><span style=\"font-size: 14px\"><span class=\"MathJax_Preview\" style=\"color: inherit;\"/><div class=\"MathJax_SVG_Display\" style=\"text-align: center;\"><span class=\"MathJax_SVG\" id=\"MathJax-Element-27-Frame\" tabindex=\"0\" data-mathml=\"&lt;math xmlns=&quot;http://www.w3.org/1998/Math/MathML&quot; display=&quot;block&quot;&gt;&lt;msub&gt;&lt;mi&gt;l&lt;/mi&gt;&lt;mn&gt;1&lt;/mn&gt;&lt;/msub&gt;&lt;/math&gt;\" role=\"presentation\" style=\"font-size: 100%; display: inline-block; position: relative;\"><svg xmlns=\"http://www.w3.org/2000/svg\" xmlns:xlink=\"http://www.w3.org/1999/xlink\" width=\"1.748ex\" height=\"2.349ex\" viewBox=\"0 -772.3 752.4 1011.3\" role=\"img\" focusable=\"false\" style=\"vertical-align: -0.555ex;\" aria-hidden=\"true\"><g stroke=\"currentColor\" fill=\"currentColor\" stroke-width=\"0\" transform=\"matrix(1 0 0 -1 0 0)\"><path stroke-width=\"1\" d=\"M117 59Q117 26 142 26Q179 26 205 131Q211 151 215 152Q217 153 225 153H229Q238 153 241 153T246 151T248 144Q247 138 245 128T234 90T214 43T183 6T137 -11Q101 -11 70 11T38 85Q38 97 39 102L104 360Q167 615 167 623Q167 626 166 628T162 632T157 634T149 635T141 636T132 637T122 637Q112 637 109 637T101 638T95 641T94 647Q94 649 96 661Q101 680 107 682T179 688Q194 689 213 690T243 693T254 694Q266 694 266 686Q266 675 193 386T118 83Q118 81 118 75T117 65V59Z\"/><g transform=\"translate(298,-150)\"><path stroke-width=\"1\" transform=\"scale(0.707)\" d=\"M213 578L200 573Q186 568 160 563T102 556H83V602H102Q149 604 189 617T245 641T273 663Q275 666 285 666Q294 666 302 660V361L303 61Q310 54 315 52T339 48T401 46H427V0H416Q395 3 257 3Q121 3 100 0H88V46H114Q136 46 152 46T177 47T193 50T201 52T207 57T213 61V578Z\"/></g></g></svg><span class=\"MJX_Assistive_MathML MJX_Assistive_MathML_Block\" role=\"presentation\"/></span></div><script type=\"math/tex; mode=display\" id=\"MathJax-Element-27\">l_1 </script></span></div></div></div></foreignObject><text x=\"135\" y=\"184\" fill=\"rgb(0, 0, 0)\" font-family=\"Helvetica\" font-size=\"12px\" text-anchor=\"middle\">\n",
       "l_1 </text></switch></g><path d=\"M 185 121 L 185 269.63\" fill=\"none\" stroke=\"#82b366\" stroke-miterlimit=\"10\" pointer-events=\"stroke\"/><path d=\"M 185 274.88 L 181.5 267.88 L 185 269.63 L 188.5 267.88 Z\" fill=\"#82b366\" stroke=\"#82b366\" stroke-miterlimit=\"10\" pointer-events=\"all\"/><path d=\"M 65 281 L 173.63 281\" fill=\"none\" stroke=\"#82b366\" stroke-miterlimit=\"10\" pointer-events=\"stroke\"/><path d=\"M 178.88 281 L 171.88 284.5 L 173.63 281 L 171.88 277.5 Z\" fill=\"#82b366\" stroke=\"#82b366\" stroke-miterlimit=\"10\" pointer-events=\"all\"/><rect x=\"170\" y=\"170\" width=\"60\" height=\"30\" fill=\"none\" stroke=\"none\" pointer-events=\"all\"/><g transform=\"translate(-0.5 -0.5)\"><switch><foreignObject pointer-events=\"none\" width=\"100%\" height=\"100%\" requiredFeatures=\"http://www.w3.org/TR/SVG11/feature#Extensibility\" style=\"overflow: visible; text-align: left;\"><div xmlns=\"http://www.w3.org/1999/xhtml\" style=\"display: flex; align-items: unsafe center; justify-content: unsafe center; width: 58px; height: 1px; padding-top: 185px; margin-left: 171px;\"><div data-drawio-colors=\"color: rgb(0, 0, 0); \" style=\"box-sizing: border-box; font-size: 0px; text-align: center;\"><div style=\"display: inline-block; font-size: 14px; font-family: Helvetica; color: rgb(0, 0, 0); line-height: 1.2; pointer-events: all; white-space: normal; overflow-wrap: normal;\"><font color=\"#82b366\"><span class=\"MathJax_Preview\" style=\"color: inherit;\"/><div class=\"MathJax_SVG_Display\" style=\"text-align: center;\"><span class=\"MathJax_SVG\" id=\"MathJax-Element-28-Frame\" tabindex=\"0\" data-mathml=\"&lt;math xmlns=&quot;http://www.w3.org/1998/Math/MathML&quot; display=&quot;block&quot;&gt;&lt;msub&gt;&lt;mi&gt;p&lt;/mi&gt;&lt;mn&gt;2&lt;/mn&gt;&lt;/msub&gt;&lt;/math&gt;\" role=\"presentation\" style=\"font-size: 100%; display: inline-block; position: relative;\"><svg xmlns=\"http://www.w3.org/2000/svg\" xmlns:xlink=\"http://www.w3.org/1999/xlink\" width=\"2.313ex\" height=\"1.936ex\" viewBox=\"-38.5 -535.3 995.9 833.5\" role=\"img\" focusable=\"false\" style=\"vertical-align: -0.693ex; margin-left: -0.089ex;\" aria-hidden=\"true\"><g stroke=\"currentColor\" fill=\"currentColor\" stroke-width=\"0\" transform=\"matrix(1 0 0 -1 0 0)\"><path stroke-width=\"1\" d=\"M23 287Q24 290 25 295T30 317T40 348T55 381T75 411T101 433T134 442Q209 442 230 378L240 387Q302 442 358 442Q423 442 460 395T497 281Q497 173 421 82T249 -10Q227 -10 210 -4Q199 1 187 11T168 28L161 36Q160 35 139 -51T118 -138Q118 -144 126 -145T163 -148H188Q194 -155 194 -157T191 -175Q188 -187 185 -190T172 -194Q170 -194 161 -194T127 -193T65 -192Q-5 -192 -24 -194H-32Q-39 -187 -39 -183Q-37 -156 -26 -148H-6Q28 -147 33 -136Q36 -130 94 103T155 350Q156 355 156 364Q156 405 131 405Q109 405 94 377T71 316T59 280Q57 278 43 278H29Q23 284 23 287ZM178 102Q200 26 252 26Q282 26 310 49T356 107Q374 141 392 215T411 325V331Q411 405 350 405Q339 405 328 402T306 393T286 380T269 365T254 350T243 336T235 326L232 322Q232 321 229 308T218 264T204 212Q178 106 178 102Z\"/><g transform=\"translate(503,-150)\"><path stroke-width=\"1\" transform=\"scale(0.707)\" d=\"M109 429Q82 429 66 447T50 491Q50 562 103 614T235 666Q326 666 387 610T449 465Q449 422 429 383T381 315T301 241Q265 210 201 149L142 93L218 92Q375 92 385 97Q392 99 409 186V189H449V186Q448 183 436 95T421 3V0H50V19V31Q50 38 56 46T86 81Q115 113 136 137Q145 147 170 174T204 211T233 244T261 278T284 308T305 340T320 369T333 401T340 431T343 464Q343 527 309 573T212 619Q179 619 154 602T119 569T109 550Q109 549 114 549Q132 549 151 535T170 489Q170 464 154 447T109 429Z\"/></g></g></svg><span class=\"MJX_Assistive_MathML MJX_Assistive_MathML_Block\" role=\"presentation\"/></span></div><script type=\"math/tex; mode=display\" id=\"MathJax-Element-28\">p_2</script></font></div></div></div></foreignObject><text x=\"200\" y=\"189\" fill=\"rgb(0, 0, 0)\" font-family=\"Helvetica\" font-size=\"14px\" text-anchor=\"middle\">\n",
       "p_2</text></switch></g><rect x=\"95\" y=\"256\" width=\"60\" height=\"30\" fill=\"none\" stroke=\"none\" pointer-events=\"all\"/><g transform=\"translate(-0.5 -0.5)\"><switch><foreignObject pointer-events=\"none\" width=\"100%\" height=\"100%\" requiredFeatures=\"http://www.w3.org/TR/SVG11/feature#Extensibility\" style=\"overflow: visible; text-align: left;\"><div xmlns=\"http://www.w3.org/1999/xhtml\" style=\"display: flex; align-items: unsafe center; justify-content: unsafe center; width: 58px; height: 1px; padding-top: 271px; margin-left: 96px;\"><div data-drawio-colors=\"color: rgb(0, 0, 0); \" style=\"box-sizing: border-box; font-size: 0px; text-align: center;\"><div style=\"display: inline-block; font-size: 14px; font-family: Helvetica; color: rgb(0, 0, 0); line-height: 1.2; pointer-events: all; white-space: normal; overflow-wrap: normal;\"><font color=\"#82b366\"><span class=\"MathJax_Preview\" style=\"color: inherit;\"/><div class=\"MathJax_SVG_Display\" style=\"text-align: center;\"><span class=\"MathJax_SVG\" id=\"MathJax-Element-29-Frame\" tabindex=\"0\" data-mathml=\"&lt;math xmlns=&quot;http://www.w3.org/1998/Math/MathML&quot; display=&quot;block&quot;&gt;&lt;msub&gt;&lt;mi&gt;p&lt;/mi&gt;&lt;mn&gt;1&lt;/mn&gt;&lt;/msub&gt;&lt;/math&gt;\" role=\"presentation\" style=\"font-size: 100%; display: inline-block; position: relative;\"><svg xmlns=\"http://www.w3.org/2000/svg\" xmlns:xlink=\"http://www.w3.org/1999/xlink\" width=\"2.313ex\" height=\"1.936ex\" viewBox=\"-38.5 -535.3 995.9 833.5\" role=\"img\" focusable=\"false\" style=\"vertical-align: -0.693ex; margin-left: -0.089ex;\" aria-hidden=\"true\"><g stroke=\"currentColor\" fill=\"currentColor\" stroke-width=\"0\" transform=\"matrix(1 0 0 -1 0 0)\"><path stroke-width=\"1\" d=\"M23 287Q24 290 25 295T30 317T40 348T55 381T75 411T101 433T134 442Q209 442 230 378L240 387Q302 442 358 442Q423 442 460 395T497 281Q497 173 421 82T249 -10Q227 -10 210 -4Q199 1 187 11T168 28L161 36Q160 35 139 -51T118 -138Q118 -144 126 -145T163 -148H188Q194 -155 194 -157T191 -175Q188 -187 185 -190T172 -194Q170 -194 161 -194T127 -193T65 -192Q-5 -192 -24 -194H-32Q-39 -187 -39 -183Q-37 -156 -26 -148H-6Q28 -147 33 -136Q36 -130 94 103T155 350Q156 355 156 364Q156 405 131 405Q109 405 94 377T71 316T59 280Q57 278 43 278H29Q23 284 23 287ZM178 102Q200 26 252 26Q282 26 310 49T356 107Q374 141 392 215T411 325V331Q411 405 350 405Q339 405 328 402T306 393T286 380T269 365T254 350T243 336T235 326L232 322Q232 321 229 308T218 264T204 212Q178 106 178 102Z\"/><g transform=\"translate(503,-150)\"><path stroke-width=\"1\" transform=\"scale(0.707)\" d=\"M213 578L200 573Q186 568 160 563T102 556H83V602H102Q149 604 189 617T245 641T273 663Q275 666 285 666Q294 666 302 660V361L303 61Q310 54 315 52T339 48T401 46H427V0H416Q395 3 257 3Q121 3 100 0H88V46H114Q136 46 152 46T177 47T193 50T201 52T207 57T213 61V578Z\"/></g></g></svg><span class=\"MJX_Assistive_MathML MJX_Assistive_MathML_Block\" role=\"presentation\"/></span></div><script type=\"math/tex; mode=display\" id=\"MathJax-Element-29\">p_1</script></font></div></div></div></foreignObject><text x=\"125\" y=\"275\" fill=\"rgb(0, 0, 0)\" font-family=\"Helvetica\" font-size=\"14px\" text-anchor=\"middle\">\n",
       "p_1</text></switch></g></g><switch><g requiredFeatures=\"http://www.w3.org/TR/SVG11/feature#Extensibility\"/><a transform=\"translate(0,-5)\" xlink:href=\"https://www.diagrams.net/doc/faq/svg-export-text-problems\" target=\"_blank\"><text text-anchor=\"middle\" font-size=\"10px\" x=\"50%\" y=\"100%\">Text is not SVG - cannot display</text></a></switch></svg>"
      ],
      "text/plain": [
       "<IPython.core.display.SVG object>"
      ]
     },
     "execution_count": 57,
     "metadata": {},
     "output_type": "execute_result"
    }
   ],
   "source": [
    "from IPython.display import Image\n",
    "from IPython.core.display import SVG\n",
    "SVG(filename='ODE_flatness_analysis_single_crane_diagram.svg')"
   ]
  },
  {
   "cell_type": "code",
   "execution_count": 3,
   "metadata": {
    "scrolled": false
   },
   "outputs": [
    {
     "data": {
      "text/latex": [
       "aa.T := $\\displaystyle \\left[\\begin{matrix}a_{1} & a_{2}\\end{matrix}\\right]$"
      ],
      "text/plain": [
       "aa.T := [a₁  a₂]"
      ]
     },
     "metadata": {},
     "output_type": "display_data"
    },
    {
     "data": {
      "text/plain": [
       "---"
      ]
     },
     "metadata": {},
     "output_type": "display_data"
    },
    {
     "data": {
      "text/latex": [
       "ttheta.T := $\\displaystyle \\left[\\begin{matrix}p_{1} & p_{2} & q_{1}\\end{matrix}\\right]$"
      ],
      "text/plain": [
       "ttheta.T := [p₁  p₂  q₁]"
      ]
     },
     "metadata": {},
     "output_type": "display_data"
    },
    {
     "data": {
      "text/plain": [
       "---"
      ]
     },
     "metadata": {},
     "output_type": "display_data"
    },
    {
     "data": {
      "text/latex": [
       "tthetad.T := $\\displaystyle \\left[\\begin{matrix}\\dot{p}_{1} & \\dot{p}_{2} & \\dot{q}_{1}\\end{matrix}\\right]$"
      ],
      "text/plain": [
       "tthetad.T := [ṗ₁  ṗ₂  q̇₁]"
      ]
     },
     "metadata": {},
     "output_type": "display_data"
    },
    {
     "data": {
      "text/plain": [
       "---"
      ]
     },
     "metadata": {},
     "output_type": "display_data"
    },
    {
     "data": {
      "text/latex": [
       "tthetadd.T := $\\displaystyle \\left[\\begin{matrix}\\ddot{p}_{1} & \\ddot{p}_{2} & \\ddot{q}_{1}\\end{matrix}\\right]$"
      ],
      "text/plain": [
       "tthetadd.T := [p̈₁  p̈₂  q̈₁]"
      ]
     },
     "metadata": {},
     "output_type": "display_data"
    },
    {
     "data": {
      "text/plain": [
       "---"
      ]
     },
     "metadata": {},
     "output_type": "display_data"
    },
    {
     "data": {
      "text/latex": [
       "tthetaddd.T := $\\displaystyle \\left[\\begin{matrix}\\dddot{p}_{1} & \\dddot{p}_{2} & \\dddot{q}_{1}\\end{matrix}\\right]$"
      ],
      "text/plain": [
       "tthetaddd.T := [p⃛₁  p⃛₂  q⃛₁]"
      ]
     },
     "metadata": {},
     "output_type": "display_data"
    },
    {
     "data": {
      "text/plain": [
       "---"
      ]
     },
     "metadata": {},
     "output_type": "display_data"
    },
    {
     "data": {
      "text/latex": [
       "tthetadddd.T := $\\displaystyle \\left[\\begin{matrix}\\ddddot{p}_{1} & \\ddddot{p}_{2} & \\ddddot{q}_{1}\\end{matrix}\\right]$"
      ],
      "text/plain": [
       "tthetadddd.T := [p⃜₁  p⃜₂  q⃜₁]"
      ]
     },
     "metadata": {},
     "output_type": "display_data"
    },
    {
     "data": {
      "text/plain": [
       "---"
      ]
     },
     "metadata": {},
     "output_type": "display_data"
    },
    {
     "data": {
      "text/latex": [
       "QQ.T := $\\displaystyle \\left[\\begin{matrix}Q_{1} & Q_{2} & Q_{3}\\end{matrix}\\right]$"
      ],
      "text/plain": [
       "QQ.T := [Q₁  Q₂  Q₃]"
      ]
     },
     "metadata": {},
     "output_type": "display_data"
    },
    {
     "data": {
      "text/plain": [
       "---"
      ]
     },
     "metadata": {},
     "output_type": "display_data"
    }
   ],
   "source": [
    "t = sp.Symbol('t')  # time variable\n",
    "\n",
    "# coordinates\n",
    "np = 2 # number of passive coordinates (not directly actuated) -> x_load, y_load\n",
    "nq = 1 # number of actuated coordinates -> x_1\n",
    "n = np + nq\n",
    "\n",
    "pp = st.symb_vector(\"p1:{0}\".format(np+1)) # vector of passive coordinates\n",
    "qq = st.symb_vector(\"q1:{0}\".format(nq+1)) # vector of actuated coordinates\n",
    "\n",
    "\n",
    "\n",
    "# vector of control inputs\n",
    "aa = st.symb_vector(\"a1:{0}\".format(2+1)) ##:T\n",
    "# vector of all coordinates\n",
    "ttheta = st.row_stack(pp, qq) ##:T\n",
    "# vector of velocities \n",
    "tthetad = st.time_deriv(ttheta, ttheta) ##:T\n",
    "# vector of accelerations\n",
    "tthetadd = st.time_deriv(ttheta, ttheta, order=2) ##:T\n",
    "tthetaddd = st.time_deriv(ttheta, ttheta, order=3) ##:T\n",
    "tthetadddd = st.time_deriv(ttheta, ttheta, order=4) ##:T\n",
    "\n",
    "st.make_global(ttheta, tthetad, tthetadd, tthetaddd, tthetadddd)\n",
    "\n",
    "QQ = st.symb_vector(\"Q1:{0}\".format(n+1)) ##:T # vector of generalized foces\n",
    "st.make_global(QQ)"
   ]
  },
  {
   "cell_type": "code",
   "execution_count": 4,
   "metadata": {},
   "outputs": [],
   "source": [
    "# symbols for analytic equations\n",
    "params = sp.symbols('m1, m2, l1, g')\n",
    "st.make_global(params)\n",
    "\n",
    "# symbols for control inputs\n",
    "# ttau = sp.symbols('tau')\n",
    "tau1, tau2 = ttau = st.symb_vector(\"tau1, tau2\")\n"
   ]
  },
  {
   "cell_type": "markdown",
   "metadata": {},
   "source": [
    "Specify the geometry (joints G and centers of masses S)"
   ]
  },
  {
   "cell_type": "code",
   "execution_count": 5,
   "metadata": {},
   "outputs": [
    {
     "data": {
      "text/latex": [
       "B1 := $\\displaystyle \\left[\\begin{matrix}q_{1}\\\\0\\end{matrix}\\right]$"
      ],
      "text/plain": [
       "B1 := ⎡q₁⎤\n",
       "⎢  ⎥\n",
       "⎣0 ⎦"
      ]
     },
     "metadata": {},
     "output_type": "display_data"
    },
    {
     "data": {
      "text/plain": [
       "---"
      ]
     },
     "metadata": {},
     "output_type": "display_data"
    },
    {
     "data": {
      "text/latex": [
       "(Sd1, Sd2) := $\\displaystyle \\left( \\left[\\begin{matrix}\\dot{q}_{1}\\\\0\\end{matrix}\\right], \\  \\left[\\begin{matrix}\\dot{p}_{1}\\\\\\dot{p}_{2}\\end{matrix}\\right]\\right)$"
      ],
      "text/plain": [
       "(Sd1, Sd2) := ⎛⎡q̇₁⎤  ⎡ṗ₁⎤⎞\n",
       "⎜⎢  ⎥, ⎢  ⎥⎟\n",
       "⎝⎣0 ⎦  ⎣ṗ₂⎦⎠"
      ]
     },
     "metadata": {},
     "output_type": "display_data"
    },
    {
     "data": {
      "text/plain": [
       "---"
      ]
     },
     "metadata": {},
     "output_type": "display_data"
    }
   ],
   "source": [
    "# unit vectors\n",
    "ex = sp.Matrix([1, 0])\n",
    "ey = sp.Matrix([0, 1])\n",
    "\n",
    "# basis 1 and 2 (cart positions)\n",
    "S1 = G1 = B1 = sp.Matrix([q1, 0]) ##:\n",
    "\n",
    "# center of gravity of load\n",
    "S2 = sp.Matrix([p1, p2])\n",
    "\n",
    "# Time derivatives of centers of masses\n",
    "Sd1, Sd2 = st.col_split(st.time_deriv(st.col_stack(S1, S2), ttheta)) ##:"
   ]
  },
  {
   "cell_type": "code",
   "execution_count": 6,
   "metadata": {},
   "outputs": [
    {
     "data": {
      "image/png": "[encoded data removed]",
      "text/latex": [
       "T := $\\displaystyle \\frac{m_{1} \\dot{q}_{1}^{2}}{2} + \\frac{m_{2} \\dot{p}_{1}^{2}}{2} + \\frac{m_{2} \\dot{p}_{2}^{2}}{2}$"
      ],
      "text/plain": [
       "T :=      2        2        2\n",
       "m₁⋅q̇₁    m₂⋅ṗ₁    m₂⋅ṗ₂ \n",
       "────── + ────── + ──────\n",
       "  2        2        2   "
      ]
     },
     "metadata": {},
     "output_type": "display_data"
    },
    {
     "data": {
      "text/plain": [
       "---"
      ]
     },
     "metadata": {},
     "output_type": "display_data"
    },
    {
     "data": {
      "image/png": "[encoded data removed]",
      "text/latex": [
       "V := $\\displaystyle g m_{2} p_{2}$"
      ],
      "text/plain": [
       "V := g⋅m₂⋅p₂"
      ]
     },
     "metadata": {},
     "output_type": "display_data"
    },
    {
     "data": {
      "text/plain": [
       "---"
      ]
     },
     "metadata": {},
     "output_type": "display_data"
    }
   ],
   "source": [
    "# kinetic energy\n",
    "T1 = (m1/2 * Sd1.T*Sd1)[0] \n",
    "T2 = (m2/2 * Sd2.T*Sd2)[0]\n",
    "\n",
    "T = T1 + T2 ##:\n",
    "\n",
    "# potential energy\n",
    "V = m2*g*S2[1] ##:"
   ]
  },
  {
   "cell_type": "markdown",
   "metadata": {},
   "source": [
    "this model is very easy ..."
   ]
  },
  {
   "cell_type": "code",
   "execution_count": 7,
   "metadata": {},
   "outputs": [
    {
     "data": {
      "text/latex": [
       "$\\displaystyle \\left[\\begin{matrix}- Q_{1} + m_{2} \\ddot{p}_{1}\\\\- Q_{2} + g m_{2} + m_{2} \\ddot{p}_{2}\\\\- Q_{3} + m_{1} \\ddot{q}_{1}\\end{matrix}\\right]$"
      ],
      "text/plain": [
       "⎡   -Q₁ + m₂⋅p̈₁    ⎤\n",
       "⎢                  ⎥\n",
       "⎢-Q₂ + g⋅m₂ + m₂⋅p̈₂⎥\n",
       "⎢                  ⎥\n",
       "⎣   -Q₃ + m₁⋅q̈₁    ⎦"
      ]
     },
     "execution_count": 7,
     "metadata": {},
     "output_type": "execute_result"
    }
   ],
   "source": [
    "mod = mt.generate_symbolic_model(T, V, ttheta, QQ)\n",
    "mod.eqns"
   ]
  },
  {
   "cell_type": "markdown",
   "metadata": {},
   "source": [
    "... but $Q_i$ are yet unknown → calculate them via the principle of virtual work, see e.g. [Wikipedia](https://en.wikipedia.org/wiki/Generalized_forces#Virtual_work):\n",
    "$$\n",
    "\\delta W = \\sum_{i=1}^n \\mathbf {F}_{i} \\cdot \\frac {\\partial \\mathbf {r}_i} {\\partial q_1} \\delta q_1 +\\ldots + \\sum_{i=1}^n \\mathbf {F}_{i} \\cdot \\frac {\\partial \\mathbf {r}_i} {\\partial q_m} \\delta q_m.\n",
    "$$\n",
    "\n",
    "- $ \\mathbf {F}_{i}$ applied forces, i.e.  $i=1,2$ → cart-forces, $i=3,4$ → rope-foces\n",
    "- $ \\mathbf {r}_{i}$ position vectors of each particle (along the direction of forces): $i=1,3$ → cart, $i=2$ → load\n",
    "- $ \\mathbf {\\delta r}_{i}$ virtual displacement\n",
    "- $ \\mathbf \\delta q_{j} = \\delta \\theta_{j}$ virtual displacement of generalized coordinates\n",
    "\n",
    "\n",
    "The virtual work of a system of particles can be written in the form\n",
    "\n",
    "$$\n",
    "    \\delta W = Q_1\\delta q_1 + \\ldots + Q_m\\delta q_m,\n",
    "$$\n",
    "where\n",
    "\n",
    "$$\n",
    "    Q_j = \\sum_{i=1}^n \\frac {\\partial \\mathbf {r}_i} {\\partial q_j} \\cdot \\mathbf {F}_{i}  ,\\quad j=1,\\ldots, m, \n",
    "$$"
   ]
  },
  {
   "cell_type": "code",
   "execution_count": 8,
   "metadata": {},
   "outputs": [
    {
     "data": {
      "text/latex": [
       "F1.T := $\\displaystyle \\left[\\begin{matrix}\\tau_{1} & 0\\end{matrix}\\right]$"
      ],
      "text/plain": [
       "F1.T := [τ₁  0]"
      ]
     },
     "metadata": {},
     "output_type": "display_data"
    },
    {
     "data": {
      "text/plain": [
       "---"
      ]
     },
     "metadata": {},
     "output_type": "display_data"
    },
    {
     "data": {
      "text/latex": [
       "F2 := $\\displaystyle \\left[\\begin{matrix}\\frac{\\tau_{2} \\left(p_{1} - q_{1}\\right)}{l_{1}}\\\\\\frac{p_{2} \\tau_{2}}{l_{1}}\\end{matrix}\\right]$"
      ],
      "text/plain": [
       "F2 := ⎡τ₂⋅(p₁ - q₁)⎤\n",
       "⎢────────────⎥\n",
       "⎢     l₁     ⎥\n",
       "⎢            ⎥\n",
       "⎢   p₂⋅τ₂    ⎥\n",
       "⎢   ─────    ⎥\n",
       "⎣     l₁     ⎦"
      ]
     },
     "metadata": {},
     "output_type": "display_data"
    },
    {
     "data": {
      "text/plain": [
       "---"
      ]
     },
     "metadata": {},
     "output_type": "display_data"
    }
   ],
   "source": [
    "F1 = sp.Matrix([tau1, 0])  ##:T\n",
    "\n",
    "# unit vectors for ropes to split forces according to angles\n",
    "rope = (S2 - S1)\n",
    "\n",
    "uv_rope = rope/sp.sqrt((rope.T*rope)[0])\n",
    "\n",
    "# simplify expressions by using l1, l2 as shortcuts \n",
    "uv_rope = rope/l1\n",
    "\n",
    "F2 = uv_rope * tau2 ##:"
   ]
  },
  {
   "cell_type": "code",
   "execution_count": 9,
   "metadata": {},
   "outputs": [
    {
     "data": {
      "text/latex": [
       "ddelta_theta := $\\displaystyle \\left[\\begin{matrix}\\delta\\theta_{1}\\\\\\delta\\theta_{2}\\\\\\delta\\theta_{3}\\end{matrix}\\right]$"
      ],
      "text/plain": [
       "ddelta_theta := ⎡\\delta\\theta₁⎤\n",
       "⎢             ⎥\n",
       "⎢\\delta\\theta₂⎥\n",
       "⎢             ⎥\n",
       "⎣\\delta\\theta₃⎦"
      ]
     },
     "metadata": {},
     "output_type": "display_data"
    },
    {
     "data": {
      "text/plain": [
       "---"
      ]
     },
     "metadata": {},
     "output_type": "display_data"
    }
   ],
   "source": [
    "dt1, dt2, dt3 = ddelta_theta = st.symb_vector(f\"\\\\delta\\\\theta_1:{n+1}\") ##:"
   ]
  },
  {
   "cell_type": "code",
   "execution_count": 10,
   "metadata": {},
   "outputs": [
    {
     "data": {
      "text/latex": [
       "$\\displaystyle \\left[\\begin{matrix}p_{1}\\\\p_{2}\\\\q_{1}\\end{matrix}\\right]$"
      ],
      "text/plain": [
       "⎡p₁⎤\n",
       "⎢  ⎥\n",
       "⎢p₂⎥\n",
       "⎢  ⎥\n",
       "⎣q₁⎦"
      ]
     },
     "execution_count": 10,
     "metadata": {},
     "output_type": "execute_result"
    }
   ],
   "source": [
    "ttheta"
   ]
  },
  {
   "cell_type": "code",
   "execution_count": 11,
   "metadata": {},
   "outputs": [
    {
     "data": {
      "text/latex": [
       "(delta_S1) := $\\displaystyle \\left[\\begin{matrix}\\delta\\theta_{3}\\\\0\\end{matrix}\\right]$"
      ],
      "text/plain": [
       "(delta_S1) := ⎡\\delta\\theta₃⎤\n",
       "⎢             ⎥\n",
       "⎣      0      ⎦"
      ]
     },
     "metadata": {},
     "output_type": "display_data"
    },
    {
     "data": {
      "text/plain": [
       "---"
      ]
     },
     "metadata": {},
     "output_type": "display_data"
    },
    {
     "data": {
      "text/latex": [
       "(delta_S2) := $\\displaystyle \\left[\\begin{matrix}\\delta\\theta_{1}\\\\\\delta\\theta_{2}\\end{matrix}\\right]$"
      ],
      "text/plain": [
       "(delta_S2) := ⎡\\delta\\theta₁⎤\n",
       "⎢             ⎥\n",
       "⎣\\delta\\theta₂⎦"
      ]
     },
     "metadata": {},
     "output_type": "display_data"
    },
    {
     "data": {
      "text/plain": [
       "---"
      ]
     },
     "metadata": {},
     "output_type": "display_data"
    }
   ],
   "source": [
    "delta_S1 = S1*0\n",
    "delta_S2 = S2*0\n",
    "\n",
    "for theta, delta_theta in zip(ttheta, ddelta_theta):\n",
    "    \n",
    "    delta_S1 += S1.diff(theta)*delta_theta\n",
    "    delta_S2 += S2.diff(theta)*delta_theta\n",
    "    \n",
    "delta_S1 ##:\n",
    "delta_S2 ##:"
   ]
  },
  {
   "cell_type": "code",
   "execution_count": 12,
   "metadata": {},
   "outputs": [
    {
     "data": {
      "text/latex": [
       "delta_W := $\\displaystyle \\left[\\begin{matrix}\\frac{\\delta\\theta_{1} \\tau_{2} \\left(p_{1} - q_{1}\\right)}{l_{1}} + \\frac{\\delta\\theta_{2} p_{2} \\tau_{2}}{l_{1}} + \\delta\\theta_{3} \\tau_{1} - \\frac{\\delta\\theta_{3} \\tau_{2} \\left(p_{1} - q_{1}\\right)}{l_{1}}\\end{matrix}\\right]$"
      ],
      "text/plain": [
       "delta_W := ⎡\\delta\\theta₁⋅τ₂⋅(p₁ - q₁)   \\delta\\theta₂⋅p₂⋅τ₂                      \\delta\\\n",
       "⎢────────────────────────── + ─────────────────── + \\delta\\theta₃⋅τ₁ - ───────\n",
       "⎣            l₁                        l₁                                     \n",
       "\n",
       "theta₃⋅τ₂⋅(p₁ - q₁)⎤\n",
       "───────────────────⎥\n",
       "     l₁            ⎦"
      ]
     },
     "metadata": {},
     "output_type": "display_data"
    },
    {
     "data": {
      "text/plain": [
       "---"
      ]
     },
     "metadata": {},
     "output_type": "display_data"
    }
   ],
   "source": [
    "# simple part (cart)\n",
    "delta_W = delta_S1.T*F1\n",
    "\n",
    "# rope (F2 > 0 means rope is pushing from S1 towards S2)\n",
    "delta_W = delta_W + delta_S2.T*F2 - delta_S1.T*F2 ##:\n",
    "\n",
    "# convert from 1x1 Matrix to scalar:\n",
    "# delta_W = delta_W[0, 0] ##:"
   ]
  },
  {
   "cell_type": "code",
   "execution_count": 13,
   "metadata": {},
   "outputs": [
    {
     "data": {
      "text/latex": [
       "QQ_expr := $\\displaystyle \\left[\\begin{matrix}\\frac{\\tau_{2} \\left(p_{1} - q_{1}\\right)}{l_{1}}\\\\\\frac{p_{2} \\tau_{2}}{l_{1}}\\\\\\tau_{1} - \\frac{\\tau_{2} \\left(p_{1} - q_{1}\\right)}{l_{1}}\\end{matrix}\\right]$"
      ],
      "text/plain": [
       "QQ_expr := ⎡  τ₂⋅(p₁ - q₁)   ⎤\n",
       "⎢  ────────────   ⎥\n",
       "⎢       l₁        ⎥\n",
       "⎢                 ⎥\n",
       "⎢      p₂⋅τ₂      ⎥\n",
       "⎢      ─────      ⎥\n",
       "⎢        l₁       ⎥\n",
       "⎢                 ⎥\n",
       "⎢     τ₂⋅(p₁ - q₁)⎥\n",
       "⎢τ₁ - ────────────⎥\n",
       "⎣          l₁     ⎦"
      ]
     },
     "metadata": {},
     "output_type": "display_data"
    },
    {
     "data": {
      "text/plain": [
       "---"
      ]
     },
     "metadata": {},
     "output_type": "display_data"
    }
   ],
   "source": [
    "QQ_expr = delta_W.jacobian(ddelta_theta).T ##:"
   ]
  },
  {
   "cell_type": "code",
   "execution_count": 14,
   "metadata": {
    "scrolled": true
   },
   "outputs": [
    {
     "data": {
      "text/latex": [
       "$\\displaystyle \\left[\\begin{matrix}- Q_{1} + m_{2} \\ddot{p}_{1}\\\\- Q_{2} + g m_{2} + m_{2} \\ddot{p}_{2}\\\\- Q_{3} + m_{1} \\ddot{q}_{1}\\end{matrix}\\right]$"
      ],
      "text/plain": [
       "⎡   -Q₁ + m₂⋅p̈₁    ⎤\n",
       "⎢                  ⎥\n",
       "⎢-Q₂ + g⋅m₂ + m₂⋅p̈₂⎥\n",
       "⎢                  ⎥\n",
       "⎣   -Q₃ + m₁⋅q̈₁    ⎦"
      ]
     },
     "execution_count": 14,
     "metadata": {},
     "output_type": "execute_result"
    }
   ],
   "source": [
    "mod.eqns"
   ]
  },
  {
   "cell_type": "code",
   "execution_count": 15,
   "metadata": {},
   "outputs": [
    {
     "data": {
      "text/latex": [
       "eqns := $\\displaystyle \\left[\\begin{matrix}m_{2} \\ddot{p}_{1} - \\frac{\\tau_{2} \\left(p_{1} - q_{1}\\right)}{l_{1}}\\\\g m_{2} + m_{2} \\ddot{p}_{2} - \\frac{p_{2} \\tau_{2}}{l_{1}}\\\\m_{1} \\ddot{q}_{1} - \\tau_{1} + \\frac{\\tau_{2} \\left(p_{1} - q_{1}\\right)}{l_{1}}\\end{matrix}\\right]$"
      ],
      "text/plain": [
       "eqns := ⎡          τ₂⋅(p₁ - q₁)   ⎤\n",
       "⎢  m₂⋅p̈₁ - ────────────   ⎥\n",
       "⎢               l₁        ⎥\n",
       "⎢                         ⎥\n",
       "⎢                 p₂⋅τ₂   ⎥\n",
       "⎢  g⋅m₂ + m₂⋅p̈₂ - ─────   ⎥\n",
       "⎢                   l₁    ⎥\n",
       "⎢                         ⎥\n",
       "⎢             τ₂⋅(p₁ - q₁)⎥\n",
       "⎢m₁⋅q̈₁ - τ₁ + ────────────⎥\n",
       "⎣                  l₁     ⎦"
      ]
     },
     "metadata": {},
     "output_type": "display_data"
    },
    {
     "data": {
      "text/plain": [
       "---"
      ]
     },
     "metadata": {},
     "output_type": "display_data"
    }
   ],
   "source": [
    "eqns = mod.eqns.subz(QQ, QQ_expr) ##:"
   ]
  },
  {
   "cell_type": "code",
   "execution_count": 16,
   "metadata": {},
   "outputs": [
    {
     "data": {
      "text/latex": [
       "$\\displaystyle \\left[\\begin{matrix}0 & - \\frac{p_{1} - q_{1}}{l_{1}}\\\\0 & - \\frac{p_{2}}{l_{1}}\\\\-1 & \\frac{p_{1} - q_{1}}{l_{1}}\\end{matrix}\\right]$"
      ],
      "text/plain": [
       "⎡    -(p₁ - q₁) ⎤\n",
       "⎢0   ───────────⎥\n",
       "⎢         l₁    ⎥\n",
       "⎢               ⎥\n",
       "⎢       -p₂     ⎥\n",
       "⎢0      ────    ⎥\n",
       "⎢        l₁     ⎥\n",
       "⎢               ⎥\n",
       "⎢      p₁ - q₁  ⎥\n",
       "⎢-1    ───────  ⎥\n",
       "⎣         l₁    ⎦"
      ]
     },
     "execution_count": 16,
     "metadata": {},
     "output_type": "execute_result"
    }
   ],
   "source": [
    "eqns.jacobian(ttau)"
   ]
  },
  {
   "cell_type": "code",
   "execution_count": 17,
   "metadata": {},
   "outputs": [],
   "source": [
    "# eliminate the 3rd equation and tau1 → 2 remaining equations"
   ]
  },
  {
   "cell_type": "code",
   "execution_count": 18,
   "metadata": {},
   "outputs": [
    {
     "data": {
      "text/latex": [
       "eqns1 := $\\displaystyle \\left[\\begin{matrix}m_{2} \\ddot{p}_{1} - \\frac{\\tau_{2} \\left(p_{1} - q_{1}\\right)}{l_{1}}\\\\g m_{2} + m_{2} \\ddot{p}_{2} - \\frac{p_{2} \\tau_{2}}{l_{1}}\\end{matrix}\\right]$"
      ],
      "text/plain": [
       "eqns1 := ⎡        τ₂⋅(p₁ - q₁)⎤\n",
       "⎢m₂⋅p̈₁ - ────────────⎥\n",
       "⎢             l₁     ⎥\n",
       "⎢                    ⎥\n",
       "⎢               p₂⋅τ₂⎥\n",
       "⎢g⋅m₂ + m₂⋅p̈₂ - ─────⎥\n",
       "⎣                 l₁ ⎦"
      ]
     },
     "metadata": {},
     "output_type": "display_data"
    },
    {
     "data": {
      "text/plain": [
       "---"
      ]
     },
     "metadata": {},
     "output_type": "display_data"
    }
   ],
   "source": [
    "eqns1 = eqns[:-1, :] ##:"
   ]
  },
  {
   "cell_type": "markdown",
   "metadata": {},
   "source": [
    "The second remaining equation is used to eliminate $\\tau_2$. The first one is then used to eleminate and parametrize $q_1$:"
   ]
  },
  {
   "cell_type": "code",
   "execution_count": 22,
   "metadata": {},
   "outputs": [
    {
     "data": {
      "text/latex": [
       "eqns2 := $\\displaystyle \\left[\\begin{matrix}m_{2} \\ddot{p}_{1} - \\frac{\\tau_{2} \\left(p_{1} - q_{1}\\right)}{l_{1}}\\end{matrix}\\right]$"
      ],
      "text/plain": [
       "eqns2 := ⎡        τ₂⋅(p₁ - q₁)⎤\n",
       "⎢m₂⋅p̈₁ - ────────────⎥\n",
       "⎣             l₁     ⎦"
      ]
     },
     "metadata": {},
     "output_type": "display_data"
    },
    {
     "data": {
      "text/plain": [
       "---"
      ]
     },
     "metadata": {},
     "output_type": "display_data"
    }
   ],
   "source": [
    "eqns2 = eqns1[0, :] ##:"
   ]
  },
  {
   "cell_type": "markdown",
   "metadata": {},
   "source": [
    "So there is a flat output $\\mathbf{y} = (p_1, p_2)^T$ that can be used to parametrize the whole system with it and its derivatives."
   ]
  },
  {
   "cell_type": "markdown",
   "metadata": {},
   "source": [
    "# System parameterization by flat output"
   ]
  },
  {
   "cell_type": "code",
   "execution_count": 40,
   "metadata": {},
   "outputs": [
    {
     "data": {
      "image/png": "[encoded data removed]",
      "text/latex": [
       "flat_tau2 := $\\displaystyle \\frac{l_{1} m_{2} \\left(g + \\ddot{p}_{2}\\right)}{p_{2}}$"
      ],
      "text/plain": [
       "flat_tau2 := l₁⋅m₂⋅(g + p̈₂)\n",
       "──────────────\n",
       "      p₂      "
      ]
     },
     "metadata": {},
     "output_type": "display_data"
    },
    {
     "data": {
      "text/plain": [
       "---"
      ]
     },
     "metadata": {},
     "output_type": "display_data"
    }
   ],
   "source": [
    "flat_tau2 = sp.solve(eqns1[-1], tau2)[0]\n",
    "flat_tau2 = flat_tau2.smplf ##:"
   ]
  },
  {
   "cell_type": "code",
   "execution_count": 48,
   "metadata": {},
   "outputs": [
    {
     "data": {
      "image/png": "[encoded data removed]",
      "text/latex": [
       "flat_q1 := $\\displaystyle - \\frac{l_{1} m_{2} \\ddot{p}_{1}}{\\tau_{2}} + p_{1}$"
      ],
      "text/plain": [
       "flat_q1 :=   l₁⋅m₂⋅p̈₁     \n",
       "- ──────── + p₁\n",
       "     τ₂        "
      ]
     },
     "metadata": {},
     "output_type": "display_data"
    },
    {
     "data": {
      "text/plain": [
       "---"
      ]
     },
     "metadata": {},
     "output_type": "display_data"
    },
    {
     "data": {
      "image/png": "[encoded data removed]",
      "text/latex": [
       "flat_q1 := $\\displaystyle \\frac{p_{1} \\left(g + \\ddot{p}_{2}\\right) - p_{2} \\ddot{p}_{1}}{g + \\ddot{p}_{2}}$"
      ],
      "text/plain": [
       "flat_q1 := p₁⋅(g + p̈₂) - p₂⋅p̈₁\n",
       "───────────────────\n",
       "      g + p̈₂      "
      ]
     },
     "metadata": {},
     "output_type": "display_data"
    },
    {
     "data": {
      "text/plain": [
       "---"
      ]
     },
     "metadata": {},
     "output_type": "display_data"
    }
   ],
   "source": [
    "flat_q1 = sp.solve(eqns2[0], q1)[0]\n",
    "flat_q1 = flat_q1.smplf ##:\n",
    "flat_q1 = flat_q1.subs(tau2, flat_tau2)\n",
    "flat_q1 = flat_q1.smplf ##:"
   ]
  },
  {
   "cell_type": "code",
   "execution_count": 52,
   "metadata": {},
   "outputs": [
    {
     "data": {
      "image/png": "[encoded data removed]",
      "text/latex": [
       "flat_qddot1 := $\\displaystyle \\frac{- 2 \\dddot{p}_{2} \\left(g + \\ddot{p}_{2}\\right) \\left(p_{1} \\dddot{p}_{2} - p_{2} \\dddot{p}_{1} - \\ddot{p}_{1} \\dot{p}_{2} + \\dot{p}_{1} \\left(g + \\ddot{p}_{2}\\right)\\right) + \\left(g + \\ddot{p}_{2}\\right)^{2} \\left(p_{1} \\ddddot{p}_{2} - p_{2} \\ddddot{p}_{1} - 2 \\dddot{p}_{1} \\dot{p}_{2} + 2 \\dddot{p}_{2} \\dot{p}_{1} - \\ddot{p}_{1} \\ddot{p}_{2} + \\ddot{p}_{1} \\left(g + \\ddot{p}_{2}\\right)\\right) - \\left(p_{1} \\left(g + \\ddot{p}_{2}\\right) - p_{2} \\ddot{p}_{1}\\right) \\left(\\ddddot{p}_{2} \\left(g + \\ddot{p}_{2}\\right) - 2 \\dddot{p}_{2}^{2}\\right)}{\\left(g + \\ddot{p}_{2}\\right)^{3}}$"
      ],
      "text/plain": [
       "flat_qddot1 :=                                                                2              \n",
       "-2⋅p⃛₂⋅(g + p̈₂)⋅(p₁⋅p⃛₂ - p₂⋅p⃛₁ - p̈₁⋅ṗ₂ + ṗ₁⋅(g + p̈₂)) + (g + p̈₂) ⋅(p₁⋅\n",
       "──────────────────────────────────────────────────────────────────────────────\n",
       "                                                                              \n",
       "                                                                              \n",
       "\n",
       "                                                                     ⎛        \n",
       "p⃜₂ - p₂⋅p⃜₁ - 2⋅p⃛₁⋅ṗ₂ + 2⋅p⃛₂⋅ṗ₁ - p̈₁⋅p̈₂ + p̈₁⋅(g + p̈₂)) - (p₁⋅(g + p̈₂\n",
       "──────────────────────────────────────────────────────────────────────────────\n",
       "         3                                                                    \n",
       " (g + p̈₂)                                                                    \n",
       "\n",
       "          2⎞\n",
       ") - p₂⋅p̈₁)⋅⎝p⃜₂⋅(g + p̈₂) - 2⋅p⃛₂ ⎠\n",
       "────────────\n",
       "            \n",
       "            "
      ]
     },
     "metadata": {},
     "output_type": "display_data"
    },
    {
     "data": {
      "text/plain": [
       "---"
      ]
     },
     "metadata": {},
     "output_type": "display_data"
    }
   ],
   "source": [
    "# generate 2nd order derivative of flat_q1 for tau1:\n",
    "flat_qddot1 = st.time_deriv(flat_q1, ttheta, order=2) \n",
    "flat_qddot1 = flat_qddot1.smplf ##:"
   ]
  },
  {
   "cell_type": "code",
   "execution_count": 55,
   "metadata": {
    "scrolled": true
   },
   "outputs": [
    {
     "data": {
      "image/png": "[encoded data removed]",
      "text/latex": [
       "flat_tau1 := $\\displaystyle \\frac{l_{1} m_{1} \\ddot{q}_{1} + p_{1} \\tau_{2} - q_{1} \\tau_{2}}{l_{1}}$"
      ],
      "text/plain": [
       "flat_tau1 := l₁⋅m₁⋅q̈₁ + p₁⋅τ₂ - q₁⋅τ₂\n",
       "────────────────────────\n",
       "           l₁           "
      ]
     },
     "metadata": {},
     "output_type": "display_data"
    },
    {
     "data": {
      "text/plain": [
       "---"
      ]
     },
     "metadata": {},
     "output_type": "display_data"
    },
    {
     "data": {
      "image/png": "[encoded data removed]",
      "text/latex": [
       "flat_tau1 := $\\displaystyle \\frac{- m_{1} \\left(2 \\dddot{p}_{2} \\left(g + \\ddot{p}_{2}\\right) \\left(p_{1} \\dddot{p}_{2} - p_{2} \\dddot{p}_{1} - \\ddot{p}_{1} \\dot{p}_{2} + \\dot{p}_{1} \\left(g + \\ddot{p}_{2}\\right)\\right) + \\left(g + \\ddot{p}_{2}\\right)^{2} \\left(- p_{1} \\ddddot{p}_{2} + p_{2} \\ddddot{p}_{1} + 2 \\dddot{p}_{1} \\dot{p}_{2} - 2 \\dddot{p}_{2} \\dot{p}_{1} + \\ddot{p}_{1} \\ddot{p}_{2} - \\ddot{p}_{1} \\left(g + \\ddot{p}_{2}\\right)\\right) + \\left(p_{1} \\left(g + \\ddot{p}_{2}\\right) - p_{2} \\ddot{p}_{1}\\right) \\left(\\ddddot{p}_{2} \\left(g + \\ddot{p}_{2}\\right) - 2 \\dddot{p}_{2}^{2}\\right)\\right) + m_{2} \\ddot{p}_{1} \\left(g + \\ddot{p}_{2}\\right)^{3}}{\\left(g + \\ddot{p}_{2}\\right)^{3}}$"
      ],
      "text/plain": [
       "flat_tau1 :=      ⎛                                                              2         \n",
       "- m₁⋅⎝2⋅p⃛₂⋅(g + p̈₂)⋅(p₁⋅p⃛₂ - p₂⋅p⃛₁ - p̈₁⋅ṗ₂ + ṗ₁⋅(g + p̈₂)) + (g + p̈₂) \n",
       "──────────────────────────────────────────────────────────────────────────────\n",
       "                                                                              \n",
       "                                                                              \n",
       "\n",
       "                                                                           ⎛  \n",
       "⋅(-p₁⋅p⃜₂ + p₂⋅p⃜₁ + 2⋅p⃛₁⋅ṗ₂ - 2⋅p⃛₂⋅ṗ₁ + p̈₁⋅p̈₂ - p̈₁⋅(g + p̈₂)) + (p₁⋅(g\n",
       "──────────────────────────────────────────────────────────────────────────────\n",
       "                      3                                                       \n",
       "              (g + p̈₂)                                                       \n",
       "\n",
       "                2⎞⎞                 3\n",
       " + p̈₂) - p₂⋅p̈₁)⋅⎝p⃜₂⋅(g + p̈₂) - 2⋅p⃛₂ ⎠⎠ + m₂⋅p̈₁⋅(g + p̈₂) \n",
       "─────────────────────────────────────\n",
       "                                     \n",
       "                                     "
      ]
     },
     "metadata": {},
     "output_type": "display_data"
    },
    {
     "data": {
      "text/plain": [
       "---"
      ]
     },
     "metadata": {},
     "output_type": "display_data"
    }
   ],
   "source": [
    "flat_tau1 = sp.solve(eqns[-1], tau1)[0]\n",
    "flat_tau1 = flat_tau1.smplf ##:\n",
    "flat_tau1 = flat_tau1.subz([tau2, qddot1, q1], [flat_tau2, flat_qddot1, flat_q1])\n",
    "flat_tau1 = flat_tau1.smplf ##:"
   ]
  },
  {
   "cell_type": "code",
   "execution_count": 63,
   "metadata": {},
   "outputs": [
    {
     "name": "stdout",
     "output_type": "stream",
     "text": [
      "\\frac{- m_{1} \\left(2 \\dddot{p}_{2} \\left(g + \\ddot{p}_{2}\\right) \\left(p_{1} \\dddot{p}_{2} - p_{2} \\dddot{p}_{1} - \\ddot{p}_{1} \\dot{p}_{2} + \\dot{p}_{1} \\left(g + \\ddot{p}_{2}\\right)\\right) + \\left(g + \\ddot{p}_{2}\\right)^{2} \\left(- p_{1} \\ddddot{p}_{2} + p_{2} \\ddddot{p}_{1} + 2 \\dddot{p}_{1} \\dot{p}_{2} - 2 \\dddot{p}_{2} \\dot{p}_{1} + \\ddot{p}_{1} \\ddot{p}_{2} - \\ddot{p}_{1} \\left(g + \\ddot{p}_{2}\\right)\\right) + \\left(p_{1} \\left(g + \\ddot{p}_{2}\\right) - p_{2} \\ddot{p}_{1}\\right) \\left(\\ddddot{p}_{2} \\left(g + \\ddot{p}_{2}\\right) - 2 \\dddot{p}_{2}^{2}\\right)\\right) + m_{2} \\ddot{p}_{1} \\left(g + \\ddot{p}_{2}\\right)^{3}}{\\left(g + \\ddot{p}_{2}\\right)^{3}}\n",
      "% -------------\n"
     ]
    }
   ],
   "source": [
    "# equations of motions generate LaTeX-Code for the video:\n",
    "from symbtools import interactive_aux as ia\n",
    "ia.adapted_latex(flat_tau1)"
   ]
  },
  {
   "cell_type": "code",
   "execution_count": null,
   "metadata": {},
   "outputs": [],
   "source": []
  }
 ],
 "metadata": {
  "kernelspec": {
   "display_name": "Python 3 (ipykernel)",
   "language": "python",
   "name": "python3"
  },
  "language_info": {
   "codemirror_mode": {
    "name": "ipython",
    "version": 3
   },
   "file_extension": ".py",
   "mimetype": "text/x-python",
   "name": "python",
   "nbconvert_exporter": "python",
   "pygments_lexer": "ipython3",
   "version": "3.8.10"
  },
  "varInspector": {
   "cols": {
    "lenName": 16,
    "lenType": 16,
    "lenVar": 40
   },
   "kernels_config": {
    "python": {
     "delete_cmd_postfix": "",
     "delete_cmd_prefix": "del ",
     "library": "var_list.py",
     "varRefreshCmd": "print(var_dic_list())"
    },
    "r": {
     "delete_cmd_postfix": ") ",
     "delete_cmd_prefix": "rm(",
     "library": "var_list.r",
     "varRefreshCmd": "cat(var_dic_list()) "
    }
   },
   "position": {
    "height": "795px",
    "left": "1545px",
    "right": "20px",
    "top": "125px",
    "width": "354px"
   },
   "types_to_exclude": [
    "module",
    "function",
    "builtin_function_or_method",
    "instance",
    "_Feature"
   ],
   "window_display": true
  }
 },
 "nbformat": 4,
 "nbformat_minor": 2
}
